{
 "cells": [
  {
   "cell_type": "markdown",
   "metadata": {},
   "source": [
    "### Basic Loops\n",
    "\n",
    "**Who This Workbook Is For**:  If you're newer to python and want to do simple exercises to make sure you feel like you 'get it', and don't have any confusions about basic syntax, then this is the workbook for you.\n",
    "\n",
    "If you want something more engaging that's not geared towards beginners, please use the other workbook."
   ]
  },
  {
   "cell_type": "markdown",
   "metadata": {},
   "source": [
    "**Step 1:** Loop through the list, and print the name of each item in the list. "
   ]
  },
  {
   "cell_type": "code",
   "execution_count": 2,
   "metadata": {},
   "outputs": [],
   "source": [
    "fruits = ['bananas', 'cumquat', 'watermelon', 'cherry', 'mango', 'soursop', 'apricot', 'nectarine']"
   ]
  },
  {
   "cell_type": "code",
   "execution_count": 3,
   "metadata": {},
   "outputs": [
    {
     "name": "stdout",
     "output_type": "stream",
     "text": [
      "bananas\n",
      "cumquat\n",
      "watermelon\n",
      "cherry\n",
      "mango\n",
      "soursop\n",
      "apricot\n",
      "nectarine\n"
     ]
    }
   ],
   "source": [
    "# your answer here\n",
    "\n",
    "for item in fruits:\n",
    "    print(item)"
   ]
  },
  {
   "cell_type": "markdown",
   "metadata": {},
   "source": [
    "**Step 2:** Loop through the list, and print the name of each item, as well as its length"
   ]
  },
  {
   "cell_type": "code",
   "execution_count": 5,
   "metadata": {},
   "outputs": [
    {
     "name": "stdout",
     "output_type": "stream",
     "text": [
      "bananas is 7 long\n",
      "cumquat is 7 long\n",
      "watermelon is 10 long\n",
      "cherry is 6 long\n",
      "mango is 5 long\n",
      "soursop is 7 long\n",
      "apricot is 7 long\n",
      "nectarine is 9 long\n"
     ]
    }
   ],
   "source": [
    "# your answer here\n",
    "for item in fruits:\n",
    "    print(f\"{item} is {len(item)} long\")"
   ]
  },
  {
   "cell_type": "markdown",
   "metadata": {},
   "source": [
    "**Step 3:** Loop through the list, and print the name of the item, *if it's length is an even number*"
   ]
  },
  {
   "cell_type": "code",
   "execution_count": 6,
   "metadata": {},
   "outputs": [
    {
     "name": "stdout",
     "output_type": "stream",
     "text": [
      "watermelon\n",
      "cherry\n"
     ]
    }
   ],
   "source": [
    "# your answer here\n",
    "for item in fruits:\n",
    "    if len(item) % 2 == 0:\n",
    "        print(item)"
   ]
  },
  {
   "cell_type": "markdown",
   "metadata": {},
   "source": [
    "**Step 4:** Create a variable that's an empty list, and add the item in the `fruits` list to it if it's length is an even number."
   ]
  },
  {
   "cell_type": "code",
   "execution_count": 8,
   "metadata": {},
   "outputs": [
    {
     "data": {
      "text/plain": [
       "['watermelon', 'cherry']"
      ]
     },
     "execution_count": 8,
     "metadata": {},
     "output_type": "execute_result"
    }
   ],
   "source": [
    "# your answer here\n",
    "even_fruits = []\n",
    "\n",
    "for item in fruits:\n",
    "    if len(item) % 2 == 0:\n",
    "        even_fruits.append(item)\n",
    "even_fruits"
   ]
  },
  {
   "cell_type": "markdown",
   "metadata": {},
   "source": [
    "**Step 5:** Loop through the `fruits` list, but *stop* the loop as soon as you come across an item that's more than 7 characters long."
   ]
  },
  {
   "cell_type": "code",
   "execution_count": 13,
   "metadata": {},
   "outputs": [
    {
     "name": "stdout",
     "output_type": "stream",
     "text": [
      "bananas\n",
      "cumquat\n"
     ]
    }
   ],
   "source": [
    "# your answer here\n",
    "i = 0\n",
    "while len(fruits[i]) <= 7:\n",
    "    print(fruits[i])\n",
    "    i = i + 1"
   ]
  },
  {
   "cell_type": "markdown",
   "metadata": {},
   "source": [
    "**Step 6:** Create a loop that only prints every third item in the list\n",
    "\n",
    "**Hint:** `enumerate()` is a useful function for this sort of thing.  More info on that here:  https://www.programiz.com/python-programming/methods/built-in/enumerate"
   ]
  },
  {
   "cell_type": "code",
   "execution_count": 15,
   "metadata": {},
   "outputs": [
    {
     "name": "stdout",
     "output_type": "stream",
     "text": [
      "watermelon\n",
      "soursop\n"
     ]
    }
   ],
   "source": [
    "for i in range(2,len(fruits),3):\n",
    "    print(fruits[i])"
   ]
  },
  {
   "cell_type": "code",
   "execution_count": null,
   "metadata": {},
   "outputs": [],
   "source": []
  }
 ],
 "metadata": {
  "kernelspec": {
   "display_name": "Python 3",
   "language": "python",
   "name": "python3"
  },
  "language_info": {
   "codemirror_mode": {
    "name": "ipython",
    "version": 3
   },
   "file_extension": ".py",
   "mimetype": "text/x-python",
   "name": "python",
   "nbconvert_exporter": "python",
   "pygments_lexer": "ipython3",
   "version": "3.8.3"
  }
 },
 "nbformat": 4,
 "nbformat_minor": 2
}
