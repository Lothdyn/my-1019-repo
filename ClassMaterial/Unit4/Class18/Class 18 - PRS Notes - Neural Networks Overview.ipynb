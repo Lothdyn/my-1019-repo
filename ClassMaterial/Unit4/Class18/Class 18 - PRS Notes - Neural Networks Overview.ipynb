{
 "cells": [
  {
   "cell_type": "markdown",
   "metadata": {},
   "source": [
    "# Class 18 - Unit 4 Overview\n",
    "**Starting to work with Neural Networks**\n"
   ]
  },
  {
   "cell_type": "markdown",
   "metadata": {},
   "source": [
    "These tend to be a standard approach to unstructured data.\n",
    "**History**\n",
    "* Neural nets were found in the 1940's and until around early 2010's they were simply too difficult to train. \n",
    "* They tend to be overkill for structured data problems\n",
    "* Have always been heavily researched, however it took a long time for hardware to catchup. The real key was cheap Graphics Processing Units (GPUs / Videocards!)"
   ]
  },
  {
   "cell_type": "markdown",
   "metadata": {},
   "source": [
    "Overview on how they work:\n",
    "* Neural nets create hierarchical representations of your data set in systemic manner\n",
    "* Start with X, create weights, create a 'hidden version of x' (so the weights capture features), iterate this and eventually have your predictions.\n",
    "\n",
    "Advantages:\n",
    "* Can continue to expand them by any arbitrary size\n"
   ]
  },
  {
   "cell_type": "markdown",
   "metadata": {},
   "source": [
    "**Variety of ways exist to create / link data to weights**\n",
    "* Different problems work well with the different approaches.\n",
    "* For example:\n",
    "    * For images you typically use convolutions\n",
    "    * For NLP you use recurrent approaches\n",
    "* A key part is understanding which types of connections are appropriate for different problem domains.\n"
   ]
  },
  {
   "cell_type": "markdown",
   "metadata": {},
   "source": [
    "***\n",
    "So:\n",
    "\n",
    "(1) Care about how you define the connections / weights\n",
    "\n",
    "(2) Each time you connect data, you use an 'activation functions'\n",
    "\n",
    "***\n",
    "**Activation Functions:**\n",
    "- A non-linear transformation of your data\n",
    "- Lots of variety in these functions, e.g. sine / cosine functions\n",
    "- These are needed to help draw out higher order / non-linear patterns in the underlying data\n",
    "\n",
    "- These allow the weights to determine other non-random patterns"
   ]
  },
  {
   "cell_type": "code",
   "execution_count": null,
   "metadata": {},
   "outputs": [],
   "source": []
  },
  {
   "cell_type": "code",
   "execution_count": null,
   "metadata": {},
   "outputs": [],
   "source": []
  },
  {
   "cell_type": "code",
   "execution_count": null,
   "metadata": {},
   "outputs": [],
   "source": []
  }
 ],
 "metadata": {
  "kernelspec": {
   "display_name": "Python 3",
   "language": "python",
   "name": "python3"
  },
  "language_info": {
   "codemirror_mode": {
    "name": "ipython",
    "version": 3
   },
   "file_extension": ".py",
   "mimetype": "text/x-python",
   "name": "python",
   "nbconvert_exporter": "python",
   "pygments_lexer": "ipython3",
   "version": "3.8.3"
  }
 },
 "nbformat": 4,
 "nbformat_minor": 4
}
