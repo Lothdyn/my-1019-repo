{
 "cells": [
  {
   "cell_type": "code",
   "execution_count": 1,
   "metadata": {},
   "outputs": [],
   "source": [
    "\n",
    "# let's import libraries\n",
    "import xgboost as xgb\n",
    "import numpy as np\n",
    "import pandas as pd\n",
    "from sklearn.ensemble import GradientBoostingClassifier\n",
    "# this is the file you should've gotten from your repo\n",
    "from utils import extract_dates, get_val_scores\n",
    "from category_encoders import OrdinalEncoder, OneHotEncoder\n",
    "from sklearn.pipeline import make_pipeline\n",
    "from sklearn.model_selection import cross_val_score, train_test_split\n"
   ]
  },
  {
   "cell_type": "code",
   "execution_count": 2,
   "metadata": {},
   "outputs": [],
   "source": [
    "df = pd.read_csv('../data/ks2.csv',encoding='utf-8',parse_dates=['deadline','launched'])"
   ]
  },
  {
   "cell_type": "code",
   "execution_count": 3,
   "metadata": {},
   "outputs": [
    {
     "data": {
      "text/html": [
       "<div>\n",
       "<style scoped>\n",
       "    .dataframe tbody tr th:only-of-type {\n",
       "        vertical-align: middle;\n",
       "    }\n",
       "\n",
       "    .dataframe tbody tr th {\n",
       "        vertical-align: top;\n",
       "    }\n",
       "\n",
       "    .dataframe thead th {\n",
       "        text-align: right;\n",
       "    }\n",
       "</style>\n",
       "<table border=\"1\" class=\"dataframe\">\n",
       "  <thead>\n",
       "    <tr style=\"text-align: right;\">\n",
       "      <th></th>\n",
       "      <th>ID</th>\n",
       "      <th>name</th>\n",
       "      <th>category</th>\n",
       "      <th>main_category</th>\n",
       "      <th>currency</th>\n",
       "      <th>deadline</th>\n",
       "      <th>launched</th>\n",
       "      <th>state</th>\n",
       "      <th>country</th>\n",
       "      <th>goal</th>\n",
       "    </tr>\n",
       "  </thead>\n",
       "  <tbody>\n",
       "    <tr>\n",
       "      <th>0</th>\n",
       "      <td>1000002330</td>\n",
       "      <td>The Songs of Adelaide &amp; Abullah</td>\n",
       "      <td>Poetry</td>\n",
       "      <td>Publishing</td>\n",
       "      <td>GBP</td>\n",
       "      <td>2015-10-09</td>\n",
       "      <td>2015-08-11 12:12:28</td>\n",
       "      <td>failed</td>\n",
       "      <td>GB</td>\n",
       "      <td>1533.95</td>\n",
       "    </tr>\n",
       "    <tr>\n",
       "      <th>1</th>\n",
       "      <td>1000003930</td>\n",
       "      <td>Greeting From Earth: ZGAC Arts Capsule For ET</td>\n",
       "      <td>Narrative Film</td>\n",
       "      <td>Film &amp; Video</td>\n",
       "      <td>USD</td>\n",
       "      <td>2017-11-01</td>\n",
       "      <td>2017-09-02 04:43:57</td>\n",
       "      <td>failed</td>\n",
       "      <td>US</td>\n",
       "      <td>30000.00</td>\n",
       "    </tr>\n",
       "    <tr>\n",
       "      <th>2</th>\n",
       "      <td>1000004038</td>\n",
       "      <td>Where is Hank?</td>\n",
       "      <td>Narrative Film</td>\n",
       "      <td>Film &amp; Video</td>\n",
       "      <td>USD</td>\n",
       "      <td>2013-02-26</td>\n",
       "      <td>2013-01-12 00:20:50</td>\n",
       "      <td>failed</td>\n",
       "      <td>US</td>\n",
       "      <td>45000.00</td>\n",
       "    </tr>\n",
       "    <tr>\n",
       "      <th>3</th>\n",
       "      <td>1000007540</td>\n",
       "      <td>ToshiCapital Rekordz Needs Help to Complete Album</td>\n",
       "      <td>Music</td>\n",
       "      <td>Music</td>\n",
       "      <td>USD</td>\n",
       "      <td>2012-04-16</td>\n",
       "      <td>2012-03-17 03:24:11</td>\n",
       "      <td>failed</td>\n",
       "      <td>US</td>\n",
       "      <td>5000.00</td>\n",
       "    </tr>\n",
       "    <tr>\n",
       "      <th>4</th>\n",
       "      <td>1000011046</td>\n",
       "      <td>Community Film Project: The Art of Neighborhoo...</td>\n",
       "      <td>Film &amp; Video</td>\n",
       "      <td>Film &amp; Video</td>\n",
       "      <td>USD</td>\n",
       "      <td>2015-08-29</td>\n",
       "      <td>2015-07-04 08:35:03</td>\n",
       "      <td>failed</td>\n",
       "      <td>US</td>\n",
       "      <td>19500.00</td>\n",
       "    </tr>\n",
       "  </tbody>\n",
       "</table>\n",
       "</div>"
      ],
      "text/plain": [
       "           ID                                               name  \\\n",
       "0  1000002330                    The Songs of Adelaide & Abullah   \n",
       "1  1000003930      Greeting From Earth: ZGAC Arts Capsule For ET   \n",
       "2  1000004038                                     Where is Hank?   \n",
       "3  1000007540  ToshiCapital Rekordz Needs Help to Complete Album   \n",
       "4  1000011046  Community Film Project: The Art of Neighborhoo...   \n",
       "\n",
       "         category main_category currency   deadline            launched  \\\n",
       "0          Poetry    Publishing      GBP 2015-10-09 2015-08-11 12:12:28   \n",
       "1  Narrative Film  Film & Video      USD 2017-11-01 2017-09-02 04:43:57   \n",
       "2  Narrative Film  Film & Video      USD 2013-02-26 2013-01-12 00:20:50   \n",
       "3           Music         Music      USD 2012-04-16 2012-03-17 03:24:11   \n",
       "4    Film & Video  Film & Video      USD 2015-08-29 2015-07-04 08:35:03   \n",
       "\n",
       "    state country      goal  \n",
       "0  failed      GB   1533.95  \n",
       "1  failed      US  30000.00  \n",
       "2  failed      US  45000.00  \n",
       "3  failed      US   5000.00  \n",
       "4  failed      US  19500.00  "
      ]
     },
     "execution_count": 3,
     "metadata": {},
     "output_type": "execute_result"
    }
   ],
   "source": [
    "df.head()"
   ]
  },
  {
   "cell_type": "code",
   "execution_count": 4,
   "metadata": {},
   "outputs": [
    {
     "name": "stdout",
     "output_type": "stream",
     "text": [
      "<class 'pandas.core.frame.DataFrame'>\n",
      "RangeIndex: 370454 entries, 0 to 370453\n",
      "Data columns (total 10 columns):\n",
      " #   Column         Non-Null Count   Dtype         \n",
      "---  ------         --------------   -----         \n",
      " 0   ID             370454 non-null  int64         \n",
      " 1   name           370451 non-null  object        \n",
      " 2   category       370454 non-null  object        \n",
      " 3   main_category  370454 non-null  object        \n",
      " 4   currency       370454 non-null  object        \n",
      " 5   deadline       370454 non-null  datetime64[ns]\n",
      " 6   launched       370454 non-null  datetime64[ns]\n",
      " 7   state          370454 non-null  object        \n",
      " 8   country        370454 non-null  object        \n",
      " 9   goal           370454 non-null  float64       \n",
      "dtypes: datetime64[ns](2), float64(1), int64(1), object(6)\n",
      "memory usage: 28.3+ MB\n"
     ]
    }
   ],
   "source": [
    "df.info()"
   ]
  },
  {
   "cell_type": "code",
   "execution_count": 11,
   "metadata": {},
   "outputs": [
    {
     "data": {
      "text/plain": [
       "failed        236498\n",
       "successful    133956\n",
       "Name: state, dtype: int64"
      ]
     },
     "execution_count": 11,
     "metadata": {},
     "output_type": "execute_result"
    }
   ],
   "source": [
    "df.state.value_counts()"
   ]
  },
  {
   "cell_type": "markdown",
   "metadata": {},
   "source": [
    "***\n",
    "With this data set, we plan to predict whether it was failed or successful using a Gradient Boosting approach."
   ]
  },
  {
   "cell_type": "code",
   "execution_count": 16,
   "metadata": {},
   "outputs": [],
   "source": [
    "??extract_dates #Two \"?\" shows the source code of the function."
   ]
  },
  {
   "cell_type": "code",
   "execution_count": 5,
   "metadata": {},
   "outputs": [
    {
     "data": {
      "text/html": [
       "<div>\n",
       "<style scoped>\n",
       "    .dataframe tbody tr th:only-of-type {\n",
       "        vertical-align: middle;\n",
       "    }\n",
       "\n",
       "    .dataframe tbody tr th {\n",
       "        vertical-align: top;\n",
       "    }\n",
       "\n",
       "    .dataframe thead th {\n",
       "        text-align: right;\n",
       "    }\n",
       "</style>\n",
       "<table border=\"1\" class=\"dataframe\">\n",
       "  <thead>\n",
       "    <tr style=\"text-align: right;\">\n",
       "      <th></th>\n",
       "      <th>ID</th>\n",
       "      <th>name</th>\n",
       "      <th>category</th>\n",
       "      <th>main_category</th>\n",
       "      <th>currency</th>\n",
       "      <th>deadline</th>\n",
       "      <th>launched</th>\n",
       "      <th>state</th>\n",
       "      <th>country</th>\n",
       "      <th>goal</th>\n",
       "      <th>deadline_month</th>\n",
       "      <th>deadline_day</th>\n",
       "      <th>deadline_year</th>\n",
       "      <th>launched_month</th>\n",
       "      <th>launched_day</th>\n",
       "      <th>launched_year</th>\n",
       "      <th>deadline_history_days</th>\n",
       "      <th>launched_history_days</th>\n",
       "    </tr>\n",
       "  </thead>\n",
       "  <tbody>\n",
       "    <tr>\n",
       "      <th>0</th>\n",
       "      <td>1000002330</td>\n",
       "      <td>The Songs of Adelaide &amp; Abullah</td>\n",
       "      <td>Poetry</td>\n",
       "      <td>Publishing</td>\n",
       "      <td>GBP</td>\n",
       "      <td>2015-10-09</td>\n",
       "      <td>2015-08-11 12:12:28</td>\n",
       "      <td>failed</td>\n",
       "      <td>GB</td>\n",
       "      <td>1533.95</td>\n",
       "      <td>10</td>\n",
       "      <td>9</td>\n",
       "      <td>2015</td>\n",
       "      <td>8</td>\n",
       "      <td>11</td>\n",
       "      <td>2015</td>\n",
       "      <td>2350</td>\n",
       "      <td>16658</td>\n",
       "    </tr>\n",
       "    <tr>\n",
       "      <th>1</th>\n",
       "      <td>1000003930</td>\n",
       "      <td>Greeting From Earth: ZGAC Arts Capsule For ET</td>\n",
       "      <td>Narrative Film</td>\n",
       "      <td>Film &amp; Video</td>\n",
       "      <td>USD</td>\n",
       "      <td>2017-11-01</td>\n",
       "      <td>2017-09-02 04:43:57</td>\n",
       "      <td>failed</td>\n",
       "      <td>US</td>\n",
       "      <td>30000.00</td>\n",
       "      <td>11</td>\n",
       "      <td>1</td>\n",
       "      <td>2017</td>\n",
       "      <td>9</td>\n",
       "      <td>2</td>\n",
       "      <td>2017</td>\n",
       "      <td>3104</td>\n",
       "      <td>17411</td>\n",
       "    </tr>\n",
       "    <tr>\n",
       "      <th>2</th>\n",
       "      <td>1000004038</td>\n",
       "      <td>Where is Hank?</td>\n",
       "      <td>Narrative Film</td>\n",
       "      <td>Film &amp; Video</td>\n",
       "      <td>USD</td>\n",
       "      <td>2013-02-26</td>\n",
       "      <td>2013-01-12 00:20:50</td>\n",
       "      <td>failed</td>\n",
       "      <td>US</td>\n",
       "      <td>45000.00</td>\n",
       "      <td>2</td>\n",
       "      <td>26</td>\n",
       "      <td>2013</td>\n",
       "      <td>1</td>\n",
       "      <td>12</td>\n",
       "      <td>2013</td>\n",
       "      <td>1395</td>\n",
       "      <td>15716</td>\n",
       "    </tr>\n",
       "    <tr>\n",
       "      <th>3</th>\n",
       "      <td>1000007540</td>\n",
       "      <td>ToshiCapital Rekordz Needs Help to Complete Album</td>\n",
       "      <td>Music</td>\n",
       "      <td>Music</td>\n",
       "      <td>USD</td>\n",
       "      <td>2012-04-16</td>\n",
       "      <td>2012-03-17 03:24:11</td>\n",
       "      <td>failed</td>\n",
       "      <td>US</td>\n",
       "      <td>5000.00</td>\n",
       "      <td>4</td>\n",
       "      <td>16</td>\n",
       "      <td>2012</td>\n",
       "      <td>3</td>\n",
       "      <td>17</td>\n",
       "      <td>2012</td>\n",
       "      <td>1079</td>\n",
       "      <td>15416</td>\n",
       "    </tr>\n",
       "    <tr>\n",
       "      <th>4</th>\n",
       "      <td>1000011046</td>\n",
       "      <td>Community Film Project: The Art of Neighborhoo...</td>\n",
       "      <td>Film &amp; Video</td>\n",
       "      <td>Film &amp; Video</td>\n",
       "      <td>USD</td>\n",
       "      <td>2015-08-29</td>\n",
       "      <td>2015-07-04 08:35:03</td>\n",
       "      <td>failed</td>\n",
       "      <td>US</td>\n",
       "      <td>19500.00</td>\n",
       "      <td>8</td>\n",
       "      <td>29</td>\n",
       "      <td>2015</td>\n",
       "      <td>7</td>\n",
       "      <td>4</td>\n",
       "      <td>2015</td>\n",
       "      <td>2309</td>\n",
       "      <td>16620</td>\n",
       "    </tr>\n",
       "    <tr>\n",
       "      <th>...</th>\n",
       "      <td>...</td>\n",
       "      <td>...</td>\n",
       "      <td>...</td>\n",
       "      <td>...</td>\n",
       "      <td>...</td>\n",
       "      <td>...</td>\n",
       "      <td>...</td>\n",
       "      <td>...</td>\n",
       "      <td>...</td>\n",
       "      <td>...</td>\n",
       "      <td>...</td>\n",
       "      <td>...</td>\n",
       "      <td>...</td>\n",
       "      <td>...</td>\n",
       "      <td>...</td>\n",
       "      <td>...</td>\n",
       "      <td>...</td>\n",
       "      <td>...</td>\n",
       "    </tr>\n",
       "    <tr>\n",
       "      <th>370449</th>\n",
       "      <td>999976400</td>\n",
       "      <td>ChknTruk Nationwide Charity Drive 2014 (Canceled)</td>\n",
       "      <td>Documentary</td>\n",
       "      <td>Film &amp; Video</td>\n",
       "      <td>USD</td>\n",
       "      <td>2014-10-17</td>\n",
       "      <td>2014-09-17 02:35:30</td>\n",
       "      <td>failed</td>\n",
       "      <td>US</td>\n",
       "      <td>50000.00</td>\n",
       "      <td>10</td>\n",
       "      <td>17</td>\n",
       "      <td>2014</td>\n",
       "      <td>9</td>\n",
       "      <td>17</td>\n",
       "      <td>2014</td>\n",
       "      <td>1993</td>\n",
       "      <td>16330</td>\n",
       "    </tr>\n",
       "    <tr>\n",
       "      <th>370450</th>\n",
       "      <td>999977640</td>\n",
       "      <td>The Tribe</td>\n",
       "      <td>Narrative Film</td>\n",
       "      <td>Film &amp; Video</td>\n",
       "      <td>USD</td>\n",
       "      <td>2011-07-19</td>\n",
       "      <td>2011-06-22 03:35:14</td>\n",
       "      <td>failed</td>\n",
       "      <td>US</td>\n",
       "      <td>1500.00</td>\n",
       "      <td>7</td>\n",
       "      <td>19</td>\n",
       "      <td>2011</td>\n",
       "      <td>6</td>\n",
       "      <td>22</td>\n",
       "      <td>2011</td>\n",
       "      <td>807</td>\n",
       "      <td>15147</td>\n",
       "    </tr>\n",
       "    <tr>\n",
       "      <th>370451</th>\n",
       "      <td>999986353</td>\n",
       "      <td>Walls of Remedy- New lesbian Romantic Comedy f...</td>\n",
       "      <td>Narrative Film</td>\n",
       "      <td>Film &amp; Video</td>\n",
       "      <td>USD</td>\n",
       "      <td>2010-08-16</td>\n",
       "      <td>2010-07-01 19:40:30</td>\n",
       "      <td>failed</td>\n",
       "      <td>US</td>\n",
       "      <td>15000.00</td>\n",
       "      <td>8</td>\n",
       "      <td>16</td>\n",
       "      <td>2010</td>\n",
       "      <td>7</td>\n",
       "      <td>1</td>\n",
       "      <td>2010</td>\n",
       "      <td>470</td>\n",
       "      <td>14791</td>\n",
       "    </tr>\n",
       "    <tr>\n",
       "      <th>370452</th>\n",
       "      <td>999987933</td>\n",
       "      <td>BioDefense Education Kit</td>\n",
       "      <td>Technology</td>\n",
       "      <td>Technology</td>\n",
       "      <td>USD</td>\n",
       "      <td>2016-02-13</td>\n",
       "      <td>2016-01-13 18:13:53</td>\n",
       "      <td>failed</td>\n",
       "      <td>US</td>\n",
       "      <td>15000.00</td>\n",
       "      <td>2</td>\n",
       "      <td>13</td>\n",
       "      <td>2016</td>\n",
       "      <td>1</td>\n",
       "      <td>13</td>\n",
       "      <td>2016</td>\n",
       "      <td>2477</td>\n",
       "      <td>16813</td>\n",
       "    </tr>\n",
       "    <tr>\n",
       "      <th>370453</th>\n",
       "      <td>999988282</td>\n",
       "      <td>Nou Renmen Ayiti!  We Love Haiti!</td>\n",
       "      <td>Performance Art</td>\n",
       "      <td>Art</td>\n",
       "      <td>USD</td>\n",
       "      <td>2011-08-16</td>\n",
       "      <td>2011-07-19 09:07:47</td>\n",
       "      <td>failed</td>\n",
       "      <td>US</td>\n",
       "      <td>2000.00</td>\n",
       "      <td>8</td>\n",
       "      <td>16</td>\n",
       "      <td>2011</td>\n",
       "      <td>7</td>\n",
       "      <td>19</td>\n",
       "      <td>2011</td>\n",
       "      <td>835</td>\n",
       "      <td>15174</td>\n",
       "    </tr>\n",
       "  </tbody>\n",
       "</table>\n",
       "<p>370454 rows × 18 columns</p>\n",
       "</div>"
      ],
      "text/plain": [
       "                ID                                               name  \\\n",
       "0       1000002330                    The Songs of Adelaide & Abullah   \n",
       "1       1000003930      Greeting From Earth: ZGAC Arts Capsule For ET   \n",
       "2       1000004038                                     Where is Hank?   \n",
       "3       1000007540  ToshiCapital Rekordz Needs Help to Complete Album   \n",
       "4       1000011046  Community Film Project: The Art of Neighborhoo...   \n",
       "...            ...                                                ...   \n",
       "370449   999976400  ChknTruk Nationwide Charity Drive 2014 (Canceled)   \n",
       "370450   999977640                                          The Tribe   \n",
       "370451   999986353  Walls of Remedy- New lesbian Romantic Comedy f...   \n",
       "370452   999987933                           BioDefense Education Kit   \n",
       "370453   999988282                  Nou Renmen Ayiti!  We Love Haiti!   \n",
       "\n",
       "               category main_category currency   deadline            launched  \\\n",
       "0                Poetry    Publishing      GBP 2015-10-09 2015-08-11 12:12:28   \n",
       "1        Narrative Film  Film & Video      USD 2017-11-01 2017-09-02 04:43:57   \n",
       "2        Narrative Film  Film & Video      USD 2013-02-26 2013-01-12 00:20:50   \n",
       "3                 Music         Music      USD 2012-04-16 2012-03-17 03:24:11   \n",
       "4          Film & Video  Film & Video      USD 2015-08-29 2015-07-04 08:35:03   \n",
       "...                 ...           ...      ...        ...                 ...   \n",
       "370449      Documentary  Film & Video      USD 2014-10-17 2014-09-17 02:35:30   \n",
       "370450   Narrative Film  Film & Video      USD 2011-07-19 2011-06-22 03:35:14   \n",
       "370451   Narrative Film  Film & Video      USD 2010-08-16 2010-07-01 19:40:30   \n",
       "370452       Technology    Technology      USD 2016-02-13 2016-01-13 18:13:53   \n",
       "370453  Performance Art           Art      USD 2011-08-16 2011-07-19 09:07:47   \n",
       "\n",
       "         state country      goal  deadline_month  deadline_day  deadline_year  \\\n",
       "0       failed      GB   1533.95              10             9           2015   \n",
       "1       failed      US  30000.00              11             1           2017   \n",
       "2       failed      US  45000.00               2            26           2013   \n",
       "3       failed      US   5000.00               4            16           2012   \n",
       "4       failed      US  19500.00               8            29           2015   \n",
       "...        ...     ...       ...             ...           ...            ...   \n",
       "370449  failed      US  50000.00              10            17           2014   \n",
       "370450  failed      US   1500.00               7            19           2011   \n",
       "370451  failed      US  15000.00               8            16           2010   \n",
       "370452  failed      US  15000.00               2            13           2016   \n",
       "370453  failed      US   2000.00               8            16           2011   \n",
       "\n",
       "        launched_month  launched_day  launched_year  deadline_history_days  \\\n",
       "0                    8            11           2015                   2350   \n",
       "1                    9             2           2017                   3104   \n",
       "2                    1            12           2013                   1395   \n",
       "3                    3            17           2012                   1079   \n",
       "4                    7             4           2015                   2309   \n",
       "...                ...           ...            ...                    ...   \n",
       "370449               9            17           2014                   1993   \n",
       "370450               6            22           2011                    807   \n",
       "370451               7             1           2010                    470   \n",
       "370452               1            13           2016                   2477   \n",
       "370453               7            19           2011                    835   \n",
       "\n",
       "        launched_history_days  \n",
       "0                       16658  \n",
       "1                       17411  \n",
       "2                       15716  \n",
       "3                       15416  \n",
       "4                       16620  \n",
       "...                       ...  \n",
       "370449                  16330  \n",
       "370450                  15147  \n",
       "370451                  14791  \n",
       "370452                  16813  \n",
       "370453                  15174  \n",
       "\n",
       "[370454 rows x 18 columns]"
      ]
     },
     "execution_count": 5,
     "metadata": {},
     "output_type": "execute_result"
    }
   ],
   "source": [
    "extract_dates(df,date_parts=['month','day','year'])"
   ]
  },
  {
   "cell_type": "code",
   "execution_count": 23,
   "metadata": {},
   "outputs": [
    {
     "name": "stderr",
     "output_type": "stream",
     "text": [
      "/Users/PRSmb/OneDrive/General-Assembly/my-1019-repo/ClassMaterial/Unit3/Class15/utils.py:28: FutureWarning: Series.dt.weekofyear and Series.dt.week have been deprecated.  Please use Series.dt.isocalendar().week instead.\n",
      "  df[col_name] = getattr(df[col].dt, part)\n"
     ]
    }
   ],
   "source": [
    "df = extract_dates(df,cols=['deadline'], drop_cols=True)\n",
    "# drop_cols = True will remove the columns mentioned"
   ]
  },
  {
   "cell_type": "code",
   "execution_count": 6,
   "metadata": {},
   "outputs": [
    {
     "name": "stdout",
     "output_type": "stream",
     "text": [
      "<class 'pandas.core.frame.DataFrame'>\n",
      "RangeIndex: 370454 entries, 0 to 370453\n",
      "Data columns (total 18 columns):\n",
      " #   Column                 Non-Null Count   Dtype         \n",
      "---  ------                 --------------   -----         \n",
      " 0   ID                     370454 non-null  int64         \n",
      " 1   name                   370451 non-null  object        \n",
      " 2   category               370454 non-null  object        \n",
      " 3   main_category          370454 non-null  object        \n",
      " 4   currency               370454 non-null  object        \n",
      " 5   deadline               370454 non-null  datetime64[ns]\n",
      " 6   launched               370454 non-null  datetime64[ns]\n",
      " 7   state                  370454 non-null  object        \n",
      " 8   country                370454 non-null  object        \n",
      " 9   goal                   370454 non-null  float64       \n",
      " 10  deadline_month         370454 non-null  int64         \n",
      " 11  deadline_day           370454 non-null  int64         \n",
      " 12  deadline_year          370454 non-null  int64         \n",
      " 13  launched_month         370454 non-null  int64         \n",
      " 14  launched_day           370454 non-null  int64         \n",
      " 15  launched_year          370454 non-null  int64         \n",
      " 16  deadline_history_days  370454 non-null  int64         \n",
      " 17  launched_history_days  370454 non-null  int64         \n",
      "dtypes: datetime64[ns](2), float64(1), int64(9), object(6)\n",
      "memory usage: 50.9+ MB\n"
     ]
    }
   ],
   "source": [
    "df.info()"
   ]
  },
  {
   "cell_type": "code",
   "execution_count": 7,
   "metadata": {},
   "outputs": [
    {
     "data": {
      "text/plain": [
       "0"
      ]
     },
     "execution_count": 7,
     "metadata": {},
     "output_type": "execute_result"
    }
   ],
   "source": [
    "df['deadline_history_days'].min()"
   ]
  },
  {
   "cell_type": "code",
   "execution_count": 8,
   "metadata": {},
   "outputs": [
    {
     "data": {
      "text/plain": [
       "3219"
      ]
     },
     "execution_count": 8,
     "metadata": {},
     "output_type": "execute_result"
    }
   ],
   "source": [
    "df['deadline_history_days'].max() \n",
    "#Effectively the length in days of our data sets.\n",
    "# Allows us to numerically track the passage of time."
   ]
  },
  {
   "cell_type": "code",
   "execution_count": 9,
   "metadata": {},
   "outputs": [
    {
     "data": {
      "text/plain": [
       "6668172"
      ]
     },
     "execution_count": 9,
     "metadata": {},
     "output_type": "execute_result"
    }
   ],
   "source": [
    "df.size"
   ]
  },
  {
   "cell_type": "code",
   "execution_count": 10,
   "metadata": {},
   "outputs": [
    {
     "data": {
      "text/plain": [
       "1167165"
      ]
     },
     "execution_count": 10,
     "metadata": {},
     "output_type": "execute_result"
    }
   ],
   "source": [
    "df.nunique().sum() # Potential number of cut points."
   ]
  },
  {
   "cell_type": "code",
   "execution_count": 32,
   "metadata": {},
   "outputs": [
    {
     "data": {
      "text/plain": [
       "64"
      ]
     },
     "execution_count": 32,
     "metadata": {},
     "output_type": "execute_result"
    }
   ],
   "source": [
    "# A tree 6 levels deep has\n",
    "2**6 \n",
    "# leaves"
   ]
  },
  {
   "cell_type": "code",
   "execution_count": 33,
   "metadata": {},
   "outputs": [
    {
     "data": {
      "text/plain": [
       "5.51105094880492e-05"
      ]
     },
     "execution_count": 33,
     "metadata": {},
     "output_type": "execute_result"
    }
   ],
   "source": [
    "# So any given tree will only use a small portion of the columns\n",
    "2**6 / df.nunique().sum() "
   ]
  },
  {
   "cell_type": "code",
   "execution_count": null,
   "metadata": {},
   "outputs": [],
   "source": [
    "# So our models tend to end up insensitive to the number of columns"
   ]
  },
  {
   "cell_type": "code",
   "execution_count": 35,
   "metadata": {},
   "outputs": [],
   "source": [
    "df = extract_dates(df)"
   ]
  },
  {
   "cell_type": "code",
   "execution_count": 11,
   "metadata": {},
   "outputs": [],
   "source": [
    "# Initialise our XGB model\n",
    "mod1 = xgb.XGBClassifier()"
   ]
  },
  {
   "cell_type": "code",
   "execution_count": 12,
   "metadata": {},
   "outputs": [
    {
     "data": {
      "text/plain": [
       "{'objective': 'binary:logistic',\n",
       " 'use_label_encoder': True,\n",
       " 'base_score': None,\n",
       " 'booster': None,\n",
       " 'colsample_bylevel': None,\n",
       " 'colsample_bynode': None,\n",
       " 'colsample_bytree': None,\n",
       " 'gamma': None,\n",
       " 'gpu_id': None,\n",
       " 'importance_type': 'gain',\n",
       " 'interaction_constraints': None,\n",
       " 'learning_rate': None,\n",
       " 'max_delta_step': None,\n",
       " 'max_depth': None,\n",
       " 'min_child_weight': None,\n",
       " 'missing': nan,\n",
       " 'monotone_constraints': None,\n",
       " 'n_estimators': 100,\n",
       " 'n_jobs': None,\n",
       " 'num_parallel_tree': None,\n",
       " 'random_state': None,\n",
       " 'reg_alpha': None,\n",
       " 'reg_lambda': None,\n",
       " 'scale_pos_weight': None,\n",
       " 'subsample': None,\n",
       " 'tree_method': None,\n",
       " 'validate_parameters': None,\n",
       " 'verbosity': None}"
      ]
     },
     "execution_count": 12,
     "metadata": {},
     "output_type": "execute_result"
    }
   ],
   "source": [
    "mod1.get_params()"
   ]
  },
  {
   "cell_type": "code",
   "execution_count": 13,
   "metadata": {},
   "outputs": [],
   "source": [
    "pipe = make_pipeline(OrdinalEncoder(),mod1)"
   ]
  },
  {
   "cell_type": "code",
   "execution_count": 14,
   "metadata": {},
   "outputs": [],
   "source": [
    "X = df.drop(['deadline','launched','state'],axis=1)\n",
    "y = df['state']"
   ]
  },
  {
   "cell_type": "code",
   "execution_count": 43,
   "metadata": {},
   "outputs": [],
   "source": [
    "??get_val_scores"
   ]
  },
  {
   "cell_type": "code",
   "execution_count": 15,
   "metadata": {
    "scrolled": true
   },
   "outputs": [
    {
     "name": "stderr",
     "output_type": "stream",
     "text": [
      "/usr/local/anaconda3/lib/python3.8/site-packages/xgboost/sklearn.py:888: UserWarning: The use of label encoder in XGBClassifier is deprecated and will be removed in a future release. To remove this warning, do the following: 1) Pass option use_label_encoder=False when constructing XGBClassifier object; and 2) Encode your labels (y) as integers starting with 0, i.e. 0, 1, 2, ..., [num_class - 1].\n",
      "  warnings.warn(label_encoder_deprecation_msg, UserWarning)\n"
     ]
    },
    {
     "name": "stdout",
     "output_type": "stream",
     "text": [
      "[11:11:47] WARNING: /Users/travis/build/dmlc/xgboost/src/learner.cc:1061: Starting in XGBoost 1.3.0, the default evaluation metric used with the objective 'binary:logistic' was changed from 'error' to 'logloss'. Explicitly set eval_metric if you'd like to restore the old behavior.\n"
     ]
    },
    {
     "name": "stderr",
     "output_type": "stream",
     "text": [
      "/usr/local/anaconda3/lib/python3.8/site-packages/category_encoders/utils.py:21: FutureWarning: is_categorical is deprecated and will be removed in a future version.  Use is_categorical_dtype instead\n",
      "  elif pd.api.types.is_categorical(cols):\n"
     ]
    },
    {
     "name": "stdout",
     "output_type": "stream",
     "text": [
      "[11:12:07] WARNING: /Users/travis/build/dmlc/xgboost/src/learner.cc:1061: Starting in XGBoost 1.3.0, the default evaluation metric used with the objective 'binary:logistic' was changed from 'error' to 'logloss'. Explicitly set eval_metric if you'd like to restore the old behavior.\n"
     ]
    }
   ],
   "source": [
    "scores = get_val_scores(\n",
    "    pipe, \n",
    "    X, \n",
    "    y, \n",
    "    return_test_score=True,\n",
    "    random_state=1985, \n",
    "    stratify=True, \n",
    "    use_kfold=False\n",
    "    )"
   ]
  },
  {
   "cell_type": "code",
   "execution_count": 17,
   "metadata": {},
   "outputs": [
    {
     "data": {
      "text/plain": [
       "{'validation_score': 0.7169368852597304, 'test_score': 0.6806359746797856}"
      ]
     },
     "execution_count": 17,
     "metadata": {},
     "output_type": "execute_result"
    }
   ],
   "source": [
    "scores"
   ]
  },
  {
   "cell_type": "code",
   "execution_count": 18,
   "metadata": {},
   "outputs": [
    {
     "data": {
      "text/html": [
       "<div>\n",
       "<style scoped>\n",
       "    .dataframe tbody tr th:only-of-type {\n",
       "        vertical-align: middle;\n",
       "    }\n",
       "\n",
       "    .dataframe tbody tr th {\n",
       "        vertical-align: top;\n",
       "    }\n",
       "\n",
       "    .dataframe thead th {\n",
       "        text-align: right;\n",
       "    }\n",
       "</style>\n",
       "<table border=\"1\" class=\"dataframe\">\n",
       "  <thead>\n",
       "    <tr style=\"text-align: right;\">\n",
       "      <th></th>\n",
       "      <th>Importance</th>\n",
       "      <th>Column</th>\n",
       "    </tr>\n",
       "  </thead>\n",
       "  <tbody>\n",
       "    <tr>\n",
       "      <th>6</th>\n",
       "      <td>0.209400</td>\n",
       "      <td>goal</td>\n",
       "    </tr>\n",
       "    <tr>\n",
       "      <th>2</th>\n",
       "      <td>0.147659</td>\n",
       "      <td>category</td>\n",
       "    </tr>\n",
       "    <tr>\n",
       "      <th>3</th>\n",
       "      <td>0.146721</td>\n",
       "      <td>main_category</td>\n",
       "    </tr>\n",
       "    <tr>\n",
       "      <th>13</th>\n",
       "      <td>0.083456</td>\n",
       "      <td>deadline_history_days</td>\n",
       "    </tr>\n",
       "    <tr>\n",
       "      <th>4</th>\n",
       "      <td>0.065013</td>\n",
       "      <td>currency</td>\n",
       "    </tr>\n",
       "    <tr>\n",
       "      <th>14</th>\n",
       "      <td>0.061483</td>\n",
       "      <td>launched_history_days</td>\n",
       "    </tr>\n",
       "    <tr>\n",
       "      <th>5</th>\n",
       "      <td>0.051752</td>\n",
       "      <td>country</td>\n",
       "    </tr>\n",
       "    <tr>\n",
       "      <th>10</th>\n",
       "      <td>0.043567</td>\n",
       "      <td>launched_month</td>\n",
       "    </tr>\n",
       "    <tr>\n",
       "      <th>7</th>\n",
       "      <td>0.041613</td>\n",
       "      <td>deadline_month</td>\n",
       "    </tr>\n",
       "    <tr>\n",
       "      <th>11</th>\n",
       "      <td>0.039815</td>\n",
       "      <td>launched_day</td>\n",
       "    </tr>\n",
       "    <tr>\n",
       "      <th>8</th>\n",
       "      <td>0.033608</td>\n",
       "      <td>deadline_day</td>\n",
       "    </tr>\n",
       "    <tr>\n",
       "      <th>12</th>\n",
       "      <td>0.020564</td>\n",
       "      <td>launched_year</td>\n",
       "    </tr>\n",
       "    <tr>\n",
       "      <th>9</th>\n",
       "      <td>0.019081</td>\n",
       "      <td>deadline_year</td>\n",
       "    </tr>\n",
       "    <tr>\n",
       "      <th>1</th>\n",
       "      <td>0.018471</td>\n",
       "      <td>name</td>\n",
       "    </tr>\n",
       "    <tr>\n",
       "      <th>0</th>\n",
       "      <td>0.017799</td>\n",
       "      <td>ID</td>\n",
       "    </tr>\n",
       "  </tbody>\n",
       "</table>\n",
       "</div>"
      ],
      "text/plain": [
       "    Importance                 Column\n",
       "6     0.209400                   goal\n",
       "2     0.147659               category\n",
       "3     0.146721          main_category\n",
       "13    0.083456  deadline_history_days\n",
       "4     0.065013               currency\n",
       "14    0.061483  launched_history_days\n",
       "5     0.051752                country\n",
       "10    0.043567         launched_month\n",
       "7     0.041613         deadline_month\n",
       "11    0.039815           launched_day\n",
       "8     0.033608           deadline_day\n",
       "12    0.020564          launched_year\n",
       "9     0.019081          deadline_year\n",
       "1     0.018471                   name\n",
       "0     0.017799                     ID"
      ]
     },
     "execution_count": 18,
     "metadata": {},
     "output_type": "execute_result"
    }
   ],
   "source": [
    "feats = pd.DataFrame({ 'Importance': pipe.steps[1][1].feature_importances_, 'Column': X.columns})\n",
    "feats.sort_values(by='Importance', ascending=False)"
   ]
  },
  {
   "cell_type": "code",
   "execution_count": 19,
   "metadata": {},
   "outputs": [],
   "source": [
    "# How long is the campaign\n",
    "df['duration'] = (df['deadline'] - df['launched']).dt.days"
   ]
  },
  {
   "cell_type": "code",
   "execution_count": 20,
   "metadata": {},
   "outputs": [],
   "source": [
    "# Get the average for each category\n",
    "category_avgs = df.groupby('category')[['goal']].mean().reset_index().rename({'goal':'category_goal_avg'},axis=1)"
   ]
  },
  {
   "cell_type": "code",
   "execution_count": 21,
   "metadata": {},
   "outputs": [
    {
     "data": {
      "text/html": [
       "<div>\n",
       "<style scoped>\n",
       "    .dataframe tbody tr th:only-of-type {\n",
       "        vertical-align: middle;\n",
       "    }\n",
       "\n",
       "    .dataframe tbody tr th {\n",
       "        vertical-align: top;\n",
       "    }\n",
       "\n",
       "    .dataframe thead th {\n",
       "        text-align: right;\n",
       "    }\n",
       "</style>\n",
       "<table border=\"1\" class=\"dataframe\">\n",
       "  <thead>\n",
       "    <tr style=\"text-align: right;\">\n",
       "      <th></th>\n",
       "      <th>category</th>\n",
       "      <th>category_goal_avg</th>\n",
       "    </tr>\n",
       "  </thead>\n",
       "  <tbody>\n",
       "    <tr>\n",
       "      <th>0</th>\n",
       "      <td>3D Printing</td>\n",
       "      <td>47096.558771</td>\n",
       "    </tr>\n",
       "    <tr>\n",
       "      <th>1</th>\n",
       "      <td>Academic</td>\n",
       "      <td>55365.812915</td>\n",
       "    </tr>\n",
       "    <tr>\n",
       "      <th>2</th>\n",
       "      <td>Accessories</td>\n",
       "      <td>14737.425295</td>\n",
       "    </tr>\n",
       "    <tr>\n",
       "      <th>3</th>\n",
       "      <td>Action</td>\n",
       "      <td>320007.524411</td>\n",
       "    </tr>\n",
       "    <tr>\n",
       "      <th>4</th>\n",
       "      <td>Animals</td>\n",
       "      <td>10788.377328</td>\n",
       "    </tr>\n",
       "    <tr>\n",
       "      <th>...</th>\n",
       "      <td>...</td>\n",
       "      <td>...</td>\n",
       "    </tr>\n",
       "    <tr>\n",
       "      <th>154</th>\n",
       "      <td>Woodworking</td>\n",
       "      <td>11655.184791</td>\n",
       "    </tr>\n",
       "    <tr>\n",
       "      <th>155</th>\n",
       "      <td>Workshops</td>\n",
       "      <td>9739.618038</td>\n",
       "    </tr>\n",
       "    <tr>\n",
       "      <th>156</th>\n",
       "      <td>World Music</td>\n",
       "      <td>28711.839405</td>\n",
       "    </tr>\n",
       "    <tr>\n",
       "      <th>157</th>\n",
       "      <td>Young Adult</td>\n",
       "      <td>40515.781588</td>\n",
       "    </tr>\n",
       "    <tr>\n",
       "      <th>158</th>\n",
       "      <td>Zines</td>\n",
       "      <td>10552.209344</td>\n",
       "    </tr>\n",
       "  </tbody>\n",
       "</table>\n",
       "<p>159 rows × 2 columns</p>\n",
       "</div>"
      ],
      "text/plain": [
       "        category  category_goal_avg\n",
       "0    3D Printing       47096.558771\n",
       "1       Academic       55365.812915\n",
       "2    Accessories       14737.425295\n",
       "3         Action      320007.524411\n",
       "4        Animals       10788.377328\n",
       "..           ...                ...\n",
       "154  Woodworking       11655.184791\n",
       "155    Workshops        9739.618038\n",
       "156  World Music       28711.839405\n",
       "157  Young Adult       40515.781588\n",
       "158        Zines       10552.209344\n",
       "\n",
       "[159 rows x 2 columns]"
      ]
     },
     "execution_count": 21,
     "metadata": {},
     "output_type": "execute_result"
    }
   ],
   "source": [
    "category_avgs"
   ]
  },
  {
   "cell_type": "code",
   "execution_count": 22,
   "metadata": {},
   "outputs": [],
   "source": [
    "# Merge back into our data set\n",
    "df = df.merge(category_avgs, on='category')"
   ]
  },
  {
   "cell_type": "code",
   "execution_count": 23,
   "metadata": {},
   "outputs": [],
   "source": [
    "# and look at how a campaign ended up looking relative to the category average\n",
    "df['cat_goal_pct'] = df['goal'] / df['category_goal_avg']"
   ]
  },
  {
   "cell_type": "code",
   "execution_count": 24,
   "metadata": {},
   "outputs": [
    {
     "data": {
      "text/html": [
       "<div>\n",
       "<style scoped>\n",
       "    .dataframe tbody tr th:only-of-type {\n",
       "        vertical-align: middle;\n",
       "    }\n",
       "\n",
       "    .dataframe tbody tr th {\n",
       "        vertical-align: top;\n",
       "    }\n",
       "\n",
       "    .dataframe thead th {\n",
       "        text-align: right;\n",
       "    }\n",
       "</style>\n",
       "<table border=\"1\" class=\"dataframe\">\n",
       "  <thead>\n",
       "    <tr style=\"text-align: right;\">\n",
       "      <th></th>\n",
       "      <th>goal</th>\n",
       "      <th>category_goal_avg</th>\n",
       "      <th>cat_goal_pct</th>\n",
       "    </tr>\n",
       "  </thead>\n",
       "  <tbody>\n",
       "    <tr>\n",
       "      <th>0</th>\n",
       "      <td>1533.95</td>\n",
       "      <td>5213.996468</td>\n",
       "      <td>0.294199</td>\n",
       "    </tr>\n",
       "    <tr>\n",
       "      <th>1</th>\n",
       "      <td>6060.97</td>\n",
       "      <td>5213.996468</td>\n",
       "      <td>1.162442</td>\n",
       "    </tr>\n",
       "    <tr>\n",
       "      <th>2</th>\n",
       "      <td>2000.00</td>\n",
       "      <td>5213.996468</td>\n",
       "      <td>0.383583</td>\n",
       "    </tr>\n",
       "    <tr>\n",
       "      <th>3</th>\n",
       "      <td>10000.00</td>\n",
       "      <td>5213.996468</td>\n",
       "      <td>1.917915</td>\n",
       "    </tr>\n",
       "    <tr>\n",
       "      <th>4</th>\n",
       "      <td>757.52</td>\n",
       "      <td>5213.996468</td>\n",
       "      <td>0.145286</td>\n",
       "    </tr>\n",
       "  </tbody>\n",
       "</table>\n",
       "</div>"
      ],
      "text/plain": [
       "       goal  category_goal_avg  cat_goal_pct\n",
       "0   1533.95        5213.996468      0.294199\n",
       "1   6060.97        5213.996468      1.162442\n",
       "2   2000.00        5213.996468      0.383583\n",
       "3  10000.00        5213.996468      1.917915\n",
       "4    757.52        5213.996468      0.145286"
      ]
     },
     "execution_count": 24,
     "metadata": {},
     "output_type": "execute_result"
    }
   ],
   "source": [
    "df[['goal','category_goal_avg','cat_goal_pct']].head()"
   ]
  },
  {
   "cell_type": "code",
   "execution_count": 25,
   "metadata": {},
   "outputs": [
    {
     "name": "stderr",
     "output_type": "stream",
     "text": [
      "/usr/local/anaconda3/lib/python3.8/site-packages/category_encoders/utils.py:21: FutureWarning: is_categorical is deprecated and will be removed in a future version.  Use is_categorical_dtype instead\n",
      "  elif pd.api.types.is_categorical(cols):\n",
      "/usr/local/anaconda3/lib/python3.8/site-packages/xgboost/sklearn.py:888: UserWarning: The use of label encoder in XGBClassifier is deprecated and will be removed in a future release. To remove this warning, do the following: 1) Pass option use_label_encoder=False when constructing XGBClassifier object; and 2) Encode your labels (y) as integers starting with 0, i.e. 0, 1, 2, ..., [num_class - 1].\n",
      "  warnings.warn(label_encoder_deprecation_msg, UserWarning)\n"
     ]
    },
    {
     "name": "stdout",
     "output_type": "stream",
     "text": [
      "[11:12:50] WARNING: /Users/travis/build/dmlc/xgboost/src/learner.cc:1061: Starting in XGBoost 1.3.0, the default evaluation metric used with the objective 'binary:logistic' was changed from 'error' to 'logloss'. Explicitly set eval_metric if you'd like to restore the old behavior.\n"
     ]
    }
   ],
   "source": [
    "# Run model again\n",
    "X = df.drop(['deadline','launched','state'],axis=1)\n",
    "y = df['state']\n",
    "\n",
    "scores = get_val_scores(\n",
    "    pipe, \n",
    "    X, \n",
    "    y, \n",
    "    return_test_score=False,\n",
    "    random_state=1985, \n",
    "    stratify=True, \n",
    "    use_kfold=False\n",
    "    )"
   ]
  },
  {
   "cell_type": "code",
   "execution_count": 26,
   "metadata": {},
   "outputs": [
    {
     "data": {
      "text/plain": [
       "{'validation_score': 0.7292021662477013}"
      ]
     },
     "execution_count": 26,
     "metadata": {},
     "output_type": "execute_result"
    }
   ],
   "source": [
    "scores\n",
    "# Wrap up for Class 15."
   ]
  },
  {
   "cell_type": "code",
   "execution_count": 27,
   "metadata": {
    "scrolled": true
   },
   "outputs": [
    {
     "data": {
      "text/html": [
       "<div>\n",
       "<style scoped>\n",
       "    .dataframe tbody tr th:only-of-type {\n",
       "        vertical-align: middle;\n",
       "    }\n",
       "\n",
       "    .dataframe tbody tr th {\n",
       "        vertical-align: top;\n",
       "    }\n",
       "\n",
       "    .dataframe thead th {\n",
       "        text-align: right;\n",
       "    }\n",
       "</style>\n",
       "<table border=\"1\" class=\"dataframe\">\n",
       "  <thead>\n",
       "    <tr style=\"text-align: right;\">\n",
       "      <th></th>\n",
       "      <th>Importance</th>\n",
       "      <th>Column</th>\n",
       "    </tr>\n",
       "  </thead>\n",
       "  <tbody>\n",
       "    <tr>\n",
       "      <th>6</th>\n",
       "      <td>0.214570</td>\n",
       "      <td>goal</td>\n",
       "    </tr>\n",
       "    <tr>\n",
       "      <th>15</th>\n",
       "      <td>0.124122</td>\n",
       "      <td>duration</td>\n",
       "    </tr>\n",
       "    <tr>\n",
       "      <th>16</th>\n",
       "      <td>0.116200</td>\n",
       "      <td>category_goal_avg</td>\n",
       "    </tr>\n",
       "    <tr>\n",
       "      <th>3</th>\n",
       "      <td>0.104648</td>\n",
       "      <td>main_category</td>\n",
       "    </tr>\n",
       "    <tr>\n",
       "      <th>2</th>\n",
       "      <td>0.087478</td>\n",
       "      <td>category</td>\n",
       "    </tr>\n",
       "    <tr>\n",
       "      <th>13</th>\n",
       "      <td>0.072218</td>\n",
       "      <td>deadline_history_days</td>\n",
       "    </tr>\n",
       "    <tr>\n",
       "      <th>4</th>\n",
       "      <td>0.045163</td>\n",
       "      <td>currency</td>\n",
       "    </tr>\n",
       "    <tr>\n",
       "      <th>14</th>\n",
       "      <td>0.040726</td>\n",
       "      <td>launched_history_days</td>\n",
       "    </tr>\n",
       "    <tr>\n",
       "      <th>5</th>\n",
       "      <td>0.033404</td>\n",
       "      <td>country</td>\n",
       "    </tr>\n",
       "    <tr>\n",
       "      <th>17</th>\n",
       "      <td>0.024383</td>\n",
       "      <td>cat_goal_pct</td>\n",
       "    </tr>\n",
       "    <tr>\n",
       "      <th>9</th>\n",
       "      <td>0.023735</td>\n",
       "      <td>deadline_year</td>\n",
       "    </tr>\n",
       "    <tr>\n",
       "      <th>7</th>\n",
       "      <td>0.021838</td>\n",
       "      <td>deadline_month</td>\n",
       "    </tr>\n",
       "    <tr>\n",
       "      <th>10</th>\n",
       "      <td>0.018635</td>\n",
       "      <td>launched_month</td>\n",
       "    </tr>\n",
       "    <tr>\n",
       "      <th>11</th>\n",
       "      <td>0.017494</td>\n",
       "      <td>launched_day</td>\n",
       "    </tr>\n",
       "    <tr>\n",
       "      <th>8</th>\n",
       "      <td>0.015264</td>\n",
       "      <td>deadline_day</td>\n",
       "    </tr>\n",
       "    <tr>\n",
       "      <th>0</th>\n",
       "      <td>0.014536</td>\n",
       "      <td>ID</td>\n",
       "    </tr>\n",
       "    <tr>\n",
       "      <th>1</th>\n",
       "      <td>0.014393</td>\n",
       "      <td>name</td>\n",
       "    </tr>\n",
       "    <tr>\n",
       "      <th>12</th>\n",
       "      <td>0.011194</td>\n",
       "      <td>launched_year</td>\n",
       "    </tr>\n",
       "  </tbody>\n",
       "</table>\n",
       "</div>"
      ],
      "text/plain": [
       "    Importance                 Column\n",
       "6     0.214570                   goal\n",
       "15    0.124122               duration\n",
       "16    0.116200      category_goal_avg\n",
       "3     0.104648          main_category\n",
       "2     0.087478               category\n",
       "13    0.072218  deadline_history_days\n",
       "4     0.045163               currency\n",
       "14    0.040726  launched_history_days\n",
       "5     0.033404                country\n",
       "17    0.024383           cat_goal_pct\n",
       "9     0.023735          deadline_year\n",
       "7     0.021838         deadline_month\n",
       "10    0.018635         launched_month\n",
       "11    0.017494           launched_day\n",
       "8     0.015264           deadline_day\n",
       "0     0.014536                     ID\n",
       "1     0.014393                   name\n",
       "12    0.011194          launched_year"
      ]
     },
     "execution_count": 27,
     "metadata": {},
     "output_type": "execute_result"
    }
   ],
   "source": [
    "feats = pd.DataFrame({ 'Importance': pipe.steps[1][1].feature_importances_, 'Column': X.columns})\n",
    "feats.sort_values(by='Importance', ascending=False)"
   ]
  },
  {
   "cell_type": "code",
   "execution_count": 29,
   "metadata": {},
   "outputs": [],
   "source": [
    "# Version of k-fold for working with stratified samples \n",
    "# (i.e rare occurances of target variable)\n",
    "from sklearn.model_selection import StratifiedKFold, cross_val_score"
   ]
  },
  {
   "cell_type": "code",
   "execution_count": 30,
   "metadata": {},
   "outputs": [],
   "source": [
    "kfold = StratifiedKFold(n_splits = 10)"
   ]
  },
  {
   "cell_type": "code",
   "execution_count": 35,
   "metadata": {},
   "outputs": [
    {
     "data": {
      "text/html": [
       "<div>\n",
       "<style scoped>\n",
       "    .dataframe tbody tr th:only-of-type {\n",
       "        vertical-align: middle;\n",
       "    }\n",
       "\n",
       "    .dataframe tbody tr th {\n",
       "        vertical-align: top;\n",
       "    }\n",
       "\n",
       "    .dataframe thead th {\n",
       "        text-align: right;\n",
       "    }\n",
       "</style>\n",
       "<table border=\"1\" class=\"dataframe\">\n",
       "  <thead>\n",
       "    <tr style=\"text-align: right;\">\n",
       "      <th></th>\n",
       "      <th>ID</th>\n",
       "      <th>name</th>\n",
       "      <th>category</th>\n",
       "      <th>main_category</th>\n",
       "      <th>currency</th>\n",
       "      <th>country</th>\n",
       "      <th>goal</th>\n",
       "      <th>deadline_month</th>\n",
       "      <th>deadline_day</th>\n",
       "      <th>deadline_year</th>\n",
       "      <th>launched_month</th>\n",
       "      <th>launched_day</th>\n",
       "      <th>launched_year</th>\n",
       "      <th>deadline_history_days</th>\n",
       "      <th>launched_history_days</th>\n",
       "      <th>duration</th>\n",
       "      <th>category_goal_avg</th>\n",
       "      <th>cat_goal_pct</th>\n",
       "    </tr>\n",
       "  </thead>\n",
       "  <tbody>\n",
       "    <tr>\n",
       "      <th>0</th>\n",
       "      <td>1000002330</td>\n",
       "      <td>The Songs of Adelaide &amp; Abullah</td>\n",
       "      <td>Poetry</td>\n",
       "      <td>Publishing</td>\n",
       "      <td>GBP</td>\n",
       "      <td>GB</td>\n",
       "      <td>1533.95</td>\n",
       "      <td>10</td>\n",
       "      <td>9</td>\n",
       "      <td>2015</td>\n",
       "      <td>8</td>\n",
       "      <td>11</td>\n",
       "      <td>2015</td>\n",
       "      <td>2350</td>\n",
       "      <td>16658</td>\n",
       "      <td>58</td>\n",
       "      <td>5213.996468</td>\n",
       "      <td>0.294199</td>\n",
       "    </tr>\n",
       "    <tr>\n",
       "      <th>1</th>\n",
       "      <td>1001028167</td>\n",
       "      <td>Steel Cathedrals- Short poems for the digital ...</td>\n",
       "      <td>Poetry</td>\n",
       "      <td>Publishing</td>\n",
       "      <td>GBP</td>\n",
       "      <td>GB</td>\n",
       "      <td>6060.97</td>\n",
       "      <td>7</td>\n",
       "      <td>28</td>\n",
       "      <td>2013</td>\n",
       "      <td>6</td>\n",
       "      <td>28</td>\n",
       "      <td>2013</td>\n",
       "      <td>1547</td>\n",
       "      <td>15884</td>\n",
       "      <td>29</td>\n",
       "      <td>5213.996468</td>\n",
       "      <td>1.162442</td>\n",
       "    </tr>\n",
       "    <tr>\n",
       "      <th>2</th>\n",
       "      <td>1001468086</td>\n",
       "      <td>Bass River Press</td>\n",
       "      <td>Poetry</td>\n",
       "      <td>Publishing</td>\n",
       "      <td>USD</td>\n",
       "      <td>US</td>\n",
       "      <td>2000.00</td>\n",
       "      <td>4</td>\n",
       "      <td>5</td>\n",
       "      <td>2015</td>\n",
       "      <td>3</td>\n",
       "      <td>6</td>\n",
       "      <td>2015</td>\n",
       "      <td>2163</td>\n",
       "      <td>16500</td>\n",
       "      <td>29</td>\n",
       "      <td>5213.996468</td>\n",
       "      <td>0.383583</td>\n",
       "    </tr>\n",
       "    <tr>\n",
       "      <th>3</th>\n",
       "      <td>1001991458</td>\n",
       "      <td>Poems For Apostates &amp; tales of a young Sciento...</td>\n",
       "      <td>Poetry</td>\n",
       "      <td>Publishing</td>\n",
       "      <td>USD</td>\n",
       "      <td>US</td>\n",
       "      <td>10000.00</td>\n",
       "      <td>5</td>\n",
       "      <td>31</td>\n",
       "      <td>2014</td>\n",
       "      <td>5</td>\n",
       "      <td>1</td>\n",
       "      <td>2014</td>\n",
       "      <td>1854</td>\n",
       "      <td>16191</td>\n",
       "      <td>29</td>\n",
       "      <td>5213.996468</td>\n",
       "      <td>1.917915</td>\n",
       "    </tr>\n",
       "    <tr>\n",
       "      <th>4</th>\n",
       "      <td>1002519316</td>\n",
       "      <td>Your poem, by me.</td>\n",
       "      <td>Poetry</td>\n",
       "      <td>Publishing</td>\n",
       "      <td>CAD</td>\n",
       "      <td>CA</td>\n",
       "      <td>757.52</td>\n",
       "      <td>10</td>\n",
       "      <td>31</td>\n",
       "      <td>2015</td>\n",
       "      <td>10</td>\n",
       "      <td>1</td>\n",
       "      <td>2015</td>\n",
       "      <td>2372</td>\n",
       "      <td>16709</td>\n",
       "      <td>29</td>\n",
       "      <td>5213.996468</td>\n",
       "      <td>0.145286</td>\n",
       "    </tr>\n",
       "  </tbody>\n",
       "</table>\n",
       "</div>"
      ],
      "text/plain": [
       "           ID                                               name category  \\\n",
       "0  1000002330                    The Songs of Adelaide & Abullah   Poetry   \n",
       "1  1001028167  Steel Cathedrals- Short poems for the digital ...   Poetry   \n",
       "2  1001468086                                   Bass River Press   Poetry   \n",
       "3  1001991458  Poems For Apostates & tales of a young Sciento...   Poetry   \n",
       "4  1002519316                                  Your poem, by me.   Poetry   \n",
       "\n",
       "  main_category currency country      goal  deadline_month  deadline_day  \\\n",
       "0    Publishing      GBP      GB   1533.95              10             9   \n",
       "1    Publishing      GBP      GB   6060.97               7            28   \n",
       "2    Publishing      USD      US   2000.00               4             5   \n",
       "3    Publishing      USD      US  10000.00               5            31   \n",
       "4    Publishing      CAD      CA    757.52              10            31   \n",
       "\n",
       "   deadline_year  launched_month  launched_day  launched_year  \\\n",
       "0           2015               8            11           2015   \n",
       "1           2013               6            28           2013   \n",
       "2           2015               3             6           2015   \n",
       "3           2014               5             1           2014   \n",
       "4           2015              10             1           2015   \n",
       "\n",
       "   deadline_history_days  launched_history_days  duration  category_goal_avg  \\\n",
       "0                   2350                  16658        58        5213.996468   \n",
       "1                   1547                  15884        29        5213.996468   \n",
       "2                   2163                  16500        29        5213.996468   \n",
       "3                   1854                  16191        29        5213.996468   \n",
       "4                   2372                  16709        29        5213.996468   \n",
       "\n",
       "   cat_goal_pct  \n",
       "0      0.294199  \n",
       "1      1.162442  \n",
       "2      0.383583  \n",
       "3      1.917915  \n",
       "4      0.145286  "
      ]
     },
     "execution_count": 35,
     "metadata": {},
     "output_type": "execute_result"
    }
   ],
   "source": [
    "X.head()"
   ]
  },
  {
   "cell_type": "code",
   "execution_count": 33,
   "metadata": {},
   "outputs": [],
   "source": [
    "X_train, X_test, y_train, y_test = train_test_split(X,y, random_state=1985, test_size=0.2)"
   ]
  },
  {
   "cell_type": "code",
   "execution_count": 36,
   "metadata": {},
   "outputs": [
    {
     "name": "stderr",
     "output_type": "stream",
     "text": [
      "/usr/local/anaconda3/lib/python3.8/site-packages/category_encoders/utils.py:21: FutureWarning: is_categorical is deprecated and will be removed in a future version.  Use is_categorical_dtype instead\n",
      "  elif pd.api.types.is_categorical(cols):\n",
      "/usr/local/anaconda3/lib/python3.8/site-packages/xgboost/sklearn.py:888: UserWarning: The use of label encoder in XGBClassifier is deprecated and will be removed in a future release. To remove this warning, do the following: 1) Pass option use_label_encoder=False when constructing XGBClassifier object; and 2) Encode your labels (y) as integers starting with 0, i.e. 0, 1, 2, ..., [num_class - 1].\n",
      "  warnings.warn(label_encoder_deprecation_msg, UserWarning)\n"
     ]
    },
    {
     "name": "stdout",
     "output_type": "stream",
     "text": [
      "[11:30:58] WARNING: /Users/travis/build/dmlc/xgboost/src/learner.cc:1061: Starting in XGBoost 1.3.0, the default evaluation metric used with the objective 'binary:logistic' was changed from 'error' to 'logloss'. Explicitly set eval_metric if you'd like to restore the old behavior.\n",
      "[11:31:15] WARNING: /Users/travis/build/dmlc/xgboost/src/learner.cc:1061: Starting in XGBoost 1.3.0, the default evaluation metric used with the objective 'binary:logistic' was changed from 'error' to 'logloss'. Explicitly set eval_metric if you'd like to restore the old behavior.\n",
      "[11:31:32] WARNING: /Users/travis/build/dmlc/xgboost/src/learner.cc:1061: Starting in XGBoost 1.3.0, the default evaluation metric used with the objective 'binary:logistic' was changed from 'error' to 'logloss'. Explicitly set eval_metric if you'd like to restore the old behavior.\n",
      "[11:31:48] WARNING: /Users/travis/build/dmlc/xgboost/src/learner.cc:1061: Starting in XGBoost 1.3.0, the default evaluation metric used with the objective 'binary:logistic' was changed from 'error' to 'logloss'. Explicitly set eval_metric if you'd like to restore the old behavior.\n",
      "[11:32:05] WARNING: /Users/travis/build/dmlc/xgboost/src/learner.cc:1061: Starting in XGBoost 1.3.0, the default evaluation metric used with the objective 'binary:logistic' was changed from 'error' to 'logloss'. Explicitly set eval_metric if you'd like to restore the old behavior.\n",
      "[11:32:21] WARNING: /Users/travis/build/dmlc/xgboost/src/learner.cc:1061: Starting in XGBoost 1.3.0, the default evaluation metric used with the objective 'binary:logistic' was changed from 'error' to 'logloss'. Explicitly set eval_metric if you'd like to restore the old behavior.\n",
      "[11:32:39] WARNING: /Users/travis/build/dmlc/xgboost/src/learner.cc:1061: Starting in XGBoost 1.3.0, the default evaluation metric used with the objective 'binary:logistic' was changed from 'error' to 'logloss'. Explicitly set eval_metric if you'd like to restore the old behavior.\n",
      "[11:32:56] WARNING: /Users/travis/build/dmlc/xgboost/src/learner.cc:1061: Starting in XGBoost 1.3.0, the default evaluation metric used with the objective 'binary:logistic' was changed from 'error' to 'logloss'. Explicitly set eval_metric if you'd like to restore the old behavior.\n",
      "[11:33:12] WARNING: /Users/travis/build/dmlc/xgboost/src/learner.cc:1061: Starting in XGBoost 1.3.0, the default evaluation metric used with the objective 'binary:logistic' was changed from 'error' to 'logloss'. Explicitly set eval_metric if you'd like to restore the old behavior.\n",
      "[11:33:29] WARNING: /Users/travis/build/dmlc/xgboost/src/learner.cc:1061: Starting in XGBoost 1.3.0, the default evaluation metric used with the objective 'binary:logistic' was changed from 'error' to 'logloss'. Explicitly set eval_metric if you'd like to restore the old behavior.\n"
     ]
    },
    {
     "data": {
      "text/plain": [
       "array([0.70530081, 0.70283767, 0.70793265, 0.7106897 , 0.70545958,\n",
       "       0.70832771, 0.70718046, 0.71028479, 0.70515589, 0.70545958])"
      ]
     },
     "execution_count": 36,
     "metadata": {},
     "output_type": "execute_result"
    }
   ],
   "source": [
    "cross_val_score(estimator=pipe, X=X_train, y=y_train, cv=kfold ) # Pass in our special splitter"
   ]
  },
  {
   "cell_type": "markdown",
   "metadata": {},
   "source": [
    "What we are looking for here is having a look to see if the standard validation score looks different vs our kfold score using the splitter.\n",
    "\n",
    "\n",
    "**Scores output:**\n",
    "`array([0.70530081, 0.70283767, 0.70793265, 0.7106897 , 0.70545958,\n",
    "       0.70832771, 0.70718046, 0.71028479, 0.70515589, 0.70545958])`"
   ]
  },
  {
   "cell_type": "code",
   "execution_count": 41,
   "metadata": {},
   "outputs": [
    {
     "data": {
      "text/plain": [
       "0.7068628840000002"
      ]
     },
     "execution_count": 41,
     "metadata": {},
     "output_type": "execute_result"
    }
   ],
   "source": [
    "scores = np.array([0.70530081, 0.70283767, 0.70793265, 0.7106897 , 0.70545958,\n",
    "       0.70832771, 0.70718046, 0.71028479, 0.70515589, 0.70545958])\n",
    "scores.mean()"
   ]
  },
  {
   "cell_type": "code",
   "execution_count": 42,
   "metadata": {},
   "outputs": [
    {
     "data": {
      "text/plain": [
       "{'objective': 'binary:logistic',\n",
       " 'use_label_encoder': True,\n",
       " 'base_score': 0.5,\n",
       " 'booster': 'gbtree',\n",
       " 'colsample_bylevel': 1,\n",
       " 'colsample_bynode': 1,\n",
       " 'colsample_bytree': 1,\n",
       " 'gamma': 0,\n",
       " 'gpu_id': -1,\n",
       " 'importance_type': 'gain',\n",
       " 'interaction_constraints': '',\n",
       " 'learning_rate': 0.300000012,\n",
       " 'max_delta_step': 0,\n",
       " 'max_depth': 6,\n",
       " 'min_child_weight': 1,\n",
       " 'missing': nan,\n",
       " 'monotone_constraints': '()',\n",
       " 'n_estimators': 100,\n",
       " 'n_jobs': 8,\n",
       " 'num_parallel_tree': 1,\n",
       " 'random_state': 0,\n",
       " 'reg_alpha': 0,\n",
       " 'reg_lambda': 1,\n",
       " 'scale_pos_weight': 1,\n",
       " 'subsample': 1,\n",
       " 'tree_method': 'exact',\n",
       " 'validate_parameters': 1,\n",
       " 'verbosity': None}"
      ]
     },
     "execution_count": 42,
     "metadata": {},
     "output_type": "execute_result"
    }
   ],
   "source": [
    "mod1.get_params()"
   ]
  },
  {
   "cell_type": "markdown",
   "metadata": {},
   "source": [
    "As an option to reduce over fitting you can reduce the `colsample_` parameter settings to say 0.5-0.7 so a smaller group of columns is considered in every tree."
   ]
  },
  {
   "cell_type": "code",
   "execution_count": null,
   "metadata": {},
   "outputs": [],
   "source": []
  },
  {
   "cell_type": "code",
   "execution_count": 44,
   "metadata": {},
   "outputs": [],
   "source": [
    "from sklearn.metrics import plot_confusion_matrix\n",
    "from sklearn.metrics import classification_report\n",
    "import matplotlib.pyplot as plt"
   ]
  },
  {
   "cell_type": "code",
   "execution_count": 45,
   "metadata": {},
   "outputs": [
    {
     "data": {
      "text/plain": [
       "<sklearn.metrics._plot.confusion_matrix.ConfusionMatrixDisplay at 0x7fe2e5acdfd0>"
      ]
     },
     "execution_count": 45,
     "metadata": {},
     "output_type": "execute_result"
    },
    {
     "data": {
      "image/png": "[encoded data removed]",
      "text/plain": [
       "<Figure size 432x288 with 2 Axes>"
      ]
     },
     "metadata": {
      "needs_background": "light"
     },
     "output_type": "display_data"
    }
   ],
   "source": [
    "plot_confusion_matrix(pipe, X_test, y_test, cmap=plt.cm.Blues, normalize='pred')"
   ]
  },
  {
   "cell_type": "code",
   "execution_count": 47,
   "metadata": {},
   "outputs": [
    {
     "name": "stdout",
     "output_type": "stream",
     "text": [
      "              precision    recall  f1-score   support\n",
      "\n",
      "      failed       0.74      0.86      0.80     47039\n",
      "  successful       0.66      0.49      0.56     27052\n",
      "\n",
      "    accuracy                           0.72     74091\n",
      "   macro avg       0.70      0.67      0.68     74091\n",
      "weighted avg       0.71      0.72      0.71     74091\n",
      "\n"
     ]
    }
   ],
   "source": [
    "print(classification_report (y_test, pipe.predict(X_test)))"
   ]
  },
  {
   "cell_type": "code",
   "execution_count": 49,
   "metadata": {},
   "outputs": [
    {
     "data": {
      "text/plain": [
       "0.5587684183630014"
      ]
     },
     "execution_count": 49,
     "metadata": {},
     "output_type": "execute_result"
    }
   ],
   "source": [
    "# Here we convert successful / unsuccessful to 1/0 respectively\n",
    "\n",
    "from sklearn.metrics import f1_score\n",
    "y_true = np.where(y_test == 'successful', 1, 0)\n",
    "y_pred = np.where(pipe.predict(X_test) == 'successful', 1, 0)\n",
    "# our f1 score\n",
    "f1_score(y_true, y_pred)\n",
    "\n",
    "# Matches our score above in the table."
   ]
  },
  {
   "cell_type": "code",
   "execution_count": 51,
   "metadata": {},
   "outputs": [
    {
     "data": {
      "text/plain": [
       "0.5624347826086957"
      ]
     },
     "execution_count": 51,
     "metadata": {},
     "output_type": "execute_result"
    }
   ],
   "source": [
    "(0.66*0.49)/(0.66+0.49)*2"
   ]
  },
  {
   "cell_type": "code",
   "execution_count": 52,
   "metadata": {},
   "outputs": [
    {
     "data": {
      "text/plain": [
       "{'objective': 'binary:logistic',\n",
       " 'use_label_encoder': True,\n",
       " 'base_score': 0.5,\n",
       " 'booster': 'gbtree',\n",
       " 'colsample_bylevel': 1,\n",
       " 'colsample_bynode': 1,\n",
       " 'colsample_bytree': 1,\n",
       " 'gamma': 0,\n",
       " 'gpu_id': -1,\n",
       " 'importance_type': 'gain',\n",
       " 'interaction_constraints': '',\n",
       " 'learning_rate': 0.300000012,\n",
       " 'max_delta_step': 0,\n",
       " 'max_depth': 6,\n",
       " 'min_child_weight': 1,\n",
       " 'missing': nan,\n",
       " 'monotone_constraints': '()',\n",
       " 'n_estimators': 100,\n",
       " 'n_jobs': 8,\n",
       " 'num_parallel_tree': 1,\n",
       " 'random_state': 0,\n",
       " 'reg_alpha': 0,\n",
       " 'reg_lambda': 1,\n",
       " 'scale_pos_weight': 1,\n",
       " 'subsample': 1,\n",
       " 'tree_method': 'exact',\n",
       " 'validate_parameters': 1,\n",
       " 'verbosity': None}"
      ]
     },
     "execution_count": 52,
     "metadata": {},
     "output_type": "execute_result"
    }
   ],
   "source": [
    "pipe[1].get_params()"
   ]
  },
  {
   "cell_type": "markdown",
   "metadata": {},
   "source": [
    "`'scale_pos_weight': 1,' is a really important parameter.`  \n",
    "\n",
    "It looks at how much weight we give the positive class vs the negative class. It changes how much error that we contribute to this specifc sample."
   ]
  },
  {
   "cell_type": "code",
   "execution_count": 53,
   "metadata": {},
   "outputs": [
    {
     "data": {
      "text/plain": [
       "array([0.1935314 , 0.16697004, 0.17481238, ..., 0.88779676, 0.43775547,\n",
       "       0.97025573], dtype=float32)"
      ]
     },
     "execution_count": 53,
     "metadata": {},
     "output_type": "execute_result"
    }
   ],
   "source": [
    "pipe.predict_proba(X)[:,1]"
   ]
  },
  {
   "cell_type": "code",
   "execution_count": 54,
   "metadata": {},
   "outputs": [
    {
     "data": {
      "text/plain": [
       "array([0, 0, 0, ..., 1, 0, 1])"
      ]
     },
     "execution_count": 54,
     "metadata": {},
     "output_type": "execute_result"
    }
   ],
   "source": [
    "np.where(y=='successful',1,0)"
   ]
  },
  {
   "cell_type": "code",
   "execution_count": 56,
   "metadata": {},
   "outputs": [
    {
     "data": {
      "text/plain": [
       "array([-0.19353139, -0.16697004, -0.17481238, ...,  0.11220324,\n",
       "       -0.43775547,  0.02974427])"
      ]
     },
     "execution_count": 56,
     "metadata": {},
     "output_type": "execute_result"
    }
   ],
   "source": [
    "# Our error column\n",
    "np.where(y=='successful',1,0) - pipe.predict_proba(X)[:,1]"
   ]
  },
  {
   "cell_type": "code",
   "execution_count": 57,
   "metadata": {},
   "outputs": [
    {
     "data": {
      "text/plain": [
       "failed        236498\n",
       "successful    133956\n",
       "Name: state, dtype: int64"
      ]
     },
     "execution_count": 57,
     "metadata": {},
     "output_type": "execute_result"
    }
   ],
   "source": [
    "y.value_counts()\n",
    "# So in this case, we'd adjust our scale positiverate to 3."
   ]
  },
  {
   "cell_type": "code",
   "execution_count": 58,
   "metadata": {},
   "outputs": [
    {
     "data": {
      "text/plain": [
       "0.36159955082142453"
      ]
     },
     "execution_count": 58,
     "metadata": {},
     "output_type": "execute_result"
    }
   ],
   "source": [
    "133956 / (133956+236498)"
   ]
  },
  {
   "cell_type": "code",
   "execution_count": 59,
   "metadata": {},
   "outputs": [
    {
     "name": "stdout",
     "output_type": "stream",
     "text": [
      "Testing the validation score for weighting of: 1\n"
     ]
    },
    {
     "name": "stderr",
     "output_type": "stream",
     "text": [
      "/usr/local/anaconda3/lib/python3.8/site-packages/category_encoders/utils.py:21: FutureWarning: is_categorical is deprecated and will be removed in a future version.  Use is_categorical_dtype instead\n",
      "  elif pd.api.types.is_categorical(cols):\n",
      "/usr/local/anaconda3/lib/python3.8/site-packages/xgboost/sklearn.py:888: UserWarning: The use of label encoder in XGBClassifier is deprecated and will be removed in a future release. To remove this warning, do the following: 1) Pass option use_label_encoder=False when constructing XGBClassifier object; and 2) Encode your labels (y) as integers starting with 0, i.e. 0, 1, 2, ..., [num_class - 1].\n",
      "  warnings.warn(label_encoder_deprecation_msg, UserWarning)\n"
     ]
    },
    {
     "name": "stdout",
     "output_type": "stream",
     "text": [
      "[13:08:04] WARNING: /Users/travis/build/dmlc/xgboost/src/learner.cc:1061: Starting in XGBoost 1.3.0, the default evaluation metric used with the objective 'binary:logistic' was changed from 'error' to 'logloss'. Explicitly set eval_metric if you'd like to restore the old behavior.\n",
      "Validation score: 0.5317519891908122\n",
      "Testing the validation score for weighting of: 2\n",
      "[13:08:21] WARNING: /Users/travis/build/dmlc/xgboost/src/learner.cc:1061: Starting in XGBoost 1.3.0, the default evaluation metric used with the objective 'binary:logistic' was changed from 'error' to 'logloss'. Explicitly set eval_metric if you'd like to restore the old behavior.\n",
      "Validation score: 0.6212966673860099\n",
      "Testing the validation score for weighting of: 3\n",
      "[13:08:41] WARNING: /Users/travis/build/dmlc/xgboost/src/learner.cc:1061: Starting in XGBoost 1.3.0, the default evaluation metric used with the objective 'binary:logistic' was changed from 'error' to 'logloss'. Explicitly set eval_metric if you'd like to restore the old behavior.\n",
      "Validation score: 0.6171895737113128\n",
      "Testing the validation score for weighting of: 4\n",
      "[13:09:01] WARNING: /Users/travis/build/dmlc/xgboost/src/learner.cc:1061: Starting in XGBoost 1.3.0, the default evaluation metric used with the objective 'binary:logistic' was changed from 'error' to 'logloss'. Explicitly set eval_metric if you'd like to restore the old behavior.\n",
      "Validation score: 0.6064959783876711\n"
     ]
    },
    {
     "data": {
      "text/plain": [
       "XGBClassifier(base_score=0.5, booster='gbtree', colsample_bylevel=1,\n",
       "              colsample_bynode=1, colsample_bytree=1, gamma=0, gpu_id=-1,\n",
       "              importance_type='gain', interaction_constraints='',\n",
       "              learning_rate=0.300000012, max_delta_step=0, max_depth=6,\n",
       "              min_child_weight=1, missing=nan, monotone_constraints='()',\n",
       "              n_estimators=100, n_jobs=8, num_parallel_tree=1, random_state=0,\n",
       "              reg_alpha=0, reg_lambda=1, scale_pos_weight=2, subsample=1,\n",
       "              tree_method='exact', validate_parameters=1, verbosity=None)"
      ]
     },
     "execution_count": 59,
     "metadata": {},
     "output_type": "execute_result"
    }
   ],
   "source": [
    "weight_values = [1, 2, 3, 4]\n",
    "cv_scores  = []\n",
    "for weight in weight_values:\n",
    "    print(f\"Testing the validation score for weighting of: {weight}\")\n",
    "    pipe.steps[1][1].set_params(scale_pos_weight=weight)\n",
    "    pipe.fit(X_train, y_train)\n",
    "    y_true = np.where(y_test == 'successful', 1, 0)\n",
    "    y_pred = np.where(pipe.predict(X_test) == 'successful', 1, 0)\n",
    "    val_score = f1_score(y_true, y_pred)\n",
    "    print(f\"Validation score: {val_score}\")\n",
    "    cv_scores.append((val_score, weight))\n",
    "top_score = max(cv_scores)\n",
    "pipe.steps[1][1].set_params(scale_pos_weight=top_score[1])"
   ]
  },
  {
   "cell_type": "markdown",
   "metadata": {},
   "source": [
    "Testing the validation score for weighting of: 1\n",
    "\n",
    "Validation score: 0.5317519891908122  \n",
    "\n",
    "***\n",
    "Testing the validation score for weighting of: 2\n",
    "\n",
    "Validation score: 0.6212966673860099  \n",
    "\n",
    "***\n",
    "Testing the validation score for weighting of: 3  \n",
    "\n",
    "Validation score: 0.6171895737113128  \n",
    "\n",
    "***\n",
    "Testing the validation score for weighting of: 4  \n",
    "\n",
    "Validation score: 0.6064959783876711  \n",
    "\n"
   ]
  },
  {
   "cell_type": "code",
   "execution_count": null,
   "metadata": {},
   "outputs": [],
   "source": []
  },
  {
   "cell_type": "code",
   "execution_count": null,
   "metadata": {},
   "outputs": [],
   "source": []
  },
  {
   "cell_type": "code",
   "execution_count": null,
   "metadata": {},
   "outputs": [],
   "source": []
  }
 ],
 "metadata": {
  "kernelspec": {
   "display_name": "Python 3",
   "language": "python",
   "name": "python3"
  },
  "language_info": {
   "codemirror_mode": {
    "name": "ipython",
    "version": 3
   },
   "file_extension": ".py",
   "mimetype": "text/x-python",
   "name": "python",
   "nbconvert_exporter": "python",
   "pygments_lexer": "ipython3",
   "version": "3.8.3"
  }
 },
 "nbformat": 4,
 "nbformat_minor": 4
}
