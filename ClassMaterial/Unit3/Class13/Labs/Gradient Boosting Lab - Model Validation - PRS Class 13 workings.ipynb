{
 "cells": [
  {
   "cell_type": "markdown",
   "metadata": {},
   "source": [
    "### Lab:  Model Validation With Gradient Boosting\n",
    "\n",
    "Welcome to this evening's lab!  It's going to be a fun one.  For today's class, we're going to try and take a crack at model building in a wholistic way.  \n",
    "\n",
    "Specifically, we're going to try and do three different things:\n",
    "\n",
    " - Try out different versions of our data, and use our validation scores to see if something was an improvement or not\n",
    " - We're going to adjust model parameters to try and adjust our results to help curb overfitting\n",
    " - We're going to try and find model parameters that maximize our score for our dataset\n",
    " \n",
    "The idea is that we'll be able to do a mini-walkthrough to test what it's like to build and validate a model and try and improve our results."
   ]
  },
  {
   "cell_type": "markdown",
   "metadata": {},
   "source": [
    "**Step 1:** Using the suggestions from the homework prompt given previously, try and add 3-4 different features ( columns ) to your data, and use your validation score to determine if they improved your results.  \n",
    "\n",
    "This is meant to be open ended, and to allow you a chance to re-discover material from previous labs."
   ]
  },
  {
   "cell_type": "code",
   "execution_count": null,
   "metadata": {},
   "outputs": [],
   "source": [
    "# your code here"
   ]
  },
  {
   "cell_type": "code",
   "execution_count": 1,
   "metadata": {},
   "outputs": [],
   "source": [
    "import numpy as np\n",
    "import pandas as pd\n",
    "from sklearn.ensemble import GradientBoostingRegressor\n",
    "import category_encoders as ce\n",
    "from sklearn.pipeline import make_pipeline\n"
   ]
  },
  {
   "cell_type": "code",
   "execution_count": 2,
   "metadata": {},
   "outputs": [],
   "source": [
    "df = pd.read_csv(\"../../data/restaurants.csv\", parse_dates=['visit_date'])"
   ]
  },
  {
   "cell_type": "code",
   "execution_count": 3,
   "metadata": {},
   "outputs": [],
   "source": [
    "# Save this in a file somewhere!\n",
    "def denote_null_values(df):\n",
    "    \"\"\"Denotes whether or not there are null values or not\"\"\"\n",
    "    empty_cols_query = df.isnull().sum() > 0\n",
    "    empty_df_cols = df.loc[:, empty_cols_query].columns.tolist()\n",
    "    for col in empty_df_cols:\n",
    "        col_name = f\"{col}_missing\"\n",
    "        df[col_name] = pd.isnull(df[col])\n",
    "    return df"
   ]
  },
  {
   "cell_type": "code",
   "execution_count": 4,
   "metadata": {},
   "outputs": [],
   "source": [
    "def create_val_splits(df, val_units=15, return_val=False):\n",
    "    \"\"\"Function that will take in a dataset and split it up into training, validation, and test sets\"\"\"\n",
    "    # split into training, validation, and test sets\n",
    "    train = df.groupby('id').apply(lambda x: x.iloc[:-val_units]).reset_index(drop=True)\n",
    "    test  = df.groupby('id').apply(lambda x: x.iloc[-val_units:]).reset_index(drop=True)\n",
    "    if return_val:\n",
    "        val   = train.groupby('id').apply(lambda x: x.iloc[-val_units:]).reset_index(drop=True)\n",
    "        train = train.groupby('id').apply(lambda x: x.iloc[:-val_units]).reset_index(drop=True)\n",
    "        return train, val, test\n",
    "    else:\n",
    "        return train, test"
   ]
  },
  {
   "cell_type": "code",
   "execution_count": 5,
   "metadata": {},
   "outputs": [
    {
     "name": "stdout",
     "output_type": "stream",
     "text": [
      "<class 'pandas.core.frame.DataFrame'>\n",
      "RangeIndex: 252108 entries, 0 to 252107\n",
      "Data columns (total 11 columns):\n",
      " #   Column            Non-Null Count   Dtype         \n",
      "---  ------            --------------   -----         \n",
      " 0   id                252108 non-null  object        \n",
      " 1   visit_date        252108 non-null  datetime64[ns]\n",
      " 2   visitors          252108 non-null  int64         \n",
      " 3   calendar_date     252108 non-null  object        \n",
      " 4   day_of_week       252108 non-null  object        \n",
      " 5   holiday           252108 non-null  int64         \n",
      " 6   genre             252108 non-null  object        \n",
      " 7   area              252108 non-null  object        \n",
      " 8   latitude          252108 non-null  float64       \n",
      " 9   longitude         252108 non-null  float64       \n",
      " 10  reserve_visitors  108394 non-null  float64       \n",
      "dtypes: datetime64[ns](1), float64(3), int64(2), object(5)\n",
      "memory usage: 21.2+ MB\n"
     ]
    }
   ],
   "source": [
    "df.info()"
   ]
  },
  {
   "cell_type": "code",
   "execution_count": 14,
   "metadata": {},
   "outputs": [
    {
     "data": {
      "text/html": [
       "<div>\n",
       "<style scoped>\n",
       "    .dataframe tbody tr th:only-of-type {\n",
       "        vertical-align: middle;\n",
       "    }\n",
       "\n",
       "    .dataframe tbody tr th {\n",
       "        vertical-align: top;\n",
       "    }\n",
       "\n",
       "    .dataframe thead th {\n",
       "        text-align: right;\n",
       "    }\n",
       "</style>\n",
       "<table border=\"1\" class=\"dataframe\">\n",
       "  <thead>\n",
       "    <tr style=\"text-align: right;\">\n",
       "      <th></th>\n",
       "      <th>id</th>\n",
       "      <th>visit_date</th>\n",
       "      <th>visitors</th>\n",
       "      <th>calendar_date</th>\n",
       "      <th>day_of_week</th>\n",
       "      <th>holiday</th>\n",
       "      <th>genre</th>\n",
       "      <th>area</th>\n",
       "      <th>latitude</th>\n",
       "      <th>longitude</th>\n",
       "      <th>reserve_visitors</th>\n",
       "    </tr>\n",
       "  </thead>\n",
       "  <tbody>\n",
       "    <tr>\n",
       "      <th>166836</th>\n",
       "      <td>air_00a91d42b08b08d9</td>\n",
       "      <td>2016-07-01</td>\n",
       "      <td>35</td>\n",
       "      <td>2016-07-01</td>\n",
       "      <td>Friday</td>\n",
       "      <td>0</td>\n",
       "      <td>Italian/French</td>\n",
       "      <td>Tōkyō-to Chiyoda-ku Kudanminami</td>\n",
       "      <td>35.694003</td>\n",
       "      <td>139.753595</td>\n",
       "      <td>NaN</td>\n",
       "    </tr>\n",
       "    <tr>\n",
       "      <th>166837</th>\n",
       "      <td>air_00a91d42b08b08d9</td>\n",
       "      <td>2016-07-02</td>\n",
       "      <td>9</td>\n",
       "      <td>2016-07-02</td>\n",
       "      <td>Saturday</td>\n",
       "      <td>0</td>\n",
       "      <td>Italian/French</td>\n",
       "      <td>Tōkyō-to Chiyoda-ku Kudanminami</td>\n",
       "      <td>35.694003</td>\n",
       "      <td>139.753595</td>\n",
       "      <td>4.0</td>\n",
       "    </tr>\n",
       "    <tr>\n",
       "      <th>166838</th>\n",
       "      <td>air_00a91d42b08b08d9</td>\n",
       "      <td>2016-07-04</td>\n",
       "      <td>20</td>\n",
       "      <td>2016-07-04</td>\n",
       "      <td>Monday</td>\n",
       "      <td>0</td>\n",
       "      <td>Italian/French</td>\n",
       "      <td>Tōkyō-to Chiyoda-ku Kudanminami</td>\n",
       "      <td>35.694003</td>\n",
       "      <td>139.753595</td>\n",
       "      <td>NaN</td>\n",
       "    </tr>\n",
       "    <tr>\n",
       "      <th>166839</th>\n",
       "      <td>air_00a91d42b08b08d9</td>\n",
       "      <td>2016-07-05</td>\n",
       "      <td>25</td>\n",
       "      <td>2016-07-05</td>\n",
       "      <td>Tuesday</td>\n",
       "      <td>0</td>\n",
       "      <td>Italian/French</td>\n",
       "      <td>Tōkyō-to Chiyoda-ku Kudanminami</td>\n",
       "      <td>35.694003</td>\n",
       "      <td>139.753595</td>\n",
       "      <td>NaN</td>\n",
       "    </tr>\n",
       "    <tr>\n",
       "      <th>166840</th>\n",
       "      <td>air_00a91d42b08b08d9</td>\n",
       "      <td>2016-07-06</td>\n",
       "      <td>29</td>\n",
       "      <td>2016-07-06</td>\n",
       "      <td>Wednesday</td>\n",
       "      <td>0</td>\n",
       "      <td>Italian/French</td>\n",
       "      <td>Tōkyō-to Chiyoda-ku Kudanminami</td>\n",
       "      <td>35.694003</td>\n",
       "      <td>139.753595</td>\n",
       "      <td>NaN</td>\n",
       "    </tr>\n",
       "  </tbody>\n",
       "</table>\n",
       "</div>"
      ],
      "text/plain": [
       "                          id visit_date  visitors calendar_date day_of_week  \\\n",
       "166836  air_00a91d42b08b08d9 2016-07-01        35    2016-07-01      Friday   \n",
       "166837  air_00a91d42b08b08d9 2016-07-02         9    2016-07-02    Saturday   \n",
       "166838  air_00a91d42b08b08d9 2016-07-04        20    2016-07-04      Monday   \n",
       "166839  air_00a91d42b08b08d9 2016-07-05        25    2016-07-05     Tuesday   \n",
       "166840  air_00a91d42b08b08d9 2016-07-06        29    2016-07-06   Wednesday   \n",
       "\n",
       "        holiday           genre                             area   latitude  \\\n",
       "166836        0  Italian/French  Tōkyō-to Chiyoda-ku Kudanminami  35.694003   \n",
       "166837        0  Italian/French  Tōkyō-to Chiyoda-ku Kudanminami  35.694003   \n",
       "166838        0  Italian/French  Tōkyō-to Chiyoda-ku Kudanminami  35.694003   \n",
       "166839        0  Italian/French  Tōkyō-to Chiyoda-ku Kudanminami  35.694003   \n",
       "166840        0  Italian/French  Tōkyō-to Chiyoda-ku Kudanminami  35.694003   \n",
       "\n",
       "         longitude  reserve_visitors  \n",
       "166836  139.753595               NaN  \n",
       "166837  139.753595               4.0  \n",
       "166838  139.753595               NaN  \n",
       "166839  139.753595               NaN  \n",
       "166840  139.753595               NaN  "
      ]
     },
     "execution_count": 14,
     "metadata": {},
     "output_type": "execute_result"
    }
   ],
   "source": [
    "df.head()"
   ]
  },
  {
   "cell_type": "code",
   "execution_count": 6,
   "metadata": {},
   "outputs": [],
   "source": [
    "df.sort_values(by=['id','visit_date'], ascending=True, inplace=True)"
   ]
  },
  {
   "cell_type": "code",
   "execution_count": 7,
   "metadata": {},
   "outputs": [],
   "source": [
    "grouping = df.groupby('id').apply(lambda x: x['visitors'].shift())\n",
    "df['visitors_yesterday'] = grouping.values"
   ]
  },
  {
   "cell_type": "code",
   "execution_count": 8,
   "metadata": {},
   "outputs": [],
   "source": [
    "grouping = df.groupby('id').apply(lambda x: x['visitors'].shift(7))\n",
    "df['visitors_last_week'] = grouping.values"
   ]
  },
  {
   "cell_type": "code",
   "execution_count": 9,
   "metadata": {},
   "outputs": [],
   "source": [
    "grouping = df.groupby('id').apply(lambda x: x['visitors'].rolling(7).mean())\n",
    "df['visitors_7_day_ma'] = grouping.values\n"
   ]
  },
  {
   "cell_type": "code",
   "execution_count": 10,
   "metadata": {},
   "outputs": [],
   "source": [
    "df['month'] = df['visit_date'].dt.month"
   ]
  },
  {
   "cell_type": "code",
   "execution_count": 11,
   "metadata": {},
   "outputs": [],
   "source": [
    "df['quarter'] = df['visit_date'].dt.quarter"
   ]
  },
  {
   "cell_type": "code",
   "execution_count": null,
   "metadata": {},
   "outputs": [],
   "source": []
  },
  {
   "cell_type": "code",
   "execution_count": 12,
   "metadata": {},
   "outputs": [],
   "source": [
    "# Set up data \n",
    "date_col = df['visit_date']\n",
    "df.drop('visit_date',axis=1,inplace=True)\n",
    "df.drop('calendar_date',axis=1,inplace=True)\n",
    "df = denote_null_values(df)"
   ]
  },
  {
   "cell_type": "code",
   "execution_count": 35,
   "metadata": {},
   "outputs": [
    {
     "data": {
      "text/html": [
       "<div>\n",
       "<style scoped>\n",
       "    .dataframe tbody tr th:only-of-type {\n",
       "        vertical-align: middle;\n",
       "    }\n",
       "\n",
       "    .dataframe tbody tr th {\n",
       "        vertical-align: top;\n",
       "    }\n",
       "\n",
       "    .dataframe thead th {\n",
       "        text-align: right;\n",
       "    }\n",
       "</style>\n",
       "<table border=\"1\" class=\"dataframe\">\n",
       "  <thead>\n",
       "    <tr style=\"text-align: right;\">\n",
       "      <th></th>\n",
       "      <th>id</th>\n",
       "      <th>visitors</th>\n",
       "      <th>day_of_week</th>\n",
       "      <th>holiday</th>\n",
       "      <th>genre</th>\n",
       "      <th>area</th>\n",
       "      <th>latitude</th>\n",
       "      <th>longitude</th>\n",
       "      <th>reserve_visitors</th>\n",
       "      <th>visitors_yesterday</th>\n",
       "      <th>visitors_last_week</th>\n",
       "      <th>visitors_7_day_ma</th>\n",
       "      <th>month</th>\n",
       "      <th>quarter</th>\n",
       "      <th>reserve_visitors_missing</th>\n",
       "      <th>visitors_yesterday_missing</th>\n",
       "      <th>visitors_last_week_missing</th>\n",
       "      <th>visitors_7_day_ma_missing</th>\n",
       "    </tr>\n",
       "  </thead>\n",
       "  <tbody>\n",
       "    <tr>\n",
       "      <th>166836</th>\n",
       "      <td>air_00a91d42b08b08d9</td>\n",
       "      <td>35</td>\n",
       "      <td>Friday</td>\n",
       "      <td>0</td>\n",
       "      <td>Italian/French</td>\n",
       "      <td>Tōkyō-to Chiyoda-ku Kudanminami</td>\n",
       "      <td>35.694003</td>\n",
       "      <td>139.753595</td>\n",
       "      <td>0.0</td>\n",
       "      <td>35.0</td>\n",
       "      <td>35.0</td>\n",
       "      <td>27.714286</td>\n",
       "      <td>7</td>\n",
       "      <td>3</td>\n",
       "      <td>True</td>\n",
       "      <td>True</td>\n",
       "      <td>True</td>\n",
       "      <td>True</td>\n",
       "    </tr>\n",
       "    <tr>\n",
       "      <th>166837</th>\n",
       "      <td>air_00a91d42b08b08d9</td>\n",
       "      <td>9</td>\n",
       "      <td>Saturday</td>\n",
       "      <td>0</td>\n",
       "      <td>Italian/French</td>\n",
       "      <td>Tōkyō-to Chiyoda-ku Kudanminami</td>\n",
       "      <td>35.694003</td>\n",
       "      <td>139.753595</td>\n",
       "      <td>4.0</td>\n",
       "      <td>35.0</td>\n",
       "      <td>35.0</td>\n",
       "      <td>27.714286</td>\n",
       "      <td>7</td>\n",
       "      <td>3</td>\n",
       "      <td>False</td>\n",
       "      <td>False</td>\n",
       "      <td>True</td>\n",
       "      <td>True</td>\n",
       "    </tr>\n",
       "    <tr>\n",
       "      <th>166838</th>\n",
       "      <td>air_00a91d42b08b08d9</td>\n",
       "      <td>20</td>\n",
       "      <td>Monday</td>\n",
       "      <td>0</td>\n",
       "      <td>Italian/French</td>\n",
       "      <td>Tōkyō-to Chiyoda-ku Kudanminami</td>\n",
       "      <td>35.694003</td>\n",
       "      <td>139.753595</td>\n",
       "      <td>0.0</td>\n",
       "      <td>9.0</td>\n",
       "      <td>35.0</td>\n",
       "      <td>27.714286</td>\n",
       "      <td>7</td>\n",
       "      <td>3</td>\n",
       "      <td>True</td>\n",
       "      <td>False</td>\n",
       "      <td>True</td>\n",
       "      <td>True</td>\n",
       "    </tr>\n",
       "    <tr>\n",
       "      <th>166839</th>\n",
       "      <td>air_00a91d42b08b08d9</td>\n",
       "      <td>25</td>\n",
       "      <td>Tuesday</td>\n",
       "      <td>0</td>\n",
       "      <td>Italian/French</td>\n",
       "      <td>Tōkyō-to Chiyoda-ku Kudanminami</td>\n",
       "      <td>35.694003</td>\n",
       "      <td>139.753595</td>\n",
       "      <td>0.0</td>\n",
       "      <td>20.0</td>\n",
       "      <td>35.0</td>\n",
       "      <td>27.714286</td>\n",
       "      <td>7</td>\n",
       "      <td>3</td>\n",
       "      <td>True</td>\n",
       "      <td>False</td>\n",
       "      <td>True</td>\n",
       "      <td>True</td>\n",
       "    </tr>\n",
       "    <tr>\n",
       "      <th>166840</th>\n",
       "      <td>air_00a91d42b08b08d9</td>\n",
       "      <td>29</td>\n",
       "      <td>Wednesday</td>\n",
       "      <td>0</td>\n",
       "      <td>Italian/French</td>\n",
       "      <td>Tōkyō-to Chiyoda-ku Kudanminami</td>\n",
       "      <td>35.694003</td>\n",
       "      <td>139.753595</td>\n",
       "      <td>0.0</td>\n",
       "      <td>25.0</td>\n",
       "      <td>35.0</td>\n",
       "      <td>27.714286</td>\n",
       "      <td>7</td>\n",
       "      <td>3</td>\n",
       "      <td>True</td>\n",
       "      <td>False</td>\n",
       "      <td>True</td>\n",
       "      <td>True</td>\n",
       "    </tr>\n",
       "  </tbody>\n",
       "</table>\n",
       "</div>"
      ],
      "text/plain": [
       "                          id  visitors day_of_week  holiday           genre  \\\n",
       "166836  air_00a91d42b08b08d9        35      Friday        0  Italian/French   \n",
       "166837  air_00a91d42b08b08d9         9    Saturday        0  Italian/French   \n",
       "166838  air_00a91d42b08b08d9        20      Monday        0  Italian/French   \n",
       "166839  air_00a91d42b08b08d9        25     Tuesday        0  Italian/French   \n",
       "166840  air_00a91d42b08b08d9        29   Wednesday        0  Italian/French   \n",
       "\n",
       "                                   area   latitude   longitude  \\\n",
       "166836  Tōkyō-to Chiyoda-ku Kudanminami  35.694003  139.753595   \n",
       "166837  Tōkyō-to Chiyoda-ku Kudanminami  35.694003  139.753595   \n",
       "166838  Tōkyō-to Chiyoda-ku Kudanminami  35.694003  139.753595   \n",
       "166839  Tōkyō-to Chiyoda-ku Kudanminami  35.694003  139.753595   \n",
       "166840  Tōkyō-to Chiyoda-ku Kudanminami  35.694003  139.753595   \n",
       "\n",
       "        reserve_visitors  visitors_yesterday  visitors_last_week  \\\n",
       "166836               0.0                35.0                35.0   \n",
       "166837               4.0                35.0                35.0   \n",
       "166838               0.0                 9.0                35.0   \n",
       "166839               0.0                20.0                35.0   \n",
       "166840               0.0                25.0                35.0   \n",
       "\n",
       "        visitors_7_day_ma  month  quarter  reserve_visitors_missing  \\\n",
       "166836          27.714286      7        3                      True   \n",
       "166837          27.714286      7        3                     False   \n",
       "166838          27.714286      7        3                      True   \n",
       "166839          27.714286      7        3                      True   \n",
       "166840          27.714286      7        3                      True   \n",
       "\n",
       "        visitors_yesterday_missing  visitors_last_week_missing  \\\n",
       "166836                        True                        True   \n",
       "166837                       False                        True   \n",
       "166838                       False                        True   \n",
       "166839                       False                        True   \n",
       "166840                       False                        True   \n",
       "\n",
       "        visitors_7_day_ma_missing  \n",
       "166836                       True  \n",
       "166837                       True  \n",
       "166838                       True  \n",
       "166839                       True  \n",
       "166840                       True  "
      ]
     },
     "execution_count": 35,
     "metadata": {},
     "output_type": "execute_result"
    }
   ],
   "source": [
    "df.head()"
   ]
  },
  {
   "cell_type": "code",
   "execution_count": 13,
   "metadata": {},
   "outputs": [],
   "source": [
    "df['reserve_visitors'] = df['reserve_visitors'].fillna(0)"
   ]
  },
  {
   "cell_type": "code",
   "execution_count": 14,
   "metadata": {},
   "outputs": [],
   "source": [
    "df['visitors_yesterday'] = df['visitors_yesterday'].bfill()\n",
    "df['visitors_last_week'] = df['visitors_last_week'].bfill()\n",
    "df['visitors_7_day_ma'] = df['visitors_7_day_ma'].bfill()"
   ]
  },
  {
   "cell_type": "code",
   "execution_count": 25,
   "metadata": {},
   "outputs": [],
   "source": [
    "ordinal_encoder = ce.OrdinalEncoder(cols='day_of_week')\n",
    "target_encoder = ce.TargetEncoder()\n",
    "gbm = GradientBoostingRegressor()\n",
    "\n",
    "pipe = make_pipeline(ordinal_encoder, target_encoder, gbm)\n",
    "pipe.verbose = True"
   ]
  },
  {
   "cell_type": "code",
   "execution_count": 26,
   "metadata": {},
   "outputs": [
    {
     "data": {
      "text/plain": [
       "Pipeline(steps=[('ordinalencoder', OrdinalEncoder(cols='day_of_week')),\n",
       "                ('targetencoder', TargetEncoder()),\n",
       "                ('gradientboostingregressor', GradientBoostingRegressor())],\n",
       "         verbose=True)"
      ]
     },
     "execution_count": 26,
     "metadata": {},
     "output_type": "execute_result"
    }
   ],
   "source": [
    "pipe\n"
   ]
  },
  {
   "cell_type": "code",
   "execution_count": null,
   "metadata": {},
   "outputs": [],
   "source": [
    "# Set up training, validation, and test data sets"
   ]
  },
  {
   "cell_type": "code",
   "execution_count": 35,
   "metadata": {},
   "outputs": [],
   "source": [
    "train, val, test = create_val_splits(df,return_val = True)"
   ]
  },
  {
   "cell_type": "code",
   "execution_count": 36,
   "metadata": {},
   "outputs": [],
   "source": [
    "X_train, X_val, X_test = (\n",
    "    train.drop('visitors',axis=1)\n",
    "    ,val.drop('visitors',axis=1)\n",
    "    ,test.drop('visitors',axis=1)\n",
    "    )\n",
    "y_train, y_val, y_test = (\n",
    "    train['visitors'],val['visitors'], test['visitors'])"
   ]
  },
  {
   "cell_type": "code",
   "execution_count": 29,
   "metadata": {},
   "outputs": [
    {
     "name": "stdout",
     "output_type": "stream",
     "text": [
      "[Pipeline] .... (step 1 of 3) Processing ordinalencoder, total=   0.1s\n"
     ]
    },
    {
     "name": "stderr",
     "output_type": "stream",
     "text": [
      "/usr/local/anaconda3/lib/python3.8/site-packages/category_encoders/utils.py:21: FutureWarning: is_categorical is deprecated and will be removed in a future version.  Use is_categorical_dtype instead\n",
      "  elif pd.api.types.is_categorical(cols):\n"
     ]
    },
    {
     "name": "stdout",
     "output_type": "stream",
     "text": [
      "[Pipeline] ..... (step 2 of 3) Processing targetencoder, total=   0.3s\n",
      "[Pipeline]  (step 3 of 3) Processing gradientboostingregressor, total=  27.2s\n"
     ]
    },
    {
     "data": {
      "text/plain": [
       "Pipeline(steps=[('ordinalencoder',\n",
       "                 OrdinalEncoder(cols=['day_of_week'],\n",
       "                                mapping=[{'col': 'day_of_week',\n",
       "                                          'data_type': dtype('O'),\n",
       "                                          'mapping': Friday       1\n",
       "Saturday     2\n",
       "Monday       3\n",
       "Tuesday      4\n",
       "Wednesday    5\n",
       "Thursday     6\n",
       "Sunday       7\n",
       "NaN         -2\n",
       "dtype: int64}])),\n",
       "                ('targetencoder', TargetEncoder(cols=['id', 'genre', 'area'])),\n",
       "                ('gradientboostingregressor', GradientBoostingRegressor())],\n",
       "         verbose=True)"
      ]
     },
     "execution_count": 29,
     "metadata": {},
     "output_type": "execute_result"
    }
   ],
   "source": [
    "pipe.fit(X_train, y_train)"
   ]
  },
  {
   "cell_type": "code",
   "execution_count": 30,
   "metadata": {},
   "outputs": [
    {
     "data": {
      "text/plain": [
       "0.6046829140012382"
      ]
     },
     "execution_count": 30,
     "metadata": {},
     "output_type": "execute_result"
    }
   ],
   "source": [
    "pipe.score(X_val, y_val)"
   ]
  },
  {
   "cell_type": "code",
   "execution_count": 31,
   "metadata": {},
   "outputs": [],
   "source": [
    "grouping = df.groupby('id').apply(lambda x: x['reserve_visitors'].rolling(7).mean())\n",
    "df['reservations_7_day_ma'] = grouping.values"
   ]
  },
  {
   "cell_type": "code",
   "execution_count": 32,
   "metadata": {},
   "outputs": [],
   "source": [
    "grouping = df.groupby('id').apply(lambda x: x['reserve_visitors'].shift())\n",
    "df['reservations_yesterday'] = grouping.values"
   ]
  },
  {
   "cell_type": "code",
   "execution_count": 33,
   "metadata": {},
   "outputs": [],
   "source": [
    "# Address null values in new reservation variables\n",
    "df = denote_null_values(df)\n",
    "df['reservations_7_day_ma'] = df['reservations_7_day_ma'].bfill()\n",
    "df['reservations_yesterday'] = df['reservations_yesterday'].bfill()"
   ]
  },
  {
   "cell_type": "code",
   "execution_count": 50,
   "metadata": {},
   "outputs": [
    {
     "data": {
      "text/html": [
       "<div>\n",
       "<style scoped>\n",
       "    .dataframe tbody tr th:only-of-type {\n",
       "        vertical-align: middle;\n",
       "    }\n",
       "\n",
       "    .dataframe tbody tr th {\n",
       "        vertical-align: top;\n",
       "    }\n",
       "\n",
       "    .dataframe thead th {\n",
       "        text-align: right;\n",
       "    }\n",
       "</style>\n",
       "<table border=\"1\" class=\"dataframe\">\n",
       "  <thead>\n",
       "    <tr style=\"text-align: right;\">\n",
       "      <th></th>\n",
       "      <th>id</th>\n",
       "      <th>visitors</th>\n",
       "      <th>day_of_week</th>\n",
       "      <th>holiday</th>\n",
       "      <th>genre</th>\n",
       "      <th>area</th>\n",
       "      <th>latitude</th>\n",
       "      <th>longitude</th>\n",
       "      <th>reserve_visitors</th>\n",
       "      <th>visitors_yesterday</th>\n",
       "      <th>...</th>\n",
       "      <th>month</th>\n",
       "      <th>quarter</th>\n",
       "      <th>reserve_visitors_missing</th>\n",
       "      <th>visitors_yesterday_missing</th>\n",
       "      <th>visitors_last_week_missing</th>\n",
       "      <th>visitors_7_day_ma_missing</th>\n",
       "      <th>reservations_7_day_ma</th>\n",
       "      <th>reservations_yesterday</th>\n",
       "      <th>reservations_7_day_ma_missing</th>\n",
       "      <th>reservations_yesterday_missing</th>\n",
       "    </tr>\n",
       "  </thead>\n",
       "  <tbody>\n",
       "    <tr>\n",
       "      <th>166836</th>\n",
       "      <td>air_00a91d42b08b08d9</td>\n",
       "      <td>35</td>\n",
       "      <td>Friday</td>\n",
       "      <td>0</td>\n",
       "      <td>Italian/French</td>\n",
       "      <td>Tōkyō-to Chiyoda-ku Kudanminami</td>\n",
       "      <td>35.694003</td>\n",
       "      <td>139.753595</td>\n",
       "      <td>0.0</td>\n",
       "      <td>35.0</td>\n",
       "      <td>...</td>\n",
       "      <td>7</td>\n",
       "      <td>3</td>\n",
       "      <td>True</td>\n",
       "      <td>True</td>\n",
       "      <td>True</td>\n",
       "      <td>True</td>\n",
       "      <td>0.571429</td>\n",
       "      <td>0.0</td>\n",
       "      <td>True</td>\n",
       "      <td>True</td>\n",
       "    </tr>\n",
       "    <tr>\n",
       "      <th>166837</th>\n",
       "      <td>air_00a91d42b08b08d9</td>\n",
       "      <td>9</td>\n",
       "      <td>Saturday</td>\n",
       "      <td>0</td>\n",
       "      <td>Italian/French</td>\n",
       "      <td>Tōkyō-to Chiyoda-ku Kudanminami</td>\n",
       "      <td>35.694003</td>\n",
       "      <td>139.753595</td>\n",
       "      <td>4.0</td>\n",
       "      <td>35.0</td>\n",
       "      <td>...</td>\n",
       "      <td>7</td>\n",
       "      <td>3</td>\n",
       "      <td>False</td>\n",
       "      <td>False</td>\n",
       "      <td>True</td>\n",
       "      <td>True</td>\n",
       "      <td>0.571429</td>\n",
       "      <td>0.0</td>\n",
       "      <td>True</td>\n",
       "      <td>False</td>\n",
       "    </tr>\n",
       "    <tr>\n",
       "      <th>166838</th>\n",
       "      <td>air_00a91d42b08b08d9</td>\n",
       "      <td>20</td>\n",
       "      <td>Monday</td>\n",
       "      <td>0</td>\n",
       "      <td>Italian/French</td>\n",
       "      <td>Tōkyō-to Chiyoda-ku Kudanminami</td>\n",
       "      <td>35.694003</td>\n",
       "      <td>139.753595</td>\n",
       "      <td>0.0</td>\n",
       "      <td>9.0</td>\n",
       "      <td>...</td>\n",
       "      <td>7</td>\n",
       "      <td>3</td>\n",
       "      <td>True</td>\n",
       "      <td>False</td>\n",
       "      <td>True</td>\n",
       "      <td>True</td>\n",
       "      <td>0.571429</td>\n",
       "      <td>4.0</td>\n",
       "      <td>True</td>\n",
       "      <td>False</td>\n",
       "    </tr>\n",
       "    <tr>\n",
       "      <th>166839</th>\n",
       "      <td>air_00a91d42b08b08d9</td>\n",
       "      <td>25</td>\n",
       "      <td>Tuesday</td>\n",
       "      <td>0</td>\n",
       "      <td>Italian/French</td>\n",
       "      <td>Tōkyō-to Chiyoda-ku Kudanminami</td>\n",
       "      <td>35.694003</td>\n",
       "      <td>139.753595</td>\n",
       "      <td>0.0</td>\n",
       "      <td>20.0</td>\n",
       "      <td>...</td>\n",
       "      <td>7</td>\n",
       "      <td>3</td>\n",
       "      <td>True</td>\n",
       "      <td>False</td>\n",
       "      <td>True</td>\n",
       "      <td>True</td>\n",
       "      <td>0.571429</td>\n",
       "      <td>0.0</td>\n",
       "      <td>True</td>\n",
       "      <td>False</td>\n",
       "    </tr>\n",
       "    <tr>\n",
       "      <th>166840</th>\n",
       "      <td>air_00a91d42b08b08d9</td>\n",
       "      <td>29</td>\n",
       "      <td>Wednesday</td>\n",
       "      <td>0</td>\n",
       "      <td>Italian/French</td>\n",
       "      <td>Tōkyō-to Chiyoda-ku Kudanminami</td>\n",
       "      <td>35.694003</td>\n",
       "      <td>139.753595</td>\n",
       "      <td>0.0</td>\n",
       "      <td>25.0</td>\n",
       "      <td>...</td>\n",
       "      <td>7</td>\n",
       "      <td>3</td>\n",
       "      <td>True</td>\n",
       "      <td>False</td>\n",
       "      <td>True</td>\n",
       "      <td>True</td>\n",
       "      <td>0.571429</td>\n",
       "      <td>0.0</td>\n",
       "      <td>True</td>\n",
       "      <td>False</td>\n",
       "    </tr>\n",
       "  </tbody>\n",
       "</table>\n",
       "<p>5 rows × 22 columns</p>\n",
       "</div>"
      ],
      "text/plain": [
       "                          id  visitors day_of_week  holiday           genre  \\\n",
       "166836  air_00a91d42b08b08d9        35      Friday        0  Italian/French   \n",
       "166837  air_00a91d42b08b08d9         9    Saturday        0  Italian/French   \n",
       "166838  air_00a91d42b08b08d9        20      Monday        0  Italian/French   \n",
       "166839  air_00a91d42b08b08d9        25     Tuesday        0  Italian/French   \n",
       "166840  air_00a91d42b08b08d9        29   Wednesday        0  Italian/French   \n",
       "\n",
       "                                   area   latitude   longitude  \\\n",
       "166836  Tōkyō-to Chiyoda-ku Kudanminami  35.694003  139.753595   \n",
       "166837  Tōkyō-to Chiyoda-ku Kudanminami  35.694003  139.753595   \n",
       "166838  Tōkyō-to Chiyoda-ku Kudanminami  35.694003  139.753595   \n",
       "166839  Tōkyō-to Chiyoda-ku Kudanminami  35.694003  139.753595   \n",
       "166840  Tōkyō-to Chiyoda-ku Kudanminami  35.694003  139.753595   \n",
       "\n",
       "        reserve_visitors  visitors_yesterday  ...  month  quarter  \\\n",
       "166836               0.0                35.0  ...      7        3   \n",
       "166837               4.0                35.0  ...      7        3   \n",
       "166838               0.0                 9.0  ...      7        3   \n",
       "166839               0.0                20.0  ...      7        3   \n",
       "166840               0.0                25.0  ...      7        3   \n",
       "\n",
       "        reserve_visitors_missing  visitors_yesterday_missing  \\\n",
       "166836                      True                        True   \n",
       "166837                     False                       False   \n",
       "166838                      True                       False   \n",
       "166839                      True                       False   \n",
       "166840                      True                       False   \n",
       "\n",
       "        visitors_last_week_missing  visitors_7_day_ma_missing  \\\n",
       "166836                        True                       True   \n",
       "166837                        True                       True   \n",
       "166838                        True                       True   \n",
       "166839                        True                       True   \n",
       "166840                        True                       True   \n",
       "\n",
       "        reservations_7_day_ma  reservations_yesterday  \\\n",
       "166836               0.571429                     0.0   \n",
       "166837               0.571429                     0.0   \n",
       "166838               0.571429                     4.0   \n",
       "166839               0.571429                     0.0   \n",
       "166840               0.571429                     0.0   \n",
       "\n",
       "        reservations_7_day_ma_missing  reservations_yesterday_missing  \n",
       "166836                           True                            True  \n",
       "166837                           True                           False  \n",
       "166838                           True                           False  \n",
       "166839                           True                           False  \n",
       "166840                           True                           False  \n",
       "\n",
       "[5 rows x 22 columns]"
      ]
     },
     "execution_count": 50,
     "metadata": {},
     "output_type": "execute_result"
    }
   ],
   "source": [
    "df.head()"
   ]
  },
  {
   "cell_type": "code",
   "execution_count": 38,
   "metadata": {},
   "outputs": [],
   "source": [
    "pipe1 = make_pipeline(ordinal_encoder, target_encoder, gbm)\n",
    "pipe1.verbose = True"
   ]
  },
  {
   "cell_type": "code",
   "execution_count": 39,
   "metadata": {},
   "outputs": [
    {
     "name": "stderr",
     "output_type": "stream",
     "text": [
      "/usr/local/anaconda3/lib/python3.8/site-packages/category_encoders/utils.py:21: FutureWarning: is_categorical is deprecated and will be removed in a future version.  Use is_categorical_dtype instead\n",
      "  elif pd.api.types.is_categorical(cols):\n"
     ]
    },
    {
     "name": "stdout",
     "output_type": "stream",
     "text": [
      "[Pipeline] .... (step 1 of 3) Processing ordinalencoder, total=   0.1s\n",
      "[Pipeline] ..... (step 2 of 3) Processing targetencoder, total=   0.3s\n",
      "[Pipeline]  (step 3 of 3) Processing gradientboostingregressor, total=  32.6s\n"
     ]
    },
    {
     "data": {
      "text/plain": [
       "Pipeline(steps=[('ordinalencoder',\n",
       "                 OrdinalEncoder(cols=['day_of_week'],\n",
       "                                mapping=[{'col': 'day_of_week',\n",
       "                                          'data_type': dtype('O'),\n",
       "                                          'mapping': Friday       1\n",
       "Saturday     2\n",
       "Monday       3\n",
       "Tuesday      4\n",
       "Wednesday    5\n",
       "Thursday     6\n",
       "Sunday       7\n",
       "NaN         -2\n",
       "dtype: int64}])),\n",
       "                ('targetencoder', TargetEncoder(cols=['id', 'genre', 'area'])),\n",
       "                ('gradientboostingregressor', GradientBoostingRegressor())],\n",
       "         verbose=True)"
      ]
     },
     "execution_count": 39,
     "metadata": {},
     "output_type": "execute_result"
    }
   ],
   "source": [
    "pipe1.fit(X_train,y_train)"
   ]
  },
  {
   "cell_type": "code",
   "execution_count": 40,
   "metadata": {},
   "outputs": [
    {
     "data": {
      "text/plain": [
       "0.6119449313777545"
      ]
     },
     "execution_count": 40,
     "metadata": {},
     "output_type": "execute_result"
    }
   ],
   "source": [
    "pipe1.score(X_val, y_val)"
   ]
  },
  {
   "cell_type": "code",
   "execution_count": null,
   "metadata": {},
   "outputs": [],
   "source": [
    "# The score uplift by adding the reservation values was : 0.612 vs 0.605; so not meaningful"
   ]
  },
  {
   "cell_type": "code",
   "execution_count": null,
   "metadata": {},
   "outputs": [],
   "source": []
  },
  {
   "cell_type": "code",
   "execution_count": null,
   "metadata": {},
   "outputs": [],
   "source": []
  },
  {
   "cell_type": "markdown",
   "metadata": {},
   "source": [
    "**Step 2:** Try and reduce overfitting in your model, if it's persistent.  Ideally, you want your in-sample and out-of-sample scores to be about the same, or at least increasing or decreasing in proportional amounts.  \n",
    "\n",
    "The idea here is two-fold:  see if you can narrow the gap between in-sample and out-of-sample results (using training & validation sets), while simultaneously **not** decreasing your model scores (or at least not by very much).  The idea being that the closer these two are, the more reliable your results are likely to be.\n",
    "\n",
    "Some knobs you can turn:\n",
    " - `min_samples_leaf`: parameter in the category encoder that determines what cutoff point you can use for using the local vs. global average for the category\n",
    " - `subsample`: parameter in gbm that determines what fraction of your dataset to use at each boosting round.  This both reduces training time and makes each fitting round less related to the other\n",
    " - `max_features`: what portion of columns to use at each split.  This is very similar in purpose to `subsample`, but randomizes data at each split, vs. each round."
   ]
  },
  {
   "cell_type": "code",
   "execution_count": null,
   "metadata": {},
   "outputs": [],
   "source": [
    "# your code here"
   ]
  },
  {
   "cell_type": "code",
   "execution_count": 41,
   "metadata": {},
   "outputs": [
    {
     "data": {
      "text/plain": [
       "(0.614479215896371, 0.6119449313777545, 0.5853980331843698)"
      ]
     },
     "execution_count": 41,
     "metadata": {},
     "output_type": "execute_result"
    }
   ],
   "source": [
    "pipe1.score(X_train, y_train), pipe1.score(X_val,y_val), pipe1.score(X_test, y_test)\n",
    "\n",
    "# Very similar values across all setse so probably not over fitting"
   ]
  },
  {
   "cell_type": "code",
   "execution_count": null,
   "metadata": {},
   "outputs": [],
   "source": []
  },
  {
   "cell_type": "code",
   "execution_count": null,
   "metadata": {},
   "outputs": [],
   "source": []
  },
  {
   "cell_type": "code",
   "execution_count": null,
   "metadata": {},
   "outputs": [],
   "source": []
  },
  {
   "cell_type": "code",
   "execution_count": null,
   "metadata": {},
   "outputs": [],
   "source": []
  },
  {
   "cell_type": "code",
   "execution_count": null,
   "metadata": {},
   "outputs": [],
   "source": []
  },
  {
   "cell_type": "markdown",
   "metadata": {},
   "source": [
    "**Step 3:** Using the results that gave you the best answer from above, try now to find model parameters that maximize information extraction.  The three main ones are:\n",
    "\n",
    " - `n_estimators`:  how many boosting rounds to use\n",
    " - `learning_rate`: how much shrinkage to use at each update (keep this from .05 to .2)\n",
    " - `max_depth`: how deep each tree in your model goes\n",
    " \n",
    " **important:** fitting these things could take a looooong time.  We don't have all night.  So don't try and make this exhaustive, just try doing a little bit of parameter exploration to see if you can see in what directions to push model parameters to improve your results.  \n",
    " \n",
    " Note your validation score before proceeding to the next step."
   ]
  },
  {
   "cell_type": "code",
   "execution_count": null,
   "metadata": {},
   "outputs": [],
   "source": [
    "# your code here"
   ]
  },
  {
   "cell_type": "code",
   "execution_count": 43,
   "metadata": {},
   "outputs": [],
   "source": [
    "?GradientBoostingRegressor"
   ]
  },
  {
   "cell_type": "code",
   "execution_count": 46,
   "metadata": {},
   "outputs": [
    {
     "name": "stderr",
     "output_type": "stream",
     "text": [
      "/usr/local/anaconda3/lib/python3.8/site-packages/category_encoders/utils.py:21: FutureWarning: is_categorical is deprecated and will be removed in a future version.  Use is_categorical_dtype instead\n",
      "  elif pd.api.types.is_categorical(cols):\n"
     ]
    },
    {
     "data": {
      "text/plain": [
       "0.6256446375526998"
      ]
     },
     "execution_count": 46,
     "metadata": {},
     "output_type": "execute_result"
    }
   ],
   "source": [
    "ordinal_encoder = ce.OrdinalEncoder(cols='day_of_week')\n",
    "target_encoder = ce.TargetEncoder()\n",
    "gbm = GradientBoostingRegressor(n_estimators=200, learning_rate=0.2, max_depth=5)\n",
    "\n",
    "pipe2 = make_pipeline(ordinal_encoder, target_encoder, gbm)\n",
    "pipe2.fit(X_train, y_train)\n",
    "pipe2.score(X_val, y_val)\n"
   ]
  },
  {
   "cell_type": "code",
   "execution_count": 47,
   "metadata": {},
   "outputs": [
    {
     "name": "stderr",
     "output_type": "stream",
     "text": [
      "/usr/local/anaconda3/lib/python3.8/site-packages/category_encoders/utils.py:21: FutureWarning: is_categorical is deprecated and will be removed in a future version.  Use is_categorical_dtype instead\n",
      "  elif pd.api.types.is_categorical(cols):\n"
     ]
    },
    {
     "data": {
      "text/plain": [
       "0.633447066739966"
      ]
     },
     "execution_count": 47,
     "metadata": {},
     "output_type": "execute_result"
    }
   ],
   "source": [
    "ordinal_encoder = ce.OrdinalEncoder(cols='day_of_week')\n",
    "target_encoder = ce.TargetEncoder()\n",
    "gbm = GradientBoostingRegressor(\n",
    "    n_estimators=400, \n",
    "    learning_rate=0.08, \n",
    "    max_depth=4, \n",
    "    min_samples_leaf=10)\n",
    "\n",
    "pipe3 = make_pipeline(ordinal_encoder, target_encoder, gbm)\n",
    "pipe3.fit(X_train, y_train)\n",
    "pipe3.score(X_val, y_val)"
   ]
  },
  {
   "cell_type": "code",
   "execution_count": 53,
   "metadata": {},
   "outputs": [
    {
     "name": "stdout",
     "output_type": "stream",
     "text": [
      "Using 400 trees / learning rate 0.08, depth of 4, and min samples per leave of 10 gives:\n",
      "Training: 0.6461142741765327;\tValadation 0.633447066739966;\tTesting: 0.6506914614590198\n"
     ]
    }
   ],
   "source": [
    "score_train = pipe3.score(X_train, y_train) \n",
    "score_val = pipe3.score(X_val, y_val) \n",
    "score_test = pipe3.score(X_test, y_test) \n",
    "\n",
    "print(f\"Using 400 trees / learning rate 0.08, depth of 4, and min samples per leave of 10 gives:\")\n",
    "print(f\"Training: {score_train};\\tValadation {score_val};\\tTesting: {score_test}\")\n"
   ]
  },
  {
   "cell_type": "code",
   "execution_count": 58,
   "metadata": {},
   "outputs": [
    {
     "name": "stderr",
     "output_type": "stream",
     "text": [
      "/usr/local/anaconda3/lib/python3.8/site-packages/category_encoders/utils.py:21: FutureWarning: is_categorical is deprecated and will be removed in a future version.  Use is_categorical_dtype instead\n",
      "  elif pd.api.types.is_categorical(cols):\n"
     ]
    },
    {
     "data": {
      "text/plain": [
       "0.6300630851425253"
      ]
     },
     "execution_count": 58,
     "metadata": {},
     "output_type": "execute_result"
    }
   ],
   "source": [
    "ordinal_encoder = ce.OrdinalEncoder(cols='day_of_week')\n",
    "target_encoder = ce.TargetEncoder()\n",
    "gbm = GradientBoostingRegressor(\n",
    "    n_estimators=300, \n",
    "    learning_rate=0.1, \n",
    "    max_depth=6, \n",
    "    min_samples_leaf=10)\n",
    "\n",
    "pipe4 = make_pipeline(ordinal_encoder, target_encoder, gbm)\n",
    "pipe4.fit(X_train, y_train)\n",
    "pipe4.score(X_val, y_val)\n",
    "\n"
   ]
  },
  {
   "cell_type": "code",
   "execution_count": 57,
   "metadata": {},
   "outputs": [
    {
     "name": "stdout",
     "output_type": "stream",
     "text": [
      "Using 600 trees / learning rate 0.05, depth of 3, and min samples per leave of 20 gives:\n",
      "Training: 0.6169707994240498;\tValadation 0.6292984105382688;\tTesting: 0.6344626266204751\n"
     ]
    }
   ],
   "source": [
    "score_train = pipe4.score(X_train, y_train) \n",
    "score_val = pipe4.score(X_val, y_val) \n",
    "score_test = pipe4.score(X_test, y_test) \n",
    "\n",
    "print(f\"Using 300 trees / learning rate 0.2, depth of 6, and min samples per leave of 10 gives:\")\n",
    "print(f\"Training: {score_train};\\tValadation {score_val};\\tTesting: {score_test}\")\n"
   ]
  },
  {
   "cell_type": "markdown",
   "metadata": {},
   "source": [
    "**Step 4:** Take the best version of your model & your data, and fit it on **all** of your training + validation data.  The idea is that now that we've found the best version of what we have to work with, we want to give it as much training samples as possible.  "
   ]
  },
  {
   "cell_type": "code",
   "execution_count": null,
   "metadata": {},
   "outputs": [],
   "source": [
    "# your code here"
   ]
  },
  {
   "cell_type": "code",
   "execution_count": null,
   "metadata": {},
   "outputs": [],
   "source": []
  },
  {
   "cell_type": "code",
   "execution_count": null,
   "metadata": {},
   "outputs": [],
   "source": [
    "ordinal_encoder = ce.OrdinalEncoder(cols='day_of_week')\n",
    "target_encoder = ce.TargetEncoder()\n",
    "gbm = GradientBoostingRegressor(\n",
    "    n_estimators=400, \n",
    "    learning_rate=0.08, \n",
    "    max_depth=4, \n",
    "    min_samples_leaf=10)\n",
    "\n",
    "pipe3 = make_pipeline(ordinal_encoder, target_encoder, gbm)\n",
    "pipe3.fit(X_train, y_train)\n",
    "pipe3.score(X_val, y_val)"
   ]
  },
  {
   "cell_type": "code",
   "execution_count": null,
   "metadata": {},
   "outputs": [],
   "source": []
  },
  {
   "cell_type": "code",
   "execution_count": null,
   "metadata": {},
   "outputs": [],
   "source": []
  },
  {
   "cell_type": "markdown",
   "metadata": {},
   "source": [
    "**Step 5:** Score your model on your test set.\n",
    "\n",
    "Note how your validation + test scores compared to one another."
   ]
  },
  {
   "cell_type": "code",
   "execution_count": null,
   "metadata": {},
   "outputs": [],
   "source": [
    "# your code here"
   ]
  },
  {
   "cell_type": "code",
   "execution_count": 60,
   "metadata": {},
   "outputs": [],
   "source": [
    "train_final, test_final = create_val_splits(df,return_val = False)"
   ]
  },
  {
   "cell_type": "code",
   "execution_count": 61,
   "metadata": {},
   "outputs": [
    {
     "data": {
      "text/html": [
       "<div>\n",
       "<style scoped>\n",
       "    .dataframe tbody tr th:only-of-type {\n",
       "        vertical-align: middle;\n",
       "    }\n",
       "\n",
       "    .dataframe tbody tr th {\n",
       "        vertical-align: top;\n",
       "    }\n",
       "\n",
       "    .dataframe thead th {\n",
       "        text-align: right;\n",
       "    }\n",
       "</style>\n",
       "<table border=\"1\" class=\"dataframe\">\n",
       "  <thead>\n",
       "    <tr style=\"text-align: right;\">\n",
       "      <th></th>\n",
       "      <th>id</th>\n",
       "      <th>visitors</th>\n",
       "      <th>day_of_week</th>\n",
       "      <th>holiday</th>\n",
       "      <th>genre</th>\n",
       "      <th>area</th>\n",
       "      <th>latitude</th>\n",
       "      <th>longitude</th>\n",
       "      <th>reserve_visitors</th>\n",
       "      <th>visitors_yesterday</th>\n",
       "      <th>...</th>\n",
       "      <th>month</th>\n",
       "      <th>quarter</th>\n",
       "      <th>reserve_visitors_missing</th>\n",
       "      <th>visitors_yesterday_missing</th>\n",
       "      <th>visitors_last_week_missing</th>\n",
       "      <th>visitors_7_day_ma_missing</th>\n",
       "      <th>reservations_7_day_ma</th>\n",
       "      <th>reservations_yesterday</th>\n",
       "      <th>reservations_7_day_ma_missing</th>\n",
       "      <th>reservations_yesterday_missing</th>\n",
       "    </tr>\n",
       "  </thead>\n",
       "  <tbody>\n",
       "    <tr>\n",
       "      <th>0</th>\n",
       "      <td>air_00a91d42b08b08d9</td>\n",
       "      <td>35</td>\n",
       "      <td>Friday</td>\n",
       "      <td>0</td>\n",
       "      <td>Italian/French</td>\n",
       "      <td>Tōkyō-to Chiyoda-ku Kudanminami</td>\n",
       "      <td>35.694003</td>\n",
       "      <td>139.753595</td>\n",
       "      <td>0.0</td>\n",
       "      <td>35.0</td>\n",
       "      <td>...</td>\n",
       "      <td>7</td>\n",
       "      <td>3</td>\n",
       "      <td>True</td>\n",
       "      <td>True</td>\n",
       "      <td>True</td>\n",
       "      <td>True</td>\n",
       "      <td>0.571429</td>\n",
       "      <td>0.0</td>\n",
       "      <td>True</td>\n",
       "      <td>True</td>\n",
       "    </tr>\n",
       "    <tr>\n",
       "      <th>1</th>\n",
       "      <td>air_00a91d42b08b08d9</td>\n",
       "      <td>9</td>\n",
       "      <td>Saturday</td>\n",
       "      <td>0</td>\n",
       "      <td>Italian/French</td>\n",
       "      <td>Tōkyō-to Chiyoda-ku Kudanminami</td>\n",
       "      <td>35.694003</td>\n",
       "      <td>139.753595</td>\n",
       "      <td>4.0</td>\n",
       "      <td>35.0</td>\n",
       "      <td>...</td>\n",
       "      <td>7</td>\n",
       "      <td>3</td>\n",
       "      <td>False</td>\n",
       "      <td>False</td>\n",
       "      <td>True</td>\n",
       "      <td>True</td>\n",
       "      <td>0.571429</td>\n",
       "      <td>0.0</td>\n",
       "      <td>True</td>\n",
       "      <td>False</td>\n",
       "    </tr>\n",
       "    <tr>\n",
       "      <th>2</th>\n",
       "      <td>air_00a91d42b08b08d9</td>\n",
       "      <td>20</td>\n",
       "      <td>Monday</td>\n",
       "      <td>0</td>\n",
       "      <td>Italian/French</td>\n",
       "      <td>Tōkyō-to Chiyoda-ku Kudanminami</td>\n",
       "      <td>35.694003</td>\n",
       "      <td>139.753595</td>\n",
       "      <td>0.0</td>\n",
       "      <td>9.0</td>\n",
       "      <td>...</td>\n",
       "      <td>7</td>\n",
       "      <td>3</td>\n",
       "      <td>True</td>\n",
       "      <td>False</td>\n",
       "      <td>True</td>\n",
       "      <td>True</td>\n",
       "      <td>0.571429</td>\n",
       "      <td>4.0</td>\n",
       "      <td>True</td>\n",
       "      <td>False</td>\n",
       "    </tr>\n",
       "  </tbody>\n",
       "</table>\n",
       "<p>3 rows × 22 columns</p>\n",
       "</div>"
      ],
      "text/plain": [
       "                     id  visitors day_of_week  holiday           genre  \\\n",
       "0  air_00a91d42b08b08d9        35      Friday        0  Italian/French   \n",
       "1  air_00a91d42b08b08d9         9    Saturday        0  Italian/French   \n",
       "2  air_00a91d42b08b08d9        20      Monday        0  Italian/French   \n",
       "\n",
       "                              area   latitude   longitude  reserve_visitors  \\\n",
       "0  Tōkyō-to Chiyoda-ku Kudanminami  35.694003  139.753595               0.0   \n",
       "1  Tōkyō-to Chiyoda-ku Kudanminami  35.694003  139.753595               4.0   \n",
       "2  Tōkyō-to Chiyoda-ku Kudanminami  35.694003  139.753595               0.0   \n",
       "\n",
       "   visitors_yesterday  ...  month  quarter  reserve_visitors_missing  \\\n",
       "0                35.0  ...      7        3                      True   \n",
       "1                35.0  ...      7        3                     False   \n",
       "2                 9.0  ...      7        3                      True   \n",
       "\n",
       "   visitors_yesterday_missing  visitors_last_week_missing  \\\n",
       "0                        True                        True   \n",
       "1                       False                        True   \n",
       "2                       False                        True   \n",
       "\n",
       "   visitors_7_day_ma_missing  reservations_7_day_ma  reservations_yesterday  \\\n",
       "0                       True               0.571429                     0.0   \n",
       "1                       True               0.571429                     0.0   \n",
       "2                       True               0.571429                     4.0   \n",
       "\n",
       "   reservations_7_day_ma_missing  reservations_yesterday_missing  \n",
       "0                           True                            True  \n",
       "1                           True                           False  \n",
       "2                           True                           False  \n",
       "\n",
       "[3 rows x 22 columns]"
      ]
     },
     "execution_count": 61,
     "metadata": {},
     "output_type": "execute_result"
    }
   ],
   "source": [
    "train_final.head(3)"
   ]
  },
  {
   "cell_type": "code",
   "execution_count": 63,
   "metadata": {},
   "outputs": [],
   "source": [
    "X_train_f, y_train_f = train_final.drop('visitors',axis=1), train_final['visitors']\n",
    "X_test_f, y_test_f = test_final.drop('visitors',axis=1), test_final['visitors']"
   ]
  },
  {
   "cell_type": "code",
   "execution_count": 64,
   "metadata": {},
   "outputs": [
    {
     "name": "stderr",
     "output_type": "stream",
     "text": [
      "/usr/local/anaconda3/lib/python3.8/site-packages/category_encoders/utils.py:21: FutureWarning: is_categorical is deprecated and will be removed in a future version.  Use is_categorical_dtype instead\n",
      "  elif pd.api.types.is_categorical(cols):\n"
     ]
    },
    {
     "data": {
      "text/plain": [
       "0.6686809929381787"
      ]
     },
     "execution_count": 64,
     "metadata": {},
     "output_type": "execute_result"
    }
   ],
   "source": [
    "ordinal_encoder = ce.OrdinalEncoder(cols='day_of_week')\n",
    "target_encoder = ce.TargetEncoder()\n",
    "gbm = GradientBoostingRegressor(\n",
    "    n_estimators=400, \n",
    "    learning_rate=0.08, \n",
    "    max_depth=4, \n",
    "    min_samples_leaf=10)\n",
    "\n",
    "pipe_final = make_pipeline(ordinal_encoder, target_encoder, gbm)\n",
    "pipe_final.fit(X_train_f, y_train_f)\n",
    "pipe_final.score(X_test_f, y_test_f)"
   ]
  },
  {
   "cell_type": "markdown",
   "metadata": {},
   "source": [
    "Overall result from final model was 0.669"
   ]
  },
  {
   "cell_type": "code",
   "execution_count": 65,
   "metadata": {},
   "outputs": [
    {
     "name": "stderr",
     "output_type": "stream",
     "text": [
      "/usr/local/anaconda3/lib/python3.8/site-packages/sklearn/utils/deprecation.py:143: FutureWarning: The sklearn.metrics.scorer module is  deprecated in version 0.22 and will be removed in version 0.24. The corresponding classes / functions should instead be imported from sklearn.metrics. Anything that cannot be imported from sklearn.metrics is now part of the private API.\n",
      "  warnings.warn(message, FutureWarning)\n",
      "/usr/local/anaconda3/lib/python3.8/site-packages/sklearn/utils/deprecation.py:143: FutureWarning: The sklearn.feature_selection.base module is  deprecated in version 0.22 and will be removed in version 0.24. The corresponding classes / functions should instead be imported from sklearn.feature_selection. Anything that cannot be imported from sklearn.feature_selection is now part of the private API.\n",
      "  warnings.warn(message, FutureWarning)\n"
     ]
    }
   ],
   "source": [
    "import eli5"
   ]
  },
  {
   "cell_type": "code",
   "execution_count": 74,
   "metadata": {},
   "outputs": [
    {
     "name": "stdout",
     "output_type": "stream",
     "text": [
      "<class 'pandas.core.frame.DataFrame'>\n",
      "RangeIndex: 239673 entries, 0 to 239672\n",
      "Data columns (total 21 columns):\n",
      " #   Column                          Non-Null Count   Dtype  \n",
      "---  ------                          --------------   -----  \n",
      " 0   id                              239673 non-null  object \n",
      " 1   day_of_week                     239673 non-null  object \n",
      " 2   holiday                         239673 non-null  int64  \n",
      " 3   genre                           239673 non-null  object \n",
      " 4   area                            239673 non-null  object \n",
      " 5   latitude                        239673 non-null  float64\n",
      " 6   longitude                       239673 non-null  float64\n",
      " 7   reserve_visitors                239673 non-null  float64\n",
      " 8   visitors_yesterday              239673 non-null  float64\n",
      " 9   visitors_last_week              239673 non-null  float64\n",
      " 10  visitors_7_day_ma               239673 non-null  float64\n",
      " 11  month                           239673 non-null  int64  \n",
      " 12  quarter                         239673 non-null  int64  \n",
      " 13  reserve_visitors_missing        239673 non-null  bool   \n",
      " 14  visitors_yesterday_missing      239673 non-null  bool   \n",
      " 15  visitors_last_week_missing      239673 non-null  bool   \n",
      " 16  visitors_7_day_ma_missing       239673 non-null  bool   \n",
      " 17  reservations_7_day_ma           239673 non-null  float64\n",
      " 18  reservations_yesterday          239673 non-null  float64\n",
      " 19  reservations_7_day_ma_missing   239673 non-null  bool   \n",
      " 20  reservations_yesterday_missing  239673 non-null  bool   \n",
      "dtypes: bool(6), float64(8), int64(3), object(4)\n",
      "memory usage: 28.8+ MB\n"
     ]
    }
   ],
   "source": [
    "X_train_f.info()"
   ]
  },
  {
   "cell_type": "code",
   "execution_count": 70,
   "metadata": {},
   "outputs": [
    {
     "data": {
      "text/plain": [
       "['id',\n",
       " 'day_of_week',\n",
       " 'holiday',\n",
       " 'genre',\n",
       " 'area',\n",
       " 'latitude',\n",
       " 'longitude',\n",
       " 'reserve_visitors',\n",
       " 'visitors_yesterday',\n",
       " 'visitors_last_week',\n",
       " 'visitors_7_day_ma',\n",
       " 'month',\n",
       " 'quarter',\n",
       " 'reserve_visitors_missing',\n",
       " 'visitors_yesterday_missing',\n",
       " 'visitors_last_week_missing',\n",
       " 'visitors_7_day_ma_missing',\n",
       " 'reservations_7_day_ma',\n",
       " 'reservations_yesterday',\n",
       " 'reservations_7_day_ma_missing',\n",
       " 'reservations_yesterday_missing']"
      ]
     },
     "execution_count": 70,
     "metadata": {},
     "output_type": "execute_result"
    }
   ],
   "source": [
    "X_train_f.columns.to_list()"
   ]
  },
  {
   "cell_type": "code",
   "execution_count": 73,
   "metadata": {},
   "outputs": [
    {
     "data": {
      "text/plain": [
       "{'ordinalencoder': OrdinalEncoder(cols=['day_of_week'],\n",
       "                mapping=[{'col': 'day_of_week', 'data_type': dtype('O'),\n",
       "                          'mapping': Friday       1\n",
       " Saturday     2\n",
       " Monday       3\n",
       " Tuesday      4\n",
       " Wednesday    5\n",
       " Thursday     6\n",
       " Sunday       7\n",
       " NaN         -2\n",
       " dtype: int64}]),\n",
       " 'targetencoder': TargetEncoder(cols=['id', 'genre', 'area']),\n",
       " 'gradientboostingregressor': GradientBoostingRegressor(learning_rate=0.08, max_depth=4, min_samples_leaf=10,\n",
       "                           n_estimators=400)}"
      ]
     },
     "execution_count": 73,
     "metadata": {},
     "output_type": "execute_result"
    }
   ],
   "source": [
    "pipe_final.named_steps"
   ]
  },
  {
   "cell_type": "code",
   "execution_count": 83,
   "metadata": {},
   "outputs": [
    {
     "data": {
      "text/plain": [
       "21"
      ]
     },
     "execution_count": 83,
     "metadata": {},
     "output_type": "execute_result"
    }
   ],
   "source": [
    "feature_list = X_train_f.columns.to_list()\n",
    "len(feature_list)"
   ]
  },
  {
   "cell_type": "code",
   "execution_count": 76,
   "metadata": {},
   "outputs": [],
   "source": [
    "?eli5.explain_weights"
   ]
  },
  {
   "cell_type": "code",
   "execution_count": 84,
   "metadata": {},
   "outputs": [
    {
     "data": {
      "text/html": [
       "\n",
       "    <style>\n",
       "    table.eli5-weights tr:hover {\n",
       "        filter: brightness(85%);\n",
       "    }\n",
       "</style>\n",
       "\n",
       "\n",
       "\n",
       "    \n",
       "\n",
       "    \n",
       "\n",
       "    \n",
       "\n",
       "    \n",
       "\n",
       "    \n",
       "\n",
       "    \n",
       "\n",
       "\n",
       "    \n",
       "\n",
       "    \n",
       "\n",
       "    \n",
       "\n",
       "    \n",
       "\n",
       "    \n",
       "\n",
       "    \n",
       "\n",
       "\n",
       "    \n",
       "\n",
       "    \n",
       "\n",
       "    \n",
       "\n",
       "    \n",
       "\n",
       "    \n",
       "        <table class=\"eli5-weights eli5-feature-importances\" style=\"border-collapse: collapse; border: none; margin-top: 0em; table-layout: auto;\">\n",
       "    <thead>\n",
       "    <tr style=\"border: none;\">\n",
       "        <th style=\"padding: 0 1em 0 0.5em; text-align: right; border: none;\">Weight</th>\n",
       "        <th style=\"padding: 0 0.5em 0 0.5em; text-align: left; border: none;\">Feature</th>\n",
       "    </tr>\n",
       "    </thead>\n",
       "    <tbody>\n",
       "    \n",
       "        <tr style=\"background-color: hsl(120, 100.00%, 80.00%); border: none;\">\n",
       "            <td style=\"padding: 0 1em 0 0.5em; text-align: right; border: none;\">\n",
       "                0.8566\n",
       "                \n",
       "                    &plusmn; 0.4915\n",
       "                \n",
       "            </td>\n",
       "            <td style=\"padding: 0 0.5em 0 0.5em; text-align: left; border: none;\">\n",
       "                visitors_7_day_ma\n",
       "            </td>\n",
       "        </tr>\n",
       "    \n",
       "        <tr style=\"background-color: hsl(120, 100.00%, 96.52%); border: none;\">\n",
       "            <td style=\"padding: 0 1em 0 0.5em; text-align: right; border: none;\">\n",
       "                0.0706\n",
       "                \n",
       "                    &plusmn; 0.2349\n",
       "                \n",
       "            </td>\n",
       "            <td style=\"padding: 0 0.5em 0 0.5em; text-align: left; border: none;\">\n",
       "                day_of_week\n",
       "            </td>\n",
       "        </tr>\n",
       "    \n",
       "        <tr style=\"background-color: hsl(120, 100.00%, 98.43%); border: none;\">\n",
       "            <td style=\"padding: 0 1em 0 0.5em; text-align: right; border: none;\">\n",
       "                0.0225\n",
       "                \n",
       "                    &plusmn; 0.2318\n",
       "                \n",
       "            </td>\n",
       "            <td style=\"padding: 0 0.5em 0 0.5em; text-align: left; border: none;\">\n",
       "                visitors_last_week\n",
       "            </td>\n",
       "        </tr>\n",
       "    \n",
       "        <tr style=\"background-color: hsl(120, 100.00%, 99.08%); border: none;\">\n",
       "            <td style=\"padding: 0 1em 0 0.5em; text-align: right; border: none;\">\n",
       "                0.0105\n",
       "                \n",
       "                    &plusmn; 0.3222\n",
       "                \n",
       "            </td>\n",
       "            <td style=\"padding: 0 0.5em 0 0.5em; text-align: left; border: none;\">\n",
       "                visitors_yesterday\n",
       "            </td>\n",
       "        </tr>\n",
       "    \n",
       "        <tr style=\"background-color: hsl(120, 100.00%, 99.35%); border: none;\">\n",
       "            <td style=\"padding: 0 1em 0 0.5em; text-align: right; border: none;\">\n",
       "                0.0064\n",
       "                \n",
       "                    &plusmn; 0.1867\n",
       "                \n",
       "            </td>\n",
       "            <td style=\"padding: 0 0.5em 0 0.5em; text-align: left; border: none;\">\n",
       "                longitude\n",
       "            </td>\n",
       "        </tr>\n",
       "    \n",
       "        <tr style=\"background-color: hsl(120, 100.00%, 99.37%); border: none;\">\n",
       "            <td style=\"padding: 0 1em 0 0.5em; text-align: right; border: none;\">\n",
       "                0.0061\n",
       "                \n",
       "                    &plusmn; 0.1921\n",
       "                \n",
       "            </td>\n",
       "            <td style=\"padding: 0 0.5em 0 0.5em; text-align: left; border: none;\">\n",
       "                genre\n",
       "            </td>\n",
       "        </tr>\n",
       "    \n",
       "        <tr style=\"background-color: hsl(120, 100.00%, 99.45%); border: none;\">\n",
       "            <td style=\"padding: 0 1em 0 0.5em; text-align: right; border: none;\">\n",
       "                0.0051\n",
       "                \n",
       "                    &plusmn; 0.1915\n",
       "                \n",
       "            </td>\n",
       "            <td style=\"padding: 0 0.5em 0 0.5em; text-align: left; border: none;\">\n",
       "                latitude\n",
       "            </td>\n",
       "        </tr>\n",
       "    \n",
       "        <tr style=\"background-color: hsl(120, 100.00%, 99.48%); border: none;\">\n",
       "            <td style=\"padding: 0 1em 0 0.5em; text-align: right; border: none;\">\n",
       "                0.0047\n",
       "                \n",
       "                    &plusmn; 0.1758\n",
       "                \n",
       "            </td>\n",
       "            <td style=\"padding: 0 0.5em 0 0.5em; text-align: left; border: none;\">\n",
       "                id\n",
       "            </td>\n",
       "        </tr>\n",
       "    \n",
       "        <tr style=\"background-color: hsl(120, 100.00%, 99.54%); border: none;\">\n",
       "            <td style=\"padding: 0 1em 0 0.5em; text-align: right; border: none;\">\n",
       "                0.0039\n",
       "                \n",
       "                    &plusmn; 0.2210\n",
       "                \n",
       "            </td>\n",
       "            <td style=\"padding: 0 0.5em 0 0.5em; text-align: left; border: none;\">\n",
       "                reservations_7_day_ma\n",
       "            </td>\n",
       "        </tr>\n",
       "    \n",
       "        <tr style=\"background-color: hsl(120, 100.00%, 99.60%); border: none;\">\n",
       "            <td style=\"padding: 0 1em 0 0.5em; text-align: right; border: none;\">\n",
       "                0.0032\n",
       "                \n",
       "                    &plusmn; 0.1618\n",
       "                \n",
       "            </td>\n",
       "            <td style=\"padding: 0 0.5em 0 0.5em; text-align: left; border: none;\">\n",
       "                reserve_visitors\n",
       "            </td>\n",
       "        </tr>\n",
       "    \n",
       "        <tr style=\"background-color: hsl(120, 100.00%, 99.62%); border: none;\">\n",
       "            <td style=\"padding: 0 1em 0 0.5em; text-align: right; border: none;\">\n",
       "                0.0030\n",
       "                \n",
       "                    &plusmn; 0.1053\n",
       "                \n",
       "            </td>\n",
       "            <td style=\"padding: 0 0.5em 0 0.5em; text-align: left; border: none;\">\n",
       "                holiday\n",
       "            </td>\n",
       "        </tr>\n",
       "    \n",
       "        <tr style=\"background-color: hsl(120, 100.00%, 99.71%); border: none;\">\n",
       "            <td style=\"padding: 0 1em 0 0.5em; text-align: right; border: none;\">\n",
       "                0.0020\n",
       "                \n",
       "                    &plusmn; 0.1707\n",
       "                \n",
       "            </td>\n",
       "            <td style=\"padding: 0 0.5em 0 0.5em; text-align: left; border: none;\">\n",
       "                reservations_yesterday\n",
       "            </td>\n",
       "        </tr>\n",
       "    \n",
       "        <tr style=\"background-color: hsl(120, 100.00%, 99.74%); border: none;\">\n",
       "            <td style=\"padding: 0 1em 0 0.5em; text-align: right; border: none;\">\n",
       "                0.0017\n",
       "                \n",
       "                    &plusmn; 0.1039\n",
       "                \n",
       "            </td>\n",
       "            <td style=\"padding: 0 0.5em 0 0.5em; text-align: left; border: none;\">\n",
       "                month\n",
       "            </td>\n",
       "        </tr>\n",
       "    \n",
       "        <tr style=\"background-color: hsl(120, 100.00%, 99.77%); border: none;\">\n",
       "            <td style=\"padding: 0 1em 0 0.5em; text-align: right; border: none;\">\n",
       "                0.0015\n",
       "                \n",
       "                    &plusmn; 0.1736\n",
       "                \n",
       "            </td>\n",
       "            <td style=\"padding: 0 0.5em 0 0.5em; text-align: left; border: none;\">\n",
       "                area\n",
       "            </td>\n",
       "        </tr>\n",
       "    \n",
       "        <tr style=\"background-color: hsl(120, 100.00%, 99.86%); border: none;\">\n",
       "            <td style=\"padding: 0 1em 0 0.5em; text-align: right; border: none;\">\n",
       "                0.0007\n",
       "                \n",
       "                    &plusmn; 0.0698\n",
       "                \n",
       "            </td>\n",
       "            <td style=\"padding: 0 0.5em 0 0.5em; text-align: left; border: none;\">\n",
       "                reservations_yesterday_missing\n",
       "            </td>\n",
       "        </tr>\n",
       "    \n",
       "        <tr style=\"background-color: hsl(120, 100.00%, 99.86%); border: none;\">\n",
       "            <td style=\"padding: 0 1em 0 0.5em; text-align: right; border: none;\">\n",
       "                0.0007\n",
       "                \n",
       "                    &plusmn; 0.0685\n",
       "                \n",
       "            </td>\n",
       "            <td style=\"padding: 0 0.5em 0 0.5em; text-align: left; border: none;\">\n",
       "                visitors_yesterday_missing\n",
       "            </td>\n",
       "        </tr>\n",
       "    \n",
       "        <tr style=\"background-color: hsl(120, 100.00%, 99.89%); border: none;\">\n",
       "            <td style=\"padding: 0 1em 0 0.5em; text-align: right; border: none;\">\n",
       "                0.0005\n",
       "                \n",
       "                    &plusmn; 0.0707\n",
       "                \n",
       "            </td>\n",
       "            <td style=\"padding: 0 0.5em 0 0.5em; text-align: left; border: none;\">\n",
       "                reserve_visitors_missing\n",
       "            </td>\n",
       "        </tr>\n",
       "    \n",
       "        <tr style=\"background-color: hsl(120, 100.00%, 99.96%); border: none;\">\n",
       "            <td style=\"padding: 0 1em 0 0.5em; text-align: right; border: none;\">\n",
       "                0.0001\n",
       "                \n",
       "                    &plusmn; 0.0306\n",
       "                \n",
       "            </td>\n",
       "            <td style=\"padding: 0 0.5em 0 0.5em; text-align: left; border: none;\">\n",
       "                quarter\n",
       "            </td>\n",
       "        </tr>\n",
       "    \n",
       "        <tr style=\"background-color: hsl(120, 100.00%, 99.97%); border: none;\">\n",
       "            <td style=\"padding: 0 1em 0 0.5em; text-align: right; border: none;\">\n",
       "                0.0001\n",
       "                \n",
       "                    &plusmn; 0.0206\n",
       "                \n",
       "            </td>\n",
       "            <td style=\"padding: 0 0.5em 0 0.5em; text-align: left; border: none;\">\n",
       "                visitors_last_week_missing\n",
       "            </td>\n",
       "        </tr>\n",
       "    \n",
       "        <tr style=\"background-color: hsl(120, 100.00%, 100.00%); border: none;\">\n",
       "            <td style=\"padding: 0 1em 0 0.5em; text-align: right; border: none;\">\n",
       "                0.0000\n",
       "                \n",
       "                    &plusmn; 0.0051\n",
       "                \n",
       "            </td>\n",
       "            <td style=\"padding: 0 0.5em 0 0.5em; text-align: left; border: none;\">\n",
       "                reservations_7_day_ma_missing\n",
       "            </td>\n",
       "        </tr>\n",
       "    \n",
       "        <tr style=\"background-color: hsl(120, 100.00%, 100.00%); border: none;\">\n",
       "            <td style=\"padding: 0 1em 0 0.5em; text-align: right; border: none;\">\n",
       "                0.0000\n",
       "                \n",
       "                    &plusmn; 0.0071\n",
       "                \n",
       "            </td>\n",
       "            <td style=\"padding: 0 0.5em 0 0.5em; text-align: left; border: none;\">\n",
       "                visitors_7_day_ma_missing\n",
       "            </td>\n",
       "        </tr>\n",
       "    \n",
       "    \n",
       "    </tbody>\n",
       "</table>\n",
       "    \n",
       "\n",
       "    \n",
       "\n",
       "\n",
       "    \n",
       "\n",
       "    \n",
       "\n",
       "    \n",
       "\n",
       "    \n",
       "\n",
       "    \n",
       "\n",
       "    \n",
       "\n",
       "\n",
       "\n"
      ],
      "text/plain": [
       "Explanation(estimator='GradientBoostingRegressor(learning_rate=0.08, max_depth=4, min_samples_leaf=10,\\n                          n_estimators=400)', description='\\nRandom forest feature importances; values are numbers 0 <= x <= 1;\\nall values sum to 1.\\n', error=None, method='feature importances', is_regression=True, targets=None, feature_importances=FeatureImportances(importances=[FeatureWeight(feature='visitors_7_day_ma', weight=0.8565723317338467, std=0.24572780984645382, value=None), FeatureWeight(feature='day_of_week', weight=0.07055080089816206, std=0.11746359689540181, value=None), FeatureWeight(feature='visitors_last_week', weight=0.022520163760798375, std=0.1158839962999294, value=None), FeatureWeight(feature='visitors_yesterday', weight=0.01051952342616091, std=0.16108654587356255, value=None), FeatureWeight(feature='longitude', weight=0.006417048351033866, std=0.09335894588590195, value=None), FeatureWeight(feature='genre', weight=0.006097881410899044, std=0.0960649877585208, value=None), FeatureWeight(feature='latitude', weight=0.005097617689520989, std=0.0957379316032344, value=None), FeatureWeight(feature='id', weight=0.004668397701097925, std=0.08787856906632094, value=None), FeatureWeight(feature='reservations_7_day_ma', weight=0.003923696296663935, std=0.11050400828608396, value=None), FeatureWeight(feature='reserve_visitors', weight=0.0031768046008543477, std=0.08088961236925968, value=None), FeatureWeight(feature='holiday', weight=0.003019836905079, std=0.05267407012965859, value=None), FeatureWeight(feature='reservations_yesterday', weight=0.0020498865890271685, std=0.0853403338157562, value=None), FeatureWeight(feature='month', weight=0.0017162751701928324, std=0.0519666287713521, value=None), FeatureWeight(feature='area', weight=0.0014925609934163633, std=0.08680113372112305, value=None), FeatureWeight(feature='reservations_yesterday_missing', weight=0.0007385756885573556, std=0.034912529596506744, value=None), FeatureWeight(feature='visitors_yesterday_missing', weight=0.0007327434567344255, std=0.03424192999835182, value=None), FeatureWeight(feature='reserve_visitors_missing', weight=0.0004871351234484387, std=0.03534317962558643, value=None), FeatureWeight(feature='quarter', weight=0.00012148266465570599, std=0.01529157306825358, value=None), FeatureWeight(feature='visitors_last_week_missing', weight=8.789459304502678e-05, std=0.01029091697343299, value=None), FeatureWeight(feature='reservations_7_day_ma_missing', weight=5.352780317917692e-06, std=0.0025465134707794526, value=None), FeatureWeight(feature='visitors_7_day_ma_missing', weight=3.990166487421687e-06, std=0.003548469050376899, value=None)], remaining=0), decision_tree=None, highlight_spaces=None, transition_features=None, image=None)"
      ]
     },
     "execution_count": 84,
     "metadata": {},
     "output_type": "execute_result"
    }
   ],
   "source": [
    "eli5.explain_weights(pipe_final.named_steps['gradientboostingregressor'],top=30,feature_names=feature_list)"
   ]
  },
  {
   "cell_type": "code",
   "execution_count": null,
   "metadata": {},
   "outputs": [],
   "source": []
  },
  {
   "cell_type": "code",
   "execution_count": null,
   "metadata": {},
   "outputs": [],
   "source": []
  }
 ],
 "metadata": {
  "kernelspec": {
   "display_name": "Python 3",
   "language": "python",
   "name": "python3"
  },
  "language_info": {
   "codemirror_mode": {
    "name": "ipython",
    "version": 3
   },
   "file_extension": ".py",
   "mimetype": "text/x-python",
   "name": "python",
   "nbconvert_exporter": "python",
   "pygments_lexer": "ipython3",
   "version": "3.8.3"
  }
 },
 "nbformat": 4,
 "nbformat_minor": 4
}
