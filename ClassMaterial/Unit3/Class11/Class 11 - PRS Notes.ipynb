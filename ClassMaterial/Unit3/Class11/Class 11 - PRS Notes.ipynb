{
 "cells": [
  {
   "cell_type": "code",
   "execution_count": 9,
   "metadata": {},
   "outputs": [],
   "source": [
    "import pandas as pd\n",
    "from sklearn.tree import DecisionTreeRegressor\n",
    "import numpy as np"
   ]
  },
  {
   "cell_type": "code",
   "execution_count": 2,
   "metadata": {},
   "outputs": [],
   "source": [
    "df = pd.read_csv('../data/housing.csv')"
   ]
  },
  {
   "cell_type": "code",
   "execution_count": 3,
   "metadata": {},
   "outputs": [
    {
     "data": {
      "text/html": [
       "<div>\n",
       "<style scoped>\n",
       "    .dataframe tbody tr th:only-of-type {\n",
       "        vertical-align: middle;\n",
       "    }\n",
       "\n",
       "    .dataframe tbody tr th {\n",
       "        vertical-align: top;\n",
       "    }\n",
       "\n",
       "    .dataframe thead th {\n",
       "        text-align: right;\n",
       "    }\n",
       "</style>\n",
       "<table border=\"1\" class=\"dataframe\">\n",
       "  <thead>\n",
       "    <tr style=\"text-align: right;\">\n",
       "      <th></th>\n",
       "      <th>CRIM</th>\n",
       "      <th>ZN</th>\n",
       "      <th>INDUS</th>\n",
       "      <th>CHAS</th>\n",
       "      <th>NOX</th>\n",
       "      <th>RM</th>\n",
       "      <th>AGE</th>\n",
       "      <th>DIS</th>\n",
       "      <th>RAD</th>\n",
       "      <th>TAX</th>\n",
       "      <th>PTRATIO</th>\n",
       "      <th>B</th>\n",
       "      <th>LSTAT</th>\n",
       "      <th>PRICE</th>\n",
       "    </tr>\n",
       "  </thead>\n",
       "  <tbody>\n",
       "    <tr>\n",
       "      <th>0</th>\n",
       "      <td>0.00632</td>\n",
       "      <td>18.0</td>\n",
       "      <td>2.31</td>\n",
       "      <td>0</td>\n",
       "      <td>0.538</td>\n",
       "      <td>6.575</td>\n",
       "      <td>65.2</td>\n",
       "      <td>4.0900</td>\n",
       "      <td>1</td>\n",
       "      <td>296</td>\n",
       "      <td>15.3</td>\n",
       "      <td>396.90</td>\n",
       "      <td>4.98</td>\n",
       "      <td>24.0</td>\n",
       "    </tr>\n",
       "    <tr>\n",
       "      <th>1</th>\n",
       "      <td>0.02731</td>\n",
       "      <td>0.0</td>\n",
       "      <td>7.07</td>\n",
       "      <td>0</td>\n",
       "      <td>0.469</td>\n",
       "      <td>6.421</td>\n",
       "      <td>78.9</td>\n",
       "      <td>4.9671</td>\n",
       "      <td>2</td>\n",
       "      <td>242</td>\n",
       "      <td>17.8</td>\n",
       "      <td>396.90</td>\n",
       "      <td>9.14</td>\n",
       "      <td>21.6</td>\n",
       "    </tr>\n",
       "    <tr>\n",
       "      <th>2</th>\n",
       "      <td>0.02729</td>\n",
       "      <td>0.0</td>\n",
       "      <td>7.07</td>\n",
       "      <td>0</td>\n",
       "      <td>0.469</td>\n",
       "      <td>7.185</td>\n",
       "      <td>61.1</td>\n",
       "      <td>4.9671</td>\n",
       "      <td>2</td>\n",
       "      <td>242</td>\n",
       "      <td>17.8</td>\n",
       "      <td>392.83</td>\n",
       "      <td>4.03</td>\n",
       "      <td>34.7</td>\n",
       "    </tr>\n",
       "    <tr>\n",
       "      <th>3</th>\n",
       "      <td>0.03237</td>\n",
       "      <td>0.0</td>\n",
       "      <td>2.18</td>\n",
       "      <td>0</td>\n",
       "      <td>0.458</td>\n",
       "      <td>6.998</td>\n",
       "      <td>45.8</td>\n",
       "      <td>6.0622</td>\n",
       "      <td>3</td>\n",
       "      <td>222</td>\n",
       "      <td>18.7</td>\n",
       "      <td>394.63</td>\n",
       "      <td>2.94</td>\n",
       "      <td>33.4</td>\n",
       "    </tr>\n",
       "    <tr>\n",
       "      <th>4</th>\n",
       "      <td>0.06905</td>\n",
       "      <td>0.0</td>\n",
       "      <td>2.18</td>\n",
       "      <td>0</td>\n",
       "      <td>0.458</td>\n",
       "      <td>7.147</td>\n",
       "      <td>54.2</td>\n",
       "      <td>6.0622</td>\n",
       "      <td>3</td>\n",
       "      <td>222</td>\n",
       "      <td>18.7</td>\n",
       "      <td>396.90</td>\n",
       "      <td>5.33</td>\n",
       "      <td>36.2</td>\n",
       "    </tr>\n",
       "    <tr>\n",
       "      <th>...</th>\n",
       "      <td>...</td>\n",
       "      <td>...</td>\n",
       "      <td>...</td>\n",
       "      <td>...</td>\n",
       "      <td>...</td>\n",
       "      <td>...</td>\n",
       "      <td>...</td>\n",
       "      <td>...</td>\n",
       "      <td>...</td>\n",
       "      <td>...</td>\n",
       "      <td>...</td>\n",
       "      <td>...</td>\n",
       "      <td>...</td>\n",
       "      <td>...</td>\n",
       "    </tr>\n",
       "    <tr>\n",
       "      <th>501</th>\n",
       "      <td>0.06263</td>\n",
       "      <td>0.0</td>\n",
       "      <td>11.93</td>\n",
       "      <td>0</td>\n",
       "      <td>0.573</td>\n",
       "      <td>6.593</td>\n",
       "      <td>69.1</td>\n",
       "      <td>2.4786</td>\n",
       "      <td>1</td>\n",
       "      <td>273</td>\n",
       "      <td>21.0</td>\n",
       "      <td>391.99</td>\n",
       "      <td>9.67</td>\n",
       "      <td>22.4</td>\n",
       "    </tr>\n",
       "    <tr>\n",
       "      <th>502</th>\n",
       "      <td>0.04527</td>\n",
       "      <td>0.0</td>\n",
       "      <td>11.93</td>\n",
       "      <td>0</td>\n",
       "      <td>0.573</td>\n",
       "      <td>6.120</td>\n",
       "      <td>76.7</td>\n",
       "      <td>2.2875</td>\n",
       "      <td>1</td>\n",
       "      <td>273</td>\n",
       "      <td>21.0</td>\n",
       "      <td>396.90</td>\n",
       "      <td>9.08</td>\n",
       "      <td>20.6</td>\n",
       "    </tr>\n",
       "    <tr>\n",
       "      <th>503</th>\n",
       "      <td>0.06076</td>\n",
       "      <td>0.0</td>\n",
       "      <td>11.93</td>\n",
       "      <td>0</td>\n",
       "      <td>0.573</td>\n",
       "      <td>6.976</td>\n",
       "      <td>91.0</td>\n",
       "      <td>2.1675</td>\n",
       "      <td>1</td>\n",
       "      <td>273</td>\n",
       "      <td>21.0</td>\n",
       "      <td>396.90</td>\n",
       "      <td>5.64</td>\n",
       "      <td>23.9</td>\n",
       "    </tr>\n",
       "    <tr>\n",
       "      <th>504</th>\n",
       "      <td>0.10959</td>\n",
       "      <td>0.0</td>\n",
       "      <td>11.93</td>\n",
       "      <td>0</td>\n",
       "      <td>0.573</td>\n",
       "      <td>6.794</td>\n",
       "      <td>89.3</td>\n",
       "      <td>2.3889</td>\n",
       "      <td>1</td>\n",
       "      <td>273</td>\n",
       "      <td>21.0</td>\n",
       "      <td>393.45</td>\n",
       "      <td>6.48</td>\n",
       "      <td>22.0</td>\n",
       "    </tr>\n",
       "    <tr>\n",
       "      <th>505</th>\n",
       "      <td>0.04741</td>\n",
       "      <td>0.0</td>\n",
       "      <td>11.93</td>\n",
       "      <td>0</td>\n",
       "      <td>0.573</td>\n",
       "      <td>6.030</td>\n",
       "      <td>80.8</td>\n",
       "      <td>2.5050</td>\n",
       "      <td>1</td>\n",
       "      <td>273</td>\n",
       "      <td>21.0</td>\n",
       "      <td>396.90</td>\n",
       "      <td>7.88</td>\n",
       "      <td>11.9</td>\n",
       "    </tr>\n",
       "  </tbody>\n",
       "</table>\n",
       "<p>506 rows × 14 columns</p>\n",
       "</div>"
      ],
      "text/plain": [
       "        CRIM    ZN  INDUS  CHAS    NOX     RM   AGE     DIS  RAD  TAX  \\\n",
       "0    0.00632  18.0   2.31     0  0.538  6.575  65.2  4.0900    1  296   \n",
       "1    0.02731   0.0   7.07     0  0.469  6.421  78.9  4.9671    2  242   \n",
       "2    0.02729   0.0   7.07     0  0.469  7.185  61.1  4.9671    2  242   \n",
       "3    0.03237   0.0   2.18     0  0.458  6.998  45.8  6.0622    3  222   \n",
       "4    0.06905   0.0   2.18     0  0.458  7.147  54.2  6.0622    3  222   \n",
       "..       ...   ...    ...   ...    ...    ...   ...     ...  ...  ...   \n",
       "501  0.06263   0.0  11.93     0  0.573  6.593  69.1  2.4786    1  273   \n",
       "502  0.04527   0.0  11.93     0  0.573  6.120  76.7  2.2875    1  273   \n",
       "503  0.06076   0.0  11.93     0  0.573  6.976  91.0  2.1675    1  273   \n",
       "504  0.10959   0.0  11.93     0  0.573  6.794  89.3  2.3889    1  273   \n",
       "505  0.04741   0.0  11.93     0  0.573  6.030  80.8  2.5050    1  273   \n",
       "\n",
       "     PTRATIO       B  LSTAT  PRICE  \n",
       "0       15.3  396.90   4.98   24.0  \n",
       "1       17.8  396.90   9.14   21.6  \n",
       "2       17.8  392.83   4.03   34.7  \n",
       "3       18.7  394.63   2.94   33.4  \n",
       "4       18.7  396.90   5.33   36.2  \n",
       "..       ...     ...    ...    ...  \n",
       "501     21.0  391.99   9.67   22.4  \n",
       "502     21.0  396.90   9.08   20.6  \n",
       "503     21.0  396.90   5.64   23.9  \n",
       "504     21.0  393.45   6.48   22.0  \n",
       "505     21.0  396.90   7.88   11.9  \n",
       "\n",
       "[506 rows x 14 columns]"
      ]
     },
     "execution_count": 3,
     "metadata": {},
     "output_type": "execute_result"
    }
   ],
   "source": [
    "df\n"
   ]
  },
  {
   "cell_type": "code",
   "execution_count": 5,
   "metadata": {},
   "outputs": [
    {
     "name": "stdout",
     "output_type": "stream",
     "text": [
      "<class 'pandas.core.frame.DataFrame'>\n",
      "RangeIndex: 506 entries, 0 to 505\n",
      "Data columns (total 14 columns):\n",
      " #   Column   Non-Null Count  Dtype  \n",
      "---  ------   --------------  -----  \n",
      " 0   CRIM     506 non-null    float64\n",
      " 1   ZN       506 non-null    float64\n",
      " 2   INDUS    506 non-null    float64\n",
      " 3   CHAS     506 non-null    int64  \n",
      " 4   NOX      506 non-null    float64\n",
      " 5   RM       506 non-null    float64\n",
      " 6   AGE      506 non-null    float64\n",
      " 7   DIS      506 non-null    float64\n",
      " 8   RAD      506 non-null    int64  \n",
      " 9   TAX      506 non-null    int64  \n",
      " 10  PTRATIO  506 non-null    float64\n",
      " 11  B        506 non-null    float64\n",
      " 12  LSTAT    506 non-null    float64\n",
      " 13  PRICE    506 non-null    float64\n",
      "dtypes: float64(11), int64(3)\n",
      "memory usage: 55.5 KB\n"
     ]
    }
   ],
   "source": [
    "df.info()"
   ]
  },
  {
   "cell_type": "markdown",
   "metadata": {},
   "source": [
    "***\n",
    "\n",
    "# Recap of last time\n",
    "\n",
    "* Started by looking at decision trees - as these are the building blocks of random forests\n",
    "* We used a general data set that looked at Boston Housing\n"
   ]
  },
  {
   "cell_type": "code",
   "execution_count": 4,
   "metadata": {},
   "outputs": [],
   "source": [
    "tree = DecisionTreeRegressor() # Initialise"
   ]
  },
  {
   "cell_type": "markdown",
   "metadata": {},
   "source": [
    "## So what do trees do?\n",
    "\n",
    "* Split the data to get the target data so that the averages of the target variable on each side of the split are as close to each other as possible\n",
    "* Close in this case means that that the averages on each side of the split are as close to each other as possible"
   ]
  },
  {
   "cell_type": "code",
   "execution_count": 27,
   "metadata": {},
   "outputs": [],
   "source": [
    "left = df[df.LSTAT < 9.67]\n",
    "right = df[df.LSTAT >= 9.67]"
   ]
  },
  {
   "cell_type": "code",
   "execution_count": 28,
   "metadata": {},
   "outputs": [
    {
     "data": {
      "text/plain": [
       "0       1.467194\n",
       "1      -0.932806\n",
       "2      12.167194\n",
       "3      10.867194\n",
       "4      13.667194\n",
       "         ...    \n",
       "501    -0.132806\n",
       "502    -1.932806\n",
       "503     1.367194\n",
       "504    -0.532806\n",
       "505   -10.632806\n",
       "Name: PRICE, Length: 506, dtype: float64"
      ]
     },
     "execution_count": 28,
     "metadata": {},
     "output_type": "execute_result"
    }
   ],
   "source": [
    "# Error column using average of full data set to look at the values\n",
    "df['PRICE'] - df['PRICE'].mean()"
   ]
  },
  {
   "cell_type": "code",
   "execution_count": 29,
   "metadata": {},
   "outputs": [],
   "source": [
    "# Root mean squared error (i.e. average of square of errors)\n",
    "root_error = np.mean((df['PRICE'] - df['PRICE'].mean())**2)"
   ]
  },
  {
   "cell_type": "code",
   "execution_count": 30,
   "metadata": {},
   "outputs": [
    {
     "data": {
      "text/plain": [
       "84.4195561561656"
      ]
     },
     "execution_count": 30,
     "metadata": {},
     "output_type": "execute_result"
    }
   ],
   "source": [
    "root_error"
   ]
  },
  {
   "cell_type": "code",
   "execution_count": 31,
   "metadata": {},
   "outputs": [],
   "source": [
    "right_error = np.mean((right['PRICE'] - right['PRICE'].mean())**2)\n",
    "left_error = np.mean((left['PRICE'] - left['PRICE'].mean())**2)"
   ]
  },
  {
   "cell_type": "code",
   "execution_count": 32,
   "metadata": {},
   "outputs": [
    {
     "data": {
      "text/plain": [
       "24.32308736092969"
      ]
     },
     "execution_count": 32,
     "metadata": {},
     "output_type": "execute_result"
    }
   ],
   "source": [
    "right_error # Right side error is better"
   ]
  },
  {
   "cell_type": "code",
   "execution_count": 33,
   "metadata": {},
   "outputs": [
    {
     "data": {
      "text/plain": [
       "79.95297868897926"
      ]
     },
     "execution_count": 33,
     "metadata": {},
     "output_type": "execute_result"
    }
   ],
   "source": [
    "left_error # Left side error is a lot better"
   ]
  },
  {
   "cell_type": "markdown",
   "metadata": {},
   "source": [
    "So this means that both the left and right side of the data set are more similar to each other in a meaningful way.\n",
    "* This is shown because the Root Error of each side of the split is smaller than the average for the node above (i.e. full data set)"
   ]
  },
  {
   "cell_type": "code",
   "execution_count": 34,
   "metadata": {},
   "outputs": [],
   "source": [
    "num_samples = df.shape[0]\n",
    "right_samples = right.shape[0]\n",
    "left_samples = left.shape[0]"
   ]
  },
  {
   "cell_type": "code",
   "execution_count": 35,
   "metadata": {},
   "outputs": [
    {
     "data": {
      "text/plain": [
       "506"
      ]
     },
     "execution_count": 35,
     "metadata": {},
     "output_type": "execute_result"
    }
   ],
   "source": [
    "num_samples"
   ]
  },
  {
   "cell_type": "code",
   "execution_count": 36,
   "metadata": {},
   "outputs": [
    {
     "data": {
      "text/plain": [
       "298"
      ]
     },
     "execution_count": 36,
     "metadata": {},
     "output_type": "execute_result"
    }
   ],
   "source": [
    "right_samples"
   ]
  },
  {
   "cell_type": "code",
   "execution_count": 37,
   "metadata": {},
   "outputs": [
    {
     "data": {
      "text/plain": [
       "208"
      ]
     },
     "execution_count": 37,
     "metadata": {},
     "output_type": "execute_result"
    }
   ],
   "source": [
    "left_samples"
   ]
  },
  {
   "cell_type": "markdown",
   "metadata": {},
   "source": [
    "In this case our split is very lopsided on each side.\n",
    "* So we also need to make sure we scale the error terms to see if things have actually improved."
   ]
  },
  {
   "cell_type": "code",
   "execution_count": 38,
   "metadata": {},
   "outputs": [],
   "source": [
    "scaled_right_error = right_samples / num_samples * right_error"
   ]
  },
  {
   "cell_type": "code",
   "execution_count": 39,
   "metadata": {},
   "outputs": [],
   "source": [
    "scaled_left_error = left_samples / num_samples * left_error"
   ]
  },
  {
   "cell_type": "code",
   "execution_count": 40,
   "metadata": {},
   "outputs": [
    {
     "data": {
      "text/plain": [
       "14.32466409793883"
      ]
     },
     "execution_count": 40,
     "metadata": {},
     "output_type": "execute_result"
    }
   ],
   "source": [
    "scaled_right_error"
   ]
  },
  {
   "cell_type": "code",
   "execution_count": 41,
   "metadata": {},
   "outputs": [
    {
     "data": {
      "text/plain": [
       "32.86604657570689"
      ]
     },
     "execution_count": 41,
     "metadata": {},
     "output_type": "execute_result"
    }
   ],
   "source": [
    "scaled_left_error"
   ]
  },
  {
   "cell_type": "markdown",
   "metadata": {},
   "source": [
    "The decision tree then compares these weighted samples to the original root error."
   ]
  },
  {
   "cell_type": "code",
   "execution_count": 42,
   "metadata": {},
   "outputs": [
    {
     "data": {
      "text/plain": [
       "37.22884548251987"
      ]
     },
     "execution_count": 42,
     "metadata": {},
     "output_type": "execute_result"
    }
   ],
   "source": [
    "root_error - (right_samples / num_samples * right_error) - (left_samples / num_samples * left_error)"
   ]
  },
  {
   "cell_type": "markdown",
   "metadata": {},
   "source": [
    "So this is the criteria will test to see if it should split on a particular value.\n",
    "If the root_error will remain unchanged. This implies a bigger number is better. \n",
    "* Concept **INFORMATION GAIN** so we have gained information.\n",
    "\n",
    "Decision trees tend to prefer:\n",
    "* Things that split the sample in the node equally\n",
    "* Splits that improve the information gain (minimise errors in the samples)\n",
    "\n",
    "The tree will keep splitting until there is nothing left to split on."
   ]
  },
  {
   "cell_type": "markdown",
   "metadata": {},
   "source": [
    "## Testing a new value - for the next node in the tree\n"
   ]
  },
  {
   "cell_type": "code",
   "execution_count": null,
   "metadata": {},
   "outputs": [],
   "source": [
    "# For example a split of the initial node 'Tax'\n",
    "left = left[left.Tax <273]\n",
    "right = left[left.Tax >=273]"
   ]
  },
  {
   "cell_type": "markdown",
   "metadata": {},
   "source": [
    "***\n",
    "\n",
    "## Big benefits of decision trees\n",
    "\n",
    "* Don't need to make any assumptions about the underlying data\n",
    "    * Scale doesn't matter\n",
    "    * Formatting doesn't matter\n",
    "    * Only looks at whether on left or right side - magnitude doesn't influence this\n",
    "    * Somewhat immune to outliers\n",
    "\n",
    "* This creates an advantage over standard statistical methods\n",
    "    * Typical statistical approaches make bigt assumptions\n",
    "\n",
    "* We can just take a data set and fit a model on it as it is.\n",
    "\n",
    "\n",
    "## Shortcomings of decision trees\n",
    "\n",
    "**Good at 'memorising' data sets**\n",
    "\n",
    "* Often have trouble with out of sample data\n",
    "* The deeper you get into a tree, the less reliable the splits become\n",
    "    * You can get quite different splits if you just change the order\n",
    "* Tend to overfit data sets, since it just operates recursively\n",
    "* Typically beyond 6-8 levels, reproduciability becomes very erratic\n",
    "\n",
    "## Questions\n",
    "\n",
    "***\n",
    "*q: How does a tree decide what to sample first?*\n",
    "\n",
    "It will look at each unique value in each column, and then returns the one with the highest value of each expression. It's a 'double for loop'\n",
    "\n",
    "***\n",
    "*q: Will it always be the same?*\n",
    "\n",
    "Yes - in standard decision tree given that every unique value is considered to maximise information gain. A variety of techniques introduce additional randomness.\n",
    "\n",
    "***\n",
    "*q: ?*"
   ]
  },
  {
   "cell_type": "code",
   "execution_count": null,
   "metadata": {},
   "outputs": [],
   "source": []
  },
  {
   "cell_type": "markdown",
   "metadata": {},
   "source": [
    "*** \n",
    "# Talking about sci-kit learn\n",
    "\n",
    "`import sklearn`\n",
    "\n",
    "\n",
    "**scikit-learn.org**\n",
    "\n",
    "* This is the main library we will be using for Unit 3\n",
    "* Fairly well developed, generally the most popular machine learning library in python\n",
    "* Covers most of the main machine-learning model families\n",
    "* Be aware that scikit-learn operates on a CPU vs a GPU\n",
    "\n",
    "\n",
    "* It has a simple and straightforward API syntax\n",
    "* Most other machine learning packages in python copy scikit-learn\n"
   ]
  },
  {
   "cell_type": "markdown",
   "metadata": {},
   "source": [
    "## Major methods in scikit-learn\n",
    "\n",
    "* fit() - fits a data set to the target variable\n",
    "* score()\n",
    "* predict() - estimates outputs using the tree\n",
    "\n",
    "\n",
    "* get_params() - gives parameters of model"
   ]
  },
  {
   "cell_type": "code",
   "execution_count": 44,
   "metadata": {},
   "outputs": [],
   "source": [
    "# initiatlise your algorithm\n",
    "\n",
    "tree = DecisionTreeRegressor(max_depth=4)"
   ]
  },
  {
   "cell_type": "code",
   "execution_count": 47,
   "metadata": {},
   "outputs": [
    {
     "data": {
      "text/plain": [
       "DecisionTreeRegressor(max_depth=4)"
      ]
     },
     "execution_count": 47,
     "metadata": {},
     "output_type": "execute_result"
    }
   ],
   "source": [
    "# declare X & y (X - predictors / y - target variable; thing we're precdicting)\n",
    "\n",
    "X = df.drop('PRICE',axis = 1)\n",
    "X = df.drop(['PRICE','Prediction'],axis = 1)\n",
    "y = df['PRICE']\n",
    "\n",
    "# this is the learning bit - it figures out the values of the nodes\n",
    "tree.fit(X,y)"
   ]
  },
  {
   "cell_type": "code",
   "execution_count": 49,
   "metadata": {},
   "outputs": [],
   "source": [
    "# this will go ahead and make predictions\n",
    "df['Prediction'] = tree.predict(X)\n",
    "\n",
    "# This takes each unique sample and places it on it's corresponding leaf.\n",
    "# i.e: runs it through the tree"
   ]
  },
  {
   "cell_type": "code",
   "execution_count": 51,
   "metadata": {},
   "outputs": [
    {
     "data": {
      "text/html": [
       "<div>\n",
       "<style scoped>\n",
       "    .dataframe tbody tr th:only-of-type {\n",
       "        vertical-align: middle;\n",
       "    }\n",
       "\n",
       "    .dataframe tbody tr th {\n",
       "        vertical-align: top;\n",
       "    }\n",
       "\n",
       "    .dataframe thead th {\n",
       "        text-align: right;\n",
       "    }\n",
       "</style>\n",
       "<table border=\"1\" class=\"dataframe\">\n",
       "  <thead>\n",
       "    <tr style=\"text-align: right;\">\n",
       "      <th></th>\n",
       "      <th>CRIM</th>\n",
       "      <th>ZN</th>\n",
       "      <th>INDUS</th>\n",
       "      <th>CHAS</th>\n",
       "      <th>NOX</th>\n",
       "      <th>RM</th>\n",
       "      <th>AGE</th>\n",
       "      <th>DIS</th>\n",
       "      <th>RAD</th>\n",
       "      <th>TAX</th>\n",
       "      <th>PTRATIO</th>\n",
       "      <th>B</th>\n",
       "      <th>LSTAT</th>\n",
       "      <th>PRICE</th>\n",
       "      <th>Prediction</th>\n",
       "    </tr>\n",
       "  </thead>\n",
       "  <tbody>\n",
       "    <tr>\n",
       "      <th>0</th>\n",
       "      <td>0.00632</td>\n",
       "      <td>18.0</td>\n",
       "      <td>2.31</td>\n",
       "      <td>0</td>\n",
       "      <td>0.538</td>\n",
       "      <td>6.575</td>\n",
       "      <td>65.2</td>\n",
       "      <td>4.0900</td>\n",
       "      <td>1</td>\n",
       "      <td>296</td>\n",
       "      <td>15.3</td>\n",
       "      <td>396.90</td>\n",
       "      <td>4.98</td>\n",
       "      <td>24.0</td>\n",
       "      <td>27.427273</td>\n",
       "    </tr>\n",
       "    <tr>\n",
       "      <th>1</th>\n",
       "      <td>0.02731</td>\n",
       "      <td>0.0</td>\n",
       "      <td>7.07</td>\n",
       "      <td>0</td>\n",
       "      <td>0.469</td>\n",
       "      <td>6.421</td>\n",
       "      <td>78.9</td>\n",
       "      <td>4.9671</td>\n",
       "      <td>2</td>\n",
       "      <td>242</td>\n",
       "      <td>17.8</td>\n",
       "      <td>396.90</td>\n",
       "      <td>9.14</td>\n",
       "      <td>21.6</td>\n",
       "      <td>21.629744</td>\n",
       "    </tr>\n",
       "    <tr>\n",
       "      <th>2</th>\n",
       "      <td>0.02729</td>\n",
       "      <td>0.0</td>\n",
       "      <td>7.07</td>\n",
       "      <td>0</td>\n",
       "      <td>0.469</td>\n",
       "      <td>7.185</td>\n",
       "      <td>61.1</td>\n",
       "      <td>4.9671</td>\n",
       "      <td>2</td>\n",
       "      <td>242</td>\n",
       "      <td>17.8</td>\n",
       "      <td>392.83</td>\n",
       "      <td>4.03</td>\n",
       "      <td>34.7</td>\n",
       "      <td>32.748780</td>\n",
       "    </tr>\n",
       "    <tr>\n",
       "      <th>3</th>\n",
       "      <td>0.03237</td>\n",
       "      <td>0.0</td>\n",
       "      <td>2.18</td>\n",
       "      <td>0</td>\n",
       "      <td>0.458</td>\n",
       "      <td>6.998</td>\n",
       "      <td>45.8</td>\n",
       "      <td>6.0622</td>\n",
       "      <td>3</td>\n",
       "      <td>222</td>\n",
       "      <td>18.7</td>\n",
       "      <td>394.63</td>\n",
       "      <td>2.94</td>\n",
       "      <td>33.4</td>\n",
       "      <td>32.748780</td>\n",
       "    </tr>\n",
       "    <tr>\n",
       "      <th>4</th>\n",
       "      <td>0.06905</td>\n",
       "      <td>0.0</td>\n",
       "      <td>2.18</td>\n",
       "      <td>0</td>\n",
       "      <td>0.458</td>\n",
       "      <td>7.147</td>\n",
       "      <td>54.2</td>\n",
       "      <td>6.0622</td>\n",
       "      <td>3</td>\n",
       "      <td>222</td>\n",
       "      <td>18.7</td>\n",
       "      <td>396.90</td>\n",
       "      <td>5.33</td>\n",
       "      <td>36.2</td>\n",
       "      <td>32.748780</td>\n",
       "    </tr>\n",
       "  </tbody>\n",
       "</table>\n",
       "</div>"
      ],
      "text/plain": [
       "      CRIM    ZN  INDUS  CHAS    NOX     RM   AGE     DIS  RAD  TAX  PTRATIO  \\\n",
       "0  0.00632  18.0   2.31     0  0.538  6.575  65.2  4.0900    1  296     15.3   \n",
       "1  0.02731   0.0   7.07     0  0.469  6.421  78.9  4.9671    2  242     17.8   \n",
       "2  0.02729   0.0   7.07     0  0.469  7.185  61.1  4.9671    2  242     17.8   \n",
       "3  0.03237   0.0   2.18     0  0.458  6.998  45.8  6.0622    3  222     18.7   \n",
       "4  0.06905   0.0   2.18     0  0.458  7.147  54.2  6.0622    3  222     18.7   \n",
       "\n",
       "        B  LSTAT  PRICE  Prediction  \n",
       "0  396.90   4.98   24.0   27.427273  \n",
       "1  396.90   9.14   21.6   21.629744  \n",
       "2  392.83   4.03   34.7   32.748780  \n",
       "3  394.63   2.94   33.4   32.748780  \n",
       "4  396.90   5.33   36.2   32.748780  "
      ]
     },
     "execution_count": 51,
     "metadata": {},
     "output_type": "execute_result"
    }
   ],
   "source": [
    "# So now have PRICE and Prediction (what our tree thinks it should be)\n",
    "df.head()"
   ]
  },
  {
   "cell_type": "code",
   "execution_count": 59,
   "metadata": {},
   "outputs": [],
   "source": [
    "# Example of loop:\n",
    "max_gain = 0\n",
    "col_split = None\n",
    "\n",
    "for col in df.columns:\n",
    "\n",
    "    for value in df[col].unique():\n",
    "        left = df[df[col] < value]\n",
    "        right = df[df[col] >= value]\n",
    "        \n",
    "        root_error = np.mean(df['PRICE'] - df['PRICE'].mean()**2)\n",
    "        left_error = np.mean(left['PRICE'] - left['PRICE'].mean()**2)\n",
    "        right_error = np.mean(right['PRICE'] - right['PRICE'].mean()**2)\n",
    "        \n",
    "        info_gain = root_error - (right.shape[0]/df.shape[0]) * right_error - (left.shape[0] / df.shape[0])*left_error\n",
    "        \n",
    "        if info_gain > max_gain:\n",
    "            max_gain = info_gain\n",
    "            col_split = col"
   ]
  },
  {
   "cell_type": "code",
   "execution_count": 61,
   "metadata": {},
   "outputs": [
    {
     "data": {
      "text/plain": [
       "53.41490142053823"
      ]
     },
     "execution_count": 61,
     "metadata": {},
     "output_type": "execute_result"
    }
   ],
   "source": [
    "max_gain"
   ]
  },
  {
   "cell_type": "code",
   "execution_count": 62,
   "metadata": {},
   "outputs": [
    {
     "data": {
      "text/plain": [
       "'PRICE'"
      ]
     },
     "execution_count": 62,
     "metadata": {},
     "output_type": "execute_result"
    }
   ],
   "source": [
    "col_split"
   ]
  },
  {
   "cell_type": "code",
   "execution_count": 63,
   "metadata": {},
   "outputs": [
    {
     "data": {
      "text/plain": [
       "{'ccp_alpha': 0.0,\n",
       " 'criterion': 'mse',\n",
       " 'max_depth': 4,\n",
       " 'max_features': None,\n",
       " 'max_leaf_nodes': None,\n",
       " 'min_impurity_decrease': 0.0,\n",
       " 'min_impurity_split': None,\n",
       " 'min_samples_leaf': 1,\n",
       " 'min_samples_split': 2,\n",
       " 'min_weight_fraction_leaf': 0.0,\n",
       " 'presort': 'deprecated',\n",
       " 'random_state': None,\n",
       " 'splitter': 'best'}"
      ]
     },
     "execution_count": 63,
     "metadata": {},
     "output_type": "execute_result"
    }
   ],
   "source": [
    "tree.get_params()"
   ]
  },
  {
   "cell_type": "code",
   "execution_count": 65,
   "metadata": {},
   "outputs": [
    {
     "data": {
      "text/plain": [
       "0.8857396443908376"
      ]
     },
     "execution_count": 65,
     "metadata": {},
     "output_type": "execute_result"
    }
   ],
   "source": [
    "# score provides the R-square value\n",
    "# estimate of how well the model fits the data\n",
    "tree.score(X,y)"
   ]
  },
  {
   "cell_type": "markdown",
   "metadata": {},
   "source": [
    "***\n",
    "\n",
    "# Tree Based Ensembles\n",
    "\n",
    "* These attempt to get around the issues around producing predictions with decision trees.\n",
    "\n",
    "\n",
    "* We will focus on talking about **Gradient Boosting** ensemble techniques.\n",
    "    * Tends to work better than the theory behind it would predict\n",
    "    * Often not covered in masters courses (at best a week or two)\n",
    "    * *VERY GOOD IN THE REAL WORLD!*\n",
    "    \n"
   ]
  },
  {
   "cell_type": "markdown",
   "metadata": {},
   "source": [
    "## What is boosting?\n",
    "\n",
    "* A general purpose machine learning techniques\n",
    "* Combines many weak models into something more powerful\n",
    "* Boosting...\n",
    "    * Is **additive**: Fit lots of small models, then combine them together.\n",
    "    * Is **adaptive**: Every subsequent model pays more attention to the answers it got wrong on the last model.\n",
    "    \n",
    "## What is gradient boosting?\n",
    "\n",
    "**Gradient -** fancy word for errors\n",
    "* A specific approach to boosting models\n",
    "\n",
    "\n",
    "## Benefits of Gradient boosting\n",
    "* Uses trees as the base models so tend to get the benefits of these trees\n",
    "* Can wrap themselves around non-lineaer features of the data set\n",
    "* Can with a bit of tuning become fairly robust\n",
    "* Can fit to data sets of arbitrary size\n",
    "\n",
    "\n",
    "## Other notes\n",
    "\n",
    "* Tree's we are fitting are not all that deep\n",
    "* Can fit as many as you like, over and over again (in theory infinite!)\n",
    "* This will allow them to adapt and combine to fit an increasingly complex data set\n",
    "* non-parametric\n",
    "\n",
    "`feature_importances_` : tells us how much each column contributed to a model score.\n"
   ]
  },
  {
   "cell_type": "markdown",
   "metadata": {},
   "source": [
    "## Example of boosting:"
   ]
  },
  {
   "cell_type": "code",
   "execution_count": 71,
   "metadata": {},
   "outputs": [],
   "source": [
    "# X = df.drop(['PRICE'],axis = 1)\n",
    "X = df.drop(['PRICE','Prediction'],axis = 1)\n",
    "y = df['PRICE']\n"
   ]
  },
  {
   "cell_type": "code",
   "execution_count": 72,
   "metadata": {},
   "outputs": [],
   "source": [
    "# boosting starts with a NAIVE prediction\n",
    "# typically for regression the avg value of y\n",
    "naive_guess = y.mean()"
   ]
  },
  {
   "cell_type": "code",
   "execution_count": 78,
   "metadata": {},
   "outputs": [],
   "source": [
    "# get the error column\n",
    "gradient = y - y.mean() # Fancy term for error column"
   ]
  },
  {
   "cell_type": "code",
   "execution_count": 79,
   "metadata": {},
   "outputs": [],
   "source": [
    "# initialise a decision tree -- it will usually be shallow\n",
    "tree = DecisionTreeRegressor(max_depth=4)"
   ]
  },
  {
   "cell_type": "code",
   "execution_count": 80,
   "metadata": {},
   "outputs": [
    {
     "data": {
      "text/plain": [
       "DecisionTreeRegressor(max_depth=4)"
      ]
     },
     "execution_count": 80,
     "metadata": {},
     "output_type": "execute_result"
    }
   ],
   "source": [
    "# fit a tree on X & **the gradient**\n",
    "# Try to predict the errors, predicting the difference from the average\n",
    "tree.fit(X,gradient)"
   ]
  },
  {
   "cell_type": "code",
   "execution_count": 82,
   "metadata": {},
   "outputs": [
    {
     "data": {
      "text/plain": [
       "array([  4.8944664 ,  -0.90306273,  10.21597416,  10.21597416,\n",
       "        10.21597416,  -0.90306273,  -0.90306273,  -2.51197299,\n",
       "        -2.51197299,  -2.51197299,  -2.51197299,  -0.90306273,\n",
       "        -2.51197299,  -0.90306273,  -0.90306273,  -0.90306273,\n",
       "        -0.90306273,  -6.29384529,  -0.90306273,  -0.90306273,\n",
       "        -6.29384529,  -0.90306273,  -6.29384529,  -6.29384529,\n",
       "        -6.29384529,  -6.29384529,  -6.29384529,  -6.29384529,\n",
       "        -0.90306273,   4.8944664 ,  -6.29384529,  -0.90306273,\n",
       "        -6.29384529,  -6.29384529,  -6.29384529,  -0.90306273,\n",
       "        -0.90306273,  -0.90306273,  -0.90306273,   4.8944664 ,\n",
       "        10.21597416,   4.8944664 ,  -0.90306273,  -0.90306273,\n",
       "        -0.90306273,  -0.90306273,  -0.90306273,  -2.51197299,\n",
       "        -2.51197299,  -2.51197299,  -0.90306273,  -0.90306273,\n",
       "        -0.90306273,  -0.90306273,  -2.51197299,  10.21597416,\n",
       "        -0.90306273,   4.8944664 ,  -0.90306273,  -0.90306273,\n",
       "        -0.90306273,  -2.51197299,  -0.90306273,   4.8944664 ,\n",
       "        10.21597416,  -0.90306273,  -0.90306273,  -0.90306273,\n",
       "        -0.90306273,  -0.90306273,  -0.90306273,  -0.90306273,\n",
       "        -0.90306273,  -0.90306273,  -0.90306273,  -0.90306273,\n",
       "        -0.90306273,  -0.90306273,  -0.90306273,  -0.90306273,\n",
       "         4.8944664 ,   4.8944664 ,  -0.90306273,  -0.90306273,\n",
       "        -0.90306273,   4.8944664 ,  -0.90306273,  -0.90306273,\n",
       "        10.21597416,  10.21597416,  -0.90306273,  -0.90306273,\n",
       "        -0.90306273,  -0.90306273,  -0.90306273,   4.8944664 ,\n",
       "        -0.90306273,  21.12052701,  21.12052701,  10.21597416,\n",
       "         4.8944664 ,   4.8944664 ,  -0.90306273,  -0.90306273,\n",
       "        -0.90306273,  -2.51197299,  -2.51197299,  -0.90306273,\n",
       "        -0.90306273,  -2.51197299,  -0.90306273,   4.8944664 ,\n",
       "        -6.29384529,  -6.29384529,  -0.90306273,  -6.29384529,\n",
       "        -0.90306273,  -0.90306273,  -6.29384529,  -0.90306273,\n",
       "        -0.90306273,  -0.90306273,  -6.29384529,  -6.29384529,\n",
       "        -6.29384529,  -6.29384529,  -6.29384529,  -6.29384529,\n",
       "        -6.29384529,  -6.29384529,  -0.90306273,  -0.90306273,\n",
       "        -0.90306273,  -6.29384529,  -6.29384529,  -6.29384529,\n",
       "        -6.29384529,  -6.29384529,  -6.29384529,  -6.29384529,\n",
       "        -6.29384529,  -6.29384529,  -6.29384529,  -6.29384529,\n",
       "        -6.29384529,  -6.29384529,  -6.29384529,  -6.29384529,\n",
       "        -6.29384529,  -6.29384529,  -0.90306273,  -0.90306273,\n",
       "        -0.90306273,  -6.29384529,  -6.29384529,  -6.29384529,\n",
       "        -6.29384529,  23.11719368,  -0.90306273,  -0.90306273,\n",
       "        -0.90306273,  25.76719368,  25.76719368,  25.76719368,\n",
       "        -0.90306273,  -0.90306273,  25.76719368,  -0.90306273,\n",
       "        -0.90306273,  -0.90306273,  -6.29384529,  -0.90306273,\n",
       "        -2.51197299,  -0.90306273,  -0.90306273,   4.8944664 ,\n",
       "        -0.90306273,  -0.90306273,   4.8944664 ,  10.21597416,\n",
       "        21.12052701,  -0.90306273,  10.21597416,   4.8944664 ,\n",
       "        -0.90306273,  -0.90306273,  21.12052701,   4.8944664 ,\n",
       "         4.8944664 ,  10.21597416,  10.21597416,   4.8944664 ,\n",
       "        10.21597416,   4.8944664 ,   4.8944664 ,  25.76719368,\n",
       "        10.21597416,  10.21597416,  10.21597416,  10.21597416,\n",
       "        10.21597416,  -0.90306273,  25.76719368,  25.76719368,\n",
       "        25.76719368,  -0.90306273,  -0.90306273,  -2.51197299,\n",
       "        -2.51197299,  -2.51197299,  -2.51197299,  -2.51197299,\n",
       "        -2.51197299,  -0.90306273,  -2.51197299,  -0.90306273,\n",
       "        -0.90306273,   4.8944664 ,  -6.29384529,  -0.90306273,\n",
       "        10.21597416,  -2.51197299,   4.8944664 ,   4.8944664 ,\n",
       "        21.12052701,  21.12052701,  21.12052701,  10.21597416,\n",
       "        21.12052701,   4.8944664 ,  -0.90306273,  10.21597416,\n",
       "        21.12052701,  21.12052701,   4.8944664 ,  -0.90306273,\n",
       "         4.8944664 ,  10.21597416,  -0.90306273,   4.8944664 ,\n",
       "         4.8944664 ,  -0.90306273,  -0.90306273,  -0.90306273,\n",
       "        -0.90306273,  -2.51197299,  -0.90306273,  -0.90306273,\n",
       "        -0.90306273,   4.8944664 ,  -0.90306273,  -0.90306273,\n",
       "        10.21597416,  21.12052701,  -0.90306273,  -0.90306273,\n",
       "        21.12052701,  25.76719368,  10.21597416,   4.8944664 ,\n",
       "        10.21597416,  25.76719368,  25.76719368,  10.21597416,\n",
       "        10.21597416,  -0.90306273,  10.21597416,  25.76719368,\n",
       "        25.76719368,  -0.90306273,  -0.90306273,  -0.90306273,\n",
       "        -0.90306273,  21.12052701,   4.8944664 ,   4.8944664 ,\n",
       "        10.21597416,   4.8944664 ,  -0.90306273,   4.8944664 ,\n",
       "        21.12052701,  10.21597416,  21.12052701,  25.76719368,\n",
       "        10.21597416,  -0.90306273,  -0.90306273,  -0.90306273,\n",
       "        -0.90306273,   4.8944664 ,   4.8944664 ,  10.21597416,\n",
       "         4.8944664 ,  -0.90306273,  -0.90306273,   4.8944664 ,\n",
       "         4.8944664 ,  -2.51197299,  -0.90306273,  10.21597416,\n",
       "         4.8944664 ,   4.8944664 ,  -0.90306273,  10.21597416,\n",
       "        10.21597416,   4.8944664 ,  10.21597416,   4.8944664 ,\n",
       "         4.8944664 ,  -0.90306273,  -0.90306273,  -0.90306273,\n",
       "        -0.90306273,  -0.90306273,   4.8944664 ,  -0.90306273,\n",
       "        -6.29384529,  -6.29384529,  -0.90306273,  -0.90306273,\n",
       "        -0.90306273,  -0.90306273,  -0.90306273,  -0.90306273,\n",
       "        -0.90306273,  -0.90306273,  -0.90306273,  -0.90306273,\n",
       "        -0.90306273,  -0.90306273,  -0.90306273,  -0.90306273,\n",
       "        -0.90306273,  -0.90306273,  -0.90306273,  -0.90306273,\n",
       "        -0.90306273,  -0.90306273,  -0.90306273,  -0.90306273,\n",
       "        -0.90306273,  10.21597416,  -0.90306273,   4.8944664 ,\n",
       "         4.8944664 ,  -0.90306273,  -0.90306273,  -0.90306273,\n",
       "         4.8944664 ,   4.8944664 ,  -0.90306273,   4.8944664 ,\n",
       "        -0.90306273,   4.8944664 ,  -0.90306273,  -0.90306273,\n",
       "       -11.45538697,  -0.90306273,  -0.90306273,  -0.90306273,\n",
       "        -0.90306273,  -0.90306273,  -0.90306273,  -6.29384529,\n",
       "        -0.63280632,  -0.90306273,  -0.90306273,  -0.90306273,\n",
       "        27.46719368,  27.46719368,  23.11719368,  27.46719368,\n",
       "        27.46719368, -11.45538697, -11.45538697,  -6.13280632,\n",
       "       -11.45538697, -11.45538697, -11.45538697, -11.45538697,\n",
       "       -12.13280632, -11.45538697, -11.45538697, -11.45538697,\n",
       "       -11.45538697, -11.45538697, -11.45538697, -11.45538697,\n",
       "       -11.45538697, -11.45538697,  -6.29384529,  -6.29384529,\n",
       "       -11.45538697, -11.45538697, -11.45538697, -11.45538697,\n",
       "        -6.29384529, -11.45538697, -11.45538697, -11.45538697,\n",
       "       -11.45538697, -11.45538697, -11.45538697, -11.45538697,\n",
       "       -11.45538697, -11.45538697, -11.45538697,   5.36719368,\n",
       "        -5.89947299,  -5.89947299,  -0.90306273,  -5.89947299,\n",
       "        -5.89947299,  -5.89947299, -11.45538697, -11.45538697,\n",
       "       -11.45538697, -11.45538697, -11.45538697, -11.45538697,\n",
       "       -11.45538697, -11.45538697,  -0.90306273, -11.45538697,\n",
       "        -5.89947299, -11.45538697,  -5.89947299, -11.45538697,\n",
       "       -11.45538697, -11.45538697,  -5.89947299,  -5.89947299,\n",
       "        -0.90306273,  -6.29384529, -11.45538697, -11.45538697,\n",
       "       -11.45538697, -11.45538697, -11.45538697, -11.45538697,\n",
       "       -11.45538697, -11.45538697,  -6.29384529, -11.45538697,\n",
       "       -11.45538697, -11.45538697,  -6.29384529, -11.45538697,\n",
       "       -11.45538697, -11.45538697,  -6.29384529,  -6.29384529,\n",
       "        -6.29384529,  -6.13280632, -11.45538697,  -6.29384529,\n",
       "        -6.29384529, -11.45538697, -11.45538697,  -6.29384529,\n",
       "        -6.29384529,  -6.29384529,  -0.90306273,  -0.90306273,\n",
       "        -0.90306273,  -0.90306273,  -6.29384529,  -6.29384529,\n",
       "        -5.89947299,  -5.89947299,  -6.29384529,  -0.90306273,\n",
       "        -0.90306273,  10.21597416,  -5.89947299,  -6.29384529,\n",
       "        -6.29384529, -11.45538697, -11.45538697,  -0.90306273,\n",
       "        -0.90306273,   4.8944664 ,  10.21597416,  -0.90306273,\n",
       "        -0.90306273,  -0.90306273,  -6.29384529,  -0.90306273,\n",
       "        -6.29384529,  -6.29384529,  -6.29384529,  -6.29384529,\n",
       "        -0.90306273,  -0.90306273,  -0.90306273,  -6.29384529,\n",
       "        -6.29384529,  -0.90306273,  -0.90306273,  -6.29384529,\n",
       "        -0.90306273,   4.8944664 ,  -0.90306273,  10.21597416,\n",
       "         4.8944664 ,  -0.90306273])"
      ]
     },
     "execution_count": 82,
     "metadata": {},
     "output_type": "execute_result"
    }
   ],
   "source": [
    "# This gives our predicted amount error\n",
    "tree.predict(X)\n",
    "\n",
    "# This gives a prediction on HOW DIFFERENT/HOW FAR AWAY from the \n",
    "# average value of y this sample will be."
   ]
  },
  {
   "cell_type": "code",
   "execution_count": 83,
   "metadata": {},
   "outputs": [],
   "source": [
    "# Add our error to our previous guess\n",
    "# This is the end of 1 round of boosting\n",
    "naive_guess += tree.predict(X)"
   ]
  },
  {
   "cell_type": "code",
   "execution_count": 85,
   "metadata": {},
   "outputs": [],
   "source": [
    "gradient2 = y - naive_guess"
   ]
  },
  {
   "cell_type": "code",
   "execution_count": 86,
   "metadata": {},
   "outputs": [
    {
     "data": {
      "text/plain": [
       "0     -3.427273\n",
       "1     -0.029744\n",
       "2      1.951220\n",
       "3      0.651220\n",
       "4      3.451220\n",
       "         ...   \n",
       "501   -5.027273\n",
       "502   -1.029744\n",
       "503   -8.848780\n",
       "504   -5.427273\n",
       "505   -9.729744\n",
       "Name: PRICE, Length: 506, dtype: float64"
      ]
     },
     "execution_count": 86,
     "metadata": {},
     "output_type": "execute_result"
    }
   ],
   "source": [
    "# Gradient for round 2, should be a bit smaller than round 1\n",
    "gradient2"
   ]
  },
  {
   "cell_type": "code",
   "execution_count": 88,
   "metadata": {},
   "outputs": [
    {
     "data": {
      "text/plain": [
       "DecisionTreeRegressor(max_depth=4)"
      ]
     },
     "execution_count": 88,
     "metadata": {},
     "output_type": "execute_result"
    }
   ],
   "source": [
    "tree.fit(X,gradient2)"
   ]
  },
  {
   "cell_type": "code",
   "execution_count": 89,
   "metadata": {},
   "outputs": [
    {
     "data": {
      "text/plain": [
       "array([-0.7878807 , -0.7878807 , -0.7878807 ,  1.44307887,  1.44307887,\n",
       "        3.88472594, -0.7878807 ,  0.54781545, -1.93156374,  0.54781545,\n",
       "        0.54781545, -0.7878807 ,  0.54781545, -0.7878807 , -0.7878807 ,\n",
       "       -0.7878807 ,  3.844535  ,  0.54781545, -0.7878807 , -0.7878807 ,\n",
       "        0.54781545, -0.7878807 ,  0.54781545,  0.54781545,  0.54781545,\n",
       "        0.54781545,  0.54781545,  0.54781545, -0.7878807 , -0.7878807 ,\n",
       "        0.54781545, -0.7878807 , -1.93156374,  0.54781545,  0.54781545,\n",
       "       -0.7878807 , -0.7878807 , -0.7878807 ,  3.844535  ,  1.73639029,\n",
       "        1.73639029,  1.73639029,  1.73639029,  1.73639029, -0.7878807 ,\n",
       "       -0.7878807 , -0.7878807 ,  0.54781545, -1.93156374,  0.54781545,\n",
       "       -0.7878807 , -0.7878807 ,  1.15555972,  1.15555972,  0.54781545,\n",
       "        1.15555972, -0.7878807 , -0.7878807 , -0.98539764, -0.7878807 ,\n",
       "       -0.7878807 , -0.7878807 , -0.7878807 , -0.7878807 ,  1.44307887,\n",
       "        1.15555972,  1.15555972,  1.15555972, -0.7878807 ,  1.15555972,\n",
       "        1.73639029,  1.73639029,  1.73639029,  1.73639029,  3.844535  ,\n",
       "       -0.7878807 , -0.7878807 , -0.7878807 , -0.7878807 , -0.7878807 ,\n",
       "       -0.7878807 , -0.7878807 ,  1.73639029, -0.7878807 , -0.7878807 ,\n",
       "       -0.7878807 , -0.7878807 , -0.7878807 , -0.7878807 , -0.7878807 ,\n",
       "       -0.7878807 , -0.7878807 , -0.7878807 ,  3.844535  , -0.7878807 ,\n",
       "       -0.7878807 , -0.7878807 , -0.7878807 , -0.7878807 , -0.7878807 ,\n",
       "       -0.7878807 , -0.7878807 , -0.7878807 , -0.7878807 , -0.7878807 ,\n",
       "        0.54781545,  0.54781545, -0.7878807 , -0.7878807 ,  0.54781545,\n",
       "       -0.7878807 , -0.7878807 ,  0.54781545,  0.54781545, -0.7878807 ,\n",
       "        0.54781545, -0.7878807 , -0.7878807 ,  0.54781545, -0.7878807 ,\n",
       "        3.88472594, -0.93435231,  3.88472594,  1.06103896,  3.88472594,\n",
       "        3.88472594, -0.93435231,  0.54781545,  0.54781545,  0.54781545,\n",
       "       -0.7878807 , -0.7878807 , -0.7878807 ,  0.54781545,  0.54781545,\n",
       "        0.54781545,  0.54781545,  0.54781545,  0.54781545,  0.54781545,\n",
       "       -1.93156374, -1.93156374, -1.93156374, -1.93156374, -1.93156374,\n",
       "       -1.93156374,  0.54781545, -1.93156374, -1.93156374,  0.54781545,\n",
       "       -0.7878807 , -0.7878807 , -0.7878807 ,  0.54781545,  0.54781545,\n",
       "        0.54781545,  0.54781545, -0.7878807 , -0.7878807 , -0.7878807 ,\n",
       "       -0.7878807 , -0.7878807 , -0.7878807 , -0.7878807 , -0.7878807 ,\n",
       "       -0.7878807 , -0.7878807 , -0.7878807 , -0.7878807 , -0.7878807 ,\n",
       "       -0.7878807 , -0.7878807 ,  0.54781545, -0.7878807 , -0.7878807 ,\n",
       "        3.844535  , -0.7878807 , -0.7878807 , -0.7878807 ,  5.05154415,\n",
       "        1.65733333, 14.57025641,  5.05154415,  5.05154415,  5.05154415,\n",
       "        5.05154415,  1.65733333, -0.7878807 ,  3.844535  , -0.7878807 ,\n",
       "        1.73639029,  1.73639029,  1.73639029,  1.73639029,  1.73639029,\n",
       "        1.73639029, -0.7878807 , -0.7878807 , -0.7878807 ,  1.15555972,\n",
       "       -0.98539764, -0.7878807 ,  1.73639029, -0.7878807 ,  1.73639029,\n",
       "        3.844535  , -0.7878807 ,  0.54781545,  0.54781545,  0.54781545,\n",
       "        0.54781545, -1.93156374,  0.54781545,  3.844535  ,  3.844535  ,\n",
       "       -0.7878807 , -0.7878807 , -0.7878807 ,  0.54781545, -0.7878807 ,\n",
       "       -0.7878807 ,  0.54781545, -0.7878807 , -0.7878807 , -0.7878807 ,\n",
       "       -0.7878807 , -0.7878807 , -0.7878807 ,  3.844535  ,  3.844535  ,\n",
       "       -0.7878807 , -0.7878807 , -0.7878807 , -0.7878807 , -0.7878807 ,\n",
       "       -0.7878807 , -0.7878807 , -0.7878807 ,  1.73639029, -0.7878807 ,\n",
       "       -0.7878807 , -0.7878807 , -0.7878807 , -0.98539764, -0.7878807 ,\n",
       "        0.54781545, -0.7878807 , -0.7878807 , -0.7878807 , -0.98539764,\n",
       "        1.15555972, -0.98539764, -0.98539764,  1.15555972, -0.98539764,\n",
       "       -0.98539764, -0.7878807 , -0.7878807 , -0.7878807 , -0.7878807 ,\n",
       "       -0.7878807 , -0.7878807 , -0.7878807 , -0.7878807 , -0.7878807 ,\n",
       "       -0.7878807 ,  0.54781545, -0.7878807 , -0.7878807 , -0.7878807 ,\n",
       "       -0.7878807 ,  3.844535  , -0.7878807 , -0.7878807 ,  3.844535  ,\n",
       "       -0.7878807 , -0.7878807 ,  3.844535  ,  3.844535  ,  5.05154415,\n",
       "        1.65733333,  5.05154415,  1.65733333,  1.65733333, -0.98539764,\n",
       "       -0.98539764, -0.98539764,  1.15555972, -0.7878807 , -0.98539764,\n",
       "        1.73639029,  1.73639029,  1.73639029,  1.73639029, -0.7878807 ,\n",
       "        1.73639029, -0.7878807 ,  0.54781545, -0.98539764, -0.98539764,\n",
       "       -0.7878807 , -0.7878807 ,  1.73639029,  1.73639029,  1.44307887,\n",
       "        1.44307887,  1.44307887,  1.44307887, -0.7878807 , -0.7878807 ,\n",
       "       -0.7878807 , -0.7878807 , -0.7878807 , -0.7878807 , -0.7878807 ,\n",
       "       -0.7878807 ,  0.54781545,  0.54781545, -0.7878807 , -0.7878807 ,\n",
       "       -0.7878807 , -0.7878807 , -0.7878807 , -0.7878807 , -0.7878807 ,\n",
       "        1.73639029,  1.73639029, -0.7878807 ,  1.73639029,  1.73639029,\n",
       "        1.73639029, -0.98539764, -0.98539764, -0.7878807 , -0.7878807 ,\n",
       "       -0.7878807 , -0.7878807 , -0.7878807 , -0.7878807 , -0.7878807 ,\n",
       "       -0.7878807 , -0.7878807 , -0.7878807 , -0.7878807 ,  1.73639029,\n",
       "       -0.7878807 , -0.7878807 , -0.98539764, -0.98539764, -0.7878807 ,\n",
       "       -0.7878807 , -0.7878807 , -0.98539764,  5.05154415, -0.98539764,\n",
       "       -0.98539764,  0.54781545, -0.7878807 , -0.7878807 , -0.7878807 ,\n",
       "       -0.7878807 , -0.7878807 , -0.7878807 ,  0.54781545, -0.7878807 ,\n",
       "       -0.7878807 , -0.7878807 , -0.7878807 , -0.7878807 , -0.7878807 ,\n",
       "       -0.7878807 , -0.7878807 , -0.7878807 , -1.93156374, -1.93156374,\n",
       "       -0.7878807 ,  0.54781545,  0.54781545,  0.54781545,  0.54781545,\n",
       "        0.54781545,  0.54781545,  0.54781545, -1.93156374, -1.93156374,\n",
       "       -1.93156374, -1.93156374, -1.93156374, -1.93156374,  0.54781545,\n",
       "        0.54781545,  0.54781545, -1.93156374,  0.54781545,  0.54781545,\n",
       "        0.54781545,  0.54781545,  0.54781545, -1.93156374, -1.93156374,\n",
       "       -1.93156374,  0.54781545,  0.54781545,  0.54781545, -1.93156374,\n",
       "        0.54781545,  0.54781545, -0.7878807 , -1.93156374,  0.54781545,\n",
       "       -0.7878807 ,  0.54781545, -1.93156374,  0.54781545, -1.93156374,\n",
       "       -1.93156374, -1.93156374, -1.93156374,  0.54781545,  0.54781545,\n",
       "        0.54781545,  0.54781545, -0.7878807 ,  0.54781545,  0.54781545,\n",
       "       -1.93156374,  0.54781545, -0.7878807 ,  0.54781545, -1.93156374,\n",
       "        0.54781545,  0.54781545, -0.7878807 ,  0.54781545,  0.54781545,\n",
       "        0.54781545,  0.54781545, -1.93156374, -1.93156374,  0.54781545,\n",
       "        0.54781545,  0.54781545,  0.54781545,  0.54781545,  0.54781545,\n",
       "       -1.93156374,  0.54781545,  0.54781545,  0.54781545,  0.54781545,\n",
       "        0.54781545,  0.54781545,  0.54781545,  0.54781545,  0.54781545,\n",
       "        0.54781545,  0.54781545,  0.54781545,  0.54781545,  0.54781545,\n",
       "        0.54781545,  0.54781545, -0.7878807 , -0.7878807 , -0.7878807 ,\n",
       "       -0.7878807 ,  0.54781545,  0.54781545,  0.54781545,  0.54781545,\n",
       "        0.54781545, -0.7878807 , -0.7878807 , -0.7878807 ,  0.54781545,\n",
       "       -1.93156374,  0.54781545, -1.93156374,  0.54781545, -0.7878807 ,\n",
       "       -0.7878807 , -0.7878807 , -0.7878807 , -0.7878807 , -0.7878807 ,\n",
       "       -0.7878807 ,  0.54781545, -0.7878807 ,  0.54781545, -8.68896104,\n",
       "       -8.68896104,  0.54781545, -0.7878807 , -0.7878807 , -0.7878807 ,\n",
       "        3.844535  ,  0.54781545, -0.7878807 , -0.7878807 ,  0.54781545,\n",
       "       -0.7878807 , -0.7878807 , -0.7878807 , -0.7878807 , -0.7878807 ,\n",
       "       -0.7878807 ])"
      ]
     },
     "execution_count": 89,
     "metadata": {},
     "output_type": "execute_result"
    }
   ],
   "source": [
    "tree.predict(X)\n",
    "# Numbers appear to be a bit smaller this time after round 2"
   ]
  },
  {
   "cell_type": "code",
   "execution_count": 90,
   "metadata": {},
   "outputs": [],
   "source": [
    "# Add our error to our previous guess\n",
    "# This is the end of 2 round of boosting\n",
    "naive_guess += tree.predict(X)\n"
   ]
  },
  {
   "cell_type": "code",
   "execution_count": 91,
   "metadata": {},
   "outputs": [
    {
     "data": {
      "text/plain": [
       "array([26.63939202, 20.84186289, 31.96089979, 34.19185936, 34.19185936,\n",
       "       25.51446953, 20.84186289, 20.56864878, 18.08926959, 20.56864878,\n",
       "       20.56864878, 20.84186289, 20.56864878, 20.84186289, 20.84186289,\n",
       "       20.84186289, 25.47427859, 16.78677649, 20.84186289, 20.84186289,\n",
       "       16.78677649, 20.84186289, 16.78677649, 16.78677649, 16.78677649,\n",
       "       16.78677649, 16.78677649, 16.78677649, 20.84186289, 26.63939202,\n",
       "       16.78677649, 20.84186289, 14.3073973 , 16.78677649, 16.78677649,\n",
       "       20.84186289, 20.84186289, 20.84186289, 25.47427859, 29.16366301,\n",
       "       34.48517077, 29.16366301, 23.36613388, 23.36613388, 20.84186289,\n",
       "       20.84186289, 20.84186289, 20.56864878, 18.08926959, 20.56864878,\n",
       "       20.84186289, 20.84186289, 22.78530331, 22.78530331, 20.56864878,\n",
       "       33.90434021, 20.84186289, 26.63939202, 20.64434595, 20.84186289,\n",
       "       20.84186289, 19.23295263, 20.84186289, 26.63939202, 34.19185936,\n",
       "       22.78530331, 22.78530331, 22.78530331, 20.84186289, 22.78530331,\n",
       "       23.36613388, 23.36613388, 23.36613388, 23.36613388, 25.47427859,\n",
       "       20.84186289, 20.84186289, 20.84186289, 20.84186289, 20.84186289,\n",
       "       26.63939202, 26.63939202, 23.36613388, 20.84186289, 20.84186289,\n",
       "       26.63939202, 20.84186289, 20.84186289, 31.96089979, 31.96089979,\n",
       "       20.84186289, 20.84186289, 20.84186289, 25.47427859, 20.84186289,\n",
       "       26.63939202, 20.84186289, 42.86545263, 42.86545263, 31.96089979,\n",
       "       26.63939202, 26.63939202, 20.84186289, 20.84186289, 20.84186289,\n",
       "       20.56864878, 20.56864878, 20.84186289, 20.84186289, 20.56864878,\n",
       "       20.84186289, 26.63939202, 16.78677649, 16.78677649, 20.84186289,\n",
       "       16.78677649, 20.84186289, 20.84186289, 16.78677649, 20.84186289,\n",
       "       25.51446953, 20.69539128, 20.12368698, 17.3       , 20.12368698,\n",
       "       20.12368698, 15.30460872, 16.78677649, 16.78677649, 16.78677649,\n",
       "       20.84186289, 20.84186289, 20.84186289, 16.78677649, 16.78677649,\n",
       "       16.78677649, 16.78677649, 16.78677649, 16.78677649, 16.78677649,\n",
       "       14.3073973 , 14.3073973 , 14.3073973 , 14.3073973 , 14.3073973 ,\n",
       "       14.3073973 , 16.78677649, 14.3073973 , 14.3073973 , 16.78677649,\n",
       "       20.84186289, 20.84186289, 20.84186289, 16.78677649, 16.78677649,\n",
       "       16.78677649, 16.78677649, 44.8621193 , 20.84186289, 20.84186289,\n",
       "       20.84186289, 47.5121193 , 47.5121193 , 47.5121193 , 20.84186289,\n",
       "       20.84186289, 47.5121193 , 20.84186289, 20.84186289, 20.84186289,\n",
       "       15.45108034, 20.84186289, 20.56864878, 20.84186289, 20.84186289,\n",
       "       31.27180772, 20.84186289, 20.84186289, 26.63939202, 37.80032463,\n",
       "       45.31066667, 36.2       , 37.80032463, 32.47881687, 26.68128774,\n",
       "       26.68128774, 45.31066667, 26.63939202, 31.27180772, 31.96089979,\n",
       "       34.48517077, 29.16366301, 34.48517077, 29.16366301, 29.16366301,\n",
       "       50.03639029, 31.96089979, 31.96089979, 31.96089979, 33.90434021,\n",
       "       31.76338285, 20.84186289, 50.03639029, 47.5121193 , 50.03639029,\n",
       "       25.47427859, 20.84186289, 20.56864878, 20.56864878, 20.56864878,\n",
       "       20.56864878, 18.08926959, 20.56864878, 25.47427859, 23.86536833,\n",
       "       20.84186289, 20.84186289, 26.63939202, 16.78677649, 20.84186289,\n",
       "       31.96089979, 20.56864878, 26.63939202, 26.63939202, 42.86545263,\n",
       "       42.86545263, 42.86545263, 31.96089979, 47.49786833, 31.27180772,\n",
       "       20.84186289, 31.96089979, 42.86545263, 42.86545263, 26.63939202,\n",
       "       20.84186289, 26.63939202, 31.96089979, 23.36613388, 26.63939202,\n",
       "       26.63939202, 20.84186289, 20.84186289, 20.64434595, 20.84186289,\n",
       "       20.56864878, 20.84186289, 20.84186289, 20.84186289, 26.44187509,\n",
       "       22.78530331, 20.64434595, 31.76338285, 44.80889306, 20.64434595,\n",
       "       20.64434595, 42.86545263, 47.5121193 , 31.96089979, 26.63939202,\n",
       "       31.96089979, 47.5121193 , 47.5121193 , 31.96089979, 31.96089979,\n",
       "       20.84186289, 33.29659593, 47.5121193 , 47.5121193 , 20.84186289,\n",
       "       20.84186289, 25.47427859, 20.84186289, 42.86545263, 31.27180772,\n",
       "       26.63939202, 31.96089979, 31.27180772, 25.47427859, 32.47881687,\n",
       "       45.31066667, 37.80032463, 45.31066667, 49.95733333, 31.76338285,\n",
       "       20.64434595, 20.64434595, 22.78530331, 20.84186289, 26.44187509,\n",
       "       29.16366301, 34.48517077, 29.16366301, 23.36613388, 20.84186289,\n",
       "       29.16366301, 26.63939202, 20.56864878, 20.64434595, 31.76338285,\n",
       "       26.63939202, 26.63939202, 23.36613388, 34.48517077, 34.19185936,\n",
       "       28.8703516 , 34.19185936, 28.8703516 , 26.63939202, 20.84186289,\n",
       "       20.84186289, 20.84186289, 20.84186289, 20.84186289, 26.63939202,\n",
       "       20.84186289, 16.78677649, 16.78677649, 20.84186289, 20.84186289,\n",
       "       20.84186289, 20.84186289, 20.84186289, 20.84186289, 20.84186289,\n",
       "       23.36613388, 23.36613388, 20.84186289, 23.36613388, 23.36613388,\n",
       "       23.36613388, 20.64434595, 20.64434595, 20.84186289, 20.84186289,\n",
       "       20.84186289, 20.84186289, 20.84186289, 20.84186289, 20.84186289,\n",
       "       20.84186289, 31.96089979, 20.84186289, 26.63939202, 29.16366301,\n",
       "       20.84186289, 20.84186289, 20.64434595, 26.44187509, 26.63939202,\n",
       "       20.84186289, 26.63939202, 20.64434595, 32.47881687, 20.64434595,\n",
       "       20.64434595, 11.6252348 , 20.84186289, 20.84186289, 20.84186289,\n",
       "       20.84186289, 20.84186289, 20.84186289, 16.78677649, 21.1121193 ,\n",
       "       20.84186289, 20.84186289, 20.84186289, 49.2121193 , 49.2121193 ,\n",
       "       44.8621193 , 49.2121193 , 49.2121193 ,  9.14585561,  9.14585561,\n",
       "       15.6121193 , 11.6252348 , 11.6252348 , 11.6252348 , 11.6252348 ,\n",
       "       10.94781545, 11.6252348 , 11.6252348 ,  9.14585561,  9.14585561,\n",
       "        9.14585561,  9.14585561,  9.14585561,  9.14585561, 11.6252348 ,\n",
       "       16.78677649, 16.78677649,  9.14585561, 11.6252348 , 11.6252348 ,\n",
       "       11.6252348 , 16.78677649, 11.6252348 ,  9.14585561,  9.14585561,\n",
       "        9.14585561, 11.6252348 , 11.6252348 , 11.6252348 ,  9.14585561,\n",
       "       11.6252348 , 11.6252348 , 27.1121193 , 14.70176959, 17.18114878,\n",
       "       20.84186289, 17.18114878, 14.70176959, 17.18114878,  9.14585561,\n",
       "        9.14585561,  9.14585561,  9.14585561, 11.6252348 , 11.6252348 ,\n",
       "       11.6252348 , 11.6252348 , 20.84186289, 11.6252348 , 17.18114878,\n",
       "        9.14585561, 17.18114878, 10.28953865, 11.6252348 ,  9.14585561,\n",
       "       17.18114878, 17.18114878, 20.84186289, 16.78677649, 11.6252348 ,\n",
       "       11.6252348 , 11.6252348 ,  9.14585561,  9.14585561, 11.6252348 ,\n",
       "       11.6252348 , 11.6252348 , 16.78677649, 11.6252348 , 11.6252348 ,\n",
       "        9.14585561, 16.78677649, 11.6252348 , 11.6252348 , 11.6252348 ,\n",
       "       16.78677649, 16.78677649, 16.78677649, 16.94781545, 11.6252348 ,\n",
       "       16.78677649, 16.78677649, 11.6252348 , 11.6252348 , 16.78677649,\n",
       "       16.78677649, 16.78677649, 20.84186289, 20.84186289, 20.84186289,\n",
       "       20.84186289, 16.78677649, 16.78677649, 17.18114878, 17.18114878,\n",
       "       16.78677649, 20.84186289, 20.84186289, 31.96089979, 17.18114878,\n",
       "       14.3073973 , 16.78677649,  9.14585561, 11.6252348 , 20.84186289,\n",
       "       20.84186289, 26.63939202, 31.96089979, 20.84186289, 20.84186289,\n",
       "       20.84186289, 16.78677649, 20.84186289, 16.78677649,  7.55      ,\n",
       "        7.55      , 16.78677649, 20.84186289, 20.84186289, 20.84186289,\n",
       "       20.08349604, 16.78677649, 20.84186289, 20.84186289, 16.78677649,\n",
       "       20.84186289, 26.63939202, 20.84186289, 31.96089979, 26.63939202,\n",
       "       20.84186289])"
      ]
     },
     "execution_count": 91,
     "metadata": {},
     "output_type": "execute_result"
    }
   ],
   "source": [
    "naive_guess # After round 2; values become more and more differentiated"
   ]
  },
  {
   "cell_type": "code",
   "execution_count": 92,
   "metadata": {},
   "outputs": [],
   "source": [
    "gradient3 = y - naive_guess"
   ]
  },
  {
   "cell_type": "code",
   "execution_count": 93,
   "metadata": {},
   "outputs": [
    {
     "data": {
      "text/plain": [
       "0     -2.639392\n",
       "1      0.758137\n",
       "2      2.739100\n",
       "3     -0.791859\n",
       "4      2.008141\n",
       "         ...   \n",
       "501   -4.239392\n",
       "502   -0.241863\n",
       "503   -8.060900\n",
       "504   -4.639392\n",
       "505   -8.941863\n",
       "Name: PRICE, Length: 506, dtype: float64"
      ]
     },
     "execution_count": 93,
     "metadata": {},
     "output_type": "execute_result"
    }
   ],
   "source": [
    "gradient3"
   ]
  },
  {
   "cell_type": "code",
   "execution_count": 94,
   "metadata": {},
   "outputs": [
    {
     "data": {
      "text/plain": [
       "DecisionTreeRegressor(max_depth=4)"
      ]
     },
     "execution_count": 94,
     "metadata": {},
     "output_type": "execute_result"
    }
   ],
   "source": [
    "\n",
    "tree.fit(X,gradient3)"
   ]
  },
  {
   "cell_type": "code",
   "execution_count": 96,
   "metadata": {},
   "outputs": [
    {
     "data": {
      "text/plain": [
       "array([-0.04749562,  1.31749276, -0.04749562, -0.04749562, -0.04749562,\n",
       "        1.31749276, -1.68604327,  1.31749276, -1.68604327, -1.68604327,\n",
       "        1.31749276, -1.68604327, -1.68604327, -1.56022518, -1.56022518,\n",
       "       -1.56022518, -3.50683531, -1.56022518, -1.56022518, -1.56022518,\n",
       "       -3.61531683, -1.56022518, -3.61531683, -1.56022518, -1.56022518,\n",
       "       -1.56022518, -1.56022518, -1.56022518, -1.56022518, -3.61531683,\n",
       "       -3.61531683, -3.61531683, -3.61531683, -3.61531683, -3.61531683,\n",
       "        0.16784939,  0.16784939,  0.16784939,  0.16784939, -0.04749562,\n",
       "       -0.04749562, -0.04749562,  1.31749276,  1.31749276,  1.31749276,\n",
       "       -1.68604327, -1.68604327, -1.68604327, -1.68604327, -1.68604327,\n",
       "       -1.68604327,  1.31749276,  1.31749276, -1.68604327, -1.56022518,\n",
       "       -0.04749562,  1.31749276, -0.04749562,  1.31749276, -1.68604327,\n",
       "       -1.68604327, -1.68604327,  1.31749276, -0.04749562, -0.04749562,\n",
       "        1.31749276, -1.68604327, -1.68604327, -1.68604327, -1.68604327,\n",
       "        1.31749276, -1.68604327,  1.31749276,  1.31749276,  1.31749276,\n",
       "        1.31749276,  1.31749276,  1.31749276,  1.31749276,  0.16784939,\n",
       "       -0.04749562, -0.04749562,  1.31749276,  1.31749276,  1.31749276,\n",
       "       -0.04749562,  0.16784939,  1.31749276, -0.04749562, -0.04749562,\n",
       "        1.31749276,  1.31749276,  1.31749276,  1.31749276,  1.31749276,\n",
       "       -0.04749562,  1.31749276, -0.04749562, -0.04749562, -0.04749562,\n",
       "       -0.04749562, -0.04749562, -0.92955505,  1.31749276,  1.31749276,\n",
       "        0.16784939,  0.16784939,  1.31749276,  1.31749276,  1.31749276,\n",
       "        1.31749276, -0.04749562,  0.16784939,  1.31749276,  1.31749276,\n",
       "        0.16784939,  1.31749276,  0.16784939,  0.16784939,  0.16784939,\n",
       "        0.16784939,  0.16784939,  0.16784939,  0.16784939,  0.16784939,\n",
       "        0.16784939,  0.16784939,  0.57014415,  0.57014415, -1.20570329,\n",
       "        0.57014415, -1.20570329,  0.57014415,  0.57014415, -1.20570329,\n",
       "        0.57014415,  0.57014415,  0.57014415, -2.96556122,  0.57014415,\n",
       "        0.57014415, -1.20570329,  0.16784939,  0.16784939,  0.16784939,\n",
       "        1.31749276,  0.16784939,  0.16784939,  0.16784939,  0.16784939,\n",
       "        1.31749276,  0.16784939,  0.16784939,  0.16784939,  1.31749276,\n",
       "       -0.92955505, -0.92955505, -0.04749562,  1.31749276,  1.31749276,\n",
       "        1.31749276, -0.04749562, -0.04749562, -0.04749562,  0.16784939,\n",
       "        1.31749276, -0.04749562,  0.16784939,  1.31749276,  1.31749276,\n",
       "        0.16784939,  0.16784939,  0.16784939,  1.31749276,  0.16784939,\n",
       "       -0.04749562,  0.16784939,  1.31749276, -0.04749562, -0.04749562,\n",
       "       -0.04749562,  1.31749276, -0.04749562, -0.04749562,  0.16784939,\n",
       "        1.31749276, -0.04749562, -0.04749562, -0.04749562, -0.04749562,\n",
       "       -0.04749562, -0.04749562, -0.04749562, -0.04749562, -0.04749562,\n",
       "       -0.04749562, -0.04749562, -0.04749562, -0.04749562, -0.04749562,\n",
       "       -0.04749562,  1.31749276, -0.04749562, -0.04749562, -0.04749562,\n",
       "        0.16784939,  1.31749276,  0.16784939,  1.31749276,  0.16784939,\n",
       "        0.16784939,  0.16784939,  0.16784939,  1.31749276,  0.16784939,\n",
       "        1.31749276,  0.16784939, -0.04749562,  0.16784939,  1.31749276,\n",
       "       -0.04749562,  1.31749276, -0.04749562, -0.04749562, -0.04749562,\n",
       "       -0.04749562, -0.04749562, -0.04749562, -0.04749562, -0.04749562,\n",
       "        0.16784939, -0.04749562, -0.04749562, -0.04749562, -0.04749562,\n",
       "        1.31749276, -0.04749562, -0.04749562,  1.31749276, -0.04749562,\n",
       "       -0.04749562,  1.31749276,  1.31749276,  1.31749276, -1.68604327,\n",
       "       -1.68604327,  1.31749276,  1.31749276,  1.31749276, -0.04749562,\n",
       "        1.31749276,  1.31749276, -0.04749562, -0.04749562,  1.31749276,\n",
       "       -1.68604327, -0.04749562, -0.04749562, -0.04749562, -0.04749562,\n",
       "       -0.04749562, -0.04749562, -0.04749562, -0.04749562, -0.04749562,\n",
       "        0.16784939, -0.04749562, -0.04749562, -0.04749562,  0.16784939,\n",
       "        0.16784939,  1.31749276,  1.31749276, -0.04749562, -0.04749562,\n",
       "       -0.04749562, -0.04749562, -0.04749562,  1.31749276, -0.04749562,\n",
       "       -0.04749562, -0.04749562, -0.04749562, -0.04749562, -0.04749562,\n",
       "        1.31749276,  1.31749276,  1.31749276,  1.31749276, -0.04749562,\n",
       "       -0.04749562, -0.04749562, -0.04749562,  1.31749276, -1.68604327,\n",
       "       -0.04749562, -0.04749562, -1.68604327,  1.31749276, -0.04749562,\n",
       "       -0.04749562, -0.04749562,  1.31749276, -0.04749562, -0.04749562,\n",
       "       -0.04749562, -0.04749562, -0.04749562, -0.04749562,  0.16784939,\n",
       "        0.16784939,  1.31749276,  0.16784939,  1.31749276, -0.04749562,\n",
       "        0.16784939,  0.16784939,  0.16784939,  1.31749276,  1.31749276,\n",
       "        1.31749276,  1.31749276, -1.68604327, -1.68604327,  1.31749276,\n",
       "        1.31749276,  1.31749276,  1.31749276, -1.68604327,  1.31749276,\n",
       "        1.31749276, -1.68604327, -1.68604327,  1.31749276,  1.31749276,\n",
       "       -1.68604327, -1.68604327, -1.68604327,  1.31749276, -1.68604327,\n",
       "       -1.68604327, -0.04749562, -0.04749562, -0.04749562, -0.04749562,\n",
       "       -1.68604327, -1.68604327,  1.31749276, -0.04749562, -0.04749562,\n",
       "        1.31749276, -0.04749562, -1.68604327, -0.04749562, -2.96556122,\n",
       "       -0.04434595,  1.31749276,  1.31749276,  1.31749276,  1.31749276,\n",
       "        1.31749276,  1.31749276,  0.16784939,  0.16784939, -0.04749562,\n",
       "        0.16784939,  0.16784939,  0.16784939,  0.16784939, -0.04749562,\n",
       "       -0.04749562,  1.31749276,  0.16784939,  0.16784939,  0.16784939,\n",
       "       -0.04749562, -0.04749562, -0.04749562,  1.31749276,  1.31749276,\n",
       "       -0.04749562, -0.04749562,  0.16784939,  0.16784939,  0.16784939,\n",
       "        0.16784939,  0.16784939,  0.16784939,  0.16784939,  0.16784939,\n",
       "        0.16784939,  1.31749276,  0.16784939,  1.31749276,  0.16784939,\n",
       "        1.31749276,  1.31749276,  0.16784939,  0.16784939,  0.16784939,\n",
       "        0.16784939,  1.31749276,  1.31749276,  0.16784939,  0.16784939,\n",
       "        0.16784939,  0.16784939,  0.16784939,  0.16784939, -0.04749562,\n",
       "       -5.84186289, -0.92955505, -0.92955505,  0.16784939, -0.92955505,\n",
       "       -0.92955505, -0.92955505,  0.16784939, -0.92955505, -0.92955505,\n",
       "        1.31749276,  0.16784939,  0.16784939, -0.92955505, -5.11150583,\n",
       "       -0.92955505, -6.98114878, -0.92955505, -0.92955505, -0.92955505,\n",
       "       -0.92955505, -0.92955505, -5.11150583, -0.92955505,  1.31749276,\n",
       "       -0.04749562, -0.92955505, -0.92955505, -0.92955505,  0.16784939,\n",
       "        0.16784939,  1.31749276,  1.31749276,  1.31749276,  0.16784939,\n",
       "       -0.92955505,  1.31749276,  1.31749276,  1.31749276,  1.31749276,\n",
       "       -0.92955505, -0.04749562,  1.31749276, -0.04749562, -0.92955505,\n",
       "       -0.92955505, -0.92955505, -0.92955505,  1.31749276,  1.31749276,\n",
       "       -0.04749562,  1.31749276,  1.31749276,  1.31749276,  1.31749276,\n",
       "        0.16784939, -0.92955505,  0.16784939,  0.16784939,  0.16784939,\n",
       "        1.31749276,  1.31749276,  1.31749276, -0.04749562,  0.16784939,\n",
       "        1.31749276,  1.31749276,  0.16784939,  1.31749276,  1.31749276,\n",
       "        1.31749276, -0.04749562, -0.04749562,  0.16784939,  0.16784939,\n",
       "        1.31749276,  1.31749276,  0.16784939,  0.16784939,  0.16784939,\n",
       "        0.16784939,  0.16784939,  0.16784939,  0.16784939,  0.16784939,\n",
       "        0.16784939,  0.16784939,  0.16784939,  0.16784939,  0.16784939,\n",
       "        0.16784939, -1.56022518, -1.56022518, -8.50138134, -3.50683531,\n",
       "       -8.50138134])"
      ]
     },
     "execution_count": 96,
     "metadata": {},
     "output_type": "execute_result"
    }
   ],
   "source": [
    "tree.predict(X)"
   ]
  },
  {
   "cell_type": "code",
   "execution_count": 97,
   "metadata": {},
   "outputs": [],
   "source": [
    "# Add our error to our previous guess\n",
    "# This is the end of 3 round of boosting\n",
    "naive_guess += tree.predict(X)"
   ]
  },
  {
   "cell_type": "code",
   "execution_count": 99,
   "metadata": {},
   "outputs": [
    {
     "data": {
      "text/plain": [
       "array([26.59189641, 22.15935565, 31.91340417, 34.14436374, 34.14436374,\n",
       "       26.83196229, 19.15581962, 21.88614154, 16.40322632, 18.88260551,\n",
       "       21.88614154, 19.15581962, 18.88260551, 19.28163771, 19.28163771,\n",
       "       19.28163771, 21.96744328, 15.22655131, 19.28163771, 19.28163771,\n",
       "       13.17145966, 19.28163771, 13.17145966, 15.22655131, 15.22655131,\n",
       "       15.22655131, 15.22655131, 15.22655131, 19.28163771, 23.0240752 ,\n",
       "       13.17145966, 17.22654606, 10.69208047, 13.17145966, 13.17145966,\n",
       "       21.00971228, 21.00971228, 21.00971228, 25.64212798, 29.1161674 ,\n",
       "       34.43767516, 29.1161674 , 24.68362664, 24.68362664, 22.15935565,\n",
       "       19.15581962, 19.15581962, 18.88260551, 16.40322632, 18.88260551,\n",
       "       19.15581962, 22.15935565, 24.10279608, 21.09926005, 19.0084236 ,\n",
       "       33.8568446 , 22.15935565, 26.59189641, 21.96183871, 19.15581962,\n",
       "       19.15581962, 17.54690936, 22.15935565, 26.59189641, 34.14436374,\n",
       "       24.10279608, 21.09926005, 21.09926005, 19.15581962, 21.09926005,\n",
       "       24.68362664, 21.68009061, 24.68362664, 24.68362664, 26.79177135,\n",
       "       22.15935565, 22.15935565, 22.15935565, 22.15935565, 21.00971228,\n",
       "       26.59189641, 26.59189641, 24.68362664, 22.15935565, 22.15935565,\n",
       "       26.59189641, 21.00971228, 22.15935565, 31.91340417, 31.91340417,\n",
       "       22.15935565, 22.15935565, 22.15935565, 26.79177135, 22.15935565,\n",
       "       26.59189641, 22.15935565, 42.81795702, 42.81795702, 31.91340417,\n",
       "       26.59189641, 26.59189641, 19.91230784, 22.15935565, 22.15935565,\n",
       "       20.73649817, 20.73649817, 22.15935565, 22.15935565, 21.88614154,\n",
       "       22.15935565, 26.59189641, 16.95462588, 18.10426925, 22.15935565,\n",
       "       16.95462588, 22.15935565, 21.00971228, 16.95462588, 21.00971228,\n",
       "       25.68231892, 20.86324067, 20.29153637, 17.46784939, 20.29153637,\n",
       "       20.29153637, 15.47245812, 17.35692064, 17.35692064, 15.5810732 ,\n",
       "       21.41200704, 19.6361596 , 21.41200704, 17.35692064, 15.5810732 ,\n",
       "       17.35692064, 17.35692064, 17.35692064, 13.82121527, 17.35692064,\n",
       "       14.87754145, 13.10169401, 14.47524669, 14.47524669, 14.47524669,\n",
       "       15.62489006, 16.95462588, 14.47524669, 14.47524669, 16.95462588,\n",
       "       22.15935565, 21.00971228, 21.00971228, 16.95462588, 18.10426925,\n",
       "       15.85722144, 15.85722144, 44.81462368, 22.15935565, 22.15935565,\n",
       "       22.15935565, 47.46462368, 47.46462368, 47.46462368, 21.00971228,\n",
       "       22.15935565, 47.46462368, 21.00971228, 22.15935565, 22.15935565,\n",
       "       15.61892973, 21.00971228, 20.73649817, 22.15935565, 21.00971228,\n",
       "       31.22431211, 21.00971228, 22.15935565, 26.59189641, 37.75282902,\n",
       "       45.26317105, 37.51749276, 37.75282902, 32.43132126, 26.84913713,\n",
       "       27.9987805 , 45.26317105, 26.59189641, 31.22431211, 31.91340417,\n",
       "       34.43767516, 29.1161674 , 34.43767516, 29.1161674 , 29.1161674 ,\n",
       "       49.98889467, 31.91340417, 31.91340417, 31.91340417, 33.8568446 ,\n",
       "       31.71588723, 22.15935565, 49.98889467, 47.46462368, 49.98889467,\n",
       "       25.64212798, 22.15935565, 20.73649817, 21.88614154, 20.73649817,\n",
       "       20.73649817, 18.25711898, 20.73649817, 26.79177135, 24.03321772,\n",
       "       22.15935565, 21.00971228, 26.59189641, 16.95462588, 22.15935565,\n",
       "       31.91340417, 21.88614154, 26.59189641, 26.59189641, 42.81795702,\n",
       "       42.81795702, 42.81795702, 31.91340417, 47.45037271, 31.22431211,\n",
       "       21.00971228, 31.91340417, 42.81795702, 42.81795702, 26.59189641,\n",
       "       22.15935565, 26.59189641, 31.91340417, 24.68362664, 26.59189641,\n",
       "       26.59189641, 22.15935565, 22.15935565, 21.96183871, 19.15581962,\n",
       "       18.88260551, 22.15935565, 22.15935565, 22.15935565, 26.39437947,\n",
       "       24.10279608, 21.96183871, 31.71588723, 44.76139744, 21.96183871,\n",
       "       18.95830268, 42.81795702, 47.46462368, 31.91340417, 26.59189641,\n",
       "       31.91340417, 47.46462368, 47.46462368, 31.91340417, 31.91340417,\n",
       "       21.00971228, 33.24910032, 47.46462368, 47.46462368, 21.00971228,\n",
       "       21.00971228, 26.79177135, 22.15935565, 42.81795702, 31.22431211,\n",
       "       26.59189641, 31.91340417, 31.22431211, 26.79177135, 32.43132126,\n",
       "       45.26317105, 37.75282902, 45.26317105, 49.90983772, 31.71588723,\n",
       "       21.96183871, 21.96183871, 24.10279608, 22.15935565, 26.39437947,\n",
       "       29.1161674 , 34.43767516, 29.1161674 , 24.68362664, 19.15581962,\n",
       "       29.1161674 , 26.59189641, 18.88260551, 21.96183871, 31.71588723,\n",
       "       26.59189641, 26.59189641, 24.68362664, 34.43767516, 34.14436374,\n",
       "       28.82285598, 34.14436374, 28.82285598, 26.59189641, 21.00971228,\n",
       "       21.00971228, 22.15935565, 21.00971228, 22.15935565, 26.59189641,\n",
       "       21.00971228, 16.95462588, 16.95462588, 22.15935565, 22.15935565,\n",
       "       22.15935565, 22.15935565, 19.15581962, 19.15581962, 22.15935565,\n",
       "       24.68362664, 24.68362664, 22.15935565, 21.68009061, 24.68362664,\n",
       "       24.68362664, 18.95830268, 18.95830268, 22.15935565, 22.15935565,\n",
       "       19.15581962, 19.15581962, 19.15581962, 22.15935565, 19.15581962,\n",
       "       19.15581962, 31.91340417, 20.79436727, 26.59189641, 29.1161674 ,\n",
       "       19.15581962, 19.15581962, 21.96183871, 26.39437947, 26.59189641,\n",
       "       22.15935565, 26.59189641, 18.95830268, 32.43132126, 17.67878473,\n",
       "       20.6       , 12.94272756, 22.15935565, 22.15935565, 22.15935565,\n",
       "       22.15935565, 22.15935565, 21.00971228, 16.95462588, 21.06462368,\n",
       "       21.00971228, 21.00971228, 21.00971228, 49.37996869, 49.16462368,\n",
       "       44.81462368, 50.52961206, 49.37996869,  9.313705  ,  9.313705  ,\n",
       "       15.56462368, 11.57773919, 11.57773919, 12.94272756, 12.94272756,\n",
       "       10.90031983, 11.57773919, 11.79308419,  9.313705  ,  9.313705  ,\n",
       "        9.313705  ,  9.313705  ,  9.313705  ,  9.313705  , 11.79308419,\n",
       "       16.95462588, 18.10426925,  9.313705  , 12.94272756, 11.79308419,\n",
       "       12.94272756, 18.10426925, 11.79308419,  9.313705  ,  9.313705  ,\n",
       "        9.313705  , 12.94272756, 12.94272756, 11.79308419,  9.313705  ,\n",
       "       11.79308419, 11.79308419, 27.27996869, 14.86961898, 17.13365316,\n",
       "       15.        , 16.25159373, 13.77221454, 17.34899817,  8.21630056,\n",
       "        8.21630056,  8.21630056,  9.313705  , 10.69567975, 10.69567975,\n",
       "       12.94272756, 11.79308419, 21.00971228, 10.69567975, 12.06964295,\n",
       "        8.21630056, 10.2       ,  9.3599836 , 10.69567975,  8.21630056,\n",
       "       16.25159373, 16.25159373, 15.73035705, 15.85722144, 12.94272756,\n",
       "       11.57773919, 10.69567975,  8.21630056,  8.21630056, 11.79308419,\n",
       "       11.79308419, 12.94272756, 18.10426925, 12.94272756, 11.79308419,\n",
       "        8.21630056, 18.10426925, 12.94272756, 12.94272756, 12.94272756,\n",
       "       15.85722144, 16.73928087, 18.10426925, 16.90031983, 10.69567975,\n",
       "       15.85722144, 15.85722144, 10.69567975, 12.94272756, 18.10426925,\n",
       "       16.73928087, 18.10426925, 22.15935565, 22.15935565, 22.15935565,\n",
       "       21.00971228, 15.85722144, 16.95462588, 17.34899817, 17.34899817,\n",
       "       18.10426925, 22.15935565, 22.15935565, 31.91340417, 17.34899817,\n",
       "       15.62489006, 18.10426925,  9.313705  , 12.94272756, 22.15935565,\n",
       "       22.15935565, 26.59189641, 31.91340417, 21.00971228, 21.00971228,\n",
       "       22.15935565, 18.10426925, 21.00971228, 16.95462588,  7.71784939,\n",
       "        7.71784939, 16.95462588, 21.00971228, 21.00971228, 21.00971228,\n",
       "       20.25134543, 16.95462588, 21.00971228, 21.00971228, 16.95462588,\n",
       "       21.00971228, 25.07916685, 19.28163771, 23.45951845, 23.13255672,\n",
       "       12.34048155])"
      ]
     },
     "execution_count": 99,
     "metadata": {},
     "output_type": "execute_result"
    }
   ],
   "source": [
    "naive_guess #Final predictions after 3 rounds."
   ]
  },
  {
   "cell_type": "code",
   "execution_count": 101,
   "metadata": {},
   "outputs": [
    {
     "data": {
      "text/plain": [
       "array([26.59189641, 22.15935565, 31.91340417, 34.14436374, 34.14436374])"
      ]
     },
     "execution_count": 101,
     "metadata": {},
     "output_type": "execute_result"
    }
   ],
   "source": [
    "naive_guess[:5]"
   ]
  },
  {
   "cell_type": "code",
   "execution_count": 102,
   "metadata": {},
   "outputs": [
    {
     "data": {
      "text/plain": [
       "0    24.0\n",
       "1    21.6\n",
       "2    34.7\n",
       "3    33.4\n",
       "4    36.2\n",
       "Name: PRICE, dtype: float64"
      ]
     },
     "execution_count": 102,
     "metadata": {},
     "output_type": "execute_result"
    }
   ],
   "source": [
    "y[:5]"
   ]
  },
  {
   "cell_type": "code",
   "execution_count": 107,
   "metadata": {},
   "outputs": [],
   "source": [
    "gradient4 = y - naive_guess # From round 3 of predictions"
   ]
  },
  {
   "cell_type": "code",
   "execution_count": 108,
   "metadata": {},
   "outputs": [
    {
     "data": {
      "text/plain": [
       "DecisionTreeRegressor(max_depth=4)"
      ]
     },
     "execution_count": 108,
     "metadata": {},
     "output_type": "execute_result"
    }
   ],
   "source": [
    "tree.fit(X,gradient4)"
   ]
  },
  {
   "cell_type": "code",
   "execution_count": 110,
   "metadata": {},
   "outputs": [],
   "source": [
    "learning_rate = .1"
   ]
  },
  {
   "cell_type": "code",
   "execution_count": 113,
   "metadata": {},
   "outputs": [],
   "source": [
    "naive_guess += tree.predict(X) * learning_rate\n",
    "# Typically add in this much smaller number"
   ]
  },
  {
   "cell_type": "code",
   "execution_count": null,
   "metadata": {},
   "outputs": [],
   "source": []
  },
  {
   "cell_type": "markdown",
   "metadata": {},
   "source": [
    "Importing gradient boosting!\n",
    "\n",
    "\n"
   ]
  },
  {
   "cell_type": "code",
   "execution_count": 114,
   "metadata": {},
   "outputs": [],
   "source": [
    "from sklearn.ensemble import GradientBoostingRegressor"
   ]
  },
  {
   "cell_type": "code",
   "execution_count": 115,
   "metadata": {},
   "outputs": [],
   "source": [
    "gbm = GradientBoostingRegressor()"
   ]
  },
  {
   "cell_type": "code",
   "execution_count": 117,
   "metadata": {},
   "outputs": [
    {
     "data": {
      "text/plain": [
       "{'alpha': 0.9,\n",
       " 'ccp_alpha': 0.0,\n",
       " 'criterion': 'friedman_mse',\n",
       " 'init': None,\n",
       " 'learning_rate': 0.1,\n",
       " 'loss': 'ls',\n",
       " 'max_depth': 3,\n",
       " 'max_features': None,\n",
       " 'max_leaf_nodes': None,\n",
       " 'min_impurity_decrease': 0.0,\n",
       " 'min_impurity_split': None,\n",
       " 'min_samples_leaf': 1,\n",
       " 'min_samples_split': 2,\n",
       " 'min_weight_fraction_leaf': 0.0,\n",
       " 'n_estimators': 100,\n",
       " 'n_iter_no_change': None,\n",
       " 'presort': 'deprecated',\n",
       " 'random_state': None,\n",
       " 'subsample': 1.0,\n",
       " 'tol': 0.0001,\n",
       " 'validation_fraction': 0.1,\n",
       " 'verbose': 0,\n",
       " 'warm_start': False}"
      ]
     },
     "execution_count": 117,
     "metadata": {},
     "output_type": "execute_result"
    }
   ],
   "source": [
    "gbm.get_params()\n",
    "# These are the different knobs we can adjust"
   ]
  },
  {
   "cell_type": "markdown",
   "metadata": {},
   "source": [
    "**learning_rate**: How much we scale errors predicted by to ensure updates are incremental\n",
    "\n",
    "**max_depth**: How deep an individual tree will go\n",
    "\n",
    "**n_estimators**: How many boosting rounds you will use\n",
    "\n",
    "So defaults: Learning rate is .1 / trees 3 deep / 100 times"
   ]
  },
  {
   "cell_type": "code",
   "execution_count": 118,
   "metadata": {},
   "outputs": [
    {
     "data": {
      "text/plain": [
       "GradientBoostingRegressor()"
      ]
     },
     "execution_count": 118,
     "metadata": {},
     "output_type": "execute_result"
    }
   ],
   "source": [
    "gbm.fit(X,y)"
   ]
  },
  {
   "cell_type": "code",
   "execution_count": 121,
   "metadata": {},
   "outputs": [
    {
     "data": {
      "text/plain": [
       "0.9761405838418584"
      ]
     },
     "execution_count": 121,
     "metadata": {},
     "output_type": "execute_result"
    }
   ],
   "source": [
    "gbm.score(X,y)\n",
    "# Much better than an ordinary decision tree (R-Square of .88)\n"
   ]
  },
  {
   "cell_type": "code",
   "execution_count": 122,
   "metadata": {},
   "outputs": [
    {
     "data": {
      "text/plain": [
       "array([0.02385397, 0.00045362, 0.0021715 , 0.00087275, 0.03667315,\n",
       "       0.41118511, 0.00863911, 0.08448798, 0.00123333, 0.01152284,\n",
       "       0.03455736, 0.01184085, 0.37250843])"
      ]
     },
     "execution_count": 122,
     "metadata": {},
     "output_type": "execute_result"
    }
   ],
   "source": [
    "# tells us how much each column contributed to the overall score\n",
    "gbm.feature_importances_\n"
   ]
  },
  {
   "cell_type": "code",
   "execution_count": 123,
   "metadata": {},
   "outputs": [
    {
     "data": {
      "text/plain": [
       "Index(['CRIM', 'ZN', 'INDUS', 'CHAS', 'NOX', 'RM', 'AGE', 'DIS', 'RAD', 'TAX',\n",
       "       'PTRATIO', 'B', 'LSTAT'],\n",
       "      dtype='object')"
      ]
     },
     "execution_count": 123,
     "metadata": {},
     "output_type": "execute_result"
    }
   ],
   "source": [
    "X.columns"
   ]
  },
  {
   "cell_type": "code",
   "execution_count": null,
   "metadata": {},
   "outputs": [],
   "source": []
  },
  {
   "cell_type": "code",
   "execution_count": null,
   "metadata": {},
   "outputs": [],
   "source": []
  },
  {
   "cell_type": "code",
   "execution_count": null,
   "metadata": {},
   "outputs": [],
   "source": []
  }
 ],
 "metadata": {
  "kernelspec": {
   "display_name": "Python 3",
   "language": "python",
   "name": "python3"
  },
  "language_info": {
   "codemirror_mode": {
    "name": "ipython",
    "version": 3
   },
   "file_extension": ".py",
   "mimetype": "text/x-python",
   "name": "python",
   "nbconvert_exporter": "python",
   "pygments_lexer": "ipython3",
   "version": "3.8.3"
  }
 },
 "nbformat": 4,
 "nbformat_minor": 4
}
