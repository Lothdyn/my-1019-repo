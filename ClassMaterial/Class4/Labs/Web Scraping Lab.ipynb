{
 "cells": [
  {
   "cell_type": "markdown",
   "metadata": {},
   "source": [
    "### Web Scraping Lab\n",
    "\n",
    "Welcome!  In today's lab we're going to build a web scraper that's going to build a dataset from restaurant listings on a yelp page.  \n",
    "\n",
    "You can find the web page here: https://www.yelp.com/search?find_desc=Restaurants&find_loc=London%2C%20United%20Kingdom&ns=1\n",
    "\n",
    "The lab questions listed herein will naturally build from the material discussed in class."
   ]
  },
  {
   "cell_type": "code",
   "execution_count": 1,
   "metadata": {},
   "outputs": [],
   "source": [
    "import pandas as pd\n",
    "import requests\n",
    "import bs4"
   ]
  },
  {
   "cell_type": "code",
   "execution_count": 2,
   "metadata": {},
   "outputs": [],
   "source": [
    "url = 'https://www.yelp.com/search?find_desc=Restaurants&find_loc=London%2C%20United%20Kingdom&ns=1'\n",
    "req = requests.get(url)"
   ]
  },
  {
   "cell_type": "code",
   "execution_count": 3,
   "metadata": {},
   "outputs": [],
   "source": [
    "scraper = bs4.BeautifulSoup(req.text)"
   ]
  },
  {
   "cell_type": "code",
   "execution_count": 4,
   "metadata": {},
   "outputs": [
    {
     "data": {
      "text/plain": [
       "bs4.BeautifulSoup"
      ]
     },
     "execution_count": 4,
     "metadata": {},
     "output_type": "execute_result"
    }
   ],
   "source": [
    "type(scraper)"
   ]
  },
  {
   "cell_type": "markdown",
   "metadata": {},
   "source": [
    "#### Step 1:  Scrape the number of reviews for each restaurant\n",
    "\n",
    "Using a similar methodology we used to find the title of the restaurant find the number of reviews for the 30 restaurants listed on this web page.\n",
    "\n",
    "**Hint:** the `isdigit()` string method will be helpful to detect if a string contains a number."
   ]
  },
  {
   "cell_type": "code",
   "execution_count": 14,
   "metadata": {},
   "outputs": [],
   "source": [
    "\n",
    "page_links = scraper.find_all('span')\n",
    "\n"
   ]
  },
  {
   "cell_type": "code",
   "execution_count": 15,
   "metadata": {},
   "outputs": [
    {
     "data": {
      "text/plain": [
       "<span class=\"pseudo-input-text__09f24__EWsQz display--inline__09f24__3iACj border-color--default__09f24__R1nRO\"><div class=\"pseudo-input-icon-container__09f24__31kP9 margin-r1-5__09f24__3fQB8 border-color--default__09f24__R1nRO\"><style data-emotion-css=\"1mpk29p\">.css-1mpk29p{width:24px;height:24px;display:inline-block;vertical-align:middle;position:relative;overflow:hidden;top:-0.1em;fill:rgba(43,39,60,1);}.css-1mpk29p::before{position:absolute;display:block;left:0;}.css-1mpk29p::after{content:'';display:block;position:absolute;left:0;right:0;top:0;bottom:0;}.css-1mpk29p svg{position:absolute;width:100%;height:100%;fill:inherit;display:block;left:0;top:0;right:0;bottom:0;}</style><span aria-hidden=\"false\" aria-label=\"Find\" class=\"icon--24-search-v2 pseudo-input-icon__09f24__3Pmw2 css-1mpk29p\"><svg class=\"icon_svg\" height=\"24\" width=\"24\"><path d=\"M21.853 20.355l-3.444-3.443a9.428 9.428 0 10-16.761-6.171 9.428 9.428 0 0015.348 7.586l3.443 3.442a1 1 0 101.414-1.414zM5.82 16.245a7.429 7.429 0 115.253 2.175 7.38 7.38 0 01-5.253-2.176z\"></path></svg></span></div></span>"
      ]
     },
     "execution_count": 15,
     "metadata": {},
     "output_type": "execute_result"
    }
   ],
   "source": [
    "page_links[0]"
   ]
  },
  {
   "cell_type": "code",
   "execution_count": 16,
   "metadata": {},
   "outputs": [
    {
     "data": {
      "text/plain": [
       "248"
      ]
     },
     "execution_count": 16,
     "metadata": {},
     "output_type": "execute_result"
    }
   ],
   "source": [
    "len(page_links)"
   ]
  },
  {
   "cell_type": "code",
   "execution_count": 26,
   "metadata": {},
   "outputs": [],
   "source": [
    "reviews_of_each = [link.text for link in page_links if 'reviewCount' in str(link)]"
   ]
  },
  {
   "cell_type": "code",
   "execution_count": 27,
   "metadata": {},
   "outputs": [
    {
     "data": {
      "text/plain": [
       "10"
      ]
     },
     "execution_count": 27,
     "metadata": {},
     "output_type": "execute_result"
    }
   ],
   "source": [
    "len(review_links)"
   ]
  },
  {
   "cell_type": "code",
   "execution_count": 28,
   "metadata": {},
   "outputs": [
    {
     "data": {
      "text/plain": [
       "['269', '279', '703', '1842', '108', '205', '468', '205', '380', '118']"
      ]
     },
     "execution_count": 28,
     "metadata": {},
     "output_type": "execute_result"
    }
   ],
   "source": [
    "review_links"
   ]
  },
  {
   "cell_type": "code",
   "execution_count": null,
   "metadata": {},
   "outputs": [],
   "source": []
  },
  {
   "cell_type": "code",
   "execution_count": null,
   "metadata": {},
   "outputs": [],
   "source": []
  },
  {
   "cell_type": "markdown",
   "metadata": {},
   "source": [
    "#### Step 2:  Find the price range for each restaurant\n",
    "\n",
    "Let's create data for the price range of each restaurant as well, as denoted by the $ \\unicode{x00A3} $ symbol listed on each website.\n",
    "\n",
    "**Hint 1:** The information that you need for this was selected using the same criteria to find the number of reviews.\n",
    "\n",
    "**Hint 2:** You type the $ \\unicode{x00A3} $ symbol in python with the expression `\\xA3`"
   ]
  },
  {
   "cell_type": "code",
   "execution_count": null,
   "metadata": {},
   "outputs": [],
   "source": [
    "# your code here"
   ]
  },
  {
   "cell_type": "code",
   "execution_count": 32,
   "metadata": {},
   "outputs": [],
   "source": [
    "page_links2 = scraper.find_all('div')"
   ]
  },
  {
   "cell_type": "code",
   "execution_count": 45,
   "metadata": {},
   "outputs": [],
   "source": [
    "class_selector_container = {'class':'container__09f24__21w3G'} # Most useful! "
   ]
  },
  {
   "cell_type": "code",
   "execution_count": 46,
   "metadata": {},
   "outputs": [],
   "source": [
    "page_links2 = scraper.find_all('div',class_selector_container)"
   ]
  },
  {
   "cell_type": "code",
   "execution_count": 39,
   "metadata": {},
   "outputs": [
    {
     "name": "stdout",
     "output_type": "stream",
     "text": [
      "£\n"
     ]
    }
   ],
   "source": [
    "print('\\xA3')"
   ]
  },
  {
   "cell_type": "code",
   "execution_count": 48,
   "metadata": {},
   "outputs": [
    {
     "data": {
      "text/plain": [
       "bs4.element.Tag"
      ]
     },
     "execution_count": 48,
     "metadata": {},
     "output_type": "execute_result"
    }
   ],
   "source": [
    "type(page_links2[0])"
   ]
  },
  {
   "cell_type": "code",
   "execution_count": 49,
   "metadata": {},
   "outputs": [],
   "source": [
    "pricing = [link.text for link in page_links2 if '\\xA3' in str(link)]"
   ]
  },
  {
   "cell_type": "code",
   "execution_count": 55,
   "metadata": {},
   "outputs": [],
   "source": [
    "pricing_level = [item.count('\\xA3') for item in pricing]\n"
   ]
  },
  {
   "cell_type": "code",
   "execution_count": 56,
   "metadata": {},
   "outputs": [
    {
     "data": {
      "text/plain": [
       "[2, 2, 3, 2, 2, 4, 2, 2, 2, 2]"
      ]
     },
     "execution_count": 56,
     "metadata": {},
     "output_type": "execute_result"
    }
   ],
   "source": [
    "pricing_level"
   ]
  },
  {
   "cell_type": "code",
   "execution_count": 57,
   "metadata": {},
   "outputs": [],
   "source": [
    "pricing_level_pounds = ['\\xA3'*i for i in pricing_level]"
   ]
  },
  {
   "cell_type": "code",
   "execution_count": 58,
   "metadata": {},
   "outputs": [
    {
     "data": {
      "text/plain": [
       "['££', '££', '£££', '££', '££', '££££', '££', '££', '££', '££']"
      ]
     },
     "execution_count": 58,
     "metadata": {},
     "output_type": "execute_result"
    }
   ],
   "source": [
    "pricing_level_pounds"
   ]
  },
  {
   "cell_type": "markdown",
   "metadata": {},
   "source": [
    "#### Step 3:  Build a Dataframe For the Title, # of Ratings and Price Range of Each Restaurant\n",
    "\n",
    "You will need to create a dictionary structured in the following way:\n",
    "\n",
    "` {\n",
    "    'Title': [list with the titles of each restaurant],\n",
    "    'NumRatings': [list with the number of ratings of each restaurant],\n",
    "    'Price Range': [list with the price range of each restaurant]\n",
    "}`"
   ]
  },
  {
   "cell_type": "code",
   "execution_count": null,
   "metadata": {},
   "outputs": [],
   "source": [
    "# Step to get names of restaurants"
   ]
  },
  {
   "cell_type": "code",
   "execution_count": 66,
   "metadata": {},
   "outputs": [],
   "source": [
    "names_of_restaurants = ['a','a','a','a','a','a','a','a','a','a']"
   ]
  },
  {
   "cell_type": "code",
   "execution_count": 69,
   "metadata": {},
   "outputs": [
    {
     "data": {
      "text/plain": [
       "<div class=\"container__09f24__21w3G hoverable__09f24__2nTf3 margin-t3__09f24__5bM2Z margin-b3__09f24__1DQ9x padding-t3__09f24__-R_5x padding-r3__09f24__1pBFG padding-b3__09f24__1vW6j padding-l3__09f24__1yCJf border--top__09f24__1H_WE border--right__09f24__28idl border--bottom__09f24__2FjZW border--left__09f24__33iol border-color--default__09f24__R1nRO\"><div class=\"border-color--default__09f24__R1nRO\"><div class=\"arrange__09f24__AiSIM border-color--default__09f24__R1nRO\"><div class=\"arrange-unit__09f24__1gZC1 border-color--default__09f24__R1nRO\"><div class=\"border-color--default__09f24__R1nRO\"><div class=\"display--inline-block__09f24__FsgS4 margin-r3__09f24__2CcgQ border-color--default__09f24__R1nRO\"><div class=\"border-color--default__09f24__R1nRO\"><div class=\"container__09f24__2BlDc dontTriggerCardClick__09f24__2GWZF container--responsive__09f24__1BXoY container__09f24__1SkkV border-color--default__09f24__R1nRO\" data-slidenum=\"0\"><div aria-label=\"Slideshow\" class=\"container__09f24__15LDH border-color--default__09f24__R1nRO\"><div class=\"child__09f24__27sCM border-color--default__09f24__R1nRO\" style=\"transition:transform 150ms ease-in-out\"><div class=\"on-click-container border-color--default__09f24__R1nRO\"><a class=\"link__09f24__1kwXV photo-box-link__09f24__28L0f link-color--blue-dark__09f24__2DRa0 link-size--default__09f24__3xWLF\" href=\"/biz/ffionas-restaurant-london?osq=Restaurants\" name=\"\" rel=\"\" target=\"\"><img alt=\"Ffiona’s Restaurant\" class=\"photo-box-img__09f24__3F3c5\" height=\"100%\" loading=\"auto\" src=\"https://s3-media0.fl.yelpcdn.com/bphoto/seykrl3tugRsE8UL6-phKQ/ls.jpg\" srcset=\"https://s3-media0.fl.yelpcdn.com/bphoto/seykrl3tugRsE8UL6-phKQ/258s.jpg 1.03x,https://s3-media0.fl.yelpcdn.com/bphoto/seykrl3tugRsE8UL6-phKQ/348s.jpg 1.39x,https://s3-media0.fl.yelpcdn.com/bphoto/seykrl3tugRsE8UL6-phKQ/300s.jpg 1.20x\" width=\"100%\"/></a></div></div><div aria-label=\"Previous\" class=\"button__09f24__19-FT left__09f24__cBAtS disabled__09f24__3LYYR border-color--default__09f24__R1nRO\" role=\"button\" tabindex=\"0\"><style data-emotion-css=\"1etxbbi\">.css-1etxbbi{top:0;}</style><style data-emotion-css=\"4p40fi\">.css-4p40fi{width:24px;height:24px;display:inline-block;vertical-align:middle;position:relative;overflow:hidden;top:-0.1em;fill:rgba(43,39,60,1);top:0;}.css-4p40fi::before{position:absolute;display:block;left:0;}.css-4p40fi::after{content:'';display:block;position:absolute;left:0;right:0;top:0;bottom:0;}.css-4p40fi svg{position:absolute;width:100%;height:100%;fill:inherit;display:block;left:0;top:0;right:0;bottom:0;}</style><span aria-hidden=\"true\" class=\"icon--24-chevron-left-v2 css-4p40fi\"><svg class=\"icon_svg\" height=\"24\" width=\"24\"><path d=\"M14.25 17.58a1 1 0 01-.71-.3L9 12.7a1 1 0 010-1.4l4.5-4.58A1 1 0 0115 6.7a1 1 0 010 1.42L11.15 12 15 15.88a1 1 0 010 1.42 1 1 0 01-.75.28z\"></path></svg></span></div><div aria-label=\"Next\" class=\"button__09f24__19-FT right__09f24__3E7bL disabled__09f24__3LYYR border-color--default__09f24__R1nRO\" role=\"button\" tabindex=\"0\"><style data-emotion-css=\"1etxbbi\">.css-1etxbbi{top:0;}</style><style data-emotion-css=\"4p40fi\">.css-4p40fi{width:24px;height:24px;display:inline-block;vertical-align:middle;position:relative;overflow:hidden;top:-0.1em;fill:rgba(43,39,60,1);top:0;}.css-4p40fi::before{position:absolute;display:block;left:0;}.css-4p40fi::after{content:'';display:block;position:absolute;left:0;right:0;top:0;bottom:0;}.css-4p40fi svg{position:absolute;width:100%;height:100%;fill:inherit;display:block;left:0;top:0;right:0;bottom:0;}</style><span aria-hidden=\"true\" class=\"icon--24-chevron-right-v2 css-4p40fi\"><svg class=\"icon_svg\" height=\"24\" width=\"24\"><path d=\"M9.75 17.58a1 1 0 01-.7-.28 1 1 0 010-1.42l3.8-3.88L9 8.12a1 1 0 111.41-1.42L15 11.3a1 1 0 010 1.4l-4.5 4.58a1 1 0 01-.75.3z\"></path></svg></span></div></div></div></div></div></div></div><div class=\"arrange-unit__09f24__1gZC1 arrange-unit-fill__09f24__O6JFU border-color--default__09f24__R1nRO\"><div class=\"border-color--default__09f24__R1nRO\"><div class=\"scrollablePhotos__09f24__1PpB8 arrange__09f24__AiSIM border-color--default__09f24__R1nRO\"><div class=\"mainAttributes__09f24__26-vh arrange-unit__09f24__1gZC1 arrange-unit-fill__09f24__O6JFU border-color--default__09f24__R1nRO\"><div class=\"border-color--default__09f24__R1nRO\"><div class=\"border-color--default__09f24__R1nRO\"><div class=\"businessName__09f24__3Wql2 display--inline-block__09f24__FsgS4 border-color--default__09f24__R1nRO\"><div class=\"border-color--default__09f24__R1nRO\"><h4 class=\"heading--h4__09f24__2ijYq alternate__09f24__39r7c\"><span class=\"text__09f24__2tZKC text-color--black-regular__09f24__1QxyO text-align--left__09f24__3Drs0 text-weight--bold__09f24__WGVdT text-size--inherit__09f24__2rwpp\">1<!-- -->. <a class=\"link__09f24__1kwXV link-color--inherit__09f24__3PYlA link-size--inherit__09f24__2Uj95\" href=\"/biz/ffionas-restaurant-london?osq=Restaurants\" name=\"Ffiona’s Restaurant\" rel=\"\" target=\"\">Ffiona’s Restaurant</a></span></h4></div></div></div><div class=\"border-color--default__09f24__R1nRO\"><div class=\"display--inline-block__09f24__FsgS4 border-color--default__09f24__R1nRO\"><div class=\"border-color--default__09f24__R1nRO\"><div class=\"attribute__09f24__3znwq display--inline-block__09f24__FsgS4 margin-r1__09f24__BCulR border-color--default__09f24__R1nRO\"><span class=\"display--inline__09f24__3iACj border-color--default__09f24__R1nRO\"><div aria-label=\"4.5 star rating\" class=\"i-stars__09f24__1T6rz i-stars--regular-4-half__09f24__1YrPo border-color--default__09f24__R1nRO overflow--hidden__09f24__3u-sw\" role=\"img\"><img alt=\"\" class=\"offscreen__09f24__1VFco\" height=\"560\" src=\"https://s3-media0.fl.yelpcdn.com/assets/public/stars_v2.yji-52d3d7a328db670d4402843cbddeed89.png\" width=\"132\"/></div></span></div><div class=\"attribute__09f24__3znwq display--inline-block__09f24__FsgS4 border-color--default__09f24__R1nRO\"><span class=\"text__09f24__2tZKC reviewCount__09f24__EUXPN text-color--black-extra-light__09f24__38DtK text-align--left__09f24__3Drs0\">269</span></div></div></div></div><div class=\"border-color--default__09f24__R1nRO\"><div class=\"priceCategory__09f24__2IbAM display--inline-block__09f24__FsgS4 border-color--default__09f24__R1nRO\"><div class=\"border-color--default__09f24__R1nRO\"><span class=\"display--inline__09f24__3iACj border-color--default__09f24__R1nRO\"><span class=\"text__09f24__2tZKC priceRange__09f24__2O6le text-color--black-extra-light__09f24__38DtK text-align--left__09f24__3Drs0 text-bullet--after__09f24__1MWoX\">££</span></span><span class=\"display--inline__09f24__3iACj border-color--default__09f24__R1nRO\"><span class=\"display--inline__09f24__3iACj border-color--default__09f24__R1nRO\"><span class=\"text__09f24__2tZKC text-color--black-extra-light__09f24__38DtK text-align--left__09f24__3Drs0 text-size--inherit__09f24__2rwpp\"><a class=\"link__09f24__1kwXV link-color--inherit__09f24__3PYlA link-size--default__09f24__3xWLF\" href=\"/search?cflt=british&amp;find_desc=Restaurants&amp;find_loc=London%2C+United+Kingdom\" name=\"\" rel=\"\" role=\"link\" target=\"\">British</a></span></span></span></div></div></div></div></div><div class=\"secondaryAttributes__09f24__3db5x arrange-unit__09f24__1gZC1 border-color--default__09f24__R1nRO\"><div class=\"container__09f24__1fWZl padding-l2__09f24__2MHQ3 border-color--default__09f24__R1nRO text-align--right__09f24__wJEQr\"><div class=\"border-color--default__09f24__R1nRO\"><div class=\"display--inline-block__09f24__FsgS4 border-color--default__09f24__R1nRO\"><div class=\"border-color--default__09f24__R1nRO\"><p class=\"text__09f24__2tZKC text-color--black-extra-light__09f24__38DtK text-align--right__09f24__1TIxB text-size--small__09f24__1Z_UI\">020 7937 4152</p></div></div></div><address class=\"\"><div class=\"border-color--default__09f24__R1nRO\"><div class=\"display--inline-block__09f24__FsgS4 border-color--default__09f24__R1nRO\"><div class=\"border-color--default__09f24__R1nRO\"><p class=\"text__09f24__2tZKC text-color--black-extra-light__09f24__38DtK text-align--right__09f24__1TIxB text-size--small__09f24__1Z_UI\"><span class=\"raw__09f24__3Obuy\">51 Kensington Church Street</span></p></div></div></div></address><div class=\"margin-b1__09f24__1647o border-color--default__09f24__R1nRO\"><div class=\"border-color--default__09f24__R1nRO\"><div class=\"display--inline-block__09f24__FsgS4 border-color--default__09f24__R1nRO\"><div class=\"border-color--default__09f24__R1nRO\"><p class=\"text__09f24__2tZKC text-color--black-extra-light__09f24__38DtK text-align--right__09f24__1TIxB text-size--small__09f24__1Z_UI\">Kensington</p></div></div></div></div></div></div></div></div><div class=\"border-color--default__09f24__R1nRO\"><div class=\"display--inline-block__09f24__FsgS4 margin-t0-5__09f24__24b_v border-color--default__09f24__R1nRO\"><div class=\"border-color--default__09f24__R1nRO\"><ul class=\"undefined list__09f24__17TsU\"><li class=\"border-color--default__09f24__R1nRO\"><div class=\"TRUSTED_PROPERTY border-color--default__09f24__R1nRO\"><div class=\"tag__09f24__21uQS margin-t0-5__09f24__24b_v margin-r1__09f24__BCulR border-color--default__09f24__R1nRO\"><div class=\"icon__09f24__1ZuAZ margin-r1__09f24__BCulR border-color--default__09f24__R1nRO\"><style data-emotion-css=\"yyirv3\">.css-yyirv3{width:24px;height:24px;display:inline-block;vertical-align:middle;position:relative;overflow:hidden;top:-0.1em;fill:rgba(5,168,130,1);}.css-yyirv3::before{position:absolute;display:block;left:0;}.css-yyirv3::after{content:'';display:block;position:absolute;left:0;right:0;top:0;bottom:0;}.css-yyirv3 svg{position:absolute;width:100%;height:100%;fill:inherit;display:block;left:0;top:0;right:0;bottom:0;}</style><span aria-hidden=\"true\" class=\"icon--24-checkmark-v2 css-yyirv3\"><svg class=\"icon_svg\" height=\"24\" width=\"24\"><path d=\"M9.46 17.52a1 1 0 01-.71-.29l-4-4a1.004 1.004 0 111.42-1.42l3.25 3.26 8.33-8.34a1.004 1.004 0 011.42 1.42l-9 9a1 1 0 01-.71.37z\"></path></svg></span></div><span class=\"label__09f24__2iNlZ display--inline__09f24__3iACj border-color--default__09f24__R1nRO\"><p class=\"text__09f24__2tZKC text-color--black-regular__09f24__1QxyO text-align--left__09f24__3Drs0 text-weight--semibold__09f24__MTlNc\"><span class=\"raw__09f24__3Obuy\">Delivery</span></p></span></div><div class=\"tag__09f24__21uQS margin-t0-5__09f24__24b_v margin-r1__09f24__BCulR border-color--default__09f24__R1nRO\"><div class=\"icon__09f24__1ZuAZ margin-r1__09f24__BCulR border-color--default__09f24__R1nRO\"><style data-emotion-css=\"yyirv3\">.css-yyirv3{width:24px;height:24px;display:inline-block;vertical-align:middle;position:relative;overflow:hidden;top:-0.1em;fill:rgba(5,168,130,1);}.css-yyirv3::before{position:absolute;display:block;left:0;}.css-yyirv3::after{content:'';display:block;position:absolute;left:0;right:0;top:0;bottom:0;}.css-yyirv3 svg{position:absolute;width:100%;height:100%;fill:inherit;display:block;left:0;top:0;right:0;bottom:0;}</style><span aria-hidden=\"true\" class=\"icon--24-checkmark-v2 css-yyirv3\"><svg class=\"icon_svg\" height=\"24\" width=\"24\"><path d=\"M9.46 17.52a1 1 0 01-.71-.29l-4-4a1.004 1.004 0 111.42-1.42l3.25 3.26 8.33-8.34a1.004 1.004 0 011.42 1.42l-9 9a1 1 0 01-.71.37z\"></path></svg></span></div><span class=\"label__09f24__2iNlZ display--inline__09f24__3iACj border-color--default__09f24__R1nRO\"><p class=\"text__09f24__2tZKC text-color--black-regular__09f24__1QxyO text-align--left__09f24__3Drs0 text-weight--semibold__09f24__MTlNc\"><span class=\"raw__09f24__3Obuy\">Takeout</span></p></span></div><div class=\"tag__09f24__21uQS margin-t0-5__09f24__24b_v margin-r1__09f24__BCulR border-color--default__09f24__R1nRO\"><div class=\"icon__09f24__1ZuAZ margin-r1__09f24__BCulR border-color--default__09f24__R1nRO\"><style data-emotion-css=\"1mpk29p\">.css-1mpk29p{width:24px;height:24px;display:inline-block;vertical-align:middle;position:relative;overflow:hidden;top:-0.1em;fill:rgba(43,39,60,1);}.css-1mpk29p::before{position:absolute;display:block;left:0;}.css-1mpk29p::after{content:'';display:block;position:absolute;left:0;right:0;top:0;bottom:0;}.css-1mpk29p svg{position:absolute;width:100%;height:100%;fill:inherit;display:block;left:0;top:0;right:0;bottom:0;}</style><span aria-hidden=\"true\" class=\"icon--24-close-v2 css-1mpk29p\"><svg class=\"icon_svg\" height=\"24\" width=\"24\"><path d=\"M13.41 12l5.3-5.29a1.004 1.004 0 10-1.42-1.42L12 10.59l-5.29-5.3a1.004 1.004 0 00-1.42 1.42l5.3 5.29-5.3 5.29a1 1 0 000 1.42 1 1 0 001.42 0l5.29-5.3 5.29 5.3a1 1 0 001.42 0 1 1 0 000-1.42L13.41 12z\"></path></svg></span></div><span class=\"label__09f24__2iNlZ display--inline__09f24__3iACj border-color--default__09f24__R1nRO\"><p class=\"text__09f24__2tZKC text-color--black-regular__09f24__1QxyO text-align--left__09f24__3Drs0 text-weight--semibold__09f24__MTlNc\"><span class=\"raw__09f24__3Obuy\">Outdoor Seating</span></p></span></div></div></li></ul></div></div></div><div class=\"border-color--default__09f24__R1nRO\"><div class=\"display--inline-block__09f24__FsgS4 margin-t1__09f24__3OFkY border-color--default__09f24__R1nRO\"><div class=\"border-color--default__09f24__R1nRO\"><div class=\"arrange__09f24__AiSIM gutter-auto__09f24__2WJTk vertical-align-middle__09f24__zNCcM border-color--default__09f24__R1nRO\"><div class=\"arrange-unit__09f24__1gZC1 arrange-unit-fill__09f24__O6JFU border-color--default__09f24__R1nRO\"><p class=\"text__09f24__2tZKC text-color--black-extra-light__09f24__38DtK text-align--left__09f24__3Drs0\">“Ffiona's is easily my favorite restaurant in London. The whole experience, from the food, to the atmosphere, to Ffiona herself, felt like family/home.\n",
       "\n",
       "The menu was wonderful and full of handmade dinner specials, scratch made. The food was really really delicious and flavorful.\n",
       "\n",
       "The atmosphere felt…”<span class=\"text__09f24__2tZKC text-color--inherit__09f24__1jgBv text-align--left__09f24__3Drs0 text-size--inherit__09f24__2rwpp\"> <a class=\"link__09f24__1kwXV link-color--blue-dark__09f24__2DRa0 link-size--inherit__09f24__2Uj95\" href=\"/biz/ffionas-restaurant-london?hrid=IixyLOwPCR5t9TAoJcPFoQ&amp;osq=Restaurants\" name=\"\" rel=\"\" target=\"\">more</a></span></p></div></div></div></div></div><div class=\"border-color--default__09f24__R1nRO\"></div></div></div></div></div>"
      ]
     },
     "execution_count": 69,
     "metadata": {},
     "output_type": "execute_result"
    }
   ],
   "source": [
    "page_links2[0]"
   ]
  },
  {
   "cell_type": "code",
   "execution_count": null,
   "metadata": {},
   "outputs": [],
   "source": []
  },
  {
   "cell_type": "code",
   "execution_count": null,
   "metadata": {},
   "outputs": [],
   "source": [
    "# your code here"
   ]
  },
  {
   "cell_type": "code",
   "execution_count": 67,
   "metadata": {},
   "outputs": [],
   "source": [
    "my_data = {\n",
    "    'Title': names_of_restaurants,\n",
    "    'NumRating': review_links,\n",
    "    'Price Range':pricing_level_pounds,\n",
    "}"
   ]
  },
  {
   "cell_type": "code",
   "execution_count": 68,
   "metadata": {},
   "outputs": [
    {
     "data": {
      "text/html": [
       "<div>\n",
       "<style scoped>\n",
       "    .dataframe tbody tr th:only-of-type {\n",
       "        vertical-align: middle;\n",
       "    }\n",
       "\n",
       "    .dataframe tbody tr th {\n",
       "        vertical-align: top;\n",
       "    }\n",
       "\n",
       "    .dataframe thead th {\n",
       "        text-align: right;\n",
       "    }\n",
       "</style>\n",
       "<table border=\"1\" class=\"dataframe\">\n",
       "  <thead>\n",
       "    <tr style=\"text-align: right;\">\n",
       "      <th></th>\n",
       "      <th>Title</th>\n",
       "      <th>NumRating</th>\n",
       "      <th>Price Range</th>\n",
       "    </tr>\n",
       "  </thead>\n",
       "  <tbody>\n",
       "    <tr>\n",
       "      <th>0</th>\n",
       "      <td>a</td>\n",
       "      <td>269</td>\n",
       "      <td>££</td>\n",
       "    </tr>\n",
       "    <tr>\n",
       "      <th>1</th>\n",
       "      <td>a</td>\n",
       "      <td>279</td>\n",
       "      <td>££</td>\n",
       "    </tr>\n",
       "    <tr>\n",
       "      <th>2</th>\n",
       "      <td>a</td>\n",
       "      <td>703</td>\n",
       "      <td>£££</td>\n",
       "    </tr>\n",
       "    <tr>\n",
       "      <th>3</th>\n",
       "      <td>a</td>\n",
       "      <td>1842</td>\n",
       "      <td>££</td>\n",
       "    </tr>\n",
       "    <tr>\n",
       "      <th>4</th>\n",
       "      <td>a</td>\n",
       "      <td>108</td>\n",
       "      <td>££</td>\n",
       "    </tr>\n",
       "    <tr>\n",
       "      <th>5</th>\n",
       "      <td>a</td>\n",
       "      <td>205</td>\n",
       "      <td>££££</td>\n",
       "    </tr>\n",
       "    <tr>\n",
       "      <th>6</th>\n",
       "      <td>a</td>\n",
       "      <td>468</td>\n",
       "      <td>££</td>\n",
       "    </tr>\n",
       "    <tr>\n",
       "      <th>7</th>\n",
       "      <td>a</td>\n",
       "      <td>205</td>\n",
       "      <td>££</td>\n",
       "    </tr>\n",
       "    <tr>\n",
       "      <th>8</th>\n",
       "      <td>a</td>\n",
       "      <td>380</td>\n",
       "      <td>££</td>\n",
       "    </tr>\n",
       "    <tr>\n",
       "      <th>9</th>\n",
       "      <td>a</td>\n",
       "      <td>118</td>\n",
       "      <td>££</td>\n",
       "    </tr>\n",
       "  </tbody>\n",
       "</table>\n",
       "</div>"
      ],
      "text/plain": [
       "  Title NumRating Price Range\n",
       "0     a       269          ££\n",
       "1     a       279          ££\n",
       "2     a       703         £££\n",
       "3     a      1842          ££\n",
       "4     a       108          ££\n",
       "5     a       205        ££££\n",
       "6     a       468          ££\n",
       "7     a       205          ££\n",
       "8     a       380          ££\n",
       "9     a       118          ££"
      ]
     },
     "execution_count": 68,
     "metadata": {},
     "output_type": "execute_result"
    }
   ],
   "source": [
    "pd.DataFrame(my_data)"
   ]
  },
  {
   "cell_type": "code",
   "execution_count": null,
   "metadata": {},
   "outputs": [],
   "source": []
  },
  {
   "cell_type": "code",
   "execution_count": null,
   "metadata": {},
   "outputs": [],
   "source": []
  }
 ],
 "metadata": {
  "kernelspec": {
   "display_name": "Python 3",
   "language": "python",
   "name": "python3"
  },
  "language_info": {
   "codemirror_mode": {
    "name": "ipython",
    "version": 3
   },
   "file_extension": ".py",
   "mimetype": "text/x-python",
   "name": "python",
   "nbconvert_exporter": "python",
   "pygments_lexer": "ipython3",
   "version": "3.8.3"
  }
 },
 "nbformat": 4,
 "nbformat_minor": 4
}
