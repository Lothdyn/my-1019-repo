{
 "cells": [
  {
   "cell_type": "markdown",
   "metadata": {},
   "source": [
    "### Web Scraping Lab\n",
    "\n",
    "Welcome!  In today's lab we're going to build a web scraper that's going to build a dataset from restaurant listings on a yelp page.  \n",
    "\n",
    "You can find the web page here: https://www.yelp.com/search?find_desc=Restaurants&find_loc=London%2C%20United%20Kingdom&ns=1\n",
    "\n",
    "The lab questions listed herein will naturally build from the material discussed in class."
   ]
  },
  {
   "cell_type": "code",
   "execution_count": 1,
   "metadata": {},
   "outputs": [],
   "source": [
    "import pandas as pd\n",
    "import requests\n",
    "import bs4"
   ]
  },
  {
   "cell_type": "code",
   "execution_count": 2,
   "metadata": {},
   "outputs": [],
   "source": [
    "url = 'https://www.yelp.com/search?find_desc=Restaurants&find_loc=London%2C%20United%20Kingdom&ns=1'\n",
    "req = requests.get(url)"
   ]
  },
  {
   "cell_type": "code",
   "execution_count": 3,
   "metadata": {},
   "outputs": [],
   "source": [
    "scraper = bs4.BeautifulSoup(req.text)"
   ]
  },
  {
   "cell_type": "code",
   "execution_count": 4,
   "metadata": {},
   "outputs": [
    {
     "data": {
      "text/plain": [
       "bs4.BeautifulSoup"
      ]
     },
     "execution_count": 4,
     "metadata": {},
     "output_type": "execute_result"
    }
   ],
   "source": [
    "type(scraper)"
   ]
  },
  {
   "cell_type": "markdown",
   "metadata": {},
   "source": [
    "#### Step 1:  Scrape the number of reviews for each restaurant\n",
    "\n",
    "Using a similar methodology we used to find the title of the restaurant find the number of reviews for the 30 restaurants listed on this web page.\n",
    "\n",
    "**Hint:** the `isdigit()` string method will be helpful to detect if a string contains a number."
   ]
  },
  {
   "cell_type": "code",
   "execution_count": 5,
   "metadata": {},
   "outputs": [],
   "source": [
    "\n",
    "page_links = scraper.find_all('span')\n",
    "\n"
   ]
  },
  {
   "cell_type": "code",
   "execution_count": 6,
   "metadata": {},
   "outputs": [
    {
     "data": {
      "text/plain": [
       "<span class=\"pseudo-input-text__09f24__EWsQz display--inline__09f24__3iACj border-color--default__09f24__R1nRO\"><div class=\"pseudo-input-icon-container__09f24__31kP9 margin-r1-5__09f24__3fQB8 border-color--default__09f24__R1nRO\"><style data-emotion-css=\"1mpk29p\">.css-1mpk29p{width:24px;height:24px;display:inline-block;vertical-align:middle;position:relative;overflow:hidden;top:-0.1em;fill:rgba(43,39,60,1);}.css-1mpk29p::before{position:absolute;display:block;left:0;}.css-1mpk29p::after{content:'';display:block;position:absolute;left:0;right:0;top:0;bottom:0;}.css-1mpk29p svg{position:absolute;width:100%;height:100%;fill:inherit;display:block;left:0;top:0;right:0;bottom:0;}</style><span aria-hidden=\"false\" aria-label=\"Find\" class=\"icon--24-search-v2 pseudo-input-icon__09f24__3Pmw2 css-1mpk29p\"><svg class=\"icon_svg\" height=\"24\" width=\"24\"><path d=\"M21.853 20.355l-3.444-3.443a9.428 9.428 0 10-16.761-6.171 9.428 9.428 0 0015.348 7.586l3.443 3.442a1 1 0 101.414-1.414zM5.82 16.245a7.429 7.429 0 115.253 2.175 7.38 7.38 0 01-5.253-2.176z\"></path></svg></span></div></span>"
      ]
     },
     "execution_count": 6,
     "metadata": {},
     "output_type": "execute_result"
    }
   ],
   "source": [
    "page_links[0]"
   ]
  },
  {
   "cell_type": "code",
   "execution_count": 13,
   "metadata": {},
   "outputs": [
    {
     "data": {
      "text/plain": [
       "250"
      ]
     },
     "execution_count": 13,
     "metadata": {},
     "output_type": "execute_result"
    }
   ],
   "source": [
    "len(page_links)"
   ]
  },
  {
   "cell_type": "code",
   "execution_count": 38,
   "metadata": {},
   "outputs": [],
   "source": [
    "reviews_of_each = [link.text for link in page_links if 'reviewCount' in link.text]"
   ]
  },
  {
   "cell_type": "code",
   "execution_count": 17,
   "metadata": {},
   "outputs": [],
   "source": [
    "review_links = [link.text for link in page_links if 'reviewCount' in str(link)]"
   ]
  },
  {
   "cell_type": "code",
   "execution_count": 18,
   "metadata": {},
   "outputs": [
    {
     "data": {
      "text/plain": [
       "10"
      ]
     },
     "execution_count": 18,
     "metadata": {},
     "output_type": "execute_result"
    }
   ],
   "source": [
    "len(review_links)"
   ]
  },
  {
   "cell_type": "code",
   "execution_count": 19,
   "metadata": {},
   "outputs": [
    {
     "data": {
      "text/plain": [
       "['279', '270', '1842', '205', '380', '118', '205', '108', '703', '241']"
      ]
     },
     "execution_count": 19,
     "metadata": {},
     "output_type": "execute_result"
    }
   ],
   "source": [
    "review_links"
   ]
  },
  {
   "cell_type": "code",
   "execution_count": null,
   "metadata": {},
   "outputs": [],
   "source": []
  },
  {
   "cell_type": "code",
   "execution_count": null,
   "metadata": {},
   "outputs": [],
   "source": []
  },
  {
   "cell_type": "markdown",
   "metadata": {},
   "source": [
    "#### Step 2:  Find the price range for each restaurant\n",
    "\n",
    "Let's create data for the price range of each restaurant as well, as denoted by the $ \\unicode{x00A3} $ symbol listed on each website.\n",
    "\n",
    "**Hint 1:** The information that you need for this was selected using the same criteria to find the number of reviews.\n",
    "\n",
    "**Hint 2:** You type the $ \\unicode{x00A3} $ symbol in python with the expression `\\xA3`"
   ]
  },
  {
   "cell_type": "code",
   "execution_count": null,
   "metadata": {},
   "outputs": [],
   "source": [
    "# your code here"
   ]
  },
  {
   "cell_type": "code",
   "execution_count": 20,
   "metadata": {},
   "outputs": [],
   "source": [
    "page_links2 = scraper.find_all('div')"
   ]
  },
  {
   "cell_type": "code",
   "execution_count": 21,
   "metadata": {},
   "outputs": [],
   "source": [
    "class_selector_container = {'class':'container__09f24__21w3G'} # Most useful! "
   ]
  },
  {
   "cell_type": "code",
   "execution_count": 22,
   "metadata": {},
   "outputs": [],
   "source": [
    "page_links2 = scraper.find_all('div',class_selector_container)"
   ]
  },
  {
   "cell_type": "code",
   "execution_count": 23,
   "metadata": {},
   "outputs": [
    {
     "name": "stdout",
     "output_type": "stream",
     "text": [
      "£\n"
     ]
    }
   ],
   "source": [
    "print('\\xA3')"
   ]
  },
  {
   "cell_type": "code",
   "execution_count": 24,
   "metadata": {},
   "outputs": [
    {
     "data": {
      "text/plain": [
       "bs4.element.Tag"
      ]
     },
     "execution_count": 24,
     "metadata": {},
     "output_type": "execute_result"
    }
   ],
   "source": [
    "type(page_links2[0])"
   ]
  },
  {
   "cell_type": "code",
   "execution_count": 25,
   "metadata": {},
   "outputs": [],
   "source": [
    "pricing = [link.text for link in page_links2 if '\\xA3' in str(link)]"
   ]
  },
  {
   "cell_type": "code",
   "execution_count": 26,
   "metadata": {},
   "outputs": [],
   "source": [
    "pricing_level = [item.count('\\xA3') for item in pricing]\n"
   ]
  },
  {
   "cell_type": "code",
   "execution_count": 27,
   "metadata": {},
   "outputs": [
    {
     "data": {
      "text/plain": [
       "[2, 2, 2, 4, 2, 2, 2, 2, 3, 2]"
      ]
     },
     "execution_count": 27,
     "metadata": {},
     "output_type": "execute_result"
    }
   ],
   "source": [
    "pricing_level"
   ]
  },
  {
   "cell_type": "code",
   "execution_count": 28,
   "metadata": {},
   "outputs": [],
   "source": [
    "pricing_level_pounds = ['\\xA3'*i for i in pricing_level]"
   ]
  },
  {
   "cell_type": "code",
   "execution_count": 29,
   "metadata": {},
   "outputs": [
    {
     "data": {
      "text/plain": [
       "['££', '££', '££', '££££', '££', '££', '££', '££', '£££', '££']"
      ]
     },
     "execution_count": 29,
     "metadata": {},
     "output_type": "execute_result"
    }
   ],
   "source": [
    "pricing_level_pounds"
   ]
  },
  {
   "cell_type": "markdown",
   "metadata": {},
   "source": [
    "#### Step 3:  Build a Dataframe For the Title, # of Ratings and Price Range of Each Restaurant\n",
    "\n",
    "You will need to create a dictionary structured in the following way:\n",
    "\n",
    "` {\n",
    "    'Title': [list with the titles of each restaurant],\n",
    "    'NumRatings': [list with the number of ratings of each restaurant],\n",
    "    'Price Range': [list with the price range of each restaurant]\n",
    "}`"
   ]
  },
  {
   "cell_type": "code",
   "execution_count": null,
   "metadata": {},
   "outputs": [],
   "source": [
    "# Step to get names of restaurants"
   ]
  },
  {
   "cell_type": "code",
   "execution_count": 45,
   "metadata": {},
   "outputs": [],
   "source": [
    "targ_class = {\n",
    "    'class':'link__09f24__1kwXV',\n",
    "    'class':'link-color--inherit__09f24__3PYlA',\n",
    "    'class':'link-size--inherit__09f24__2Uj95',\n",
    "}"
   ]
  },
  {
   "cell_type": "code",
   "execution_count": 47,
   "metadata": {},
   "outputs": [],
   "source": [
    "page_links2 = scraper.find_all('a',targ_class)\n"
   ]
  },
  {
   "cell_type": "code",
   "execution_count": 49,
   "metadata": {},
   "outputs": [
    {
     "data": {
      "text/plain": [
       "29"
      ]
     },
     "execution_count": 49,
     "metadata": {},
     "output_type": "execute_result"
    }
   ],
   "source": [
    "len(page_links2)"
   ]
  },
  {
   "cell_type": "code",
   "execution_count": 50,
   "metadata": {},
   "outputs": [
    {
     "data": {
      "text/plain": [
       "<a class=\"link__09f24__1kwXV link-color--inherit__09f24__3PYlA link-size--inherit__09f24__2Uj95\" href=\"/biz/the-mayfair-chippy-london-2?osq=Restaurants\" name=\"The Mayfair Chippy\" rel=\"\" target=\"\">The Mayfair Chippy</a>"
      ]
     },
     "execution_count": 50,
     "metadata": {},
     "output_type": "execute_result"
    }
   ],
   "source": [
    "page_links2[0]"
   ]
  },
  {
   "cell_type": "code",
   "execution_count": 51,
   "metadata": {},
   "outputs": [
    {
     "data": {
      "text/plain": [
       "[<a class=\"link__09f24__1kwXV link-color--inherit__09f24__3PYlA link-size--inherit__09f24__2Uj95\" href=\"/biz/the-mayfair-chippy-london-2?osq=Restaurants\" name=\"The Mayfair Chippy\" rel=\"\" target=\"\">The Mayfair Chippy</a>,\n",
       " <a class=\"link__09f24__1kwXV link-color--blue-dark__09f24__2DRa0 link-size--inherit__09f24__2Uj95\" href=\"/biz/the-mayfair-chippy-london-2?hrid=vnmW77PgAFRDmiN9PqIW9Q&amp;osq=Restaurants\" name=\"\" rel=\"\" target=\"\">more</a>,\n",
       " <a class=\"link__09f24__1kwXV link-color--inherit__09f24__3PYlA link-size--inherit__09f24__2Uj95\" href=\"/biz/ffionas-restaurant-london?osq=Restaurants\" name=\"Ffiona’s Restaurant\" rel=\"\" target=\"\">Ffiona’s Restaurant</a>,\n",
       " <a class=\"link__09f24__1kwXV link-color--blue-dark__09f24__2DRa0 link-size--inherit__09f24__2Uj95\" href=\"/biz/ffionas-restaurant-london?hrid=IixyLOwPCR5t9TAoJcPFoQ&amp;osq=Restaurants\" name=\"\" rel=\"\" target=\"\">more</a>,\n",
       " <a class=\"link__09f24__1kwXV link-color--inherit__09f24__3PYlA link-size--inherit__09f24__2Uj95\" href=\"/biz/dishoom-london?osq=Restaurants\" name=\"Dishoom\" rel=\"\" target=\"\">Dishoom</a>,\n",
       " <a class=\"link__09f24__1kwXV link-color--blue-dark__09f24__2DRa0 link-size--inherit__09f24__2Uj95\" href=\"/biz/dishoom-london?hrid=NH7NepDljnJXIXn5Do3JFw&amp;osq=Restaurants\" name=\"\" rel=\"\" target=\"\">more</a>,\n",
       " <a class=\"link__09f24__1kwXV link-color--inherit__09f24__3PYlA link-size--inherit__09f24__2Uj95\" href=\"/biz/restaurant-gordon-ramsay-london-3?osq=Restaurants\" name=\"Restaurant Gordon Ramsay\" rel=\"\" target=\"\">Restaurant Gordon Ramsay</a>,\n",
       " <a class=\"link__09f24__1kwXV link-color--blue-dark__09f24__2DRa0 link-size--inherit__09f24__2Uj95\" href=\"/biz/restaurant-gordon-ramsay-london-3?hrid=uyyr9BXyAbTHhKPVhzhARg&amp;osq=Restaurants\" name=\"\" rel=\"\" target=\"\">more</a>,\n",
       " <a class=\"link__09f24__1kwXV link-color--inherit__09f24__3PYlA link-size--inherit__09f24__2Uj95\" href=\"/biz/flat-iron-london-2?osq=Restaurants\" name=\"Flat Iron\" rel=\"\" target=\"\">Flat Iron</a>,\n",
       " <a class=\"link__09f24__1kwXV link-color--blue-dark__09f24__2DRa0 link-size--inherit__09f24__2Uj95\" href=\"/biz/flat-iron-london-2?hrid=i7gMG3l6ArbQTP-6kdjF-Q&amp;osq=Restaurants\" name=\"\" rel=\"\" target=\"\">more</a>,\n",
       " <a class=\"link__09f24__1kwXV link-color--inherit__09f24__3PYlA link-size--inherit__09f24__2Uj95\" href=\"/biz/the-queens-arms-london?osq=Restaurants\" name=\"The Queens Arms\" rel=\"\" target=\"\">The Queens Arms</a>,\n",
       " <a class=\"link__09f24__1kwXV link-color--blue-dark__09f24__2DRa0 link-size--inherit__09f24__2Uj95\" href=\"/biz/the-queens-arms-london?hrid=2iGPqnvZSGv93r_QhMvsBg&amp;osq=Restaurants\" name=\"\" rel=\"\" target=\"\">more</a>,\n",
       " <a class=\"link__09f24__1kwXV link-color--inherit__09f24__3PYlA link-size--inherit__09f24__2Uj95\" href=\"/biz/padella-london-3?osq=Restaurants\" name=\"Padella\" rel=\"\" target=\"\">Padella</a>,\n",
       " <a class=\"link__09f24__1kwXV link-color--blue-dark__09f24__2DRa0 link-size--inherit__09f24__2Uj95\" href=\"/biz/padella-london-3?hrid=J5ZHGs1UXw-uwxkZl9vZMw&amp;osq=Restaurants\" name=\"\" rel=\"\" target=\"\">more</a>,\n",
       " <a class=\"link__09f24__1kwXV link-color--inherit__09f24__3PYlA link-size--inherit__09f24__2Uj95\" href=\"/biz/the-golden-chippy-london?osq=Restaurants\" name=\"The Golden Chippy\" rel=\"\" target=\"\">The Golden Chippy</a>,\n",
       " <a class=\"link__09f24__1kwXV link-color--blue-dark__09f24__2DRa0 link-size--inherit__09f24__2Uj95\" href=\"/biz/the-golden-chippy-london?hrid=ya-kPpY-Ykf_B1bv5lnpYA&amp;osq=Restaurants\" name=\"\" rel=\"\" target=\"\">more</a>,\n",
       " <a class=\"link__09f24__1kwXV link-color--inherit__09f24__3PYlA link-size--inherit__09f24__2Uj95\" href=\"/biz/duck-and-waffle-london?osq=Restaurants\" name=\"Duck &amp; Waffle\" rel=\"\" target=\"\">Duck &amp; Waffle</a>,\n",
       " <a class=\"link__09f24__1kwXV link-color--blue-dark__09f24__2DRa0 link-size--inherit__09f24__2Uj95\" href=\"/biz/duck-and-waffle-london?hrid=D0yWFgGQS8o8hlMeHbH1IA&amp;osq=Restaurants\" name=\"\" rel=\"\" target=\"\">more</a>,\n",
       " <a class=\"link__09f24__1kwXV link-color--inherit__09f24__3PYlA link-size--inherit__09f24__2Uj95\" href=\"/biz/the-grazing-goat-london?osq=Restaurants\" name=\"The Grazing Goat\" rel=\"\" target=\"\">The Grazing Goat</a>,\n",
       " <a class=\"link__09f24__1kwXV link-color--blue-dark__09f24__2DRa0 link-size--inherit__09f24__2Uj95\" href=\"/biz/the-grazing-goat-london?hrid=Q8uuju84lCcLpo1-GJKqiQ&amp;osq=Restaurants\" name=\"\" rel=\"\" target=\"\">more</a>,\n",
       " <a class=\"link__09f24__1kwXV pagination-link-component__09f24__H0ICg link-color--inherit__09f24__3PYlA link-size--inherit__09f24__2Uj95\" href=\"/search?find_desc=Restaurants&amp;find_loc=London%2C%20United%20Kingdom&amp;start=10\" name=\"\" rel=\"\" role=\"link\" target=\"\"><div aria-label=\"Page: 2\" class=\"undefined display--inline-block__09f24__FsgS4 border-color--default__09f24__R1nRO\">2</div></a>,\n",
       " <a class=\"link__09f24__1kwXV pagination-link-component__09f24__H0ICg link-color--inherit__09f24__3PYlA link-size--inherit__09f24__2Uj95\" href=\"/search?find_desc=Restaurants&amp;find_loc=London%2C%20United%20Kingdom&amp;start=20\" name=\"\" rel=\"\" role=\"link\" target=\"\"><div aria-label=\"Page: 3\" class=\"undefined display--inline-block__09f24__FsgS4 border-color--default__09f24__R1nRO\">3</div></a>,\n",
       " <a class=\"link__09f24__1kwXV pagination-link-component__09f24__H0ICg link-color--inherit__09f24__3PYlA link-size--inherit__09f24__2Uj95\" href=\"/search?find_desc=Restaurants&amp;find_loc=London%2C%20United%20Kingdom&amp;start=30\" name=\"\" rel=\"\" role=\"link\" target=\"\"><div aria-label=\"Page: 4\" class=\"undefined display--inline-block__09f24__FsgS4 border-color--default__09f24__R1nRO\">4</div></a>,\n",
       " <a class=\"link__09f24__1kwXV pagination-link-component__09f24__H0ICg link-color--inherit__09f24__3PYlA link-size--inherit__09f24__2Uj95\" href=\"/search?find_desc=Restaurants&amp;find_loc=London%2C%20United%20Kingdom&amp;start=40\" name=\"\" rel=\"\" role=\"link\" target=\"\"><div aria-label=\"Page: 5\" class=\"undefined display--inline-block__09f24__FsgS4 border-color--default__09f24__R1nRO\">5</div></a>,\n",
       " <a class=\"link__09f24__1kwXV pagination-link-component__09f24__H0ICg link-color--inherit__09f24__3PYlA link-size--inherit__09f24__2Uj95\" href=\"/search?find_desc=Restaurants&amp;find_loc=London%2C%20United%20Kingdom&amp;start=50\" name=\"\" rel=\"\" role=\"link\" target=\"\"><div aria-label=\"Page: 6\" class=\"undefined display--inline-block__09f24__FsgS4 border-color--default__09f24__R1nRO\">6</div></a>,\n",
       " <a class=\"link__09f24__1kwXV pagination-link-component__09f24__H0ICg link-color--inherit__09f24__3PYlA link-size--inherit__09f24__2Uj95\" href=\"/search?find_desc=Restaurants&amp;find_loc=London%2C%20United%20Kingdom&amp;start=60\" name=\"\" rel=\"\" role=\"link\" target=\"\"><div aria-label=\"Page: 7\" class=\"undefined display--inline-block__09f24__FsgS4 border-color--default__09f24__R1nRO\">7</div></a>,\n",
       " <a class=\"link__09f24__1kwXV pagination-link-component__09f24__H0ICg link-color--inherit__09f24__3PYlA link-size--inherit__09f24__2Uj95\" href=\"/search?find_desc=Restaurants&amp;find_loc=London%2C%20United%20Kingdom&amp;start=70\" name=\"\" rel=\"\" role=\"link\" target=\"\"><div aria-label=\"Page: 8\" class=\"undefined display--inline-block__09f24__FsgS4 border-color--default__09f24__R1nRO\">8</div></a>,\n",
       " <a class=\"link__09f24__1kwXV pagination-link-component__09f24__H0ICg link-color--inherit__09f24__3PYlA link-size--inherit__09f24__2Uj95\" href=\"/search?find_desc=Restaurants&amp;find_loc=London%2C%20United%20Kingdom&amp;start=80\" name=\"\" rel=\"\" role=\"link\" target=\"\"><div aria-label=\"Page: 9\" class=\"undefined display--inline-block__09f24__FsgS4 border-color--default__09f24__R1nRO\">9</div></a>,\n",
       " <a class=\"link__09f24__1kwXV next-link navigation-button__09f24__3F7Pt link-color--inherit__09f24__3PYlA link-size--inherit__09f24__2Uj95\" href=\"/search?find_desc=Restaurants&amp;find_loc=London%2C%20United%20Kingdom&amp;start=10\" name=\"\" rel=\"\" role=\"link\" target=\"\"><style data-emotion-css=\"12anxc3\">.css-12anxc3{width:24px;height:24px;display:inline-block;vertical-align:middle;position:relative;overflow:hidden;top:-0.1em;fill:currentColor;}.css-12anxc3::before{position:absolute;display:block;left:0;}.css-12anxc3::after{content:'';display:block;position:absolute;left:0;right:0;top:0;bottom:0;}.css-12anxc3 svg{position:absolute;width:100%;height:100%;fill:inherit;display:block;left:0;top:0;right:0;bottom:0;}</style><span aria-hidden=\"true\" class=\"icon--24-chevron-right-v2 navigation-button-icon__09f24__2FnZH css-12anxc3\"><svg class=\"icon_svg\" height=\"24\" width=\"24\"><path d=\"M9.75 17.58a1 1 0 01-.7-.28 1 1 0 010-1.42l3.8-3.88L9 8.12a1 1 0 111.41-1.42L15 11.3a1 1 0 010 1.4l-4.5 4.58a1 1 0 01-.75.3z\"></path></svg></span></a>]"
      ]
     },
     "execution_count": 51,
     "metadata": {},
     "output_type": "execute_result"
    }
   ],
   "source": [
    "page_links2"
   ]
  },
  {
   "cell_type": "code",
   "execution_count": 52,
   "metadata": {},
   "outputs": [],
   "source": [
    "restaurant_names = [link.text for link in page_links2 if 'osq=Restaurants' in str(link)]"
   ]
  },
  {
   "cell_type": "code",
   "execution_count": 53,
   "metadata": {},
   "outputs": [
    {
     "data": {
      "text/plain": [
       "20"
      ]
     },
     "execution_count": 53,
     "metadata": {},
     "output_type": "execute_result"
    }
   ],
   "source": [
    "len(restaurant_names)"
   ]
  },
  {
   "cell_type": "code",
   "execution_count": 54,
   "metadata": {},
   "outputs": [
    {
     "data": {
      "text/plain": [
       "['The Mayfair Chippy',\n",
       " 'more',\n",
       " 'Ffiona’s Restaurant',\n",
       " 'more',\n",
       " 'Dishoom',\n",
       " 'more',\n",
       " 'Restaurant Gordon Ramsay',\n",
       " 'more',\n",
       " 'Flat Iron',\n",
       " 'more',\n",
       " 'The Queens Arms',\n",
       " 'more',\n",
       " 'Padella',\n",
       " 'more',\n",
       " 'The Golden Chippy',\n",
       " 'more',\n",
       " 'Duck & Waffle',\n",
       " 'more',\n",
       " 'The Grazing Goat',\n",
       " 'more']"
      ]
     },
     "execution_count": 54,
     "metadata": {},
     "output_type": "execute_result"
    }
   ],
   "source": [
    "restaurant_names"
   ]
  },
  {
   "cell_type": "code",
   "execution_count": 55,
   "metadata": {},
   "outputs": [],
   "source": [
    "restaurant_names_2 = [r for r in restaurant_names if 'more' not in r]"
   ]
  },
  {
   "cell_type": "code",
   "execution_count": 56,
   "metadata": {},
   "outputs": [
    {
     "data": {
      "text/plain": [
       "['The Mayfair Chippy',\n",
       " 'Ffiona’s Restaurant',\n",
       " 'Dishoom',\n",
       " 'Restaurant Gordon Ramsay',\n",
       " 'Flat Iron',\n",
       " 'The Queens Arms',\n",
       " 'Padella',\n",
       " 'The Golden Chippy',\n",
       " 'Duck & Waffle',\n",
       " 'The Grazing Goat']"
      ]
     },
     "execution_count": 56,
     "metadata": {},
     "output_type": "execute_result"
    }
   ],
   "source": [
    "restaurant_names_2"
   ]
  },
  {
   "cell_type": "code",
   "execution_count": 57,
   "metadata": {},
   "outputs": [
    {
     "data": {
      "text/plain": [
       "'The Mayfair Chippy'"
      ]
     },
     "execution_count": 57,
     "metadata": {},
     "output_type": "execute_result"
    }
   ],
   "source": [
    "restaurant_names[0]"
   ]
  },
  {
   "cell_type": "code",
   "execution_count": null,
   "metadata": {},
   "outputs": [],
   "source": []
  },
  {
   "cell_type": "code",
   "execution_count": null,
   "metadata": {},
   "outputs": [],
   "source": []
  },
  {
   "cell_type": "code",
   "execution_count": null,
   "metadata": {},
   "outputs": [],
   "source": [
    "# your code here"
   ]
  },
  {
   "cell_type": "code",
   "execution_count": 62,
   "metadata": {},
   "outputs": [],
   "source": [
    "my_data = {\n",
    "    'Title': restaurant_names_2,\n",
    "    'NumRating': review_links,\n",
    "    'Price Range':pricing_level_pounds,\n",
    "    'Price Range Level': pricing_level,\n",
    "}"
   ]
  },
  {
   "cell_type": "code",
   "execution_count": 63,
   "metadata": {},
   "outputs": [],
   "source": [
    "output_df = pd.DataFrame(my_data)"
   ]
  },
  {
   "cell_type": "code",
   "execution_count": 64,
   "metadata": {},
   "outputs": [
    {
     "data": {
      "text/html": [
       "<div>\n",
       "<style scoped>\n",
       "    .dataframe tbody tr th:only-of-type {\n",
       "        vertical-align: middle;\n",
       "    }\n",
       "\n",
       "    .dataframe tbody tr th {\n",
       "        vertical-align: top;\n",
       "    }\n",
       "\n",
       "    .dataframe thead th {\n",
       "        text-align: right;\n",
       "    }\n",
       "</style>\n",
       "<table border=\"1\" class=\"dataframe\">\n",
       "  <thead>\n",
       "    <tr style=\"text-align: right;\">\n",
       "      <th></th>\n",
       "      <th>Title</th>\n",
       "      <th>NumRating</th>\n",
       "      <th>Price Range</th>\n",
       "      <th>Price Range Level</th>\n",
       "    </tr>\n",
       "  </thead>\n",
       "  <tbody>\n",
       "    <tr>\n",
       "      <th>0</th>\n",
       "      <td>The Mayfair Chippy</td>\n",
       "      <td>279</td>\n",
       "      <td>££</td>\n",
       "      <td>2</td>\n",
       "    </tr>\n",
       "    <tr>\n",
       "      <th>1</th>\n",
       "      <td>Ffiona’s Restaurant</td>\n",
       "      <td>270</td>\n",
       "      <td>££</td>\n",
       "      <td>2</td>\n",
       "    </tr>\n",
       "    <tr>\n",
       "      <th>2</th>\n",
       "      <td>Dishoom</td>\n",
       "      <td>1842</td>\n",
       "      <td>££</td>\n",
       "      <td>2</td>\n",
       "    </tr>\n",
       "    <tr>\n",
       "      <th>3</th>\n",
       "      <td>Restaurant Gordon Ramsay</td>\n",
       "      <td>205</td>\n",
       "      <td>££££</td>\n",
       "      <td>4</td>\n",
       "    </tr>\n",
       "    <tr>\n",
       "      <th>4</th>\n",
       "      <td>Flat Iron</td>\n",
       "      <td>380</td>\n",
       "      <td>££</td>\n",
       "      <td>2</td>\n",
       "    </tr>\n",
       "    <tr>\n",
       "      <th>5</th>\n",
       "      <td>The Queens Arms</td>\n",
       "      <td>118</td>\n",
       "      <td>££</td>\n",
       "      <td>2</td>\n",
       "    </tr>\n",
       "    <tr>\n",
       "      <th>6</th>\n",
       "      <td>Padella</td>\n",
       "      <td>205</td>\n",
       "      <td>££</td>\n",
       "      <td>2</td>\n",
       "    </tr>\n",
       "    <tr>\n",
       "      <th>7</th>\n",
       "      <td>The Golden Chippy</td>\n",
       "      <td>108</td>\n",
       "      <td>££</td>\n",
       "      <td>2</td>\n",
       "    </tr>\n",
       "    <tr>\n",
       "      <th>8</th>\n",
       "      <td>Duck &amp; Waffle</td>\n",
       "      <td>703</td>\n",
       "      <td>£££</td>\n",
       "      <td>3</td>\n",
       "    </tr>\n",
       "    <tr>\n",
       "      <th>9</th>\n",
       "      <td>The Grazing Goat</td>\n",
       "      <td>241</td>\n",
       "      <td>££</td>\n",
       "      <td>2</td>\n",
       "    </tr>\n",
       "  </tbody>\n",
       "</table>\n",
       "</div>"
      ],
      "text/plain": [
       "                      Title NumRating Price Range  Price Range Level\n",
       "0        The Mayfair Chippy       279          ££                  2\n",
       "1       Ffiona’s Restaurant       270          ££                  2\n",
       "2                   Dishoom      1842          ££                  2\n",
       "3  Restaurant Gordon Ramsay       205        ££££                  4\n",
       "4                 Flat Iron       380          ££                  2\n",
       "5           The Queens Arms       118          ££                  2\n",
       "6                   Padella       205          ££                  2\n",
       "7         The Golden Chippy       108          ££                  2\n",
       "8             Duck & Waffle       703         £££                  3\n",
       "9          The Grazing Goat       241          ££                  2"
      ]
     },
     "execution_count": 64,
     "metadata": {},
     "output_type": "execute_result"
    }
   ],
   "source": [
    "output_df"
   ]
  },
  {
   "cell_type": "code",
   "execution_count": null,
   "metadata": {},
   "outputs": [],
   "source": []
  }
 ],
 "metadata": {
  "kernelspec": {
   "display_name": "Python 3",
   "language": "python",
   "name": "python3"
  },
  "language_info": {
   "codemirror_mode": {
    "name": "ipython",
    "version": 3
   },
   "file_extension": ".py",
   "mimetype": "text/x-python",
   "name": "python",
   "nbconvert_exporter": "python",
   "pygments_lexer": "ipython3",
   "version": "3.8.3"
  }
 },
 "nbformat": 4,
 "nbformat_minor": 4
}
