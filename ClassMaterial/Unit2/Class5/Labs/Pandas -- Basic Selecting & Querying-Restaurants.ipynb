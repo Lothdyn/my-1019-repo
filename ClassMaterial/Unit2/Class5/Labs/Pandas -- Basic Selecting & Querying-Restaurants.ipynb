{
 "cells": [
  {
   "cell_type": "markdown",
   "metadata": {},
   "source": [
    "### Pandas Lab -- Basic Selecting & Querying\n",
    "\n",
    "This lab walks you through various sections of Pandas syntax for grabbing & selecting data.\n",
    "\n",
    "The lab is broken down into three parts, and will be completed throughout class.\n",
    "\n",
    " - 1. Basic selectors with Pandas\n",
    " - 2. Selecting based on conditions & boolean indexes\n",
    " - 3. Special commands for selecting certain types of rows"
   ]
  },
  {
   "cell_type": "markdown",
   "metadata": {},
   "source": [
    "### Section 1:  Selecting Data With Pandas"
   ]
  },
  {
   "cell_type": "code",
   "execution_count": 1,
   "metadata": {},
   "outputs": [],
   "source": [
    "import numpy as np\n",
    "import pandas as pd"
   ]
  },
  {
   "cell_type": "code",
   "execution_count": 2,
   "metadata": {},
   "outputs": [],
   "source": [
    "# Reading in the CSV - make sure you include the 'r' at the front.\n",
    "# r stands for raw i.e. interpret the text exactly as it is\n",
    "\n",
    "df = pd.read_csv(r\"/Users/PRSmb/OneDrive/General-Assembly/my-1019-repo/ClassMaterial/Unit2/data/restaurants.csv\")"
   ]
  },
  {
   "cell_type": "code",
   "execution_count": 3,
   "metadata": {},
   "outputs": [
    {
     "data": {
      "text/html": [
       "<div>\n",
       "<style scoped>\n",
       "    .dataframe tbody tr th:only-of-type {\n",
       "        vertical-align: middle;\n",
       "    }\n",
       "\n",
       "    .dataframe tbody tr th {\n",
       "        vertical-align: top;\n",
       "    }\n",
       "\n",
       "    .dataframe thead th {\n",
       "        text-align: right;\n",
       "    }\n",
       "</style>\n",
       "<table border=\"1\" class=\"dataframe\">\n",
       "  <thead>\n",
       "    <tr style=\"text-align: right;\">\n",
       "      <th></th>\n",
       "      <th>id</th>\n",
       "      <th>visit_date</th>\n",
       "      <th>visitors</th>\n",
       "      <th>calendar_date</th>\n",
       "      <th>day_of_week</th>\n",
       "      <th>holiday</th>\n",
       "      <th>genre</th>\n",
       "      <th>area</th>\n",
       "      <th>latitude</th>\n",
       "      <th>longitude</th>\n",
       "      <th>reserve_visitors</th>\n",
       "    </tr>\n",
       "  </thead>\n",
       "  <tbody>\n",
       "    <tr>\n",
       "      <th>0</th>\n",
       "      <td>air_ba937bf13d40fb24</td>\n",
       "      <td>2016-01-13</td>\n",
       "      <td>25</td>\n",
       "      <td>2016-01-13</td>\n",
       "      <td>Wednesday</td>\n",
       "      <td>0</td>\n",
       "      <td>Dining bar</td>\n",
       "      <td>Tōkyō-to Minato-ku Shibakōen</td>\n",
       "      <td>35.658068</td>\n",
       "      <td>139.751599</td>\n",
       "      <td>NaN</td>\n",
       "    </tr>\n",
       "    <tr>\n",
       "      <th>1</th>\n",
       "      <td>air_ba937bf13d40fb24</td>\n",
       "      <td>2016-01-14</td>\n",
       "      <td>32</td>\n",
       "      <td>2016-01-14</td>\n",
       "      <td>Thursday</td>\n",
       "      <td>0</td>\n",
       "      <td>Dining bar</td>\n",
       "      <td>Tōkyō-to Minato-ku Shibakōen</td>\n",
       "      <td>35.658068</td>\n",
       "      <td>139.751599</td>\n",
       "      <td>NaN</td>\n",
       "    </tr>\n",
       "    <tr>\n",
       "      <th>2</th>\n",
       "      <td>air_ba937bf13d40fb24</td>\n",
       "      <td>2016-01-15</td>\n",
       "      <td>29</td>\n",
       "      <td>2016-01-15</td>\n",
       "      <td>Friday</td>\n",
       "      <td>0</td>\n",
       "      <td>Dining bar</td>\n",
       "      <td>Tōkyō-to Minato-ku Shibakōen</td>\n",
       "      <td>35.658068</td>\n",
       "      <td>139.751599</td>\n",
       "      <td>NaN</td>\n",
       "    </tr>\n",
       "    <tr>\n",
       "      <th>3</th>\n",
       "      <td>air_ba937bf13d40fb24</td>\n",
       "      <td>2016-01-16</td>\n",
       "      <td>22</td>\n",
       "      <td>2016-01-16</td>\n",
       "      <td>Saturday</td>\n",
       "      <td>0</td>\n",
       "      <td>Dining bar</td>\n",
       "      <td>Tōkyō-to Minato-ku Shibakōen</td>\n",
       "      <td>35.658068</td>\n",
       "      <td>139.751599</td>\n",
       "      <td>NaN</td>\n",
       "    </tr>\n",
       "    <tr>\n",
       "      <th>4</th>\n",
       "      <td>air_ba937bf13d40fb24</td>\n",
       "      <td>2016-01-18</td>\n",
       "      <td>6</td>\n",
       "      <td>2016-01-18</td>\n",
       "      <td>Monday</td>\n",
       "      <td>0</td>\n",
       "      <td>Dining bar</td>\n",
       "      <td>Tōkyō-to Minato-ku Shibakōen</td>\n",
       "      <td>35.658068</td>\n",
       "      <td>139.751599</td>\n",
       "      <td>NaN</td>\n",
       "    </tr>\n",
       "  </tbody>\n",
       "</table>\n",
       "</div>"
      ],
      "text/plain": [
       "                     id  visit_date  visitors calendar_date day_of_week  \\\n",
       "0  air_ba937bf13d40fb24  2016-01-13        25    2016-01-13   Wednesday   \n",
       "1  air_ba937bf13d40fb24  2016-01-14        32    2016-01-14    Thursday   \n",
       "2  air_ba937bf13d40fb24  2016-01-15        29    2016-01-15      Friday   \n",
       "3  air_ba937bf13d40fb24  2016-01-16        22    2016-01-16    Saturday   \n",
       "4  air_ba937bf13d40fb24  2016-01-18         6    2016-01-18      Monday   \n",
       "\n",
       "   holiday       genre                          area   latitude   longitude  \\\n",
       "0        0  Dining bar  Tōkyō-to Minato-ku Shibakōen  35.658068  139.751599   \n",
       "1        0  Dining bar  Tōkyō-to Minato-ku Shibakōen  35.658068  139.751599   \n",
       "2        0  Dining bar  Tōkyō-to Minato-ku Shibakōen  35.658068  139.751599   \n",
       "3        0  Dining bar  Tōkyō-to Minato-ku Shibakōen  35.658068  139.751599   \n",
       "4        0  Dining bar  Tōkyō-to Minato-ku Shibakōen  35.658068  139.751599   \n",
       "\n",
       "   reserve_visitors  \n",
       "0               NaN  \n",
       "1               NaN  \n",
       "2               NaN  \n",
       "3               NaN  \n",
       "4               NaN  "
      ]
     },
     "execution_count": 3,
     "metadata": {},
     "output_type": "execute_result"
    }
   ],
   "source": [
    "df.head()"
   ]
  },
  {
   "cell_type": "markdown",
   "metadata": {},
   "source": [
    "**1). What is the average number of visitors througout the entire dataset?**"
   ]
  },
  {
   "cell_type": "code",
   "execution_count": 5,
   "metadata": {},
   "outputs": [
    {
     "data": {
      "text/plain": [
       "20.973761245180636"
      ]
     },
     "execution_count": 5,
     "metadata": {},
     "output_type": "execute_result"
    }
   ],
   "source": [
    "# your answer here\n",
    "df['visitors'].mean()"
   ]
  },
  {
   "cell_type": "markdown",
   "metadata": {},
   "source": [
    "**2). What are the median values of the visitors and holiday columns?**"
   ]
  },
  {
   "cell_type": "code",
   "execution_count": 7,
   "metadata": {},
   "outputs": [
    {
     "data": {
      "text/plain": [
       "visitors    17.0\n",
       "holiday      0.0\n",
       "dtype: float64"
      ]
     },
     "execution_count": 7,
     "metadata": {},
     "output_type": "execute_result"
    }
   ],
   "source": [
    "# your answer here\n",
    "df[['visitors','holiday']].median()"
   ]
  },
  {
   "cell_type": "markdown",
   "metadata": {},
   "source": [
    "**3). What was the lowest number of visitors among the first 5000 rows in the dataset?**"
   ]
  },
  {
   "cell_type": "code",
   "execution_count": 8,
   "metadata": {},
   "outputs": [
    {
     "data": {
      "text/plain": [
       "1"
      ]
     },
     "execution_count": 8,
     "metadata": {},
     "output_type": "execute_result"
    }
   ],
   "source": [
    "# your answer here\n",
    "df['visitors'][:5000].min()"
   ]
  },
  {
   "cell_type": "markdown",
   "metadata": {},
   "source": [
    "**4). What is the modal value of the last 4 columns in the dataset?**"
   ]
  },
  {
   "cell_type": "code",
   "execution_count": 25,
   "metadata": {},
   "outputs": [
    {
     "data": {
      "text/plain": [
       "0    Fukuoka-ken Fukuoka-shi Daimyō\n",
       "dtype: object"
      ]
     },
     "execution_count": 25,
     "metadata": {},
     "output_type": "execute_result"
    }
   ],
   "source": [
    "# your answer here\n",
    "df.iloc[0:,-4].mode()\n"
   ]
  },
  {
   "cell_type": "code",
   "execution_count": 29,
   "metadata": {},
   "outputs": [
    {
     "data": {
      "text/plain": [
       "0    Fukuoka-ken Fukuoka-shi Daimyō\n",
       "dtype: object"
      ]
     },
     "execution_count": 29,
     "metadata": {},
     "output_type": "execute_result"
    }
   ],
   "source": [
    "# or\n",
    "df.iloc[:,-4].mode()"
   ]
  },
  {
   "cell_type": "markdown",
   "metadata": {},
   "source": [
    "**5). What is the mean value of the first 250 rows of the first 3 columns in the dataset?**"
   ]
  },
  {
   "cell_type": "code",
   "execution_count": 27,
   "metadata": {},
   "outputs": [
    {
     "data": {
      "text/plain": [
       "visitors    24.912\n",
       "dtype: float64"
      ]
     },
     "execution_count": 27,
     "metadata": {},
     "output_type": "execute_result"
    }
   ],
   "source": [
    "# your answer here\n",
    "df.iloc[0:250,0:3].mean() #only returned one result, since other types non-numeric?"
   ]
  },
  {
   "cell_type": "code",
   "execution_count": 31,
   "metadata": {},
   "outputs": [
    {
     "data": {
      "text/plain": [
       "visitors    24.912\n",
       "dtype: float64"
      ]
     },
     "execution_count": 31,
     "metadata": {},
     "output_type": "execute_result"
    }
   ],
   "source": [
    "# or - cleaner:\n",
    "df.iloc[:250,:3].mean()"
   ]
  },
  {
   "cell_type": "markdown",
   "metadata": {},
   "source": [
    "### Section II: Selecting Based on Conditions"
   ]
  },
  {
   "cell_type": "markdown",
   "metadata": {},
   "source": [
    "**1). What was the average attendance on Monday?  On the weekend (Saturday & Sunday)?**"
   ]
  },
  {
   "cell_type": "code",
   "execution_count": null,
   "metadata": {},
   "outputs": [],
   "source": [
    "# your answer here"
   ]
  },
  {
   "cell_type": "code",
   "execution_count": 34,
   "metadata": {},
   "outputs": [
    {
     "data": {
      "text/plain": [
       "17.177009027207877"
      ]
     },
     "execution_count": 34,
     "metadata": {},
     "output_type": "execute_result"
    }
   ],
   "source": [
    "# Average for Monday\n",
    "df[df['day_of_week']=='Monday']['visitors'].mean()"
   ]
  },
  {
   "cell_type": "code",
   "execution_count": 37,
   "metadata": {},
   "outputs": [
    {
     "data": {
      "text/plain": [
       "25.256869738495084"
      ]
     },
     "execution_count": 37,
     "metadata": {},
     "output_type": "execute_result"
    }
   ],
   "source": [
    "# Average for saturday and sunday\n",
    "df[(df['day_of_week']=='Saturday')|(df['day_of_week']=='Sunday')]['visitors'].mean()"
   ]
  },
  {
   "cell_type": "markdown",
   "metadata": {},
   "source": [
    "**2). Is attendance higher on average for holidays or non-holidays?**"
   ]
  },
  {
   "cell_type": "code",
   "execution_count": null,
   "metadata": {},
   "outputs": [],
   "source": [
    "# your answer here"
   ]
  },
  {
   "cell_type": "code",
   "execution_count": 40,
   "metadata": {},
   "outputs": [
    {
     "data": {
      "text/plain": [
       "20.828063827386945"
      ]
     },
     "execution_count": 40,
     "metadata": {},
     "output_type": "execute_result"
    }
   ],
   "source": [
    "df[(df['holiday']==0)]['visitors'].mean()"
   ]
  },
  {
   "cell_type": "code",
   "execution_count": 41,
   "metadata": {},
   "outputs": [
    {
     "data": {
      "text/plain": [
       "23.703326810176126"
      ]
     },
     "execution_count": 41,
     "metadata": {},
     "output_type": "execute_result"
    }
   ],
   "source": [
    "df[(df['holiday']==1)]['visitors'].mean()"
   ]
  },
  {
   "cell_type": "markdown",
   "metadata": {},
   "source": [
    "*On average holiday attendance is higher*"
   ]
  },
  {
   "cell_type": "code",
   "execution_count": null,
   "metadata": {},
   "outputs": [],
   "source": []
  },
  {
   "cell_type": "markdown",
   "metadata": {},
   "source": [
    "**3). What was the highest day of attendance for Dining Bars?**"
   ]
  },
  {
   "cell_type": "code",
   "execution_count": null,
   "metadata": {},
   "outputs": [],
   "source": [
    "# your answer here -- notice the different way of selecting"
   ]
  },
  {
   "cell_type": "code",
   "execution_count": 45,
   "metadata": {},
   "outputs": [
    {
     "data": {
      "text/plain": [
       "348"
      ]
     },
     "execution_count": 45,
     "metadata": {},
     "output_type": "execute_result"
    }
   ],
   "source": [
    "df[(df['genre']=='Dining bar')]['visitors'].max()"
   ]
  },
  {
   "cell_type": "code",
   "execution_count": 47,
   "metadata": {},
   "outputs": [
    {
     "data": {
      "text/plain": [
       "245791    2017-01-23\n",
       "Name: calendar_date, dtype: object"
      ]
     },
     "execution_count": 47,
     "metadata": {},
     "output_type": "execute_result"
    }
   ],
   "source": [
    "df[(df['genre']=='Dining bar')&(df['visitors']==348)]['calendar_date']"
   ]
  },
  {
   "cell_type": "markdown",
   "metadata": {},
   "source": [
    "*Highest day of attendance at dining bars was 23-Jan-2017*"
   ]
  },
  {
   "cell_type": "code",
   "execution_count": null,
   "metadata": {},
   "outputs": [],
   "source": []
  },
  {
   "cell_type": "markdown",
   "metadata": {},
   "source": [
    "Can also type out a column name as df.column_name"
   ]
  },
  {
   "cell_type": "code",
   "execution_count": 64,
   "metadata": {},
   "outputs": [
    {
     "data": {
      "text/plain": [
       "0             Dining bar\n",
       "1             Dining bar\n",
       "2             Dining bar\n",
       "3             Dining bar\n",
       "4             Dining bar\n",
       "               ...      \n",
       "252103    Italian/French\n",
       "252104    Italian/French\n",
       "252105    Italian/French\n",
       "252106    Italian/French\n",
       "252107    Italian/French\n",
       "Name: genre, Length: 252108, dtype: object"
      ]
     },
     "execution_count": 64,
     "metadata": {},
     "output_type": "execute_result"
    }
   ],
   "source": [
    "# e.g.\n",
    "df.genre"
   ]
  },
  {
   "cell_type": "code",
   "execution_count": 65,
   "metadata": {},
   "outputs": [
    {
     "data": {
      "text/html": [
       "<div>\n",
       "<style scoped>\n",
       "    .dataframe tbody tr th:only-of-type {\n",
       "        vertical-align: middle;\n",
       "    }\n",
       "\n",
       "    .dataframe tbody tr th {\n",
       "        vertical-align: top;\n",
       "    }\n",
       "\n",
       "    .dataframe thead th {\n",
       "        text-align: right;\n",
       "    }\n",
       "</style>\n",
       "<table border=\"1\" class=\"dataframe\">\n",
       "  <thead>\n",
       "    <tr style=\"text-align: right;\">\n",
       "      <th></th>\n",
       "      <th>id</th>\n",
       "      <th>visit_date</th>\n",
       "      <th>visitors</th>\n",
       "      <th>calendar_date</th>\n",
       "      <th>day_of_week</th>\n",
       "      <th>holiday</th>\n",
       "      <th>genre</th>\n",
       "      <th>area</th>\n",
       "      <th>latitude</th>\n",
       "      <th>longitude</th>\n",
       "      <th>reserve_visitors</th>\n",
       "    </tr>\n",
       "  </thead>\n",
       "  <tbody>\n",
       "    <tr>\n",
       "      <th>0</th>\n",
       "      <td>air_ba937bf13d40fb24</td>\n",
       "      <td>2016-01-13</td>\n",
       "      <td>25</td>\n",
       "      <td>2016-01-13</td>\n",
       "      <td>Wednesday</td>\n",
       "      <td>0</td>\n",
       "      <td>Dining bar</td>\n",
       "      <td>Tōkyō-to Minato-ku Shibakōen</td>\n",
       "      <td>35.658068</td>\n",
       "      <td>139.751599</td>\n",
       "      <td>NaN</td>\n",
       "    </tr>\n",
       "    <tr>\n",
       "      <th>1</th>\n",
       "      <td>air_ba937bf13d40fb24</td>\n",
       "      <td>2016-01-14</td>\n",
       "      <td>32</td>\n",
       "      <td>2016-01-14</td>\n",
       "      <td>Thursday</td>\n",
       "      <td>0</td>\n",
       "      <td>Dining bar</td>\n",
       "      <td>Tōkyō-to Minato-ku Shibakōen</td>\n",
       "      <td>35.658068</td>\n",
       "      <td>139.751599</td>\n",
       "      <td>NaN</td>\n",
       "    </tr>\n",
       "    <tr>\n",
       "      <th>2</th>\n",
       "      <td>air_ba937bf13d40fb24</td>\n",
       "      <td>2016-01-15</td>\n",
       "      <td>29</td>\n",
       "      <td>2016-01-15</td>\n",
       "      <td>Friday</td>\n",
       "      <td>0</td>\n",
       "      <td>Dining bar</td>\n",
       "      <td>Tōkyō-to Minato-ku Shibakōen</td>\n",
       "      <td>35.658068</td>\n",
       "      <td>139.751599</td>\n",
       "      <td>NaN</td>\n",
       "    </tr>\n",
       "    <tr>\n",
       "      <th>3</th>\n",
       "      <td>air_ba937bf13d40fb24</td>\n",
       "      <td>2016-01-16</td>\n",
       "      <td>22</td>\n",
       "      <td>2016-01-16</td>\n",
       "      <td>Saturday</td>\n",
       "      <td>0</td>\n",
       "      <td>Dining bar</td>\n",
       "      <td>Tōkyō-to Minato-ku Shibakōen</td>\n",
       "      <td>35.658068</td>\n",
       "      <td>139.751599</td>\n",
       "      <td>NaN</td>\n",
       "    </tr>\n",
       "    <tr>\n",
       "      <th>4</th>\n",
       "      <td>air_ba937bf13d40fb24</td>\n",
       "      <td>2016-01-18</td>\n",
       "      <td>6</td>\n",
       "      <td>2016-01-18</td>\n",
       "      <td>Monday</td>\n",
       "      <td>0</td>\n",
       "      <td>Dining bar</td>\n",
       "      <td>Tōkyō-to Minato-ku Shibakōen</td>\n",
       "      <td>35.658068</td>\n",
       "      <td>139.751599</td>\n",
       "      <td>NaN</td>\n",
       "    </tr>\n",
       "    <tr>\n",
       "      <th>...</th>\n",
       "      <td>...</td>\n",
       "      <td>...</td>\n",
       "      <td>...</td>\n",
       "      <td>...</td>\n",
       "      <td>...</td>\n",
       "      <td>...</td>\n",
       "      <td>...</td>\n",
       "      <td>...</td>\n",
       "      <td>...</td>\n",
       "      <td>...</td>\n",
       "      <td>...</td>\n",
       "    </tr>\n",
       "    <tr>\n",
       "      <th>249732</th>\n",
       "      <td>air_16c4cfddeb2cf69b</td>\n",
       "      <td>2017-01-04</td>\n",
       "      <td>9</td>\n",
       "      <td>2017-01-04</td>\n",
       "      <td>Wednesday</td>\n",
       "      <td>0</td>\n",
       "      <td>Dining bar</td>\n",
       "      <td>Ōsaka-fu Ōsaka-shi Ōgimachi</td>\n",
       "      <td>34.705362</td>\n",
       "      <td>135.510025</td>\n",
       "      <td>10.0</td>\n",
       "    </tr>\n",
       "    <tr>\n",
       "      <th>249733</th>\n",
       "      <td>air_16c4cfddeb2cf69b</td>\n",
       "      <td>2017-01-09</td>\n",
       "      <td>13</td>\n",
       "      <td>2017-01-09</td>\n",
       "      <td>Monday</td>\n",
       "      <td>1</td>\n",
       "      <td>Dining bar</td>\n",
       "      <td>Ōsaka-fu Ōsaka-shi Ōgimachi</td>\n",
       "      <td>34.705362</td>\n",
       "      <td>135.510025</td>\n",
       "      <td>14.0</td>\n",
       "    </tr>\n",
       "    <tr>\n",
       "      <th>249734</th>\n",
       "      <td>air_16c4cfddeb2cf69b</td>\n",
       "      <td>2017-02-26</td>\n",
       "      <td>19</td>\n",
       "      <td>2017-02-26</td>\n",
       "      <td>Sunday</td>\n",
       "      <td>0</td>\n",
       "      <td>Dining bar</td>\n",
       "      <td>Ōsaka-fu Ōsaka-shi Ōgimachi</td>\n",
       "      <td>34.705362</td>\n",
       "      <td>135.510025</td>\n",
       "      <td>NaN</td>\n",
       "    </tr>\n",
       "    <tr>\n",
       "      <th>249735</th>\n",
       "      <td>air_16c4cfddeb2cf69b</td>\n",
       "      <td>2017-03-20</td>\n",
       "      <td>6</td>\n",
       "      <td>2017-03-20</td>\n",
       "      <td>Monday</td>\n",
       "      <td>1</td>\n",
       "      <td>Dining bar</td>\n",
       "      <td>Ōsaka-fu Ōsaka-shi Ōgimachi</td>\n",
       "      <td>34.705362</td>\n",
       "      <td>135.510025</td>\n",
       "      <td>3.0</td>\n",
       "    </tr>\n",
       "    <tr>\n",
       "      <th>249736</th>\n",
       "      <td>air_16c4cfddeb2cf69b</td>\n",
       "      <td>2017-04-09</td>\n",
       "      <td>29</td>\n",
       "      <td>2017-04-09</td>\n",
       "      <td>Sunday</td>\n",
       "      <td>0</td>\n",
       "      <td>Dining bar</td>\n",
       "      <td>Ōsaka-fu Ōsaka-shi Ōgimachi</td>\n",
       "      <td>34.705362</td>\n",
       "      <td>135.510025</td>\n",
       "      <td>32.0</td>\n",
       "    </tr>\n",
       "  </tbody>\n",
       "</table>\n",
       "<p>34192 rows × 11 columns</p>\n",
       "</div>"
      ],
      "text/plain": [
       "                          id  visit_date  visitors calendar_date day_of_week  \\\n",
       "0       air_ba937bf13d40fb24  2016-01-13        25    2016-01-13   Wednesday   \n",
       "1       air_ba937bf13d40fb24  2016-01-14        32    2016-01-14    Thursday   \n",
       "2       air_ba937bf13d40fb24  2016-01-15        29    2016-01-15      Friday   \n",
       "3       air_ba937bf13d40fb24  2016-01-16        22    2016-01-16    Saturday   \n",
       "4       air_ba937bf13d40fb24  2016-01-18         6    2016-01-18      Monday   \n",
       "...                      ...         ...       ...           ...         ...   \n",
       "249732  air_16c4cfddeb2cf69b  2017-01-04         9    2017-01-04   Wednesday   \n",
       "249733  air_16c4cfddeb2cf69b  2017-01-09        13    2017-01-09      Monday   \n",
       "249734  air_16c4cfddeb2cf69b  2017-02-26        19    2017-02-26      Sunday   \n",
       "249735  air_16c4cfddeb2cf69b  2017-03-20         6    2017-03-20      Monday   \n",
       "249736  air_16c4cfddeb2cf69b  2017-04-09        29    2017-04-09      Sunday   \n",
       "\n",
       "        holiday       genre                          area   latitude  \\\n",
       "0             0  Dining bar  Tōkyō-to Minato-ku Shibakōen  35.658068   \n",
       "1             0  Dining bar  Tōkyō-to Minato-ku Shibakōen  35.658068   \n",
       "2             0  Dining bar  Tōkyō-to Minato-ku Shibakōen  35.658068   \n",
       "3             0  Dining bar  Tōkyō-to Minato-ku Shibakōen  35.658068   \n",
       "4             0  Dining bar  Tōkyō-to Minato-ku Shibakōen  35.658068   \n",
       "...         ...         ...                           ...        ...   \n",
       "249732        0  Dining bar   Ōsaka-fu Ōsaka-shi Ōgimachi  34.705362   \n",
       "249733        1  Dining bar   Ōsaka-fu Ōsaka-shi Ōgimachi  34.705362   \n",
       "249734        0  Dining bar   Ōsaka-fu Ōsaka-shi Ōgimachi  34.705362   \n",
       "249735        1  Dining bar   Ōsaka-fu Ōsaka-shi Ōgimachi  34.705362   \n",
       "249736        0  Dining bar   Ōsaka-fu Ōsaka-shi Ōgimachi  34.705362   \n",
       "\n",
       "         longitude  reserve_visitors  \n",
       "0       139.751599               NaN  \n",
       "1       139.751599               NaN  \n",
       "2       139.751599               NaN  \n",
       "3       139.751599               NaN  \n",
       "4       139.751599               NaN  \n",
       "...            ...               ...  \n",
       "249732  135.510025              10.0  \n",
       "249733  135.510025              14.0  \n",
       "249734  135.510025               NaN  \n",
       "249735  135.510025               3.0  \n",
       "249736  135.510025              32.0  \n",
       "\n",
       "[34192 rows x 11 columns]"
      ]
     },
     "execution_count": 65,
     "metadata": {},
     "output_type": "execute_result"
    }
   ],
   "source": [
    "df[df.genre=='Dining bar']"
   ]
  },
  {
   "cell_type": "code",
   "execution_count": 66,
   "metadata": {},
   "outputs": [
    {
     "data": {
      "text/plain": [
       "245791"
      ]
     },
     "execution_count": 66,
     "metadata": {},
     "output_type": "execute_result"
    }
   ],
   "source": [
    "df[df.genre=='Dining bar']['visitors'].idxmax()"
   ]
  },
  {
   "cell_type": "code",
   "execution_count": 68,
   "metadata": {},
   "outputs": [
    {
     "data": {
      "text/plain": [
       "id                           air_c6aa2efba0ffc8eb\n",
       "visit_date                             2017-01-23\n",
       "visitors                                      348\n",
       "calendar_date                          2017-01-23\n",
       "day_of_week                                Monday\n",
       "holiday                                         0\n",
       "genre                                  Dining bar\n",
       "area                Tōkyō-to Adachi-ku Chūōhonchō\n",
       "latitude                                  35.7757\n",
       "longitude                                 139.804\n",
       "reserve_visitors                               25\n",
       "Name: 245791, dtype: object"
      ]
     },
     "execution_count": 68,
     "metadata": {},
     "output_type": "execute_result"
    }
   ],
   "source": [
    "df.iloc[245791]"
   ]
  },
  {
   "cell_type": "code",
   "execution_count": 69,
   "metadata": {},
   "outputs": [
    {
     "data": {
      "text/plain": [
       "day_of_week\n",
       "Friday       132\n",
       "Monday       348\n",
       "Saturday     176\n",
       "Sunday       228\n",
       "Thursday     105\n",
       "Tuesday      103\n",
       "Wednesday    162\n",
       "Name: visitors, dtype: int64"
      ]
     },
     "execution_count": 69,
     "metadata": {},
     "output_type": "execute_result"
    }
   ],
   "source": [
    "# An approach to do grouping by values in a particular column\n",
    "# it's simlar to SQL but has it's own rules from a syntax perspective\n",
    "df[df.genre=='Dining bar'].groupby('day_of_week')['visitors'].max()"
   ]
  },
  {
   "cell_type": "code",
   "execution_count": null,
   "metadata": {},
   "outputs": [],
   "source": []
  },
  {
   "cell_type": "code",
   "execution_count": null,
   "metadata": {},
   "outputs": [],
   "source": []
  },
  {
   "cell_type": "markdown",
   "metadata": {},
   "source": [
    "**4). What was the date that had the highest number of reservations that was a holiday?  Hint:  use the `idxmax()` function**"
   ]
  },
  {
   "cell_type": "code",
   "execution_count": null,
   "metadata": {},
   "outputs": [],
   "source": [
    "# your answer here"
   ]
  },
  {
   "cell_type": "code",
   "execution_count": 49,
   "metadata": {},
   "outputs": [
    {
     "data": {
      "text/plain": [
       "58.0"
      ]
     },
     "execution_count": 49,
     "metadata": {},
     "output_type": "execute_result"
    }
   ],
   "source": [
    "\n",
    "df[(df['holiday']==1)]['reserve_visitors'].max()\n",
    "# highest number of reserve visitors on a holiday was 58"
   ]
  },
  {
   "cell_type": "code",
   "execution_count": 54,
   "metadata": {},
   "outputs": [
    {
     "data": {
      "text/plain": [
       "'2016-12-30'"
      ]
     },
     "execution_count": 54,
     "metadata": {},
     "output_type": "execute_result"
    }
   ],
   "source": [
    "df[(df['holiday']==1)&(df['reserve_visitors']==58)]['visit_date'].max()"
   ]
  },
  {
   "cell_type": "code",
   "execution_count": 55,
   "metadata": {},
   "outputs": [
    {
     "data": {
      "text/plain": [
       "'2016-12-30'"
      ]
     },
     "execution_count": 55,
     "metadata": {},
     "output_type": "execute_result"
    }
   ],
   "source": [
    "df[(df['holiday']==1)&(df['reserve_visitors']==58)]['visit_date'].min()"
   ]
  },
  {
   "cell_type": "markdown",
   "metadata": {},
   "source": [
    "Highest reservations was 58 on 30-Dec-2016"
   ]
  },
  {
   "cell_type": "code",
   "execution_count": null,
   "metadata": {},
   "outputs": [],
   "source": []
  },
  {
   "cell_type": "code",
   "execution_count": 56,
   "metadata": {},
   "outputs": [
    {
     "data": {
      "text/plain": [
       "1503"
      ]
     },
     "execution_count": 56,
     "metadata": {},
     "output_type": "execute_result"
    }
   ],
   "source": [
    "df[(df['holiday']==1)]['reserve_visitors'].idxmax() \n",
    "#Returns the index value for the specified segment of df."
   ]
  },
  {
   "cell_type": "code",
   "execution_count": 58,
   "metadata": {},
   "outputs": [
    {
     "data": {
      "text/plain": [
       "id                          air_64d4491ad8cdb1c6\n",
       "visit_date                            2016-12-30\n",
       "visitors                                      23\n",
       "calendar_date                         2016-12-30\n",
       "day_of_week                               Friday\n",
       "holiday                                        1\n",
       "genre                                 Dining bar\n",
       "area                Tōkyō-to Minato-ku Shibakōen\n",
       "latitude                                 35.6581\n",
       "longitude                                139.752\n",
       "reserve_visitors                              58\n",
       "Name: 1503, dtype: object"
      ]
     },
     "execution_count": 58,
     "metadata": {},
     "output_type": "execute_result"
    }
   ],
   "source": [
    "df.iloc[1503]"
   ]
  },
  {
   "cell_type": "code",
   "execution_count": null,
   "metadata": {},
   "outputs": [],
   "source": []
  },
  {
   "cell_type": "markdown",
   "metadata": {},
   "source": [
    "**Instructor approach**"
   ]
  },
  {
   "cell_type": "code",
   "execution_count": 70,
   "metadata": {},
   "outputs": [
    {
     "data": {
      "text/plain": [
       "205"
      ]
     },
     "execution_count": 70,
     "metadata": {},
     "output_type": "execute_result"
    }
   ],
   "source": [
    "df[df.holiday == 1]['visitors'].max()"
   ]
  },
  {
   "cell_type": "code",
   "execution_count": 71,
   "metadata": {},
   "outputs": [
    {
     "data": {
      "text/plain": [
       "122871"
      ]
     },
     "execution_count": 71,
     "metadata": {},
     "output_type": "execute_result"
    }
   ],
   "source": [
    "df[df.holiday == 1]['visitors'].idxmax()"
   ]
  },
  {
   "cell_type": "code",
   "execution_count": 72,
   "metadata": {},
   "outputs": [
    {
     "data": {
      "text/plain": [
       "id                                     air_df554c4527a1cfe6\n",
       "visit_date                                       2016-12-30\n",
       "visitors                                                205\n",
       "calendar_date                                    2016-12-30\n",
       "day_of_week                                          Friday\n",
       "holiday                                                   1\n",
       "genre                                               Izakaya\n",
       "area                Shizuoka-ken Hamamatsu-shi Motoshirochō\n",
       "latitude                                            34.7109\n",
       "longitude                                           137.726\n",
       "reserve_visitors                                         58\n",
       "Name: 122871, dtype: object"
      ]
     },
     "execution_count": 72,
     "metadata": {},
     "output_type": "execute_result"
    }
   ],
   "source": [
    "df.iloc[122871]"
   ]
  },
  {
   "cell_type": "code",
   "execution_count": null,
   "metadata": {},
   "outputs": [],
   "source": []
  },
  {
   "cell_type": "markdown",
   "metadata": {},
   "source": [
    "**Section III: Special Types of Selectors**"
   ]
  },
  {
   "cell_type": "markdown",
   "metadata": {},
   "source": [
    "To get some additional practice using common Pandas methods, we'll go over some common scenarios you typically have to select data for. \n",
    "\n",
    "*The methods used in this section have not been covered in class.*  Each question will come with the recommended method to use.  It's best to use the `?` before the method to read how it works and figure out how to use it.  \n",
    "\n",
    "It's designed to be a little bit of a treasure hunt to familiarize yourself with a lot of the bread & butter pandas methods."
   ]
  },
  {
   "cell_type": "markdown",
   "metadata": {},
   "source": [
    "**1). Can you return the amount of null values for each column?**\n",
    "\n",
    "To use: `df.isnull()`.  **Hint:** `True` sums to 1, `False` to 0."
   ]
  },
  {
   "cell_type": "code",
   "execution_count": null,
   "metadata": {},
   "outputs": [],
   "source": [
    "# your answer here"
   ]
  },
  {
   "cell_type": "code",
   "execution_count": 19,
   "metadata": {},
   "outputs": [
    {
     "data": {
      "text/html": [
       "<div>\n",
       "<style scoped>\n",
       "    .dataframe tbody tr th:only-of-type {\n",
       "        vertical-align: middle;\n",
       "    }\n",
       "\n",
       "    .dataframe tbody tr th {\n",
       "        vertical-align: top;\n",
       "    }\n",
       "\n",
       "    .dataframe thead th {\n",
       "        text-align: right;\n",
       "    }\n",
       "</style>\n",
       "<table border=\"1\" class=\"dataframe\">\n",
       "  <thead>\n",
       "    <tr style=\"text-align: right;\">\n",
       "      <th></th>\n",
       "      <th>id</th>\n",
       "      <th>visit_date</th>\n",
       "      <th>visitors</th>\n",
       "      <th>calendar_date</th>\n",
       "      <th>day_of_week</th>\n",
       "      <th>holiday</th>\n",
       "      <th>genre</th>\n",
       "      <th>area</th>\n",
       "      <th>latitude</th>\n",
       "      <th>longitude</th>\n",
       "      <th>reserve_visitors</th>\n",
       "    </tr>\n",
       "  </thead>\n",
       "  <tbody>\n",
       "    <tr>\n",
       "      <th>0</th>\n",
       "      <td>False</td>\n",
       "      <td>False</td>\n",
       "      <td>False</td>\n",
       "      <td>False</td>\n",
       "      <td>False</td>\n",
       "      <td>False</td>\n",
       "      <td>False</td>\n",
       "      <td>False</td>\n",
       "      <td>False</td>\n",
       "      <td>False</td>\n",
       "      <td>True</td>\n",
       "    </tr>\n",
       "    <tr>\n",
       "      <th>1</th>\n",
       "      <td>False</td>\n",
       "      <td>False</td>\n",
       "      <td>False</td>\n",
       "      <td>False</td>\n",
       "      <td>False</td>\n",
       "      <td>False</td>\n",
       "      <td>False</td>\n",
       "      <td>False</td>\n",
       "      <td>False</td>\n",
       "      <td>False</td>\n",
       "      <td>True</td>\n",
       "    </tr>\n",
       "    <tr>\n",
       "      <th>2</th>\n",
       "      <td>False</td>\n",
       "      <td>False</td>\n",
       "      <td>False</td>\n",
       "      <td>False</td>\n",
       "      <td>False</td>\n",
       "      <td>False</td>\n",
       "      <td>False</td>\n",
       "      <td>False</td>\n",
       "      <td>False</td>\n",
       "      <td>False</td>\n",
       "      <td>True</td>\n",
       "    </tr>\n",
       "    <tr>\n",
       "      <th>3</th>\n",
       "      <td>False</td>\n",
       "      <td>False</td>\n",
       "      <td>False</td>\n",
       "      <td>False</td>\n",
       "      <td>False</td>\n",
       "      <td>False</td>\n",
       "      <td>False</td>\n",
       "      <td>False</td>\n",
       "      <td>False</td>\n",
       "      <td>False</td>\n",
       "      <td>True</td>\n",
       "    </tr>\n",
       "    <tr>\n",
       "      <th>4</th>\n",
       "      <td>False</td>\n",
       "      <td>False</td>\n",
       "      <td>False</td>\n",
       "      <td>False</td>\n",
       "      <td>False</td>\n",
       "      <td>False</td>\n",
       "      <td>False</td>\n",
       "      <td>False</td>\n",
       "      <td>False</td>\n",
       "      <td>False</td>\n",
       "      <td>True</td>\n",
       "    </tr>\n",
       "    <tr>\n",
       "      <th>...</th>\n",
       "      <td>...</td>\n",
       "      <td>...</td>\n",
       "      <td>...</td>\n",
       "      <td>...</td>\n",
       "      <td>...</td>\n",
       "      <td>...</td>\n",
       "      <td>...</td>\n",
       "      <td>...</td>\n",
       "      <td>...</td>\n",
       "      <td>...</td>\n",
       "      <td>...</td>\n",
       "    </tr>\n",
       "    <tr>\n",
       "      <th>252103</th>\n",
       "      <td>False</td>\n",
       "      <td>False</td>\n",
       "      <td>False</td>\n",
       "      <td>False</td>\n",
       "      <td>False</td>\n",
       "      <td>False</td>\n",
       "      <td>False</td>\n",
       "      <td>False</td>\n",
       "      <td>False</td>\n",
       "      <td>False</td>\n",
       "      <td>False</td>\n",
       "    </tr>\n",
       "    <tr>\n",
       "      <th>252104</th>\n",
       "      <td>False</td>\n",
       "      <td>False</td>\n",
       "      <td>False</td>\n",
       "      <td>False</td>\n",
       "      <td>False</td>\n",
       "      <td>False</td>\n",
       "      <td>False</td>\n",
       "      <td>False</td>\n",
       "      <td>False</td>\n",
       "      <td>False</td>\n",
       "      <td>False</td>\n",
       "    </tr>\n",
       "    <tr>\n",
       "      <th>252105</th>\n",
       "      <td>False</td>\n",
       "      <td>False</td>\n",
       "      <td>False</td>\n",
       "      <td>False</td>\n",
       "      <td>False</td>\n",
       "      <td>False</td>\n",
       "      <td>False</td>\n",
       "      <td>False</td>\n",
       "      <td>False</td>\n",
       "      <td>False</td>\n",
       "      <td>False</td>\n",
       "    </tr>\n",
       "    <tr>\n",
       "      <th>252106</th>\n",
       "      <td>False</td>\n",
       "      <td>False</td>\n",
       "      <td>False</td>\n",
       "      <td>False</td>\n",
       "      <td>False</td>\n",
       "      <td>False</td>\n",
       "      <td>False</td>\n",
       "      <td>False</td>\n",
       "      <td>False</td>\n",
       "      <td>False</td>\n",
       "      <td>False</td>\n",
       "    </tr>\n",
       "    <tr>\n",
       "      <th>252107</th>\n",
       "      <td>False</td>\n",
       "      <td>False</td>\n",
       "      <td>False</td>\n",
       "      <td>False</td>\n",
       "      <td>False</td>\n",
       "      <td>False</td>\n",
       "      <td>False</td>\n",
       "      <td>False</td>\n",
       "      <td>False</td>\n",
       "      <td>False</td>\n",
       "      <td>False</td>\n",
       "    </tr>\n",
       "  </tbody>\n",
       "</table>\n",
       "<p>252108 rows × 11 columns</p>\n",
       "</div>"
      ],
      "text/plain": [
       "           id  visit_date  visitors  calendar_date  day_of_week  holiday  \\\n",
       "0       False       False     False          False        False    False   \n",
       "1       False       False     False          False        False    False   \n",
       "2       False       False     False          False        False    False   \n",
       "3       False       False     False          False        False    False   \n",
       "4       False       False     False          False        False    False   \n",
       "...       ...         ...       ...            ...          ...      ...   \n",
       "252103  False       False     False          False        False    False   \n",
       "252104  False       False     False          False        False    False   \n",
       "252105  False       False     False          False        False    False   \n",
       "252106  False       False     False          False        False    False   \n",
       "252107  False       False     False          False        False    False   \n",
       "\n",
       "        genre   area  latitude  longitude  reserve_visitors  \n",
       "0       False  False     False      False              True  \n",
       "1       False  False     False      False              True  \n",
       "2       False  False     False      False              True  \n",
       "3       False  False     False      False              True  \n",
       "4       False  False     False      False              True  \n",
       "...       ...    ...       ...        ...               ...  \n",
       "252103  False  False     False      False             False  \n",
       "252104  False  False     False      False             False  \n",
       "252105  False  False     False      False             False  \n",
       "252106  False  False     False      False             False  \n",
       "252107  False  False     False      False             False  \n",
       "\n",
       "[252108 rows x 11 columns]"
      ]
     },
     "execution_count": 19,
     "metadata": {},
     "output_type": "execute_result"
    }
   ],
   "source": [
    "df.isnull()"
   ]
  },
  {
   "cell_type": "code",
   "execution_count": 8,
   "metadata": {},
   "outputs": [
    {
     "data": {
      "text/plain": [
       "id                       0\n",
       "visit_date               0\n",
       "visitors                 0\n",
       "calendar_date            0\n",
       "day_of_week              0\n",
       "holiday                  0\n",
       "genre                    0\n",
       "area                     0\n",
       "latitude                 0\n",
       "longitude                0\n",
       "reserve_visitors    143714\n",
       "dtype: int64"
      ]
     },
     "execution_count": 8,
     "metadata": {},
     "output_type": "execute_result"
    }
   ],
   "source": [
    "df.isnull().sum()"
   ]
  },
  {
   "cell_type": "code",
   "execution_count": 22,
   "metadata": {},
   "outputs": [],
   "source": [
    "?pd.isnull # Gives explanation of what is going on"
   ]
  },
  {
   "cell_type": "code",
   "execution_count": 23,
   "metadata": {},
   "outputs": [
    {
     "data": {
      "text/plain": [
       "0         1\n",
       "1         1\n",
       "2         1\n",
       "3         1\n",
       "4         1\n",
       "         ..\n",
       "252103    0\n",
       "252104    0\n",
       "252105    0\n",
       "252106    0\n",
       "252107    0\n",
       "Length: 252108, dtype: int64"
      ]
     },
     "execution_count": 23,
     "metadata": {},
     "output_type": "execute_result"
    }
   ],
   "source": [
    "df.isnull().sum(axis = 1) # Gives number of missing values in each row"
   ]
  },
  {
   "cell_type": "code",
   "execution_count": 27,
   "metadata": {},
   "outputs": [
    {
     "data": {
      "text/plain": [
       "id                  False\n",
       "visit_date          False\n",
       "visitors            False\n",
       "calendar_date       False\n",
       "day_of_week         False\n",
       "holiday             False\n",
       "genre               False\n",
       "area                False\n",
       "latitude            False\n",
       "longitude           False\n",
       "reserve_visitors     True\n",
       "dtype: bool"
      ]
     },
     "execution_count": 27,
     "metadata": {},
     "output_type": "execute_result"
    }
   ],
   "source": [
    "df.isnull().any() # Do any of our columns have at least one missing value"
   ]
  },
  {
   "cell_type": "code",
   "execution_count": 28,
   "metadata": {},
   "outputs": [
    {
     "data": {
      "text/plain": [
       "0          True\n",
       "1          True\n",
       "2          True\n",
       "3          True\n",
       "4          True\n",
       "          ...  \n",
       "252103    False\n",
       "252104    False\n",
       "252105    False\n",
       "252106    False\n",
       "252107    False\n",
       "Length: 252108, dtype: bool"
      ]
     },
     "execution_count": 28,
     "metadata": {},
     "output_type": "execute_result"
    }
   ],
   "source": [
    "df.isnull().any(axis=1) # Forces the check across rows rather than columns"
   ]
  },
  {
   "cell_type": "code",
   "execution_count": 29,
   "metadata": {},
   "outputs": [
    {
     "data": {
      "text/html": [
       "<div>\n",
       "<style scoped>\n",
       "    .dataframe tbody tr th:only-of-type {\n",
       "        vertical-align: middle;\n",
       "    }\n",
       "\n",
       "    .dataframe tbody tr th {\n",
       "        vertical-align: top;\n",
       "    }\n",
       "\n",
       "    .dataframe thead th {\n",
       "        text-align: right;\n",
       "    }\n",
       "</style>\n",
       "<table border=\"1\" class=\"dataframe\">\n",
       "  <thead>\n",
       "    <tr style=\"text-align: right;\">\n",
       "      <th></th>\n",
       "      <th>id</th>\n",
       "      <th>visit_date</th>\n",
       "      <th>visitors</th>\n",
       "      <th>calendar_date</th>\n",
       "      <th>day_of_week</th>\n",
       "      <th>holiday</th>\n",
       "      <th>genre</th>\n",
       "      <th>area</th>\n",
       "      <th>latitude</th>\n",
       "      <th>longitude</th>\n",
       "      <th>reserve_visitors</th>\n",
       "    </tr>\n",
       "  </thead>\n",
       "  <tbody>\n",
       "    <tr>\n",
       "      <th>0</th>\n",
       "      <td>air_ba937bf13d40fb24</td>\n",
       "      <td>2016-01-13</td>\n",
       "      <td>25</td>\n",
       "      <td>2016-01-13</td>\n",
       "      <td>Wednesday</td>\n",
       "      <td>0</td>\n",
       "      <td>Dining bar</td>\n",
       "      <td>Tōkyō-to Minato-ku Shibakōen</td>\n",
       "      <td>35.658068</td>\n",
       "      <td>139.751599</td>\n",
       "      <td>NaN</td>\n",
       "    </tr>\n",
       "    <tr>\n",
       "      <th>1</th>\n",
       "      <td>air_ba937bf13d40fb24</td>\n",
       "      <td>2016-01-14</td>\n",
       "      <td>32</td>\n",
       "      <td>2016-01-14</td>\n",
       "      <td>Thursday</td>\n",
       "      <td>0</td>\n",
       "      <td>Dining bar</td>\n",
       "      <td>Tōkyō-to Minato-ku Shibakōen</td>\n",
       "      <td>35.658068</td>\n",
       "      <td>139.751599</td>\n",
       "      <td>NaN</td>\n",
       "    </tr>\n",
       "    <tr>\n",
       "      <th>2</th>\n",
       "      <td>air_ba937bf13d40fb24</td>\n",
       "      <td>2016-01-15</td>\n",
       "      <td>29</td>\n",
       "      <td>2016-01-15</td>\n",
       "      <td>Friday</td>\n",
       "      <td>0</td>\n",
       "      <td>Dining bar</td>\n",
       "      <td>Tōkyō-to Minato-ku Shibakōen</td>\n",
       "      <td>35.658068</td>\n",
       "      <td>139.751599</td>\n",
       "      <td>NaN</td>\n",
       "    </tr>\n",
       "    <tr>\n",
       "      <th>3</th>\n",
       "      <td>air_ba937bf13d40fb24</td>\n",
       "      <td>2016-01-16</td>\n",
       "      <td>22</td>\n",
       "      <td>2016-01-16</td>\n",
       "      <td>Saturday</td>\n",
       "      <td>0</td>\n",
       "      <td>Dining bar</td>\n",
       "      <td>Tōkyō-to Minato-ku Shibakōen</td>\n",
       "      <td>35.658068</td>\n",
       "      <td>139.751599</td>\n",
       "      <td>NaN</td>\n",
       "    </tr>\n",
       "    <tr>\n",
       "      <th>4</th>\n",
       "      <td>air_ba937bf13d40fb24</td>\n",
       "      <td>2016-01-18</td>\n",
       "      <td>6</td>\n",
       "      <td>2016-01-18</td>\n",
       "      <td>Monday</td>\n",
       "      <td>0</td>\n",
       "      <td>Dining bar</td>\n",
       "      <td>Tōkyō-to Minato-ku Shibakōen</td>\n",
       "      <td>35.658068</td>\n",
       "      <td>139.751599</td>\n",
       "      <td>NaN</td>\n",
       "    </tr>\n",
       "    <tr>\n",
       "      <th>...</th>\n",
       "      <td>...</td>\n",
       "      <td>...</td>\n",
       "      <td>...</td>\n",
       "      <td>...</td>\n",
       "      <td>...</td>\n",
       "      <td>...</td>\n",
       "      <td>...</td>\n",
       "      <td>...</td>\n",
       "      <td>...</td>\n",
       "      <td>...</td>\n",
       "      <td>...</td>\n",
       "    </tr>\n",
       "    <tr>\n",
       "      <th>252087</th>\n",
       "      <td>air_a17f0778617c76e2</td>\n",
       "      <td>2017-04-04</td>\n",
       "      <td>10</td>\n",
       "      <td>2017-04-04</td>\n",
       "      <td>Tuesday</td>\n",
       "      <td>0</td>\n",
       "      <td>Italian/French</td>\n",
       "      <td>Hyōgo-ken Kōbe-shi Kumoidōri</td>\n",
       "      <td>34.695124</td>\n",
       "      <td>135.197852</td>\n",
       "      <td>NaN</td>\n",
       "    </tr>\n",
       "    <tr>\n",
       "      <th>252092</th>\n",
       "      <td>air_a17f0778617c76e2</td>\n",
       "      <td>2017-04-10</td>\n",
       "      <td>28</td>\n",
       "      <td>2017-04-10</td>\n",
       "      <td>Monday</td>\n",
       "      <td>0</td>\n",
       "      <td>Italian/French</td>\n",
       "      <td>Hyōgo-ken Kōbe-shi Kumoidōri</td>\n",
       "      <td>34.695124</td>\n",
       "      <td>135.197852</td>\n",
       "      <td>NaN</td>\n",
       "    </tr>\n",
       "    <tr>\n",
       "      <th>252099</th>\n",
       "      <td>air_a17f0778617c76e2</td>\n",
       "      <td>2017-04-17</td>\n",
       "      <td>19</td>\n",
       "      <td>2017-04-17</td>\n",
       "      <td>Monday</td>\n",
       "      <td>0</td>\n",
       "      <td>Italian/French</td>\n",
       "      <td>Hyōgo-ken Kōbe-shi Kumoidōri</td>\n",
       "      <td>34.695124</td>\n",
       "      <td>135.197852</td>\n",
       "      <td>NaN</td>\n",
       "    </tr>\n",
       "    <tr>\n",
       "      <th>252100</th>\n",
       "      <td>air_a17f0778617c76e2</td>\n",
       "      <td>2017-04-18</td>\n",
       "      <td>11</td>\n",
       "      <td>2017-04-18</td>\n",
       "      <td>Tuesday</td>\n",
       "      <td>0</td>\n",
       "      <td>Italian/French</td>\n",
       "      <td>Hyōgo-ken Kōbe-shi Kumoidōri</td>\n",
       "      <td>34.695124</td>\n",
       "      <td>135.197852</td>\n",
       "      <td>NaN</td>\n",
       "    </tr>\n",
       "    <tr>\n",
       "      <th>252101</th>\n",
       "      <td>air_a17f0778617c76e2</td>\n",
       "      <td>2017-04-19</td>\n",
       "      <td>25</td>\n",
       "      <td>2017-04-19</td>\n",
       "      <td>Wednesday</td>\n",
       "      <td>0</td>\n",
       "      <td>Italian/French</td>\n",
       "      <td>Hyōgo-ken Kōbe-shi Kumoidōri</td>\n",
       "      <td>34.695124</td>\n",
       "      <td>135.197852</td>\n",
       "      <td>NaN</td>\n",
       "    </tr>\n",
       "  </tbody>\n",
       "</table>\n",
       "<p>143714 rows × 11 columns</p>\n",
       "</div>"
      ],
      "text/plain": [
       "                          id  visit_date  visitors calendar_date day_of_week  \\\n",
       "0       air_ba937bf13d40fb24  2016-01-13        25    2016-01-13   Wednesday   \n",
       "1       air_ba937bf13d40fb24  2016-01-14        32    2016-01-14    Thursday   \n",
       "2       air_ba937bf13d40fb24  2016-01-15        29    2016-01-15      Friday   \n",
       "3       air_ba937bf13d40fb24  2016-01-16        22    2016-01-16    Saturday   \n",
       "4       air_ba937bf13d40fb24  2016-01-18         6    2016-01-18      Monday   \n",
       "...                      ...         ...       ...           ...         ...   \n",
       "252087  air_a17f0778617c76e2  2017-04-04        10    2017-04-04     Tuesday   \n",
       "252092  air_a17f0778617c76e2  2017-04-10        28    2017-04-10      Monday   \n",
       "252099  air_a17f0778617c76e2  2017-04-17        19    2017-04-17      Monday   \n",
       "252100  air_a17f0778617c76e2  2017-04-18        11    2017-04-18     Tuesday   \n",
       "252101  air_a17f0778617c76e2  2017-04-19        25    2017-04-19   Wednesday   \n",
       "\n",
       "        holiday           genre                          area   latitude  \\\n",
       "0             0      Dining bar  Tōkyō-to Minato-ku Shibakōen  35.658068   \n",
       "1             0      Dining bar  Tōkyō-to Minato-ku Shibakōen  35.658068   \n",
       "2             0      Dining bar  Tōkyō-to Minato-ku Shibakōen  35.658068   \n",
       "3             0      Dining bar  Tōkyō-to Minato-ku Shibakōen  35.658068   \n",
       "4             0      Dining bar  Tōkyō-to Minato-ku Shibakōen  35.658068   \n",
       "...         ...             ...                           ...        ...   \n",
       "252087        0  Italian/French  Hyōgo-ken Kōbe-shi Kumoidōri  34.695124   \n",
       "252092        0  Italian/French  Hyōgo-ken Kōbe-shi Kumoidōri  34.695124   \n",
       "252099        0  Italian/French  Hyōgo-ken Kōbe-shi Kumoidōri  34.695124   \n",
       "252100        0  Italian/French  Hyōgo-ken Kōbe-shi Kumoidōri  34.695124   \n",
       "252101        0  Italian/French  Hyōgo-ken Kōbe-shi Kumoidōri  34.695124   \n",
       "\n",
       "         longitude  reserve_visitors  \n",
       "0       139.751599               NaN  \n",
       "1       139.751599               NaN  \n",
       "2       139.751599               NaN  \n",
       "3       139.751599               NaN  \n",
       "4       139.751599               NaN  \n",
       "...            ...               ...  \n",
       "252087  135.197852               NaN  \n",
       "252092  135.197852               NaN  \n",
       "252099  135.197852               NaN  \n",
       "252100  135.197852               NaN  \n",
       "252101  135.197852               NaN  \n",
       "\n",
       "[143714 rows x 11 columns]"
      ]
     },
     "execution_count": 29,
     "metadata": {},
     "output_type": "execute_result"
    }
   ],
   "source": [
    "df[df.isnull().any(axis=1)] # Returns row with at least one missing value"
   ]
  },
  {
   "cell_type": "code",
   "execution_count": null,
   "metadata": {},
   "outputs": [],
   "source": []
  },
  {
   "cell_type": "markdown",
   "metadata": {},
   "source": [
    "**2). Can you find the count values for every single unique value within a column?**\n",
    "\n",
    "To use: `pd.Series.value_counts()`.  **Hint:** This is a *Series* method, not a *Dataframe* method.  "
   ]
  },
  {
   "cell_type": "code",
   "execution_count": null,
   "metadata": {},
   "outputs": [],
   "source": [
    "# your answer here"
   ]
  },
  {
   "cell_type": "code",
   "execution_count": 30,
   "metadata": {},
   "outputs": [
    {
     "data": {
      "text/plain": [
       "Izakaya                         62052\n",
       "Cafe/Sweets                     52764\n",
       "Dining bar                      34192\n",
       "Italian/French                  30011\n",
       "Bar/Cocktail                    25135\n",
       "Japanese food                   18789\n",
       "Other                            8246\n",
       "Yakiniku/Korean food             7025\n",
       "Western food                     4897\n",
       "Creative cuisine                 3868\n",
       "Okonomiyaki/Monja/Teppanyaki     3706\n",
       "Asian                             535\n",
       "Karaoke/Party                     516\n",
       "International cuisine             372\n",
       "Name: genre, dtype: int64"
      ]
     },
     "execution_count": 30,
     "metadata": {},
     "output_type": "execute_result"
    }
   ],
   "source": [
    "df['genre'].value_counts()\n",
    "# Returns count of unique value in column"
   ]
  },
  {
   "cell_type": "code",
   "execution_count": 33,
   "metadata": {},
   "outputs": [],
   "source": [
    "?pd.Series.value_counts"
   ]
  },
  {
   "cell_type": "code",
   "execution_count": 37,
   "metadata": {},
   "outputs": [],
   "source": [
    "?df.genre.value_counts"
   ]
  },
  {
   "cell_type": "code",
   "execution_count": 41,
   "metadata": {},
   "outputs": [
    {
     "name": "stdout",
     "output_type": "stream",
     "text": [
      "Object `pd.Series.value_counts # Gives source code as well as description` not found.\n"
     ]
    }
   ],
   "source": [
    "??pd.Series.value_counts # Gives source code as well as description"
   ]
  },
  {
   "cell_type": "code",
   "execution_count": 42,
   "metadata": {},
   "outputs": [
    {
     "data": {
      "text/plain": [
       "0             Dining bar\n",
       "1             Dining bar\n",
       "2             Dining bar\n",
       "3             Dining bar\n",
       "4             Dining bar\n",
       "               ...      \n",
       "252103    Italian/French\n",
       "252104    Italian/French\n",
       "252105    Italian/French\n",
       "252106    Italian/French\n",
       "252107    Italian/French\n",
       "Name: genre, Length: 252108, dtype: object"
      ]
     },
     "execution_count": 42,
     "metadata": {},
     "output_type": "execute_result"
    }
   ],
   "source": [
    "df['genre']"
   ]
  },
  {
   "cell_type": "code",
   "execution_count": 44,
   "metadata": {},
   "outputs": [
    {
     "data": {
      "text/plain": [
       "pandas.core.series.Series"
      ]
     },
     "execution_count": 44,
     "metadata": {},
     "output_type": "execute_result"
    }
   ],
   "source": [
    "type(df['genre']) # Series data type"
   ]
  },
  {
   "cell_type": "code",
   "execution_count": 45,
   "metadata": {},
   "outputs": [
    {
     "data": {
      "text/plain": [
       "pandas.core.frame.DataFrame"
      ]
     },
     "execution_count": 45,
     "metadata": {},
     "output_type": "execute_result"
    }
   ],
   "source": [
    "type(df)"
   ]
  },
  {
   "cell_type": "code",
   "execution_count": 46,
   "metadata": {},
   "outputs": [
    {
     "data": {
      "text/plain": [
       "pandas.core.frame.DataFrame"
      ]
     },
     "execution_count": 46,
     "metadata": {},
     "output_type": "execute_result"
    }
   ],
   "source": [
    "type(df[['genre']])"
   ]
  },
  {
   "cell_type": "code",
   "execution_count": 43,
   "metadata": {},
   "outputs": [
    {
     "data": {
      "text/html": [
       "<div>\n",
       "<style scoped>\n",
       "    .dataframe tbody tr th:only-of-type {\n",
       "        vertical-align: middle;\n",
       "    }\n",
       "\n",
       "    .dataframe tbody tr th {\n",
       "        vertical-align: top;\n",
       "    }\n",
       "\n",
       "    .dataframe thead th {\n",
       "        text-align: right;\n",
       "    }\n",
       "</style>\n",
       "<table border=\"1\" class=\"dataframe\">\n",
       "  <thead>\n",
       "    <tr style=\"text-align: right;\">\n",
       "      <th></th>\n",
       "      <th>genre</th>\n",
       "    </tr>\n",
       "  </thead>\n",
       "  <tbody>\n",
       "    <tr>\n",
       "      <th>0</th>\n",
       "      <td>Dining bar</td>\n",
       "    </tr>\n",
       "    <tr>\n",
       "      <th>1</th>\n",
       "      <td>Dining bar</td>\n",
       "    </tr>\n",
       "    <tr>\n",
       "      <th>2</th>\n",
       "      <td>Dining bar</td>\n",
       "    </tr>\n",
       "    <tr>\n",
       "      <th>3</th>\n",
       "      <td>Dining bar</td>\n",
       "    </tr>\n",
       "    <tr>\n",
       "      <th>4</th>\n",
       "      <td>Dining bar</td>\n",
       "    </tr>\n",
       "    <tr>\n",
       "      <th>...</th>\n",
       "      <td>...</td>\n",
       "    </tr>\n",
       "    <tr>\n",
       "      <th>252103</th>\n",
       "      <td>Italian/French</td>\n",
       "    </tr>\n",
       "    <tr>\n",
       "      <th>252104</th>\n",
       "      <td>Italian/French</td>\n",
       "    </tr>\n",
       "    <tr>\n",
       "      <th>252105</th>\n",
       "      <td>Italian/French</td>\n",
       "    </tr>\n",
       "    <tr>\n",
       "      <th>252106</th>\n",
       "      <td>Italian/French</td>\n",
       "    </tr>\n",
       "    <tr>\n",
       "      <th>252107</th>\n",
       "      <td>Italian/French</td>\n",
       "    </tr>\n",
       "  </tbody>\n",
       "</table>\n",
       "<p>252108 rows × 1 columns</p>\n",
       "</div>"
      ],
      "text/plain": [
       "                 genre\n",
       "0           Dining bar\n",
       "1           Dining bar\n",
       "2           Dining bar\n",
       "3           Dining bar\n",
       "4           Dining bar\n",
       "...                ...\n",
       "252103  Italian/French\n",
       "252104  Italian/French\n",
       "252105  Italian/French\n",
       "252106  Italian/French\n",
       "252107  Italian/French\n",
       "\n",
       "[252108 rows x 1 columns]"
      ]
     },
     "execution_count": 43,
     "metadata": {},
     "output_type": "execute_result"
    }
   ],
   "source": [
    "df[['genre']] # Changes the format, since move from series to a data frame"
   ]
  },
  {
   "cell_type": "code",
   "execution_count": 47,
   "metadata": {},
   "outputs": [
    {
     "ename": "AttributeError",
     "evalue": "'DataFrame' object has no attribute 'value_counts'",
     "output_type": "error",
     "traceback": [
      "\u001b[0;31m---------------------------------------------------------------------------\u001b[0m",
      "\u001b[0;31mAttributeError\u001b[0m                            Traceback (most recent call last)",
      "\u001b[0;32m<ipython-input-47-986e25863b45>\u001b[0m in \u001b[0;36m<module>\u001b[0;34m\u001b[0m\n\u001b[0;32m----> 1\u001b[0;31m \u001b[0mdf\u001b[0m\u001b[0;34m.\u001b[0m\u001b[0mvalue_counts\u001b[0m\u001b[0;34m(\u001b[0m\u001b[0;34m)\u001b[0m\u001b[0;34m\u001b[0m\u001b[0;34m\u001b[0m\u001b[0m\n\u001b[0m",
      "\u001b[0;32m/usr/local/anaconda3/lib/python3.8/site-packages/pandas/core/generic.py\u001b[0m in \u001b[0;36m__getattr__\u001b[0;34m(self, name)\u001b[0m\n\u001b[1;32m   5272\u001b[0m             \u001b[0;32mif\u001b[0m \u001b[0mself\u001b[0m\u001b[0;34m.\u001b[0m\u001b[0m_info_axis\u001b[0m\u001b[0;34m.\u001b[0m\u001b[0m_can_hold_identifiers_and_holds_name\u001b[0m\u001b[0;34m(\u001b[0m\u001b[0mname\u001b[0m\u001b[0;34m)\u001b[0m\u001b[0;34m:\u001b[0m\u001b[0;34m\u001b[0m\u001b[0;34m\u001b[0m\u001b[0m\n\u001b[1;32m   5273\u001b[0m                 \u001b[0;32mreturn\u001b[0m \u001b[0mself\u001b[0m\u001b[0;34m[\u001b[0m\u001b[0mname\u001b[0m\u001b[0;34m]\u001b[0m\u001b[0;34m\u001b[0m\u001b[0;34m\u001b[0m\u001b[0m\n\u001b[0;32m-> 5274\u001b[0;31m             \u001b[0;32mreturn\u001b[0m \u001b[0mobject\u001b[0m\u001b[0;34m.\u001b[0m\u001b[0m__getattribute__\u001b[0m\u001b[0;34m(\u001b[0m\u001b[0mself\u001b[0m\u001b[0;34m,\u001b[0m \u001b[0mname\u001b[0m\u001b[0;34m)\u001b[0m\u001b[0;34m\u001b[0m\u001b[0;34m\u001b[0m\u001b[0m\n\u001b[0m\u001b[1;32m   5275\u001b[0m \u001b[0;34m\u001b[0m\u001b[0m\n\u001b[1;32m   5276\u001b[0m     \u001b[0;32mdef\u001b[0m \u001b[0m__setattr__\u001b[0m\u001b[0;34m(\u001b[0m\u001b[0mself\u001b[0m\u001b[0;34m,\u001b[0m \u001b[0mname\u001b[0m\u001b[0;34m:\u001b[0m \u001b[0mstr\u001b[0m\u001b[0;34m,\u001b[0m \u001b[0mvalue\u001b[0m\u001b[0;34m)\u001b[0m \u001b[0;34m->\u001b[0m \u001b[0;32mNone\u001b[0m\u001b[0;34m:\u001b[0m\u001b[0;34m\u001b[0m\u001b[0;34m\u001b[0m\u001b[0m\n",
      "\u001b[0;31mAttributeError\u001b[0m: 'DataFrame' object has no attribute 'value_counts'"
     ]
    }
   ],
   "source": [
    "df.value_counts() # Gives an error since the df is not a series"
   ]
  },
  {
   "cell_type": "code",
   "execution_count": null,
   "metadata": {},
   "outputs": [],
   "source": [
    "# Easiest way to turn a series into a data frame is to add the \n",
    "# square brackets around ti."
   ]
  },
  {
   "cell_type": "code",
   "execution_count": null,
   "metadata": {},
   "outputs": [],
   "source": []
  },
  {
   "cell_type": "markdown",
   "metadata": {},
   "source": [
    "**3). Can you find the column with the highest number of unique values?  Can you sort columns their number of unique values?**\n",
    "\n",
    "To use: `df.nunique`, and `df.sort_values()` if you want to sort it."
   ]
  },
  {
   "cell_type": "code",
   "execution_count": null,
   "metadata": {},
   "outputs": [],
   "source": [
    "# your answer here"
   ]
  },
  {
   "cell_type": "code",
   "execution_count": 49,
   "metadata": {},
   "outputs": [
    {
     "data": {
      "text/plain": [
       "id                  829\n",
       "visit_date          478\n",
       "visitors            204\n",
       "calendar_date       478\n",
       "day_of_week           7\n",
       "holiday               2\n",
       "genre                14\n",
       "area                103\n",
       "latitude            108\n",
       "longitude           108\n",
       "reserve_visitors     49\n",
       "dtype: int64"
      ]
     },
     "execution_count": 49,
     "metadata": {},
     "output_type": "execute_result"
    }
   ],
   "source": [
    "df.nunique()"
   ]
  },
  {
   "cell_type": "code",
   "execution_count": 50,
   "metadata": {},
   "outputs": [
    {
     "data": {
      "text/plain": [
       "holiday               2\n",
       "day_of_week           7\n",
       "genre                14\n",
       "reserve_visitors     49\n",
       "area                103\n",
       "latitude            108\n",
       "longitude           108\n",
       "visitors            204\n",
       "visit_date          478\n",
       "calendar_date       478\n",
       "id                  829\n",
       "dtype: int64"
      ]
     },
     "execution_count": 50,
     "metadata": {},
     "output_type": "execute_result"
    }
   ],
   "source": [
    "df.nunique().sort_values()"
   ]
  },
  {
   "cell_type": "code",
   "execution_count": 56,
   "metadata": {},
   "outputs": [],
   "source": [
    "?df.sort_values"
   ]
  },
  {
   "cell_type": "code",
   "execution_count": 55,
   "metadata": {},
   "outputs": [],
   "source": [
    "??df.sort_values"
   ]
  },
  {
   "cell_type": "code",
   "execution_count": 53,
   "metadata": {},
   "outputs": [
    {
     "data": {
      "text/plain": [
       "id                  829\n",
       "calendar_date       478\n",
       "visit_date          478\n",
       "visitors            204\n",
       "longitude           108\n",
       "latitude            108\n",
       "area                103\n",
       "reserve_visitors     49\n",
       "genre                14\n",
       "day_of_week           7\n",
       "holiday               2\n",
       "dtype: int64"
      ]
     },
     "execution_count": 53,
     "metadata": {},
     "output_type": "execute_result"
    }
   ],
   "source": [
    "df.nunique().sort_values(ascending=False)"
   ]
  },
  {
   "cell_type": "code",
   "execution_count": 60,
   "metadata": {},
   "outputs": [
    {
     "data": {
      "text/html": [
       "<div>\n",
       "<style scoped>\n",
       "    .dataframe tbody tr th:only-of-type {\n",
       "        vertical-align: middle;\n",
       "    }\n",
       "\n",
       "    .dataframe tbody tr th {\n",
       "        vertical-align: top;\n",
       "    }\n",
       "\n",
       "    .dataframe thead th {\n",
       "        text-align: right;\n",
       "    }\n",
       "</style>\n",
       "<table border=\"1\" class=\"dataframe\">\n",
       "  <thead>\n",
       "    <tr style=\"text-align: right;\">\n",
       "      <th></th>\n",
       "      <th>id</th>\n",
       "      <th>visit_date</th>\n",
       "      <th>visitors</th>\n",
       "      <th>calendar_date</th>\n",
       "      <th>day_of_week</th>\n",
       "      <th>holiday</th>\n",
       "      <th>genre</th>\n",
       "      <th>area</th>\n",
       "      <th>latitude</th>\n",
       "      <th>longitude</th>\n",
       "      <th>reserve_visitors</th>\n",
       "    </tr>\n",
       "  </thead>\n",
       "  <tbody>\n",
       "    <tr>\n",
       "      <th>35102</th>\n",
       "      <td>air_cfdeb326418194ff</td>\n",
       "      <td>2017-03-08</td>\n",
       "      <td>877</td>\n",
       "      <td>2017-03-08</td>\n",
       "      <td>Wednesday</td>\n",
       "      <td>0</td>\n",
       "      <td>Bar/Cocktail</td>\n",
       "      <td>Tōkyō-to Toshima-ku Minamiikebukuro</td>\n",
       "      <td>35.726118</td>\n",
       "      <td>139.716605</td>\n",
       "      <td>NaN</td>\n",
       "    </tr>\n",
       "    <tr>\n",
       "      <th>225377</th>\n",
       "      <td>air_8c3175aa5e4fc569</td>\n",
       "      <td>2017-04-18</td>\n",
       "      <td>777</td>\n",
       "      <td>2017-04-18</td>\n",
       "      <td>Tuesday</td>\n",
       "      <td>0</td>\n",
       "      <td>Bar/Cocktail</td>\n",
       "      <td>Tōkyō-to Toshima-ku Nishiikebukuro</td>\n",
       "      <td>35.732286</td>\n",
       "      <td>139.710247</td>\n",
       "      <td>NaN</td>\n",
       "    </tr>\n",
       "    <tr>\n",
       "      <th>158627</th>\n",
       "      <td>air_f2985de32bb792e0</td>\n",
       "      <td>2016-07-10</td>\n",
       "      <td>675</td>\n",
       "      <td>2016-07-10</td>\n",
       "      <td>Sunday</td>\n",
       "      <td>0</td>\n",
       "      <td>Izakaya</td>\n",
       "      <td>Tōkyō-to Ōta-ku Kamata</td>\n",
       "      <td>35.561257</td>\n",
       "      <td>139.716051</td>\n",
       "      <td>NaN</td>\n",
       "    </tr>\n",
       "    <tr>\n",
       "      <th>206339</th>\n",
       "      <td>air_eca5e0064dc9314a</td>\n",
       "      <td>2016-08-30</td>\n",
       "      <td>627</td>\n",
       "      <td>2016-08-30</td>\n",
       "      <td>Tuesday</td>\n",
       "      <td>0</td>\n",
       "      <td>Cafe/Sweets</td>\n",
       "      <td>Fukuoka-ken Fukuoka-shi Daimyō</td>\n",
       "      <td>33.589216</td>\n",
       "      <td>130.392813</td>\n",
       "      <td>NaN</td>\n",
       "    </tr>\n",
       "    <tr>\n",
       "      <th>61432</th>\n",
       "      <td>air_43d577e0c9460e64</td>\n",
       "      <td>2016-01-24</td>\n",
       "      <td>514</td>\n",
       "      <td>2016-01-24</td>\n",
       "      <td>Sunday</td>\n",
       "      <td>0</td>\n",
       "      <td>Creative cuisine</td>\n",
       "      <td>Hyōgo-ken Nishinomiya-shi Rokutanjichō</td>\n",
       "      <td>34.737597</td>\n",
       "      <td>135.341564</td>\n",
       "      <td>3.0</td>\n",
       "    </tr>\n",
       "    <tr>\n",
       "      <th>...</th>\n",
       "      <td>...</td>\n",
       "      <td>...</td>\n",
       "      <td>...</td>\n",
       "      <td>...</td>\n",
       "      <td>...</td>\n",
       "      <td>...</td>\n",
       "      <td>...</td>\n",
       "      <td>...</td>\n",
       "      <td>...</td>\n",
       "      <td>...</td>\n",
       "      <td>...</td>\n",
       "    </tr>\n",
       "    <tr>\n",
       "      <th>244631</th>\n",
       "      <td>air_0ead98dd07e7a82a</td>\n",
       "      <td>2017-02-28</td>\n",
       "      <td>1</td>\n",
       "      <td>2017-02-28</td>\n",
       "      <td>Tuesday</td>\n",
       "      <td>0</td>\n",
       "      <td>Cafe/Sweets</td>\n",
       "      <td>Fukuoka-ken Fukuoka-shi Daimyō</td>\n",
       "      <td>33.589216</td>\n",
       "      <td>130.392813</td>\n",
       "      <td>43.0</td>\n",
       "    </tr>\n",
       "    <tr>\n",
       "      <th>174055</th>\n",
       "      <td>air_aed3a8b49abe4a48</td>\n",
       "      <td>2017-02-17</td>\n",
       "      <td>1</td>\n",
       "      <td>2017-02-17</td>\n",
       "      <td>Friday</td>\n",
       "      <td>0</td>\n",
       "      <td>Cafe/Sweets</td>\n",
       "      <td>Ōsaka-fu Ōsaka-shi Ōgimachi</td>\n",
       "      <td>34.705362</td>\n",
       "      <td>135.510025</td>\n",
       "      <td>12.0</td>\n",
       "    </tr>\n",
       "    <tr>\n",
       "      <th>64282</th>\n",
       "      <td>air_f0c7272956e62f12</td>\n",
       "      <td>2016-02-05</td>\n",
       "      <td>1</td>\n",
       "      <td>2016-02-05</td>\n",
       "      <td>Friday</td>\n",
       "      <td>0</td>\n",
       "      <td>Izakaya</td>\n",
       "      <td>Tōkyō-to Itabashi-ku Itabashi</td>\n",
       "      <td>35.751165</td>\n",
       "      <td>139.709244</td>\n",
       "      <td>NaN</td>\n",
       "    </tr>\n",
       "    <tr>\n",
       "      <th>149049</th>\n",
       "      <td>air_6873982b9e19c7ad</td>\n",
       "      <td>2017-03-03</td>\n",
       "      <td>1</td>\n",
       "      <td>2017-03-03</td>\n",
       "      <td>Friday</td>\n",
       "      <td>0</td>\n",
       "      <td>Cafe/Sweets</td>\n",
       "      <td>Hokkaidō Katō-gun Motomachi</td>\n",
       "      <td>42.994143</td>\n",
       "      <td>143.197959</td>\n",
       "      <td>7.0</td>\n",
       "    </tr>\n",
       "    <tr>\n",
       "      <th>237362</th>\n",
       "      <td>air_bbe1c1a47e09f161</td>\n",
       "      <td>2016-11-20</td>\n",
       "      <td>1</td>\n",
       "      <td>2016-11-20</td>\n",
       "      <td>Sunday</td>\n",
       "      <td>0</td>\n",
       "      <td>Dining bar</td>\n",
       "      <td>Tōkyō-to Setagaya-ku Kitazawa</td>\n",
       "      <td>35.662665</td>\n",
       "      <td>139.668268</td>\n",
       "      <td>83.0</td>\n",
       "    </tr>\n",
       "  </tbody>\n",
       "</table>\n",
       "<p>252108 rows × 11 columns</p>\n",
       "</div>"
      ],
      "text/plain": [
       "                          id  visit_date  visitors calendar_date day_of_week  \\\n",
       "35102   air_cfdeb326418194ff  2017-03-08       877    2017-03-08   Wednesday   \n",
       "225377  air_8c3175aa5e4fc569  2017-04-18       777    2017-04-18     Tuesday   \n",
       "158627  air_f2985de32bb792e0  2016-07-10       675    2016-07-10      Sunday   \n",
       "206339  air_eca5e0064dc9314a  2016-08-30       627    2016-08-30     Tuesday   \n",
       "61432   air_43d577e0c9460e64  2016-01-24       514    2016-01-24      Sunday   \n",
       "...                      ...         ...       ...           ...         ...   \n",
       "244631  air_0ead98dd07e7a82a  2017-02-28         1    2017-02-28     Tuesday   \n",
       "174055  air_aed3a8b49abe4a48  2017-02-17         1    2017-02-17      Friday   \n",
       "64282   air_f0c7272956e62f12  2016-02-05         1    2016-02-05      Friday   \n",
       "149049  air_6873982b9e19c7ad  2017-03-03         1    2017-03-03      Friday   \n",
       "237362  air_bbe1c1a47e09f161  2016-11-20         1    2016-11-20      Sunday   \n",
       "\n",
       "        holiday             genre                                    area  \\\n",
       "35102         0      Bar/Cocktail     Tōkyō-to Toshima-ku Minamiikebukuro   \n",
       "225377        0      Bar/Cocktail      Tōkyō-to Toshima-ku Nishiikebukuro   \n",
       "158627        0           Izakaya                  Tōkyō-to Ōta-ku Kamata   \n",
       "206339        0       Cafe/Sweets          Fukuoka-ken Fukuoka-shi Daimyō   \n",
       "61432         0  Creative cuisine  Hyōgo-ken Nishinomiya-shi Rokutanjichō   \n",
       "...         ...               ...                                     ...   \n",
       "244631        0       Cafe/Sweets          Fukuoka-ken Fukuoka-shi Daimyō   \n",
       "174055        0       Cafe/Sweets             Ōsaka-fu Ōsaka-shi Ōgimachi   \n",
       "64282         0           Izakaya           Tōkyō-to Itabashi-ku Itabashi   \n",
       "149049        0       Cafe/Sweets             Hokkaidō Katō-gun Motomachi   \n",
       "237362        0        Dining bar           Tōkyō-to Setagaya-ku Kitazawa   \n",
       "\n",
       "         latitude   longitude  reserve_visitors  \n",
       "35102   35.726118  139.716605               NaN  \n",
       "225377  35.732286  139.710247               NaN  \n",
       "158627  35.561257  139.716051               NaN  \n",
       "206339  33.589216  130.392813               NaN  \n",
       "61432   34.737597  135.341564               3.0  \n",
       "...           ...         ...               ...  \n",
       "244631  33.589216  130.392813              43.0  \n",
       "174055  34.705362  135.510025              12.0  \n",
       "64282   35.751165  139.709244               NaN  \n",
       "149049  42.994143  143.197959               7.0  \n",
       "237362  35.662665  139.668268              83.0  \n",
       "\n",
       "[252108 rows x 11 columns]"
      ]
     },
     "execution_count": 60,
     "metadata": {},
     "output_type": "execute_result"
    }
   ],
   "source": [
    "df.sort_values(by='visitors', ascending=False)"
   ]
  },
  {
   "cell_type": "code",
   "execution_count": 61,
   "metadata": {},
   "outputs": [
    {
     "data": {
      "text/html": [
       "<div>\n",
       "<style scoped>\n",
       "    .dataframe tbody tr th:only-of-type {\n",
       "        vertical-align: middle;\n",
       "    }\n",
       "\n",
       "    .dataframe tbody tr th {\n",
       "        vertical-align: top;\n",
       "    }\n",
       "\n",
       "    .dataframe thead th {\n",
       "        text-align: right;\n",
       "    }\n",
       "</style>\n",
       "<table border=\"1\" class=\"dataframe\">\n",
       "  <thead>\n",
       "    <tr style=\"text-align: right;\">\n",
       "      <th></th>\n",
       "      <th>id</th>\n",
       "      <th>visit_date</th>\n",
       "      <th>visitors</th>\n",
       "      <th>calendar_date</th>\n",
       "      <th>day_of_week</th>\n",
       "      <th>holiday</th>\n",
       "      <th>genre</th>\n",
       "      <th>area</th>\n",
       "      <th>latitude</th>\n",
       "      <th>longitude</th>\n",
       "      <th>reserve_visitors</th>\n",
       "    </tr>\n",
       "  </thead>\n",
       "  <tbody>\n",
       "    <tr>\n",
       "      <th>216453</th>\n",
       "      <td>air_fff68b929994bfbd</td>\n",
       "      <td>2016-09-03</td>\n",
       "      <td>18</td>\n",
       "      <td>2016-09-03</td>\n",
       "      <td>Saturday</td>\n",
       "      <td>0</td>\n",
       "      <td>Bar/Cocktail</td>\n",
       "      <td>Tōkyō-to Nakano-ku Nakano</td>\n",
       "      <td>35.708146</td>\n",
       "      <td>139.666288</td>\n",
       "      <td>NaN</td>\n",
       "    </tr>\n",
       "    <tr>\n",
       "      <th>216521</th>\n",
       "      <td>air_fff68b929994bfbd</td>\n",
       "      <td>2016-11-25</td>\n",
       "      <td>17</td>\n",
       "      <td>2016-11-25</td>\n",
       "      <td>Friday</td>\n",
       "      <td>0</td>\n",
       "      <td>Bar/Cocktail</td>\n",
       "      <td>Tōkyō-to Nakano-ku Nakano</td>\n",
       "      <td>35.708146</td>\n",
       "      <td>139.666288</td>\n",
       "      <td>10.0</td>\n",
       "    </tr>\n",
       "    <tr>\n",
       "      <th>216448</th>\n",
       "      <td>air_fff68b929994bfbd</td>\n",
       "      <td>2016-08-26</td>\n",
       "      <td>16</td>\n",
       "      <td>2016-08-26</td>\n",
       "      <td>Friday</td>\n",
       "      <td>0</td>\n",
       "      <td>Bar/Cocktail</td>\n",
       "      <td>Tōkyō-to Nakano-ku Nakano</td>\n",
       "      <td>35.708146</td>\n",
       "      <td>139.666288</td>\n",
       "      <td>NaN</td>\n",
       "    </tr>\n",
       "    <tr>\n",
       "      <th>216522</th>\n",
       "      <td>air_fff68b929994bfbd</td>\n",
       "      <td>2016-11-26</td>\n",
       "      <td>15</td>\n",
       "      <td>2016-11-26</td>\n",
       "      <td>Saturday</td>\n",
       "      <td>0</td>\n",
       "      <td>Bar/Cocktail</td>\n",
       "      <td>Tōkyō-to Nakano-ku Nakano</td>\n",
       "      <td>35.708146</td>\n",
       "      <td>139.666288</td>\n",
       "      <td>12.0</td>\n",
       "    </tr>\n",
       "    <tr>\n",
       "      <th>216597</th>\n",
       "      <td>air_fff68b929994bfbd</td>\n",
       "      <td>2017-02-25</td>\n",
       "      <td>15</td>\n",
       "      <td>2017-02-25</td>\n",
       "      <td>Saturday</td>\n",
       "      <td>0</td>\n",
       "      <td>Bar/Cocktail</td>\n",
       "      <td>Tōkyō-to Nakano-ku Nakano</td>\n",
       "      <td>35.708146</td>\n",
       "      <td>139.666288</td>\n",
       "      <td>15.0</td>\n",
       "    </tr>\n",
       "    <tr>\n",
       "      <th>...</th>\n",
       "      <td>...</td>\n",
       "      <td>...</td>\n",
       "      <td>...</td>\n",
       "      <td>...</td>\n",
       "      <td>...</td>\n",
       "      <td>...</td>\n",
       "      <td>...</td>\n",
       "      <td>...</td>\n",
       "      <td>...</td>\n",
       "      <td>...</td>\n",
       "      <td>...</td>\n",
       "    </tr>\n",
       "    <tr>\n",
       "      <th>166889</th>\n",
       "      <td>air_00a91d42b08b08d9</td>\n",
       "      <td>2016-09-10</td>\n",
       "      <td>3</td>\n",
       "      <td>2016-09-10</td>\n",
       "      <td>Saturday</td>\n",
       "      <td>0</td>\n",
       "      <td>Italian/French</td>\n",
       "      <td>Tōkyō-to Chiyoda-ku Kudanminami</td>\n",
       "      <td>35.694003</td>\n",
       "      <td>139.753595</td>\n",
       "      <td>NaN</td>\n",
       "    </tr>\n",
       "    <tr>\n",
       "      <th>166938</th>\n",
       "      <td>air_00a91d42b08b08d9</td>\n",
       "      <td>2016-11-12</td>\n",
       "      <td>3</td>\n",
       "      <td>2016-11-12</td>\n",
       "      <td>Saturday</td>\n",
       "      <td>0</td>\n",
       "      <td>Italian/French</td>\n",
       "      <td>Tōkyō-to Chiyoda-ku Kudanminami</td>\n",
       "      <td>35.694003</td>\n",
       "      <td>139.753595</td>\n",
       "      <td>4.0</td>\n",
       "    </tr>\n",
       "    <tr>\n",
       "      <th>166956</th>\n",
       "      <td>air_00a91d42b08b08d9</td>\n",
       "      <td>2016-12-04</td>\n",
       "      <td>2</td>\n",
       "      <td>2016-12-04</td>\n",
       "      <td>Sunday</td>\n",
       "      <td>0</td>\n",
       "      <td>Italian/French</td>\n",
       "      <td>Tōkyō-to Chiyoda-ku Kudanminami</td>\n",
       "      <td>35.694003</td>\n",
       "      <td>139.753595</td>\n",
       "      <td>42.0</td>\n",
       "    </tr>\n",
       "    <tr>\n",
       "      <th>166922</th>\n",
       "      <td>air_00a91d42b08b08d9</td>\n",
       "      <td>2016-10-24</td>\n",
       "      <td>1</td>\n",
       "      <td>2016-10-24</td>\n",
       "      <td>Monday</td>\n",
       "      <td>0</td>\n",
       "      <td>Italian/French</td>\n",
       "      <td>Tōkyō-to Chiyoda-ku Kudanminami</td>\n",
       "      <td>35.694003</td>\n",
       "      <td>139.753595</td>\n",
       "      <td>NaN</td>\n",
       "    </tr>\n",
       "    <tr>\n",
       "      <th>166946</th>\n",
       "      <td>air_00a91d42b08b08d9</td>\n",
       "      <td>2016-11-22</td>\n",
       "      <td>1</td>\n",
       "      <td>2016-11-22</td>\n",
       "      <td>Tuesday</td>\n",
       "      <td>0</td>\n",
       "      <td>Italian/French</td>\n",
       "      <td>Tōkyō-to Chiyoda-ku Kudanminami</td>\n",
       "      <td>35.694003</td>\n",
       "      <td>139.753595</td>\n",
       "      <td>23.0</td>\n",
       "    </tr>\n",
       "  </tbody>\n",
       "</table>\n",
       "<p>252108 rows × 11 columns</p>\n",
       "</div>"
      ],
      "text/plain": [
       "                          id  visit_date  visitors calendar_date day_of_week  \\\n",
       "216453  air_fff68b929994bfbd  2016-09-03        18    2016-09-03    Saturday   \n",
       "216521  air_fff68b929994bfbd  2016-11-25        17    2016-11-25      Friday   \n",
       "216448  air_fff68b929994bfbd  2016-08-26        16    2016-08-26      Friday   \n",
       "216522  air_fff68b929994bfbd  2016-11-26        15    2016-11-26    Saturday   \n",
       "216597  air_fff68b929994bfbd  2017-02-25        15    2017-02-25    Saturday   \n",
       "...                      ...         ...       ...           ...         ...   \n",
       "166889  air_00a91d42b08b08d9  2016-09-10         3    2016-09-10    Saturday   \n",
       "166938  air_00a91d42b08b08d9  2016-11-12         3    2016-11-12    Saturday   \n",
       "166956  air_00a91d42b08b08d9  2016-12-04         2    2016-12-04      Sunday   \n",
       "166922  air_00a91d42b08b08d9  2016-10-24         1    2016-10-24      Monday   \n",
       "166946  air_00a91d42b08b08d9  2016-11-22         1    2016-11-22     Tuesday   \n",
       "\n",
       "        holiday           genre                             area   latitude  \\\n",
       "216453        0    Bar/Cocktail        Tōkyō-to Nakano-ku Nakano  35.708146   \n",
       "216521        0    Bar/Cocktail        Tōkyō-to Nakano-ku Nakano  35.708146   \n",
       "216448        0    Bar/Cocktail        Tōkyō-to Nakano-ku Nakano  35.708146   \n",
       "216522        0    Bar/Cocktail        Tōkyō-to Nakano-ku Nakano  35.708146   \n",
       "216597        0    Bar/Cocktail        Tōkyō-to Nakano-ku Nakano  35.708146   \n",
       "...         ...             ...                              ...        ...   \n",
       "166889        0  Italian/French  Tōkyō-to Chiyoda-ku Kudanminami  35.694003   \n",
       "166938        0  Italian/French  Tōkyō-to Chiyoda-ku Kudanminami  35.694003   \n",
       "166956        0  Italian/French  Tōkyō-to Chiyoda-ku Kudanminami  35.694003   \n",
       "166922        0  Italian/French  Tōkyō-to Chiyoda-ku Kudanminami  35.694003   \n",
       "166946        0  Italian/French  Tōkyō-to Chiyoda-ku Kudanminami  35.694003   \n",
       "\n",
       "         longitude  reserve_visitors  \n",
       "216453  139.666288               NaN  \n",
       "216521  139.666288              10.0  \n",
       "216448  139.666288               NaN  \n",
       "216522  139.666288              12.0  \n",
       "216597  139.666288              15.0  \n",
       "...            ...               ...  \n",
       "166889  139.753595               NaN  \n",
       "166938  139.753595               4.0  \n",
       "166956  139.753595              42.0  \n",
       "166922  139.753595               NaN  \n",
       "166946  139.753595              23.0  \n",
       "\n",
       "[252108 rows x 11 columns]"
      ]
     },
     "execution_count": 61,
     "metadata": {},
     "output_type": "execute_result"
    }
   ],
   "source": [
    "df.sort_values(by=['id','visitors'], ascending=False)\n",
    "# By passing a list we group by ID, then attendance"
   ]
  },
  {
   "cell_type": "code",
   "execution_count": 62,
   "metadata": {},
   "outputs": [
    {
     "data": {
      "text/html": [
       "<div>\n",
       "<style scoped>\n",
       "    .dataframe tbody tr th:only-of-type {\n",
       "        vertical-align: middle;\n",
       "    }\n",
       "\n",
       "    .dataframe tbody tr th {\n",
       "        vertical-align: top;\n",
       "    }\n",
       "\n",
       "    .dataframe thead th {\n",
       "        text-align: right;\n",
       "    }\n",
       "</style>\n",
       "<table border=\"1\" class=\"dataframe\">\n",
       "  <thead>\n",
       "    <tr style=\"text-align: right;\">\n",
       "      <th></th>\n",
       "      <th>id</th>\n",
       "      <th>visit_date</th>\n",
       "      <th>visitors</th>\n",
       "      <th>calendar_date</th>\n",
       "      <th>day_of_week</th>\n",
       "      <th>holiday</th>\n",
       "      <th>genre</th>\n",
       "      <th>area</th>\n",
       "      <th>latitude</th>\n",
       "      <th>longitude</th>\n",
       "      <th>reserve_visitors</th>\n",
       "    </tr>\n",
       "  </thead>\n",
       "  <tbody>\n",
       "    <tr>\n",
       "      <th>166973</th>\n",
       "      <td>air_00a91d42b08b08d9</td>\n",
       "      <td>2016-12-24</td>\n",
       "      <td>99</td>\n",
       "      <td>2016-12-24</td>\n",
       "      <td>Saturday</td>\n",
       "      <td>0</td>\n",
       "      <td>Italian/French</td>\n",
       "      <td>Tōkyō-to Chiyoda-ku Kudanminami</td>\n",
       "      <td>35.694003</td>\n",
       "      <td>139.753595</td>\n",
       "      <td>21.0</td>\n",
       "    </tr>\n",
       "    <tr>\n",
       "      <th>166915</th>\n",
       "      <td>air_00a91d42b08b08d9</td>\n",
       "      <td>2016-10-14</td>\n",
       "      <td>57</td>\n",
       "      <td>2016-10-14</td>\n",
       "      <td>Friday</td>\n",
       "      <td>0</td>\n",
       "      <td>Italian/French</td>\n",
       "      <td>Tōkyō-to Chiyoda-ku Kudanminami</td>\n",
       "      <td>35.694003</td>\n",
       "      <td>139.753595</td>\n",
       "      <td>NaN</td>\n",
       "    </tr>\n",
       "    <tr>\n",
       "      <th>166905</th>\n",
       "      <td>air_00a91d42b08b08d9</td>\n",
       "      <td>2016-10-01</td>\n",
       "      <td>56</td>\n",
       "      <td>2016-10-01</td>\n",
       "      <td>Saturday</td>\n",
       "      <td>0</td>\n",
       "      <td>Italian/French</td>\n",
       "      <td>Tōkyō-to Chiyoda-ku Kudanminami</td>\n",
       "      <td>35.694003</td>\n",
       "      <td>139.753595</td>\n",
       "      <td>NaN</td>\n",
       "    </tr>\n",
       "    <tr>\n",
       "      <th>167061</th>\n",
       "      <td>air_00a91d42b08b08d9</td>\n",
       "      <td>2017-04-21</td>\n",
       "      <td>55</td>\n",
       "      <td>2017-04-21</td>\n",
       "      <td>Friday</td>\n",
       "      <td>0</td>\n",
       "      <td>Italian/French</td>\n",
       "      <td>Tōkyō-to Chiyoda-ku Kudanminami</td>\n",
       "      <td>35.694003</td>\n",
       "      <td>139.753595</td>\n",
       "      <td>6.0</td>\n",
       "    </tr>\n",
       "    <tr>\n",
       "      <th>166943</th>\n",
       "      <td>air_00a91d42b08b08d9</td>\n",
       "      <td>2016-11-18</td>\n",
       "      <td>54</td>\n",
       "      <td>2016-11-18</td>\n",
       "      <td>Friday</td>\n",
       "      <td>0</td>\n",
       "      <td>Italian/French</td>\n",
       "      <td>Tōkyō-to Chiyoda-ku Kudanminami</td>\n",
       "      <td>35.694003</td>\n",
       "      <td>139.753595</td>\n",
       "      <td>7.0</td>\n",
       "    </tr>\n",
       "    <tr>\n",
       "      <th>...</th>\n",
       "      <td>...</td>\n",
       "      <td>...</td>\n",
       "      <td>...</td>\n",
       "      <td>...</td>\n",
       "      <td>...</td>\n",
       "      <td>...</td>\n",
       "      <td>...</td>\n",
       "      <td>...</td>\n",
       "      <td>...</td>\n",
       "      <td>...</td>\n",
       "      <td>...</td>\n",
       "    </tr>\n",
       "    <tr>\n",
       "      <th>216663</th>\n",
       "      <td>air_fff68b929994bfbd</td>\n",
       "      <td>2017-02-12</td>\n",
       "      <td>1</td>\n",
       "      <td>2017-02-12</td>\n",
       "      <td>Sunday</td>\n",
       "      <td>0</td>\n",
       "      <td>Bar/Cocktail</td>\n",
       "      <td>Tōkyō-to Nakano-ku Nakano</td>\n",
       "      <td>35.708146</td>\n",
       "      <td>139.666288</td>\n",
       "      <td>30.0</td>\n",
       "    </tr>\n",
       "    <tr>\n",
       "      <th>216666</th>\n",
       "      <td>air_fff68b929994bfbd</td>\n",
       "      <td>2016-08-28</td>\n",
       "      <td>1</td>\n",
       "      <td>2016-08-28</td>\n",
       "      <td>Sunday</td>\n",
       "      <td>0</td>\n",
       "      <td>Bar/Cocktail</td>\n",
       "      <td>Tōkyō-to Nakano-ku Nakano</td>\n",
       "      <td>35.708146</td>\n",
       "      <td>139.666288</td>\n",
       "      <td>NaN</td>\n",
       "    </tr>\n",
       "    <tr>\n",
       "      <th>216668</th>\n",
       "      <td>air_fff68b929994bfbd</td>\n",
       "      <td>2016-09-19</td>\n",
       "      <td>1</td>\n",
       "      <td>2016-09-19</td>\n",
       "      <td>Monday</td>\n",
       "      <td>1</td>\n",
       "      <td>Bar/Cocktail</td>\n",
       "      <td>Tōkyō-to Nakano-ku Nakano</td>\n",
       "      <td>35.708146</td>\n",
       "      <td>139.666288</td>\n",
       "      <td>NaN</td>\n",
       "    </tr>\n",
       "    <tr>\n",
       "      <th>216671</th>\n",
       "      <td>air_fff68b929994bfbd</td>\n",
       "      <td>2016-12-30</td>\n",
       "      <td>1</td>\n",
       "      <td>2016-12-30</td>\n",
       "      <td>Friday</td>\n",
       "      <td>1</td>\n",
       "      <td>Bar/Cocktail</td>\n",
       "      <td>Tōkyō-to Nakano-ku Nakano</td>\n",
       "      <td>35.708146</td>\n",
       "      <td>139.666288</td>\n",
       "      <td>58.0</td>\n",
       "    </tr>\n",
       "    <tr>\n",
       "      <th>216672</th>\n",
       "      <td>air_fff68b929994bfbd</td>\n",
       "      <td>2017-01-03</td>\n",
       "      <td>1</td>\n",
       "      <td>2017-01-03</td>\n",
       "      <td>Tuesday</td>\n",
       "      <td>1</td>\n",
       "      <td>Bar/Cocktail</td>\n",
       "      <td>Tōkyō-to Nakano-ku Nakano</td>\n",
       "      <td>35.708146</td>\n",
       "      <td>139.666288</td>\n",
       "      <td>NaN</td>\n",
       "    </tr>\n",
       "  </tbody>\n",
       "</table>\n",
       "<p>252108 rows × 11 columns</p>\n",
       "</div>"
      ],
      "text/plain": [
       "                          id  visit_date  visitors calendar_date day_of_week  \\\n",
       "166973  air_00a91d42b08b08d9  2016-12-24        99    2016-12-24    Saturday   \n",
       "166915  air_00a91d42b08b08d9  2016-10-14        57    2016-10-14      Friday   \n",
       "166905  air_00a91d42b08b08d9  2016-10-01        56    2016-10-01    Saturday   \n",
       "167061  air_00a91d42b08b08d9  2017-04-21        55    2017-04-21      Friday   \n",
       "166943  air_00a91d42b08b08d9  2016-11-18        54    2016-11-18      Friday   \n",
       "...                      ...         ...       ...           ...         ...   \n",
       "216663  air_fff68b929994bfbd  2017-02-12         1    2017-02-12      Sunday   \n",
       "216666  air_fff68b929994bfbd  2016-08-28         1    2016-08-28      Sunday   \n",
       "216668  air_fff68b929994bfbd  2016-09-19         1    2016-09-19      Monday   \n",
       "216671  air_fff68b929994bfbd  2016-12-30         1    2016-12-30      Friday   \n",
       "216672  air_fff68b929994bfbd  2017-01-03         1    2017-01-03     Tuesday   \n",
       "\n",
       "        holiday           genre                             area   latitude  \\\n",
       "166973        0  Italian/French  Tōkyō-to Chiyoda-ku Kudanminami  35.694003   \n",
       "166915        0  Italian/French  Tōkyō-to Chiyoda-ku Kudanminami  35.694003   \n",
       "166905        0  Italian/French  Tōkyō-to Chiyoda-ku Kudanminami  35.694003   \n",
       "167061        0  Italian/French  Tōkyō-to Chiyoda-ku Kudanminami  35.694003   \n",
       "166943        0  Italian/French  Tōkyō-to Chiyoda-ku Kudanminami  35.694003   \n",
       "...         ...             ...                              ...        ...   \n",
       "216663        0    Bar/Cocktail        Tōkyō-to Nakano-ku Nakano  35.708146   \n",
       "216666        0    Bar/Cocktail        Tōkyō-to Nakano-ku Nakano  35.708146   \n",
       "216668        1    Bar/Cocktail        Tōkyō-to Nakano-ku Nakano  35.708146   \n",
       "216671        1    Bar/Cocktail        Tōkyō-to Nakano-ku Nakano  35.708146   \n",
       "216672        1    Bar/Cocktail        Tōkyō-to Nakano-ku Nakano  35.708146   \n",
       "\n",
       "         longitude  reserve_visitors  \n",
       "166973  139.753595              21.0  \n",
       "166915  139.753595               NaN  \n",
       "166905  139.753595               NaN  \n",
       "167061  139.753595               6.0  \n",
       "166943  139.753595               7.0  \n",
       "...            ...               ...  \n",
       "216663  139.666288              30.0  \n",
       "216666  139.666288               NaN  \n",
       "216668  139.666288               NaN  \n",
       "216671  139.666288              58.0  \n",
       "216672  139.666288               NaN  \n",
       "\n",
       "[252108 rows x 11 columns]"
      ]
     },
     "execution_count": 62,
     "metadata": {},
     "output_type": "execute_result"
    }
   ],
   "source": [
    "df.sort_values(by=['id','visitors'], ascending=[True,False])\n",
    "# This woudl give ID's in ascending order, and visitors in descending order\n",
    "# Key is passing output by list."
   ]
  },
  {
   "cell_type": "code",
   "execution_count": null,
   "metadata": {},
   "outputs": [],
   "source": []
  },
  {
   "cell_type": "markdown",
   "metadata": {},
   "source": [
    "**4). Can you query your dataframe so that it only returns columns that have empty values?**\n",
    "\n",
    "To use: `df.isnull()`, `df.loc`"
   ]
  },
  {
   "cell_type": "code",
   "execution_count": null,
   "metadata": {},
   "outputs": [],
   "source": [
    "# your answer here"
   ]
  },
  {
   "cell_type": "code",
   "execution_count": 70,
   "metadata": {},
   "outputs": [
    {
     "data": {
      "text/plain": [
       "id                  False\n",
       "visit_date          False\n",
       "visitors            False\n",
       "calendar_date       False\n",
       "day_of_week         False\n",
       "holiday             False\n",
       "genre               False\n",
       "area                False\n",
       "latitude            False\n",
       "longitude           False\n",
       "reserve_visitors     True\n",
       "dtype: bool"
      ]
     },
     "execution_count": 70,
     "metadata": {},
     "output_type": "execute_result"
    }
   ],
   "source": [
    "df.isnull().any() # Do these columns have any missing values\n"
   ]
  },
  {
   "cell_type": "code",
   "execution_count": 71,
   "metadata": {},
   "outputs": [
    {
     "data": {
      "text/plain": [
       "pandas.core.series.Series"
      ]
     },
     "execution_count": 71,
     "metadata": {},
     "output_type": "execute_result"
    }
   ],
   "source": [
    "type(df.isnull().any() ) # So the above is a series output, not a printout."
   ]
  },
  {
   "cell_type": "code",
   "execution_count": 72,
   "metadata": {},
   "outputs": [
    {
     "data": {
      "text/plain": [
       "Index(['id', 'visit_date', 'visitors', 'calendar_date', 'day_of_week',\n",
       "       'holiday', 'genre', 'area', 'latitude', 'longitude',\n",
       "       'reserve_visitors'],\n",
       "      dtype='object')"
      ]
     },
     "execution_count": 72,
     "metadata": {},
     "output_type": "execute_result"
    }
   ],
   "source": [
    "df.isnull().any().index\n",
    "# The index returns as the column labels"
   ]
  },
  {
   "cell_type": "code",
   "execution_count": 80,
   "metadata": {},
   "outputs": [
    {
     "data": {
      "text/html": [
       "<div>\n",
       "<style scoped>\n",
       "    .dataframe tbody tr th:only-of-type {\n",
       "        vertical-align: middle;\n",
       "    }\n",
       "\n",
       "    .dataframe tbody tr th {\n",
       "        vertical-align: top;\n",
       "    }\n",
       "\n",
       "    .dataframe thead th {\n",
       "        text-align: right;\n",
       "    }\n",
       "</style>\n",
       "<table border=\"1\" class=\"dataframe\">\n",
       "  <thead>\n",
       "    <tr style=\"text-align: right;\">\n",
       "      <th></th>\n",
       "      <th>reserve_visitors</th>\n",
       "    </tr>\n",
       "  </thead>\n",
       "  <tbody>\n",
       "    <tr>\n",
       "      <th>0</th>\n",
       "      <td>NaN</td>\n",
       "    </tr>\n",
       "    <tr>\n",
       "      <th>1</th>\n",
       "      <td>NaN</td>\n",
       "    </tr>\n",
       "    <tr>\n",
       "      <th>2</th>\n",
       "      <td>NaN</td>\n",
       "    </tr>\n",
       "    <tr>\n",
       "      <th>3</th>\n",
       "      <td>NaN</td>\n",
       "    </tr>\n",
       "    <tr>\n",
       "      <th>4</th>\n",
       "      <td>NaN</td>\n",
       "    </tr>\n",
       "    <tr>\n",
       "      <th>...</th>\n",
       "      <td>...</td>\n",
       "    </tr>\n",
       "    <tr>\n",
       "      <th>252103</th>\n",
       "      <td>6.0</td>\n",
       "    </tr>\n",
       "    <tr>\n",
       "      <th>252104</th>\n",
       "      <td>37.0</td>\n",
       "    </tr>\n",
       "    <tr>\n",
       "      <th>252105</th>\n",
       "      <td>35.0</td>\n",
       "    </tr>\n",
       "    <tr>\n",
       "      <th>252106</th>\n",
       "      <td>3.0</td>\n",
       "    </tr>\n",
       "    <tr>\n",
       "      <th>252107</th>\n",
       "      <td>32.0</td>\n",
       "    </tr>\n",
       "  </tbody>\n",
       "</table>\n",
       "<p>252108 rows × 1 columns</p>\n",
       "</div>"
      ],
      "text/plain": [
       "        reserve_visitors\n",
       "0                    NaN\n",
       "1                    NaN\n",
       "2                    NaN\n",
       "3                    NaN\n",
       "4                    NaN\n",
       "...                  ...\n",
       "252103               6.0\n",
       "252104              37.0\n",
       "252105              35.0\n",
       "252106               3.0\n",
       "252107              32.0\n",
       "\n",
       "[252108 rows x 1 columns]"
      ]
     },
     "execution_count": 80,
     "metadata": {},
     "output_type": "execute_result"
    }
   ],
   "source": [
    "df.loc[:, df.isnull().any()] \n",
    "\n",
    "# loc searches for things based of their labels\n",
    "# So returns columns with missing values in this case\n",
    "# This just returns the full row \n",
    "# [:, => grab all the rows\n",
    "# ,df.isnull().any()] => Filters the columns"
   ]
  },
  {
   "cell_type": "code",
   "execution_count": 81,
   "metadata": {},
   "outputs": [
    {
     "data": {
      "text/html": [
       "<div>\n",
       "<style scoped>\n",
       "    .dataframe tbody tr th:only-of-type {\n",
       "        vertical-align: middle;\n",
       "    }\n",
       "\n",
       "    .dataframe tbody tr th {\n",
       "        vertical-align: top;\n",
       "    }\n",
       "\n",
       "    .dataframe thead th {\n",
       "        text-align: right;\n",
       "    }\n",
       "</style>\n",
       "<table border=\"1\" class=\"dataframe\">\n",
       "  <thead>\n",
       "    <tr style=\"text-align: right;\">\n",
       "      <th></th>\n",
       "      <th>reserve_visitors</th>\n",
       "    </tr>\n",
       "  </thead>\n",
       "  <tbody>\n",
       "    <tr>\n",
       "      <th>0</th>\n",
       "      <td>NaN</td>\n",
       "    </tr>\n",
       "    <tr>\n",
       "      <th>1</th>\n",
       "      <td>NaN</td>\n",
       "    </tr>\n",
       "    <tr>\n",
       "      <th>2</th>\n",
       "      <td>NaN</td>\n",
       "    </tr>\n",
       "    <tr>\n",
       "      <th>3</th>\n",
       "      <td>NaN</td>\n",
       "    </tr>\n",
       "    <tr>\n",
       "      <th>4</th>\n",
       "      <td>NaN</td>\n",
       "    </tr>\n",
       "    <tr>\n",
       "      <th>...</th>\n",
       "      <td>...</td>\n",
       "    </tr>\n",
       "    <tr>\n",
       "      <th>252087</th>\n",
       "      <td>NaN</td>\n",
       "    </tr>\n",
       "    <tr>\n",
       "      <th>252092</th>\n",
       "      <td>NaN</td>\n",
       "    </tr>\n",
       "    <tr>\n",
       "      <th>252099</th>\n",
       "      <td>NaN</td>\n",
       "    </tr>\n",
       "    <tr>\n",
       "      <th>252100</th>\n",
       "      <td>NaN</td>\n",
       "    </tr>\n",
       "    <tr>\n",
       "      <th>252101</th>\n",
       "      <td>NaN</td>\n",
       "    </tr>\n",
       "  </tbody>\n",
       "</table>\n",
       "<p>143714 rows × 1 columns</p>\n",
       "</div>"
      ],
      "text/plain": [
       "        reserve_visitors\n",
       "0                    NaN\n",
       "1                    NaN\n",
       "2                    NaN\n",
       "3                    NaN\n",
       "4                    NaN\n",
       "...                  ...\n",
       "252087               NaN\n",
       "252092               NaN\n",
       "252099               NaN\n",
       "252100               NaN\n",
       "252101               NaN\n",
       "\n",
       "[143714 rows x 1 columns]"
      ]
     },
     "execution_count": 81,
     "metadata": {},
     "output_type": "execute_result"
    }
   ],
   "source": [
    "df.loc[df.isnull().any(axis=1), df.isnull().any()]\n",
    "# Boring data set, showing NaN rows"
   ]
  },
  {
   "cell_type": "code",
   "execution_count": null,
   "metadata": {},
   "outputs": [],
   "source": []
  },
  {
   "cell_type": "markdown",
   "metadata": {},
   "source": [
    "**5).  Can you query the dataframe such that it only returns rows that have *no* missing values, in any of their columns?**\n",
    "\n",
    "To use: `df.isnull()`, `df.any()`, or, conversely, `df.notnull()`, and `df.all()`\n",
    "\n",
    "**Hint:** The `~` operator, if put in front of a query, selects for values that are **not** True."
   ]
  },
  {
   "cell_type": "code",
   "execution_count": null,
   "metadata": {},
   "outputs": [],
   "source": [
    "# your answer here"
   ]
  },
  {
   "cell_type": "code",
   "execution_count": 90,
   "metadata": {},
   "outputs": [
    {
     "data": {
      "text/html": [
       "<div>\n",
       "<style scoped>\n",
       "    .dataframe tbody tr th:only-of-type {\n",
       "        vertical-align: middle;\n",
       "    }\n",
       "\n",
       "    .dataframe tbody tr th {\n",
       "        vertical-align: top;\n",
       "    }\n",
       "\n",
       "    .dataframe thead th {\n",
       "        text-align: right;\n",
       "    }\n",
       "</style>\n",
       "<table border=\"1\" class=\"dataframe\">\n",
       "  <thead>\n",
       "    <tr style=\"text-align: right;\">\n",
       "      <th></th>\n",
       "      <th>id</th>\n",
       "      <th>visit_date</th>\n",
       "      <th>visitors</th>\n",
       "      <th>calendar_date</th>\n",
       "      <th>day_of_week</th>\n",
       "      <th>holiday</th>\n",
       "      <th>genre</th>\n",
       "      <th>area</th>\n",
       "      <th>latitude</th>\n",
       "      <th>longitude</th>\n",
       "      <th>reserve_visitors</th>\n",
       "    </tr>\n",
       "  </thead>\n",
       "  <tbody>\n",
       "    <tr>\n",
       "      <th>11</th>\n",
       "      <td>air_ba937bf13d40fb24</td>\n",
       "      <td>2016-01-26</td>\n",
       "      <td>11</td>\n",
       "      <td>2016-01-26</td>\n",
       "      <td>Tuesday</td>\n",
       "      <td>0</td>\n",
       "      <td>Dining bar</td>\n",
       "      <td>Tōkyō-to Minato-ku Shibakōen</td>\n",
       "      <td>35.658068</td>\n",
       "      <td>139.751599</td>\n",
       "      <td>2.0</td>\n",
       "    </tr>\n",
       "    <tr>\n",
       "      <th>21</th>\n",
       "      <td>air_ba937bf13d40fb24</td>\n",
       "      <td>2016-02-09</td>\n",
       "      <td>15</td>\n",
       "      <td>2016-02-09</td>\n",
       "      <td>Tuesday</td>\n",
       "      <td>0</td>\n",
       "      <td>Dining bar</td>\n",
       "      <td>Tōkyō-to Minato-ku Shibakōen</td>\n",
       "      <td>35.658068</td>\n",
       "      <td>139.751599</td>\n",
       "      <td>7.0</td>\n",
       "    </tr>\n",
       "    <tr>\n",
       "      <th>24</th>\n",
       "      <td>air_ba937bf13d40fb24</td>\n",
       "      <td>2016-02-12</td>\n",
       "      <td>26</td>\n",
       "      <td>2016-02-12</td>\n",
       "      <td>Friday</td>\n",
       "      <td>0</td>\n",
       "      <td>Dining bar</td>\n",
       "      <td>Tōkyō-to Minato-ku Shibakōen</td>\n",
       "      <td>35.658068</td>\n",
       "      <td>139.751599</td>\n",
       "      <td>18.0</td>\n",
       "    </tr>\n",
       "    <tr>\n",
       "      <th>25</th>\n",
       "      <td>air_ba937bf13d40fb24</td>\n",
       "      <td>2016-02-13</td>\n",
       "      <td>8</td>\n",
       "      <td>2016-02-13</td>\n",
       "      <td>Saturday</td>\n",
       "      <td>0</td>\n",
       "      <td>Dining bar</td>\n",
       "      <td>Tōkyō-to Minato-ku Shibakōen</td>\n",
       "      <td>35.658068</td>\n",
       "      <td>139.751599</td>\n",
       "      <td>2.0</td>\n",
       "    </tr>\n",
       "    <tr>\n",
       "      <th>37</th>\n",
       "      <td>air_ba937bf13d40fb24</td>\n",
       "      <td>2016-02-27</td>\n",
       "      <td>23</td>\n",
       "      <td>2016-02-27</td>\n",
       "      <td>Saturday</td>\n",
       "      <td>0</td>\n",
       "      <td>Dining bar</td>\n",
       "      <td>Tōkyō-to Minato-ku Shibakōen</td>\n",
       "      <td>35.658068</td>\n",
       "      <td>139.751599</td>\n",
       "      <td>2.0</td>\n",
       "    </tr>\n",
       "    <tr>\n",
       "      <th>...</th>\n",
       "      <td>...</td>\n",
       "      <td>...</td>\n",
       "      <td>...</td>\n",
       "      <td>...</td>\n",
       "      <td>...</td>\n",
       "      <td>...</td>\n",
       "      <td>...</td>\n",
       "      <td>...</td>\n",
       "      <td>...</td>\n",
       "      <td>...</td>\n",
       "      <td>...</td>\n",
       "    </tr>\n",
       "    <tr>\n",
       "      <th>252103</th>\n",
       "      <td>air_a17f0778617c76e2</td>\n",
       "      <td>2017-04-21</td>\n",
       "      <td>49</td>\n",
       "      <td>2017-04-21</td>\n",
       "      <td>Friday</td>\n",
       "      <td>0</td>\n",
       "      <td>Italian/French</td>\n",
       "      <td>Hyōgo-ken Kōbe-shi Kumoidōri</td>\n",
       "      <td>34.695124</td>\n",
       "      <td>135.197852</td>\n",
       "      <td>6.0</td>\n",
       "    </tr>\n",
       "    <tr>\n",
       "      <th>252104</th>\n",
       "      <td>air_a17f0778617c76e2</td>\n",
       "      <td>2017-04-22</td>\n",
       "      <td>60</td>\n",
       "      <td>2017-04-22</td>\n",
       "      <td>Saturday</td>\n",
       "      <td>0</td>\n",
       "      <td>Italian/French</td>\n",
       "      <td>Hyōgo-ken Kōbe-shi Kumoidōri</td>\n",
       "      <td>34.695124</td>\n",
       "      <td>135.197852</td>\n",
       "      <td>37.0</td>\n",
       "    </tr>\n",
       "    <tr>\n",
       "      <th>252105</th>\n",
       "      <td>air_a17f0778617c76e2</td>\n",
       "      <td>2017-03-26</td>\n",
       "      <td>69</td>\n",
       "      <td>2017-03-26</td>\n",
       "      <td>Sunday</td>\n",
       "      <td>0</td>\n",
       "      <td>Italian/French</td>\n",
       "      <td>Hyōgo-ken Kōbe-shi Kumoidōri</td>\n",
       "      <td>34.695124</td>\n",
       "      <td>135.197852</td>\n",
       "      <td>35.0</td>\n",
       "    </tr>\n",
       "    <tr>\n",
       "      <th>252106</th>\n",
       "      <td>air_a17f0778617c76e2</td>\n",
       "      <td>2017-03-20</td>\n",
       "      <td>31</td>\n",
       "      <td>2017-03-20</td>\n",
       "      <td>Monday</td>\n",
       "      <td>1</td>\n",
       "      <td>Italian/French</td>\n",
       "      <td>Hyōgo-ken Kōbe-shi Kumoidōri</td>\n",
       "      <td>34.695124</td>\n",
       "      <td>135.197852</td>\n",
       "      <td>3.0</td>\n",
       "    </tr>\n",
       "    <tr>\n",
       "      <th>252107</th>\n",
       "      <td>air_a17f0778617c76e2</td>\n",
       "      <td>2017-04-09</td>\n",
       "      <td>26</td>\n",
       "      <td>2017-04-09</td>\n",
       "      <td>Sunday</td>\n",
       "      <td>0</td>\n",
       "      <td>Italian/French</td>\n",
       "      <td>Hyōgo-ken Kōbe-shi Kumoidōri</td>\n",
       "      <td>34.695124</td>\n",
       "      <td>135.197852</td>\n",
       "      <td>32.0</td>\n",
       "    </tr>\n",
       "  </tbody>\n",
       "</table>\n",
       "<p>108394 rows × 11 columns</p>\n",
       "</div>"
      ],
      "text/plain": [
       "                          id  visit_date  visitors calendar_date day_of_week  \\\n",
       "11      air_ba937bf13d40fb24  2016-01-26        11    2016-01-26     Tuesday   \n",
       "21      air_ba937bf13d40fb24  2016-02-09        15    2016-02-09     Tuesday   \n",
       "24      air_ba937bf13d40fb24  2016-02-12        26    2016-02-12      Friday   \n",
       "25      air_ba937bf13d40fb24  2016-02-13         8    2016-02-13    Saturday   \n",
       "37      air_ba937bf13d40fb24  2016-02-27        23    2016-02-27    Saturday   \n",
       "...                      ...         ...       ...           ...         ...   \n",
       "252103  air_a17f0778617c76e2  2017-04-21        49    2017-04-21      Friday   \n",
       "252104  air_a17f0778617c76e2  2017-04-22        60    2017-04-22    Saturday   \n",
       "252105  air_a17f0778617c76e2  2017-03-26        69    2017-03-26      Sunday   \n",
       "252106  air_a17f0778617c76e2  2017-03-20        31    2017-03-20      Monday   \n",
       "252107  air_a17f0778617c76e2  2017-04-09        26    2017-04-09      Sunday   \n",
       "\n",
       "        holiday           genre                          area   latitude  \\\n",
       "11            0      Dining bar  Tōkyō-to Minato-ku Shibakōen  35.658068   \n",
       "21            0      Dining bar  Tōkyō-to Minato-ku Shibakōen  35.658068   \n",
       "24            0      Dining bar  Tōkyō-to Minato-ku Shibakōen  35.658068   \n",
       "25            0      Dining bar  Tōkyō-to Minato-ku Shibakōen  35.658068   \n",
       "37            0      Dining bar  Tōkyō-to Minato-ku Shibakōen  35.658068   \n",
       "...         ...             ...                           ...        ...   \n",
       "252103        0  Italian/French  Hyōgo-ken Kōbe-shi Kumoidōri  34.695124   \n",
       "252104        0  Italian/French  Hyōgo-ken Kōbe-shi Kumoidōri  34.695124   \n",
       "252105        0  Italian/French  Hyōgo-ken Kōbe-shi Kumoidōri  34.695124   \n",
       "252106        1  Italian/French  Hyōgo-ken Kōbe-shi Kumoidōri  34.695124   \n",
       "252107        0  Italian/French  Hyōgo-ken Kōbe-shi Kumoidōri  34.695124   \n",
       "\n",
       "         longitude  reserve_visitors  \n",
       "11      139.751599               2.0  \n",
       "21      139.751599               7.0  \n",
       "24      139.751599              18.0  \n",
       "25      139.751599               2.0  \n",
       "37      139.751599               2.0  \n",
       "...            ...               ...  \n",
       "252103  135.197852               6.0  \n",
       "252104  135.197852              37.0  \n",
       "252105  135.197852              35.0  \n",
       "252106  135.197852               3.0  \n",
       "252107  135.197852              32.0  \n",
       "\n",
       "[108394 rows x 11 columns]"
      ]
     },
     "execution_count": 90,
     "metadata": {},
     "output_type": "execute_result"
    }
   ],
   "source": [
    "df[df.notnull().all(axis=1)==True]"
   ]
  },
  {
   "cell_type": "code",
   "execution_count": 89,
   "metadata": {},
   "outputs": [
    {
     "data": {
      "text/html": [
       "<div>\n",
       "<style scoped>\n",
       "    .dataframe tbody tr th:only-of-type {\n",
       "        vertical-align: middle;\n",
       "    }\n",
       "\n",
       "    .dataframe tbody tr th {\n",
       "        vertical-align: top;\n",
       "    }\n",
       "\n",
       "    .dataframe thead th {\n",
       "        text-align: right;\n",
       "    }\n",
       "</style>\n",
       "<table border=\"1\" class=\"dataframe\">\n",
       "  <thead>\n",
       "    <tr style=\"text-align: right;\">\n",
       "      <th></th>\n",
       "      <th>id</th>\n",
       "      <th>visit_date</th>\n",
       "      <th>visitors</th>\n",
       "      <th>calendar_date</th>\n",
       "      <th>day_of_week</th>\n",
       "      <th>holiday</th>\n",
       "      <th>genre</th>\n",
       "      <th>area</th>\n",
       "      <th>latitude</th>\n",
       "      <th>longitude</th>\n",
       "      <th>reserve_visitors</th>\n",
       "    </tr>\n",
       "  </thead>\n",
       "  <tbody>\n",
       "    <tr>\n",
       "      <th>11</th>\n",
       "      <td>air_ba937bf13d40fb24</td>\n",
       "      <td>2016-01-26</td>\n",
       "      <td>11</td>\n",
       "      <td>2016-01-26</td>\n",
       "      <td>Tuesday</td>\n",
       "      <td>0</td>\n",
       "      <td>Dining bar</td>\n",
       "      <td>Tōkyō-to Minato-ku Shibakōen</td>\n",
       "      <td>35.658068</td>\n",
       "      <td>139.751599</td>\n",
       "      <td>2.0</td>\n",
       "    </tr>\n",
       "    <tr>\n",
       "      <th>21</th>\n",
       "      <td>air_ba937bf13d40fb24</td>\n",
       "      <td>2016-02-09</td>\n",
       "      <td>15</td>\n",
       "      <td>2016-02-09</td>\n",
       "      <td>Tuesday</td>\n",
       "      <td>0</td>\n",
       "      <td>Dining bar</td>\n",
       "      <td>Tōkyō-to Minato-ku Shibakōen</td>\n",
       "      <td>35.658068</td>\n",
       "      <td>139.751599</td>\n",
       "      <td>7.0</td>\n",
       "    </tr>\n",
       "    <tr>\n",
       "      <th>24</th>\n",
       "      <td>air_ba937bf13d40fb24</td>\n",
       "      <td>2016-02-12</td>\n",
       "      <td>26</td>\n",
       "      <td>2016-02-12</td>\n",
       "      <td>Friday</td>\n",
       "      <td>0</td>\n",
       "      <td>Dining bar</td>\n",
       "      <td>Tōkyō-to Minato-ku Shibakōen</td>\n",
       "      <td>35.658068</td>\n",
       "      <td>139.751599</td>\n",
       "      <td>18.0</td>\n",
       "    </tr>\n",
       "    <tr>\n",
       "      <th>25</th>\n",
       "      <td>air_ba937bf13d40fb24</td>\n",
       "      <td>2016-02-13</td>\n",
       "      <td>8</td>\n",
       "      <td>2016-02-13</td>\n",
       "      <td>Saturday</td>\n",
       "      <td>0</td>\n",
       "      <td>Dining bar</td>\n",
       "      <td>Tōkyō-to Minato-ku Shibakōen</td>\n",
       "      <td>35.658068</td>\n",
       "      <td>139.751599</td>\n",
       "      <td>2.0</td>\n",
       "    </tr>\n",
       "    <tr>\n",
       "      <th>37</th>\n",
       "      <td>air_ba937bf13d40fb24</td>\n",
       "      <td>2016-02-27</td>\n",
       "      <td>23</td>\n",
       "      <td>2016-02-27</td>\n",
       "      <td>Saturday</td>\n",
       "      <td>0</td>\n",
       "      <td>Dining bar</td>\n",
       "      <td>Tōkyō-to Minato-ku Shibakōen</td>\n",
       "      <td>35.658068</td>\n",
       "      <td>139.751599</td>\n",
       "      <td>2.0</td>\n",
       "    </tr>\n",
       "    <tr>\n",
       "      <th>...</th>\n",
       "      <td>...</td>\n",
       "      <td>...</td>\n",
       "      <td>...</td>\n",
       "      <td>...</td>\n",
       "      <td>...</td>\n",
       "      <td>...</td>\n",
       "      <td>...</td>\n",
       "      <td>...</td>\n",
       "      <td>...</td>\n",
       "      <td>...</td>\n",
       "      <td>...</td>\n",
       "    </tr>\n",
       "    <tr>\n",
       "      <th>252103</th>\n",
       "      <td>air_a17f0778617c76e2</td>\n",
       "      <td>2017-04-21</td>\n",
       "      <td>49</td>\n",
       "      <td>2017-04-21</td>\n",
       "      <td>Friday</td>\n",
       "      <td>0</td>\n",
       "      <td>Italian/French</td>\n",
       "      <td>Hyōgo-ken Kōbe-shi Kumoidōri</td>\n",
       "      <td>34.695124</td>\n",
       "      <td>135.197852</td>\n",
       "      <td>6.0</td>\n",
       "    </tr>\n",
       "    <tr>\n",
       "      <th>252104</th>\n",
       "      <td>air_a17f0778617c76e2</td>\n",
       "      <td>2017-04-22</td>\n",
       "      <td>60</td>\n",
       "      <td>2017-04-22</td>\n",
       "      <td>Saturday</td>\n",
       "      <td>0</td>\n",
       "      <td>Italian/French</td>\n",
       "      <td>Hyōgo-ken Kōbe-shi Kumoidōri</td>\n",
       "      <td>34.695124</td>\n",
       "      <td>135.197852</td>\n",
       "      <td>37.0</td>\n",
       "    </tr>\n",
       "    <tr>\n",
       "      <th>252105</th>\n",
       "      <td>air_a17f0778617c76e2</td>\n",
       "      <td>2017-03-26</td>\n",
       "      <td>69</td>\n",
       "      <td>2017-03-26</td>\n",
       "      <td>Sunday</td>\n",
       "      <td>0</td>\n",
       "      <td>Italian/French</td>\n",
       "      <td>Hyōgo-ken Kōbe-shi Kumoidōri</td>\n",
       "      <td>34.695124</td>\n",
       "      <td>135.197852</td>\n",
       "      <td>35.0</td>\n",
       "    </tr>\n",
       "    <tr>\n",
       "      <th>252106</th>\n",
       "      <td>air_a17f0778617c76e2</td>\n",
       "      <td>2017-03-20</td>\n",
       "      <td>31</td>\n",
       "      <td>2017-03-20</td>\n",
       "      <td>Monday</td>\n",
       "      <td>1</td>\n",
       "      <td>Italian/French</td>\n",
       "      <td>Hyōgo-ken Kōbe-shi Kumoidōri</td>\n",
       "      <td>34.695124</td>\n",
       "      <td>135.197852</td>\n",
       "      <td>3.0</td>\n",
       "    </tr>\n",
       "    <tr>\n",
       "      <th>252107</th>\n",
       "      <td>air_a17f0778617c76e2</td>\n",
       "      <td>2017-04-09</td>\n",
       "      <td>26</td>\n",
       "      <td>2017-04-09</td>\n",
       "      <td>Sunday</td>\n",
       "      <td>0</td>\n",
       "      <td>Italian/French</td>\n",
       "      <td>Hyōgo-ken Kōbe-shi Kumoidōri</td>\n",
       "      <td>34.695124</td>\n",
       "      <td>135.197852</td>\n",
       "      <td>32.0</td>\n",
       "    </tr>\n",
       "  </tbody>\n",
       "</table>\n",
       "<p>108394 rows × 11 columns</p>\n",
       "</div>"
      ],
      "text/plain": [
       "                          id  visit_date  visitors calendar_date day_of_week  \\\n",
       "11      air_ba937bf13d40fb24  2016-01-26        11    2016-01-26     Tuesday   \n",
       "21      air_ba937bf13d40fb24  2016-02-09        15    2016-02-09     Tuesday   \n",
       "24      air_ba937bf13d40fb24  2016-02-12        26    2016-02-12      Friday   \n",
       "25      air_ba937bf13d40fb24  2016-02-13         8    2016-02-13    Saturday   \n",
       "37      air_ba937bf13d40fb24  2016-02-27        23    2016-02-27    Saturday   \n",
       "...                      ...         ...       ...           ...         ...   \n",
       "252103  air_a17f0778617c76e2  2017-04-21        49    2017-04-21      Friday   \n",
       "252104  air_a17f0778617c76e2  2017-04-22        60    2017-04-22    Saturday   \n",
       "252105  air_a17f0778617c76e2  2017-03-26        69    2017-03-26      Sunday   \n",
       "252106  air_a17f0778617c76e2  2017-03-20        31    2017-03-20      Monday   \n",
       "252107  air_a17f0778617c76e2  2017-04-09        26    2017-04-09      Sunday   \n",
       "\n",
       "        holiday           genre                          area   latitude  \\\n",
       "11            0      Dining bar  Tōkyō-to Minato-ku Shibakōen  35.658068   \n",
       "21            0      Dining bar  Tōkyō-to Minato-ku Shibakōen  35.658068   \n",
       "24            0      Dining bar  Tōkyō-to Minato-ku Shibakōen  35.658068   \n",
       "25            0      Dining bar  Tōkyō-to Minato-ku Shibakōen  35.658068   \n",
       "37            0      Dining bar  Tōkyō-to Minato-ku Shibakōen  35.658068   \n",
       "...         ...             ...                           ...        ...   \n",
       "252103        0  Italian/French  Hyōgo-ken Kōbe-shi Kumoidōri  34.695124   \n",
       "252104        0  Italian/French  Hyōgo-ken Kōbe-shi Kumoidōri  34.695124   \n",
       "252105        0  Italian/French  Hyōgo-ken Kōbe-shi Kumoidōri  34.695124   \n",
       "252106        1  Italian/French  Hyōgo-ken Kōbe-shi Kumoidōri  34.695124   \n",
       "252107        0  Italian/French  Hyōgo-ken Kōbe-shi Kumoidōri  34.695124   \n",
       "\n",
       "         longitude  reserve_visitors  \n",
       "11      139.751599               2.0  \n",
       "21      139.751599               7.0  \n",
       "24      139.751599              18.0  \n",
       "25      139.751599               2.0  \n",
       "37      139.751599               2.0  \n",
       "...            ...               ...  \n",
       "252103  135.197852               6.0  \n",
       "252104  135.197852              37.0  \n",
       "252105  135.197852              35.0  \n",
       "252106  135.197852               3.0  \n",
       "252107  135.197852              32.0  \n",
       "\n",
       "[108394 rows x 11 columns]"
      ]
     },
     "execution_count": 89,
     "metadata": {},
     "output_type": "execute_result"
    }
   ],
   "source": [
    "df[~df.isnull().any(axis=1)==True]"
   ]
  },
  {
   "cell_type": "code",
   "execution_count": 96,
   "metadata": {},
   "outputs": [
    {
     "data": {
      "text/plain": [
       "0         False\n",
       "1         False\n",
       "2         False\n",
       "3         False\n",
       "4         False\n",
       "          ...  \n",
       "252103     True\n",
       "252104     True\n",
       "252105     True\n",
       "252106     True\n",
       "252107     True\n",
       "Length: 252108, dtype: bool"
      ]
     },
     "execution_count": 96,
     "metadata": {},
     "output_type": "execute_result"
    }
   ],
   "source": [
    "~(df.isnull().any(axis=1)) # ~ Flips to the reverse"
   ]
  },
  {
   "cell_type": "code",
   "execution_count": null,
   "metadata": {},
   "outputs": [],
   "source": []
  },
  {
   "cell_type": "markdown",
   "metadata": {},
   "source": [
    "**6).  Can you find rows that contain duplicate values?**\n",
    "\n",
    "To use:  `df.duplicated()`"
   ]
  },
  {
   "cell_type": "code",
   "execution_count": null,
   "metadata": {},
   "outputs": [],
   "source": [
    "# your answer here"
   ]
  },
  {
   "cell_type": "code",
   "execution_count": 93,
   "metadata": {},
   "outputs": [
    {
     "data": {
      "text/plain": [
       "0         False\n",
       "1          True\n",
       "2          True\n",
       "3          True\n",
       "4          True\n",
       "          ...  \n",
       "252103     True\n",
       "252104     True\n",
       "252105     True\n",
       "252106     True\n",
       "252107     True\n",
       "Length: 252108, dtype: bool"
      ]
     },
     "execution_count": 93,
     "metadata": {},
     "output_type": "execute_result"
    }
   ],
   "source": []
  },
  {
   "cell_type": "code",
   "execution_count": null,
   "metadata": {},
   "outputs": [],
   "source": []
  },
  {
   "cell_type": "markdown",
   "metadata": {},
   "source": [
    "**7). Can you find rows that contain duplicated values for the visitors and date columns?**  \n",
    "\n",
    "To use: `df.duplicated()`"
   ]
  },
  {
   "cell_type": "code",
   "execution_count": null,
   "metadata": {
    "scrolled": true
   },
   "outputs": [],
   "source": [
    "# your answer here"
   ]
  },
  {
   "cell_type": "code",
   "execution_count": 99,
   "metadata": {},
   "outputs": [
    {
     "data": {
      "text/html": [
       "<div>\n",
       "<style scoped>\n",
       "    .dataframe tbody tr th:only-of-type {\n",
       "        vertical-align: middle;\n",
       "    }\n",
       "\n",
       "    .dataframe tbody tr th {\n",
       "        vertical-align: top;\n",
       "    }\n",
       "\n",
       "    .dataframe thead th {\n",
       "        text-align: right;\n",
       "    }\n",
       "</style>\n",
       "<table border=\"1\" class=\"dataframe\">\n",
       "  <thead>\n",
       "    <tr style=\"text-align: right;\">\n",
       "      <th></th>\n",
       "      <th>id</th>\n",
       "      <th>visit_date</th>\n",
       "      <th>visitors</th>\n",
       "      <th>calendar_date</th>\n",
       "      <th>day_of_week</th>\n",
       "      <th>holiday</th>\n",
       "      <th>genre</th>\n",
       "      <th>area</th>\n",
       "      <th>latitude</th>\n",
       "      <th>longitude</th>\n",
       "      <th>reserve_visitors</th>\n",
       "    </tr>\n",
       "  </thead>\n",
       "  <tbody>\n",
       "  </tbody>\n",
       "</table>\n",
       "</div>"
      ],
      "text/plain": [
       "Empty DataFrame\n",
       "Columns: [id, visit_date, visitors, calendar_date, day_of_week, holiday, genre, area, latitude, longitude, reserve_visitors]\n",
       "Index: []"
      ]
     },
     "execution_count": 99,
     "metadata": {},
     "output_type": "execute_result"
    }
   ],
   "source": [
    "df[df.duplicated()] \n",
    "# This checks across every single column for a duplicate"
   ]
  },
  {
   "cell_type": "code",
   "execution_count": 100,
   "metadata": {},
   "outputs": [
    {
     "data": {
      "text/plain": [
       "0         False\n",
       "1         False\n",
       "2         False\n",
       "3         False\n",
       "4         False\n",
       "          ...  \n",
       "252103     True\n",
       "252104     True\n",
       "252105     True\n",
       "252106     True\n",
       "252107     True\n",
       "Length: 252108, dtype: bool"
      ]
     },
     "execution_count": 100,
     "metadata": {},
     "output_type": "execute_result"
    }
   ],
   "source": [
    "df.duplicated(subset=['day_of_week','visitors'])\n",
    "# use subset"
   ]
  },
  {
   "cell_type": "code",
   "execution_count": 102,
   "metadata": {},
   "outputs": [
    {
     "data": {
      "text/html": [
       "<div>\n",
       "<style scoped>\n",
       "    .dataframe tbody tr th:only-of-type {\n",
       "        vertical-align: middle;\n",
       "    }\n",
       "\n",
       "    .dataframe tbody tr th {\n",
       "        vertical-align: top;\n",
       "    }\n",
       "\n",
       "    .dataframe thead th {\n",
       "        text-align: right;\n",
       "    }\n",
       "</style>\n",
       "<table border=\"1\" class=\"dataframe\">\n",
       "  <thead>\n",
       "    <tr style=\"text-align: right;\">\n",
       "      <th></th>\n",
       "      <th>id</th>\n",
       "      <th>visit_date</th>\n",
       "      <th>visitors</th>\n",
       "      <th>calendar_date</th>\n",
       "      <th>day_of_week</th>\n",
       "      <th>holiday</th>\n",
       "      <th>genre</th>\n",
       "      <th>area</th>\n",
       "      <th>latitude</th>\n",
       "      <th>longitude</th>\n",
       "      <th>reserve_visitors</th>\n",
       "    </tr>\n",
       "  </thead>\n",
       "  <tbody>\n",
       "    <tr>\n",
       "      <th>0</th>\n",
       "      <td>air_ba937bf13d40fb24</td>\n",
       "      <td>2016-01-13</td>\n",
       "      <td>25</td>\n",
       "      <td>2016-01-13</td>\n",
       "      <td>Wednesday</td>\n",
       "      <td>0</td>\n",
       "      <td>Dining bar</td>\n",
       "      <td>Tōkyō-to Minato-ku Shibakōen</td>\n",
       "      <td>35.658068</td>\n",
       "      <td>139.751599</td>\n",
       "      <td>NaN</td>\n",
       "    </tr>\n",
       "    <tr>\n",
       "      <th>1</th>\n",
       "      <td>air_ba937bf13d40fb24</td>\n",
       "      <td>2016-01-14</td>\n",
       "      <td>32</td>\n",
       "      <td>2016-01-14</td>\n",
       "      <td>Thursday</td>\n",
       "      <td>0</td>\n",
       "      <td>Dining bar</td>\n",
       "      <td>Tōkyō-to Minato-ku Shibakōen</td>\n",
       "      <td>35.658068</td>\n",
       "      <td>139.751599</td>\n",
       "      <td>NaN</td>\n",
       "    </tr>\n",
       "    <tr>\n",
       "      <th>2</th>\n",
       "      <td>air_ba937bf13d40fb24</td>\n",
       "      <td>2016-01-15</td>\n",
       "      <td>29</td>\n",
       "      <td>2016-01-15</td>\n",
       "      <td>Friday</td>\n",
       "      <td>0</td>\n",
       "      <td>Dining bar</td>\n",
       "      <td>Tōkyō-to Minato-ku Shibakōen</td>\n",
       "      <td>35.658068</td>\n",
       "      <td>139.751599</td>\n",
       "      <td>NaN</td>\n",
       "    </tr>\n",
       "    <tr>\n",
       "      <th>3</th>\n",
       "      <td>air_ba937bf13d40fb24</td>\n",
       "      <td>2016-01-16</td>\n",
       "      <td>22</td>\n",
       "      <td>2016-01-16</td>\n",
       "      <td>Saturday</td>\n",
       "      <td>0</td>\n",
       "      <td>Dining bar</td>\n",
       "      <td>Tōkyō-to Minato-ku Shibakōen</td>\n",
       "      <td>35.658068</td>\n",
       "      <td>139.751599</td>\n",
       "      <td>NaN</td>\n",
       "    </tr>\n",
       "    <tr>\n",
       "      <th>4</th>\n",
       "      <td>air_ba937bf13d40fb24</td>\n",
       "      <td>2016-01-18</td>\n",
       "      <td>6</td>\n",
       "      <td>2016-01-18</td>\n",
       "      <td>Monday</td>\n",
       "      <td>0</td>\n",
       "      <td>Dining bar</td>\n",
       "      <td>Tōkyō-to Minato-ku Shibakōen</td>\n",
       "      <td>35.658068</td>\n",
       "      <td>139.751599</td>\n",
       "      <td>NaN</td>\n",
       "    </tr>\n",
       "    <tr>\n",
       "      <th>...</th>\n",
       "      <td>...</td>\n",
       "      <td>...</td>\n",
       "      <td>...</td>\n",
       "      <td>...</td>\n",
       "      <td>...</td>\n",
       "      <td>...</td>\n",
       "      <td>...</td>\n",
       "      <td>...</td>\n",
       "      <td>...</td>\n",
       "      <td>...</td>\n",
       "      <td>...</td>\n",
       "    </tr>\n",
       "    <tr>\n",
       "      <th>252020</th>\n",
       "      <td>air_1c0b150f9e696a5f</td>\n",
       "      <td>2017-04-04</td>\n",
       "      <td>121</td>\n",
       "      <td>2017-04-04</td>\n",
       "      <td>Tuesday</td>\n",
       "      <td>0</td>\n",
       "      <td>Okonomiyaki/Monja/Teppanyaki</td>\n",
       "      <td>Tōkyō-to Shibuya-ku Shibuya</td>\n",
       "      <td>35.661777</td>\n",
       "      <td>139.704051</td>\n",
       "      <td>NaN</td>\n",
       "    </tr>\n",
       "    <tr>\n",
       "      <th>252021</th>\n",
       "      <td>air_1c0b150f9e696a5f</td>\n",
       "      <td>2017-04-05</td>\n",
       "      <td>115</td>\n",
       "      <td>2017-04-05</td>\n",
       "      <td>Wednesday</td>\n",
       "      <td>0</td>\n",
       "      <td>Okonomiyaki/Monja/Teppanyaki</td>\n",
       "      <td>Tōkyō-to Shibuya-ku Shibuya</td>\n",
       "      <td>35.661777</td>\n",
       "      <td>139.704051</td>\n",
       "      <td>2.0</td>\n",
       "    </tr>\n",
       "    <tr>\n",
       "      <th>252038</th>\n",
       "      <td>air_1c0b150f9e696a5f</td>\n",
       "      <td>2017-03-26</td>\n",
       "      <td>166</td>\n",
       "      <td>2017-03-26</td>\n",
       "      <td>Sunday</td>\n",
       "      <td>0</td>\n",
       "      <td>Okonomiyaki/Monja/Teppanyaki</td>\n",
       "      <td>Tōkyō-to Shibuya-ku Shibuya</td>\n",
       "      <td>35.661777</td>\n",
       "      <td>139.704051</td>\n",
       "      <td>35.0</td>\n",
       "    </tr>\n",
       "    <tr>\n",
       "      <th>252050</th>\n",
       "      <td>air_900d755ebd2f7bbd</td>\n",
       "      <td>2017-04-12</td>\n",
       "      <td>114</td>\n",
       "      <td>2017-04-12</td>\n",
       "      <td>Wednesday</td>\n",
       "      <td>0</td>\n",
       "      <td>Italian/French</td>\n",
       "      <td>Tōkyō-to Chūō-ku Ginza</td>\n",
       "      <td>35.672114</td>\n",
       "      <td>139.770825</td>\n",
       "      <td>2.0</td>\n",
       "    </tr>\n",
       "    <tr>\n",
       "      <th>252056</th>\n",
       "      <td>air_900d755ebd2f7bbd</td>\n",
       "      <td>2017-04-19</td>\n",
       "      <td>125</td>\n",
       "      <td>2017-04-19</td>\n",
       "      <td>Wednesday</td>\n",
       "      <td>0</td>\n",
       "      <td>Italian/French</td>\n",
       "      <td>Tōkyō-to Chūō-ku Ginza</td>\n",
       "      <td>35.672114</td>\n",
       "      <td>139.770825</td>\n",
       "      <td>NaN</td>\n",
       "    </tr>\n",
       "  </tbody>\n",
       "</table>\n",
       "<p>947 rows × 11 columns</p>\n",
       "</div>"
      ],
      "text/plain": [
       "                          id  visit_date  visitors calendar_date day_of_week  \\\n",
       "0       air_ba937bf13d40fb24  2016-01-13        25    2016-01-13   Wednesday   \n",
       "1       air_ba937bf13d40fb24  2016-01-14        32    2016-01-14    Thursday   \n",
       "2       air_ba937bf13d40fb24  2016-01-15        29    2016-01-15      Friday   \n",
       "3       air_ba937bf13d40fb24  2016-01-16        22    2016-01-16    Saturday   \n",
       "4       air_ba937bf13d40fb24  2016-01-18         6    2016-01-18      Monday   \n",
       "...                      ...         ...       ...           ...         ...   \n",
       "252020  air_1c0b150f9e696a5f  2017-04-04       121    2017-04-04     Tuesday   \n",
       "252021  air_1c0b150f9e696a5f  2017-04-05       115    2017-04-05   Wednesday   \n",
       "252038  air_1c0b150f9e696a5f  2017-03-26       166    2017-03-26      Sunday   \n",
       "252050  air_900d755ebd2f7bbd  2017-04-12       114    2017-04-12   Wednesday   \n",
       "252056  air_900d755ebd2f7bbd  2017-04-19       125    2017-04-19   Wednesday   \n",
       "\n",
       "        holiday                         genre                          area  \\\n",
       "0             0                    Dining bar  Tōkyō-to Minato-ku Shibakōen   \n",
       "1             0                    Dining bar  Tōkyō-to Minato-ku Shibakōen   \n",
       "2             0                    Dining bar  Tōkyō-to Minato-ku Shibakōen   \n",
       "3             0                    Dining bar  Tōkyō-to Minato-ku Shibakōen   \n",
       "4             0                    Dining bar  Tōkyō-to Minato-ku Shibakōen   \n",
       "...         ...                           ...                           ...   \n",
       "252020        0  Okonomiyaki/Monja/Teppanyaki   Tōkyō-to Shibuya-ku Shibuya   \n",
       "252021        0  Okonomiyaki/Monja/Teppanyaki   Tōkyō-to Shibuya-ku Shibuya   \n",
       "252038        0  Okonomiyaki/Monja/Teppanyaki   Tōkyō-to Shibuya-ku Shibuya   \n",
       "252050        0                Italian/French        Tōkyō-to Chūō-ku Ginza   \n",
       "252056        0                Italian/French        Tōkyō-to Chūō-ku Ginza   \n",
       "\n",
       "         latitude   longitude  reserve_visitors  \n",
       "0       35.658068  139.751599               NaN  \n",
       "1       35.658068  139.751599               NaN  \n",
       "2       35.658068  139.751599               NaN  \n",
       "3       35.658068  139.751599               NaN  \n",
       "4       35.658068  139.751599               NaN  \n",
       "...           ...         ...               ...  \n",
       "252020  35.661777  139.704051               NaN  \n",
       "252021  35.661777  139.704051               2.0  \n",
       "252038  35.661777  139.704051              35.0  \n",
       "252050  35.672114  139.770825               2.0  \n",
       "252056  35.672114  139.770825               NaN  \n",
       "\n",
       "[947 rows x 11 columns]"
      ]
     },
     "execution_count": 102,
     "metadata": {},
     "output_type": "execute_result"
    }
   ],
   "source": [
    "df[df.duplicated(subset=['day_of_week','visitors'])==False].sort_values()"
   ]
  },
  {
   "cell_type": "code",
   "execution_count": null,
   "metadata": {},
   "outputs": [],
   "source": []
  },
  {
   "cell_type": "markdown",
   "metadata": {},
   "source": [
    "**8).  Can you only select columns that are text based?**\n",
    "\n",
    "To use: `df.select_dtypes()`, and (optionally) the `columns` attribute.  **Note:** `columns` is NOT a method!"
   ]
  },
  {
   "cell_type": "code",
   "execution_count": null,
   "metadata": {},
   "outputs": [],
   "source": [
    "# your answer here"
   ]
  },
  {
   "cell_type": "code",
   "execution_count": null,
   "metadata": {},
   "outputs": [],
   "source": []
  },
  {
   "cell_type": "code",
   "execution_count": null,
   "metadata": {},
   "outputs": [],
   "source": []
  },
  {
   "cell_type": "markdown",
   "metadata": {},
   "source": [
    "**9).  Can you only select columns that are numeric?**\n",
    "\n",
    "To use: `df.select_dtypes()`.  This question is very similar to the one above it, just for a different data type."
   ]
  },
  {
   "cell_type": "code",
   "execution_count": null,
   "metadata": {},
   "outputs": [],
   "source": [
    "# your answer here"
   ]
  },
  {
   "cell_type": "code",
   "execution_count": 110,
   "metadata": {},
   "outputs": [
    {
     "name": "stdout",
     "output_type": "stream",
     "text": [
      "<class 'pandas.core.frame.DataFrame'>\n",
      "RangeIndex: 252108 entries, 0 to 252107\n",
      "Data columns (total 11 columns):\n",
      " #   Column            Non-Null Count   Dtype  \n",
      "---  ------            --------------   -----  \n",
      " 0   id                252108 non-null  object \n",
      " 1   visit_date        252108 non-null  object \n",
      " 2   visitors          252108 non-null  int64  \n",
      " 3   calendar_date     252108 non-null  object \n",
      " 4   day_of_week       252108 non-null  object \n",
      " 5   holiday           252108 non-null  int64  \n",
      " 6   genre             252108 non-null  object \n",
      " 7   area              252108 non-null  object \n",
      " 8   latitude          252108 non-null  float64\n",
      " 9   longitude         252108 non-null  float64\n",
      " 10  reserve_visitors  108394 non-null  float64\n",
      "dtypes: float64(3), int64(2), object(6)\n",
      "memory usage: 21.2+ MB\n"
     ]
    }
   ],
   "source": [
    "df.info()"
   ]
  },
  {
   "cell_type": "code",
   "execution_count": 108,
   "metadata": {},
   "outputs": [
    {
     "data": {
      "text/html": [
       "<div>\n",
       "<style scoped>\n",
       "    .dataframe tbody tr th:only-of-type {\n",
       "        vertical-align: middle;\n",
       "    }\n",
       "\n",
       "    .dataframe tbody tr th {\n",
       "        vertical-align: top;\n",
       "    }\n",
       "\n",
       "    .dataframe thead th {\n",
       "        text-align: right;\n",
       "    }\n",
       "</style>\n",
       "<table border=\"1\" class=\"dataframe\">\n",
       "  <thead>\n",
       "    <tr style=\"text-align: right;\">\n",
       "      <th></th>\n",
       "      <th>id</th>\n",
       "      <th>visit_date</th>\n",
       "      <th>calendar_date</th>\n",
       "      <th>day_of_week</th>\n",
       "      <th>genre</th>\n",
       "      <th>area</th>\n",
       "    </tr>\n",
       "  </thead>\n",
       "  <tbody>\n",
       "    <tr>\n",
       "      <th>0</th>\n",
       "      <td>air_ba937bf13d40fb24</td>\n",
       "      <td>2016-01-13</td>\n",
       "      <td>2016-01-13</td>\n",
       "      <td>Wednesday</td>\n",
       "      <td>Dining bar</td>\n",
       "      <td>Tōkyō-to Minato-ku Shibakōen</td>\n",
       "    </tr>\n",
       "    <tr>\n",
       "      <th>1</th>\n",
       "      <td>air_ba937bf13d40fb24</td>\n",
       "      <td>2016-01-14</td>\n",
       "      <td>2016-01-14</td>\n",
       "      <td>Thursday</td>\n",
       "      <td>Dining bar</td>\n",
       "      <td>Tōkyō-to Minato-ku Shibakōen</td>\n",
       "    </tr>\n",
       "    <tr>\n",
       "      <th>2</th>\n",
       "      <td>air_ba937bf13d40fb24</td>\n",
       "      <td>2016-01-15</td>\n",
       "      <td>2016-01-15</td>\n",
       "      <td>Friday</td>\n",
       "      <td>Dining bar</td>\n",
       "      <td>Tōkyō-to Minato-ku Shibakōen</td>\n",
       "    </tr>\n",
       "    <tr>\n",
       "      <th>3</th>\n",
       "      <td>air_ba937bf13d40fb24</td>\n",
       "      <td>2016-01-16</td>\n",
       "      <td>2016-01-16</td>\n",
       "      <td>Saturday</td>\n",
       "      <td>Dining bar</td>\n",
       "      <td>Tōkyō-to Minato-ku Shibakōen</td>\n",
       "    </tr>\n",
       "    <tr>\n",
       "      <th>4</th>\n",
       "      <td>air_ba937bf13d40fb24</td>\n",
       "      <td>2016-01-18</td>\n",
       "      <td>2016-01-18</td>\n",
       "      <td>Monday</td>\n",
       "      <td>Dining bar</td>\n",
       "      <td>Tōkyō-to Minato-ku Shibakōen</td>\n",
       "    </tr>\n",
       "    <tr>\n",
       "      <th>...</th>\n",
       "      <td>...</td>\n",
       "      <td>...</td>\n",
       "      <td>...</td>\n",
       "      <td>...</td>\n",
       "      <td>...</td>\n",
       "      <td>...</td>\n",
       "    </tr>\n",
       "    <tr>\n",
       "      <th>252103</th>\n",
       "      <td>air_a17f0778617c76e2</td>\n",
       "      <td>2017-04-21</td>\n",
       "      <td>2017-04-21</td>\n",
       "      <td>Friday</td>\n",
       "      <td>Italian/French</td>\n",
       "      <td>Hyōgo-ken Kōbe-shi Kumoidōri</td>\n",
       "    </tr>\n",
       "    <tr>\n",
       "      <th>252104</th>\n",
       "      <td>air_a17f0778617c76e2</td>\n",
       "      <td>2017-04-22</td>\n",
       "      <td>2017-04-22</td>\n",
       "      <td>Saturday</td>\n",
       "      <td>Italian/French</td>\n",
       "      <td>Hyōgo-ken Kōbe-shi Kumoidōri</td>\n",
       "    </tr>\n",
       "    <tr>\n",
       "      <th>252105</th>\n",
       "      <td>air_a17f0778617c76e2</td>\n",
       "      <td>2017-03-26</td>\n",
       "      <td>2017-03-26</td>\n",
       "      <td>Sunday</td>\n",
       "      <td>Italian/French</td>\n",
       "      <td>Hyōgo-ken Kōbe-shi Kumoidōri</td>\n",
       "    </tr>\n",
       "    <tr>\n",
       "      <th>252106</th>\n",
       "      <td>air_a17f0778617c76e2</td>\n",
       "      <td>2017-03-20</td>\n",
       "      <td>2017-03-20</td>\n",
       "      <td>Monday</td>\n",
       "      <td>Italian/French</td>\n",
       "      <td>Hyōgo-ken Kōbe-shi Kumoidōri</td>\n",
       "    </tr>\n",
       "    <tr>\n",
       "      <th>252107</th>\n",
       "      <td>air_a17f0778617c76e2</td>\n",
       "      <td>2017-04-09</td>\n",
       "      <td>2017-04-09</td>\n",
       "      <td>Sunday</td>\n",
       "      <td>Italian/French</td>\n",
       "      <td>Hyōgo-ken Kōbe-shi Kumoidōri</td>\n",
       "    </tr>\n",
       "  </tbody>\n",
       "</table>\n",
       "<p>252108 rows × 6 columns</p>\n",
       "</div>"
      ],
      "text/plain": [
       "                          id  visit_date calendar_date day_of_week  \\\n",
       "0       air_ba937bf13d40fb24  2016-01-13    2016-01-13   Wednesday   \n",
       "1       air_ba937bf13d40fb24  2016-01-14    2016-01-14    Thursday   \n",
       "2       air_ba937bf13d40fb24  2016-01-15    2016-01-15      Friday   \n",
       "3       air_ba937bf13d40fb24  2016-01-16    2016-01-16    Saturday   \n",
       "4       air_ba937bf13d40fb24  2016-01-18    2016-01-18      Monday   \n",
       "...                      ...         ...           ...         ...   \n",
       "252103  air_a17f0778617c76e2  2017-04-21    2017-04-21      Friday   \n",
       "252104  air_a17f0778617c76e2  2017-04-22    2017-04-22    Saturday   \n",
       "252105  air_a17f0778617c76e2  2017-03-26    2017-03-26      Sunday   \n",
       "252106  air_a17f0778617c76e2  2017-03-20    2017-03-20      Monday   \n",
       "252107  air_a17f0778617c76e2  2017-04-09    2017-04-09      Sunday   \n",
       "\n",
       "                 genre                          area  \n",
       "0           Dining bar  Tōkyō-to Minato-ku Shibakōen  \n",
       "1           Dining bar  Tōkyō-to Minato-ku Shibakōen  \n",
       "2           Dining bar  Tōkyō-to Minato-ku Shibakōen  \n",
       "3           Dining bar  Tōkyō-to Minato-ku Shibakōen  \n",
       "4           Dining bar  Tōkyō-to Minato-ku Shibakōen  \n",
       "...                ...                           ...  \n",
       "252103  Italian/French  Hyōgo-ken Kōbe-shi Kumoidōri  \n",
       "252104  Italian/French  Hyōgo-ken Kōbe-shi Kumoidōri  \n",
       "252105  Italian/French  Hyōgo-ken Kōbe-shi Kumoidōri  \n",
       "252106  Italian/French  Hyōgo-ken Kōbe-shi Kumoidōri  \n",
       "252107  Italian/French  Hyōgo-ken Kōbe-shi Kumoidōri  \n",
       "\n",
       "[252108 rows x 6 columns]"
      ]
     },
     "execution_count": 108,
     "metadata": {},
     "output_type": "execute_result"
    }
   ],
   "source": [
    "df.select_dtypes(include=np.object)"
   ]
  },
  {
   "cell_type": "code",
   "execution_count": 109,
   "metadata": {},
   "outputs": [
    {
     "data": {
      "text/html": [
       "<div>\n",
       "<style scoped>\n",
       "    .dataframe tbody tr th:only-of-type {\n",
       "        vertical-align: middle;\n",
       "    }\n",
       "\n",
       "    .dataframe tbody tr th {\n",
       "        vertical-align: top;\n",
       "    }\n",
       "\n",
       "    .dataframe thead th {\n",
       "        text-align: right;\n",
       "    }\n",
       "</style>\n",
       "<table border=\"1\" class=\"dataframe\">\n",
       "  <thead>\n",
       "    <tr style=\"text-align: right;\">\n",
       "      <th></th>\n",
       "      <th>visitors</th>\n",
       "      <th>holiday</th>\n",
       "    </tr>\n",
       "  </thead>\n",
       "  <tbody>\n",
       "    <tr>\n",
       "      <th>0</th>\n",
       "      <td>25</td>\n",
       "      <td>0</td>\n",
       "    </tr>\n",
       "    <tr>\n",
       "      <th>1</th>\n",
       "      <td>32</td>\n",
       "      <td>0</td>\n",
       "    </tr>\n",
       "    <tr>\n",
       "      <th>2</th>\n",
       "      <td>29</td>\n",
       "      <td>0</td>\n",
       "    </tr>\n",
       "    <tr>\n",
       "      <th>3</th>\n",
       "      <td>22</td>\n",
       "      <td>0</td>\n",
       "    </tr>\n",
       "    <tr>\n",
       "      <th>4</th>\n",
       "      <td>6</td>\n",
       "      <td>0</td>\n",
       "    </tr>\n",
       "    <tr>\n",
       "      <th>...</th>\n",
       "      <td>...</td>\n",
       "      <td>...</td>\n",
       "    </tr>\n",
       "    <tr>\n",
       "      <th>252103</th>\n",
       "      <td>49</td>\n",
       "      <td>0</td>\n",
       "    </tr>\n",
       "    <tr>\n",
       "      <th>252104</th>\n",
       "      <td>60</td>\n",
       "      <td>0</td>\n",
       "    </tr>\n",
       "    <tr>\n",
       "      <th>252105</th>\n",
       "      <td>69</td>\n",
       "      <td>0</td>\n",
       "    </tr>\n",
       "    <tr>\n",
       "      <th>252106</th>\n",
       "      <td>31</td>\n",
       "      <td>1</td>\n",
       "    </tr>\n",
       "    <tr>\n",
       "      <th>252107</th>\n",
       "      <td>26</td>\n",
       "      <td>0</td>\n",
       "    </tr>\n",
       "  </tbody>\n",
       "</table>\n",
       "<p>252108 rows × 2 columns</p>\n",
       "</div>"
      ],
      "text/plain": [
       "        visitors  holiday\n",
       "0             25        0\n",
       "1             32        0\n",
       "2             29        0\n",
       "3             22        0\n",
       "4              6        0\n",
       "...          ...      ...\n",
       "252103        49        0\n",
       "252104        60        0\n",
       "252105        69        0\n",
       "252106        31        1\n",
       "252107        26        0\n",
       "\n",
       "[252108 rows x 2 columns]"
      ]
     },
     "execution_count": 109,
     "metadata": {},
     "output_type": "execute_result"
    }
   ],
   "source": [
    "df.select_dtypes(include=np.int64)"
   ]
  },
  {
   "cell_type": "code",
   "execution_count": 111,
   "metadata": {},
   "outputs": [
    {
     "data": {
      "text/html": [
       "<div>\n",
       "<style scoped>\n",
       "    .dataframe tbody tr th:only-of-type {\n",
       "        vertical-align: middle;\n",
       "    }\n",
       "\n",
       "    .dataframe tbody tr th {\n",
       "        vertical-align: top;\n",
       "    }\n",
       "\n",
       "    .dataframe thead th {\n",
       "        text-align: right;\n",
       "    }\n",
       "</style>\n",
       "<table border=\"1\" class=\"dataframe\">\n",
       "  <thead>\n",
       "    <tr style=\"text-align: right;\">\n",
       "      <th></th>\n",
       "      <th>latitude</th>\n",
       "      <th>longitude</th>\n",
       "      <th>reserve_visitors</th>\n",
       "    </tr>\n",
       "  </thead>\n",
       "  <tbody>\n",
       "    <tr>\n",
       "      <th>0</th>\n",
       "      <td>35.658068</td>\n",
       "      <td>139.751599</td>\n",
       "      <td>NaN</td>\n",
       "    </tr>\n",
       "    <tr>\n",
       "      <th>1</th>\n",
       "      <td>35.658068</td>\n",
       "      <td>139.751599</td>\n",
       "      <td>NaN</td>\n",
       "    </tr>\n",
       "    <tr>\n",
       "      <th>2</th>\n",
       "      <td>35.658068</td>\n",
       "      <td>139.751599</td>\n",
       "      <td>NaN</td>\n",
       "    </tr>\n",
       "    <tr>\n",
       "      <th>3</th>\n",
       "      <td>35.658068</td>\n",
       "      <td>139.751599</td>\n",
       "      <td>NaN</td>\n",
       "    </tr>\n",
       "    <tr>\n",
       "      <th>4</th>\n",
       "      <td>35.658068</td>\n",
       "      <td>139.751599</td>\n",
       "      <td>NaN</td>\n",
       "    </tr>\n",
       "    <tr>\n",
       "      <th>...</th>\n",
       "      <td>...</td>\n",
       "      <td>...</td>\n",
       "      <td>...</td>\n",
       "    </tr>\n",
       "    <tr>\n",
       "      <th>252103</th>\n",
       "      <td>34.695124</td>\n",
       "      <td>135.197852</td>\n",
       "      <td>6.0</td>\n",
       "    </tr>\n",
       "    <tr>\n",
       "      <th>252104</th>\n",
       "      <td>34.695124</td>\n",
       "      <td>135.197852</td>\n",
       "      <td>37.0</td>\n",
       "    </tr>\n",
       "    <tr>\n",
       "      <th>252105</th>\n",
       "      <td>34.695124</td>\n",
       "      <td>135.197852</td>\n",
       "      <td>35.0</td>\n",
       "    </tr>\n",
       "    <tr>\n",
       "      <th>252106</th>\n",
       "      <td>34.695124</td>\n",
       "      <td>135.197852</td>\n",
       "      <td>3.0</td>\n",
       "    </tr>\n",
       "    <tr>\n",
       "      <th>252107</th>\n",
       "      <td>34.695124</td>\n",
       "      <td>135.197852</td>\n",
       "      <td>32.0</td>\n",
       "    </tr>\n",
       "  </tbody>\n",
       "</table>\n",
       "<p>252108 rows × 3 columns</p>\n",
       "</div>"
      ],
      "text/plain": [
       "         latitude   longitude  reserve_visitors\n",
       "0       35.658068  139.751599               NaN\n",
       "1       35.658068  139.751599               NaN\n",
       "2       35.658068  139.751599               NaN\n",
       "3       35.658068  139.751599               NaN\n",
       "4       35.658068  139.751599               NaN\n",
       "...           ...         ...               ...\n",
       "252103  34.695124  135.197852               6.0\n",
       "252104  34.695124  135.197852              37.0\n",
       "252105  34.695124  135.197852              35.0\n",
       "252106  34.695124  135.197852               3.0\n",
       "252107  34.695124  135.197852              32.0\n",
       "\n",
       "[252108 rows x 3 columns]"
      ]
     },
     "execution_count": 111,
     "metadata": {},
     "output_type": "execute_result"
    }
   ],
   "source": [
    "df.select_dtypes(include=np.float64)"
   ]
  },
  {
   "cell_type": "code",
   "execution_count": 112,
   "metadata": {},
   "outputs": [
    {
     "data": {
      "text/html": [
       "<div>\n",
       "<style scoped>\n",
       "    .dataframe tbody tr th:only-of-type {\n",
       "        vertical-align: middle;\n",
       "    }\n",
       "\n",
       "    .dataframe tbody tr th {\n",
       "        vertical-align: top;\n",
       "    }\n",
       "\n",
       "    .dataframe thead th {\n",
       "        text-align: right;\n",
       "    }\n",
       "</style>\n",
       "<table border=\"1\" class=\"dataframe\">\n",
       "  <thead>\n",
       "    <tr style=\"text-align: right;\">\n",
       "      <th></th>\n",
       "      <th>visitors</th>\n",
       "      <th>holiday</th>\n",
       "      <th>latitude</th>\n",
       "      <th>longitude</th>\n",
       "      <th>reserve_visitors</th>\n",
       "    </tr>\n",
       "  </thead>\n",
       "  <tbody>\n",
       "    <tr>\n",
       "      <th>0</th>\n",
       "      <td>25</td>\n",
       "      <td>0</td>\n",
       "      <td>35.658068</td>\n",
       "      <td>139.751599</td>\n",
       "      <td>NaN</td>\n",
       "    </tr>\n",
       "    <tr>\n",
       "      <th>1</th>\n",
       "      <td>32</td>\n",
       "      <td>0</td>\n",
       "      <td>35.658068</td>\n",
       "      <td>139.751599</td>\n",
       "      <td>NaN</td>\n",
       "    </tr>\n",
       "    <tr>\n",
       "      <th>2</th>\n",
       "      <td>29</td>\n",
       "      <td>0</td>\n",
       "      <td>35.658068</td>\n",
       "      <td>139.751599</td>\n",
       "      <td>NaN</td>\n",
       "    </tr>\n",
       "    <tr>\n",
       "      <th>3</th>\n",
       "      <td>22</td>\n",
       "      <td>0</td>\n",
       "      <td>35.658068</td>\n",
       "      <td>139.751599</td>\n",
       "      <td>NaN</td>\n",
       "    </tr>\n",
       "    <tr>\n",
       "      <th>4</th>\n",
       "      <td>6</td>\n",
       "      <td>0</td>\n",
       "      <td>35.658068</td>\n",
       "      <td>139.751599</td>\n",
       "      <td>NaN</td>\n",
       "    </tr>\n",
       "    <tr>\n",
       "      <th>...</th>\n",
       "      <td>...</td>\n",
       "      <td>...</td>\n",
       "      <td>...</td>\n",
       "      <td>...</td>\n",
       "      <td>...</td>\n",
       "    </tr>\n",
       "    <tr>\n",
       "      <th>252103</th>\n",
       "      <td>49</td>\n",
       "      <td>0</td>\n",
       "      <td>34.695124</td>\n",
       "      <td>135.197852</td>\n",
       "      <td>6.0</td>\n",
       "    </tr>\n",
       "    <tr>\n",
       "      <th>252104</th>\n",
       "      <td>60</td>\n",
       "      <td>0</td>\n",
       "      <td>34.695124</td>\n",
       "      <td>135.197852</td>\n",
       "      <td>37.0</td>\n",
       "    </tr>\n",
       "    <tr>\n",
       "      <th>252105</th>\n",
       "      <td>69</td>\n",
       "      <td>0</td>\n",
       "      <td>34.695124</td>\n",
       "      <td>135.197852</td>\n",
       "      <td>35.0</td>\n",
       "    </tr>\n",
       "    <tr>\n",
       "      <th>252106</th>\n",
       "      <td>31</td>\n",
       "      <td>1</td>\n",
       "      <td>34.695124</td>\n",
       "      <td>135.197852</td>\n",
       "      <td>3.0</td>\n",
       "    </tr>\n",
       "    <tr>\n",
       "      <th>252107</th>\n",
       "      <td>26</td>\n",
       "      <td>0</td>\n",
       "      <td>34.695124</td>\n",
       "      <td>135.197852</td>\n",
       "      <td>32.0</td>\n",
       "    </tr>\n",
       "  </tbody>\n",
       "</table>\n",
       "<p>252108 rows × 5 columns</p>\n",
       "</div>"
      ],
      "text/plain": [
       "        visitors  holiday   latitude   longitude  reserve_visitors\n",
       "0             25        0  35.658068  139.751599               NaN\n",
       "1             32        0  35.658068  139.751599               NaN\n",
       "2             29        0  35.658068  139.751599               NaN\n",
       "3             22        0  35.658068  139.751599               NaN\n",
       "4              6        0  35.658068  139.751599               NaN\n",
       "...          ...      ...        ...         ...               ...\n",
       "252103        49        0  34.695124  135.197852               6.0\n",
       "252104        60        0  34.695124  135.197852              37.0\n",
       "252105        69        0  34.695124  135.197852              35.0\n",
       "252106        31        1  34.695124  135.197852               3.0\n",
       "252107        26        0  34.695124  135.197852              32.0\n",
       "\n",
       "[252108 rows x 5 columns]"
      ]
     },
     "execution_count": 112,
     "metadata": {},
     "output_type": "execute_result"
    }
   ],
   "source": [
    "df.select_dtypes(include=np.number)"
   ]
  },
  {
   "cell_type": "code",
   "execution_count": null,
   "metadata": {},
   "outputs": [],
   "source": []
  },
  {
   "cell_type": "code",
   "execution_count": null,
   "metadata": {},
   "outputs": [],
   "source": []
  },
  {
   "cell_type": "markdown",
   "metadata": {},
   "source": [
    "**10). Can you fill in the missing values of your numeric columns with their average value?**\n",
    "\n",
    "To use: `df.fillna()`, to be used in conjunction with the suggested methods from question 11."
   ]
  },
  {
   "cell_type": "code",
   "execution_count": null,
   "metadata": {},
   "outputs": [],
   "source": [
    "# your answer here"
   ]
  },
  {
   "cell_type": "code",
   "execution_count": 113,
   "metadata": {},
   "outputs": [],
   "source": [
    "df_fill_na = df"
   ]
  },
  {
   "cell_type": "code",
   "execution_count": 118,
   "metadata": {},
   "outputs": [],
   "source": [
    "numcols = df_fill_na.select_dtypes(include=np.number).columns.tolist()"
   ]
  },
  {
   "cell_type": "code",
   "execution_count": 120,
   "metadata": {},
   "outputs": [
    {
     "data": {
      "text/html": [
       "<div>\n",
       "<style scoped>\n",
       "    .dataframe tbody tr th:only-of-type {\n",
       "        vertical-align: middle;\n",
       "    }\n",
       "\n",
       "    .dataframe tbody tr th {\n",
       "        vertical-align: top;\n",
       "    }\n",
       "\n",
       "    .dataframe thead th {\n",
       "        text-align: right;\n",
       "    }\n",
       "</style>\n",
       "<table border=\"1\" class=\"dataframe\">\n",
       "  <thead>\n",
       "    <tr style=\"text-align: right;\">\n",
       "      <th></th>\n",
       "      <th>visitors</th>\n",
       "      <th>holiday</th>\n",
       "      <th>latitude</th>\n",
       "      <th>longitude</th>\n",
       "      <th>reserve_visitors</th>\n",
       "    </tr>\n",
       "  </thead>\n",
       "  <tbody>\n",
       "    <tr>\n",
       "      <th>0</th>\n",
       "      <td>25</td>\n",
       "      <td>0</td>\n",
       "      <td>35.658068</td>\n",
       "      <td>139.751599</td>\n",
       "      <td>4.0</td>\n",
       "    </tr>\n",
       "    <tr>\n",
       "      <th>1</th>\n",
       "      <td>32</td>\n",
       "      <td>0</td>\n",
       "      <td>35.658068</td>\n",
       "      <td>139.751599</td>\n",
       "      <td>4.0</td>\n",
       "    </tr>\n",
       "    <tr>\n",
       "      <th>2</th>\n",
       "      <td>29</td>\n",
       "      <td>0</td>\n",
       "      <td>35.658068</td>\n",
       "      <td>139.751599</td>\n",
       "      <td>4.0</td>\n",
       "    </tr>\n",
       "    <tr>\n",
       "      <th>3</th>\n",
       "      <td>22</td>\n",
       "      <td>0</td>\n",
       "      <td>35.658068</td>\n",
       "      <td>139.751599</td>\n",
       "      <td>4.0</td>\n",
       "    </tr>\n",
       "    <tr>\n",
       "      <th>4</th>\n",
       "      <td>6</td>\n",
       "      <td>0</td>\n",
       "      <td>35.658068</td>\n",
       "      <td>139.751599</td>\n",
       "      <td>4.0</td>\n",
       "    </tr>\n",
       "    <tr>\n",
       "      <th>...</th>\n",
       "      <td>...</td>\n",
       "      <td>...</td>\n",
       "      <td>...</td>\n",
       "      <td>...</td>\n",
       "      <td>...</td>\n",
       "    </tr>\n",
       "    <tr>\n",
       "      <th>252103</th>\n",
       "      <td>49</td>\n",
       "      <td>0</td>\n",
       "      <td>34.695124</td>\n",
       "      <td>135.197852</td>\n",
       "      <td>6.0</td>\n",
       "    </tr>\n",
       "    <tr>\n",
       "      <th>252104</th>\n",
       "      <td>60</td>\n",
       "      <td>0</td>\n",
       "      <td>34.695124</td>\n",
       "      <td>135.197852</td>\n",
       "      <td>37.0</td>\n",
       "    </tr>\n",
       "    <tr>\n",
       "      <th>252105</th>\n",
       "      <td>69</td>\n",
       "      <td>0</td>\n",
       "      <td>34.695124</td>\n",
       "      <td>135.197852</td>\n",
       "      <td>35.0</td>\n",
       "    </tr>\n",
       "    <tr>\n",
       "      <th>252106</th>\n",
       "      <td>31</td>\n",
       "      <td>1</td>\n",
       "      <td>34.695124</td>\n",
       "      <td>135.197852</td>\n",
       "      <td>3.0</td>\n",
       "    </tr>\n",
       "    <tr>\n",
       "      <th>252107</th>\n",
       "      <td>26</td>\n",
       "      <td>0</td>\n",
       "      <td>34.695124</td>\n",
       "      <td>135.197852</td>\n",
       "      <td>32.0</td>\n",
       "    </tr>\n",
       "  </tbody>\n",
       "</table>\n",
       "<p>252108 rows × 5 columns</p>\n",
       "</div>"
      ],
      "text/plain": [
       "        visitors  holiday   latitude   longitude  reserve_visitors\n",
       "0             25        0  35.658068  139.751599               4.0\n",
       "1             32        0  35.658068  139.751599               4.0\n",
       "2             29        0  35.658068  139.751599               4.0\n",
       "3             22        0  35.658068  139.751599               4.0\n",
       "4              6        0  35.658068  139.751599               4.0\n",
       "...          ...      ...        ...         ...               ...\n",
       "252103        49        0  34.695124  135.197852               6.0\n",
       "252104        60        0  34.695124  135.197852              37.0\n",
       "252105        69        0  34.695124  135.197852              35.0\n",
       "252106        31        1  34.695124  135.197852               3.0\n",
       "252107        26        0  34.695124  135.197852              32.0\n",
       "\n",
       "[252108 rows x 5 columns]"
      ]
     },
     "execution_count": 120,
     "metadata": {},
     "output_type": "execute_result"
    }
   ],
   "source": [
    "df[numcols].fillna(4) # Fills NA with 4s."
   ]
  },
  {
   "cell_type": "code",
   "execution_count": 121,
   "metadata": {},
   "outputs": [
    {
     "data": {
      "text/plain": [
       "visitors             20.973761\n",
       "holiday               0.050673\n",
       "latitude             35.613121\n",
       "longitude           137.357865\n",
       "reserve_visitors     16.699808\n",
       "dtype: float64"
      ]
     },
     "execution_count": 121,
     "metadata": {},
     "output_type": "execute_result"
    }
   ],
   "source": [
    "df[numcols].mean()"
   ]
  },
  {
   "cell_type": "code",
   "execution_count": 123,
   "metadata": {},
   "outputs": [],
   "source": [
    "df_fill_na[numcols]=df[numcols].fillna(df[numcols].mean())"
   ]
  },
  {
   "cell_type": "code",
   "execution_count": 128,
   "metadata": {},
   "outputs": [
    {
     "data": {
      "text/plain": [
       "id                  False\n",
       "visit_date          False\n",
       "visitors            False\n",
       "calendar_date       False\n",
       "day_of_week         False\n",
       "holiday             False\n",
       "genre               False\n",
       "area                False\n",
       "latitude            False\n",
       "longitude           False\n",
       "reserve_visitors    False\n",
       "dtype: bool"
      ]
     },
     "execution_count": 128,
     "metadata": {},
     "output_type": "execute_result"
    }
   ],
   "source": [
    "df_fill_na.isnull().any()"
   ]
  },
  {
   "cell_type": "code",
   "execution_count": null,
   "metadata": {},
   "outputs": [],
   "source": []
  },
  {
   "cell_type": "markdown",
   "metadata": {},
   "source": [
    "**11). Can you select all the rows between Jan. 1 2016 & June 30, 2016?**"
   ]
  },
  {
   "cell_type": "code",
   "execution_count": null,
   "metadata": {},
   "outputs": [],
   "source": [
    "# your answer here"
   ]
  },
  {
   "cell_type": "code",
   "execution_count": 130,
   "metadata": {},
   "outputs": [
    {
     "name": "stdout",
     "output_type": "stream",
     "text": [
      "<class 'pandas.core.frame.DataFrame'>\n",
      "RangeIndex: 252108 entries, 0 to 252107\n",
      "Data columns (total 11 columns):\n",
      " #   Column            Non-Null Count   Dtype  \n",
      "---  ------            --------------   -----  \n",
      " 0   id                252108 non-null  object \n",
      " 1   visit_date        252108 non-null  object \n",
      " 2   visitors          252108 non-null  int64  \n",
      " 3   calendar_date     252108 non-null  object \n",
      " 4   day_of_week       252108 non-null  object \n",
      " 5   holiday           252108 non-null  int64  \n",
      " 6   genre             252108 non-null  object \n",
      " 7   area              252108 non-null  object \n",
      " 8   latitude          252108 non-null  float64\n",
      " 9   longitude         252108 non-null  float64\n",
      " 10  reserve_visitors  252108 non-null  float64\n",
      "dtypes: float64(3), int64(2), object(6)\n",
      "memory usage: 21.2+ MB\n"
     ]
    }
   ],
   "source": [
    "df.info()"
   ]
  },
  {
   "cell_type": "code",
   "execution_count": 131,
   "metadata": {},
   "outputs": [
    {
     "data": {
      "text/html": [
       "<div>\n",
       "<style scoped>\n",
       "    .dataframe tbody tr th:only-of-type {\n",
       "        vertical-align: middle;\n",
       "    }\n",
       "\n",
       "    .dataframe tbody tr th {\n",
       "        vertical-align: top;\n",
       "    }\n",
       "\n",
       "    .dataframe thead th {\n",
       "        text-align: right;\n",
       "    }\n",
       "</style>\n",
       "<table border=\"1\" class=\"dataframe\">\n",
       "  <thead>\n",
       "    <tr style=\"text-align: right;\">\n",
       "      <th></th>\n",
       "      <th>id</th>\n",
       "      <th>visit_date</th>\n",
       "      <th>visitors</th>\n",
       "      <th>calendar_date</th>\n",
       "      <th>day_of_week</th>\n",
       "      <th>holiday</th>\n",
       "      <th>genre</th>\n",
       "      <th>area</th>\n",
       "      <th>latitude</th>\n",
       "      <th>longitude</th>\n",
       "      <th>reserve_visitors</th>\n",
       "    </tr>\n",
       "  </thead>\n",
       "  <tbody>\n",
       "    <tr>\n",
       "      <th>0</th>\n",
       "      <td>air_ba937bf13d40fb24</td>\n",
       "      <td>2016-01-13</td>\n",
       "      <td>25</td>\n",
       "      <td>2016-01-13</td>\n",
       "      <td>Wednesday</td>\n",
       "      <td>0</td>\n",
       "      <td>Dining bar</td>\n",
       "      <td>Tōkyō-to Minato-ku Shibakōen</td>\n",
       "      <td>35.658068</td>\n",
       "      <td>139.751599</td>\n",
       "      <td>16.699808</td>\n",
       "    </tr>\n",
       "    <tr>\n",
       "      <th>1</th>\n",
       "      <td>air_ba937bf13d40fb24</td>\n",
       "      <td>2016-01-14</td>\n",
       "      <td>32</td>\n",
       "      <td>2016-01-14</td>\n",
       "      <td>Thursday</td>\n",
       "      <td>0</td>\n",
       "      <td>Dining bar</td>\n",
       "      <td>Tōkyō-to Minato-ku Shibakōen</td>\n",
       "      <td>35.658068</td>\n",
       "      <td>139.751599</td>\n",
       "      <td>16.699808</td>\n",
       "    </tr>\n",
       "    <tr>\n",
       "      <th>2</th>\n",
       "      <td>air_ba937bf13d40fb24</td>\n",
       "      <td>2016-01-15</td>\n",
       "      <td>29</td>\n",
       "      <td>2016-01-15</td>\n",
       "      <td>Friday</td>\n",
       "      <td>0</td>\n",
       "      <td>Dining bar</td>\n",
       "      <td>Tōkyō-to Minato-ku Shibakōen</td>\n",
       "      <td>35.658068</td>\n",
       "      <td>139.751599</td>\n",
       "      <td>16.699808</td>\n",
       "    </tr>\n",
       "    <tr>\n",
       "      <th>3</th>\n",
       "      <td>air_ba937bf13d40fb24</td>\n",
       "      <td>2016-01-16</td>\n",
       "      <td>22</td>\n",
       "      <td>2016-01-16</td>\n",
       "      <td>Saturday</td>\n",
       "      <td>0</td>\n",
       "      <td>Dining bar</td>\n",
       "      <td>Tōkyō-to Minato-ku Shibakōen</td>\n",
       "      <td>35.658068</td>\n",
       "      <td>139.751599</td>\n",
       "      <td>16.699808</td>\n",
       "    </tr>\n",
       "    <tr>\n",
       "      <th>4</th>\n",
       "      <td>air_ba937bf13d40fb24</td>\n",
       "      <td>2016-01-18</td>\n",
       "      <td>6</td>\n",
       "      <td>2016-01-18</td>\n",
       "      <td>Monday</td>\n",
       "      <td>0</td>\n",
       "      <td>Dining bar</td>\n",
       "      <td>Tōkyō-to Minato-ku Shibakōen</td>\n",
       "      <td>35.658068</td>\n",
       "      <td>139.751599</td>\n",
       "      <td>16.699808</td>\n",
       "    </tr>\n",
       "  </tbody>\n",
       "</table>\n",
       "</div>"
      ],
      "text/plain": [
       "                     id  visit_date  visitors calendar_date day_of_week  \\\n",
       "0  air_ba937bf13d40fb24  2016-01-13        25    2016-01-13   Wednesday   \n",
       "1  air_ba937bf13d40fb24  2016-01-14        32    2016-01-14    Thursday   \n",
       "2  air_ba937bf13d40fb24  2016-01-15        29    2016-01-15      Friday   \n",
       "3  air_ba937bf13d40fb24  2016-01-16        22    2016-01-16    Saturday   \n",
       "4  air_ba937bf13d40fb24  2016-01-18         6    2016-01-18      Monday   \n",
       "\n",
       "   holiday       genre                          area   latitude   longitude  \\\n",
       "0        0  Dining bar  Tōkyō-to Minato-ku Shibakōen  35.658068  139.751599   \n",
       "1        0  Dining bar  Tōkyō-to Minato-ku Shibakōen  35.658068  139.751599   \n",
       "2        0  Dining bar  Tōkyō-to Minato-ku Shibakōen  35.658068  139.751599   \n",
       "3        0  Dining bar  Tōkyō-to Minato-ku Shibakōen  35.658068  139.751599   \n",
       "4        0  Dining bar  Tōkyō-to Minato-ku Shibakōen  35.658068  139.751599   \n",
       "\n",
       "   reserve_visitors  \n",
       "0         16.699808  \n",
       "1         16.699808  \n",
       "2         16.699808  \n",
       "3         16.699808  \n",
       "4         16.699808  "
      ]
     },
     "execution_count": 131,
     "metadata": {},
     "output_type": "execute_result"
    }
   ],
   "source": [
    "df.head()"
   ]
  },
  {
   "cell_type": "markdown",
   "metadata": {},
   "source": [
    "There are a few ways to deal with dates.\n",
    "\n",
    "On load can use the `parse_dates` argument on read"
   ]
  },
  {
   "cell_type": "code",
   "execution_count": 143,
   "metadata": {},
   "outputs": [],
   "source": [
    "df_dates = pd.read_csv(r\"/Users/PRSmb/OneDrive/General-Assembly/my-1019-repo/ClassMaterial/Unit2/data/restaurants.csv\",parse_dates=True)"
   ]
  },
  {
   "cell_type": "code",
   "execution_count": 156,
   "metadata": {},
   "outputs": [
    {
     "name": "stdout",
     "output_type": "stream",
     "text": [
      "<class 'pandas.core.frame.DataFrame'>\n",
      "RangeIndex: 252108 entries, 0 to 252107\n",
      "Data columns (total 11 columns):\n",
      " #   Column            Non-Null Count   Dtype  \n",
      "---  ------            --------------   -----  \n",
      " 0   id                252108 non-null  object \n",
      " 1   visit_date        252108 non-null  object \n",
      " 2   visitors          252108 non-null  int64  \n",
      " 3   calendar_date     252108 non-null  object \n",
      " 4   day_of_week       252108 non-null  object \n",
      " 5   holiday           252108 non-null  int64  \n",
      " 6   genre             252108 non-null  object \n",
      " 7   area              252108 non-null  object \n",
      " 8   latitude          252108 non-null  float64\n",
      " 9   longitude         252108 non-null  float64\n",
      " 10  reserve_visitors  108394 non-null  float64\n",
      "dtypes: float64(3), int64(2), object(6)\n",
      "memory usage: 21.2+ MB\n"
     ]
    }
   ],
   "source": [
    "df_dates.info()"
   ]
  },
  {
   "cell_type": "code",
   "execution_count": 136,
   "metadata": {},
   "outputs": [],
   "source": [
    "?pd.read_csv"
   ]
  },
  {
   "cell_type": "code",
   "execution_count": null,
   "metadata": {},
   "outputs": [],
   "source": []
  },
  {
   "cell_type": "code",
   "execution_count": 135,
   "metadata": {},
   "outputs": [],
   "source": [
    "df['visit_date'] = df.visit_date.astype(np.datetime64)"
   ]
  },
  {
   "cell_type": "code",
   "execution_count": 141,
   "metadata": {},
   "outputs": [
    {
     "name": "stdout",
     "output_type": "stream",
     "text": [
      "<class 'pandas.core.frame.DataFrame'>\n",
      "RangeIndex: 252108 entries, 0 to 252107\n",
      "Data columns (total 11 columns):\n",
      " #   Column            Non-Null Count   Dtype         \n",
      "---  ------            --------------   -----         \n",
      " 0   id                252108 non-null  object        \n",
      " 1   visit_date        252108 non-null  datetime64[ns]\n",
      " 2   visitors          252108 non-null  int64         \n",
      " 3   calendar_date     252108 non-null  object        \n",
      " 4   day_of_week       252108 non-null  object        \n",
      " 5   holiday           252108 non-null  int64         \n",
      " 6   genre             252108 non-null  object        \n",
      " 7   area              252108 non-null  object        \n",
      " 8   latitude          252108 non-null  float64       \n",
      " 9   longitude         252108 non-null  float64       \n",
      " 10  reserve_visitors  252108 non-null  float64       \n",
      "dtypes: datetime64[ns](1), float64(3), int64(2), object(5)\n",
      "memory usage: 21.2+ MB\n"
     ]
    }
   ],
   "source": [
    "df.info()"
   ]
  },
  {
   "cell_type": "code",
   "execution_count": 146,
   "metadata": {},
   "outputs": [
    {
     "data": {
      "text/plain": [
       "0         13\n",
       "1         14\n",
       "2         15\n",
       "3         16\n",
       "4         18\n",
       "          ..\n",
       "252103    21\n",
       "252104    22\n",
       "252105    26\n",
       "252106    20\n",
       "252107     9\n",
       "Name: visit_date, Length: 252108, dtype: int64"
      ]
     },
     "execution_count": 146,
     "metadata": {},
     "output_type": "execute_result"
    }
   ],
   "source": [
    "df['visit_date'].dt.day "
   ]
  },
  {
   "cell_type": "code",
   "execution_count": 148,
   "metadata": {},
   "outputs": [
    {
     "data": {
      "text/plain": [
       "0         1\n",
       "1         1\n",
       "2         1\n",
       "3         1\n",
       "4         1\n",
       "         ..\n",
       "252103    4\n",
       "252104    4\n",
       "252105    3\n",
       "252106    3\n",
       "252107    4\n",
       "Name: visit_date, Length: 252108, dtype: int64"
      ]
     },
     "execution_count": 148,
     "metadata": {},
     "output_type": "execute_result"
    }
   ],
   "source": [
    "df['visit_date'].dt.month "
   ]
  },
  {
   "cell_type": "code",
   "execution_count": 147,
   "metadata": {},
   "outputs": [
    {
     "data": {
      "text/plain": [
       "0         1\n",
       "1         1\n",
       "2         1\n",
       "3         1\n",
       "4         1\n",
       "         ..\n",
       "252103    2\n",
       "252104    2\n",
       "252105    1\n",
       "252106    1\n",
       "252107    2\n",
       "Name: visit_date, Length: 252108, dtype: int64"
      ]
     },
     "execution_count": 147,
     "metadata": {},
     "output_type": "execute_result"
    }
   ],
   "source": [
    "df['visit_date'].dt.quarter "
   ]
  },
  {
   "cell_type": "code",
   "execution_count": 149,
   "metadata": {},
   "outputs": [
    {
     "data": {
      "text/plain": [
       "0         2016\n",
       "1         2016\n",
       "2         2016\n",
       "3         2016\n",
       "4         2016\n",
       "          ... \n",
       "252103    2017\n",
       "252104    2017\n",
       "252105    2017\n",
       "252106    2017\n",
       "252107    2017\n",
       "Name: visit_date, Length: 252108, dtype: int64"
      ]
     },
     "execution_count": 149,
     "metadata": {},
     "output_type": "execute_result"
    }
   ],
   "source": [
    "df['visit_date'].dt.year "
   ]
  },
  {
   "cell_type": "code",
   "execution_count": 152,
   "metadata": {},
   "outputs": [
    {
     "data": {
      "text/plain": [
       "['__annotations__',\n",
       " '__class__',\n",
       " '__delattr__',\n",
       " '__dict__',\n",
       " '__dir__',\n",
       " '__doc__',\n",
       " '__eq__',\n",
       " '__format__',\n",
       " '__ge__',\n",
       " '__getattribute__',\n",
       " '__gt__',\n",
       " '__hash__',\n",
       " '__init__',\n",
       " '__init_subclass__',\n",
       " '__le__',\n",
       " '__lt__',\n",
       " '__module__',\n",
       " '__ne__',\n",
       " '__new__',\n",
       " '__reduce__',\n",
       " '__reduce_ex__',\n",
       " '__repr__',\n",
       " '__setattr__',\n",
       " '__sizeof__',\n",
       " '__str__',\n",
       " '__subclasshook__',\n",
       " '__weakref__',\n",
       " '_accessors',\n",
       " '_add_delegate_accessors',\n",
       " '_constructor',\n",
       " '_delegate_method',\n",
       " '_delegate_property_get',\n",
       " '_delegate_property_set',\n",
       " '_deprecations',\n",
       " '_dir_additions',\n",
       " '_dir_deletions',\n",
       " '_freeze',\n",
       " '_get_values',\n",
       " '_reset_cache',\n",
       " 'ceil',\n",
       " 'date',\n",
       " 'day',\n",
       " 'day_name',\n",
       " 'dayofweek',\n",
       " 'dayofyear',\n",
       " 'days_in_month',\n",
       " 'daysinmonth',\n",
       " 'floor',\n",
       " 'freq',\n",
       " 'hour',\n",
       " 'is_leap_year',\n",
       " 'is_month_end',\n",
       " 'is_month_start',\n",
       " 'is_quarter_end',\n",
       " 'is_quarter_start',\n",
       " 'is_year_end',\n",
       " 'is_year_start',\n",
       " 'microsecond',\n",
       " 'minute',\n",
       " 'month',\n",
       " 'month_name',\n",
       " 'nanosecond',\n",
       " 'normalize',\n",
       " 'quarter',\n",
       " 'round',\n",
       " 'second',\n",
       " 'strftime',\n",
       " 'time',\n",
       " 'timetz',\n",
       " 'to_period',\n",
       " 'to_pydatetime',\n",
       " 'tz',\n",
       " 'tz_convert',\n",
       " 'tz_localize',\n",
       " 'week',\n",
       " 'weekday',\n",
       " 'weekofyear',\n",
       " 'year']"
      ]
     },
     "execution_count": 152,
     "metadata": {},
     "output_type": "execute_result"
    }
   ],
   "source": [
    "dir(df['visit_date'].dt) # Gives list of all attributes after . "
   ]
  },
  {
   "cell_type": "code",
   "execution_count": 153,
   "metadata": {},
   "outputs": [],
   "source": [
    "df['month'] = df['visit_date'].dt.month"
   ]
  },
  {
   "cell_type": "code",
   "execution_count": 154,
   "metadata": {},
   "outputs": [],
   "source": [
    "df['quarter'] = df['visit_date'].dt.quarter"
   ]
  },
  {
   "cell_type": "markdown",
   "metadata": {},
   "source": [
    "These variables may help us capture seasonal effects"
   ]
  },
  {
   "cell_type": "code",
   "execution_count": 155,
   "metadata": {},
   "outputs": [
    {
     "data": {
      "text/html": [
       "<div>\n",
       "<style scoped>\n",
       "    .dataframe tbody tr th:only-of-type {\n",
       "        vertical-align: middle;\n",
       "    }\n",
       "\n",
       "    .dataframe tbody tr th {\n",
       "        vertical-align: top;\n",
       "    }\n",
       "\n",
       "    .dataframe thead th {\n",
       "        text-align: right;\n",
       "    }\n",
       "</style>\n",
       "<table border=\"1\" class=\"dataframe\">\n",
       "  <thead>\n",
       "    <tr style=\"text-align: right;\">\n",
       "      <th></th>\n",
       "      <th>id</th>\n",
       "      <th>visit_date</th>\n",
       "      <th>visitors</th>\n",
       "      <th>calendar_date</th>\n",
       "      <th>day_of_week</th>\n",
       "      <th>holiday</th>\n",
       "      <th>genre</th>\n",
       "      <th>area</th>\n",
       "      <th>latitude</th>\n",
       "      <th>longitude</th>\n",
       "      <th>reserve_visitors</th>\n",
       "      <th>month</th>\n",
       "      <th>quarter</th>\n",
       "    </tr>\n",
       "  </thead>\n",
       "  <tbody>\n",
       "    <tr>\n",
       "      <th>0</th>\n",
       "      <td>air_ba937bf13d40fb24</td>\n",
       "      <td>2016-01-13</td>\n",
       "      <td>25</td>\n",
       "      <td>2016-01-13</td>\n",
       "      <td>Wednesday</td>\n",
       "      <td>0</td>\n",
       "      <td>Dining bar</td>\n",
       "      <td>Tōkyō-to Minato-ku Shibakōen</td>\n",
       "      <td>35.658068</td>\n",
       "      <td>139.751599</td>\n",
       "      <td>16.699808</td>\n",
       "      <td>1</td>\n",
       "      <td>1</td>\n",
       "    </tr>\n",
       "    <tr>\n",
       "      <th>1</th>\n",
       "      <td>air_ba937bf13d40fb24</td>\n",
       "      <td>2016-01-14</td>\n",
       "      <td>32</td>\n",
       "      <td>2016-01-14</td>\n",
       "      <td>Thursday</td>\n",
       "      <td>0</td>\n",
       "      <td>Dining bar</td>\n",
       "      <td>Tōkyō-to Minato-ku Shibakōen</td>\n",
       "      <td>35.658068</td>\n",
       "      <td>139.751599</td>\n",
       "      <td>16.699808</td>\n",
       "      <td>1</td>\n",
       "      <td>1</td>\n",
       "    </tr>\n",
       "    <tr>\n",
       "      <th>2</th>\n",
       "      <td>air_ba937bf13d40fb24</td>\n",
       "      <td>2016-01-15</td>\n",
       "      <td>29</td>\n",
       "      <td>2016-01-15</td>\n",
       "      <td>Friday</td>\n",
       "      <td>0</td>\n",
       "      <td>Dining bar</td>\n",
       "      <td>Tōkyō-to Minato-ku Shibakōen</td>\n",
       "      <td>35.658068</td>\n",
       "      <td>139.751599</td>\n",
       "      <td>16.699808</td>\n",
       "      <td>1</td>\n",
       "      <td>1</td>\n",
       "    </tr>\n",
       "    <tr>\n",
       "      <th>3</th>\n",
       "      <td>air_ba937bf13d40fb24</td>\n",
       "      <td>2016-01-16</td>\n",
       "      <td>22</td>\n",
       "      <td>2016-01-16</td>\n",
       "      <td>Saturday</td>\n",
       "      <td>0</td>\n",
       "      <td>Dining bar</td>\n",
       "      <td>Tōkyō-to Minato-ku Shibakōen</td>\n",
       "      <td>35.658068</td>\n",
       "      <td>139.751599</td>\n",
       "      <td>16.699808</td>\n",
       "      <td>1</td>\n",
       "      <td>1</td>\n",
       "    </tr>\n",
       "    <tr>\n",
       "      <th>4</th>\n",
       "      <td>air_ba937bf13d40fb24</td>\n",
       "      <td>2016-01-18</td>\n",
       "      <td>6</td>\n",
       "      <td>2016-01-18</td>\n",
       "      <td>Monday</td>\n",
       "      <td>0</td>\n",
       "      <td>Dining bar</td>\n",
       "      <td>Tōkyō-to Minato-ku Shibakōen</td>\n",
       "      <td>35.658068</td>\n",
       "      <td>139.751599</td>\n",
       "      <td>16.699808</td>\n",
       "      <td>1</td>\n",
       "      <td>1</td>\n",
       "    </tr>\n",
       "  </tbody>\n",
       "</table>\n",
       "</div>"
      ],
      "text/plain": [
       "                     id visit_date  visitors calendar_date day_of_week  \\\n",
       "0  air_ba937bf13d40fb24 2016-01-13        25    2016-01-13   Wednesday   \n",
       "1  air_ba937bf13d40fb24 2016-01-14        32    2016-01-14    Thursday   \n",
       "2  air_ba937bf13d40fb24 2016-01-15        29    2016-01-15      Friday   \n",
       "3  air_ba937bf13d40fb24 2016-01-16        22    2016-01-16    Saturday   \n",
       "4  air_ba937bf13d40fb24 2016-01-18         6    2016-01-18      Monday   \n",
       "\n",
       "   holiday       genre                          area   latitude   longitude  \\\n",
       "0        0  Dining bar  Tōkyō-to Minato-ku Shibakōen  35.658068  139.751599   \n",
       "1        0  Dining bar  Tōkyō-to Minato-ku Shibakōen  35.658068  139.751599   \n",
       "2        0  Dining bar  Tōkyō-to Minato-ku Shibakōen  35.658068  139.751599   \n",
       "3        0  Dining bar  Tōkyō-to Minato-ku Shibakōen  35.658068  139.751599   \n",
       "4        0  Dining bar  Tōkyō-to Minato-ku Shibakōen  35.658068  139.751599   \n",
       "\n",
       "   reserve_visitors  month  quarter  \n",
       "0         16.699808      1        1  \n",
       "1         16.699808      1        1  \n",
       "2         16.699808      1        1  \n",
       "3         16.699808      1        1  \n",
       "4         16.699808      1        1  "
      ]
     },
     "execution_count": 155,
     "metadata": {},
     "output_type": "execute_result"
    }
   ],
   "source": [
    "df.head()"
   ]
  },
  {
   "cell_type": "code",
   "execution_count": null,
   "metadata": {},
   "outputs": [],
   "source": []
  },
  {
   "cell_type": "markdown",
   "metadata": {},
   "source": [
    "**12).  Can you determine the quarter of the year for each reservation?  The month?**"
   ]
  },
  {
   "cell_type": "code",
   "execution_count": null,
   "metadata": {},
   "outputs": [],
   "source": [
    "# we can get the quarters using the dt attribute"
   ]
  },
  {
   "cell_type": "code",
   "execution_count": null,
   "metadata": {},
   "outputs": [],
   "source": []
  },
  {
   "cell_type": "code",
   "execution_count": null,
   "metadata": {},
   "outputs": [],
   "source": []
  }
 ],
 "metadata": {
  "kernelspec": {
   "display_name": "Python 3",
   "language": "python",
   "name": "python3"
  },
  "language_info": {
   "codemirror_mode": {
    "name": "ipython",
    "version": 3
   },
   "file_extension": ".py",
   "mimetype": "text/x-python",
   "name": "python",
   "nbconvert_exporter": "python",
   "pygments_lexer": "ipython3",
   "version": "3.8.3"
  }
 },
 "nbformat": 4,
 "nbformat_minor": 2
}
