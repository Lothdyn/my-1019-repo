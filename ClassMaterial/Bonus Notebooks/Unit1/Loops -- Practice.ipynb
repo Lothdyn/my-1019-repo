{
 "cells": [
  {
   "cell_type": "markdown",
   "metadata": {},
   "source": [
    "### Loops & List Comprehensions:  Practice Notebook"
   ]
  },
  {
   "cell_type": "markdown",
   "metadata": {},
   "source": [
    "This notebook is designed to give newcomers additional practice to work on writing for-loops and list comprehensions.  \n",
    "\n",
    "The examples will begin slowly and gradually get a little more complicated.  Most questions can be concisely answered with a list-comprehensions, but if not then it will be noted.  "
   ]
  },
  {
   "cell_type": "markdown",
   "metadata": {},
   "source": [
    "#### Movies List"
   ]
  },
  {
   "cell_type": "markdown",
   "metadata": {},
   "source": [
    "Similar to class 3, the following questions will ask you to write loops through the list of dictionaries that contain information about various types of movies."
   ]
  },
  {
   "cell_type": "code",
   "execution_count": 56,
   "metadata": {},
   "outputs": [],
   "source": [
    "# List of movies dictionaries:\n",
    "\n",
    "movies = [\n",
    "{\n",
    "\"name\": \"Usual Suspects\", \n",
    "\"imdb\": 7.0,\n",
    "\"category\": \"Thriller\"\n",
    "},\n",
    "{\n",
    "\"name\": \"Hitman\",\n",
    "\"imdb\": 6.3,\n",
    "\"category\": \"Action\"\n",
    "},\n",
    "{\n",
    "\"name\": \"Dark Knight\",\n",
    "\"imdb\": 9.0,\n",
    "\"category\": \"Adventure\"\n",
    "},\n",
    "{\n",
    "\"name\": \"The Help\",\n",
    "\"imdb\": 8.0,\n",
    "\"category\": \"Drama\"\n",
    "},\n",
    "{\n",
    "\"name\": \"The Choice\",\n",
    "\"imdb\": 6.2,\n",
    "\"category\": \"Romance\"\n",
    "},\n",
    "{\n",
    "\"name\": \"Colonia\",\n",
    "\"imdb\": 7.4,\n",
    "\"category\": \"Romance\"\n",
    "},\n",
    "{\n",
    "\"name\": \"Love\",\n",
    "\"imdb\": 6.0,\n",
    "\"category\": \"Romance\"\n",
    "},\n",
    "{\n",
    "\"name\": \"Bride Wars\",\n",
    "\"imdb\": 5.4,\n",
    "\"category\": \"Romance\"\n",
    "},\n",
    "{\n",
    "\"name\": \"AlphaJet\",\n",
    "\"imdb\": 3.2,\n",
    "\"category\": \"War\"\n",
    "},\n",
    "{\n",
    "\"name\": \"Ringing Crime\",\n",
    "\"imdb\": 4.0,\n",
    "\"category\": \"Crime\"\n",
    "},\n",
    "{\n",
    "\"name\": \"Joking muck\",\n",
    "\"imdb\": 7.2,\n",
    "\"category\": \"Comedy\"\n",
    "},\n",
    "{\n",
    "\"name\": \"What is the name\",\n",
    "\"imdb\": 9.2,\n",
    "\"category\": \"Suspense\"\n",
    "},\n",
    "{\n",
    "\"name\": \"Detective\",\n",
    "\"imdb\": 7.0,\n",
    "\"category\": \"Suspense\"\n",
    "},\n",
    "{\n",
    "\"name\": \"Exam\",\n",
    "\"imdb\": 4.2,\n",
    "\"category\": \"Thriller\"\n",
    "},\n",
    "{\n",
    "\"name\": \"We Two\",\n",
    "\"imdb\": 7.2,\n",
    "\"category\": \"Romance\"\n",
    "}\n",
    "]"
   ]
  },
  {
   "cell_type": "markdown",
   "metadata": {},
   "source": [
    "**Question 1:** What is the highest rated movie?  What is the lowest rated movie?  \n",
    "\n",
    "**Hint:** The `max()` function can help you out here, although it's not necessary."
   ]
  },
  {
   "cell_type": "code",
   "execution_count": 26,
   "metadata": {},
   "outputs": [
    {
     "name": "stdout",
     "output_type": "stream",
     "text": [
      "The highest rated film(s) are: ,What is the name\n",
      "The lowest rated film(s) are: ,AlphaJet,Detective - TEST\n"
     ]
    }
   ],
   "source": [
    "# your answer here\n",
    "\n",
    "high_rating = None\n",
    "for m in movies:\n",
    "    if high_rating is None:\n",
    "        high_rating = m[\"imdb\"]\n",
    "    else:\n",
    "        if high_rating < m[\"imdb\"]:\n",
    "            high_rating = m[\"imdb\"]\n",
    "highest_rated = [m[\"name\"] for m in movies if m[\"imdb\"]==high_rating]\n",
    "print(f\"The highest rated film(s) are: \", *highest_rated, sep=',')\n",
    "\n",
    "low_rating = None\n",
    "for m in movies:\n",
    "    if low_rating is None:\n",
    "        low_rating = m[\"imdb\"]\n",
    "    else:\n",
    "        if m[\"imdb\"] < low_rating:\n",
    "            low_rating = m[\"imdb\"]\n",
    "lowest_rated = [m[\"name\"] for m in movies if m[\"imdb\"]==low_rating]\n",
    "print(f\"The lowest rated film(s) are: \", *lowest_rated, sep=',')"
   ]
  },
  {
   "cell_type": "markdown",
   "metadata": {},
   "source": [
    "**Question 2:**  How many thriller movies are there? "
   ]
  },
  {
   "cell_type": "code",
   "execution_count": 30,
   "metadata": {},
   "outputs": [
    {
     "name": "stdout",
     "output_type": "stream",
     "text": [
      "['Usual Suspects', 'Exam'] are the thrillers\n",
      "There are 2 thrillers.\n"
     ]
    }
   ],
   "source": [
    "# your answer here\n",
    "\n",
    "thriller_list = [m[\"name\"] for m in movies if m[\"category\"]==\"Thriller\"]\n",
    "print(f\"{thriller_list} are the thrillers\")\n",
    "print(f\"There are {len(thriller_list)} thrillers.\")\n"
   ]
  },
  {
   "cell_type": "markdown",
   "metadata": {},
   "source": [
    "**Question 3:**  What is the average rating of all movies?"
   ]
  },
  {
   "cell_type": "code",
   "execution_count": 43,
   "metadata": {},
   "outputs": [
    {
     "name": "stdout",
     "output_type": "stream",
     "text": [
      "6.49 is the average rating.\n"
     ]
    }
   ],
   "source": [
    "# your answer here\n",
    "\n",
    "if len(movies) > 0:\n",
    "    avg_rating = sum([float(m[\"imdb\"]) for m in movies])/len(movies)\n",
    "    avg_rating_str = \"{:.2f}\".format(avg_rating)\n",
    "    print(f\"{avg_rating_str} is the average rating.\")\n",
    "else:\n",
    "    \"Add some movies to the list.\""
   ]
  },
  {
   "cell_type": "markdown",
   "metadata": {},
   "source": [
    "**Question 4:** How many movies have an above average rating?"
   ]
  },
  {
   "cell_type": "code",
   "execution_count": 45,
   "metadata": {},
   "outputs": [
    {
     "name": "stdout",
     "output_type": "stream",
     "text": [
      "There are 8 movies that are above average.\n"
     ]
    }
   ],
   "source": [
    "# your answer here\n",
    "\n",
    "avg_rating = sum([float(m[\"imdb\"]) for m in movies])/len(movies)\n",
    "above_average_movies = [m for m in movies if m[\"imdb\"]>avg_rating]\n",
    "print(f\"There are {len(above_average_movies)} movies that are above average.\")\n"
   ]
  },
  {
   "cell_type": "markdown",
   "metadata": {},
   "source": [
    "**Question 5:** Create a list of all movies that have an above average rating."
   ]
  },
  {
   "cell_type": "code",
   "execution_count": 46,
   "metadata": {},
   "outputs": [
    {
     "name": "stdout",
     "output_type": "stream",
     "text": [
      "Above average:\n",
      "- {'name': 'Usual Suspects', 'imdb': 7.0, 'category': 'Thriller'}\n",
      "- {'name': 'Dark Knight', 'imdb': 9.0, 'category': 'Adventure'}\n",
      "- {'name': 'The Help', 'imdb': 8.0, 'category': 'Drama'}\n",
      "- {'name': 'Colonia', 'imdb': 7.4, 'category': 'Romance'}\n",
      "- {'name': 'Joking muck', 'imdb': 7.2, 'category': 'Comedy'}\n",
      "- {'name': 'What is the name', 'imdb': 9.2, 'category': 'Suspense'}\n",
      "- {'name': 'Detective', 'imdb': 7.0, 'category': 'Suspense'}\n",
      "- {'name': 'We Two', 'imdb': 7.2, 'category': 'Romance'}\n"
     ]
    }
   ],
   "source": [
    "# your answer here\n",
    "\n",
    "avg_rating = sum([float(m[\"imdb\"]) for m in movies])/len(movies)\n",
    "above_average_movies = [m for m in movies if m[\"imdb\"]>avg_rating]\n",
    "print(\"Above average:\",*above_average_movies,sep='\\n- ')"
   ]
  },
  {
   "cell_type": "markdown",
   "metadata": {},
   "source": [
    "**Question 6:** Create a loop that *stops* as soon as it finds a movie that has a below average rating.\n",
    "\n",
    "**Hint:** the `break` operator is going to be your best bet."
   ]
  },
  {
   "cell_type": "code",
   "execution_count": 57,
   "metadata": {},
   "outputs": [
    {
     "name": "stdout",
     "output_type": "stream",
     "text": [
      "{'name': 'Hitman', 'imdb': 6.3, 'category': 'Action'}\n"
     ]
    }
   ],
   "source": [
    "# your answer here\n",
    "avg_rating = sum([float(m[\"imdb\"]) for m in movies])/len(movies)\n",
    "for m in movies:\n",
    "    if m[\"imdb\"] < avg_rating:\n",
    "        print(m)\n",
    "        break\n"
   ]
  },
  {
   "cell_type": "markdown",
   "metadata": {},
   "source": [
    "**Question 7:** Write a loop that prints off the name of every movie title, as well as how many words are in its title.  "
   ]
  },
  {
   "cell_type": "code",
   "execution_count": 62,
   "metadata": {},
   "outputs": [
    {
     "name": "stdout",
     "output_type": "stream",
     "text": [
      "Usual Suspects: 2 word(s) in title.\n",
      "Hitman: 1 word(s) in title.\n",
      "Dark Knight: 2 word(s) in title.\n",
      "The Help: 2 word(s) in title.\n",
      "The Choice: 2 word(s) in title.\n",
      "Colonia: 1 word(s) in title.\n",
      "Love: 1 word(s) in title.\n",
      "Bride Wars: 2 word(s) in title.\n",
      "AlphaJet: 1 word(s) in title.\n",
      "Ringing Crime: 2 word(s) in title.\n",
      "Joking muck: 2 word(s) in title.\n",
      "What is the name: 4 word(s) in title.\n",
      "Detective: 1 word(s) in title.\n",
      "Exam: 1 word(s) in title.\n",
      "We Two: 2 word(s) in title.\n"
     ]
    }
   ],
   "source": [
    "# your answer here\n",
    "movie_titles = [m[\"name\"] for m in movies]\n",
    "for t in movie_titles:\n",
    "    my_str = t\n",
    "    my_str = my_str + \": \" + str(len(t.split())) + \" word(s) in title.\"\n",
    "    print(my_str)"
   ]
  },
  {
   "cell_type": "markdown",
   "metadata": {},
   "source": [
    "**Question 8:** Write a code block that will print off the name of the movie with the highest rating, as well as its title."
   ]
  },
  {
   "cell_type": "code",
   "execution_count": 65,
   "metadata": {},
   "outputs": [
    {
     "name": "stdout",
     "output_type": "stream",
     "text": [
      "The highest rated film is: What is the name\n"
     ]
    }
   ],
   "source": [
    "# your answer here\n",
    "high_rating = None\n",
    "for m in movies:\n",
    "    if high_rating is None:\n",
    "        high_rating = m[\"imdb\"]\n",
    "    else:\n",
    "        if high_rating < m[\"imdb\"]:\n",
    "            high_rating = m[\"imdb\"]\n",
    "highest_rated = [m[\"name\"] for m in movies if m[\"imdb\"]==high_rating]\n",
    "print(\"The highest rated film is: \" + highest_rated[0])"
   ]
  },
  {
   "cell_type": "markdown",
   "metadata": {},
   "source": [
    "**Question 9:**  How many movies begin with the word \"The?\"  Make the results case-insensitive."
   ]
  },
  {
   "cell_type": "code",
   "execution_count": 71,
   "metadata": {},
   "outputs": [
    {
     "name": "stdout",
     "output_type": "stream",
     "text": [
      "[{'name': 'The Help', 'imdb': 8.0, 'category': 'Drama'}, {'name': 'The Choice', 'imdb': 6.2, 'category': 'Romance'}]\n",
      "There are 2 in the list.\n"
     ]
    }
   ],
   "source": [
    "# your answer here\n",
    "movies_beginning_with_the = [m for m in movies if m[\"name\"][:3].lower()==\"the\"]\n",
    "print(movies_beginning_with_the)\n",
    "print(f\"There are {len(movies_beginning_with_the)} in the list.\")"
   ]
  },
  {
   "cell_type": "markdown",
   "metadata": {},
   "source": [
    "**Question 10:** Create a list that contains movies that have the word 'the' in their title.  Make the results case-insensitive."
   ]
  },
  {
   "cell_type": "code",
   "execution_count": 72,
   "metadata": {},
   "outputs": [
    {
     "name": "stdout",
     "output_type": "stream",
     "text": [
      "[{'name': 'The Help', 'imdb': 8.0, 'category': 'Drama'}, {'name': 'The Choice', 'imdb': 6.2, 'category': 'Romance'}, {'name': 'What is the name', 'imdb': 9.2, 'category': 'Suspense'}]\n",
      "There are 3 in the list.\n"
     ]
    }
   ],
   "source": [
    "# your answer here\n",
    "movies_containing_the = [m for m in movies if 'the' in str(m[\"name\"].lower()).split()]\n",
    "print(movies_containing_the)\n",
    "print(f\"There are {len(movies_containing_the)} in the list.\")"
   ]
  },
  {
   "cell_type": "markdown",
   "metadata": {},
   "source": [
    "**Question 11:** Create a list that contains the name and rating of a movie if the word 'the' is contained within its title.  These results should be stored inside a tuple.  Make the results case-insensitive."
   ]
  },
  {
   "cell_type": "code",
   "execution_count": 78,
   "metadata": {},
   "outputs": [
    {
     "name": "stdout",
     "output_type": "stream",
     "text": [
      "<class 'tuple'>\n",
      "[('The Help', 8.0), ('The Choice', 6.2), ('What is the name', 9.2)]\n"
     ]
    }
   ],
   "source": [
    "# your answer here\n",
    "movies_containing_the_name_rating = [(m[\"name\"],m[\"imdb\"]) for m in movies if 'the' in str(m[\"name\"].lower()).split()]\n",
    "print(f\"{type(movies_containing_the_name_rating[0])}\")\n",
    "print(movies_containing_the_name_rating)"
   ]
  },
  {
   "cell_type": "markdown",
   "metadata": {},
   "source": [
    "**Question 12:** Write a code block that checks to see if the average rating for movies with the word 'the' in its title are higher than the average rating overall.  If they are higher, print a message saying as much.  If not, then print something else."
   ]
  },
  {
   "cell_type": "code",
   "execution_count": 79,
   "metadata": {},
   "outputs": [
    {
     "name": "stdout",
     "output_type": "stream",
     "text": [
      "Movies with 'the' in the title rate more on average.\n"
     ]
    }
   ],
   "source": [
    "# your answer here\n",
    "movies_containing_the = [m for m in movies if 'the' in str(m[\"name\"].lower()).split()]\n",
    "avg_rating_all = sum([float(m[\"imdb\"]) for m in movies])/len(movies)\n",
    "avg_rating_contains_the = sum([float(m[\"imdb\"]) for m in movies_containing_the])/len(movies_containing_the)\n",
    "if avg_rating_contains_the > avg_rating_all:\n",
    "    print(\"Movies with 'the' in the title rate more on average.\")\n",
    "else:\n",
    "    print(\"Movies without 'the' in teh title rate less on average.\")"
   ]
  },
  {
   "cell_type": "markdown",
   "metadata": {},
   "source": [
    "**Question 13:** Create a list that contains the *index positions* of every movie that has an above average rating in our original list."
   ]
  },
  {
   "cell_type": "code",
   "execution_count": 82,
   "metadata": {},
   "outputs": [
    {
     "name": "stdout",
     "output_type": "stream",
     "text": [
      "[0, 2, 3, 5, 10, 11, 12, 14]\n"
     ]
    }
   ],
   "source": [
    "# your answer here\n",
    "avg_rating_all = sum([float(m[\"imdb\"]) for m in movies])/len(movies)\n",
    "above_avg_movies_index_positions = [movies.index(m) for m in movies if m[\"imdb\"] > avg_rating_all]\n",
    "print(above_avg_movies_index_positions)"
   ]
  },
  {
   "cell_type": "markdown",
   "metadata": {},
   "source": [
    "**Question 14 (More Complicated):** What movie *genre* occurs most frequently?  (You will need to do this in a few steps most likely). "
   ]
  },
  {
   "cell_type": "code",
   "execution_count": 91,
   "metadata": {},
   "outputs": [
    {
     "name": "stdout",
     "output_type": "stream",
     "text": [
      "The most frequent genre is: Romance\n"
     ]
    }
   ],
   "source": [
    "# your answer here\n",
    "movie_genres = set([m[\"category\"] for m in movies])\n",
    "genre_counts = []\n",
    "for g in movie_genres:\n",
    "    my_genre = str(g)\n",
    "    my_count = len([m for m in movies if m[\"category\"] == g])\n",
    "    genre_counts.append([my_genre,my_count])\n",
    "genre_count_sorted = sorted(genre_counts, key = lambda x:x[1], reverse = True)\n",
    "print(f\"The most frequent genre is: {genre_count_sorted[0][0]}\")\n"
   ]
  },
  {
   "cell_type": "markdown",
   "metadata": {},
   "source": [
    "**Question 15 (More Complicated):** What is the average rating for every movie genre?  Return the answer in a dictionary, where each key is a genre and the value is its average rating."
   ]
  },
  {
   "cell_type": "code",
   "execution_count": 97,
   "metadata": {},
   "outputs": [
    {
     "name": "stdout",
     "output_type": "stream",
     "text": [
      "[{'genre': 'Adventure', 'average_rating': 9.0}, {'genre': 'War', 'average_rating': 3.2}, {'genre': 'Thriller', 'average_rating': 5.6}, {'genre': 'Comedy', 'average_rating': 7.2}, {'genre': 'Romance', 'average_rating': 6.44}, {'genre': 'Drama', 'average_rating': 8.0}, {'genre': 'Crime', 'average_rating': 4.0}, {'genre': 'Suspense', 'average_rating': 8.1}, {'genre': 'Action', 'average_rating': 6.3}]\n",
      "\n",
      "\n",
      "\n",
      "\n",
      "The average ratings are:\n",
      "- {'genre': 'Adventure', 'average_rating': 9.0}\n",
      "- {'genre': 'War', 'average_rating': 3.2}\n",
      "- {'genre': 'Thriller', 'average_rating': 5.6}\n",
      "- {'genre': 'Comedy', 'average_rating': 7.2}\n",
      "- {'genre': 'Romance', 'average_rating': 6.44}\n",
      "- {'genre': 'Drama', 'average_rating': 8.0}\n",
      "- {'genre': 'Crime', 'average_rating': 4.0}\n",
      "- {'genre': 'Suspense', 'average_rating': 8.1}\n",
      "- {'genre': 'Action', 'average_rating': 6.3}\n"
     ]
    }
   ],
   "source": [
    "# your answer here\n",
    "\n",
    "# your answer here\n",
    "movie_genres = set([m[\"category\"] for m in movies])\n",
    "genre_averages = []\n",
    "for g in movie_genres:\n",
    "    my_genre = str(g)\n",
    "    my_count = len([m for m in movies if m[\"category\"] == g])\n",
    "    my_total_rating = sum([m[\"imdb\"] for m in movies if m[\"category\"] == g])\n",
    "    genre_averages.append({\"genre\":my_genre,\"average_rating\":my_total_rating/my_count})\n",
    "print(genre_averages)\n",
    "print(\"\\n\\n\\n\")\n",
    "print(\"The average ratings are:\",*genre_averages,sep=\"\\n- \")\n"
   ]
  },
  {
   "cell_type": "code",
   "execution_count": null,
   "metadata": {},
   "outputs": [],
   "source": []
  }
 ],
 "metadata": {
  "kernelspec": {
   "display_name": "Python 3",
   "language": "python",
   "name": "python3"
  },
  "language_info": {
   "codemirror_mode": {
    "name": "ipython",
    "version": 3
   },
   "file_extension": ".py",
   "mimetype": "text/x-python",
   "name": "python",
   "nbconvert_exporter": "python",
   "pygments_lexer": "ipython3",
   "version": "3.6.11"
  }
 },
 "nbformat": 4,
 "nbformat_minor": 2
}
