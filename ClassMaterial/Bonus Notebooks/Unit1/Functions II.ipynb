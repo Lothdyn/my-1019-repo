{
 "cells": [
  {
   "cell_type": "markdown",
   "metadata": {},
   "source": [
    "### Functions Review\n",
    "\n",
    "**Who this notebook is for:** people who want additional practice writing functions because they feel shaky with the practice of doing it.\n",
    "\n",
    "**How it's designed to work:** The exercises are designed to start simply, and gradually add complexity, and test different aspects of functions and how they work.  Specifically:\n",
    "\n",
    " - Creating functions that take different data types as arguments\n",
    " - Setting up functions that have optional arguments to modify how they behave\n",
    " - looping and conditional logic"
   ]
  },
  {
   "cell_type": "markdown",
   "metadata": {},
   "source": [
    "#### Part 1:  Functions That Take Different Arguments"
   ]
  },
  {
   "cell_type": "markdown",
   "metadata": {},
   "source": [
    "**1: Write a function that accepts a list as an argument, and returns its length**"
   ]
  },
  {
   "cell_type": "code",
   "execution_count": 2,
   "metadata": {},
   "outputs": [],
   "source": [
    "# your answer here\n",
    "\n",
    "def len_list(my_list):\n",
    "    return len(my_list)\n"
   ]
  },
  {
   "cell_type": "code",
   "execution_count": 6,
   "metadata": {},
   "outputs": [
    {
     "name": "stdout",
     "output_type": "stream",
     "text": [
      "3 : should be 3\n",
      "3 : should be 3\n",
      "1 : should be 1\n"
     ]
    }
   ],
   "source": [
    "print(f\"{len_list([2,3,4])} : should be 3\")\n",
    "print(f\"{len_list(['it','cat','dog'])} : should be 3\")\n",
    "print(f\"{len_list(['abacus'])} : should be 1\")"
   ]
  },
  {
   "cell_type": "markdown",
   "metadata": {},
   "source": [
    "**2: Write a function that accepts a list as an arugment, and returns True/False depending on whether or not it has more than 5 items.**"
   ]
  },
  {
   "cell_type": "code",
   "execution_count": 8,
   "metadata": {},
   "outputs": [],
   "source": [
    "# your answer here\n",
    "\n",
    "def list_over_five(my_list):\n",
    "    if len(my_list) > 5:\n",
    "        return True\n",
    "    else:\n",
    "        return False"
   ]
  },
  {
   "cell_type": "code",
   "execution_count": 9,
   "metadata": {},
   "outputs": [
    {
     "name": "stdout",
     "output_type": "stream",
     "text": [
      "True : should be 3\n",
      "False : should be False\n"
     ]
    }
   ],
   "source": [
    "print(f\"{list_over_five([1,2,3,4,5,6,7,9])} : should be True\")\n",
    "print(f\"{list_over_five(['it','cat','dog'])} : should be False\")\n"
   ]
  },
  {
   "cell_type": "markdown",
   "metadata": {},
   "source": [
    "**3: Write a function that accepts a list as an argument, and returns `True` if it contains a string, and `False` if it does not.**"
   ]
  },
  {
   "cell_type": "code",
   "execution_count": 17,
   "metadata": {},
   "outputs": [],
   "source": [
    "def contains_str(my_list):\n",
    "    if any([i for i in my_list if isinstance(i,str)== True]):\n",
    "        return True\n",
    "    else:\n",
    "        return False\n",
    "\n",
    "def contains_str(my_list):\n",
    "    if any([i for i in my_list if isinstance(i,str)== True]):\n",
    "        return True\n",
    "    else:\n",
    "        return False"
   ]
  },
  {
   "cell_type": "code",
   "execution_count": 18,
   "metadata": {},
   "outputs": [
    {
     "name": "stdout",
     "output_type": "stream",
     "text": [
      "False : should be False\n",
      "True : should be True\n",
      "True : should be True\n"
     ]
    }
   ],
   "source": [
    "print(f\"{contains_str([1,2,3,4,5,6,7,9])} : should be False\")\n",
    "print(f\"{contains_str(['it','cat','dog'])} : should be True\")\n",
    "print(f\"{contains_str([1,2,'cat',4,5,6,7,9])} : should be True\")\n"
   ]
  },
  {
   "cell_type": "markdown",
   "metadata": {},
   "source": [
    "**4: Write a function that accepts a number as an argument, and prints a statement telling you if the number is even or odd.**"
   ]
  },
  {
   "cell_type": "code",
   "execution_count": 21,
   "metadata": {},
   "outputs": [],
   "source": [
    "def num_even_odd(my_num):\n",
    "    if my_num % 2 == 0:\n",
    "        print(f\"The number {my_num} is even.\")\n",
    "    else:\n",
    "        print(f\"The number {my_num} is odd.\")\n",
    "    "
   ]
  },
  {
   "cell_type": "code",
   "execution_count": 22,
   "metadata": {},
   "outputs": [
    {
     "name": "stdout",
     "output_type": "stream",
     "text": [
      "The number 1 is odd.\n",
      "The number 2 is even.\n",
      "The number 3 is odd.\n",
      "The number 0 is even.\n"
     ]
    }
   ],
   "source": [
    "num_even_odd(1)\n",
    "num_even_odd(2)\n",
    "num_even_odd(3)\n",
    "num_even_odd(0)\n"
   ]
  },
  {
   "cell_type": "markdown",
   "metadata": {},
   "source": [
    "**5: Write a function that accepts a number as an argument, and prints a message telling you if it's an integer or a floating point number.  If it's neither, print what data type it is.**"
   ]
  },
  {
   "cell_type": "code",
   "execution_count": 23,
   "metadata": {},
   "outputs": [],
   "source": [
    "def input_type_int_float(my_arg):\n",
    "    if type(my_arg) == int:\n",
    "        print(f\"{my_arg} is an int\")\n",
    "    elif type(my_arg) == float:\n",
    "        print(f\"{my_arg} is a float\")\n",
    "    else:\n",
    "        print(f\"{my_arg} is type {type(my_arg)}\")"
   ]
  },
  {
   "cell_type": "code",
   "execution_count": 24,
   "metadata": {},
   "outputs": [
    {
     "name": "stdout",
     "output_type": "stream",
     "text": [
      "1 is an int\n",
      "1.0 is a float\n",
      "1 is type <class 'str'>\n",
      "-1 is an int\n"
     ]
    }
   ],
   "source": [
    "input_type_int_float(1)\n",
    "input_type_int_float(1.0)\n",
    "input_type_int_float('1')\n",
    "input_type_int_float(-1)"
   ]
  },
  {
   "cell_type": "markdown",
   "metadata": {},
   "source": [
    "**6: Write a function that checks to see if a number is a prime number or not.  This means it can only be divided by 1 and itself, and nothing else.  If prime, return `True`.  Return `False` if it's not.**"
   ]
  },
  {
   "cell_type": "code",
   "execution_count": 1,
   "metadata": {},
   "outputs": [],
   "source": [
    "def is_prime(my_num):\n",
    "    is_prime = True\n",
    "    if my_num in (1,2):\n",
    "        is_prime = True\n",
    "    else:\n",
    "        for i in range(2,my_num):\n",
    "            if my_num % i == 0:\n",
    "                is_prime = False\n",
    "                break\n",
    "    return is_prime"
   ]
  },
  {
   "cell_type": "code",
   "execution_count": 2,
   "metadata": {},
   "outputs": [
    {
     "name": "stdout",
     "output_type": "stream",
     "text": [
      "Is 1 a prime? True\n",
      "Is 2 a prime? True\n",
      "Is 4 a prime? False\n",
      "Is 6 a prime? False\n",
      "Is 7 a prime? True\n",
      "Is 9 a prime? False\n",
      "Is 10 a prime? False\n",
      "Is 11 a prime? True\n",
      "Is 9133 a prime? True\n",
      "Is 2045038 a prime? False\n",
      "Is 702239 a prime? True\n",
      "Is 702245 a prime? False\n"
     ]
    }
   ],
   "source": [
    "print(f\"Is 1 a prime? {is_prime(1)}\")\n",
    "print(f\"Is 2 a prime? {is_prime(2)}\")\n",
    "print(f\"Is 4 a prime? {is_prime(4)}\")\n",
    "print(f\"Is 6 a prime? {is_prime(6)}\")\n",
    "print(f\"Is 7 a prime? {is_prime(7)}\")\n",
    "print(f\"Is 9 a prime? {is_prime(9)}\")\n",
    "print(f\"Is 10 a prime? {is_prime(10)}\")\n",
    "print(f\"Is 11 a prime? {is_prime(11)}\")\n",
    "print(f\"Is 9133 a prime? {is_prime(9133)}\")\n",
    "print(f\"Is 2045038 a prime? {is_prime(2045038)}\")\n",
    "print(f\"Is 702239 a prime? {is_prime(702239)}\")\n",
    "print(f\"Is 702245 a prime? {is_prime(702245)}\")\n"
   ]
  },
  {
   "cell_type": "markdown",
   "metadata": {},
   "source": [
    "**7: Write a function that accepts a string as an argument, and checks to see if it contains the letter `a`.  Return `True` if it does, `False` if it does not.**"
   ]
  },
  {
   "cell_type": "code",
   "execution_count": 3,
   "metadata": {},
   "outputs": [],
   "source": [
    "def str_contains_a(my_str):\n",
    "    if any([i for i in my_str if i == 'a']):\n",
    "        return True\n",
    "    else:\n",
    "        return False"
   ]
  },
  {
   "cell_type": "code",
   "execution_count": 4,
   "metadata": {},
   "outputs": [
    {
     "name": "stdout",
     "output_type": "stream",
     "text": [
      "True should be True\n",
      "False should be False\n",
      "True should be True\n"
     ]
    }
   ],
   "source": [
    "print(f\"{str_contains_a('abcd')} should be True\")\n",
    "print(f\"{str_contains_a('brkdskls')} should be False\")\n",
    "print(f\"{str_contains_a('brkd a skls')} should be True\")"
   ]
  },
  {
   "cell_type": "markdown",
   "metadata": {},
   "source": [
    "**8: Write a function that accepts a string as an argument, and returns how many vowels the string contains.**"
   ]
  },
  {
   "cell_type": "code",
   "execution_count": 5,
   "metadata": {},
   "outputs": [],
   "source": [
    "def num_vowels(my_str):\n",
    "    return len([i for i in my_str if i.lower() in ('a','e','i','o','u')])\n",
    "    "
   ]
  },
  {
   "cell_type": "code",
   "execution_count": 6,
   "metadata": {},
   "outputs": [
    {
     "name": "stdout",
     "output_type": "stream",
     "text": [
      "0 should be 0\n",
      "2 should be 2\n",
      "4 should be 4\n"
     ]
    }
   ],
   "source": [
    "print(f\"{num_vowels('rrrrlllwwwbcd')} should be 0\")\n",
    "print(f\"{num_vowels('brkdesklso')} should be 2\")\n",
    "print(f\"{num_vowels('brkuud a skikls')} should be 4\")"
   ]
  },
  {
   "cell_type": "markdown",
   "metadata": {},
   "source": [
    "**9:  Re-write the above function to return a dictionary, where each key is each vowel contained within the string, and its corresponding value is how many times it occurred.**"
   ]
  },
  {
   "cell_type": "code",
   "execution_count": 29,
   "metadata": {},
   "outputs": [],
   "source": [
    "# UP TO HERE"
   ]
  },
  {
   "cell_type": "code",
   "execution_count": 38,
   "metadata": {},
   "outputs": [],
   "source": [
    "def vowel_count_dict(my_str):\n",
    "    my_dict = {}\n",
    "    for vowel in ('a','e','i','o','u'):\n",
    "        if len([i for i in my_str if i.lower() == vowel]) > 0:\n",
    "            my_dict[vowel] = len([i for i in my_str if i.lower() == vowel])\n",
    "    return my_dict"
   ]
  },
  {
   "cell_type": "code",
   "execution_count": 39,
   "metadata": {},
   "outputs": [
    {
     "name": "stdout",
     "output_type": "stream",
     "text": [
      "{} should be an empty dict\n",
      "{'a': 3} should be dict 'a':3\n",
      "{'e': 3, 'i': 2} should be a dict with 'e':3, 'i':2\n"
     ]
    }
   ],
   "source": [
    "print(f\"{vowel_count_dict('rrrrlllwwwbcd')} should be an empty dict\")\n",
    "print(f\"{vowel_count_dict('aaa')} should be dict 'a':3\")\n",
    "print(f\"{vowel_count_dict('bbcdeeekkklllii')} should be a dict with 'e':3, 'i':2\")"
   ]
  },
  {
   "cell_type": "markdown",
   "metadata": {},
   "source": [
    "**10: Write a function that accepts a string as an argument, and returns how many words the string has.**"
   ]
  },
  {
   "cell_type": "code",
   "execution_count": 44,
   "metadata": {},
   "outputs": [],
   "source": [
    "def num_words(my_str):\n",
    "    return len(my_str.split())"
   ]
  },
  {
   "cell_type": "code",
   "execution_count": 45,
   "metadata": {},
   "outputs": [
    {
     "name": "stdout",
     "output_type": "stream",
     "text": [
      "1 should be 1 word\n",
      "2 should be 2 words\n",
      "3 should be 3 words\n",
      "4 should be 4 words\n"
     ]
    }
   ],
   "source": [
    "print(f\"{num_words('1')} should be 1 word\")\n",
    "print(f\"{num_words('two words')} should be 2 words\")\n",
    "print(f\"{num_words('this is three')} should be 3 words\")\n",
    "print(f\"{num_words('this is four wo.rds')} should be 4 words\")"
   ]
  },
  {
   "cell_type": "markdown",
   "metadata": {},
   "source": [
    "**11:  Write a function that accepts two arguments, and checks to see if they're the same data type.  If they are the same data type, print off what it is.  If they're not the same data type, print off the data type of each argument inside of a string.**"
   ]
  },
  {
   "cell_type": "code",
   "execution_count": 48,
   "metadata": {},
   "outputs": [],
   "source": [
    "def type_check(arg1, arg2):\n",
    "    if type(arg1) == type(arg2):\n",
    "        print(f\"Both variables are {str(type(arg1))}.\")\n",
    "    else:\n",
    "        print(f\"The first variable is {str(type(arg1))} and the second is {str(type(arg2))}.\")\n",
    "    return"
   ]
  },
  {
   "cell_type": "code",
   "execution_count": 50,
   "metadata": {},
   "outputs": [
    {
     "name": "stdout",
     "output_type": "stream",
     "text": [
      "Both variables are <class 'int'>.\n",
      "The first variable is <class 'float'> and the second is <class 'int'>.\n",
      "Both variables are <class 'str'>.\n",
      "The first variable is <class 'float'> and the second is <class 'tuple'>.\n"
     ]
    }
   ],
   "source": [
    "type_check(1,2)\n",
    "type_check(1.1,2)\n",
    "type_check('abc','dke')\n",
    "type_check(1.1, ('1','2'))"
   ]
  },
  {
   "cell_type": "markdown",
   "metadata": {},
   "source": [
    "**12: Write a function that takes two arguments, and checks for two things:**\n",
    "\n",
    " - If they are both strings\n",
    "  - If they're not, then print a message saying as much\n",
    "  - If they are, check to see if they're the same length\n",
    "   - If they are same length, print the length of each one\n",
    "   - If not same length, print a message saying as much"
   ]
  },
  {
   "cell_type": "code",
   "execution_count": 53,
   "metadata": {},
   "outputs": [],
   "source": [
    "def str_check(arg1, arg2):\n",
    "    if type(arg1) == str and type(arg2) == str:\n",
    "        if len(arg1) == len(arg2):\n",
    "            print(\"Both are strings and they are the same length.\")\n",
    "        else:\n",
    "            print(\"Both are strings, but they are different lengths\")\n",
    "    else:\n",
    "        print(\"These are not both strings.\")\n",
    "    return"
   ]
  },
  {
   "cell_type": "code",
   "execution_count": 55,
   "metadata": {},
   "outputs": [
    {
     "name": "stdout",
     "output_type": "stream",
     "text": [
      "Both are strings and they are the same length.\n",
      "Both are strings, but they are different lengths\n",
      "These are not both strings.\n"
     ]
    }
   ],
   "source": [
    "str_check('abc','de5')\n",
    "str_check('abc','49945')\n",
    "str_check(1,'abc')"
   ]
  },
  {
   "cell_type": "markdown",
   "metadata": {},
   "source": [
    "**13: Write a function that accepts a list as an argument, and returns a list that contains all the strings inside the original one.**"
   ]
  },
  {
   "cell_type": "code",
   "execution_count": 56,
   "metadata": {},
   "outputs": [],
   "source": [
    "def return_strings_in_list(my_list):\n",
    "    return [i for i in my_list if type(i) == str]"
   ]
  },
  {
   "cell_type": "code",
   "execution_count": 58,
   "metadata": {},
   "outputs": [
    {
     "name": "stdout",
     "output_type": "stream",
     "text": [
      "['abc,dlkd', '4', 'another thing']\n"
     ]
    }
   ],
   "source": [
    "print(f\"{return_strings_in_list(['abc,dlkd',3,'4',4,95,'another thing'])}\")"
   ]
  },
  {
   "cell_type": "markdown",
   "metadata": {},
   "source": [
    "**14:  Write a function that takes a list as an argument, and returns the list in reverse order.**"
   ]
  },
  {
   "cell_type": "code",
   "execution_count": 61,
   "metadata": {},
   "outputs": [],
   "source": [
    "def reverse_list(my_list):\n",
    "    my_list.reverse()\n",
    "    return my_list"
   ]
  },
  {
   "cell_type": "code",
   "execution_count": 62,
   "metadata": {},
   "outputs": [
    {
     "name": "stdout",
     "output_type": "stream",
     "text": [
      "['another thing', 95, 4, '4', 3, 'abc,dlkd']\n"
     ]
    }
   ],
   "source": [
    "print(f\"{reverse_list(['abc,dlkd',3,'4',4,95,'another thing'])}\")"
   ]
  },
  {
   "cell_type": "markdown",
   "metadata": {},
   "source": [
    "**15: Write a function that takes a string as an argument, and returns the string in reverse order**"
   ]
  },
  {
   "cell_type": "code",
   "execution_count": 88,
   "metadata": {},
   "outputs": [],
   "source": [
    "def reverse_str(my_str):\n",
    "    temp_list = []\n",
    "    temp_list[:0] = my_str\n",
    "    temp_list.reverse()\n",
    "    temp_str = ''.join(temp_list)\n",
    "    return temp_str"
   ]
  },
  {
   "cell_type": "code",
   "execution_count": 89,
   "metadata": {},
   "outputs": [
    {
     "name": "stdout",
     "output_type": "stream",
     "text": [
      "gniht rehtona\n"
     ]
    }
   ],
   "source": [
    "print(f\"{reverse_str('another thing')}\")"
   ]
  },
  {
   "cell_type": "markdown",
   "metadata": {},
   "source": [
    "**16: Write a function that takes a number as an argument, and returns the number in reverse order.  Return the value *as a number***"
   ]
  },
  {
   "cell_type": "code",
   "execution_count": 99,
   "metadata": {},
   "outputs": [],
   "source": [
    "def reverse_num(my_num):\n",
    "    my_str = str(my_num)\n",
    "    temp_list = []\n",
    "    temp_list[:0] = my_str\n",
    "    temp_list.reverse()\n",
    "    temp_str = ''.join(temp_list)\n",
    "    if type(my_num) == int: \n",
    "        temp_num = int(temp_str)\n",
    "    else:\n",
    "        temp_num = float(temp_str)\n",
    "    return temp_num"
   ]
  },
  {
   "cell_type": "code",
   "execution_count": 102,
   "metadata": {},
   "outputs": [
    {
     "name": "stdout",
     "output_type": "stream",
     "text": [
      "4891\n",
      "795141.3\n"
     ]
    }
   ],
   "source": [
    "print(f\"{reverse_num(1984)}\")\n",
    "print(f\"{reverse_num(3.141597)}\")"
   ]
  },
  {
   "cell_type": "markdown",
   "metadata": {},
   "source": [
    "**17: Write a function that takes two lists as an argument, and returns a list that contains items that are inside both lists.**"
   ]
  },
  {
   "cell_type": "code",
   "execution_count": 103,
   "metadata": {},
   "outputs": [],
   "source": [
    "def combine_lists(list_1,list_2):\n",
    "    new_list = []\n",
    "    [new_list.append(i) for i in list_1]\n",
    "    [new_list.append(i) for i in list_2]\n",
    "    return new_list"
   ]
  },
  {
   "cell_type": "code",
   "execution_count": 104,
   "metadata": {},
   "outputs": [
    {
     "name": "stdout",
     "output_type": "stream",
     "text": [
      "[3, 3, 45, 'other', 'stuf', 'my', 'favourite', 'author', 'is']\n"
     ]
    }
   ],
   "source": [
    "print(f\"{combine_lists([3,3,45,'other','stuf'],['my','favourite','author','is'])}\")"
   ]
  },
  {
   "cell_type": "markdown",
   "metadata": {},
   "source": [
    "**18:  Write a function that checks if a url is an http or https web address**"
   ]
  },
  {
   "cell_type": "code",
   "execution_count": 129,
   "metadata": {},
   "outputs": [
    {
     "ename": "SyntaxError",
     "evalue": "invalid syntax (<ipython-input-129-54394d705d3c>, line 6)",
     "output_type": "error",
     "traceback": [
      "\u001b[0;36m  File \u001b[0;32m\"<ipython-input-129-54394d705d3c>\"\u001b[0;36m, line \u001b[0;32m6\u001b[0m\n\u001b[0;31m    url_type = 'http'\u001b[0m\n\u001b[0m             ^\u001b[0m\n\u001b[0;31mSyntaxError\u001b[0m\u001b[0;31m:\u001b[0m invalid syntax\n"
     ]
    }
   ],
   "source": [
    "def check_url(my_url):\n",
    "    url_type = \"Unknown\"\n",
    "    if my_url[:6] == 'https:':\n",
    "        url_type = 'https'\n",
    "    elif my_url[:5 == 'http:':\n",
    "        url_type = 'http'\n",
    "    return url_type\n",
    "        "
   ]
  },
  {
   "cell_type": "code",
   "execution_count": 131,
   "metadata": {},
   "outputs": [
    {
     "name": "stdout",
     "output_type": "stream",
     "text": [
      "https://aksjdflak\n",
      "https\n"
     ]
    }
   ],
   "source": [
    "test_url = \"https://aksjdflak\"\n",
    "print(test_url)\n",
    "print(check_url(test_url))"
   ]
  },
  {
   "cell_type": "markdown",
   "metadata": {},
   "source": [
    "**19: Write a function that takes two strings as arguments, and returns words both strings have in common, as a list.**"
   ]
  },
  {
   "cell_type": "code",
   "execution_count": 145,
   "metadata": {},
   "outputs": [],
   "source": [
    "def common_words(string_1, string_2):\n",
    "    words_1 = string_1.lower().split()\n",
    "    words_2 = string_2.lower().split()\n",
    "    common_word_list = [i for i in words_1 if i in words_2]\n",
    "    return common_word_list"
   ]
  },
  {
   "cell_type": "code",
   "execution_count": 147,
   "metadata": {},
   "outputs": [
    {
     "name": "stdout",
     "output_type": "stream",
     "text": [
      "['this', 'is', 'harp']\n"
     ]
    }
   ],
   "source": [
    "print(common_words(\"This is a long set of words Mandalin harP\",'and . HARp . so is this'))"
   ]
  },
  {
   "cell_type": "markdown",
   "metadata": {},
   "source": [
    "**20: Write a function that accepts a dictionary as an argument, and returns all of its keys in a list**"
   ]
  },
  {
   "cell_type": "code",
   "execution_count": 151,
   "metadata": {},
   "outputs": [],
   "source": [
    "def return_keys(my_dict):\n",
    "    dict_keys = []\n",
    "    for k in my_dict.keys():\n",
    "        dict_keys.append(k)\n",
    "    return dict_keys"
   ]
  },
  {
   "cell_type": "code",
   "execution_count": 152,
   "metadata": {},
   "outputs": [
    {
     "name": "stdout",
     "output_type": "stream",
     "text": [
      "[1, 3, 'albert']\n"
     ]
    }
   ],
   "source": [
    "print(return_keys({1:'abc',3:'abc','albert':\"fleming\"}))"
   ]
  },
  {
   "cell_type": "markdown",
   "metadata": {},
   "source": [
    "**21: Write a function that accepts a dictionary as an argument, and returns all of its values in a list.**"
   ]
  },
  {
   "cell_type": "code",
   "execution_count": 155,
   "metadata": {},
   "outputs": [],
   "source": [
    "def return_values(my_dict):\n",
    "    dict_values = []\n",
    "    for v in my_dict.values():\n",
    "        dict_values.append(v)\n",
    "    return dict_values"
   ]
  },
  {
   "cell_type": "code",
   "execution_count": 156,
   "metadata": {},
   "outputs": [
    {
     "name": "stdout",
     "output_type": "stream",
     "text": [
      "['abc', 'abc', 'fleming']\n"
     ]
    }
   ],
   "source": [
    "print(return_values({1:'abc',3:'abc','albert':\"fleming\"}))"
   ]
  },
  {
   "cell_type": "markdown",
   "metadata": {},
   "source": [
    "**22:  Write a function that takes a list as an argument, and returns a dictionary that contains each unique element inside it, and how often it occurs.** "
   ]
  },
  {
   "cell_type": "code",
   "execution_count": 165,
   "metadata": {},
   "outputs": [],
   "source": [
    "def list_element_count(my_list):\n",
    "    unique_elements = set(my_list)\n",
    "    element_count = {}\n",
    "    for i in unique_elements:\n",
    "        element_count[i] = my_list.count(i)\n",
    "    return element_count\n",
    "    "
   ]
  },
  {
   "cell_type": "code",
   "execution_count": 166,
   "metadata": {},
   "outputs": [
    {
     "name": "stdout",
     "output_type": "stream",
     "text": [
      "{1: 2, 'abc': 2, 'foxtrot': 2, 'cater': 3, 'alpha': 1, 'bravo': 1, 'def': 4}\n"
     ]
    }
   ],
   "source": [
    "print(list_element_count(['def','def',1,'abc','abc','cater','foxtrot','cater','cater',1,'def','def','alpha','bravo','foxtrot']))"
   ]
  },
  {
   "cell_type": "markdown",
   "metadata": {},
   "source": [
    "**Part II: Functions that contain optional arguments.**\n",
    "\n",
    "Lots of functions are made more useful by containing additional parameters which determine how they should behave.  Try constructing the functions described, with the arguments mentioned."
   ]
  },
  {
   "cell_type": "markdown",
   "metadata": {},
   "source": [
    "**23: Rewrite function 19, except *this time*, add an argument called `case_sensitive`.  It should be a boolean value.  If `True`, the results are sensitive to whether or not the word are upper case or lower cased.  If `False`, then they're not.**"
   ]
  },
  {
   "cell_type": "code",
   "execution_count": 174,
   "metadata": {},
   "outputs": [],
   "source": [
    "def common_words(string_1, string_2, case_sensitive = False):\n",
    "    if case_sensitive == False:\n",
    "        words_1 = string_1.lower().split()\n",
    "        words_2 = string_2.lower().split()\n",
    "    else:\n",
    "        words_1 = string_1.split()\n",
    "        words_2 = string_2.split()\n",
    "    common_word_list = [i for i in words_1 if i in words_2]\n",
    "    return common_word_list"
   ]
  },
  {
   "cell_type": "code",
   "execution_count": 175,
   "metadata": {},
   "outputs": [
    {
     "name": "stdout",
     "output_type": "stream",
     "text": [
      "['this', 'is', 'harp']\n",
      "['this', 'is', 'harp']\n",
      "['is']\n"
     ]
    }
   ],
   "source": [
    "print(common_words(\"This is a long set of words Mandalin harP\",'and . HARp . so is this'))\n",
    "print(common_words(\"This is a long set of words Mandalin harP\",'and . HARp . so is this',False))\n",
    "print(common_words(\"This is a long set of words Mandalin harP\",'and . HARp . so is this',True))"
   ]
  },
  {
   "cell_type": "markdown",
   "metadata": {},
   "source": [
    "**24: Write a function that returns all the files of a particular type in a directory.  The default directory should be the current one.  There should be an additional argument called `type` that specifies what file type to check for.  The default value should be `csv`, but users should be able to specify to look for either `html` and `pdf` files as well.**\n",
    "\n",
    "Results should be returned in a list."
   ]
  },
  {
   "cell_type": "code",
   "execution_count": 193,
   "metadata": {},
   "outputs": [],
   "source": [
    "import os\n",
    "def search_for_files(target_dir = os.getcwd(), file_type = '.csv'):\n",
    "    if file_type not in ('.csv','.html','.pdf','.ipynb'):\n",
    "        return 'Allowed file types:\\n.csv\\n.html\\n.pdf'\n",
    "    else:\n",
    "        file_list = []\n",
    "        file_type_len = len(file_type)\n",
    "        for f in os.listdir(target_dir):\n",
    "            if f[-1*file_type_len:] == file_type:\n",
    "                file_list.append(f)\n",
    "        return file_list"
   ]
  },
  {
   "cell_type": "code",
   "execution_count": 182,
   "metadata": {},
   "outputs": [
    {
     "name": "stdout",
     "output_type": "stream",
     "text": [
      "/Users/PRSmb/OneDrive/General-Assembly/my-1019-repo/ClassMaterial/Bonus Notebooks/Unit1\n"
     ]
    }
   ],
   "source": [
    "print(os.getcwd())"
   ]
  },
  {
   "cell_type": "code",
   "execution_count": 203,
   "metadata": {},
   "outputs": [
    {
     "name": "stdout",
     "output_type": "stream",
     "text": [
      "['Functions II-Solutions.ipynb', 'python-functions.ipynb', 'Loops -- Practice.ipynb', 'python-functions-solutions.ipynb', 'Loops -- Practice -- Solutions.ipynb', 'Functions II.ipynb']\n",
      "The files are:\n",
      "-Functions II-Solutions.ipynb\n",
      "-python-functions.ipynb\n",
      "-Loops -- Practice.ipynb\n",
      "-python-functions-solutions.ipynb\n",
      "-Loops -- Practice -- Solutions.ipynb\n",
      "-Functions II.ipynb\n"
     ]
    }
   ],
   "source": [
    "print(search_for_files(file_type = '.ipynb'))\n",
    "print(\"The files are:\",*search_for_files(file_type = '.ipynb'),sep='\\n-')"
   ]
  },
  {
   "cell_type": "markdown",
   "metadata": {},
   "source": [
    "**25: Write a function that accepts a dictionary as an argument, and returns a list containing each key/value pair inside a tuple.  Include an additional argument called `to_include`.  The `to_include` argument should specify whether or not you should return the keys, values, or both inside of a list.  The default setting should be to return key/value pairs.**"
   ]
  },
  {
   "cell_type": "code",
   "execution_count": 225,
   "metadata": {},
   "outputs": [],
   "source": [
    "def return_dict_tuple_list(my_dict,to_include = 'kv'):\n",
    "    include_keys = True\n",
    "    include_values = True\n",
    "    my_list = []\n",
    "    if 'k' not in to_include: include_keys = False\n",
    "    if 'v' not in to_include: include_values = False\n",
    "    for key in my_dict:\n",
    "        if include_keys == True and include_values == True:\n",
    "            my_list.append((key,my_dict[key]))\n",
    "        elif include_keys == True and include_values == False:\n",
    "            my_list.append((key,))\n",
    "        elif include_keys == False and include_values == True:\n",
    "            my_list.append((my_dict[key],))\n",
    "        else:\n",
    "            return 'ERROR - specify k(keys), v(values) or both.'\n",
    "    return my_list"
   ]
  },
  {
   "cell_type": "code",
   "execution_count": 226,
   "metadata": {},
   "outputs": [
    {
     "name": "stdout",
     "output_type": "stream",
     "text": [
      "{'a': 394, 'b': 494, '394': 'dkeis', 'brand': 'Ford', 'model': 'Mustang', 'year': 1964}\n",
      "[('a', 394), ('b', 494), ('394', 'dkeis'), ('brand', 'Ford'), ('model', 'Mustang'), ('year', 1964)]\n",
      "[('a',), ('b',), ('394',), ('brand',), ('model',), ('year',)]\n",
      "[(394,), (494,), ('dkeis',), ('Ford',), ('Mustang',), (1964,)]\n"
     ]
    }
   ],
   "source": [
    "test_dict = {\n",
    "    'a':394,\n",
    "    'b':494,\n",
    "    '394':'dkeis',\n",
    "    \"brand\": \"Ford\",\n",
    "    \"model\": \"Mustang\",\n",
    "    \"year\": 1964\n",
    "}\n",
    "print(test_dict)\n",
    "print(return_dict_tuple_list(test_dict))\n",
    "print(return_dict_tuple_list(test_dict,'k'))\n",
    "print(return_dict_tuple_list(test_dict,'v'))"
   ]
  },
  {
   "cell_type": "code",
   "execution_count": null,
   "metadata": {},
   "outputs": [],
   "source": []
  }
 ],
 "metadata": {
  "kernelspec": {
   "display_name": "Python 3",
   "language": "python",
   "name": "python3"
  },
  "language_info": {
   "codemirror_mode": {
    "name": "ipython",
    "version": 3
   },
   "file_extension": ".py",
   "mimetype": "text/x-python",
   "name": "python",
   "nbconvert_exporter": "python",
   "pygments_lexer": "ipython3",
   "version": "3.6.11"
  }
 },
 "nbformat": 4,
 "nbformat_minor": 2
}
