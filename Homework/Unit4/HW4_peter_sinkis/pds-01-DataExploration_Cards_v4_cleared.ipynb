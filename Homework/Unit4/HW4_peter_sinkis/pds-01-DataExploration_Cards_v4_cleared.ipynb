{
 "cells": [
  {
   "cell_type": "code",
   "execution_count": null,
   "metadata": {},
   "outputs": [],
   "source": [
    "import numpy as np\n",
    "import pandas as pd\n",
    "import json\n",
    "import re\n"
   ]
  },
  {
   "cell_type": "code",
   "execution_count": null,
   "metadata": {},
   "outputs": [],
   "source": [
    "#pd.options.display.max_columns=None\n",
    "#pd.options.display.max_rows=None\n",
    "#pd.options.display.max_colwidth=250\n",
    "#pd.options.display.max_seq_items=500"
   ]
  },
  {
   "cell_type": "code",
   "execution_count": null,
   "metadata": {},
   "outputs": [],
   "source": []
  },
  {
   "cell_type": "markdown",
   "metadata": {},
   "source": [
    "# Summarise key steps:\n"
   ]
  },
  {
   "cell_type": "code",
   "execution_count": null,
   "metadata": {},
   "outputs": [],
   "source": [
    "# Import data\n",
    "# Data sourced from: https://mtgjson.com/api/v5/AllPrintingsCSVFiles.zip\n",
    "card_dtypes = {\n",
    "    'colors':np.object,\n",
    "    'faceConvertedManaCost':np.object,\n",
    "    'flavorText': np.object,\n",
    "    'frameEffects': np.object,\n",
    "    'leadershipSkills': np.object,\n",
    "    'name': np.object,\n",
    "    'text': np.object,\n",
    "}\n",
    "\n",
    "df_base = pd.read_csv(\"../resources/cards.csv\",dtype=card_dtypes,low_memory=False)\n",
    "\n",
    "# Remove key rows\n",
    "df_base = df_base[(df_base.isOnlineOnly == 0)]\n",
    "df_base = df_base[(df_base.isOversized == 0)]\n",
    "df_base = df_base[(df_base.isPromo == 0)]\n",
    "df_base = df_base[~(df_base.layout == 'vanguard')]\n",
    "\n",
    "\n",
    "# Keep fields likely to support data feature build\n",
    "df = df_base[[\n",
    "    'index',\n",
    "    'id',\n",
    "    'colorIdentity',\n",
    "    'colorIndicator',\n",
    "    'colors',\n",
    "    'convertedManaCost',\n",
    "    'faceConvertedManaCost',\n",
    "    'faceName',\n",
    "    'flavorText',\n",
    "    'hand',\n",
    "    'hasAlternativeDeckLimit',\n",
    "    'isOnlineOnly',\n",
    "    'isOversized',\n",
    "    'isPromo',\n",
    "    'isReprint',\n",
    "    'isReserved',\n",
    "    'isStarter',\n",
    "    'isTextless',\n",
    "    'keywords',\n",
    "    'layout',\n",
    "    'leadershipSkills',\n",
    "    'life',\n",
    "    'loyalty',\n",
    "    'manaCost',\n",
    "    'multiverseId',\n",
    "    'name',\n",
    "    'number',\n",
    "    'otherFaceIds',\n",
    "    'power',\n",
    "    'printings',\n",
    "    'rarity',\n",
    "    'setCode',\n",
    "    'side',\n",
    "    'subtypes',\n",
    "    'supertypes',\n",
    "    'text',\n",
    "    'toughness',\n",
    "    'type',\n",
    "    'types',\n",
    "    'uuid',\n",
    "    'variations',\n",
    "    'watermark'\n",
    "]].copy()\n",
    "\n",
    "############################################################\n",
    "############################################################\n",
    "\n",
    "# Create unique row per card name / allowing for multiple faces (i.e. names may be duplicated)\n",
    "# 'side' needs to be filled in or groupby portion of statement doesn't work properly\n",
    "df['side'].fillna('normal',inplace=True)\n",
    "df['name_row'] = df.sort_values(by='id',ascending=True).groupby(['name','side']).cumcount() + 1\n",
    "df = df[(df['name_row'] == 1)]\n",
    "\n",
    "# Flag double layout cards\n",
    "df['double_layout'] = 1\n",
    "df['double_layout'].where(df['layout'].isin(['transform','split','adventure','modal_dfc','flip','aftermath','meld']),0,inplace=True)\n",
    "\n",
    "\n",
    "############################################################\n",
    "############################################################\n",
    "\n",
    "\n",
    "# Add in mana cost counts\n",
    "df['manaCost_NA'] = df.manaCost.isna()*1 # Column to flag NA values for manaCost\n",
    "df['manaCost'].fillna('{none}',inplace=True) # Use '{none}' in lower case, since all other manaCost letters in upper case.\n",
    "df['manaCost_Generic_count'] = np.where(df.manaCost.str.contains('\\{[\\d]+?\\}'),df.manaCost.str.extract('\\{([\\d]+?)\\}',expand=False),0)\n",
    "df['manaCost_W_count'] = df.manaCost.str.count('{W}')\n",
    "df['manaCost_U_count'] = df.manaCost.str.count('{U}')\n",
    "df['manaCost_B_count'] = df.manaCost.str.count('{B}')\n",
    "df['manaCost_R_count'] = df.manaCost.str.count('{R}')\n",
    "df['manaCost_G_count'] = df.manaCost.str.count('{G}')\n",
    "df['manaCost_C_count'] = df.manaCost.str.count('{C}')\n",
    "df['manaCost_WP_count'] = df.manaCost.str.count('{W/P}')\n",
    "df['manaCost_UP_count'] = df.manaCost.str.count('{B/P}')\n",
    "df['manaCost_BP_count'] = df.manaCost.str.count('{U/P}')\n",
    "df['manaCost_RP_count'] = df.manaCost.str.count('{R/P}')\n",
    "df['manaCost_GP_count'] = df.manaCost.str.count('{G/P}')\n",
    "df['manaCost_H_WU_count'] = df.manaCost.str.count('{W/U}')\n",
    "df['manaCost_H_UB_count'] = df.manaCost.str.count('{U/B}')\n",
    "df['manaCost_H_BR_count'] = df.manaCost.str.count('{B/R}')\n",
    "df['manaCost_H_RG_count'] = df.manaCost.str.count('{R/G}')\n",
    "df['manaCost_H_GW_count'] = df.manaCost.str.count('{G/W}')\n",
    "df['manaCost_H_WB_count'] = df.manaCost.str.count('{W/B}')\n",
    "df['manaCost_H_UR_count'] = df.manaCost.str.count('{U/R}')\n",
    "df['manaCost_H_BG_count'] = df.manaCost.str.count('{B/G}')\n",
    "df['manaCost_H_RW_count'] = df.manaCost.str.count('{R/W}')\n",
    "df['manaCost_H_GU_count'] = df.manaCost.str.count('{G/U}')\n",
    "df['manaCost_H_2W_count'] = df.manaCost.str.count('{2/W}')\n",
    "df['manaCost_H_2U_count'] = df.manaCost.str.count('{2/U}')\n",
    "df['manaCost_H_2B_count'] = df.manaCost.str.count('{2/B}')\n",
    "df['manaCost_H_2R_count'] = df.manaCost.str.count('{2/R}')\n",
    "df['manaCost_H_2G_count'] = df.manaCost.str.count('{2/G}')\n",
    "df['manaCost_X_count'] = df.manaCost.str.count('{X}')\n",
    "df['manaCost_Y_count'] = df.manaCost.str.count('{Y}')\n",
    "df['manaCost_Z_count'] = df.manaCost.str.count('{Z}')\n",
    "df['manaCost_Snow_count'] = df.manaCost.str.count('{S}')\n",
    "df['manaCost_HW_count'] = df.manaCost.str.count('{HW}')\n",
    "\n",
    "############################################################\n",
    "############################################################\n",
    "\n",
    "# OneHot Encode all keywords in the data, and add some other info related to keywords\n",
    "df['keywords_NA'] = df.keywords.isna()*1\n",
    "df.keywords.fillna('{none}',inplace=True)\n",
    "df['keywords_count'] = [len(i) for i in df.keywords.str.split(',').tolist()] * np.where(df.keywords_NA,0,1)\n",
    "\n",
    "\n",
    "all_keywords = df.keywords.str.split(\",\").tolist()\n",
    "unique_keywords = []\n",
    "\n",
    "for i in all_keywords:\n",
    "    for j in i:\n",
    "        if j != '{none}':\n",
    "            j.capitalize()\n",
    "            unique_keywords.append(j)\n",
    "unique_keywords = set(unique_keywords)\n",
    "unique_keywords = list(unique_keywords)\n",
    "unique_keywords.sort()\n",
    "\n",
    "for keyword in unique_keywords:\n",
    "    col_name = 'keyword_' + keyword.replace(' ','_')\n",
    "    df[col_name] = df.keywords.str.contains(keyword) * 1\n",
    "\n",
    "############################################################\n",
    "############################################################\n",
    "\n",
    "\n",
    "# Other effects ############################################################\n",
    "\n",
    "df['text_NA'] = df.keywords.isna()*1\n",
    "df.text.fillna('{none}',inplace=True)\n",
    "\n",
    "# Drawing cards (generally a benefit)\n",
    "df_draw_cards = df.text.str.extract('[Dd]raw(?!\\s[Ss]tep)\\s(.*?)card?')\n",
    "df_draw_cards.rename({0:'extract_text'},axis=1,inplace=True)\n",
    "df_draw_cards.fillna(0,inplace=True)\n",
    "\n",
    "cond = [\n",
    "    df_draw_cards['extract_text'].str[0] == 'a',\n",
    "    df_draw_cards['extract_text'].str[0:3] == 'two',\n",
    "    df_draw_cards['extract_text'].str[0:5] == 'three',\n",
    "    df_draw_cards['extract_text'].str[0:4] == 'four',\n",
    "    df_draw_cards['extract_text'].str[0:4] == 'five',\n",
    "    df_draw_cards['extract_text'].str[0:3] == 'six',\n",
    "    df_draw_cards['extract_text'].str[0:5] == 'seven',\n",
    "    df_draw_cards['extract_text'].str[0:5] == 'eight',\n",
    "    df_draw_cards['extract_text'].str[0:4] == 'nine',\n",
    "    df_draw_cards['extract_text'].str[0:5] == 'half X',\n",
    "    df_draw_cards['extract_text'].str[0:0] == 'X'\n",
    "]\n",
    "\n",
    "output = [1,2,3,4,5,6,7,8,9,15,20]\n",
    "\n",
    "df['effect_draw_cards'] = np.select(cond,output,default=0)\n",
    "\n",
    "# Beneficial discards (i.e. apply to opponent / target player - since generally you choose your opponent, unless you're drawing cards)\n",
    "df_extract = (df.text.str.contains('[Tt]arget\\s(opponent|player).*[Dd]iscards\\s.*?card?',case=False))\n",
    "df['effect_discard_target_player'] = df_extract*1\n",
    "\n",
    "# Discard own cards (cost)\n",
    "df_extract = (df.text.str.contains('Discard\\s.*?card?',case=False))\n",
    "df['effect_discard_own_cards'] = df_extract*1\n",
    "\n",
    "# Loot ability dummy variable\n",
    "df_extract = (df.text.str.contains('[Dd]raw a card, then discard a card',case=False))\n",
    "df['effect_loot'] = df_extract*1\n",
    "\n",
    "# Destroy effects / exile effects\n",
    "# Note - are just treating destroy and exile as identical effects for now, for the purpose of getting a model working\n",
    "#        ideally would split these up, and allow for some more nuance\n",
    "# Note - need to go back and check interaction of nonland and permanent to make sure it is handle properly\n",
    "df_extract_nonland = df.text.str.contains('([Dd]estroy|[Ee]xile)\\s.*target.*?nonland(?=\\.|\\s)?')*1\n",
    "df_extract_permanent = df.text.str.contains('([Dd]estroy|[Ee]xile)\\s.*target.*(?<!nonland\\s)permanent(?=\\.|\\s)?')*1\n",
    "\n",
    "df_extract = df.text.str.contains('([Dd]estroy|[Ee]xile)\\s.*target.*artifact?(\\.|\\s)')*1\n",
    "df['effect_destroy_artifact'] = df_extract + df_extract_nonland + df_extract_permanent\n",
    "\n",
    "df_extract = df.text.str.contains('([Dd]estroy|[Ee]xile)\\s.*target.*creature?(\\.|\\s)')*1\n",
    "df['effect_destroy_creature'] = df_extract + df_extract_nonland + df_extract_permanent\n",
    "\n",
    "df_extract = df.text.str.contains('([Dd]estroy|[Ee]xile)\\s.*target.*?(?<!is)(?<!non)land(?!walk)(?=\\.|\\s)?')*1\n",
    "df['effect_destroy_land'] = df_extract + df_extract_permanent\n",
    "\n",
    "df_extract = df.text.str.contains('([Dd]estroy|[Ee]xile)\\s.*target.*?enchantment(?=\\.|\\s)?')*1\n",
    "df['effect_destroy_enchantment'] = df_extract + df_extract_nonland + df_extract_permanent\n",
    "\n",
    "df_extract = df.text.str.contains('([Dd]estroy|[Ee]xile)\\s.*target.*?planeswalker(?=\\.|\\s)?')*1\n",
    "df['effect_destroy_planeswalker'] = df_extract + df_extract_nonland + df_extract_permanent\n",
    "\n",
    "# Destroying 'all' creatures\n",
    "df_extract = df.text.str.contains('([Dd]estroy|[Ee]xile)\\s.*all.*creatures(?=\\.|\\s)?')*1\n",
    "df['effect_destroy_all_creatures'] = df_extract\n",
    "\n",
    "# Deals damage effects\n",
    "# Focus on damage to others, and excludes comabat damage to... triggers\n",
    "df_extract = df.text.str.contains('(deals)+\\s[\\dX]*.*(?!combat\\s)(damage)\\sto(?!\\syou)')\n",
    "df['effect_deals_damage'] = df_extract*1\n",
    "\n",
    "# Counter spell effects\n",
    "df_extract = df.text.str.contains('[Cc]ounter.*spell')\n",
    "df['effect_counter_target_spell'] = df_extract*1\n",
    "\n",
    "# Enters the battlefield effect\n",
    "df_extract = df.text.str.contains('[Ee]nter(s)?\\sthe\\sbattlefield')\n",
    "df['effect_enter_the_battlefield'] = df_extract*1\n",
    "\n",
    "df_extract = df.text.str.contains('[Ee]nter(s)?\\sthe\\sbattlefield.*[Ss]acrifice\\sit')\n",
    "df['effect_enter_the_battlefield_sacrific_it'] = df_extract*1\n",
    "\n",
    "# Activate ability as an effect\n",
    "df_extract = df.text.str.count('.*:.*')\n",
    "df['effect_has_activated_ability'] = df_extract*1\n",
    "\n",
    "############################################################\n",
    "############################################################\n",
    "\n",
    "# Set up base lines for efficiency metrics\n",
    "\n",
    "# Power + Toughness \n",
    "# P+T Clean up power\n",
    "df.power.fillna('{none}',inplace=True)\n",
    "df['power_clean'] = 0\n",
    "df['power_clean'] = np.where(df.power.str.contains('\\D(?<![{noe}])'),1,0)\n",
    "df['power_clean'] = [max(i/2,1) for i in df['convertedManaCost'].tolist()] * np.float64(df['power_clean'])\n",
    "df['power_clean'] = np.where(df['power_clean']==0,df['power'],df['power_clean'])\n",
    "df['power_clean'] = np.where(df['power_clean']=='{none}',0,df['power_clean'])\n",
    "\n",
    "# P+T Clean up toughness\n",
    "\n",
    "df.toughness.fillna('{none}',inplace=True)\n",
    "df['toughness_clean'] = 0\n",
    "df['toughness_clean'] = np.where(df.toughness.str.contains('\\D(?<![{noe}])'),1,0)\n",
    "df['toughness_clean'] = [max(i/2,1) for i in df['convertedManaCost'].tolist()] * np.float64(df['toughness_clean'])\n",
    "df['toughness_clean'] = np.where(df['toughness_clean']==0,df['toughness'],df['toughness_clean'])\n",
    "df['toughness_clean'] = np.where(df['toughness_clean']=='{none}',0,df['toughness_clean'])\n",
    "\n",
    "# P+T Calculation\n",
    "df['power_plus_toughness'] = np.float64(df['power_clean']) + np.float64(df['toughness_clean'])\n",
    "df['power_plus_toughness']  = np.float64(df['power_plus_toughness'])\n",
    "\n",
    "# Count keywords and effects\n",
    "def sum_columns_starting_with(df, col_name_str):\n",
    "    col_name_match_len = len(col_name_str)\n",
    "    col_list = [i for i in df.columns.tolist() if str(i)[0:col_name_match_len] == col_name_str]\n",
    "    sum_values = []\n",
    "    temp_list = []\n",
    "    for i in col_list:\n",
    "        if sum_values==[]:\n",
    "            sum_values = df[i].tolist()\n",
    "        else:\n",
    "            sum_values = [a+b for a,b in zip(sum_values, df[i])]\n",
    "    return sum_values\n",
    "\n",
    "df['keyword_count'] = sum_columns_starting_with(df,'keyword_')\n",
    "df['effect_count'] = sum_columns_starting_with(df,'effect_')\n",
    "\n",
    "# Calculate effieciency ratings\n",
    "df['efficiency_power'] = np.where(df['convertedManaCost'].gt(0),np.float64(df['power_clean'])/df['convertedManaCost'],0)\n",
    "df['efficiency_toughness'] = np.where(df['convertedManaCost'].gt(0),np.float64(df['toughness_clean'])/df['convertedManaCost'],0)\n",
    "df['efficiency_p_plus_t'] = np.where(df['convertedManaCost'].gt(0),np.float64(df['power_plus_toughness'])/df['convertedManaCost'],0)\n",
    "df['efficiency_keywords'] = np.where(df['convertedManaCost'].gt(0),np.float64(df['keyword_count'])/df['convertedManaCost'],0)\n",
    "df['efficiency_effects'] = np.where(df['convertedManaCost'].gt(0),np.float64(df['effect_count'])/df['convertedManaCost'],0)\n",
    "\n",
    "def max_columns_starting_with(df, col_name_str):\n",
    "    col_name_match_len = len(col_name_str)\n",
    "    col_list = [i for i in df.columns.tolist() if str(i)[0:col_name_match_len] == col_name_str]\n",
    "    max_values = []\n",
    "    temp_list = []\n",
    "    for i in col_list:\n",
    "        if max_values==[]:\n",
    "            max_values = df[i].tolist()\n",
    "        else:\n",
    "            max_values = [max(a,b) for a,b in zip(max_values, df[i])]\n",
    "    return max_values\n",
    "\n",
    "df['efficiency_power'] = np.where((df.convertedManaCost==0) & ~(df['type'].str.contains(\"Land\")),12,df['efficiency_power'])\n",
    "df['efficiency_toughness'] = np.where((df.convertedManaCost==0) & ~(df['type'].str.contains(\"Land\")),12,df['efficiency_toughness'])\n",
    "df['efficiency_p_plus_t'] = np.where((df.convertedManaCost==0) & ~(df['type'].str.contains(\"Land\")),12,df['efficiency_p_plus_t'])\n",
    "df['efficiency_keywords'] = np.where((df.convertedManaCost==0) & ~(df['type'].str.contains(\"Land\")),12,df['efficiency_keywords'])\n",
    "df['efficiency_effects'] = np.where((df.convertedManaCost==0) & ~(df['type'].str.contains(\"Land\")),12,df['efficiency_effects'])\n",
    "\n",
    "df['efficiency_max'] = max_columns_starting_with(df,'efficiency_')\n",
    "\n",
    "\n",
    "\n",
    "print('Card metrics data frame ready')\n"
   ]
  },
  {
   "cell_type": "code",
   "execution_count": null,
   "metadata": {},
   "outputs": [],
   "source": [
    "df.columns.tolist()"
   ]
  },
  {
   "cell_type": "code",
   "execution_count": null,
   "metadata": {
    "scrolled": true
   },
   "outputs": [],
   "source": [
    "# Some checks!\n",
    "df[(df['name']=='Shivan Dragon')]\n",
    "# df[df.name=='Wear // Tear']"
   ]
  },
  {
   "cell_type": "markdown",
   "metadata": {},
   "source": [
    "# Play / workings"
   ]
  },
  {
   "cell_type": "code",
   "execution_count": null,
   "metadata": {},
   "outputs": [],
   "source": [
    "# Import data\n",
    "card_dtypes = {\n",
    "    'colors':np.object,\n",
    "    'faceConvertedManaCost':np.object,\n",
    "    'flavorText': np.object,\n",
    "    'frameEffects': np.object,\n",
    "    'leadershipSkills': np.object,\n",
    "    'name': np.object,\n",
    "    'text': np.object,\n",
    "}\n",
    "\n",
    "df_base = pd.read_csv(\"../resources/cards.csv\",dtype=card_dtypes,low_memory=False)\n",
    "\n"
   ]
  },
  {
   "cell_type": "code",
   "execution_count": null,
   "metadata": {},
   "outputs": [],
   "source": []
  },
  {
   "cell_type": "code",
   "execution_count": null,
   "metadata": {},
   "outputs": [],
   "source": []
  },
  {
   "cell_type": "code",
   "execution_count": null,
   "metadata": {},
   "outputs": [],
   "source": [
    "df_base.info()"
   ]
  },
  {
   "cell_type": "code",
   "execution_count": null,
   "metadata": {},
   "outputs": [],
   "source": []
  },
  {
   "cell_type": "markdown",
   "metadata": {},
   "source": [
    "# Things to to do\n",
    "\n",
    "## Remove before isolating rows:\n",
    "**Remove out of scope cards**\n",
    "* isOnlineOnly == 1\n",
    "* isOversized == 1\n",
    "* isPromo == 1\n",
    "* layout == 'Vanguard'\n",
    "\n",
    "**Address nan issues:**\n",
    "* side"
   ]
  },
  {
   "cell_type": "code",
   "execution_count": null,
   "metadata": {},
   "outputs": [],
   "source": [
    "df_base.shape"
   ]
  },
  {
   "cell_type": "code",
   "execution_count": null,
   "metadata": {},
   "outputs": [],
   "source": [
    "df_base = df_base[(df_base.isOnlineOnly == 0)] # Removes online only cards so they can't end up in final data set"
   ]
  },
  {
   "cell_type": "code",
   "execution_count": null,
   "metadata": {},
   "outputs": [],
   "source": [
    "df_base = df_base[(df_base.isOversized == 0)] # Removes oversized versions of cards so they can't end up in final data set"
   ]
  },
  {
   "cell_type": "code",
   "execution_count": null,
   "metadata": {},
   "outputs": [],
   "source": [
    "df_base = df_base[(df_base.isPromo == 0)] # Removes promo versions of cards so they can't end up in final data set"
   ]
  },
  {
   "cell_type": "code",
   "execution_count": null,
   "metadata": {},
   "outputs": [],
   "source": [
    "df_base = df_base[~(df_base.layout == 'vanguard')].shape # Removes vanguard versions of cards so they can't end up in final data set"
   ]
  },
  {
   "cell_type": "code",
   "execution_count": null,
   "metadata": {},
   "outputs": [],
   "source": [
    "df_base[(df_base['name']=='Shivan Dragon')]"
   ]
  },
  {
   "cell_type": "code",
   "execution_count": null,
   "metadata": {},
   "outputs": [],
   "source": [
    "# Keep fields likely to support data feature build\n",
    "df = df_base[[\n",
    "    'index',\n",
    "    'id',\n",
    "    'colorIdentity',\n",
    "    'colorIndicator',\n",
    "    'colors',\n",
    "    'convertedManaCost',\n",
    "    'faceConvertedManaCost',\n",
    "    'faceName',\n",
    "    'flavorText',\n",
    "    'hand',\n",
    "    'hasAlternativeDeckLimit',\n",
    "    'isOnlineOnly',\n",
    "    'isOversized',\n",
    "    'isPromo',\n",
    "    'isReprint',\n",
    "    'isReserved',\n",
    "    'isStarter',\n",
    "    'isTextless',\n",
    "    'keywords',\n",
    "    'layout',\n",
    "    'leadershipSkills',\n",
    "    'life',\n",
    "    'loyalty',\n",
    "    'manaCost',\n",
    "    'multiverseId',\n",
    "    'name',\n",
    "    'number',\n",
    "    'otherFaceIds',\n",
    "    'power',\n",
    "    'printings',\n",
    "    'rarity',\n",
    "    'setCode',\n",
    "    'side',\n",
    "    'subtypes',\n",
    "    'supertypes',\n",
    "    'text',\n",
    "    'toughness',\n",
    "    'type',\n",
    "    'types',\n",
    "    'uuid',\n",
    "    'variations',\n",
    "    'watermark'\n",
    "]].copy()"
   ]
  },
  {
   "cell_type": "code",
   "execution_count": null,
   "metadata": {},
   "outputs": [],
   "source": [
    "df[df.name=='Shivan Dragon']"
   ]
  },
  {
   "cell_type": "code",
   "execution_count": null,
   "metadata": {},
   "outputs": [],
   "source": [
    "df[df.name=='Wear // Tear']"
   ]
  },
  {
   "cell_type": "code",
   "execution_count": null,
   "metadata": {},
   "outputs": [],
   "source": [
    "df[df.name==\"Jace, Vryn's Prodigy // Jace, Telepath Unbound\"]"
   ]
  },
  {
   "cell_type": "code",
   "execution_count": null,
   "metadata": {},
   "outputs": [],
   "source": [
    "df[df.name==\"Jace, Vryn's Prodigy // Jace, Telepath Unbound\"].groupby(['name','side']).cumcount()+1"
   ]
  },
  {
   "cell_type": "code",
   "execution_count": null,
   "metadata": {},
   "outputs": [],
   "source": []
  },
  {
   "cell_type": "code",
   "execution_count": null,
   "metadata": {},
   "outputs": [],
   "source": [
    "df['side'].fillna('normal',inplace=True)"
   ]
  },
  {
   "cell_type": "code",
   "execution_count": null,
   "metadata": {},
   "outputs": [],
   "source": [
    "# Add an column that add rownumbers based on the combination of name / side\n",
    "df['name_row'] = df.sort_values(by='id',ascending=True).groupby(['name','side']).cumcount() + 1"
   ]
  },
  {
   "cell_type": "code",
   "execution_count": null,
   "metadata": {},
   "outputs": [],
   "source": [
    "df[df.name==\"Shivan Dragon\"].isnull().sum()"
   ]
  },
  {
   "cell_type": "code",
   "execution_count": null,
   "metadata": {},
   "outputs": [],
   "source": [
    "df = df[(df['name_row']==1)].copy()"
   ]
  },
  {
   "cell_type": "code",
   "execution_count": null,
   "metadata": {},
   "outputs": [],
   "source": [
    "df.isnull().sum()"
   ]
  },
  {
   "cell_type": "code",
   "execution_count": null,
   "metadata": {},
   "outputs": [],
   "source": [
    "df[(df['colorIdentity'].isnull())]"
   ]
  },
  {
   "cell_type": "code",
   "execution_count": null,
   "metadata": {},
   "outputs": [],
   "source": [
    "df[(df['isOnlineOnly']==1)]"
   ]
  },
  {
   "cell_type": "code",
   "execution_count": null,
   "metadata": {},
   "outputs": [],
   "source": [
    "df['faceConvertedManaCost'].value_counts()"
   ]
  },
  {
   "cell_type": "code",
   "execution_count": null,
   "metadata": {},
   "outputs": [],
   "source": [
    "df[(df['faceConvertedManaCost'].notna())]"
   ]
  },
  {
   "cell_type": "code",
   "execution_count": null,
   "metadata": {},
   "outputs": [],
   "source": [
    "df['layout'].value_counts()"
   ]
  },
  {
   "cell_type": "markdown",
   "metadata": {},
   "source": [
    "## Need to find a way to handle double faced cards in a single row"
   ]
  },
  {
   "cell_type": "code",
   "execution_count": null,
   "metadata": {},
   "outputs": [],
   "source": [
    "df['side'].value_counts()"
   ]
  },
  {
   "cell_type": "code",
   "execution_count": null,
   "metadata": {},
   "outputs": [],
   "source": [
    "df[(df['otherFaceIds'].notna())]"
   ]
  },
  {
   "cell_type": "code",
   "execution_count": null,
   "metadata": {},
   "outputs": [],
   "source": [
    "df[(df['uuid'].isin(['71a0621f-32a6-5450-8ad8-6cdae505cf59']))]"
   ]
  },
  {
   "cell_type": "code",
   "execution_count": null,
   "metadata": {},
   "outputs": [],
   "source": [
    "df[df['layout']=='transform']"
   ]
  },
  {
   "cell_type": "code",
   "execution_count": null,
   "metadata": {},
   "outputs": [],
   "source": [
    "df[df['layout']=='split']"
   ]
  },
  {
   "cell_type": "code",
   "execution_count": null,
   "metadata": {},
   "outputs": [],
   "source": [
    "#df[df['layout']=='adventure']\n",
    "df[df['name']=='Brazen Borrower // Petty Theft']"
   ]
  },
  {
   "cell_type": "code",
   "execution_count": null,
   "metadata": {},
   "outputs": [],
   "source": [
    "#df[df['layout']=='modal_dfc']\n",
    "df[df['name']=='Valakut Awakening // Valakut Stoneforge']"
   ]
  },
  {
   "cell_type": "code",
   "execution_count": null,
   "metadata": {},
   "outputs": [],
   "source": [
    "#df[df['layout']=='flip']\n",
    "df[df['name']==\"Sasaya, Orochi Ascendant // Sasaya's Essence\"]"
   ]
  },
  {
   "cell_type": "code",
   "execution_count": null,
   "metadata": {},
   "outputs": [],
   "source": [
    "#df[df['layout']=='aftermath']\n",
    "df[df['name']==\"Commit // Memory\"]"
   ]
  },
  {
   "cell_type": "code",
   "execution_count": null,
   "metadata": {},
   "outputs": [],
   "source": [
    "#df[df['layout']=='leveler']\n",
    "df[df['name']==\"Echo Mage\"]"
   ]
  },
  {
   "cell_type": "code",
   "execution_count": null,
   "metadata": {},
   "outputs": [],
   "source": [
    "df[df['name']==\"Echo Mage\"]['text'].tolist()"
   ]
  },
  {
   "cell_type": "code",
   "execution_count": null,
   "metadata": {},
   "outputs": [],
   "source": [
    "#df[df['layout']=='saga']\n",
    "df[df['name']==\"Elspeth Conquers Death\"]"
   ]
  },
  {
   "cell_type": "code",
   "execution_count": null,
   "metadata": {},
   "outputs": [],
   "source": [
    "df[df['name']==\"Elspeth Conquers Death\"]['text'].tolist()"
   ]
  },
  {
   "cell_type": "code",
   "execution_count": null,
   "metadata": {},
   "outputs": [],
   "source": [
    "#df[df['layout']=='host']\n",
    "df[df['name']==\"Angelic Rocket\"]"
   ]
  },
  {
   "cell_type": "code",
   "execution_count": null,
   "metadata": {},
   "outputs": [],
   "source": [
    "#df[df['layout']=='augment']\n",
    "df[df['name']==\"Half-Kitten, Half-\"]"
   ]
  },
  {
   "cell_type": "code",
   "execution_count": null,
   "metadata": {},
   "outputs": [],
   "source": [
    "#df[df['layout']=='meld']\n",
    "df[(\n",
    "    df['name']==\"Midnight Scavengers // Chittering Host\") \n",
    "    | (df['name']==\"Graf Rats // Chittering Host\")\n",
    "    | (df['name']==\"Chittering Host\")\n",
    "    ]"
   ]
  },
  {
   "cell_type": "code",
   "execution_count": null,
   "metadata": {},
   "outputs": [],
   "source": [
    "df[df['layout']=='vanguard']"
   ]
  },
  {
   "cell_type": "code",
   "execution_count": null,
   "metadata": {},
   "outputs": [],
   "source": []
  },
  {
   "cell_type": "markdown",
   "metadata": {},
   "source": [
    "# Function - Combine two cards to one line"
   ]
  },
  {
   "cell_type": "markdown",
   "metadata": {},
   "source": [
    "Considred a function that combines two rows into one.\n",
    "\n",
    "Given the complexity of this rapidly increases, instead the data will be flagged based on layout."
   ]
  },
  {
   "cell_type": "code",
   "execution_count": null,
   "metadata": {},
   "outputs": [],
   "source": [
    "df['double_layout'] = 1\n",
    "df['double_layout'].where(df['layout'].isin(['transform','split','adventure','modal_dfc','flip','aftermath','meld']),0,inplace=True)"
   ]
  },
  {
   "cell_type": "code",
   "execution_count": null,
   "metadata": {},
   "outputs": [],
   "source": [
    "df['double_layout'].sum() "
   ]
  },
  {
   "cell_type": "code",
   "execution_count": null,
   "metadata": {},
   "outputs": [],
   "source": [
    "df[(df['double_layout'] ==1)]"
   ]
  },
  {
   "cell_type": "markdown",
   "metadata": {},
   "source": [
    "\n",
    "# Create function to handle mana cost flags"
   ]
  },
  {
   "cell_type": "markdown",
   "metadata": {},
   "source": [
    "In a set of `{X}`\n",
    "\n",
    "**Types of mana - General:**\n",
    "* White / W\n",
    "* Blue / U\n",
    "* Black / B\n",
    "* Red / R\n",
    "* Green / G\n",
    "* Colourless / C\n",
    "* Generic / i (i is a number)\n",
    "\n",
    "**Types of mana - Special:**\n",
    "* Phyrexian / P - Alternate cost is to pay 2 life\n",
    "* Hybrid / of the form `{a/b}` where b is another form of mana\n",
    "* X / Y - Variable amount of generic mana, sometimes limited to specific colours by rules text\n",
    "\n"
   ]
  },
  {
   "cell_type": "code",
   "execution_count": null,
   "metadata": {},
   "outputs": [],
   "source": [
    "a = df.manaCost.value_counts().reset_index()['index'].tolist()\n",
    "mana_cost_string = ''\n",
    "\n",
    "for item in a:\n",
    "    mana_cost_string = mana_cost_string + item\n",
    "\n",
    "print(mana_cost_string)"
   ]
  },
  {
   "cell_type": "code",
   "execution_count": null,
   "metadata": {},
   "outputs": [],
   "source": [
    "pat = re.compile(\"\\{[\\w]+/*?[\\w]*?}\")\n",
    "# pat.match(mana_cost_string)\n",
    "manaCost_items = pat.findall(mana_cost_string)\n",
    "manaCost_items = set(manaCost_items)\n",
    "manaCost_items = list(manaCost_items)\n",
    "manaCost_items.sort()\n",
    "manaCost_items"
   ]
  },
  {
   "cell_type": "markdown",
   "metadata": {},
   "source": [
    "## Mana cost items that needed further checks:\n",
    " '{C}' : Confirmed as colourless mana \n",
    " \n",
    " '{HW}' : Confirmed as half a white mana used in 'Un' sets\n",
    " \n",
    " \n",
    " '{S}' : Confirmed as Snow mana, e.g. Arcan's Astrolabe\n",
    " \n",
    " \n",
    " '{Y}','{Z}'\n"
   ]
  },
  {
   "cell_type": "code",
   "execution_count": null,
   "metadata": {},
   "outputs": [],
   "source": [
    "df.manaCost.isna().sum()"
   ]
  },
  {
   "cell_type": "code",
   "execution_count": null,
   "metadata": {},
   "outputs": [],
   "source": [
    "df['manaCost_NA'] = df.manaCost.isna()*1 # Column to flag NA values for manaCost"
   ]
  },
  {
   "cell_type": "code",
   "execution_count": null,
   "metadata": {},
   "outputs": [],
   "source": [
    "df['manaCost'].fillna('{none}',inplace=True) # Use '{none}' in lower case, since all other manaCost letters in upper case."
   ]
  },
  {
   "cell_type": "code",
   "execution_count": null,
   "metadata": {},
   "outputs": [],
   "source": [
    "df[df.manaCost.str.contains(\"{C}\")] # Confirmed C is definitely for colourless mana"
   ]
  },
  {
   "cell_type": "code",
   "execution_count": null,
   "metadata": {},
   "outputs": [],
   "source": [
    "df[df.manaCost.str.contains(\"{HW}\")] # Confirmed C is definitely for colourless mana"
   ]
  },
  {
   "cell_type": "code",
   "execution_count": null,
   "metadata": {},
   "outputs": [],
   "source": [
    "df[df.manaCost.str.contains(\"{S}\")] # Confirmed S is for \"snow\" mana"
   ]
  },
  {
   "cell_type": "code",
   "execution_count": null,
   "metadata": {},
   "outputs": [],
   "source": [
    "df[df.manaCost.str.contains(\"{S}\")] # Confirmed S is for \"snow\" mana"
   ]
  },
  {
   "cell_type": "code",
   "execution_count": null,
   "metadata": {},
   "outputs": [],
   "source": [
    "df[df.manaCost.str.contains(\"{Y}\")] # Confirmed Y and Z is for an 'Un' card\n",
    "# https://gatherer.wizards.com/Pages/Card/Details.aspx?multiverseid=9757"
   ]
  },
  {
   "cell_type": "code",
   "execution_count": null,
   "metadata": {},
   "outputs": [],
   "source": [
    "s = df[df.name.str.match(\"Fireball\")]['text'].iloc[0]\n",
    "print(s)"
   ]
  },
  {
   "cell_type": "code",
   "execution_count": null,
   "metadata": {},
   "outputs": [],
   "source": [
    "df[df.manaCost.str.contains(\"{2/W}\")] # Look at mana cost"
   ]
  },
  {
   "cell_type": "markdown",
   "metadata": {},
   "source": [
    "### manaCost columns to create:\n",
    "\n",
    "*Standard Counts*\n",
    "- manaCost_W_count: Counts each W once (i.e. {W},{W} = 2)\n",
    "- manaCost_U_count: Counts each U once (i.e. {U},{U} = 2)\n",
    "- manaCost_B_count: Counts each B once (i.e. {B},{B} = 2)\n",
    "- manaCost_R_count: Counts each R once (i.e. {R},{R} = 2)\n",
    "- manaCost_G_count: Counts each G once (i.e. {G},{G} = 2)\n",
    "- manaCost_C_count: Counts each Colorless once (i.e. {C},{C} = 2)\n",
    "\n",
    "- manaCost_Generic_count: Counts each generic mana once (i.e. {4} = 4)\n",
    "\n",
    "***\n",
    "\n",
    "*Phyrexian Counts:*\n",
    "\n",
    "- manaCost_WP_count:\tCounts each {W/P} once\n",
    "- manaCost_UP_count:\tCounts each {U/P} once\n",
    "- manaCost_BP_count:\tCounts each {B/P} once\n",
    "- manaCost_RP_count:\tCounts each {R/P} once\n",
    "- manaCost_GP_count:\tCounts each {G/P} once\n",
    "\n",
    "***\n",
    "\n",
    "*Hybrid Counts:*\n",
    "\n",
    "- manaCost_H_WU_count:\tCounts each {W/U} hybrid mana once\n",
    "- manaCost_H_UB_count:\tCounts each {U/B} hybrid mana once\n",
    "- manaCost_H_BR_count:\tCounts each {B/R} hybrid mana once\n",
    "- manaCost_H_RG_count:\tCounts each {R/G} hybrid mana once\n",
    "- manaCost_H_GW_count:\tCounts each {G/W} hybrid mana once\n",
    "\n",
    "\n",
    "- manaCost_H_WB_count:\tCounts each {W/B} hybrid mana once\n",
    "- manaCost_H_UR_count:\tCounts each {U/R} hybrid mana once\n",
    "- manaCost_H_RW_count:\tCounts each {R/W} hybrid mana once\n",
    "- manaCost_H_GU_count:\tCounts each {G/U} hybrid mana once\n",
    "- manaCost_H_BG_count:\tCounts each {B/G} hybrid mana once\n",
    "\n",
    "\n",
    "- manaCost_H_2W_count:\tCounts each {2/W} once\n",
    "- manaCost_H_2B_count:\tCounts each {2/B} once\n",
    "- manaCost_H_2U_count:\tCounts each {2/U} once\n",
    "- manaCost_H_2R_count:\tCounts each {2/R} once\n",
    "- manaCost_H_2G_count:\tCounts each {2/G} once\n",
    "\n",
    "***\n",
    "\n",
    "*Variable Counts:*\n",
    "\n",
    "- manaCost_X_count:\tFlag if X count (i.e. should only ever be 1)\n",
    "- manaCost_Y_count:\tFlag if Y count (i.e. should only ever be 1)\n",
    "- manaCost_Z_count:\tFlag if Z count (i.e. should only ever be 1)\n",
    "\n",
    "***\n",
    "\n",
    "*Other Counts:*\n",
    "\n",
    "- manaCost_Snow_count:  Counts each S once (i.e. {S} = 1)\n",
    "- manaCost_HW_count:\tFlag if HW count (i.e. should only ever be 1)\n",
    "\n",
    "\n"
   ]
  },
  {
   "cell_type": "code",
   "execution_count": null,
   "metadata": {},
   "outputs": [],
   "source": [
    "# manaCost_W_count test\n",
    "df.manaCost.str.count('{W}').tolist()\n"
   ]
  },
  {
   "cell_type": "code",
   "execution_count": null,
   "metadata": {},
   "outputs": [],
   "source": [
    "df['manaCost_Generic_count'] = np.where(df.manaCost.str.contains('\\{[\\d]+?\\}'),df.manaCost.str.extract('\\{([\\d]+?)\\}',expand=False),0)\n",
    "df['manaCost_W_count'] = df.manaCost.str.count('{W}')\n",
    "df['manaCost_U_count'] = df.manaCost.str.count('{U}')\n",
    "df['manaCost_B_count'] = df.manaCost.str.count('{B}')\n",
    "df['manaCost_R_count'] = df.manaCost.str.count('{R}')\n",
    "df['manaCost_G_count'] = df.manaCost.str.count('{G}')\n",
    "df['manaCost_C_count'] = df.manaCost.str.count('{C}')\n",
    "df['manaCost_WP_count'] = df.manaCost.str.count('{W/P}')\n",
    "df['manaCost_UP_count'] = df.manaCost.str.count('{B/P}')\n",
    "df['manaCost_BP_count'] = df.manaCost.str.count('{U/P}')\n",
    "df['manaCost_RP_count'] = df.manaCost.str.count('{R/P}')\n",
    "df['manaCost_GP_count'] = df.manaCost.str.count('{G/P}')\n",
    "df['manaCost_H_WU_count'] = df.manaCost.str.count('{W/U}')\n",
    "df['manaCost_H_UB_count'] = df.manaCost.str.count('{U/B}')\n",
    "df['manaCost_H_BR_count'] = df.manaCost.str.count('{B/R}')\n",
    "df['manaCost_H_RG_count'] = df.manaCost.str.count('{R/G}')\n",
    "df['manaCost_H_GW_count'] = df.manaCost.str.count('{G/W}')\n",
    "df['manaCost_H_WB_count'] = df.manaCost.str.count('{W/B}')\n",
    "df['manaCost_H_UR_count'] = df.manaCost.str.count('{U/R}')\n",
    "df['manaCost_H_BG_count'] = df.manaCost.str.count('{B/G}')\n",
    "df['manaCost_H_RW_count'] = df.manaCost.str.count('{R/W}')\n",
    "df['manaCost_H_GU_count'] = df.manaCost.str.count('{G/U}')\n",
    "df['manaCost_H_2W_count'] = df.manaCost.str.count('{2/W}')\n",
    "df['manaCost_H_2U_count'] = df.manaCost.str.count('{2/U}')\n",
    "df['manaCost_H_2B_count'] = df.manaCost.str.count('{2/B}')\n",
    "df['manaCost_H_2R_count'] = df.manaCost.str.count('{2/R}')\n",
    "df['manaCost_H_2G_count'] = df.manaCost.str.count('{2/G}')\n",
    "df['manaCost_X_count'] = df.manaCost.str.count('{X}')\n",
    "df['manaCost_Y_count'] = df.manaCost.str.count('{Y}')\n",
    "df['manaCost_Z_count'] = df.manaCost.str.count('{Z}')\n",
    "df['manaCost_Snow_count'] = df.manaCost.str.count('{S}')\n",
    "df['manaCost_HW_count'] = df.manaCost.str.count('{HW}')\n",
    "\n"
   ]
  },
  {
   "cell_type": "code",
   "execution_count": null,
   "metadata": {},
   "outputs": [],
   "source": [
    "df[df.manaCost.str.contains('\\{[\\d]+?\\}')]['manaCost']"
   ]
  },
  {
   "cell_type": "code",
   "execution_count": null,
   "metadata": {},
   "outputs": [],
   "source": [
    "?np.where"
   ]
  },
  {
   "cell_type": "code",
   "execution_count": null,
   "metadata": {},
   "outputs": [],
   "source": [
    "df['manaCost_Generic_count'] = np.where(df.manaCost.str.contains('\\{[\\d]+?\\}'),df.manaCost.str.extract('\\{([\\d]+?)\\}',expand=False),0)"
   ]
  },
  {
   "cell_type": "code",
   "execution_count": null,
   "metadata": {},
   "outputs": [],
   "source": [
    "df[['manaCost','manaCost_Generic_count']]"
   ]
  },
  {
   "cell_type": "code",
   "execution_count": null,
   "metadata": {},
   "outputs": [],
   "source": []
  },
  {
   "cell_type": "markdown",
   "metadata": {},
   "source": [
    "# Break up keyword columns\n",
    "\n",
    "Want to build a function that does this since new key words are added every set, as opposed to mana symbolds which are only changed every 3-5 years."
   ]
  },
  {
   "cell_type": "code",
   "execution_count": null,
   "metadata": {},
   "outputs": [],
   "source": [
    "df[df.keywords_NA==0]['keywords'].str.contains('\\{').sum() # Check that there are no bracers in keywords"
   ]
  },
  {
   "cell_type": "code",
   "execution_count": null,
   "metadata": {},
   "outputs": [],
   "source": [
    "df['keywords_NA'] = df.keywords.isna()*1"
   ]
  },
  {
   "cell_type": "code",
   "execution_count": null,
   "metadata": {},
   "outputs": [],
   "source": [
    "df.keywords.fillna('{none}',inplace=True)"
   ]
  },
  {
   "cell_type": "code",
   "execution_count": null,
   "metadata": {},
   "outputs": [],
   "source": [
    "df.keywords.str.split(\",\").tolist()"
   ]
  },
  {
   "cell_type": "code",
   "execution_count": null,
   "metadata": {},
   "outputs": [],
   "source": [
    "all_keywords = df.keywords.str.split(\",\").tolist()\n",
    "unique_keywords = []\n",
    "\n",
    "for i in all_keywords:\n",
    "    for j in i:\n",
    "        if j != '{none}':\n",
    "            j.capitalize()\n",
    "            unique_keywords.append(j)\n",
    "unique_keywords = set(unique_keywords)\n",
    "unique_keywords = list(unique_keywords)\n",
    "unique_keywords.sort()\n",
    "\n",
    "for keyword in unique_keywords:\n",
    "    col_name = 'keyword_' + keyword.replace(' ','_')\n",
    "    df[col_name] = df.keywords.str.contains(keyword) * 1\n"
   ]
  },
  {
   "cell_type": "code",
   "execution_count": null,
   "metadata": {},
   "outputs": [],
   "source": [
    "print(unique_keywords)"
   ]
  },
  {
   "cell_type": "code",
   "execution_count": null,
   "metadata": {},
   "outputs": [],
   "source": [
    "df[df.keywords.str.contains('Adamant')]['name'].tolist()"
   ]
  },
  {
   "cell_type": "code",
   "execution_count": null,
   "metadata": {},
   "outputs": [],
   "source": [
    "df[df.keyword_Adamant == 1]['name'].tolist()"
   ]
  },
  {
   "cell_type": "code",
   "execution_count": null,
   "metadata": {},
   "outputs": [],
   "source": [
    "df['keywords_count'] = [len(i) for i in df.keywords.str.split(',').tolist()] * np.where(df.keywords_NA,0,1)"
   ]
  },
  {
   "cell_type": "code",
   "execution_count": null,
   "metadata": {},
   "outputs": [],
   "source": [
    "df['keywords_count']"
   ]
  },
  {
   "cell_type": "code",
   "execution_count": null,
   "metadata": {},
   "outputs": [],
   "source": [
    "df.loc[55968]"
   ]
  },
  {
   "cell_type": "code",
   "execution_count": null,
   "metadata": {},
   "outputs": [],
   "source": []
  },
  {
   "cell_type": "markdown",
   "metadata": {},
   "source": [
    "# Effects / Non-keyword abilities\n",
    "\n",
    "Common spell effects to consider and capture:\n",
    "<br><br>\n",
    "\n",
    "**Typically on spells**\n",
    "<br><br>\n",
    "* Draw n cards / draw a card *done*\n",
    "* Discard n cards (differentiate between target player and the words by themselves) *done*\n",
    "* Destroy target 'type' (Noting that non-land means all types != land) *done*\n",
    "* Destroy all 'type' - limit flag to creatures as this is generally the effect you care about most *done*\n",
    "* Exile target 'type' (Noting that non-land means all types != land); In most cases effectively the same as destroy *roll into logic for destroy* *done*\n",
    "* n damage to target ... (Damage is only relevant to players, creatures, and planeswalkers) *done - replaced by damaage effects*\n",
    "<br><br>\n",
    "\n",
    "**Typically on creatures / artifacts / enchantments:**\n",
    "* Enter the battlefield (can be a advantage or disadvantage effect)\n",
    "* Activated ability (i.e. format of {cost}:{effect})\n",
    "\n",
    "<br><br>\n",
    "\n",
    "**Will leave the below for the future after trying some initial modelling with features so far**\n",
    "* Scry n cards (scry means look at n cards, and choose to put them on top or bottom of your library)\n",
    "* Pump power or toughness / reduce power or toughness ... target creature / multiple creatures\n",
    "* Target creature gains a keyword\n",
    "* Copy\n",
    "* Return from graveyard to hand\n",
    "* Return from graveyard to battlefield\n",
    "* Counter target 'type' spell\n",
    "* Gain life / lose life\n",
    "<br><br>\n",
    "\n"
   ]
  },
  {
   "cell_type": "code",
   "execution_count": null,
   "metadata": {},
   "outputs": [],
   "source": [
    "df['text_NA'] = df.text.isna()*1\n",
    "df.text.fillna('{none}',inplace=True)"
   ]
  },
  {
   "cell_type": "markdown",
   "metadata": {},
   "source": [
    "## Drawing cards\n",
    "Don't try and consider special circumstances. \n",
    "Consider just: \n",
    "* words 'draw and card' appearing together.\n",
    "* number of cards (if can readily extract from the text)"
   ]
  },
  {
   "cell_type": "code",
   "execution_count": null,
   "metadata": {},
   "outputs": [],
   "source": [
    "df[(df.text.str.contains('draw.*?cards',case=False))][['name','text']]"
   ]
  },
  {
   "cell_type": "code",
   "execution_count": null,
   "metadata": {},
   "outputs": [],
   "source": []
  },
  {
   "cell_type": "code",
   "execution_count": null,
   "metadata": {},
   "outputs": [],
   "source": [
    "# Other effects\n",
    "# Drawing cards\n",
    "df_draw_cards = df.text.str.extract('[Dd]raw(?!\\s[Ss]tep)\\s(.*?)card?')\n",
    "df_draw_cards.rename({0:'extract_text'},axis=1,inplace=True)\n",
    "df_draw_cards.fillna(0,inplace=True)\n",
    "\n",
    "cond = [\n",
    "    df_draw_cards['extract_text'].str[0] == 'a',\n",
    "    df_draw_cards['extract_text'].str[0:3] == 'two',\n",
    "    df_draw_cards['extract_text'].str[0:5] == 'three',\n",
    "    df_draw_cards['extract_text'].str[0:4] == 'four',\n",
    "    df_draw_cards['extract_text'].str[0:4] == 'five',\n",
    "    df_draw_cards['extract_text'].str[0:3] == 'six',\n",
    "    df_draw_cards['extract_text'].str[0:5] == 'seven',\n",
    "    df_draw_cards['extract_text'].str[0:5] == 'eight',\n",
    "    df_draw_cards['extract_text'].str[0:4] == 'nine',\n",
    "    df_draw_cards['extract_text'].str[0:5] == 'half X',\n",
    "    df_draw_cards['extract_text'].str[0:0] == 'X'\n",
    "]\n",
    "\n",
    "output = [1,2,3,4,5,6,7,8,9,15,20]\n",
    "\n",
    "df['effect_draw_cards'] = np.select(cond,output,default=0)"
   ]
  },
  {
   "cell_type": "code",
   "execution_count": null,
   "metadata": {},
   "outputs": [],
   "source": [
    "df_draw_cards.value_counts()"
   ]
  },
  {
   "cell_type": "code",
   "execution_count": null,
   "metadata": {
    "scrolled": false
   },
   "outputs": [],
   "source": [
    "df_draw_cards.rename({0:'extract_text'},axis=1,inplace=True) # Rename columns to something meaningful"
   ]
  },
  {
   "cell_type": "code",
   "execution_count": null,
   "metadata": {},
   "outputs": [],
   "source": [
    "cond = [\n",
    "    df_draw_cards['extract_text'].str[0] == 'a',\n",
    "    df_draw_cards['extract_text'].str[0:3] == 'two',\n",
    "    df_draw_cards['extract_text'].str[0:5] == 'three',\n",
    "    df_draw_cards['extract_text'].str[0:4] == 'four',\n",
    "    df_draw_cards['extract_text'].str[0:4] == 'five',\n",
    "    df_draw_cards['extract_text'].str[0:3] == 'six',\n",
    "    df_draw_cards['extract_text'].str[0:5] == 'seven',\n",
    "    df_draw_cards['extract_text'].str[0:5] == 'eight',\n",
    "    df_draw_cards['extract_text'].str[0:4] == 'nine',\n",
    "    df_draw_cards['extract_text'].str[0:5] == 'half X',\n",
    "    df_draw_cards['extract_text'].str[0:0] == 'X'\n",
    "]\n",
    "\n",
    "output = [1,2,3,4,5,6,7,8,9,15,20]\n",
    "\n",
    "df['effect_draw_cards'] = np.select(cond,output,default=0)"
   ]
  },
  {
   "cell_type": "code",
   "execution_count": null,
   "metadata": {},
   "outputs": [],
   "source": [
    "df['effect_draw_cards'].value_counts()"
   ]
  },
  {
   "cell_type": "code",
   "execution_count": null,
   "metadata": {},
   "outputs": [],
   "source": [
    "df[df.text.str.contains('half X')][['name','text']]# Confirm half X likely relates to Hydroid Krasis"
   ]
  },
  {
   "cell_type": "code",
   "execution_count": null,
   "metadata": {},
   "outputs": [],
   "source": [
    "df[df.text.str.contains('draw X cards')][['name','text']]"
   ]
  },
  {
   "cell_type": "markdown",
   "metadata": {},
   "source": [
    "## Discarding cards\n",
    "* Care about when an effect forces you to discard a card (generally a drawback)\n",
    "* Care about when an effect forces target player (typically an opponent) to discard cards (generally a positive\n",
    "* Loot ability: = 'draw a card, then discard a card'"
   ]
  },
  {
   "cell_type": "code",
   "execution_count": null,
   "metadata": {},
   "outputs": [],
   "source": [
    "df[(df.text.str.contains('[Dd]iscard\\s.*?card?',case=False))][['name','text','keywords']]"
   ]
  },
  {
   "cell_type": "code",
   "execution_count": null,
   "metadata": {},
   "outputs": [],
   "source": [
    "# Beneficial discards (i.e. apply to opponent / target player - since generally you choose your opponent, unless you're drawing cards)\n",
    "\n",
    "df[(df.text.str.contains('[Tt]arget\\s(opponent|player).*[Dd]iscards\\s.*?card?',case=False))][['name','text','keywords']]"
   ]
  },
  {
   "cell_type": "code",
   "execution_count": null,
   "metadata": {},
   "outputs": [],
   "source": [
    "# Beneficial discards (i.e. apply to opponent / target player - since generally you choose your opponent, unless you're drawing cards)\n",
    "\n",
    "df_extract = (df.text.str.contains('[Tt]arget\\s(opponent|player).*[Dd]iscards\\s.*?card?',case=False))\n",
    "df['effect_discard_target_player'] = df_extract*1"
   ]
  },
  {
   "cell_type": "code",
   "execution_count": null,
   "metadata": {},
   "outputs": [],
   "source": [
    "\n",
    "df[(df.text.str.contains('Discard\\s.*?card?',case=False))][['name','text','keywords']]"
   ]
  },
  {
   "cell_type": "code",
   "execution_count": null,
   "metadata": {},
   "outputs": [],
   "source": [
    "df_extract = (df.text.str.contains('Discard\\s.*?card?',case=False))\n",
    "df['effect_discard_own_cards'] = df_extract*1"
   ]
  },
  {
   "cell_type": "code",
   "execution_count": null,
   "metadata": {},
   "outputs": [],
   "source": [
    "df['effect_discard_own_cards'].sum()"
   ]
  },
  {
   "cell_type": "markdown",
   "metadata": {},
   "source": [
    "### Loot ability"
   ]
  },
  {
   "cell_type": "code",
   "execution_count": null,
   "metadata": {},
   "outputs": [],
   "source": [
    "# Loot ability check\n",
    "df[(df.text.str.contains('[Dd]raw a card, then discard a card',case=False))][['name','text']]"
   ]
  },
  {
   "cell_type": "code",
   "execution_count": null,
   "metadata": {},
   "outputs": [],
   "source": [
    "# Loot ability dummy variable\n",
    "df_extract = (df.text.str.contains('[Dd]raw a card, then discard a card',case=False))\n",
    "df['effect_loot'] = df_extract*1"
   ]
  },
  {
   "cell_type": "code",
   "execution_count": null,
   "metadata": {},
   "outputs": [],
   "source": [
    "(df.text.str.contains('[Dd]raw a card, then discard a card',case=False)).sum()"
   ]
  },
  {
   "cell_type": "markdown",
   "metadata": {},
   "source": [
    "# Destroy target effects"
   ]
  },
  {
   "cell_type": "code",
   "execution_count": null,
   "metadata": {},
   "outputs": [],
   "source": [
    "df[(df.text.str.contains('[Dd]estroy.*target.*?',case=False))][['name','text','keywords']]"
   ]
  },
  {
   "cell_type": "code",
   "execution_count": null,
   "metadata": {},
   "outputs": [],
   "source": [
    "# Destroying cards on the battlefield\n",
    "df_extract = df.text.str.extract('[Dd]estroy\\s.*target(.*\\.)+?\\s*?')\n",
    "df_extract.rename({0:'extract_text'},axis=1,inplace=True)\n",
    "df_extract.fillna(0,inplace=True)\n"
   ]
  },
  {
   "cell_type": "code",
   "execution_count": null,
   "metadata": {},
   "outputs": [],
   "source": [
    "df_extract.value_counts()"
   ]
  },
  {
   "cell_type": "code",
   "execution_count": null,
   "metadata": {},
   "outputs": [],
   "source": [
    "# Destroying artifacts\n",
    "df_extract = df.text.str.contains('[Dd]estroy\\s.*target.*artifact?(\\.|\\s)')\n",
    "# df_extract.rename({0:'extract_text'},axis=1,inplace=True)\n",
    "# df_extract.fillna(0,inplace=True)\n",
    "df[df_extract][['name','text','keywords']]"
   ]
  },
  {
   "cell_type": "code",
   "execution_count": null,
   "metadata": {},
   "outputs": [],
   "source": [
    "# Destroying creatures - not perfect but good for most circumstances, as picks up destruction even when conditions are present\n",
    "df_extract = df.text.str.contains('[Dd]estroy\\s.*target.*creature?(\\.|\\s)')\n",
    "# df_extract.rename({0:'extract_text'},axis=1,inplace=True)\n",
    "# df_extract.fillna(0,inplace=True)\n",
    "df[df_extract][['name','text','keywords']]"
   ]
  },
  {
   "cell_type": "code",
   "execution_count": null,
   "metadata": {},
   "outputs": [],
   "source": [
    "# Destroying lands - need to allow that island is a specified land type, and nonland is commonly used as well\n",
    "df_extract = df.text.str.contains('[Dd]estroy\\s.*target.*?(?<!is)(?<!non)land(?!walk)(?=\\.|\\s)?')\n",
    "# df_extract.rename({0:'extract_text'},axis=1,inplace=True)\n",
    "# df_extract.fillna(0,inplace=True)\n",
    "df[df_extract][['name','text','keywords']]"
   ]
  },
  {
   "cell_type": "code",
   "execution_count": null,
   "metadata": {},
   "outputs": [],
   "source": [
    "# Destroying nonland permanents - equivalent to Creature, Artifact, Enchantment, Planeswalker\n",
    "df_extract = df.text.str.contains('[Dd]estroy\\s.*target.*?nonland(?=\\.|\\s)?')\n",
    "# df_extract.rename({0:'extract_text'},axis=1,inplace=True)\n",
    "# df_extract.fillna(0,inplace=True)\n",
    "df[df_extract][['name','text','keywords']]"
   ]
  },
  {
   "cell_type": "code",
   "execution_count": null,
   "metadata": {},
   "outputs": [],
   "source": [
    "# Destroying Enchantments\n",
    "df_extract = df.text.str.contains('[Dd]estroy\\s.*target.*?enchantment(?=\\.|\\s)?')\n",
    "# df_extract.rename({0:'extract_text'},axis=1,inplace=True)\n",
    "# df_extract.fillna(0,inplace=True)\n",
    "df[df_extract][['name','text','keywords']]"
   ]
  },
  {
   "cell_type": "code",
   "execution_count": null,
   "metadata": {},
   "outputs": [],
   "source": [
    "# Destroying planeswalkers - picks up a couple of cases where there are incidental effects\n",
    "df_extract = df.text.str.contains('[Dd]estroy\\s.*target.*?planeswalker(?=\\.|\\s)?')\n",
    "# df_extract.rename({0:'extract_text'},axis=1,inplace=True)\n",
    "# df_extract.fillna(0,inplace=True)\n",
    "df[df_extract][['name','text','keywords']]"
   ]
  },
  {
   "cell_type": "code",
   "execution_count": null,
   "metadata": {},
   "outputs": [],
   "source": [
    "# Destroying planeswalkers - picks up a couple of cases where there are incidental effects\n",
    "df_extract = df.text.str.contains('[Dd]estroy\\s.*target.*(?<!nonland\\s)permanent(?=\\.|\\s)?')\n",
    "# df_extract.rename({0:'extract_text'},axis=1,inplace=True)\n",
    "# df_extract.fillna(0,inplace=True)\n",
    "df[df_extract][['name','text','keywords']]"
   ]
  },
  {
   "cell_type": "code",
   "execution_count": null,
   "metadata": {},
   "outputs": [],
   "source": [
    "[1,3,4]*True"
   ]
  },
  {
   "cell_type": "code",
   "execution_count": null,
   "metadata": {},
   "outputs": [],
   "source": [
    "df[(df.effect_destroy_enchantment==1)][['name','text','keywords']]"
   ]
  },
  {
   "cell_type": "code",
   "execution_count": null,
   "metadata": {},
   "outputs": [],
   "source": [
    "# Destroying 'all' creatures\n",
    "df_extract = df.text.str.contains('[Dd]estroy\\s.*all.*creatures(?=\\.|\\s)?')\n",
    "# df_extract.rename({0:'extract_text'},axis=1,inplace=True)\n",
    "# df_extract.fillna(0,inplace=True)\n",
    "df[df_extract][['name','text','keywords']]"
   ]
  },
  {
   "cell_type": "markdown",
   "metadata": {},
   "source": [
    "## Add exile effects to destroy logic\n",
    "Why? - they do almost the same thing from an in game perspective as far as most drafts are concerned.\n",
    "This should be good enough for a first pass of the model"
   ]
  },
  {
   "cell_type": "code",
   "execution_count": null,
   "metadata": {
    "scrolled": true
   },
   "outputs": [],
   "source": [
    "df_extract = df.text.str.contains('([Dd]estroy|[Ee]xile)\\s.*target.*creature?(\\.|\\s)')\n",
    "df[df_extract][['name','text','keywords']]"
   ]
  },
  {
   "cell_type": "markdown",
   "metadata": {},
   "source": [
    "## Damage effects\n",
    "X damage to target... Creature / Planeswalker / Player\n",
    "\n",
    "X damage to all...\n",
    "\n",
    "For now just flag if a card deals damage"
   ]
  },
  {
   "cell_type": "code",
   "execution_count": null,
   "metadata": {},
   "outputs": [],
   "source": [
    "df_extract = df.text.str.contains('(deals)+\\s[\\dX]*.*(?!combat\\s)(damage)\\sto(?!\\syou)')\n",
    "#('deals(.*)damage\\sto(.*)target(.*)')\n",
    "df[df_extract][['name','text','keywords']]"
   ]
  },
  {
   "cell_type": "code",
   "execution_count": null,
   "metadata": {},
   "outputs": [],
   "source": [
    "df_extract = df.text.str.extract('deals\\s(.*)damage\\sto(\\s|\\sany\\s)target(.*)(creature.*|player.*|planeswalker.*)')\n",
    "#df_extract.rename({0:'extract_text'},axis=1,inplace=True)\n",
    "df_extract.fillna(0,inplace=True)"
   ]
  },
  {
   "cell_type": "markdown",
   "metadata": {},
   "source": []
  },
  {
   "cell_type": "markdown",
   "metadata": {},
   "source": [
    "## Counterspell Effects\n",
    "* Often a characteristics of some instants"
   ]
  },
  {
   "cell_type": "code",
   "execution_count": null,
   "metadata": {},
   "outputs": [],
   "source": [
    "df_extract = df.text.str.contains('[Cc]ounter.*spell')\n",
    "#('deals(.*)damage\\sto(.*)target(.*)')\n",
    "df[df_extract][['name','text','keywords']]"
   ]
  },
  {
   "cell_type": "markdown",
   "metadata": {},
   "source": [
    "## Enter the battlefield triggers\n"
   ]
  },
  {
   "cell_type": "code",
   "execution_count": null,
   "metadata": {},
   "outputs": [],
   "source": [
    "df_extract = df.text.str.contains('[Ee]nter(s)?\\sthe\\sbattlefield')\n",
    "#('deals(.*)damage\\sto(.*)target(.*)')\n",
    "df[df_extract][['name','text','keywords']]"
   ]
  },
  {
   "cell_type": "code",
   "execution_count": null,
   "metadata": {},
   "outputs": [],
   "source": [
    "# Sacrificing after an ETB trigger is a regular cost\n",
    "df_extract = df.text.str.contains('[Ee]nter(s)?\\sthe\\sbattlefield.*[Ss]acrifice\\sit')\n",
    "#('deals(.*)damage\\sto(.*)target(.*)')\n",
    "df[df_extract][['name','text','keywords']]"
   ]
  },
  {
   "cell_type": "code",
   "execution_count": null,
   "metadata": {},
   "outputs": [],
   "source": []
  },
  {
   "cell_type": "markdown",
   "metadata": {},
   "source": [
    "## Has an activated ability\n",
    "Activated abilities are always of the form {cost}:{effect}"
   ]
  },
  {
   "cell_type": "code",
   "execution_count": null,
   "metadata": {},
   "outputs": [],
   "source": [
    "df_extract = df.text.str.contains('.*:.*')\n",
    "df[df_extract][['name','text','keywords']]"
   ]
  },
  {
   "cell_type": "code",
   "execution_count": null,
   "metadata": {},
   "outputs": [],
   "source": [
    "df_extract = df.text.str.count('.*:.*')\n",
    "df_extract.value_counts()"
   ]
  },
  {
   "cell_type": "code",
   "execution_count": null,
   "metadata": {},
   "outputs": [],
   "source": [
    "df[df.text.str.count('.*:.*')>4][['name','text','keywords']]"
   ]
  },
  {
   "cell_type": "code",
   "execution_count": null,
   "metadata": {},
   "outputs": [],
   "source": []
  },
  {
   "cell_type": "markdown",
   "metadata": {},
   "source": [
    "# Efficiency metrics\n",
    "\n",
    "Some form of efficiency metrics are necessary when judging cards against each other, because in almost all circumstances two cards that are identical, apart from their mana cost, the card with the lower mana cost will be better.\n",
    "\n",
    "This is needed as it is often a key element of what makes a card more powerful than another. In general the same effect on an Instant is stronger than on a Sorcery, so we would expect that Instants on average are ranked higher than sorceries for a given effect.\n",
    "\n",
    "For example: \n",
    "* The card *Ancestral Recall*, an instant, draws 3 cards for {U}\n",
    "* The card *Divination*, a sorcery, draws 2 cards for {2}{U}\n",
    "\n",
    "*Ancestral Recall* is restricted or banned in key formats due to it's power, *Divination* is a baseline level of card drawing.\n"
   ]
  },
  {
   "cell_type": "markdown",
   "metadata": {},
   "source": [
    "***\n",
    "To set up a mana effiency metric we need to set up counts. The obvious ones are:\n",
    "\n",
    "1. Power\n",
    "2. Toughness\n",
    "3. Power + Toughness\n",
    "4. Count of keywords\n",
    "5. Count of effects (maybe weight draw a card stronger than most - since it's particularly good)\n",
    "6. Count of activated abilities (these offer flexiblity)\n",
    "7. Count of words"
   ]
  },
  {
   "cell_type": "code",
   "execution_count": null,
   "metadata": {},
   "outputs": [],
   "source": [
    "df.power.fillna('{none}',inplace=True)\n",
    "df_extract = df.power.str.contains('\\D(?<![{noe}])')\n",
    "\n",
    "df[df_extract][['name','text','convertedManaCost','power','toughness']]\n",
    "\n",
    "# These are cases where card text defines the power and toughness\n",
    "# These will be treated as if they are power / toughness = max(convertedManaCost / 2,1)"
   ]
  },
  {
   "cell_type": "code",
   "execution_count": null,
   "metadata": {},
   "outputs": [],
   "source": [
    "df.power.fillna('{none}',inplace=True)\n",
    "df['power_clean'] = 0\n",
    "#df.power.str.contains('\\D(?<![{noe}])')\n",
    "df['power_clean'] = np.where(df.power.str.contains('\\D(?<![{noe}])'),1,0)\n",
    "df['power_clean'] = [max(i/2,1) for i in df['convertedManaCost'].tolist()] * np.float64(df['power_clean'])\n",
    "df['power_clean'] = np.where(df['power_clean']==0,df['power'],df['power_clean'])\n",
    "df['power_clean'] = np.where(df['power_clean']=='{none}',0,df['power_clean'])"
   ]
  },
  {
   "cell_type": "code",
   "execution_count": null,
   "metadata": {},
   "outputs": [],
   "source": [
    "\n",
    "df[df.power.str.contains('\\D(?<![{noe}])')][['name','convertedManaCost','power','power_clean','toughness','toughness_clean']] "
   ]
  },
  {
   "cell_type": "code",
   "execution_count": null,
   "metadata": {},
   "outputs": [],
   "source": [
    "df['power_clean'].value_counts()"
   ]
  },
  {
   "cell_type": "code",
   "execution_count": null,
   "metadata": {},
   "outputs": [],
   "source": [
    "\n",
    "df[df.toughness.str.contains('\\D(?<![{noe}])')][['name','convertedManaCost','power','power_clean','toughness','toughness_clean']] "
   ]
  },
  {
   "cell_type": "code",
   "execution_count": null,
   "metadata": {},
   "outputs": [],
   "source": [
    "df.toughness.fillna('{none}',inplace=True)\n",
    "df['toughness_clean'] = 0\n",
    "\n",
    "df['toughness_clean'] = np.where(df.toughness.str.contains('\\D(?<![{noe}])'),1,0)\n",
    "df['toughness_clean'] = [max(i/2,1) for i in df['convertedManaCost'].tolist()] * np.float64(df['toughness_clean'])\n",
    "df['toughness_clean'] = np.where(df['toughness_clean']==0,df['toughness'],df['toughness_clean'])\n",
    "df['toughness_clean'] = np.where(df['toughness_clean']=='{none}',0,df['toughness_clean'])\n",
    "\n"
   ]
  },
  {
   "cell_type": "code",
   "execution_count": null,
   "metadata": {},
   "outputs": [],
   "source": [
    "df['toughness_clean'].value_counts()"
   ]
  },
  {
   "cell_type": "code",
   "execution_count": null,
   "metadata": {},
   "outputs": [],
   "source": [
    "df['power_plus_toughness'] = np.float64(df['power_clean']) + np.float64(df['toughness_clean'])\n",
    "df['power_plus_toughness']  = np.float64(df['power_plus_toughness'])"
   ]
  },
  {
   "cell_type": "code",
   "execution_count": null,
   "metadata": {},
   "outputs": [],
   "source": [
    "df['power_plus_toughness'].value_counts()\n",
    "# Note cross checked for reasons that 10,093 > 9,913 however couldn't identify any issues on first pass.\n",
    "# Something to investigate downt the track."
   ]
  },
  {
   "cell_type": "code",
   "execution_count": null,
   "metadata": {},
   "outputs": [],
   "source": []
  },
  {
   "cell_type": "code",
   "execution_count": null,
   "metadata": {},
   "outputs": [],
   "source": []
  },
  {
   "cell_type": "code",
   "execution_count": null,
   "metadata": {},
   "outputs": [],
   "source": [
    "def sum_columns_starting_with(df, col_name_str):\n",
    "    col_name_match_len = len(col_name_str)\n",
    "    col_list = [i for i in df.columns.tolist() if str(i)[0:col_name_match_len] == col_name_str]\n",
    "    sum_values = []\n",
    "    temp_list = []\n",
    "    for i in col_list:\n",
    "        if sum_values==[]:\n",
    "            sum_values = df[i].tolist()\n",
    "        else:\n",
    "            sum_values = [a+b for a,b in zip(sum_values, df[i])]\n",
    "    return sum_values\n",
    "\n",
    "df['keyword_count'] = sum_columns_starting_with(df,'keyword_')\n",
    "df['effect_count'] = sum_columns_starting_with(df,'effect_')"
   ]
  },
  {
   "cell_type": "code",
   "execution_count": null,
   "metadata": {},
   "outputs": [],
   "source": [
    "a = df['keyword_Addendum'].tolist()\n",
    "b = df['keyword_Affinity'].tolist()\n",
    "c = df['keyword_Affinity'].tolist()\n",
    "d = df['keyword_Affinity'].tolist()\n",
    "\n",
    "col_list = [a,b,c,d]\n",
    "sum_values = []\n",
    "\n",
    "for i in col_list:\n",
    "    if sum_values == []:\n",
    "        sum_values = a\n",
    "    else:\n",
    "        sum_values = [a+b for a,b in zip(sum_values, i)]\n",
    "\n",
    "sum_values"
   ]
  },
  {
   "cell_type": "code",
   "execution_count": null,
   "metadata": {},
   "outputs": [],
   "source": [
    "def max_columns_starting_with(df, col_name_str):\n",
    "    col_name_match_len = len(col_name_str)\n",
    "    col_list = [i for i in df.columns.tolist() if str(i)[0:col_name_match_len] == col_name_str]\n",
    "    max_values = []\n",
    "    temp_list = []\n",
    "    for i in col_list:\n",
    "        if max_values==[]:\n",
    "            max_values = df[i].tolist()\n",
    "        else:\n",
    "            max_values = [max(a,b) for a,b in zip(max_values, df[i])]\n",
    "    return max_values"
   ]
  },
  {
   "cell_type": "code",
   "execution_count": null,
   "metadata": {},
   "outputs": [],
   "source": [
    "df[(df.name=='Black Lotus')][[ \n",
    "'convertedManaCost',\n",
    "'power_clean',\n",
    " 'toughness_clean',\n",
    " 'power_plus_toughness',\n",
    " 'keyword_count',\n",
    " 'effect_count',\n",
    " 'efficiency_power',\n",
    " 'efficiency_toughness',\n",
    " 'efficiency_p_plus_t',\n",
    " 'efficiency_keywords',\n",
    " 'efficiency_effects',\n",
    " 'efficiency_max',]\n",
    "].iloc[0]"
   ]
  },
  {
   "cell_type": "code",
   "execution_count": null,
   "metadata": {},
   "outputs": [],
   "source": [
    "df[(df.name=='Shivan Dragon')][[ \n",
    "'convertedManaCost',\n",
    "'power_clean',\n",
    " 'toughness_clean',\n",
    " 'power_plus_toughness',\n",
    " 'keyword_count',\n",
    " 'effect_count',\n",
    " 'efficiency_power',\n",
    " 'efficiency_toughness',\n",
    " 'efficiency_p_plus_t',\n",
    " 'efficiency_keywords',\n",
    " 'efficiency_effects',\n",
    " 'efficiency_max',]\n",
    "].iloc[0]"
   ]
  },
  {
   "cell_type": "code",
   "execution_count": null,
   "metadata": {},
   "outputs": [],
   "source": [
    "df[(df.name=='Kjeldoran Outpost')][[ \n",
    "'convertedManaCost',\n",
    "'power_clean',\n",
    " 'toughness_clean',\n",
    " 'power_plus_toughness',\n",
    " 'keyword_count',\n",
    " 'effect_count',\n",
    " 'efficiency_power',\n",
    " 'efficiency_toughness',\n",
    " 'efficiency_p_plus_t',\n",
    " 'efficiency_keywords',\n",
    " 'efficiency_effects',\n",
    " 'efficiency_max',]\n",
    "].iloc[0]"
   ]
  },
  {
   "cell_type": "code",
   "execution_count": null,
   "metadata": {},
   "outputs": [],
   "source": [
    "# Find ways to exclude land from effiency metrics, when convertedManaCost is zero.\n",
    "df[(df.convertedManaCost==0) & ~(df['type'].str.contains(\"Land\"))][['type']].value_counts()"
   ]
  },
  {
   "cell_type": "code",
   "execution_count": null,
   "metadata": {},
   "outputs": [],
   "source": []
  },
  {
   "cell_type": "code",
   "execution_count": null,
   "metadata": {},
   "outputs": [],
   "source": []
  }
 ],
 "metadata": {
  "kernelspec": {
   "display_name": "Python 3",
   "language": "python",
   "name": "python3"
  },
  "language_info": {
   "codemirror_mode": {
    "name": "ipython",
    "version": 3
   },
   "file_extension": ".py",
   "mimetype": "text/x-python",
   "name": "python",
   "nbconvert_exporter": "python",
   "pygments_lexer": "ipython3",
   "version": "3.8.3"
  }
 },
 "nbformat": 4,
 "nbformat_minor": 4
}
