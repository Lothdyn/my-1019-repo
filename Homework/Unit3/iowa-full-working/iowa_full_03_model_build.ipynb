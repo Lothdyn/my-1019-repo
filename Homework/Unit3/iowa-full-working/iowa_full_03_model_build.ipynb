{
 "cells": [
  {
   "cell_type": "markdown",
   "metadata": {},
   "source": [
    "# Model building"
   ]
  },
  {
   "cell_type": "markdown",
   "metadata": {},
   "source": [
    "## Load libraries"
   ]
  },
  {
   "cell_type": "code",
   "execution_count": 1,
   "metadata": {},
   "outputs": [],
   "source": [
    "# Library loading\n",
    "import numpy as np\n",
    "import pandas as pd\n",
    "import sklearn.ensemble \n",
    "import category_encoders as ce\n",
    "from sklearn.ensemble import GradientBoostingRegressor\n",
    "from sklearn.pipeline import make_pipeline"
   ]
  },
  {
   "cell_type": "code",
   "execution_count": 2,
   "metadata": {},
   "outputs": [],
   "source": [
    "pd.set_option('display.max_rows', None)\n",
    "pd.set_option('display.max_columns', None)\n",
    "pd.options.display.float_format = '{:,.4f}'.format"
   ]
  },
  {
   "cell_type": "markdown",
   "metadata": {},
   "source": [
    "## Set up data and encoders to support model build"
   ]
  },
  {
   "cell_type": "code",
   "execution_count": 3,
   "metadata": {},
   "outputs": [],
   "source": [
    "df_orig = pd.read_csv('../data/iowa_full.csv')\n",
    "df = df_orig.copy()"
   ]
  },
  {
   "cell_type": "code",
   "execution_count": 4,
   "metadata": {},
   "outputs": [],
   "source": [
    "# Drop the row ID column as this is not something that should impart any information.\n",
    "df.drop('Id',axis=1,inplace=True)\n",
    "\n",
    "# Capture all adjustments to deal with NaN values.\n",
    "def denote_null_values(df):\n",
    "    \"\"\"Denotes whether or not there are null values or not\"\"\"\n",
    "    empty_cols_query = df.isnull().sum() > 0\n",
    "    empty_df_cols = df.loc[:, empty_cols_query].columns.tolist()\n",
    "    for col in empty_df_cols:\n",
    "        col_name = f\"{col}_missing\"\n",
    "        df[col_name] = pd.isnull(df[col])\n",
    "    return df\n",
    "\n",
    "df = denote_null_values(df)\n",
    "\n",
    "# LotFrontage Functions to populate training, test and validation\n",
    "def LotFrontage_na_calc(training_df):\n",
    "    lotfrontage_neighborhood_mean = training_df.groupby(by=['Neighborhood'])[['LotFrontage']].mean().reset_index()\n",
    "    lotfrontage_neighborhood_mean.columns = ['Neighborhood','LotFrontage_Neighborhood_Mean']\n",
    "    return lotfrontage_neighborhood_mean\n",
    "\n",
    "def LotFrontage_na_apply(training_df, testing_df, validation_df=None):\n",
    "    # Calc mean based on training data\n",
    "    lnm = LotFrontage_na_calc(training_df)\n",
    "    \n",
    "    # Apply mean to training data - for neighbourhood\n",
    "    # Reset LotFrontage NaN in case they have been filled in a prior run\n",
    "    training_df['LotFrontage'] = np.where(training_df['LotFrontage_missing']==True,np.nan,training_df['LotFrontage'])\n",
    "    training_df = training_df.merge(lnm,how='left',left_on='Neighborhood',right_on='Neighborhood')\n",
    "    training_df['LotFrontage'] = training_df['LotFrontage'].fillna(training_df.LotFrontage_Neighborhood_Mean)\n",
    "    training_df.drop('LotFrontage_Neighborhood_Mean',axis=1,inplace=True)\n",
    "    \n",
    "    # Apply mean to testing data\n",
    "    # Reset LotFrontage NaN in case they have been filled in a prior run\n",
    "    testing_df['LotFrontage'] = np.where(testing_df['LotFrontage_missing']==True,np.nan,testing_df['LotFrontage'])\n",
    "    testing_df = testing_df.merge(lnm,how='left',left_on='Neighborhood',right_on='Neighborhood')\n",
    "    testing_df['LotFrontage'] = testing_df['LotFrontage'].fillna(testing_df.LotFrontage_Neighborhood_Mean)\n",
    "    testing_df.drop('LotFrontage_Neighborhood_Mean',axis=1,inplace=True)\n",
    "    # Fill the training sample mean if a specific neighborhood is missing from the training sample\n",
    "    testing_df['LotFrontage'] = testing_df['LotFrontage'].fillna(training_df['LotFrontage'].mean())\n",
    "\n",
    "    if validation_df is None:\n",
    "        return training_df, testing_df\n",
    "    else:\n",
    "        # Apply mean to validation data set\n",
    "        validation_df['LotFrontage'] = np.where(validation_df['LotFrontage_missing']==True,np.nan,validation_df['LotFrontage'])\n",
    "        validation_df = validation_df.merge(lnm,how='left',left_on='Neighborhood',right_on='Neighborhood')\n",
    "        validation_df['LotFrontage'] = validation_df['LotFrontage'].fillna(validation_df.LotFrontage_Neighborhood_Mean)\n",
    "        validation_df.drop('LotFrontage_Neighborhood_Mean',axis=1,inplace=True)        \n",
    "        validation_df['LotFrontage'] = validation_df['LotFrontage'].fillna(training_df['LotFrontage'].mean())\n",
    "        return training_df, testing_df,validation_df\n",
    "\n",
    "\n",
    "# Other fills don't rely on knowledge of full sample to update\n",
    "df['AlleyAccess_Flag'] = np.where(df['Alley'].isnull(),0,1)\n",
    "df['MasVnrType'] = df['MasVnrType'].fillna('None')\n",
    "df['MasVnrArea'] = df['MasVnrArea'].fillna(0)\n",
    "df['BsmtQual'] = df['BsmtQual'].fillna('NA')\n",
    "df['BsmtCond'] = df['BsmtCond'].fillna('NA')\n",
    "df['BsmtExposure'] = df['BsmtExposure'].fillna('NA')\n",
    "df['BsmtFinType1'] = df['BsmtFinType1'].fillna('NA')\n",
    "df['BsmtFinType2'] = df['BsmtFinType2'].fillna('NA')\n",
    "df['Electrical'] = df['Electrical'].fillna('SBrkr')\n",
    "df['FireplaceQu'] = df['FireplaceQu'].fillna('NA')\n",
    "df['GarageType'] = df['GarageType'].fillna('NA')\n",
    "df['GarageYrBlt'] = df['GarageYrBlt'].fillna(0)\n",
    "df['GarageFinish'] = df['GarageFinish'].fillna('NA')\n",
    "df['GarageQual'] = df['GarageQual'].fillna('NA')\n",
    "df['GarageCond'] = df['GarageCond'].fillna('NA')\n",
    "df['PoolQC'] = df['PoolQC'].fillna('NA')\n",
    "df['Fence'] = df['Fence'].fillna('NA')\n",
    "df['MiscFeature'] = df['MiscFeature'].fillna('no_misc_feature_recorded')\n",
    "\n",
    "\n",
    "# Additional data features to tidy things up; potentially drop some others\n",
    "df['Functional_Typical_flag']=np.where(df['Functional']=='Typ',1,0)\n",
    "df['PorchSF_Total'] = (df['WoodDeckSF']+df['OpenPorchSF']+df['EnclosedPorch']+df['3SsnPorch']+df['ScreenPorch'])\n",
    "df['HasPorch_flag']=np.where(df['PorchSF_Total']>0,1,0)\n",
    "df['HasPool_flag']=np.where(df['PoolQC']!='NA',1,0)\n",
    "\n",
    "# df['BsmtFinSF_Total'] = df['BsmtFinSF1']+df['BsmtFinSF2'] \n",
    "# Removed this, since during modelling realised that TotalBsmtSF was already a variable, and this just duplicates it.\n"
   ]
  },
  {
   "cell_type": "code",
   "execution_count": 5,
   "metadata": {},
   "outputs": [],
   "source": [
    "def ManualOneHotEncoding(df,column_list,ohc_prefix):\n",
    "    # Identify values for new one hot encoded columns\n",
    "    \n",
    "    unique_col_vals = []\n",
    "    \n",
    "    for i,col in enumerate(column_list):\n",
    "        if i == 0:\n",
    "            unique_col_vals = df[col].unique().tolist()\n",
    "        else:\n",
    "            [unique_col_vals.append(j) for j in df[col].unique().tolist()]\n",
    "\n",
    "    # Limit to unique values to generate columns\n",
    "    unique_col_vals_set = set(unique_col_vals)\n",
    "    new_cols = sorted(list(unique_col_vals_set))\n",
    "    \n",
    "    # Create and populate columns for data set\n",
    "    for col in new_cols:\n",
    "        new_col = ohc_prefix + '_' + col\n",
    "        df[new_col] = 0 #Create new columns and set to 0\n",
    "        onehot_target = col\n",
    "        for i,target_cols in enumerate(column_list):\n",
    "            if i == 0:\n",
    "                where_conditions = (df[target_cols] == onehot_target) \n",
    "            else:\n",
    "                where_conditions = where_conditions | (df[target_cols] == onehot_target) \n",
    "        # Populate with 0s & 1s\n",
    "        df[new_col] = np.where(where_conditions,1,0)\n",
    "        \n",
    "    return df\n",
    "\n",
    "# Populate OneHotEncoded Columns\n",
    "df = ManualOneHotEncoding(df,['Condition1','Condition2'],'Conditions')\n",
    "df = ManualOneHotEncoding(df,['Exterior1st','Exterior2nd'],'Exterior')\n",
    "df = ManualOneHotEncoding(df,['BsmtFinType1','BsmtFinType2'],'BsmtFinType')\n",
    "\n",
    "# Drop OneHotEncoded Columns\n",
    "df.drop('Condition1',axis=1,inplace=True)\n",
    "df.drop('Condition2',axis=1,inplace=True)\n",
    "df.drop('Exterior1st',axis=1,inplace=True)\n",
    "df.drop('Exterior2nd',axis=1,inplace=True)\n",
    "df.drop('BsmtFinType1',axis=1,inplace=True)\n",
    "df.drop('BsmtFinType2',axis=1,inplace=True)"
   ]
  },
  {
   "cell_type": "markdown",
   "metadata": {},
   "source": [
    "***\n",
    "**Important Step: Set up training, validation, and test data sets:**"
   ]
  },
  {
   "cell_type": "code",
   "execution_count": 6,
   "metadata": {},
   "outputs": [],
   "source": [
    "# Train/test sets\n",
    "train = df.sample(frac=0.9,random_state=743)\n",
    "test = df.drop(train.index)\n",
    "train,val = train.iloc[:-100],train.iloc[-100:]\n",
    "\n",
    "train,test,val = LotFrontage_na_apply(train, test, val)\n",
    "\n",
    "X_train, y_train = train.drop('SalePrice',axis=1), train['SalePrice']\n",
    "X_val, y_val = val.drop('SalePrice',axis=1), val['SalePrice']\n",
    "X_test, y_test  = test.drop('SalePrice',axis=1), test['SalePrice']\n"
   ]
  },
  {
   "cell_type": "markdown",
   "metadata": {},
   "source": [
    "***"
   ]
  },
  {
   "cell_type": "code",
   "execution_count": 7,
   "metadata": {},
   "outputs": [],
   "source": [
    "# Set up encoders\n",
    "\n",
    "targ_enc_cols = [\n",
    "    'MSSubClass',\n",
    "    'MSZoning',\n",
    "    'LandContour',\n",
    "    'Neighborhood',\n",
    "    'BldgType',\n",
    "    'HouseStyle',\n",
    "    'RoofStyle',\n",
    "    'RoofMatl',\n",
    "    'MasVnrType',\n",
    "    'Foundation',\n",
    "    'Heating',\n",
    "    'Electrical',\n",
    "    'Functional',\n",
    "    'GarageType',\n",
    "    'Fence',\n",
    "    'SaleType',\n",
    "    'SaleCondition',\n",
    "]\n",
    "target_enc = ce.TargetEncoder(verbose=1,cols=targ_enc_cols,min_samples_leaf=5,smoothing=0.1)\n",
    "\n",
    "ordenc_cols = [\n",
    "'LotShape',\n",
    "'Utilities',\n",
    "'LotConfig',\n",
    "'LandSlope',\n",
    "'ExterQual',\n",
    "'ExterCond',\n",
    "'BsmtQual',\n",
    "'BsmtCond',\n",
    "'BsmtExposure',\n",
    "'HeatingQC',\n",
    "'KitchenQual',\n",
    "'FireplaceQu',\n",
    "'GarageFinish',\n",
    "'GarageQual',\n",
    "'GarageCond',\n",
    "'PavedDrive',\n",
    "'PoolQC',\n",
    "]\n",
    "\n",
    "ordenc_maps = [\n",
    "{'col':'LotShape', 'mapping':{\"Reg\":0,\"IR1\":1,\"IR2\":2,\"IR3\":3}},\n",
    "{'col':'Utilities', 'mapping':{\"AllPub\":0,\"NoSwer\":1,\"NoSeWa\":2,\"ELO\":3}},\n",
    "{'col':'LotConfig', 'mapping':{'Gtl':1,'Mod':2,'Sev':3,}},\n",
    "{'col':'LandSlope', 'mapping':{'Gtl':1,'Mod':2,'Sev':3,}},\n",
    "{'col':'ExterQual', 'mapping':{'Ex':1,'Gd':2,'TA':3,'Fa':4,'Po':5,}},\n",
    "{'col':'ExterCond', 'mapping':{'Ex':1,'Gd':2,'TA':3,'Fa':4,'Po':5,}},\n",
    "{'col':'BsmtQual', 'mapping':{'NA':0,'Ex':1,'Gd':2,'TA':3,'Fa':4,'Po':5,}},\n",
    "{'col':'BsmtCond', 'mapping':{'NA':0,'Ex':1,'Gd':2,'TA':3,'Fa':4,'Po':5,}},\n",
    "{'col':'BsmtExposure', 'mapping':{'Gd':1,'Av':2,'Mn':3,'No':4,'NA':5,}},\n",
    "{'col':'HeatingQC', 'mapping':{'NA':0,'Ex':1,'Gd':2,'TA':3,'Fa':4,'Po':5,}},\n",
    "{'col':'KitchenQual', 'mapping':{'NA':0,'Ex':1,'Gd':2,'TA':3,'Fa':4,'Po':5,}},\n",
    "{'col':'FireplaceQu', 'mapping':{'NA':0,'Ex':1,'Gd':2,'TA':3,'Fa':4,'Po':5,}},\n",
    "{'col':'GarageFinish', 'mapping':{'Fin':1,'RFn':2,'Unf':3,'NA':4,}},\n",
    "{'col':'GarageQual', 'mapping':{'NA':0,'Ex':1,'Gd':2,'TA':3,'Fa':4,'Po':5,}},\n",
    "{'col':'GarageCond', 'mapping':{'NA':0,'Ex':1,'Gd':2,'TA':3,'Fa':4,'Po':5,}},\n",
    "{'col':'PavedDrive', 'mapping':{'Y':1,'P':2,'N':3}},\n",
    "{'col':'PoolQC', 'mapping':{'NA':0,'Ex':1,'Gd':2,'TA':3,'Fa':4,'Po':5,}},\n",
    "]\n",
    "\n",
    "ordinal_enc = ce.OrdinalEncoder(cols=ordenc_cols,mapping=ordenc_maps,verbose=1)\n",
    "\n",
    "onehot_enc = ce.OneHotEncoder(verbose=1,cols=['Street','Alley','CentralAir','MiscFeature'],use_cat_names=True)\n"
   ]
  },
  {
   "cell_type": "markdown",
   "metadata": {},
   "source": [
    "## First round of modelling\n"
   ]
  },
  {
   "cell_type": "code",
   "execution_count": 8,
   "metadata": {},
   "outputs": [
    {
     "data": {
      "text/plain": [
       "{'alpha': 0.9,\n",
       " 'ccp_alpha': 0.0,\n",
       " 'criterion': 'friedman_mse',\n",
       " 'init': None,\n",
       " 'learning_rate': 0.1,\n",
       " 'loss': 'ls',\n",
       " 'max_depth': 5,\n",
       " 'max_features': None,\n",
       " 'max_leaf_nodes': None,\n",
       " 'min_impurity_decrease': 0.0,\n",
       " 'min_impurity_split': None,\n",
       " 'min_samples_leaf': 5,\n",
       " 'min_samples_split': 2,\n",
       " 'min_weight_fraction_leaf': 0.0,\n",
       " 'n_estimators': 400,\n",
       " 'n_iter_no_change': None,\n",
       " 'presort': 'deprecated',\n",
       " 'random_state': None,\n",
       " 'subsample': 1.0,\n",
       " 'tol': 0.0001,\n",
       " 'validation_fraction': 0.1,\n",
       " 'verbose': 0,\n",
       " 'warm_start': False}"
      ]
     },
     "execution_count": 8,
     "metadata": {},
     "output_type": "execute_result"
    }
   ],
   "source": [
    "gbm = GradientBoostingRegressor(max_depth=5,min_samples_leaf=5,n_estimators=400)\n",
    "gbm.get_params()\n"
   ]
  },
  {
   "cell_type": "code",
   "execution_count": 9,
   "metadata": {},
   "outputs": [
    {
     "name": "stderr",
     "output_type": "stream",
     "text": [
      "/usr/local/anaconda3/lib/python3.8/site-packages/category_encoders/utils.py:21: FutureWarning: is_categorical is deprecated and will be removed in a future version.  Use is_categorical_dtype instead\n",
      "  elif pd.api.types.is_categorical(cols):\n",
      "/usr/local/anaconda3/lib/python3.8/site-packages/category_encoders/utils.py:21: FutureWarning: is_categorical is deprecated and will be removed in a future version.  Use is_categorical_dtype instead\n",
      "  elif pd.api.types.is_categorical(cols):\n"
     ]
    }
   ],
   "source": [
    "s1 = target_enc.fit_transform(X_train, y_train,return_df=True,)\n",
    "s2 = ordinal_enc.fit_transform(s1, y_train,return_df=True)\n",
    "s3 = onehot_enc.fit_transform(s2, y_train,return_df=True)\n",
    "feature_names = s3.columns.to_list()"
   ]
  },
  {
   "cell_type": "code",
   "execution_count": 10,
   "metadata": {},
   "outputs": [
    {
     "data": {
      "text/plain": [
       "140"
      ]
     },
     "execution_count": 10,
     "metadata": {},
     "output_type": "execute_result"
    }
   ],
   "source": [
    "len(feature_names)"
   ]
  },
  {
   "cell_type": "code",
   "execution_count": 11,
   "metadata": {},
   "outputs": [],
   "source": [
    "pipe1 = make_pipeline(target_enc,ordinal_enc,onehot_enc,gbm)"
   ]
  },
  {
   "cell_type": "code",
   "execution_count": 12,
   "metadata": {},
   "outputs": [
    {
     "name": "stderr",
     "output_type": "stream",
     "text": [
      "/usr/local/anaconda3/lib/python3.8/site-packages/category_encoders/utils.py:21: FutureWarning: is_categorical is deprecated and will be removed in a future version.  Use is_categorical_dtype instead\n",
      "  elif pd.api.types.is_categorical(cols):\n",
      "/usr/local/anaconda3/lib/python3.8/site-packages/category_encoders/utils.py:21: FutureWarning: is_categorical is deprecated and will be removed in a future version.  Use is_categorical_dtype instead\n",
      "  elif pd.api.types.is_categorical(cols):\n"
     ]
    },
    {
     "data": {
      "text/plain": [
       "Pipeline(steps=[('targetencoder',\n",
       "                 TargetEncoder(cols=['MSSubClass', 'MSZoning', 'LandContour',\n",
       "                                     'Neighborhood', 'BldgType', 'HouseStyle',\n",
       "                                     'RoofStyle', 'RoofMatl', 'MasVnrType',\n",
       "                                     'Foundation', 'Heating', 'Electrical',\n",
       "                                     'Functional', 'GarageType', 'Fence',\n",
       "                                     'SaleType', 'SaleCondition'],\n",
       "                               min_samples_leaf=5, smoothing=0.1, verbose=1)),\n",
       "                ('ordinalencoder',\n",
       "                 OrdinalEncoder(cols=['L...\n",
       "                                         {'col': 'PavedDrive',\n",
       "                                          'mapping': {'N': 3, 'P': 2, 'Y': 1}},\n",
       "                                         {'col': 'PoolQC',\n",
       "                                          'mapping': {'Ex': 1, 'Fa': 4, 'Gd': 2,\n",
       "                                                      'NA': 0, 'Po': 5,\n",
       "                                                      'TA': 3}}],\n",
       "                                verbose=1)),\n",
       "                ('onehotencoder',\n",
       "                 OneHotEncoder(cols=['Street', 'Alley', 'CentralAir',\n",
       "                                     'MiscFeature'],\n",
       "                               use_cat_names=True, verbose=1)),\n",
       "                ('gradientboostingregressor',\n",
       "                 GradientBoostingRegressor(max_depth=5, min_samples_leaf=5,\n",
       "                                           n_estimators=400))])"
      ]
     },
     "execution_count": 12,
     "metadata": {},
     "output_type": "execute_result"
    }
   ],
   "source": [
    "pipe1.fit(X_train,y_train)"
   ]
  },
  {
   "cell_type": "code",
   "execution_count": 13,
   "metadata": {},
   "outputs": [
    {
     "data": {
      "text/plain": [
       "0.9994150681853274"
      ]
     },
     "execution_count": 13,
     "metadata": {},
     "output_type": "execute_result"
    }
   ],
   "source": [
    "pipe1.score(X_train,y_train)"
   ]
  },
  {
   "cell_type": "code",
   "execution_count": 14,
   "metadata": {},
   "outputs": [
    {
     "data": {
      "text/plain": [
       "0.9068570153037336"
      ]
     },
     "execution_count": 14,
     "metadata": {},
     "output_type": "execute_result"
    }
   ],
   "source": [
    "pipe1.score(X_val,y_val)"
   ]
  },
  {
   "cell_type": "code",
   "execution_count": 15,
   "metadata": {},
   "outputs": [
    {
     "data": {
      "text/plain": [
       "0.9009609809703963"
      ]
     },
     "execution_count": 15,
     "metadata": {},
     "output_type": "execute_result"
    }
   ],
   "source": [
    "pipe1.score(X_test,y_test)"
   ]
  },
  {
   "cell_type": "code",
   "execution_count": 16,
   "metadata": {},
   "outputs": [
    {
     "data": {
      "text/html": [
       "<div>\n",
       "<style scoped>\n",
       "    .dataframe tbody tr th:only-of-type {\n",
       "        vertical-align: middle;\n",
       "    }\n",
       "\n",
       "    .dataframe tbody tr th {\n",
       "        vertical-align: top;\n",
       "    }\n",
       "\n",
       "    .dataframe thead th {\n",
       "        text-align: right;\n",
       "    }\n",
       "</style>\n",
       "<table border=\"1\" class=\"dataframe\">\n",
       "  <thead>\n",
       "    <tr style=\"text-align: right;\">\n",
       "      <th></th>\n",
       "      <th>Columns</th>\n",
       "      <th>Importance</th>\n",
       "    </tr>\n",
       "  </thead>\n",
       "  <tbody>\n",
       "    <tr>\n",
       "      <th>17</th>\n",
       "      <td>OverallQual</td>\n",
       "      <td>0.5076</td>\n",
       "    </tr>\n",
       "    <tr>\n",
       "      <th>14</th>\n",
       "      <td>Neighborhood</td>\n",
       "      <td>0.1117</td>\n",
       "    </tr>\n",
       "    <tr>\n",
       "      <th>43</th>\n",
       "      <td>GrLivArea</td>\n",
       "      <td>0.1099</td>\n",
       "    </tr>\n",
       "    <tr>\n",
       "      <th>58</th>\n",
       "      <td>GarageCars</td>\n",
       "      <td>0.0560</td>\n",
       "    </tr>\n",
       "    <tr>\n",
       "      <th>31</th>\n",
       "      <td>BsmtFinSF1</td>\n",
       "      <td>0.0354</td>\n",
       "    </tr>\n",
       "    <tr>\n",
       "      <th>40</th>\n",
       "      <td>1stFlrSF</td>\n",
       "      <td>0.0280</td>\n",
       "    </tr>\n",
       "    <tr>\n",
       "      <th>34</th>\n",
       "      <td>TotalBsmtSF</td>\n",
       "      <td>0.0251</td>\n",
       "    </tr>\n",
       "    <tr>\n",
       "      <th>3</th>\n",
       "      <td>LotArea</td>\n",
       "      <td>0.0130</td>\n",
       "    </tr>\n",
       "    <tr>\n",
       "      <th>102</th>\n",
       "      <td>PorchSF_Total</td>\n",
       "      <td>0.0126</td>\n",
       "    </tr>\n",
       "    <tr>\n",
       "      <th>50</th>\n",
       "      <td>KitchenQual</td>\n",
       "      <td>0.0104</td>\n",
       "    </tr>\n",
       "  </tbody>\n",
       "</table>\n",
       "</div>"
      ],
      "text/plain": [
       "           Columns  Importance\n",
       "17     OverallQual      0.5076\n",
       "14    Neighborhood      0.1117\n",
       "43       GrLivArea      0.1099\n",
       "58      GarageCars      0.0560\n",
       "31      BsmtFinSF1      0.0354\n",
       "40        1stFlrSF      0.0280\n",
       "34     TotalBsmtSF      0.0251\n",
       "3          LotArea      0.0130\n",
       "102  PorchSF_Total      0.0126\n",
       "50     KitchenQual      0.0104"
      ]
     },
     "execution_count": 16,
     "metadata": {},
     "output_type": "execute_result"
    }
   ],
   "source": [
    "# let's create our feature importance dataframe\n",
    "feats = pd.DataFrame({\n",
    "    'Columns': feature_names,\n",
    "    'Importance': pipe1[3].feature_importances_\n",
    "}).sort_values(by='Importance', ascending=False)\n",
    "# and here we go\n",
    "feats[(feats['Importance']>0.01)]"
   ]
  },
  {
   "cell_type": "code",
   "execution_count": 17,
   "metadata": {},
   "outputs": [
    {
     "data": {
      "text/html": [
       "<div>\n",
       "<style scoped>\n",
       "    .dataframe tbody tr th:only-of-type {\n",
       "        vertical-align: middle;\n",
       "    }\n",
       "\n",
       "    .dataframe tbody tr th {\n",
       "        vertical-align: top;\n",
       "    }\n",
       "\n",
       "    .dataframe thead th {\n",
       "        text-align: right;\n",
       "    }\n",
       "</style>\n",
       "<table border=\"1\" class=\"dataframe\">\n",
       "  <thead>\n",
       "    <tr style=\"text-align: right;\">\n",
       "      <th></th>\n",
       "      <th>Columns</th>\n",
       "      <th>Importance</th>\n",
       "    </tr>\n",
       "  </thead>\n",
       "  <tbody>\n",
       "    <tr>\n",
       "      <th>59</th>\n",
       "      <td>GarageArea</td>\n",
       "      <td>0.0068</td>\n",
       "    </tr>\n",
       "    <tr>\n",
       "      <th>51</th>\n",
       "      <td>TotRmsAbvGrd</td>\n",
       "      <td>0.0064</td>\n",
       "    </tr>\n",
       "    <tr>\n",
       "      <th>20</th>\n",
       "      <td>YearRemodAdd</td>\n",
       "      <td>0.0057</td>\n",
       "    </tr>\n",
       "    <tr>\n",
       "      <th>56</th>\n",
       "      <td>GarageYrBlt</td>\n",
       "      <td>0.0057</td>\n",
       "    </tr>\n",
       "    <tr>\n",
       "      <th>18</th>\n",
       "      <td>OverallCond</td>\n",
       "      <td>0.0049</td>\n",
       "    </tr>\n",
       "    <tr>\n",
       "      <th>19</th>\n",
       "      <td>YearBuilt</td>\n",
       "      <td>0.0047</td>\n",
       "    </tr>\n",
       "    <tr>\n",
       "      <th>2</th>\n",
       "      <td>LotFrontage</td>\n",
       "      <td>0.0041</td>\n",
       "    </tr>\n",
       "    <tr>\n",
       "      <th>41</th>\n",
       "      <td>2ndFlrSF</td>\n",
       "      <td>0.0039</td>\n",
       "    </tr>\n",
       "    <tr>\n",
       "      <th>25</th>\n",
       "      <td>ExterQual</td>\n",
       "      <td>0.0037</td>\n",
       "    </tr>\n",
       "    <tr>\n",
       "      <th>33</th>\n",
       "      <td>BsmtUnfSF</td>\n",
       "      <td>0.0035</td>\n",
       "    </tr>\n",
       "    <tr>\n",
       "      <th>30</th>\n",
       "      <td>BsmtExposure</td>\n",
       "      <td>0.0027</td>\n",
       "    </tr>\n",
       "    <tr>\n",
       "      <th>0</th>\n",
       "      <td>MSSubClass</td>\n",
       "      <td>0.0027</td>\n",
       "    </tr>\n",
       "    <tr>\n",
       "      <th>57</th>\n",
       "      <td>GarageFinish</td>\n",
       "      <td>0.0026</td>\n",
       "    </tr>\n",
       "    <tr>\n",
       "      <th>28</th>\n",
       "      <td>BsmtQual</td>\n",
       "      <td>0.0023</td>\n",
       "    </tr>\n",
       "    <tr>\n",
       "      <th>24</th>\n",
       "      <td>MasVnrArea</td>\n",
       "      <td>0.0023</td>\n",
       "    </tr>\n",
       "    <tr>\n",
       "      <th>10</th>\n",
       "      <td>LandContour</td>\n",
       "      <td>0.0018</td>\n",
       "    </tr>\n",
       "    <tr>\n",
       "      <th>118</th>\n",
       "      <td>Exterior_BrkFace</td>\n",
       "      <td>0.0017</td>\n",
       "    </tr>\n",
       "    <tr>\n",
       "      <th>48</th>\n",
       "      <td>BedroomAbvGr</td>\n",
       "      <td>0.0016</td>\n",
       "    </tr>\n",
       "    <tr>\n",
       "      <th>55</th>\n",
       "      <td>GarageType</td>\n",
       "      <td>0.0016</td>\n",
       "    </tr>\n",
       "    <tr>\n",
       "      <th>64</th>\n",
       "      <td>OpenPorchSF</td>\n",
       "      <td>0.0015</td>\n",
       "    </tr>\n",
       "    <tr>\n",
       "      <th>80</th>\n",
       "      <td>SaleCondition</td>\n",
       "      <td>0.0014</td>\n",
       "    </tr>\n",
       "    <tr>\n",
       "      <th>77</th>\n",
       "      <td>MoSold</td>\n",
       "      <td>0.0013</td>\n",
       "    </tr>\n",
       "    <tr>\n",
       "      <th>63</th>\n",
       "      <td>WoodDeckSF</td>\n",
       "      <td>0.0012</td>\n",
       "    </tr>\n",
       "    <tr>\n",
       "      <th>44</th>\n",
       "      <td>BsmtFullBath</td>\n",
       "      <td>0.0011</td>\n",
       "    </tr>\n",
       "    <tr>\n",
       "      <th>37</th>\n",
       "      <td>CentralAir_Y</td>\n",
       "      <td>0.0011</td>\n",
       "    </tr>\n",
       "    <tr>\n",
       "      <th>1</th>\n",
       "      <td>MSZoning</td>\n",
       "      <td>0.0010</td>\n",
       "    </tr>\n",
       "  </tbody>\n",
       "</table>\n",
       "</div>"
      ],
      "text/plain": [
       "              Columns  Importance\n",
       "59         GarageArea      0.0068\n",
       "51       TotRmsAbvGrd      0.0064\n",
       "20       YearRemodAdd      0.0057\n",
       "56        GarageYrBlt      0.0057\n",
       "18        OverallCond      0.0049\n",
       "19          YearBuilt      0.0047\n",
       "2         LotFrontage      0.0041\n",
       "41           2ndFlrSF      0.0039\n",
       "25          ExterQual      0.0037\n",
       "33          BsmtUnfSF      0.0035\n",
       "30       BsmtExposure      0.0027\n",
       "0          MSSubClass      0.0027\n",
       "57       GarageFinish      0.0026\n",
       "28           BsmtQual      0.0023\n",
       "24         MasVnrArea      0.0023\n",
       "10        LandContour      0.0018\n",
       "118  Exterior_BrkFace      0.0017\n",
       "48       BedroomAbvGr      0.0016\n",
       "55         GarageType      0.0016\n",
       "64        OpenPorchSF      0.0015\n",
       "80      SaleCondition      0.0014\n",
       "77             MoSold      0.0013\n",
       "63         WoodDeckSF      0.0012\n",
       "44       BsmtFullBath      0.0011\n",
       "37       CentralAir_Y      0.0011\n",
       "1            MSZoning      0.0010"
      ]
     },
     "execution_count": 17,
     "metadata": {},
     "output_type": "execute_result"
    }
   ],
   "source": [
    "# Features that contribute betwen 0.1% and 1%\n",
    "feats[((feats['Importance']<=0.01) & (feats['Importance']>0.001))]"
   ]
  },
  {
   "cell_type": "markdown",
   "metadata": {},
   "source": [
    "## 2nd round of modelling \n",
    "## - test reduced feature set to those with at least 1% impact"
   ]
  },
  {
   "cell_type": "code",
   "execution_count": 18,
   "metadata": {},
   "outputs": [],
   "source": [
    "over_1perc_feats = feats[(feats['Importance']>0.01)]['Columns'].to_list()"
   ]
  },
  {
   "cell_type": "code",
   "execution_count": 19,
   "metadata": {},
   "outputs": [],
   "source": [
    "X_train2 = X_train[over_1perc_feats]\n",
    "X_val2 = X_val[over_1perc_feats]\n",
    "X_test2 = X_test[over_1perc_feats]"
   ]
  },
  {
   "cell_type": "code",
   "execution_count": 20,
   "metadata": {},
   "outputs": [
    {
     "name": "stdout",
     "output_type": "stream",
     "text": [
      "<class 'pandas.core.frame.DataFrame'>\n",
      "Int64Index: 1214 entries, 0 to 1213\n",
      "Data columns (total 10 columns):\n",
      " #   Column         Non-Null Count  Dtype \n",
      "---  ------         --------------  ----- \n",
      " 0   OverallQual    1214 non-null   int64 \n",
      " 1   Neighborhood   1214 non-null   object\n",
      " 2   GrLivArea      1214 non-null   int64 \n",
      " 3   GarageCars     1214 non-null   int64 \n",
      " 4   BsmtFinSF1     1214 non-null   int64 \n",
      " 5   1stFlrSF       1214 non-null   int64 \n",
      " 6   TotalBsmtSF    1214 non-null   int64 \n",
      " 7   LotArea        1214 non-null   int64 \n",
      " 8   PorchSF_Total  1214 non-null   int64 \n",
      " 9   KitchenQual    1214 non-null   object\n",
      "dtypes: int64(8), object(2)\n",
      "memory usage: 144.3+ KB\n"
     ]
    }
   ],
   "source": [
    "X_train2.info()"
   ]
  },
  {
   "cell_type": "code",
   "execution_count": 21,
   "metadata": {},
   "outputs": [
    {
     "data": {
      "text/html": [
       "<div>\n",
       "<style scoped>\n",
       "    .dataframe tbody tr th:only-of-type {\n",
       "        vertical-align: middle;\n",
       "    }\n",
       "\n",
       "    .dataframe tbody tr th {\n",
       "        vertical-align: top;\n",
       "    }\n",
       "\n",
       "    .dataframe thead th {\n",
       "        text-align: right;\n",
       "    }\n",
       "</style>\n",
       "<table border=\"1\" class=\"dataframe\">\n",
       "  <thead>\n",
       "    <tr style=\"text-align: right;\">\n",
       "      <th></th>\n",
       "      <th>OverallQual</th>\n",
       "      <th>Neighborhood</th>\n",
       "      <th>GrLivArea</th>\n",
       "      <th>GarageCars</th>\n",
       "      <th>BsmtFinSF1</th>\n",
       "      <th>1stFlrSF</th>\n",
       "      <th>TotalBsmtSF</th>\n",
       "      <th>LotArea</th>\n",
       "      <th>PorchSF_Total</th>\n",
       "      <th>KitchenQual</th>\n",
       "    </tr>\n",
       "  </thead>\n",
       "  <tbody>\n",
       "    <tr>\n",
       "      <th>0</th>\n",
       "      <td>5</td>\n",
       "      <td>BrkSide</td>\n",
       "      <td>1167</td>\n",
       "      <td>2</td>\n",
       "      <td>645</td>\n",
       "      <td>1167</td>\n",
       "      <td>915</td>\n",
       "      <td>8731</td>\n",
       "      <td>342</td>\n",
       "      <td>TA</td>\n",
       "    </tr>\n",
       "    <tr>\n",
       "      <th>1</th>\n",
       "      <td>7</td>\n",
       "      <td>Somerst</td>\n",
       "      <td>1478</td>\n",
       "      <td>2</td>\n",
       "      <td>578</td>\n",
       "      <td>1478</td>\n",
       "      <td>1470</td>\n",
       "      <td>4403</td>\n",
       "      <td>144</td>\n",
       "      <td>Gd</td>\n",
       "    </tr>\n",
       "    <tr>\n",
       "      <th>2</th>\n",
       "      <td>3</td>\n",
       "      <td>OldTown</td>\n",
       "      <td>1699</td>\n",
       "      <td>2</td>\n",
       "      <td>440</td>\n",
       "      <td>1014</td>\n",
       "      <td>978</td>\n",
       "      <td>10615</td>\n",
       "      <td>74</td>\n",
       "      <td>TA</td>\n",
       "    </tr>\n",
       "    <tr>\n",
       "      <th>3</th>\n",
       "      <td>5</td>\n",
       "      <td>ClearCr</td>\n",
       "      <td>3086</td>\n",
       "      <td>0</td>\n",
       "      <td>152</td>\n",
       "      <td>1636</td>\n",
       "      <td>1598</td>\n",
       "      <td>18030</td>\n",
       "      <td>122</td>\n",
       "      <td>Ex</td>\n",
       "    </tr>\n",
       "    <tr>\n",
       "      <th>4</th>\n",
       "      <td>5</td>\n",
       "      <td>Edwards</td>\n",
       "      <td>1144</td>\n",
       "      <td>1</td>\n",
       "      <td>739</td>\n",
       "      <td>1144</td>\n",
       "      <td>1144</td>\n",
       "      <td>9571</td>\n",
       "      <td>44</td>\n",
       "      <td>TA</td>\n",
       "    </tr>\n",
       "  </tbody>\n",
       "</table>\n",
       "</div>"
      ],
      "text/plain": [
       "   OverallQual Neighborhood  GrLivArea  GarageCars  BsmtFinSF1  1stFlrSF  \\\n",
       "0            5      BrkSide       1167           2         645      1167   \n",
       "1            7      Somerst       1478           2         578      1478   \n",
       "2            3      OldTown       1699           2         440      1014   \n",
       "3            5      ClearCr       3086           0         152      1636   \n",
       "4            5      Edwards       1144           1         739      1144   \n",
       "\n",
       "   TotalBsmtSF  LotArea  PorchSF_Total KitchenQual  \n",
       "0          915     8731            342          TA  \n",
       "1         1470     4403            144          Gd  \n",
       "2          978    10615             74          TA  \n",
       "3         1598    18030            122          Ex  \n",
       "4         1144     9571             44          TA  "
      ]
     },
     "execution_count": 21,
     "metadata": {},
     "output_type": "execute_result"
    }
   ],
   "source": [
    "X_train2.head(5)"
   ]
  },
  {
   "cell_type": "code",
   "execution_count": 22,
   "metadata": {},
   "outputs": [],
   "source": [
    "# Set up encoders and GBM\n",
    "\n",
    "targ_enc_cols = [\n",
    "    'Neighborhood',\n",
    "]\n",
    "target_enc2 = ce.TargetEncoder(verbose=1,cols=targ_enc_cols,min_samples_leaf=5,smoothing=0.1)\n",
    "\n",
    "ordenc_cols = [\n",
    "'KitchenQual',\n",
    "]\n",
    "\n",
    "ordenc_maps = [\n",
    "{'col':'KitchenQual', 'mapping':{'NA':0,'Ex':1,'Gd':2,'TA':3,'Fa':4,'Po':5,}},\n",
    "]\n",
    "\n",
    "ordinal_enc2 = ce.OrdinalEncoder(cols=ordenc_cols,mapping=ordenc_maps,verbose=1)\n",
    "\n",
    "gbm2 = GradientBoostingRegressor(max_depth=5,min_samples_leaf=5,n_estimators=400)"
   ]
  },
  {
   "cell_type": "code",
   "execution_count": 23,
   "metadata": {},
   "outputs": [],
   "source": [
    "pipe2 = make_pipeline(target_enc2,ordinal_enc2,gbm2)"
   ]
  },
  {
   "cell_type": "code",
   "execution_count": 24,
   "metadata": {},
   "outputs": [
    {
     "name": "stderr",
     "output_type": "stream",
     "text": [
      "/usr/local/anaconda3/lib/python3.8/site-packages/category_encoders/utils.py:21: FutureWarning: is_categorical is deprecated and will be removed in a future version.  Use is_categorical_dtype instead\n",
      "  elif pd.api.types.is_categorical(cols):\n",
      "/usr/local/anaconda3/lib/python3.8/site-packages/category_encoders/utils.py:21: FutureWarning: is_categorical is deprecated and will be removed in a future version.  Use is_categorical_dtype instead\n",
      "  elif pd.api.types.is_categorical(cols):\n"
     ]
    },
    {
     "data": {
      "text/plain": [
       "Pipeline(steps=[('targetencoder',\n",
       "                 TargetEncoder(cols=['Neighborhood'], min_samples_leaf=5,\n",
       "                               smoothing=0.1, verbose=1)),\n",
       "                ('ordinalencoder',\n",
       "                 OrdinalEncoder(cols=['KitchenQual'],\n",
       "                                mapping=[{'col': 'KitchenQual',\n",
       "                                          'mapping': {'Ex': 1, 'Fa': 4, 'Gd': 2,\n",
       "                                                      'NA': 0, 'Po': 5,\n",
       "                                                      'TA': 3}}],\n",
       "                                verbose=1)),\n",
       "                ('gradientboostingregressor',\n",
       "                 GradientBoostingRegressor(max_depth=5, min_samples_leaf=5,\n",
       "                                           n_estimators=400))])"
      ]
     },
     "execution_count": 24,
     "metadata": {},
     "output_type": "execute_result"
    }
   ],
   "source": [
    "pipe2.fit(X_train2,y_train)"
   ]
  },
  {
   "cell_type": "code",
   "execution_count": 26,
   "metadata": {},
   "outputs": [
    {
     "data": {
      "text/plain": [
       "0.9975146453869387"
      ]
     },
     "execution_count": 26,
     "metadata": {},
     "output_type": "execute_result"
    }
   ],
   "source": [
    "pipe2.score(X_train2,y_train)"
   ]
  },
  {
   "cell_type": "code",
   "execution_count": 27,
   "metadata": {},
   "outputs": [
    {
     "data": {
      "text/plain": [
       "0.8956636175040908"
      ]
     },
     "execution_count": 27,
     "metadata": {},
     "output_type": "execute_result"
    }
   ],
   "source": [
    "pipe2.score(X_val2,y_val)"
   ]
  },
  {
   "cell_type": "code",
   "execution_count": 28,
   "metadata": {},
   "outputs": [
    {
     "data": {
      "text/plain": [
       "0.8795846369000951"
      ]
     },
     "execution_count": 28,
     "metadata": {},
     "output_type": "execute_result"
    }
   ],
   "source": [
    "pipe2.score(X_test2,y_test)"
   ]
  },
  {
   "cell_type": "code",
   "execution_count": 29,
   "metadata": {},
   "outputs": [],
   "source": [
    "feature2_names = X_train2.columns.to_list()"
   ]
  },
  {
   "cell_type": "code",
   "execution_count": 30,
   "metadata": {},
   "outputs": [
    {
     "data": {
      "text/html": [
       "<div>\n",
       "<style scoped>\n",
       "    .dataframe tbody tr th:only-of-type {\n",
       "        vertical-align: middle;\n",
       "    }\n",
       "\n",
       "    .dataframe tbody tr th {\n",
       "        vertical-align: top;\n",
       "    }\n",
       "\n",
       "    .dataframe thead th {\n",
       "        text-align: right;\n",
       "    }\n",
       "</style>\n",
       "<table border=\"1\" class=\"dataframe\">\n",
       "  <thead>\n",
       "    <tr style=\"text-align: right;\">\n",
       "      <th></th>\n",
       "      <th>Columns</th>\n",
       "      <th>Importance</th>\n",
       "    </tr>\n",
       "  </thead>\n",
       "  <tbody>\n",
       "    <tr>\n",
       "      <th>0</th>\n",
       "      <td>OverallQual</td>\n",
       "      <td>0.5225</td>\n",
       "    </tr>\n",
       "    <tr>\n",
       "      <th>2</th>\n",
       "      <td>GrLivArea</td>\n",
       "      <td>0.1251</td>\n",
       "    </tr>\n",
       "    <tr>\n",
       "      <th>1</th>\n",
       "      <td>Neighborhood</td>\n",
       "      <td>0.1226</td>\n",
       "    </tr>\n",
       "    <tr>\n",
       "      <th>3</th>\n",
       "      <td>GarageCars</td>\n",
       "      <td>0.0548</td>\n",
       "    </tr>\n",
       "    <tr>\n",
       "      <th>4</th>\n",
       "      <td>BsmtFinSF1</td>\n",
       "      <td>0.0521</td>\n",
       "    </tr>\n",
       "    <tr>\n",
       "      <th>5</th>\n",
       "      <td>1stFlrSF</td>\n",
       "      <td>0.0334</td>\n",
       "    </tr>\n",
       "    <tr>\n",
       "      <th>6</th>\n",
       "      <td>TotalBsmtSF</td>\n",
       "      <td>0.0328</td>\n",
       "    </tr>\n",
       "    <tr>\n",
       "      <th>7</th>\n",
       "      <td>LotArea</td>\n",
       "      <td>0.0223</td>\n",
       "    </tr>\n",
       "    <tr>\n",
       "      <th>8</th>\n",
       "      <td>PorchSF_Total</td>\n",
       "      <td>0.0207</td>\n",
       "    </tr>\n",
       "    <tr>\n",
       "      <th>9</th>\n",
       "      <td>KitchenQual</td>\n",
       "      <td>0.0138</td>\n",
       "    </tr>\n",
       "  </tbody>\n",
       "</table>\n",
       "</div>"
      ],
      "text/plain": [
       "         Columns  Importance\n",
       "0    OverallQual      0.5225\n",
       "2      GrLivArea      0.1251\n",
       "1   Neighborhood      0.1226\n",
       "3     GarageCars      0.0548\n",
       "4     BsmtFinSF1      0.0521\n",
       "5       1stFlrSF      0.0334\n",
       "6    TotalBsmtSF      0.0328\n",
       "7        LotArea      0.0223\n",
       "8  PorchSF_Total      0.0207\n",
       "9    KitchenQual      0.0138"
      ]
     },
     "execution_count": 30,
     "metadata": {},
     "output_type": "execute_result"
    }
   ],
   "source": [
    "# let's create our feature importance dataframe\n",
    "feats = pd.DataFrame({\n",
    "    'Columns': feature2_names,\n",
    "    'Importance': pipe2[2].feature_importances_\n",
    "}).sort_values(by='Importance', ascending=False)\n",
    "# and here we go\n",
    "feats[(feats['Importance']>0.01)]"
   ]
  },
  {
   "cell_type": "markdown",
   "metadata": {},
   "source": [
    "## Key features driving SalesPrice:\n",
    "\n",
    "**Top 5 are:**\n",
    "\n",
    "OverallQual: Rates the overall material and finish of the house\n",
    "\n",
    "       10\tVery Excellent\n",
    "       9\tExcellent\n",
    "       8\tVery Good\n",
    "       7\tGood\n",
    "       6\tAbove Average\n",
    "       5\tAverage\n",
    "       4\tBelow Average\n",
    "       3\tFair\n",
    "       2\tPoor\n",
    "       1\tVery Poor\n",
    "       \n",
    "GrLivArea: Above grade (ground) living area square feet\n",
    "\n",
    "Neighborhood: Physical locations within Ames city limits\n",
    "\n",
    "GarageCars: Size of garage in car capacity\n",
    "\n",
    "1stFlrSF: First Floor square feet\n",
    "\n",
    "BsmtFinSF1: Type 1 finished square feet\n"
   ]
  },
  {
   "cell_type": "code",
   "execution_count": null,
   "metadata": {},
   "outputs": [],
   "source": []
  },
  {
   "cell_type": "markdown",
   "metadata": {},
   "source": [
    "## Modelling Round 3\n",
    "* Given similarity betwent BsmtFinSF1 and TotalBsmtSF, which would be highly correlated, test model without BsmtFinSF1 (as TotalBsmtSF will have all info of BsmtFinSF1 + any info on additional basement finishes)\n",
    "* Can use same encoders as round 2 given that the variables are largely the same."
   ]
  },
  {
   "cell_type": "code",
   "execution_count": 31,
   "metadata": {},
   "outputs": [],
   "source": [
    "X_train3 = X_train[over_1perc_feats].copy()\n",
    "X_val3 = X_val[over_1perc_feats].copy()\n",
    "X_test3 = X_test[over_1perc_feats].copy()\n",
    "\n",
    "X_train3.drop('BsmtFinSF1',1,inplace=True)\n",
    "X_val3.drop('BsmtFinSF1',1,inplace=True)\n",
    "X_test3.drop('BsmtFinSF1',1,inplace=True)"
   ]
  },
  {
   "cell_type": "code",
   "execution_count": 32,
   "metadata": {},
   "outputs": [],
   "source": [
    "gbm3 = GradientBoostingRegressor(max_depth=5,min_samples_leaf=5,n_estimators=400)\n",
    "pipe3 = make_pipeline(target_enc2,ordinal_enc2,gbm3)"
   ]
  },
  {
   "cell_type": "code",
   "execution_count": 33,
   "metadata": {},
   "outputs": [
    {
     "name": "stderr",
     "output_type": "stream",
     "text": [
      "/usr/local/anaconda3/lib/python3.8/site-packages/category_encoders/utils.py:21: FutureWarning: is_categorical is deprecated and will be removed in a future version.  Use is_categorical_dtype instead\n",
      "  elif pd.api.types.is_categorical(cols):\n",
      "/usr/local/anaconda3/lib/python3.8/site-packages/category_encoders/utils.py:21: FutureWarning: is_categorical is deprecated and will be removed in a future version.  Use is_categorical_dtype instead\n",
      "  elif pd.api.types.is_categorical(cols):\n"
     ]
    },
    {
     "data": {
      "text/plain": [
       "Pipeline(steps=[('targetencoder',\n",
       "                 TargetEncoder(cols=['Neighborhood'], min_samples_leaf=5,\n",
       "                               smoothing=0.1, verbose=1)),\n",
       "                ('ordinalencoder',\n",
       "                 OrdinalEncoder(cols=['KitchenQual'],\n",
       "                                mapping=[{'col': 'KitchenQual',\n",
       "                                          'mapping': {'Ex': 1, 'Fa': 4, 'Gd': 2,\n",
       "                                                      'NA': 0, 'Po': 5,\n",
       "                                                      'TA': 3}}],\n",
       "                                verbose=1)),\n",
       "                ('gradientboostingregressor',\n",
       "                 GradientBoostingRegressor(max_depth=5, min_samples_leaf=5,\n",
       "                                           n_estimators=400))])"
      ]
     },
     "execution_count": 33,
     "metadata": {},
     "output_type": "execute_result"
    }
   ],
   "source": [
    "pipe3.fit(X_train3,y_train)"
   ]
  },
  {
   "cell_type": "code",
   "execution_count": 34,
   "metadata": {},
   "outputs": [
    {
     "data": {
      "text/plain": [
       "0.9958617102757572"
      ]
     },
     "execution_count": 34,
     "metadata": {},
     "output_type": "execute_result"
    }
   ],
   "source": [
    "pipe3.score(X_train3,y_train)"
   ]
  },
  {
   "cell_type": "code",
   "execution_count": 35,
   "metadata": {},
   "outputs": [
    {
     "data": {
      "text/plain": [
       "0.9013083425444236"
      ]
     },
     "execution_count": 35,
     "metadata": {},
     "output_type": "execute_result"
    }
   ],
   "source": [
    "pipe3.score(X_val3,y_val)"
   ]
  },
  {
   "cell_type": "code",
   "execution_count": 36,
   "metadata": {},
   "outputs": [
    {
     "data": {
      "text/plain": [
       "0.8561492550024187"
      ]
     },
     "execution_count": 36,
     "metadata": {},
     "output_type": "execute_result"
    }
   ],
   "source": [
    "pipe3.score(X_test3,y_test) # Still close to validation set results."
   ]
  },
  {
   "cell_type": "code",
   "execution_count": 37,
   "metadata": {},
   "outputs": [
    {
     "data": {
      "text/html": [
       "<div>\n",
       "<style scoped>\n",
       "    .dataframe tbody tr th:only-of-type {\n",
       "        vertical-align: middle;\n",
       "    }\n",
       "\n",
       "    .dataframe tbody tr th {\n",
       "        vertical-align: top;\n",
       "    }\n",
       "\n",
       "    .dataframe thead th {\n",
       "        text-align: right;\n",
       "    }\n",
       "</style>\n",
       "<table border=\"1\" class=\"dataframe\">\n",
       "  <thead>\n",
       "    <tr style=\"text-align: right;\">\n",
       "      <th></th>\n",
       "      <th>Columns</th>\n",
       "      <th>Importance</th>\n",
       "    </tr>\n",
       "  </thead>\n",
       "  <tbody>\n",
       "    <tr>\n",
       "      <th>0</th>\n",
       "      <td>OverallQual</td>\n",
       "      <td>0.5361</td>\n",
       "    </tr>\n",
       "    <tr>\n",
       "      <th>2</th>\n",
       "      <td>GrLivArea</td>\n",
       "      <td>0.1254</td>\n",
       "    </tr>\n",
       "    <tr>\n",
       "      <th>1</th>\n",
       "      <td>Neighborhood</td>\n",
       "      <td>0.1167</td>\n",
       "    </tr>\n",
       "    <tr>\n",
       "      <th>5</th>\n",
       "      <td>TotalBsmtSF</td>\n",
       "      <td>0.0523</td>\n",
       "    </tr>\n",
       "    <tr>\n",
       "      <th>3</th>\n",
       "      <td>GarageCars</td>\n",
       "      <td>0.0509</td>\n",
       "    </tr>\n",
       "    <tr>\n",
       "      <th>4</th>\n",
       "      <td>1stFlrSF</td>\n",
       "      <td>0.0406</td>\n",
       "    </tr>\n",
       "    <tr>\n",
       "      <th>6</th>\n",
       "      <td>LotArea</td>\n",
       "      <td>0.0321</td>\n",
       "    </tr>\n",
       "    <tr>\n",
       "      <th>7</th>\n",
       "      <td>PorchSF_Total</td>\n",
       "      <td>0.0263</td>\n",
       "    </tr>\n",
       "    <tr>\n",
       "      <th>8</th>\n",
       "      <td>KitchenQual</td>\n",
       "      <td>0.0196</td>\n",
       "    </tr>\n",
       "  </tbody>\n",
       "</table>\n",
       "</div>"
      ],
      "text/plain": [
       "         Columns  Importance\n",
       "0    OverallQual      0.5361\n",
       "2      GrLivArea      0.1254\n",
       "1   Neighborhood      0.1167\n",
       "5    TotalBsmtSF      0.0523\n",
       "3     GarageCars      0.0509\n",
       "4       1stFlrSF      0.0406\n",
       "6        LotArea      0.0321\n",
       "7  PorchSF_Total      0.0263\n",
       "8    KitchenQual      0.0196"
      ]
     },
     "execution_count": 37,
     "metadata": {},
     "output_type": "execute_result"
    }
   ],
   "source": [
    "feature3_names = X_train3.columns.to_list()\n",
    "# let's create our feature importance dataframe\n",
    "feats3 = pd.DataFrame({\n",
    "    'Columns': feature3_names,\n",
    "    'Importance': pipe3[2].feature_importances_\n",
    "}).sort_values(by='Importance', ascending=False)\n",
    "# and here we go\n",
    "feats3"
   ]
  },
  {
   "cell_type": "code",
   "execution_count": null,
   "metadata": {},
   "outputs": [],
   "source": []
  }
 ],
 "metadata": {
  "kernelspec": {
   "display_name": "Python 3",
   "language": "python",
   "name": "python3"
  },
  "language_info": {
   "codemirror_mode": {
    "name": "ipython",
    "version": 3
   },
   "file_extension": ".py",
   "mimetype": "text/x-python",
   "name": "python",
   "nbconvert_exporter": "python",
   "pygments_lexer": "ipython3",
   "version": "3.8.3"
  }
 },
 "nbformat": 4,
 "nbformat_minor": 4
}
