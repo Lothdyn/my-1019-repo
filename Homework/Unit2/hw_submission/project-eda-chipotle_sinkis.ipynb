{
 "cells": [
  {
   "cell_type": "markdown",
   "metadata": {},
   "source": [
    "<img src=\"http://imgur.com/1ZcRyrc.png\" style=\"float: left; margin: 20px; height: 55px\">\n",
    "\n",
    "# Project 2: Analyzing Chipotle Data\n",
    "\n",
    "_Author: Joseph Nelson (DC)_\n",
    "\n",
    "---"
   ]
  },
  {
   "cell_type": "markdown",
   "metadata": {},
   "source": [
    "For Project 2, you will complete a series of exercises exploring [order data from Chipotle](https://github.com/TheUpshot/chipotle), compliments of _The New York Times'_ \"The Upshot.\"\n",
    "\n",
    "For these exercises, you will conduct basic exploratory data analysis (Pandas not required) to understand the essentials of Chipotle's order data: how many orders are being made, the average price per order, how many different ingredients are used, etc. These allow you to practice business analysis skills while also becoming comfortable with Python."
   ]
  },
  {
   "cell_type": "markdown",
   "metadata": {},
   "source": [
    "---\n",
    "\n",
    "## Basic Level"
   ]
  },
  {
   "cell_type": "markdown",
   "metadata": {},
   "source": [
    "### Part 1: Read in the file with `csv.reader()` and store it in an object called `file_nested_list`.\n",
    "\n",
    "Hint: This is a TSV (tab-separated value) file, and `csv.reader()` needs to be told [how to handle it](https://docs.python.org/2/library/csv.html)."
   ]
  },
  {
   "cell_type": "code",
   "execution_count": 1,
   "metadata": {},
   "outputs": [],
   "source": [
    "import csv\n",
    "from collections import namedtuple   # Convenient to store the data rows\n",
    "\n",
    "DATA_FILE = './data/chipotle.tsv'"
   ]
  },
  {
   "cell_type": "code",
   "execution_count": 2,
   "metadata": {},
   "outputs": [],
   "source": [
    "file_nested_list = []\n",
    "with open(DATA_FILE,'r') as tsvfile:\n",
    "    file_input = csv.reader(tsvfile, delimiter='\\t')\n",
    "    for row in file_input:\n",
    "        file_nested_list.append(row)\n"
   ]
  },
  {
   "cell_type": "code",
   "execution_count": 3,
   "metadata": {},
   "outputs": [
    {
     "data": {
      "text/plain": [
       "['order_id', 'quantity', 'item_name', 'choice_description', 'item_price']"
      ]
     },
     "execution_count": 3,
     "metadata": {},
     "output_type": "execute_result"
    }
   ],
   "source": [
    "file_nested_list[0]"
   ]
  },
  {
   "cell_type": "code",
   "execution_count": 4,
   "metadata": {},
   "outputs": [
    {
     "data": {
      "text/plain": [
       "['1', '1', 'Chips and Fresh Tomato Salsa', 'NULL', '$2.39 ']"
      ]
     },
     "execution_count": 4,
     "metadata": {},
     "output_type": "execute_result"
    }
   ],
   "source": [
    "file_nested_list[1]"
   ]
  },
  {
   "cell_type": "code",
   "execution_count": 5,
   "metadata": {},
   "outputs": [
    {
     "data": {
      "text/plain": [
       "4623"
      ]
     },
     "execution_count": 5,
     "metadata": {},
     "output_type": "execute_result"
    }
   ],
   "source": [
    "len(file_nested_list)"
   ]
  },
  {
   "cell_type": "code",
   "execution_count": 6,
   "metadata": {},
   "outputs": [
    {
     "data": {
      "text/plain": [
       "[['order_id', 'quantity', 'item_name', 'choice_description', 'item_price'],\n",
       " ['1', '1', 'Chips and Fresh Tomato Salsa', 'NULL', '$2.39 '],\n",
       " ['1', '1', 'Izze', '[Clementine]', '$3.39 '],\n",
       " ['1', '1', 'Nantucket Nectar', '[Apple]', '$3.39 '],\n",
       " ['1', '1', 'Chips and Tomatillo-Green Chili Salsa', 'NULL', '$2.39 '],\n",
       " ['2',\n",
       "  '2',\n",
       "  'Chicken Bowl',\n",
       "  '[Tomatillo-Red Chili Salsa (Hot), [Black Beans, Rice, Cheese, Sour Cream]]',\n",
       "  '$16.98 '],\n",
       " ['3',\n",
       "  '1',\n",
       "  'Chicken Bowl',\n",
       "  '[Fresh Tomato Salsa (Mild), [Rice, Cheese, Sour Cream, Guacamole, Lettuce]]',\n",
       "  '$10.98 '],\n",
       " ['3', '1', 'Side of Chips', 'NULL', '$1.69 '],\n",
       " ['4',\n",
       "  '1',\n",
       "  'Steak Burrito',\n",
       "  '[Tomatillo Red Chili Salsa, [Fajita Vegetables, Black Beans, Pinto Beans, Cheese, Sour Cream, Guacamole, Lettuce]]',\n",
       "  '$11.75 '],\n",
       " ['4',\n",
       "  '1',\n",
       "  'Steak Soft Tacos',\n",
       "  '[Tomatillo Green Chili Salsa, [Pinto Beans, Cheese, Sour Cream, Lettuce]]',\n",
       "  '$9.25 '],\n",
       " ['5',\n",
       "  '1',\n",
       "  'Steak Burrito',\n",
       "  '[Fresh Tomato Salsa, [Rice, Black Beans, Pinto Beans, Cheese, Sour Cream, Lettuce]]',\n",
       "  '$9.25 '],\n",
       " ['5', '1', 'Chips and Guacamole', 'NULL', '$4.45 '],\n",
       " ['6',\n",
       "  '1',\n",
       "  'Chicken Crispy Tacos',\n",
       "  '[Roasted Chili Corn Salsa, [Fajita Vegetables, Rice, Black Beans, Cheese, Sour Cream]]',\n",
       "  '$8.75 '],\n",
       " ['6',\n",
       "  '1',\n",
       "  'Chicken Soft Tacos',\n",
       "  '[Roasted Chili Corn Salsa, [Rice, Black Beans, Cheese, Sour Cream]]',\n",
       "  '$8.75 '],\n",
       " ['7',\n",
       "  '1',\n",
       "  'Chicken Bowl',\n",
       "  '[Fresh Tomato Salsa, [Fajita Vegetables, Rice, Cheese, Sour Cream, Guacamole]]',\n",
       "  '$11.25 '],\n",
       " ['7', '1', 'Chips and Guacamole', 'NULL', '$4.45 '],\n",
       " ['8', '1', 'Chips and Tomatillo-Green Chili Salsa', 'NULL', '$2.39 '],\n",
       " ['8',\n",
       "  '1',\n",
       "  'Chicken Burrito',\n",
       "  '[Tomatillo-Green Chili Salsa (Medium), [Pinto Beans, Cheese, Sour Cream]]',\n",
       "  '$8.49 '],\n",
       " ['9',\n",
       "  '1',\n",
       "  'Chicken Burrito',\n",
       "  '[Fresh Tomato Salsa (Mild), [Black Beans, Rice, Cheese, Sour Cream, Lettuce]]',\n",
       "  '$8.49 '],\n",
       " ['9', '2', 'Canned Soda', '[Sprite]', '$2.18 '],\n",
       " ['10',\n",
       "  '1',\n",
       "  'Chicken Bowl',\n",
       "  '[Tomatillo Red Chili Salsa, [Fajita Vegetables, Black Beans, Sour Cream, Cheese, Lettuce]]',\n",
       "  '$8.75 '],\n",
       " ['10', '1', 'Chips and Guacamole', 'NULL', '$4.45 '],\n",
       " ['11',\n",
       "  '1',\n",
       "  'Barbacoa Burrito',\n",
       "  '[[Fresh Tomato Salsa (Mild), Tomatillo-Green Chili Salsa (Medium), Tomatillo-Red Chili Salsa (Hot)], [Rice, Cheese, Sour Cream, Lettuce]]',\n",
       "  '$8.99 '],\n",
       " ['11', '1', 'Nantucket Nectar', '[Pomegranate Cherry]', '$3.39 '],\n",
       " ['12',\n",
       "  '1',\n",
       "  'Chicken Burrito',\n",
       "  '[[Tomatillo-Green Chili Salsa (Medium), Tomatillo-Red Chili Salsa (Hot)], [Pinto Beans, Rice, Cheese, Sour Cream, Guacamole, Lettuce]]',\n",
       "  '$10.98 '],\n",
       " ['12', '1', 'Izze', '[Grapefruit]', '$3.39 '],\n",
       " ['13', '1', 'Chips and Fresh Tomato Salsa', 'NULL', '$2.39 '],\n",
       " ['13',\n",
       "  '1',\n",
       "  'Chicken Bowl',\n",
       "  '[Roasted Chili Corn Salsa (Medium), [Pinto Beans, Rice, Fajita Veggies, Cheese, Sour Cream, Lettuce]]',\n",
       "  '$8.49 '],\n",
       " ['14',\n",
       "  '1',\n",
       "  'Carnitas Burrito',\n",
       "  '[[Tomatillo-Green Chili Salsa (Medium), Roasted Chili Corn Salsa (Medium)], [Black Beans, Rice, Sour Cream, Lettuce]]',\n",
       "  '$8.99 '],\n",
       " ['14', '1', 'Canned Soda', '[Dr. Pepper]', '$1.09 '],\n",
       " ['15',\n",
       "  '1',\n",
       "  'Chicken Burrito',\n",
       "  '[Tomatillo-Green Chili Salsa (Medium), [Pinto Beans, Rice, Cheese, Sour Cream]]',\n",
       "  '$8.49 '],\n",
       " ['15', '1', 'Chips and Tomatillo-Green Chili Salsa', 'NULL', '$2.39 '],\n",
       " ['16',\n",
       "  '1',\n",
       "  'Steak Burrito',\n",
       "  '[[Roasted Chili Corn Salsa (Medium), Fresh Tomato Salsa (Mild)], [Rice, Black Beans, Sour Cream]]',\n",
       "  '$8.99 '],\n",
       " ['16', '1', 'Side of Chips', 'NULL', '$1.69 '],\n",
       " ['17',\n",
       "  '1',\n",
       "  'Carnitas Bowl',\n",
       "  '[Tomatillo-Red Chili Salsa (Hot), [Black Beans, Rice, Fajita Veggies, Cheese, Sour Cream, Lettuce]]',\n",
       "  '$8.99 '],\n",
       " ['17', '1', 'Bottled Water', 'NULL', '$1.09 '],\n",
       " ['18',\n",
       "  '1',\n",
       "  'Chicken Soft Tacos',\n",
       "  '[Roasted Chili Corn Salsa, Rice]',\n",
       "  '$8.75 '],\n",
       " ['18',\n",
       "  '1',\n",
       "  'Chicken Soft Tacos',\n",
       "  '[Roasted Chili Corn Salsa, [Cheese, Lettuce]]',\n",
       "  '$8.75 '],\n",
       " ['18', '1', 'Chips and Guacamole', 'NULL', '$4.45 '],\n",
       " ['18', '1', 'Chips and Tomatillo Green Chili Salsa', 'NULL', '$2.95 '],\n",
       " ['19',\n",
       "  '1',\n",
       "  'Barbacoa Bowl',\n",
       "  '[Roasted Chili Corn Salsa, [Fajita Vegetables, Rice, Black Beans, Cheese, Sour Cream, Guacamole, Lettuce]]',\n",
       "  '$11.75 '],\n",
       " ['19', '1', 'Chips', 'NULL', '$2.15 '],\n",
       " ['20', '1', 'Chips and Guacamole', 'NULL', '$4.45 '],\n",
       " ['20',\n",
       "  '1',\n",
       "  'Chicken Bowl',\n",
       "  '[Roasted Chili Corn Salsa, [Rice, Black Beans, Cheese, Sour Cream, Guacamole, Lettuce]]',\n",
       "  '$11.25 '],\n",
       " ['20',\n",
       "  '1',\n",
       "  'Steak Burrito',\n",
       "  '[Fresh Tomato Salsa, [Rice, Pinto Beans, Cheese, Sour Cream, Guacamole, Lettuce]]',\n",
       "  '$11.75 '],\n",
       " ['20',\n",
       "  '1',\n",
       "  'Chicken Salad Bowl',\n",
       "  '[Fresh Tomato Salsa, [Fajita Vegetables, Pinto Beans, Lettuce]]',\n",
       "  '$8.75 '],\n",
       " ['21',\n",
       "  '1',\n",
       "  'Chicken Burrito',\n",
       "  '[Tomatillo-Red Chili Salsa (Hot), [Black Beans, Fajita Veggies, Cheese, Sour Cream, Guacamole, Lettuce]]',\n",
       "  '$10.98 '],\n",
       " ['21',\n",
       "  '1',\n",
       "  'Steak Burrito',\n",
       "  '[Tomatillo-Red Chili Salsa (Hot), [Rice, Fajita Veggies, Cheese]]',\n",
       "  '$8.99 '],\n",
       " ['21', '1', 'Izze', '[Blackberry]', '$3.39 '],\n",
       " ['22',\n",
       "  '1',\n",
       "  'Steak Burrito',\n",
       "  '[[Fresh Tomato Salsa (Mild), Roasted Chili Corn Salsa (Medium), Tomatillo-Red Chili Salsa (Hot)], [Black Beans, Rice, Sour Cream]]',\n",
       "  '$8.99 '],\n",
       " ['22', '1', 'Chips and Guacamole', 'NULL', '$3.99 '],\n",
       " ['23',\n",
       "  '1',\n",
       "  'Steak Burrito',\n",
       "  '[Roasted Chili Corn Salsa (Medium), [Rice, Fajita Veggies, Cheese, Sour Cream, Lettuce]]',\n",
       "  '$8.99 '],\n",
       " ['23', '2', 'Canned Soda', '[Mountain Dew]', '$2.18 '],\n",
       " ['24',\n",
       "  '1',\n",
       "  'Chicken Burrito',\n",
       "  '[Roasted Chili Corn Salsa (Medium), [Black Beans, Rice, Fajita Veggies, Cheese, Sour Cream, Guacamole, Lettuce]]',\n",
       "  '$10.98 '],\n",
       " ['24', '1', 'Canned Soda', '[Sprite]', '$1.09 '],\n",
       " ['25',\n",
       "  '1',\n",
       "  'Steak Bowl',\n",
       "  '[Fresh Tomato Salsa (Mild), [Black Beans, Rice, Fajita Veggies, Cheese, Sour Cream]]',\n",
       "  '$8.99 '],\n",
       " ['25', '1', 'Chips and Fresh Tomato Salsa', 'NULL', '$2.39 '],\n",
       " ['26',\n",
       "  '1',\n",
       "  'Barbacoa Soft Tacos',\n",
       "  '[Fresh Tomato Salsa, [Fajita Vegetables, Black Beans, Lettuce]]',\n",
       "  '$9.25 '],\n",
       " ['26',\n",
       "  '1',\n",
       "  'Veggie Burrito',\n",
       "  '[Tomatillo Red Chili Salsa, [Fajita Vegetables, Rice, Black Beans, Cheese, Sour Cream, Guacamole, Lettuce]]',\n",
       "  '$11.25 '],\n",
       " ['27',\n",
       "  '1',\n",
       "  'Barbacoa Bowl',\n",
       "  '[Roasted Chili Corn Salsa, [Fajita Vegetables, Rice, Black Beans, Cheese, Sour Cream, Guacamole, Lettuce]]',\n",
       "  '$11.75 '],\n",
       " ['27', '1', 'Chips', 'NULL', '$2.15 '],\n",
       " ['28', '1', 'Chips and Guacamole', 'NULL', '$4.45 '],\n",
       " ['28', '1', 'Steak Soft Tacos', '[Fresh Tomato Salsa, Cheese]', '$9.25 '],\n",
       " ['28',\n",
       "  '1',\n",
       "  'Veggie Bowl',\n",
       "  '[Fresh Tomato Salsa, [Fajita Vegetables, Rice, Black Beans, Cheese, Sour Cream, Guacamole, Lettuce]]',\n",
       "  '$11.25 '],\n",
       " ['28',\n",
       "  '1',\n",
       "  'Chicken Burrito',\n",
       "  '[Fresh Tomato Salsa, [Rice, Black Beans, Cheese]]',\n",
       "  '$8.75 '],\n",
       " ['29',\n",
       "  '1',\n",
       "  'Steak Burrito',\n",
       "  '[Tomatillo-Red Chili Salsa (Hot), [Black Beans, Rice, Fajita Veggies, Cheese, Sour Cream, Lettuce]]',\n",
       "  '$8.99 '],\n",
       " ['29',\n",
       "  '1',\n",
       "  'Steak Soft Tacos',\n",
       "  '[Tomatillo-Red Chili Salsa (Hot), [Rice, Cheese, Sour Cream, Lettuce]]',\n",
       "  '$8.99 '],\n",
       " ['30', '1', 'Izze', '[Blackberry]', '$3.39 '],\n",
       " ['30',\n",
       "  '1',\n",
       "  'Steak Burrito',\n",
       "  '[Tomatillo-Red Chili Salsa (Hot), [Rice, Cheese]]',\n",
       "  '$8.99 '],\n",
       " ['30',\n",
       "  '1',\n",
       "  'Chicken Burrito',\n",
       "  '[Tomatillo-Red Chili Salsa (Hot), [Black Beans, Fajita Veggies, Cheese, Sour Cream, Guacamole, Lettuce]]',\n",
       "  '$10.98 '],\n",
       " ['31',\n",
       "  '1',\n",
       "  'Steak Burrito',\n",
       "  '[Roasted Chili Corn Salsa (Medium), [Rice, Black Beans, Sour Cream]]',\n",
       "  '$8.99 '],\n",
       " ['31', '1', 'Side of Chips', 'NULL', '$1.69 '],\n",
       " ['32',\n",
       "  '1',\n",
       "  'Steak Burrito',\n",
       "  '[Tomatillo-Red Chili Salsa (Hot), [Black Beans, Rice, Cheese, Sour Cream, Lettuce]]',\n",
       "  '$8.99 '],\n",
       " ['32', '1', 'Chips and Guacamole', 'NULL', '$3.99 '],\n",
       " ['33',\n",
       "  '1',\n",
       "  'Chicken Burrito',\n",
       "  '[Tomatillo Red Chili Salsa, [Rice, Black Beans, Cheese, Sour Cream]]',\n",
       "  '$8.75 '],\n",
       " ['33', '1', 'Chips and Guacamole', 'NULL', '$4.45 '],\n",
       " ['34',\n",
       "  '1',\n",
       "  'Chicken Soft Tacos',\n",
       "  '[Tomatillo Red Chili Salsa, [Rice, Cheese, Sour Cream, Lettuce]]',\n",
       "  '$8.75 '],\n",
       " ['34',\n",
       "  '1',\n",
       "  'Chicken Bowl',\n",
       "  '[Fresh Tomato Salsa, [Rice, Black Beans, Pinto Beans, Cheese, Lettuce]]',\n",
       "  '$8.75 '],\n",
       " ['34', '1', 'Chips', 'NULL', '$2.15 '],\n",
       " ['34',\n",
       "  '1',\n",
       "  'Chicken Bowl',\n",
       "  '[Fresh Tomato Salsa, [Rice, Black Beans, Cheese, Sour Cream, Lettuce]]',\n",
       "  '$8.75 '],\n",
       " ['35',\n",
       "  '1',\n",
       "  'Chicken Soft Tacos',\n",
       "  '[Roasted Chili Corn Salsa, [Rice, Cheese, Lettuce, Guacamole]]',\n",
       "  '$11.25 '],\n",
       " ['35', '1', 'Chips', 'NULL', '$2.15 '],\n",
       " ['36',\n",
       "  '1',\n",
       "  'Barbacoa Burrito',\n",
       "  '[Fresh Tomato Salsa, [Rice, Pinto Beans, Cheese, Sour Cream, Lettuce]]',\n",
       "  '$9.25 '],\n",
       " ['36',\n",
       "  '1',\n",
       "  'Chicken Burrito',\n",
       "  '[Fresh Tomato Salsa, [Rice, Black Beans, Cheese, Sour Cream, Lettuce]]',\n",
       "  '$8.75 '],\n",
       " ['37',\n",
       "  '1',\n",
       "  'Chicken Burrito',\n",
       "  '[Tomatillo Green Chili Salsa, [Rice, Black Beans, Sour Cream, Cheese]]',\n",
       "  '$8.75 '],\n",
       " ['37', '1', 'Steak Soft Tacos', '[Tomatillo Red Chili Salsa]', '$9.25 '],\n",
       " ['38',\n",
       "  '1',\n",
       "  'Veggie Bowl',\n",
       "  '[Tomatillo-Red Chili Salsa (Hot), [Pinto Beans, Black Beans, Rice, Fajita Veggies, Lettuce]]',\n",
       "  '$8.49 '],\n",
       " ['38',\n",
       "  '1',\n",
       "  'Steak Bowl',\n",
       "  '[Tomatillo-Red Chili Salsa (Hot), [Pinto Beans, Rice, Fajita Veggies, Cheese, Lettuce]]',\n",
       "  '$8.99 '],\n",
       " ['38', '1', 'Bottled Water', 'NULL', '$1.09 '],\n",
       " ['39',\n",
       "  '1',\n",
       "  'Carnitas Burrito',\n",
       "  '[Fresh Tomato Salsa, [Rice, Pinto Beans, Sour Cream, Cheese]]',\n",
       "  '$9.25 '],\n",
       " ['39', '1', 'Chips and Fresh Tomato Salsa', 'NULL', '$2.95 '],\n",
       " ['40',\n",
       "  '1',\n",
       "  'Steak Bowl',\n",
       "  '[Fresh Tomato Salsa, [Rice, Black Beans, Cheese, Sour Cream, Guacamole]]',\n",
       "  '$11.75 '],\n",
       " ['40',\n",
       "  '1',\n",
       "  'Steak Bowl',\n",
       "  '[Fresh Tomato Salsa, [Fajita Vegetables, Cheese, Sour Cream, Guacamole]]',\n",
       "  '$11.75 '],\n",
       " ['40',\n",
       "  '1',\n",
       "  'Steak Crispy Tacos',\n",
       "  '[Fresh Tomato Salsa, Sour Cream]',\n",
       "  '$9.25 '],\n",
       " ['41',\n",
       "  '1',\n",
       "  'Carnitas Burrito',\n",
       "  '[Roasted Chili Corn Salsa, [Sour Cream, Guacamole]]',\n",
       "  '$11.75 '],\n",
       " ['41', '1', 'Chips and Guacamole', 'NULL', '$4.45 '],\n",
       " ['42',\n",
       "  '1',\n",
       "  'Barbacoa Bowl',\n",
       "  '[Fresh Tomato Salsa, [Fajita Vegetables, Rice, Cheese, Sour Cream]]',\n",
       "  '$9.25 '],\n",
       " ['42', '1', 'Chips and Guacamole', 'NULL', '$4.45 '],\n",
       " ['43',\n",
       "  '1',\n",
       "  'Carnitas Bowl',\n",
       "  '[Fresh Tomato Salsa, [Fajita Vegetables, Rice, Black Beans, Cheese, Guacamole, Lettuce]]',\n",
       "  '$11.75 '],\n",
       " ['43',\n",
       "  '1',\n",
       "  'Chicken Burrito',\n",
       "  '[Tomatillo Red Chili Salsa, [Rice, Black Beans, Cheese]]',\n",
       "  '$8.75 '],\n",
       " ['44',\n",
       "  '1',\n",
       "  'Chicken Bowl',\n",
       "  '[Tomatillo Red Chili Salsa, [Rice, Fajita Vegetables, Sour Cream, Lettuce]]',\n",
       "  '$8.75 '],\n",
       " ['44', '1', 'Chips and Guacamole', 'NULL', '$4.45 '],\n",
       " ['45',\n",
       "  '1',\n",
       "  'Steak Burrito',\n",
       "  '[Tomatillo-Green Chili Salsa (Medium), [Rice, Cheese, Sour Cream, Lettuce]]',\n",
       "  '$8.99 '],\n",
       " ['45',\n",
       "  '1',\n",
       "  'Steak Bowl',\n",
       "  '[Tomatillo-Green Chili Salsa (Medium), [Rice, Cheese, Sour Cream, Lettuce]]',\n",
       "  '$8.99 '],\n",
       " ['45', '1', 'Chips and Guacamole', 'NULL', '$3.99 '],\n",
       " ['46',\n",
       "  '1',\n",
       "  'Veggie Burrito',\n",
       "  '[Fresh Tomato Salsa (Mild), [Black Beans, Rice, Fajita Veggies, Sour Cream, Lettuce]]',\n",
       "  '$8.49 '],\n",
       " ['46', '1', 'Nantucket Nectar', '[Pineapple Orange Banana]', '$3.39 '],\n",
       " ['47',\n",
       "  '1',\n",
       "  'Steak Burrito',\n",
       "  '[Roasted Chili Corn Salsa (Medium), [Rice, Black Beans, Fajita Veggies, Sour Cream]]',\n",
       "  '$8.99 '],\n",
       " ['47', '1', 'Canned Soda', '[Dr. Pepper]', '$1.09 '],\n",
       " ['48',\n",
       "  '1',\n",
       "  'Steak Burrito',\n",
       "  '[Roasted Chili Corn Salsa, [Fajita Vegetables, Rice, Cheese, Sour Cream, Lettuce]]',\n",
       "  '$9.25 '],\n",
       " ['48', '1', 'Chips and Guacamole', 'NULL', '$4.45 '],\n",
       " ['49',\n",
       "  '1',\n",
       "  'Chicken Bowl',\n",
       "  '[Tomatillo Red Chili Salsa, [Rice, Black Beans, Cheese, Sour Cream, Lettuce]]',\n",
       "  '$8.75 '],\n",
       " ['49', '1', 'Chips and Tomatillo Red Chili Salsa', 'NULL', '$2.95 '],\n",
       " ['49', '1', 'Chips and Guacamole', 'NULL', '$4.45 '],\n",
       " ['50', '1', 'Chips and Tomatillo-Green Chili Salsa', 'NULL', '$2.39 '],\n",
       " ['50',\n",
       "  '1',\n",
       "  'Chicken Burrito',\n",
       "  '[Tomatillo-Green Chili Salsa (Medium), [Pinto Beans, Rice, Cheese, Sour Cream]]',\n",
       "  '$8.49 '],\n",
       " ['51',\n",
       "  '1',\n",
       "  'Barbacoa Bowl',\n",
       "  '[[Tomatillo-Red Chili Salsa (Hot), Tomatillo-Green Chili Salsa (Medium)], [Rice, Pinto Beans, Fajita Veggies, Cheese, Sour Cream, Lettuce]]',\n",
       "  '$8.99 '],\n",
       " ['51',\n",
       "  '1',\n",
       "  'Chicken Burrito',\n",
       "  '[[Tomatillo-Red Chili Salsa (Hot), Tomatillo-Green Chili Salsa (Medium)], [Rice, Pinto Beans, Cheese, Lettuce]]',\n",
       "  '$8.49 '],\n",
       " ['51', '1', 'Canned Soda', '[Diet Dr. Pepper]', '$1.09 '],\n",
       " ['52',\n",
       "  '1',\n",
       "  'Steak Soft Tacos',\n",
       "  '[[Roasted Chili Corn Salsa (Medium), Tomatillo-Red Chili Salsa (Hot)], [Cheese, Sour Cream, Lettuce]]',\n",
       "  '$8.99 '],\n",
       " ['52', '1', 'Chips and Guacamole', 'NULL', '$3.99 '],\n",
       " ['53',\n",
       "  '1',\n",
       "  'Chicken Burrito',\n",
       "  '[Tomatillo Red Chili Salsa, [Rice, Black Beans, Sour Cream, Cheese, Lettuce]]',\n",
       "  '$8.75 '],\n",
       " ['53',\n",
       "  '1',\n",
       "  'Barbacoa Burrito',\n",
       "  '[Tomatillo Green Chili Salsa, [Rice, Black Beans, Sour Cream, Cheese, Lettuce]]',\n",
       "  '$9.25 '],\n",
       " ['53', '1', 'Chips and Guacamole', 'NULL', '$4.45 '],\n",
       " ['54',\n",
       "  '1',\n",
       "  'Chicken Bowl',\n",
       "  '[Fresh Tomato Salsa, [Guacamole, Cheese, Sour Cream, Fajita Vegetables, Rice]]',\n",
       "  '$11.25 '],\n",
       " ['54', '1', 'Chips and Guacamole', 'NULL', '$4.45 '],\n",
       " ['55',\n",
       "  '1',\n",
       "  'Steak Burrito',\n",
       "  '[Roasted Chili Corn Salsa (Medium), [Rice, Black Beans, Fajita Veggies, Sour Cream]]',\n",
       "  '$8.99 '],\n",
       " ['55', '1', 'Canned Soda', '[Coca Cola]', '$1.09 '],\n",
       " ['56',\n",
       "  '1',\n",
       "  'Barbacoa Bowl',\n",
       "  '[Tomatillo Red Chili Salsa, [Rice, Pinto Beans, Cheese, Lettuce]]',\n",
       "  '$9.25 '],\n",
       " ['56', '1', 'Chips and Tomatillo Red Chili Salsa', 'NULL', '$2.95 '],\n",
       " ['56', '1', 'Chips and Guacamole', 'NULL', '$4.45 '],\n",
       " ['57',\n",
       "  '1',\n",
       "  'Barbacoa Burrito',\n",
       "  '[Roasted Chili Corn Salsa, [Rice, Pinto Beans, Cheese, Guacamole, Lettuce]]',\n",
       "  '$11.75 '],\n",
       " ['57', '1', 'Chips and Guacamole', 'NULL', '$4.45 '],\n",
       " ['58',\n",
       "  '1',\n",
       "  'Chicken Burrito',\n",
       "  '[Tomatillo-Green Chili Salsa (Medium), [Pinto Beans, Rice, Cheese, Sour Cream]]',\n",
       "  '$8.49 '],\n",
       " ['58', '1', 'Chips and Tomatillo-Green Chili Salsa', 'NULL', '$2.39 '],\n",
       " ['59',\n",
       "  '1',\n",
       "  'Chicken Burrito',\n",
       "  '[Roasted Chili Corn Salsa (Medium), [Rice, Black Beans, Sour Cream, Guacamole]]',\n",
       "  '$10.98 '],\n",
       " ['60',\n",
       "  '2',\n",
       "  'Chicken Salad Bowl',\n",
       "  '[Tomatillo Green Chili Salsa, [Sour Cream, Cheese, Guacamole]]',\n",
       "  '$22.50 '],\n",
       " ['61',\n",
       "  '1',\n",
       "  'Barbacoa Bowl',\n",
       "  '[Tomatillo Red Chili Salsa, [Fajita Vegetables, Rice, Black Beans, Cheese, Sour Cream, Guacamole, Lettuce]]',\n",
       "  '$11.75 '],\n",
       " ['61', '1', 'Chips and Guacamole', 'NULL', '$4.45 '],\n",
       " ['62',\n",
       "  '1',\n",
       "  'Chicken Bowl',\n",
       "  '[Fresh Tomato Salsa, [Rice, Fajita Vegetables, Sour Cream, Cheese, Guacamole]]',\n",
       "  '$11.25 '],\n",
       " ['62', '1', 'Chips and Guacamole', 'NULL', '$4.45 '],\n",
       " ['63',\n",
       "  '1',\n",
       "  'Chicken Bowl',\n",
       "  '[Tomatillo Green Chili Salsa, [Rice, Sour Cream, Cheese, Guacamole]]',\n",
       "  '$11.25 '],\n",
       " ['63', '1', 'Chips and Guacamole', 'NULL', '$4.45 '],\n",
       " ['64',\n",
       "  '1',\n",
       "  'Chicken Bowl',\n",
       "  '[Fresh Tomato Salsa, [Fajita Vegetables, Rice, Black Beans, Cheese, Guacamole, Lettuce]]',\n",
       "  '$11.25 '],\n",
       " ['64',\n",
       "  '1',\n",
       "  'Veggie Bowl',\n",
       "  '[Tomatillo Red Chili Salsa, [Fajita Vegetables, Black Beans, Cheese, Guacamole, Lettuce]]',\n",
       "  '$11.25 '],\n",
       " ['65',\n",
       "  '1',\n",
       "  'Barbacoa Burrito',\n",
       "  '[Tomatillo Red Chili Salsa, [Rice, Sour Cream, Cheese, Guacamole]]',\n",
       "  '$11.75 '],\n",
       " ['65',\n",
       "  '1',\n",
       "  'Carnitas Bowl',\n",
       "  '[Roasted Chili Corn Salsa, [Rice, Fajita Vegetables, Black Beans, Sour Cream, Cheese]]',\n",
       "  '$9.25 '],\n",
       " ['65', '1', 'Chips and Guacamole', 'NULL', '$4.45 '],\n",
       " ['66',\n",
       "  '1',\n",
       "  'Steak Burrito',\n",
       "  '[Tomatillo-Green Chili Salsa (Medium), [Rice, Black Beans, Sour Cream, Guacamole]]',\n",
       "  '$11.48 '],\n",
       " ['67',\n",
       "  '2',\n",
       "  'Steak Burrito',\n",
       "  '[Tomatillo-Red Chili Salsa (Hot), [Rice, Cheese, Sour Cream, Lettuce]]',\n",
       "  '$17.98 '],\n",
       " ['67', '1', 'Side of Chips', 'NULL', '$1.69 '],\n",
       " ['68',\n",
       "  '2',\n",
       "  'Chicken Burrito',\n",
       "  '[Tomatillo Red Chili Salsa, [Rice, Black Beans, Sour Cream, Cheese, Lettuce]]',\n",
       "  '$17.50 '],\n",
       " ['68', '1', 'Chips and Guacamole', 'NULL', '$4.45 '],\n",
       " ['69',\n",
       "  '1',\n",
       "  'Chicken Burrito',\n",
       "  '[Tomatillo-Green Chili Salsa (Medium), [Pinto Beans, Rice, Cheese, Sour Cream]]',\n",
       "  '$8.49 '],\n",
       " ['69', '1', 'Chips and Tomatillo-Green Chili Salsa', 'NULL', '$2.39 '],\n",
       " ['70',\n",
       "  '2',\n",
       "  'Chicken Bowl',\n",
       "  '[Fresh Tomato Salsa, [Fajita Vegetables, Rice, Lettuce]]',\n",
       "  '$17.50 '],\n",
       " ['70', '1', 'Chips and Guacamole', 'NULL', '$4.45 '],\n",
       " ['71', '1', 'Chips and Guacamole', 'NULL', '$4.45 '],\n",
       " ['71',\n",
       "  '1',\n",
       "  'Veggie Bowl',\n",
       "  '[Tomatillo Red Chili Salsa, [Fajita Vegetables, Rice, Black Beans, Cheese, Guacamole, Lettuce]]',\n",
       "  '$11.25 '],\n",
       " ['71',\n",
       "  '1',\n",
       "  'Steak Burrito',\n",
       "  '[Tomatillo Green Chili Salsa, [Rice, Cheese, Guacamole, Lettuce]]',\n",
       "  '$11.75 '],\n",
       " ['72',\n",
       "  '1',\n",
       "  'Chicken Burrito',\n",
       "  '[[Roasted Chili Corn Salsa (Medium), Tomatillo-Red Chili Salsa (Hot)], [Black Beans, Rice, Fajita Veggies, Cheese, Sour Cream, Guacamole, Lettuce]]',\n",
       "  '$10.98 '],\n",
       " ['73',\n",
       "  '1',\n",
       "  'Chicken Bowl',\n",
       "  '[Fresh Tomato Salsa (Mild), [Black Beans, Rice, Fajita Veggies, Cheese, Sour Cream, Lettuce]]',\n",
       "  '$8.49 '],\n",
       " ['73',\n",
       "  '1',\n",
       "  'Chicken Burrito',\n",
       "  '[[Roasted Chili Corn Salsa (Medium), Tomatillo-Red Chili Salsa (Hot)], [Black Beans, Rice, Fajita Veggies, Cheese, Guacamole, Lettuce]]',\n",
       "  '$10.98 '],\n",
       " ['73', '2', 'Canned Soda', '[Diet Coke]', '$2.18 '],\n",
       " ['74',\n",
       "  '1',\n",
       "  'Carnitas Bowl',\n",
       "  '[Roasted Chili Corn Salsa (Medium), [Pinto Beans, Rice, Fajita Veggies, Cheese, Sour Cream, Guacamole, Lettuce]]',\n",
       "  '$11.48 '],\n",
       " ['74',\n",
       "  '1',\n",
       "  'Veggie Bowl',\n",
       "  '[[Fresh Tomato Salsa (Mild), Roasted Chili Corn Salsa (Medium)], [Black Beans, Rice, Fajita Veggies, Cheese, Sour Cream, Lettuce]]',\n",
       "  '$8.49 '],\n",
       " ['74', '1', 'Chips and Tomatillo-Green Chili Salsa', 'NULL', '$2.39 '],\n",
       " ['75', '1', 'Chips and Guacamole', 'NULL', '$4.45 '],\n",
       " ['75',\n",
       "  '1',\n",
       "  'Chicken Burrito',\n",
       "  '[Tomatillo Red Chili Salsa, [Rice, Black Beans, Cheese, Guacamole, Lettuce]]',\n",
       "  '$11.25 '],\n",
       " ['75',\n",
       "  '1',\n",
       "  'Barbacoa Crispy Tacos',\n",
       "  '[Tomatillo Red Chili Salsa, [Rice, Black Beans, Cheese, Sour Cream, Guacamole]]',\n",
       "  '$11.75 '],\n",
       " ['75',\n",
       "  '1',\n",
       "  'Chicken Burrito',\n",
       "  '[Tomatillo Red Chili Salsa, [Rice, Cheese, Sour Cream]]',\n",
       "  '$8.75 '],\n",
       " ['76',\n",
       "  '1',\n",
       "  'Chicken Burrito',\n",
       "  '[[Tomatillo-Red Chili Salsa (Hot), Fresh Tomato Salsa (Mild)], [Rice, Black Beans, Cheese, Lettuce]]',\n",
       "  '$8.49 '],\n",
       " ['76', '2', 'Canned Soda', '[Diet Dr. Pepper]', '$2.18 '],\n",
       " ['77',\n",
       "  '1',\n",
       "  'Chicken Burrito',\n",
       "  '[Tomatillo-Red Chili Salsa (Hot), [Black Beans, Rice, Cheese, Sour Cream, Lettuce]]',\n",
       "  '$8.49 '],\n",
       " ['77', '1', 'Nantucket Nectar', '[Apple]', '$3.39 '],\n",
       " ['78',\n",
       "  '1',\n",
       "  'Chicken Burrito',\n",
       "  '[Tomatillo-Green Chili Salsa (Medium), Lettuce]',\n",
       "  '$8.49 '],\n",
       " ['78',\n",
       "  '1',\n",
       "  'Steak Soft Tacos',\n",
       "  '[Roasted Chili Corn Salsa (Medium), Lettuce]',\n",
       "  '$8.99 '],\n",
       " ['79',\n",
       "  '1',\n",
       "  'Chicken Bowl',\n",
       "  '[Roasted Chili Corn Salsa (Medium), [Black Beans, Rice, Fajita Veggies, Cheese, Sour Cream, Guacamole, Lettuce]]',\n",
       "  '$10.98 '],\n",
       " ['80',\n",
       "  '1',\n",
       "  'Steak Burrito',\n",
       "  '[Fresh Tomato Salsa (Mild), [Rice, Black Beans, Sour Cream, Guacamole]]',\n",
       "  '$11.48 '],\n",
       " ['81',\n",
       "  '1',\n",
       "  'Chicken Burrito',\n",
       "  '[Tomatillo-Green Chili Salsa (Medium), [Rice, Fajita Veggies, Cheese, Sour Cream]]',\n",
       "  '$8.49 '],\n",
       " ['81', '1', 'Canned Soda', '[Coca Cola]', '$1.09 '],\n",
       " ['81', '1', 'Canned Soda', '[Dr. Pepper]', '$1.09 '],\n",
       " ['82',\n",
       "  '1',\n",
       "  'Barbacoa Soft Tacos',\n",
       "  '[Tomatillo Red Chili Salsa, [Rice, Pinto Beans, Cheese, Sour Cream]]',\n",
       "  '$9.25 '],\n",
       " ['82',\n",
       "  '1',\n",
       "  'Chicken Bowl',\n",
       "  '[Fresh Tomato Salsa, [Rice, Black Beans, Sour Cream]]',\n",
       "  '$8.75 '],\n",
       " ['82', '1', 'Chips and Fresh Tomato Salsa', 'NULL', '$2.95 '],\n",
       " ['83',\n",
       "  '1',\n",
       "  'Steak Soft Tacos',\n",
       "  '[Fresh Tomato Salsa, [Cheese, Sour Cream]]',\n",
       "  '$9.25 '],\n",
       " ['83', '1', 'Chips and Guacamole', 'NULL', '$4.45 '],\n",
       " ['83',\n",
       "  '1',\n",
       "  'Veggie Salad Bowl',\n",
       "  '[Fresh Tomato Salsa, [Fajita Vegetables, Rice, Black Beans, Cheese, Sour Cream, Guacamole, Lettuce]]',\n",
       "  '$11.25 '],\n",
       " ['84',\n",
       "  '1',\n",
       "  'Steak Bowl',\n",
       "  '[Fresh Tomato Salsa (Mild), [Rice, Fajita Veggies, Guacamole, Lettuce]]',\n",
       "  '$11.48 '],\n",
       " ['84',\n",
       "  '1',\n",
       "  'Chicken Burrito',\n",
       "  '[Roasted Chili Corn Salsa (Medium), [Rice, Cheese, Sour Cream, Lettuce]]',\n",
       "  '$8.49 '],\n",
       " ['84',\n",
       "  '1',\n",
       "  'Chicken Burrito',\n",
       "  '[Roasted Chili Corn Salsa (Medium), [Rice, Cheese, Lettuce]]',\n",
       "  '$8.49 '],\n",
       " ['85',\n",
       "  '1',\n",
       "  'Steak Burrito',\n",
       "  '[Roasted Chili Corn Salsa (Medium), [Fajita Veggies, Cheese, Lettuce, Sour Cream, Rice]]',\n",
       "  '$8.99 '],\n",
       " ['85', '1', 'Chips and Roasted Chili-Corn Salsa', 'NULL', '$2.39 '],\n",
       " ['86',\n",
       "  '1',\n",
       "  'Veggie Bowl',\n",
       "  '[Roasted Chili Corn Salsa, [Fajita Vegetables, Rice, Cheese, Sour Cream, Guacamole, Lettuce]]',\n",
       "  '$11.25 '],\n",
       " ['86',\n",
       "  '1',\n",
       "  'Chicken Bowl',\n",
       "  '[Fresh Tomato Salsa, [Rice, Cheese, Sour Cream]]',\n",
       "  '$8.75 '],\n",
       " ['86', '1', 'Chips and Fresh Tomato Salsa', 'NULL', '$2.95 '],\n",
       " ['87', '1', 'Canned Soda', '[Coca Cola]', '$1.09 '],\n",
       " ['87',\n",
       "  '1',\n",
       "  'Steak Burrito',\n",
       "  '[Roasted Chili Corn Salsa (Medium), [Rice, Black Beans, Sour Cream]]',\n",
       "  '$8.99 '],\n",
       " ['88',\n",
       "  '1',\n",
       "  'Chicken Burrito',\n",
       "  '[Tomatillo-Green Chili Salsa (Medium), [Pinto Beans, Rice, Cheese, Sour Cream]]',\n",
       "  '$8.49 '],\n",
       " ['88', '1', 'Chips and Tomatillo-Green Chili Salsa', 'NULL', '$2.39 '],\n",
       " ['89',\n",
       "  '1',\n",
       "  'Chicken Bowl',\n",
       "  '[[Roasted Chili Corn Salsa (Medium), Tomatillo-Red Chili Salsa (Hot)], [Black Beans, Rice, Fajita Veggies, Guacamole, Lettuce]]',\n",
       "  '$10.98 '],\n",
       " ['89', '1', 'Canned Soda', '[Diet Coke]', '$1.09 '],\n",
       " ['89', '1', 'Chips and Guacamole', 'NULL', '$3.99 '],\n",
       " ['90',\n",
       "  '1',\n",
       "  'Chicken Burrito',\n",
       "  '[Tomatillo Red Chili Salsa, [Rice, Black Beans, Sour Cream, Cheese, Lettuce, Guacamole]]',\n",
       "  '$11.25 '],\n",
       " ['90',\n",
       "  '1',\n",
       "  'Chicken Burrito',\n",
       "  '[Tomatillo Green Chili Salsa, [Rice, Pinto Beans, Sour Cream, Cheese, Lettuce]]',\n",
       "  '$8.75 '],\n",
       " ['91',\n",
       "  '1',\n",
       "  'Chicken Burrito',\n",
       "  '[Tomatillo-Red Chili Salsa (Hot), [Black Beans, Rice, Cheese, Sour Cream, Lettuce]]',\n",
       "  '$8.49 '],\n",
       " ['91', '1', 'Nantucket Nectar', '[Peach Orange]', '$3.39 '],\n",
       " ['92',\n",
       "  '1',\n",
       "  'Chicken Bowl',\n",
       "  '[Fresh Tomato Salsa, [Rice, Cheese, Lettuce]]',\n",
       "  '$8.75 '],\n",
       " ['92',\n",
       "  '1',\n",
       "  'Steak Bowl',\n",
       "  '[Roasted Chili Corn Salsa, [Rice, Black Beans, Cheese, Sour Cream, Lettuce]]',\n",
       "  '$9.25 '],\n",
       " ['92', '1', 'Chips', 'NULL', '$2.15 '],\n",
       " ['93',\n",
       "  '1',\n",
       "  'Chicken Bowl',\n",
       "  '[Roasted Chili Corn Salsa, [Fajita Vegetables, Rice, Black Beans, Cheese, Sour Cream, Guacamole, Lettuce]]',\n",
       "  '$11.25 '],\n",
       " ['93',\n",
       "  '1',\n",
       "  'Veggie Bowl',\n",
       "  '[Roasted Chili Corn Salsa, [Rice, Black Beans, Cheese, Sour Cream, Guacamole, Lettuce]]',\n",
       "  '$11.25 '],\n",
       " ['93',\n",
       "  '1',\n",
       "  'Chicken Bowl',\n",
       "  '[Roasted Chili Corn Salsa, [Fajita Vegetables, Rice, Black Beans, Pinto Beans, Cheese, Sour Cream, Guacamole, Lettuce]]',\n",
       "  '$11.25 '],\n",
       " ['93', '1', 'Chips and Guacamole', 'NULL', '$4.45 '],\n",
       " ['94',\n",
       "  '2',\n",
       "  'Chicken Salad Bowl',\n",
       "  '[Fresh Tomato Salsa, [Fajita Vegetables, Pinto Beans, Guacamole]]',\n",
       "  '$22.50 '],\n",
       " ['95', '1', 'Chips and Guacamole', 'NULL', '$4.45 '],\n",
       " ['95',\n",
       "  '1',\n",
       "  'Steak Bowl',\n",
       "  '[Tomatillo Green Chili Salsa, [Fajita Vegetables, Rice, Black Beans, Cheese, Guacamole, Lettuce]]',\n",
       "  '$11.75 '],\n",
       " ['96',\n",
       "  '1',\n",
       "  'Chicken Burrito',\n",
       "  '[Tomatillo Red Chili Salsa, [Rice, Black Beans, Cheese, Sour Cream]]',\n",
       "  '$8.75 '],\n",
       " ['96',\n",
       "  '2',\n",
       "  'Chicken Crispy Tacos',\n",
       "  '[Tomatillo Red Chili Salsa, [Cheese, Sour Cream, Lettuce]]',\n",
       "  '$17.50 '],\n",
       " ['96',\n",
       "  '1',\n",
       "  'Chicken Bowl',\n",
       "  '[Tomatillo Green Chili Salsa, [Rice, Black Beans, Cheese, Sour Cream]]',\n",
       "  '$8.75 '],\n",
       " ['97',\n",
       "  '1',\n",
       "  'Barbacoa Bowl',\n",
       "  '[Tomatillo Red Chili Salsa, [Rice, Black Beans, Cheese]]',\n",
       "  '$9.25 '],\n",
       " ['97',\n",
       "  '1',\n",
       "  'Chicken Bowl',\n",
       "  '[Roasted Chili Corn Salsa, [Rice, Black Beans, Cheese, Sour Cream]]',\n",
       "  '$8.75 '],\n",
       " ['97', '1', 'Chips', 'NULL', '$2.15 '],\n",
       " ['98',\n",
       "  '1',\n",
       "  'Barbacoa Burrito',\n",
       "  '[Tomatillo Red Chili Salsa, [Rice, Cheese, Lettuce]]',\n",
       "  '$9.25 '],\n",
       " ['98', '2', 'Chips', 'NULL', '$4.30 '],\n",
       " ['98',\n",
       "  '1',\n",
       "  'Chicken Bowl',\n",
       "  '[Tomatillo Green Chili Salsa, [Rice, Pinto Beans, Sour Cream, Lettuce]]',\n",
       "  '$8.75 '],\n",
       " ['99',\n",
       "  '1',\n",
       "  'Veggie Burrito',\n",
       "  '[Tomatillo Red Chili Salsa, [Black Beans, Cheese, Guacamole]]',\n",
       "  '$11.25 '],\n",
       " ['99', '1', 'Chips', 'NULL', '$2.15 '],\n",
       " ['100',\n",
       "  '1',\n",
       "  'Steak Burrito',\n",
       "  '[Roasted Chili Corn Salsa (Medium), [Rice, Black Beans, Sour Cream]]',\n",
       "  '$8.99 '],\n",
       " ['100', '1', 'Canned Soda', '[Mountain Dew]', '$1.09 '],\n",
       " ['101',\n",
       "  '1',\n",
       "  'Steak Burrito',\n",
       "  '[Tomatillo-Green Chili Salsa (Medium), [Black Beans, Rice, Cheese, Sour Cream, Lettuce]]',\n",
       "  '$8.99 '],\n",
       " ['101', '1', 'Chips and Guacamole', 'NULL', '$3.99 '],\n",
       " ['102',\n",
       "  '1',\n",
       "  'Chicken Bowl',\n",
       "  '[Fresh Tomato Salsa, [Fajita Vegetables, Rice, Black Beans, Cheese, Sour Cream, Lettuce]]',\n",
       "  '$8.75 '],\n",
       " ['102', '1', 'Chips and Tomatillo Green Chili Salsa', 'NULL', '$2.95 '],\n",
       " ['102', '1', 'Chips and Roasted Chili Corn Salsa', 'NULL', '$2.95 '],\n",
       " ['103',\n",
       "  '1',\n",
       "  'Steak Burrito',\n",
       "  '[Tomatillo Red Chili Salsa, [Rice, Black Beans, Cheese, Sour Cream, Guacamole, Lettuce]]',\n",
       "  '$11.75 '],\n",
       " ['103', '2', 'Chips and Tomatillo Green Chili Salsa', 'NULL', '$5.90 '],\n",
       " ['103',\n",
       "  '1',\n",
       "  'Steak Burrito',\n",
       "  '[Tomatillo Red Chili Salsa, [Rice, Black Beans, Cheese]]',\n",
       "  '$9.25 '],\n",
       " ['103',\n",
       "  '1',\n",
       "  'Carnitas Soft Tacos',\n",
       "  '[Tomatillo Green Chili Salsa, [Fajita Vegetables, Pinto Beans, Cheese]]',\n",
       "  '$9.25 '],\n",
       " ['103',\n",
       "  '1',\n",
       "  'Steak Burrito',\n",
       "  '[Tomatillo Red Chili Salsa, [Rice, Black Beans, Cheese, Sour Cream, Guacamole, Lettuce]]',\n",
       "  '$11.75 '],\n",
       " ['104',\n",
       "  '1',\n",
       "  'Carnitas Burrito',\n",
       "  '[Fresh Tomato Salsa, [Rice, Pinto Beans, Sour Cream, Cheese]]',\n",
       "  '$9.25 '],\n",
       " ['104', '1', 'Chips and Fresh Tomato Salsa', 'NULL', '$2.95 '],\n",
       " ['105',\n",
       "  '2',\n",
       "  'Chicken Burrito',\n",
       "  '[Tomatillo Red Chili Salsa, [Rice, Black Beans, Cheese, Sour Cream, Lettuce]]',\n",
       "  '$17.50 '],\n",
       " ['106',\n",
       "  '1',\n",
       "  'Chicken Burrito',\n",
       "  '[Fresh Tomato Salsa, [Rice, Pinto Beans, Cheese, Sour Cream]]',\n",
       "  '$8.75 '],\n",
       " ['106',\n",
       "  '1',\n",
       "  'Steak Bowl',\n",
       "  '[Fresh Tomato Salsa, [Rice, Black Beans, Pinto Beans, Cheese, Sour Cream]]',\n",
       "  '$9.25 '],\n",
       " ['107',\n",
       "  '1',\n",
       "  'Chicken Burrito',\n",
       "  '[Roasted Chili Corn Salsa (Medium), [Rice, Fajita Veggies, Cheese, Sour Cream, Guacamole, Lettuce]]',\n",
       "  '$10.98 '],\n",
       " ['108',\n",
       "  '1',\n",
       "  'Steak Burrito',\n",
       "  '[Roasted Chili Corn Salsa (Medium), [Rice, Fajita Veggies, Cheese, Lettuce]]',\n",
       "  '$8.99 '],\n",
       " ['108', '1', 'Canned Soda', '[Mountain Dew]', '$1.09 '],\n",
       " ['108', '1', 'Canned Soda', '[Dr. Pepper]', '$1.09 '],\n",
       " ['108', '1', 'Canned Soda', '[Mountain Dew]', '$1.09 '],\n",
       " ['108',\n",
       "  '1',\n",
       "  'Barbacoa Burrito',\n",
       "  '[[Tomatillo-Red Chili Salsa (Hot), Fresh Tomato Salsa (Mild), Tomatillo-Green Chili Salsa (Medium)], [Rice, Pinto Beans, Cheese]]',\n",
       "  '$8.99 '],\n",
       " ['109',\n",
       "  '1',\n",
       "  'Chicken Salad',\n",
       "  '[Roasted Chili Corn Salsa (Medium), [Black Beans, Rice, Fajita Veggies, Cheese, Sour Cream, Guacamole, Lettuce]]',\n",
       "  '$10.98 '],\n",
       " ['109', '1', 'Canned Soda', '[Diet Dr. Pepper]', '$1.09 '],\n",
       " ['110',\n",
       "  '1',\n",
       "  'Chicken Bowl',\n",
       "  '[Tomatillo Red Chili Salsa, [Rice, Cheese, Lettuce]]',\n",
       "  '$8.75 '],\n",
       " ['110',\n",
       "  '1',\n",
       "  'Veggie Bowl',\n",
       "  '[Roasted Chili Corn Salsa, [Rice, Pinto Beans, Cheese, Sour Cream]]',\n",
       "  '$8.75 '],\n",
       " ['110',\n",
       "  '1',\n",
       "  'Barbacoa Bowl',\n",
       "  '[Tomatillo Red Chili Salsa, [Rice, Cheese, Lettuce]]',\n",
       "  '$9.25 '],\n",
       " ['110',\n",
       "  '1',\n",
       "  'Barbacoa Crispy Tacos',\n",
       "  '[Roasted Chili Corn Salsa, [Rice, Cheese, Lettuce]]',\n",
       "  '$9.25 '],\n",
       " ['111',\n",
       "  '1',\n",
       "  'Chicken Salad Bowl',\n",
       "  '[Fresh Tomato Salsa, [Fajita Vegetables, Rice, Cheese, Sour Cream, Lettuce]]',\n",
       "  '$8.75 '],\n",
       " ['111',\n",
       "  '1',\n",
       "  'Chicken Bowl',\n",
       "  '[Fresh Tomato Salsa, [Rice, Black Beans, Cheese]]',\n",
       "  '$8.75 '],\n",
       " ['112',\n",
       "  '1',\n",
       "  'Steak Burrito',\n",
       "  '[Tomatillo-Red Chili Salsa (Hot), [Pinto Beans, Rice, Fajita Veggies, Cheese, Sour Cream]]',\n",
       "  '$8.99 '],\n",
       " ['112',\n",
       "  '1',\n",
       "  'Steak Bowl',\n",
       "  '[Tomatillo-Red Chili Salsa (Hot), [Pinto Beans, Rice, Fajita Veggies, Cheese, Sour Cream]]',\n",
       "  '$8.99 '],\n",
       " ['113',\n",
       "  '1',\n",
       "  'Steak Bowl',\n",
       "  '[Roasted Chili Corn Salsa (Medium), [Rice, Black Beans, Sour Cream]]',\n",
       "  '$8.99 '],\n",
       " ['113', '1', 'Canned Soda', '[Mountain Dew]', '$1.09 '],\n",
       " ['114',\n",
       "  '1',\n",
       "  'Steak Bowl',\n",
       "  '[Fresh Tomato Salsa, [Fajita Vegetables, Cheese, Sour Cream, Guacamole, Lettuce]]',\n",
       "  '$11.75 '],\n",
       " ['114', '1', 'Canned Soft Drink', '[Coke]', '$1.25 '],\n",
       " ['115',\n",
       "  '1',\n",
       "  'Steak Burrito',\n",
       "  '[Roasted Chili Corn Salsa (Medium), [Black Beans, Rice]]',\n",
       "  '$8.99 '],\n",
       " ['115', '1', 'Chips and Fresh Tomato Salsa', 'NULL', '$2.39 '],\n",
       " ['116',\n",
       "  '1',\n",
       "  'Steak Soft Tacos',\n",
       "  '[Fresh Tomato Salsa, [Rice, Cheese, Lettuce]]',\n",
       "  '$9.25 '],\n",
       " ['116', '1', 'Chips and Fresh Tomato Salsa', 'NULL', '$2.95 '],\n",
       " ['117',\n",
       "  '1',\n",
       "  'Barbacoa Soft Tacos',\n",
       "  '[Tomatillo-Red Chili Salsa (Hot), [Pinto Beans, Cheese, Sour Cream, Lettuce]]',\n",
       "  '$8.99 '],\n",
       " ['117', '1', 'Chips and Guacamole', 'NULL', '$3.99 '],\n",
       " ['118',\n",
       "  '1',\n",
       "  'Chicken Burrito',\n",
       "  '[Tomatillo-Green Chili Salsa (Medium), [Pinto Beans, Rice, Cheese, Sour Cream]]',\n",
       "  '$8.49 '],\n",
       " ['118', '1', 'Chips and Tomatillo-Green Chili Salsa', 'NULL', '$2.39 '],\n",
       " ['119',\n",
       "  '1',\n",
       "  'Chicken Burrito',\n",
       "  '[[Fresh Tomato Salsa (Mild), Roasted Chili Corn Salsa (Medium)], [Pinto Beans, Rice, Fajita Veggies, Cheese, Sour Cream, Lettuce]]',\n",
       "  '$8.49 '],\n",
       " ['119',\n",
       "  '1',\n",
       "  'Chicken Burrito',\n",
       "  '[Roasted Chili Corn Salsa (Medium), [Black Beans, Rice, Cheese, Sour Cream, Lettuce]]',\n",
       "  '$8.49 '],\n",
       " ['120',\n",
       "  '1',\n",
       "  'Chicken Burrito',\n",
       "  '[Tomatillo-Red Chili Salsa (Hot), [Black Beans, Rice, Cheese]]',\n",
       "  '$8.49 '],\n",
       " ['120', '1', 'Side of Chips', 'NULL', '$1.69 '],\n",
       " ['121',\n",
       "  '1',\n",
       "  'Chicken Burrito',\n",
       "  '[Fresh Tomato Salsa (Mild), [Black Beans, Rice, Cheese, Sour Cream]]',\n",
       "  '$8.49 '],\n",
       " ['121', '1', 'Chips and Guacamole', 'NULL', '$3.99 '],\n",
       " ['122',\n",
       "  '1',\n",
       "  'Steak Soft Tacos',\n",
       "  '[Tomatillo-Red Chili Salsa (Hot), [Rice, Cheese, Lettuce]]',\n",
       "  '$8.99 '],\n",
       " ['122', '1', 'Side of Chips', 'NULL', '$1.69 '],\n",
       " ['122', '1', 'Canned Soda', '[Coca Cola]', '$1.09 '],\n",
       " ['123',\n",
       "  '2',\n",
       "  'Steak Salad Bowl',\n",
       "  '[Tomatillo Red Chili Salsa, [Black Beans, Cheese, Guacamole]]',\n",
       "  '$23.78 '],\n",
       " ['124',\n",
       "  '2',\n",
       "  'Chicken Bowl',\n",
       "  '[Fresh Tomato Salsa, [Rice, Black Beans, Cheese, Sour Cream]]',\n",
       "  '$17.50 '],\n",
       " ['124', '1', 'Chips', 'NULL', '$2.15 '],\n",
       " ['124',\n",
       "  '1',\n",
       "  'Chicken Bowl',\n",
       "  '[Fresh Tomato Salsa, [Rice, Cheese, Sour Cream]]',\n",
       "  '$8.75 '],\n",
       " ['125',\n",
       "  '1',\n",
       "  'Steak Bowl',\n",
       "  '[Roasted Chili Corn Salsa, [Fajita Vegetables, Rice, Lettuce]]',\n",
       "  '$9.25 '],\n",
       " ['125',\n",
       "  '1',\n",
       "  'Steak Bowl',\n",
       "  '[Roasted Chili Corn Salsa, [Rice, Black Beans, Cheese, Sour Cream, Lettuce]]',\n",
       "  '$9.25 '],\n",
       " ['125',\n",
       "  '1',\n",
       "  'Veggie Bowl',\n",
       "  '[Roasted Chili Corn Salsa, [Fajita Vegetables, Rice, Black Beans, Cheese, Sour Cream, Lettuce]]',\n",
       "  '$8.75 '],\n",
       " ['125', '1', 'Chips and Guacamole', 'NULL', '$4.45 '],\n",
       " ['126',\n",
       "  '1',\n",
       "  'Chicken Burrito',\n",
       "  '[Fresh Tomato Salsa, [Rice, Cheese, Sour Cream]]',\n",
       "  '$8.75 '],\n",
       " ['126',\n",
       "  '1',\n",
       "  'Chicken Bowl',\n",
       "  '[Roasted Chili Corn Salsa, [Fajita Vegetables, Rice, Black Beans, Guacamole, Lettuce]]',\n",
       "  '$11.25 '],\n",
       " ['127',\n",
       "  '1',\n",
       "  'Chicken Bowl',\n",
       "  '[Tomatillo Green Chili Salsa, [Rice, Sour Cream, Guacamole, Lettuce]]',\n",
       "  '$11.25 '],\n",
       " ['127', '1', 'Canned Soft Drink', '[Sprite]', '$1.25 '],\n",
       " ['128',\n",
       "  '1',\n",
       "  'Steak Soft Tacos',\n",
       "  '[Fresh Tomato Salsa, [Cheese, Sour Cream]]',\n",
       "  '$9.25 '],\n",
       " ['128', '1', 'Chips and Guacamole', 'NULL', '$4.45 '],\n",
       " ['128',\n",
       "  '1',\n",
       "  'Veggie Salad Bowl',\n",
       "  '[Fresh Tomato Salsa, [Fajita Vegetables, Lettuce, Guacamole, Sour Cream, Cheese, Black Beans, Rice]]',\n",
       "  '$11.25 '],\n",
       " ['129',\n",
       "  '1',\n",
       "  'Steak Burrito',\n",
       "  '[Tomatillo Green Chili Salsa, [Rice, Cheese, Guacamole]]',\n",
       "  '$11.75 '],\n",
       " ['129',\n",
       "  '1',\n",
       "  'Steak Burrito',\n",
       "  '[Tomatillo Green Chili Salsa, [Rice, Cheese, Guacamole]]',\n",
       "  '$11.75 '],\n",
       " ['129', '1', '6 Pack Soft Drink', '[Sprite]', '$6.49 '],\n",
       " ['130',\n",
       "  '1',\n",
       "  'Steak Soft Tacos',\n",
       "  '[Tomatillo-Red Chili Salsa (Hot), Lettuce]',\n",
       "  '$8.99 '],\n",
       " ['130', '1', 'Chips and Tomatillo-Red Chili Salsa', 'NULL', '$2.39 '],\n",
       " ['131',\n",
       "  '1',\n",
       "  'Chicken Bowl',\n",
       "  '[Fresh Tomato Salsa (Mild), [Rice, Fajita Veggies, Cheese, Sour Cream, Lettuce]]',\n",
       "  '$8.49 '],\n",
       " ['131', '1', 'Chips and Fresh Tomato Salsa', 'NULL', '$2.39 '],\n",
       " ['132',\n",
       "  '1',\n",
       "  'Chicken Bowl',\n",
       "  '[Fresh Tomato Salsa, [Rice, Black Beans, Cheese, Sour Cream, Guacamole, Lettuce]]',\n",
       "  '$11.25 '],\n",
       " ['132',\n",
       "  '1',\n",
       "  'Chicken Bowl',\n",
       "  '[Fresh Tomato Salsa, [Rice, Black Beans, Cheese, Sour Cream, Lettuce]]',\n",
       "  '$8.75 '],\n",
       " ['132', '1', 'Chips', 'NULL', '$2.15 '],\n",
       " ['133',\n",
       "  '1',\n",
       "  'Steak Bowl',\n",
       "  '[Roasted Chili Corn Salsa (Medium), [Rice, Black Beans, Sour Cream]]',\n",
       "  '$8.99 '],\n",
       " ['133', '1', 'Side of Chips', 'NULL', '$1.69 '],\n",
       " ['134',\n",
       "  '1',\n",
       "  'Chicken Burrito',\n",
       "  '[Tomatillo Red Chili Salsa, [Rice, Black Beans, Cheese, Lettuce]]',\n",
       "  '$8.75 '],\n",
       " ['134',\n",
       "  '1',\n",
       "  'Chicken Burrito',\n",
       "  '[Tomatillo Red Chili Salsa, [Rice, Black Beans, Cheese, Sour Cream, Guacamole, Lettuce]]',\n",
       "  '$11.25 '],\n",
       " ['134', '1', 'Chips', 'NULL', '$2.15 '],\n",
       " ['135', '1', 'Chips and Guacamole', 'NULL', '$4.45 '],\n",
       " ['135',\n",
       "  '1',\n",
       "  'Chicken Bowl',\n",
       "  '[Fresh Tomato Salsa, [Rice, Black Beans, Cheese, Sour Cream]]',\n",
       "  '$8.75 '],\n",
       " ['136',\n",
       "  '1',\n",
       "  'Chicken Soft Tacos',\n",
       "  '[Tomatillo-Red Chili Salsa (Hot), Fajita Veggies]',\n",
       "  '$8.49 '],\n",
       " ['136',\n",
       "  '1',\n",
       "  'Steak Burrito',\n",
       "  '[Tomatillo-Green Chili Salsa (Medium), [Cheese, Lettuce]]',\n",
       "  '$8.99 '],\n",
       " ['137',\n",
       "  '2',\n",
       "  'Chicken Salad Bowl',\n",
       "  '[Fresh Tomato Salsa, Fajita Vegetables]',\n",
       "  '$17.50 '],\n",
       " ['138',\n",
       "  '1',\n",
       "  'Chicken Burrito',\n",
       "  '[Roasted Chili Corn Salsa (Medium), [Rice, Fajita Veggies, Cheese]]',\n",
       "  '$8.49 '],\n",
       " ['138', '1', 'Canned Soda', '[Diet Coke]', '$1.09 '],\n",
       " ['138', '1', 'Bottled Water', 'NULL', '$1.09 '],\n",
       " ['139',\n",
       "  '1',\n",
       "  'Chicken Bowl',\n",
       "  '[Fresh Tomato Salsa, [Fajita Vegetables, Rice, Black Beans, Sour Cream]]',\n",
       "  '$8.75 '],\n",
       " ['139', '1', 'Canned Soft Drink', '[Coke]', '$1.25 '],\n",
       " ['139', '1', 'Chips', 'NULL', '$2.15 '],\n",
       " ['140',\n",
       "  '1',\n",
       "  'Steak Burrito',\n",
       "  '[Fresh Tomato (Mild), [Lettuce, Guacamole, Rice, Cheese]]',\n",
       "  '$11.08 '],\n",
       " ['141',\n",
       "  '1',\n",
       "  'Chicken Burrito',\n",
       "  '[Roasted Chili Corn Salsa (Medium), [Pinto Beans, Black Beans, Rice, Fajita Veggies, Cheese, Sour Cream, Lettuce]]',\n",
       "  '$8.49 '],\n",
       " ['141',\n",
       "  '1',\n",
       "  'Chicken Soft Tacos',\n",
       "  '[[Roasted Chili Corn Salsa (Medium), Tomatillo-Red Chili Salsa (Hot)], [Rice, Fajita Veggies, Cheese, Lettuce]]',\n",
       "  '$8.49 '],\n",
       " ['142',\n",
       "  '1',\n",
       "  'Steak Burrito',\n",
       "  '[Roasted Chili Corn Salsa (Medium), Rice]',\n",
       "  '$8.99 '],\n",
       " ['142', '1', 'Chips and Fresh Tomato Salsa', 'NULL', '$2.39 '],\n",
       " ['143',\n",
       "  '1',\n",
       "  'Chicken Bowl',\n",
       "  '[Tomatillo Red Chili Salsa, [Rice, Cheese]]',\n",
       "  '$8.75 '],\n",
       " ['143', '1', 'Chips', 'NULL', '$2.15 '],\n",
       " ['143', '1', 'Bottled Water', 'NULL', '$1.50 '],\n",
       " ['144',\n",
       "  '1',\n",
       "  'Chicken Burrito',\n",
       "  '[Fresh Tomato Salsa, [Rice, Black Beans, Cheese, Sour Cream, Guacamole, Lettuce]]',\n",
       "  '$11.25 '],\n",
       " ['144', '1', 'Chips', 'NULL', '$2.15 '],\n",
       " ['145',\n",
       "  '1',\n",
       "  'Chicken Soft Tacos',\n",
       "  '[Fresh Tomato Salsa (Mild), [Black Beans, Rice, Cheese, Sour Cream, Lettuce]]',\n",
       "  '$8.49 '],\n",
       " ['145',\n",
       "  '1',\n",
       "  'Chicken Soft Tacos',\n",
       "  '[Fresh Tomato Salsa (Mild), [Rice, Cheese, Sour Cream]]',\n",
       "  '$8.49 '],\n",
       " ['146',\n",
       "  '1',\n",
       "  'Barbacoa Burrito',\n",
       "  '[Roasted Chili Corn Salsa, [Rice, Black Beans, Cheese, Guacamole, Lettuce]]',\n",
       "  '$11.75 '],\n",
       " ['146',\n",
       "  '1',\n",
       "  'Steak Burrito',\n",
       "  '[Roasted Chili Corn Salsa, [Fajita Vegetables, Rice, Cheese, Lettuce]]',\n",
       "  '$9.25 '],\n",
       " ['147',\n",
       "  '1',\n",
       "  'Steak Bowl',\n",
       "  '[Tomatillo Red Chili Salsa, [Fajita Vegetables, Cheese, Guacamole, Lettuce]]',\n",
       "  '$11.75 '],\n",
       " ['147', '1', 'Canned Soft Drink', '[Coke]', '$1.25 '],\n",
       " ['148',\n",
       "  '1',\n",
       "  'Chicken Burrito',\n",
       "  '[Tomatillo Red Chili Salsa, [Rice, Black Beans, Sour Cream, Cheese, Lettuce, Guacamole]]',\n",
       "  '$11.25 '],\n",
       " ['148',\n",
       "  '1',\n",
       "  'Chicken Burrito',\n",
       "  '[Tomatillo Green Chili Salsa, [Rice, Pinto Beans, Sour Cream, Cheese, Lettuce]]',\n",
       "  '$8.75 '],\n",
       " ['148', '1', 'Chips and Guacamole', 'NULL', '$4.45 '],\n",
       " ['148', '1', '6 Pack Soft Drink', '[Diet Coke]', '$6.49 '],\n",
       " ['149',\n",
       "  '1',\n",
       "  'Steak Soft Tacos',\n",
       "  '[Fresh Tomato Salsa, [Fajita Vegetables, Rice, Cheese, Sour Cream, Lettuce]]',\n",
       "  '$9.25 '],\n",
       " ['149', '1', 'Chips and Fresh Tomato Salsa', 'NULL', '$2.95 '],\n",
       " ['149',\n",
       "  '1',\n",
       "  'Chicken Soft Tacos',\n",
       "  '[Fresh Tomato Salsa, [Fajita Vegetables, Cheese, Guacamole, Lettuce]]',\n",
       "  '$11.25 '],\n",
       " ['149', '1', 'Chips and Guacamole', 'NULL', '$4.45 '],\n",
       " ['149', '1', 'Canned Soft Drink', '[Lemonade]', '$1.25 '],\n",
       " ['149', '1', 'Canned Soft Drink', '[Sprite]', '$1.25 '],\n",
       " ['150',\n",
       "  '1',\n",
       "  'Chicken Bowl',\n",
       "  '[Tomatillo-Red Chili Salsa (Hot), [Rice, Fajita Veggies, Cheese, Sour Cream, Lettuce]]',\n",
       "  '$8.49 '],\n",
       " ['150', '1', 'Chips and Tomatillo-Red Chili Salsa', 'NULL', '$2.39 '],\n",
       " ['150', '2', 'Canned Soda', '[Diet Coke]', '$2.18 '],\n",
       " ['151',\n",
       "  '1',\n",
       "  'Chicken Burrito',\n",
       "  '[Tomatillo-Red Chili Salsa (Hot), [Black Beans, Rice, Cheese]]',\n",
       "  '$8.49 '],\n",
       " ['151', '2', 'Canned Soda', '[Coca Cola]', '$2.18 '],\n",
       " ['152',\n",
       "  '2',\n",
       "  'Steak Burrito',\n",
       "  '[Fresh Tomato (Mild), [Lettuce, Guacamole, Rice, Cheese]]',\n",
       "  '$22.16 '],\n",
       " ['153',\n",
       "  '2',\n",
       "  'Chicken Soft Tacos',\n",
       "  '[Fresh Tomato Salsa, Sour Cream]',\n",
       "  '$17.50 '],\n",
       " ['154',\n",
       "  '1',\n",
       "  'Chicken Burrito',\n",
       "  '[Tomatillo Green Chili Salsa, [Fajita Vegetables, Rice, Cheese, Sour Cream, Lettuce]]',\n",
       "  '$8.75 '],\n",
       " ['154', '1', 'Chips and Tomatillo Red Chili Salsa', 'NULL', '$2.95 '],\n",
       " ['154', '1', '6 Pack Soft Drink', '[Coke]', '$6.49 '],\n",
       " ['155',\n",
       "  '1',\n",
       "  'Steak Burrito',\n",
       "  '[Fresh Tomato Salsa (Mild), [Pinto Beans, Cheese, Sour Cream]]',\n",
       "  '$8.99 '],\n",
       " ['155', '1', 'Izze', '[Blackberry]', '$3.39 '],\n",
       " ['155', '1', 'Izze', '[Grapefruit]', '$3.39 '],\n",
       " ['156',\n",
       "  '1',\n",
       "  'Steak Burrito',\n",
       "  '[Fresh Tomato Salsa (Mild), [Cheese, Sour Cream, Lettuce]]',\n",
       "  '$8.99 '],\n",
       " ['156',\n",
       "  '1',\n",
       "  'Chicken Burrito',\n",
       "  '[Fresh Tomato Salsa (Mild), [Pinto Beans, Cheese, Sour Cream, Lettuce]]',\n",
       "  '$8.49 '],\n",
       " ['157',\n",
       "  '1',\n",
       "  'Chicken Burrito',\n",
       "  '[Tomatillo Red Chili Salsa, [Rice, Black Beans, Cheese, Sour Cream, Guacamole, Lettuce]]',\n",
       "  '$11.25 '],\n",
       " ['157', '1', 'Chips', 'NULL', '$2.15 '],\n",
       " ['158',\n",
       "  '1',\n",
       "  'Chicken Crispy Tacos',\n",
       "  '[Tomatillo Green Chili Salsa, [Black Beans, Cheese, Sour Cream, Guacamole, Lettuce]]',\n",
       "  '$11.25 '],\n",
       " ['158', '1', 'Chips and Tomatillo Green Chili Salsa', 'NULL', '$2.95 '],\n",
       " ['159',\n",
       "  '1',\n",
       "  'Chicken Burrito',\n",
       "  '[Roasted Chili Corn Salsa, [Rice, Fajita Vegetables, Black Beans, Cheese, Lettuce, Guacamole]]',\n",
       "  '$11.25 '],\n",
       " ['159', '1', 'Canned Soft Drink', '[Diet Coke]', '$1.25 '],\n",
       " ['160',\n",
       "  '1',\n",
       "  'Steak Burrito',\n",
       "  '[Roasted Chili Corn Salsa (Medium), [Black Beans, Cheese, Sour Cream, Lettuce]]',\n",
       "  '$8.99 '],\n",
       " ['160', '1', 'Canned Soda', '[Diet Coke]', '$1.09 '],\n",
       " ['161',\n",
       "  '1',\n",
       "  'Chicken Bowl',\n",
       "  '[Fresh Tomato Salsa, [Rice, Cheese, Sour Cream]]',\n",
       "  '$8.75 '],\n",
       " ['161',\n",
       "  '1',\n",
       "  'Chicken Burrito',\n",
       "  '[Fresh Tomato Salsa, [Rice, Cheese, Sour Cream]]',\n",
       "  '$8.75 '],\n",
       " ['162',\n",
       "  '1',\n",
       "  'Carnitas Burrito',\n",
       "  '[Fresh Tomato Salsa, [Rice, Pinto Beans, Sour Cream, Cheese]]',\n",
       "  '$9.25 '],\n",
       " ['162', '1', 'Chips and Fresh Tomato Salsa', 'NULL', '$2.95 '],\n",
       " ['163',\n",
       "  '1',\n",
       "  'Barbacoa Burrito',\n",
       "  '[Roasted Chili Corn Salsa, [Rice, Black Beans, Cheese, Lettuce, Guacamole]]',\n",
       "  '$11.75 '],\n",
       " ['163', '1', 'Bottled Water', 'NULL', '$1.50 '],\n",
       " ['164',\n",
       "  '1',\n",
       "  'Steak Burrito',\n",
       "  '[Roasted Chili Corn Salsa (Medium), [Rice, Black Beans, Sour Cream]]',\n",
       "  '$8.99 '],\n",
       " ['164', '1', 'Canned Soda', '[Mountain Dew]', '$1.09 '],\n",
       " ['165',\n",
       "  '1',\n",
       "  'Chicken Bowl',\n",
       "  '[Fresh Tomato Salsa, [Rice, Black Beans, Cheese, Sour Cream, Guacamole]]',\n",
       "  '$11.25 '],\n",
       " ['165', '1', 'Canned Soft Drink', '[Coke]', '$1.25 '],\n",
       " ['165', '1', 'Canned Soft Drink', '[Coke]', '$1.25 '],\n",
       " ['166',\n",
       "  '1',\n",
       "  'Chicken Burrito',\n",
       "  '[Fresh Tomato Salsa, [Rice, Black Beans, Sour Cream, Cheese, Guacamole]]',\n",
       "  '$11.25 '],\n",
       " ['166',\n",
       "  '1',\n",
       "  'Steak Burrito',\n",
       "  '[Tomatillo Red Chili Salsa, [Rice, Fajita Vegetables, Sour Cream, Cheese, Lettuce, Guacamole]]',\n",
       "  '$11.75 '],\n",
       " ['166', '1', 'Chips', 'NULL', '$2.15 '],\n",
       " ['167',\n",
       "  '1',\n",
       "  'Barbacoa Burrito',\n",
       "  '[Tomatillo-Red Chili Salsa (Hot), [Rice, Cheese, Sour Cream, Lettuce]]',\n",
       "  '$8.99 '],\n",
       " ['167', '1', 'Side of Chips', 'NULL', '$1.69 '],\n",
       " ['168',\n",
       "  '1',\n",
       "  'Steak Bowl',\n",
       "  '[Tomatillo Red Chili Salsa, [Rice, Black Beans, Cheese, Sour Cream, Guacamole, Lettuce]]',\n",
       "  '$11.75 '],\n",
       " ['168', '1', '6 Pack Soft Drink', '[Diet Coke]', '$6.49 '],\n",
       " ['169',\n",
       "  '1',\n",
       "  'Chicken Burrito',\n",
       "  '[Fresh Tomato Salsa, [Cheese, Sour Cream]]',\n",
       "  '$8.75 '],\n",
       " ['169',\n",
       "  '1',\n",
       "  'Steak Soft Tacos',\n",
       "  '[Fresh Tomato Salsa, [Cheese, Sour Cream]]',\n",
       "  '$9.25 '],\n",
       " ['170',\n",
       "  '1',\n",
       "  'Chicken Burrito',\n",
       "  '[Fresh Tomato Salsa, [Fajita Vegetables, Rice, Pinto Beans, Cheese, Guacamole, Lettuce]]',\n",
       "  '$11.25 '],\n",
       " ['170', '1', 'Chips and Guacamole', 'NULL', '$4.45 '],\n",
       " ['170', '1', 'Canned Soft Drink', '[Coke]', '$1.25 '],\n",
       " ['171',\n",
       "  '1',\n",
       "  'Veggie Burrito',\n",
       "  '[Tomatillo Green Chili Salsa, Guacamole]',\n",
       "  '$11.25 '],\n",
       " ['171', '1', 'Chips and Guacamole', 'NULL', '$4.45 '],\n",
       " ['172',\n",
       "  '1',\n",
       "  'Chicken Burrito',\n",
       "  '[Roasted Chili Corn Salsa (Medium), [Pinto Beans, Rice, Cheese, Sour Cream, Lettuce]]',\n",
       "  '$8.49 '],\n",
       " ['172',\n",
       "  '1',\n",
       "  'Barbacoa Burrito',\n",
       "  '[Tomatillo-Red Chili Salsa (Hot), [Pinto Beans, Rice, Cheese, Sour Cream, Lettuce]]',\n",
       "  '$8.99 '],\n",
       " ['173',\n",
       "  '1',\n",
       "  'Chicken Burrito',\n",
       "  '[Roasted Chili Corn Salsa (Medium), [Rice, Fajita Veggies, Cheese]]',\n",
       "  '$8.49 '],\n",
       " ['173',\n",
       "  '1',\n",
       "  'Carnitas Bowl',\n",
       "  '[[Fresh Tomato Salsa (Mild), Roasted Chili Corn Salsa (Medium)], [Rice, Cheese, Lettuce]]',\n",
       "  '$8.99 '],\n",
       " ['174',\n",
       "  '1',\n",
       "  'Chicken Burrito',\n",
       "  '[Roasted Chili Corn Salsa, [Rice, Black Beans, Cheese, Lettuce, Guacamole]]',\n",
       "  '$11.25 '],\n",
       " ['174', '1', 'Canned Soft Drink', '[Sprite]', '$1.25 '],\n",
       " ['175',\n",
       "  '1',\n",
       "  'Steak Burrito',\n",
       "  '[Fresh Tomato Salsa, [Rice, Black Beans, Cheese, Sour Cream, Guacamole]]',\n",
       "  '$11.75 '],\n",
       " ['175', '1', 'Canned Soft Drink', '[Coke]', '$1.25 '],\n",
       " ['176',\n",
       "  '1',\n",
       "  'Steak Burrito',\n",
       "  '[Fresh Tomato Salsa, [Rice, Pinto Beans, Cheese, Guacamole, Lettuce]]',\n",
       "  '$11.75 '],\n",
       " ['176',\n",
       "  '1',\n",
       "  'Carnitas Soft Tacos',\n",
       "  '[Fresh Tomato Salsa, [Cheese, Lettuce]]',\n",
       "  '$9.25 '],\n",
       " ['176', '1', 'Chips and Guacamole', 'NULL', '$4.45 '],\n",
       " ['177',\n",
       "  '1',\n",
       "  'Chicken Bowl',\n",
       "  '[Tomatillo Red Chili Salsa, [Rice, Black Beans, Cheese, Sour Cream, Guacamole, Lettuce]]',\n",
       "  '$11.25 '],\n",
       " ['177', '1', 'Chips', 'NULL', '$2.15 '],\n",
       " ['178',\n",
       "  '3',\n",
       "  'Chicken Bowl',\n",
       "  '[[Fresh Tomato Salsa (Mild), Tomatillo-Green Chili Salsa (Medium), Roasted Chili Corn Salsa (Medium)], [Black Beans, Rice, Fajita Veggies, Cheese, Guacamole, Lettuce]]',\n",
       "  '$32.94 '],\n",
       " ['179', '1', 'Canned Soft Drink', '[Coke]', '$1.25 '],\n",
       " ['179',\n",
       "  '1',\n",
       "  'Chicken Bowl',\n",
       "  '[Tomatillo Green Chili Salsa, [Sour Cream, Cheese, Guacamole]]',\n",
       "  '$11.25 '],\n",
       " ['180',\n",
       "  '1',\n",
       "  'Steak Bowl',\n",
       "  '[Tomatillo-Red Chili Salsa (Hot), [Rice, Cheese, Sour Cream, Guacamole, Lettuce]]',\n",
       "  '$11.48 '],\n",
       " ['180', '1', 'Side of Chips', 'NULL', '$1.69 '],\n",
       " ['180', '1', 'Canned Soda', '[Dr. Pepper]', '$1.09 '],\n",
       " ['181', '2', 'Chicken Bowl', '[Tomatillo Red Chili Salsa]', '$17.50 '],\n",
       " ['182', '1', 'Chips and Guacamole', 'NULL', '$4.45 '],\n",
       " ['182', '1', '6 Pack Soft Drink', '[Diet Coke]', '$6.49 '],\n",
       " ['182',\n",
       "  '1',\n",
       "  'Barbacoa Bowl',\n",
       "  '[Fresh Tomato Salsa, [Fajita Vegetables, Rice, Black Beans, Cheese]]',\n",
       "  '$9.25 '],\n",
       " ['183',\n",
       "  '1',\n",
       "  'Chicken Soft Tacos',\n",
       "  '[Fresh Tomato Salsa, [Fajita Vegetables, Rice, Cheese, Sour Cream, Lettuce]]',\n",
       "  '$8.75 '],\n",
       " ['183',\n",
       "  '1',\n",
       "  'Steak Burrito',\n",
       "  '[Tomatillo Green Chili Salsa, [Fajita Vegetables, Rice, Cheese, Sour Cream, Lettuce]]',\n",
       "  '$9.25 '],\n",
       " ['184',\n",
       "  '1',\n",
       "  'Carnitas Burrito',\n",
       "  '[Fresh Tomato Salsa, [Rice, Cheese, Sour Cream, Lettuce]]',\n",
       "  '$9.25 '],\n",
       " ['184',\n",
       "  '1',\n",
       "  'Chicken Bowl',\n",
       "  '[Roasted Chili Corn Salsa, [Rice, Lettuce]]',\n",
       "  '$8.75 '],\n",
       " ['184',\n",
       "  '1',\n",
       "  'Chicken Burrito',\n",
       "  '[Roasted Chili Corn Salsa, [Rice, Black Beans, Cheese, Sour Cream, Lettuce]]',\n",
       "  '$8.75 '],\n",
       " ['184', '1', 'Chips', 'NULL', '$2.15 '],\n",
       " ['184', '1', 'Chips and Fresh Tomato Salsa', 'NULL', '$2.95 '],\n",
       " ['185',\n",
       "  '2',\n",
       "  'Chicken Soft Tacos',\n",
       "  '[Fresh Tomato Salsa, [Sour Cream, Lettuce]]',\n",
       "  '$17.50 '],\n",
       " ['186',\n",
       "  '1',\n",
       "  'Chicken Soft Tacos',\n",
       "  '[[Tomatillo-Red Chili Salsa (Hot), Roasted Chili Corn Salsa (Medium)], [Guacamole, Cheese, Sour Cream]]',\n",
       "  '$10.98 '],\n",
       " ['186',\n",
       "  '1',\n",
       "  'Steak Bowl',\n",
       "  '[[Roasted Chili Corn Salsa (Medium), Tomatillo-Red Chili Salsa (Hot)], [Rice, Cheese, Sour Cream, Guacamole]]',\n",
       "  '$11.48 '],\n",
       " ['186',\n",
       "  '1',\n",
       "  'Barbacoa Crispy Tacos',\n",
       "  '[[Roasted Chili Corn Salsa (Medium), Tomatillo-Red Chili Salsa (Hot)], [Cheese, Sour Cream, Guacamole]]',\n",
       "  '$11.48 '],\n",
       " ['186', '1', 'Izze', '[Grapefruit]', '$3.39 '],\n",
       " ['187',\n",
       "  '1',\n",
       "  'Steak Burrito',\n",
       "  '[Tomatillo-Red Chili Salsa (Hot), [Rice, Cheese, Sour Cream, Lettuce]]',\n",
       "  '$8.99 '],\n",
       " ['187', '1', 'Side of Chips', 'NULL', '$1.69 '],\n",
       " ['188',\n",
       "  '1',\n",
       "  'Carnitas Bowl',\n",
       "  '[Tomatillo-Red Chili Salsa (Hot), [Black Beans, Rice, Fajita Veggies, Cheese, Sour Cream, Lettuce]]',\n",
       "  '$8.99 '],\n",
       " ['188', '1', 'Canned Soda', '[Coca Cola]', '$1.09 '],\n",
       " ['189',\n",
       "  '1',\n",
       "  'Veggie Burrito',\n",
       "  '[[Roasted Chili Corn Salsa (Medium), Fresh Tomato Salsa (Mild)], [Rice, Black Beans, Pinto Beans, Fajita Veggies, Guacamole, Lettuce]]',\n",
       "  '$10.98 '],\n",
       " ['189', '1', 'Nantucket Nectar', '[Pomegranate Cherry]', '$3.39 '],\n",
       " ['190',\n",
       "  '1',\n",
       "  'Steak Crispy Tacos',\n",
       "  '[[Roasted Chili Corn Salsa (Medium), Tomatillo-Green Chili Salsa (Medium)], [Rice, Black Beans, Cheese, Sour Cream]]',\n",
       "  '$8.99 '],\n",
       " ['190', '1', 'Canned Soda', '[Dr. Pepper]', '$1.09 '],\n",
       " ['191',\n",
       "  '1',\n",
       "  'Steak Burrito',\n",
       "  '[Tomatillo Green Chili Salsa, [Fajita Vegetables, Rice, Cheese, Sour Cream, Lettuce]]',\n",
       "  '$9.25 '],\n",
       " ['191',\n",
       "  '1',\n",
       "  'Chicken Soft Tacos',\n",
       "  '[Roasted Chili Corn Salsa, [Fajita Vegetables, Rice, Cheese, Sour Cream, Lettuce]]',\n",
       "  '$8.75 '],\n",
       " ['192',\n",
       "  '1',\n",
       "  'Chicken Burrito',\n",
       "  '[Roasted Chili Corn Salsa, [Rice, Fajita Vegetables, Black Beans, Sour Cream, Cheese, Lettuce, Guacamole]]',\n",
       "  '$11.25 '],\n",
       " ['192', '1', 'Chips and Guacamole', 'NULL', '$4.45 '],\n",
       " ['192', '1', 'Chips and Tomatillo Red Chili Salsa', 'NULL', '$2.95 '],\n",
       " ['192',\n",
       "  '1',\n",
       "  'Steak Bowl',\n",
       "  '[Tomatillo Red Chili Salsa, [Rice, Pinto Beans, Cheese]]',\n",
       "  '$9.25 '],\n",
       " ['193',\n",
       "  '3',\n",
       "  'Bowl',\n",
       "  '[Braised Carnitas, Pinto Beans, [Sour Cream, Cheese, Cilantro-Lime Rice]]',\n",
       "  '$22.20 '],\n",
       " ['194',\n",
       "  '1',\n",
       "  'Chicken Burrito',\n",
       "  '[Roasted Chili Corn Salsa (Medium), [Rice, Fajita Veggies, Cheese]]',\n",
       "  '$8.49 '],\n",
       " ['194',\n",
       "  '1',\n",
       "  'Steak Burrito',\n",
       "  '[Fresh Tomato Salsa (Mild), [Black Beans, Rice, Cheese, Sour Cream, Lettuce]]',\n",
       "  '$8.99 '],\n",
       " ['195',\n",
       "  '1',\n",
       "  'Chicken Burrito',\n",
       "  '[Fresh Tomato Salsa, [Rice, Cheese, Sour Cream, Lettuce]]',\n",
       "  '$8.75 '],\n",
       " ['195',\n",
       "  '1',\n",
       "  'Chicken Bowl',\n",
       "  '[Fresh Tomato Salsa, [Rice, Black Beans, Cheese, Lettuce]]',\n",
       "  '$8.75 '],\n",
       " ['195',\n",
       "  '1',\n",
       "  'Barbacoa Burrito',\n",
       "  '[Fresh Tomato Salsa, [Fajita Vegetables, Rice, Cheese, Sour Cream, Guacamole, Lettuce]]',\n",
       "  '$11.75 '],\n",
       " ['195',\n",
       "  '1',\n",
       "  'Chicken Burrito',\n",
       "  '[Fresh Tomato Salsa, [Fajita Vegetables, Rice, Cheese, Sour Cream]]',\n",
       "  '$8.75 '],\n",
       " ['195',\n",
       "  '1',\n",
       "  'Chicken Burrito',\n",
       "  '[Fresh Tomato Salsa, [Rice, Black Beans, Cheese, Sour Cream, Guacamole, Lettuce]]',\n",
       "  '$11.25 '],\n",
       " ['195',\n",
       "  '1',\n",
       "  'Carnitas Soft Tacos',\n",
       "  '[Fresh Tomato Salsa, [Sour Cream, Lettuce]]',\n",
       "  '$9.25 '],\n",
       " ['195',\n",
       "  '1',\n",
       "  'Chicken Bowl',\n",
       "  '[Fresh Tomato Salsa, [Rice, Black Beans, Cheese, Sour Cream, Guacamole, Lettuce]]',\n",
       "  '$11.25 '],\n",
       " ['195',\n",
       "  '1',\n",
       "  'Veggie Salad Bowl',\n",
       "  '[Fresh Tomato Salsa, [Fajita Vegetables, Rice, Black Beans, Cheese, Guacamole, Lettuce]]',\n",
       "  '$11.25 '],\n",
       " ['196',\n",
       "  '1',\n",
       "  'Chicken Bowl',\n",
       "  '[Fresh Tomato Salsa, [Rice, Black Beans, Cheese]]',\n",
       "  '$8.75 '],\n",
       " ['196',\n",
       "  '1',\n",
       "  'Chicken Burrito',\n",
       "  '[Fresh Tomato Salsa, [Black Beans, Cheese, Guacamole, Lettuce]]',\n",
       "  '$11.25 '],\n",
       " ['196', '1', 'Chips and Fresh Tomato Salsa', 'NULL', '$2.95 '],\n",
       " ['196', '1', 'Canned Soft Drink', '[Coke]', '$1.25 '],\n",
       " ['197',\n",
       "  '1',\n",
       "  'Chicken Bowl',\n",
       "  '[Fresh Tomato Salsa (Mild), [Black Beans, Rice, Fajita Veggies, Cheese, Sour Cream, Lettuce]]',\n",
       "  '$8.49 '],\n",
       " ['197', '1', 'Side of Chips', 'NULL', '$1.69 '],\n",
       " ['198',\n",
       "  '1',\n",
       "  'Carnitas Burrito',\n",
       "  '[Fresh Tomato Salsa, [Rice, Black Beans, Cheese, Sour Cream, Guacamole, Lettuce]]',\n",
       "  '$11.75 '],\n",
       " ['198',\n",
       "  '1',\n",
       "  'Chicken Burrito',\n",
       "  '[Fresh Tomato Salsa, [Rice, Black Beans, Cheese, Sour Cream, Guacamole, Lettuce]]',\n",
       "  '$11.25 '],\n",
       " ['199',\n",
       "  '1',\n",
       "  'Chicken Bowl',\n",
       "  '[Tomatillo Green Chili Salsa, [Rice, Black Beans, Cheese]]',\n",
       "  '$8.75 '],\n",
       " ['199',\n",
       "  '1',\n",
       "  'Chicken Bowl',\n",
       "  '[Roasted Chili Corn Salsa, [Rice, Fajita Vegetables, Black Beans, Sour Cream, Cheese, Lettuce]]',\n",
       "  '$8.75 '],\n",
       " ['199', '1', 'Chips and Guacamole', 'NULL', '$4.45 '],\n",
       " ['200',\n",
       "  '1',\n",
       "  'Veggie Burrito',\n",
       "  '[Fresh Tomato Salsa (Mild), [Pinto Beans, Rice, Cheese, Sour Cream]]',\n",
       "  '$8.49 '],\n",
       " ['200', '1', 'Chips and Guacamole', 'NULL', '$3.99 '],\n",
       " ['201',\n",
       "  '1',\n",
       "  'Veggie Burrito',\n",
       "  '[Fresh Tomato Salsa (Mild), [Pinto Beans, Rice, Sour Cream, Cheese]]',\n",
       "  '$8.49 '],\n",
       " ['201', '1', 'Chips and Guacamole', 'NULL', '$3.99 '],\n",
       " ['202',\n",
       "  '1',\n",
       "  'Barbacoa Bowl',\n",
       "  '[[Tomatillo-Green Chili Salsa (Medium), Roasted Chili Corn Salsa (Medium)], [Black Beans, Rice, Cheese, Guacamole]]',\n",
       "  '$11.48 '],\n",
       " ['202', '1', 'Side of Chips', 'NULL', '$1.69 '],\n",
       " ['202', '1', 'Canned Soda', '[Diet Dr. Pepper]', '$1.09 '],\n",
       " ['203',\n",
       "  '1',\n",
       "  'Chicken Soft Tacos',\n",
       "  '[Roasted Chili Corn Salsa, [Rice, Cheese, Lettuce, Guacamole]]',\n",
       "  '$11.25 '],\n",
       " ['203', '1', 'Bottled Water', 'NULL', '$1.50 '],\n",
       " ['204',\n",
       "  '1',\n",
       "  'Chicken Burrito',\n",
       "  '[Fresh Tomato (Mild), [Guacamole, Lettuce, Rice, Fajita Veggies, Sour Cream, Cheese]]',\n",
       "  '$10.58 '],\n",
       " ['204', '1', 'Side of Chips', 'NULL', '$1.69 '],\n",
       " ['205',\n",
       "  '1',\n",
       "  'Carnitas Burrito',\n",
       "  '[Fresh Tomato Salsa, [Fajita Vegetables, Rice, Black Beans, Cheese, Sour Cream, Lettuce]]',\n",
       "  '$9.25 '],\n",
       " ['205',\n",
       "  '1',\n",
       "  'Veggie Burrito',\n",
       "  '[Roasted Chili Corn Salsa, [Fajita Vegetables, Rice, Black Beans, Cheese, Sour Cream, Guacamole, Lettuce]]',\n",
       "  '$11.25 '],\n",
       " ['205',\n",
       "  '1',\n",
       "  'Chicken Bowl',\n",
       "  '[Fresh Tomato Salsa, [Fajita Vegetables, Rice, Black Beans, Cheese]]',\n",
       "  '$8.75 '],\n",
       " ['205',\n",
       "  '1',\n",
       "  'Steak Burrito',\n",
       "  '[Tomatillo Red Chili Salsa, [Rice, Black Beans, Cheese, Sour Cream, Lettuce]]',\n",
       "  '$9.25 '],\n",
       " ['205',\n",
       "  '1',\n",
       "  'Chicken Burrito',\n",
       "  '[Fresh Tomato Salsa, [Rice, Black Beans, Cheese, Sour Cream, Guacamole, Lettuce]]',\n",
       "  '$11.25 '],\n",
       " ['205',\n",
       "  '1',\n",
       "  'Chicken Bowl',\n",
       "  '[Fresh Tomato Salsa, [Rice, Black Beans, Cheese, Sour Cream, Guacamole, Lettuce]]',\n",
       "  '$11.25 '],\n",
       " ['205',\n",
       "  '1',\n",
       "  'Chicken Bowl',\n",
       "  '[Fresh Tomato Salsa, [Fajita Vegetables, Rice, Black Beans, Cheese]]',\n",
       "  '$8.75 '],\n",
       " ['205',\n",
       "  '1',\n",
       "  'Barbacoa Crispy Tacos',\n",
       "  '[Fresh Tomato Salsa, Guacamole]',\n",
       "  '$11.75 '],\n",
       " ['205', '1', 'Chicken Burrito', '[Fresh Tomato Salsa, Cheese]', '$8.75 '],\n",
       " ['205',\n",
       "  '1',\n",
       "  'Chicken Burrito',\n",
       "  '[Fresh Tomato Salsa, [Rice, Cheese, Lettuce]]',\n",
       "  '$8.75 '],\n",
       " ['205',\n",
       "  '1',\n",
       "  'Chicken Bowl',\n",
       "  '[Fresh Tomato Salsa, [Rice, Black Beans, Cheese, Sour Cream, Lettuce]]',\n",
       "  '$8.75 '],\n",
       " ['205', '1', 'Chips', 'NULL', '$2.15 '],\n",
       " ['206',\n",
       "  '1',\n",
       "  'Chicken Bowl',\n",
       "  '[Fresh Tomato Salsa, [Fajita Vegetables, Rice, Cheese, Sour Cream, Guacamole]]',\n",
       "  '$11.25 '],\n",
       " ['206',\n",
       "  '1',\n",
       "  'Steak Bowl',\n",
       "  '[Fresh Tomato Salsa, [Fajita Vegetables, Rice, Cheese, Sour Cream, Guacamole]]',\n",
       "  '$11.75 '],\n",
       " ['206', '2', 'Canned Soft Drink', '[Diet Coke]', '$2.50 '],\n",
       " ['206', '1', 'Chips and Guacamole', 'NULL', '$4.45 '],\n",
       " ['207',\n",
       "  '1',\n",
       "  'Steak Soft Tacos',\n",
       "  '[Fresh Tomato Salsa, [Sour Cream, Cheese]]',\n",
       "  '$9.25 '],\n",
       " ['207', '1', 'Chips and Guacamole', 'NULL', '$4.45 '],\n",
       " ['207',\n",
       "  '1',\n",
       "  'Veggie Salad Bowl',\n",
       "  '[Fresh Tomato Salsa, [Rice, Lettuce, Guacamole, Fajita Vegetables, Cheese, Sour Cream, Black Beans]]',\n",
       "  '$11.25 '],\n",
       " ['208',\n",
       "  '1',\n",
       "  'Veggie Burrito',\n",
       "  '[Fresh Tomato Salsa (Mild), [Pinto Beans, Cheese]]',\n",
       "  '$8.49 '],\n",
       " ['208', '1', 'Chips and Guacamole', 'NULL', '$3.99 '],\n",
       " ['209',\n",
       "  '1',\n",
       "  'Steak Bowl',\n",
       "  '[Tomatillo Green Chili Salsa, [Fajita Vegetables, Rice, Lettuce]]',\n",
       "  '$9.25 '],\n",
       " ['209',\n",
       "  '1',\n",
       "  'Steak Bowl',\n",
       "  '[Fresh Tomato Salsa, [Rice, Cheese, Sour Cream]]',\n",
       "  '$9.25 '],\n",
       " ['210',\n",
       "  '1',\n",
       "  'Chicken Bowl',\n",
       "  '[Roasted Chili Corn Salsa, [Fajita Vegetables, Rice, Black Beans, Guacamole]]',\n",
       "  '$11.25 '],\n",
       " ['210',\n",
       "  '1',\n",
       "  'Barbacoa Burrito',\n",
       "  '[Tomatillo Green Chili Salsa, [Rice, Black Beans, Cheese, Lettuce]]',\n",
       "  '$9.25 '],\n",
       " ['211',\n",
       "  '1',\n",
       "  'Steak Burrito',\n",
       "  '[Roasted Chili Corn Salsa, [Rice, Black Beans, Sour Cream, Lettuce, Guacamole]]',\n",
       "  '$11.75 '],\n",
       " ['211',\n",
       "  '1',\n",
       "  'Chicken Soft Tacos',\n",
       "  '[Roasted Chili Corn Salsa, [Rice, Cheese, Lettuce, Guacamole]]',\n",
       "  '$11.25 '],\n",
       " ['212', '1', 'Canned Soft Drink', '[Lemonade]', '$1.25 '],\n",
       " ['212',\n",
       "  '2',\n",
       "  'Carnitas Bowl',\n",
       "  '[Roasted Chili Corn Salsa, [Fajita Vegetables, Rice, Black Beans, Cheese, Sour Cream, Guacamole, Lettuce]]',\n",
       "  '$23.50 '],\n",
       " ['212', '1', 'Canned Soft Drink', '[Coke]', '$1.25 '],\n",
       " ['213',\n",
       "  '1',\n",
       "  'Steak Burrito',\n",
       "  '[Tomatillo-Red Chili Salsa (Hot), Rice]',\n",
       "  '$8.99 '],\n",
       " ['213',\n",
       "  '1',\n",
       "  'Chicken Bowl',\n",
       "  '[Tomatillo-Red Chili Salsa (Hot), Rice]',\n",
       "  '$8.49 '],\n",
       " ['214',\n",
       "  '1',\n",
       "  'Burrito',\n",
       "  '[Adobo-Marinated and Grilled Chicken, Pinto Beans, [Sour Cream, Salsa, Cheese, Cilantro-Lime Rice, Guacamole]]',\n",
       "  '$7.40 '],\n",
       " ['214',\n",
       "  '1',\n",
       "  'Burrito',\n",
       "  '[Braised Barbacoa, Vegetarian Black Beans, [Sour Cream, Salsa, Cheese, Cilantro-Lime Rice]]',\n",
       "  '$7.40 '],\n",
       " ['215',\n",
       "  '1',\n",
       "  'Veggie Bowl',\n",
       "  '[Roasted Chili Corn Salsa, [Rice, Black Beans, Sour Cream, Lettuce]]',\n",
       "  '$8.75 '],\n",
       " ['215', '1', 'Canned Soft Drink', '[Diet Coke]', '$1.25 '],\n",
       " ['215', '1', 'Chips and Guacamole', 'NULL', '$4.45 '],\n",
       " ['215',\n",
       "  '1',\n",
       "  'Veggie Bowl',\n",
       "  '[Fresh Tomato Salsa, [Fajita Vegetables, Rice, Black Beans, Cheese, Sour Cream, Lettuce]]',\n",
       "  '$8.75 '],\n",
       " ['215', '1', 'Chips', 'NULL', '$2.15 '],\n",
       " ['216',\n",
       "  '1',\n",
       "  'Chicken Burrito',\n",
       "  '[Tomatillo Green Chili Salsa, [Rice, Black Beans, Cheese, Sour Cream]]',\n",
       "  '$8.75 '],\n",
       " ['216', '1', 'Chips and Guacamole', 'NULL', '$4.45 '],\n",
       " ['217',\n",
       "  '1',\n",
       "  'Burrito',\n",
       "  '[Braised Barbacoa, Pinto Beans, [Sour Cream, Salsa, Cheese, Cilantro-Lime Rice, Guacamole]]',\n",
       "  '$7.40 '],\n",
       " ['217', '1', 'Crispy Tacos', '[Adobo-Marinated and Grilled Steak]', '$7.40 '],\n",
       " ['217',\n",
       "  '1',\n",
       "  'Crispy Tacos',\n",
       "  '[Adobo-Marinated and Grilled Chicken]',\n",
       "  '$7.40 '],\n",
       " ['218',\n",
       "  '1',\n",
       "  'Steak Burrito',\n",
       "  '[Fresh Tomato Salsa (Mild), [Pinto Beans, Rice, Sour Cream]]',\n",
       "  '$8.99 '],\n",
       " ['218', '1', 'Chips and Guacamole', 'NULL', '$3.99 '],\n",
       " ['219',\n",
       "  '1',\n",
       "  'Steak Bowl',\n",
       "  '[Tomatillo-Red Chili Salsa (Hot), [Pinto Beans, Rice, Cheese, Sour Cream, Lettuce]]',\n",
       "  '$8.99 '],\n",
       " ['219', '1', 'Side of Chips', 'NULL', '$1.69 '],\n",
       " ['220',\n",
       "  '1',\n",
       "  'Chicken Salad Bowl',\n",
       "  '[Roasted Chili Corn Salsa, [Black Beans, Sour Cream, Cheese, Lettuce]]',\n",
       "  '$8.75 '],\n",
       " ['220',\n",
       "  '1',\n",
       "  'Chicken Bowl',\n",
       "  '[Fresh Tomato Salsa, [Rice, Black Beans, Sour Cream, Cheese]]',\n",
       "  '$8.75 '],\n",
       " ['221',\n",
       "  '1',\n",
       "  'Chicken Salad Bowl',\n",
       "  '[Tomatillo Green Chili Salsa, [Fajita Vegetables, Black Beans, Pinto Beans, Lettuce]]',\n",
       "  '$8.75 '],\n",
       " ['221',\n",
       "  '1',\n",
       "  'Chicken Salad Bowl',\n",
       "  '[Tomatillo Green Chili Salsa, [Fajita Vegetables, Rice, Cheese, Sour Cream, Lettuce]]',\n",
       "  '$8.75 '],\n",
       " ['222',\n",
       "  '1',\n",
       "  'Veggie Bowl',\n",
       "  '[Roasted Chili Corn Salsa, [Fajita Vegetables, Rice, Black Beans, Guacamole]]',\n",
       "  '$11.25 '],\n",
       " ['222',\n",
       "  '1',\n",
       "  'Chicken Burrito',\n",
       "  '[Tomatillo Red Chili Salsa, [Fajita Vegetables, Rice, Black Beans, Guacamole]]',\n",
       "  '$11.25 '],\n",
       " ['222', '1', 'Chips and Fresh Tomato Salsa', 'NULL', '$2.95 '],\n",
       " ['223',\n",
       "  '1',\n",
       "  'Chicken Burrito',\n",
       "  '[Fresh Tomato Salsa, [Rice, Black Beans, Cheese]]',\n",
       "  '$8.75 '],\n",
       " ['223',\n",
       "  '2',\n",
       "  'Steak Burrito',\n",
       "  '[Fresh Tomato Salsa, [Sour Cream, Lettuce, Cheese, Rice]]',\n",
       "  '$18.50 '],\n",
       " ['224',\n",
       "  '1',\n",
       "  'Veggie Burrito',\n",
       "  '[Fresh Tomato Salsa (Mild), [Pinto Beans, Rice, Cheese, Sour Cream]]',\n",
       "  '$8.49 '],\n",
       " ['224', '1', 'Chips and Guacamole', 'NULL', '$3.99 '],\n",
       " ['225', '1', 'Chips and Tomatillo Green Chili Salsa', 'NULL', '$2.95 '],\n",
       " ['225',\n",
       "  '1',\n",
       "  'Carnitas Bowl',\n",
       "  '[Tomatillo Green Chili Salsa, [Pinto Beans, Black Beans]]',\n",
       "  '$9.25 '],\n",
       " ['225',\n",
       "  '1',\n",
       "  'Steak Burrito',\n",
       "  '[Tomatillo Green Chili Salsa, Cheese]',\n",
       "  '$9.25 '],\n",
       " ['225', '2', 'Bottled Water', 'NULL', '$3.00 '],\n",
       " ['225', '1', 'Canned Soft Drink', '[Diet Coke]', '$1.25 '],\n",
       " ['226',\n",
       "  '1',\n",
       "  'Chicken Bowl',\n",
       "  '[Fresh Tomato Salsa, [Rice, Cheese, Lettuce]]',\n",
       "  '$8.75 '],\n",
       " ['226',\n",
       "  '1',\n",
       "  'Barbacoa Burrito',\n",
       "  '[Tomatillo Green Chili Salsa, [Fajita Vegetables, Pinto Beans, Sour Cream, Cheese, Lettuce]]',\n",
       "  '$9.25 '],\n",
       " ['226', '1', 'Chips and Guacamole', 'NULL', '$4.45 '],\n",
       " ['227',\n",
       "  '1',\n",
       "  'Chicken Bowl',\n",
       "  '[Tomatillo Green Chili Salsa, [Rice, Black Beans, Cheese]]',\n",
       "  '$8.75 '],\n",
       " ['227',\n",
       "  '1',\n",
       "  'Chicken Bowl',\n",
       "  '[Roasted Chili Corn Salsa, [Rice, Pinto Beans, Lettuce, Guacamole]]',\n",
       "  '$11.25 '],\n",
       " ['227', '1', 'Chips and Guacamole', 'NULL', '$4.45 '],\n",
       " ['228',\n",
       "  '1',\n",
       "  'Chicken Bowl',\n",
       "  '[Roasted Chili Corn Salsa (Medium), [Black Beans, Fajita Veggies, Cheese, Guacamole, Lettuce]]',\n",
       "  '$10.98 '],\n",
       " ['229',\n",
       "  '2',\n",
       "  'Steak Burrito',\n",
       "  '[Fresh Tomato (Mild), [Lettuce, Guacamole, Rice, Cheese]]',\n",
       "  '$22.16 '],\n",
       " ['230', '1', 'Chips and Guacamole', 'NULL', '$4.45 '],\n",
       " ['230', '1', 'Chicken Burrito', '[Tomatillo Red Chili Salsa]', '$8.75 '],\n",
       " ['230', '1', 'Steak Burrito', '[Tomatillo Green Chili Salsa]', '$9.25 '],\n",
       " ['230', '1', '6 Pack Soft Drink', '[Diet Coke]', '$6.49 '],\n",
       " ['230', '1', 'Carnitas Crispy Tacos', '[Roasted Chili Corn Salsa]', '$9.25 '],\n",
       " ['231',\n",
       "  '1',\n",
       "  'Veggie Bowl',\n",
       "  '[Roasted Chili Corn Salsa, [Fajita Vegetables, Rice, Black Beans, Guacamole]]',\n",
       "  '$11.25 '],\n",
       " ['231',\n",
       "  '1',\n",
       "  'Chicken Bowl',\n",
       "  '[Fresh Tomato Salsa, [Rice, Cheese, Lettuce]]',\n",
       "  '$8.75 '],\n",
       " ['231',\n",
       "  '1',\n",
       "  'Barbacoa Burrito',\n",
       "  '[Tomatillo Green Chili Salsa, [Rice, Black Beans, Cheese, Lettuce]]',\n",
       "  '$9.25 '],\n",
       " ['231', '1', 'Chips', 'NULL', '$2.15 '],\n",
       " ['231',\n",
       "  '1',\n",
       "  'Steak Bowl',\n",
       "  '[Fresh Tomato Salsa, [Rice, Black Beans, Cheese, Sour Cream, Lettuce]]',\n",
       "  '$9.25 '],\n",
       " ['231', '1', 'Chips and Guacamole', 'NULL', '$4.45 '],\n",
       " ['232', '1', 'Barbacoa Burrito', '[Roasted Chili Corn Salsa]', '$9.25 '],\n",
       " ['232', '1', 'Chips and Roasted Chili Corn Salsa', 'NULL', '$2.95 '],\n",
       " ['233',\n",
       "  '1',\n",
       "  'Steak Burrito',\n",
       "  '[Fresh Tomato Salsa, [Fajita Vegetables, Rice, Black Beans, Cheese, Sour Cream]]',\n",
       "  '$9.25 '],\n",
       " ['233',\n",
       "  '1',\n",
       "  'Chicken Burrito',\n",
       "  '[Tomatillo Green Chili Salsa, [Fajita Vegetables, Rice, Black Beans, Cheese, Sour Cream, Lettuce]]',\n",
       "  '$8.75 '],\n",
       " ['233',\n",
       "  '1',\n",
       "  'Carnitas Soft Tacos',\n",
       "  '[Fresh Tomato Salsa, [Fajita Vegetables, Black Beans, Cheese]]',\n",
       "  '$9.25 '],\n",
       " ['233', '1', 'Canned Soft Drink', '[Diet Coke]', '$1.25 '],\n",
       " ['233', '1', 'Canned Soft Drink', '[Diet Coke]', '$1.25 '],\n",
       " ['234',\n",
       "  '1',\n",
       "  'Chicken Salad Bowl',\n",
       "  '[Fresh Tomato Salsa, Fajita Vegetables]',\n",
       "  '$8.75 '],\n",
       " ['234',\n",
       "  '1',\n",
       "  'Chicken Burrito',\n",
       "  '[Tomatillo Green Chili Salsa, [Fajita Vegetables, Black Beans, Sour Cream, Cheese]]',\n",
       "  '$8.75 '],\n",
       " ['234',\n",
       "  '1',\n",
       "  'Steak Soft Tacos',\n",
       "  '[Fresh Tomato Salsa, [Rice, Sour Cream, Cheese]]',\n",
       "  '$9.25 '],\n",
       " ['234', '1', 'Chips and Guacamole', 'NULL', '$4.45 '],\n",
       " ['235',\n",
       "  '1',\n",
       "  'Steak Burrito',\n",
       "  '[Roasted Chili Corn Salsa, [Fajita Vegetables, Sour Cream, Lettuce, Guacamole]]',\n",
       "  '$11.75 '],\n",
       " ['235',\n",
       "  '1',\n",
       "  'Steak Burrito',\n",
       "  '[Roasted Chili Corn Salsa, [Rice, Fajita Vegetables, Sour Cream, Cheese, Lettuce, Guacamole]]',\n",
       "  '$11.75 '],\n",
       " ['235',\n",
       "  '1',\n",
       "  'Barbacoa Burrito',\n",
       "  '[Roasted Chili Corn Salsa, [Fajita Vegetables, Sour Cream, Cheese, Lettuce, Guacamole]]',\n",
       "  '$11.75 '],\n",
       " ['236',\n",
       "  '1',\n",
       "  'Barbacoa Burrito',\n",
       "  '[Roasted Chili Corn Salsa, [Rice, Pinto Beans, Cheese, Sour Cream]]',\n",
       "  '$9.25 '],\n",
       " ['236',\n",
       "  '1',\n",
       "  'Steak Burrito',\n",
       "  '[Roasted Chili Corn Salsa, [Fajita Vegetables, Rice, Cheese, Lettuce]]',\n",
       "  '$9.25 '],\n",
       " ['237',\n",
       "  '2',\n",
       "  'Chicken Soft Tacos',\n",
       "  '[Fresh Tomato Salsa (Mild), [Pinto Beans, Rice, Cheese, Sour Cream, Lettuce]]',\n",
       "  '$16.98 '],\n",
       " ['237', '1', 'Chips and Tomatillo-Green Chili Salsa', 'NULL', '$2.39 '],\n",
       " ['237', '1', 'Izze', '[Clementine]', '$3.39 '],\n",
       " ['237', '1', 'Izze', '[Grapefruit]', '$3.39 '],\n",
       " ['238',\n",
       "  '1',\n",
       "  'Steak Crispy Tacos',\n",
       "  '[Tomatillo Green Chili Salsa, [Fajita Vegetables, Cheese, Lettuce]]',\n",
       "  '$9.25 '],\n",
       " ['238',\n",
       "  '1',\n",
       "  'Steak Burrito',\n",
       "  '[Fresh Tomato Salsa, [Fajita Vegetables, Cheese, Sour Cream, Guacamole, Lettuce]]',\n",
       "  '$11.75 '],\n",
       " ['239',\n",
       "  '1',\n",
       "  'Chicken Bowl',\n",
       "  '[Roasted Chili Corn Salsa, [Rice, Black Beans, Cheese, Sour Cream, Guacamole, Lettuce]]',\n",
       "  '$11.25 '],\n",
       " ['239', '1', 'Chips', 'NULL', '$2.15 '],\n",
       " ['240',\n",
       "  '1',\n",
       "  'Chicken Salad Bowl',\n",
       "  '[Fresh Tomato Salsa, Fajita Vegetables]',\n",
       "  '$8.75 '],\n",
       " ['240',\n",
       "  '1',\n",
       "  'Barbacoa Burrito',\n",
       "  '[Fresh Tomato Salsa, [Rice, Pinto Beans, Cheese]]',\n",
       "  '$9.25 '],\n",
       " ['240', '1', 'Chips and Guacamole', 'NULL', '$4.45 '],\n",
       " ['241',\n",
       "  '1',\n",
       "  'Chicken Burrito',\n",
       "  '[Fresh Tomato Salsa (Mild), [Rice, Black Beans, Fajita Veggies, Cheese, Guacamole, Lettuce]]',\n",
       "  '$10.98 '],\n",
       " ['242',\n",
       "  '1',\n",
       "  'Chicken Burrito',\n",
       "  '[Fresh Tomato Salsa, [Fajita Vegetables, Rice, Cheese, Sour Cream, Guacamole, Lettuce]]',\n",
       "  '$11.25 '],\n",
       " ['242', '1', 'Carnitas Soft Tacos', '[Roasted Chili Corn Salsa]', '$9.25 '],\n",
       " ['243',\n",
       "  '2',\n",
       "  'Chicken Salad Bowl',\n",
       "  '[Tomatillo Green Chili Salsa, [Black Beans, Sour Cream, Cheese, Lettuce, Guacamole]]',\n",
       "  '$22.50 '],\n",
       " ['244',\n",
       "  '1',\n",
       "  'Barbacoa Bowl',\n",
       "  '[Roasted Chili Corn Salsa, [Rice, Cheese, Lettuce]]',\n",
       "  '$9.25 '],\n",
       " ['244', '1', 'Chips and Tomatillo Red Chili Salsa', 'NULL', '$2.95 '],\n",
       " ['244', '1', 'Bottled Water', 'NULL', '$1.50 '],\n",
       " ['245',\n",
       "  '1',\n",
       "  'Steak Bowl',\n",
       "  '[[Roasted Chili Corn Salsa (Medium), Tomatillo-Red Chili Salsa (Hot)], [Rice, Cheese, Sour Cream, Guacamole]]',\n",
       "  '$11.48 '],\n",
       " ['246',\n",
       "  '1',\n",
       "  'Chicken Bowl',\n",
       "  '[Fresh Tomato Salsa (Mild), [Rice, Cheese, Sour Cream, Lettuce]]',\n",
       "  '$8.49 '],\n",
       " ['246', '1', 'Side of Chips', 'NULL', '$1.69 '],\n",
       " ['247',\n",
       "  '1',\n",
       "  'Chicken Crispy Tacos',\n",
       "  '[Fresh Tomato Salsa (Mild), [Pinto Beans, Fajita Veggies, Cheese, Sour Cream, Lettuce]]',\n",
       "  '$8.49 '],\n",
       " ['247',\n",
       "  '1',\n",
       "  'Chicken Burrito',\n",
       "  '[Fresh Tomato Salsa (Mild), [Pinto Beans, Rice, Cheese, Sour Cream, Lettuce]]',\n",
       "  '$8.49 '],\n",
       " ['247',\n",
       "  '1',\n",
       "  'Chicken Crispy Tacos',\n",
       "  '[Fresh Tomato Salsa (Mild), [Pinto Beans, Cheese, Sour Cream, Lettuce]]',\n",
       "  '$8.49 '],\n",
       " ['247', '2', 'Nantucket Nectar', '[Pineapple Orange Banana]', '$6.78 '],\n",
       " ['248',\n",
       "  '1',\n",
       "  'Barbacoa Burrito',\n",
       "  '[Roasted Chili Corn Salsa, [Rice, Pinto Beans, Cheese, Lettuce, Guacamole]]',\n",
       "  '$11.75 '],\n",
       " ['248', '1', 'Chips and Guacamole', 'NULL', '$4.45 '],\n",
       " ['249',\n",
       "  '1',\n",
       "  'Chicken Bowl',\n",
       "  '[Fresh Tomato Salsa, [Rice, Pinto Beans, Sour Cream, Cheese, Lettuce]]',\n",
       "  '$8.75 '],\n",
       " ['249', '1', 'Chips and Guacamole', 'NULL', '$4.45 '],\n",
       " ['250',\n",
       "  '1',\n",
       "  'Steak Salad Bowl',\n",
       "  '[Fresh Tomato Salsa, [Pinto Beans, Cheese, Guacamole, Lettuce]]',\n",
       "  '$11.89 '],\n",
       " ['250', '1', 'Steak Salad Bowl', '[Fresh Tomato Salsa, Lettuce]', '$9.39 '],\n",
       " ['251',\n",
       "  '1',\n",
       "  'Chicken Burrito',\n",
       "  '[Fresh Tomato Salsa, [Rice, Black Beans, Cheese, Lettuce]]',\n",
       "  '$8.75 '],\n",
       " ['251', '1', 'Chips and Fresh Tomato Salsa', 'NULL', '$2.95 '],\n",
       " ['251', '1', 'Canned Soft Drink', '[Nestea]', '$1.25 '],\n",
       " ['252',\n",
       "  '1',\n",
       "  'Barbacoa Soft Tacos',\n",
       "  '[Tomatillo Red Chili Salsa, [Rice, Pinto Beans, Cheese, Sour Cream]]',\n",
       "  '$9.25 '],\n",
       " ['252',\n",
       "  '1',\n",
       "  'Chicken Burrito',\n",
       "  '[Fresh Tomato Salsa, [Rice, Black Beans, Sour Cream]]',\n",
       "  '$8.75 '],\n",
       " ['253',\n",
       "  '2',\n",
       "  'Steak Salad Bowl',\n",
       "  '[Tomatillo Red Chili Salsa, [Fajita Vegetables, Black Beans, Cheese, Guacamole, Lettuce]]',\n",
       "  '$23.78 '],\n",
       " ['254',\n",
       "  '1',\n",
       "  'Chicken Bowl',\n",
       "  '[Tomatillo Green Chili Salsa, [Rice, Black Beans, Sour Cream, Lettuce]]',\n",
       "  '$8.75 '],\n",
       " ['254',\n",
       "  '1',\n",
       "  'Barbacoa Burrito',\n",
       "  '[Tomatillo Red Chili Salsa, [Rice, Cheese, Lettuce]]',\n",
       "  '$9.25 '],\n",
       " ['254', '1', 'Chips', 'NULL', '$2.15 '],\n",
       " ['254', '1', 'Chips', 'NULL', '$2.15 '],\n",
       " ['254', '1', 'Canned Soft Drink', '[Diet Coke]', '$1.25 '],\n",
       " ['255',\n",
       "  '1',\n",
       "  'Veggie Bowl',\n",
       "  '[Fresh Tomato Salsa (Mild), [Pinto Beans, Rice, Cheese, Sour Cream]]',\n",
       "  '$8.49 '],\n",
       " ['255', '1', 'Chips and Guacamole', 'NULL', '$3.99 '],\n",
       " ['256',\n",
       "  '1',\n",
       "  'Chicken Burrito',\n",
       "  '[Tomatillo-Red Chili Salsa (Hot), [Black Beans, Rice, Cheese, Sour Cream, Guacamole, Lettuce]]',\n",
       "  '$10.98 '],\n",
       " ['256', '1', 'Canned Soda', '[Dr. Pepper]', '$1.09 '],\n",
       " ['257', '1', 'Veggie Burrito', '[Tomatillo Green Chili Salsa]', '$8.75 '],\n",
       " ['257', '1', 'Chips and Guacamole', 'NULL', '$4.45 '],\n",
       " ['258',\n",
       "  '1',\n",
       "  'Chicken Bowl',\n",
       "  '[Roasted Chili Corn Salsa, [Rice, Cheese, Lettuce]]',\n",
       "  '$8.75 '],\n",
       " ['258',\n",
       "  '1',\n",
       "  'Carnitas Burrito',\n",
       "  '[Tomatillo Green Chili Salsa, [Sour Cream, Cheese, Guacamole]]',\n",
       "  '$11.75 '],\n",
       " ['258', '1', 'Chips and Tomatillo Green Chili Salsa', 'NULL', '$2.95 '],\n",
       " ['258', '1', 'Chips and Guacamole', 'NULL', '$4.45 '],\n",
       " ['259',\n",
       "  '1',\n",
       "  'Steak Burrito',\n",
       "  '[Tomatillo Green Chili Salsa, [Fajita Vegetables, Rice, Cheese, Sour Cream, Lettuce]]',\n",
       "  '$9.25 '],\n",
       " ['259',\n",
       "  '1',\n",
       "  'Chicken Soft Tacos',\n",
       "  '[Roasted Chili Corn Salsa, [Fajita Vegetables, Rice, Cheese, Sour Cream, Lettuce]]',\n",
       "  '$8.75 '],\n",
       " ['260',\n",
       "  '1',\n",
       "  'Veggie Burrito',\n",
       "  '[Fresh Tomato Salsa (Mild), [Pinto Beans, Rice, Cheese, Sour Cream]]',\n",
       "  '$8.49 '],\n",
       " ['260', '1', 'Chips and Guacamole', 'NULL', '$3.99 '],\n",
       " ['261',\n",
       "  '2',\n",
       "  'Chicken Salad Bowl',\n",
       "  '[Tomatillo Green Chili Salsa, [Black Beans, Cheese, Guacamole]]',\n",
       "  '$22.50 '],\n",
       " ['262',\n",
       "  '1',\n",
       "  'Chicken Burrito',\n",
       "  '[Tomatillo Red Chili Salsa, [Cheese, Guacamole]]',\n",
       "  '$11.25 '],\n",
       " ['262', '1', 'Canned Soft Drink', '[Coke]', '$1.25 '],\n",
       " ['263',\n",
       "  '1',\n",
       "  'Chicken Burrito',\n",
       "  '[Fresh Tomato Salsa, [Rice, Pinto Beans, Cheese, Sour Cream]]',\n",
       "  '$8.75 '],\n",
       " ['263',\n",
       "  '1',\n",
       "  'Chicken Bowl',\n",
       "  '[Fresh Tomato Salsa, [Rice, Pinto Beans, Cheese, Sour Cream, Lettuce]]',\n",
       "  '$8.75 '],\n",
       " ['264',\n",
       "  '2',\n",
       "  'Steak Burrito',\n",
       "  '[Fresh Tomato Salsa, [Rice, Cheese, Sour Cream]]',\n",
       "  '$18.50 '],\n",
       " ['264', '1', '6 Pack Soft Drink', '[Diet Coke]', '$6.49 '],\n",
       " ['265',\n",
       "  '1',\n",
       "  'Chicken Burrito',\n",
       "  '[Tomatillo Red Chili Salsa, [Rice, Black Beans, Cheese, Sour Cream]]',\n",
       "  '$8.75 '],\n",
       " ['265',\n",
       "  '1',\n",
       "  'Chicken Soft Tacos',\n",
       "  '[Roasted Chili Corn Salsa, [Black Beans, Cheese, Sour Cream]]',\n",
       "  '$8.75 '],\n",
       " ['265', '1', 'Chips and Guacamole', 'NULL', '$4.45 '],\n",
       " ['266',\n",
       "  '1',\n",
       "  'Veggie Bowl',\n",
       "  '[Fresh Tomato Salsa (Mild), [Pinto Beans, Rice, Cheese, Sour Cream]]',\n",
       "  '$8.49 '],\n",
       " ['266', '1', 'Chips and Guacamole', 'NULL', '$3.99 '],\n",
       " ['267',\n",
       "  '1',\n",
       "  'Steak Burrito',\n",
       "  '[Roasted Chili Corn Salsa (Medium), [Rice, Black Beans, Sour Cream]]',\n",
       "  '$8.99 '],\n",
       " ['267', '1', 'Canned Soda', '[Sprite]', '$1.09 '],\n",
       " ['268',\n",
       "  '1',\n",
       "  'Chicken Bowl',\n",
       "  '[Tomatillo-Red Chili Salsa (Hot), [Black Beans, Rice, Fajita Veggies, Cheese, Lettuce]]',\n",
       "  '$8.49 '],\n",
       " ['268', '1', 'Chips and Roasted Chili-Corn Salsa', 'NULL', '$2.39 '],\n",
       " ['269',\n",
       "  '1',\n",
       "  'Steak Burrito',\n",
       "  '[Roasted Chili Corn Salsa (Medium), [Rice, Black Beans, Sour Cream, Guacamole]]',\n",
       "  '$11.48 '],\n",
       " ['269', '1', 'Side of Chips', 'NULL', '$1.69 '],\n",
       " ['270', '2', 'Canned Soft Drink', '[Coke]', '$2.50 '],\n",
       " ['270',\n",
       "  '1',\n",
       "  'Carnitas Burrito',\n",
       "  '[Fresh Tomato Salsa, [Rice, Pinto Beans, Sour Cream, Cheese]]',\n",
       "  '$9.25 '],\n",
       " ['270', '1', 'Bottled Water', 'NULL', '$1.50 '],\n",
       " ['271',\n",
       "  '2',\n",
       "  'Chicken Bowl',\n",
       "  '[Fresh Tomato Salsa, [Fajita Vegetables, Rice, Lettuce]]',\n",
       "  '$17.50 '],\n",
       " ['271', '1', 'Chips and Tomatillo Green Chili Salsa', 'NULL', '$2.95 '],\n",
       " ['272',\n",
       "  '1',\n",
       "  'Chicken Burrito',\n",
       "  '[Fresh Tomato Salsa, [Fajita Vegetables, Rice, Sour Cream, Lettuce]]',\n",
       "  '$8.75 '],\n",
       " ['272', '1', 'Chips and Guacamole', 'NULL', '$4.45 '],\n",
       " ['273',\n",
       "  '1',\n",
       "  'Steak Burrito',\n",
       "  '[Fresh Tomato Salsa, [Rice, Black Beans, Sour Cream, Cheese, Lettuce, Guacamole]]',\n",
       "  '$11.75 '],\n",
       " ['273',\n",
       "  '1',\n",
       "  'Chicken Burrito',\n",
       "  '[Fresh Tomato Salsa, [Rice, Black Beans, Sour Cream, Cheese, Lettuce]]',\n",
       "  '$8.75 '],\n",
       " ['274',\n",
       "  '1',\n",
       "  'Chicken Bowl',\n",
       "  '[Tomatillo-Red Chili Salsa (Hot), [Black Beans, Rice, Cheese, Sour Cream, Lettuce]]',\n",
       "  '$8.49 '],\n",
       " ['274', '1', 'Side of Chips', 'NULL', '$1.69 '],\n",
       " ['275',\n",
       "  '1',\n",
       "  'Veggie Burrito',\n",
       "  '[Fresh Tomato Salsa (Mild), [Pinto Beans, Rice, Cheese, Sour Cream]]',\n",
       "  '$8.49 '],\n",
       " ['275', '1', 'Chips and Guacamole', 'NULL', '$3.99 '],\n",
       " ['276',\n",
       "  '1',\n",
       "  'Steak Salad',\n",
       "  '[Tomatillo-Red Chili Salsa (Hot), [Black Beans, Rice, Fajita Veggies, Cheese, Lettuce]]',\n",
       "  '$8.99 '],\n",
       " ['276',\n",
       "  '1',\n",
       "  'Steak Bowl',\n",
       "  '[[Fresh Tomato Salsa (Mild), Roasted Chili Corn Salsa (Medium)], [Black Beans, Rice, Fajita Veggies, Cheese, Sour Cream, Lettuce]]',\n",
       "  '$8.99 '],\n",
       " ['276', '1', 'Chips and Guacamole', 'NULL', '$3.99 '],\n",
       " ['276',\n",
       "  '1',\n",
       "  'Carnitas Soft Tacos',\n",
       "  '[Fresh Tomato Salsa (Mild), [Black Beans, Rice, Fajita Veggies, Cheese, Lettuce]]',\n",
       "  '$8.99 '],\n",
       " ['277',\n",
       "  '1',\n",
       "  'Chicken Bowl',\n",
       "  '[Fresh Tomato Salsa, [Rice, Black Beans, Cheese, Sour Cream, Guacamole, Lettuce]]',\n",
       "  '$11.25 '],\n",
       " ['277', '1', 'Chips and Guacamole', 'NULL', '$4.45 '],\n",
       " ['277', '1', 'Canned Soft Drink', '[Lemonade]', '$1.25 '],\n",
       " ['278', '1', 'Chips and Guacamole', 'NULL', '$3.99 '],\n",
       " ['278',\n",
       "  '1',\n",
       "  'Chicken Burrito',\n",
       "  '[Roasted Chili Corn Salsa (Medium), [Black Beans, Rice, Fajita Veggies, Cheese, Sour Cream, Guacamole, Lettuce]]',\n",
       "  '$10.98 '],\n",
       " ['279',\n",
       "  '1',\n",
       "  'Bowl',\n",
       "  '[Adobo-Marinated and Grilled Steak, [Sour Cream, Salsa, Cheese, Cilantro-Lime Rice, Guacamole]]',\n",
       "  '$7.40 '],\n",
       " ['279', '1', 'Chips and Mild Fresh Tomato Salsa', 'NULL', '$3.00 '],\n",
       " ['279',\n",
       "  '1',\n",
       "  'Burrito',\n",
       "  '[Adobo-Marinated and Grilled Chicken, [Sour Cream, Cheese, Cilantro-Lime Rice]]',\n",
       "  '$7.40 '],\n",
       " ['279', '1', 'Chips and Guacamole', 'NULL', '$4.00 '],\n",
       " ['280',\n",
       "  '1',\n",
       "  'Veggie Bowl',\n",
       "  '[Fresh Tomato Salsa (Mild), [Pinto Beans, Rice, Cheese, Sour Cream]]',\n",
       "  '$8.49 '],\n",
       " ['280', '1', 'Chips and Guacamole', 'NULL', '$3.99 '],\n",
       " ['281',\n",
       "  '1',\n",
       "  'Steak Bowl',\n",
       "  '[Roasted Chili Corn Salsa, [Fajita Vegetables, Rice, Cheese, Lettuce]]',\n",
       "  '$9.25 '],\n",
       " ['281', '1', 'Chips and Guacamole', 'NULL', '$4.45 '],\n",
       " ['282',\n",
       "  '1',\n",
       "  'Chicken Burrito',\n",
       "  '[Tomatillo Red Chili Salsa, [Guacamole, Cheese]]',\n",
       "  '$11.25 '],\n",
       " ['282', '1', 'Canned Soft Drink', '[Coke]', '$1.25 '],\n",
       " ['282',\n",
       "  '1',\n",
       "  'Steak Burrito',\n",
       "  '[Roasted Chili Corn Salsa, [Rice, Cheese, Guacamole]]',\n",
       "  '$11.75 '],\n",
       " ['282', '1', 'Canned Soft Drink', '[Coke]', '$1.25 '],\n",
       " ['283',\n",
       "  '1',\n",
       "  'Chicken Burrito',\n",
       "  '[Fresh Tomato Salsa, [Rice, Black Beans, Cheese, Guacamole, Lettuce]]',\n",
       "  '$11.25 '],\n",
       " ['283', '1', 'Chips', 'NULL', '$2.15 '],\n",
       " ['284',\n",
       "  '1',\n",
       "  'Chicken Bowl',\n",
       "  '[Fresh Tomato Salsa, [Fajita Vegetables, Rice, Cheese, Sour Cream, Guacamole]]',\n",
       "  '$11.25 '],\n",
       " ['284', '1', 'Chips and Guacamole', 'NULL', '$4.45 '],\n",
       " ['284', '3', 'Canned Soft Drink', '[Diet Coke]', '$3.75 '],\n",
       " ['284',\n",
       "  '1',\n",
       "  'Steak Bowl',\n",
       "  '[Fresh Tomato Salsa, [Fajita Vegetables, Rice, Cheese, Sour Cream, Guacamole, Lettuce]]',\n",
       "  '$11.75 '],\n",
       " ['285',\n",
       "  '1',\n",
       "  'Carnitas Burrito',\n",
       "  '[Tomatillo-Red Chili Salsa (Hot), [Black Beans, Rice, Fajita Veggies, Cheese, Sour Cream, Lettuce]]',\n",
       "  '$8.99 '],\n",
       " ['285', '1', 'Chips and Tomatillo-Red Chili Salsa', 'NULL', '$2.39 '],\n",
       " ['286',\n",
       "  '1',\n",
       "  'Chicken Salad Bowl',\n",
       "  '[Fresh Tomato Salsa, [Sour Cream, Cheese, Lettuce]]',\n",
       "  '$8.75 '],\n",
       " ['286', '1', 'Chips and Guacamole', 'NULL', '$4.45 '],\n",
       " ['286', '1', 'Canned Soft Drink', '[Diet Coke]', '$1.25 '],\n",
       " ['287',\n",
       "  '1',\n",
       "  'Steak Burrito',\n",
       "  '[Fresh Tomato Salsa (Mild), [Black Beans, Rice, Fajita Veggies, Cheese, Sour Cream, Lettuce]]',\n",
       "  '$8.99 '],\n",
       " ['287',\n",
       "  '1',\n",
       "  'Chicken Soft Tacos',\n",
       "  '[Tomatillo-Green Chili Salsa (Medium), [Pinto Beans, Cheese, Sour Cream, Lettuce]]',\n",
       "  '$8.49 '],\n",
       " ['287', '2', 'Canned Soda', '[Coca Cola]', '$2.18 '],\n",
       " ['288',\n",
       "  '1',\n",
       "  'Chicken Burrito',\n",
       "  '[Fresh Tomato Salsa (Mild), [Rice, Cheese, Sour Cream, Lettuce]]',\n",
       "  '$8.49 '],\n",
       " ['288', '2', 'Canned Soda', '[Coca Cola]', '$2.18 '],\n",
       " ['288', '1', 'Bottled Water', 'NULL', '$1.09 '],\n",
       " ['289',\n",
       "  '1',\n",
       "  'Chicken Salad Bowl',\n",
       "  '[Tomatillo Red Chili Salsa, [Black Beans, Cheese, Lettuce]]',\n",
       "  '$8.75 '],\n",
       " ['289', '1', 'Chips and Tomatillo Green Chili Salsa', 'NULL', '$2.95 '],\n",
       " ['289', '1', 'Canned Soft Drink', '[Lemonade]', '$1.25 '],\n",
       " ['290', '1', 'Bottled Water', 'NULL', '$1.50 '],\n",
       " ['290',\n",
       "  '1',\n",
       "  'Chicken Bowl',\n",
       "  '[Tomatillo Green Chili Salsa, [Rice, Sour Cream, Cheese, Guacamole]]',\n",
       "  '$11.25 '],\n",
       " ['291',\n",
       "  '1',\n",
       "  'Steak Burrito',\n",
       "  '[Fresh Tomato Salsa, [Fajita Vegetables, Rice, Cheese, Sour Cream, Lettuce]]',\n",
       "  '$9.25 '],\n",
       " ['291', '1', 'Chips and Roasted Chili Corn Salsa', 'NULL', '$2.95 '],\n",
       " ['291', '1', 'Canned Soft Drink', '[Lemonade]', '$1.25 '],\n",
       " ['292',\n",
       "  '1',\n",
       "  'Veggie Burrito',\n",
       "  '[Fresh Tomato Salsa (Mild), [Pinto Beans, Rice, Cheese, Sour Cream]]',\n",
       "  '$8.49 '],\n",
       " ['292', '1', 'Chips and Guacamole', 'NULL', '$3.99 '],\n",
       " ['293',\n",
       "  '1',\n",
       "  'Steak Burrito',\n",
       "  '[[Roasted Chili Corn Salsa (Medium), Fresh Tomato Salsa (Mild)], [Rice, Pinto Beans, Cheese, Sour Cream, Guacamole, Lettuce]]',\n",
       "  '$11.48 '],\n",
       " ['294', '1', 'Chips and Guacamole', 'NULL', '$3.99 '],\n",
       " ['294',\n",
       "  '1',\n",
       "  'Veggie Burrito',\n",
       "  '[Fresh Tomato Salsa (Mild), [Pinto Beans, Rice, Cheese, Sour Cream]]',\n",
       "  '$8.49 '],\n",
       " ['295',\n",
       "  '1',\n",
       "  'Chicken Burrito',\n",
       "  '[Tomatillo Red Chili Salsa, [Rice, Fajita Vegetables, Black Beans, Cheese, Lettuce, Guacamole]]',\n",
       "  '$11.25 '],\n",
       " ['295', '1', 'Canned Soft Drink', '[Diet Coke]', '$1.25 '],\n",
       " ['296',\n",
       "  '1',\n",
       "  'Barbacoa Burrito',\n",
       "  '[Tomatillo-Green Chili Salsa (Medium), [Rice, Cheese, Sour Cream, Lettuce]]',\n",
       "  '$8.99 '],\n",
       " ['296', '1', 'Side of Chips', 'NULL', '$1.69 '],\n",
       " ['297',\n",
       "  '1',\n",
       "  'Chicken Bowl',\n",
       "  '[Tomatillo Green Chili Salsa, [Fajita Vegetables, Rice, Black Beans, Cheese, Sour Cream, Guacamole, Lettuce]]',\n",
       "  '$11.25 '],\n",
       " ['297', '1', 'Canned Soft Drink', '[Coke]', '$1.25 '],\n",
       " ['298', '1', '6 Pack Soft Drink', '[Nestea]', '$6.49 '],\n",
       " ['298',\n",
       "  '1',\n",
       "  'Chicken Bowl',\n",
       "  '[Roasted Chili Corn Salsa, [Rice, Black Beans, Cheese, Sour Cream, Lettuce]]',\n",
       "  '$8.75 '],\n",
       " ['299',\n",
       "  '1',\n",
       "  'Barbacoa Burrito',\n",
       "  '[Tomatillo Red Chili Salsa, [Rice, Pinto Beans, Cheese, Sour Cream, Lettuce]]',\n",
       "  '$9.25 '],\n",
       " ['299', '1', 'Chicken Burrito', '[Fresh Tomato Salsa]', '$8.75 '],\n",
       " ['299', '1', 'Chips and Fresh Tomato Salsa', 'NULL', '$2.95 '],\n",
       " ['300',\n",
       "  '1',\n",
       "  'Chicken Burrito',\n",
       "  '[Roasted Chili Corn Salsa, [Fajita Vegetables, Rice, Black Beans, Cheese]]',\n",
       "  '$8.75 '],\n",
       " ['300',\n",
       "  '1',\n",
       "  'Steak Burrito',\n",
       "  '[Roasted Chili Corn Salsa, [Fajita Vegetables, Black Beans, Sour Cream, Guacamole, Lettuce]]',\n",
       "  '$11.75 '],\n",
       " ['301',\n",
       "  '1',\n",
       "  'Steak Burrito',\n",
       "  '[Roasted Chili Corn (Medium), [Sour Cream, Cheese]]',\n",
       "  '$8.69 '],\n",
       " ['301',\n",
       "  '1',\n",
       "  'Steak Crispy Tacos',\n",
       "  '[Fresh Tomato (Mild), [Lettuce, Cheese]]',\n",
       "  '$8.69 '],\n",
       " ['301', '1', 'Chips and Fresh Tomato Salsa', 'NULL', '$2.29 '],\n",
       " ['302', '1', 'Chips and Guacamole', 'NULL', '$3.99 '],\n",
       " ['302',\n",
       "  '1',\n",
       "  'Veggie Burrito',\n",
       "  '[Fresh Tomato Salsa (Mild), [Pinto Beans, Rice, Cheese, Sour Cream]]',\n",
       "  '$8.49 '],\n",
       " ['303',\n",
       "  '1',\n",
       "  'Chicken Bowl',\n",
       "  '[Fresh Tomato Salsa, [Rice, Black Beans, Sour Cream, Cheese]]',\n",
       "  '$8.75 '],\n",
       " ['303',\n",
       "  '1',\n",
       "  'Chicken Burrito',\n",
       "  '[Roasted Chili Corn Salsa, [Rice, Fajita Vegetables, Black Beans, Sour Cream, Cheese, Lettuce]]',\n",
       "  '$8.75 '],\n",
       " ['304', '1', 'Canned Soft Drink', '[Sprite]', '$1.25 '],\n",
       " ['304',\n",
       "  '1',\n",
       "  'Steak Burrito',\n",
       "  '[Tomatillo Green Chili Salsa, [Rice, Cheese, Guacamole, Lettuce]]',\n",
       "  '$11.75 '],\n",
       " ['304',\n",
       "  '1',\n",
       "  'Veggie Bowl',\n",
       "  '[Tomatillo Red Chili Salsa, [Fajita Vegetables, Rice, Black Beans, Cheese, Guacamole, Lettuce]]',\n",
       "  '$11.25 '],\n",
       " ['304',\n",
       "  '1',\n",
       "  'Veggie Soft Tacos',\n",
       "  '[Tomatillo Red Chili Salsa, [Fajita Vegetables, Rice, Black Beans, Cheese, Guacamole, Lettuce]]',\n",
       "  '$11.25 '],\n",
       " ['305',\n",
       "  '1',\n",
       "  'Chicken Burrito',\n",
       "  '[Tomatillo Red Chili Salsa, [Guacamole, Cheese]]',\n",
       "  '$11.25 '],\n",
       " ['305', '1', 'Canned Soft Drink', '[Coke]', '$1.25 '],\n",
       " ['305', '1', 'Steak Burrito', '[Roasted Chili Corn Salsa]', '$9.25 '],\n",
       " ['306',\n",
       "  '1',\n",
       "  'Barbacoa Burrito',\n",
       "  '[Roasted Chili Corn Salsa, [Fajita Vegetables, Rice, Black Beans, Sour Cream, Guacamole]]',\n",
       "  '$11.75 '],\n",
       " ['306', '1', '6 Pack Soft Drink', '[Coke]', '$6.49 '],\n",
       " ['307', '1', 'Chips and Guacamole', 'NULL', '$3.99 '],\n",
       " ['307',\n",
       "  '1',\n",
       "  'Veggie Burrito',\n",
       "  '[Fresh Tomato Salsa (Mild), [Cheese, Rice, Pinto Beans, Sour Cream]]',\n",
       "  '$8.49 '],\n",
       " ['308',\n",
       "  '1',\n",
       "  'Chicken Burrito',\n",
       "  '[Fresh Tomato Salsa, [Rice, Black Beans, Cheese, Guacamole, Lettuce]]',\n",
       "  '$11.25 '],\n",
       " ['308', '1', 'Chips', 'NULL', '$2.15 '],\n",
       " ['309',\n",
       "  '1',\n",
       "  'Chicken Burrito',\n",
       "  '[Roasted Chili Corn Salsa, [Rice, Sour Cream, Cheese, Guacamole]]',\n",
       "  '$11.25 '],\n",
       " ['309',\n",
       "  '1',\n",
       "  'Steak Salad Bowl',\n",
       "  '[Roasted Chili Corn Salsa, [Rice, Cheese, Lettuce, Guacamole]]',\n",
       "  '$11.89 '],\n",
       " ['310',\n",
       "  '1',\n",
       "  'Barbacoa Bowl',\n",
       "  '[Tomatillo-Red Chili Salsa (Hot), [Black Beans, Rice, Cheese, Sour Cream, Lettuce]]',\n",
       "  '$8.99 '],\n",
       " ['310', '1', 'Side of Chips', 'NULL', '$1.69 '],\n",
       " ['311',\n",
       "  '1',\n",
       "  'Steak Salad',\n",
       "  '[Tomatillo-Red Chili Salsa (Hot), [Black Beans, Rice, Fajita Veggies, Cheese, Lettuce]]',\n",
       "  '$8.99 '],\n",
       " ['311',\n",
       "  '1',\n",
       "  'Steak Bowl',\n",
       "  '[[Roasted Chili Corn Salsa (Medium), Fresh Tomato Salsa (Mild)], [Cheese, Fajita Veggies, Lettuce, Sour Cream, Rice, Black Beans]]',\n",
       "  '$8.99 '],\n",
       " ['311', '1', 'Chips and Guacamole', 'NULL', '$3.99 '],\n",
       " ['311',\n",
       "  '1',\n",
       "  'Carnitas Soft Tacos',\n",
       "  '[Fresh Tomato Salsa (Mild), [Rice, Fajita Veggies, Cheese, Lettuce, Black Beans]]',\n",
       "  '$8.99 '],\n",
       " ['312',\n",
       "  '1',\n",
       "  'Barbacoa Burrito',\n",
       "  '[Fresh Tomato Salsa, [Rice, Pinto Beans, Cheese, Sour Cream, Lettuce]]',\n",
       "  '$9.25 '],\n",
       " ['312',\n",
       "  '1',\n",
       "  'Steak Bowl',\n",
       "  '[Fresh Tomato Salsa, [Rice, Cheese, Sour Cream, Lettuce]]',\n",
       "  '$9.25 '],\n",
       " ['312', '1', 'Chips', 'NULL', '$2.15 '],\n",
       " ['313',\n",
       "  '1',\n",
       "  'Burrito',\n",
       "  '[White Rice, Adobo-Marinated and Grilled Steak, [Salsa, Cheese]]',\n",
       "  '$7.40 '],\n",
       " ['313',\n",
       "  '1',\n",
       "  'Burrito',\n",
       "  '[White Rice, Adobo-Marinated and Grilled Steak, Pinto Beans, [Sour Cream, Salsa, Cheese, Cilantro-Lime Rice]]',\n",
       "  '$7.40 '],\n",
       " ['314',\n",
       "  '1',\n",
       "  'Veggie Burrito',\n",
       "  '[Fresh Tomato Salsa, [Rice, Pinto Beans, Cheese]]',\n",
       "  '$8.75 '],\n",
       " ['314',\n",
       "  '1',\n",
       "  'Chicken Salad Bowl',\n",
       "  '[Fresh Tomato Salsa, [Fajita Vegetables, Lettuce]]',\n",
       "  '$8.75 '],\n",
       " ['315',\n",
       "  '1',\n",
       "  'Barbacoa Crispy Tacos',\n",
       "  '[Fresh Tomato Salsa, [Sour Cream, Lettuce]]',\n",
       "  '$9.25 '],\n",
       " ['315', '1', 'Chips and Guacamole', 'NULL', '$4.45 '],\n",
       " ['316',\n",
       "  '1',\n",
       "  'Chicken Bowl',\n",
       "  '[Roasted Chili Corn Salsa, [Fajita Vegetables, Rice, Black Beans, Cheese, Sour Cream, Guacamole, Lettuce]]',\n",
       "  '$11.25 '],\n",
       " ['316', '1', 'Canned Soft Drink', '[Sprite]', '$1.25 '],\n",
       " ['317',\n",
       "  '1',\n",
       "  'Carnitas Burrito',\n",
       "  '[Roasted Chili Corn Salsa, [Rice, Cheese, Guacamole]]',\n",
       "  '$11.75 '],\n",
       " ['317',\n",
       "  '1',\n",
       "  'Chicken Crispy Tacos',\n",
       "  '[Roasted Chili Corn Salsa, [Rice, Cheese, Guacamole]]',\n",
       "  '$11.25 '],\n",
       " ['317', '1', 'Canned Soft Drink', '[Coke]', '$1.25 '],\n",
       " ['318', '1', 'Chips and Guacamole', 'NULL', '$3.99 '],\n",
       " ['318',\n",
       "  '1',\n",
       "  'Veggie Burrito',\n",
       "  '[Fresh Tomato Salsa (Mild), [Cheese, Rice, Pinto Beans, Sour Cream]]',\n",
       "  '$8.49 '],\n",
       " ['319',\n",
       "  '1',\n",
       "  'Chicken Bowl',\n",
       "  '[Tomatillo-Green Chili Salsa (Medium), Black Beans]',\n",
       "  '$8.49 '],\n",
       " ['319',\n",
       "  '1',\n",
       "  'Chicken Bowl',\n",
       "  '[Tomatillo-Green Chili Salsa (Medium), Black Beans]',\n",
       "  '$8.49 '],\n",
       " ['319',\n",
       "  '1',\n",
       "  'Steak Crispy Tacos',\n",
       "  '[Tomatillo-Green Chili Salsa (Medium), Pinto Beans]',\n",
       "  '$8.99 '],\n",
       " ['320',\n",
       "  '1',\n",
       "  'Chicken Bowl',\n",
       "  '[Fresh Tomato Salsa, [Rice, Black Beans, Cheese, Sour Cream, Lettuce]]',\n",
       "  '$8.75 '],\n",
       " ['320', '1', 'Chips', 'NULL', '$2.15 '],\n",
       " ['320', '1', 'Canned Soft Drink', '[Sprite]', '$1.25 '],\n",
       " ['321',\n",
       "  '1',\n",
       "  'Chicken Burrito',\n",
       "  '[[Fresh Tomato Salsa (Mild), Roasted Chili Corn Salsa (Medium), Tomatillo-Red Chili Salsa (Hot)], [Black Beans, Rice, Fajita Veggies, Lettuce]]',\n",
       "  '$8.49 '],\n",
       " ['321', '1', 'Canned Soda', '[Diet Coke]', '$1.09 '],\n",
       " ['321', '1', 'Bottled Water', 'NULL', '$1.09 '],\n",
       " ['322',\n",
       "  '1',\n",
       "  'Veggie Soft Tacos',\n",
       "  '[Fresh Tomato Salsa, [Black Beans, Cheese, Sour Cream, Lettuce]]',\n",
       "  '$8.75 '],\n",
       " ['322', '1', 'Chips and Tomatillo Green Chili Salsa', 'NULL', '$2.95 '],\n",
       " ['322', '1', 'Canned Soft Drink', '[Nestea]', '$1.25 '],\n",
       " ['323',\n",
       "  '1',\n",
       "  'Steak Bowl',\n",
       "  '[Tomatillo Red Chili Salsa, [Rice, Cheese]]',\n",
       "  '$9.25 '],\n",
       " ['323', '1', 'Canned Soft Drink', '[Lemonade]', '$1.25 '],\n",
       " ['323', '1', 'Chips', 'NULL', '$2.15 '],\n",
       " ['324',\n",
       "  '1',\n",
       "  'Chicken Burrito',\n",
       "  '[Roasted Chili Corn Salsa, [Rice, Black Beans, Cheese, Lettuce, Guacamole]]',\n",
       "  '$11.25 '],\n",
       " ['324', '1', 'Canned Soft Drink', '[Diet Coke]', '$1.25 '],\n",
       " ['325', '1', 'Chips and Guacamole', 'NULL', '$4.45 '],\n",
       " ['325',\n",
       "  '1',\n",
       "  'Chicken Burrito',\n",
       "  '[Fresh Tomato Salsa, [Rice, Black Beans, Cheese]]',\n",
       "  '$8.75 '],\n",
       " ['325', '2', 'Canned Soft Drink', '[Coke]', '$2.50 '],\n",
       " ['326', '2', 'Chips and Guacamole', 'NULL', '$8.90 '],\n",
       " ['326',\n",
       "  '1',\n",
       "  'Chicken Burrito',\n",
       "  '[Roasted Chili Corn Salsa, [Fajita Vegetables, Rice, Pinto Beans, Cheese, Sour Cream, Lettuce]]',\n",
       "  '$8.75 '],\n",
       " ['326',\n",
       "  '1',\n",
       "  'Chicken Bowl',\n",
       "  '[Roasted Chili Corn Salsa, [Fajita Vegetables, Rice, Black Beans, Cheese, Lettuce]]',\n",
       "  '$8.75 '],\n",
       " ['326',\n",
       "  '1',\n",
       "  'Chicken Bowl',\n",
       "  '[Tomatillo Red Chili Salsa, [Fajita Vegetables, Rice, Black Beans, Cheese, Sour Cream, Lettuce]]',\n",
       "  '$8.75 '],\n",
       " ['327',\n",
       "  '1',\n",
       "  'Chicken Burrito',\n",
       "  '[Tomatillo Red Chili Salsa, [Fajita Vegetables, Rice, Black Beans, Sour Cream, Guacamole, Lettuce]]',\n",
       "  '$11.25 '],\n",
       " ['327',\n",
       "  '1',\n",
       "  'Veggie Burrito',\n",
       "  '[Tomatillo Red Chili Salsa, [Fajita Vegetables, Rice, Sour Cream, Guacamole, Lettuce]]',\n",
       "  '$11.25 '],\n",
       " ['328',\n",
       "  '1',\n",
       "  'Chicken Bowl',\n",
       "  '[[Fresh Tomato Salsa (Mild), Roasted Chili Corn Salsa (Medium)], [Rice, Sour Cream, Guacamole, Lettuce]]',\n",
       "  '$10.98 '],\n",
       " ['328', '1', 'Chips and Guacamole', 'NULL', '$3.99 '],\n",
       " ['329',\n",
       "  '1',\n",
       "  'Chicken Burrito',\n",
       "  '[Fresh Tomato Salsa (Mild), [Rice, Fajita Veggies, Cheese, Sour Cream, Guacamole, Lettuce]]',\n",
       "  '$10.98 '],\n",
       " ['329', '1', 'Chips and Guacamole', 'NULL', '$3.99 '],\n",
       " ['330', '1', 'Side of Chips', 'NULL', '$1.69 '],\n",
       " ['330',\n",
       "  '1',\n",
       "  'Barbacoa Bowl',\n",
       "  '[Tomatillo-Red Chili Salsa (Hot), [Black Beans, Rice, Cheese, Sour Cream, Lettuce]]',\n",
       "  '$8.99 '],\n",
       " ['331',\n",
       "  '1',\n",
       "  'Barbacoa Bowl',\n",
       "  '[Tomatillo Red Chili Salsa, [Rice, Fajita Vegetables, Black Beans, Sour Cream, Cheese]]',\n",
       "  '$9.25 '],\n",
       " ['331',\n",
       "  '1',\n",
       "  'Chicken Bowl',\n",
       "  '[Tomatillo Red Chili Salsa, [Rice, Fajita Vegetables, Black Beans, Sour Cream, Cheese]]',\n",
       "  '$8.75 '],\n",
       " ['332',\n",
       "  '1',\n",
       "  'Steak Burrito',\n",
       "  '[Roasted Chili Corn Salsa (Medium), [Rice, Black Beans, Sour Cream, Lettuce]]',\n",
       "  '$8.99 '],\n",
       " ['332', '1', 'Canned Soda', '[Mountain Dew]', '$1.09 '],\n",
       " ['333',\n",
       "  '1',\n",
       "  'Steak Burrito',\n",
       "  '[Fresh Tomato Salsa, [Fajita Vegetables, Rice, Cheese, Lettuce]]',\n",
       "  '$9.25 '],\n",
       " ['333', '1', 'Chips and Tomatillo Green Chili Salsa', 'NULL', '$2.95 '],\n",
       " ['334',\n",
       "  '1',\n",
       "  'Chicken Burrito',\n",
       "  '[Fresh Tomato Salsa, [Rice, Black Beans, Cheese, Sour Cream]]',\n",
       "  '$8.75 '],\n",
       " ['334',\n",
       "  '1',\n",
       "  'Steak Burrito',\n",
       "  '[Tomatillo Green Chili Salsa, [Rice, Black Beans, Cheese, Sour Cream]]',\n",
       "  '$9.25 '],\n",
       " ['335', '1', 'Chips and Guacamole', 'NULL', '$3.99 '],\n",
       " ['335',\n",
       "  '1',\n",
       "  'Veggie Burrito',\n",
       "  '[Fresh Tomato Salsa (Mild), [Cheese, Rice, Pinto Beans, Sour Cream]]',\n",
       "  '$8.49 '],\n",
       " ['336',\n",
       "  '1',\n",
       "  'Chicken Burrito',\n",
       "  '[Roasted Chili Corn Salsa, [Rice, Cheese, Sour Cream, Lettuce]]',\n",
       "  '$8.75 '],\n",
       " ['336',\n",
       "  '1',\n",
       "  'Chicken Bowl',\n",
       "  '[Tomatillo Red Chili Salsa, [Rice, Cheese, Sour Cream, Lettuce]]',\n",
       "  '$8.75 '],\n",
       " ['337',\n",
       "  '2',\n",
       "  'Chicken Salad Bowl',\n",
       "  '[Tomatillo Green Chili Salsa, [Black Beans, Cheese, Guacamole]]',\n",
       "  '$22.50 '],\n",
       " ['338',\n",
       "  '1',\n",
       "  'Chicken Bowl',\n",
       "  '[[Roasted Chili Corn Salsa (Medium), Fresh Tomato Salsa (Mild)], [Rice, Black Beans, Fajita Veggies, Cheese, Sour Cream, Guacamole]]',\n",
       "  '$10.98 '],\n",
       " ['338', '3', 'Bottled Water', 'NULL', '$3.27 '],\n",
       " ['338', '1', 'Chips and Guacamole', 'NULL', '$3.99 '],\n",
       " ['338',\n",
       "  '1',\n",
       "  'Carnitas Soft Tacos',\n",
       "  '[Fresh Tomato Salsa (Mild), [Rice, Pinto Beans, Cheese, Sour Cream]]',\n",
       "  '$8.99 '],\n",
       " ['338', '1', 'Canned Soda', '[Coca Cola]', '$1.09 '],\n",
       " ['339',\n",
       "  '1',\n",
       "  'Carnitas Bowl',\n",
       "  '[Fresh Tomato (Mild), [Guacamole, Sour Cream, Cheese]]',\n",
       "  '$11.08 '],\n",
       " ['340',\n",
       "  '1',\n",
       "  'Chicken Burrito',\n",
       "  '[Fresh Tomato Salsa, [Rice, Black Beans, Cheese, Sour Cream, Lettuce]]',\n",
       "  '$8.75 '],\n",
       " ['340', '1', 'Chips and Guacamole', 'NULL', '$4.45 '],\n",
       " ['341',\n",
       "  '1',\n",
       "  'Steak Bowl',\n",
       "  '[Fresh Tomato (Mild), [Guacamole, Lettuce, Pinto Beans, Rice, Sour Cream, Cheese]]',\n",
       "  '$11.08 '],\n",
       " ['342', '1', 'Chips and Guacamole', 'NULL', '$3.99 '],\n",
       " ['342',\n",
       "  '1',\n",
       "  'Veggie Burrito',\n",
       "  '[Fresh Tomato Salsa (Mild), [Cheese, Pinto Beans, Sour Cream, Rice]]',\n",
       "  '$8.49 '],\n",
       " ['343', '2', 'Chips', 'NULL', '$4.30 '],\n",
       " ['343',\n",
       "  '1',\n",
       "  'Barbacoa Crispy Tacos',\n",
       "  '[Roasted Chili Corn Salsa, [Fajita Vegetables, Black Beans, Cheese]]',\n",
       "  '$9.25 '],\n",
       " ['343',\n",
       "  '1',\n",
       "  'Chicken Crispy Tacos',\n",
       "  '[Fresh Tomato Salsa, [Rice, Cheese, Lettuce]]',\n",
       "  '$8.75 '],\n",
       " ['343',\n",
       "  '1',\n",
       "  'Veggie Bowl',\n",
       "  '[Roasted Chili Corn Salsa, [Black Beans, Cheese, Sour Cream, Guacamole]]',\n",
       "  '$11.25 '],\n",
       " ['343',\n",
       "  '1',\n",
       "  'Veggie Bowl',\n",
       "  '[Fresh Tomato Salsa, [Rice, Black Beans, Cheese, Sour Cream, Guacamole]]',\n",
       "  '$11.25 '],\n",
       " ['343',\n",
       "  '1',\n",
       "  'Carnitas Bowl',\n",
       "  '[Fresh Tomato Salsa, [Rice, Black Beans, Cheese, Sour Cream]]',\n",
       "  '$9.25 '],\n",
       " ['344',\n",
       "  '1',\n",
       "  'Chicken Burrito',\n",
       "  '[Tomatillo-Green Chili Salsa (Medium), [Black Beans, Rice, Fajita Veggies, Sour Cream]]',\n",
       "  '$8.49 '],\n",
       " ['344',\n",
       "  '1',\n",
       "  'Carnitas Burrito',\n",
       "  '[Fresh Tomato Salsa (Mild), [Pinto Beans, Rice, Fajita Veggies, Sour Cream]]',\n",
       "  '$8.99 '],\n",
       " ['344',\n",
       "  '1',\n",
       "  'Chicken Burrito',\n",
       "  '[Fresh Tomato Salsa (Mild), [Pinto Beans, Rice, Sour Cream]]',\n",
       "  '$8.49 '],\n",
       " ['345',\n",
       "  '1',\n",
       "  'Chicken Bowl',\n",
       "  '[Tomatillo Red Chili Salsa, [Rice, Black Beans, Cheese, Sour Cream, Lettuce]]',\n",
       "  '$8.75 '],\n",
       " ['345', '1', 'Chips and Tomatillo Red Chili Salsa', 'NULL', '$2.95 '],\n",
       " ['345', '1', 'Chips and Guacamole', 'NULL', '$4.45 '],\n",
       " ['346',\n",
       "  '1',\n",
       "  'Barbacoa Bowl',\n",
       "  '[Tomatillo Red Chili Salsa, [Rice, Cheese, Lettuce]]',\n",
       "  '$9.25 '],\n",
       " ['346', '1', 'Chips and Roasted Chili Corn Salsa', 'NULL', '$2.95 '],\n",
       " ['346', '1', 'Steak Bowl', '[Tomatillo Green Chili Salsa]', '$9.25 '],\n",
       " ['346',\n",
       "  '1',\n",
       "  'Veggie Bowl',\n",
       "  '[Roasted Chili Corn Salsa, Fajita Vegetables]',\n",
       "  '$8.75 '],\n",
       " ['347',\n",
       "  '1',\n",
       "  'Chicken Bowl',\n",
       "  '[Fresh Tomato Salsa, [Rice, Guacamole]]',\n",
       "  '$11.25 '],\n",
       " ['347', '1', 'Chips and Guacamole', 'NULL', '$4.45 '],\n",
       " ['348',\n",
       "  '2',\n",
       "  'Veggie Bowl',\n",
       "  '[Fresh Tomato Salsa (Mild), [Rice, Sour Cream, Cheese, Pinto Beans]]',\n",
       "  '$16.98 '],\n",
       " ['349',\n",
       "  '1',\n",
       "  'Veggie Burrito',\n",
       "  '[Tomatillo-Green Chili Salsa (Medium), [Black Beans, Rice, Cheese]]',\n",
       "  '$8.49 '],\n",
       " ['349', '1', 'Chips and Fresh Tomato Salsa', 'NULL', '$2.39 '],\n",
       " ['350',\n",
       "  '1',\n",
       "  'Chicken Bowl',\n",
       "  '[Fresh Tomato Salsa, [Rice, Black Beans, Cheese, Sour Cream, Guacamole]]',\n",
       "  '$11.25 '],\n",
       " ['350', '3', 'Canned Soft Drink', '[Sprite]', '$3.75 '],\n",
       " ['351',\n",
       "  '1',\n",
       "  'Carnitas Bowl',\n",
       "  '[Fresh Tomato Salsa, [Fajita Vegetables, Rice, Pinto Beans, Lettuce]]',\n",
       "  '$9.25 '],\n",
       " ['351', '1', 'Chips and Guacamole', 'NULL', '$4.45 '],\n",
       " ['352',\n",
       "  '1',\n",
       "  'Barbacoa Burrito',\n",
       "  '[Roasted Chili Corn Salsa, [Rice, Pinto Beans, Sour Cream, Cheese]]',\n",
       "  '$9.25 '],\n",
       " ['352',\n",
       "  '1',\n",
       "  'Barbacoa Burrito',\n",
       "  '[Roasted Chili Corn Salsa, [Rice, Black Beans, Sour Cream, Cheese]]',\n",
       "  '$9.25 '],\n",
       " ['352', '1', 'Chips and Guacamole', 'NULL', '$4.45 '],\n",
       " ['353',\n",
       "  '1',\n",
       "  'Chicken Burrito',\n",
       "  '[Fresh Tomato Salsa, [Rice, Black Beans, Sour Cream, Lettuce]]',\n",
       "  '$8.75 '],\n",
       " ['353',\n",
       "  '1',\n",
       "  'Barbacoa Soft Tacos',\n",
       "  '[Tomatillo Red Chili Salsa, [Rice, Pinto Beans, Cheese, Sour Cream]]',\n",
       "  '$9.25 '],\n",
       " ['354',\n",
       "  '1',\n",
       "  'Chicken Burrito',\n",
       "  '[Fresh Tomato Salsa, [Rice, Black Beans, Cheese, Lettuce]]',\n",
       "  '$8.75 '],\n",
       " ['354',\n",
       "  '1',\n",
       "  'Barbacoa Burrito',\n",
       "  '[Fresh Tomato Salsa, [Fajita Vegetables, Rice, Black Beans, Cheese, Lettuce]]',\n",
       "  '$9.25 '],\n",
       " ['355',\n",
       "  '1',\n",
       "  'Steak Burrito',\n",
       "  '[Roasted Chili Corn Salsa, [Rice, Fajita Vegetables, Sour Cream, Cheese, Lettuce]]',\n",
       "  '$9.25 '],\n",
       " ['355',\n",
       "  '1',\n",
       "  'Steak Burrito',\n",
       "  '[Tomatillo Green Chili Salsa, [Rice, Fajita Vegetables, Black Beans, Cheese]]',\n",
       "  '$9.25 '],\n",
       " ['356',\n",
       "  '1',\n",
       "  'Steak Burrito',\n",
       "  '[Roasted Chili Corn Salsa (Medium), [Rice, Fajita Veggies, Sour Cream, Guacamole, Lettuce]]',\n",
       "  '$11.48 '],\n",
       " ['356',\n",
       "  '1',\n",
       "  'Steak Burrito',\n",
       "  '[Roasted Chili Corn Salsa (Medium), [Rice, Sour Cream, Lettuce]]',\n",
       "  '$8.99 '],\n",
       " ['357',\n",
       "  '2',\n",
       "  'Chicken Salad Bowl',\n",
       "  '[Fresh Tomato Salsa, [Black Beans, Cheese, Guacamole]]',\n",
       "  '$22.50 '],\n",
       " ['358',\n",
       "  '1',\n",
       "  'Carnitas Burrito',\n",
       "  '[Roasted Chili Corn Salsa, [Cheese, Rice, Guacamole]]',\n",
       "  '$11.75 '],\n",
       " ['358',\n",
       "  '1',\n",
       "  'Chicken Crispy Tacos',\n",
       "  '[Roasted Chili Corn Salsa, [Rice, Cheese, Guacamole]]',\n",
       "  '$11.25 '],\n",
       " ['358', '1', 'Canned Soft Drink', '[Coke]', '$1.25 '],\n",
       " ['359',\n",
       "  '1',\n",
       "  'Chicken Bowl',\n",
       "  '[Tomatillo Green Chili Salsa, [Rice, Pinto Beans, Sour Cream, Lettuce]]',\n",
       "  '$8.75 '],\n",
       " ['359', '1', 'Chips', 'NULL', '$2.15 '],\n",
       " ['359', '1', 'Canned Soft Drink', '[Diet Coke]', '$1.25 '],\n",
       " ['360',\n",
       "  '1',\n",
       "  'Chicken Bowl',\n",
       "  '[Tomatillo Red Chili Salsa, [Rice, Sour Cream, Cheese, Guacamole]]',\n",
       "  '$11.25 '],\n",
       " ['360',\n",
       "  '1',\n",
       "  'Chicken Soft Tacos',\n",
       "  '[Fresh Tomato Salsa, [Rice, Black Beans, Cheese]]',\n",
       "  '$8.75 '],\n",
       " ['360', '1', 'Canned Soft Drink', '[Sprite]', '$1.25 '],\n",
       " ['361',\n",
       "  '1',\n",
       "  'Veggie Burrito',\n",
       "  '[Fresh Tomato Salsa, [Rice, Black Beans, Sour Cream, Guacamole]]',\n",
       "  '$11.25 '],\n",
       " ['361', '1', 'Bottled Water', 'NULL', '$1.50 '],\n",
       " ['362',\n",
       "  '1',\n",
       "  'Chicken Soft Tacos',\n",
       "  '[Fresh Tomato Salsa, [Cheese, Sour Cream, Guacamole, Lettuce]]',\n",
       "  '$11.25 '],\n",
       " ['362',\n",
       "  '1',\n",
       "  'Chicken Bowl',\n",
       "  '[Roasted Chili Corn Salsa, [Fajita Vegetables, Pinto Beans, Sour Cream, Guacamole]]',\n",
       "  '$11.25 '],\n",
       " ['363',\n",
       "  '1',\n",
       "  'Barbacoa Burrito',\n",
       "  '[Fresh Tomato Salsa, [Fajita Vegetables, Rice, Cheese, Sour Cream]]',\n",
       "  '$9.25 '],\n",
       " ['363', '1', '6 Pack Soft Drink', '[Coke]', '$6.49 '],\n",
       " ['363', '2', 'Chips and Guacamole', 'NULL', '$8.90 '],\n",
       " ['364',\n",
       "  '1',\n",
       "  'Chicken Bowl',\n",
       "  '[Tomatillo Green Chili Salsa, [Rice, Cheese, Sour Cream, Lettuce]]',\n",
       "  '$8.75 '],\n",
       " ['364', '1', 'Chips and Guacamole', 'NULL', '$4.45 '],\n",
       " ['365',\n",
       "  '1',\n",
       "  'Chicken Soft Tacos',\n",
       "  '[Roasted Chili Corn Salsa, [Rice, Cheese, Lettuce, Guacamole]]',\n",
       "  '$11.25 '],\n",
       " ['365', '1', 'Canned Soft Drink', '[Diet Coke]', '$1.25 '],\n",
       " ['366',\n",
       "  '2',\n",
       "  'Chicken Crispy Tacos',\n",
       "  '[Tomatillo Red Chili Salsa]',\n",
       "  '$17.50 '],\n",
       " ['366', '1', 'Steak Burrito', '[Tomatillo Red Chili Salsa]', '$9.25 '],\n",
       " ['367',\n",
       "  '1',\n",
       "  'Veggie Bowl',\n",
       "  '[Tomatillo Red Chili Salsa, [Fajita Vegetables, Rice, Pinto Beans, Cheese, Sour Cream, Lettuce]]',\n",
       "  '$8.75 '],\n",
       " ['367',\n",
       "  '1',\n",
       "  'Barbacoa Burrito',\n",
       "  '[Tomatillo Red Chili Salsa, [Rice, Cheese, Sour Cream, Guacamole, Lettuce]]',\n",
       "  '$11.75 '],\n",
       " ['367', '2', 'Bottled Water', 'NULL', '$3.00 '],\n",
       " ['368',\n",
       "  '1',\n",
       "  'Chicken Bowl',\n",
       "  '[Tomatillo-Red Chili Salsa (Hot), [Pinto Beans, Rice, Fajita Veggies, Cheese, Sour Cream, Lettuce]]',\n",
       "  '$8.49 '],\n",
       " ['368',\n",
       "  '1',\n",
       "  'Veggie Burrito',\n",
       "  '[Fresh Tomato Salsa (Mild), [Black Beans, Rice, Cheese, Sour Cream, Lettuce]]',\n",
       "  '$8.49 '],\n",
       " ['369',\n",
       "  '1',\n",
       "  'Chicken Bowl',\n",
       "  '[Fresh Tomato Salsa (Mild), [Rice, Fajita Veggies, Sour Cream, Guacamole]]',\n",
       "  '$10.98 '],\n",
       " ['369',\n",
       "  '1',\n",
       "  'Steak Salad',\n",
       "  '[Fresh Tomato Salsa (Mild), [Rice, Cheese, Sour Cream, Lettuce]]',\n",
       "  '$8.99 '],\n",
       " ['369', '1', 'Chips and Guacamole', 'NULL', '$3.99 '],\n",
       " ['370',\n",
       "  '1',\n",
       "  'Chicken Burrito',\n",
       "  '[Tomatillo Green Chili Salsa, [Rice, Cheese, Sour Cream, Lettuce]]',\n",
       "  '$8.75 '],\n",
       " ['370', '1', 'Chips and Guacamole', 'NULL', '$4.45 '],\n",
       " ['371',\n",
       "  '1',\n",
       "  'Steak Burrito',\n",
       "  '[[Fresh Tomato Salsa (Mild), Roasted Chili Corn Salsa (Medium), Tomatillo-Red Chili Salsa (Hot)], [Black Beans, Rice, Sour Cream]]',\n",
       "  '$8.99 '],\n",
       " ['371', '1', 'Side of Chips', 'NULL', '$1.69 '],\n",
       " ['372',\n",
       "  '1',\n",
       "  'Steak Bowl',\n",
       "  '[Roasted Chili Corn Salsa, [Rice, Black Beans, Cheese, Sour Cream, Guacamole, Lettuce]]',\n",
       "  '$11.75 '],\n",
       " ['372',\n",
       "  '1',\n",
       "  'Chicken Bowl',\n",
       "  '[Fresh Tomato Salsa, [Rice, Cheese, Sour Cream]]',\n",
       "  '$8.75 '],\n",
       " ['373',\n",
       "  '1',\n",
       "  'Veggie Bowl',\n",
       "  '[Roasted Chili Corn Salsa, [Rice, Black Beans, Cheese, Sour Cream, Guacamole]]',\n",
       "  '$11.25 '],\n",
       " ['373', '1', 'Chips and Guacamole', 'NULL', '$4.45 '],\n",
       " ['374',\n",
       "  '1',\n",
       "  'Barbacoa Burrito',\n",
       "  '[Fresh Tomato Salsa, [Fajita Vegetables, Rice, Black Beans, Sour Cream, Guacamole, Lettuce]]',\n",
       "  '$11.75 '],\n",
       " ['374', '1', 'Canned Soft Drink', '[Coke]', '$1.25 '],\n",
       " ['375',\n",
       "  '1',\n",
       "  'Steak Bowl',\n",
       "  '[Roasted Chili Corn Salsa, [Fajita Vegetables, Rice, Black Beans, Cheese, Guacamole]]',\n",
       "  '$11.75 '],\n",
       " ['375', '1', 'Chips and Roasted Chili Corn Salsa', 'NULL', '$2.95 '],\n",
       " ['376',\n",
       "  '1',\n",
       "  'Steak Burrito',\n",
       "  '[Roasted Chili Corn Salsa (Medium), [Rice, Fajita Veggies, Cheese, Sour Cream, Lettuce]]',\n",
       "  '$8.99 '],\n",
       " ['376',\n",
       "  '1',\n",
       "  'Steak Burrito',\n",
       "  '[Roasted Chili Corn Salsa (Medium), [Rice, Fajita Veggies, Cheese, Sour Cream, Lettuce]]',\n",
       "  '$8.99 '],\n",
       " ['376', '2', 'Canned Soda', '[Mountain Dew]', '$2.18 '],\n",
       " ['377',\n",
       "  '2',\n",
       "  'Steak Bowl',\n",
       "  '[Roasted Chili Corn Salsa (Medium), [Black Beans, Rice, Cheese]]',\n",
       "  '$17.98 '],\n",
       " ['377',\n",
       "  '1',\n",
       "  'Steak Burrito',\n",
       "  '[Roasted Chili Corn Salsa (Medium), [Black Beans, Rice, Cheese]]',\n",
       "  '$8.99 '],\n",
       " ['378',\n",
       "  '1',\n",
       "  'Chicken Burrito',\n",
       "  '[Fresh Tomato Salsa (Mild), [Black Beans, Rice, Cheese, Sour Cream, Lettuce]]',\n",
       "  '$8.49 '],\n",
       " ['378', '1', 'Side of Chips', 'NULL', '$1.69 '],\n",
       " ['379',\n",
       "  '1',\n",
       "  'Steak Burrito',\n",
       "  '[Roasted Chili Corn Salsa, [Fajita Vegetables, Rice, Cheese, Sour Cream, Guacamole, Lettuce]]',\n",
       "  '$11.75 '],\n",
       " ['379',\n",
       "  '1',\n",
       "  'Chicken Bowl',\n",
       "  '[Roasted Chili Corn Salsa, [Fajita Vegetables, Rice, Cheese, Sour Cream, Guacamole, Lettuce]]',\n",
       "  '$11.25 '],\n",
       " ['379', '1', 'Chips and Tomatillo Green Chili Salsa', 'NULL', '$2.95 '],\n",
       " ['379', '3', 'Canned Soft Drink', '[Lemonade]', '$3.75 '],\n",
       " ['379',\n",
       "  '1',\n",
       "  'Steak Crispy Tacos',\n",
       "  '[Roasted Chili Corn Salsa, [Cheese, Sour Cream, Lettuce]]',\n",
       "  '$9.25 '],\n",
       " ['380',\n",
       "  '1',\n",
       "  'Barbacoa Bowl',\n",
       "  '[Tomatillo Red Chili Salsa, [Fajita Vegetables, Rice, Black Beans, Pinto Beans, Cheese, Sour Cream, Guacamole, Lettuce]]',\n",
       "  '$11.75 '],\n",
       " ['380',\n",
       "  '1',\n",
       "  'Chicken Bowl',\n",
       "  '[Roasted Chili Corn Salsa, [Rice, Cheese, Sour Cream, Lettuce]]',\n",
       "  '$8.75 '],\n",
       " ['380', '1', 'Chips', 'NULL', '$2.15 '],\n",
       " ['380', '1', 'Bottled Water', 'NULL', '$1.50 '],\n",
       " ['381',\n",
       "  '1',\n",
       "  'Chicken Soft Tacos',\n",
       "  '[Tomatillo-Red Chili Salsa (Hot), Cheese]',\n",
       "  '$8.49 '],\n",
       " ['381',\n",
       "  '1',\n",
       "  'Chicken Soft Tacos',\n",
       "  '[Tomatillo-Red Chili Salsa (Hot), Cheese]',\n",
       "  '$8.49 '],\n",
       " ['381', '1', 'Nantucket Nectar', '[Pomegranate Cherry]', '$3.39 '],\n",
       " ['382',\n",
       "  '1',\n",
       "  'Steak Bowl',\n",
       "  '[Fresh Tomato (Mild), [Lettuce, Black Beans, Rice, Cheese]]',\n",
       "  '$8.69 '],\n",
       " ['382', '1', 'Chips and Guacamole', 'NULL', '$3.89 '],\n",
       " ['383',\n",
       "  '1',\n",
       "  'Chicken Bowl',\n",
       "  '[Tomatillo Green Chili Salsa, [Rice, Cheese, Sour Cream, Lettuce]]',\n",
       "  '$8.75 '],\n",
       " ['383', '1', 'Chips and Guacamole', 'NULL', '$4.45 '],\n",
       " ['384',\n",
       "  '1',\n",
       "  'Chicken Bowl',\n",
       "  '[Fresh Tomato Salsa, [Rice, Black Beans, Cheese, Sour Cream]]',\n",
       "  '$8.75 '],\n",
       " ['384',\n",
       "  '1',\n",
       "  'Veggie Burrito',\n",
       "  '[Fresh Tomato Salsa, [Rice, Black Beans, Guacamole, Lettuce]]',\n",
       "  '$11.25 '],\n",
       " ['384', '1', 'Chips', 'NULL', '$2.15 '],\n",
       " ['384',\n",
       "  '1',\n",
       "  'Chicken Bowl',\n",
       "  '[Fresh Tomato Salsa, [Fajita Vegetables, Rice, Cheese, Sour Cream, Lettuce]]',\n",
       "  '$8.75 '],\n",
       " ['385',\n",
       "  '1',\n",
       "  'Chicken Bowl',\n",
       "  '[Fresh Tomato Salsa (Mild), [Pinto Beans, Rice, Cheese, Sour Cream, Lettuce]]',\n",
       "  '$8.49 '],\n",
       " ['385', '1', 'Side of Chips', 'NULL', '$1.69 '],\n",
       " ['386',\n",
       "  '1',\n",
       "  'Veggie Bowl',\n",
       "  '[Tomatillo-Red Chili Salsa (Hot), [Pinto Beans, Black Beans, Rice, Fajita Veggies, Cheese]]',\n",
       "  '$8.49 '],\n",
       " ['386',\n",
       "  '1',\n",
       "  'Chicken Bowl',\n",
       "  '[Tomatillo-Red Chili Salsa (Hot), [Rice, Fajita Veggies, Cheese, Sour Cream, Lettuce]]',\n",
       "  '$8.49 '],\n",
       " ['387', '1', 'Canned Soft Drink', '[Lemonade]', '$1.25 '],\n",
       " ['387',\n",
       "  '1',\n",
       "  'Chicken Burrito',\n",
       "  '[Roasted Chili Corn Salsa, [Rice, Fajita Vegetables, Sour Cream, Cheese, Lettuce]]',\n",
       "  '$8.75 '],\n",
       " ['387',\n",
       "  '1',\n",
       "  'Steak Burrito',\n",
       "  '[Roasted Chili Corn Salsa, [Rice, Fajita Vegetables, Cheese, Lettuce, Guacamole]]',\n",
       "  '$11.75 '],\n",
       " ['387',\n",
       "  '1',\n",
       "  'Steak Burrito',\n",
       "  '[Roasted Chili Corn Salsa, [Rice, Fajita Vegetables, Sour Cream, Lettuce, Guacamole]]',\n",
       "  '$11.75 '],\n",
       " ['388',\n",
       "  '1',\n",
       "  'Steak Burrito',\n",
       "  '[Tomatillo-Red Chili Salsa (Hot), [Pinto Beans, Rice, Cheese, Sour Cream]]',\n",
       "  '$8.99 '],\n",
       " ['388', '1', 'Bottled Water', 'NULL', '$1.09 '],\n",
       " ['389',\n",
       "  '1',\n",
       "  'Chicken Bowl',\n",
       "  '[Fresh Tomato Salsa, [Fajita Vegetables, Rice, Black Beans, Sour Cream]]',\n",
       "  '$8.75 '],\n",
       " ['389', '1', 'Chips and Guacamole', 'NULL', '$4.45 '],\n",
       " ['389',\n",
       "  '1',\n",
       "  'Chicken Crispy Tacos',\n",
       "  '[Fresh Tomato Salsa, Lettuce]',\n",
       "  '$8.75 '],\n",
       " ['389', '1', 'Chips and Fresh Tomato Salsa', 'NULL', '$2.95 '],\n",
       " ['389',\n",
       "  '1',\n",
       "  'Chicken Bowl',\n",
       "  '[Roasted Chili Corn Salsa, [Fajita Vegetables, Rice, Black Beans, Cheese, Sour Cream]]',\n",
       "  '$8.75 '],\n",
       " ['389', '1', 'Chips', 'NULL', '$2.15 '],\n",
       " ['390', '1', 'Chips and Guacamole', 'NULL', '$3.99 '],\n",
       " ['390',\n",
       "  '1',\n",
       "  'Chicken Burrito',\n",
       "  '[Fresh Tomato Salsa (Mild), [Rice, Cheese, Sour Cream, Lettuce]]',\n",
       "  '$8.49 '],\n",
       " ['391',\n",
       "  '1',\n",
       "  'Steak Bowl',\n",
       "  '[[Fresh Tomato Salsa (Mild), Roasted Chili Corn Salsa (Medium)], [Pinto Beans, Rice, Fajita Veggies, Cheese, Sour Cream, Lettuce]]',\n",
       "  '$8.99 '],\n",
       " ['391', '1', 'Chips and Guacamole', 'NULL', '$3.99 '],\n",
       " ['392',\n",
       "  '1',\n",
       "  'Chicken Burrito',\n",
       "  '[Tomatillo-Red Chili Salsa (Hot), [Black Beans, Rice, Cheese]]',\n",
       "  '$8.49 '],\n",
       " ['392', '1', 'Side of Chips', 'NULL', '$1.69 '],\n",
       " ['392', '1', 'Canned Soda', '[Coca Cola]', '$1.09 '],\n",
       " ['393',\n",
       "  '1',\n",
       "  'Steak Burrito',\n",
       "  '[Fresh Tomato Salsa (Mild), [Pinto Beans, Rice, Cheese, Sour Cream, Lettuce]]',\n",
       "  '$8.99 '],\n",
       " ['393', '1', 'Canned Soda', '[Sprite]', '$1.09 '],\n",
       " ['394',\n",
       "  '1',\n",
       "  'Carnitas Burrito',\n",
       "  '[Fresh Tomato Salsa, [Rice, Pinto Beans, Cheese]]',\n",
       "  '$9.25 '],\n",
       " ['394',\n",
       "  '1',\n",
       "  'Veggie Salad Bowl',\n",
       "  '[Fresh Tomato Salsa, [Fajita Vegetables, Lettuce]]',\n",
       "  '$8.75 '],\n",
       " ['395',\n",
       "  '1',\n",
       "  'Steak Soft Tacos',\n",
       "  '[Tomatillo-Red Chili Salsa (Hot), [Cheese, Sour Cream, Lettuce]]',\n",
       "  '$8.99 '],\n",
       " ['395', '1', 'Chips and Fresh Tomato Salsa', 'NULL', '$2.39 '],\n",
       " ['396', '1', 'Canned Soft Drink', '[Diet Coke]', '$1.25 '],\n",
       " ['396', '1', 'Canned Soft Drink', '[Coke]', '$1.25 '],\n",
       " ['396',\n",
       "  '1',\n",
       "  'Chicken Burrito',\n",
       "  '[Fresh Tomato Salsa, [Fajita Vegetables, Sour Cream, Cheese, Guacamole]]',\n",
       "  '$11.25 '],\n",
       " ['396',\n",
       "  '1',\n",
       "  'Chicken Soft Tacos',\n",
       "  '[Fresh Tomato Salsa, [Sour Cream, Cheese, Guacamole]]',\n",
       "  '$11.25 '],\n",
       " ['397',\n",
       "  '1',\n",
       "  'Steak Burrito',\n",
       "  '[Fresh Tomato Salsa, [Rice, Black Beans, Cheese, Sour Cream]]',\n",
       "  '$9.25 '],\n",
       " ['397',\n",
       "  '1',\n",
       "  'Steak Soft Tacos',\n",
       "  '[Fresh Tomato Salsa, [Cheese, Sour Cream]]',\n",
       "  '$9.25 '],\n",
       " ['398',\n",
       "  '1',\n",
       "  'Chicken Soft Tacos',\n",
       "  '[Roasted Chili Corn Salsa, [Rice, Black Beans, Cheese, Lettuce, Guacamole]]',\n",
       "  '$11.25 '],\n",
       " ['398', '1', 'Bottled Water', 'NULL', '$1.50 '],\n",
       " ['399', '1', 'Chips and Guacamole', 'NULL', '$3.99 '],\n",
       " ['399',\n",
       "  '1',\n",
       "  'Veggie Burrito',\n",
       "  '[Fresh Tomato Salsa (Mild), [Rice, Pinto Beans, Cheese, Sour Cream]]',\n",
       "  '$8.49 '],\n",
       " ['400',\n",
       "  '1',\n",
       "  'Veggie Burrito',\n",
       "  '[Tomatillo Green Chili Salsa, [Rice, Fajita Vegetables, Pinto Beans, Sour Cream, Cheese, Lettuce, Guacamole]]',\n",
       "  '$11.25 '],\n",
       " ['400', '1', 'Carnitas Burrito', '[Tomatillo Red Chili Salsa]', '$9.25 '],\n",
       " ['400',\n",
       "  '1',\n",
       "  'Chicken Bowl',\n",
       "  '[Tomatillo Red Chili Salsa, [Rice, Black Beans, Cheese, Lettuce, Guacamole]]',\n",
       "  '$11.25 '],\n",
       " ['401',\n",
       "  '2',\n",
       "  'Chicken Bowl',\n",
       "  '[Fresh Tomato Salsa, [Fajita Vegetables, Rice, Lettuce]]',\n",
       "  '$17.50 '],\n",
       " ['402',\n",
       "  '1',\n",
       "  'Chicken Bowl',\n",
       "  '[Fresh Tomato Salsa, [Rice, Black Beans, Cheese, Lettuce]]',\n",
       "  '$8.75 '],\n",
       " ['402', '2', 'Chips and Guacamole', 'NULL', '$8.90 '],\n",
       " ['402',\n",
       "  '1',\n",
       "  'Chicken Bowl',\n",
       "  '[Fresh Tomato Salsa, [Fajita Vegetables, Rice, Black Beans, Cheese, Sour Cream, Lettuce]]',\n",
       "  '$8.75 '],\n",
       " ['402',\n",
       "  '1',\n",
       "  'Chicken Bowl',\n",
       "  '[Tomatillo Green Chili Salsa, [Fajita Vegetables, Rice, Black Beans, Cheese, Sour Cream, Lettuce]]',\n",
       "  '$8.75 '],\n",
       " ['403',\n",
       "  '1',\n",
       "  'Barbacoa Burrito',\n",
       "  '[Roasted Chili Corn Salsa (Medium), [Black Beans, Rice, Cheese, Sour Cream]]',\n",
       "  '$8.99 '],\n",
       " ['403', '1', 'Chips and Tomatillo-Green Chili Salsa', 'NULL', '$2.39 '],\n",
       " ['404',\n",
       "  '1',\n",
       "  'Chicken Burrito',\n",
       "  '[Fresh Tomato Salsa, [Fajita Vegetables, Rice, Pinto Beans, Cheese, Guacamole, Lettuce]]',\n",
       "  '$11.25 '],\n",
       " ['404',\n",
       "  '1',\n",
       "  'Carnitas Bowl',\n",
       "  '[Fresh Tomato Salsa, [Fajita Vegetables, Rice, Pinto Beans, Cheese, Sour Cream, Lettuce]]',\n",
       "  '$9.25 '],\n",
       " ['404', '1', 'Chips', 'NULL', '$2.15 '],\n",
       " ['405',\n",
       "  '1',\n",
       "  'Chicken Burrito',\n",
       "  '[Fresh Tomato Salsa, [Fajita Vegetables, Pinto Beans, Cheese, Guacamole]]',\n",
       "  '$11.25 '],\n",
       " ['405', '1', 'Canned Soft Drink', '[Diet Coke]', '$1.25 '],\n",
       " ['406',\n",
       "  '1',\n",
       "  'Barbacoa Soft Tacos',\n",
       "  '[Tomatillo Red Chili Salsa, [Black Beans, Cheese, Sour Cream, Guacamole]]',\n",
       "  '$11.75 '],\n",
       " ['406', '1', 'Canned Soft Drink', '[Diet Coke]', '$1.25 '],\n",
       " ['407',\n",
       "  '1',\n",
       "  'Chicken Burrito',\n",
       "  '[Roasted Chili Corn Salsa, [Rice, Sour Cream, Cheese, Guacamole]]',\n",
       "  '$11.25 '],\n",
       " ['407',\n",
       "  '1',\n",
       "  'Steak Burrito',\n",
       "  '[Roasted Chili Corn Salsa, [Rice, Sour Cream, Cheese, Guacamole]]',\n",
       "  '$11.75 '],\n",
       " ['408', '1', 'Canned Soft Drink', '[Coke]', '$1.25 '],\n",
       " ['408',\n",
       "  '1',\n",
       "  'Chicken Bowl',\n",
       "  '[Tomatillo Green Chili Salsa, [Rice, Sour Cream, Cheese, Guacamole]]',\n",
       "  '$11.25 '],\n",
       " ['408',\n",
       "  '1',\n",
       "  'Chicken Bowl',\n",
       "  '[Fresh Tomato Salsa, [Rice, Fajita Vegetables, Pinto Beans, Sour Cream, Cheese, Lettuce, Guacamole]]',\n",
       "  '$11.25 '],\n",
       " ['409',\n",
       "  '1',\n",
       "  'Chicken Bowl',\n",
       "  '[[Fresh Tomato Salsa (Mild), Tomatillo-Red Chili Salsa (Hot)], [Black Beans, Rice, Cheese, Sour Cream]]',\n",
       "  '$8.49 '],\n",
       " ['409',\n",
       "  '1',\n",
       "  'Chicken Bowl',\n",
       "  '[Roasted Chili Corn Salsa (Medium), [Black Beans, Rice, Sour Cream, Guacamole]]',\n",
       "  '$10.98 '],\n",
       " ['410',\n",
       "  '1',\n",
       "  'Chicken Burrito',\n",
       "  '[Roasted Chili Corn Salsa, [Rice, Black Beans]]',\n",
       "  '$8.75 '],\n",
       " ['410', '1', 'Canned Soft Drink', '[Diet Coke]', '$1.25 '],\n",
       " ...]"
      ]
     },
     "execution_count": 6,
     "metadata": {},
     "output_type": "execute_result"
    }
   ],
   "source": [
    "file_nested_list"
   ]
  },
  {
   "cell_type": "code",
   "execution_count": null,
   "metadata": {},
   "outputs": [],
   "source": []
  },
  {
   "cell_type": "markdown",
   "metadata": {},
   "source": [
    "### Part 2: Separate `file_nested_list` into the `header` and the `data`.\n"
   ]
  },
  {
   "cell_type": "code",
   "execution_count": 7,
   "metadata": {},
   "outputs": [],
   "source": [
    "header = file_nested_list[0]"
   ]
  },
  {
   "cell_type": "code",
   "execution_count": 8,
   "metadata": {},
   "outputs": [
    {
     "data": {
      "text/plain": [
       "5"
      ]
     },
     "execution_count": 8,
     "metadata": {},
     "output_type": "execute_result"
    }
   ],
   "source": [
    "len(header)"
   ]
  },
  {
   "cell_type": "code",
   "execution_count": 9,
   "metadata": {},
   "outputs": [
    {
     "data": {
      "text/plain": [
       "['order_id', 'quantity', 'item_name', 'choice_description', 'item_price']"
      ]
     },
     "execution_count": 9,
     "metadata": {},
     "output_type": "execute_result"
    }
   ],
   "source": [
    "header"
   ]
  },
  {
   "cell_type": "code",
   "execution_count": 10,
   "metadata": {},
   "outputs": [
    {
     "data": {
      "text/plain": [
       "'order_id'"
      ]
     },
     "execution_count": 10,
     "metadata": {},
     "output_type": "execute_result"
    }
   ],
   "source": [
    "header[0]"
   ]
  },
  {
   "cell_type": "code",
   "execution_count": 11,
   "metadata": {},
   "outputs": [],
   "source": [
    "data = file_nested_list[1:]"
   ]
  },
  {
   "cell_type": "code",
   "execution_count": 12,
   "metadata": {},
   "outputs": [
    {
     "data": {
      "text/plain": [
       "4622"
      ]
     },
     "execution_count": 12,
     "metadata": {},
     "output_type": "execute_result"
    }
   ],
   "source": [
    "len(data)"
   ]
  },
  {
   "cell_type": "code",
   "execution_count": 13,
   "metadata": {},
   "outputs": [
    {
     "data": {
      "text/plain": [
       "['1', '1', 'Chips and Fresh Tomato Salsa', 'NULL', '$2.39 ']"
      ]
     },
     "execution_count": 13,
     "metadata": {},
     "output_type": "execute_result"
    }
   ],
   "source": [
    "data[0]"
   ]
  },
  {
   "cell_type": "markdown",
   "metadata": {},
   "source": [
    "---\n",
    "\n",
    "## Intermediate Level"
   ]
  },
  {
   "cell_type": "markdown",
   "metadata": {},
   "source": [
    "### Part 3: Calculate the average price of an order.\n",
    "\n",
    "Hint: Examine the data to see if the `quantity` column is relevant to this calculation.\n",
    "\n",
    "Hint: Think carefully about the simplest way to do this!"
   ]
  },
  {
   "cell_type": "markdown",
   "metadata": {
    "collapsed": true
   },
   "source": [
    "Step 1 - Convert the data to a list of dictionaries."
   ]
  },
  {
   "cell_type": "code",
   "execution_count": 14,
   "metadata": {},
   "outputs": [],
   "source": [
    "data_dicts = []\n",
    "for r in data:\n",
    "    data_dicts.append(\n",
    "        {\n",
    "            header[0]:r[0],\n",
    "            header[1]:r[1],\n",
    "            header[2]:r[2],\n",
    "            header[3]:r[3],\n",
    "            header[4]:r[4],\n",
    "        }\n",
    "    )"
   ]
  },
  {
   "cell_type": "code",
   "execution_count": 15,
   "metadata": {},
   "outputs": [
    {
     "data": {
      "text/plain": [
       "[{'order_id': '1',\n",
       "  'quantity': '1',\n",
       "  'item_name': 'Chips and Fresh Tomato Salsa',\n",
       "  'choice_description': 'NULL',\n",
       "  'item_price': '$2.39 '},\n",
       " {'order_id': '1',\n",
       "  'quantity': '1',\n",
       "  'item_name': 'Izze',\n",
       "  'choice_description': '[Clementine]',\n",
       "  'item_price': '$3.39 '},\n",
       " {'order_id': '1',\n",
       "  'quantity': '1',\n",
       "  'item_name': 'Nantucket Nectar',\n",
       "  'choice_description': '[Apple]',\n",
       "  'item_price': '$3.39 '},\n",
       " {'order_id': '1',\n",
       "  'quantity': '1',\n",
       "  'item_name': 'Chips and Tomatillo-Green Chili Salsa',\n",
       "  'choice_description': 'NULL',\n",
       "  'item_price': '$2.39 '}]"
      ]
     },
     "execution_count": 15,
     "metadata": {},
     "output_type": "execute_result"
    }
   ],
   "source": [
    "data_dicts[:4]"
   ]
  },
  {
   "cell_type": "markdown",
   "metadata": {},
   "source": [
    "Step 2 - Clean up data_dicts so working with numbers."
   ]
  },
  {
   "cell_type": "code",
   "execution_count": 16,
   "metadata": {},
   "outputs": [],
   "source": [
    "# First clean up order_id / order_quantity\n",
    "for item in data_dicts:\n",
    "    for h in header:\n",
    "        if item[h].isdigit():\n",
    "            item[h] = int(item[h])\n",
    "        "
   ]
  },
  {
   "cell_type": "code",
   "execution_count": null,
   "metadata": {},
   "outputs": [],
   "source": []
  },
  {
   "cell_type": "code",
   "execution_count": null,
   "metadata": {},
   "outputs": [],
   "source": []
  },
  {
   "cell_type": "code",
   "execution_count": null,
   "metadata": {},
   "outputs": [],
   "source": [
    "# then clean up item_price:"
   ]
  },
  {
   "cell_type": "code",
   "execution_count": 17,
   "metadata": {},
   "outputs": [],
   "source": [
    "for item in data_dicts:\n",
    "    item['item_price'] = item['item_price'].lstrip('$')\n",
    "    item['item_price'] = item['item_price'].rstrip(' ')\n",
    "    item['item_price'] = float(item['item_price'])"
   ]
  },
  {
   "cell_type": "code",
   "execution_count": 18,
   "metadata": {},
   "outputs": [
    {
     "data": {
      "text/plain": [
       "[{'order_id': 1,\n",
       "  'quantity': 1,\n",
       "  'item_name': 'Chips and Fresh Tomato Salsa',\n",
       "  'choice_description': 'NULL',\n",
       "  'item_price': 2.39},\n",
       " {'order_id': 1,\n",
       "  'quantity': 1,\n",
       "  'item_name': 'Izze',\n",
       "  'choice_description': '[Clementine]',\n",
       "  'item_price': 3.39},\n",
       " {'order_id': 1,\n",
       "  'quantity': 1,\n",
       "  'item_name': 'Nantucket Nectar',\n",
       "  'choice_description': '[Apple]',\n",
       "  'item_price': 3.39}]"
      ]
     },
     "execution_count": 18,
     "metadata": {},
     "output_type": "execute_result"
    }
   ],
   "source": [
    "data_dicts[:3]"
   ]
  },
  {
   "cell_type": "code",
   "execution_count": 19,
   "metadata": {},
   "outputs": [
    {
     "name": "stdout",
     "output_type": "stream",
     "text": [
      "{'order_id': 1, 'quantity': 1, 'item_name': 'Chips and Fresh Tomato Salsa', 'choice_description': 'NULL', 'item_price': 2.39}\n",
      "{'order_id': 1, 'quantity': 1, 'item_name': 'Izze', 'choice_description': '[Clementine]', 'item_price': 3.39}\n",
      "{'order_id': 1, 'quantity': 1, 'item_name': 'Nantucket Nectar', 'choice_description': '[Apple]', 'item_price': 3.39}\n",
      "{'order_id': 1, 'quantity': 1, 'item_name': 'Chips and Tomatillo-Green Chili Salsa', 'choice_description': 'NULL', 'item_price': 2.39}\n"
     ]
    },
    {
     "data": {
      "text/plain": [
       "[None, None, None, None]"
      ]
     },
     "execution_count": 19,
     "metadata": {},
     "output_type": "execute_result"
    }
   ],
   "source": [
    "[print(i) for i in data_dicts if i['order_id']==1]"
   ]
  },
  {
   "cell_type": "code",
   "execution_count": null,
   "metadata": {},
   "outputs": [],
   "source": []
  },
  {
   "cell_type": "code",
   "execution_count": 19,
   "metadata": {},
   "outputs": [
    {
     "data": {
      "text/plain": [
       "[{'order_id': 2,\n",
       "  'quantity': 2,\n",
       "  'item_name': 'Chicken Bowl',\n",
       "  'choice_description': '[Tomatillo-Red Chili Salsa (Hot), [Black Beans, Rice, Cheese, Sour Cream]]',\n",
       "  'item_price': 16.98},\n",
       " {'order_id': 9,\n",
       "  'quantity': 2,\n",
       "  'item_name': 'Canned Soda',\n",
       "  'choice_description': '[Sprite]',\n",
       "  'item_price': 2.18},\n",
       " {'order_id': 23,\n",
       "  'quantity': 2,\n",
       "  'item_name': 'Canned Soda',\n",
       "  'choice_description': '[Mountain Dew]',\n",
       "  'item_price': 2.18}]"
      ]
     },
     "execution_count": 19,
     "metadata": {},
     "output_type": "execute_result"
    }
   ],
   "source": [
    "[i for i in data_dicts if i['quantity']>=2][:3]"
   ]
  },
  {
   "cell_type": "code",
   "execution_count": 20,
   "metadata": {},
   "outputs": [
    {
     "data": {
      "text/plain": [
       "[{'order_id': 350,\n",
       "  'quantity': 3,\n",
       "  'item_name': 'Canned Soft Drink',\n",
       "  'choice_description': '[Sprite]',\n",
       "  'item_price': 3.75},\n",
       " {'order_id': 901,\n",
       "  'quantity': 4,\n",
       "  'item_name': 'Canned Soda',\n",
       "  'choice_description': '[Sprite]',\n",
       "  'item_price': 4.36},\n",
       " {'order_id': 1786,\n",
       "  'quantity': 4,\n",
       "  'item_name': 'Canned Soft Drink',\n",
       "  'choice_description': '[Sprite]',\n",
       "  'item_price': 5.0}]"
      ]
     },
     "execution_count": 20,
     "metadata": {},
     "output_type": "execute_result"
    }
   ],
   "source": [
    "[i for i in data_dicts if (i['choice_description']==\"[Sprite]\" and i['quantity'] > 2)][:10]\n",
    "\n",
    "# it looks like the item_prace adjusts for the quantity automatically. e.g. $1.09 * 2 = $2.18"
   ]
  },
  {
   "cell_type": "code",
   "execution_count": 21,
   "metadata": {},
   "outputs": [
    {
     "data": {
      "text/plain": [
       "[{'order_id': 1786,\n",
       "  'quantity': 1,\n",
       "  'item_name': 'Chicken Bowl',\n",
       "  'choice_description': '[Fresh Tomato Salsa, Rice]',\n",
       "  'item_price': 8.75},\n",
       " {'order_id': 1786,\n",
       "  'quantity': 1,\n",
       "  'item_name': 'Carnitas Burrito',\n",
       "  'choice_description': '[Fresh Tomato Salsa, [Fajita Vegetables, Rice, Pinto Beans, Cheese, Sour Cream, Guacamole, Lettuce]]',\n",
       "  'item_price': 11.75},\n",
       " {'order_id': 1786,\n",
       "  'quantity': 1,\n",
       "  'item_name': 'Chicken Bowl',\n",
       "  'choice_description': '[Fresh Tomato Salsa, [Rice, Pinto Beans, Cheese, Sour Cream, Guacamole, Lettuce]]',\n",
       "  'item_price': 11.25},\n",
       " {'order_id': 1786,\n",
       "  'quantity': 1,\n",
       "  'item_name': 'Chicken Bowl',\n",
       "  'choice_description': '[Fresh Tomato Salsa, [Fajita Vegetables, Rice, Black Beans, Cheese, Sour Cream, Guacamole, Lettuce]]',\n",
       "  'item_price': 11.25},\n",
       " {'order_id': 1786,\n",
       "  'quantity': 1,\n",
       "  'item_name': 'Barbacoa Bowl',\n",
       "  'choice_description': '[Fresh Tomato Salsa, [Fajita Vegetables, Rice, Black Beans, Guacamole, Lettuce]]',\n",
       "  'item_price': 11.75},\n",
       " {'order_id': 1786,\n",
       "  'quantity': 1,\n",
       "  'item_name': 'Chicken Bowl',\n",
       "  'choice_description': '[Fresh Tomato Salsa, [Rice, Black Beans, Cheese, Sour Cream, Guacamole, Lettuce]]',\n",
       "  'item_price': 11.25},\n",
       " {'order_id': 1786,\n",
       "  'quantity': 1,\n",
       "  'item_name': 'Carnitas Burrito',\n",
       "  'choice_description': '[Fresh Tomato Salsa, [Rice, Black Beans, Guacamole, Lettuce]]',\n",
       "  'item_price': 11.75},\n",
       " {'order_id': 1786,\n",
       "  'quantity': 1,\n",
       "  'item_name': 'Chicken Bowl',\n",
       "  'choice_description': '[Fresh Tomato Salsa, [Fajita Vegetables, Rice, Sour Cream, Lettuce]]',\n",
       "  'item_price': 8.75},\n",
       " {'order_id': 1786,\n",
       "  'quantity': 4,\n",
       "  'item_name': 'Chips and Guacamole',\n",
       "  'choice_description': 'NULL',\n",
       "  'item_price': 17.8},\n",
       " {'order_id': 1786,\n",
       "  'quantity': 4,\n",
       "  'item_name': 'Canned Soft Drink',\n",
       "  'choice_description': '[Coke]',\n",
       "  'item_price': 5.0},\n",
       " {'order_id': 1786,\n",
       "  'quantity': 4,\n",
       "  'item_name': 'Canned Soft Drink',\n",
       "  'choice_description': '[Sprite]',\n",
       "  'item_price': 5.0}]"
      ]
     },
     "execution_count": 21,
     "metadata": {},
     "output_type": "execute_result"
    }
   ],
   "source": [
    "[i for i in data_dicts if i['order_id'] == 1786]\n",
    "\n",
    "# $1.25 is believeable for a can of soft drink, and it's consistent across soft drinks. Maybe a different state?"
   ]
  },
  {
   "cell_type": "code",
   "execution_count": 57,
   "metadata": {},
   "outputs": [
    {
     "data": {
      "text/plain": [
       "6"
      ]
     },
     "execution_count": 57,
     "metadata": {},
     "output_type": "execute_result"
    }
   ],
   "source": [
    "sum([1,2,3])"
   ]
  },
  {
   "cell_type": "markdown",
   "metadata": {},
   "source": [
    "Calculate the average order price (i.e. total cost of orders / number of distinct orders)"
   ]
  },
  {
   "cell_type": "code",
   "execution_count": 22,
   "metadata": {},
   "outputs": [],
   "source": [
    "total_orders_cost = sum([i['item_price']  for i in data_dicts])"
   ]
  },
  {
   "cell_type": "code",
   "execution_count": 23,
   "metadata": {},
   "outputs": [],
   "source": [
    "total_orders = max(i['order_id'] for i in data_dicts)"
   ]
  },
  {
   "cell_type": "code",
   "execution_count": 24,
   "metadata": {},
   "outputs": [
    {
     "name": "stdout",
     "output_type": "stream",
     "text": [
      "Average cost per order: 18.81\n"
     ]
    }
   ],
   "source": [
    "print(f\"Average cost per order: {format(total_orders_cost/total_orders,'.2f')}\")"
   ]
  },
  {
   "cell_type": "code",
   "execution_count": null,
   "metadata": {},
   "outputs": [],
   "source": []
  },
  {
   "cell_type": "markdown",
   "metadata": {},
   "source": [
    "### Part 4: Create a list (or set) named `unique_sodas` containing all of unique sodas and soft drinks that Chipotle sells.\n",
    "\n",
    "Note: Just look for `'Canned Soda'` and `'Canned Soft Drink'`, and ignore other drinks like `'Izze'`."
   ]
  },
  {
   "cell_type": "code",
   "execution_count": 25,
   "metadata": {},
   "outputs": [],
   "source": [
    "all_sodas = [i['choice_description'] for i in data_dicts if i['item_name'][:6] == 'Canned']"
   ]
  },
  {
   "cell_type": "code",
   "execution_count": 26,
   "metadata": {},
   "outputs": [],
   "source": [
    "all_sodas_clean = []\n",
    "\n",
    "for i in all_sodas:\n",
    "    ci = i[1:-1]\n",
    "    all_sodas_clean.append(ci)"
   ]
  },
  {
   "cell_type": "code",
   "execution_count": 27,
   "metadata": {},
   "outputs": [],
   "source": [
    "unique_sodas = list(set(all_sodas_clean))"
   ]
  },
  {
   "cell_type": "code",
   "execution_count": 28,
   "metadata": {},
   "outputs": [
    {
     "data": {
      "text/plain": [
       "['Diet Dr. Pepper',\n",
       " 'Coke',\n",
       " 'Coca Cola',\n",
       " 'Sprite',\n",
       " 'Mountain Dew',\n",
       " 'Lemonade',\n",
       " 'Nestea',\n",
       " 'Diet Coke',\n",
       " 'Dr. Pepper']"
      ]
     },
     "execution_count": 28,
     "metadata": {},
     "output_type": "execute_result"
    }
   ],
   "source": [
    "unique_sodas"
   ]
  },
  {
   "cell_type": "markdown",
   "metadata": {},
   "source": [
    "It may make sense to combine \"Coke\" and \"Coca Cola\" for specific work related to soft drinks."
   ]
  },
  {
   "cell_type": "code",
   "execution_count": null,
   "metadata": {
    "collapsed": true
   },
   "outputs": [],
   "source": []
  },
  {
   "cell_type": "code",
   "execution_count": null,
   "metadata": {},
   "outputs": [],
   "source": []
  },
  {
   "cell_type": "markdown",
   "metadata": {},
   "source": [
    "---\n",
    "\n",
    "## Advanced Level\n"
   ]
  },
  {
   "cell_type": "markdown",
   "metadata": {},
   "source": [
    "### Part 5: Calculate the average number of toppings per burrito.\n",
    "\n",
    "Note: Let's ignore the `quantity` column to simplify this task.\n",
    "\n",
    "Hint: Think carefully about the easiest way to count the number of toppings!\n"
   ]
  },
  {
   "cell_type": "code",
   "execution_count": 29,
   "metadata": {},
   "outputs": [
    {
     "data": {
      "text/plain": [
       "3"
      ]
     },
     "execution_count": 29,
     "metadata": {},
     "output_type": "execute_result"
    }
   ],
   "source": [
    "len(['1','2','3'])"
   ]
  },
  {
   "cell_type": "code",
   "execution_count": 30,
   "metadata": {},
   "outputs": [
    {
     "data": {
      "text/plain": [
       "['[Tomatillo Red Chili Salsa, [Fajita Vegetables, Black Beans, Pinto Beans, Cheese, Sour Cream, Guacamole, Lettuce]]',\n",
       " '[Fresh Tomato Salsa, [Rice, Black Beans, Pinto Beans, Cheese, Sour Cream, Lettuce]]',\n",
       " '[Tomatillo-Green Chili Salsa (Medium), [Pinto Beans, Cheese, Sour Cream]]',\n",
       " '[Fresh Tomato Salsa (Mild), [Black Beans, Rice, Cheese, Sour Cream, Lettuce]]',\n",
       " '[[Fresh Tomato Salsa (Mild), Tomatillo-Green Chili Salsa (Medium), Tomatillo-Red Chili Salsa (Hot)], [Rice, Cheese, Sour Cream, Lettuce]]',\n",
       " '[[Tomatillo-Green Chili Salsa (Medium), Tomatillo-Red Chili Salsa (Hot)], [Pinto Beans, Rice, Cheese, Sour Cream, Guacamole, Lettuce]]',\n",
       " '[[Tomatillo-Green Chili Salsa (Medium), Roasted Chili Corn Salsa (Medium)], [Black Beans, Rice, Sour Cream, Lettuce]]',\n",
       " '[Tomatillo-Green Chili Salsa (Medium), [Pinto Beans, Rice, Cheese, Sour Cream]]',\n",
       " '[[Roasted Chili Corn Salsa (Medium), Fresh Tomato Salsa (Mild)], [Rice, Black Beans, Sour Cream]]',\n",
       " '[Fresh Tomato Salsa, [Rice, Pinto Beans, Cheese, Sour Cream, Guacamole, Lettuce]]',\n",
       " '[Tomatillo-Red Chili Salsa (Hot), [Black Beans, Fajita Veggies, Cheese, Sour Cream, Guacamole, Lettuce]]',\n",
       " '[Tomatillo-Red Chili Salsa (Hot), [Rice, Fajita Veggies, Cheese]]',\n",
       " '[[Fresh Tomato Salsa (Mild), Roasted Chili Corn Salsa (Medium), Tomatillo-Red Chili Salsa (Hot)], [Black Beans, Rice, Sour Cream]]',\n",
       " '[Roasted Chili Corn Salsa (Medium), [Rice, Fajita Veggies, Cheese, Sour Cream, Lettuce]]',\n",
       " '[Roasted Chili Corn Salsa (Medium), [Black Beans, Rice, Fajita Veggies, Cheese, Sour Cream, Guacamole, Lettuce]]',\n",
       " '[Tomatillo Red Chili Salsa, [Fajita Vegetables, Rice, Black Beans, Cheese, Sour Cream, Guacamole, Lettuce]]',\n",
       " '[Fresh Tomato Salsa, [Rice, Black Beans, Cheese]]',\n",
       " '[Tomatillo-Red Chili Salsa (Hot), [Black Beans, Rice, Fajita Veggies, Cheese, Sour Cream, Lettuce]]',\n",
       " '[Tomatillo-Red Chili Salsa (Hot), [Rice, Cheese]]',\n",
       " '[Tomatillo-Red Chili Salsa (Hot), [Black Beans, Fajita Veggies, Cheese, Sour Cream, Guacamole, Lettuce]]',\n",
       " '[Roasted Chili Corn Salsa (Medium), [Rice, Black Beans, Sour Cream]]',\n",
       " '[Tomatillo-Red Chili Salsa (Hot), [Black Beans, Rice, Cheese, Sour Cream, Lettuce]]',\n",
       " '[Tomatillo Red Chili Salsa, [Rice, Black Beans, Cheese, Sour Cream]]',\n",
       " '[Fresh Tomato Salsa, [Rice, Pinto Beans, Cheese, Sour Cream, Lettuce]]',\n",
       " '[Fresh Tomato Salsa, [Rice, Black Beans, Cheese, Sour Cream, Lettuce]]',\n",
       " '[Tomatillo Green Chili Salsa, [Rice, Black Beans, Sour Cream, Cheese]]',\n",
       " '[Fresh Tomato Salsa, [Rice, Pinto Beans, Sour Cream, Cheese]]',\n",
       " '[Roasted Chili Corn Salsa, [Sour Cream, Guacamole]]',\n",
       " '[Tomatillo Red Chili Salsa, [Rice, Black Beans, Cheese]]',\n",
       " '[Tomatillo-Green Chili Salsa (Medium), [Rice, Cheese, Sour Cream, Lettuce]]',\n",
       " '[Fresh Tomato Salsa (Mild), [Black Beans, Rice, Fajita Veggies, Sour Cream, Lettuce]]',\n",
       " '[Roasted Chili Corn Salsa (Medium), [Rice, Black Beans, Fajita Veggies, Sour Cream]]',\n",
       " '[Roasted Chili Corn Salsa, [Fajita Vegetables, Rice, Cheese, Sour Cream, Lettuce]]',\n",
       " '[Tomatillo-Green Chili Salsa (Medium), [Pinto Beans, Rice, Cheese, Sour Cream]]',\n",
       " '[[Tomatillo-Red Chili Salsa (Hot), Tomatillo-Green Chili Salsa (Medium)], [Rice, Pinto Beans, Cheese, Lettuce]]',\n",
       " '[Tomatillo Red Chili Salsa, [Rice, Black Beans, Sour Cream, Cheese, Lettuce]]',\n",
       " '[Tomatillo Green Chili Salsa, [Rice, Black Beans, Sour Cream, Cheese, Lettuce]]',\n",
       " '[Roasted Chili Corn Salsa (Medium), [Rice, Black Beans, Fajita Veggies, Sour Cream]]',\n",
       " '[Roasted Chili Corn Salsa, [Rice, Pinto Beans, Cheese, Guacamole, Lettuce]]',\n",
       " '[Tomatillo-Green Chili Salsa (Medium), [Pinto Beans, Rice, Cheese, Sour Cream]]',\n",
       " '[Roasted Chili Corn Salsa (Medium), [Rice, Black Beans, Sour Cream, Guacamole]]',\n",
       " '[Tomatillo Red Chili Salsa, [Rice, Sour Cream, Cheese, Guacamole]]',\n",
       " '[Tomatillo-Green Chili Salsa (Medium), [Rice, Black Beans, Sour Cream, Guacamole]]',\n",
       " '[Tomatillo-Red Chili Salsa (Hot), [Rice, Cheese, Sour Cream, Lettuce]]',\n",
       " '[Tomatillo Red Chili Salsa, [Rice, Black Beans, Sour Cream, Cheese, Lettuce]]',\n",
       " '[Tomatillo-Green Chili Salsa (Medium), [Pinto Beans, Rice, Cheese, Sour Cream]]',\n",
       " '[Tomatillo Green Chili Salsa, [Rice, Cheese, Guacamole, Lettuce]]',\n",
       " '[[Roasted Chili Corn Salsa (Medium), Tomatillo-Red Chili Salsa (Hot)], [Black Beans, Rice, Fajita Veggies, Cheese, Sour Cream, Guacamole, Lettuce]]',\n",
       " '[[Roasted Chili Corn Salsa (Medium), Tomatillo-Red Chili Salsa (Hot)], [Black Beans, Rice, Fajita Veggies, Cheese, Guacamole, Lettuce]]',\n",
       " '[Tomatillo Red Chili Salsa, [Rice, Black Beans, Cheese, Guacamole, Lettuce]]',\n",
       " '[Tomatillo Red Chili Salsa, [Rice, Cheese, Sour Cream]]',\n",
       " '[[Tomatillo-Red Chili Salsa (Hot), Fresh Tomato Salsa (Mild)], [Rice, Black Beans, Cheese, Lettuce]]',\n",
       " '[Tomatillo-Red Chili Salsa (Hot), [Black Beans, Rice, Cheese, Sour Cream, Lettuce]]',\n",
       " '[Tomatillo-Green Chili Salsa (Medium), Lettuce]',\n",
       " '[Fresh Tomato Salsa (Mild), [Rice, Black Beans, Sour Cream, Guacamole]]',\n",
       " '[Tomatillo-Green Chili Salsa (Medium), [Rice, Fajita Veggies, Cheese, Sour Cream]]',\n",
       " '[Roasted Chili Corn Salsa (Medium), [Rice, Cheese, Sour Cream, Lettuce]]',\n",
       " '[Roasted Chili Corn Salsa (Medium), [Rice, Cheese, Lettuce]]',\n",
       " '[Roasted Chili Corn Salsa (Medium), [Fajita Veggies, Cheese, Lettuce, Sour Cream, Rice]]',\n",
       " '[Roasted Chili Corn Salsa (Medium), [Rice, Black Beans, Sour Cream]]',\n",
       " '[Tomatillo-Green Chili Salsa (Medium), [Pinto Beans, Rice, Cheese, Sour Cream]]',\n",
       " '[Tomatillo Red Chili Salsa, [Rice, Black Beans, Sour Cream, Cheese, Lettuce, Guacamole]]',\n",
       " '[Tomatillo Green Chili Salsa, [Rice, Pinto Beans, Sour Cream, Cheese, Lettuce]]',\n",
       " '[Tomatillo-Red Chili Salsa (Hot), [Black Beans, Rice, Cheese, Sour Cream, Lettuce]]',\n",
       " '[Tomatillo Red Chili Salsa, [Rice, Black Beans, Cheese, Sour Cream]]',\n",
       " '[Tomatillo Red Chili Salsa, [Rice, Cheese, Lettuce]]',\n",
       " '[Tomatillo Red Chili Salsa, [Black Beans, Cheese, Guacamole]]',\n",
       " '[Roasted Chili Corn Salsa (Medium), [Rice, Black Beans, Sour Cream]]',\n",
       " '[Tomatillo-Green Chili Salsa (Medium), [Black Beans, Rice, Cheese, Sour Cream, Lettuce]]',\n",
       " '[Tomatillo Red Chili Salsa, [Rice, Black Beans, Cheese, Sour Cream, Guacamole, Lettuce]]',\n",
       " '[Tomatillo Red Chili Salsa, [Rice, Black Beans, Cheese]]',\n",
       " '[Tomatillo Red Chili Salsa, [Rice, Black Beans, Cheese, Sour Cream, Guacamole, Lettuce]]',\n",
       " '[Fresh Tomato Salsa, [Rice, Pinto Beans, Sour Cream, Cheese]]',\n",
       " '[Tomatillo Red Chili Salsa, [Rice, Black Beans, Cheese, Sour Cream, Lettuce]]',\n",
       " '[Fresh Tomato Salsa, [Rice, Pinto Beans, Cheese, Sour Cream]]',\n",
       " '[Roasted Chili Corn Salsa (Medium), [Rice, Fajita Veggies, Cheese, Sour Cream, Guacamole, Lettuce]]',\n",
       " '[Roasted Chili Corn Salsa (Medium), [Rice, Fajita Veggies, Cheese, Lettuce]]',\n",
       " '[[Tomatillo-Red Chili Salsa (Hot), Fresh Tomato Salsa (Mild), Tomatillo-Green Chili Salsa (Medium)], [Rice, Pinto Beans, Cheese]]',\n",
       " '[Tomatillo-Red Chili Salsa (Hot), [Pinto Beans, Rice, Fajita Veggies, Cheese, Sour Cream]]',\n",
       " '[Roasted Chili Corn Salsa (Medium), [Black Beans, Rice]]',\n",
       " '[Tomatillo-Green Chili Salsa (Medium), [Pinto Beans, Rice, Cheese, Sour Cream]]',\n",
       " '[[Fresh Tomato Salsa (Mild), Roasted Chili Corn Salsa (Medium)], [Pinto Beans, Rice, Fajita Veggies, Cheese, Sour Cream, Lettuce]]',\n",
       " '[Roasted Chili Corn Salsa (Medium), [Black Beans, Rice, Cheese, Sour Cream, Lettuce]]',\n",
       " '[Tomatillo-Red Chili Salsa (Hot), [Black Beans, Rice, Cheese]]',\n",
       " '[Fresh Tomato Salsa (Mild), [Black Beans, Rice, Cheese, Sour Cream]]',\n",
       " '[Fresh Tomato Salsa, [Rice, Cheese, Sour Cream]]',\n",
       " '[Tomatillo Green Chili Salsa, [Rice, Cheese, Guacamole]]',\n",
       " '[Tomatillo Green Chili Salsa, [Rice, Cheese, Guacamole]]',\n",
       " '[Tomatillo Red Chili Salsa, [Rice, Black Beans, Cheese, Lettuce]]',\n",
       " '[Tomatillo Red Chili Salsa, [Rice, Black Beans, Cheese, Sour Cream, Guacamole, Lettuce]]',\n",
       " '[Tomatillo-Green Chili Salsa (Medium), [Cheese, Lettuce]]',\n",
       " '[Roasted Chili Corn Salsa (Medium), [Rice, Fajita Veggies, Cheese]]',\n",
       " '[Fresh Tomato (Mild), [Lettuce, Guacamole, Rice, Cheese]]',\n",
       " '[Roasted Chili Corn Salsa (Medium), [Pinto Beans, Black Beans, Rice, Fajita Veggies, Cheese, Sour Cream, Lettuce]]',\n",
       " '[Roasted Chili Corn Salsa (Medium), Rice]',\n",
       " '[Fresh Tomato Salsa, [Rice, Black Beans, Cheese, Sour Cream, Guacamole, Lettuce]]',\n",
       " '[Roasted Chili Corn Salsa, [Rice, Black Beans, Cheese, Guacamole, Lettuce]]',\n",
       " '[Roasted Chili Corn Salsa, [Fajita Vegetables, Rice, Cheese, Lettuce]]',\n",
       " '[Tomatillo Red Chili Salsa, [Rice, Black Beans, Sour Cream, Cheese, Lettuce, Guacamole]]',\n",
       " '[Tomatillo Green Chili Salsa, [Rice, Pinto Beans, Sour Cream, Cheese, Lettuce]]',\n",
       " '[Tomatillo-Red Chili Salsa (Hot), [Black Beans, Rice, Cheese]]',\n",
       " '[Fresh Tomato (Mild), [Lettuce, Guacamole, Rice, Cheese]]',\n",
       " '[Tomatillo Green Chili Salsa, [Fajita Vegetables, Rice, Cheese, Sour Cream, Lettuce]]',\n",
       " '[Fresh Tomato Salsa (Mild), [Pinto Beans, Cheese, Sour Cream]]',\n",
       " '[Fresh Tomato Salsa (Mild), [Cheese, Sour Cream, Lettuce]]',\n",
       " '[Fresh Tomato Salsa (Mild), [Pinto Beans, Cheese, Sour Cream, Lettuce]]',\n",
       " '[Tomatillo Red Chili Salsa, [Rice, Black Beans, Cheese, Sour Cream, Guacamole, Lettuce]]',\n",
       " '[Roasted Chili Corn Salsa, [Rice, Fajita Vegetables, Black Beans, Cheese, Lettuce, Guacamole]]',\n",
       " '[Roasted Chili Corn Salsa (Medium), [Black Beans, Cheese, Sour Cream, Lettuce]]',\n",
       " '[Fresh Tomato Salsa, [Rice, Cheese, Sour Cream]]',\n",
       " '[Fresh Tomato Salsa, [Rice, Pinto Beans, Sour Cream, Cheese]]',\n",
       " '[Roasted Chili Corn Salsa, [Rice, Black Beans, Cheese, Lettuce, Guacamole]]',\n",
       " '[Roasted Chili Corn Salsa (Medium), [Rice, Black Beans, Sour Cream]]',\n",
       " '[Fresh Tomato Salsa, [Rice, Black Beans, Sour Cream, Cheese, Guacamole]]',\n",
       " '[Tomatillo Red Chili Salsa, [Rice, Fajita Vegetables, Sour Cream, Cheese, Lettuce, Guacamole]]',\n",
       " '[Tomatillo-Red Chili Salsa (Hot), [Rice, Cheese, Sour Cream, Lettuce]]',\n",
       " '[Fresh Tomato Salsa, [Cheese, Sour Cream]]',\n",
       " '[Fresh Tomato Salsa, [Fajita Vegetables, Rice, Pinto Beans, Cheese, Guacamole, Lettuce]]',\n",
       " '[Tomatillo Green Chili Salsa, Guacamole]',\n",
       " '[Roasted Chili Corn Salsa (Medium), [Pinto Beans, Rice, Cheese, Sour Cream, Lettuce]]',\n",
       " '[Tomatillo-Red Chili Salsa (Hot), [Pinto Beans, Rice, Cheese, Sour Cream, Lettuce]]',\n",
       " '[Roasted Chili Corn Salsa (Medium), [Rice, Fajita Veggies, Cheese]]',\n",
       " '[Roasted Chili Corn Salsa, [Rice, Black Beans, Cheese, Lettuce, Guacamole]]',\n",
       " '[Fresh Tomato Salsa, [Rice, Black Beans, Cheese, Sour Cream, Guacamole]]',\n",
       " '[Fresh Tomato Salsa, [Rice, Pinto Beans, Cheese, Guacamole, Lettuce]]',\n",
       " '[Tomatillo Green Chili Salsa, [Fajita Vegetables, Rice, Cheese, Sour Cream, Lettuce]]',\n",
       " '[Fresh Tomato Salsa, [Rice, Cheese, Sour Cream, Lettuce]]',\n",
       " '[Roasted Chili Corn Salsa, [Rice, Black Beans, Cheese, Sour Cream, Lettuce]]',\n",
       " '[Tomatillo-Red Chili Salsa (Hot), [Rice, Cheese, Sour Cream, Lettuce]]',\n",
       " '[[Roasted Chili Corn Salsa (Medium), Fresh Tomato Salsa (Mild)], [Rice, Black Beans, Pinto Beans, Fajita Veggies, Guacamole, Lettuce]]',\n",
       " '[Tomatillo Green Chili Salsa, [Fajita Vegetables, Rice, Cheese, Sour Cream, Lettuce]]',\n",
       " '[Roasted Chili Corn Salsa, [Rice, Fajita Vegetables, Black Beans, Sour Cream, Cheese, Lettuce, Guacamole]]',\n",
       " '[Roasted Chili Corn Salsa (Medium), [Rice, Fajita Veggies, Cheese]]',\n",
       " '[Fresh Tomato Salsa (Mild), [Black Beans, Rice, Cheese, Sour Cream, Lettuce]]',\n",
       " '[Fresh Tomato Salsa, [Rice, Cheese, Sour Cream, Lettuce]]',\n",
       " '[Fresh Tomato Salsa, [Fajita Vegetables, Rice, Cheese, Sour Cream, Guacamole, Lettuce]]',\n",
       " '[Fresh Tomato Salsa, [Fajita Vegetables, Rice, Cheese, Sour Cream]]',\n",
       " '[Fresh Tomato Salsa, [Rice, Black Beans, Cheese, Sour Cream, Guacamole, Lettuce]]',\n",
       " '[Fresh Tomato Salsa, [Black Beans, Cheese, Guacamole, Lettuce]]',\n",
       " '[Fresh Tomato Salsa, [Rice, Black Beans, Cheese, Sour Cream, Guacamole, Lettuce]]',\n",
       " '[Fresh Tomato Salsa, [Rice, Black Beans, Cheese, Sour Cream, Guacamole, Lettuce]]',\n",
       " '[Fresh Tomato Salsa (Mild), [Pinto Beans, Rice, Cheese, Sour Cream]]',\n",
       " '[Fresh Tomato Salsa (Mild), [Pinto Beans, Rice, Sour Cream, Cheese]]',\n",
       " '[Fresh Tomato (Mild), [Guacamole, Lettuce, Rice, Fajita Veggies, Sour Cream, Cheese]]',\n",
       " '[Fresh Tomato Salsa, [Fajita Vegetables, Rice, Black Beans, Cheese, Sour Cream, Lettuce]]',\n",
       " '[Roasted Chili Corn Salsa, [Fajita Vegetables, Rice, Black Beans, Cheese, Sour Cream, Guacamole, Lettuce]]',\n",
       " '[Tomatillo Red Chili Salsa, [Rice, Black Beans, Cheese, Sour Cream, Lettuce]]',\n",
       " '[Fresh Tomato Salsa, [Rice, Black Beans, Cheese, Sour Cream, Guacamole, Lettuce]]',\n",
       " '[Fresh Tomato Salsa, Cheese]',\n",
       " '[Fresh Tomato Salsa, [Rice, Cheese, Lettuce]]',\n",
       " '[Fresh Tomato Salsa (Mild), [Pinto Beans, Cheese]]',\n",
       " '[Tomatillo Green Chili Salsa, [Rice, Black Beans, Cheese, Lettuce]]',\n",
       " '[Roasted Chili Corn Salsa, [Rice, Black Beans, Sour Cream, Lettuce, Guacamole]]',\n",
       " '[Tomatillo-Red Chili Salsa (Hot), Rice]',\n",
       " '[Adobo-Marinated and Grilled Chicken, Pinto Beans, [Sour Cream, Salsa, Cheese, Cilantro-Lime Rice, Guacamole]]',\n",
       " '[Braised Barbacoa, Vegetarian Black Beans, [Sour Cream, Salsa, Cheese, Cilantro-Lime Rice]]',\n",
       " '[Tomatillo Green Chili Salsa, [Rice, Black Beans, Cheese, Sour Cream]]',\n",
       " '[Braised Barbacoa, Pinto Beans, [Sour Cream, Salsa, Cheese, Cilantro-Lime Rice, Guacamole]]',\n",
       " '[Fresh Tomato Salsa (Mild), [Pinto Beans, Rice, Sour Cream]]',\n",
       " '[Tomatillo Red Chili Salsa, [Fajita Vegetables, Rice, Black Beans, Guacamole]]',\n",
       " '[Fresh Tomato Salsa, [Rice, Black Beans, Cheese]]',\n",
       " '[Fresh Tomato Salsa, [Sour Cream, Lettuce, Cheese, Rice]]',\n",
       " '[Fresh Tomato Salsa (Mild), [Pinto Beans, Rice, Cheese, Sour Cream]]',\n",
       " '[Tomatillo Green Chili Salsa, Cheese]',\n",
       " '[Tomatillo Green Chili Salsa, [Fajita Vegetables, Pinto Beans, Sour Cream, Cheese, Lettuce]]',\n",
       " '[Fresh Tomato (Mild), [Lettuce, Guacamole, Rice, Cheese]]',\n",
       " '[Tomatillo Red Chili Salsa]',\n",
       " '[Tomatillo Green Chili Salsa]',\n",
       " '[Tomatillo Green Chili Salsa, [Rice, Black Beans, Cheese, Lettuce]]',\n",
       " '[Roasted Chili Corn Salsa]',\n",
       " '[Fresh Tomato Salsa, [Fajita Vegetables, Rice, Black Beans, Cheese, Sour Cream]]',\n",
       " '[Tomatillo Green Chili Salsa, [Fajita Vegetables, Rice, Black Beans, Cheese, Sour Cream, Lettuce]]',\n",
       " '[Tomatillo Green Chili Salsa, [Fajita Vegetables, Black Beans, Sour Cream, Cheese]]',\n",
       " '[Roasted Chili Corn Salsa, [Fajita Vegetables, Sour Cream, Lettuce, Guacamole]]',\n",
       " '[Roasted Chili Corn Salsa, [Rice, Fajita Vegetables, Sour Cream, Cheese, Lettuce, Guacamole]]',\n",
       " '[Roasted Chili Corn Salsa, [Fajita Vegetables, Sour Cream, Cheese, Lettuce, Guacamole]]',\n",
       " '[Roasted Chili Corn Salsa, [Rice, Pinto Beans, Cheese, Sour Cream]]',\n",
       " '[Roasted Chili Corn Salsa, [Fajita Vegetables, Rice, Cheese, Lettuce]]',\n",
       " '[Fresh Tomato Salsa, [Fajita Vegetables, Cheese, Sour Cream, Guacamole, Lettuce]]',\n",
       " '[Fresh Tomato Salsa, [Rice, Pinto Beans, Cheese]]',\n",
       " '[Fresh Tomato Salsa (Mild), [Rice, Black Beans, Fajita Veggies, Cheese, Guacamole, Lettuce]]',\n",
       " '[Fresh Tomato Salsa, [Fajita Vegetables, Rice, Cheese, Sour Cream, Guacamole, Lettuce]]',\n",
       " '[Fresh Tomato Salsa (Mild), [Pinto Beans, Rice, Cheese, Sour Cream, Lettuce]]',\n",
       " '[Roasted Chili Corn Salsa, [Rice, Pinto Beans, Cheese, Lettuce, Guacamole]]',\n",
       " '[Fresh Tomato Salsa, [Rice, Black Beans, Cheese, Lettuce]]',\n",
       " '[Fresh Tomato Salsa, [Rice, Black Beans, Sour Cream]]',\n",
       " '[Tomatillo Red Chili Salsa, [Rice, Cheese, Lettuce]]',\n",
       " '[Tomatillo-Red Chili Salsa (Hot), [Black Beans, Rice, Cheese, Sour Cream, Guacamole, Lettuce]]',\n",
       " '[Tomatillo Green Chili Salsa]',\n",
       " '[Tomatillo Green Chili Salsa, [Sour Cream, Cheese, Guacamole]]',\n",
       " '[Tomatillo Green Chili Salsa, [Fajita Vegetables, Rice, Cheese, Sour Cream, Lettuce]]',\n",
       " '[Fresh Tomato Salsa (Mild), [Pinto Beans, Rice, Cheese, Sour Cream]]',\n",
       " '[Tomatillo Red Chili Salsa, [Cheese, Guacamole]]',\n",
       " '[Fresh Tomato Salsa, [Rice, Pinto Beans, Cheese, Sour Cream]]',\n",
       " '[Fresh Tomato Salsa, [Rice, Cheese, Sour Cream]]',\n",
       " '[Tomatillo Red Chili Salsa, [Rice, Black Beans, Cheese, Sour Cream]]',\n",
       " '[Roasted Chili Corn Salsa (Medium), [Rice, Black Beans, Sour Cream]]',\n",
       " '[Roasted Chili Corn Salsa (Medium), [Rice, Black Beans, Sour Cream, Guacamole]]',\n",
       " '[Fresh Tomato Salsa, [Rice, Pinto Beans, Sour Cream, Cheese]]',\n",
       " '[Fresh Tomato Salsa, [Fajita Vegetables, Rice, Sour Cream, Lettuce]]',\n",
       " '[Fresh Tomato Salsa, [Rice, Black Beans, Sour Cream, Cheese, Lettuce, Guacamole]]',\n",
       " '[Fresh Tomato Salsa, [Rice, Black Beans, Sour Cream, Cheese, Lettuce]]',\n",
       " '[Fresh Tomato Salsa (Mild), [Pinto Beans, Rice, Cheese, Sour Cream]]',\n",
       " '[Roasted Chili Corn Salsa (Medium), [Black Beans, Rice, Fajita Veggies, Cheese, Sour Cream, Guacamole, Lettuce]]',\n",
       " '[Adobo-Marinated and Grilled Chicken, [Sour Cream, Cheese, Cilantro-Lime Rice]]',\n",
       " '[Tomatillo Red Chili Salsa, [Guacamole, Cheese]]',\n",
       " '[Roasted Chili Corn Salsa, [Rice, Cheese, Guacamole]]',\n",
       " '[Fresh Tomato Salsa, [Rice, Black Beans, Cheese, Guacamole, Lettuce]]',\n",
       " '[Tomatillo-Red Chili Salsa (Hot), [Black Beans, Rice, Fajita Veggies, Cheese, Sour Cream, Lettuce]]',\n",
       " '[Fresh Tomato Salsa (Mild), [Black Beans, Rice, Fajita Veggies, Cheese, Sour Cream, Lettuce]]',\n",
       " '[Fresh Tomato Salsa (Mild), [Rice, Cheese, Sour Cream, Lettuce]]',\n",
       " '[Fresh Tomato Salsa, [Fajita Vegetables, Rice, Cheese, Sour Cream, Lettuce]]',\n",
       " '[Fresh Tomato Salsa (Mild), [Pinto Beans, Rice, Cheese, Sour Cream]]',\n",
       " '[[Roasted Chili Corn Salsa (Medium), Fresh Tomato Salsa (Mild)], [Rice, Pinto Beans, Cheese, Sour Cream, Guacamole, Lettuce]]',\n",
       " '[Fresh Tomato Salsa (Mild), [Pinto Beans, Rice, Cheese, Sour Cream]]',\n",
       " '[Tomatillo Red Chili Salsa, [Rice, Fajita Vegetables, Black Beans, Cheese, Lettuce, Guacamole]]',\n",
       " '[Tomatillo-Green Chili Salsa (Medium), [Rice, Cheese, Sour Cream, Lettuce]]',\n",
       " '[Tomatillo Red Chili Salsa, [Rice, Pinto Beans, Cheese, Sour Cream, Lettuce]]',\n",
       " '[Fresh Tomato Salsa]',\n",
       " '[Roasted Chili Corn Salsa, [Fajita Vegetables, Rice, Black Beans, Cheese]]',\n",
       " '[Roasted Chili Corn Salsa, [Fajita Vegetables, Black Beans, Sour Cream, Guacamole, Lettuce]]',\n",
       " '[Roasted Chili Corn (Medium), [Sour Cream, Cheese]]',\n",
       " '[Fresh Tomato Salsa (Mild), [Pinto Beans, Rice, Cheese, Sour Cream]]',\n",
       " '[Roasted Chili Corn Salsa, [Rice, Fajita Vegetables, Black Beans, Sour Cream, Cheese, Lettuce]]',\n",
       " '[Tomatillo Green Chili Salsa, [Rice, Cheese, Guacamole, Lettuce]]',\n",
       " '[Tomatillo Red Chili Salsa, [Guacamole, Cheese]]',\n",
       " '[Roasted Chili Corn Salsa]',\n",
       " '[Roasted Chili Corn Salsa, [Fajita Vegetables, Rice, Black Beans, Sour Cream, Guacamole]]',\n",
       " '[Fresh Tomato Salsa (Mild), [Cheese, Rice, Pinto Beans, Sour Cream]]',\n",
       " '[Fresh Tomato Salsa, [Rice, Black Beans, Cheese, Guacamole, Lettuce]]',\n",
       " '[Roasted Chili Corn Salsa, [Rice, Sour Cream, Cheese, Guacamole]]',\n",
       " '[Fresh Tomato Salsa, [Rice, Pinto Beans, Cheese, Sour Cream, Lettuce]]',\n",
       " '[White Rice, Adobo-Marinated and Grilled Steak, [Salsa, Cheese]]',\n",
       " '[White Rice, Adobo-Marinated and Grilled Steak, Pinto Beans, [Sour Cream, Salsa, Cheese, Cilantro-Lime Rice]]',\n",
       " '[Fresh Tomato Salsa, [Rice, Pinto Beans, Cheese]]',\n",
       " '[Roasted Chili Corn Salsa, [Rice, Cheese, Guacamole]]',\n",
       " '[Fresh Tomato Salsa (Mild), [Cheese, Rice, Pinto Beans, Sour Cream]]',\n",
       " '[[Fresh Tomato Salsa (Mild), Roasted Chili Corn Salsa (Medium), Tomatillo-Red Chili Salsa (Hot)], [Black Beans, Rice, Fajita Veggies, Lettuce]]',\n",
       " '[Roasted Chili Corn Salsa, [Rice, Black Beans, Cheese, Lettuce, Guacamole]]',\n",
       " '[Fresh Tomato Salsa, [Rice, Black Beans, Cheese]]',\n",
       " '[Roasted Chili Corn Salsa, [Fajita Vegetables, Rice, Pinto Beans, Cheese, Sour Cream, Lettuce]]',\n",
       " '[Tomatillo Red Chili Salsa, [Fajita Vegetables, Rice, Black Beans, Sour Cream, Guacamole, Lettuce]]',\n",
       " '[Tomatillo Red Chili Salsa, [Fajita Vegetables, Rice, Sour Cream, Guacamole, Lettuce]]',\n",
       " '[Fresh Tomato Salsa (Mild), [Rice, Fajita Veggies, Cheese, Sour Cream, Guacamole, Lettuce]]',\n",
       " '[Roasted Chili Corn Salsa (Medium), [Rice, Black Beans, Sour Cream, Lettuce]]',\n",
       " '[Fresh Tomato Salsa, [Fajita Vegetables, Rice, Cheese, Lettuce]]',\n",
       " '[Fresh Tomato Salsa, [Rice, Black Beans, Cheese, Sour Cream]]',\n",
       " '[Tomatillo Green Chili Salsa, [Rice, Black Beans, Cheese, Sour Cream]]',\n",
       " '[Fresh Tomato Salsa (Mild), [Cheese, Rice, Pinto Beans, Sour Cream]]',\n",
       " '[Roasted Chili Corn Salsa, [Rice, Cheese, Sour Cream, Lettuce]]',\n",
       " '[Fresh Tomato Salsa, [Rice, Black Beans, Cheese, Sour Cream, Lettuce]]',\n",
       " '[Fresh Tomato Salsa (Mild), [Cheese, Pinto Beans, Sour Cream, Rice]]',\n",
       " '[Tomatillo-Green Chili Salsa (Medium), [Black Beans, Rice, Fajita Veggies, Sour Cream]]',\n",
       " '[Fresh Tomato Salsa (Mild), [Pinto Beans, Rice, Fajita Veggies, Sour Cream]]',\n",
       " '[Fresh Tomato Salsa (Mild), [Pinto Beans, Rice, Sour Cream]]',\n",
       " '[Tomatillo-Green Chili Salsa (Medium), [Black Beans, Rice, Cheese]]',\n",
       " '[Roasted Chili Corn Salsa, [Rice, Pinto Beans, Sour Cream, Cheese]]',\n",
       " '[Roasted Chili Corn Salsa, [Rice, Black Beans, Sour Cream, Cheese]]',\n",
       " '[Fresh Tomato Salsa, [Rice, Black Beans, Sour Cream, Lettuce]]',\n",
       " '[Fresh Tomato Salsa, [Rice, Black Beans, Cheese, Lettuce]]',\n",
       " '[Fresh Tomato Salsa, [Fajita Vegetables, Rice, Black Beans, Cheese, Lettuce]]',\n",
       " '[Roasted Chili Corn Salsa, [Rice, Fajita Vegetables, Sour Cream, Cheese, Lettuce]]',\n",
       " '[Tomatillo Green Chili Salsa, [Rice, Fajita Vegetables, Black Beans, Cheese]]',\n",
       " '[Roasted Chili Corn Salsa (Medium), [Rice, Fajita Veggies, Sour Cream, Guacamole, Lettuce]]',\n",
       " '[Roasted Chili Corn Salsa (Medium), [Rice, Sour Cream, Lettuce]]',\n",
       " '[Roasted Chili Corn Salsa, [Cheese, Rice, Guacamole]]',\n",
       " '[Fresh Tomato Salsa, [Rice, Black Beans, Sour Cream, Guacamole]]',\n",
       " '[Fresh Tomato Salsa, [Fajita Vegetables, Rice, Cheese, Sour Cream]]',\n",
       " '[Tomatillo Red Chili Salsa]',\n",
       " '[Tomatillo Red Chili Salsa, [Rice, Cheese, Sour Cream, Guacamole, Lettuce]]',\n",
       " '[Fresh Tomato Salsa (Mild), [Black Beans, Rice, Cheese, Sour Cream, Lettuce]]',\n",
       " '[Tomatillo Green Chili Salsa, [Rice, Cheese, Sour Cream, Lettuce]]',\n",
       " '[[Fresh Tomato Salsa (Mild), Roasted Chili Corn Salsa (Medium), Tomatillo-Red Chili Salsa (Hot)], [Black Beans, Rice, Sour Cream]]',\n",
       " '[Fresh Tomato Salsa, [Fajita Vegetables, Rice, Black Beans, Sour Cream, Guacamole, Lettuce]]',\n",
       " '[Roasted Chili Corn Salsa (Medium), [Rice, Fajita Veggies, Cheese, Sour Cream, Lettuce]]',\n",
       " '[Roasted Chili Corn Salsa (Medium), [Rice, Fajita Veggies, Cheese, Sour Cream, Lettuce]]',\n",
       " '[Roasted Chili Corn Salsa (Medium), [Black Beans, Rice, Cheese]]',\n",
       " '[Fresh Tomato Salsa (Mild), [Black Beans, Rice, Cheese, Sour Cream, Lettuce]]',\n",
       " '[Roasted Chili Corn Salsa, [Fajita Vegetables, Rice, Cheese, Sour Cream, Guacamole, Lettuce]]',\n",
       " '[Fresh Tomato Salsa, [Rice, Black Beans, Guacamole, Lettuce]]',\n",
       " '[Roasted Chili Corn Salsa, [Rice, Fajita Vegetables, Sour Cream, Cheese, Lettuce]]',\n",
       " '[Roasted Chili Corn Salsa, [Rice, Fajita Vegetables, Cheese, Lettuce, Guacamole]]',\n",
       " '[Roasted Chili Corn Salsa, [Rice, Fajita Vegetables, Sour Cream, Lettuce, Guacamole]]',\n",
       " '[Tomatillo-Red Chili Salsa (Hot), [Pinto Beans, Rice, Cheese, Sour Cream]]',\n",
       " '[Fresh Tomato Salsa (Mild), [Rice, Cheese, Sour Cream, Lettuce]]',\n",
       " '[Tomatillo-Red Chili Salsa (Hot), [Black Beans, Rice, Cheese]]',\n",
       " '[Fresh Tomato Salsa (Mild), [Pinto Beans, Rice, Cheese, Sour Cream, Lettuce]]',\n",
       " '[Fresh Tomato Salsa, [Rice, Pinto Beans, Cheese]]',\n",
       " '[Fresh Tomato Salsa, [Fajita Vegetables, Sour Cream, Cheese, Guacamole]]',\n",
       " '[Fresh Tomato Salsa, [Rice, Black Beans, Cheese, Sour Cream]]',\n",
       " '[Fresh Tomato Salsa (Mild), [Rice, Pinto Beans, Cheese, Sour Cream]]',\n",
       " '[Tomatillo Green Chili Salsa, [Rice, Fajita Vegetables, Pinto Beans, Sour Cream, Cheese, Lettuce, Guacamole]]',\n",
       " '[Tomatillo Red Chili Salsa]',\n",
       " '[Roasted Chili Corn Salsa (Medium), [Black Beans, Rice, Cheese, Sour Cream]]',\n",
       " '[Fresh Tomato Salsa, [Fajita Vegetables, Rice, Pinto Beans, Cheese, Guacamole, Lettuce]]',\n",
       " '[Fresh Tomato Salsa, [Fajita Vegetables, Pinto Beans, Cheese, Guacamole]]',\n",
       " '[Roasted Chili Corn Salsa, [Rice, Sour Cream, Cheese, Guacamole]]',\n",
       " '[Roasted Chili Corn Salsa, [Rice, Sour Cream, Cheese, Guacamole]]',\n",
       " '[Roasted Chili Corn Salsa, [Rice, Black Beans]]',\n",
       " '[[Fresh Tomato Salsa (Mild), Tomatillo-Green Chili Salsa (Medium)], [Black Beans, Rice, Fajita Veggies, Cheese, Sour Cream]]',\n",
       " '[Tomatillo Red Chili Salsa]',\n",
       " '[Tomatillo-Red Chili Salsa (Hot), [Rice, Cheese, Sour Cream]]',\n",
       " '[Fresh Tomato Salsa, [Black Beans, Pinto Beans, Cheese, Guacamole, Lettuce]]',\n",
       " '[Roasted Chili Corn Salsa, [Rice, Pinto Beans, Cheese, Lettuce]]',\n",
       " '[Fresh Tomato Salsa (Mild), [Rice, Cheese, Sour Cream, Lettuce]]',\n",
       " '[[Tomatillo-Green Chili Salsa (Medium), Roasted Chili Corn Salsa (Medium)], [Black Beans, Rice, Cheese]]',\n",
       " '[Fresh Tomato Salsa (Mild), [Pinto Beans, Rice, Sour Cream, Cheese]]',\n",
       " '[Fresh Tomato Salsa, [Rice, Black Beans, Cheese, Guacamole, Lettuce]]',\n",
       " '[Fresh Tomato Salsa, Rice]',\n",
       " '[Fresh Tomato Salsa, [Rice, Cheese]]',\n",
       " '[Fresh Tomato Salsa, [Fajita Vegetables, Rice, Sour Cream, Lettuce]]',\n",
       " '[Tomatillo Green Chili Salsa, [Rice, Pinto Beans, Cheese, Guacamole]]',\n",
       " '[[Tomatillo-Green Chili Salsa (Medium), Tomatillo-Red Chili Salsa (Hot)], [Black Beans, Rice, Cheese, Sour Cream, Guacamole]]',\n",
       " '[Fresh Tomato Salsa (Mild), [Black Beans, Rice, Cheese, Sour Cream, Guacamole]]',\n",
       " '[Tomatillo-Green Chili Salsa (Medium), [Pinto Beans, Rice, Cheese, Sour Cream, Guacamole, Lettuce]]',\n",
       " '[Roasted Chili Corn Salsa, [Rice, Pinto Beans, Cheese, Lettuce]]',\n",
       " '[Roasted Chili Corn Salsa, [Rice, Pinto Beans, Cheese, Sour Cream, Guacamole, Lettuce]]',\n",
       " '[[Roasted Chili Corn Salsa (Medium), Tomatillo-Green Chili Salsa (Medium)], [Rice, Black Beans, Sour Cream, Guacamole]]',\n",
       " '[Tomatillo Red Chili Salsa, [Fajita Vegetables, Rice, Cheese, Sour Cream, Lettuce]]',\n",
       " '[[Fresh Tomato Salsa (Mild), Roasted Chili Corn Salsa (Medium), Tomatillo-Red Chili Salsa (Hot)], [Black Beans, Rice, Sour Cream]]',\n",
       " '[Fresh Tomato Salsa, [Fajita Vegetables, Rice, Black Beans, Pinto Beans, Cheese, Lettuce]]',\n",
       " '[Fresh Tomato Salsa (Mild), [Pinto Beans, Rice, Guacamole]]',\n",
       " '[Fresh Tomato Salsa, [Black Beans, Cheese, Sour Cream, Guacamole, Lettuce]]',\n",
       " '[Fresh Tomato (Mild), [Guacamole, Lettuce, Rice, Fajita Veggies, Cheese]]',\n",
       " '[Tomatillo-Red Chili Salsa (Hot), [Rice, Cheese, Sour Cream]]',\n",
       " '[Roasted Chili Corn Salsa, [Rice, Pinto Beans, Cheese, Sour Cream, Guacamole]]',\n",
       " '[Fresh Tomato Salsa, [Fajita Vegetables, Rice, Black Beans, Cheese, Sour Cream, Guacamole]]',\n",
       " '[Fresh Tomato Salsa, [Fajita Vegetables, Rice, Sour Cream, Lettuce]]',\n",
       " '[Fresh Tomato Salsa, [Fajita Vegetables, Rice, Black Beans, Sour Cream, Guacamole, Lettuce]]',\n",
       " '[Fresh Tomato Salsa, [Rice, Black Beans, Cheese, Sour Cream, Guacamole, Lettuce]]',\n",
       " '[Fresh Tomato Salsa, [Rice, Black Beans, Cheese, Sour Cream, Guacamole, Lettuce]]',\n",
       " '[Tomatillo-Green Chili Salsa (Medium), [Rice, Cheese, Sour Cream, Lettuce]]',\n",
       " '[Roasted Chili Corn Salsa, [Rice, Black Beans, Cheese, Lettuce, Guacamole]]',\n",
       " '[Tomatillo Red Chili Salsa, [Rice, Black Beans, Cheese]]',\n",
       " '[Roasted Chili Corn Salsa, [Fajita Vegetables, Rice, Black Beans, Cheese, Sour Cream, Lettuce]]',\n",
       " '[Roasted Chili Corn Salsa, [Rice, Pinto Beans, Cheese, Sour Cream, Guacamole]]',\n",
       " '[Fresh Tomato Salsa, [Rice, Fajita Vegetables, Sour Cream, Cheese, Lettuce]]',\n",
       " '[Tomatillo-Green Chili Salsa (Medium), [Pinto Beans, Rice, Cheese, Sour Cream]]',\n",
       " '[Fresh Tomato Salsa (Mild), [Rice, Cheese, Sour Cream, Lettuce]]',\n",
       " '[[Fresh Tomato Salsa (Mild), Tomatillo-Red Chili Salsa (Hot)], [Pinto Beans, Fajita Veggies, Cheese, Guacamole]]',\n",
       " '[Tomatillo-Green Chili Salsa (Medium), [Black Beans, Rice, Fajita Veggies, Cheese, Sour Cream]]',\n",
       " '[Fresh Tomato Salsa, [Fajita Vegetables, Rice, Black Beans, Cheese, Sour Cream]]',\n",
       " '[Tomatillo Green Chili Salsa, [Rice, Black Beans, Sour Cream, Cheese]]',\n",
       " '[Fresh Tomato Salsa (Mild), [Pinto Beans, Rice, Fajita Veggies, Cheese, Sour Cream, Lettuce]]',\n",
       " '[Fresh Tomato Salsa (Mild), [Pinto Beans, Black Beans, Rice, Fajita Veggies, Cheese, Sour Cream, Lettuce]]',\n",
       " '[Tomatillo-Red Chili Salsa (Hot), [Rice, Cheese, Sour Cream]]',\n",
       " '[Tomatillo-Red Chili Salsa (Hot), [Black Beans, Rice, Cheese, Lettuce]]',\n",
       " '[Fresh Tomato (Mild), [Guacamole, Rice, Fajita Veggies, Sour Cream, Cheese]]',\n",
       " '[Fresh Tomato (Mild), [Lettuce, Rice, Fajita Veggies, Sour Cream, Cheese]]',\n",
       " '[Fresh Tomato Salsa, Rice]',\n",
       " '[Tomatillo Red Chili Salsa, [Rice, Black Beans, Cheese]]',\n",
       " '[Fresh Tomato Salsa, [Lettuce, Guacamole, Rice, Cheese, Fajita Vegetables, Sour Cream]]',\n",
       " '[Fresh Tomato Salsa, [Rice, Cheese]]',\n",
       " '[Fresh Tomato Salsa (Mild), [Pinto Beans, Rice, Cheese, Sour Cream]]',\n",
       " '[Tomatillo Green Chili Salsa, [Fajita Vegetables, Rice, Cheese, Sour Cream]]',\n",
       " '[Fresh Tomato Salsa, [Rice, Black Beans, Cheese, Sour Cream, Guacamole, Lettuce]]',\n",
       " '[Fresh Tomato Salsa, [Cheese, Sour Cream, Lettuce]]',\n",
       " '[Fresh Tomato Salsa, [Rice, Pinto Beans, Guacamole, Lettuce]]',\n",
       " '[Fresh Tomato Salsa, [Cheese, Sour Cream, Lettuce]]',\n",
       " '[Fresh Tomato Salsa, [Rice, Pinto Beans, Cheese, Sour Cream, Guacamole, Lettuce]]',\n",
       " '[Roasted Chili Corn Salsa (Medium), [Rice, Cheese, Sour Cream]]',\n",
       " '[[Fresh Tomato Salsa (Mild), Roasted Chili Corn Salsa (Medium)], [Black Beans, Rice, Cheese, Lettuce]]',\n",
       " '[Tomatillo Red Chili Salsa, [Cheese, Rice, Black Beans]]',\n",
       " '[Roasted Chili Corn Salsa, [Black Beans, Cheese, Sour Cream, Guacamole, Lettuce]]',\n",
       " '[Roasted Chili Corn Salsa, [Rice, Black Beans, Cheese, Sour Cream, Guacamole, Lettuce]]',\n",
       " '[Fresh Tomato Salsa, [Rice, Black Beans, Cheese, Sour Cream, Lettuce]]',\n",
       " '[Fresh Tomato Salsa, [Rice, Black Beans, Sour Cream, Lettuce]]',\n",
       " '[Fresh Tomato Salsa, [Rice, Fajita Vegetables, Sour Cream, Cheese, Guacamole]]',\n",
       " '[Fresh Tomato Salsa (Mild), [Pinto Beans, Rice, Cheese, Sour Cream]]',\n",
       " '[Fresh Tomato Salsa, [Fajita Vegetables, Rice, Black Beans, Cheese, Lettuce]]',\n",
       " '[Fresh Tomato Salsa, [Fajita Vegetables, Rice, Black Beans, Cheese, Lettuce]]',\n",
       " '[Fresh Tomato Salsa, [Fajita Vegetables, Rice, Black Beans, Cheese, Lettuce]]',\n",
       " '[Roasted Chili Corn Salsa (Medium), [Black Beans, Rice, Fajita Veggies, Cheese, Sour Cream, Guacamole, Lettuce]]',\n",
       " '[[Tomatillo-Green Chili Salsa (Medium), Tomatillo-Red Chili Salsa (Hot)], [Black Beans, Rice, Fajita Veggies, Sour Cream]]',\n",
       " '[Fresh Tomato Salsa (Mild), [Rice, Cheese, Lettuce]]',\n",
       " '[Tomatillo Red Chili (Hot), [Lettuce, Rice, Cheese]]',\n",
       " '[Tomatillo Red Chili (Hot), [Lettuce, Rice, Sour Cream, Cheese]]',\n",
       " '[[Roasted Chili Corn Salsa (Medium), Fresh Tomato Salsa (Mild)], [Rice, Black Beans, Fajita Veggies, Cheese, Sour Cream, Guacamole, Lettuce]]',\n",
       " '[Fresh Tomato Salsa (Mild), [Rice, Cheese, Sour Cream, Guacamole, Lettuce]]',\n",
       " '[Fresh Tomato Salsa (Mild), [Rice, Black Beans, Cheese, Sour Cream, Guacamole, Lettuce]]',\n",
       " '[Fresh Tomato Salsa, [Rice, Black Beans, Cheese, Lettuce]]',\n",
       " '[Roasted Chili Corn Salsa, [Rice, Pinto Beans, Cheese]]',\n",
       " '[Tomatillo-Red Chili Salsa (Hot), [Black Beans, Rice, Cheese]]',\n",
       " '[Fresh Tomato Salsa, [Fajita Vegetables, Rice, Pinto Beans, Cheese, Sour Cream, Lettuce]]',\n",
       " '[[Roasted Chili Corn Salsa (Medium), Fresh Tomato Salsa (Mild)], [Lettuce, Black Beans, Sour Cream, Cheese, Rice, Fajita Veggies, Pinto Beans]]',\n",
       " '[Tomatillo Red Chili Salsa, [Rice, Cheese, Lettuce]]',\n",
       " '[Tomatillo Red Chili Salsa, [Fajita Vegetables, Black Beans, Cheese, Sour Cream, Guacamole]]',\n",
       " '[Roasted Chili Corn Salsa, [Fajita Vegetables, Rice, Black Beans, Cheese, Sour Cream, Guacamole]]',\n",
       " '[[Tomatillo-Green Chili Salsa (Medium), Roasted Chili Corn Salsa (Medium), Tomatillo-Red Chili Salsa (Hot)], [Pinto Beans, Rice, Fajita Veggies, Cheese, Sour Cream, Guacamole, Lettuce]]',\n",
       " '[[Fresh Tomato Salsa (Mild), Tomatillo-Red Chili Salsa (Hot)], [Rice, Cheese, Sour Cream, Guacamole]]',\n",
       " '[Tomatillo-Red Chili Salsa (Hot), [Black Beans, Rice, Cheese]]',\n",
       " '[Fresh Tomato Salsa, [Rice, Pinto Beans, Cheese]]',\n",
       " '[Fresh Tomato Salsa, [Fajita Vegetables, Rice, Black Beans, Cheese, Sour Cream, Guacamole]]',\n",
       " '[Roasted Chili Corn Salsa (Medium), [Rice, Cheese, Lettuce]]',\n",
       " '[Fresh Tomato Salsa, [Rice, Cheese, Sour Cream, Lettuce]]',\n",
       " '[Roasted Chili Corn Salsa, [Rice, Pinto Beans, Cheese, Sour Cream, Guacamole]]',\n",
       " '[Tomatillo Green Chili Salsa, [Rice, Black Beans, Sour Cream, Cheese, Guacamole]]',\n",
       " '[Tomatillo Green Chili Salsa, [Rice, Fajita Vegetables, Sour Cream, Cheese, Lettuce, Guacamole]]',\n",
       " '[Tomatillo-Green Chili Salsa (Medium), [Rice, Cheese, Sour Cream, Lettuce]]',\n",
       " '[Tomatillo Green Chili Salsa, [Fajita Vegetables, Rice, Black Beans, Cheese, Sour Cream, Lettuce]]',\n",
       " '[Tomatillo Green Chili Salsa, Guacamole]',\n",
       " '[Tomatillo-Red Chili Salsa (Hot), [Black Beans, Rice, Cheese, Sour Cream, Guacamole]]',\n",
       " '[Roasted Chili Corn Salsa, [Rice, Pinto Beans, Cheese, Lettuce]]',\n",
       " '[Fresh Tomato Salsa (Mild), [Cheese, Sour Cream, Guacamole, Lettuce]]',\n",
       " '[Fresh Tomato Salsa, [Rice, Sour Cream, Guacamole]]',\n",
       " '[Fresh Tomato Salsa (Mild), [Pinto Beans, Rice, Cheese, Sour Cream]]',\n",
       " '[Fresh Tomato Salsa, [Fajita Vegetables, Rice]]',\n",
       " '[Fresh Tomato Salsa, [Rice, Black Beans, Cheese, Sour Cream, Guacamole]]',\n",
       " '[Fresh Tomato Salsa (Mild), [Black Beans, Rice, Cheese, Sour Cream, Lettuce]]',\n",
       " '[Roasted Chili Corn Salsa, [Fajita Vegetables, Rice, Pinto Beans, Guacamole, Lettuce]]',\n",
       " '[Fresh Tomato Salsa, Rice]',\n",
       " '[Fresh Tomato Salsa, [Rice, Black Beans, Cheese, Sour Cream, Guacamole]]',\n",
       " '[Fresh Tomato Salsa (Mild), [Pinto Beans, Rice, Cheese, Sour Cream]]',\n",
       " '[Fresh Tomato Salsa, [Rice, Black Beans, Cheese, Sour Cream]]',\n",
       " '[Roasted Chili Corn Salsa, [Rice, Fajita Vegetables]]',\n",
       " '[Tomatillo Green Chili Salsa, [Rice, Fajita Vegetables, Sour Cream]]',\n",
       " '[Fresh Tomato Salsa, [Fajita Vegetables, Rice, Black Beans, Pinto Beans, Cheese, Sour Cream, Guacamole, Lettuce]]',\n",
       " '[Tomatillo-Red Chili Salsa (Hot), [Black Beans, Rice, Cheese, Sour Cream, Guacamole]]',\n",
       " '[Fresh Tomato Salsa, [Rice, Fajita Vegetables, Black Beans, Sour Cream, Cheese, Lettuce]]',\n",
       " '[Fresh Tomato Salsa, [Rice, Pinto Beans, Cheese]]',\n",
       " '[Tomatillo-Red Chili Salsa (Hot), [Black Beans, Rice, Fajita Veggies, Cheese, Lettuce]]',\n",
       " '[[Fresh Tomato Salsa (Mild), Roasted Chili Corn Salsa (Medium)], [Pinto Beans, Black Beans, Rice, Fajita Veggies, Cheese, Lettuce]]',\n",
       " '[Tomatillo-Green Chili Salsa (Medium), [Pinto Beans, Rice, Fajita Veggies, Cheese, Sour Cream, Lettuce]]',\n",
       " '[Tomatillo-Green Chili Salsa (Medium), [Black Beans, Rice, Cheese, Sour Cream, Guacamole, Lettuce]]',\n",
       " '[Fresh Tomato Salsa, [Rice, Sour Cream, Guacamole, Lettuce]]',\n",
       " '[Fresh Tomato Salsa, [Fajita Vegetables, Rice, Cheese, Sour Cream, Lettuce]]',\n",
       " '[Tomatillo Red Chili Salsa, [Rice, Black Beans, Cheese]]',\n",
       " '[Roasted Chili Corn Salsa, [Rice, Black Beans, Sour Cream, Cheese, Lettuce]]',\n",
       " '[[Fresh Tomato Salsa (Mild), Roasted Chili Corn Salsa (Medium)], [Black Beans, Rice, Fajita Veggies, Cheese, Sour Cream, Lettuce]]',\n",
       " '[Fresh Tomato Salsa, [Fajita Vegetables, Rice, Black Beans, Cheese, Sour Cream, Lettuce]]',\n",
       " '[Fresh Tomato Salsa, [Fajita Vegetables, Rice, Black Beans, Cheese, Sour Cream, Lettuce]]',\n",
       " '[[Roasted Chili Corn Salsa (Medium), Tomatillo-Green Chili Salsa (Medium)], [Rice, Black Beans, Sour Cream]]',\n",
       " '[Fresh Tomato Salsa, [Rice, Sour Cream, Guacamole, Lettuce]]',\n",
       " '[Fresh Tomato Salsa, [Rice, Black Beans, Cheese, Lettuce]]',\n",
       " '[Fresh Tomato Salsa, [Rice, Sour Cream, Guacamole, Lettuce]]',\n",
       " '[Tomatillo Red Chili Salsa, [Rice, Black Beans, Cheese]]',\n",
       " '[Roasted Chili Corn Salsa (Medium), [Black Beans, Rice, Fajita Veggies, Cheese, Lettuce]]',\n",
       " '[[Fresh Tomato Salsa (Mild), Tomatillo-Red Chili Salsa (Hot)], [Black Beans, Rice, Cheese, Sour Cream]]',\n",
       " '[Fresh Tomato Salsa, [Guacamole, Lettuce, Sour Cream, Fajita Vegetables, Cheese, Rice]]',\n",
       " '[Roasted Chili Corn Salsa, [Rice, Black Beans]]',\n",
       " '[Fresh Tomato Salsa, [Rice, Black Beans]]',\n",
       " '[Roasted Chili Corn Salsa, [Black Beans, Cheese, Lettuce]]',\n",
       " '[Fresh Tomato Salsa, Rice]',\n",
       " '[Tomatillo Green Chili Salsa, [Rice, Cheese, Lettuce]]',\n",
       " '[Tomatillo Green Chili Salsa, [Rice, Pinto Beans, Cheese, Lettuce]]',\n",
       " '[Roasted Chili Corn Salsa, [Fajita Vegetables, Black Beans, Sour Cream, Lettuce, Guacamole]]',\n",
       " '[Tomatillo-Green Chili Salsa (Medium), [Rice, Cheese, Sour Cream, Lettuce]]',\n",
       " '[Roasted Chili Corn Salsa, [Black Beans, Cheese, Lettuce]]',\n",
       " '[Roasted Chili Corn Salsa, [Fajita Vegetables, Rice, Black Beans, Cheese, Sour Cream, Guacamole, Lettuce]]',\n",
       " '[Tomatillo Red Chili Salsa, [Rice, Cheese, Lettuce]]',\n",
       " '[Fresh Tomato Salsa, [Rice, Fajita Vegetables]]',\n",
       " '[Fresh Tomato Salsa (Mild), [Black Beans, Rice, Sour Cream, Guacamole]]',\n",
       " '[Fresh Tomato Salsa, [Guacamole, Cheese, Rice, Sour Cream, Fajita Vegetables, Lettuce]]',\n",
       " '[Fresh Tomato Salsa (Mild), [Pinto Beans, Black Beans, Rice, Cheese, Sour Cream, Lettuce]]',\n",
       " '[Fresh Tomato Salsa, [Fajita Vegetables, Rice, Black Beans, Sour Cream, Guacamole, Lettuce]]',\n",
       " '[Roasted Chili Corn Salsa, [Rice, Pinto Beans, Sour Cream, Cheese, Guacamole]]',\n",
       " '[Fresh Tomato Salsa, [Rice, Sour Cream, Guacamole, Lettuce]]',\n",
       " '[Tomatillo Red Chili Salsa, [Rice, Black Beans, Cheese, Sour Cream, Lettuce]]',\n",
       " '[Fresh Tomato Salsa (Mild), [Rice, Fajita Veggies, Cheese, Sour Cream, Lettuce]]',\n",
       " '[Tomatillo-Red Chili Salsa (Hot), [Rice, Fajita Veggies, Cheese, Sour Cream, Lettuce]]',\n",
       " '[[Fresh Tomato Salsa (Mild), Roasted Chili Corn Salsa (Medium), Tomatillo-Red Chili Salsa (Hot)], [Pinto Beans, Rice, Fajita Veggies, Cheese, Sour Cream, Lettuce]]',\n",
       " '[Fresh Tomato (Mild), [Guacamole, Rice, Black Beans]]',\n",
       " '[Fresh Tomato Salsa (Mild), [Pinto Beans, Rice, Cheese, Sour Cream]]',\n",
       " '[Fresh Tomato Salsa, [Rice, Black Beans, Cheese, Sour Cream, Guacamole, Lettuce]]',\n",
       " '[Tomatillo Red Chili Salsa, Rice]',\n",
       " '[[Fresh Tomato Salsa (Mild), Roasted Chili Corn Salsa (Medium), Tomatillo-Red Chili Salsa (Hot)], [Rice, Fajita Veggies, Cheese, Lettuce]]',\n",
       " '[Fresh Tomato Salsa (Mild), [Fajita Veggies, Guacamole, Lettuce]]',\n",
       " '[Fresh Tomato Salsa, [Rice, Black Beans, Sour Cream, Cheese, Lettuce, Guacamole]]',\n",
       " '[Tomatillo Green Chili Salsa, [Fajita Vegetables, Rice, Black Beans, Pinto Beans, Cheese]]',\n",
       " '[Fresh Tomato Salsa (Mild), [Pinto Beans, Rice, Cheese, Sour Cream]]',\n",
       " '[Tomatillo Green Chili Salsa, [Rice, Pinto Beans, Cheese, Sour Cream, Guacamole]]',\n",
       " '[Tomatillo Green Chili Salsa, [Rice, Fajita Vegetables, Sour Cream, Cheese, Lettuce]]',\n",
       " '[Fresh Tomato Salsa, [Sour Cream, Guacamole, Rice, Lettuce]]',\n",
       " '[Fresh Tomato Salsa, [Rice, Cheese, Lettuce]]',\n",
       " '[Fresh Tomato Salsa, [Rice, Fajita Vegetables, Black Beans, Lettuce, Guacamole]]',\n",
       " '[Fresh Tomato Salsa, [Fajita Vegetables, Rice, Cheese, Guacamole]]',\n",
       " '[Tomatillo Green Chili Salsa, [Fajita Vegetables, Rice, Black Beans, Pinto Beans, Cheese, Sour Cream, Guacamole, Lettuce]]',\n",
       " '[Tomatillo Red Chili Salsa, [Rice, Cheese, Sour Cream]]',\n",
       " '[Tomatillo Red Chili Salsa, [Rice, Black Beans, Cheese, Lettuce]]',\n",
       " '[Tomatillo Red Chili Salsa, [Rice, Pinto Beans, Cheese, Lettuce]]',\n",
       " '[Roasted Chili Corn Salsa, [Fajita Vegetables, Rice, Black Beans, Guacamole]]',\n",
       " '[Fresh Tomato Salsa, [Rice, Pinto Beans, Cheese, Guacamole, Lettuce]]',\n",
       " '[Roasted Chili Corn Salsa, [Rice, Pinto Beans, Cheese, Sour Cream, Guacamole, Lettuce]]',\n",
       " '[Fresh Tomato Salsa, [Rice, Pinto Beans, Guacamole, Lettuce]]',\n",
       " '[Fresh Tomato Salsa, [Rice, Black Beans, Cheese, Sour Cream, Guacamole, Lettuce]]',\n",
       " '[Tomatillo-Red Chili Salsa (Hot), [Lettuce, Guacamole, Sour Cream, Cheese, Rice, Black Beans]]',\n",
       " '[Fresh Tomato Salsa (Mild), [Cheese, Lettuce]]',\n",
       " '[Fresh Tomato Salsa, [Rice, Black Beans, Cheese, Sour Cream, Guacamole]]',\n",
       " '[Tomatillo Red Chili Salsa, [Black Beans, Lettuce]]',\n",
       " '[Tomatillo Green Chili Salsa, [Rice, Pinto Beans, Black Beans, Sour Cream, Cheese, Lettuce]]',\n",
       " '[Tomatillo Red Chili Salsa, [Rice, Pinto Beans, Sour Cream, Guacamole, Lettuce]]',\n",
       " '[Tomatillo Green Chili Salsa, [Fajita Vegetables, Rice, Cheese, Sour Cream, Guacamole, Lettuce]]',\n",
       " '[Tomatillo Red Chili Salsa, [Rice, Black Beans, Cheese]]',\n",
       " '[Roasted Chili Corn Salsa, [Fajita Vegetables, Rice, Black Beans, Cheese, Sour Cream, Guacamole, Lettuce]]',\n",
       " '[[Fresh Tomato Salsa (Mild), Roasted Chili Corn Salsa (Medium)], [Black Beans, Rice, Cheese, Sour Cream, Guacamole]]',\n",
       " '[Roasted Chili Corn Salsa, [Fajita Vegetables, Rice, Black Beans, Cheese]]',\n",
       " '[Roasted Chili Corn Salsa, [Lettuce, Black Beans, Cheese]]',\n",
       " '[Fresh Tomato Salsa, [Rice, Sour Cream, Guacamole, Lettuce]]',\n",
       " '[Tomatillo Red Chili Salsa, [Rice, Black Beans, Cheese]]',\n",
       " '[Tomatillo Red Chili Salsa, [Rice, Cheese, Lettuce]]',\n",
       " '[Tomatillo Green Chili Salsa, [Rice, Pinto Beans, Cheese, Lettuce]]',\n",
       " '[Fresh Tomato Salsa, [Fajita Vegetables, Rice, Black Beans, Cheese, Sour Cream, Guacamole]]',\n",
       " '[Tomatillo Red Chili Salsa, [Rice, Cheese, Sour Cream]]',\n",
       " '[Fresh Tomato Salsa (Mild), [Black Beans, Rice, Fajita Veggies, Cheese, Sour Cream, Lettuce]]',\n",
       " '[Tomatillo Red Chili Salsa, [Rice, Cheese, Lettuce]]',\n",
       " '[Fresh Tomato Salsa (Mild), [Pinto Beans, Rice, Cheese, Sour Cream]]',\n",
       " '[Tomatillo Green Chili Salsa, [Rice, Fajita Vegetables, Sour Cream, Cheese, Lettuce]]',\n",
       " '[Tomatillo Red Chili Salsa, [Rice, Black Beans, Cheese]]',\n",
       " '[Roasted Chili Corn Salsa (Medium), [Black Beans, Rice, Cheese, Sour Cream, Lettuce]]',\n",
       " '[Tomatillo Green Chili Salsa, [Rice, Black Beans, Cheese, Sour Cream, Lettuce]]',\n",
       " '[Fresh Tomato Salsa, [Rice, Cheese, Lettuce]]',\n",
       " '[Fresh Tomato Salsa, [Fajita Vegetables, Rice, Pinto Beans, Cheese, Sour Cream]]',\n",
       " '[Tomatillo Red Chili Salsa, [Rice, Cheese, Lettuce]]',\n",
       " '[Tomatillo Red Chili Salsa, Sour Cream]',\n",
       " '[Fresh Tomato Salsa, [Rice, Pinto Beans, Cheese, Sour Cream, Guacamole]]',\n",
       " '[Fresh Tomato Salsa, [Rice, Black Beans, Cheese, Lettuce]]',\n",
       " '[Fresh Tomato Salsa (Mild), [Black Beans, Rice, Cheese, Sour Cream, Lettuce]]',\n",
       " '[Fresh Tomato Salsa (Mild), [Black Beans, Rice, Sour Cream, Guacamole]]',\n",
       " '[Fresh Tomato Salsa (Mild), [Black Beans, Rice, Cheese, Sour Cream]]',\n",
       " '[Roasted Chili Corn Salsa, [Rice, Black Beans, Sour Cream, Cheese, Lettuce]]',\n",
       " '[Roasted Chili Corn Salsa (Medium), [Pinto Beans, Rice, Fajita Veggies, Sour Cream, Lettuce]]',\n",
       " '[[Roasted Chili Corn Salsa (Medium), Tomatillo-Red Chili Salsa (Hot)], [Pinto Beans, Rice, Fajita Veggies, Cheese, Sour Cream, Lettuce]]',\n",
       " '[Tomatillo Green Chili Salsa, [Fajita Vegetables, Rice, Cheese, Sour Cream, Guacamole, Lettuce]]',\n",
       " '[Fresh Tomato Salsa, [Rice, Sour Cream, Lettuce, Guacamole]]',\n",
       " '[[Tomatillo-Green Chili Salsa (Medium), Roasted Chili Corn Salsa (Medium), Tomatillo-Red Chili Salsa (Hot)], [Pinto Beans, Rice, Fajita Veggies, Cheese, Sour Cream, Lettuce]]',\n",
       " '[[Fresh Tomato Salsa (Mild), Roasted Chili Corn Salsa (Medium)], [Black Beans, Rice, Cheese, Sour Cream, Lettuce]]',\n",
       " '[Fresh Tomato Salsa (Mild), [Rice, Fajita Veggies, Cheese, Lettuce]]',\n",
       " '[Fresh Tomato Salsa (Mild), [Pinto Beans, Rice, Cheese, Sour Cream]]',\n",
       " '[Fresh Tomato Salsa, [Rice, Pinto Beans, Cheese, Guacamole, Lettuce]]',\n",
       " '[Roasted Chili Corn Salsa, [Fajita Vegetables, Rice, Sour Cream, Guacamole]]',\n",
       " '[Fresh Tomato Salsa, [Rice, Fajita Vegetables, Black Beans, Lettuce, Guacamole]]',\n",
       " '[Fresh Tomato Salsa (Mild), [Black Beans, Rice, Cheese, Sour Cream, Lettuce]]',\n",
       " '[Tomatillo Red Chili Salsa, Lettuce]',\n",
       " '[Fresh Tomato Salsa, [Rice, Black Beans, Cheese, Sour Cream, Lettuce]]',\n",
       " '[Tomatillo Green Chili Salsa, [Fajita Vegetables, Rice, Cheese, Guacamole, Lettuce]]',\n",
       " '[Tomatillo Red Chili Salsa, [Rice, Pinto Beans, Cheese, Lettuce]]',\n",
       " '[[Fresh Tomato Salsa (Mild), Roasted Chili Corn Salsa (Medium)], [Rice, Guacamole, Lettuce]]',\n",
       " '[Fresh Tomato Salsa (Mild), [Black Beans, Rice, Guacamole, Lettuce]]',\n",
       " '[Tomatillo Red Chili Salsa, [Fajita Vegetables, Rice, Cheese, Sour Cream]]',\n",
       " '[Fresh Tomato Salsa, [Fajita Vegetables, Rice, Black Beans, Cheese, Sour Cream, Lettuce]]',\n",
       " '[Fresh Tomato Salsa, [Rice, Black Beans, Cheese, Sour Cream, Lettuce]]',\n",
       " '[Tomatillo Green Chili Salsa, [Rice, Pinto Beans, Cheese, Sour Cream, Guacamole]]',\n",
       " '[[Fresh Tomato Salsa (Mild), Tomatillo-Green Chili Salsa (Medium), Tomatillo-Red Chili Salsa (Hot)], [Pinto Beans, Black Beans, Rice, Fajita Veggies, Cheese, Sour Cream, Lettuce]]',\n",
       " '[Tomatillo-Green Chili Salsa (Medium), [Rice, Cheese, Guacamole]]',\n",
       " '[Fresh Tomato Salsa, [Rice, Black Beans, Cheese, Sour Cream, Guacamole, Lettuce]]',\n",
       " '[Fresh Tomato Salsa, Rice]',\n",
       " '[Fresh Tomato Salsa, [Rice, Black Beans, Cheese, Sour Cream, Lettuce]]',\n",
       " '[Roasted Chili Corn Salsa (Medium), [Rice, Fajita Veggies, Cheese, Sour Cream, Lettuce]]',\n",
       " '[Fresh Tomato Salsa (Mild), [Pinto Beans, Rice, Cheese, Sour Cream]]',\n",
       " '[Tomatillo Green Chili Salsa, [Fajita Vegetables, Cheese, Sour Cream, Guacamole, Lettuce, Rice]]',\n",
       " '[Fresh Tomato Salsa, [Lettuce, Rice, Black Beans, Cheese]]',\n",
       " '[Fresh Tomato Salsa, [Cheese, Rice, Pinto Beans]]',\n",
       " '[Fresh Tomato Salsa (Mild), [Pinto Beans, Rice, Cheese, Sour Cream]]',\n",
       " '[Roasted Chili Corn Salsa, [Fajita Vegetables, Rice, Black Beans, Pinto Beans, Cheese, Sour Cream, Lettuce]]',\n",
       " '[Fresh Tomato Salsa (Mild), [Black Beans, Rice, Cheese, Sour Cream, Guacamole]]',\n",
       " '[Fresh Tomato Salsa, [Fajita Vegetables, Rice, Black Beans, Cheese, Sour Cream]]',\n",
       " '[Roasted Chili Corn Salsa, [Fajita Vegetables, Rice, Black Beans, Pinto Beans, Cheese, Sour Cream, Lettuce]]',\n",
       " '[Fresh Tomato Salsa, [Rice, Pinto Beans, Cheese]]',\n",
       " '[Fresh Tomato Salsa, [Cheese, Lettuce]]',\n",
       " '[Fresh Tomato Salsa, [Rice, Black Beans, Cheese, Sour Cream]]',\n",
       " '[Tomatillo Red Chili Salsa, [Black Beans, Cheese, Sour Cream]]',\n",
       " '[Fresh Tomato Salsa, [Pinto Beans, Cheese, Sour Cream]]',\n",
       " '[Roasted Chili Corn Salsa, [Rice, Pinto Beans, Cheese, Sour Cream, Guacamole]]',\n",
       " '[[Fresh Tomato Salsa (Mild), Roasted Chili Corn Salsa (Medium)], [Black Beans, Rice, Fajita Veggies, Sour Cream, Lettuce]]',\n",
       " '[Roasted Chili Corn Salsa, [Cheese, Black Beans, Lettuce]]',\n",
       " '[Roasted Chili Corn Salsa, [Rice, Pinto Beans, Cheese, Sour Cream]]',\n",
       " '[Roasted Chili Corn Salsa, [Rice, Cheese, Guacamole, Lettuce]]',\n",
       " '[Fresh Tomato Salsa, [Rice, Black Beans, Cheese, Sour Cream, Guacamole, Lettuce]]',\n",
       " '[Fresh Tomato Salsa, [Rice, Black Beans, Cheese, Sour Cream, Guacamole, Lettuce]]',\n",
       " '[Roasted Chili Corn Salsa, [Rice, Black Beans, Cheese, Sour Cream, Lettuce]]',\n",
       " '[Tomatillo-Red Chili Salsa (Hot), [Rice, Guacamole]]',\n",
       " '[Fresh Tomato Salsa (Mild), Black Beans]',\n",
       " '[Roasted Chili Corn Salsa, [Rice, Cheese, Sour Cream, Lettuce]]',\n",
       " '[Fresh Tomato Salsa, [Rice, Black Beans, Cheese, Sour Cream]]',\n",
       " '[Tomatillo-Green Chili Salsa (Medium), [Rice, Cheese, Guacamole]]',\n",
       " '[Fresh Tomato Salsa (Mild), [Pinto Beans, Rice, Cheese, Sour Cream]]',\n",
       " '[Fresh Tomato Salsa (Mild), [Black Beans, Rice, Cheese]]',\n",
       " '[Tomatillo-Green Chili Salsa (Medium), [Black Beans, Rice, Cheese, Sour Cream, Lettuce]]',\n",
       " '[Fresh Tomato Salsa (Mild), [Black Beans, Rice, Cheese, Lettuce]]',\n",
       " '[Tomatillo-Red Chili Salsa (Hot), [Black Beans, Rice, Cheese, Sour Cream, Guacamole]]',\n",
       " '[[Tomatillo-Green Chili Salsa (Medium), Roasted Chili Corn Salsa (Medium)], [Pinto Beans, Black Beans, Rice, Fajita Veggies, Cheese, Sour Cream, Guacamole, Lettuce]]',\n",
       " '[[Fresh Tomato Salsa (Mild), Tomatillo-Red Chili Salsa (Hot)], [Rice, Fajita Veggies, Cheese, Sour Cream, Guacamole, Lettuce]]',\n",
       " '[Roasted Chili Corn Salsa]',\n",
       " '[Tomatillo Red Chili Salsa, [Rice, Cheese, Sour Cream]]',\n",
       " '[Fresh Tomato Salsa, [Fajita Vegetables, Rice, Black Beans, Cheese, Sour Cream]]',\n",
       " '[Roasted Chili Corn Salsa (Medium), [Black Beans, Rice, Cheese, Sour Cream]]',\n",
       " '[Fresh Tomato Salsa, [Sour Cream, Cheese, Lettuce, Guacamole]]',\n",
       " '[Fresh Tomato Salsa, [Rice, Black Beans]]',\n",
       " '[Fresh Tomato Salsa, [Rice, Fajita Vegetables, Pinto Beans, Cheese, Lettuce, Guacamole]]',\n",
       " '[Fresh Tomato Salsa, [Rice, Cheese, Sour Cream, Lettuce]]',\n",
       " '[Fresh Tomato Salsa, [Black Beans, Cheese, Sour Cream]]',\n",
       " '[[Roasted Chili Corn Salsa (Medium), Tomatillo-Green Chili Salsa (Medium)], [Rice, Black Beans, Pinto Beans, Fajita Veggies, Cheese, Sour Cream, Lettuce]]',\n",
       " '[Roasted Chili Corn Salsa, [Rice, Pinto Beans, Cheese, Sour Cream, Guacamole]]',\n",
       " '[Fresh Tomato Salsa, [Rice, Black Beans]]',\n",
       " '[Tomatillo Green Chili Salsa, [Fajita Vegetables, Rice, Cheese, Sour Cream, Guacamole, Lettuce]]',\n",
       " '[Roasted Chili Corn Salsa, [Fajita Vegetables, Rice, Sour Cream, Guacamole, Lettuce]]',\n",
       " '[Tomatillo Red Chili Salsa, [Fajita Vegetables, Rice, Pinto Beans, Cheese, Lettuce]]',\n",
       " '[Fresh Tomato Salsa, [Fajita Vegetables, Rice, Pinto Beans, Cheese, Guacamole, Lettuce]]',\n",
       " '[Fresh Tomato Salsa (Mild), [Rice, Cheese, Lettuce]]',\n",
       " '[Fresh Tomato Salsa (Mild), [Pinto Beans, Rice, Cheese, Sour Cream]]',\n",
       " '[[Fresh Tomato Salsa (Mild), Roasted Chili Corn Salsa (Medium)], [Black Beans, Rice, Sour Cream, Guacamole, Lettuce]]',\n",
       " '[[Fresh Tomato Salsa (Mild), Roasted Chili Corn Salsa (Medium)], [Black Beans, Rice, Cheese, Lettuce]]',\n",
       " '[Fresh Tomato Salsa (Mild), [Rice, Fajita Veggies, Cheese, Sour Cream, Lettuce]]',\n",
       " '[Fresh Tomato Salsa (Mild), [Black Beans, Rice, Cheese, Sour Cream, Guacamole]]',\n",
       " '[[Roasted Chili Corn Salsa (Medium), Tomatillo-Red Chili Salsa (Hot)], [Black Beans, Rice, Cheese, Sour Cream]]',\n",
       " '[Fresh Tomato Salsa (Mild), [Pinto Beans, Rice, Fajita Veggies, Cheese, Sour Cream, Guacamole, Lettuce]]',\n",
       " '[Tomatillo-Red Chili Salsa (Hot), [Pinto Beans, Rice, Fajita Veggies, Cheese, Lettuce]]',\n",
       " '[Tomatillo Red Chili Salsa, [Rice, Cheese, Lettuce]]',\n",
       " '[Roasted Chili Corn Salsa, [Rice, Black Beans, Cheese]]',\n",
       " '[Fresh Tomato Salsa, [Rice, Pinto Beans, Cheese]]',\n",
       " '[Roasted Chili Corn Salsa, [Rice, Black Beans, Cheese, Sour Cream, Guacamole, Lettuce]]',\n",
       " '[Tomatillo-Green Chili Salsa (Medium), [Black Beans, Rice, Cheese, Sour Cream, Guacamole]]',\n",
       " '[Fresh Tomato Salsa, Rice]',\n",
       " '[Tomatillo Red Chili Salsa, [Rice, Black Beans, Cheese, Sour Cream, Lettuce]]',\n",
       " '[Fresh Tomato Salsa (Mild), [Black Beans, Rice, Cheese, Sour Cream, Guacamole, Lettuce]]',\n",
       " '[Roasted Chili Corn Salsa (Medium), [Rice, Fajita Veggies, Cheese, Sour Cream, Lettuce]]',\n",
       " '[Fresh Tomato Salsa, [Rice, Black Beans, Cheese, Sour Cream]]',\n",
       " '[Fresh Tomato Salsa, [Rice, Sour Cream, Lettuce]]',\n",
       " '[Roasted Chili Corn Salsa, [Rice, Cheese, Sour Cream, Lettuce]]',\n",
       " '[Fresh Tomato Salsa, [Rice, Black Beans, Cheese, Lettuce]]',\n",
       " '[Roasted Chili Corn Salsa, [Rice, Black Beans, Cheese, Sour Cream, Lettuce]]',\n",
       " '[Fresh Tomato Salsa, [Rice, Cheese, Lettuce]]',\n",
       " '[Fresh Tomato Salsa, [Rice, Black Beans, Cheese, Lettuce]]',\n",
       " '[Tomatillo Red Chili Salsa, [Rice, Cheese, Sour Cream, Lettuce]]',\n",
       " '[Fresh Tomato Salsa (Mild), [Rice, Fajita Veggies, Cheese, Sour Cream, Lettuce]]',\n",
       " '[Tomatillo-Green Chili Salsa (Medium), [Rice, Fajita Veggies, Cheese, Sour Cream, Lettuce]]',\n",
       " '[Fresh Tomato Salsa, [Rice, Cheese, Lettuce]]',\n",
       " '[Fresh Tomato Salsa, [Rice, Black Beans, Sour Cream, Cheese]]',\n",
       " '[Tomatillo Red Chili Salsa, [Fajita Vegetables, Rice, Black Beans, Pinto Beans, Cheese, Sour Cream, Lettuce]]',\n",
       " '[Fresh Tomato Salsa, [Rice, Black Beans, Cheese, Lettuce]]',\n",
       " '[Tomatillo Green Chili Salsa, [Rice, Black Beans, Cheese, Sour Cream, Lettuce]]',\n",
       " '[Roasted Chili Corn Salsa (Medium), [Rice, Fajita Veggies, Cheese, Sour Cream]]',\n",
       " '[Roasted Chili Corn Salsa, [Fajita Vegetables, Rice, Black Beans, Pinto Beans, Cheese, Sour Cream, Guacamole, Lettuce]]',\n",
       " '[Tomatillo Green Chili Salsa, [Fajita Vegetables, Rice, Black Beans, Cheese, Lettuce]]',\n",
       " '[Fresh Tomato Salsa (Mild), [Pinto Beans, Cheese, Lettuce]]',\n",
       " '[Fresh Tomato Salsa, [Fajita Vegetables, Rice, Black Beans, Cheese, Sour Cream, Guacamole, Lettuce]]',\n",
       " '[Fresh Tomato Salsa, [Rice, Sour Cream, Cheese]]',\n",
       " '[Fresh Tomato Salsa (Mild), [Pinto Beans, Rice, Cheese, Sour Cream]]',\n",
       " '[Fresh Tomato Salsa, [Rice, Black Beans, Cheese, Guacamole]]',\n",
       " '[Tomatillo Green Chili Salsa, [Rice, Black Beans, Cheese, Guacamole, Lettuce]]',\n",
       " '[Fresh Tomato Salsa, [Rice, Pinto Beans, Cheese, Lettuce]]',\n",
       " '[Roasted Chili Corn Salsa, [Fajita Vegetables, Rice, Cheese, Sour Cream, Lettuce]]',\n",
       " '[Tomatillo Red Chili Salsa, [Rice, Lettuce]]',\n",
       " '[Fresh Tomato Salsa, [Rice, Black Beans, Cheese, Guacamole, Lettuce]]',\n",
       " '[Fresh Tomato Salsa, [Rice, Cheese, Sour Cream, Guacamole]]',\n",
       " '[Tomatillo-Green Chili Salsa (Medium), [Cheese, Lettuce]]',\n",
       " '[Roasted Chili Corn Salsa, [Fajita Vegetables, Rice]]',\n",
       " '[Tomatillo Red Chili Salsa, [Fajita Vegetables, Rice, Black Beans, Cheese, Guacamole, Lettuce]]',\n",
       " '[Fresh Tomato Salsa (Mild), [Pinto Beans, Rice, Cheese, Sour Cream]]',\n",
       " '[Fresh Tomato Salsa, [Rice, Black Beans, Cheese, Sour Cream, Guacamole, Lettuce]]',\n",
       " '[Fresh Tomato Salsa, [Rice, Black Beans, Sour Cream, Cheese, Lettuce]]',\n",
       " '[Fresh Tomato Salsa, [Black Beans, Pinto Beans, Cheese, Sour Cream, Lettuce]]',\n",
       " '[Fresh Tomato Salsa, [Rice, Black Beans, Cheese, Sour Cream, Lettuce]]',\n",
       " '[Tomatillo-Red Chili Salsa (Hot), [Rice, Cheese, Lettuce]]',\n",
       " '[Fresh Tomato Salsa (Mild), [Black Beans, Rice, Sour Cream, Guacamole]]',\n",
       " '[Roasted Chili Corn Salsa, [Rice, Pinto Beans, Cheese, Sour Cream, Lettuce]]',\n",
       " '[Fresh Tomato Salsa, [Rice, Cheese, Sour Cream, Guacamole]]',\n",
       " '[Tomatillo Green Chili Salsa, [Fajita Vegetables, Rice, Cheese, Sour Cream, Lettuce]]',\n",
       " '[Tomatillo Red Chili Salsa, [Rice, Fajita Vegetables, Pinto Beans, Sour Cream, Lettuce]]',\n",
       " '[[Tomatillo-Green Chili Salsa (Medium), Roasted Chili Corn Salsa (Medium), Tomatillo-Red Chili Salsa (Hot)], [Black Beans, Rice, Fajita Veggies, Guacamole, Lettuce]]',\n",
       " '[Tomatillo Green Chili Salsa, [Lettuce, Guacamole, Sour Cream, Cheese, Fajita Vegetables, Rice]]',\n",
       " '[Roasted Chili Corn Salsa, [Guacamole, Sour Cream, Rice, Fajita Vegetables, Lettuce]]',\n",
       " '[Tomatillo Green Chili Salsa, [Rice, Black Beans, Cheese, Sour Cream, Guacamole]]',\n",
       " '[Fresh Tomato Salsa (Mild), [Pinto Beans, Rice, Cheese, Sour Cream]]',\n",
       " '[Fresh Tomato Salsa (Mild), [Cheese, Lettuce]]',\n",
       " '[Roasted Chili Corn Salsa (Medium), [Black Beans, Rice, Cheese, Guacamole, Lettuce]]',\n",
       " '[Fresh Tomato Salsa, [Pinto Beans, Cheese, Sour Cream, Lettuce]]',\n",
       " '[Tomatillo Red Chili Salsa, [Fajita Vegetables, Rice, Black Beans, Pinto Beans, Cheese, Sour Cream, Guacamole, Lettuce]]',\n",
       " '[Fresh Tomato Salsa, [Rice, Fajita Vegetables, Cheese, Lettuce]]',\n",
       " '[Fresh Tomato Salsa (Mild), [Pinto Beans, Rice, Cheese, Sour Cream]]',\n",
       " '[[Tomatillo-Green Chili Salsa (Medium), Tomatillo-Red Chili Salsa (Hot)], [Rice, Cheese, Sour Cream, Lettuce]]',\n",
       " '[Tomatillo Red Chili Salsa, [Black Beans, Cheese, Sour Cream, Guacamole]]',\n",
       " '[Fresh Tomato Salsa, [Rice, Black Beans, Cheese, Lettuce]]',\n",
       " '[Fresh Tomato Salsa, [Rice, Cheese, Sour Cream, Guacamole, Lettuce]]',\n",
       " '[Fresh Tomato Salsa, [Rice, Black Beans, Cheese, Sour Cream]]',\n",
       " '[Fresh Tomato Salsa, [Rice, Black Beans, Cheese, Guacamole]]',\n",
       " '[Fresh Tomato Salsa (Mild), [Cheese, Rice, Pinto Beans, Sour Cream]]',\n",
       " '[Fresh Tomato Salsa, [Rice, Black Beans, Cheese, Sour Cream, Guacamole, Lettuce]]',\n",
       " '[Tomatillo-Green Chili Salsa (Medium), [Rice, Cheese, Sour Cream, Guacamole]]',\n",
       " '[Tomatillo Red Chili Salsa, [Rice, Pinto Beans, Cheese, Sour Cream]]',\n",
       " '[Tomatillo Red Chili Salsa, [Rice, Black Beans, Cheese, Sour Cream]]',\n",
       " '[Tomatillo Red Chili Salsa, [Fajita Vegetables, Rice, Black Beans, Cheese, Sour Cream, Lettuce]]',\n",
       " '[Fresh Tomato Salsa, [Fajita Vegetables, Rice, Black Beans, Cheese, Lettuce]]',\n",
       " '[Fresh Tomato Salsa, [Rice, Black Beans, Cheese, Sour Cream, Lettuce]]',\n",
       " '[Roasted Chili Corn Salsa, [Rice, Cheese]]',\n",
       " '[Tomatillo Green Chili Salsa, [Rice, Black Beans, Cheese, Sour Cream]]',\n",
       " '[Fresh Tomato Salsa, [Rice, Black Beans, Cheese, Sour Cream]]',\n",
       " '[Fresh Tomato Salsa, [Fajita Vegetables, Rice, Pinto Beans, Cheese, Lettuce]]',\n",
       " '[Fresh Tomato Salsa, [Rice, Pinto Beans, Cheese, Guacamole, Lettuce]]',\n",
       " '[Tomatillo-Red Chili Salsa (Hot), [Rice, Black Beans, Fajita Veggies, Guacamole]]',\n",
       " '[Fresh Tomato Salsa (Mild), [Rice, Fajita Veggies, Lettuce]]',\n",
       " '[Fresh Tomato Salsa, [Rice, Fajita Vegetables, Pinto Beans, Cheese, Guacamole]]',\n",
       " '[Fresh Tomato Salsa (Mild), [Rice, Fajita Veggies, Lettuce]]',\n",
       " '[Fresh Tomato Salsa, [Rice, Black Beans, Cheese, Sour Cream, Lettuce]]',\n",
       " '[Fresh Tomato Salsa, [Cheese, Sour Cream, Guacamole]]',\n",
       " '[Tomatillo Green Chili Salsa, [Rice, Pinto Beans, Cheese, Lettuce]]',\n",
       " '[Tomatillo Red Chili Salsa, [Rice, Pinto Beans, Sour Cream, Guacamole, Lettuce]]',\n",
       " '[Fresh Tomato Salsa, [Rice, Cheese, Sour Cream, Guacamole]]',\n",
       " '[Fresh Tomato Salsa, [Rice, Black Beans, Cheese, Guacamole, Lettuce]]',\n",
       " '[Tomatillo-Red Chili Salsa (Hot), [Black Beans, Rice, Cheese, Sour Cream, Lettuce]]',\n",
       " '[Roasted Chili Corn Salsa (Medium), [Rice, Fajita Veggies, Cheese, Sour Cream, Lettuce]]',\n",
       " '[Roasted Chili Corn Salsa (Medium), [Rice, Fajita Veggies, Cheese, Sour Cream, Lettuce]]',\n",
       " '[Tomatillo-Green Chili Salsa (Medium), [Rice, Fajita Veggies, Lettuce]]',\n",
       " '[Tomatillo Green Chili Salsa, [Rice, Sour Cream, Guacamole, Lettuce]]',\n",
       " '[Tomatillo Green Chili Salsa, [Rice, Black Beans, Cheese]]',\n",
       " '[Tomatillo-Green Chili Salsa (Medium), [Black Beans, Rice, Cheese, Lettuce]]',\n",
       " '[Fresh Tomato Salsa (Mild), [Black Beans, Rice, Cheese, Sour Cream, Lettuce]]',\n",
       " '[Fresh Tomato Salsa, [Rice, Pinto Beans, Cheese]]',\n",
       " '[Fresh Tomato Salsa, [Cheese, Lettuce]]',\n",
       " '[Fresh Tomato Salsa, [Fajita Vegetables, Rice, Black Beans, Cheese]]',\n",
       " '[Fresh Tomato Salsa, [Rice, Sour Cream, Guacamole]]',\n",
       " '[Fresh Tomato Salsa, [Sour Cream, Cheese, Guacamole, Rice]]',\n",
       " '[Roasted Chili Corn Salsa, [Rice, Pinto Beans, Sour Cream, Cheese, Lettuce]]',\n",
       " '[Fresh Tomato Salsa, [Rice, Black Beans, Cheese]]',\n",
       " '[Fresh Tomato Salsa, [Fajita Vegetables, Rice, Black Beans, Cheese, Sour Cream, Lettuce]]',\n",
       " '[Roasted Chili Corn Salsa, [Fajita Vegetables, Rice, Black Beans, Cheese, Sour Cream, Lettuce]]',\n",
       " '[Fresh Tomato Salsa (Mild), [Black Beans, Rice, Cheese, Sour Cream, Lettuce]]',\n",
       " '[Tomatillo Red Chili Salsa, [Rice, Cheese, Lettuce]]',\n",
       " '[Roasted Chili Corn Salsa, [Cheese, Black Beans, Lettuce]]',\n",
       " '[Fresh Tomato Salsa, [Fajita Vegetables, Rice, Black Beans, Cheese, Guacamole, Lettuce]]',\n",
       " '[Roasted Chili Corn Salsa, [Rice, Cheese, Sour Cream, Guacamole, Lettuce]]',\n",
       " '[Roasted Chili Corn Salsa, [Fajita Vegetables, Rice, Black Beans, Cheese, Sour Cream, Guacamole, Lettuce]]',\n",
       " '[Roasted Chili Corn Salsa, [Rice, Pinto Beans, Cheese, Sour Cream, Lettuce]]',\n",
       " '[Roasted Chili Corn Salsa, [Fajita Vegetables, Rice, Black Beans, Pinto Beans, Guacamole, Lettuce]]',\n",
       " '[Fresh Tomato Salsa, [Rice, Black Beans, Cheese, Sour Cream, Lettuce]]',\n",
       " '[Tomatillo Green Chili Salsa, [Rice, Black Beans, Pinto Beans, Cheese, Guacamole, Lettuce]]',\n",
       " '[Tomatillo Green Chili Salsa, [Rice, Pinto Beans, Cheese, Sour Cream, Guacamole, Lettuce]]',\n",
       " '[Roasted Chili Corn Salsa, [Fajita Vegetables, Rice]]',\n",
       " '[Roasted Chili Corn Salsa, [Rice, Pinto Beans, Sour Cream, Cheese, Guacamole]]',\n",
       " '[[Tomatillo-Green Chili Salsa (Medium), Roasted Chili Corn Salsa (Medium), Tomatillo-Red Chili Salsa (Hot)], [Black Beans, Rice, Fajita Veggies, Lettuce]]',\n",
       " '[Tomatillo-Red Chili Salsa (Hot), [Black Beans, Fajita Veggies, Cheese, Sour Cream, Lettuce]]',\n",
       " '[Tomatillo-Red Chili Salsa (Hot), [Rice, Fajita Veggies, Cheese]]',\n",
       " '[Fresh Tomato Salsa (Mild), [Rice, Fajita Veggies, Cheese, Guacamole]]',\n",
       " '[[Fresh Tomato Salsa (Mild), Roasted Chili Corn Salsa (Medium)], [Black Beans, Rice, Fajita Veggies, Cheese, Sour Cream, Lettuce]]',\n",
       " '[[Fresh Tomato Salsa (Mild), Roasted Chili Corn Salsa (Medium)], [Pinto Beans, Black Beans, Rice, Fajita Veggies, Cheese, Sour Cream, Lettuce]]',\n",
       " '[Fresh Tomato Salsa, [Rice, Pinto Beans, Cheese]]',\n",
       " '[Fresh Tomato Salsa, [Rice, Black Beans, Sour Cream]]',\n",
       " '[Fresh Tomato Salsa, [Pinto Beans, Cheese, Sour Cream]]',\n",
       " '[Fresh Tomato Salsa, [Rice, Pinto Beans, Cheese, Lettuce]]',\n",
       " '[Tomatillo Red Chili Salsa, [Rice, Cheese, Sour Cream, Lettuce]]',\n",
       " '[Fresh Tomato Salsa, [Rice, Black Beans, Cheese, Sour Cream]]',\n",
       " '[Roasted Chili Corn Salsa, [Fajita Vegetables, Rice, Sour Cream, Guacamole, Lettuce]]',\n",
       " '[Tomatillo-Red Chili Salsa (Hot), [Pinto Beans, Rice, Cheese, Sour Cream, Guacamole]]',\n",
       " '[[Roasted Chili Corn Salsa (Medium), Tomatillo-Red Chili Salsa (Hot)], [Black Beans, Rice, Cheese, Sour Cream, Lettuce]]',\n",
       " '[Tomatillo-Red Chili Salsa (Hot), [Rice, Cheese, Sour Cream, Lettuce]]',\n",
       " '[Roasted Chili Corn Salsa (Medium), [Rice, Fajita Veggies, Cheese, Sour Cream, Lettuce]]',\n",
       " '[Roasted Chili Corn Salsa (Medium), [Rice, Fajita Veggies, Cheese, Sour Cream, Lettuce]]',\n",
       " '[Roasted Chili Corn Salsa (Medium), [Pinto Beans, Black Beans, Rice, Fajita Veggies, Lettuce]]',\n",
       " '[[Fresh Tomato Salsa (Mild), Tomatillo-Red Chili Salsa (Hot)], [Rice, Cheese, Sour Cream, Lettuce]]',\n",
       " '[Fresh Tomato Salsa, [Rice, Cheese, Lettuce]]',\n",
       " '[Fresh Tomato Salsa, [Rice, Cheese, Lettuce]]',\n",
       " '[Tomatillo Green Chili Salsa, [Rice, Sour Cream, Guacamole, Lettuce]]',\n",
       " '[Tomatillo Green Chili Salsa, [Rice, Black Beans, Cheese]]',\n",
       " '[Fresh Tomato Salsa, [Rice, Cheese, Sour Cream]]',\n",
       " '[Roasted Chili Corn Salsa (Medium), [Black Beans, Rice, Fajita Veggies, Cheese, Sour Cream]]',\n",
       " '[Tomatillo Red Chili Salsa, [Cheese, Sour Cream]]',\n",
       " '[[Roasted Chili Corn Salsa (Medium), Fresh Tomato Salsa (Mild)], [Rice, Black Beans, Cheese, Lettuce]]',\n",
       " '[Roasted Chili Corn Salsa (Medium), [Black Beans, Rice, Fajita Veggies, Cheese, Sour Cream, Lettuce]]',\n",
       " '[[Roasted Chili Corn Salsa (Medium), Tomatillo-Red Chili Salsa (Hot)], [Black Beans, Rice, Cheese, Sour Cream, Lettuce]]',\n",
       " '[Tomatillo Red Chili Salsa, [Rice, Black Beans, Pinto Beans, Cheese, Sour Cream, Lettuce]]',\n",
       " '[Fresh Tomato Salsa, [Fajita Vegetables, Rice, Black Beans, Pinto Beans, Guacamole, Lettuce]]',\n",
       " '[Tomatillo Red Chili Salsa, [Rice, Cheese, Sour Cream]]',\n",
       " '[Tomatillo-Red Chili Salsa (Hot), [Pinto Beans, Cheese, Sour Cream, Lettuce]]',\n",
       " '[Roasted Chili Corn Salsa, [Rice, Black Beans]]',\n",
       " '[Fresh Tomato (Mild), [Lettuce, Black Beans, Guacamole, Rice, Sour Cream, Cheese]]',\n",
       " '[[Roasted Chili Corn Salsa (Medium), Tomatillo-Red Chili Salsa (Hot)], [Black Beans, Rice, Cheese, Sour Cream, Lettuce]]',\n",
       " '[Tomatillo-Red Chili Salsa (Hot), [Pinto Beans, Rice, Cheese, Guacamole]]',\n",
       " '[Fresh Tomato Salsa, [Sour Cream, Rice, Guacamole, Lettuce]]',\n",
       " '[Fresh Tomato Salsa, [Rice, Pinto Beans, Cheese, Sour Cream, Guacamole, Lettuce]]',\n",
       " '[Fresh Tomato Salsa, [Fajita Vegetables, Rice, Pinto Beans, Cheese, Sour Cream, Guacamole, Lettuce]]',\n",
       " '[Roasted Chili Corn Salsa (Medium), [Black Beans, Rice, Cheese, Sour Cream, Lettuce]]',\n",
       " '[Fresh Tomato Salsa, [Fajita Vegetables, Rice, Black Beans, Guacamole, Lettuce]]',\n",
       " '[Tomatillo Green Chili Salsa, [Black Beans, Cheese, Guacamole, Lettuce]]',\n",
       " '[Tomatillo Red Chili Salsa, [Rice, Pinto Beans, Cheese]]',\n",
       " '[Tomatillo Red Chili Salsa, [Rice, Cheese, Lettuce]]',\n",
       " '[Tomatillo-Red Chili Salsa (Hot), [Black Beans, Rice, Fajita Veggies, Cheese]]',\n",
       " '[Roasted Chili Corn Salsa, [Rice, Pinto Beans, Sour Cream, Cheese, Lettuce]]',\n",
       " '[Fresh Tomato Salsa, [Rice, Sour Cream, Cheese, Guacamole]]',\n",
       " '[Fresh Tomato Salsa (Mild), [Black Beans, Rice, Fajita Veggies, Cheese, Sour Cream, Lettuce]]',\n",
       " '[Tomatillo-Red Chili Salsa (Hot), [Black Beans, Rice, Cheese, Sour Cream, Lettuce]]',\n",
       " '[Fresh Tomato Salsa, [Cheese, Rice, Black Beans, Lettuce]]',\n",
       " '[[Tomatillo-Green Chili Salsa (Medium), Roasted Chili Corn Salsa (Medium), Tomatillo-Red Chili Salsa (Hot)], [Black Beans, Rice, Cheese, Sour Cream, Guacamole, Lettuce]]',\n",
       " '[Tomatillo-Green Chili Salsa (Medium), [Rice, Cheese, Sour Cream, Lettuce]]',\n",
       " '[Fresh Tomato Salsa, [Rice, Black Beans, Cheese]]',\n",
       " '[Fresh Tomato Salsa, [Fajita Vegetables, Rice, Cheese, Lettuce]]',\n",
       " '[Fresh Tomato Salsa, [Rice, Black Beans, Cheese, Sour Cream]]',\n",
       " '[Tomatillo Red Chili Salsa, [Rice, Pinto Beans, Sour Cream, Guacamole, Lettuce]]',\n",
       " '[Tomatillo Red Chili Salsa, [Rice, Fajita Vegetables, Sour Cream, Cheese, Lettuce, Guacamole]]',\n",
       " '[Tomatillo Red Chili Salsa, [Rice, Cheese, Sour Cream]]',\n",
       " '[Tomatillo Green Chili Salsa, [Rice, Pinto Beans, Cheese, Sour Cream, Guacamole]]',\n",
       " '[Fresh Tomato Salsa, [Pinto Beans, Cheese, Sour Cream, Guacamole]]',\n",
       " '[Roasted Chili Corn Salsa (Medium), [Rice, Fajita Veggies, Cheese, Sour Cream]]',\n",
       " '[Roasted Chili Corn Salsa (Medium), [Rice, Fajita Veggies, Cheese, Sour Cream, Lettuce]]',\n",
       " '[[Roasted Chili Corn Salsa (Medium), Tomatillo-Red Chili Salsa (Hot)], [Black Beans, Rice, Cheese, Sour Cream, Lettuce]]',\n",
       " '[[Fresh Tomato Salsa (Mild), Tomatillo-Red Chili Salsa (Hot)], [Rice, Fajita Veggies, Cheese, Lettuce]]',\n",
       " '[[Fresh Tomato Salsa (Mild), Roasted Chili Corn Salsa (Medium)], [Black Beans, Rice, Cheese, Sour Cream, Lettuce]]',\n",
       " '[Roasted Chili Corn Salsa, [Rice, Pinto Beans, Cheese, Guacamole]]',\n",
       " '[Tomatillo Red Chili Salsa, [Fajita Vegetables, Rice, Pinto Beans, Cheese, Lettuce]]',\n",
       " '[Fresh Tomato Salsa, [Fajita Vegetables, Rice, Black Beans, Cheese, Guacamole, Lettuce]]',\n",
       " '[Fresh Tomato Salsa, [Rice, Fajita Vegetables, Sour Cream, Cheese, Guacamole]]',\n",
       " '[Fresh Tomato Salsa (Mild), [Black Beans, Rice, Fajita Veggies, Cheese, Sour Cream]]',\n",
       " '[Roasted Chili Corn Salsa, [Rice, Cheese, Sour Cream, Lettuce]]',\n",
       " '[Tomatillo-Green Chili Salsa (Medium), [Black Beans, Rice, Cheese]]',\n",
       " '[Tomatillo-Red Chili Salsa (Hot), [Black Beans, Rice, Cheese, Sour Cream, Guacamole, Lettuce]]',\n",
       " '[Fresh Tomato Salsa, [Rice, Cheese, Sour Cream, Lettuce]]',\n",
       " '[Tomatillo Green Chili Salsa, [Rice, Black Beans, Cheese, Sour Cream, Lettuce]]',\n",
       " '[Fresh Tomato Salsa (Mild), [Black Beans, Rice, Cheese, Sour Cream, Lettuce]]',\n",
       " '[Fresh Tomato Salsa, [Fajita Vegetables, Rice, Black Beans, Guacamole, Lettuce]]',\n",
       " '[Fresh Tomato Salsa, [Rice, Black Beans, Cheese, Sour Cream]]',\n",
       " '[Tomatillo Red Chili Salsa, [Rice, Cheese]]',\n",
       " '[Tomatillo Green Chili Salsa, [Rice, Black Beans, Cheese, Lettuce]]',\n",
       " '[Tomatillo Red Chili Salsa, [Rice, Pinto Beans, Cheese]]',\n",
       " '[Tomatillo Red Chili Salsa, [Sour Cream, Cheese, Rice]]',\n",
       " '[Fresh Tomato Salsa, [Rice, Pinto Beans, Cheese, Lettuce]]',\n",
       " '[Fresh Tomato Salsa, [Rice, Sour Cream, Cheese, Guacamole]]',\n",
       " '[Tomatillo Red Chili Salsa, [Cheese, Black Beans, Rice, Lettuce, Sour Cream]]',\n",
       " '[Fresh Tomato Salsa (Mild), [Fajita Veggies, Cheese, Sour Cream, Lettuce]]',\n",
       " '[[Rice, Cheese]]',\n",
       " '[Fresh Tomato (Mild), [Black Beans, Guacamole, Rice, Sour Cream, Cheese]]',\n",
       " '[Tomatillo-Red Chili Salsa (Hot), [Rice, Cheese, Sour Cream, Lettuce]]',\n",
       " '[[Roasted Chili Corn Salsa (Medium), Tomatillo-Green Chili Salsa (Medium)], [Rice, Black Beans, Sour Cream]]',\n",
       " '[[Black Beans, Rice, Cheese]]',\n",
       " '[[Roasted Chili Corn Salsa (Medium), Tomatillo-Red Chili Salsa (Hot), Fresh Tomato Salsa (Mild)], [Rice, Pinto Beans, Fajita Veggies, Cheese, Sour Cream, Lettuce]]',\n",
       " '[[Fresh Tomato Salsa (Mild), Roasted Chili Corn Salsa (Medium), Tomatillo-Red Chili Salsa (Hot)], [Black Beans, Rice, Fajita Veggies, Lettuce]]',\n",
       " '[Tomatillo Red Chili Salsa, [Rice, Black Beans, Lettuce]]',\n",
       " '[Tomatillo Red Chili Salsa, [Rice, Black Beans, Lettuce]]',\n",
       " '[[Tomatillo-Red Chili Salsa (Hot), Tomatillo-Green Chili Salsa (Medium)], [Rice, Black Beans, Cheese, Lettuce]]',\n",
       " '[Tomatillo Green Chili Salsa, [Rice, Sour Cream, Guacamole, Lettuce]]',\n",
       " '[Roasted Chili Corn Salsa (Medium), Lettuce]',\n",
       " '[Fresh Tomato Salsa, [Pinto Beans, Cheese, Sour Cream]]',\n",
       " '[Roasted Chili Corn Salsa (Medium), [Rice, Pinto Beans, Cheese, Lettuce]]',\n",
       " '[Fresh Tomato Salsa, [Guacamole, Lettuce, Sour Cream, Rice]]',\n",
       " '[Roasted Chili Corn Salsa, [Rice, Pinto Beans, Cheese, Sour Cream, Guacamole]]',\n",
       " '[Fresh Tomato Salsa (Mild), [Rice, Fajita Veggies, Cheese, Sour Cream, Guacamole]]',\n",
       " '[Fresh Tomato Salsa (Mild), [Pinto Beans, Rice, Cheese, Sour Cream]]',\n",
       " '[Fresh Tomato Salsa, [Rice, Black Beans, Cheese, Lettuce]]',\n",
       " '[Tomatillo Red Chili Salsa, [Fajita Vegetables, Rice, Pinto Beans, Cheese, Lettuce]]',\n",
       " '[Fresh Tomato Salsa, [Fajita Vegetables, Rice, Black Beans, Cheese, Guacamole, Lettuce]]',\n",
       " '[Fresh Tomato Salsa, [Sour Cream, Cheese, Pinto Beans, Rice]]',\n",
       " '[Fresh Tomato Salsa, [Black Beans, Cheese, Guacamole, Lettuce]]',\n",
       " '[[Roasted Chili Corn Salsa (Medium), Tomatillo-Red Chili Salsa (Hot)], [Black Beans, Rice, Cheese, Sour Cream, Lettuce]]',\n",
       " '[Fresh Tomato (Mild), [Lettuce, Guacamole, Pinto Beans, Rice, Sour Cream, Cheese]]',\n",
       " '[Fresh Tomato (Mild), [Lettuce, Rice]]',\n",
       " '[Fresh Tomato Salsa, [Rice, Cheese, Guacamole, Lettuce]]',\n",
       " '[Fresh Tomato Salsa, [Rice, Pinto Beans, Cheese, Sour Cream, Guacamole]]',\n",
       " '[Roasted Chili Corn Salsa (Medium), [Rice, Fajita Veggies, Cheese, Sour Cream, Lettuce]]',\n",
       " '[Fresh Tomato Salsa, [Rice, Black Beans, Cheese, Sour Cream]]',\n",
       " '[Tomatillo-Red Chili Salsa (Hot), [Guacamole, Lettuce, Sour Cream, Rice, Cheese, Black Beans]]',\n",
       " '[Fresh Tomato Salsa, [Rice, Black Beans, Cheese, Lettuce]]',\n",
       " '[Fresh Tomato Salsa (Mild), [Black Beans, Rice, Cheese, Sour Cream, Guacamole, Lettuce]]',\n",
       " '[Roasted Chili Corn Salsa, [Rice, Black Beans, Sour Cream, Lettuce]]',\n",
       " '[Fresh Tomato Salsa, [Rice, Cheese, Lettuce, Pinto Beans]]',\n",
       " '[Fresh Tomato Salsa, [Rice, Guacamole, Cheese, Sour Cream]]',\n",
       " '[Roasted Chili Corn Salsa, [Rice, Pinto Beans, Cheese]]',\n",
       " '[Roasted Chili Corn Salsa, [Black Beans, Cheese, Sour Cream]]',\n",
       " '[Fresh Tomato Salsa, [Rice, Cheese, Sour Cream, Guacamole]]',\n",
       " '[Roasted Chili Corn Salsa, [Rice, Black Beans, Sour Cream, Cheese, Lettuce]]',\n",
       " '[[Fresh Tomato Salsa (Mild), Tomatillo-Green Chili Salsa (Medium), Roasted Chili Corn Salsa (Medium)], [Pinto Beans, Rice, Fajita Veggies, Cheese, Lettuce]]',\n",
       " '[Tomatillo-Green Chili Salsa (Medium), [Pinto Beans, Rice, Fajita Veggies, Cheese, Sour Cream, Guacamole, Lettuce]]',\n",
       " '[Tomatillo-Red Chili Salsa (Hot), [Pinto Beans, Rice, Fajita Veggies, Cheese, Sour Cream]]',\n",
       " '[[Fresh Tomato Salsa (Mild), Tomatillo-Red Chili Salsa (Hot)], [Rice, Cheese, Sour Cream, Guacamole, Lettuce]]',\n",
       " '[Fresh Tomato Salsa, [Rice, Black Beans, Cheese, Sour Cream, Lettuce]]',\n",
       " '[Roasted Chili Corn Salsa, [Rice, Black Beans, Lettuce]]',\n",
       " '[Roasted Chili Corn Salsa, [Fajita Vegetables, Rice, Pinto Beans, Cheese, Sour Cream, Lettuce]]',\n",
       " '[Fresh Tomato Salsa, [Rice, Black Beans, Lettuce, Cheese]]',\n",
       " '[Fresh Tomato Salsa, [Rice, Pinto Beans, Cheese]]',\n",
       " '[Fresh Tomato Salsa, [Rice, Black Beans, Cheese, Sour Cream, Guacamole]]',\n",
       " '[[Fresh Tomato Salsa (Mild), Tomatillo-Red Chili Salsa (Hot)], [Pinto Beans, Rice, Cheese, Sour Cream]]',\n",
       " '[[Fresh Tomato Salsa (Mild), Roasted Chili Corn Salsa (Medium), Tomatillo-Red Chili Salsa (Hot)], [Black Beans, Rice, Fajita Veggies, Lettuce]]',\n",
       " '[Fresh Tomato Salsa (Mild), [Pinto Beans, Rice, Cheese, Sour Cream, Lettuce]]',\n",
       " '[Fresh Tomato Salsa, [Rice, Cheese, Sour Cream, Guacamole, Lettuce]]',\n",
       " '[Fresh Tomato Salsa (Mild), [Pinto Beans, Rice, Cheese, Sour Cream, Lettuce]]',\n",
       " '[Roasted Chili Corn Salsa (Medium), [Black Beans, Rice, Cheese, Sour Cream]]',\n",
       " '[Fresh Tomato Salsa, [Rice, Black Beans, Cheese]]',\n",
       " '[Fresh Tomato Salsa, [Fajita Vegetables, Rice, Black Beans, Cheese, Guacamole]]',\n",
       " '[Tomatillo-Red Chili Salsa (Hot), [Rice, Black Beans, Cheese, Lettuce]]',\n",
       " '[Roasted Chili Corn Salsa, [Fajita Vegetables, Rice, Sour Cream, Guacamole, Lettuce]]',\n",
       " '[Roasted Chili Corn Salsa, [Fajita Vegetables, Rice, Cheese, Sour Cream, Guacamole, Lettuce]]',\n",
       " '[Roasted Chili Corn Salsa, [Fajita Vegetables, Rice, Cheese, Sour Cream, Guacamole, Lettuce]]',\n",
       " '[Fresh Tomato Salsa, [Pinto Beans, Lettuce, Cheese, Rice]]',\n",
       " '[Fresh Tomato Salsa, [Rice, Guacamole, Cheese, Sour Cream]]',\n",
       " '[Tomatillo Green Chili Salsa, [Cheese, Lettuce, Rice, Pinto Beans]]',\n",
       " '[Fresh Tomato Salsa, [Fajita Vegetables, Rice, Black Beans, Cheese, Guacamole, Lettuce]]',\n",
       " '[Tomatillo Red Chili Salsa, [Rice, Pinto Beans, Sour Cream, Guacamole, Lettuce]]',\n",
       " '[Fresh Tomato Salsa, [Fajita Vegetables, Rice, Black Beans, Cheese]]',\n",
       " '[Fresh Tomato Salsa, [Rice, Cheese]]',\n",
       " '[Tomatillo Red Chili Salsa, [Rice, Black Beans, Cheese, Sour Cream]]',\n",
       " '[Fresh Tomato Salsa, [Rice, Pinto Beans, Cheese, Lettuce]]',\n",
       " '[[Fresh Tomato Salsa (Mild), Roasted Chili Corn Salsa (Medium)], [Rice, Fajita Veggies, Cheese, Lettuce]]',\n",
       " '[[Roasted Chili Corn Salsa (Medium), Tomatillo-Red Chili Salsa (Hot)], [Cheese, Lettuce]]',\n",
       " '[[Fresh Tomato Salsa (Mild), Tomatillo-Red Chili Salsa (Hot)], [Rice, Cheese, Sour Cream]]',\n",
       " '[Fresh Tomato Salsa, [Rice, Pinto Beans, Cheese, Sour Cream, Lettuce]]',\n",
       " '[Fresh Tomato Salsa, [Rice, Black Beans, Cheese, Lettuce]]',\n",
       " '[Tomatillo-Red Chili Salsa (Hot), [Black Beans, Rice, Cheese, Sour Cream, Guacamole, Lettuce]]',\n",
       " '[Fresh Tomato Salsa, [Rice, Black Beans, Cheese]]',\n",
       " '[Fresh Tomato Salsa, [Fajita Vegetables, Rice, Black Beans, Pinto Beans, Cheese, Sour Cream, Guacamole, Lettuce]]',\n",
       " '[Fresh Tomato Salsa, [Rice, Sour Cream, Cheese, Lettuce]]',\n",
       " '[Roasted Chili Corn Salsa, [Rice, Black Beans, Cheese]]',\n",
       " '[Fresh Tomato Salsa, [Rice, Black Beans, Cheese, Sour Cream, Lettuce]]',\n",
       " '[Roasted Chili Corn Salsa, [Rice, Black Beans, Cheese, Lettuce]]',\n",
       " '[Roasted Chili Corn Salsa, [Fajita Vegetables, Rice, Black Beans, Cheese, Sour Cream]]',\n",
       " '[Roasted Chili Corn Salsa, [Fajita Vegetables, Rice, Black Beans, Pinto Beans, Cheese, Lettuce]]',\n",
       " '[[Fresh Tomato Salsa (Mild), Tomatillo-Green Chili Salsa (Medium), Roasted Chili Corn Salsa (Medium)], [Black Beans, Rice, Fajita Veggies, Sour Cream, Lettuce]]',\n",
       " '[[Fresh Tomato Salsa (Mild), Roasted Chili Corn Salsa (Medium)], [Rice, Fajita Veggies, Sour Cream]]',\n",
       " '[Fresh Tomato Salsa, [Fajita Vegetables, Rice, Black Beans, Cheese, Sour Cream, Guacamole, Lettuce]]',\n",
       " '[Roasted Chili Corn Salsa, Fajita Vegetables]',\n",
       " '[Tomatillo Green Chili Salsa, [Fajita Vegetables, Sour Cream]]',\n",
       " '[[Lettuce, Fajita Veggies, Rice]]',\n",
       " '[Tomatillo Red Chili Salsa, [Rice, Black Beans, Cheese, Guacamole]]',\n",
       " '[Tomatillo Red Chili Salsa, [Rice, Sour Cream]]',\n",
       " '[Fresh Tomato Salsa, [Rice, Black Beans, Pinto Beans, Cheese, Sour Cream, Lettuce]]',\n",
       " '[[Rice, Cheese]]',\n",
       " '[Fresh Tomato (Mild), [Guacamole, Rice, Sour Cream, Cheese]]',\n",
       " '[Tomatillo Green Chili Salsa, [Cheese, Lettuce, Pinto Beans, Rice]]',\n",
       " '[Tomatillo Red Chili Salsa, [Rice, Black Beans]]',\n",
       " '[Fresh Tomato Salsa, [Rice, Sour Cream, Cheese, Lettuce, Guacamole]]',\n",
       " '[Fresh Tomato (Mild), [Lettuce, Rice]]',\n",
       " '[Fresh Tomato (Mild), [Lettuce, Pinto Beans, Rice, Sour Cream, Cheese]]',\n",
       " '[[Lettuce, Fajita Veggies, Rice]]',\n",
       " '[Tomatillo Red Chili Salsa, [Rice, Black Beans, Cheese, Sour Cream, Lettuce]]',\n",
       " '[[Lettuce, Fajita Veggies, Rice]]',\n",
       " '[[Lettuce, Fajita Veggies, Rice]]',\n",
       " '[Roasted Chili Corn Salsa, [Fajita Vegetables, Rice, Black Beans, Cheese, Sour Cream, Guacamole, Lettuce]]',\n",
       " '[Tomatillo Red Chili Salsa, [Rice, Pinto Beans, Sour Cream, Guacamole, Lettuce]]',\n",
       " '[Roasted Chili Corn Salsa, [Rice, Pinto Beans, Sour Cream, Cheese, Guacamole]]',\n",
       " '[Tomatillo-Green Chili Salsa (Medium), [Rice, Fajita Veggies, Cheese, Sour Cream, Lettuce]]',\n",
       " '[Tomatillo-Red Chili Salsa (Hot), [Rice, Cheese, Sour Cream, Guacamole]]',\n",
       " '[Fresh Tomato Salsa, [Rice, Black Beans, Cheese, Sour Cream, Lettuce]]',\n",
       " '[Tomatillo Green Chili Salsa, [Rice, Black Beans, Cheese, Sour Cream, Lettuce]]',\n",
       " '[Fresh Tomato Salsa, [Rice, Black Beans, Cheese, Lettuce]]',\n",
       " '[Roasted Chili Corn Salsa, [Rice, Pinto Beans, Cheese, Lettuce]]',\n",
       " '[Tomatillo Green Chili Salsa, [Rice, Black Beans, Sour Cream, Lettuce]]',\n",
       " '[Tomatillo-Green Chili Salsa (Medium), [Pinto Beans, Rice, Cheese, Sour Cream]]',\n",
       " '[Roasted Chili Corn Salsa (Medium), [Black Beans, Fajita Veggies, Cheese, Sour Cream, Guacamole]]',\n",
       " '[Roasted Chili Corn Salsa (Medium), [Black Beans, Rice, Cheese, Sour Cream]]',\n",
       " '[Tomatillo-Green Chili Salsa (Medium), [Black Beans, Rice, Fajita Veggies, Cheese, Sour Cream, Lettuce]]',\n",
       " '[Fresh Tomato Salsa, [Fajita Vegetables, Rice, Black Beans, Cheese, Sour Cream, Guacamole]]',\n",
       " '[Fresh Tomato Salsa, [Rice, Black Beans, Cheese, Sour Cream]]',\n",
       " '[Fresh Tomato Salsa, [Rice, Black Beans, Cheese, Sour Cream]]',\n",
       " '[Tomatillo Red Chili Salsa, [Rice, Black Beans, Cheese, Lettuce]]',\n",
       " '[Fresh Tomato Salsa (Mild), [Black Beans, Rice, Fajita Veggies, Cheese]]',\n",
       " '[Fresh Tomato Salsa (Mild), [Black Beans, Rice, Fajita Veggies, Cheese]]',\n",
       " '[Roasted Chili Corn Salsa (Medium), [Black Beans, Lettuce]]',\n",
       " '[Tomatillo Green Chili Salsa, [Rice, Black Beans, Lettuce]]',\n",
       " '[Roasted Chili Corn Salsa (Medium), [Rice, Pinto Beans, Lettuce]]',\n",
       " '[Fresh Tomato Salsa, [Rice, Pinto Beans, Cheese, Guacamole, Lettuce]]',\n",
       " '[Roasted Chili Corn Salsa, [Rice, Pinto Beans, Cheese, Sour Cream, Lettuce]]',\n",
       " '[Fresh Tomato Salsa]',\n",
       " '[Fresh Tomato Salsa, Rice]',\n",
       " '[Tomatillo Green Chili Salsa, [Rice, Black Beans, Pinto Beans, Cheese, Sour Cream, Guacamole, Lettuce]]',\n",
       " '[Fresh Tomato Salsa, [Rice, Cheese, Sour Cream]]',\n",
       " '[Roasted Chili Corn Salsa (Medium), [Pinto Beans, Rice, Fajita Veggies, Cheese, Lettuce]]',\n",
       " '[Tomatillo Green Chili Salsa, [Rice, Fajita Vegetables, Sour Cream, Cheese, Lettuce]]',\n",
       " '[Tomatillo-Green Chili Salsa (Medium), [Rice, Fajita Veggies, Cheese, Lettuce]]',\n",
       " '[Fresh Tomato Salsa, [Rice, Pinto Beans, Cheese, Sour Cream]]',\n",
       " '[Fresh Tomato Salsa, [Rice, Black Beans, Cheese, Sour Cream, Lettuce]]',\n",
       " '[Fresh Tomato Salsa, [Cheese, Sour Cream, Guacamole, Lettuce]]',\n",
       " '[[Roasted Chili Corn Salsa (Medium), Tomatillo-Red Chili Salsa (Hot), Fresh Tomato Salsa (Mild)], [Rice, Black Beans, Pinto Beans, Cheese, Sour Cream, Lettuce]]',\n",
       " '[Roasted Chili Corn Salsa (Medium), [Sour Cream, Cheese, Black Beans, Rice]]',\n",
       " '[Roasted Chili Corn Salsa, [Guacamole, Lettuce, Rice, Fajita Vegetables, Sour Cream]]',\n",
       " '[Tomatillo Red Chili Salsa, [Rice, Cheese, Sour Cream, Lettuce]]',\n",
       " '[Fresh Tomato Salsa, [Rice, Cheese, Lettuce]]',\n",
       " '[Tomatillo Red Chili Salsa, [Fajita Vegetables, Rice, Cheese]]',\n",
       " '[Roasted Chili Corn Salsa, [Rice, Black Beans, Cheese, Sour Cream, Guacamole, Lettuce]]',\n",
       " '[Roasted Chili Corn Salsa (Medium), [Black Beans, Rice, Cheese, Sour Cream]]',\n",
       " '[Tomatillo-Red Chili Salsa (Hot), [Black Beans, Rice]]',\n",
       " '[Fresh Tomato Salsa, [Fajita Vegetables, Rice, Black Beans, Cheese, Sour Cream, Lettuce]]',\n",
       " '[[Fresh Tomato Salsa (Mild), Tomatillo-Red Chili Salsa (Hot)], [Rice, Cheese, Sour Cream]]',\n",
       " '[[Fresh Tomato Salsa (Mild), Roasted Chili Corn Salsa (Medium)], [Pinto Beans, Rice, Fajita Veggies, Cheese, Sour Cream]]',\n",
       " '[Fresh Tomato Salsa, [Rice, Black Beans, Cheese, Sour Cream, Guacamole, Lettuce]]',\n",
       " '[[Tomatillo-Green Chili Salsa (Medium), Roasted Chili Corn Salsa (Medium), Tomatillo-Red Chili Salsa (Hot)], [Black Beans, Rice, Fajita Veggies, Lettuce]]',\n",
       " '[Fresh Tomato Salsa, [Rice, Pinto Beans, Cheese, Sour Cream]]',\n",
       " '[Fresh Tomato Salsa, [Rice, Black Beans, Cheese]]',\n",
       " '[Fresh Tomato Salsa, [Rice, Black Beans, Cheese, Sour Cream]]',\n",
       " '[Fresh Tomato Salsa, [Rice, Black Beans, Cheese, Sour Cream, Lettuce]]',\n",
       " '[Fresh Tomato Salsa, [Rice, Black Beans, Cheese, Sour Cream, Lettuce]]',\n",
       " '[Fresh Tomato Salsa, [Rice, Black Beans, Cheese, Sour Cream, Guacamole, Lettuce]]',\n",
       " '[Tomatillo Red Chili Salsa, [Rice, Black Beans, Cheese]]',\n",
       " '[Fresh Tomato Salsa, [Rice, Cheese, Lettuce]]',\n",
       " '[Fresh Tomato Salsa, [Fajita Vegetables, Rice, Black Beans, Cheese]]',\n",
       " '[Roasted Chili Corn Salsa, [Fajita Vegetables, Rice, Pinto Beans, Cheese, Sour Cream, Lettuce]]',\n",
       " '[Fresh Tomato Salsa, [Fajita Vegetables, Rice, Black Beans, Cheese, Sour Cream, Guacamole, Lettuce]]',\n",
       " '[Tomatillo Red Chili Salsa, [Rice, Fajita Vegetables, Black Beans, Sour Cream, Cheese, Lettuce, Guacamole]]',\n",
       " '[Tomatillo Red Chili Salsa, [Rice, Fajita Vegetables, Pinto Beans, Sour Cream, Cheese]]',\n",
       " '[Fresh Tomato Salsa (Mild), [Rice, Fajita Veggies, Cheese, Sour Cream, Guacamole, Lettuce]]',\n",
       " '[Tomatillo Green Chili Salsa, [Rice, Fajita Vegetables, Pinto Beans, Sour Cream, Cheese]]',\n",
       " '[Fresh Tomato Salsa, [Fajita Vegetables, Rice, Black Beans, Guacamole, Lettuce]]',\n",
       " '[Tomatillo Green Chili Salsa, [Rice, Pinto Beans, Sour Cream]]',\n",
       " '[Fresh Tomato Salsa, [Rice, Black Beans, Cheese, Sour Cream]]',\n",
       " '[Tomatillo Red Chili Salsa, [Fajita Vegetables, Rice, Black Beans, Cheese, Sour Cream, Guacamole, Lettuce]]',\n",
       " '[Tomatillo-Green Chili Salsa (Medium), [Rice, Cheese, Sour Cream]]',\n",
       " '[Tomatillo Red Chili Salsa, [Rice, Cheese, Sour Cream, Lettuce]]',\n",
       " '[Fresh Tomato Salsa, [Rice, Cheese, Guacamole, Lettuce]]',\n",
       " '[[Tomatillo-Green Chili Salsa (Medium), Roasted Chili Corn Salsa (Medium), Tomatillo-Red Chili Salsa (Hot)], [Black Beans, Rice, Fajita Veggies, Lettuce]]',\n",
       " '[[Lettuce, Rice]]',\n",
       " '[Rice]',\n",
       " '[Roasted Chili Corn Salsa, [Fajita Vegetables, Rice, Black Beans, Sour Cream, Guacamole]]',\n",
       " '[Fresh Tomato Salsa, [Rice, Cheese, Sour Cream, Lettuce]]',\n",
       " '[Fresh Tomato Salsa, [Rice, Cheese, Sour Cream, Lettuce]]',\n",
       " '[Tomatillo-Red Chili Salsa (Hot), [Black Beans, Rice, Fajita Veggies, Cheese, Sour Cream, Lettuce]]',\n",
       " ...]"
      ]
     },
     "execution_count": 30,
     "metadata": {},
     "output_type": "execute_result"
    }
   ],
   "source": [
    "[(i['choice_description']) for i in data_dicts if \"Burrito\" in i['item_name']]"
   ]
  },
  {
   "cell_type": "code",
   "execution_count": 31,
   "metadata": {},
   "outputs": [
    {
     "name": "stdout",
     "output_type": "stream",
     "text": [
      "Tomatillo Red Chili Salsa, Fajita Vegetables, Black Beans, Pinto Beans, Cheese, Sour Cream, Guacamole, Lettuce\n"
     ]
    }
   ],
   "source": [
    "print('[Tomatillo Red Chili Salsa, [Fajita Vegetables, Black Beans, Pinto Beans, Cheese, Sour Cream, Guacamole, Lettuce]]'\n",
    "     .replace('[','').replace(']','')\n",
    "     )"
   ]
  },
  {
   "cell_type": "code",
   "execution_count": 32,
   "metadata": {},
   "outputs": [],
   "source": [
    "toppings_per_burrito = [i['choice_description'].replace('[','').replace(']','') for i in data_dicts if \"Burrito\" in i['item_name']]"
   ]
  },
  {
   "cell_type": "code",
   "execution_count": 33,
   "metadata": {},
   "outputs": [
    {
     "data": {
      "text/plain": [
       "['TomatilloRedChiliSalsa',\n",
       " 'FajitaVegetables',\n",
       " 'BlackBeans',\n",
       " 'PintoBeans',\n",
       " 'Cheese',\n",
       " 'SourCream',\n",
       " 'Guacamole',\n",
       " 'Lettuce']"
      ]
     },
     "execution_count": 33,
     "metadata": {},
     "output_type": "execute_result"
    }
   ],
   "source": [
    "list(toppings_per_burrito[0].replace(' ','').split(','))"
   ]
  },
  {
   "cell_type": "code",
   "execution_count": 34,
   "metadata": {},
   "outputs": [],
   "source": [
    "toppings_per_burrito_clean = [list(i.replace(' ','').split(',')) for i in toppings_per_burrito]"
   ]
  },
  {
   "cell_type": "code",
   "execution_count": 35,
   "metadata": {},
   "outputs": [
    {
     "data": {
      "text/plain": [
       "[['TomatilloRedChiliSalsa',\n",
       "  'FajitaVegetables',\n",
       "  'BlackBeans',\n",
       "  'PintoBeans',\n",
       "  'Cheese',\n",
       "  'SourCream',\n",
       "  'Guacamole',\n",
       "  'Lettuce'],\n",
       " ['FreshTomatoSalsa',\n",
       "  'Rice',\n",
       "  'BlackBeans',\n",
       "  'PintoBeans',\n",
       "  'Cheese',\n",
       "  'SourCream',\n",
       "  'Lettuce'],\n",
       " ['Tomatillo-GreenChiliSalsa(Medium)', 'PintoBeans', 'Cheese', 'SourCream'],\n",
       " ['FreshTomatoSalsa(Mild)',\n",
       "  'BlackBeans',\n",
       "  'Rice',\n",
       "  'Cheese',\n",
       "  'SourCream',\n",
       "  'Lettuce'],\n",
       " ['FreshTomatoSalsa(Mild)',\n",
       "  'Tomatillo-GreenChiliSalsa(Medium)',\n",
       "  'Tomatillo-RedChiliSalsa(Hot)',\n",
       "  'Rice',\n",
       "  'Cheese',\n",
       "  'SourCream',\n",
       "  'Lettuce'],\n",
       " ['Tomatillo-GreenChiliSalsa(Medium)',\n",
       "  'Tomatillo-RedChiliSalsa(Hot)',\n",
       "  'PintoBeans',\n",
       "  'Rice',\n",
       "  'Cheese',\n",
       "  'SourCream',\n",
       "  'Guacamole',\n",
       "  'Lettuce'],\n",
       " ['Tomatillo-GreenChiliSalsa(Medium)',\n",
       "  'RoastedChiliCornSalsa(Medium)',\n",
       "  'BlackBeans',\n",
       "  'Rice',\n",
       "  'SourCream',\n",
       "  'Lettuce'],\n",
       " ['Tomatillo-GreenChiliSalsa(Medium)',\n",
       "  'PintoBeans',\n",
       "  'Rice',\n",
       "  'Cheese',\n",
       "  'SourCream'],\n",
       " ['RoastedChiliCornSalsa(Medium)',\n",
       "  'FreshTomatoSalsa(Mild)',\n",
       "  'Rice',\n",
       "  'BlackBeans',\n",
       "  'SourCream'],\n",
       " ['FreshTomatoSalsa',\n",
       "  'Rice',\n",
       "  'PintoBeans',\n",
       "  'Cheese',\n",
       "  'SourCream',\n",
       "  'Guacamole',\n",
       "  'Lettuce'],\n",
       " ['Tomatillo-RedChiliSalsa(Hot)',\n",
       "  'BlackBeans',\n",
       "  'FajitaVeggies',\n",
       "  'Cheese',\n",
       "  'SourCream',\n",
       "  'Guacamole',\n",
       "  'Lettuce'],\n",
       " ['Tomatillo-RedChiliSalsa(Hot)', 'Rice', 'FajitaVeggies', 'Cheese'],\n",
       " ['FreshTomatoSalsa(Mild)',\n",
       "  'RoastedChiliCornSalsa(Medium)',\n",
       "  'Tomatillo-RedChiliSalsa(Hot)',\n",
       "  'BlackBeans',\n",
       "  'Rice',\n",
       "  'SourCream'],\n",
       " ['RoastedChiliCornSalsa(Medium)',\n",
       "  'Rice',\n",
       "  'FajitaVeggies',\n",
       "  'Cheese',\n",
       "  'SourCream',\n",
       "  'Lettuce'],\n",
       " ['RoastedChiliCornSalsa(Medium)',\n",
       "  'BlackBeans',\n",
       "  'Rice',\n",
       "  'FajitaVeggies',\n",
       "  'Cheese',\n",
       "  'SourCream',\n",
       "  'Guacamole',\n",
       "  'Lettuce'],\n",
       " ['TomatilloRedChiliSalsa',\n",
       "  'FajitaVegetables',\n",
       "  'Rice',\n",
       "  'BlackBeans',\n",
       "  'Cheese',\n",
       "  'SourCream',\n",
       "  'Guacamole',\n",
       "  'Lettuce'],\n",
       " ['FreshTomatoSalsa', 'Rice', 'BlackBeans', 'Cheese'],\n",
       " ['Tomatillo-RedChiliSalsa(Hot)',\n",
       "  'BlackBeans',\n",
       "  'Rice',\n",
       "  'FajitaVeggies',\n",
       "  'Cheese',\n",
       "  'SourCream',\n",
       "  'Lettuce'],\n",
       " ['Tomatillo-RedChiliSalsa(Hot)', 'Rice', 'Cheese'],\n",
       " ['Tomatillo-RedChiliSalsa(Hot)',\n",
       "  'BlackBeans',\n",
       "  'FajitaVeggies',\n",
       "  'Cheese',\n",
       "  'SourCream',\n",
       "  'Guacamole',\n",
       "  'Lettuce'],\n",
       " ['RoastedChiliCornSalsa(Medium)', 'Rice', 'BlackBeans', 'SourCream'],\n",
       " ['Tomatillo-RedChiliSalsa(Hot)',\n",
       "  'BlackBeans',\n",
       "  'Rice',\n",
       "  'Cheese',\n",
       "  'SourCream',\n",
       "  'Lettuce'],\n",
       " ['TomatilloRedChiliSalsa', 'Rice', 'BlackBeans', 'Cheese', 'SourCream'],\n",
       " ['FreshTomatoSalsa', 'Rice', 'PintoBeans', 'Cheese', 'SourCream', 'Lettuce'],\n",
       " ['FreshTomatoSalsa', 'Rice', 'BlackBeans', 'Cheese', 'SourCream', 'Lettuce'],\n",
       " ['TomatilloGreenChiliSalsa', 'Rice', 'BlackBeans', 'SourCream', 'Cheese'],\n",
       " ['FreshTomatoSalsa', 'Rice', 'PintoBeans', 'SourCream', 'Cheese'],\n",
       " ['RoastedChiliCornSalsa', 'SourCream', 'Guacamole'],\n",
       " ['TomatilloRedChiliSalsa', 'Rice', 'BlackBeans', 'Cheese'],\n",
       " ['Tomatillo-GreenChiliSalsa(Medium)',\n",
       "  'Rice',\n",
       "  'Cheese',\n",
       "  'SourCream',\n",
       "  'Lettuce'],\n",
       " ['FreshTomatoSalsa(Mild)',\n",
       "  'BlackBeans',\n",
       "  'Rice',\n",
       "  'FajitaVeggies',\n",
       "  'SourCream',\n",
       "  'Lettuce'],\n",
       " ['RoastedChiliCornSalsa(Medium)',\n",
       "  'Rice',\n",
       "  'BlackBeans',\n",
       "  'FajitaVeggies',\n",
       "  'SourCream'],\n",
       " ['RoastedChiliCornSalsa',\n",
       "  'FajitaVegetables',\n",
       "  'Rice',\n",
       "  'Cheese',\n",
       "  'SourCream',\n",
       "  'Lettuce'],\n",
       " ['Tomatillo-GreenChiliSalsa(Medium)',\n",
       "  'PintoBeans',\n",
       "  'Rice',\n",
       "  'Cheese',\n",
       "  'SourCream'],\n",
       " ['Tomatillo-RedChiliSalsa(Hot)',\n",
       "  'Tomatillo-GreenChiliSalsa(Medium)',\n",
       "  'Rice',\n",
       "  'PintoBeans',\n",
       "  'Cheese',\n",
       "  'Lettuce'],\n",
       " ['TomatilloRedChiliSalsa',\n",
       "  'Rice',\n",
       "  'BlackBeans',\n",
       "  'SourCream',\n",
       "  'Cheese',\n",
       "  'Lettuce'],\n",
       " ['TomatilloGreenChiliSalsa',\n",
       "  'Rice',\n",
       "  'BlackBeans',\n",
       "  'SourCream',\n",
       "  'Cheese',\n",
       "  'Lettuce'],\n",
       " ['RoastedChiliCornSalsa(Medium)',\n",
       "  'Rice',\n",
       "  'BlackBeans',\n",
       "  'FajitaVeggies',\n",
       "  'SourCream'],\n",
       " ['RoastedChiliCornSalsa',\n",
       "  'Rice',\n",
       "  'PintoBeans',\n",
       "  'Cheese',\n",
       "  'Guacamole',\n",
       "  'Lettuce'],\n",
       " ['Tomatillo-GreenChiliSalsa(Medium)',\n",
       "  'PintoBeans',\n",
       "  'Rice',\n",
       "  'Cheese',\n",
       "  'SourCream'],\n",
       " ['RoastedChiliCornSalsa(Medium)',\n",
       "  'Rice',\n",
       "  'BlackBeans',\n",
       "  'SourCream',\n",
       "  'Guacamole'],\n",
       " ['TomatilloRedChiliSalsa', 'Rice', 'SourCream', 'Cheese', 'Guacamole'],\n",
       " ['Tomatillo-GreenChiliSalsa(Medium)',\n",
       "  'Rice',\n",
       "  'BlackBeans',\n",
       "  'SourCream',\n",
       "  'Guacamole'],\n",
       " ['Tomatillo-RedChiliSalsa(Hot)', 'Rice', 'Cheese', 'SourCream', 'Lettuce'],\n",
       " ['TomatilloRedChiliSalsa',\n",
       "  'Rice',\n",
       "  'BlackBeans',\n",
       "  'SourCream',\n",
       "  'Cheese',\n",
       "  'Lettuce'],\n",
       " ['Tomatillo-GreenChiliSalsa(Medium)',\n",
       "  'PintoBeans',\n",
       "  'Rice',\n",
       "  'Cheese',\n",
       "  'SourCream'],\n",
       " ['TomatilloGreenChiliSalsa', 'Rice', 'Cheese', 'Guacamole', 'Lettuce'],\n",
       " ['RoastedChiliCornSalsa(Medium)',\n",
       "  'Tomatillo-RedChiliSalsa(Hot)',\n",
       "  'BlackBeans',\n",
       "  'Rice',\n",
       "  'FajitaVeggies',\n",
       "  'Cheese',\n",
       "  'SourCream',\n",
       "  'Guacamole',\n",
       "  'Lettuce'],\n",
       " ['RoastedChiliCornSalsa(Medium)',\n",
       "  'Tomatillo-RedChiliSalsa(Hot)',\n",
       "  'BlackBeans',\n",
       "  'Rice',\n",
       "  'FajitaVeggies',\n",
       "  'Cheese',\n",
       "  'Guacamole',\n",
       "  'Lettuce'],\n",
       " ['TomatilloRedChiliSalsa',\n",
       "  'Rice',\n",
       "  'BlackBeans',\n",
       "  'Cheese',\n",
       "  'Guacamole',\n",
       "  'Lettuce'],\n",
       " ['TomatilloRedChiliSalsa', 'Rice', 'Cheese', 'SourCream'],\n",
       " ['Tomatillo-RedChiliSalsa(Hot)',\n",
       "  'FreshTomatoSalsa(Mild)',\n",
       "  'Rice',\n",
       "  'BlackBeans',\n",
       "  'Cheese',\n",
       "  'Lettuce'],\n",
       " ['Tomatillo-RedChiliSalsa(Hot)',\n",
       "  'BlackBeans',\n",
       "  'Rice',\n",
       "  'Cheese',\n",
       "  'SourCream',\n",
       "  'Lettuce'],\n",
       " ['Tomatillo-GreenChiliSalsa(Medium)', 'Lettuce'],\n",
       " ['FreshTomatoSalsa(Mild)', 'Rice', 'BlackBeans', 'SourCream', 'Guacamole'],\n",
       " ['Tomatillo-GreenChiliSalsa(Medium)',\n",
       "  'Rice',\n",
       "  'FajitaVeggies',\n",
       "  'Cheese',\n",
       "  'SourCream'],\n",
       " ['RoastedChiliCornSalsa(Medium)', 'Rice', 'Cheese', 'SourCream', 'Lettuce'],\n",
       " ['RoastedChiliCornSalsa(Medium)', 'Rice', 'Cheese', 'Lettuce'],\n",
       " ['RoastedChiliCornSalsa(Medium)',\n",
       "  'FajitaVeggies',\n",
       "  'Cheese',\n",
       "  'Lettuce',\n",
       "  'SourCream',\n",
       "  'Rice'],\n",
       " ['RoastedChiliCornSalsa(Medium)', 'Rice', 'BlackBeans', 'SourCream'],\n",
       " ['Tomatillo-GreenChiliSalsa(Medium)',\n",
       "  'PintoBeans',\n",
       "  'Rice',\n",
       "  'Cheese',\n",
       "  'SourCream'],\n",
       " ['TomatilloRedChiliSalsa',\n",
       "  'Rice',\n",
       "  'BlackBeans',\n",
       "  'SourCream',\n",
       "  'Cheese',\n",
       "  'Lettuce',\n",
       "  'Guacamole'],\n",
       " ['TomatilloGreenChiliSalsa',\n",
       "  'Rice',\n",
       "  'PintoBeans',\n",
       "  'SourCream',\n",
       "  'Cheese',\n",
       "  'Lettuce'],\n",
       " ['Tomatillo-RedChiliSalsa(Hot)',\n",
       "  'BlackBeans',\n",
       "  'Rice',\n",
       "  'Cheese',\n",
       "  'SourCream',\n",
       "  'Lettuce'],\n",
       " ['TomatilloRedChiliSalsa', 'Rice', 'BlackBeans', 'Cheese', 'SourCream'],\n",
       " ['TomatilloRedChiliSalsa', 'Rice', 'Cheese', 'Lettuce'],\n",
       " ['TomatilloRedChiliSalsa', 'BlackBeans', 'Cheese', 'Guacamole'],\n",
       " ['RoastedChiliCornSalsa(Medium)', 'Rice', 'BlackBeans', 'SourCream'],\n",
       " ['Tomatillo-GreenChiliSalsa(Medium)',\n",
       "  'BlackBeans',\n",
       "  'Rice',\n",
       "  'Cheese',\n",
       "  'SourCream',\n",
       "  'Lettuce'],\n",
       " ['TomatilloRedChiliSalsa',\n",
       "  'Rice',\n",
       "  'BlackBeans',\n",
       "  'Cheese',\n",
       "  'SourCream',\n",
       "  'Guacamole',\n",
       "  'Lettuce'],\n",
       " ['TomatilloRedChiliSalsa', 'Rice', 'BlackBeans', 'Cheese'],\n",
       " ['TomatilloRedChiliSalsa',\n",
       "  'Rice',\n",
       "  'BlackBeans',\n",
       "  'Cheese',\n",
       "  'SourCream',\n",
       "  'Guacamole',\n",
       "  'Lettuce'],\n",
       " ['FreshTomatoSalsa', 'Rice', 'PintoBeans', 'SourCream', 'Cheese'],\n",
       " ['TomatilloRedChiliSalsa',\n",
       "  'Rice',\n",
       "  'BlackBeans',\n",
       "  'Cheese',\n",
       "  'SourCream',\n",
       "  'Lettuce'],\n",
       " ['FreshTomatoSalsa', 'Rice', 'PintoBeans', 'Cheese', 'SourCream'],\n",
       " ['RoastedChiliCornSalsa(Medium)',\n",
       "  'Rice',\n",
       "  'FajitaVeggies',\n",
       "  'Cheese',\n",
       "  'SourCream',\n",
       "  'Guacamole',\n",
       "  'Lettuce'],\n",
       " ['RoastedChiliCornSalsa(Medium)',\n",
       "  'Rice',\n",
       "  'FajitaVeggies',\n",
       "  'Cheese',\n",
       "  'Lettuce'],\n",
       " ['Tomatillo-RedChiliSalsa(Hot)',\n",
       "  'FreshTomatoSalsa(Mild)',\n",
       "  'Tomatillo-GreenChiliSalsa(Medium)',\n",
       "  'Rice',\n",
       "  'PintoBeans',\n",
       "  'Cheese'],\n",
       " ['Tomatillo-RedChiliSalsa(Hot)',\n",
       "  'PintoBeans',\n",
       "  'Rice',\n",
       "  'FajitaVeggies',\n",
       "  'Cheese',\n",
       "  'SourCream'],\n",
       " ['RoastedChiliCornSalsa(Medium)', 'BlackBeans', 'Rice'],\n",
       " ['Tomatillo-GreenChiliSalsa(Medium)',\n",
       "  'PintoBeans',\n",
       "  'Rice',\n",
       "  'Cheese',\n",
       "  'SourCream'],\n",
       " ['FreshTomatoSalsa(Mild)',\n",
       "  'RoastedChiliCornSalsa(Medium)',\n",
       "  'PintoBeans',\n",
       "  'Rice',\n",
       "  'FajitaVeggies',\n",
       "  'Cheese',\n",
       "  'SourCream',\n",
       "  'Lettuce'],\n",
       " ['RoastedChiliCornSalsa(Medium)',\n",
       "  'BlackBeans',\n",
       "  'Rice',\n",
       "  'Cheese',\n",
       "  'SourCream',\n",
       "  'Lettuce'],\n",
       " ['Tomatillo-RedChiliSalsa(Hot)', 'BlackBeans', 'Rice', 'Cheese'],\n",
       " ['FreshTomatoSalsa(Mild)', 'BlackBeans', 'Rice', 'Cheese', 'SourCream'],\n",
       " ['FreshTomatoSalsa', 'Rice', 'Cheese', 'SourCream'],\n",
       " ['TomatilloGreenChiliSalsa', 'Rice', 'Cheese', 'Guacamole'],\n",
       " ['TomatilloGreenChiliSalsa', 'Rice', 'Cheese', 'Guacamole'],\n",
       " ['TomatilloRedChiliSalsa', 'Rice', 'BlackBeans', 'Cheese', 'Lettuce'],\n",
       " ['TomatilloRedChiliSalsa',\n",
       "  'Rice',\n",
       "  'BlackBeans',\n",
       "  'Cheese',\n",
       "  'SourCream',\n",
       "  'Guacamole',\n",
       "  'Lettuce'],\n",
       " ['Tomatillo-GreenChiliSalsa(Medium)', 'Cheese', 'Lettuce'],\n",
       " ['RoastedChiliCornSalsa(Medium)', 'Rice', 'FajitaVeggies', 'Cheese'],\n",
       " ['FreshTomato(Mild)', 'Lettuce', 'Guacamole', 'Rice', 'Cheese'],\n",
       " ['RoastedChiliCornSalsa(Medium)',\n",
       "  'PintoBeans',\n",
       "  'BlackBeans',\n",
       "  'Rice',\n",
       "  'FajitaVeggies',\n",
       "  'Cheese',\n",
       "  'SourCream',\n",
       "  'Lettuce'],\n",
       " ['RoastedChiliCornSalsa(Medium)', 'Rice'],\n",
       " ['FreshTomatoSalsa',\n",
       "  'Rice',\n",
       "  'BlackBeans',\n",
       "  'Cheese',\n",
       "  'SourCream',\n",
       "  'Guacamole',\n",
       "  'Lettuce'],\n",
       " ['RoastedChiliCornSalsa',\n",
       "  'Rice',\n",
       "  'BlackBeans',\n",
       "  'Cheese',\n",
       "  'Guacamole',\n",
       "  'Lettuce'],\n",
       " ['RoastedChiliCornSalsa', 'FajitaVegetables', 'Rice', 'Cheese', 'Lettuce'],\n",
       " ['TomatilloRedChiliSalsa',\n",
       "  'Rice',\n",
       "  'BlackBeans',\n",
       "  'SourCream',\n",
       "  'Cheese',\n",
       "  'Lettuce',\n",
       "  'Guacamole'],\n",
       " ['TomatilloGreenChiliSalsa',\n",
       "  'Rice',\n",
       "  'PintoBeans',\n",
       "  'SourCream',\n",
       "  'Cheese',\n",
       "  'Lettuce'],\n",
       " ['Tomatillo-RedChiliSalsa(Hot)', 'BlackBeans', 'Rice', 'Cheese'],\n",
       " ['FreshTomato(Mild)', 'Lettuce', 'Guacamole', 'Rice', 'Cheese'],\n",
       " ['TomatilloGreenChiliSalsa',\n",
       "  'FajitaVegetables',\n",
       "  'Rice',\n",
       "  'Cheese',\n",
       "  'SourCream',\n",
       "  'Lettuce'],\n",
       " ['FreshTomatoSalsa(Mild)', 'PintoBeans', 'Cheese', 'SourCream'],\n",
       " ['FreshTomatoSalsa(Mild)', 'Cheese', 'SourCream', 'Lettuce'],\n",
       " ['FreshTomatoSalsa(Mild)', 'PintoBeans', 'Cheese', 'SourCream', 'Lettuce'],\n",
       " ['TomatilloRedChiliSalsa',\n",
       "  'Rice',\n",
       "  'BlackBeans',\n",
       "  'Cheese',\n",
       "  'SourCream',\n",
       "  'Guacamole',\n",
       "  'Lettuce'],\n",
       " ['RoastedChiliCornSalsa',\n",
       "  'Rice',\n",
       "  'FajitaVegetables',\n",
       "  'BlackBeans',\n",
       "  'Cheese',\n",
       "  'Lettuce',\n",
       "  'Guacamole'],\n",
       " ['RoastedChiliCornSalsa(Medium)',\n",
       "  'BlackBeans',\n",
       "  'Cheese',\n",
       "  'SourCream',\n",
       "  'Lettuce'],\n",
       " ['FreshTomatoSalsa', 'Rice', 'Cheese', 'SourCream'],\n",
       " ['FreshTomatoSalsa', 'Rice', 'PintoBeans', 'SourCream', 'Cheese'],\n",
       " ['RoastedChiliCornSalsa',\n",
       "  'Rice',\n",
       "  'BlackBeans',\n",
       "  'Cheese',\n",
       "  'Lettuce',\n",
       "  'Guacamole'],\n",
       " ['RoastedChiliCornSalsa(Medium)', 'Rice', 'BlackBeans', 'SourCream'],\n",
       " ['FreshTomatoSalsa',\n",
       "  'Rice',\n",
       "  'BlackBeans',\n",
       "  'SourCream',\n",
       "  'Cheese',\n",
       "  'Guacamole'],\n",
       " ['TomatilloRedChiliSalsa',\n",
       "  'Rice',\n",
       "  'FajitaVegetables',\n",
       "  'SourCream',\n",
       "  'Cheese',\n",
       "  'Lettuce',\n",
       "  'Guacamole'],\n",
       " ['Tomatillo-RedChiliSalsa(Hot)', 'Rice', 'Cheese', 'SourCream', 'Lettuce'],\n",
       " ['FreshTomatoSalsa', 'Cheese', 'SourCream'],\n",
       " ['FreshTomatoSalsa',\n",
       "  'FajitaVegetables',\n",
       "  'Rice',\n",
       "  'PintoBeans',\n",
       "  'Cheese',\n",
       "  'Guacamole',\n",
       "  'Lettuce'],\n",
       " ['TomatilloGreenChiliSalsa', 'Guacamole'],\n",
       " ['RoastedChiliCornSalsa(Medium)',\n",
       "  'PintoBeans',\n",
       "  'Rice',\n",
       "  'Cheese',\n",
       "  'SourCream',\n",
       "  'Lettuce'],\n",
       " ['Tomatillo-RedChiliSalsa(Hot)',\n",
       "  'PintoBeans',\n",
       "  'Rice',\n",
       "  'Cheese',\n",
       "  'SourCream',\n",
       "  'Lettuce'],\n",
       " ['RoastedChiliCornSalsa(Medium)', 'Rice', 'FajitaVeggies', 'Cheese'],\n",
       " ['RoastedChiliCornSalsa',\n",
       "  'Rice',\n",
       "  'BlackBeans',\n",
       "  'Cheese',\n",
       "  'Lettuce',\n",
       "  'Guacamole'],\n",
       " ['FreshTomatoSalsa',\n",
       "  'Rice',\n",
       "  'BlackBeans',\n",
       "  'Cheese',\n",
       "  'SourCream',\n",
       "  'Guacamole'],\n",
       " ['FreshTomatoSalsa', 'Rice', 'PintoBeans', 'Cheese', 'Guacamole', 'Lettuce'],\n",
       " ['TomatilloGreenChiliSalsa',\n",
       "  'FajitaVegetables',\n",
       "  'Rice',\n",
       "  'Cheese',\n",
       "  'SourCream',\n",
       "  'Lettuce'],\n",
       " ['FreshTomatoSalsa', 'Rice', 'Cheese', 'SourCream', 'Lettuce'],\n",
       " ['RoastedChiliCornSalsa',\n",
       "  'Rice',\n",
       "  'BlackBeans',\n",
       "  'Cheese',\n",
       "  'SourCream',\n",
       "  'Lettuce'],\n",
       " ['Tomatillo-RedChiliSalsa(Hot)', 'Rice', 'Cheese', 'SourCream', 'Lettuce'],\n",
       " ['RoastedChiliCornSalsa(Medium)',\n",
       "  'FreshTomatoSalsa(Mild)',\n",
       "  'Rice',\n",
       "  'BlackBeans',\n",
       "  'PintoBeans',\n",
       "  'FajitaVeggies',\n",
       "  'Guacamole',\n",
       "  'Lettuce'],\n",
       " ['TomatilloGreenChiliSalsa',\n",
       "  'FajitaVegetables',\n",
       "  'Rice',\n",
       "  'Cheese',\n",
       "  'SourCream',\n",
       "  'Lettuce'],\n",
       " ['RoastedChiliCornSalsa',\n",
       "  'Rice',\n",
       "  'FajitaVegetables',\n",
       "  'BlackBeans',\n",
       "  'SourCream',\n",
       "  'Cheese',\n",
       "  'Lettuce',\n",
       "  'Guacamole'],\n",
       " ['RoastedChiliCornSalsa(Medium)', 'Rice', 'FajitaVeggies', 'Cheese'],\n",
       " ['FreshTomatoSalsa(Mild)',\n",
       "  'BlackBeans',\n",
       "  'Rice',\n",
       "  'Cheese',\n",
       "  'SourCream',\n",
       "  'Lettuce'],\n",
       " ['FreshTomatoSalsa', 'Rice', 'Cheese', 'SourCream', 'Lettuce'],\n",
       " ['FreshTomatoSalsa',\n",
       "  'FajitaVegetables',\n",
       "  'Rice',\n",
       "  'Cheese',\n",
       "  'SourCream',\n",
       "  'Guacamole',\n",
       "  'Lettuce'],\n",
       " ['FreshTomatoSalsa', 'FajitaVegetables', 'Rice', 'Cheese', 'SourCream'],\n",
       " ['FreshTomatoSalsa',\n",
       "  'Rice',\n",
       "  'BlackBeans',\n",
       "  'Cheese',\n",
       "  'SourCream',\n",
       "  'Guacamole',\n",
       "  'Lettuce'],\n",
       " ['FreshTomatoSalsa', 'BlackBeans', 'Cheese', 'Guacamole', 'Lettuce'],\n",
       " ['FreshTomatoSalsa',\n",
       "  'Rice',\n",
       "  'BlackBeans',\n",
       "  'Cheese',\n",
       "  'SourCream',\n",
       "  'Guacamole',\n",
       "  'Lettuce'],\n",
       " ['FreshTomatoSalsa',\n",
       "  'Rice',\n",
       "  'BlackBeans',\n",
       "  'Cheese',\n",
       "  'SourCream',\n",
       "  'Guacamole',\n",
       "  'Lettuce'],\n",
       " ['FreshTomatoSalsa(Mild)', 'PintoBeans', 'Rice', 'Cheese', 'SourCream'],\n",
       " ['FreshTomatoSalsa(Mild)', 'PintoBeans', 'Rice', 'SourCream', 'Cheese'],\n",
       " ['FreshTomato(Mild)',\n",
       "  'Guacamole',\n",
       "  'Lettuce',\n",
       "  'Rice',\n",
       "  'FajitaVeggies',\n",
       "  'SourCream',\n",
       "  'Cheese'],\n",
       " ['FreshTomatoSalsa',\n",
       "  'FajitaVegetables',\n",
       "  'Rice',\n",
       "  'BlackBeans',\n",
       "  'Cheese',\n",
       "  'SourCream',\n",
       "  'Lettuce'],\n",
       " ['RoastedChiliCornSalsa',\n",
       "  'FajitaVegetables',\n",
       "  'Rice',\n",
       "  'BlackBeans',\n",
       "  'Cheese',\n",
       "  'SourCream',\n",
       "  'Guacamole',\n",
       "  'Lettuce'],\n",
       " ['TomatilloRedChiliSalsa',\n",
       "  'Rice',\n",
       "  'BlackBeans',\n",
       "  'Cheese',\n",
       "  'SourCream',\n",
       "  'Lettuce'],\n",
       " ['FreshTomatoSalsa',\n",
       "  'Rice',\n",
       "  'BlackBeans',\n",
       "  'Cheese',\n",
       "  'SourCream',\n",
       "  'Guacamole',\n",
       "  'Lettuce'],\n",
       " ['FreshTomatoSalsa', 'Cheese'],\n",
       " ['FreshTomatoSalsa', 'Rice', 'Cheese', 'Lettuce'],\n",
       " ['FreshTomatoSalsa(Mild)', 'PintoBeans', 'Cheese'],\n",
       " ['TomatilloGreenChiliSalsa', 'Rice', 'BlackBeans', 'Cheese', 'Lettuce'],\n",
       " ['RoastedChiliCornSalsa',\n",
       "  'Rice',\n",
       "  'BlackBeans',\n",
       "  'SourCream',\n",
       "  'Lettuce',\n",
       "  'Guacamole'],\n",
       " ['Tomatillo-RedChiliSalsa(Hot)', 'Rice'],\n",
       " ['Adobo-MarinatedandGrilledChicken',\n",
       "  'PintoBeans',\n",
       "  'SourCream',\n",
       "  'Salsa',\n",
       "  'Cheese',\n",
       "  'Cilantro-LimeRice',\n",
       "  'Guacamole'],\n",
       " ['BraisedBarbacoa',\n",
       "  'VegetarianBlackBeans',\n",
       "  'SourCream',\n",
       "  'Salsa',\n",
       "  'Cheese',\n",
       "  'Cilantro-LimeRice'],\n",
       " ['TomatilloGreenChiliSalsa', 'Rice', 'BlackBeans', 'Cheese', 'SourCream'],\n",
       " ['BraisedBarbacoa',\n",
       "  'PintoBeans',\n",
       "  'SourCream',\n",
       "  'Salsa',\n",
       "  'Cheese',\n",
       "  'Cilantro-LimeRice',\n",
       "  'Guacamole'],\n",
       " ['FreshTomatoSalsa(Mild)', 'PintoBeans', 'Rice', 'SourCream'],\n",
       " ['TomatilloRedChiliSalsa',\n",
       "  'FajitaVegetables',\n",
       "  'Rice',\n",
       "  'BlackBeans',\n",
       "  'Guacamole'],\n",
       " ['FreshTomatoSalsa', 'Rice', 'BlackBeans', 'Cheese'],\n",
       " ['FreshTomatoSalsa', 'SourCream', 'Lettuce', 'Cheese', 'Rice'],\n",
       " ['FreshTomatoSalsa(Mild)', 'PintoBeans', 'Rice', 'Cheese', 'SourCream'],\n",
       " ['TomatilloGreenChiliSalsa', 'Cheese'],\n",
       " ['TomatilloGreenChiliSalsa',\n",
       "  'FajitaVegetables',\n",
       "  'PintoBeans',\n",
       "  'SourCream',\n",
       "  'Cheese',\n",
       "  'Lettuce'],\n",
       " ['FreshTomato(Mild)', 'Lettuce', 'Guacamole', 'Rice', 'Cheese'],\n",
       " ['TomatilloRedChiliSalsa'],\n",
       " ['TomatilloGreenChiliSalsa'],\n",
       " ['TomatilloGreenChiliSalsa', 'Rice', 'BlackBeans', 'Cheese', 'Lettuce'],\n",
       " ['RoastedChiliCornSalsa'],\n",
       " ['FreshTomatoSalsa',\n",
       "  'FajitaVegetables',\n",
       "  'Rice',\n",
       "  'BlackBeans',\n",
       "  'Cheese',\n",
       "  'SourCream'],\n",
       " ['TomatilloGreenChiliSalsa',\n",
       "  'FajitaVegetables',\n",
       "  'Rice',\n",
       "  'BlackBeans',\n",
       "  'Cheese',\n",
       "  'SourCream',\n",
       "  'Lettuce'],\n",
       " ['TomatilloGreenChiliSalsa',\n",
       "  'FajitaVegetables',\n",
       "  'BlackBeans',\n",
       "  'SourCream',\n",
       "  'Cheese'],\n",
       " ['RoastedChiliCornSalsa',\n",
       "  'FajitaVegetables',\n",
       "  'SourCream',\n",
       "  'Lettuce',\n",
       "  'Guacamole'],\n",
       " ['RoastedChiliCornSalsa',\n",
       "  'Rice',\n",
       "  'FajitaVegetables',\n",
       "  'SourCream',\n",
       "  'Cheese',\n",
       "  'Lettuce',\n",
       "  'Guacamole'],\n",
       " ['RoastedChiliCornSalsa',\n",
       "  'FajitaVegetables',\n",
       "  'SourCream',\n",
       "  'Cheese',\n",
       "  'Lettuce',\n",
       "  'Guacamole'],\n",
       " ['RoastedChiliCornSalsa', 'Rice', 'PintoBeans', 'Cheese', 'SourCream'],\n",
       " ['RoastedChiliCornSalsa', 'FajitaVegetables', 'Rice', 'Cheese', 'Lettuce'],\n",
       " ['FreshTomatoSalsa',\n",
       "  'FajitaVegetables',\n",
       "  'Cheese',\n",
       "  'SourCream',\n",
       "  'Guacamole',\n",
       "  'Lettuce'],\n",
       " ['FreshTomatoSalsa', 'Rice', 'PintoBeans', 'Cheese'],\n",
       " ['FreshTomatoSalsa(Mild)',\n",
       "  'Rice',\n",
       "  'BlackBeans',\n",
       "  'FajitaVeggies',\n",
       "  'Cheese',\n",
       "  'Guacamole',\n",
       "  'Lettuce'],\n",
       " ['FreshTomatoSalsa',\n",
       "  'FajitaVegetables',\n",
       "  'Rice',\n",
       "  'Cheese',\n",
       "  'SourCream',\n",
       "  'Guacamole',\n",
       "  'Lettuce'],\n",
       " ['FreshTomatoSalsa(Mild)',\n",
       "  'PintoBeans',\n",
       "  'Rice',\n",
       "  'Cheese',\n",
       "  'SourCream',\n",
       "  'Lettuce'],\n",
       " ['RoastedChiliCornSalsa',\n",
       "  'Rice',\n",
       "  'PintoBeans',\n",
       "  'Cheese',\n",
       "  'Lettuce',\n",
       "  'Guacamole'],\n",
       " ['FreshTomatoSalsa', 'Rice', 'BlackBeans', 'Cheese', 'Lettuce'],\n",
       " ['FreshTomatoSalsa', 'Rice', 'BlackBeans', 'SourCream'],\n",
       " ['TomatilloRedChiliSalsa', 'Rice', 'Cheese', 'Lettuce'],\n",
       " ['Tomatillo-RedChiliSalsa(Hot)',\n",
       "  'BlackBeans',\n",
       "  'Rice',\n",
       "  'Cheese',\n",
       "  'SourCream',\n",
       "  'Guacamole',\n",
       "  'Lettuce'],\n",
       " ['TomatilloGreenChiliSalsa'],\n",
       " ['TomatilloGreenChiliSalsa', 'SourCream', 'Cheese', 'Guacamole'],\n",
       " ['TomatilloGreenChiliSalsa',\n",
       "  'FajitaVegetables',\n",
       "  'Rice',\n",
       "  'Cheese',\n",
       "  'SourCream',\n",
       "  'Lettuce'],\n",
       " ['FreshTomatoSalsa(Mild)', 'PintoBeans', 'Rice', 'Cheese', 'SourCream'],\n",
       " ['TomatilloRedChiliSalsa', 'Cheese', 'Guacamole'],\n",
       " ['FreshTomatoSalsa', 'Rice', 'PintoBeans', 'Cheese', 'SourCream'],\n",
       " ['FreshTomatoSalsa', 'Rice', 'Cheese', 'SourCream'],\n",
       " ['TomatilloRedChiliSalsa', 'Rice', 'BlackBeans', 'Cheese', 'SourCream'],\n",
       " ['RoastedChiliCornSalsa(Medium)', 'Rice', 'BlackBeans', 'SourCream'],\n",
       " ['RoastedChiliCornSalsa(Medium)',\n",
       "  'Rice',\n",
       "  'BlackBeans',\n",
       "  'SourCream',\n",
       "  'Guacamole'],\n",
       " ['FreshTomatoSalsa', 'Rice', 'PintoBeans', 'SourCream', 'Cheese'],\n",
       " ['FreshTomatoSalsa', 'FajitaVegetables', 'Rice', 'SourCream', 'Lettuce'],\n",
       " ['FreshTomatoSalsa',\n",
       "  'Rice',\n",
       "  'BlackBeans',\n",
       "  'SourCream',\n",
       "  'Cheese',\n",
       "  'Lettuce',\n",
       "  'Guacamole'],\n",
       " ['FreshTomatoSalsa', 'Rice', 'BlackBeans', 'SourCream', 'Cheese', 'Lettuce'],\n",
       " ['FreshTomatoSalsa(Mild)', 'PintoBeans', 'Rice', 'Cheese', 'SourCream'],\n",
       " ['RoastedChiliCornSalsa(Medium)',\n",
       "  'BlackBeans',\n",
       "  'Rice',\n",
       "  'FajitaVeggies',\n",
       "  'Cheese',\n",
       "  'SourCream',\n",
       "  'Guacamole',\n",
       "  'Lettuce'],\n",
       " ['Adobo-MarinatedandGrilledChicken',\n",
       "  'SourCream',\n",
       "  'Cheese',\n",
       "  'Cilantro-LimeRice'],\n",
       " ['TomatilloRedChiliSalsa', 'Guacamole', 'Cheese'],\n",
       " ['RoastedChiliCornSalsa', 'Rice', 'Cheese', 'Guacamole'],\n",
       " ['FreshTomatoSalsa', 'Rice', 'BlackBeans', 'Cheese', 'Guacamole', 'Lettuce'],\n",
       " ['Tomatillo-RedChiliSalsa(Hot)',\n",
       "  'BlackBeans',\n",
       "  'Rice',\n",
       "  'FajitaVeggies',\n",
       "  'Cheese',\n",
       "  'SourCream',\n",
       "  'Lettuce'],\n",
       " ['FreshTomatoSalsa(Mild)',\n",
       "  'BlackBeans',\n",
       "  'Rice',\n",
       "  'FajitaVeggies',\n",
       "  'Cheese',\n",
       "  'SourCream',\n",
       "  'Lettuce'],\n",
       " ['FreshTomatoSalsa(Mild)', 'Rice', 'Cheese', 'SourCream', 'Lettuce'],\n",
       " ['FreshTomatoSalsa',\n",
       "  'FajitaVegetables',\n",
       "  'Rice',\n",
       "  'Cheese',\n",
       "  'SourCream',\n",
       "  'Lettuce'],\n",
       " ['FreshTomatoSalsa(Mild)', 'PintoBeans', 'Rice', 'Cheese', 'SourCream'],\n",
       " ['RoastedChiliCornSalsa(Medium)',\n",
       "  'FreshTomatoSalsa(Mild)',\n",
       "  'Rice',\n",
       "  'PintoBeans',\n",
       "  'Cheese',\n",
       "  'SourCream',\n",
       "  'Guacamole',\n",
       "  'Lettuce'],\n",
       " ['FreshTomatoSalsa(Mild)', 'PintoBeans', 'Rice', 'Cheese', 'SourCream'],\n",
       " ['TomatilloRedChiliSalsa',\n",
       "  'Rice',\n",
       "  'FajitaVegetables',\n",
       "  'BlackBeans',\n",
       "  'Cheese',\n",
       "  'Lettuce',\n",
       "  'Guacamole'],\n",
       " ['Tomatillo-GreenChiliSalsa(Medium)',\n",
       "  'Rice',\n",
       "  'Cheese',\n",
       "  'SourCream',\n",
       "  'Lettuce'],\n",
       " ['TomatilloRedChiliSalsa',\n",
       "  'Rice',\n",
       "  'PintoBeans',\n",
       "  'Cheese',\n",
       "  'SourCream',\n",
       "  'Lettuce'],\n",
       " ['FreshTomatoSalsa'],\n",
       " ['RoastedChiliCornSalsa', 'FajitaVegetables', 'Rice', 'BlackBeans', 'Cheese'],\n",
       " ['RoastedChiliCornSalsa',\n",
       "  'FajitaVegetables',\n",
       "  'BlackBeans',\n",
       "  'SourCream',\n",
       "  'Guacamole',\n",
       "  'Lettuce'],\n",
       " ['RoastedChiliCorn(Medium)', 'SourCream', 'Cheese'],\n",
       " ['FreshTomatoSalsa(Mild)', 'PintoBeans', 'Rice', 'Cheese', 'SourCream'],\n",
       " ['RoastedChiliCornSalsa',\n",
       "  'Rice',\n",
       "  'FajitaVegetables',\n",
       "  'BlackBeans',\n",
       "  'SourCream',\n",
       "  'Cheese',\n",
       "  'Lettuce'],\n",
       " ['TomatilloGreenChiliSalsa', 'Rice', 'Cheese', 'Guacamole', 'Lettuce'],\n",
       " ['TomatilloRedChiliSalsa', 'Guacamole', 'Cheese'],\n",
       " ['RoastedChiliCornSalsa'],\n",
       " ['RoastedChiliCornSalsa',\n",
       "  'FajitaVegetables',\n",
       "  'Rice',\n",
       "  'BlackBeans',\n",
       "  'SourCream',\n",
       "  'Guacamole'],\n",
       " ['FreshTomatoSalsa(Mild)', 'Cheese', 'Rice', 'PintoBeans', 'SourCream'],\n",
       " ['FreshTomatoSalsa', 'Rice', 'BlackBeans', 'Cheese', 'Guacamole', 'Lettuce'],\n",
       " ['RoastedChiliCornSalsa', 'Rice', 'SourCream', 'Cheese', 'Guacamole'],\n",
       " ['FreshTomatoSalsa', 'Rice', 'PintoBeans', 'Cheese', 'SourCream', 'Lettuce'],\n",
       " ['WhiteRice', 'Adobo-MarinatedandGrilledSteak', 'Salsa', 'Cheese'],\n",
       " ['WhiteRice',\n",
       "  'Adobo-MarinatedandGrilledSteak',\n",
       "  'PintoBeans',\n",
       "  'SourCream',\n",
       "  'Salsa',\n",
       "  'Cheese',\n",
       "  'Cilantro-LimeRice'],\n",
       " ['FreshTomatoSalsa', 'Rice', 'PintoBeans', 'Cheese'],\n",
       " ['RoastedChiliCornSalsa', 'Rice', 'Cheese', 'Guacamole'],\n",
       " ['FreshTomatoSalsa(Mild)', 'Cheese', 'Rice', 'PintoBeans', 'SourCream'],\n",
       " ['FreshTomatoSalsa(Mild)',\n",
       "  'RoastedChiliCornSalsa(Medium)',\n",
       "  'Tomatillo-RedChiliSalsa(Hot)',\n",
       "  'BlackBeans',\n",
       "  'Rice',\n",
       "  'FajitaVeggies',\n",
       "  'Lettuce'],\n",
       " ['RoastedChiliCornSalsa',\n",
       "  'Rice',\n",
       "  'BlackBeans',\n",
       "  'Cheese',\n",
       "  'Lettuce',\n",
       "  'Guacamole'],\n",
       " ['FreshTomatoSalsa', 'Rice', 'BlackBeans', 'Cheese'],\n",
       " ['RoastedChiliCornSalsa',\n",
       "  'FajitaVegetables',\n",
       "  'Rice',\n",
       "  'PintoBeans',\n",
       "  'Cheese',\n",
       "  'SourCream',\n",
       "  'Lettuce'],\n",
       " ['TomatilloRedChiliSalsa',\n",
       "  'FajitaVegetables',\n",
       "  'Rice',\n",
       "  'BlackBeans',\n",
       "  'SourCream',\n",
       "  'Guacamole',\n",
       "  'Lettuce'],\n",
       " ['TomatilloRedChiliSalsa',\n",
       "  'FajitaVegetables',\n",
       "  'Rice',\n",
       "  'SourCream',\n",
       "  'Guacamole',\n",
       "  'Lettuce'],\n",
       " ['FreshTomatoSalsa(Mild)',\n",
       "  'Rice',\n",
       "  'FajitaVeggies',\n",
       "  'Cheese',\n",
       "  'SourCream',\n",
       "  'Guacamole',\n",
       "  'Lettuce'],\n",
       " ['RoastedChiliCornSalsa(Medium)',\n",
       "  'Rice',\n",
       "  'BlackBeans',\n",
       "  'SourCream',\n",
       "  'Lettuce'],\n",
       " ['FreshTomatoSalsa', 'FajitaVegetables', 'Rice', 'Cheese', 'Lettuce'],\n",
       " ['FreshTomatoSalsa', 'Rice', 'BlackBeans', 'Cheese', 'SourCream'],\n",
       " ['TomatilloGreenChiliSalsa', 'Rice', 'BlackBeans', 'Cheese', 'SourCream'],\n",
       " ['FreshTomatoSalsa(Mild)', 'Cheese', 'Rice', 'PintoBeans', 'SourCream'],\n",
       " ['RoastedChiliCornSalsa', 'Rice', 'Cheese', 'SourCream', 'Lettuce'],\n",
       " ['FreshTomatoSalsa', 'Rice', 'BlackBeans', 'Cheese', 'SourCream', 'Lettuce'],\n",
       " ['FreshTomatoSalsa(Mild)', 'Cheese', 'PintoBeans', 'SourCream', 'Rice'],\n",
       " ['Tomatillo-GreenChiliSalsa(Medium)',\n",
       "  'BlackBeans',\n",
       "  'Rice',\n",
       "  'FajitaVeggies',\n",
       "  'SourCream'],\n",
       " ['FreshTomatoSalsa(Mild)',\n",
       "  'PintoBeans',\n",
       "  'Rice',\n",
       "  'FajitaVeggies',\n",
       "  'SourCream'],\n",
       " ['FreshTomatoSalsa(Mild)', 'PintoBeans', 'Rice', 'SourCream'],\n",
       " ['Tomatillo-GreenChiliSalsa(Medium)', 'BlackBeans', 'Rice', 'Cheese'],\n",
       " ['RoastedChiliCornSalsa', 'Rice', 'PintoBeans', 'SourCream', 'Cheese'],\n",
       " ['RoastedChiliCornSalsa', 'Rice', 'BlackBeans', 'SourCream', 'Cheese'],\n",
       " ['FreshTomatoSalsa', 'Rice', 'BlackBeans', 'SourCream', 'Lettuce'],\n",
       " ['FreshTomatoSalsa', 'Rice', 'BlackBeans', 'Cheese', 'Lettuce'],\n",
       " ['FreshTomatoSalsa',\n",
       "  'FajitaVegetables',\n",
       "  'Rice',\n",
       "  'BlackBeans',\n",
       "  'Cheese',\n",
       "  'Lettuce'],\n",
       " ['RoastedChiliCornSalsa',\n",
       "  'Rice',\n",
       "  'FajitaVegetables',\n",
       "  'SourCream',\n",
       "  'Cheese',\n",
       "  'Lettuce'],\n",
       " ['TomatilloGreenChiliSalsa',\n",
       "  'Rice',\n",
       "  'FajitaVegetables',\n",
       "  'BlackBeans',\n",
       "  'Cheese'],\n",
       " ['RoastedChiliCornSalsa(Medium)',\n",
       "  'Rice',\n",
       "  'FajitaVeggies',\n",
       "  'SourCream',\n",
       "  'Guacamole',\n",
       "  'Lettuce'],\n",
       " ['RoastedChiliCornSalsa(Medium)', 'Rice', 'SourCream', 'Lettuce'],\n",
       " ['RoastedChiliCornSalsa', 'Cheese', 'Rice', 'Guacamole'],\n",
       " ['FreshTomatoSalsa', 'Rice', 'BlackBeans', 'SourCream', 'Guacamole'],\n",
       " ['FreshTomatoSalsa', 'FajitaVegetables', 'Rice', 'Cheese', 'SourCream'],\n",
       " ['TomatilloRedChiliSalsa'],\n",
       " ['TomatilloRedChiliSalsa',\n",
       "  'Rice',\n",
       "  'Cheese',\n",
       "  'SourCream',\n",
       "  'Guacamole',\n",
       "  'Lettuce'],\n",
       " ['FreshTomatoSalsa(Mild)',\n",
       "  'BlackBeans',\n",
       "  'Rice',\n",
       "  'Cheese',\n",
       "  'SourCream',\n",
       "  'Lettuce'],\n",
       " ['TomatilloGreenChiliSalsa', 'Rice', 'Cheese', 'SourCream', 'Lettuce'],\n",
       " ['FreshTomatoSalsa(Mild)',\n",
       "  'RoastedChiliCornSalsa(Medium)',\n",
       "  'Tomatillo-RedChiliSalsa(Hot)',\n",
       "  'BlackBeans',\n",
       "  'Rice',\n",
       "  'SourCream'],\n",
       " ['FreshTomatoSalsa',\n",
       "  'FajitaVegetables',\n",
       "  'Rice',\n",
       "  'BlackBeans',\n",
       "  'SourCream',\n",
       "  'Guacamole',\n",
       "  'Lettuce'],\n",
       " ['RoastedChiliCornSalsa(Medium)',\n",
       "  'Rice',\n",
       "  'FajitaVeggies',\n",
       "  'Cheese',\n",
       "  'SourCream',\n",
       "  'Lettuce'],\n",
       " ['RoastedChiliCornSalsa(Medium)',\n",
       "  'Rice',\n",
       "  'FajitaVeggies',\n",
       "  'Cheese',\n",
       "  'SourCream',\n",
       "  'Lettuce'],\n",
       " ['RoastedChiliCornSalsa(Medium)', 'BlackBeans', 'Rice', 'Cheese'],\n",
       " ['FreshTomatoSalsa(Mild)',\n",
       "  'BlackBeans',\n",
       "  'Rice',\n",
       "  'Cheese',\n",
       "  'SourCream',\n",
       "  'Lettuce'],\n",
       " ['RoastedChiliCornSalsa',\n",
       "  'FajitaVegetables',\n",
       "  'Rice',\n",
       "  'Cheese',\n",
       "  'SourCream',\n",
       "  'Guacamole',\n",
       "  'Lettuce'],\n",
       " ['FreshTomatoSalsa', 'Rice', 'BlackBeans', 'Guacamole', 'Lettuce'],\n",
       " ['RoastedChiliCornSalsa',\n",
       "  'Rice',\n",
       "  'FajitaVegetables',\n",
       "  'SourCream',\n",
       "  'Cheese',\n",
       "  'Lettuce'],\n",
       " ['RoastedChiliCornSalsa',\n",
       "  'Rice',\n",
       "  'FajitaVegetables',\n",
       "  'Cheese',\n",
       "  'Lettuce',\n",
       "  'Guacamole'],\n",
       " ['RoastedChiliCornSalsa',\n",
       "  'Rice',\n",
       "  'FajitaVegetables',\n",
       "  'SourCream',\n",
       "  'Lettuce',\n",
       "  'Guacamole'],\n",
       " ['Tomatillo-RedChiliSalsa(Hot)', 'PintoBeans', 'Rice', 'Cheese', 'SourCream'],\n",
       " ['FreshTomatoSalsa(Mild)', 'Rice', 'Cheese', 'SourCream', 'Lettuce'],\n",
       " ['Tomatillo-RedChiliSalsa(Hot)', 'BlackBeans', 'Rice', 'Cheese'],\n",
       " ['FreshTomatoSalsa(Mild)',\n",
       "  'PintoBeans',\n",
       "  'Rice',\n",
       "  'Cheese',\n",
       "  'SourCream',\n",
       "  'Lettuce'],\n",
       " ['FreshTomatoSalsa', 'Rice', 'PintoBeans', 'Cheese'],\n",
       " ['FreshTomatoSalsa', 'FajitaVegetables', 'SourCream', 'Cheese', 'Guacamole'],\n",
       " ['FreshTomatoSalsa', 'Rice', 'BlackBeans', 'Cheese', 'SourCream'],\n",
       " ['FreshTomatoSalsa(Mild)', 'Rice', 'PintoBeans', 'Cheese', 'SourCream'],\n",
       " ['TomatilloGreenChiliSalsa',\n",
       "  'Rice',\n",
       "  'FajitaVegetables',\n",
       "  'PintoBeans',\n",
       "  'SourCream',\n",
       "  'Cheese',\n",
       "  'Lettuce',\n",
       "  'Guacamole'],\n",
       " ['TomatilloRedChiliSalsa'],\n",
       " ['RoastedChiliCornSalsa(Medium)',\n",
       "  'BlackBeans',\n",
       "  'Rice',\n",
       "  'Cheese',\n",
       "  'SourCream'],\n",
       " ['FreshTomatoSalsa',\n",
       "  'FajitaVegetables',\n",
       "  'Rice',\n",
       "  'PintoBeans',\n",
       "  'Cheese',\n",
       "  'Guacamole',\n",
       "  'Lettuce'],\n",
       " ['FreshTomatoSalsa', 'FajitaVegetables', 'PintoBeans', 'Cheese', 'Guacamole'],\n",
       " ['RoastedChiliCornSalsa', 'Rice', 'SourCream', 'Cheese', 'Guacamole'],\n",
       " ['RoastedChiliCornSalsa', 'Rice', 'SourCream', 'Cheese', 'Guacamole'],\n",
       " ['RoastedChiliCornSalsa', 'Rice', 'BlackBeans'],\n",
       " ['FreshTomatoSalsa(Mild)',\n",
       "  'Tomatillo-GreenChiliSalsa(Medium)',\n",
       "  'BlackBeans',\n",
       "  'Rice',\n",
       "  'FajitaVeggies',\n",
       "  'Cheese',\n",
       "  'SourCream'],\n",
       " ['TomatilloRedChiliSalsa'],\n",
       " ['Tomatillo-RedChiliSalsa(Hot)', 'Rice', 'Cheese', 'SourCream'],\n",
       " ['FreshTomatoSalsa',\n",
       "  'BlackBeans',\n",
       "  'PintoBeans',\n",
       "  'Cheese',\n",
       "  'Guacamole',\n",
       "  'Lettuce'],\n",
       " ['RoastedChiliCornSalsa', 'Rice', 'PintoBeans', 'Cheese', 'Lettuce'],\n",
       " ['FreshTomatoSalsa(Mild)', 'Rice', 'Cheese', 'SourCream', 'Lettuce'],\n",
       " ['Tomatillo-GreenChiliSalsa(Medium)',\n",
       "  'RoastedChiliCornSalsa(Medium)',\n",
       "  'BlackBeans',\n",
       "  'Rice',\n",
       "  'Cheese'],\n",
       " ['FreshTomatoSalsa(Mild)', 'PintoBeans', 'Rice', 'SourCream', 'Cheese'],\n",
       " ['FreshTomatoSalsa', 'Rice', 'BlackBeans', 'Cheese', 'Guacamole', 'Lettuce'],\n",
       " ['FreshTomatoSalsa', 'Rice'],\n",
       " ['FreshTomatoSalsa', 'Rice', 'Cheese'],\n",
       " ['FreshTomatoSalsa', 'FajitaVegetables', 'Rice', 'SourCream', 'Lettuce'],\n",
       " ['TomatilloGreenChiliSalsa', 'Rice', 'PintoBeans', 'Cheese', 'Guacamole'],\n",
       " ['Tomatillo-GreenChiliSalsa(Medium)',\n",
       "  'Tomatillo-RedChiliSalsa(Hot)',\n",
       "  'BlackBeans',\n",
       "  'Rice',\n",
       "  'Cheese',\n",
       "  'SourCream',\n",
       "  'Guacamole'],\n",
       " ['FreshTomatoSalsa(Mild)',\n",
       "  'BlackBeans',\n",
       "  'Rice',\n",
       "  'Cheese',\n",
       "  'SourCream',\n",
       "  'Guacamole'],\n",
       " ['Tomatillo-GreenChiliSalsa(Medium)',\n",
       "  'PintoBeans',\n",
       "  'Rice',\n",
       "  'Cheese',\n",
       "  'SourCream',\n",
       "  'Guacamole',\n",
       "  'Lettuce'],\n",
       " ['RoastedChiliCornSalsa', 'Rice', 'PintoBeans', 'Cheese', 'Lettuce'],\n",
       " ['RoastedChiliCornSalsa',\n",
       "  'Rice',\n",
       "  'PintoBeans',\n",
       "  'Cheese',\n",
       "  'SourCream',\n",
       "  'Guacamole',\n",
       "  'Lettuce'],\n",
       " ['RoastedChiliCornSalsa(Medium)',\n",
       "  'Tomatillo-GreenChiliSalsa(Medium)',\n",
       "  'Rice',\n",
       "  'BlackBeans',\n",
       "  'SourCream',\n",
       "  'Guacamole'],\n",
       " ['TomatilloRedChiliSalsa',\n",
       "  'FajitaVegetables',\n",
       "  'Rice',\n",
       "  'Cheese',\n",
       "  'SourCream',\n",
       "  'Lettuce'],\n",
       " ['FreshTomatoSalsa(Mild)',\n",
       "  'RoastedChiliCornSalsa(Medium)',\n",
       "  'Tomatillo-RedChiliSalsa(Hot)',\n",
       "  'BlackBeans',\n",
       "  'Rice',\n",
       "  'SourCream'],\n",
       " ['FreshTomatoSalsa',\n",
       "  'FajitaVegetables',\n",
       "  'Rice',\n",
       "  'BlackBeans',\n",
       "  'PintoBeans',\n",
       "  'Cheese',\n",
       "  'Lettuce'],\n",
       " ['FreshTomatoSalsa(Mild)', 'PintoBeans', 'Rice', 'Guacamole'],\n",
       " ['FreshTomatoSalsa',\n",
       "  'BlackBeans',\n",
       "  'Cheese',\n",
       "  'SourCream',\n",
       "  'Guacamole',\n",
       "  'Lettuce'],\n",
       " ['FreshTomato(Mild)',\n",
       "  'Guacamole',\n",
       "  'Lettuce',\n",
       "  'Rice',\n",
       "  'FajitaVeggies',\n",
       "  'Cheese'],\n",
       " ['Tomatillo-RedChiliSalsa(Hot)', 'Rice', 'Cheese', 'SourCream'],\n",
       " ['RoastedChiliCornSalsa',\n",
       "  'Rice',\n",
       "  'PintoBeans',\n",
       "  'Cheese',\n",
       "  'SourCream',\n",
       "  'Guacamole'],\n",
       " ['FreshTomatoSalsa',\n",
       "  'FajitaVegetables',\n",
       "  'Rice',\n",
       "  'BlackBeans',\n",
       "  'Cheese',\n",
       "  'SourCream',\n",
       "  'Guacamole'],\n",
       " ['FreshTomatoSalsa', 'FajitaVegetables', 'Rice', 'SourCream', 'Lettuce'],\n",
       " ['FreshTomatoSalsa',\n",
       "  'FajitaVegetables',\n",
       "  'Rice',\n",
       "  'BlackBeans',\n",
       "  'SourCream',\n",
       "  'Guacamole',\n",
       "  'Lettuce'],\n",
       " ['FreshTomatoSalsa',\n",
       "  'Rice',\n",
       "  'BlackBeans',\n",
       "  'Cheese',\n",
       "  'SourCream',\n",
       "  'Guacamole',\n",
       "  'Lettuce'],\n",
       " ['FreshTomatoSalsa',\n",
       "  'Rice',\n",
       "  'BlackBeans',\n",
       "  'Cheese',\n",
       "  'SourCream',\n",
       "  'Guacamole',\n",
       "  'Lettuce'],\n",
       " ['Tomatillo-GreenChiliSalsa(Medium)',\n",
       "  'Rice',\n",
       "  'Cheese',\n",
       "  'SourCream',\n",
       "  'Lettuce'],\n",
       " ['RoastedChiliCornSalsa',\n",
       "  'Rice',\n",
       "  'BlackBeans',\n",
       "  'Cheese',\n",
       "  'Lettuce',\n",
       "  'Guacamole'],\n",
       " ['TomatilloRedChiliSalsa', 'Rice', 'BlackBeans', 'Cheese'],\n",
       " ['RoastedChiliCornSalsa',\n",
       "  'FajitaVegetables',\n",
       "  'Rice',\n",
       "  'BlackBeans',\n",
       "  'Cheese',\n",
       "  'SourCream',\n",
       "  'Lettuce'],\n",
       " ['RoastedChiliCornSalsa',\n",
       "  'Rice',\n",
       "  'PintoBeans',\n",
       "  'Cheese',\n",
       "  'SourCream',\n",
       "  'Guacamole'],\n",
       " ['FreshTomatoSalsa',\n",
       "  'Rice',\n",
       "  'FajitaVegetables',\n",
       "  'SourCream',\n",
       "  'Cheese',\n",
       "  'Lettuce'],\n",
       " ['Tomatillo-GreenChiliSalsa(Medium)',\n",
       "  'PintoBeans',\n",
       "  'Rice',\n",
       "  'Cheese',\n",
       "  'SourCream'],\n",
       " ['FreshTomatoSalsa(Mild)', 'Rice', 'Cheese', 'SourCream', 'Lettuce'],\n",
       " ['FreshTomatoSalsa(Mild)',\n",
       "  'Tomatillo-RedChiliSalsa(Hot)',\n",
       "  'PintoBeans',\n",
       "  'FajitaVeggies',\n",
       "  'Cheese',\n",
       "  'Guacamole'],\n",
       " ['Tomatillo-GreenChiliSalsa(Medium)',\n",
       "  'BlackBeans',\n",
       "  'Rice',\n",
       "  'FajitaVeggies',\n",
       "  'Cheese',\n",
       "  'SourCream'],\n",
       " ['FreshTomatoSalsa',\n",
       "  'FajitaVegetables',\n",
       "  'Rice',\n",
       "  'BlackBeans',\n",
       "  'Cheese',\n",
       "  'SourCream'],\n",
       " ['TomatilloGreenChiliSalsa', 'Rice', 'BlackBeans', 'SourCream', 'Cheese'],\n",
       " ['FreshTomatoSalsa(Mild)',\n",
       "  'PintoBeans',\n",
       "  'Rice',\n",
       "  'FajitaVeggies',\n",
       "  'Cheese',\n",
       "  'SourCream',\n",
       "  'Lettuce'],\n",
       " ['FreshTomatoSalsa(Mild)',\n",
       "  'PintoBeans',\n",
       "  'BlackBeans',\n",
       "  'Rice',\n",
       "  'FajitaVeggies',\n",
       "  'Cheese',\n",
       "  'SourCream',\n",
       "  'Lettuce'],\n",
       " ['Tomatillo-RedChiliSalsa(Hot)', 'Rice', 'Cheese', 'SourCream'],\n",
       " ['Tomatillo-RedChiliSalsa(Hot)', 'BlackBeans', 'Rice', 'Cheese', 'Lettuce'],\n",
       " ['FreshTomato(Mild)',\n",
       "  'Guacamole',\n",
       "  'Rice',\n",
       "  'FajitaVeggies',\n",
       "  'SourCream',\n",
       "  'Cheese'],\n",
       " ['FreshTomato(Mild)',\n",
       "  'Lettuce',\n",
       "  'Rice',\n",
       "  'FajitaVeggies',\n",
       "  'SourCream',\n",
       "  'Cheese'],\n",
       " ['FreshTomatoSalsa', 'Rice'],\n",
       " ['TomatilloRedChiliSalsa', 'Rice', 'BlackBeans', 'Cheese'],\n",
       " ['FreshTomatoSalsa',\n",
       "  'Lettuce',\n",
       "  'Guacamole',\n",
       "  'Rice',\n",
       "  'Cheese',\n",
       "  'FajitaVegetables',\n",
       "  'SourCream'],\n",
       " ['FreshTomatoSalsa', 'Rice', 'Cheese'],\n",
       " ['FreshTomatoSalsa(Mild)', 'PintoBeans', 'Rice', 'Cheese', 'SourCream'],\n",
       " ['TomatilloGreenChiliSalsa',\n",
       "  'FajitaVegetables',\n",
       "  'Rice',\n",
       "  'Cheese',\n",
       "  'SourCream'],\n",
       " ['FreshTomatoSalsa',\n",
       "  'Rice',\n",
       "  'BlackBeans',\n",
       "  'Cheese',\n",
       "  'SourCream',\n",
       "  'Guacamole',\n",
       "  'Lettuce'],\n",
       " ['FreshTomatoSalsa', 'Cheese', 'SourCream', 'Lettuce'],\n",
       " ['FreshTomatoSalsa', 'Rice', 'PintoBeans', 'Guacamole', 'Lettuce'],\n",
       " ['FreshTomatoSalsa', 'Cheese', 'SourCream', 'Lettuce'],\n",
       " ['FreshTomatoSalsa',\n",
       "  'Rice',\n",
       "  'PintoBeans',\n",
       "  'Cheese',\n",
       "  'SourCream',\n",
       "  'Guacamole',\n",
       "  'Lettuce'],\n",
       " ['RoastedChiliCornSalsa(Medium)', 'Rice', 'Cheese', 'SourCream'],\n",
       " ['FreshTomatoSalsa(Mild)',\n",
       "  'RoastedChiliCornSalsa(Medium)',\n",
       "  'BlackBeans',\n",
       "  'Rice',\n",
       "  'Cheese',\n",
       "  'Lettuce'],\n",
       " ['TomatilloRedChiliSalsa', 'Cheese', 'Rice', 'BlackBeans'],\n",
       " ['RoastedChiliCornSalsa',\n",
       "  'BlackBeans',\n",
       "  'Cheese',\n",
       "  'SourCream',\n",
       "  'Guacamole',\n",
       "  'Lettuce'],\n",
       " ['RoastedChiliCornSalsa',\n",
       "  'Rice',\n",
       "  'BlackBeans',\n",
       "  'Cheese',\n",
       "  'SourCream',\n",
       "  'Guacamole',\n",
       "  'Lettuce'],\n",
       " ['FreshTomatoSalsa', 'Rice', 'BlackBeans', 'Cheese', 'SourCream', 'Lettuce'],\n",
       " ['FreshTomatoSalsa', 'Rice', 'BlackBeans', 'SourCream', 'Lettuce'],\n",
       " ['FreshTomatoSalsa',\n",
       "  'Rice',\n",
       "  'FajitaVegetables',\n",
       "  'SourCream',\n",
       "  'Cheese',\n",
       "  'Guacamole'],\n",
       " ['FreshTomatoSalsa(Mild)', 'PintoBeans', 'Rice', 'Cheese', 'SourCream'],\n",
       " ['FreshTomatoSalsa',\n",
       "  'FajitaVegetables',\n",
       "  'Rice',\n",
       "  'BlackBeans',\n",
       "  'Cheese',\n",
       "  'Lettuce'],\n",
       " ['FreshTomatoSalsa',\n",
       "  'FajitaVegetables',\n",
       "  'Rice',\n",
       "  'BlackBeans',\n",
       "  'Cheese',\n",
       "  'Lettuce'],\n",
       " ['FreshTomatoSalsa',\n",
       "  'FajitaVegetables',\n",
       "  'Rice',\n",
       "  'BlackBeans',\n",
       "  'Cheese',\n",
       "  'Lettuce'],\n",
       " ['RoastedChiliCornSalsa(Medium)',\n",
       "  'BlackBeans',\n",
       "  'Rice',\n",
       "  'FajitaVeggies',\n",
       "  'Cheese',\n",
       "  'SourCream',\n",
       "  'Guacamole',\n",
       "  'Lettuce'],\n",
       " ['Tomatillo-GreenChiliSalsa(Medium)',\n",
       "  'Tomatillo-RedChiliSalsa(Hot)',\n",
       "  'BlackBeans',\n",
       "  'Rice',\n",
       "  'FajitaVeggies',\n",
       "  'SourCream'],\n",
       " ['FreshTomatoSalsa(Mild)', 'Rice', 'Cheese', 'Lettuce'],\n",
       " ['TomatilloRedChili(Hot)', 'Lettuce', 'Rice', 'Cheese'],\n",
       " ['TomatilloRedChili(Hot)', 'Lettuce', 'Rice', 'SourCream', 'Cheese'],\n",
       " ['RoastedChiliCornSalsa(Medium)',\n",
       "  'FreshTomatoSalsa(Mild)',\n",
       "  'Rice',\n",
       "  'BlackBeans',\n",
       "  'FajitaVeggies',\n",
       "  'Cheese',\n",
       "  'SourCream',\n",
       "  'Guacamole',\n",
       "  'Lettuce'],\n",
       " ['FreshTomatoSalsa(Mild)',\n",
       "  'Rice',\n",
       "  'Cheese',\n",
       "  'SourCream',\n",
       "  'Guacamole',\n",
       "  'Lettuce'],\n",
       " ['FreshTomatoSalsa(Mild)',\n",
       "  'Rice',\n",
       "  'BlackBeans',\n",
       "  'Cheese',\n",
       "  'SourCream',\n",
       "  'Guacamole',\n",
       "  'Lettuce'],\n",
       " ['FreshTomatoSalsa', 'Rice', 'BlackBeans', 'Cheese', 'Lettuce'],\n",
       " ['RoastedChiliCornSalsa', 'Rice', 'PintoBeans', 'Cheese'],\n",
       " ['Tomatillo-RedChiliSalsa(Hot)', 'BlackBeans', 'Rice', 'Cheese'],\n",
       " ['FreshTomatoSalsa',\n",
       "  'FajitaVegetables',\n",
       "  'Rice',\n",
       "  'PintoBeans',\n",
       "  'Cheese',\n",
       "  'SourCream',\n",
       "  'Lettuce'],\n",
       " ['RoastedChiliCornSalsa(Medium)',\n",
       "  'FreshTomatoSalsa(Mild)',\n",
       "  'Lettuce',\n",
       "  'BlackBeans',\n",
       "  'SourCream',\n",
       "  'Cheese',\n",
       "  'Rice',\n",
       "  'FajitaVeggies',\n",
       "  'PintoBeans'],\n",
       " ['TomatilloRedChiliSalsa', 'Rice', 'Cheese', 'Lettuce'],\n",
       " ['TomatilloRedChiliSalsa',\n",
       "  'FajitaVegetables',\n",
       "  'BlackBeans',\n",
       "  'Cheese',\n",
       "  'SourCream',\n",
       "  'Guacamole'],\n",
       " ['RoastedChiliCornSalsa',\n",
       "  'FajitaVegetables',\n",
       "  'Rice',\n",
       "  'BlackBeans',\n",
       "  'Cheese',\n",
       "  'SourCream',\n",
       "  'Guacamole'],\n",
       " ['Tomatillo-GreenChiliSalsa(Medium)',\n",
       "  'RoastedChiliCornSalsa(Medium)',\n",
       "  'Tomatillo-RedChiliSalsa(Hot)',\n",
       "  'PintoBeans',\n",
       "  'Rice',\n",
       "  'FajitaVeggies',\n",
       "  'Cheese',\n",
       "  'SourCream',\n",
       "  'Guacamole',\n",
       "  'Lettuce'],\n",
       " ['FreshTomatoSalsa(Mild)',\n",
       "  'Tomatillo-RedChiliSalsa(Hot)',\n",
       "  'Rice',\n",
       "  'Cheese',\n",
       "  'SourCream',\n",
       "  'Guacamole'],\n",
       " ['Tomatillo-RedChiliSalsa(Hot)', 'BlackBeans', 'Rice', 'Cheese'],\n",
       " ['FreshTomatoSalsa', 'Rice', 'PintoBeans', 'Cheese'],\n",
       " ['FreshTomatoSalsa',\n",
       "  'FajitaVegetables',\n",
       "  'Rice',\n",
       "  'BlackBeans',\n",
       "  'Cheese',\n",
       "  'SourCream',\n",
       "  'Guacamole'],\n",
       " ['RoastedChiliCornSalsa(Medium)', 'Rice', 'Cheese', 'Lettuce'],\n",
       " ['FreshTomatoSalsa', 'Rice', 'Cheese', 'SourCream', 'Lettuce'],\n",
       " ['RoastedChiliCornSalsa',\n",
       "  'Rice',\n",
       "  'PintoBeans',\n",
       "  'Cheese',\n",
       "  'SourCream',\n",
       "  'Guacamole'],\n",
       " ['TomatilloGreenChiliSalsa',\n",
       "  'Rice',\n",
       "  'BlackBeans',\n",
       "  'SourCream',\n",
       "  'Cheese',\n",
       "  'Guacamole'],\n",
       " ['TomatilloGreenChiliSalsa',\n",
       "  'Rice',\n",
       "  'FajitaVegetables',\n",
       "  'SourCream',\n",
       "  'Cheese',\n",
       "  'Lettuce',\n",
       "  'Guacamole'],\n",
       " ['Tomatillo-GreenChiliSalsa(Medium)',\n",
       "  'Rice',\n",
       "  'Cheese',\n",
       "  'SourCream',\n",
       "  'Lettuce'],\n",
       " ['TomatilloGreenChiliSalsa',\n",
       "  'FajitaVegetables',\n",
       "  'Rice',\n",
       "  'BlackBeans',\n",
       "  'Cheese',\n",
       "  'SourCream',\n",
       "  'Lettuce'],\n",
       " ['TomatilloGreenChiliSalsa', 'Guacamole'],\n",
       " ['Tomatillo-RedChiliSalsa(Hot)',\n",
       "  'BlackBeans',\n",
       "  'Rice',\n",
       "  'Cheese',\n",
       "  'SourCream',\n",
       "  'Guacamole'],\n",
       " ['RoastedChiliCornSalsa', 'Rice', 'PintoBeans', 'Cheese', 'Lettuce'],\n",
       " ['FreshTomatoSalsa(Mild)', 'Cheese', 'SourCream', 'Guacamole', 'Lettuce'],\n",
       " ['FreshTomatoSalsa', 'Rice', 'SourCream', 'Guacamole'],\n",
       " ['FreshTomatoSalsa(Mild)', 'PintoBeans', 'Rice', 'Cheese', 'SourCream'],\n",
       " ['FreshTomatoSalsa', 'FajitaVegetables', 'Rice'],\n",
       " ['FreshTomatoSalsa',\n",
       "  'Rice',\n",
       "  'BlackBeans',\n",
       "  'Cheese',\n",
       "  'SourCream',\n",
       "  'Guacamole'],\n",
       " ['FreshTomatoSalsa(Mild)',\n",
       "  'BlackBeans',\n",
       "  'Rice',\n",
       "  'Cheese',\n",
       "  'SourCream',\n",
       "  'Lettuce'],\n",
       " ['RoastedChiliCornSalsa',\n",
       "  'FajitaVegetables',\n",
       "  'Rice',\n",
       "  'PintoBeans',\n",
       "  'Guacamole',\n",
       "  'Lettuce'],\n",
       " ['FreshTomatoSalsa', 'Rice'],\n",
       " ['FreshTomatoSalsa',\n",
       "  'Rice',\n",
       "  'BlackBeans',\n",
       "  'Cheese',\n",
       "  'SourCream',\n",
       "  'Guacamole'],\n",
       " ['FreshTomatoSalsa(Mild)', 'PintoBeans', 'Rice', 'Cheese', 'SourCream'],\n",
       " ['FreshTomatoSalsa', 'Rice', 'BlackBeans', 'Cheese', 'SourCream'],\n",
       " ['RoastedChiliCornSalsa', 'Rice', 'FajitaVegetables'],\n",
       " ['TomatilloGreenChiliSalsa', 'Rice', 'FajitaVegetables', 'SourCream'],\n",
       " ['FreshTomatoSalsa',\n",
       "  'FajitaVegetables',\n",
       "  'Rice',\n",
       "  'BlackBeans',\n",
       "  'PintoBeans',\n",
       "  'Cheese',\n",
       "  'SourCream',\n",
       "  'Guacamole',\n",
       "  'Lettuce'],\n",
       " ['Tomatillo-RedChiliSalsa(Hot)',\n",
       "  'BlackBeans',\n",
       "  'Rice',\n",
       "  'Cheese',\n",
       "  'SourCream',\n",
       "  'Guacamole'],\n",
       " ['FreshTomatoSalsa',\n",
       "  'Rice',\n",
       "  'FajitaVegetables',\n",
       "  'BlackBeans',\n",
       "  'SourCream',\n",
       "  'Cheese',\n",
       "  'Lettuce'],\n",
       " ['FreshTomatoSalsa', 'Rice', 'PintoBeans', 'Cheese'],\n",
       " ['Tomatillo-RedChiliSalsa(Hot)',\n",
       "  'BlackBeans',\n",
       "  'Rice',\n",
       "  'FajitaVeggies',\n",
       "  'Cheese',\n",
       "  'Lettuce'],\n",
       " ['FreshTomatoSalsa(Mild)',\n",
       "  'RoastedChiliCornSalsa(Medium)',\n",
       "  'PintoBeans',\n",
       "  'BlackBeans',\n",
       "  'Rice',\n",
       "  'FajitaVeggies',\n",
       "  'Cheese',\n",
       "  'Lettuce'],\n",
       " ['Tomatillo-GreenChiliSalsa(Medium)',\n",
       "  'PintoBeans',\n",
       "  'Rice',\n",
       "  'FajitaVeggies',\n",
       "  'Cheese',\n",
       "  'SourCream',\n",
       "  'Lettuce'],\n",
       " ['Tomatillo-GreenChiliSalsa(Medium)',\n",
       "  'BlackBeans',\n",
       "  'Rice',\n",
       "  'Cheese',\n",
       "  'SourCream',\n",
       "  'Guacamole',\n",
       "  'Lettuce'],\n",
       " ['FreshTomatoSalsa', 'Rice', 'SourCream', 'Guacamole', 'Lettuce'],\n",
       " ['FreshTomatoSalsa',\n",
       "  'FajitaVegetables',\n",
       "  'Rice',\n",
       "  'Cheese',\n",
       "  'SourCream',\n",
       "  'Lettuce'],\n",
       " ['TomatilloRedChiliSalsa', 'Rice', 'BlackBeans', 'Cheese'],\n",
       " ['RoastedChiliCornSalsa',\n",
       "  'Rice',\n",
       "  'BlackBeans',\n",
       "  'SourCream',\n",
       "  'Cheese',\n",
       "  'Lettuce'],\n",
       " ['FreshTomatoSalsa(Mild)',\n",
       "  'RoastedChiliCornSalsa(Medium)',\n",
       "  'BlackBeans',\n",
       "  'Rice',\n",
       "  'FajitaVeggies',\n",
       "  'Cheese',\n",
       "  'SourCream',\n",
       "  'Lettuce'],\n",
       " ['FreshTomatoSalsa',\n",
       "  'FajitaVegetables',\n",
       "  'Rice',\n",
       "  'BlackBeans',\n",
       "  'Cheese',\n",
       "  'SourCream',\n",
       "  'Lettuce'],\n",
       " ['FreshTomatoSalsa',\n",
       "  'FajitaVegetables',\n",
       "  'Rice',\n",
       "  'BlackBeans',\n",
       "  'Cheese',\n",
       "  'SourCream',\n",
       "  'Lettuce'],\n",
       " ['RoastedChiliCornSalsa(Medium)',\n",
       "  'Tomatillo-GreenChiliSalsa(Medium)',\n",
       "  'Rice',\n",
       "  'BlackBeans',\n",
       "  'SourCream'],\n",
       " ['FreshTomatoSalsa', 'Rice', 'SourCream', 'Guacamole', 'Lettuce'],\n",
       " ['FreshTomatoSalsa', 'Rice', 'BlackBeans', 'Cheese', 'Lettuce'],\n",
       " ['FreshTomatoSalsa', 'Rice', 'SourCream', 'Guacamole', 'Lettuce'],\n",
       " ['TomatilloRedChiliSalsa', 'Rice', 'BlackBeans', 'Cheese'],\n",
       " ['RoastedChiliCornSalsa(Medium)',\n",
       "  'BlackBeans',\n",
       "  'Rice',\n",
       "  'FajitaVeggies',\n",
       "  'Cheese',\n",
       "  'Lettuce'],\n",
       " ['FreshTomatoSalsa(Mild)',\n",
       "  'Tomatillo-RedChiliSalsa(Hot)',\n",
       "  'BlackBeans',\n",
       "  'Rice',\n",
       "  'Cheese',\n",
       "  'SourCream'],\n",
       " ['FreshTomatoSalsa',\n",
       "  'Guacamole',\n",
       "  'Lettuce',\n",
       "  'SourCream',\n",
       "  'FajitaVegetables',\n",
       "  'Cheese',\n",
       "  'Rice'],\n",
       " ['RoastedChiliCornSalsa', 'Rice', 'BlackBeans'],\n",
       " ['FreshTomatoSalsa', 'Rice', 'BlackBeans'],\n",
       " ['RoastedChiliCornSalsa', 'BlackBeans', 'Cheese', 'Lettuce'],\n",
       " ['FreshTomatoSalsa', 'Rice'],\n",
       " ['TomatilloGreenChiliSalsa', 'Rice', 'Cheese', 'Lettuce'],\n",
       " ['TomatilloGreenChiliSalsa', 'Rice', 'PintoBeans', 'Cheese', 'Lettuce'],\n",
       " ['RoastedChiliCornSalsa',\n",
       "  'FajitaVegetables',\n",
       "  'BlackBeans',\n",
       "  'SourCream',\n",
       "  'Lettuce',\n",
       "  'Guacamole'],\n",
       " ['Tomatillo-GreenChiliSalsa(Medium)',\n",
       "  'Rice',\n",
       "  'Cheese',\n",
       "  'SourCream',\n",
       "  'Lettuce'],\n",
       " ['RoastedChiliCornSalsa', 'BlackBeans', 'Cheese', 'Lettuce'],\n",
       " ['RoastedChiliCornSalsa',\n",
       "  'FajitaVegetables',\n",
       "  'Rice',\n",
       "  'BlackBeans',\n",
       "  'Cheese',\n",
       "  'SourCream',\n",
       "  'Guacamole',\n",
       "  'Lettuce'],\n",
       " ['TomatilloRedChiliSalsa', 'Rice', 'Cheese', 'Lettuce'],\n",
       " ['FreshTomatoSalsa', 'Rice', 'FajitaVegetables'],\n",
       " ['FreshTomatoSalsa(Mild)', 'BlackBeans', 'Rice', 'SourCream', 'Guacamole'],\n",
       " ['FreshTomatoSalsa',\n",
       "  'Guacamole',\n",
       "  'Cheese',\n",
       "  'Rice',\n",
       "  'SourCream',\n",
       "  'FajitaVegetables',\n",
       "  'Lettuce'],\n",
       " ['FreshTomatoSalsa(Mild)',\n",
       "  'PintoBeans',\n",
       "  'BlackBeans',\n",
       "  'Rice',\n",
       "  'Cheese',\n",
       "  'SourCream',\n",
       "  'Lettuce'],\n",
       " ['FreshTomatoSalsa',\n",
       "  'FajitaVegetables',\n",
       "  'Rice',\n",
       "  'BlackBeans',\n",
       "  'SourCream',\n",
       "  'Guacamole',\n",
       "  'Lettuce'],\n",
       " ['RoastedChiliCornSalsa',\n",
       "  'Rice',\n",
       "  'PintoBeans',\n",
       "  'SourCream',\n",
       "  'Cheese',\n",
       "  'Guacamole'],\n",
       " ['FreshTomatoSalsa', 'Rice', 'SourCream', 'Guacamole', 'Lettuce'],\n",
       " ['TomatilloRedChiliSalsa',\n",
       "  'Rice',\n",
       "  'BlackBeans',\n",
       "  'Cheese',\n",
       "  'SourCream',\n",
       "  'Lettuce'],\n",
       " ['FreshTomatoSalsa(Mild)',\n",
       "  'Rice',\n",
       "  'FajitaVeggies',\n",
       "  'Cheese',\n",
       "  'SourCream',\n",
       "  'Lettuce'],\n",
       " ['Tomatillo-RedChiliSalsa(Hot)',\n",
       "  'Rice',\n",
       "  'FajitaVeggies',\n",
       "  'Cheese',\n",
       "  'SourCream',\n",
       "  'Lettuce'],\n",
       " ['FreshTomatoSalsa(Mild)',\n",
       "  'RoastedChiliCornSalsa(Medium)',\n",
       "  'Tomatillo-RedChiliSalsa(Hot)',\n",
       "  'PintoBeans',\n",
       "  'Rice',\n",
       "  'FajitaVeggies',\n",
       "  'Cheese',\n",
       "  'SourCream',\n",
       "  'Lettuce'],\n",
       " ['FreshTomato(Mild)', 'Guacamole', 'Rice', 'BlackBeans'],\n",
       " ['FreshTomatoSalsa(Mild)', 'PintoBeans', 'Rice', 'Cheese', 'SourCream'],\n",
       " ['FreshTomatoSalsa',\n",
       "  'Rice',\n",
       "  'BlackBeans',\n",
       "  'Cheese',\n",
       "  'SourCream',\n",
       "  'Guacamole',\n",
       "  'Lettuce'],\n",
       " ['TomatilloRedChiliSalsa', 'Rice'],\n",
       " ['FreshTomatoSalsa(Mild)',\n",
       "  'RoastedChiliCornSalsa(Medium)',\n",
       "  'Tomatillo-RedChiliSalsa(Hot)',\n",
       "  'Rice',\n",
       "  'FajitaVeggies',\n",
       "  'Cheese',\n",
       "  'Lettuce'],\n",
       " ['FreshTomatoSalsa(Mild)', 'FajitaVeggies', 'Guacamole', 'Lettuce'],\n",
       " ['FreshTomatoSalsa',\n",
       "  'Rice',\n",
       "  'BlackBeans',\n",
       "  'SourCream',\n",
       "  'Cheese',\n",
       "  'Lettuce',\n",
       "  'Guacamole'],\n",
       " ['TomatilloGreenChiliSalsa',\n",
       "  'FajitaVegetables',\n",
       "  'Rice',\n",
       "  'BlackBeans',\n",
       "  'PintoBeans',\n",
       "  'Cheese'],\n",
       " ['FreshTomatoSalsa(Mild)', 'PintoBeans', 'Rice', 'Cheese', 'SourCream'],\n",
       " ['TomatilloGreenChiliSalsa',\n",
       "  'Rice',\n",
       "  'PintoBeans',\n",
       "  'Cheese',\n",
       "  'SourCream',\n",
       "  'Guacamole'],\n",
       " ['TomatilloGreenChiliSalsa',\n",
       "  'Rice',\n",
       "  'FajitaVegetables',\n",
       "  'SourCream',\n",
       "  'Cheese',\n",
       "  'Lettuce'],\n",
       " ['FreshTomatoSalsa', 'SourCream', 'Guacamole', 'Rice', 'Lettuce'],\n",
       " ['FreshTomatoSalsa', 'Rice', 'Cheese', 'Lettuce'],\n",
       " ['FreshTomatoSalsa',\n",
       "  'Rice',\n",
       "  'FajitaVegetables',\n",
       "  'BlackBeans',\n",
       "  'Lettuce',\n",
       "  'Guacamole'],\n",
       " ['FreshTomatoSalsa', 'FajitaVegetables', 'Rice', 'Cheese', 'Guacamole'],\n",
       " ['TomatilloGreenChiliSalsa',\n",
       "  'FajitaVegetables',\n",
       "  'Rice',\n",
       "  'BlackBeans',\n",
       "  'PintoBeans',\n",
       "  'Cheese',\n",
       "  'SourCream',\n",
       "  'Guacamole',\n",
       "  'Lettuce'],\n",
       " ['TomatilloRedChiliSalsa', 'Rice', 'Cheese', 'SourCream'],\n",
       " ['TomatilloRedChiliSalsa', 'Rice', 'BlackBeans', 'Cheese', 'Lettuce'],\n",
       " ['TomatilloRedChiliSalsa', 'Rice', 'PintoBeans', 'Cheese', 'Lettuce'],\n",
       " ['RoastedChiliCornSalsa',\n",
       "  'FajitaVegetables',\n",
       "  'Rice',\n",
       "  'BlackBeans',\n",
       "  'Guacamole'],\n",
       " ['FreshTomatoSalsa', 'Rice', 'PintoBeans', 'Cheese', 'Guacamole', 'Lettuce'],\n",
       " ['RoastedChiliCornSalsa',\n",
       "  'Rice',\n",
       "  'PintoBeans',\n",
       "  'Cheese',\n",
       "  'SourCream',\n",
       "  'Guacamole',\n",
       "  'Lettuce'],\n",
       " ['FreshTomatoSalsa', 'Rice', 'PintoBeans', 'Guacamole', 'Lettuce'],\n",
       " ['FreshTomatoSalsa',\n",
       "  'Rice',\n",
       "  'BlackBeans',\n",
       "  'Cheese',\n",
       "  'SourCream',\n",
       "  'Guacamole',\n",
       "  'Lettuce'],\n",
       " ['Tomatillo-RedChiliSalsa(Hot)',\n",
       "  'Lettuce',\n",
       "  'Guacamole',\n",
       "  'SourCream',\n",
       "  'Cheese',\n",
       "  'Rice',\n",
       "  'BlackBeans'],\n",
       " ['FreshTomatoSalsa(Mild)', 'Cheese', 'Lettuce'],\n",
       " ['FreshTomatoSalsa',\n",
       "  'Rice',\n",
       "  'BlackBeans',\n",
       "  'Cheese',\n",
       "  'SourCream',\n",
       "  'Guacamole'],\n",
       " ['TomatilloRedChiliSalsa', 'BlackBeans', 'Lettuce'],\n",
       " ['TomatilloGreenChiliSalsa',\n",
       "  'Rice',\n",
       "  'PintoBeans',\n",
       "  'BlackBeans',\n",
       "  'SourCream',\n",
       "  'Cheese',\n",
       "  'Lettuce'],\n",
       " ['TomatilloRedChiliSalsa',\n",
       "  'Rice',\n",
       "  'PintoBeans',\n",
       "  'SourCream',\n",
       "  'Guacamole',\n",
       "  'Lettuce'],\n",
       " ['TomatilloGreenChiliSalsa',\n",
       "  'FajitaVegetables',\n",
       "  'Rice',\n",
       "  'Cheese',\n",
       "  'SourCream',\n",
       "  'Guacamole',\n",
       "  'Lettuce'],\n",
       " ['TomatilloRedChiliSalsa', 'Rice', 'BlackBeans', 'Cheese'],\n",
       " ['RoastedChiliCornSalsa',\n",
       "  'FajitaVegetables',\n",
       "  'Rice',\n",
       "  'BlackBeans',\n",
       "  'Cheese',\n",
       "  'SourCream',\n",
       "  'Guacamole',\n",
       "  'Lettuce'],\n",
       " ['FreshTomatoSalsa(Mild)',\n",
       "  'RoastedChiliCornSalsa(Medium)',\n",
       "  'BlackBeans',\n",
       "  'Rice',\n",
       "  'Cheese',\n",
       "  'SourCream',\n",
       "  'Guacamole'],\n",
       " ['RoastedChiliCornSalsa', 'FajitaVegetables', 'Rice', 'BlackBeans', 'Cheese'],\n",
       " ['RoastedChiliCornSalsa', 'Lettuce', 'BlackBeans', 'Cheese'],\n",
       " ['FreshTomatoSalsa', 'Rice', 'SourCream', 'Guacamole', 'Lettuce'],\n",
       " ['TomatilloRedChiliSalsa', 'Rice', 'BlackBeans', 'Cheese'],\n",
       " ['TomatilloRedChiliSalsa', 'Rice', 'Cheese', 'Lettuce'],\n",
       " ['TomatilloGreenChiliSalsa', 'Rice', 'PintoBeans', 'Cheese', 'Lettuce'],\n",
       " ['FreshTomatoSalsa',\n",
       "  'FajitaVegetables',\n",
       "  'Rice',\n",
       "  'BlackBeans',\n",
       "  'Cheese',\n",
       "  'SourCream',\n",
       "  'Guacamole'],\n",
       " ['TomatilloRedChiliSalsa', 'Rice', 'Cheese', 'SourCream'],\n",
       " ['FreshTomatoSalsa(Mild)',\n",
       "  'BlackBeans',\n",
       "  'Rice',\n",
       "  'FajitaVeggies',\n",
       "  'Cheese',\n",
       "  'SourCream',\n",
       "  'Lettuce'],\n",
       " ['TomatilloRedChiliSalsa', 'Rice', 'Cheese', 'Lettuce'],\n",
       " ['FreshTomatoSalsa(Mild)', 'PintoBeans', 'Rice', 'Cheese', 'SourCream'],\n",
       " ['TomatilloGreenChiliSalsa',\n",
       "  'Rice',\n",
       "  'FajitaVegetables',\n",
       "  'SourCream',\n",
       "  'Cheese',\n",
       "  'Lettuce'],\n",
       " ['TomatilloRedChiliSalsa', 'Rice', 'BlackBeans', 'Cheese'],\n",
       " ['RoastedChiliCornSalsa(Medium)',\n",
       "  'BlackBeans',\n",
       "  'Rice',\n",
       "  'Cheese',\n",
       "  'SourCream',\n",
       "  'Lettuce'],\n",
       " ['TomatilloGreenChiliSalsa',\n",
       "  'Rice',\n",
       "  'BlackBeans',\n",
       "  'Cheese',\n",
       "  'SourCream',\n",
       "  'Lettuce'],\n",
       " ['FreshTomatoSalsa', 'Rice', 'Cheese', 'Lettuce'],\n",
       " ['FreshTomatoSalsa',\n",
       "  'FajitaVegetables',\n",
       "  'Rice',\n",
       "  'PintoBeans',\n",
       "  'Cheese',\n",
       "  'SourCream'],\n",
       " ['TomatilloRedChiliSalsa', 'Rice', 'Cheese', 'Lettuce'],\n",
       " ['TomatilloRedChiliSalsa', 'SourCream'],\n",
       " ['FreshTomatoSalsa',\n",
       "  'Rice',\n",
       "  'PintoBeans',\n",
       "  'Cheese',\n",
       "  'SourCream',\n",
       "  'Guacamole'],\n",
       " ['FreshTomatoSalsa', 'Rice', 'BlackBeans', 'Cheese', 'Lettuce'],\n",
       " ['FreshTomatoSalsa(Mild)',\n",
       "  'BlackBeans',\n",
       "  'Rice',\n",
       "  'Cheese',\n",
       "  'SourCream',\n",
       "  'Lettuce'],\n",
       " ['FreshTomatoSalsa(Mild)', 'BlackBeans', 'Rice', 'SourCream', 'Guacamole'],\n",
       " ['FreshTomatoSalsa(Mild)', 'BlackBeans', 'Rice', 'Cheese', 'SourCream'],\n",
       " ['RoastedChiliCornSalsa',\n",
       "  'Rice',\n",
       "  'BlackBeans',\n",
       "  'SourCream',\n",
       "  'Cheese',\n",
       "  'Lettuce'],\n",
       " ['RoastedChiliCornSalsa(Medium)',\n",
       "  'PintoBeans',\n",
       "  'Rice',\n",
       "  'FajitaVeggies',\n",
       "  'SourCream',\n",
       "  'Lettuce'],\n",
       " ['RoastedChiliCornSalsa(Medium)',\n",
       "  'Tomatillo-RedChiliSalsa(Hot)',\n",
       "  'PintoBeans',\n",
       "  'Rice',\n",
       "  'FajitaVeggies',\n",
       "  'Cheese',\n",
       "  'SourCream',\n",
       "  'Lettuce'],\n",
       " ['TomatilloGreenChiliSalsa',\n",
       "  'FajitaVegetables',\n",
       "  'Rice',\n",
       "  'Cheese',\n",
       "  'SourCream',\n",
       "  'Guacamole',\n",
       "  'Lettuce'],\n",
       " ['FreshTomatoSalsa', 'Rice', 'SourCream', 'Lettuce', 'Guacamole'],\n",
       " ['Tomatillo-GreenChiliSalsa(Medium)',\n",
       "  'RoastedChiliCornSalsa(Medium)',\n",
       "  'Tomatillo-RedChiliSalsa(Hot)',\n",
       "  'PintoBeans',\n",
       "  'Rice',\n",
       "  'FajitaVeggies',\n",
       "  'Cheese',\n",
       "  'SourCream',\n",
       "  'Lettuce'],\n",
       " ['FreshTomatoSalsa(Mild)',\n",
       "  'RoastedChiliCornSalsa(Medium)',\n",
       "  'BlackBeans',\n",
       "  'Rice',\n",
       "  'Cheese',\n",
       "  'SourCream',\n",
       "  'Lettuce'],\n",
       " ['FreshTomatoSalsa(Mild)', 'Rice', 'FajitaVeggies', 'Cheese', 'Lettuce'],\n",
       " ['FreshTomatoSalsa(Mild)', 'PintoBeans', 'Rice', 'Cheese', 'SourCream'],\n",
       " ['FreshTomatoSalsa', 'Rice', 'PintoBeans', 'Cheese', 'Guacamole', 'Lettuce'],\n",
       " ['RoastedChiliCornSalsa',\n",
       "  'FajitaVegetables',\n",
       "  'Rice',\n",
       "  'SourCream',\n",
       "  'Guacamole'],\n",
       " ['FreshTomatoSalsa',\n",
       "  'Rice',\n",
       "  'FajitaVegetables',\n",
       "  'BlackBeans',\n",
       "  'Lettuce',\n",
       "  'Guacamole'],\n",
       " ['FreshTomatoSalsa(Mild)',\n",
       "  'BlackBeans',\n",
       "  'Rice',\n",
       "  'Cheese',\n",
       "  'SourCream',\n",
       "  'Lettuce'],\n",
       " ['TomatilloRedChiliSalsa', 'Lettuce'],\n",
       " ['FreshTomatoSalsa', 'Rice', 'BlackBeans', 'Cheese', 'SourCream', 'Lettuce'],\n",
       " ['TomatilloGreenChiliSalsa',\n",
       "  'FajitaVegetables',\n",
       "  'Rice',\n",
       "  'Cheese',\n",
       "  'Guacamole',\n",
       "  'Lettuce'],\n",
       " ['TomatilloRedChiliSalsa', 'Rice', 'PintoBeans', 'Cheese', 'Lettuce'],\n",
       " ['FreshTomatoSalsa(Mild)',\n",
       "  'RoastedChiliCornSalsa(Medium)',\n",
       "  'Rice',\n",
       "  'Guacamole',\n",
       "  'Lettuce'],\n",
       " ['FreshTomatoSalsa(Mild)', 'BlackBeans', 'Rice', 'Guacamole', 'Lettuce'],\n",
       " ['TomatilloRedChiliSalsa', 'FajitaVegetables', 'Rice', 'Cheese', 'SourCream'],\n",
       " ['FreshTomatoSalsa',\n",
       "  'FajitaVegetables',\n",
       "  'Rice',\n",
       "  'BlackBeans',\n",
       "  'Cheese',\n",
       "  'SourCream',\n",
       "  'Lettuce'],\n",
       " ['FreshTomatoSalsa', 'Rice', 'BlackBeans', 'Cheese', 'SourCream', 'Lettuce'],\n",
       " ['TomatilloGreenChiliSalsa',\n",
       "  'Rice',\n",
       "  'PintoBeans',\n",
       "  'Cheese',\n",
       "  'SourCream',\n",
       "  'Guacamole'],\n",
       " ['FreshTomatoSalsa(Mild)',\n",
       "  'Tomatillo-GreenChiliSalsa(Medium)',\n",
       "  'Tomatillo-RedChiliSalsa(Hot)',\n",
       "  'PintoBeans',\n",
       "  'BlackBeans',\n",
       "  'Rice',\n",
       "  'FajitaVeggies',\n",
       "  'Cheese',\n",
       "  'SourCream',\n",
       "  'Lettuce'],\n",
       " ['Tomatillo-GreenChiliSalsa(Medium)', 'Rice', 'Cheese', 'Guacamole'],\n",
       " ['FreshTomatoSalsa',\n",
       "  'Rice',\n",
       "  'BlackBeans',\n",
       "  'Cheese',\n",
       "  'SourCream',\n",
       "  'Guacamole',\n",
       "  'Lettuce'],\n",
       " ['FreshTomatoSalsa', 'Rice'],\n",
       " ['FreshTomatoSalsa', 'Rice', 'BlackBeans', 'Cheese', 'SourCream', 'Lettuce'],\n",
       " ['RoastedChiliCornSalsa(Medium)',\n",
       "  'Rice',\n",
       "  'FajitaVeggies',\n",
       "  'Cheese',\n",
       "  'SourCream',\n",
       "  'Lettuce'],\n",
       " ['FreshTomatoSalsa(Mild)', 'PintoBeans', 'Rice', 'Cheese', 'SourCream'],\n",
       " ['TomatilloGreenChiliSalsa',\n",
       "  'FajitaVegetables',\n",
       "  'Cheese',\n",
       "  'SourCream',\n",
       "  'Guacamole',\n",
       "  'Lettuce',\n",
       "  'Rice'],\n",
       " ['FreshTomatoSalsa', 'Lettuce', 'Rice', 'BlackBeans', 'Cheese'],\n",
       " ['FreshTomatoSalsa', 'Cheese', 'Rice', 'PintoBeans'],\n",
       " ['FreshTomatoSalsa(Mild)', 'PintoBeans', 'Rice', 'Cheese', 'SourCream'],\n",
       " ['RoastedChiliCornSalsa',\n",
       "  'FajitaVegetables',\n",
       "  'Rice',\n",
       "  'BlackBeans',\n",
       "  'PintoBeans',\n",
       "  'Cheese',\n",
       "  'SourCream',\n",
       "  'Lettuce'],\n",
       " ['FreshTomatoSalsa(Mild)',\n",
       "  'BlackBeans',\n",
       "  'Rice',\n",
       "  'Cheese',\n",
       "  'SourCream',\n",
       "  'Guacamole'],\n",
       " ['FreshTomatoSalsa',\n",
       "  'FajitaVegetables',\n",
       "  'Rice',\n",
       "  'BlackBeans',\n",
       "  'Cheese',\n",
       "  'SourCream'],\n",
       " ['RoastedChiliCornSalsa',\n",
       "  'FajitaVegetables',\n",
       "  'Rice',\n",
       "  'BlackBeans',\n",
       "  'PintoBeans',\n",
       "  'Cheese',\n",
       "  'SourCream',\n",
       "  'Lettuce'],\n",
       " ['FreshTomatoSalsa', 'Rice', 'PintoBeans', 'Cheese'],\n",
       " ['FreshTomatoSalsa', 'Cheese', 'Lettuce'],\n",
       " ['FreshTomatoSalsa', 'Rice', 'BlackBeans', 'Cheese', 'SourCream'],\n",
       " ['TomatilloRedChiliSalsa', 'BlackBeans', 'Cheese', 'SourCream'],\n",
       " ['FreshTomatoSalsa', 'PintoBeans', 'Cheese', 'SourCream'],\n",
       " ['RoastedChiliCornSalsa',\n",
       "  'Rice',\n",
       "  'PintoBeans',\n",
       "  'Cheese',\n",
       "  'SourCream',\n",
       "  'Guacamole'],\n",
       " ['FreshTomatoSalsa(Mild)',\n",
       "  'RoastedChiliCornSalsa(Medium)',\n",
       "  'BlackBeans',\n",
       "  'Rice',\n",
       "  'FajitaVeggies',\n",
       "  'SourCream',\n",
       "  'Lettuce'],\n",
       " ['RoastedChiliCornSalsa', 'Cheese', 'BlackBeans', 'Lettuce'],\n",
       " ['RoastedChiliCornSalsa', 'Rice', 'PintoBeans', 'Cheese', 'SourCream'],\n",
       " ['RoastedChiliCornSalsa', 'Rice', 'Cheese', 'Guacamole', 'Lettuce'],\n",
       " ['FreshTomatoSalsa',\n",
       "  'Rice',\n",
       "  'BlackBeans',\n",
       "  'Cheese',\n",
       "  'SourCream',\n",
       "  'Guacamole',\n",
       "  'Lettuce'],\n",
       " ['FreshTomatoSalsa',\n",
       "  'Rice',\n",
       "  'BlackBeans',\n",
       "  'Cheese',\n",
       "  'SourCream',\n",
       "  'Guacamole',\n",
       "  'Lettuce'],\n",
       " ['RoastedChiliCornSalsa',\n",
       "  'Rice',\n",
       "  'BlackBeans',\n",
       "  'Cheese',\n",
       "  'SourCream',\n",
       "  'Lettuce'],\n",
       " ['Tomatillo-RedChiliSalsa(Hot)', 'Rice', 'Guacamole'],\n",
       " ['FreshTomatoSalsa(Mild)', 'BlackBeans'],\n",
       " ['RoastedChiliCornSalsa', 'Rice', 'Cheese', 'SourCream', 'Lettuce'],\n",
       " ['FreshTomatoSalsa', 'Rice', 'BlackBeans', 'Cheese', 'SourCream'],\n",
       " ['Tomatillo-GreenChiliSalsa(Medium)', 'Rice', 'Cheese', 'Guacamole'],\n",
       " ['FreshTomatoSalsa(Mild)', 'PintoBeans', 'Rice', 'Cheese', 'SourCream'],\n",
       " ['FreshTomatoSalsa(Mild)', 'BlackBeans', 'Rice', 'Cheese'],\n",
       " ['Tomatillo-GreenChiliSalsa(Medium)',\n",
       "  'BlackBeans',\n",
       "  'Rice',\n",
       "  'Cheese',\n",
       "  'SourCream',\n",
       "  'Lettuce'],\n",
       " ['FreshTomatoSalsa(Mild)', 'BlackBeans', 'Rice', 'Cheese', 'Lettuce'],\n",
       " ['Tomatillo-RedChiliSalsa(Hot)',\n",
       "  'BlackBeans',\n",
       "  'Rice',\n",
       "  'Cheese',\n",
       "  'SourCream',\n",
       "  'Guacamole'],\n",
       " ['Tomatillo-GreenChiliSalsa(Medium)',\n",
       "  'RoastedChiliCornSalsa(Medium)',\n",
       "  'PintoBeans',\n",
       "  'BlackBeans',\n",
       "  'Rice',\n",
       "  'FajitaVeggies',\n",
       "  'Cheese',\n",
       "  'SourCream',\n",
       "  'Guacamole',\n",
       "  'Lettuce'],\n",
       " ['FreshTomatoSalsa(Mild)',\n",
       "  'Tomatillo-RedChiliSalsa(Hot)',\n",
       "  'Rice',\n",
       "  'FajitaVeggies',\n",
       "  'Cheese',\n",
       "  'SourCream',\n",
       "  'Guacamole',\n",
       "  'Lettuce'],\n",
       " ['RoastedChiliCornSalsa'],\n",
       " ['TomatilloRedChiliSalsa', 'Rice', 'Cheese', 'SourCream'],\n",
       " ['FreshTomatoSalsa',\n",
       "  'FajitaVegetables',\n",
       "  'Rice',\n",
       "  'BlackBeans',\n",
       "  'Cheese',\n",
       "  'SourCream'],\n",
       " ['RoastedChiliCornSalsa(Medium)',\n",
       "  'BlackBeans',\n",
       "  'Rice',\n",
       "  'Cheese',\n",
       "  'SourCream'],\n",
       " ['FreshTomatoSalsa', 'SourCream', 'Cheese', 'Lettuce', 'Guacamole'],\n",
       " ['FreshTomatoSalsa', 'Rice', 'BlackBeans'],\n",
       " ['FreshTomatoSalsa',\n",
       "  'Rice',\n",
       "  'FajitaVegetables',\n",
       "  'PintoBeans',\n",
       "  'Cheese',\n",
       "  'Lettuce',\n",
       "  'Guacamole'],\n",
       " ['FreshTomatoSalsa', 'Rice', 'Cheese', 'SourCream', 'Lettuce'],\n",
       " ['FreshTomatoSalsa', 'BlackBeans', 'Cheese', 'SourCream'],\n",
       " ['RoastedChiliCornSalsa(Medium)',\n",
       "  'Tomatillo-GreenChiliSalsa(Medium)',\n",
       "  'Rice',\n",
       "  'BlackBeans',\n",
       "  'PintoBeans',\n",
       "  'FajitaVeggies',\n",
       "  'Cheese',\n",
       "  'SourCream',\n",
       "  'Lettuce'],\n",
       " ['RoastedChiliCornSalsa',\n",
       "  'Rice',\n",
       "  'PintoBeans',\n",
       "  'Cheese',\n",
       "  'SourCream',\n",
       "  'Guacamole'],\n",
       " ['FreshTomatoSalsa', 'Rice', 'BlackBeans'],\n",
       " ['TomatilloGreenChiliSalsa',\n",
       "  'FajitaVegetables',\n",
       "  'Rice',\n",
       "  'Cheese',\n",
       "  'SourCream',\n",
       "  'Guacamole',\n",
       "  'Lettuce'],\n",
       " ['RoastedChiliCornSalsa',\n",
       "  'FajitaVegetables',\n",
       "  'Rice',\n",
       "  'SourCream',\n",
       "  'Guacamole',\n",
       "  'Lettuce'],\n",
       " ['TomatilloRedChiliSalsa',\n",
       "  'FajitaVegetables',\n",
       "  'Rice',\n",
       "  'PintoBeans',\n",
       "  'Cheese',\n",
       "  'Lettuce'],\n",
       " ['FreshTomatoSalsa',\n",
       "  'FajitaVegetables',\n",
       "  'Rice',\n",
       "  'PintoBeans',\n",
       "  'Cheese',\n",
       "  'Guacamole',\n",
       "  'Lettuce'],\n",
       " ['FreshTomatoSalsa(Mild)', 'Rice', 'Cheese', 'Lettuce'],\n",
       " ['FreshTomatoSalsa(Mild)', 'PintoBeans', 'Rice', 'Cheese', 'SourCream'],\n",
       " ['FreshTomatoSalsa(Mild)',\n",
       "  'RoastedChiliCornSalsa(Medium)',\n",
       "  'BlackBeans',\n",
       "  'Rice',\n",
       "  'SourCream',\n",
       "  'Guacamole',\n",
       "  'Lettuce'],\n",
       " ['FreshTomatoSalsa(Mild)',\n",
       "  'RoastedChiliCornSalsa(Medium)',\n",
       "  'BlackBeans',\n",
       "  'Rice',\n",
       "  'Cheese',\n",
       "  'Lettuce'],\n",
       " ['FreshTomatoSalsa(Mild)',\n",
       "  'Rice',\n",
       "  'FajitaVeggies',\n",
       "  'Cheese',\n",
       "  'SourCream',\n",
       "  'Lettuce'],\n",
       " ['FreshTomatoSalsa(Mild)',\n",
       "  'BlackBeans',\n",
       "  'Rice',\n",
       "  'Cheese',\n",
       "  'SourCream',\n",
       "  'Guacamole'],\n",
       " ['RoastedChiliCornSalsa(Medium)',\n",
       "  'Tomatillo-RedChiliSalsa(Hot)',\n",
       "  'BlackBeans',\n",
       "  'Rice',\n",
       "  'Cheese',\n",
       "  'SourCream'],\n",
       " ['FreshTomatoSalsa(Mild)',\n",
       "  'PintoBeans',\n",
       "  'Rice',\n",
       "  'FajitaVeggies',\n",
       "  'Cheese',\n",
       "  'SourCream',\n",
       "  'Guacamole',\n",
       "  'Lettuce'],\n",
       " ['Tomatillo-RedChiliSalsa(Hot)',\n",
       "  'PintoBeans',\n",
       "  'Rice',\n",
       "  'FajitaVeggies',\n",
       "  'Cheese',\n",
       "  'Lettuce'],\n",
       " ['TomatilloRedChiliSalsa', 'Rice', 'Cheese', 'Lettuce'],\n",
       " ['RoastedChiliCornSalsa', 'Rice', 'BlackBeans', 'Cheese'],\n",
       " ['FreshTomatoSalsa', 'Rice', 'PintoBeans', 'Cheese'],\n",
       " ['RoastedChiliCornSalsa',\n",
       "  'Rice',\n",
       "  'BlackBeans',\n",
       "  'Cheese',\n",
       "  'SourCream',\n",
       "  'Guacamole',\n",
       "  'Lettuce'],\n",
       " ['Tomatillo-GreenChiliSalsa(Medium)',\n",
       "  'BlackBeans',\n",
       "  'Rice',\n",
       "  'Cheese',\n",
       "  'SourCream',\n",
       "  'Guacamole'],\n",
       " ['FreshTomatoSalsa', 'Rice'],\n",
       " ['TomatilloRedChiliSalsa',\n",
       "  'Rice',\n",
       "  'BlackBeans',\n",
       "  'Cheese',\n",
       "  'SourCream',\n",
       "  'Lettuce'],\n",
       " ['FreshTomatoSalsa(Mild)',\n",
       "  'BlackBeans',\n",
       "  'Rice',\n",
       "  'Cheese',\n",
       "  'SourCream',\n",
       "  'Guacamole',\n",
       "  'Lettuce'],\n",
       " ['RoastedChiliCornSalsa(Medium)',\n",
       "  'Rice',\n",
       "  'FajitaVeggies',\n",
       "  'Cheese',\n",
       "  'SourCream',\n",
       "  'Lettuce'],\n",
       " ['FreshTomatoSalsa', 'Rice', 'BlackBeans', 'Cheese', 'SourCream'],\n",
       " ['FreshTomatoSalsa', 'Rice', 'SourCream', 'Lettuce'],\n",
       " ['RoastedChiliCornSalsa', 'Rice', 'Cheese', 'SourCream', 'Lettuce'],\n",
       " ['FreshTomatoSalsa', 'Rice', 'BlackBeans', 'Cheese', 'Lettuce'],\n",
       " ['RoastedChiliCornSalsa',\n",
       "  'Rice',\n",
       "  'BlackBeans',\n",
       "  'Cheese',\n",
       "  'SourCream',\n",
       "  'Lettuce'],\n",
       " ['FreshTomatoSalsa', 'Rice', 'Cheese', 'Lettuce'],\n",
       " ['FreshTomatoSalsa', 'Rice', 'BlackBeans', 'Cheese', 'Lettuce'],\n",
       " ['TomatilloRedChiliSalsa', 'Rice', 'Cheese', 'SourCream', 'Lettuce'],\n",
       " ['FreshTomatoSalsa(Mild)',\n",
       "  'Rice',\n",
       "  'FajitaVeggies',\n",
       "  'Cheese',\n",
       "  'SourCream',\n",
       "  'Lettuce'],\n",
       " ['Tomatillo-GreenChiliSalsa(Medium)',\n",
       "  'Rice',\n",
       "  'FajitaVeggies',\n",
       "  'Cheese',\n",
       "  'SourCream',\n",
       "  'Lettuce'],\n",
       " ['FreshTomatoSalsa', 'Rice', 'Cheese', 'Lettuce'],\n",
       " ['FreshTomatoSalsa', 'Rice', 'BlackBeans', 'SourCream', 'Cheese'],\n",
       " ['TomatilloRedChiliSalsa',\n",
       "  'FajitaVegetables',\n",
       "  'Rice',\n",
       "  'BlackBeans',\n",
       "  'PintoBeans',\n",
       "  'Cheese',\n",
       "  'SourCream',\n",
       "  'Lettuce'],\n",
       " ['FreshTomatoSalsa', 'Rice', 'BlackBeans', 'Cheese', 'Lettuce'],\n",
       " ['TomatilloGreenChiliSalsa',\n",
       "  'Rice',\n",
       "  'BlackBeans',\n",
       "  'Cheese',\n",
       "  'SourCream',\n",
       "  'Lettuce'],\n",
       " ['RoastedChiliCornSalsa(Medium)',\n",
       "  'Rice',\n",
       "  'FajitaVeggies',\n",
       "  'Cheese',\n",
       "  'SourCream'],\n",
       " ['RoastedChiliCornSalsa',\n",
       "  'FajitaVegetables',\n",
       "  'Rice',\n",
       "  'BlackBeans',\n",
       "  'PintoBeans',\n",
       "  'Cheese',\n",
       "  'SourCream',\n",
       "  'Guacamole',\n",
       "  'Lettuce'],\n",
       " ['TomatilloGreenChiliSalsa',\n",
       "  'FajitaVegetables',\n",
       "  'Rice',\n",
       "  'BlackBeans',\n",
       "  'Cheese',\n",
       "  'Lettuce'],\n",
       " ['FreshTomatoSalsa(Mild)', 'PintoBeans', 'Cheese', 'Lettuce'],\n",
       " ['FreshTomatoSalsa',\n",
       "  'FajitaVegetables',\n",
       "  'Rice',\n",
       "  'BlackBeans',\n",
       "  'Cheese',\n",
       "  'SourCream',\n",
       "  'Guacamole',\n",
       "  'Lettuce'],\n",
       " ['FreshTomatoSalsa', 'Rice', 'SourCream', 'Cheese'],\n",
       " ['FreshTomatoSalsa(Mild)', 'PintoBeans', 'Rice', 'Cheese', 'SourCream'],\n",
       " ['FreshTomatoSalsa', 'Rice', 'BlackBeans', 'Cheese', 'Guacamole'],\n",
       " ['TomatilloGreenChiliSalsa',\n",
       "  'Rice',\n",
       "  'BlackBeans',\n",
       "  'Cheese',\n",
       "  'Guacamole',\n",
       "  'Lettuce'],\n",
       " ['FreshTomatoSalsa', 'Rice', 'PintoBeans', 'Cheese', 'Lettuce'],\n",
       " ['RoastedChiliCornSalsa',\n",
       "  'FajitaVegetables',\n",
       "  'Rice',\n",
       "  'Cheese',\n",
       "  'SourCream',\n",
       "  'Lettuce'],\n",
       " ['TomatilloRedChiliSalsa', 'Rice', 'Lettuce'],\n",
       " ['FreshTomatoSalsa', 'Rice', 'BlackBeans', 'Cheese', 'Guacamole', 'Lettuce'],\n",
       " ['FreshTomatoSalsa', 'Rice', 'Cheese', 'SourCream', 'Guacamole'],\n",
       " ['Tomatillo-GreenChiliSalsa(Medium)', 'Cheese', 'Lettuce'],\n",
       " ['RoastedChiliCornSalsa', 'FajitaVegetables', 'Rice'],\n",
       " ['TomatilloRedChiliSalsa',\n",
       "  'FajitaVegetables',\n",
       "  'Rice',\n",
       "  'BlackBeans',\n",
       "  'Cheese',\n",
       "  'Guacamole',\n",
       "  'Lettuce'],\n",
       " ['FreshTomatoSalsa(Mild)', 'PintoBeans', 'Rice', 'Cheese', 'SourCream'],\n",
       " ['FreshTomatoSalsa',\n",
       "  'Rice',\n",
       "  'BlackBeans',\n",
       "  'Cheese',\n",
       "  'SourCream',\n",
       "  'Guacamole',\n",
       "  'Lettuce'],\n",
       " ['FreshTomatoSalsa', 'Rice', 'BlackBeans', 'SourCream', 'Cheese', 'Lettuce'],\n",
       " ['FreshTomatoSalsa',\n",
       "  'BlackBeans',\n",
       "  'PintoBeans',\n",
       "  'Cheese',\n",
       "  'SourCream',\n",
       "  'Lettuce'],\n",
       " ['FreshTomatoSalsa', 'Rice', 'BlackBeans', 'Cheese', 'SourCream', 'Lettuce'],\n",
       " ['Tomatillo-RedChiliSalsa(Hot)', 'Rice', 'Cheese', 'Lettuce'],\n",
       " ['FreshTomatoSalsa(Mild)', 'BlackBeans', 'Rice', 'SourCream', 'Guacamole'],\n",
       " ['RoastedChiliCornSalsa',\n",
       "  'Rice',\n",
       "  'PintoBeans',\n",
       "  'Cheese',\n",
       "  'SourCream',\n",
       "  'Lettuce'],\n",
       " ['FreshTomatoSalsa', 'Rice', 'Cheese', 'SourCream', 'Guacamole'],\n",
       " ['TomatilloGreenChiliSalsa',\n",
       "  'FajitaVegetables',\n",
       "  'Rice',\n",
       "  'Cheese',\n",
       "  'SourCream',\n",
       "  'Lettuce'],\n",
       " ['TomatilloRedChiliSalsa',\n",
       "  'Rice',\n",
       "  'FajitaVegetables',\n",
       "  'PintoBeans',\n",
       "  'SourCream',\n",
       "  'Lettuce'],\n",
       " ['Tomatillo-GreenChiliSalsa(Medium)',\n",
       "  'RoastedChiliCornSalsa(Medium)',\n",
       "  'Tomatillo-RedChiliSalsa(Hot)',\n",
       "  'BlackBeans',\n",
       "  'Rice',\n",
       "  'FajitaVeggies',\n",
       "  'Guacamole',\n",
       "  'Lettuce'],\n",
       " ['TomatilloGreenChiliSalsa',\n",
       "  'Lettuce',\n",
       "  'Guacamole',\n",
       "  'SourCream',\n",
       "  'Cheese',\n",
       "  'FajitaVegetables',\n",
       "  'Rice'],\n",
       " ['RoastedChiliCornSalsa',\n",
       "  'Guacamole',\n",
       "  'SourCream',\n",
       "  'Rice',\n",
       "  'FajitaVegetables',\n",
       "  'Lettuce'],\n",
       " ['TomatilloGreenChiliSalsa',\n",
       "  'Rice',\n",
       "  'BlackBeans',\n",
       "  'Cheese',\n",
       "  'SourCream',\n",
       "  'Guacamole'],\n",
       " ['FreshTomatoSalsa(Mild)', 'PintoBeans', 'Rice', 'Cheese', 'SourCream'],\n",
       " ['FreshTomatoSalsa(Mild)', 'Cheese', 'Lettuce'],\n",
       " ['RoastedChiliCornSalsa(Medium)',\n",
       "  'BlackBeans',\n",
       "  'Rice',\n",
       "  'Cheese',\n",
       "  'Guacamole',\n",
       "  'Lettuce'],\n",
       " ['FreshTomatoSalsa', 'PintoBeans', 'Cheese', 'SourCream', 'Lettuce'],\n",
       " ['TomatilloRedChiliSalsa',\n",
       "  'FajitaVegetables',\n",
       "  'Rice',\n",
       "  'BlackBeans',\n",
       "  'PintoBeans',\n",
       "  'Cheese',\n",
       "  'SourCream',\n",
       "  'Guacamole',\n",
       "  'Lettuce'],\n",
       " ['FreshTomatoSalsa', 'Rice', 'FajitaVegetables', 'Cheese', 'Lettuce'],\n",
       " ['FreshTomatoSalsa(Mild)', 'PintoBeans', 'Rice', 'Cheese', 'SourCream'],\n",
       " ['Tomatillo-GreenChiliSalsa(Medium)',\n",
       "  'Tomatillo-RedChiliSalsa(Hot)',\n",
       "  'Rice',\n",
       "  'Cheese',\n",
       "  'SourCream',\n",
       "  'Lettuce'],\n",
       " ['TomatilloRedChiliSalsa', 'BlackBeans', 'Cheese', 'SourCream', 'Guacamole'],\n",
       " ['FreshTomatoSalsa', 'Rice', 'BlackBeans', 'Cheese', 'Lettuce'],\n",
       " ['FreshTomatoSalsa', 'Rice', 'Cheese', 'SourCream', 'Guacamole', 'Lettuce'],\n",
       " ['FreshTomatoSalsa', 'Rice', 'BlackBeans', 'Cheese', 'SourCream'],\n",
       " ['FreshTomatoSalsa', 'Rice', 'BlackBeans', 'Cheese', 'Guacamole'],\n",
       " ['FreshTomatoSalsa(Mild)', 'Cheese', 'Rice', 'PintoBeans', 'SourCream'],\n",
       " ['FreshTomatoSalsa',\n",
       "  'Rice',\n",
       "  'BlackBeans',\n",
       "  'Cheese',\n",
       "  'SourCream',\n",
       "  'Guacamole',\n",
       "  'Lettuce'],\n",
       " ['Tomatillo-GreenChiliSalsa(Medium)',\n",
       "  'Rice',\n",
       "  'Cheese',\n",
       "  'SourCream',\n",
       "  'Guacamole'],\n",
       " ['TomatilloRedChiliSalsa', 'Rice', 'PintoBeans', 'Cheese', 'SourCream'],\n",
       " ['TomatilloRedChiliSalsa', 'Rice', 'BlackBeans', 'Cheese', 'SourCream'],\n",
       " ['TomatilloRedChiliSalsa',\n",
       "  'FajitaVegetables',\n",
       "  'Rice',\n",
       "  'BlackBeans',\n",
       "  'Cheese',\n",
       "  'SourCream',\n",
       "  'Lettuce'],\n",
       " ['FreshTomatoSalsa',\n",
       "  'FajitaVegetables',\n",
       "  'Rice',\n",
       "  'BlackBeans',\n",
       "  'Cheese',\n",
       "  'Lettuce'],\n",
       " ['FreshTomatoSalsa', 'Rice', 'BlackBeans', 'Cheese', 'SourCream', 'Lettuce'],\n",
       " ['RoastedChiliCornSalsa', 'Rice', 'Cheese'],\n",
       " ['TomatilloGreenChiliSalsa', 'Rice', 'BlackBeans', 'Cheese', 'SourCream'],\n",
       " ['FreshTomatoSalsa', 'Rice', 'BlackBeans', 'Cheese', 'SourCream'],\n",
       " ['FreshTomatoSalsa',\n",
       "  'FajitaVegetables',\n",
       "  'Rice',\n",
       "  'PintoBeans',\n",
       "  'Cheese',\n",
       "  'Lettuce'],\n",
       " ['FreshTomatoSalsa', 'Rice', 'PintoBeans', 'Cheese', 'Guacamole', 'Lettuce'],\n",
       " ['Tomatillo-RedChiliSalsa(Hot)',\n",
       "  'Rice',\n",
       "  'BlackBeans',\n",
       "  'FajitaVeggies',\n",
       "  'Guacamole'],\n",
       " ['FreshTomatoSalsa(Mild)', 'Rice', 'FajitaVeggies', 'Lettuce'],\n",
       " ['FreshTomatoSalsa',\n",
       "  'Rice',\n",
       "  'FajitaVegetables',\n",
       "  'PintoBeans',\n",
       "  'Cheese',\n",
       "  'Guacamole'],\n",
       " ['FreshTomatoSalsa(Mild)', 'Rice', 'FajitaVeggies', 'Lettuce'],\n",
       " ['FreshTomatoSalsa', 'Rice', 'BlackBeans', 'Cheese', 'SourCream', 'Lettuce'],\n",
       " ['FreshTomatoSalsa', 'Cheese', 'SourCream', 'Guacamole'],\n",
       " ['TomatilloGreenChiliSalsa', 'Rice', 'PintoBeans', 'Cheese', 'Lettuce'],\n",
       " ['TomatilloRedChiliSalsa',\n",
       "  'Rice',\n",
       "  'PintoBeans',\n",
       "  'SourCream',\n",
       "  'Guacamole',\n",
       "  'Lettuce'],\n",
       " ['FreshTomatoSalsa', 'Rice', 'Cheese', 'SourCream', 'Guacamole'],\n",
       " ['FreshTomatoSalsa', 'Rice', 'BlackBeans', 'Cheese', 'Guacamole', 'Lettuce'],\n",
       " ['Tomatillo-RedChiliSalsa(Hot)',\n",
       "  'BlackBeans',\n",
       "  'Rice',\n",
       "  'Cheese',\n",
       "  'SourCream',\n",
       "  'Lettuce'],\n",
       " ['RoastedChiliCornSalsa(Medium)',\n",
       "  'Rice',\n",
       "  'FajitaVeggies',\n",
       "  'Cheese',\n",
       "  'SourCream',\n",
       "  'Lettuce'],\n",
       " ['RoastedChiliCornSalsa(Medium)',\n",
       "  'Rice',\n",
       "  'FajitaVeggies',\n",
       "  'Cheese',\n",
       "  'SourCream',\n",
       "  'Lettuce'],\n",
       " ['Tomatillo-GreenChiliSalsa(Medium)', 'Rice', 'FajitaVeggies', 'Lettuce'],\n",
       " ['TomatilloGreenChiliSalsa', 'Rice', 'SourCream', 'Guacamole', 'Lettuce'],\n",
       " ['TomatilloGreenChiliSalsa', 'Rice', 'BlackBeans', 'Cheese'],\n",
       " ['Tomatillo-GreenChiliSalsa(Medium)',\n",
       "  'BlackBeans',\n",
       "  'Rice',\n",
       "  'Cheese',\n",
       "  'Lettuce'],\n",
       " ['FreshTomatoSalsa(Mild)',\n",
       "  'BlackBeans',\n",
       "  'Rice',\n",
       "  'Cheese',\n",
       "  'SourCream',\n",
       "  'Lettuce'],\n",
       " ['FreshTomatoSalsa', 'Rice', 'PintoBeans', 'Cheese'],\n",
       " ['FreshTomatoSalsa', 'Cheese', 'Lettuce'],\n",
       " ['FreshTomatoSalsa', 'FajitaVegetables', 'Rice', 'BlackBeans', 'Cheese'],\n",
       " ['FreshTomatoSalsa', 'Rice', 'SourCream', 'Guacamole'],\n",
       " ['FreshTomatoSalsa', 'SourCream', 'Cheese', 'Guacamole', 'Rice'],\n",
       " ['RoastedChiliCornSalsa',\n",
       "  'Rice',\n",
       "  'PintoBeans',\n",
       "  'SourCream',\n",
       "  'Cheese',\n",
       "  'Lettuce'],\n",
       " ['FreshTomatoSalsa', 'Rice', 'BlackBeans', 'Cheese'],\n",
       " ['FreshTomatoSalsa',\n",
       "  'FajitaVegetables',\n",
       "  'Rice',\n",
       "  'BlackBeans',\n",
       "  'Cheese',\n",
       "  'SourCream',\n",
       "  'Lettuce'],\n",
       " ['RoastedChiliCornSalsa',\n",
       "  'FajitaVegetables',\n",
       "  'Rice',\n",
       "  'BlackBeans',\n",
       "  'Cheese',\n",
       "  'SourCream',\n",
       "  'Lettuce'],\n",
       " ['FreshTomatoSalsa(Mild)',\n",
       "  'BlackBeans',\n",
       "  'Rice',\n",
       "  'Cheese',\n",
       "  'SourCream',\n",
       "  'Lettuce'],\n",
       " ['TomatilloRedChiliSalsa', 'Rice', 'Cheese', 'Lettuce'],\n",
       " ['RoastedChiliCornSalsa', 'Cheese', 'BlackBeans', 'Lettuce'],\n",
       " ['FreshTomatoSalsa',\n",
       "  'FajitaVegetables',\n",
       "  'Rice',\n",
       "  'BlackBeans',\n",
       "  'Cheese',\n",
       "  'Guacamole',\n",
       "  'Lettuce'],\n",
       " ['RoastedChiliCornSalsa',\n",
       "  'Rice',\n",
       "  'Cheese',\n",
       "  'SourCream',\n",
       "  'Guacamole',\n",
       "  'Lettuce'],\n",
       " ['RoastedChiliCornSalsa',\n",
       "  'FajitaVegetables',\n",
       "  'Rice',\n",
       "  'BlackBeans',\n",
       "  'Cheese',\n",
       "  'SourCream',\n",
       "  'Guacamole',\n",
       "  'Lettuce'],\n",
       " ['RoastedChiliCornSalsa',\n",
       "  'Rice',\n",
       "  'PintoBeans',\n",
       "  'Cheese',\n",
       "  'SourCream',\n",
       "  'Lettuce'],\n",
       " ['RoastedChiliCornSalsa',\n",
       "  'FajitaVegetables',\n",
       "  'Rice',\n",
       "  'BlackBeans',\n",
       "  'PintoBeans',\n",
       "  'Guacamole',\n",
       "  'Lettuce'],\n",
       " ['FreshTomatoSalsa', 'Rice', 'BlackBeans', 'Cheese', 'SourCream', 'Lettuce'],\n",
       " ['TomatilloGreenChiliSalsa',\n",
       "  'Rice',\n",
       "  'BlackBeans',\n",
       "  'PintoBeans',\n",
       "  'Cheese',\n",
       "  'Guacamole',\n",
       "  'Lettuce'],\n",
       " ['TomatilloGreenChiliSalsa',\n",
       "  'Rice',\n",
       "  'PintoBeans',\n",
       "  'Cheese',\n",
       "  'SourCream',\n",
       "  'Guacamole',\n",
       "  'Lettuce'],\n",
       " ['RoastedChiliCornSalsa', 'FajitaVegetables', 'Rice'],\n",
       " ['RoastedChiliCornSalsa',\n",
       "  'Rice',\n",
       "  'PintoBeans',\n",
       "  'SourCream',\n",
       "  'Cheese',\n",
       "  'Guacamole'],\n",
       " ['Tomatillo-GreenChiliSalsa(Medium)',\n",
       "  'RoastedChiliCornSalsa(Medium)',\n",
       "  'Tomatillo-RedChiliSalsa(Hot)',\n",
       "  'BlackBeans',\n",
       "  'Rice',\n",
       "  'FajitaVeggies',\n",
       "  'Lettuce'],\n",
       " ['Tomatillo-RedChiliSalsa(Hot)',\n",
       "  'BlackBeans',\n",
       "  'FajitaVeggies',\n",
       "  'Cheese',\n",
       "  'SourCream',\n",
       "  'Lettuce'],\n",
       " ['Tomatillo-RedChiliSalsa(Hot)', 'Rice', 'FajitaVeggies', 'Cheese'],\n",
       " ['FreshTomatoSalsa(Mild)', 'Rice', 'FajitaVeggies', 'Cheese', 'Guacamole'],\n",
       " ['FreshTomatoSalsa(Mild)',\n",
       "  'RoastedChiliCornSalsa(Medium)',\n",
       "  'BlackBeans',\n",
       "  'Rice',\n",
       "  'FajitaVeggies',\n",
       "  'Cheese',\n",
       "  'SourCream',\n",
       "  'Lettuce'],\n",
       " ['FreshTomatoSalsa(Mild)',\n",
       "  'RoastedChiliCornSalsa(Medium)',\n",
       "  'PintoBeans',\n",
       "  'BlackBeans',\n",
       "  'Rice',\n",
       "  'FajitaVeggies',\n",
       "  'Cheese',\n",
       "  'SourCream',\n",
       "  'Lettuce'],\n",
       " ['FreshTomatoSalsa', 'Rice', 'PintoBeans', 'Cheese'],\n",
       " ['FreshTomatoSalsa', 'Rice', 'BlackBeans', 'SourCream'],\n",
       " ['FreshTomatoSalsa', 'PintoBeans', 'Cheese', 'SourCream'],\n",
       " ['FreshTomatoSalsa', 'Rice', 'PintoBeans', 'Cheese', 'Lettuce'],\n",
       " ['TomatilloRedChiliSalsa', 'Rice', 'Cheese', 'SourCream', 'Lettuce'],\n",
       " ['FreshTomatoSalsa', 'Rice', 'BlackBeans', 'Cheese', 'SourCream'],\n",
       " ['RoastedChiliCornSalsa',\n",
       "  'FajitaVegetables',\n",
       "  'Rice',\n",
       "  'SourCream',\n",
       "  'Guacamole',\n",
       "  'Lettuce'],\n",
       " ['Tomatillo-RedChiliSalsa(Hot)',\n",
       "  'PintoBeans',\n",
       "  'Rice',\n",
       "  'Cheese',\n",
       "  'SourCream',\n",
       "  'Guacamole'],\n",
       " ['RoastedChiliCornSalsa(Medium)',\n",
       "  'Tomatillo-RedChiliSalsa(Hot)',\n",
       "  'BlackBeans',\n",
       "  'Rice',\n",
       "  'Cheese',\n",
       "  'SourCream',\n",
       "  'Lettuce'],\n",
       " ['Tomatillo-RedChiliSalsa(Hot)', 'Rice', 'Cheese', 'SourCream', 'Lettuce'],\n",
       " ['RoastedChiliCornSalsa(Medium)',\n",
       "  'Rice',\n",
       "  'FajitaVeggies',\n",
       "  'Cheese',\n",
       "  'SourCream',\n",
       "  'Lettuce'],\n",
       " ['RoastedChiliCornSalsa(Medium)',\n",
       "  'Rice',\n",
       "  'FajitaVeggies',\n",
       "  'Cheese',\n",
       "  'SourCream',\n",
       "  'Lettuce'],\n",
       " ['RoastedChiliCornSalsa(Medium)',\n",
       "  'PintoBeans',\n",
       "  'BlackBeans',\n",
       "  'Rice',\n",
       "  'FajitaVeggies',\n",
       "  'Lettuce'],\n",
       " ['FreshTomatoSalsa(Mild)',\n",
       "  'Tomatillo-RedChiliSalsa(Hot)',\n",
       "  'Rice',\n",
       "  'Cheese',\n",
       "  'SourCream',\n",
       "  'Lettuce'],\n",
       " ['FreshTomatoSalsa', 'Rice', 'Cheese', 'Lettuce'],\n",
       " ['FreshTomatoSalsa', 'Rice', 'Cheese', 'Lettuce'],\n",
       " ['TomatilloGreenChiliSalsa', 'Rice', 'SourCream', 'Guacamole', 'Lettuce'],\n",
       " ['TomatilloGreenChiliSalsa', 'Rice', 'BlackBeans', 'Cheese'],\n",
       " ['FreshTomatoSalsa', 'Rice', 'Cheese', 'SourCream'],\n",
       " ['RoastedChiliCornSalsa(Medium)',\n",
       "  'BlackBeans',\n",
       "  'Rice',\n",
       "  'FajitaVeggies',\n",
       "  'Cheese',\n",
       "  'SourCream'],\n",
       " ['TomatilloRedChiliSalsa', 'Cheese', 'SourCream'],\n",
       " ['RoastedChiliCornSalsa(Medium)',\n",
       "  'FreshTomatoSalsa(Mild)',\n",
       "  'Rice',\n",
       "  'BlackBeans',\n",
       "  'Cheese',\n",
       "  'Lettuce'],\n",
       " ['RoastedChiliCornSalsa(Medium)',\n",
       "  'BlackBeans',\n",
       "  'Rice',\n",
       "  'FajitaVeggies',\n",
       "  'Cheese',\n",
       "  'SourCream',\n",
       "  'Lettuce'],\n",
       " ['RoastedChiliCornSalsa(Medium)',\n",
       "  'Tomatillo-RedChiliSalsa(Hot)',\n",
       "  'BlackBeans',\n",
       "  'Rice',\n",
       "  'Cheese',\n",
       "  'SourCream',\n",
       "  'Lettuce'],\n",
       " ['TomatilloRedChiliSalsa',\n",
       "  'Rice',\n",
       "  'BlackBeans',\n",
       "  'PintoBeans',\n",
       "  'Cheese',\n",
       "  'SourCream',\n",
       "  'Lettuce'],\n",
       " ['FreshTomatoSalsa',\n",
       "  'FajitaVegetables',\n",
       "  'Rice',\n",
       "  'BlackBeans',\n",
       "  'PintoBeans',\n",
       "  'Guacamole',\n",
       "  'Lettuce'],\n",
       " ['TomatilloRedChiliSalsa', 'Rice', 'Cheese', 'SourCream'],\n",
       " ['Tomatillo-RedChiliSalsa(Hot)',\n",
       "  'PintoBeans',\n",
       "  'Cheese',\n",
       "  'SourCream',\n",
       "  'Lettuce'],\n",
       " ['RoastedChiliCornSalsa', 'Rice', 'BlackBeans'],\n",
       " ['FreshTomato(Mild)',\n",
       "  'Lettuce',\n",
       "  'BlackBeans',\n",
       "  'Guacamole',\n",
       "  'Rice',\n",
       "  'SourCream',\n",
       "  'Cheese'],\n",
       " ['RoastedChiliCornSalsa(Medium)',\n",
       "  'Tomatillo-RedChiliSalsa(Hot)',\n",
       "  'BlackBeans',\n",
       "  'Rice',\n",
       "  'Cheese',\n",
       "  'SourCream',\n",
       "  'Lettuce'],\n",
       " ['Tomatillo-RedChiliSalsa(Hot)', 'PintoBeans', 'Rice', 'Cheese', 'Guacamole'],\n",
       " ['FreshTomatoSalsa', 'SourCream', 'Rice', 'Guacamole', 'Lettuce'],\n",
       " ['FreshTomatoSalsa',\n",
       "  'Rice',\n",
       "  'PintoBeans',\n",
       "  'Cheese',\n",
       "  'SourCream',\n",
       "  'Guacamole',\n",
       "  'Lettuce'],\n",
       " ['FreshTomatoSalsa',\n",
       "  'FajitaVegetables',\n",
       "  'Rice',\n",
       "  'PintoBeans',\n",
       "  'Cheese',\n",
       "  'SourCream',\n",
       "  'Guacamole',\n",
       "  'Lettuce'],\n",
       " ['RoastedChiliCornSalsa(Medium)',\n",
       "  'BlackBeans',\n",
       "  'Rice',\n",
       "  'Cheese',\n",
       "  'SourCream',\n",
       "  'Lettuce'],\n",
       " ['FreshTomatoSalsa',\n",
       "  'FajitaVegetables',\n",
       "  'Rice',\n",
       "  'BlackBeans',\n",
       "  'Guacamole',\n",
       "  'Lettuce'],\n",
       " ['TomatilloGreenChiliSalsa', 'BlackBeans', 'Cheese', 'Guacamole', 'Lettuce'],\n",
       " ['TomatilloRedChiliSalsa', 'Rice', 'PintoBeans', 'Cheese'],\n",
       " ['TomatilloRedChiliSalsa', 'Rice', 'Cheese', 'Lettuce'],\n",
       " ['Tomatillo-RedChiliSalsa(Hot)',\n",
       "  'BlackBeans',\n",
       "  'Rice',\n",
       "  'FajitaVeggies',\n",
       "  'Cheese'],\n",
       " ['RoastedChiliCornSalsa',\n",
       "  'Rice',\n",
       "  'PintoBeans',\n",
       "  'SourCream',\n",
       "  'Cheese',\n",
       "  'Lettuce'],\n",
       " ['FreshTomatoSalsa', 'Rice', 'SourCream', 'Cheese', 'Guacamole'],\n",
       " ['FreshTomatoSalsa(Mild)',\n",
       "  'BlackBeans',\n",
       "  'Rice',\n",
       "  'FajitaVeggies',\n",
       "  'Cheese',\n",
       "  'SourCream',\n",
       "  'Lettuce'],\n",
       " ['Tomatillo-RedChiliSalsa(Hot)',\n",
       "  'BlackBeans',\n",
       "  'Rice',\n",
       "  'Cheese',\n",
       "  'SourCream',\n",
       "  'Lettuce'],\n",
       " ['FreshTomatoSalsa', 'Cheese', 'Rice', 'BlackBeans', 'Lettuce'],\n",
       " ['Tomatillo-GreenChiliSalsa(Medium)',\n",
       "  'RoastedChiliCornSalsa(Medium)',\n",
       "  'Tomatillo-RedChiliSalsa(Hot)',\n",
       "  'BlackBeans',\n",
       "  'Rice',\n",
       "  'Cheese',\n",
       "  'SourCream',\n",
       "  'Guacamole',\n",
       "  'Lettuce'],\n",
       " ['Tomatillo-GreenChiliSalsa(Medium)',\n",
       "  'Rice',\n",
       "  'Cheese',\n",
       "  'SourCream',\n",
       "  'Lettuce'],\n",
       " ['FreshTomatoSalsa', 'Rice', 'BlackBeans', 'Cheese'],\n",
       " ['FreshTomatoSalsa', 'FajitaVegetables', 'Rice', 'Cheese', 'Lettuce'],\n",
       " ['FreshTomatoSalsa', 'Rice', 'BlackBeans', 'Cheese', 'SourCream'],\n",
       " ['TomatilloRedChiliSalsa',\n",
       "  'Rice',\n",
       "  'PintoBeans',\n",
       "  'SourCream',\n",
       "  'Guacamole',\n",
       "  'Lettuce'],\n",
       " ['TomatilloRedChiliSalsa',\n",
       "  'Rice',\n",
       "  'FajitaVegetables',\n",
       "  'SourCream',\n",
       "  'Cheese',\n",
       "  'Lettuce',\n",
       "  'Guacamole'],\n",
       " ['TomatilloRedChiliSalsa', 'Rice', 'Cheese', 'SourCream'],\n",
       " ['TomatilloGreenChiliSalsa',\n",
       "  'Rice',\n",
       "  'PintoBeans',\n",
       "  'Cheese',\n",
       "  'SourCream',\n",
       "  'Guacamole'],\n",
       " ['FreshTomatoSalsa', 'PintoBeans', 'Cheese', 'SourCream', 'Guacamole'],\n",
       " ['RoastedChiliCornSalsa(Medium)',\n",
       "  'Rice',\n",
       "  'FajitaVeggies',\n",
       "  'Cheese',\n",
       "  'SourCream'],\n",
       " ['RoastedChiliCornSalsa(Medium)',\n",
       "  'Rice',\n",
       "  'FajitaVeggies',\n",
       "  'Cheese',\n",
       "  'SourCream',\n",
       "  'Lettuce'],\n",
       " ['RoastedChiliCornSalsa(Medium)',\n",
       "  'Tomatillo-RedChiliSalsa(Hot)',\n",
       "  'BlackBeans',\n",
       "  'Rice',\n",
       "  'Cheese',\n",
       "  'SourCream',\n",
       "  'Lettuce'],\n",
       " ['FreshTomatoSalsa(Mild)',\n",
       "  'Tomatillo-RedChiliSalsa(Hot)',\n",
       "  'Rice',\n",
       "  'FajitaVeggies',\n",
       "  'Cheese',\n",
       "  'Lettuce'],\n",
       " ['FreshTomatoSalsa(Mild)',\n",
       "  'RoastedChiliCornSalsa(Medium)',\n",
       "  'BlackBeans',\n",
       "  'Rice',\n",
       "  'Cheese',\n",
       "  'SourCream',\n",
       "  'Lettuce'],\n",
       " ['RoastedChiliCornSalsa', 'Rice', 'PintoBeans', 'Cheese', 'Guacamole'],\n",
       " ['TomatilloRedChiliSalsa',\n",
       "  'FajitaVegetables',\n",
       "  'Rice',\n",
       "  'PintoBeans',\n",
       "  'Cheese',\n",
       "  'Lettuce'],\n",
       " ['FreshTomatoSalsa',\n",
       "  'FajitaVegetables',\n",
       "  'Rice',\n",
       "  'BlackBeans',\n",
       "  'Cheese',\n",
       "  'Guacamole',\n",
       "  'Lettuce'],\n",
       " ['FreshTomatoSalsa',\n",
       "  'Rice',\n",
       "  'FajitaVegetables',\n",
       "  'SourCream',\n",
       "  'Cheese',\n",
       "  'Guacamole'],\n",
       " ['FreshTomatoSalsa(Mild)',\n",
       "  'BlackBeans',\n",
       "  'Rice',\n",
       "  'FajitaVeggies',\n",
       "  'Cheese',\n",
       "  'SourCream'],\n",
       " ['RoastedChiliCornSalsa', 'Rice', 'Cheese', 'SourCream', 'Lettuce'],\n",
       " ['Tomatillo-GreenChiliSalsa(Medium)', 'BlackBeans', 'Rice', 'Cheese'],\n",
       " ['Tomatillo-RedChiliSalsa(Hot)',\n",
       "  'BlackBeans',\n",
       "  'Rice',\n",
       "  'Cheese',\n",
       "  'SourCream',\n",
       "  'Guacamole',\n",
       "  'Lettuce'],\n",
       " ['FreshTomatoSalsa', 'Rice', 'Cheese', 'SourCream', 'Lettuce'],\n",
       " ['TomatilloGreenChiliSalsa',\n",
       "  'Rice',\n",
       "  'BlackBeans',\n",
       "  'Cheese',\n",
       "  'SourCream',\n",
       "  'Lettuce'],\n",
       " ['FreshTomatoSalsa(Mild)',\n",
       "  'BlackBeans',\n",
       "  'Rice',\n",
       "  'Cheese',\n",
       "  'SourCream',\n",
       "  'Lettuce'],\n",
       " ['FreshTomatoSalsa',\n",
       "  'FajitaVegetables',\n",
       "  'Rice',\n",
       "  'BlackBeans',\n",
       "  'Guacamole',\n",
       "  'Lettuce'],\n",
       " ['FreshTomatoSalsa', 'Rice', 'BlackBeans', 'Cheese', 'SourCream'],\n",
       " ['TomatilloRedChiliSalsa', 'Rice', 'Cheese'],\n",
       " ['TomatilloGreenChiliSalsa', 'Rice', 'BlackBeans', 'Cheese', 'Lettuce'],\n",
       " ['TomatilloRedChiliSalsa', 'Rice', 'PintoBeans', 'Cheese'],\n",
       " ['TomatilloRedChiliSalsa', 'SourCream', 'Cheese', 'Rice'],\n",
       " ['FreshTomatoSalsa', 'Rice', 'PintoBeans', 'Cheese', 'Lettuce'],\n",
       " ['FreshTomatoSalsa', 'Rice', 'SourCream', 'Cheese', 'Guacamole'],\n",
       " ['TomatilloRedChiliSalsa',\n",
       "  'Cheese',\n",
       "  'BlackBeans',\n",
       "  'Rice',\n",
       "  'Lettuce',\n",
       "  'SourCream'],\n",
       " ['FreshTomatoSalsa(Mild)', 'FajitaVeggies', 'Cheese', 'SourCream', 'Lettuce'],\n",
       " ['Rice', 'Cheese'],\n",
       " ['FreshTomato(Mild)',\n",
       "  'BlackBeans',\n",
       "  'Guacamole',\n",
       "  'Rice',\n",
       "  'SourCream',\n",
       "  'Cheese'],\n",
       " ['Tomatillo-RedChiliSalsa(Hot)', 'Rice', 'Cheese', 'SourCream', 'Lettuce'],\n",
       " ['RoastedChiliCornSalsa(Medium)',\n",
       "  'Tomatillo-GreenChiliSalsa(Medium)',\n",
       "  'Rice',\n",
       "  'BlackBeans',\n",
       "  'SourCream'],\n",
       " ['BlackBeans', 'Rice', 'Cheese'],\n",
       " ['RoastedChiliCornSalsa(Medium)',\n",
       "  'Tomatillo-RedChiliSalsa(Hot)',\n",
       "  'FreshTomatoSalsa(Mild)',\n",
       "  'Rice',\n",
       "  'PintoBeans',\n",
       "  'FajitaVeggies',\n",
       "  'Cheese',\n",
       "  'SourCream',\n",
       "  'Lettuce'],\n",
       " ['FreshTomatoSalsa(Mild)',\n",
       "  'RoastedChiliCornSalsa(Medium)',\n",
       "  'Tomatillo-RedChiliSalsa(Hot)',\n",
       "  'BlackBeans',\n",
       "  'Rice',\n",
       "  'FajitaVeggies',\n",
       "  'Lettuce'],\n",
       " ['TomatilloRedChiliSalsa', 'Rice', 'BlackBeans', 'Lettuce'],\n",
       " ['TomatilloRedChiliSalsa', 'Rice', 'BlackBeans', 'Lettuce'],\n",
       " ['Tomatillo-RedChiliSalsa(Hot)',\n",
       "  'Tomatillo-GreenChiliSalsa(Medium)',\n",
       "  'Rice',\n",
       "  'BlackBeans',\n",
       "  'Cheese',\n",
       "  'Lettuce'],\n",
       " ['TomatilloGreenChiliSalsa', 'Rice', 'SourCream', 'Guacamole', 'Lettuce'],\n",
       " ['RoastedChiliCornSalsa(Medium)', 'Lettuce'],\n",
       " ['FreshTomatoSalsa', 'PintoBeans', 'Cheese', 'SourCream'],\n",
       " ['RoastedChiliCornSalsa(Medium)', 'Rice', 'PintoBeans', 'Cheese', 'Lettuce'],\n",
       " ['FreshTomatoSalsa', 'Guacamole', 'Lettuce', 'SourCream', 'Rice'],\n",
       " ['RoastedChiliCornSalsa',\n",
       "  'Rice',\n",
       "  'PintoBeans',\n",
       "  'Cheese',\n",
       "  'SourCream',\n",
       "  'Guacamole'],\n",
       " ['FreshTomatoSalsa(Mild)',\n",
       "  'Rice',\n",
       "  'FajitaVeggies',\n",
       "  'Cheese',\n",
       "  'SourCream',\n",
       "  'Guacamole'],\n",
       " ['FreshTomatoSalsa(Mild)', 'PintoBeans', 'Rice', 'Cheese', 'SourCream'],\n",
       " ['FreshTomatoSalsa', 'Rice', 'BlackBeans', 'Cheese', 'Lettuce'],\n",
       " ['TomatilloRedChiliSalsa',\n",
       "  'FajitaVegetables',\n",
       "  'Rice',\n",
       "  'PintoBeans',\n",
       "  'Cheese',\n",
       "  'Lettuce'],\n",
       " ['FreshTomatoSalsa',\n",
       "  'FajitaVegetables',\n",
       "  'Rice',\n",
       "  'BlackBeans',\n",
       "  'Cheese',\n",
       "  'Guacamole',\n",
       "  'Lettuce'],\n",
       " ['FreshTomatoSalsa', 'SourCream', 'Cheese', 'PintoBeans', 'Rice'],\n",
       " ['FreshTomatoSalsa', 'BlackBeans', 'Cheese', 'Guacamole', 'Lettuce'],\n",
       " ['RoastedChiliCornSalsa(Medium)',\n",
       "  'Tomatillo-RedChiliSalsa(Hot)',\n",
       "  'BlackBeans',\n",
       "  'Rice',\n",
       "  'Cheese',\n",
       "  'SourCream',\n",
       "  'Lettuce'],\n",
       " ['FreshTomato(Mild)',\n",
       "  'Lettuce',\n",
       "  'Guacamole',\n",
       "  'PintoBeans',\n",
       "  'Rice',\n",
       "  'SourCream',\n",
       "  'Cheese'],\n",
       " ['FreshTomato(Mild)', 'Lettuce', 'Rice'],\n",
       " ['FreshTomatoSalsa', 'Rice', 'Cheese', 'Guacamole', 'Lettuce'],\n",
       " ['FreshTomatoSalsa',\n",
       "  'Rice',\n",
       "  'PintoBeans',\n",
       "  'Cheese',\n",
       "  'SourCream',\n",
       "  'Guacamole'],\n",
       " ['RoastedChiliCornSalsa(Medium)',\n",
       "  'Rice',\n",
       "  'FajitaVeggies',\n",
       "  'Cheese',\n",
       "  'SourCream',\n",
       "  'Lettuce'],\n",
       " ['FreshTomatoSalsa', 'Rice', 'BlackBeans', 'Cheese', 'SourCream'],\n",
       " ['Tomatillo-RedChiliSalsa(Hot)',\n",
       "  'Guacamole',\n",
       "  'Lettuce',\n",
       "  'SourCream',\n",
       "  'Rice',\n",
       "  'Cheese',\n",
       "  'BlackBeans'],\n",
       " ['FreshTomatoSalsa', 'Rice', 'BlackBeans', 'Cheese', 'Lettuce'],\n",
       " ['FreshTomatoSalsa(Mild)',\n",
       "  'BlackBeans',\n",
       "  'Rice',\n",
       "  'Cheese',\n",
       "  'SourCream',\n",
       "  'Guacamole',\n",
       "  'Lettuce'],\n",
       " ['RoastedChiliCornSalsa', 'Rice', 'BlackBeans', 'SourCream', 'Lettuce'],\n",
       " ['FreshTomatoSalsa', 'Rice', 'Cheese', 'Lettuce', 'PintoBeans'],\n",
       " ['FreshTomatoSalsa', 'Rice', 'Guacamole', 'Cheese', 'SourCream'],\n",
       " ['RoastedChiliCornSalsa', 'Rice', 'PintoBeans', 'Cheese'],\n",
       " ['RoastedChiliCornSalsa', 'BlackBeans', 'Cheese', 'SourCream'],\n",
       " ['FreshTomatoSalsa', 'Rice', 'Cheese', 'SourCream', 'Guacamole'],\n",
       " ['RoastedChiliCornSalsa',\n",
       "  'Rice',\n",
       "  'BlackBeans',\n",
       "  'SourCream',\n",
       "  'Cheese',\n",
       "  'Lettuce'],\n",
       " ['FreshTomatoSalsa(Mild)',\n",
       "  'Tomatillo-GreenChiliSalsa(Medium)',\n",
       "  'RoastedChiliCornSalsa(Medium)',\n",
       "  'PintoBeans',\n",
       "  'Rice',\n",
       "  'FajitaVeggies',\n",
       "  'Cheese',\n",
       "  'Lettuce'],\n",
       " ['Tomatillo-GreenChiliSalsa(Medium)',\n",
       "  'PintoBeans',\n",
       "  'Rice',\n",
       "  'FajitaVeggies',\n",
       "  'Cheese',\n",
       "  'SourCream',\n",
       "  'Guacamole',\n",
       "  'Lettuce'],\n",
       " ['Tomatillo-RedChiliSalsa(Hot)',\n",
       "  'PintoBeans',\n",
       "  'Rice',\n",
       "  'FajitaVeggies',\n",
       "  'Cheese',\n",
       "  'SourCream'],\n",
       " ['FreshTomatoSalsa(Mild)',\n",
       "  'Tomatillo-RedChiliSalsa(Hot)',\n",
       "  'Rice',\n",
       "  'Cheese',\n",
       "  'SourCream',\n",
       "  'Guacamole',\n",
       "  'Lettuce'],\n",
       " ['FreshTomatoSalsa', 'Rice', 'BlackBeans', 'Cheese', 'SourCream', 'Lettuce'],\n",
       " ['RoastedChiliCornSalsa', 'Rice', 'BlackBeans', 'Lettuce'],\n",
       " ['RoastedChiliCornSalsa',\n",
       "  'FajitaVegetables',\n",
       "  'Rice',\n",
       "  'PintoBeans',\n",
       "  'Cheese',\n",
       "  'SourCream',\n",
       "  'Lettuce'],\n",
       " ['FreshTomatoSalsa', 'Rice', 'BlackBeans', 'Lettuce', 'Cheese'],\n",
       " ['FreshTomatoSalsa', 'Rice', 'PintoBeans', 'Cheese'],\n",
       " ['FreshTomatoSalsa',\n",
       "  'Rice',\n",
       "  'BlackBeans',\n",
       "  'Cheese',\n",
       "  'SourCream',\n",
       "  'Guacamole'],\n",
       " ['FreshTomatoSalsa(Mild)',\n",
       "  'Tomatillo-RedChiliSalsa(Hot)',\n",
       "  'PintoBeans',\n",
       "  'Rice',\n",
       "  'Cheese',\n",
       "  'SourCream'],\n",
       " ['FreshTomatoSalsa(Mild)',\n",
       "  'RoastedChiliCornSalsa(Medium)',\n",
       "  'Tomatillo-RedChiliSalsa(Hot)',\n",
       "  'BlackBeans',\n",
       "  'Rice',\n",
       "  'FajitaVeggies',\n",
       "  'Lettuce'],\n",
       " ['FreshTomatoSalsa(Mild)',\n",
       "  'PintoBeans',\n",
       "  'Rice',\n",
       "  'Cheese',\n",
       "  'SourCream',\n",
       "  'Lettuce'],\n",
       " ['FreshTomatoSalsa', 'Rice', 'Cheese', 'SourCream', 'Guacamole', 'Lettuce'],\n",
       " ['FreshTomatoSalsa(Mild)',\n",
       "  'PintoBeans',\n",
       "  'Rice',\n",
       "  'Cheese',\n",
       "  'SourCream',\n",
       "  'Lettuce'],\n",
       " ['RoastedChiliCornSalsa(Medium)',\n",
       "  'BlackBeans',\n",
       "  'Rice',\n",
       "  'Cheese',\n",
       "  'SourCream'],\n",
       " ['FreshTomatoSalsa', 'Rice', 'BlackBeans', 'Cheese'],\n",
       " ['FreshTomatoSalsa',\n",
       "  'FajitaVegetables',\n",
       "  'Rice',\n",
       "  'BlackBeans',\n",
       "  'Cheese',\n",
       "  'Guacamole'],\n",
       " ['Tomatillo-RedChiliSalsa(Hot)', 'Rice', 'BlackBeans', 'Cheese', 'Lettuce'],\n",
       " ['RoastedChiliCornSalsa',\n",
       "  'FajitaVegetables',\n",
       "  'Rice',\n",
       "  'SourCream',\n",
       "  'Guacamole',\n",
       "  'Lettuce'],\n",
       " ['RoastedChiliCornSalsa',\n",
       "  'FajitaVegetables',\n",
       "  'Rice',\n",
       "  'Cheese',\n",
       "  'SourCream',\n",
       "  'Guacamole',\n",
       "  'Lettuce'],\n",
       " ['RoastedChiliCornSalsa',\n",
       "  'FajitaVegetables',\n",
       "  'Rice',\n",
       "  'Cheese',\n",
       "  'SourCream',\n",
       "  'Guacamole',\n",
       "  'Lettuce'],\n",
       " ['FreshTomatoSalsa', 'PintoBeans', 'Lettuce', 'Cheese', 'Rice'],\n",
       " ['FreshTomatoSalsa', 'Rice', 'Guacamole', 'Cheese', 'SourCream'],\n",
       " ['TomatilloGreenChiliSalsa', 'Cheese', 'Lettuce', 'Rice', 'PintoBeans'],\n",
       " ['FreshTomatoSalsa',\n",
       "  'FajitaVegetables',\n",
       "  'Rice',\n",
       "  'BlackBeans',\n",
       "  'Cheese',\n",
       "  'Guacamole',\n",
       "  'Lettuce'],\n",
       " ['TomatilloRedChiliSalsa',\n",
       "  'Rice',\n",
       "  'PintoBeans',\n",
       "  'SourCream',\n",
       "  'Guacamole',\n",
       "  'Lettuce'],\n",
       " ['FreshTomatoSalsa', 'FajitaVegetables', 'Rice', 'BlackBeans', 'Cheese'],\n",
       " ['FreshTomatoSalsa', 'Rice', 'Cheese'],\n",
       " ['TomatilloRedChiliSalsa', 'Rice', 'BlackBeans', 'Cheese', 'SourCream'],\n",
       " ['FreshTomatoSalsa', 'Rice', 'PintoBeans', 'Cheese', 'Lettuce'],\n",
       " ['FreshTomatoSalsa(Mild)',\n",
       "  'RoastedChiliCornSalsa(Medium)',\n",
       "  'Rice',\n",
       "  'FajitaVeggies',\n",
       "  'Cheese',\n",
       "  'Lettuce'],\n",
       " ['RoastedChiliCornSalsa(Medium)',\n",
       "  'Tomatillo-RedChiliSalsa(Hot)',\n",
       "  'Cheese',\n",
       "  'Lettuce'],\n",
       " ['FreshTomatoSalsa(Mild)',\n",
       "  'Tomatillo-RedChiliSalsa(Hot)',\n",
       "  'Rice',\n",
       "  'Cheese',\n",
       "  'SourCream'],\n",
       " ['FreshTomatoSalsa', 'Rice', 'PintoBeans', 'Cheese', 'SourCream', 'Lettuce'],\n",
       " ['FreshTomatoSalsa', 'Rice', 'BlackBeans', 'Cheese', 'Lettuce'],\n",
       " ['Tomatillo-RedChiliSalsa(Hot)',\n",
       "  'BlackBeans',\n",
       "  'Rice',\n",
       "  'Cheese',\n",
       "  'SourCream',\n",
       "  'Guacamole',\n",
       "  'Lettuce'],\n",
       " ['FreshTomatoSalsa', 'Rice', 'BlackBeans', 'Cheese'],\n",
       " ['FreshTomatoSalsa',\n",
       "  'FajitaVegetables',\n",
       "  'Rice',\n",
       "  'BlackBeans',\n",
       "  'PintoBeans',\n",
       "  'Cheese',\n",
       "  'SourCream',\n",
       "  'Guacamole',\n",
       "  'Lettuce'],\n",
       " ['FreshTomatoSalsa', 'Rice', 'SourCream', 'Cheese', 'Lettuce'],\n",
       " ['RoastedChiliCornSalsa', 'Rice', 'BlackBeans', 'Cheese'],\n",
       " ['FreshTomatoSalsa', 'Rice', 'BlackBeans', 'Cheese', 'SourCream', 'Lettuce'],\n",
       " ['RoastedChiliCornSalsa', 'Rice', 'BlackBeans', 'Cheese', 'Lettuce'],\n",
       " ['RoastedChiliCornSalsa',\n",
       "  'FajitaVegetables',\n",
       "  'Rice',\n",
       "  'BlackBeans',\n",
       "  'Cheese',\n",
       "  'SourCream'],\n",
       " ['RoastedChiliCornSalsa',\n",
       "  'FajitaVegetables',\n",
       "  'Rice',\n",
       "  'BlackBeans',\n",
       "  'PintoBeans',\n",
       "  'Cheese',\n",
       "  'Lettuce'],\n",
       " ['FreshTomatoSalsa(Mild)',\n",
       "  'Tomatillo-GreenChiliSalsa(Medium)',\n",
       "  'RoastedChiliCornSalsa(Medium)',\n",
       "  'BlackBeans',\n",
       "  'Rice',\n",
       "  'FajitaVeggies',\n",
       "  'SourCream',\n",
       "  'Lettuce'],\n",
       " ['FreshTomatoSalsa(Mild)',\n",
       "  'RoastedChiliCornSalsa(Medium)',\n",
       "  'Rice',\n",
       "  'FajitaVeggies',\n",
       "  'SourCream'],\n",
       " ['FreshTomatoSalsa',\n",
       "  'FajitaVegetables',\n",
       "  'Rice',\n",
       "  'BlackBeans',\n",
       "  'Cheese',\n",
       "  'SourCream',\n",
       "  'Guacamole',\n",
       "  'Lettuce'],\n",
       " ['RoastedChiliCornSalsa', 'FajitaVegetables'],\n",
       " ['TomatilloGreenChiliSalsa', 'FajitaVegetables', 'SourCream'],\n",
       " ['Lettuce', 'FajitaVeggies', 'Rice'],\n",
       " ['TomatilloRedChiliSalsa', 'Rice', 'BlackBeans', 'Cheese', 'Guacamole'],\n",
       " ['TomatilloRedChiliSalsa', 'Rice', 'SourCream'],\n",
       " ['FreshTomatoSalsa',\n",
       "  'Rice',\n",
       "  'BlackBeans',\n",
       "  'PintoBeans',\n",
       "  'Cheese',\n",
       "  'SourCream',\n",
       "  'Lettuce'],\n",
       " ['Rice', 'Cheese'],\n",
       " ['FreshTomato(Mild)', 'Guacamole', 'Rice', 'SourCream', 'Cheese'],\n",
       " ['TomatilloGreenChiliSalsa', 'Cheese', 'Lettuce', 'PintoBeans', 'Rice'],\n",
       " ['TomatilloRedChiliSalsa', 'Rice', 'BlackBeans'],\n",
       " ['FreshTomatoSalsa', 'Rice', 'SourCream', 'Cheese', 'Lettuce', 'Guacamole'],\n",
       " ['FreshTomato(Mild)', 'Lettuce', 'Rice'],\n",
       " ['FreshTomato(Mild)', 'Lettuce', 'PintoBeans', 'Rice', 'SourCream', 'Cheese'],\n",
       " ['Lettuce', 'FajitaVeggies', 'Rice'],\n",
       " ['TomatilloRedChiliSalsa',\n",
       "  'Rice',\n",
       "  'BlackBeans',\n",
       "  'Cheese',\n",
       "  'SourCream',\n",
       "  'Lettuce'],\n",
       " ['Lettuce', 'FajitaVeggies', 'Rice'],\n",
       " ['Lettuce', 'FajitaVeggies', 'Rice'],\n",
       " ['RoastedChiliCornSalsa',\n",
       "  'FajitaVegetables',\n",
       "  'Rice',\n",
       "  'BlackBeans',\n",
       "  'Cheese',\n",
       "  'SourCream',\n",
       "  'Guacamole',\n",
       "  'Lettuce'],\n",
       " ['TomatilloRedChiliSalsa',\n",
       "  'Rice',\n",
       "  'PintoBeans',\n",
       "  'SourCream',\n",
       "  'Guacamole',\n",
       "  'Lettuce'],\n",
       " ['RoastedChiliCornSalsa',\n",
       "  'Rice',\n",
       "  'PintoBeans',\n",
       "  'SourCream',\n",
       "  'Cheese',\n",
       "  'Guacamole'],\n",
       " ['Tomatillo-GreenChiliSalsa(Medium)',\n",
       "  'Rice',\n",
       "  'FajitaVeggies',\n",
       "  'Cheese',\n",
       "  'SourCream',\n",
       "  'Lettuce'],\n",
       " ['Tomatillo-RedChiliSalsa(Hot)', 'Rice', 'Cheese', 'SourCream', 'Guacamole'],\n",
       " ['FreshTomatoSalsa', 'Rice', 'BlackBeans', 'Cheese', 'SourCream', 'Lettuce'],\n",
       " ['TomatilloGreenChiliSalsa',\n",
       "  'Rice',\n",
       "  'BlackBeans',\n",
       "  'Cheese',\n",
       "  'SourCream',\n",
       "  'Lettuce'],\n",
       " ['FreshTomatoSalsa', 'Rice', 'BlackBeans', 'Cheese', 'Lettuce'],\n",
       " ['RoastedChiliCornSalsa', 'Rice', 'PintoBeans', 'Cheese', 'Lettuce'],\n",
       " ['TomatilloGreenChiliSalsa', 'Rice', 'BlackBeans', 'SourCream', 'Lettuce'],\n",
       " ['Tomatillo-GreenChiliSalsa(Medium)',\n",
       "  'PintoBeans',\n",
       "  'Rice',\n",
       "  'Cheese',\n",
       "  'SourCream'],\n",
       " ['RoastedChiliCornSalsa(Medium)',\n",
       "  'BlackBeans',\n",
       "  'FajitaVeggies',\n",
       "  'Cheese',\n",
       "  'SourCream',\n",
       "  'Guacamole'],\n",
       " ['RoastedChiliCornSalsa(Medium)',\n",
       "  'BlackBeans',\n",
       "  'Rice',\n",
       "  'Cheese',\n",
       "  'SourCream'],\n",
       " ['Tomatillo-GreenChiliSalsa(Medium)',\n",
       "  'BlackBeans',\n",
       "  'Rice',\n",
       "  'FajitaVeggies',\n",
       "  'Cheese',\n",
       "  'SourCream',\n",
       "  'Lettuce'],\n",
       " ['FreshTomatoSalsa',\n",
       "  'FajitaVegetables',\n",
       "  'Rice',\n",
       "  'BlackBeans',\n",
       "  'Cheese',\n",
       "  'SourCream',\n",
       "  'Guacamole'],\n",
       " ['FreshTomatoSalsa', 'Rice', 'BlackBeans', 'Cheese', 'SourCream'],\n",
       " ['FreshTomatoSalsa', 'Rice', 'BlackBeans', 'Cheese', 'SourCream'],\n",
       " ['TomatilloRedChiliSalsa', 'Rice', 'BlackBeans', 'Cheese', 'Lettuce'],\n",
       " ['FreshTomatoSalsa(Mild)', 'BlackBeans', 'Rice', 'FajitaVeggies', 'Cheese'],\n",
       " ['FreshTomatoSalsa(Mild)', 'BlackBeans', 'Rice', 'FajitaVeggies', 'Cheese'],\n",
       " ['RoastedChiliCornSalsa(Medium)', 'BlackBeans', 'Lettuce'],\n",
       " ['TomatilloGreenChiliSalsa', 'Rice', 'BlackBeans', 'Lettuce'],\n",
       " ['RoastedChiliCornSalsa(Medium)', 'Rice', 'PintoBeans', 'Lettuce'],\n",
       " ['FreshTomatoSalsa', 'Rice', 'PintoBeans', 'Cheese', 'Guacamole', 'Lettuce'],\n",
       " ['RoastedChiliCornSalsa',\n",
       "  'Rice',\n",
       "  'PintoBeans',\n",
       "  'Cheese',\n",
       "  'SourCream',\n",
       "  'Lettuce'],\n",
       " ['FreshTomatoSalsa'],\n",
       " ['FreshTomatoSalsa', 'Rice'],\n",
       " ['TomatilloGreenChiliSalsa',\n",
       "  'Rice',\n",
       "  'BlackBeans',\n",
       "  'PintoBeans',\n",
       "  'Cheese',\n",
       "  'SourCream',\n",
       "  'Guacamole',\n",
       "  'Lettuce'],\n",
       " ['FreshTomatoSalsa', 'Rice', 'Cheese', 'SourCream'],\n",
       " ['RoastedChiliCornSalsa(Medium)',\n",
       "  'PintoBeans',\n",
       "  'Rice',\n",
       "  'FajitaVeggies',\n",
       "  'Cheese',\n",
       "  'Lettuce'],\n",
       " ['TomatilloGreenChiliSalsa',\n",
       "  'Rice',\n",
       "  'FajitaVegetables',\n",
       "  'SourCream',\n",
       "  'Cheese',\n",
       "  'Lettuce'],\n",
       " ['Tomatillo-GreenChiliSalsa(Medium)',\n",
       "  'Rice',\n",
       "  'FajitaVeggies',\n",
       "  'Cheese',\n",
       "  'Lettuce'],\n",
       " ['FreshTomatoSalsa', 'Rice', 'PintoBeans', 'Cheese', 'SourCream'],\n",
       " ['FreshTomatoSalsa', 'Rice', 'BlackBeans', 'Cheese', 'SourCream', 'Lettuce'],\n",
       " ['FreshTomatoSalsa', 'Cheese', 'SourCream', 'Guacamole', 'Lettuce'],\n",
       " ['RoastedChiliCornSalsa(Medium)',\n",
       "  'Tomatillo-RedChiliSalsa(Hot)',\n",
       "  'FreshTomatoSalsa(Mild)',\n",
       "  'Rice',\n",
       "  'BlackBeans',\n",
       "  'PintoBeans',\n",
       "  'Cheese',\n",
       "  'SourCream',\n",
       "  'Lettuce'],\n",
       " ['RoastedChiliCornSalsa(Medium)',\n",
       "  'SourCream',\n",
       "  'Cheese',\n",
       "  'BlackBeans',\n",
       "  'Rice'],\n",
       " ['RoastedChiliCornSalsa',\n",
       "  'Guacamole',\n",
       "  'Lettuce',\n",
       "  'Rice',\n",
       "  'FajitaVegetables',\n",
       "  'SourCream'],\n",
       " ['TomatilloRedChiliSalsa', 'Rice', 'Cheese', 'SourCream', 'Lettuce'],\n",
       " ['FreshTomatoSalsa', 'Rice', 'Cheese', 'Lettuce'],\n",
       " ['TomatilloRedChiliSalsa', 'FajitaVegetables', 'Rice', 'Cheese'],\n",
       " ['RoastedChiliCornSalsa',\n",
       "  'Rice',\n",
       "  'BlackBeans',\n",
       "  'Cheese',\n",
       "  'SourCream',\n",
       "  'Guacamole',\n",
       "  'Lettuce'],\n",
       " ['RoastedChiliCornSalsa(Medium)',\n",
       "  'BlackBeans',\n",
       "  'Rice',\n",
       "  'Cheese',\n",
       "  'SourCream'],\n",
       " ['Tomatillo-RedChiliSalsa(Hot)', 'BlackBeans', 'Rice'],\n",
       " ['FreshTomatoSalsa',\n",
       "  'FajitaVegetables',\n",
       "  'Rice',\n",
       "  'BlackBeans',\n",
       "  'Cheese',\n",
       "  'SourCream',\n",
       "  'Lettuce'],\n",
       " ['FreshTomatoSalsa(Mild)',\n",
       "  'Tomatillo-RedChiliSalsa(Hot)',\n",
       "  'Rice',\n",
       "  'Cheese',\n",
       "  'SourCream'],\n",
       " ['FreshTomatoSalsa(Mild)',\n",
       "  'RoastedChiliCornSalsa(Medium)',\n",
       "  'PintoBeans',\n",
       "  'Rice',\n",
       "  'FajitaVeggies',\n",
       "  'Cheese',\n",
       "  'SourCream'],\n",
       " ['FreshTomatoSalsa',\n",
       "  'Rice',\n",
       "  'BlackBeans',\n",
       "  'Cheese',\n",
       "  'SourCream',\n",
       "  'Guacamole',\n",
       "  'Lettuce'],\n",
       " ['Tomatillo-GreenChiliSalsa(Medium)',\n",
       "  'RoastedChiliCornSalsa(Medium)',\n",
       "  'Tomatillo-RedChiliSalsa(Hot)',\n",
       "  'BlackBeans',\n",
       "  'Rice',\n",
       "  'FajitaVeggies',\n",
       "  'Lettuce'],\n",
       " ['FreshTomatoSalsa', 'Rice', 'PintoBeans', 'Cheese', 'SourCream'],\n",
       " ['FreshTomatoSalsa', 'Rice', 'BlackBeans', 'Cheese'],\n",
       " ['FreshTomatoSalsa', 'Rice', 'BlackBeans', 'Cheese', 'SourCream'],\n",
       " ['FreshTomatoSalsa', 'Rice', 'BlackBeans', 'Cheese', 'SourCream', 'Lettuce'],\n",
       " ['FreshTomatoSalsa', 'Rice', 'BlackBeans', 'Cheese', 'SourCream', 'Lettuce'],\n",
       " ['FreshTomatoSalsa',\n",
       "  'Rice',\n",
       "  'BlackBeans',\n",
       "  'Cheese',\n",
       "  'SourCream',\n",
       "  'Guacamole',\n",
       "  'Lettuce'],\n",
       " ['TomatilloRedChiliSalsa', 'Rice', 'BlackBeans', 'Cheese'],\n",
       " ['FreshTomatoSalsa', 'Rice', 'Cheese', 'Lettuce'],\n",
       " ['FreshTomatoSalsa', 'FajitaVegetables', 'Rice', 'BlackBeans', 'Cheese'],\n",
       " ['RoastedChiliCornSalsa',\n",
       "  'FajitaVegetables',\n",
       "  'Rice',\n",
       "  'PintoBeans',\n",
       "  'Cheese',\n",
       "  'SourCream',\n",
       "  'Lettuce'],\n",
       " ['FreshTomatoSalsa',\n",
       "  'FajitaVegetables',\n",
       "  'Rice',\n",
       "  'BlackBeans',\n",
       "  'Cheese',\n",
       "  'SourCream',\n",
       "  'Guacamole',\n",
       "  'Lettuce'],\n",
       " ['TomatilloRedChiliSalsa',\n",
       "  'Rice',\n",
       "  'FajitaVegetables',\n",
       "  'BlackBeans',\n",
       "  'SourCream',\n",
       "  'Cheese',\n",
       "  'Lettuce',\n",
       "  'Guacamole'],\n",
       " ['TomatilloRedChiliSalsa',\n",
       "  'Rice',\n",
       "  'FajitaVegetables',\n",
       "  'PintoBeans',\n",
       "  'SourCream',\n",
       "  'Cheese'],\n",
       " ['FreshTomatoSalsa(Mild)',\n",
       "  'Rice',\n",
       "  'FajitaVeggies',\n",
       "  'Cheese',\n",
       "  'SourCream',\n",
       "  'Guacamole',\n",
       "  'Lettuce'],\n",
       " ['TomatilloGreenChiliSalsa',\n",
       "  'Rice',\n",
       "  'FajitaVegetables',\n",
       "  'PintoBeans',\n",
       "  'SourCream',\n",
       "  'Cheese'],\n",
       " ['FreshTomatoSalsa',\n",
       "  'FajitaVegetables',\n",
       "  'Rice',\n",
       "  'BlackBeans',\n",
       "  'Guacamole',\n",
       "  'Lettuce'],\n",
       " ['TomatilloGreenChiliSalsa', 'Rice', 'PintoBeans', 'SourCream'],\n",
       " ['FreshTomatoSalsa', 'Rice', 'BlackBeans', 'Cheese', 'SourCream'],\n",
       " ['TomatilloRedChiliSalsa',\n",
       "  'FajitaVegetables',\n",
       "  'Rice',\n",
       "  'BlackBeans',\n",
       "  'Cheese',\n",
       "  'SourCream',\n",
       "  'Guacamole',\n",
       "  'Lettuce'],\n",
       " ['Tomatillo-GreenChiliSalsa(Medium)', 'Rice', 'Cheese', 'SourCream'],\n",
       " ['TomatilloRedChiliSalsa', 'Rice', 'Cheese', 'SourCream', 'Lettuce'],\n",
       " ['FreshTomatoSalsa', 'Rice', 'Cheese', 'Guacamole', 'Lettuce'],\n",
       " ['Tomatillo-GreenChiliSalsa(Medium)',\n",
       "  'RoastedChiliCornSalsa(Medium)',\n",
       "  'Tomatillo-RedChiliSalsa(Hot)',\n",
       "  'BlackBeans',\n",
       "  'Rice',\n",
       "  'FajitaVeggies',\n",
       "  'Lettuce'],\n",
       " ['Lettuce', 'Rice'],\n",
       " ['Rice'],\n",
       " ['RoastedChiliCornSalsa',\n",
       "  'FajitaVegetables',\n",
       "  'Rice',\n",
       "  'BlackBeans',\n",
       "  'SourCream',\n",
       "  'Guacamole'],\n",
       " ['FreshTomatoSalsa', 'Rice', 'Cheese', 'SourCream', 'Lettuce'],\n",
       " ['FreshTomatoSalsa', 'Rice', 'Cheese', 'SourCream', 'Lettuce'],\n",
       " ['Tomatillo-RedChiliSalsa(Hot)',\n",
       "  'BlackBeans',\n",
       "  'Rice',\n",
       "  'FajitaVeggies',\n",
       "  'Cheese',\n",
       "  'SourCream',\n",
       "  'Lettuce'],\n",
       " ...]"
      ]
     },
     "execution_count": 35,
     "metadata": {},
     "output_type": "execute_result"
    }
   ],
   "source": [
    "toppings_per_burrito_clean"
   ]
  },
  {
   "cell_type": "code",
   "execution_count": 36,
   "metadata": {},
   "outputs": [],
   "source": [
    "avg_toppings_per_burrito = sum([len(i) for i in toppings_per_burrito_clean])/len(toppings_per_burrito_clean)"
   ]
  },
  {
   "cell_type": "code",
   "execution_count": 37,
   "metadata": {},
   "outputs": [
    {
     "name": "stdout",
     "output_type": "stream",
     "text": [
      "Average toppings per burrito: 5.395051\n"
     ]
    }
   ],
   "source": [
    "print(f\"Average toppings per burrito: {format(avg_toppings_per_burrito,'f')}\")"
   ]
  },
  {
   "cell_type": "markdown",
   "metadata": {},
   "source": [
    "\n",
    "**Consolidated set of code to determine average:**\n",
    "\n"
   ]
  },
  {
   "cell_type": "code",
   "execution_count": 38,
   "metadata": {},
   "outputs": [
    {
     "name": "stdout",
     "output_type": "stream",
     "text": [
      "Average toppings per burrito: 5.395051\n"
     ]
    }
   ],
   "source": [
    "# clean up the dictionary output slightly\n",
    "toppings_per_burrito = [i['choice_description'].replace('[','').replace(']','') for i in data_dicts if \"Burrito\" in i['item_name']]\n",
    "\n",
    "# clean it up some more to get the toppings into a single nested list\n",
    "toppings_per_burrito_clean = [list(i.replace(' ','').split(',')) for i in toppings_per_burrito]\n",
    "\n",
    "# calculate the average toppings per burrito\n",
    "avg_toppings_per_burrito = sum([len(i) for i in toppings_per_burrito_clean])/len(toppings_per_burrito_clean)\n",
    "\n",
    "# print the output\n",
    "print(f\"Average toppings per burrito: {format(avg_toppings_per_burrito,'f')}\")"
   ]
  },
  {
   "cell_type": "code",
   "execution_count": null,
   "metadata": {},
   "outputs": [],
   "source": []
  },
  {
   "cell_type": "code",
   "execution_count": null,
   "metadata": {},
   "outputs": [],
   "source": []
  },
  {
   "cell_type": "code",
   "execution_count": null,
   "metadata": {},
   "outputs": [],
   "source": []
  },
  {
   "cell_type": "markdown",
   "metadata": {},
   "source": [
    "### Part 6: Create a dictionary. Let the keys represent chip orders and the values represent the total number of orders.\n",
    "\n",
    "Expected output: `{'Chips and Roasted Chili-Corn Salsa': 18, ... }`\n",
    "\n",
    "Note: Please take the `quantity` column into account!\n",
    "\n",
    "Optional: Learn how to use `.defaultdict()` to simplify your code."
   ]
  },
  {
   "cell_type": "code",
   "execution_count": 39,
   "metadata": {},
   "outputs": [],
   "source": [
    "# Get a list of all cases where chips were ordered:\n",
    "chips_orderes = []\n",
    "chips_orders = [i for i in data_dicts if 'chips' in i['item_name'].lower()]\n"
   ]
  },
  {
   "cell_type": "code",
   "execution_count": 29,
   "metadata": {},
   "outputs": [
    {
     "data": {
      "text/plain": [
       "'abc'"
      ]
     },
     "execution_count": 29,
     "metadata": {},
     "output_type": "execute_result"
    }
   ],
   "source": [
    "\"ABC\".lower()"
   ]
  },
  {
   "cell_type": "code",
   "execution_count": 31,
   "metadata": {},
   "outputs": [
    {
     "data": {
      "text/plain": [
       "1084"
      ]
     },
     "execution_count": 31,
     "metadata": {},
     "output_type": "execute_result"
    }
   ],
   "source": [
    "len(chips_orders)"
   ]
  },
  {
   "cell_type": "code",
   "execution_count": 40,
   "metadata": {},
   "outputs": [
    {
     "data": {
      "text/plain": [
       "[{'order_id': 1,\n",
       "  'quantity': 1,\n",
       "  'item_name': 'Chips and Fresh Tomato Salsa',\n",
       "  'choice_description': 'NULL',\n",
       "  'item_price': 2.39},\n",
       " {'order_id': 1,\n",
       "  'quantity': 1,\n",
       "  'item_name': 'Chips and Tomatillo-Green Chili Salsa',\n",
       "  'choice_description': 'NULL',\n",
       "  'item_price': 2.39},\n",
       " {'order_id': 3,\n",
       "  'quantity': 1,\n",
       "  'item_name': 'Side of Chips',\n",
       "  'choice_description': 'NULL',\n",
       "  'item_price': 1.69},\n",
       " {'order_id': 5,\n",
       "  'quantity': 1,\n",
       "  'item_name': 'Chips and Guacamole',\n",
       "  'choice_description': 'NULL',\n",
       "  'item_price': 4.45}]"
      ]
     },
     "execution_count": 40,
     "metadata": {},
     "output_type": "execute_result"
    }
   ],
   "source": [
    "chips_orders[:4]"
   ]
  },
  {
   "cell_type": "code",
   "execution_count": 41,
   "metadata": {},
   "outputs": [
    {
     "name": "stdout",
     "output_type": "stream",
     "text": [
      "{'order_id': 1, 'quantity': 1, 'item_name': 'Chips and Tomatillo-Green Chili Salsa', 'choice_description': 'NULL', 'item_price': 2.39}\n",
      "{'order_id': 8, 'quantity': 1, 'item_name': 'Chips and Tomatillo-Green Chili Salsa', 'choice_description': 'NULL', 'item_price': 2.39}\n",
      "{'order_id': 15, 'quantity': 1, 'item_name': 'Chips and Tomatillo-Green Chili Salsa', 'choice_description': 'NULL', 'item_price': 2.39}\n",
      "{'order_id': 50, 'quantity': 1, 'item_name': 'Chips and Tomatillo-Green Chili Salsa', 'choice_description': 'NULL', 'item_price': 2.39}\n",
      "{'order_id': 58, 'quantity': 1, 'item_name': 'Chips and Tomatillo-Green Chili Salsa', 'choice_description': 'NULL', 'item_price': 2.39}\n",
      "{'order_id': 69, 'quantity': 1, 'item_name': 'Chips and Tomatillo-Green Chili Salsa', 'choice_description': 'NULL', 'item_price': 2.39}\n",
      "{'order_id': 74, 'quantity': 1, 'item_name': 'Chips and Tomatillo-Green Chili Salsa', 'choice_description': 'NULL', 'item_price': 2.39}\n",
      "{'order_id': 85, 'quantity': 1, 'item_name': 'Chips and Roasted Chili-Corn Salsa', 'choice_description': 'NULL', 'item_price': 2.39}\n",
      "{'order_id': 88, 'quantity': 1, 'item_name': 'Chips and Tomatillo-Green Chili Salsa', 'choice_description': 'NULL', 'item_price': 2.39}\n",
      "{'order_id': 118, 'quantity': 1, 'item_name': 'Chips and Tomatillo-Green Chili Salsa', 'choice_description': 'NULL', 'item_price': 2.39}\n",
      "{'order_id': 130, 'quantity': 1, 'item_name': 'Chips and Tomatillo-Red Chili Salsa', 'choice_description': 'NULL', 'item_price': 2.39}\n",
      "{'order_id': 150, 'quantity': 1, 'item_name': 'Chips and Tomatillo-Red Chili Salsa', 'choice_description': 'NULL', 'item_price': 2.39}\n",
      "{'order_id': 237, 'quantity': 1, 'item_name': 'Chips and Tomatillo-Green Chili Salsa', 'choice_description': 'NULL', 'item_price': 2.39}\n",
      "{'order_id': 268, 'quantity': 1, 'item_name': 'Chips and Roasted Chili-Corn Salsa', 'choice_description': 'NULL', 'item_price': 2.39}\n",
      "{'order_id': 285, 'quantity': 1, 'item_name': 'Chips and Tomatillo-Red Chili Salsa', 'choice_description': 'NULL', 'item_price': 2.39}\n",
      "{'order_id': 403, 'quantity': 1, 'item_name': 'Chips and Tomatillo-Green Chili Salsa', 'choice_description': 'NULL', 'item_price': 2.39}\n",
      "{'order_id': 414, 'quantity': 1, 'item_name': 'Chips and Tomatillo-Green Chili Salsa', 'choice_description': 'NULL', 'item_price': 2.39}\n",
      "{'order_id': 419, 'quantity': 1, 'item_name': 'Chips and Tomatillo-Green Chili Salsa', 'choice_description': 'NULL', 'item_price': 2.39}\n",
      "{'order_id': 447, 'quantity': 1, 'item_name': 'Chips and Tomatillo-Green Chili Salsa', 'choice_description': 'NULL', 'item_price': 2.39}\n",
      "{'order_id': 454, 'quantity': 1, 'item_name': 'Chips and Tomatillo-Red Chili Salsa', 'choice_description': 'NULL', 'item_price': 2.39}\n",
      "{'order_id': 485, 'quantity': 1, 'item_name': 'Chips and Roasted Chili-Corn Salsa', 'choice_description': 'NULL', 'item_price': 2.39}\n",
      "{'order_id': 485, 'quantity': 1, 'item_name': 'Chips and Tomatillo-Red Chili Salsa', 'choice_description': 'NULL', 'item_price': 2.39}\n",
      "{'order_id': 496, 'quantity': 1, 'item_name': 'Chips and Tomatillo-Green Chili Salsa', 'choice_description': 'NULL', 'item_price': 2.39}\n",
      "{'order_id': 513, 'quantity': 1, 'item_name': 'Chips and Tomatillo-Green Chili Salsa', 'choice_description': 'NULL', 'item_price': 2.39}\n",
      "{'order_id': 591, 'quantity': 1, 'item_name': 'Chips and Roasted Chili-Corn Salsa', 'choice_description': 'NULL', 'item_price': 2.39}\n",
      "{'order_id': 624, 'quantity': 1, 'item_name': 'Chips and Tomatillo-Red Chili Salsa', 'choice_description': 'NULL', 'item_price': 2.39}\n",
      "{'order_id': 624, 'quantity': 1, 'item_name': 'Chips and Tomatillo-Red Chili Salsa', 'choice_description': 'NULL', 'item_price': 2.39}\n",
      "{'order_id': 652, 'quantity': 1, 'item_name': 'Chips and Tomatillo-Green Chili Salsa', 'choice_description': 'NULL', 'item_price': 2.39}\n",
      "{'order_id': 656, 'quantity': 1, 'item_name': 'Chips and Roasted Chili-Corn Salsa', 'choice_description': 'NULL', 'item_price': 2.39}\n",
      "{'order_id': 711, 'quantity': 1, 'item_name': 'Chips and Tomatillo-Red Chili Salsa', 'choice_description': 'NULL', 'item_price': 2.39}\n",
      "{'order_id': 752, 'quantity': 1, 'item_name': 'Chips and Tomatillo-Red Chili Salsa', 'choice_description': 'NULL', 'item_price': 2.39}\n",
      "{'order_id': 783, 'quantity': 1, 'item_name': 'Chips and Tomatillo-Green Chili Salsa', 'choice_description': 'NULL', 'item_price': 2.39}\n",
      "{'order_id': 794, 'quantity': 1, 'item_name': 'Chips and Tomatillo-Green Chili Salsa', 'choice_description': 'NULL', 'item_price': 2.39}\n",
      "{'order_id': 811, 'quantity': 1, 'item_name': 'Chips and Tomatillo-Red Chili Salsa', 'choice_description': 'NULL', 'item_price': 2.39}\n",
      "{'order_id': 827, 'quantity': 1, 'item_name': 'Chips and Roasted Chili-Corn Salsa', 'choice_description': 'NULL', 'item_price': 2.39}\n",
      "{'order_id': 861, 'quantity': 1, 'item_name': 'Chips and Roasted Chili-Corn Salsa', 'choice_description': 'NULL', 'item_price': 2.39}\n",
      "{'order_id': 872, 'quantity': 1, 'item_name': 'Chips and Tomatillo-Green Chili Salsa', 'choice_description': 'NULL', 'item_price': 2.39}\n",
      "{'order_id': 924, 'quantity': 1, 'item_name': 'Chips and Roasted Chili-Corn Salsa', 'choice_description': 'NULL', 'item_price': 2.39}\n",
      "{'order_id': 944, 'quantity': 1, 'item_name': 'Chips and Roasted Chili-Corn Salsa', 'choice_description': 'NULL', 'item_price': 2.39}\n",
      "{'order_id': 1010, 'quantity': 2, 'item_name': 'Chips and Tomatillo-Red Chili Salsa', 'choice_description': 'NULL', 'item_price': 4.78}\n",
      "{'order_id': 1055, 'quantity': 2, 'item_name': 'Chips and Tomatillo-Green Chili Salsa', 'choice_description': 'NULL', 'item_price': 4.78}\n",
      "{'order_id': 1131, 'quantity': 1, 'item_name': 'Chips and Tomatillo-Green Chili Salsa', 'choice_description': 'NULL', 'item_price': 2.39}\n",
      "{'order_id': 1156, 'quantity': 1, 'item_name': 'Chips and Roasted Chili-Corn Salsa', 'choice_description': 'NULL', 'item_price': 2.39}\n",
      "{'order_id': 1182, 'quantity': 3, 'item_name': 'Chips and Tomatillo-Red Chili Salsa', 'choice_description': 'NULL', 'item_price': 7.17}\n",
      "{'order_id': 1202, 'quantity': 1, 'item_name': 'Chips and Roasted Chili-Corn Salsa', 'choice_description': 'NULL', 'item_price': 2.39}\n",
      "{'order_id': 1215, 'quantity': 1, 'item_name': 'Chips and Tomatillo-Red Chili Salsa', 'choice_description': 'NULL', 'item_price': 2.39}\n",
      "{'order_id': 1216, 'quantity': 1, 'item_name': 'Chips and Roasted Chili-Corn Salsa', 'choice_description': 'NULL', 'item_price': 2.39}\n",
      "{'order_id': 1254, 'quantity': 1, 'item_name': 'Chips and Tomatillo-Green Chili Salsa', 'choice_description': 'NULL', 'item_price': 2.39}\n",
      "{'order_id': 1267, 'quantity': 1, 'item_name': 'Chips and Tomatillo-Red Chili Salsa', 'choice_description': 'NULL', 'item_price': 2.39}\n",
      "{'order_id': 1277, 'quantity': 1, 'item_name': 'Chips and Roasted Chili-Corn Salsa', 'choice_description': 'NULL', 'item_price': 2.39}\n",
      "{'order_id': 1282, 'quantity': 1, 'item_name': 'Chips and Roasted Chili-Corn Salsa', 'choice_description': 'NULL', 'item_price': 2.39}\n",
      "{'order_id': 1308, 'quantity': 1, 'item_name': 'Chips and Roasted Chili-Corn Salsa', 'choice_description': 'NULL', 'item_price': 2.39}\n",
      "{'order_id': 1309, 'quantity': 3, 'item_name': 'Chips and Tomatillo-Red Chili Salsa', 'choice_description': 'NULL', 'item_price': 7.17}\n",
      "{'order_id': 1330, 'quantity': 1, 'item_name': 'Chips and Tomatillo-Green Chili Salsa', 'choice_description': 'NULL', 'item_price': 2.39}\n",
      "{'order_id': 1347, 'quantity': 1, 'item_name': 'Chips and Tomatillo-Red Chili Salsa', 'choice_description': 'NULL', 'item_price': 2.39}\n",
      "{'order_id': 1363, 'quantity': 1, 'item_name': 'Chips and Roasted Chili-Corn Salsa', 'choice_description': 'NULL', 'item_price': 2.39}\n",
      "{'order_id': 1429, 'quantity': 1, 'item_name': 'Chips and Tomatillo-Red Chili Salsa', 'choice_description': 'NULL', 'item_price': 2.39}\n",
      "{'order_id': 1433, 'quantity': 1, 'item_name': 'Chips and Tomatillo-Green Chili Salsa', 'choice_description': 'NULL', 'item_price': 2.39}\n",
      "{'order_id': 1451, 'quantity': 1, 'item_name': 'Chips and Tomatillo-Green Chili Salsa', 'choice_description': 'NULL', 'item_price': 2.39}\n",
      "{'order_id': 1452, 'quantity': 1, 'item_name': 'Chips and Roasted Chili-Corn Salsa', 'choice_description': 'NULL', 'item_price': 2.39}\n",
      "{'order_id': 1459, 'quantity': 1, 'item_name': 'Chips and Tomatillo-Red Chili Salsa', 'choice_description': 'NULL', 'item_price': 2.39}\n",
      "{'order_id': 1462, 'quantity': 2, 'item_name': 'Chips and Tomatillo-Green Chili Salsa', 'choice_description': 'NULL', 'item_price': 4.78}\n",
      "{'order_id': 1463, 'quantity': 1, 'item_name': 'Chips and Tomatillo-Red Chili Salsa', 'choice_description': 'NULL', 'item_price': 2.39}\n",
      "{'order_id': 1516, 'quantity': 1, 'item_name': 'Chips and Tomatillo-Green Chili Salsa', 'choice_description': 'NULL', 'item_price': 2.39}\n",
      "{'order_id': 1527, 'quantity': 1, 'item_name': 'Chips and Tomatillo-Green Chili Salsa', 'choice_description': 'NULL', 'item_price': 2.39}\n",
      "{'order_id': 1552, 'quantity': 1, 'item_name': 'Chips and Tomatillo-Green Chili Salsa', 'choice_description': 'NULL', 'item_price': 2.39}\n",
      "{'order_id': 1565, 'quantity': 1, 'item_name': 'Chips and Roasted Chili-Corn Salsa', 'choice_description': 'NULL', 'item_price': 2.39}\n",
      "{'order_id': 1604, 'quantity': 1, 'item_name': 'Chips and Tomatillo-Green Chili Salsa', 'choice_description': 'NULL', 'item_price': 2.39}\n",
      "{'order_id': 1637, 'quantity': 1, 'item_name': 'Chips and Tomatillo-Red Chili Salsa', 'choice_description': 'NULL', 'item_price': 2.39}\n"
     ]
    },
    {
     "data": {
      "text/plain": [
       "[None,\n",
       " None,\n",
       " None,\n",
       " None,\n",
       " None,\n",
       " None,\n",
       " None,\n",
       " None,\n",
       " None,\n",
       " None,\n",
       " None,\n",
       " None,\n",
       " None,\n",
       " None,\n",
       " None,\n",
       " None,\n",
       " None,\n",
       " None,\n",
       " None,\n",
       " None,\n",
       " None,\n",
       " None,\n",
       " None,\n",
       " None,\n",
       " None,\n",
       " None,\n",
       " None,\n",
       " None,\n",
       " None,\n",
       " None,\n",
       " None,\n",
       " None,\n",
       " None,\n",
       " None,\n",
       " None,\n",
       " None,\n",
       " None,\n",
       " None,\n",
       " None,\n",
       " None,\n",
       " None,\n",
       " None,\n",
       " None,\n",
       " None,\n",
       " None,\n",
       " None,\n",
       " None,\n",
       " None,\n",
       " None,\n",
       " None,\n",
       " None,\n",
       " None,\n",
       " None,\n",
       " None,\n",
       " None,\n",
       " None,\n",
       " None,\n",
       " None,\n",
       " None,\n",
       " None,\n",
       " None,\n",
       " None,\n",
       " None,\n",
       " None,\n",
       " None,\n",
       " None,\n",
       " None,\n",
       " None,\n",
       " None]"
      ]
     },
     "execution_count": 41,
     "metadata": {},
     "output_type": "execute_result"
    }
   ],
   "source": [
    "[print(i) for i in chips_orders if \"-\" in i['item_name']]"
   ]
  },
  {
   "cell_type": "code",
   "execution_count": 42,
   "metadata": {},
   "outputs": [],
   "source": [
    "# Compile unique list of chips_orders item names\n",
    "\n",
    "# Use replacement on \"-\" given that there seem to be two versions of the same item\n",
    "# being \"Chips and Tomatillo-Green Chili Salsa\"\n",
    "# >> Turned out more complicated than expected so see extra workings below\n",
    "\n",
    "# Don't replace on \"-\" given that there seem to be two versions of the same item\n",
    "chips_item_names = list(set([i['item_name'] for i in chips_orders]))"
   ]
  },
  {
   "cell_type": "code",
   "execution_count": 43,
   "metadata": {},
   "outputs": [
    {
     "data": {
      "text/plain": [
       "['Chips and Fresh Tomato Salsa',\n",
       " 'Chips and Tomatillo-Green Chili Salsa',\n",
       " 'Chips and Mild Fresh Tomato Salsa',\n",
       " 'Chips and Guacamole',\n",
       " 'Chips and Roasted Chili Corn Salsa',\n",
       " 'Chips and Roasted Chili-Corn Salsa',\n",
       " 'Side of Chips',\n",
       " 'Chips and Tomatillo Red Chili Salsa',\n",
       " 'Chips',\n",
       " 'Chips and Tomatillo Green Chili Salsa',\n",
       " 'Chips and Tomatillo-Red Chili Salsa']"
      ]
     },
     "execution_count": 43,
     "metadata": {},
     "output_type": "execute_result"
    }
   ],
   "source": [
    "chips_item_names"
   ]
  },
  {
   "cell_type": "code",
   "execution_count": 36,
   "metadata": {},
   "outputs": [
    {
     "data": {
      "text/plain": [
       "[{'order_id': 1,\n",
       "  'quantity': 1,\n",
       "  'item_name': 'Chips and Fresh Tomato Salsa',\n",
       "  'choice_description': 'NULL',\n",
       "  'item_price': 2.39},\n",
       " {'order_id': 1,\n",
       "  'quantity': 1,\n",
       "  'item_name': 'Chips and Tomatillo-Green Chili Salsa',\n",
       "  'choice_description': 'NULL',\n",
       "  'item_price': 2.39},\n",
       " {'order_id': 3,\n",
       "  'quantity': 1,\n",
       "  'item_name': 'Side of Chips',\n",
       "  'choice_description': 'NULL',\n",
       "  'item_price': 1.69}]"
      ]
     },
     "execution_count": 36,
     "metadata": {},
     "output_type": "execute_result"
    }
   ],
   "source": [
    "chips_orders[:3]"
   ]
  },
  {
   "cell_type": "code",
   "execution_count": 44,
   "metadata": {},
   "outputs": [
    {
     "data": {
      "text/plain": [
       "[]"
      ]
     },
     "execution_count": 44,
     "metadata": {},
     "output_type": "execute_result"
    }
   ],
   "source": [
    "[print(i) for i in chips_orders if (i['item_name'] == 'Chips' and i['choice_description'] != 'NULL')]"
   ]
  },
  {
   "cell_type": "code",
   "execution_count": 45,
   "metadata": {},
   "outputs": [
    {
     "data": {
      "text/plain": [
       "[]"
      ]
     },
     "execution_count": 45,
     "metadata": {},
     "output_type": "execute_result"
    }
   ],
   "source": [
    "[print(i) for i in chips_orders if (i['item_name'] == 'Side of Chips' and i['choice_description'] != 'NULL')]"
   ]
  },
  {
   "cell_type": "code",
   "execution_count": 46,
   "metadata": {},
   "outputs": [],
   "source": [
    "chip_dict = {}\n",
    "\n",
    "for chip_name in chips_item_names:\n",
    "    num_orders = sum([i['quantity'] for i in chips_orders if i['item_name']==chip_name])\n",
    "    chip_dict.update({chip_name : num_orders})"
   ]
  },
  {
   "cell_type": "code",
   "execution_count": 47,
   "metadata": {},
   "outputs": [
    {
     "data": {
      "text/plain": [
       "{'Chips and Fresh Tomato Salsa': 130,\n",
       " 'Chips and Tomatillo-Green Chili Salsa': 33,\n",
       " 'Chips and Mild Fresh Tomato Salsa': 1,\n",
       " 'Chips and Guacamole': 506,\n",
       " 'Chips and Roasted Chili Corn Salsa': 23,\n",
       " 'Chips and Roasted Chili-Corn Salsa': 18,\n",
       " 'Side of Chips': 110,\n",
       " 'Chips and Tomatillo Red Chili Salsa': 50,\n",
       " 'Chips': 230,\n",
       " 'Chips and Tomatillo Green Chili Salsa': 45,\n",
       " 'Chips and Tomatillo-Red Chili Salsa': 25}"
      ]
     },
     "execution_count": 47,
     "metadata": {},
     "output_type": "execute_result"
    }
   ],
   "source": [
    "chip_dict # This is the output with the \"-\" replace used"
   ]
  },
  {
   "cell_type": "markdown",
   "metadata": {},
   "source": [
    "**Output of total types of chip orders below**\n",
    "\n",
    "* This is the output **without** the \"-\" replace used\n",
    "* This highlights an error on the first pass, because in the cell above he total for Green Chili Salsa should be 78 not 45.\n",
    "* This is because when I adjusted the names at the top level, I didn't in the underlying data."
   ]
  },
  {
   "cell_type": "code",
   "execution_count": 48,
   "metadata": {
    "scrolled": true
   },
   "outputs": [
    {
     "data": {
      "text/plain": [
       "{'Chips and Fresh Tomato Salsa': 130,\n",
       " 'Chips and Tomatillo-Green Chili Salsa': 33,\n",
       " 'Chips and Mild Fresh Tomato Salsa': 1,\n",
       " 'Chips and Guacamole': 506,\n",
       " 'Chips and Roasted Chili Corn Salsa': 23,\n",
       " 'Chips and Roasted Chili-Corn Salsa': 18,\n",
       " 'Side of Chips': 110,\n",
       " 'Chips and Tomatillo Red Chili Salsa': 50,\n",
       " 'Chips': 230,\n",
       " 'Chips and Tomatillo Green Chili Salsa': 45,\n",
       " 'Chips and Tomatillo-Red Chili Salsa': 25}"
      ]
     },
     "execution_count": 48,
     "metadata": {},
     "output_type": "execute_result"
    }
   ],
   "source": [
    "chip_dict "
   ]
  },
  {
   "cell_type": "code",
   "execution_count": 49,
   "metadata": {},
   "outputs": [
    {
     "data": {
      "text/plain": [
       "{'order_id': 1,\n",
       " 'quantity': 1,\n",
       " 'item_name': 'Chips and Fresh Tomato Salsa',\n",
       " 'choice_description': 'NULL',\n",
       " 'item_price': 2.39}"
      ]
     },
     "execution_count": 49,
     "metadata": {},
     "output_type": "execute_result"
    }
   ],
   "source": [
    "chips_orders[0]"
   ]
  },
  {
   "cell_type": "code",
   "execution_count": 50,
   "metadata": {},
   "outputs": [],
   "source": [
    "# So take a copy of chips_orders and clean it up\n",
    "chips_orders_clean = [i for i in chips_orders]\n",
    "\n",
    "#chips_orders_clean = chips_orders \n",
    "# This will just reference the original list of dicts\n"
   ]
  },
  {
   "cell_type": "code",
   "execution_count": 51,
   "metadata": {},
   "outputs": [
    {
     "data": {
      "text/plain": [
       "False"
      ]
     },
     "execution_count": 51,
     "metadata": {},
     "output_type": "execute_result"
    }
   ],
   "source": [
    "chips_orders_clean is chips_orders"
   ]
  },
  {
   "cell_type": "code",
   "execution_count": 52,
   "metadata": {},
   "outputs": [
    {
     "name": "stdout",
     "output_type": "stream",
     "text": [
      "{'order_id': 1, 'quantity': 1, 'item_name': 'Chips and Tomatillo-Green Chili Salsa', 'choice_description': 'NULL', 'item_price': 2.39}\n",
      "{'order_id': 15, 'quantity': 1, 'item_name': 'Chips and Tomatillo-Green Chili Salsa', 'choice_description': 'NULL', 'item_price': 2.39}\n"
     ]
    }
   ],
   "source": [
    "print(chips_orders_clean[1])\n",
    "print(chips_orders_clean[8])"
   ]
  },
  {
   "cell_type": "code",
   "execution_count": 53,
   "metadata": {},
   "outputs": [],
   "source": [
    "for i in chips_orders_clean:\n",
    "    i['item_name'] = i['item_name'].replace('-',' ')"
   ]
  },
  {
   "cell_type": "code",
   "execution_count": null,
   "metadata": {},
   "outputs": [],
   "source": []
  },
  {
   "cell_type": "code",
   "execution_count": 54,
   "metadata": {},
   "outputs": [],
   "source": [
    "chip_dict_2 = {}\n",
    "\n",
    "for chip_name in chips_item_names:\n",
    "    num_orders = sum([i['quantity'] for i in chips_orders_clean if i['item_name']==chip_name])\n",
    "    if num_orders > 0:    # This makes sure the name appears at all\n",
    "        chip_dict_2.update({chip_name : num_orders})"
   ]
  },
  {
   "cell_type": "code",
   "execution_count": 55,
   "metadata": {},
   "outputs": [
    {
     "data": {
      "text/plain": [
       "{'Chips and Fresh Tomato Salsa': 130,\n",
       " 'Chips and Mild Fresh Tomato Salsa': 1,\n",
       " 'Chips and Guacamole': 506,\n",
       " 'Chips and Roasted Chili Corn Salsa': 41,\n",
       " 'Side of Chips': 110,\n",
       " 'Chips and Tomatillo Red Chili Salsa': 75,\n",
       " 'Chips': 230,\n",
       " 'Chips and Tomatillo Green Chili Salsa': 78}"
      ]
     },
     "execution_count": 55,
     "metadata": {},
     "output_type": "execute_result"
    }
   ],
   "source": [
    "chip_dict_2"
   ]
  },
  {
   "cell_type": "markdown",
   "metadata": {},
   "source": [
    "---\n",
    "\n",
    "## Bonus: Craft a problem statement about this data that interests you, and then answer it!\n"
   ]
  },
  {
   "cell_type": "markdown",
   "metadata": {
    "collapsed": true
   },
   "source": [
    "**Actioned options:**\n",
    "\n",
    "* Look at number of toppings with different food types\n",
    "* Look at the distribution of items in orders\n",
    "\n",
    "**Potential options:**\n",
    "* Look at the distribution of item values, across different items\n",
    "* Try and infer the price of different additions / extras (see if there is any?)\n",
    "\n",
    "**Answer some general questions:**\n",
    "1. Breakdown of orders with a 0,1,2,... drinks?\n",
    "2. What proportion of orders include 0,1,2 chips as a side?\n",
    "3. (More interesting) grid of mix of orders (i.e. x-axis drinks / y-axis chips\n"
   ]
  },
  {
   "cell_type": "code",
   "execution_count": 57,
   "metadata": {},
   "outputs": [
    {
     "data": {
      "text/plain": [
       "[{'order_id': 1,\n",
       "  'quantity': 1,\n",
       "  'item_name': 'Chips and Fresh Tomato Salsa',\n",
       "  'choice_description': 'NULL',\n",
       "  'item_price': 2.39},\n",
       " {'order_id': 1,\n",
       "  'quantity': 1,\n",
       "  'item_name': 'Izze',\n",
       "  'choice_description': '[Clementine]',\n",
       "  'item_price': 3.39},\n",
       " {'order_id': 1,\n",
       "  'quantity': 1,\n",
       "  'item_name': 'Nantucket Nectar',\n",
       "  'choice_description': '[Apple]',\n",
       "  'item_price': 3.39},\n",
       " {'order_id': 1,\n",
       "  'quantity': 1,\n",
       "  'item_name': 'Chips and Tomatillo Green Chili Salsa',\n",
       "  'choice_description': 'NULL',\n",
       "  'item_price': 2.39}]"
      ]
     },
     "execution_count": 57,
     "metadata": {},
     "output_type": "execute_result"
    }
   ],
   "source": [
    "data_dicts[:4]"
   ]
  },
  {
   "cell_type": "markdown",
   "metadata": {
    "collapsed": true
   },
   "source": [
    "## Use numpy, pandas, and plot.ly to make life easier!"
   ]
  },
  {
   "cell_type": "code",
   "execution_count": 56,
   "metadata": {},
   "outputs": [],
   "source": [
    "import numpy as np\n",
    "import pandas as pd\n",
    "import plotly.graph_objects as go\n",
    "import plotly.express as px\n",
    "\n",
    "pd.options.plotting.backend = \"plotly\""
   ]
  },
  {
   "cell_type": "code",
   "execution_count": 112,
   "metadata": {},
   "outputs": [
    {
     "data": {
      "text/plain": [
       "Templates configuration\n",
       "-----------------------\n",
       "    Default template: 'plotly'\n",
       "    Available templates:\n",
       "        ['ggplot2', 'seaborn', 'simple_white', 'plotly',\n",
       "         'plotly_white', 'plotly_dark', 'presentation', 'xgridoff',\n",
       "         'ygridoff', 'gridon', 'none']"
      ]
     },
     "execution_count": 112,
     "metadata": {},
     "output_type": "execute_result"
    }
   ],
   "source": [
    "import plotly.io as pio\n",
    "pio.templates"
   ]
  },
  {
   "cell_type": "code",
   "execution_count": 57,
   "metadata": {},
   "outputs": [],
   "source": [
    "df = pd.read_csv(DATA_FILE,sep='\\t')"
   ]
  },
  {
   "cell_type": "code",
   "execution_count": 58,
   "metadata": {},
   "outputs": [
    {
     "data": {
      "text/html": [
       "<div>\n",
       "<style scoped>\n",
       "    .dataframe tbody tr th:only-of-type {\n",
       "        vertical-align: middle;\n",
       "    }\n",
       "\n",
       "    .dataframe tbody tr th {\n",
       "        vertical-align: top;\n",
       "    }\n",
       "\n",
       "    .dataframe thead th {\n",
       "        text-align: right;\n",
       "    }\n",
       "</style>\n",
       "<table border=\"1\" class=\"dataframe\">\n",
       "  <thead>\n",
       "    <tr style=\"text-align: right;\">\n",
       "      <th></th>\n",
       "      <th>order_id</th>\n",
       "      <th>quantity</th>\n",
       "      <th>item_name</th>\n",
       "      <th>choice_description</th>\n",
       "      <th>item_price</th>\n",
       "    </tr>\n",
       "  </thead>\n",
       "  <tbody>\n",
       "    <tr>\n",
       "      <th>0</th>\n",
       "      <td>1</td>\n",
       "      <td>1</td>\n",
       "      <td>Chips and Fresh Tomato Salsa</td>\n",
       "      <td>NaN</td>\n",
       "      <td>$2.39</td>\n",
       "    </tr>\n",
       "    <tr>\n",
       "      <th>1</th>\n",
       "      <td>1</td>\n",
       "      <td>1</td>\n",
       "      <td>Izze</td>\n",
       "      <td>[Clementine]</td>\n",
       "      <td>$3.39</td>\n",
       "    </tr>\n",
       "    <tr>\n",
       "      <th>2</th>\n",
       "      <td>1</td>\n",
       "      <td>1</td>\n",
       "      <td>Nantucket Nectar</td>\n",
       "      <td>[Apple]</td>\n",
       "      <td>$3.39</td>\n",
       "    </tr>\n",
       "    <tr>\n",
       "      <th>3</th>\n",
       "      <td>1</td>\n",
       "      <td>1</td>\n",
       "      <td>Chips and Tomatillo-Green Chili Salsa</td>\n",
       "      <td>NaN</td>\n",
       "      <td>$2.39</td>\n",
       "    </tr>\n",
       "    <tr>\n",
       "      <th>4</th>\n",
       "      <td>2</td>\n",
       "      <td>2</td>\n",
       "      <td>Chicken Bowl</td>\n",
       "      <td>[Tomatillo-Red Chili Salsa (Hot), [Black Beans...</td>\n",
       "      <td>$16.98</td>\n",
       "    </tr>\n",
       "  </tbody>\n",
       "</table>\n",
       "</div>"
      ],
      "text/plain": [
       "   order_id  quantity                              item_name  \\\n",
       "0         1         1           Chips and Fresh Tomato Salsa   \n",
       "1         1         1                                   Izze   \n",
       "2         1         1                       Nantucket Nectar   \n",
       "3         1         1  Chips and Tomatillo-Green Chili Salsa   \n",
       "4         2         2                           Chicken Bowl   \n",
       "\n",
       "                                  choice_description item_price  \n",
       "0                                                NaN     $2.39   \n",
       "1                                       [Clementine]     $3.39   \n",
       "2                                            [Apple]     $3.39   \n",
       "3                                                NaN     $2.39   \n",
       "4  [Tomatillo-Red Chili Salsa (Hot), [Black Beans...    $16.98   "
      ]
     },
     "execution_count": 58,
     "metadata": {},
     "output_type": "execute_result"
    }
   ],
   "source": [
    "df.head()"
   ]
  },
  {
   "cell_type": "code",
   "execution_count": 59,
   "metadata": {},
   "outputs": [
    {
     "data": {
      "text/plain": [
       "(4622, 5)"
      ]
     },
     "execution_count": 59,
     "metadata": {},
     "output_type": "execute_result"
    }
   ],
   "source": [
    "df.shape"
   ]
  },
  {
   "cell_type": "code",
   "execution_count": 60,
   "metadata": {},
   "outputs": [
    {
     "name": "stdout",
     "output_type": "stream",
     "text": [
      "<class 'pandas.core.frame.DataFrame'>\n",
      "RangeIndex: 4622 entries, 0 to 4621\n",
      "Data columns (total 5 columns):\n",
      " #   Column              Non-Null Count  Dtype \n",
      "---  ------              --------------  ----- \n",
      " 0   order_id            4622 non-null   int64 \n",
      " 1   quantity            4622 non-null   int64 \n",
      " 2   item_name           4622 non-null   object\n",
      " 3   choice_description  3376 non-null   object\n",
      " 4   item_price          4622 non-null   object\n",
      "dtypes: int64(2), object(3)\n",
      "memory usage: 180.7+ KB\n"
     ]
    }
   ],
   "source": [
    "df.info()"
   ]
  },
  {
   "cell_type": "code",
   "execution_count": 61,
   "metadata": {},
   "outputs": [],
   "source": [
    "df['item_price_value'] = df['item_price'].apply(lambda x: float(x.lstrip(\"$\")))"
   ]
  },
  {
   "cell_type": "code",
   "execution_count": 62,
   "metadata": {},
   "outputs": [
    {
     "data": {
      "text/plain": [
       "0     2.39\n",
       "1     3.39\n",
       "2     3.39\n",
       "3     2.39\n",
       "4    16.98\n",
       "Name: item_price_value, dtype: float64"
      ]
     },
     "execution_count": 62,
     "metadata": {},
     "output_type": "execute_result"
    }
   ],
   "source": [
    "df['item_price_value'][:5]"
   ]
  },
  {
   "cell_type": "markdown",
   "metadata": {},
   "source": [
    "## Look at toppings mix"
   ]
  },
  {
   "cell_type": "code",
   "execution_count": 63,
   "metadata": {},
   "outputs": [],
   "source": [
    "?df.notnull"
   ]
  },
  {
   "cell_type": "code",
   "execution_count": 64,
   "metadata": {},
   "outputs": [
    {
     "data": {
      "text/plain": [
       "1                                            [Clementine]\n",
       "2                                                 [Apple]\n",
       "4       [Tomatillo-Red Chili Salsa (Hot), [Black Beans...\n",
       "5       [Fresh Tomato Salsa (Mild), [Rice, Cheese, Sou...\n",
       "7       [Tomatillo Red Chili Salsa, [Fajita Vegetables...\n",
       "                              ...                        \n",
       "4617    [Fresh Tomato Salsa, [Rice, Black Beans, Sour ...\n",
       "4618    [Fresh Tomato Salsa, [Rice, Sour Cream, Cheese...\n",
       "4619    [Fresh Tomato Salsa, [Fajita Vegetables, Pinto...\n",
       "4620    [Fresh Tomato Salsa, [Fajita Vegetables, Lettu...\n",
       "4621    [Fresh Tomato Salsa, [Fajita Vegetables, Pinto...\n",
       "Name: choice_description, Length: 3376, dtype: object"
      ]
     },
     "execution_count": 64,
     "metadata": {},
     "output_type": "execute_result"
    }
   ],
   "source": [
    "df['choice_description'][df['choice_description'].notnull()]"
   ]
  },
  {
   "cell_type": "code",
   "execution_count": 65,
   "metadata": {},
   "outputs": [],
   "source": [
    "df['description_clean'] = df['choice_description'][df['choice_description'].notnull()].apply(lambda x: (str(x).replace(\"[\",'')).replace(\"]\",''))"
   ]
  },
  {
   "cell_type": "code",
   "execution_count": 66,
   "metadata": {},
   "outputs": [
    {
     "name": "stdout",
     "output_type": "stream",
     "text": [
      "Tomatillo-Red Chili Salsa (Hot), Black Beans, Rice, Cheese, Sour Cream\n"
     ]
    }
   ],
   "source": [
    "print(df['description_clean'][4])"
   ]
  },
  {
   "cell_type": "code",
   "execution_count": 67,
   "metadata": {},
   "outputs": [],
   "source": [
    "df['number_of_choices'] = df['choice_description'][df['choice_description'].notnull()].apply(lambda x: 1 + x.count(\",\"))"
   ]
  },
  {
   "cell_type": "code",
   "execution_count": 68,
   "metadata": {},
   "outputs": [],
   "source": [
    "?pd.Series.groupby"
   ]
  },
  {
   "cell_type": "code",
   "execution_count": 69,
   "metadata": {},
   "outputs": [
    {
     "data": {
      "text/plain": [
       "4             Chicken Bowl\n",
       "5             Chicken Bowl\n",
       "7            Steak Burrito\n",
       "8         Steak Soft Tacos\n",
       "9            Steak Burrito\n",
       "               ...        \n",
       "4617         Steak Burrito\n",
       "4618         Steak Burrito\n",
       "4619    Chicken Salad Bowl\n",
       "4620    Chicken Salad Bowl\n",
       "4621    Chicken Salad Bowl\n",
       "Name: item_name, Length: 2827, dtype: object"
      ]
     },
     "execution_count": 69,
     "metadata": {},
     "output_type": "execute_result"
    }
   ],
   "source": [
    "# Look at items with > 1 choice typically associated with them\n",
    "\n",
    "(df['item_name'][df['number_of_choices']>1])"
   ]
  },
  {
   "cell_type": "code",
   "execution_count": 71,
   "metadata": {},
   "outputs": [
    {
     "data": {
      "text/plain": [
       "Chicken Bowl             720\n",
       "Chicken Burrito          548\n",
       "Steak Burrito            363\n",
       "Steak Bowl               209\n",
       "Chicken Soft Tacos       114\n",
       "Chicken Salad Bowl       108\n",
       "Veggie Burrito            94\n",
       "Barbacoa Burrito          88\n",
       "Veggie Bowl               85\n",
       "Carnitas Bowl             68\n",
       "Barbacoa Bowl             61\n",
       "Carnitas Burrito          58\n",
       "Steak Soft Tacos          53\n",
       "Chicken Crispy Tacos      46\n",
       "Carnitas Soft Tacos       37\n",
       "Steak Crispy Tacos        34\n",
       "Steak Salad Bowl          29\n",
       "Barbacoa Soft Tacos       25\n",
       "Veggie Salad Bowl         18\n",
       "Barbacoa Crispy Tacos     11\n",
       "Chicken Salad              9\n",
       "Barbacoa Salad Bowl        8\n",
       "Veggie Soft Tacos          7\n",
       "Veggie Salad               6\n",
       "Carnitas Salad Bowl        6\n",
       "Carnitas Crispy Tacos      6\n",
       "Burrito                    6\n",
       "Steak Salad                4\n",
       "Bowl                       2\n",
       "Salad                      2\n",
       "Carnitas Salad             1\n",
       "Veggie Crispy Tacos        1\n",
       "Name: item_name, dtype: int64"
      ]
     },
     "execution_count": 71,
     "metadata": {},
     "output_type": "execute_result"
    }
   ],
   "source": [
    "(df['item_name'][df['number_of_choices']>1]).value_counts()"
   ]
  },
  {
   "cell_type": "code",
   "execution_count": 74,
   "metadata": {},
   "outputs": [
    {
     "data": {
      "text/plain": [
       "False    3062\n",
       "True     1560\n",
       "Name: item_name, dtype: int64"
      ]
     },
     "execution_count": 74,
     "metadata": {},
     "output_type": "execute_result"
    }
   ],
   "source": [
    "df['item_name'].str.contains('Chicken').value_counts()"
   ]
  },
  {
   "cell_type": "code",
   "execution_count": 75,
   "metadata": {},
   "outputs": [
    {
     "data": {
      "text/plain": [
       "0       False\n",
       "1       False\n",
       "2       False\n",
       "3       False\n",
       "4        True\n",
       "        ...  \n",
       "4617    False\n",
       "4618    False\n",
       "4619     True\n",
       "4620     True\n",
       "4621     True\n",
       "Name: item_name, Length: 4622, dtype: bool"
      ]
     },
     "execution_count": 75,
     "metadata": {},
     "output_type": "execute_result"
    }
   ],
   "source": [
    "df['item_name'].str.contains('Chicken')"
   ]
  },
  {
   "cell_type": "code",
   "execution_count": 76,
   "metadata": {},
   "outputs": [],
   "source": [
    "# Create a column calling out Chicken / Beef / Veggie or Other\n",
    "\n",
    "conditions = [\n",
    "    df['item_name'].str.contains('Chicken'),\n",
    "    df['item_name'].str.contains('Steak'),  \n",
    "    df['item_name'].str.contains('Barbacoa'),\n",
    "    df['item_name'].str.contains('Carnitas'),\n",
    "    df['item_name'].str.contains('Veggie')  \n",
    "]\n",
    "\n",
    "\n",
    "results = [\n",
    "    'Chicken',\n",
    "    'Beef',\n",
    "    'Beef',\n",
    "    'Pork',\n",
    "    'Veggie'    \n",
    "]\n",
    " \n",
    "df['protein'] = np.select(conditions, results, 'Other')   "
   ]
  },
  {
   "cell_type": "code",
   "execution_count": 170,
   "metadata": {},
   "outputs": [],
   "source": [
    "?df.drop"
   ]
  },
  {
   "cell_type": "code",
   "execution_count": 171,
   "metadata": {},
   "outputs": [],
   "source": [
    "df.drop('Protein',axis=1,inplace=True)"
   ]
  },
  {
   "cell_type": "code",
   "execution_count": 77,
   "metadata": {},
   "outputs": [
    {
     "name": "stdout",
     "output_type": "stream",
     "text": [
      "<class 'pandas.core.frame.DataFrame'>\n",
      "RangeIndex: 4622 entries, 0 to 4621\n",
      "Data columns (total 9 columns):\n",
      " #   Column              Non-Null Count  Dtype  \n",
      "---  ------              --------------  -----  \n",
      " 0   order_id            4622 non-null   int64  \n",
      " 1   quantity            4622 non-null   int64  \n",
      " 2   item_name           4622 non-null   object \n",
      " 3   choice_description  3376 non-null   object \n",
      " 4   item_price          4622 non-null   object \n",
      " 5   item_price_value    4622 non-null   float64\n",
      " 6   description_clean   3376 non-null   object \n",
      " 7   number_of_choices   3376 non-null   float64\n",
      " 8   protein             4622 non-null   object \n",
      "dtypes: float64(2), int64(2), object(5)\n",
      "memory usage: 325.1+ KB\n"
     ]
    }
   ],
   "source": [
    "df.info()"
   ]
  },
  {
   "cell_type": "code",
   "execution_count": 78,
   "metadata": {},
   "outputs": [
    {
     "data": {
      "text/html": [
       "<div>\n",
       "<style scoped>\n",
       "    .dataframe tbody tr th:only-of-type {\n",
       "        vertical-align: middle;\n",
       "    }\n",
       "\n",
       "    .dataframe tbody tr th {\n",
       "        vertical-align: top;\n",
       "    }\n",
       "\n",
       "    .dataframe thead th {\n",
       "        text-align: right;\n",
       "    }\n",
       "</style>\n",
       "<table border=\"1\" class=\"dataframe\">\n",
       "  <thead>\n",
       "    <tr style=\"text-align: right;\">\n",
       "      <th></th>\n",
       "      <th>item_name</th>\n",
       "      <th>protein</th>\n",
       "    </tr>\n",
       "  </thead>\n",
       "  <tbody>\n",
       "    <tr>\n",
       "      <th>0</th>\n",
       "      <td>Chips and Fresh Tomato Salsa</td>\n",
       "      <td>Other</td>\n",
       "    </tr>\n",
       "    <tr>\n",
       "      <th>1</th>\n",
       "      <td>Izze</td>\n",
       "      <td>Other</td>\n",
       "    </tr>\n",
       "    <tr>\n",
       "      <th>2</th>\n",
       "      <td>Nantucket Nectar</td>\n",
       "      <td>Other</td>\n",
       "    </tr>\n",
       "    <tr>\n",
       "      <th>3</th>\n",
       "      <td>Chips and Tomatillo-Green Chili Salsa</td>\n",
       "      <td>Other</td>\n",
       "    </tr>\n",
       "    <tr>\n",
       "      <th>4</th>\n",
       "      <td>Chicken Bowl</td>\n",
       "      <td>Chicken</td>\n",
       "    </tr>\n",
       "    <tr>\n",
       "      <th>5</th>\n",
       "      <td>Chicken Bowl</td>\n",
       "      <td>Chicken</td>\n",
       "    </tr>\n",
       "    <tr>\n",
       "      <th>6</th>\n",
       "      <td>Side of Chips</td>\n",
       "      <td>Other</td>\n",
       "    </tr>\n",
       "    <tr>\n",
       "      <th>7</th>\n",
       "      <td>Steak Burrito</td>\n",
       "      <td>Beef</td>\n",
       "    </tr>\n",
       "    <tr>\n",
       "      <th>8</th>\n",
       "      <td>Steak Soft Tacos</td>\n",
       "      <td>Beef</td>\n",
       "    </tr>\n",
       "    <tr>\n",
       "      <th>9</th>\n",
       "      <td>Steak Burrito</td>\n",
       "      <td>Beef</td>\n",
       "    </tr>\n",
       "    <tr>\n",
       "      <th>10</th>\n",
       "      <td>Chips and Guacamole</td>\n",
       "      <td>Other</td>\n",
       "    </tr>\n",
       "    <tr>\n",
       "      <th>11</th>\n",
       "      <td>Chicken Crispy Tacos</td>\n",
       "      <td>Chicken</td>\n",
       "    </tr>\n",
       "    <tr>\n",
       "      <th>12</th>\n",
       "      <td>Chicken Soft Tacos</td>\n",
       "      <td>Chicken</td>\n",
       "    </tr>\n",
       "    <tr>\n",
       "      <th>13</th>\n",
       "      <td>Chicken Bowl</td>\n",
       "      <td>Chicken</td>\n",
       "    </tr>\n",
       "    <tr>\n",
       "      <th>14</th>\n",
       "      <td>Chips and Guacamole</td>\n",
       "      <td>Other</td>\n",
       "    </tr>\n",
       "    <tr>\n",
       "      <th>15</th>\n",
       "      <td>Chips and Tomatillo-Green Chili Salsa</td>\n",
       "      <td>Other</td>\n",
       "    </tr>\n",
       "    <tr>\n",
       "      <th>16</th>\n",
       "      <td>Chicken Burrito</td>\n",
       "      <td>Chicken</td>\n",
       "    </tr>\n",
       "    <tr>\n",
       "      <th>17</th>\n",
       "      <td>Chicken Burrito</td>\n",
       "      <td>Chicken</td>\n",
       "    </tr>\n",
       "    <tr>\n",
       "      <th>18</th>\n",
       "      <td>Canned Soda</td>\n",
       "      <td>Other</td>\n",
       "    </tr>\n",
       "    <tr>\n",
       "      <th>19</th>\n",
       "      <td>Chicken Bowl</td>\n",
       "      <td>Chicken</td>\n",
       "    </tr>\n",
       "  </tbody>\n",
       "</table>\n",
       "</div>"
      ],
      "text/plain": [
       "                                item_name  protein\n",
       "0            Chips and Fresh Tomato Salsa    Other\n",
       "1                                    Izze    Other\n",
       "2                        Nantucket Nectar    Other\n",
       "3   Chips and Tomatillo-Green Chili Salsa    Other\n",
       "4                            Chicken Bowl  Chicken\n",
       "5                            Chicken Bowl  Chicken\n",
       "6                           Side of Chips    Other\n",
       "7                           Steak Burrito     Beef\n",
       "8                        Steak Soft Tacos     Beef\n",
       "9                           Steak Burrito     Beef\n",
       "10                    Chips and Guacamole    Other\n",
       "11                   Chicken Crispy Tacos  Chicken\n",
       "12                     Chicken Soft Tacos  Chicken\n",
       "13                           Chicken Bowl  Chicken\n",
       "14                    Chips and Guacamole    Other\n",
       "15  Chips and Tomatillo-Green Chili Salsa    Other\n",
       "16                        Chicken Burrito  Chicken\n",
       "17                        Chicken Burrito  Chicken\n",
       "18                            Canned Soda    Other\n",
       "19                           Chicken Bowl  Chicken"
      ]
     },
     "execution_count": 78,
     "metadata": {},
     "output_type": "execute_result"
    }
   ],
   "source": [
    "df[['item_name','protein']][:20]"
   ]
  },
  {
   "cell_type": "code",
   "execution_count": 84,
   "metadata": {},
   "outputs": [],
   "source": [
    "?df.plot"
   ]
  },
  {
   "cell_type": "code",
   "execution_count": 85,
   "metadata": {},
   "outputs": [
    {
     "data": {
      "text/html": [
       "<div>\n",
       "<style scoped>\n",
       "    .dataframe tbody tr th:only-of-type {\n",
       "        vertical-align: middle;\n",
       "    }\n",
       "\n",
       "    .dataframe tbody tr th {\n",
       "        vertical-align: top;\n",
       "    }\n",
       "\n",
       "    .dataframe thead th {\n",
       "        text-align: right;\n",
       "    }\n",
       "</style>\n",
       "<table border=\"1\" class=\"dataframe\">\n",
       "  <thead>\n",
       "    <tr style=\"text-align: right;\">\n",
       "      <th></th>\n",
       "      <th>index</th>\n",
       "      <th>protein</th>\n",
       "    </tr>\n",
       "  </thead>\n",
       "  <tbody>\n",
       "    <tr>\n",
       "      <th>0</th>\n",
       "      <td>Other</td>\n",
       "      <td>1764</td>\n",
       "    </tr>\n",
       "    <tr>\n",
       "      <th>1</th>\n",
       "      <td>Chicken</td>\n",
       "      <td>1560</td>\n",
       "    </tr>\n",
       "    <tr>\n",
       "      <th>2</th>\n",
       "      <td>Beef</td>\n",
       "      <td>905</td>\n",
       "    </tr>\n",
       "    <tr>\n",
       "      <th>3</th>\n",
       "      <td>Veggie</td>\n",
       "      <td>212</td>\n",
       "    </tr>\n",
       "    <tr>\n",
       "      <th>4</th>\n",
       "      <td>Pork</td>\n",
       "      <td>181</td>\n",
       "    </tr>\n",
       "  </tbody>\n",
       "</table>\n",
       "</div>"
      ],
      "text/plain": [
       "     index  protein\n",
       "0    Other     1764\n",
       "1  Chicken     1560\n",
       "2     Beef      905\n",
       "3   Veggie      212\n",
       "4     Pork      181"
      ]
     },
     "execution_count": 85,
     "metadata": {},
     "output_type": "execute_result"
    }
   ],
   "source": [
    "df['protein'].value_counts().reset_index()"
   ]
  },
  {
   "cell_type": "code",
   "execution_count": 83,
   "metadata": {},
   "outputs": [
    {
     "data": {
      "application/vnd.plotly.v1+json": {
       "config": {
        "plotlyServerURL": "https://plot.ly"
       },
       "data": [
        {
         "alignmentgroup": "True",
         "hovertemplate": "protein=%{x}<br>index=%{y}<extra></extra>",
         "legendgroup": "",
         "marker": {
          "color": "#636efa"
         },
         "name": "",
         "offsetgroup": "",
         "orientation": "h",
         "showlegend": false,
         "textposition": "auto",
         "type": "bar",
         "x": [
          1764,
          1560,
          905,
          212,
          181
         ],
         "xaxis": "x",
         "y": [
          "Other",
          "Chicken",
          "Beef",
          "Veggie",
          "Pork"
         ],
         "yaxis": "y"
        }
       ],
       "layout": {
        "barmode": "relative",
        "legend": {
         "tracegroupgap": 0
        },
        "margin": {
         "t": 60
        },
        "template": {
         "data": {
          "bar": [
           {
            "error_x": {
             "color": "#2a3f5f"
            },
            "error_y": {
             "color": "#2a3f5f"
            },
            "marker": {
             "line": {
              "color": "#E5ECF6",
              "width": 0.5
             }
            },
            "type": "bar"
           }
          ],
          "barpolar": [
           {
            "marker": {
             "line": {
              "color": "#E5ECF6",
              "width": 0.5
             }
            },
            "type": "barpolar"
           }
          ],
          "carpet": [
           {
            "aaxis": {
             "endlinecolor": "#2a3f5f",
             "gridcolor": "white",
             "linecolor": "white",
             "minorgridcolor": "white",
             "startlinecolor": "#2a3f5f"
            },
            "baxis": {
             "endlinecolor": "#2a3f5f",
             "gridcolor": "white",
             "linecolor": "white",
             "minorgridcolor": "white",
             "startlinecolor": "#2a3f5f"
            },
            "type": "carpet"
           }
          ],
          "choropleth": [
           {
            "colorbar": {
             "outlinewidth": 0,
             "ticks": ""
            },
            "type": "choropleth"
           }
          ],
          "contour": [
           {
            "colorbar": {
             "outlinewidth": 0,
             "ticks": ""
            },
            "colorscale": [
             [
              0,
              "#0d0887"
             ],
             [
              0.1111111111111111,
              "#46039f"
             ],
             [
              0.2222222222222222,
              "#7201a8"
             ],
             [
              0.3333333333333333,
              "#9c179e"
             ],
             [
              0.4444444444444444,
              "#bd3786"
             ],
             [
              0.5555555555555556,
              "#d8576b"
             ],
             [
              0.6666666666666666,
              "#ed7953"
             ],
             [
              0.7777777777777778,
              "#fb9f3a"
             ],
             [
              0.8888888888888888,
              "#fdca26"
             ],
             [
              1,
              "#f0f921"
             ]
            ],
            "type": "contour"
           }
          ],
          "contourcarpet": [
           {
            "colorbar": {
             "outlinewidth": 0,
             "ticks": ""
            },
            "type": "contourcarpet"
           }
          ],
          "heatmap": [
           {
            "colorbar": {
             "outlinewidth": 0,
             "ticks": ""
            },
            "colorscale": [
             [
              0,
              "#0d0887"
             ],
             [
              0.1111111111111111,
              "#46039f"
             ],
             [
              0.2222222222222222,
              "#7201a8"
             ],
             [
              0.3333333333333333,
              "#9c179e"
             ],
             [
              0.4444444444444444,
              "#bd3786"
             ],
             [
              0.5555555555555556,
              "#d8576b"
             ],
             [
              0.6666666666666666,
              "#ed7953"
             ],
             [
              0.7777777777777778,
              "#fb9f3a"
             ],
             [
              0.8888888888888888,
              "#fdca26"
             ],
             [
              1,
              "#f0f921"
             ]
            ],
            "type": "heatmap"
           }
          ],
          "heatmapgl": [
           {
            "colorbar": {
             "outlinewidth": 0,
             "ticks": ""
            },
            "colorscale": [
             [
              0,
              "#0d0887"
             ],
             [
              0.1111111111111111,
              "#46039f"
             ],
             [
              0.2222222222222222,
              "#7201a8"
             ],
             [
              0.3333333333333333,
              "#9c179e"
             ],
             [
              0.4444444444444444,
              "#bd3786"
             ],
             [
              0.5555555555555556,
              "#d8576b"
             ],
             [
              0.6666666666666666,
              "#ed7953"
             ],
             [
              0.7777777777777778,
              "#fb9f3a"
             ],
             [
              0.8888888888888888,
              "#fdca26"
             ],
             [
              1,
              "#f0f921"
             ]
            ],
            "type": "heatmapgl"
           }
          ],
          "histogram": [
           {
            "marker": {
             "colorbar": {
              "outlinewidth": 0,
              "ticks": ""
             }
            },
            "type": "histogram"
           }
          ],
          "histogram2d": [
           {
            "colorbar": {
             "outlinewidth": 0,
             "ticks": ""
            },
            "colorscale": [
             [
              0,
              "#0d0887"
             ],
             [
              0.1111111111111111,
              "#46039f"
             ],
             [
              0.2222222222222222,
              "#7201a8"
             ],
             [
              0.3333333333333333,
              "#9c179e"
             ],
             [
              0.4444444444444444,
              "#bd3786"
             ],
             [
              0.5555555555555556,
              "#d8576b"
             ],
             [
              0.6666666666666666,
              "#ed7953"
             ],
             [
              0.7777777777777778,
              "#fb9f3a"
             ],
             [
              0.8888888888888888,
              "#fdca26"
             ],
             [
              1,
              "#f0f921"
             ]
            ],
            "type": "histogram2d"
           }
          ],
          "histogram2dcontour": [
           {
            "colorbar": {
             "outlinewidth": 0,
             "ticks": ""
            },
            "colorscale": [
             [
              0,
              "#0d0887"
             ],
             [
              0.1111111111111111,
              "#46039f"
             ],
             [
              0.2222222222222222,
              "#7201a8"
             ],
             [
              0.3333333333333333,
              "#9c179e"
             ],
             [
              0.4444444444444444,
              "#bd3786"
             ],
             [
              0.5555555555555556,
              "#d8576b"
             ],
             [
              0.6666666666666666,
              "#ed7953"
             ],
             [
              0.7777777777777778,
              "#fb9f3a"
             ],
             [
              0.8888888888888888,
              "#fdca26"
             ],
             [
              1,
              "#f0f921"
             ]
            ],
            "type": "histogram2dcontour"
           }
          ],
          "mesh3d": [
           {
            "colorbar": {
             "outlinewidth": 0,
             "ticks": ""
            },
            "type": "mesh3d"
           }
          ],
          "parcoords": [
           {
            "line": {
             "colorbar": {
              "outlinewidth": 0,
              "ticks": ""
             }
            },
            "type": "parcoords"
           }
          ],
          "pie": [
           {
            "automargin": true,
            "type": "pie"
           }
          ],
          "scatter": [
           {
            "marker": {
             "colorbar": {
              "outlinewidth": 0,
              "ticks": ""
             }
            },
            "type": "scatter"
           }
          ],
          "scatter3d": [
           {
            "line": {
             "colorbar": {
              "outlinewidth": 0,
              "ticks": ""
             }
            },
            "marker": {
             "colorbar": {
              "outlinewidth": 0,
              "ticks": ""
             }
            },
            "type": "scatter3d"
           }
          ],
          "scattercarpet": [
           {
            "marker": {
             "colorbar": {
              "outlinewidth": 0,
              "ticks": ""
             }
            },
            "type": "scattercarpet"
           }
          ],
          "scattergeo": [
           {
            "marker": {
             "colorbar": {
              "outlinewidth": 0,
              "ticks": ""
             }
            },
            "type": "scattergeo"
           }
          ],
          "scattergl": [
           {
            "marker": {
             "colorbar": {
              "outlinewidth": 0,
              "ticks": ""
             }
            },
            "type": "scattergl"
           }
          ],
          "scattermapbox": [
           {
            "marker": {
             "colorbar": {
              "outlinewidth": 0,
              "ticks": ""
             }
            },
            "type": "scattermapbox"
           }
          ],
          "scatterpolar": [
           {
            "marker": {
             "colorbar": {
              "outlinewidth": 0,
              "ticks": ""
             }
            },
            "type": "scatterpolar"
           }
          ],
          "scatterpolargl": [
           {
            "marker": {
             "colorbar": {
              "outlinewidth": 0,
              "ticks": ""
             }
            },
            "type": "scatterpolargl"
           }
          ],
          "scatterternary": [
           {
            "marker": {
             "colorbar": {
              "outlinewidth": 0,
              "ticks": ""
             }
            },
            "type": "scatterternary"
           }
          ],
          "surface": [
           {
            "colorbar": {
             "outlinewidth": 0,
             "ticks": ""
            },
            "colorscale": [
             [
              0,
              "#0d0887"
             ],
             [
              0.1111111111111111,
              "#46039f"
             ],
             [
              0.2222222222222222,
              "#7201a8"
             ],
             [
              0.3333333333333333,
              "#9c179e"
             ],
             [
              0.4444444444444444,
              "#bd3786"
             ],
             [
              0.5555555555555556,
              "#d8576b"
             ],
             [
              0.6666666666666666,
              "#ed7953"
             ],
             [
              0.7777777777777778,
              "#fb9f3a"
             ],
             [
              0.8888888888888888,
              "#fdca26"
             ],
             [
              1,
              "#f0f921"
             ]
            ],
            "type": "surface"
           }
          ],
          "table": [
           {
            "cells": {
             "fill": {
              "color": "#EBF0F8"
             },
             "line": {
              "color": "white"
             }
            },
            "header": {
             "fill": {
              "color": "#C8D4E3"
             },
             "line": {
              "color": "white"
             }
            },
            "type": "table"
           }
          ]
         },
         "layout": {
          "annotationdefaults": {
           "arrowcolor": "#2a3f5f",
           "arrowhead": 0,
           "arrowwidth": 1
          },
          "coloraxis": {
           "colorbar": {
            "outlinewidth": 0,
            "ticks": ""
           }
          },
          "colorscale": {
           "diverging": [
            [
             0,
             "#8e0152"
            ],
            [
             0.1,
             "#c51b7d"
            ],
            [
             0.2,
             "#de77ae"
            ],
            [
             0.3,
             "#f1b6da"
            ],
            [
             0.4,
             "#fde0ef"
            ],
            [
             0.5,
             "#f7f7f7"
            ],
            [
             0.6,
             "#e6f5d0"
            ],
            [
             0.7,
             "#b8e186"
            ],
            [
             0.8,
             "#7fbc41"
            ],
            [
             0.9,
             "#4d9221"
            ],
            [
             1,
             "#276419"
            ]
           ],
           "sequential": [
            [
             0,
             "#0d0887"
            ],
            [
             0.1111111111111111,
             "#46039f"
            ],
            [
             0.2222222222222222,
             "#7201a8"
            ],
            [
             0.3333333333333333,
             "#9c179e"
            ],
            [
             0.4444444444444444,
             "#bd3786"
            ],
            [
             0.5555555555555556,
             "#d8576b"
            ],
            [
             0.6666666666666666,
             "#ed7953"
            ],
            [
             0.7777777777777778,
             "#fb9f3a"
            ],
            [
             0.8888888888888888,
             "#fdca26"
            ],
            [
             1,
             "#f0f921"
            ]
           ],
           "sequentialminus": [
            [
             0,
             "#0d0887"
            ],
            [
             0.1111111111111111,
             "#46039f"
            ],
            [
             0.2222222222222222,
             "#7201a8"
            ],
            [
             0.3333333333333333,
             "#9c179e"
            ],
            [
             0.4444444444444444,
             "#bd3786"
            ],
            [
             0.5555555555555556,
             "#d8576b"
            ],
            [
             0.6666666666666666,
             "#ed7953"
            ],
            [
             0.7777777777777778,
             "#fb9f3a"
            ],
            [
             0.8888888888888888,
             "#fdca26"
            ],
            [
             1,
             "#f0f921"
            ]
           ]
          },
          "colorway": [
           "#636efa",
           "#EF553B",
           "#00cc96",
           "#ab63fa",
           "#FFA15A",
           "#19d3f3",
           "#FF6692",
           "#B6E880",
           "#FF97FF",
           "#FECB52"
          ],
          "font": {
           "color": "#2a3f5f"
          },
          "geo": {
           "bgcolor": "white",
           "lakecolor": "white",
           "landcolor": "#E5ECF6",
           "showlakes": true,
           "showland": true,
           "subunitcolor": "white"
          },
          "hoverlabel": {
           "align": "left"
          },
          "hovermode": "closest",
          "mapbox": {
           "style": "light"
          },
          "paper_bgcolor": "white",
          "plot_bgcolor": "#E5ECF6",
          "polar": {
           "angularaxis": {
            "gridcolor": "white",
            "linecolor": "white",
            "ticks": ""
           },
           "bgcolor": "#E5ECF6",
           "radialaxis": {
            "gridcolor": "white",
            "linecolor": "white",
            "ticks": ""
           }
          },
          "scene": {
           "xaxis": {
            "backgroundcolor": "#E5ECF6",
            "gridcolor": "white",
            "gridwidth": 2,
            "linecolor": "white",
            "showbackground": true,
            "ticks": "",
            "zerolinecolor": "white"
           },
           "yaxis": {
            "backgroundcolor": "#E5ECF6",
            "gridcolor": "white",
            "gridwidth": 2,
            "linecolor": "white",
            "showbackground": true,
            "ticks": "",
            "zerolinecolor": "white"
           },
           "zaxis": {
            "backgroundcolor": "#E5ECF6",
            "gridcolor": "white",
            "gridwidth": 2,
            "linecolor": "white",
            "showbackground": true,
            "ticks": "",
            "zerolinecolor": "white"
           }
          },
          "shapedefaults": {
           "line": {
            "color": "#2a3f5f"
           }
          },
          "ternary": {
           "aaxis": {
            "gridcolor": "white",
            "linecolor": "white",
            "ticks": ""
           },
           "baxis": {
            "gridcolor": "white",
            "linecolor": "white",
            "ticks": ""
           },
           "bgcolor": "#E5ECF6",
           "caxis": {
            "gridcolor": "white",
            "linecolor": "white",
            "ticks": ""
           }
          },
          "title": {
           "x": 0.05
          },
          "xaxis": {
           "automargin": true,
           "gridcolor": "white",
           "linecolor": "white",
           "ticks": "",
           "title": {
            "standoff": 15
           },
           "zerolinecolor": "white",
           "zerolinewidth": 2
          },
          "yaxis": {
           "automargin": true,
           "gridcolor": "white",
           "linecolor": "white",
           "ticks": "",
           "title": {
            "standoff": 15
           },
           "zerolinecolor": "white",
           "zerolinewidth": 2
          }
         }
        },
        "xaxis": {
         "anchor": "y",
         "domain": [
          0,
          1
         ],
         "title": {
          "text": "protein"
         }
        },
        "yaxis": {
         "anchor": "x",
         "domain": [
          0,
          1
         ],
         "title": {
          "text": "index"
         }
        }
       }
      },
      "text/html": [
       "<div>                            <div id=\"32b6b5bb-51b9-46aa-bcc4-9d6b82e60577\" class=\"plotly-graph-div\" style=\"height:525px; width:100%;\"></div>            <script type=\"text/javascript\">                require([\"plotly\"], function(Plotly) {                    window.PLOTLYENV=window.PLOTLYENV || {};                                    if (document.getElementById(\"32b6b5bb-51b9-46aa-bcc4-9d6b82e60577\")) {                    Plotly.newPlot(                        \"32b6b5bb-51b9-46aa-bcc4-9d6b82e60577\",                        [{\"alignmentgroup\": \"True\", \"hovertemplate\": \"protein=%{x}<br>index=%{y}<extra></extra>\", \"legendgroup\": \"\", \"marker\": {\"color\": \"#636efa\"}, \"name\": \"\", \"offsetgroup\": \"\", \"orientation\": \"h\", \"showlegend\": false, \"textposition\": \"auto\", \"type\": \"bar\", \"x\": [1764, 1560, 905, 212, 181], \"xaxis\": \"x\", \"y\": [\"Other\", \"Chicken\", \"Beef\", \"Veggie\", \"Pork\"], \"yaxis\": \"y\"}],                        {\"barmode\": \"relative\", \"legend\": {\"tracegroupgap\": 0}, \"margin\": {\"t\": 60}, \"template\": {\"data\": {\"bar\": [{\"error_x\": {\"color\": \"#2a3f5f\"}, \"error_y\": {\"color\": \"#2a3f5f\"}, \"marker\": {\"line\": {\"color\": \"#E5ECF6\", \"width\": 0.5}}, \"type\": \"bar\"}], \"barpolar\": [{\"marker\": {\"line\": {\"color\": \"#E5ECF6\", \"width\": 0.5}}, \"type\": \"barpolar\"}], \"carpet\": [{\"aaxis\": {\"endlinecolor\": \"#2a3f5f\", \"gridcolor\": \"white\", \"linecolor\": \"white\", \"minorgridcolor\": \"white\", \"startlinecolor\": \"#2a3f5f\"}, \"baxis\": {\"endlinecolor\": \"#2a3f5f\", \"gridcolor\": \"white\", \"linecolor\": \"white\", \"minorgridcolor\": \"white\", \"startlinecolor\": \"#2a3f5f\"}, \"type\": \"carpet\"}], \"choropleth\": [{\"colorbar\": {\"outlinewidth\": 0, \"ticks\": \"\"}, \"type\": \"choropleth\"}], \"contour\": [{\"colorbar\": {\"outlinewidth\": 0, \"ticks\": \"\"}, \"colorscale\": [[0.0, \"#0d0887\"], [0.1111111111111111, \"#46039f\"], [0.2222222222222222, \"#7201a8\"], [0.3333333333333333, \"#9c179e\"], [0.4444444444444444, \"#bd3786\"], [0.5555555555555556, \"#d8576b\"], [0.6666666666666666, \"#ed7953\"], [0.7777777777777778, \"#fb9f3a\"], [0.8888888888888888, \"#fdca26\"], [1.0, \"#f0f921\"]], \"type\": \"contour\"}], \"contourcarpet\": [{\"colorbar\": {\"outlinewidth\": 0, \"ticks\": \"\"}, \"type\": \"contourcarpet\"}], \"heatmap\": [{\"colorbar\": {\"outlinewidth\": 0, \"ticks\": \"\"}, \"colorscale\": [[0.0, \"#0d0887\"], [0.1111111111111111, \"#46039f\"], [0.2222222222222222, \"#7201a8\"], [0.3333333333333333, \"#9c179e\"], [0.4444444444444444, \"#bd3786\"], [0.5555555555555556, \"#d8576b\"], [0.6666666666666666, \"#ed7953\"], [0.7777777777777778, \"#fb9f3a\"], [0.8888888888888888, \"#fdca26\"], [1.0, \"#f0f921\"]], \"type\": \"heatmap\"}], \"heatmapgl\": [{\"colorbar\": {\"outlinewidth\": 0, \"ticks\": \"\"}, \"colorscale\": [[0.0, \"#0d0887\"], [0.1111111111111111, \"#46039f\"], [0.2222222222222222, \"#7201a8\"], [0.3333333333333333, \"#9c179e\"], [0.4444444444444444, \"#bd3786\"], [0.5555555555555556, \"#d8576b\"], [0.6666666666666666, \"#ed7953\"], [0.7777777777777778, \"#fb9f3a\"], [0.8888888888888888, \"#fdca26\"], [1.0, \"#f0f921\"]], \"type\": \"heatmapgl\"}], \"histogram\": [{\"marker\": {\"colorbar\": {\"outlinewidth\": 0, \"ticks\": \"\"}}, \"type\": \"histogram\"}], \"histogram2d\": [{\"colorbar\": {\"outlinewidth\": 0, \"ticks\": \"\"}, \"colorscale\": [[0.0, \"#0d0887\"], [0.1111111111111111, \"#46039f\"], [0.2222222222222222, \"#7201a8\"], [0.3333333333333333, \"#9c179e\"], [0.4444444444444444, \"#bd3786\"], [0.5555555555555556, \"#d8576b\"], [0.6666666666666666, \"#ed7953\"], [0.7777777777777778, \"#fb9f3a\"], [0.8888888888888888, \"#fdca26\"], [1.0, \"#f0f921\"]], \"type\": \"histogram2d\"}], \"histogram2dcontour\": [{\"colorbar\": {\"outlinewidth\": 0, \"ticks\": \"\"}, \"colorscale\": [[0.0, \"#0d0887\"], [0.1111111111111111, \"#46039f\"], [0.2222222222222222, \"#7201a8\"], [0.3333333333333333, \"#9c179e\"], [0.4444444444444444, \"#bd3786\"], [0.5555555555555556, \"#d8576b\"], [0.6666666666666666, \"#ed7953\"], [0.7777777777777778, \"#fb9f3a\"], [0.8888888888888888, \"#fdca26\"], [1.0, \"#f0f921\"]], \"type\": \"histogram2dcontour\"}], \"mesh3d\": [{\"colorbar\": {\"outlinewidth\": 0, \"ticks\": \"\"}, \"type\": \"mesh3d\"}], \"parcoords\": [{\"line\": {\"colorbar\": {\"outlinewidth\": 0, \"ticks\": \"\"}}, \"type\": \"parcoords\"}], \"pie\": [{\"automargin\": true, \"type\": \"pie\"}], \"scatter\": [{\"marker\": {\"colorbar\": {\"outlinewidth\": 0, \"ticks\": \"\"}}, \"type\": \"scatter\"}], \"scatter3d\": [{\"line\": {\"colorbar\": {\"outlinewidth\": 0, \"ticks\": \"\"}}, \"marker\": {\"colorbar\": {\"outlinewidth\": 0, \"ticks\": \"\"}}, \"type\": \"scatter3d\"}], \"scattercarpet\": [{\"marker\": {\"colorbar\": {\"outlinewidth\": 0, \"ticks\": \"\"}}, \"type\": \"scattercarpet\"}], \"scattergeo\": [{\"marker\": {\"colorbar\": {\"outlinewidth\": 0, \"ticks\": \"\"}}, \"type\": \"scattergeo\"}], \"scattergl\": [{\"marker\": {\"colorbar\": {\"outlinewidth\": 0, \"ticks\": \"\"}}, \"type\": \"scattergl\"}], \"scattermapbox\": [{\"marker\": {\"colorbar\": {\"outlinewidth\": 0, \"ticks\": \"\"}}, \"type\": \"scattermapbox\"}], \"scatterpolar\": [{\"marker\": {\"colorbar\": {\"outlinewidth\": 0, \"ticks\": \"\"}}, \"type\": \"scatterpolar\"}], \"scatterpolargl\": [{\"marker\": {\"colorbar\": {\"outlinewidth\": 0, \"ticks\": \"\"}}, \"type\": \"scatterpolargl\"}], \"scatterternary\": [{\"marker\": {\"colorbar\": {\"outlinewidth\": 0, \"ticks\": \"\"}}, \"type\": \"scatterternary\"}], \"surface\": [{\"colorbar\": {\"outlinewidth\": 0, \"ticks\": \"\"}, \"colorscale\": [[0.0, \"#0d0887\"], [0.1111111111111111, \"#46039f\"], [0.2222222222222222, \"#7201a8\"], [0.3333333333333333, \"#9c179e\"], [0.4444444444444444, \"#bd3786\"], [0.5555555555555556, \"#d8576b\"], [0.6666666666666666, \"#ed7953\"], [0.7777777777777778, \"#fb9f3a\"], [0.8888888888888888, \"#fdca26\"], [1.0, \"#f0f921\"]], \"type\": \"surface\"}], \"table\": [{\"cells\": {\"fill\": {\"color\": \"#EBF0F8\"}, \"line\": {\"color\": \"white\"}}, \"header\": {\"fill\": {\"color\": \"#C8D4E3\"}, \"line\": {\"color\": \"white\"}}, \"type\": \"table\"}]}, \"layout\": {\"annotationdefaults\": {\"arrowcolor\": \"#2a3f5f\", \"arrowhead\": 0, \"arrowwidth\": 1}, \"coloraxis\": {\"colorbar\": {\"outlinewidth\": 0, \"ticks\": \"\"}}, \"colorscale\": {\"diverging\": [[0, \"#8e0152\"], [0.1, \"#c51b7d\"], [0.2, \"#de77ae\"], [0.3, \"#f1b6da\"], [0.4, \"#fde0ef\"], [0.5, \"#f7f7f7\"], [0.6, \"#e6f5d0\"], [0.7, \"#b8e186\"], [0.8, \"#7fbc41\"], [0.9, \"#4d9221\"], [1, \"#276419\"]], \"sequential\": [[0.0, \"#0d0887\"], [0.1111111111111111, \"#46039f\"], [0.2222222222222222, \"#7201a8\"], [0.3333333333333333, \"#9c179e\"], [0.4444444444444444, \"#bd3786\"], [0.5555555555555556, \"#d8576b\"], [0.6666666666666666, \"#ed7953\"], [0.7777777777777778, \"#fb9f3a\"], [0.8888888888888888, \"#fdca26\"], [1.0, \"#f0f921\"]], \"sequentialminus\": [[0.0, \"#0d0887\"], [0.1111111111111111, \"#46039f\"], [0.2222222222222222, \"#7201a8\"], [0.3333333333333333, \"#9c179e\"], [0.4444444444444444, \"#bd3786\"], [0.5555555555555556, \"#d8576b\"], [0.6666666666666666, \"#ed7953\"], [0.7777777777777778, \"#fb9f3a\"], [0.8888888888888888, \"#fdca26\"], [1.0, \"#f0f921\"]]}, \"colorway\": [\"#636efa\", \"#EF553B\", \"#00cc96\", \"#ab63fa\", \"#FFA15A\", \"#19d3f3\", \"#FF6692\", \"#B6E880\", \"#FF97FF\", \"#FECB52\"], \"font\": {\"color\": \"#2a3f5f\"}, \"geo\": {\"bgcolor\": \"white\", \"lakecolor\": \"white\", \"landcolor\": \"#E5ECF6\", \"showlakes\": true, \"showland\": true, \"subunitcolor\": \"white\"}, \"hoverlabel\": {\"align\": \"left\"}, \"hovermode\": \"closest\", \"mapbox\": {\"style\": \"light\"}, \"paper_bgcolor\": \"white\", \"plot_bgcolor\": \"#E5ECF6\", \"polar\": {\"angularaxis\": {\"gridcolor\": \"white\", \"linecolor\": \"white\", \"ticks\": \"\"}, \"bgcolor\": \"#E5ECF6\", \"radialaxis\": {\"gridcolor\": \"white\", \"linecolor\": \"white\", \"ticks\": \"\"}}, \"scene\": {\"xaxis\": {\"backgroundcolor\": \"#E5ECF6\", \"gridcolor\": \"white\", \"gridwidth\": 2, \"linecolor\": \"white\", \"showbackground\": true, \"ticks\": \"\", \"zerolinecolor\": \"white\"}, \"yaxis\": {\"backgroundcolor\": \"#E5ECF6\", \"gridcolor\": \"white\", \"gridwidth\": 2, \"linecolor\": \"white\", \"showbackground\": true, \"ticks\": \"\", \"zerolinecolor\": \"white\"}, \"zaxis\": {\"backgroundcolor\": \"#E5ECF6\", \"gridcolor\": \"white\", \"gridwidth\": 2, \"linecolor\": \"white\", \"showbackground\": true, \"ticks\": \"\", \"zerolinecolor\": \"white\"}}, \"shapedefaults\": {\"line\": {\"color\": \"#2a3f5f\"}}, \"ternary\": {\"aaxis\": {\"gridcolor\": \"white\", \"linecolor\": \"white\", \"ticks\": \"\"}, \"baxis\": {\"gridcolor\": \"white\", \"linecolor\": \"white\", \"ticks\": \"\"}, \"bgcolor\": \"#E5ECF6\", \"caxis\": {\"gridcolor\": \"white\", \"linecolor\": \"white\", \"ticks\": \"\"}}, \"title\": {\"x\": 0.05}, \"xaxis\": {\"automargin\": true, \"gridcolor\": \"white\", \"linecolor\": \"white\", \"ticks\": \"\", \"title\": {\"standoff\": 15}, \"zerolinecolor\": \"white\", \"zerolinewidth\": 2}, \"yaxis\": {\"automargin\": true, \"gridcolor\": \"white\", \"linecolor\": \"white\", \"ticks\": \"\", \"title\": {\"standoff\": 15}, \"zerolinecolor\": \"white\", \"zerolinewidth\": 2}}}, \"xaxis\": {\"anchor\": \"y\", \"domain\": [0.0, 1.0], \"title\": {\"text\": \"protein\"}}, \"yaxis\": {\"anchor\": \"x\", \"domain\": [0.0, 1.0], \"title\": {\"text\": \"index\"}}},                        {\"responsive\": true}                    ).then(function(){\n",
       "                            \n",
       "var gd = document.getElementById('32b6b5bb-51b9-46aa-bcc4-9d6b82e60577');\n",
       "var x = new MutationObserver(function (mutations, observer) {{\n",
       "        var display = window.getComputedStyle(gd).display;\n",
       "        if (!display || display === 'none') {{\n",
       "            console.log([gd, 'removed!']);\n",
       "            Plotly.purge(gd);\n",
       "            observer.disconnect();\n",
       "        }}\n",
       "}});\n",
       "\n",
       "// Listen for the removal of the full notebook cells\n",
       "var notebookContainer = gd.closest('#notebook-container');\n",
       "if (notebookContainer) {{\n",
       "    x.observe(notebookContainer, {childList: true});\n",
       "}}\n",
       "\n",
       "// Listen for the clearing of the current output cell\n",
       "var outputEl = gd.closest('.output');\n",
       "if (outputEl) {{\n",
       "    x.observe(outputEl, {childList: true});\n",
       "}}\n",
       "\n",
       "                        })                };                });            </script>        </div>"
      ]
     },
     "metadata": {},
     "output_type": "display_data"
    }
   ],
   "source": [
    "df['protein'].value_counts().plot(x='protein',kind='barh', title=\"Protein Types\", )"
   ]
  },
  {
   "cell_type": "code",
   "execution_count": 118,
   "metadata": {},
   "outputs": [],
   "source": [
    "?px.bar"
   ]
  },
  {
   "cell_type": "code",
   "execution_count": 122,
   "metadata": {},
   "outputs": [
    {
     "data": {
      "application/vnd.plotly.v1+json": {
       "config": {
        "plotlyServerURL": "https://plot.ly"
       },
       "data": [
        {
         "alignmentgroup": "True",
         "hovertemplate": "Items Ordered=%{text}<br>Protein=%{y}<extra></extra>",
         "legendgroup": "",
         "marker": {
          "color": "#1F77B4"
         },
         "name": "",
         "offsetgroup": "",
         "orientation": "h",
         "showlegend": false,
         "text": [
          1764,
          1560,
          905,
          212,
          181
         ],
         "textposition": "auto",
         "type": "bar",
         "x": [
          1764,
          1560,
          905,
          212,
          181
         ],
         "xaxis": "x",
         "y": [
          "Other",
          "Chicken",
          "Beef",
          "Veggie",
          "Pork"
         ],
         "yaxis": "y"
        }
       ],
       "layout": {
        "barmode": "relative",
        "legend": {
         "tracegroupgap": 0
        },
        "template": {
         "data": {
          "bar": [
           {
            "error_x": {
             "color": "rgb(36,36,36)"
            },
            "error_y": {
             "color": "rgb(36,36,36)"
            },
            "marker": {
             "line": {
              "color": "white",
              "width": 0.5
             }
            },
            "type": "bar"
           }
          ],
          "barpolar": [
           {
            "marker": {
             "line": {
              "color": "white",
              "width": 0.5
             }
            },
            "type": "barpolar"
           }
          ],
          "carpet": [
           {
            "aaxis": {
             "endlinecolor": "rgb(36,36,36)",
             "gridcolor": "white",
             "linecolor": "white",
             "minorgridcolor": "white",
             "startlinecolor": "rgb(36,36,36)"
            },
            "baxis": {
             "endlinecolor": "rgb(36,36,36)",
             "gridcolor": "white",
             "linecolor": "white",
             "minorgridcolor": "white",
             "startlinecolor": "rgb(36,36,36)"
            },
            "type": "carpet"
           }
          ],
          "choropleth": [
           {
            "colorbar": {
             "outlinewidth": 1,
             "tickcolor": "rgb(36,36,36)",
             "ticks": "outside"
            },
            "type": "choropleth"
           }
          ],
          "contour": [
           {
            "colorbar": {
             "outlinewidth": 1,
             "tickcolor": "rgb(36,36,36)",
             "ticks": "outside"
            },
            "colorscale": [
             [
              0,
              "#440154"
             ],
             [
              0.1111111111111111,
              "#482878"
             ],
             [
              0.2222222222222222,
              "#3e4989"
             ],
             [
              0.3333333333333333,
              "#31688e"
             ],
             [
              0.4444444444444444,
              "#26828e"
             ],
             [
              0.5555555555555556,
              "#1f9e89"
             ],
             [
              0.6666666666666666,
              "#35b779"
             ],
             [
              0.7777777777777778,
              "#6ece58"
             ],
             [
              0.8888888888888888,
              "#b5de2b"
             ],
             [
              1,
              "#fde725"
             ]
            ],
            "type": "contour"
           }
          ],
          "contourcarpet": [
           {
            "colorbar": {
             "outlinewidth": 1,
             "tickcolor": "rgb(36,36,36)",
             "ticks": "outside"
            },
            "type": "contourcarpet"
           }
          ],
          "heatmap": [
           {
            "colorbar": {
             "outlinewidth": 1,
             "tickcolor": "rgb(36,36,36)",
             "ticks": "outside"
            },
            "colorscale": [
             [
              0,
              "#440154"
             ],
             [
              0.1111111111111111,
              "#482878"
             ],
             [
              0.2222222222222222,
              "#3e4989"
             ],
             [
              0.3333333333333333,
              "#31688e"
             ],
             [
              0.4444444444444444,
              "#26828e"
             ],
             [
              0.5555555555555556,
              "#1f9e89"
             ],
             [
              0.6666666666666666,
              "#35b779"
             ],
             [
              0.7777777777777778,
              "#6ece58"
             ],
             [
              0.8888888888888888,
              "#b5de2b"
             ],
             [
              1,
              "#fde725"
             ]
            ],
            "type": "heatmap"
           }
          ],
          "heatmapgl": [
           {
            "colorbar": {
             "outlinewidth": 1,
             "tickcolor": "rgb(36,36,36)",
             "ticks": "outside"
            },
            "colorscale": [
             [
              0,
              "#440154"
             ],
             [
              0.1111111111111111,
              "#482878"
             ],
             [
              0.2222222222222222,
              "#3e4989"
             ],
             [
              0.3333333333333333,
              "#31688e"
             ],
             [
              0.4444444444444444,
              "#26828e"
             ],
             [
              0.5555555555555556,
              "#1f9e89"
             ],
             [
              0.6666666666666666,
              "#35b779"
             ],
             [
              0.7777777777777778,
              "#6ece58"
             ],
             [
              0.8888888888888888,
              "#b5de2b"
             ],
             [
              1,
              "#fde725"
             ]
            ],
            "type": "heatmapgl"
           }
          ],
          "histogram": [
           {
            "marker": {
             "line": {
              "color": "white",
              "width": 0.6
             }
            },
            "type": "histogram"
           }
          ],
          "histogram2d": [
           {
            "colorbar": {
             "outlinewidth": 1,
             "tickcolor": "rgb(36,36,36)",
             "ticks": "outside"
            },
            "colorscale": [
             [
              0,
              "#440154"
             ],
             [
              0.1111111111111111,
              "#482878"
             ],
             [
              0.2222222222222222,
              "#3e4989"
             ],
             [
              0.3333333333333333,
              "#31688e"
             ],
             [
              0.4444444444444444,
              "#26828e"
             ],
             [
              0.5555555555555556,
              "#1f9e89"
             ],
             [
              0.6666666666666666,
              "#35b779"
             ],
             [
              0.7777777777777778,
              "#6ece58"
             ],
             [
              0.8888888888888888,
              "#b5de2b"
             ],
             [
              1,
              "#fde725"
             ]
            ],
            "type": "histogram2d"
           }
          ],
          "histogram2dcontour": [
           {
            "colorbar": {
             "outlinewidth": 1,
             "tickcolor": "rgb(36,36,36)",
             "ticks": "outside"
            },
            "colorscale": [
             [
              0,
              "#440154"
             ],
             [
              0.1111111111111111,
              "#482878"
             ],
             [
              0.2222222222222222,
              "#3e4989"
             ],
             [
              0.3333333333333333,
              "#31688e"
             ],
             [
              0.4444444444444444,
              "#26828e"
             ],
             [
              0.5555555555555556,
              "#1f9e89"
             ],
             [
              0.6666666666666666,
              "#35b779"
             ],
             [
              0.7777777777777778,
              "#6ece58"
             ],
             [
              0.8888888888888888,
              "#b5de2b"
             ],
             [
              1,
              "#fde725"
             ]
            ],
            "type": "histogram2dcontour"
           }
          ],
          "mesh3d": [
           {
            "colorbar": {
             "outlinewidth": 1,
             "tickcolor": "rgb(36,36,36)",
             "ticks": "outside"
            },
            "type": "mesh3d"
           }
          ],
          "parcoords": [
           {
            "line": {
             "colorbar": {
              "outlinewidth": 1,
              "tickcolor": "rgb(36,36,36)",
              "ticks": "outside"
             }
            },
            "type": "parcoords"
           }
          ],
          "pie": [
           {
            "automargin": true,
            "type": "pie"
           }
          ],
          "scatter": [
           {
            "marker": {
             "colorbar": {
              "outlinewidth": 1,
              "tickcolor": "rgb(36,36,36)",
              "ticks": "outside"
             }
            },
            "type": "scatter"
           }
          ],
          "scatter3d": [
           {
            "line": {
             "colorbar": {
              "outlinewidth": 1,
              "tickcolor": "rgb(36,36,36)",
              "ticks": "outside"
             }
            },
            "marker": {
             "colorbar": {
              "outlinewidth": 1,
              "tickcolor": "rgb(36,36,36)",
              "ticks": "outside"
             }
            },
            "type": "scatter3d"
           }
          ],
          "scattercarpet": [
           {
            "marker": {
             "colorbar": {
              "outlinewidth": 1,
              "tickcolor": "rgb(36,36,36)",
              "ticks": "outside"
             }
            },
            "type": "scattercarpet"
           }
          ],
          "scattergeo": [
           {
            "marker": {
             "colorbar": {
              "outlinewidth": 1,
              "tickcolor": "rgb(36,36,36)",
              "ticks": "outside"
             }
            },
            "type": "scattergeo"
           }
          ],
          "scattergl": [
           {
            "marker": {
             "colorbar": {
              "outlinewidth": 1,
              "tickcolor": "rgb(36,36,36)",
              "ticks": "outside"
             }
            },
            "type": "scattergl"
           }
          ],
          "scattermapbox": [
           {
            "marker": {
             "colorbar": {
              "outlinewidth": 1,
              "tickcolor": "rgb(36,36,36)",
              "ticks": "outside"
             }
            },
            "type": "scattermapbox"
           }
          ],
          "scatterpolar": [
           {
            "marker": {
             "colorbar": {
              "outlinewidth": 1,
              "tickcolor": "rgb(36,36,36)",
              "ticks": "outside"
             }
            },
            "type": "scatterpolar"
           }
          ],
          "scatterpolargl": [
           {
            "marker": {
             "colorbar": {
              "outlinewidth": 1,
              "tickcolor": "rgb(36,36,36)",
              "ticks": "outside"
             }
            },
            "type": "scatterpolargl"
           }
          ],
          "scatterternary": [
           {
            "marker": {
             "colorbar": {
              "outlinewidth": 1,
              "tickcolor": "rgb(36,36,36)",
              "ticks": "outside"
             }
            },
            "type": "scatterternary"
           }
          ],
          "surface": [
           {
            "colorbar": {
             "outlinewidth": 1,
             "tickcolor": "rgb(36,36,36)",
             "ticks": "outside"
            },
            "colorscale": [
             [
              0,
              "#440154"
             ],
             [
              0.1111111111111111,
              "#482878"
             ],
             [
              0.2222222222222222,
              "#3e4989"
             ],
             [
              0.3333333333333333,
              "#31688e"
             ],
             [
              0.4444444444444444,
              "#26828e"
             ],
             [
              0.5555555555555556,
              "#1f9e89"
             ],
             [
              0.6666666666666666,
              "#35b779"
             ],
             [
              0.7777777777777778,
              "#6ece58"
             ],
             [
              0.8888888888888888,
              "#b5de2b"
             ],
             [
              1,
              "#fde725"
             ]
            ],
            "type": "surface"
           }
          ],
          "table": [
           {
            "cells": {
             "fill": {
              "color": "rgb(237,237,237)"
             },
             "line": {
              "color": "white"
             }
            },
            "header": {
             "fill": {
              "color": "rgb(217,217,217)"
             },
             "line": {
              "color": "white"
             }
            },
            "type": "table"
           }
          ]
         },
         "layout": {
          "annotationdefaults": {
           "arrowhead": 0,
           "arrowwidth": 1
          },
          "coloraxis": {
           "colorbar": {
            "outlinewidth": 1,
            "tickcolor": "rgb(36,36,36)",
            "ticks": "outside"
           }
          },
          "colorscale": {
           "diverging": [
            [
             0,
             "rgb(103,0,31)"
            ],
            [
             0.1,
             "rgb(178,24,43)"
            ],
            [
             0.2,
             "rgb(214,96,77)"
            ],
            [
             0.3,
             "rgb(244,165,130)"
            ],
            [
             0.4,
             "rgb(253,219,199)"
            ],
            [
             0.5,
             "rgb(247,247,247)"
            ],
            [
             0.6,
             "rgb(209,229,240)"
            ],
            [
             0.7,
             "rgb(146,197,222)"
            ],
            [
             0.8,
             "rgb(67,147,195)"
            ],
            [
             0.9,
             "rgb(33,102,172)"
            ],
            [
             1,
             "rgb(5,48,97)"
            ]
           ],
           "sequential": [
            [
             0,
             "#440154"
            ],
            [
             0.1111111111111111,
             "#482878"
            ],
            [
             0.2222222222222222,
             "#3e4989"
            ],
            [
             0.3333333333333333,
             "#31688e"
            ],
            [
             0.4444444444444444,
             "#26828e"
            ],
            [
             0.5555555555555556,
             "#1f9e89"
            ],
            [
             0.6666666666666666,
             "#35b779"
            ],
            [
             0.7777777777777778,
             "#6ece58"
            ],
            [
             0.8888888888888888,
             "#b5de2b"
            ],
            [
             1,
             "#fde725"
            ]
           ],
           "sequentialminus": [
            [
             0,
             "#440154"
            ],
            [
             0.1111111111111111,
             "#482878"
            ],
            [
             0.2222222222222222,
             "#3e4989"
            ],
            [
             0.3333333333333333,
             "#31688e"
            ],
            [
             0.4444444444444444,
             "#26828e"
            ],
            [
             0.5555555555555556,
             "#1f9e89"
            ],
            [
             0.6666666666666666,
             "#35b779"
            ],
            [
             0.7777777777777778,
             "#6ece58"
            ],
            [
             0.8888888888888888,
             "#b5de2b"
            ],
            [
             1,
             "#fde725"
            ]
           ]
          },
          "colorway": [
           "#1F77B4",
           "#FF7F0E",
           "#2CA02C",
           "#D62728",
           "#9467BD",
           "#8C564B",
           "#E377C2",
           "#7F7F7F",
           "#BCBD22",
           "#17BECF"
          ],
          "font": {
           "color": "rgb(36,36,36)"
          },
          "geo": {
           "bgcolor": "white",
           "lakecolor": "white",
           "landcolor": "white",
           "showlakes": true,
           "showland": true,
           "subunitcolor": "white"
          },
          "hoverlabel": {
           "align": "left"
          },
          "hovermode": "closest",
          "mapbox": {
           "style": "light"
          },
          "paper_bgcolor": "white",
          "plot_bgcolor": "white",
          "polar": {
           "angularaxis": {
            "gridcolor": "rgb(232,232,232)",
            "linecolor": "rgb(36,36,36)",
            "showgrid": false,
            "showline": true,
            "ticks": "outside"
           },
           "bgcolor": "white",
           "radialaxis": {
            "gridcolor": "rgb(232,232,232)",
            "linecolor": "rgb(36,36,36)",
            "showgrid": false,
            "showline": true,
            "ticks": "outside"
           }
          },
          "scene": {
           "xaxis": {
            "backgroundcolor": "white",
            "gridcolor": "rgb(232,232,232)",
            "gridwidth": 2,
            "linecolor": "rgb(36,36,36)",
            "showbackground": true,
            "showgrid": false,
            "showline": true,
            "ticks": "outside",
            "zeroline": false,
            "zerolinecolor": "rgb(36,36,36)"
           },
           "yaxis": {
            "backgroundcolor": "white",
            "gridcolor": "rgb(232,232,232)",
            "gridwidth": 2,
            "linecolor": "rgb(36,36,36)",
            "showbackground": true,
            "showgrid": false,
            "showline": true,
            "ticks": "outside",
            "zeroline": false,
            "zerolinecolor": "rgb(36,36,36)"
           },
           "zaxis": {
            "backgroundcolor": "white",
            "gridcolor": "rgb(232,232,232)",
            "gridwidth": 2,
            "linecolor": "rgb(36,36,36)",
            "showbackground": true,
            "showgrid": false,
            "showline": true,
            "ticks": "outside",
            "zeroline": false,
            "zerolinecolor": "rgb(36,36,36)"
           }
          },
          "shapedefaults": {
           "fillcolor": "black",
           "line": {
            "width": 0
           },
           "opacity": 0.3
          },
          "ternary": {
           "aaxis": {
            "gridcolor": "rgb(232,232,232)",
            "linecolor": "rgb(36,36,36)",
            "showgrid": false,
            "showline": true,
            "ticks": "outside"
           },
           "baxis": {
            "gridcolor": "rgb(232,232,232)",
            "linecolor": "rgb(36,36,36)",
            "showgrid": false,
            "showline": true,
            "ticks": "outside"
           },
           "bgcolor": "white",
           "caxis": {
            "gridcolor": "rgb(232,232,232)",
            "linecolor": "rgb(36,36,36)",
            "showgrid": false,
            "showline": true,
            "ticks": "outside"
           }
          },
          "title": {
           "x": 0.05
          },
          "xaxis": {
           "automargin": true,
           "gridcolor": "rgb(232,232,232)",
           "linecolor": "rgb(36,36,36)",
           "showgrid": false,
           "showline": true,
           "ticks": "outside",
           "title": {
            "standoff": 15
           },
           "zeroline": false,
           "zerolinecolor": "rgb(36,36,36)"
          },
          "yaxis": {
           "automargin": true,
           "gridcolor": "rgb(232,232,232)",
           "linecolor": "rgb(36,36,36)",
           "showgrid": false,
           "showline": true,
           "ticks": "outside",
           "title": {
            "standoff": 15
           },
           "zeroline": false,
           "zerolinecolor": "rgb(36,36,36)"
          }
         }
        },
        "title": {
         "text": "Types of protein in orders"
        },
        "xaxis": {
         "anchor": "y",
         "domain": [
          0,
          1
         ],
         "title": {
          "text": "Items Ordered"
         }
        },
        "yaxis": {
         "anchor": "x",
         "domain": [
          0,
          1
         ],
         "title": {
          "text": "Protein"
         }
        }
       }
      },
      "text/html": [
       "<div>                            <div id=\"15eab52b-7d3c-45e7-bd25-316bd27e9a8b\" class=\"plotly-graph-div\" style=\"height:525px; width:100%;\"></div>            <script type=\"text/javascript\">                require([\"plotly\"], function(Plotly) {                    window.PLOTLYENV=window.PLOTLYENV || {};                                    if (document.getElementById(\"15eab52b-7d3c-45e7-bd25-316bd27e9a8b\")) {                    Plotly.newPlot(                        \"15eab52b-7d3c-45e7-bd25-316bd27e9a8b\",                        [{\"alignmentgroup\": \"True\", \"hovertemplate\": \"Items Ordered=%{text}<br>Protein=%{y}<extra></extra>\", \"legendgroup\": \"\", \"marker\": {\"color\": \"#1F77B4\"}, \"name\": \"\", \"offsetgroup\": \"\", \"orientation\": \"h\", \"showlegend\": false, \"text\": [1764.0, 1560.0, 905.0, 212.0, 181.0], \"textposition\": \"auto\", \"type\": \"bar\", \"x\": [1764, 1560, 905, 212, 181], \"xaxis\": \"x\", \"y\": [\"Other\", \"Chicken\", \"Beef\", \"Veggie\", \"Pork\"], \"yaxis\": \"y\"}],                        {\"barmode\": \"relative\", \"legend\": {\"tracegroupgap\": 0}, \"template\": {\"data\": {\"bar\": [{\"error_x\": {\"color\": \"rgb(36,36,36)\"}, \"error_y\": {\"color\": \"rgb(36,36,36)\"}, \"marker\": {\"line\": {\"color\": \"white\", \"width\": 0.5}}, \"type\": \"bar\"}], \"barpolar\": [{\"marker\": {\"line\": {\"color\": \"white\", \"width\": 0.5}}, \"type\": \"barpolar\"}], \"carpet\": [{\"aaxis\": {\"endlinecolor\": \"rgb(36,36,36)\", \"gridcolor\": \"white\", \"linecolor\": \"white\", \"minorgridcolor\": \"white\", \"startlinecolor\": \"rgb(36,36,36)\"}, \"baxis\": {\"endlinecolor\": \"rgb(36,36,36)\", \"gridcolor\": \"white\", \"linecolor\": \"white\", \"minorgridcolor\": \"white\", \"startlinecolor\": \"rgb(36,36,36)\"}, \"type\": \"carpet\"}], \"choropleth\": [{\"colorbar\": {\"outlinewidth\": 1, \"tickcolor\": \"rgb(36,36,36)\", \"ticks\": \"outside\"}, \"type\": \"choropleth\"}], \"contour\": [{\"colorbar\": {\"outlinewidth\": 1, \"tickcolor\": \"rgb(36,36,36)\", \"ticks\": \"outside\"}, \"colorscale\": [[0.0, \"#440154\"], [0.1111111111111111, \"#482878\"], [0.2222222222222222, \"#3e4989\"], [0.3333333333333333, \"#31688e\"], [0.4444444444444444, \"#26828e\"], [0.5555555555555556, \"#1f9e89\"], [0.6666666666666666, \"#35b779\"], [0.7777777777777778, \"#6ece58\"], [0.8888888888888888, \"#b5de2b\"], [1.0, \"#fde725\"]], \"type\": \"contour\"}], \"contourcarpet\": [{\"colorbar\": {\"outlinewidth\": 1, \"tickcolor\": \"rgb(36,36,36)\", \"ticks\": \"outside\"}, \"type\": \"contourcarpet\"}], \"heatmap\": [{\"colorbar\": {\"outlinewidth\": 1, \"tickcolor\": \"rgb(36,36,36)\", \"ticks\": \"outside\"}, \"colorscale\": [[0.0, \"#440154\"], [0.1111111111111111, \"#482878\"], [0.2222222222222222, \"#3e4989\"], [0.3333333333333333, \"#31688e\"], [0.4444444444444444, \"#26828e\"], [0.5555555555555556, \"#1f9e89\"], [0.6666666666666666, \"#35b779\"], [0.7777777777777778, \"#6ece58\"], [0.8888888888888888, \"#b5de2b\"], [1.0, \"#fde725\"]], \"type\": \"heatmap\"}], \"heatmapgl\": [{\"colorbar\": {\"outlinewidth\": 1, \"tickcolor\": \"rgb(36,36,36)\", \"ticks\": \"outside\"}, \"colorscale\": [[0.0, \"#440154\"], [0.1111111111111111, \"#482878\"], [0.2222222222222222, \"#3e4989\"], [0.3333333333333333, \"#31688e\"], [0.4444444444444444, \"#26828e\"], [0.5555555555555556, \"#1f9e89\"], [0.6666666666666666, \"#35b779\"], [0.7777777777777778, \"#6ece58\"], [0.8888888888888888, \"#b5de2b\"], [1.0, \"#fde725\"]], \"type\": \"heatmapgl\"}], \"histogram\": [{\"marker\": {\"line\": {\"color\": \"white\", \"width\": 0.6}}, \"type\": \"histogram\"}], \"histogram2d\": [{\"colorbar\": {\"outlinewidth\": 1, \"tickcolor\": \"rgb(36,36,36)\", \"ticks\": \"outside\"}, \"colorscale\": [[0.0, \"#440154\"], [0.1111111111111111, \"#482878\"], [0.2222222222222222, \"#3e4989\"], [0.3333333333333333, \"#31688e\"], [0.4444444444444444, \"#26828e\"], [0.5555555555555556, \"#1f9e89\"], [0.6666666666666666, \"#35b779\"], [0.7777777777777778, \"#6ece58\"], [0.8888888888888888, \"#b5de2b\"], [1.0, \"#fde725\"]], \"type\": \"histogram2d\"}], \"histogram2dcontour\": [{\"colorbar\": {\"outlinewidth\": 1, \"tickcolor\": \"rgb(36,36,36)\", \"ticks\": \"outside\"}, \"colorscale\": [[0.0, \"#440154\"], [0.1111111111111111, \"#482878\"], [0.2222222222222222, \"#3e4989\"], [0.3333333333333333, \"#31688e\"], [0.4444444444444444, \"#26828e\"], [0.5555555555555556, \"#1f9e89\"], [0.6666666666666666, \"#35b779\"], [0.7777777777777778, \"#6ece58\"], [0.8888888888888888, \"#b5de2b\"], [1.0, \"#fde725\"]], \"type\": \"histogram2dcontour\"}], \"mesh3d\": [{\"colorbar\": {\"outlinewidth\": 1, \"tickcolor\": \"rgb(36,36,36)\", \"ticks\": \"outside\"}, \"type\": \"mesh3d\"}], \"parcoords\": [{\"line\": {\"colorbar\": {\"outlinewidth\": 1, \"tickcolor\": \"rgb(36,36,36)\", \"ticks\": \"outside\"}}, \"type\": \"parcoords\"}], \"pie\": [{\"automargin\": true, \"type\": \"pie\"}], \"scatter\": [{\"marker\": {\"colorbar\": {\"outlinewidth\": 1, \"tickcolor\": \"rgb(36,36,36)\", \"ticks\": \"outside\"}}, \"type\": \"scatter\"}], \"scatter3d\": [{\"line\": {\"colorbar\": {\"outlinewidth\": 1, \"tickcolor\": \"rgb(36,36,36)\", \"ticks\": \"outside\"}}, \"marker\": {\"colorbar\": {\"outlinewidth\": 1, \"tickcolor\": \"rgb(36,36,36)\", \"ticks\": \"outside\"}}, \"type\": \"scatter3d\"}], \"scattercarpet\": [{\"marker\": {\"colorbar\": {\"outlinewidth\": 1, \"tickcolor\": \"rgb(36,36,36)\", \"ticks\": \"outside\"}}, \"type\": \"scattercarpet\"}], \"scattergeo\": [{\"marker\": {\"colorbar\": {\"outlinewidth\": 1, \"tickcolor\": \"rgb(36,36,36)\", \"ticks\": \"outside\"}}, \"type\": \"scattergeo\"}], \"scattergl\": [{\"marker\": {\"colorbar\": {\"outlinewidth\": 1, \"tickcolor\": \"rgb(36,36,36)\", \"ticks\": \"outside\"}}, \"type\": \"scattergl\"}], \"scattermapbox\": [{\"marker\": {\"colorbar\": {\"outlinewidth\": 1, \"tickcolor\": \"rgb(36,36,36)\", \"ticks\": \"outside\"}}, \"type\": \"scattermapbox\"}], \"scatterpolar\": [{\"marker\": {\"colorbar\": {\"outlinewidth\": 1, \"tickcolor\": \"rgb(36,36,36)\", \"ticks\": \"outside\"}}, \"type\": \"scatterpolar\"}], \"scatterpolargl\": [{\"marker\": {\"colorbar\": {\"outlinewidth\": 1, \"tickcolor\": \"rgb(36,36,36)\", \"ticks\": \"outside\"}}, \"type\": \"scatterpolargl\"}], \"scatterternary\": [{\"marker\": {\"colorbar\": {\"outlinewidth\": 1, \"tickcolor\": \"rgb(36,36,36)\", \"ticks\": \"outside\"}}, \"type\": \"scatterternary\"}], \"surface\": [{\"colorbar\": {\"outlinewidth\": 1, \"tickcolor\": \"rgb(36,36,36)\", \"ticks\": \"outside\"}, \"colorscale\": [[0.0, \"#440154\"], [0.1111111111111111, \"#482878\"], [0.2222222222222222, \"#3e4989\"], [0.3333333333333333, \"#31688e\"], [0.4444444444444444, \"#26828e\"], [0.5555555555555556, \"#1f9e89\"], [0.6666666666666666, \"#35b779\"], [0.7777777777777778, \"#6ece58\"], [0.8888888888888888, \"#b5de2b\"], [1.0, \"#fde725\"]], \"type\": \"surface\"}], \"table\": [{\"cells\": {\"fill\": {\"color\": \"rgb(237,237,237)\"}, \"line\": {\"color\": \"white\"}}, \"header\": {\"fill\": {\"color\": \"rgb(217,217,217)\"}, \"line\": {\"color\": \"white\"}}, \"type\": \"table\"}]}, \"layout\": {\"annotationdefaults\": {\"arrowhead\": 0, \"arrowwidth\": 1}, \"coloraxis\": {\"colorbar\": {\"outlinewidth\": 1, \"tickcolor\": \"rgb(36,36,36)\", \"ticks\": \"outside\"}}, \"colorscale\": {\"diverging\": [[0.0, \"rgb(103,0,31)\"], [0.1, \"rgb(178,24,43)\"], [0.2, \"rgb(214,96,77)\"], [0.3, \"rgb(244,165,130)\"], [0.4, \"rgb(253,219,199)\"], [0.5, \"rgb(247,247,247)\"], [0.6, \"rgb(209,229,240)\"], [0.7, \"rgb(146,197,222)\"], [0.8, \"rgb(67,147,195)\"], [0.9, \"rgb(33,102,172)\"], [1.0, \"rgb(5,48,97)\"]], \"sequential\": [[0.0, \"#440154\"], [0.1111111111111111, \"#482878\"], [0.2222222222222222, \"#3e4989\"], [0.3333333333333333, \"#31688e\"], [0.4444444444444444, \"#26828e\"], [0.5555555555555556, \"#1f9e89\"], [0.6666666666666666, \"#35b779\"], [0.7777777777777778, \"#6ece58\"], [0.8888888888888888, \"#b5de2b\"], [1.0, \"#fde725\"]], \"sequentialminus\": [[0.0, \"#440154\"], [0.1111111111111111, \"#482878\"], [0.2222222222222222, \"#3e4989\"], [0.3333333333333333, \"#31688e\"], [0.4444444444444444, \"#26828e\"], [0.5555555555555556, \"#1f9e89\"], [0.6666666666666666, \"#35b779\"], [0.7777777777777778, \"#6ece58\"], [0.8888888888888888, \"#b5de2b\"], [1.0, \"#fde725\"]]}, \"colorway\": [\"#1F77B4\", \"#FF7F0E\", \"#2CA02C\", \"#D62728\", \"#9467BD\", \"#8C564B\", \"#E377C2\", \"#7F7F7F\", \"#BCBD22\", \"#17BECF\"], \"font\": {\"color\": \"rgb(36,36,36)\"}, \"geo\": {\"bgcolor\": \"white\", \"lakecolor\": \"white\", \"landcolor\": \"white\", \"showlakes\": true, \"showland\": true, \"subunitcolor\": \"white\"}, \"hoverlabel\": {\"align\": \"left\"}, \"hovermode\": \"closest\", \"mapbox\": {\"style\": \"light\"}, \"paper_bgcolor\": \"white\", \"plot_bgcolor\": \"white\", \"polar\": {\"angularaxis\": {\"gridcolor\": \"rgb(232,232,232)\", \"linecolor\": \"rgb(36,36,36)\", \"showgrid\": false, \"showline\": true, \"ticks\": \"outside\"}, \"bgcolor\": \"white\", \"radialaxis\": {\"gridcolor\": \"rgb(232,232,232)\", \"linecolor\": \"rgb(36,36,36)\", \"showgrid\": false, \"showline\": true, \"ticks\": \"outside\"}}, \"scene\": {\"xaxis\": {\"backgroundcolor\": \"white\", \"gridcolor\": \"rgb(232,232,232)\", \"gridwidth\": 2, \"linecolor\": \"rgb(36,36,36)\", \"showbackground\": true, \"showgrid\": false, \"showline\": true, \"ticks\": \"outside\", \"zeroline\": false, \"zerolinecolor\": \"rgb(36,36,36)\"}, \"yaxis\": {\"backgroundcolor\": \"white\", \"gridcolor\": \"rgb(232,232,232)\", \"gridwidth\": 2, \"linecolor\": \"rgb(36,36,36)\", \"showbackground\": true, \"showgrid\": false, \"showline\": true, \"ticks\": \"outside\", \"zeroline\": false, \"zerolinecolor\": \"rgb(36,36,36)\"}, \"zaxis\": {\"backgroundcolor\": \"white\", \"gridcolor\": \"rgb(232,232,232)\", \"gridwidth\": 2, \"linecolor\": \"rgb(36,36,36)\", \"showbackground\": true, \"showgrid\": false, \"showline\": true, \"ticks\": \"outside\", \"zeroline\": false, \"zerolinecolor\": \"rgb(36,36,36)\"}}, \"shapedefaults\": {\"fillcolor\": \"black\", \"line\": {\"width\": 0}, \"opacity\": 0.3}, \"ternary\": {\"aaxis\": {\"gridcolor\": \"rgb(232,232,232)\", \"linecolor\": \"rgb(36,36,36)\", \"showgrid\": false, \"showline\": true, \"ticks\": \"outside\"}, \"baxis\": {\"gridcolor\": \"rgb(232,232,232)\", \"linecolor\": \"rgb(36,36,36)\", \"showgrid\": false, \"showline\": true, \"ticks\": \"outside\"}, \"bgcolor\": \"white\", \"caxis\": {\"gridcolor\": \"rgb(232,232,232)\", \"linecolor\": \"rgb(36,36,36)\", \"showgrid\": false, \"showline\": true, \"ticks\": \"outside\"}}, \"title\": {\"x\": 0.05}, \"xaxis\": {\"automargin\": true, \"gridcolor\": \"rgb(232,232,232)\", \"linecolor\": \"rgb(36,36,36)\", \"showgrid\": false, \"showline\": true, \"ticks\": \"outside\", \"title\": {\"standoff\": 15}, \"zeroline\": false, \"zerolinecolor\": \"rgb(36,36,36)\"}, \"yaxis\": {\"automargin\": true, \"gridcolor\": \"rgb(232,232,232)\", \"linecolor\": \"rgb(36,36,36)\", \"showgrid\": false, \"showline\": true, \"ticks\": \"outside\", \"title\": {\"standoff\": 15}, \"zeroline\": false, \"zerolinecolor\": \"rgb(36,36,36)\"}}}, \"title\": {\"text\": \"Types of protein in orders\"}, \"xaxis\": {\"anchor\": \"y\", \"domain\": [0.0, 1.0], \"title\": {\"text\": \"Items Ordered\"}}, \"yaxis\": {\"anchor\": \"x\", \"domain\": [0.0, 1.0], \"title\": {\"text\": \"Protein\"}}},                        {\"responsive\": true}                    ).then(function(){\n",
       "                            \n",
       "var gd = document.getElementById('15eab52b-7d3c-45e7-bd25-316bd27e9a8b');\n",
       "var x = new MutationObserver(function (mutations, observer) {{\n",
       "        var display = window.getComputedStyle(gd).display;\n",
       "        if (!display || display === 'none') {{\n",
       "            console.log([gd, 'removed!']);\n",
       "            Plotly.purge(gd);\n",
       "            observer.disconnect();\n",
       "        }}\n",
       "}});\n",
       "\n",
       "// Listen for the removal of the full notebook cells\n",
       "var notebookContainer = gd.closest('#notebook-container');\n",
       "if (notebookContainer) {{\n",
       "    x.observe(notebookContainer, {childList: true});\n",
       "}}\n",
       "\n",
       "// Listen for the clearing of the current output cell\n",
       "var outputEl = gd.closest('.output');\n",
       "if (outputEl) {{\n",
       "    x.observe(outputEl, {childList: true});\n",
       "}}\n",
       "\n",
       "                        })                };                });            </script>        </div>"
      ]
     },
     "metadata": {},
     "output_type": "display_data"
    }
   ],
   "source": [
    "data_protein = df['protein'].value_counts().reset_index()\n",
    "data_protein.columns = ['protein','item_count']\n",
    "fig = px.bar(data_protein, \n",
    "             x='item_count',y='protein'\n",
    "             title='Types of protein in orders',\n",
    "             text='item_count',\n",
    "             labels={'protein':\"Protein\",'item_count':\"Items Ordered\"},\n",
    "             template='simple_white',\n",
    "             orientation='h'\n",
    "            )\n",
    "fig.show()"
   ]
  },
  {
   "cell_type": "code",
   "execution_count": 180,
   "metadata": {},
   "outputs": [],
   "source": [
    "?pd.Series.value_counts"
   ]
  },
  {
   "cell_type": "code",
   "execution_count": 126,
   "metadata": {},
   "outputs": [
    {
     "data": {
      "text/plain": [
       "Chicken    0.545836\n",
       "Beef       0.316655\n",
       "Veggie     0.074178\n",
       "Pork       0.063331\n",
       "Name: protein, dtype: float64"
      ]
     },
     "execution_count": 126,
     "metadata": {},
     "output_type": "execute_result"
    }
   ],
   "source": [
    "df['protein'][(df.protein != 'Other')].value_counts(normalize = True)"
   ]
  },
  {
   "cell_type": "code",
   "execution_count": 157,
   "metadata": {},
   "outputs": [
    {
     "data": {
      "application/vnd.plotly.v1+json": {
       "config": {
        "plotlyServerURL": "https://plot.ly"
       },
       "data": [
        {
         "alignmentgroup": "True",
         "hovertemplate": "% of non-other proteins=%{x}<br>Protein=%{y}<br>perc_non_other_format=%{text}<extra></extra>",
         "legendgroup": "",
         "marker": {
          "color": "#1F77B4"
         },
         "name": "",
         "offsetgroup": "",
         "orientation": "h",
         "showlegend": false,
         "text": [
          "54.58%",
          "31.67%",
          "7.42%",
          "6.33%"
         ],
         "textposition": "auto",
         "type": "bar",
         "x": [
          0.5458362491252624,
          0.3166550034989503,
          0.0741777466759972,
          0.06333100069979006
         ],
         "xaxis": "x",
         "y": [
          "Chicken",
          "Beef",
          "Veggie",
          "Pork"
         ],
         "yaxis": "y"
        }
       ],
       "layout": {
        "barmode": "relative",
        "legend": {
         "tracegroupgap": 0
        },
        "template": {
         "data": {
          "bar": [
           {
            "error_x": {
             "color": "rgb(36,36,36)"
            },
            "error_y": {
             "color": "rgb(36,36,36)"
            },
            "marker": {
             "line": {
              "color": "white",
              "width": 0.5
             }
            },
            "type": "bar"
           }
          ],
          "barpolar": [
           {
            "marker": {
             "line": {
              "color": "white",
              "width": 0.5
             }
            },
            "type": "barpolar"
           }
          ],
          "carpet": [
           {
            "aaxis": {
             "endlinecolor": "rgb(36,36,36)",
             "gridcolor": "white",
             "linecolor": "white",
             "minorgridcolor": "white",
             "startlinecolor": "rgb(36,36,36)"
            },
            "baxis": {
             "endlinecolor": "rgb(36,36,36)",
             "gridcolor": "white",
             "linecolor": "white",
             "minorgridcolor": "white",
             "startlinecolor": "rgb(36,36,36)"
            },
            "type": "carpet"
           }
          ],
          "choropleth": [
           {
            "colorbar": {
             "outlinewidth": 1,
             "tickcolor": "rgb(36,36,36)",
             "ticks": "outside"
            },
            "type": "choropleth"
           }
          ],
          "contour": [
           {
            "colorbar": {
             "outlinewidth": 1,
             "tickcolor": "rgb(36,36,36)",
             "ticks": "outside"
            },
            "colorscale": [
             [
              0,
              "#440154"
             ],
             [
              0.1111111111111111,
              "#482878"
             ],
             [
              0.2222222222222222,
              "#3e4989"
             ],
             [
              0.3333333333333333,
              "#31688e"
             ],
             [
              0.4444444444444444,
              "#26828e"
             ],
             [
              0.5555555555555556,
              "#1f9e89"
             ],
             [
              0.6666666666666666,
              "#35b779"
             ],
             [
              0.7777777777777778,
              "#6ece58"
             ],
             [
              0.8888888888888888,
              "#b5de2b"
             ],
             [
              1,
              "#fde725"
             ]
            ],
            "type": "contour"
           }
          ],
          "contourcarpet": [
           {
            "colorbar": {
             "outlinewidth": 1,
             "tickcolor": "rgb(36,36,36)",
             "ticks": "outside"
            },
            "type": "contourcarpet"
           }
          ],
          "heatmap": [
           {
            "colorbar": {
             "outlinewidth": 1,
             "tickcolor": "rgb(36,36,36)",
             "ticks": "outside"
            },
            "colorscale": [
             [
              0,
              "#440154"
             ],
             [
              0.1111111111111111,
              "#482878"
             ],
             [
              0.2222222222222222,
              "#3e4989"
             ],
             [
              0.3333333333333333,
              "#31688e"
             ],
             [
              0.4444444444444444,
              "#26828e"
             ],
             [
              0.5555555555555556,
              "#1f9e89"
             ],
             [
              0.6666666666666666,
              "#35b779"
             ],
             [
              0.7777777777777778,
              "#6ece58"
             ],
             [
              0.8888888888888888,
              "#b5de2b"
             ],
             [
              1,
              "#fde725"
             ]
            ],
            "type": "heatmap"
           }
          ],
          "heatmapgl": [
           {
            "colorbar": {
             "outlinewidth": 1,
             "tickcolor": "rgb(36,36,36)",
             "ticks": "outside"
            },
            "colorscale": [
             [
              0,
              "#440154"
             ],
             [
              0.1111111111111111,
              "#482878"
             ],
             [
              0.2222222222222222,
              "#3e4989"
             ],
             [
              0.3333333333333333,
              "#31688e"
             ],
             [
              0.4444444444444444,
              "#26828e"
             ],
             [
              0.5555555555555556,
              "#1f9e89"
             ],
             [
              0.6666666666666666,
              "#35b779"
             ],
             [
              0.7777777777777778,
              "#6ece58"
             ],
             [
              0.8888888888888888,
              "#b5de2b"
             ],
             [
              1,
              "#fde725"
             ]
            ],
            "type": "heatmapgl"
           }
          ],
          "histogram": [
           {
            "marker": {
             "line": {
              "color": "white",
              "width": 0.6
             }
            },
            "type": "histogram"
           }
          ],
          "histogram2d": [
           {
            "colorbar": {
             "outlinewidth": 1,
             "tickcolor": "rgb(36,36,36)",
             "ticks": "outside"
            },
            "colorscale": [
             [
              0,
              "#440154"
             ],
             [
              0.1111111111111111,
              "#482878"
             ],
             [
              0.2222222222222222,
              "#3e4989"
             ],
             [
              0.3333333333333333,
              "#31688e"
             ],
             [
              0.4444444444444444,
              "#26828e"
             ],
             [
              0.5555555555555556,
              "#1f9e89"
             ],
             [
              0.6666666666666666,
              "#35b779"
             ],
             [
              0.7777777777777778,
              "#6ece58"
             ],
             [
              0.8888888888888888,
              "#b5de2b"
             ],
             [
              1,
              "#fde725"
             ]
            ],
            "type": "histogram2d"
           }
          ],
          "histogram2dcontour": [
           {
            "colorbar": {
             "outlinewidth": 1,
             "tickcolor": "rgb(36,36,36)",
             "ticks": "outside"
            },
            "colorscale": [
             [
              0,
              "#440154"
             ],
             [
              0.1111111111111111,
              "#482878"
             ],
             [
              0.2222222222222222,
              "#3e4989"
             ],
             [
              0.3333333333333333,
              "#31688e"
             ],
             [
              0.4444444444444444,
              "#26828e"
             ],
             [
              0.5555555555555556,
              "#1f9e89"
             ],
             [
              0.6666666666666666,
              "#35b779"
             ],
             [
              0.7777777777777778,
              "#6ece58"
             ],
             [
              0.8888888888888888,
              "#b5de2b"
             ],
             [
              1,
              "#fde725"
             ]
            ],
            "type": "histogram2dcontour"
           }
          ],
          "mesh3d": [
           {
            "colorbar": {
             "outlinewidth": 1,
             "tickcolor": "rgb(36,36,36)",
             "ticks": "outside"
            },
            "type": "mesh3d"
           }
          ],
          "parcoords": [
           {
            "line": {
             "colorbar": {
              "outlinewidth": 1,
              "tickcolor": "rgb(36,36,36)",
              "ticks": "outside"
             }
            },
            "type": "parcoords"
           }
          ],
          "pie": [
           {
            "automargin": true,
            "type": "pie"
           }
          ],
          "scatter": [
           {
            "marker": {
             "colorbar": {
              "outlinewidth": 1,
              "tickcolor": "rgb(36,36,36)",
              "ticks": "outside"
             }
            },
            "type": "scatter"
           }
          ],
          "scatter3d": [
           {
            "line": {
             "colorbar": {
              "outlinewidth": 1,
              "tickcolor": "rgb(36,36,36)",
              "ticks": "outside"
             }
            },
            "marker": {
             "colorbar": {
              "outlinewidth": 1,
              "tickcolor": "rgb(36,36,36)",
              "ticks": "outside"
             }
            },
            "type": "scatter3d"
           }
          ],
          "scattercarpet": [
           {
            "marker": {
             "colorbar": {
              "outlinewidth": 1,
              "tickcolor": "rgb(36,36,36)",
              "ticks": "outside"
             }
            },
            "type": "scattercarpet"
           }
          ],
          "scattergeo": [
           {
            "marker": {
             "colorbar": {
              "outlinewidth": 1,
              "tickcolor": "rgb(36,36,36)",
              "ticks": "outside"
             }
            },
            "type": "scattergeo"
           }
          ],
          "scattergl": [
           {
            "marker": {
             "colorbar": {
              "outlinewidth": 1,
              "tickcolor": "rgb(36,36,36)",
              "ticks": "outside"
             }
            },
            "type": "scattergl"
           }
          ],
          "scattermapbox": [
           {
            "marker": {
             "colorbar": {
              "outlinewidth": 1,
              "tickcolor": "rgb(36,36,36)",
              "ticks": "outside"
             }
            },
            "type": "scattermapbox"
           }
          ],
          "scatterpolar": [
           {
            "marker": {
             "colorbar": {
              "outlinewidth": 1,
              "tickcolor": "rgb(36,36,36)",
              "ticks": "outside"
             }
            },
            "type": "scatterpolar"
           }
          ],
          "scatterpolargl": [
           {
            "marker": {
             "colorbar": {
              "outlinewidth": 1,
              "tickcolor": "rgb(36,36,36)",
              "ticks": "outside"
             }
            },
            "type": "scatterpolargl"
           }
          ],
          "scatterternary": [
           {
            "marker": {
             "colorbar": {
              "outlinewidth": 1,
              "tickcolor": "rgb(36,36,36)",
              "ticks": "outside"
             }
            },
            "type": "scatterternary"
           }
          ],
          "surface": [
           {
            "colorbar": {
             "outlinewidth": 1,
             "tickcolor": "rgb(36,36,36)",
             "ticks": "outside"
            },
            "colorscale": [
             [
              0,
              "#440154"
             ],
             [
              0.1111111111111111,
              "#482878"
             ],
             [
              0.2222222222222222,
              "#3e4989"
             ],
             [
              0.3333333333333333,
              "#31688e"
             ],
             [
              0.4444444444444444,
              "#26828e"
             ],
             [
              0.5555555555555556,
              "#1f9e89"
             ],
             [
              0.6666666666666666,
              "#35b779"
             ],
             [
              0.7777777777777778,
              "#6ece58"
             ],
             [
              0.8888888888888888,
              "#b5de2b"
             ],
             [
              1,
              "#fde725"
             ]
            ],
            "type": "surface"
           }
          ],
          "table": [
           {
            "cells": {
             "fill": {
              "color": "rgb(237,237,237)"
             },
             "line": {
              "color": "white"
             }
            },
            "header": {
             "fill": {
              "color": "rgb(217,217,217)"
             },
             "line": {
              "color": "white"
             }
            },
            "type": "table"
           }
          ]
         },
         "layout": {
          "annotationdefaults": {
           "arrowhead": 0,
           "arrowwidth": 1
          },
          "coloraxis": {
           "colorbar": {
            "outlinewidth": 1,
            "tickcolor": "rgb(36,36,36)",
            "ticks": "outside"
           }
          },
          "colorscale": {
           "diverging": [
            [
             0,
             "rgb(103,0,31)"
            ],
            [
             0.1,
             "rgb(178,24,43)"
            ],
            [
             0.2,
             "rgb(214,96,77)"
            ],
            [
             0.3,
             "rgb(244,165,130)"
            ],
            [
             0.4,
             "rgb(253,219,199)"
            ],
            [
             0.5,
             "rgb(247,247,247)"
            ],
            [
             0.6,
             "rgb(209,229,240)"
            ],
            [
             0.7,
             "rgb(146,197,222)"
            ],
            [
             0.8,
             "rgb(67,147,195)"
            ],
            [
             0.9,
             "rgb(33,102,172)"
            ],
            [
             1,
             "rgb(5,48,97)"
            ]
           ],
           "sequential": [
            [
             0,
             "#440154"
            ],
            [
             0.1111111111111111,
             "#482878"
            ],
            [
             0.2222222222222222,
             "#3e4989"
            ],
            [
             0.3333333333333333,
             "#31688e"
            ],
            [
             0.4444444444444444,
             "#26828e"
            ],
            [
             0.5555555555555556,
             "#1f9e89"
            ],
            [
             0.6666666666666666,
             "#35b779"
            ],
            [
             0.7777777777777778,
             "#6ece58"
            ],
            [
             0.8888888888888888,
             "#b5de2b"
            ],
            [
             1,
             "#fde725"
            ]
           ],
           "sequentialminus": [
            [
             0,
             "#440154"
            ],
            [
             0.1111111111111111,
             "#482878"
            ],
            [
             0.2222222222222222,
             "#3e4989"
            ],
            [
             0.3333333333333333,
             "#31688e"
            ],
            [
             0.4444444444444444,
             "#26828e"
            ],
            [
             0.5555555555555556,
             "#1f9e89"
            ],
            [
             0.6666666666666666,
             "#35b779"
            ],
            [
             0.7777777777777778,
             "#6ece58"
            ],
            [
             0.8888888888888888,
             "#b5de2b"
            ],
            [
             1,
             "#fde725"
            ]
           ]
          },
          "colorway": [
           "#1F77B4",
           "#FF7F0E",
           "#2CA02C",
           "#D62728",
           "#9467BD",
           "#8C564B",
           "#E377C2",
           "#7F7F7F",
           "#BCBD22",
           "#17BECF"
          ],
          "font": {
           "color": "rgb(36,36,36)"
          },
          "geo": {
           "bgcolor": "white",
           "lakecolor": "white",
           "landcolor": "white",
           "showlakes": true,
           "showland": true,
           "subunitcolor": "white"
          },
          "hoverlabel": {
           "align": "left"
          },
          "hovermode": "closest",
          "mapbox": {
           "style": "light"
          },
          "paper_bgcolor": "white",
          "plot_bgcolor": "white",
          "polar": {
           "angularaxis": {
            "gridcolor": "rgb(232,232,232)",
            "linecolor": "rgb(36,36,36)",
            "showgrid": false,
            "showline": true,
            "ticks": "outside"
           },
           "bgcolor": "white",
           "radialaxis": {
            "gridcolor": "rgb(232,232,232)",
            "linecolor": "rgb(36,36,36)",
            "showgrid": false,
            "showline": true,
            "ticks": "outside"
           }
          },
          "scene": {
           "xaxis": {
            "backgroundcolor": "white",
            "gridcolor": "rgb(232,232,232)",
            "gridwidth": 2,
            "linecolor": "rgb(36,36,36)",
            "showbackground": true,
            "showgrid": false,
            "showline": true,
            "ticks": "outside",
            "zeroline": false,
            "zerolinecolor": "rgb(36,36,36)"
           },
           "yaxis": {
            "backgroundcolor": "white",
            "gridcolor": "rgb(232,232,232)",
            "gridwidth": 2,
            "linecolor": "rgb(36,36,36)",
            "showbackground": true,
            "showgrid": false,
            "showline": true,
            "ticks": "outside",
            "zeroline": false,
            "zerolinecolor": "rgb(36,36,36)"
           },
           "zaxis": {
            "backgroundcolor": "white",
            "gridcolor": "rgb(232,232,232)",
            "gridwidth": 2,
            "linecolor": "rgb(36,36,36)",
            "showbackground": true,
            "showgrid": false,
            "showline": true,
            "ticks": "outside",
            "zeroline": false,
            "zerolinecolor": "rgb(36,36,36)"
           }
          },
          "shapedefaults": {
           "fillcolor": "black",
           "line": {
            "width": 0
           },
           "opacity": 0.3
          },
          "ternary": {
           "aaxis": {
            "gridcolor": "rgb(232,232,232)",
            "linecolor": "rgb(36,36,36)",
            "showgrid": false,
            "showline": true,
            "ticks": "outside"
           },
           "baxis": {
            "gridcolor": "rgb(232,232,232)",
            "linecolor": "rgb(36,36,36)",
            "showgrid": false,
            "showline": true,
            "ticks": "outside"
           },
           "bgcolor": "white",
           "caxis": {
            "gridcolor": "rgb(232,232,232)",
            "linecolor": "rgb(36,36,36)",
            "showgrid": false,
            "showline": true,
            "ticks": "outside"
           }
          },
          "title": {
           "x": 0.05
          },
          "xaxis": {
           "automargin": true,
           "gridcolor": "rgb(232,232,232)",
           "linecolor": "rgb(36,36,36)",
           "showgrid": false,
           "showline": true,
           "ticks": "outside",
           "title": {
            "standoff": 15
           },
           "zeroline": false,
           "zerolinecolor": "rgb(36,36,36)"
          },
          "yaxis": {
           "automargin": true,
           "gridcolor": "rgb(232,232,232)",
           "linecolor": "rgb(36,36,36)",
           "showgrid": false,
           "showline": true,
           "ticks": "outside",
           "title": {
            "standoff": 15
           },
           "zeroline": false,
           "zerolinecolor": "rgb(36,36,36)"
          }
         }
        },
        "title": {
         "text": "Mix of protein in items (excluding Other)"
        },
        "xaxis": {
         "anchor": "y",
         "domain": [
          0,
          1
         ],
         "title": {
          "text": "% of non-other proteins"
         }
        },
        "yaxis": {
         "anchor": "x",
         "domain": [
          0,
          1
         ],
         "title": {
          "text": "Protein"
         }
        }
       }
      },
      "text/html": [
       "<div>                            <div id=\"a415298d-2d89-45fd-96da-13d2c7ed6afc\" class=\"plotly-graph-div\" style=\"height:525px; width:100%;\"></div>            <script type=\"text/javascript\">                require([\"plotly\"], function(Plotly) {                    window.PLOTLYENV=window.PLOTLYENV || {};                                    if (document.getElementById(\"a415298d-2d89-45fd-96da-13d2c7ed6afc\")) {                    Plotly.newPlot(                        \"a415298d-2d89-45fd-96da-13d2c7ed6afc\",                        [{\"alignmentgroup\": \"True\", \"hovertemplate\": \"% of non-other proteins=%{x}<br>Protein=%{y}<br>perc_non_other_format=%{text}<extra></extra>\", \"legendgroup\": \"\", \"marker\": {\"color\": \"#1F77B4\"}, \"name\": \"\", \"offsetgroup\": \"\", \"orientation\": \"h\", \"showlegend\": false, \"text\": [\"54.58%\", \"31.67%\", \"7.42%\", \"6.33%\"], \"textposition\": \"auto\", \"type\": \"bar\", \"x\": [0.5458362491252624, 0.3166550034989503, 0.0741777466759972, 0.06333100069979006], \"xaxis\": \"x\", \"y\": [\"Chicken\", \"Beef\", \"Veggie\", \"Pork\"], \"yaxis\": \"y\"}],                        {\"barmode\": \"relative\", \"legend\": {\"tracegroupgap\": 0}, \"template\": {\"data\": {\"bar\": [{\"error_x\": {\"color\": \"rgb(36,36,36)\"}, \"error_y\": {\"color\": \"rgb(36,36,36)\"}, \"marker\": {\"line\": {\"color\": \"white\", \"width\": 0.5}}, \"type\": \"bar\"}], \"barpolar\": [{\"marker\": {\"line\": {\"color\": \"white\", \"width\": 0.5}}, \"type\": \"barpolar\"}], \"carpet\": [{\"aaxis\": {\"endlinecolor\": \"rgb(36,36,36)\", \"gridcolor\": \"white\", \"linecolor\": \"white\", \"minorgridcolor\": \"white\", \"startlinecolor\": \"rgb(36,36,36)\"}, \"baxis\": {\"endlinecolor\": \"rgb(36,36,36)\", \"gridcolor\": \"white\", \"linecolor\": \"white\", \"minorgridcolor\": \"white\", \"startlinecolor\": \"rgb(36,36,36)\"}, \"type\": \"carpet\"}], \"choropleth\": [{\"colorbar\": {\"outlinewidth\": 1, \"tickcolor\": \"rgb(36,36,36)\", \"ticks\": \"outside\"}, \"type\": \"choropleth\"}], \"contour\": [{\"colorbar\": {\"outlinewidth\": 1, \"tickcolor\": \"rgb(36,36,36)\", \"ticks\": \"outside\"}, \"colorscale\": [[0.0, \"#440154\"], [0.1111111111111111, \"#482878\"], [0.2222222222222222, \"#3e4989\"], [0.3333333333333333, \"#31688e\"], [0.4444444444444444, \"#26828e\"], [0.5555555555555556, \"#1f9e89\"], [0.6666666666666666, \"#35b779\"], [0.7777777777777778, \"#6ece58\"], [0.8888888888888888, \"#b5de2b\"], [1.0, \"#fde725\"]], \"type\": \"contour\"}], \"contourcarpet\": [{\"colorbar\": {\"outlinewidth\": 1, \"tickcolor\": \"rgb(36,36,36)\", \"ticks\": \"outside\"}, \"type\": \"contourcarpet\"}], \"heatmap\": [{\"colorbar\": {\"outlinewidth\": 1, \"tickcolor\": \"rgb(36,36,36)\", \"ticks\": \"outside\"}, \"colorscale\": [[0.0, \"#440154\"], [0.1111111111111111, \"#482878\"], [0.2222222222222222, \"#3e4989\"], [0.3333333333333333, \"#31688e\"], [0.4444444444444444, \"#26828e\"], [0.5555555555555556, \"#1f9e89\"], [0.6666666666666666, \"#35b779\"], [0.7777777777777778, \"#6ece58\"], [0.8888888888888888, \"#b5de2b\"], [1.0, \"#fde725\"]], \"type\": \"heatmap\"}], \"heatmapgl\": [{\"colorbar\": {\"outlinewidth\": 1, \"tickcolor\": \"rgb(36,36,36)\", \"ticks\": \"outside\"}, \"colorscale\": [[0.0, \"#440154\"], [0.1111111111111111, \"#482878\"], [0.2222222222222222, \"#3e4989\"], [0.3333333333333333, \"#31688e\"], [0.4444444444444444, \"#26828e\"], [0.5555555555555556, \"#1f9e89\"], [0.6666666666666666, \"#35b779\"], [0.7777777777777778, \"#6ece58\"], [0.8888888888888888, \"#b5de2b\"], [1.0, \"#fde725\"]], \"type\": \"heatmapgl\"}], \"histogram\": [{\"marker\": {\"line\": {\"color\": \"white\", \"width\": 0.6}}, \"type\": \"histogram\"}], \"histogram2d\": [{\"colorbar\": {\"outlinewidth\": 1, \"tickcolor\": \"rgb(36,36,36)\", \"ticks\": \"outside\"}, \"colorscale\": [[0.0, \"#440154\"], [0.1111111111111111, \"#482878\"], [0.2222222222222222, \"#3e4989\"], [0.3333333333333333, \"#31688e\"], [0.4444444444444444, \"#26828e\"], [0.5555555555555556, \"#1f9e89\"], [0.6666666666666666, \"#35b779\"], [0.7777777777777778, \"#6ece58\"], [0.8888888888888888, \"#b5de2b\"], [1.0, \"#fde725\"]], \"type\": \"histogram2d\"}], \"histogram2dcontour\": [{\"colorbar\": {\"outlinewidth\": 1, \"tickcolor\": \"rgb(36,36,36)\", \"ticks\": \"outside\"}, \"colorscale\": [[0.0, \"#440154\"], [0.1111111111111111, \"#482878\"], [0.2222222222222222, \"#3e4989\"], [0.3333333333333333, \"#31688e\"], [0.4444444444444444, \"#26828e\"], [0.5555555555555556, \"#1f9e89\"], [0.6666666666666666, \"#35b779\"], [0.7777777777777778, \"#6ece58\"], [0.8888888888888888, \"#b5de2b\"], [1.0, \"#fde725\"]], \"type\": \"histogram2dcontour\"}], \"mesh3d\": [{\"colorbar\": {\"outlinewidth\": 1, \"tickcolor\": \"rgb(36,36,36)\", \"ticks\": \"outside\"}, \"type\": \"mesh3d\"}], \"parcoords\": [{\"line\": {\"colorbar\": {\"outlinewidth\": 1, \"tickcolor\": \"rgb(36,36,36)\", \"ticks\": \"outside\"}}, \"type\": \"parcoords\"}], \"pie\": [{\"automargin\": true, \"type\": \"pie\"}], \"scatter\": [{\"marker\": {\"colorbar\": {\"outlinewidth\": 1, \"tickcolor\": \"rgb(36,36,36)\", \"ticks\": \"outside\"}}, \"type\": \"scatter\"}], \"scatter3d\": [{\"line\": {\"colorbar\": {\"outlinewidth\": 1, \"tickcolor\": \"rgb(36,36,36)\", \"ticks\": \"outside\"}}, \"marker\": {\"colorbar\": {\"outlinewidth\": 1, \"tickcolor\": \"rgb(36,36,36)\", \"ticks\": \"outside\"}}, \"type\": \"scatter3d\"}], \"scattercarpet\": [{\"marker\": {\"colorbar\": {\"outlinewidth\": 1, \"tickcolor\": \"rgb(36,36,36)\", \"ticks\": \"outside\"}}, \"type\": \"scattercarpet\"}], \"scattergeo\": [{\"marker\": {\"colorbar\": {\"outlinewidth\": 1, \"tickcolor\": \"rgb(36,36,36)\", \"ticks\": \"outside\"}}, \"type\": \"scattergeo\"}], \"scattergl\": [{\"marker\": {\"colorbar\": {\"outlinewidth\": 1, \"tickcolor\": \"rgb(36,36,36)\", \"ticks\": \"outside\"}}, \"type\": \"scattergl\"}], \"scattermapbox\": [{\"marker\": {\"colorbar\": {\"outlinewidth\": 1, \"tickcolor\": \"rgb(36,36,36)\", \"ticks\": \"outside\"}}, \"type\": \"scattermapbox\"}], \"scatterpolar\": [{\"marker\": {\"colorbar\": {\"outlinewidth\": 1, \"tickcolor\": \"rgb(36,36,36)\", \"ticks\": \"outside\"}}, \"type\": \"scatterpolar\"}], \"scatterpolargl\": [{\"marker\": {\"colorbar\": {\"outlinewidth\": 1, \"tickcolor\": \"rgb(36,36,36)\", \"ticks\": \"outside\"}}, \"type\": \"scatterpolargl\"}], \"scatterternary\": [{\"marker\": {\"colorbar\": {\"outlinewidth\": 1, \"tickcolor\": \"rgb(36,36,36)\", \"ticks\": \"outside\"}}, \"type\": \"scatterternary\"}], \"surface\": [{\"colorbar\": {\"outlinewidth\": 1, \"tickcolor\": \"rgb(36,36,36)\", \"ticks\": \"outside\"}, \"colorscale\": [[0.0, \"#440154\"], [0.1111111111111111, \"#482878\"], [0.2222222222222222, \"#3e4989\"], [0.3333333333333333, \"#31688e\"], [0.4444444444444444, \"#26828e\"], [0.5555555555555556, \"#1f9e89\"], [0.6666666666666666, \"#35b779\"], [0.7777777777777778, \"#6ece58\"], [0.8888888888888888, \"#b5de2b\"], [1.0, \"#fde725\"]], \"type\": \"surface\"}], \"table\": [{\"cells\": {\"fill\": {\"color\": \"rgb(237,237,237)\"}, \"line\": {\"color\": \"white\"}}, \"header\": {\"fill\": {\"color\": \"rgb(217,217,217)\"}, \"line\": {\"color\": \"white\"}}, \"type\": \"table\"}]}, \"layout\": {\"annotationdefaults\": {\"arrowhead\": 0, \"arrowwidth\": 1}, \"coloraxis\": {\"colorbar\": {\"outlinewidth\": 1, \"tickcolor\": \"rgb(36,36,36)\", \"ticks\": \"outside\"}}, \"colorscale\": {\"diverging\": [[0.0, \"rgb(103,0,31)\"], [0.1, \"rgb(178,24,43)\"], [0.2, \"rgb(214,96,77)\"], [0.3, \"rgb(244,165,130)\"], [0.4, \"rgb(253,219,199)\"], [0.5, \"rgb(247,247,247)\"], [0.6, \"rgb(209,229,240)\"], [0.7, \"rgb(146,197,222)\"], [0.8, \"rgb(67,147,195)\"], [0.9, \"rgb(33,102,172)\"], [1.0, \"rgb(5,48,97)\"]], \"sequential\": [[0.0, \"#440154\"], [0.1111111111111111, \"#482878\"], [0.2222222222222222, \"#3e4989\"], [0.3333333333333333, \"#31688e\"], [0.4444444444444444, \"#26828e\"], [0.5555555555555556, \"#1f9e89\"], [0.6666666666666666, \"#35b779\"], [0.7777777777777778, \"#6ece58\"], [0.8888888888888888, \"#b5de2b\"], [1.0, \"#fde725\"]], \"sequentialminus\": [[0.0, \"#440154\"], [0.1111111111111111, \"#482878\"], [0.2222222222222222, \"#3e4989\"], [0.3333333333333333, \"#31688e\"], [0.4444444444444444, \"#26828e\"], [0.5555555555555556, \"#1f9e89\"], [0.6666666666666666, \"#35b779\"], [0.7777777777777778, \"#6ece58\"], [0.8888888888888888, \"#b5de2b\"], [1.0, \"#fde725\"]]}, \"colorway\": [\"#1F77B4\", \"#FF7F0E\", \"#2CA02C\", \"#D62728\", \"#9467BD\", \"#8C564B\", \"#E377C2\", \"#7F7F7F\", \"#BCBD22\", \"#17BECF\"], \"font\": {\"color\": \"rgb(36,36,36)\"}, \"geo\": {\"bgcolor\": \"white\", \"lakecolor\": \"white\", \"landcolor\": \"white\", \"showlakes\": true, \"showland\": true, \"subunitcolor\": \"white\"}, \"hoverlabel\": {\"align\": \"left\"}, \"hovermode\": \"closest\", \"mapbox\": {\"style\": \"light\"}, \"paper_bgcolor\": \"white\", \"plot_bgcolor\": \"white\", \"polar\": {\"angularaxis\": {\"gridcolor\": \"rgb(232,232,232)\", \"linecolor\": \"rgb(36,36,36)\", \"showgrid\": false, \"showline\": true, \"ticks\": \"outside\"}, \"bgcolor\": \"white\", \"radialaxis\": {\"gridcolor\": \"rgb(232,232,232)\", \"linecolor\": \"rgb(36,36,36)\", \"showgrid\": false, \"showline\": true, \"ticks\": \"outside\"}}, \"scene\": {\"xaxis\": {\"backgroundcolor\": \"white\", \"gridcolor\": \"rgb(232,232,232)\", \"gridwidth\": 2, \"linecolor\": \"rgb(36,36,36)\", \"showbackground\": true, \"showgrid\": false, \"showline\": true, \"ticks\": \"outside\", \"zeroline\": false, \"zerolinecolor\": \"rgb(36,36,36)\"}, \"yaxis\": {\"backgroundcolor\": \"white\", \"gridcolor\": \"rgb(232,232,232)\", \"gridwidth\": 2, \"linecolor\": \"rgb(36,36,36)\", \"showbackground\": true, \"showgrid\": false, \"showline\": true, \"ticks\": \"outside\", \"zeroline\": false, \"zerolinecolor\": \"rgb(36,36,36)\"}, \"zaxis\": {\"backgroundcolor\": \"white\", \"gridcolor\": \"rgb(232,232,232)\", \"gridwidth\": 2, \"linecolor\": \"rgb(36,36,36)\", \"showbackground\": true, \"showgrid\": false, \"showline\": true, \"ticks\": \"outside\", \"zeroline\": false, \"zerolinecolor\": \"rgb(36,36,36)\"}}, \"shapedefaults\": {\"fillcolor\": \"black\", \"line\": {\"width\": 0}, \"opacity\": 0.3}, \"ternary\": {\"aaxis\": {\"gridcolor\": \"rgb(232,232,232)\", \"linecolor\": \"rgb(36,36,36)\", \"showgrid\": false, \"showline\": true, \"ticks\": \"outside\"}, \"baxis\": {\"gridcolor\": \"rgb(232,232,232)\", \"linecolor\": \"rgb(36,36,36)\", \"showgrid\": false, \"showline\": true, \"ticks\": \"outside\"}, \"bgcolor\": \"white\", \"caxis\": {\"gridcolor\": \"rgb(232,232,232)\", \"linecolor\": \"rgb(36,36,36)\", \"showgrid\": false, \"showline\": true, \"ticks\": \"outside\"}}, \"title\": {\"x\": 0.05}, \"xaxis\": {\"automargin\": true, \"gridcolor\": \"rgb(232,232,232)\", \"linecolor\": \"rgb(36,36,36)\", \"showgrid\": false, \"showline\": true, \"ticks\": \"outside\", \"title\": {\"standoff\": 15}, \"zeroline\": false, \"zerolinecolor\": \"rgb(36,36,36)\"}, \"yaxis\": {\"automargin\": true, \"gridcolor\": \"rgb(232,232,232)\", \"linecolor\": \"rgb(36,36,36)\", \"showgrid\": false, \"showline\": true, \"ticks\": \"outside\", \"title\": {\"standoff\": 15}, \"zeroline\": false, \"zerolinecolor\": \"rgb(36,36,36)\"}}}, \"title\": {\"text\": \"Mix of protein in items (excluding Other)\"}, \"xaxis\": {\"anchor\": \"y\", \"domain\": [0.0, 1.0], \"title\": {\"text\": \"% of non-other proteins\"}}, \"yaxis\": {\"anchor\": \"x\", \"domain\": [0.0, 1.0], \"title\": {\"text\": \"Protein\"}}},                        {\"responsive\": true}                    ).then(function(){\n",
       "                            \n",
       "var gd = document.getElementById('a415298d-2d89-45fd-96da-13d2c7ed6afc');\n",
       "var x = new MutationObserver(function (mutations, observer) {{\n",
       "        var display = window.getComputedStyle(gd).display;\n",
       "        if (!display || display === 'none') {{\n",
       "            console.log([gd, 'removed!']);\n",
       "            Plotly.purge(gd);\n",
       "            observer.disconnect();\n",
       "        }}\n",
       "}});\n",
       "\n",
       "// Listen for the removal of the full notebook cells\n",
       "var notebookContainer = gd.closest('#notebook-container');\n",
       "if (notebookContainer) {{\n",
       "    x.observe(notebookContainer, {childList: true});\n",
       "}}\n",
       "\n",
       "// Listen for the clearing of the current output cell\n",
       "var outputEl = gd.closest('.output');\n",
       "if (outputEl) {{\n",
       "    x.observe(outputEl, {childList: true});\n",
       "}}\n",
       "\n",
       "                        })                };                });            </script>        </div>"
      ]
     },
     "metadata": {},
     "output_type": "display_data"
    }
   ],
   "source": [
    "data_protein_prop = df['protein'][(df.protein != 'Other')].value_counts(normalize = True).reset_index()\n",
    "data_protein_prop.columns = ['protein','perc_non_other']\n",
    "# data_protein_prop.style.format({'perc_non_other':\"{:.2%}\"})\n",
    "data_protein_prop['perc_non_other_format'] = data_protein_prop['perc_non_other'].apply(lambda x: \"{:.2%}\".format(x))\n",
    "data_protein_prop\n",
    "\n",
    "fig = px.bar(data_protein_prop, \n",
    "             x='perc_non_other',y='protein',\n",
    "             title='Mix of protein in items (excluding Other)',\n",
    "             text='perc_non_other_format',\n",
    "             labels={'protein':\"Protein\",'perc_non_other':\"% of non-other proteins\"},\n",
    "             template='simple_white',\n",
    "             orientation='h'\n",
    "            )\n",
    "fig.show()"
   ]
  },
  {
   "cell_type": "code",
   "execution_count": 164,
   "metadata": {},
   "outputs": [],
   "source": [
    "# Create a column calling out Bowl / Burrito / Tacos or Other\n",
    "\n",
    "conditions = [\n",
    "    df['item_name'].str.contains('Bowl'),\n",
    "    df['item_name'].str.contains('Burrito'),  \n",
    "    df['item_name'].str.contains('Tacos'), \n",
    "]\n",
    "\n",
    "\n",
    "results = [\n",
    "    'Bowls',\n",
    "    'Burritos',\n",
    "    'Tacos'   \n",
    "]\n",
    " \n",
    "df['form_factor'] = np.select(conditions, results, 'Other')   "
   ]
  },
  {
   "cell_type": "code",
   "execution_count": 165,
   "metadata": {},
   "outputs": [
    {
     "data": {
      "text/html": [
       "<div>\n",
       "<style scoped>\n",
       "    .dataframe tbody tr th:only-of-type {\n",
       "        vertical-align: middle;\n",
       "    }\n",
       "\n",
       "    .dataframe tbody tr th {\n",
       "        vertical-align: top;\n",
       "    }\n",
       "\n",
       "    .dataframe thead th {\n",
       "        text-align: right;\n",
       "    }\n",
       "</style>\n",
       "<table border=\"1\" class=\"dataframe\">\n",
       "  <thead>\n",
       "    <tr style=\"text-align: right;\">\n",
       "      <th></th>\n",
       "      <th>index</th>\n",
       "      <th>form_factor</th>\n",
       "    </tr>\n",
       "  </thead>\n",
       "  <tbody>\n",
       "    <tr>\n",
       "      <th>0</th>\n",
       "      <td>Other</td>\n",
       "      <td>1774</td>\n",
       "    </tr>\n",
       "    <tr>\n",
       "      <th>1</th>\n",
       "      <td>Bowls</td>\n",
       "      <td>1331</td>\n",
       "    </tr>\n",
       "    <tr>\n",
       "      <th>2</th>\n",
       "      <td>Burritos</td>\n",
       "      <td>1172</td>\n",
       "    </tr>\n",
       "    <tr>\n",
       "      <th>3</th>\n",
       "      <td>Tacos</td>\n",
       "      <td>345</td>\n",
       "    </tr>\n",
       "  </tbody>\n",
       "</table>\n",
       "</div>"
      ],
      "text/plain": [
       "      index  form_factor\n",
       "0     Other         1774\n",
       "1     Bowls         1331\n",
       "2  Burritos         1172\n",
       "3     Tacos          345"
      ]
     },
     "execution_count": 165,
     "metadata": {},
     "output_type": "execute_result"
    }
   ],
   "source": [
    "df['form_factor'].value_counts().reset_index()"
   ]
  },
  {
   "cell_type": "code",
   "execution_count": 166,
   "metadata": {},
   "outputs": [
    {
     "data": {
      "application/vnd.plotly.v1+json": {
       "config": {
        "plotlyServerURL": "https://plot.ly"
       },
       "data": [
        {
         "alignmentgroup": "True",
         "hovertemplate": "Count of items=%{x}<br>Form Factor=%{y}<br>form_factor_formatted=%{text}<extra></extra>",
         "legendgroup": "",
         "marker": {
          "color": "#1F77B4"
         },
         "name": "",
         "offsetgroup": "",
         "orientation": "h",
         "showlegend": false,
         "text": [
          "1,774",
          "1,331",
          "1,172",
          "345"
         ],
         "textposition": "auto",
         "type": "bar",
         "x": [
          1774,
          1331,
          1172,
          345
         ],
         "xaxis": "x",
         "y": [
          "Other",
          "Bowls",
          "Burritos",
          "Tacos"
         ],
         "yaxis": "y"
        }
       ],
       "layout": {
        "barmode": "relative",
        "legend": {
         "tracegroupgap": 0
        },
        "template": {
         "data": {
          "bar": [
           {
            "error_x": {
             "color": "rgb(36,36,36)"
            },
            "error_y": {
             "color": "rgb(36,36,36)"
            },
            "marker": {
             "line": {
              "color": "white",
              "width": 0.5
             }
            },
            "type": "bar"
           }
          ],
          "barpolar": [
           {
            "marker": {
             "line": {
              "color": "white",
              "width": 0.5
             }
            },
            "type": "barpolar"
           }
          ],
          "carpet": [
           {
            "aaxis": {
             "endlinecolor": "rgb(36,36,36)",
             "gridcolor": "white",
             "linecolor": "white",
             "minorgridcolor": "white",
             "startlinecolor": "rgb(36,36,36)"
            },
            "baxis": {
             "endlinecolor": "rgb(36,36,36)",
             "gridcolor": "white",
             "linecolor": "white",
             "minorgridcolor": "white",
             "startlinecolor": "rgb(36,36,36)"
            },
            "type": "carpet"
           }
          ],
          "choropleth": [
           {
            "colorbar": {
             "outlinewidth": 1,
             "tickcolor": "rgb(36,36,36)",
             "ticks": "outside"
            },
            "type": "choropleth"
           }
          ],
          "contour": [
           {
            "colorbar": {
             "outlinewidth": 1,
             "tickcolor": "rgb(36,36,36)",
             "ticks": "outside"
            },
            "colorscale": [
             [
              0,
              "#440154"
             ],
             [
              0.1111111111111111,
              "#482878"
             ],
             [
              0.2222222222222222,
              "#3e4989"
             ],
             [
              0.3333333333333333,
              "#31688e"
             ],
             [
              0.4444444444444444,
              "#26828e"
             ],
             [
              0.5555555555555556,
              "#1f9e89"
             ],
             [
              0.6666666666666666,
              "#35b779"
             ],
             [
              0.7777777777777778,
              "#6ece58"
             ],
             [
              0.8888888888888888,
              "#b5de2b"
             ],
             [
              1,
              "#fde725"
             ]
            ],
            "type": "contour"
           }
          ],
          "contourcarpet": [
           {
            "colorbar": {
             "outlinewidth": 1,
             "tickcolor": "rgb(36,36,36)",
             "ticks": "outside"
            },
            "type": "contourcarpet"
           }
          ],
          "heatmap": [
           {
            "colorbar": {
             "outlinewidth": 1,
             "tickcolor": "rgb(36,36,36)",
             "ticks": "outside"
            },
            "colorscale": [
             [
              0,
              "#440154"
             ],
             [
              0.1111111111111111,
              "#482878"
             ],
             [
              0.2222222222222222,
              "#3e4989"
             ],
             [
              0.3333333333333333,
              "#31688e"
             ],
             [
              0.4444444444444444,
              "#26828e"
             ],
             [
              0.5555555555555556,
              "#1f9e89"
             ],
             [
              0.6666666666666666,
              "#35b779"
             ],
             [
              0.7777777777777778,
              "#6ece58"
             ],
             [
              0.8888888888888888,
              "#b5de2b"
             ],
             [
              1,
              "#fde725"
             ]
            ],
            "type": "heatmap"
           }
          ],
          "heatmapgl": [
           {
            "colorbar": {
             "outlinewidth": 1,
             "tickcolor": "rgb(36,36,36)",
             "ticks": "outside"
            },
            "colorscale": [
             [
              0,
              "#440154"
             ],
             [
              0.1111111111111111,
              "#482878"
             ],
             [
              0.2222222222222222,
              "#3e4989"
             ],
             [
              0.3333333333333333,
              "#31688e"
             ],
             [
              0.4444444444444444,
              "#26828e"
             ],
             [
              0.5555555555555556,
              "#1f9e89"
             ],
             [
              0.6666666666666666,
              "#35b779"
             ],
             [
              0.7777777777777778,
              "#6ece58"
             ],
             [
              0.8888888888888888,
              "#b5de2b"
             ],
             [
              1,
              "#fde725"
             ]
            ],
            "type": "heatmapgl"
           }
          ],
          "histogram": [
           {
            "marker": {
             "line": {
              "color": "white",
              "width": 0.6
             }
            },
            "type": "histogram"
           }
          ],
          "histogram2d": [
           {
            "colorbar": {
             "outlinewidth": 1,
             "tickcolor": "rgb(36,36,36)",
             "ticks": "outside"
            },
            "colorscale": [
             [
              0,
              "#440154"
             ],
             [
              0.1111111111111111,
              "#482878"
             ],
             [
              0.2222222222222222,
              "#3e4989"
             ],
             [
              0.3333333333333333,
              "#31688e"
             ],
             [
              0.4444444444444444,
              "#26828e"
             ],
             [
              0.5555555555555556,
              "#1f9e89"
             ],
             [
              0.6666666666666666,
              "#35b779"
             ],
             [
              0.7777777777777778,
              "#6ece58"
             ],
             [
              0.8888888888888888,
              "#b5de2b"
             ],
             [
              1,
              "#fde725"
             ]
            ],
            "type": "histogram2d"
           }
          ],
          "histogram2dcontour": [
           {
            "colorbar": {
             "outlinewidth": 1,
             "tickcolor": "rgb(36,36,36)",
             "ticks": "outside"
            },
            "colorscale": [
             [
              0,
              "#440154"
             ],
             [
              0.1111111111111111,
              "#482878"
             ],
             [
              0.2222222222222222,
              "#3e4989"
             ],
             [
              0.3333333333333333,
              "#31688e"
             ],
             [
              0.4444444444444444,
              "#26828e"
             ],
             [
              0.5555555555555556,
              "#1f9e89"
             ],
             [
              0.6666666666666666,
              "#35b779"
             ],
             [
              0.7777777777777778,
              "#6ece58"
             ],
             [
              0.8888888888888888,
              "#b5de2b"
             ],
             [
              1,
              "#fde725"
             ]
            ],
            "type": "histogram2dcontour"
           }
          ],
          "mesh3d": [
           {
            "colorbar": {
             "outlinewidth": 1,
             "tickcolor": "rgb(36,36,36)",
             "ticks": "outside"
            },
            "type": "mesh3d"
           }
          ],
          "parcoords": [
           {
            "line": {
             "colorbar": {
              "outlinewidth": 1,
              "tickcolor": "rgb(36,36,36)",
              "ticks": "outside"
             }
            },
            "type": "parcoords"
           }
          ],
          "pie": [
           {
            "automargin": true,
            "type": "pie"
           }
          ],
          "scatter": [
           {
            "marker": {
             "colorbar": {
              "outlinewidth": 1,
              "tickcolor": "rgb(36,36,36)",
              "ticks": "outside"
             }
            },
            "type": "scatter"
           }
          ],
          "scatter3d": [
           {
            "line": {
             "colorbar": {
              "outlinewidth": 1,
              "tickcolor": "rgb(36,36,36)",
              "ticks": "outside"
             }
            },
            "marker": {
             "colorbar": {
              "outlinewidth": 1,
              "tickcolor": "rgb(36,36,36)",
              "ticks": "outside"
             }
            },
            "type": "scatter3d"
           }
          ],
          "scattercarpet": [
           {
            "marker": {
             "colorbar": {
              "outlinewidth": 1,
              "tickcolor": "rgb(36,36,36)",
              "ticks": "outside"
             }
            },
            "type": "scattercarpet"
           }
          ],
          "scattergeo": [
           {
            "marker": {
             "colorbar": {
              "outlinewidth": 1,
              "tickcolor": "rgb(36,36,36)",
              "ticks": "outside"
             }
            },
            "type": "scattergeo"
           }
          ],
          "scattergl": [
           {
            "marker": {
             "colorbar": {
              "outlinewidth": 1,
              "tickcolor": "rgb(36,36,36)",
              "ticks": "outside"
             }
            },
            "type": "scattergl"
           }
          ],
          "scattermapbox": [
           {
            "marker": {
             "colorbar": {
              "outlinewidth": 1,
              "tickcolor": "rgb(36,36,36)",
              "ticks": "outside"
             }
            },
            "type": "scattermapbox"
           }
          ],
          "scatterpolar": [
           {
            "marker": {
             "colorbar": {
              "outlinewidth": 1,
              "tickcolor": "rgb(36,36,36)",
              "ticks": "outside"
             }
            },
            "type": "scatterpolar"
           }
          ],
          "scatterpolargl": [
           {
            "marker": {
             "colorbar": {
              "outlinewidth": 1,
              "tickcolor": "rgb(36,36,36)",
              "ticks": "outside"
             }
            },
            "type": "scatterpolargl"
           }
          ],
          "scatterternary": [
           {
            "marker": {
             "colorbar": {
              "outlinewidth": 1,
              "tickcolor": "rgb(36,36,36)",
              "ticks": "outside"
             }
            },
            "type": "scatterternary"
           }
          ],
          "surface": [
           {
            "colorbar": {
             "outlinewidth": 1,
             "tickcolor": "rgb(36,36,36)",
             "ticks": "outside"
            },
            "colorscale": [
             [
              0,
              "#440154"
             ],
             [
              0.1111111111111111,
              "#482878"
             ],
             [
              0.2222222222222222,
              "#3e4989"
             ],
             [
              0.3333333333333333,
              "#31688e"
             ],
             [
              0.4444444444444444,
              "#26828e"
             ],
             [
              0.5555555555555556,
              "#1f9e89"
             ],
             [
              0.6666666666666666,
              "#35b779"
             ],
             [
              0.7777777777777778,
              "#6ece58"
             ],
             [
              0.8888888888888888,
              "#b5de2b"
             ],
             [
              1,
              "#fde725"
             ]
            ],
            "type": "surface"
           }
          ],
          "table": [
           {
            "cells": {
             "fill": {
              "color": "rgb(237,237,237)"
             },
             "line": {
              "color": "white"
             }
            },
            "header": {
             "fill": {
              "color": "rgb(217,217,217)"
             },
             "line": {
              "color": "white"
             }
            },
            "type": "table"
           }
          ]
         },
         "layout": {
          "annotationdefaults": {
           "arrowhead": 0,
           "arrowwidth": 1
          },
          "coloraxis": {
           "colorbar": {
            "outlinewidth": 1,
            "tickcolor": "rgb(36,36,36)",
            "ticks": "outside"
           }
          },
          "colorscale": {
           "diverging": [
            [
             0,
             "rgb(103,0,31)"
            ],
            [
             0.1,
             "rgb(178,24,43)"
            ],
            [
             0.2,
             "rgb(214,96,77)"
            ],
            [
             0.3,
             "rgb(244,165,130)"
            ],
            [
             0.4,
             "rgb(253,219,199)"
            ],
            [
             0.5,
             "rgb(247,247,247)"
            ],
            [
             0.6,
             "rgb(209,229,240)"
            ],
            [
             0.7,
             "rgb(146,197,222)"
            ],
            [
             0.8,
             "rgb(67,147,195)"
            ],
            [
             0.9,
             "rgb(33,102,172)"
            ],
            [
             1,
             "rgb(5,48,97)"
            ]
           ],
           "sequential": [
            [
             0,
             "#440154"
            ],
            [
             0.1111111111111111,
             "#482878"
            ],
            [
             0.2222222222222222,
             "#3e4989"
            ],
            [
             0.3333333333333333,
             "#31688e"
            ],
            [
             0.4444444444444444,
             "#26828e"
            ],
            [
             0.5555555555555556,
             "#1f9e89"
            ],
            [
             0.6666666666666666,
             "#35b779"
            ],
            [
             0.7777777777777778,
             "#6ece58"
            ],
            [
             0.8888888888888888,
             "#b5de2b"
            ],
            [
             1,
             "#fde725"
            ]
           ],
           "sequentialminus": [
            [
             0,
             "#440154"
            ],
            [
             0.1111111111111111,
             "#482878"
            ],
            [
             0.2222222222222222,
             "#3e4989"
            ],
            [
             0.3333333333333333,
             "#31688e"
            ],
            [
             0.4444444444444444,
             "#26828e"
            ],
            [
             0.5555555555555556,
             "#1f9e89"
            ],
            [
             0.6666666666666666,
             "#35b779"
            ],
            [
             0.7777777777777778,
             "#6ece58"
            ],
            [
             0.8888888888888888,
             "#b5de2b"
            ],
            [
             1,
             "#fde725"
            ]
           ]
          },
          "colorway": [
           "#1F77B4",
           "#FF7F0E",
           "#2CA02C",
           "#D62728",
           "#9467BD",
           "#8C564B",
           "#E377C2",
           "#7F7F7F",
           "#BCBD22",
           "#17BECF"
          ],
          "font": {
           "color": "rgb(36,36,36)"
          },
          "geo": {
           "bgcolor": "white",
           "lakecolor": "white",
           "landcolor": "white",
           "showlakes": true,
           "showland": true,
           "subunitcolor": "white"
          },
          "hoverlabel": {
           "align": "left"
          },
          "hovermode": "closest",
          "mapbox": {
           "style": "light"
          },
          "paper_bgcolor": "white",
          "plot_bgcolor": "white",
          "polar": {
           "angularaxis": {
            "gridcolor": "rgb(232,232,232)",
            "linecolor": "rgb(36,36,36)",
            "showgrid": false,
            "showline": true,
            "ticks": "outside"
           },
           "bgcolor": "white",
           "radialaxis": {
            "gridcolor": "rgb(232,232,232)",
            "linecolor": "rgb(36,36,36)",
            "showgrid": false,
            "showline": true,
            "ticks": "outside"
           }
          },
          "scene": {
           "xaxis": {
            "backgroundcolor": "white",
            "gridcolor": "rgb(232,232,232)",
            "gridwidth": 2,
            "linecolor": "rgb(36,36,36)",
            "showbackground": true,
            "showgrid": false,
            "showline": true,
            "ticks": "outside",
            "zeroline": false,
            "zerolinecolor": "rgb(36,36,36)"
           },
           "yaxis": {
            "backgroundcolor": "white",
            "gridcolor": "rgb(232,232,232)",
            "gridwidth": 2,
            "linecolor": "rgb(36,36,36)",
            "showbackground": true,
            "showgrid": false,
            "showline": true,
            "ticks": "outside",
            "zeroline": false,
            "zerolinecolor": "rgb(36,36,36)"
           },
           "zaxis": {
            "backgroundcolor": "white",
            "gridcolor": "rgb(232,232,232)",
            "gridwidth": 2,
            "linecolor": "rgb(36,36,36)",
            "showbackground": true,
            "showgrid": false,
            "showline": true,
            "ticks": "outside",
            "zeroline": false,
            "zerolinecolor": "rgb(36,36,36)"
           }
          },
          "shapedefaults": {
           "fillcolor": "black",
           "line": {
            "width": 0
           },
           "opacity": 0.3
          },
          "ternary": {
           "aaxis": {
            "gridcolor": "rgb(232,232,232)",
            "linecolor": "rgb(36,36,36)",
            "showgrid": false,
            "showline": true,
            "ticks": "outside"
           },
           "baxis": {
            "gridcolor": "rgb(232,232,232)",
            "linecolor": "rgb(36,36,36)",
            "showgrid": false,
            "showline": true,
            "ticks": "outside"
           },
           "bgcolor": "white",
           "caxis": {
            "gridcolor": "rgb(232,232,232)",
            "linecolor": "rgb(36,36,36)",
            "showgrid": false,
            "showline": true,
            "ticks": "outside"
           }
          },
          "title": {
           "x": 0.05
          },
          "xaxis": {
           "automargin": true,
           "gridcolor": "rgb(232,232,232)",
           "linecolor": "rgb(36,36,36)",
           "showgrid": false,
           "showline": true,
           "ticks": "outside",
           "title": {
            "standoff": 15
           },
           "zeroline": false,
           "zerolinecolor": "rgb(36,36,36)"
          },
          "yaxis": {
           "automargin": true,
           "gridcolor": "rgb(232,232,232)",
           "linecolor": "rgb(36,36,36)",
           "showgrid": false,
           "showline": true,
           "ticks": "outside",
           "title": {
            "standoff": 15
           },
           "zeroline": false,
           "zerolinecolor": "rgb(36,36,36)"
          }
         }
        },
        "title": {
         "text": "Form Factor of items purchased"
        },
        "xaxis": {
         "anchor": "y",
         "domain": [
          0,
          1
         ],
         "title": {
          "text": "Count of items"
         }
        },
        "yaxis": {
         "anchor": "x",
         "domain": [
          0,
          1
         ],
         "title": {
          "text": "Form Factor"
         }
        }
       }
      },
      "text/html": [
       "<div>                            <div id=\"837ae96c-e430-4751-9eb0-a7b5d27d215f\" class=\"plotly-graph-div\" style=\"height:525px; width:100%;\"></div>            <script type=\"text/javascript\">                require([\"plotly\"], function(Plotly) {                    window.PLOTLYENV=window.PLOTLYENV || {};                                    if (document.getElementById(\"837ae96c-e430-4751-9eb0-a7b5d27d215f\")) {                    Plotly.newPlot(                        \"837ae96c-e430-4751-9eb0-a7b5d27d215f\",                        [{\"alignmentgroup\": \"True\", \"hovertemplate\": \"Count of items=%{x}<br>Form Factor=%{y}<br>form_factor_formatted=%{text}<extra></extra>\", \"legendgroup\": \"\", \"marker\": {\"color\": \"#1F77B4\"}, \"name\": \"\", \"offsetgroup\": \"\", \"orientation\": \"h\", \"showlegend\": false, \"text\": [\"1,774\", \"1,331\", \"1,172\", \"345\"], \"textposition\": \"auto\", \"type\": \"bar\", \"x\": [1774, 1331, 1172, 345], \"xaxis\": \"x\", \"y\": [\"Other\", \"Bowls\", \"Burritos\", \"Tacos\"], \"yaxis\": \"y\"}],                        {\"barmode\": \"relative\", \"legend\": {\"tracegroupgap\": 0}, \"template\": {\"data\": {\"bar\": [{\"error_x\": {\"color\": \"rgb(36,36,36)\"}, \"error_y\": {\"color\": \"rgb(36,36,36)\"}, \"marker\": {\"line\": {\"color\": \"white\", \"width\": 0.5}}, \"type\": \"bar\"}], \"barpolar\": [{\"marker\": {\"line\": {\"color\": \"white\", \"width\": 0.5}}, \"type\": \"barpolar\"}], \"carpet\": [{\"aaxis\": {\"endlinecolor\": \"rgb(36,36,36)\", \"gridcolor\": \"white\", \"linecolor\": \"white\", \"minorgridcolor\": \"white\", \"startlinecolor\": \"rgb(36,36,36)\"}, \"baxis\": {\"endlinecolor\": \"rgb(36,36,36)\", \"gridcolor\": \"white\", \"linecolor\": \"white\", \"minorgridcolor\": \"white\", \"startlinecolor\": \"rgb(36,36,36)\"}, \"type\": \"carpet\"}], \"choropleth\": [{\"colorbar\": {\"outlinewidth\": 1, \"tickcolor\": \"rgb(36,36,36)\", \"ticks\": \"outside\"}, \"type\": \"choropleth\"}], \"contour\": [{\"colorbar\": {\"outlinewidth\": 1, \"tickcolor\": \"rgb(36,36,36)\", \"ticks\": \"outside\"}, \"colorscale\": [[0.0, \"#440154\"], [0.1111111111111111, \"#482878\"], [0.2222222222222222, \"#3e4989\"], [0.3333333333333333, \"#31688e\"], [0.4444444444444444, \"#26828e\"], [0.5555555555555556, \"#1f9e89\"], [0.6666666666666666, \"#35b779\"], [0.7777777777777778, \"#6ece58\"], [0.8888888888888888, \"#b5de2b\"], [1.0, \"#fde725\"]], \"type\": \"contour\"}], \"contourcarpet\": [{\"colorbar\": {\"outlinewidth\": 1, \"tickcolor\": \"rgb(36,36,36)\", \"ticks\": \"outside\"}, \"type\": \"contourcarpet\"}], \"heatmap\": [{\"colorbar\": {\"outlinewidth\": 1, \"tickcolor\": \"rgb(36,36,36)\", \"ticks\": \"outside\"}, \"colorscale\": [[0.0, \"#440154\"], [0.1111111111111111, \"#482878\"], [0.2222222222222222, \"#3e4989\"], [0.3333333333333333, \"#31688e\"], [0.4444444444444444, \"#26828e\"], [0.5555555555555556, \"#1f9e89\"], [0.6666666666666666, \"#35b779\"], [0.7777777777777778, \"#6ece58\"], [0.8888888888888888, \"#b5de2b\"], [1.0, \"#fde725\"]], \"type\": \"heatmap\"}], \"heatmapgl\": [{\"colorbar\": {\"outlinewidth\": 1, \"tickcolor\": \"rgb(36,36,36)\", \"ticks\": \"outside\"}, \"colorscale\": [[0.0, \"#440154\"], [0.1111111111111111, \"#482878\"], [0.2222222222222222, \"#3e4989\"], [0.3333333333333333, \"#31688e\"], [0.4444444444444444, \"#26828e\"], [0.5555555555555556, \"#1f9e89\"], [0.6666666666666666, \"#35b779\"], [0.7777777777777778, \"#6ece58\"], [0.8888888888888888, \"#b5de2b\"], [1.0, \"#fde725\"]], \"type\": \"heatmapgl\"}], \"histogram\": [{\"marker\": {\"line\": {\"color\": \"white\", \"width\": 0.6}}, \"type\": \"histogram\"}], \"histogram2d\": [{\"colorbar\": {\"outlinewidth\": 1, \"tickcolor\": \"rgb(36,36,36)\", \"ticks\": \"outside\"}, \"colorscale\": [[0.0, \"#440154\"], [0.1111111111111111, \"#482878\"], [0.2222222222222222, \"#3e4989\"], [0.3333333333333333, \"#31688e\"], [0.4444444444444444, \"#26828e\"], [0.5555555555555556, \"#1f9e89\"], [0.6666666666666666, \"#35b779\"], [0.7777777777777778, \"#6ece58\"], [0.8888888888888888, \"#b5de2b\"], [1.0, \"#fde725\"]], \"type\": \"histogram2d\"}], \"histogram2dcontour\": [{\"colorbar\": {\"outlinewidth\": 1, \"tickcolor\": \"rgb(36,36,36)\", \"ticks\": \"outside\"}, \"colorscale\": [[0.0, \"#440154\"], [0.1111111111111111, \"#482878\"], [0.2222222222222222, \"#3e4989\"], [0.3333333333333333, \"#31688e\"], [0.4444444444444444, \"#26828e\"], [0.5555555555555556, \"#1f9e89\"], [0.6666666666666666, \"#35b779\"], [0.7777777777777778, \"#6ece58\"], [0.8888888888888888, \"#b5de2b\"], [1.0, \"#fde725\"]], \"type\": \"histogram2dcontour\"}], \"mesh3d\": [{\"colorbar\": {\"outlinewidth\": 1, \"tickcolor\": \"rgb(36,36,36)\", \"ticks\": \"outside\"}, \"type\": \"mesh3d\"}], \"parcoords\": [{\"line\": {\"colorbar\": {\"outlinewidth\": 1, \"tickcolor\": \"rgb(36,36,36)\", \"ticks\": \"outside\"}}, \"type\": \"parcoords\"}], \"pie\": [{\"automargin\": true, \"type\": \"pie\"}], \"scatter\": [{\"marker\": {\"colorbar\": {\"outlinewidth\": 1, \"tickcolor\": \"rgb(36,36,36)\", \"ticks\": \"outside\"}}, \"type\": \"scatter\"}], \"scatter3d\": [{\"line\": {\"colorbar\": {\"outlinewidth\": 1, \"tickcolor\": \"rgb(36,36,36)\", \"ticks\": \"outside\"}}, \"marker\": {\"colorbar\": {\"outlinewidth\": 1, \"tickcolor\": \"rgb(36,36,36)\", \"ticks\": \"outside\"}}, \"type\": \"scatter3d\"}], \"scattercarpet\": [{\"marker\": {\"colorbar\": {\"outlinewidth\": 1, \"tickcolor\": \"rgb(36,36,36)\", \"ticks\": \"outside\"}}, \"type\": \"scattercarpet\"}], \"scattergeo\": [{\"marker\": {\"colorbar\": {\"outlinewidth\": 1, \"tickcolor\": \"rgb(36,36,36)\", \"ticks\": \"outside\"}}, \"type\": \"scattergeo\"}], \"scattergl\": [{\"marker\": {\"colorbar\": {\"outlinewidth\": 1, \"tickcolor\": \"rgb(36,36,36)\", \"ticks\": \"outside\"}}, \"type\": \"scattergl\"}], \"scattermapbox\": [{\"marker\": {\"colorbar\": {\"outlinewidth\": 1, \"tickcolor\": \"rgb(36,36,36)\", \"ticks\": \"outside\"}}, \"type\": \"scattermapbox\"}], \"scatterpolar\": [{\"marker\": {\"colorbar\": {\"outlinewidth\": 1, \"tickcolor\": \"rgb(36,36,36)\", \"ticks\": \"outside\"}}, \"type\": \"scatterpolar\"}], \"scatterpolargl\": [{\"marker\": {\"colorbar\": {\"outlinewidth\": 1, \"tickcolor\": \"rgb(36,36,36)\", \"ticks\": \"outside\"}}, \"type\": \"scatterpolargl\"}], \"scatterternary\": [{\"marker\": {\"colorbar\": {\"outlinewidth\": 1, \"tickcolor\": \"rgb(36,36,36)\", \"ticks\": \"outside\"}}, \"type\": \"scatterternary\"}], \"surface\": [{\"colorbar\": {\"outlinewidth\": 1, \"tickcolor\": \"rgb(36,36,36)\", \"ticks\": \"outside\"}, \"colorscale\": [[0.0, \"#440154\"], [0.1111111111111111, \"#482878\"], [0.2222222222222222, \"#3e4989\"], [0.3333333333333333, \"#31688e\"], [0.4444444444444444, \"#26828e\"], [0.5555555555555556, \"#1f9e89\"], [0.6666666666666666, \"#35b779\"], [0.7777777777777778, \"#6ece58\"], [0.8888888888888888, \"#b5de2b\"], [1.0, \"#fde725\"]], \"type\": \"surface\"}], \"table\": [{\"cells\": {\"fill\": {\"color\": \"rgb(237,237,237)\"}, \"line\": {\"color\": \"white\"}}, \"header\": {\"fill\": {\"color\": \"rgb(217,217,217)\"}, \"line\": {\"color\": \"white\"}}, \"type\": \"table\"}]}, \"layout\": {\"annotationdefaults\": {\"arrowhead\": 0, \"arrowwidth\": 1}, \"coloraxis\": {\"colorbar\": {\"outlinewidth\": 1, \"tickcolor\": \"rgb(36,36,36)\", \"ticks\": \"outside\"}}, \"colorscale\": {\"diverging\": [[0.0, \"rgb(103,0,31)\"], [0.1, \"rgb(178,24,43)\"], [0.2, \"rgb(214,96,77)\"], [0.3, \"rgb(244,165,130)\"], [0.4, \"rgb(253,219,199)\"], [0.5, \"rgb(247,247,247)\"], [0.6, \"rgb(209,229,240)\"], [0.7, \"rgb(146,197,222)\"], [0.8, \"rgb(67,147,195)\"], [0.9, \"rgb(33,102,172)\"], [1.0, \"rgb(5,48,97)\"]], \"sequential\": [[0.0, \"#440154\"], [0.1111111111111111, \"#482878\"], [0.2222222222222222, \"#3e4989\"], [0.3333333333333333, \"#31688e\"], [0.4444444444444444, \"#26828e\"], [0.5555555555555556, \"#1f9e89\"], [0.6666666666666666, \"#35b779\"], [0.7777777777777778, \"#6ece58\"], [0.8888888888888888, \"#b5de2b\"], [1.0, \"#fde725\"]], \"sequentialminus\": [[0.0, \"#440154\"], [0.1111111111111111, \"#482878\"], [0.2222222222222222, \"#3e4989\"], [0.3333333333333333, \"#31688e\"], [0.4444444444444444, \"#26828e\"], [0.5555555555555556, \"#1f9e89\"], [0.6666666666666666, \"#35b779\"], [0.7777777777777778, \"#6ece58\"], [0.8888888888888888, \"#b5de2b\"], [1.0, \"#fde725\"]]}, \"colorway\": [\"#1F77B4\", \"#FF7F0E\", \"#2CA02C\", \"#D62728\", \"#9467BD\", \"#8C564B\", \"#E377C2\", \"#7F7F7F\", \"#BCBD22\", \"#17BECF\"], \"font\": {\"color\": \"rgb(36,36,36)\"}, \"geo\": {\"bgcolor\": \"white\", \"lakecolor\": \"white\", \"landcolor\": \"white\", \"showlakes\": true, \"showland\": true, \"subunitcolor\": \"white\"}, \"hoverlabel\": {\"align\": \"left\"}, \"hovermode\": \"closest\", \"mapbox\": {\"style\": \"light\"}, \"paper_bgcolor\": \"white\", \"plot_bgcolor\": \"white\", \"polar\": {\"angularaxis\": {\"gridcolor\": \"rgb(232,232,232)\", \"linecolor\": \"rgb(36,36,36)\", \"showgrid\": false, \"showline\": true, \"ticks\": \"outside\"}, \"bgcolor\": \"white\", \"radialaxis\": {\"gridcolor\": \"rgb(232,232,232)\", \"linecolor\": \"rgb(36,36,36)\", \"showgrid\": false, \"showline\": true, \"ticks\": \"outside\"}}, \"scene\": {\"xaxis\": {\"backgroundcolor\": \"white\", \"gridcolor\": \"rgb(232,232,232)\", \"gridwidth\": 2, \"linecolor\": \"rgb(36,36,36)\", \"showbackground\": true, \"showgrid\": false, \"showline\": true, \"ticks\": \"outside\", \"zeroline\": false, \"zerolinecolor\": \"rgb(36,36,36)\"}, \"yaxis\": {\"backgroundcolor\": \"white\", \"gridcolor\": \"rgb(232,232,232)\", \"gridwidth\": 2, \"linecolor\": \"rgb(36,36,36)\", \"showbackground\": true, \"showgrid\": false, \"showline\": true, \"ticks\": \"outside\", \"zeroline\": false, \"zerolinecolor\": \"rgb(36,36,36)\"}, \"zaxis\": {\"backgroundcolor\": \"white\", \"gridcolor\": \"rgb(232,232,232)\", \"gridwidth\": 2, \"linecolor\": \"rgb(36,36,36)\", \"showbackground\": true, \"showgrid\": false, \"showline\": true, \"ticks\": \"outside\", \"zeroline\": false, \"zerolinecolor\": \"rgb(36,36,36)\"}}, \"shapedefaults\": {\"fillcolor\": \"black\", \"line\": {\"width\": 0}, \"opacity\": 0.3}, \"ternary\": {\"aaxis\": {\"gridcolor\": \"rgb(232,232,232)\", \"linecolor\": \"rgb(36,36,36)\", \"showgrid\": false, \"showline\": true, \"ticks\": \"outside\"}, \"baxis\": {\"gridcolor\": \"rgb(232,232,232)\", \"linecolor\": \"rgb(36,36,36)\", \"showgrid\": false, \"showline\": true, \"ticks\": \"outside\"}, \"bgcolor\": \"white\", \"caxis\": {\"gridcolor\": \"rgb(232,232,232)\", \"linecolor\": \"rgb(36,36,36)\", \"showgrid\": false, \"showline\": true, \"ticks\": \"outside\"}}, \"title\": {\"x\": 0.05}, \"xaxis\": {\"automargin\": true, \"gridcolor\": \"rgb(232,232,232)\", \"linecolor\": \"rgb(36,36,36)\", \"showgrid\": false, \"showline\": true, \"ticks\": \"outside\", \"title\": {\"standoff\": 15}, \"zeroline\": false, \"zerolinecolor\": \"rgb(36,36,36)\"}, \"yaxis\": {\"automargin\": true, \"gridcolor\": \"rgb(232,232,232)\", \"linecolor\": \"rgb(36,36,36)\", \"showgrid\": false, \"showline\": true, \"ticks\": \"outside\", \"title\": {\"standoff\": 15}, \"zeroline\": false, \"zerolinecolor\": \"rgb(36,36,36)\"}}}, \"title\": {\"text\": \"Form Factor of items purchased\"}, \"xaxis\": {\"anchor\": \"y\", \"domain\": [0.0, 1.0], \"title\": {\"text\": \"Count of items\"}}, \"yaxis\": {\"anchor\": \"x\", \"domain\": [0.0, 1.0], \"title\": {\"text\": \"Form Factor\"}}},                        {\"responsive\": true}                    ).then(function(){\n",
       "                            \n",
       "var gd = document.getElementById('837ae96c-e430-4751-9eb0-a7b5d27d215f');\n",
       "var x = new MutationObserver(function (mutations, observer) {{\n",
       "        var display = window.getComputedStyle(gd).display;\n",
       "        if (!display || display === 'none') {{\n",
       "            console.log([gd, 'removed!']);\n",
       "            Plotly.purge(gd);\n",
       "            observer.disconnect();\n",
       "        }}\n",
       "}});\n",
       "\n",
       "// Listen for the removal of the full notebook cells\n",
       "var notebookContainer = gd.closest('#notebook-container');\n",
       "if (notebookContainer) {{\n",
       "    x.observe(notebookContainer, {childList: true});\n",
       "}}\n",
       "\n",
       "// Listen for the clearing of the current output cell\n",
       "var outputEl = gd.closest('.output');\n",
       "if (outputEl) {{\n",
       "    x.observe(outputEl, {childList: true});\n",
       "}}\n",
       "\n",
       "                        })                };                });            </script>        </div>"
      ]
     },
     "metadata": {},
     "output_type": "display_data"
    }
   ],
   "source": [
    "data = df['form_factor'].value_counts().reset_index()\n",
    "data.columns = ['form_factor','form_factor_count']\n",
    "# data_protein_prop.style.format({'perc_non_other':\"{:.2%}\"})\n",
    "data['form_factor_formatted'] = data['form_factor_count'].apply(lambda x: \"{:,}\".format(x))\n",
    "data\n",
    "\n",
    "fig = px.bar(data, \n",
    "             x='form_factor_count',y='form_factor',\n",
    "             title='Form Factor of items purchased',\n",
    "             text='form_factor_formatted',\n",
    "             labels={'form_factor':\"Form Factor\",'form_factor_count':\"Count of items\"},\n",
    "             template='simple_white',\n",
    "             orientation='h'\n",
    "            )\n",
    "fig.show()"
   ]
  },
  {
   "cell_type": "code",
   "execution_count": 170,
   "metadata": {},
   "outputs": [
    {
     "data": {
      "text/plain": [
       "Bowls       0.467346\n",
       "Burritos    0.411517\n",
       "Tacos       0.121138\n",
       "Name: form_factor, dtype: float64"
      ]
     },
     "execution_count": 170,
     "metadata": {},
     "output_type": "execute_result"
    }
   ],
   "source": [
    "df['form_factor'][(df['form_factor'] != 'Other')].value_counts(normalize = True)"
   ]
  },
  {
   "cell_type": "code",
   "execution_count": 176,
   "metadata": {},
   "outputs": [
    {
     "data": {
      "application/vnd.plotly.v1+json": {
       "config": {
        "plotlyServerURL": "https://plot.ly"
       },
       "data": [
        {
         "alignmentgroup": "True",
         "hovertemplate": "% mix=%{x}<br>Form Factor=%{y}<br>form_factor_perc_formatted=%{text}<extra></extra>",
         "legendgroup": "",
         "marker": {
          "color": "#1F77B4"
         },
         "name": "",
         "offsetgroup": "",
         "orientation": "h",
         "showlegend": false,
         "text": [
          "46.73%",
          "41.15%",
          "12.11%"
         ],
         "textposition": "auto",
         "type": "bar",
         "x": [
          0.46734550561797755,
          0.41151685393258425,
          0.1211376404494382
         ],
         "xaxis": "x",
         "y": [
          "Bowls",
          "Burritos",
          "Tacos"
         ],
         "yaxis": "y"
        }
       ],
       "layout": {
        "barmode": "relative",
        "legend": {
         "tracegroupgap": 0
        },
        "template": {
         "data": {
          "bar": [
           {
            "error_x": {
             "color": "rgb(36,36,36)"
            },
            "error_y": {
             "color": "rgb(36,36,36)"
            },
            "marker": {
             "line": {
              "color": "white",
              "width": 0.5
             }
            },
            "type": "bar"
           }
          ],
          "barpolar": [
           {
            "marker": {
             "line": {
              "color": "white",
              "width": 0.5
             }
            },
            "type": "barpolar"
           }
          ],
          "carpet": [
           {
            "aaxis": {
             "endlinecolor": "rgb(36,36,36)",
             "gridcolor": "white",
             "linecolor": "white",
             "minorgridcolor": "white",
             "startlinecolor": "rgb(36,36,36)"
            },
            "baxis": {
             "endlinecolor": "rgb(36,36,36)",
             "gridcolor": "white",
             "linecolor": "white",
             "minorgridcolor": "white",
             "startlinecolor": "rgb(36,36,36)"
            },
            "type": "carpet"
           }
          ],
          "choropleth": [
           {
            "colorbar": {
             "outlinewidth": 1,
             "tickcolor": "rgb(36,36,36)",
             "ticks": "outside"
            },
            "type": "choropleth"
           }
          ],
          "contour": [
           {
            "colorbar": {
             "outlinewidth": 1,
             "tickcolor": "rgb(36,36,36)",
             "ticks": "outside"
            },
            "colorscale": [
             [
              0,
              "#440154"
             ],
             [
              0.1111111111111111,
              "#482878"
             ],
             [
              0.2222222222222222,
              "#3e4989"
             ],
             [
              0.3333333333333333,
              "#31688e"
             ],
             [
              0.4444444444444444,
              "#26828e"
             ],
             [
              0.5555555555555556,
              "#1f9e89"
             ],
             [
              0.6666666666666666,
              "#35b779"
             ],
             [
              0.7777777777777778,
              "#6ece58"
             ],
             [
              0.8888888888888888,
              "#b5de2b"
             ],
             [
              1,
              "#fde725"
             ]
            ],
            "type": "contour"
           }
          ],
          "contourcarpet": [
           {
            "colorbar": {
             "outlinewidth": 1,
             "tickcolor": "rgb(36,36,36)",
             "ticks": "outside"
            },
            "type": "contourcarpet"
           }
          ],
          "heatmap": [
           {
            "colorbar": {
             "outlinewidth": 1,
             "tickcolor": "rgb(36,36,36)",
             "ticks": "outside"
            },
            "colorscale": [
             [
              0,
              "#440154"
             ],
             [
              0.1111111111111111,
              "#482878"
             ],
             [
              0.2222222222222222,
              "#3e4989"
             ],
             [
              0.3333333333333333,
              "#31688e"
             ],
             [
              0.4444444444444444,
              "#26828e"
             ],
             [
              0.5555555555555556,
              "#1f9e89"
             ],
             [
              0.6666666666666666,
              "#35b779"
             ],
             [
              0.7777777777777778,
              "#6ece58"
             ],
             [
              0.8888888888888888,
              "#b5de2b"
             ],
             [
              1,
              "#fde725"
             ]
            ],
            "type": "heatmap"
           }
          ],
          "heatmapgl": [
           {
            "colorbar": {
             "outlinewidth": 1,
             "tickcolor": "rgb(36,36,36)",
             "ticks": "outside"
            },
            "colorscale": [
             [
              0,
              "#440154"
             ],
             [
              0.1111111111111111,
              "#482878"
             ],
             [
              0.2222222222222222,
              "#3e4989"
             ],
             [
              0.3333333333333333,
              "#31688e"
             ],
             [
              0.4444444444444444,
              "#26828e"
             ],
             [
              0.5555555555555556,
              "#1f9e89"
             ],
             [
              0.6666666666666666,
              "#35b779"
             ],
             [
              0.7777777777777778,
              "#6ece58"
             ],
             [
              0.8888888888888888,
              "#b5de2b"
             ],
             [
              1,
              "#fde725"
             ]
            ],
            "type": "heatmapgl"
           }
          ],
          "histogram": [
           {
            "marker": {
             "line": {
              "color": "white",
              "width": 0.6
             }
            },
            "type": "histogram"
           }
          ],
          "histogram2d": [
           {
            "colorbar": {
             "outlinewidth": 1,
             "tickcolor": "rgb(36,36,36)",
             "ticks": "outside"
            },
            "colorscale": [
             [
              0,
              "#440154"
             ],
             [
              0.1111111111111111,
              "#482878"
             ],
             [
              0.2222222222222222,
              "#3e4989"
             ],
             [
              0.3333333333333333,
              "#31688e"
             ],
             [
              0.4444444444444444,
              "#26828e"
             ],
             [
              0.5555555555555556,
              "#1f9e89"
             ],
             [
              0.6666666666666666,
              "#35b779"
             ],
             [
              0.7777777777777778,
              "#6ece58"
             ],
             [
              0.8888888888888888,
              "#b5de2b"
             ],
             [
              1,
              "#fde725"
             ]
            ],
            "type": "histogram2d"
           }
          ],
          "histogram2dcontour": [
           {
            "colorbar": {
             "outlinewidth": 1,
             "tickcolor": "rgb(36,36,36)",
             "ticks": "outside"
            },
            "colorscale": [
             [
              0,
              "#440154"
             ],
             [
              0.1111111111111111,
              "#482878"
             ],
             [
              0.2222222222222222,
              "#3e4989"
             ],
             [
              0.3333333333333333,
              "#31688e"
             ],
             [
              0.4444444444444444,
              "#26828e"
             ],
             [
              0.5555555555555556,
              "#1f9e89"
             ],
             [
              0.6666666666666666,
              "#35b779"
             ],
             [
              0.7777777777777778,
              "#6ece58"
             ],
             [
              0.8888888888888888,
              "#b5de2b"
             ],
             [
              1,
              "#fde725"
             ]
            ],
            "type": "histogram2dcontour"
           }
          ],
          "mesh3d": [
           {
            "colorbar": {
             "outlinewidth": 1,
             "tickcolor": "rgb(36,36,36)",
             "ticks": "outside"
            },
            "type": "mesh3d"
           }
          ],
          "parcoords": [
           {
            "line": {
             "colorbar": {
              "outlinewidth": 1,
              "tickcolor": "rgb(36,36,36)",
              "ticks": "outside"
             }
            },
            "type": "parcoords"
           }
          ],
          "pie": [
           {
            "automargin": true,
            "type": "pie"
           }
          ],
          "scatter": [
           {
            "marker": {
             "colorbar": {
              "outlinewidth": 1,
              "tickcolor": "rgb(36,36,36)",
              "ticks": "outside"
             }
            },
            "type": "scatter"
           }
          ],
          "scatter3d": [
           {
            "line": {
             "colorbar": {
              "outlinewidth": 1,
              "tickcolor": "rgb(36,36,36)",
              "ticks": "outside"
             }
            },
            "marker": {
             "colorbar": {
              "outlinewidth": 1,
              "tickcolor": "rgb(36,36,36)",
              "ticks": "outside"
             }
            },
            "type": "scatter3d"
           }
          ],
          "scattercarpet": [
           {
            "marker": {
             "colorbar": {
              "outlinewidth": 1,
              "tickcolor": "rgb(36,36,36)",
              "ticks": "outside"
             }
            },
            "type": "scattercarpet"
           }
          ],
          "scattergeo": [
           {
            "marker": {
             "colorbar": {
              "outlinewidth": 1,
              "tickcolor": "rgb(36,36,36)",
              "ticks": "outside"
             }
            },
            "type": "scattergeo"
           }
          ],
          "scattergl": [
           {
            "marker": {
             "colorbar": {
              "outlinewidth": 1,
              "tickcolor": "rgb(36,36,36)",
              "ticks": "outside"
             }
            },
            "type": "scattergl"
           }
          ],
          "scattermapbox": [
           {
            "marker": {
             "colorbar": {
              "outlinewidth": 1,
              "tickcolor": "rgb(36,36,36)",
              "ticks": "outside"
             }
            },
            "type": "scattermapbox"
           }
          ],
          "scatterpolar": [
           {
            "marker": {
             "colorbar": {
              "outlinewidth": 1,
              "tickcolor": "rgb(36,36,36)",
              "ticks": "outside"
             }
            },
            "type": "scatterpolar"
           }
          ],
          "scatterpolargl": [
           {
            "marker": {
             "colorbar": {
              "outlinewidth": 1,
              "tickcolor": "rgb(36,36,36)",
              "ticks": "outside"
             }
            },
            "type": "scatterpolargl"
           }
          ],
          "scatterternary": [
           {
            "marker": {
             "colorbar": {
              "outlinewidth": 1,
              "tickcolor": "rgb(36,36,36)",
              "ticks": "outside"
             }
            },
            "type": "scatterternary"
           }
          ],
          "surface": [
           {
            "colorbar": {
             "outlinewidth": 1,
             "tickcolor": "rgb(36,36,36)",
             "ticks": "outside"
            },
            "colorscale": [
             [
              0,
              "#440154"
             ],
             [
              0.1111111111111111,
              "#482878"
             ],
             [
              0.2222222222222222,
              "#3e4989"
             ],
             [
              0.3333333333333333,
              "#31688e"
             ],
             [
              0.4444444444444444,
              "#26828e"
             ],
             [
              0.5555555555555556,
              "#1f9e89"
             ],
             [
              0.6666666666666666,
              "#35b779"
             ],
             [
              0.7777777777777778,
              "#6ece58"
             ],
             [
              0.8888888888888888,
              "#b5de2b"
             ],
             [
              1,
              "#fde725"
             ]
            ],
            "type": "surface"
           }
          ],
          "table": [
           {
            "cells": {
             "fill": {
              "color": "rgb(237,237,237)"
             },
             "line": {
              "color": "white"
             }
            },
            "header": {
             "fill": {
              "color": "rgb(217,217,217)"
             },
             "line": {
              "color": "white"
             }
            },
            "type": "table"
           }
          ]
         },
         "layout": {
          "annotationdefaults": {
           "arrowhead": 0,
           "arrowwidth": 1
          },
          "coloraxis": {
           "colorbar": {
            "outlinewidth": 1,
            "tickcolor": "rgb(36,36,36)",
            "ticks": "outside"
           }
          },
          "colorscale": {
           "diverging": [
            [
             0,
             "rgb(103,0,31)"
            ],
            [
             0.1,
             "rgb(178,24,43)"
            ],
            [
             0.2,
             "rgb(214,96,77)"
            ],
            [
             0.3,
             "rgb(244,165,130)"
            ],
            [
             0.4,
             "rgb(253,219,199)"
            ],
            [
             0.5,
             "rgb(247,247,247)"
            ],
            [
             0.6,
             "rgb(209,229,240)"
            ],
            [
             0.7,
             "rgb(146,197,222)"
            ],
            [
             0.8,
             "rgb(67,147,195)"
            ],
            [
             0.9,
             "rgb(33,102,172)"
            ],
            [
             1,
             "rgb(5,48,97)"
            ]
           ],
           "sequential": [
            [
             0,
             "#440154"
            ],
            [
             0.1111111111111111,
             "#482878"
            ],
            [
             0.2222222222222222,
             "#3e4989"
            ],
            [
             0.3333333333333333,
             "#31688e"
            ],
            [
             0.4444444444444444,
             "#26828e"
            ],
            [
             0.5555555555555556,
             "#1f9e89"
            ],
            [
             0.6666666666666666,
             "#35b779"
            ],
            [
             0.7777777777777778,
             "#6ece58"
            ],
            [
             0.8888888888888888,
             "#b5de2b"
            ],
            [
             1,
             "#fde725"
            ]
           ],
           "sequentialminus": [
            [
             0,
             "#440154"
            ],
            [
             0.1111111111111111,
             "#482878"
            ],
            [
             0.2222222222222222,
             "#3e4989"
            ],
            [
             0.3333333333333333,
             "#31688e"
            ],
            [
             0.4444444444444444,
             "#26828e"
            ],
            [
             0.5555555555555556,
             "#1f9e89"
            ],
            [
             0.6666666666666666,
             "#35b779"
            ],
            [
             0.7777777777777778,
             "#6ece58"
            ],
            [
             0.8888888888888888,
             "#b5de2b"
            ],
            [
             1,
             "#fde725"
            ]
           ]
          },
          "colorway": [
           "#1F77B4",
           "#FF7F0E",
           "#2CA02C",
           "#D62728",
           "#9467BD",
           "#8C564B",
           "#E377C2",
           "#7F7F7F",
           "#BCBD22",
           "#17BECF"
          ],
          "font": {
           "color": "rgb(36,36,36)"
          },
          "geo": {
           "bgcolor": "white",
           "lakecolor": "white",
           "landcolor": "white",
           "showlakes": true,
           "showland": true,
           "subunitcolor": "white"
          },
          "hoverlabel": {
           "align": "left"
          },
          "hovermode": "closest",
          "mapbox": {
           "style": "light"
          },
          "paper_bgcolor": "white",
          "plot_bgcolor": "white",
          "polar": {
           "angularaxis": {
            "gridcolor": "rgb(232,232,232)",
            "linecolor": "rgb(36,36,36)",
            "showgrid": false,
            "showline": true,
            "ticks": "outside"
           },
           "bgcolor": "white",
           "radialaxis": {
            "gridcolor": "rgb(232,232,232)",
            "linecolor": "rgb(36,36,36)",
            "showgrid": false,
            "showline": true,
            "ticks": "outside"
           }
          },
          "scene": {
           "xaxis": {
            "backgroundcolor": "white",
            "gridcolor": "rgb(232,232,232)",
            "gridwidth": 2,
            "linecolor": "rgb(36,36,36)",
            "showbackground": true,
            "showgrid": false,
            "showline": true,
            "ticks": "outside",
            "zeroline": false,
            "zerolinecolor": "rgb(36,36,36)"
           },
           "yaxis": {
            "backgroundcolor": "white",
            "gridcolor": "rgb(232,232,232)",
            "gridwidth": 2,
            "linecolor": "rgb(36,36,36)",
            "showbackground": true,
            "showgrid": false,
            "showline": true,
            "ticks": "outside",
            "zeroline": false,
            "zerolinecolor": "rgb(36,36,36)"
           },
           "zaxis": {
            "backgroundcolor": "white",
            "gridcolor": "rgb(232,232,232)",
            "gridwidth": 2,
            "linecolor": "rgb(36,36,36)",
            "showbackground": true,
            "showgrid": false,
            "showline": true,
            "ticks": "outside",
            "zeroline": false,
            "zerolinecolor": "rgb(36,36,36)"
           }
          },
          "shapedefaults": {
           "fillcolor": "black",
           "line": {
            "width": 0
           },
           "opacity": 0.3
          },
          "ternary": {
           "aaxis": {
            "gridcolor": "rgb(232,232,232)",
            "linecolor": "rgb(36,36,36)",
            "showgrid": false,
            "showline": true,
            "ticks": "outside"
           },
           "baxis": {
            "gridcolor": "rgb(232,232,232)",
            "linecolor": "rgb(36,36,36)",
            "showgrid": false,
            "showline": true,
            "ticks": "outside"
           },
           "bgcolor": "white",
           "caxis": {
            "gridcolor": "rgb(232,232,232)",
            "linecolor": "rgb(36,36,36)",
            "showgrid": false,
            "showline": true,
            "ticks": "outside"
           }
          },
          "title": {
           "x": 0.05
          },
          "xaxis": {
           "automargin": true,
           "gridcolor": "rgb(232,232,232)",
           "linecolor": "rgb(36,36,36)",
           "showgrid": false,
           "showline": true,
           "ticks": "outside",
           "title": {
            "standoff": 15
           },
           "zeroline": false,
           "zerolinecolor": "rgb(36,36,36)"
          },
          "yaxis": {
           "automargin": true,
           "gridcolor": "rgb(232,232,232)",
           "linecolor": "rgb(36,36,36)",
           "showgrid": false,
           "showline": true,
           "ticks": "outside",
           "title": {
            "standoff": 15
           },
           "zeroline": false,
           "zerolinecolor": "rgb(36,36,36)"
          }
         }
        },
        "title": {
         "text": "Form Factor Mix (% excluding Other)"
        },
        "xaxis": {
         "anchor": "y",
         "domain": [
          0,
          1
         ],
         "title": {
          "text": "% mix"
         }
        },
        "yaxis": {
         "anchor": "x",
         "domain": [
          0,
          1
         ],
         "title": {
          "text": "Form Factor"
         }
        }
       }
      },
      "text/html": [
       "<div>                            <div id=\"fcb48e9e-50e2-4404-9d43-0cc2bfca0c87\" class=\"plotly-graph-div\" style=\"height:525px; width:100%;\"></div>            <script type=\"text/javascript\">                require([\"plotly\"], function(Plotly) {                    window.PLOTLYENV=window.PLOTLYENV || {};                                    if (document.getElementById(\"fcb48e9e-50e2-4404-9d43-0cc2bfca0c87\")) {                    Plotly.newPlot(                        \"fcb48e9e-50e2-4404-9d43-0cc2bfca0c87\",                        [{\"alignmentgroup\": \"True\", \"hovertemplate\": \"% mix=%{x}<br>Form Factor=%{y}<br>form_factor_perc_formatted=%{text}<extra></extra>\", \"legendgroup\": \"\", \"marker\": {\"color\": \"#1F77B4\"}, \"name\": \"\", \"offsetgroup\": \"\", \"orientation\": \"h\", \"showlegend\": false, \"text\": [\"46.73%\", \"41.15%\", \"12.11%\"], \"textposition\": \"auto\", \"type\": \"bar\", \"x\": [0.46734550561797755, 0.41151685393258425, 0.1211376404494382], \"xaxis\": \"x\", \"y\": [\"Bowls\", \"Burritos\", \"Tacos\"], \"yaxis\": \"y\"}],                        {\"barmode\": \"relative\", \"legend\": {\"tracegroupgap\": 0}, \"template\": {\"data\": {\"bar\": [{\"error_x\": {\"color\": \"rgb(36,36,36)\"}, \"error_y\": {\"color\": \"rgb(36,36,36)\"}, \"marker\": {\"line\": {\"color\": \"white\", \"width\": 0.5}}, \"type\": \"bar\"}], \"barpolar\": [{\"marker\": {\"line\": {\"color\": \"white\", \"width\": 0.5}}, \"type\": \"barpolar\"}], \"carpet\": [{\"aaxis\": {\"endlinecolor\": \"rgb(36,36,36)\", \"gridcolor\": \"white\", \"linecolor\": \"white\", \"minorgridcolor\": \"white\", \"startlinecolor\": \"rgb(36,36,36)\"}, \"baxis\": {\"endlinecolor\": \"rgb(36,36,36)\", \"gridcolor\": \"white\", \"linecolor\": \"white\", \"minorgridcolor\": \"white\", \"startlinecolor\": \"rgb(36,36,36)\"}, \"type\": \"carpet\"}], \"choropleth\": [{\"colorbar\": {\"outlinewidth\": 1, \"tickcolor\": \"rgb(36,36,36)\", \"ticks\": \"outside\"}, \"type\": \"choropleth\"}], \"contour\": [{\"colorbar\": {\"outlinewidth\": 1, \"tickcolor\": \"rgb(36,36,36)\", \"ticks\": \"outside\"}, \"colorscale\": [[0.0, \"#440154\"], [0.1111111111111111, \"#482878\"], [0.2222222222222222, \"#3e4989\"], [0.3333333333333333, \"#31688e\"], [0.4444444444444444, \"#26828e\"], [0.5555555555555556, \"#1f9e89\"], [0.6666666666666666, \"#35b779\"], [0.7777777777777778, \"#6ece58\"], [0.8888888888888888, \"#b5de2b\"], [1.0, \"#fde725\"]], \"type\": \"contour\"}], \"contourcarpet\": [{\"colorbar\": {\"outlinewidth\": 1, \"tickcolor\": \"rgb(36,36,36)\", \"ticks\": \"outside\"}, \"type\": \"contourcarpet\"}], \"heatmap\": [{\"colorbar\": {\"outlinewidth\": 1, \"tickcolor\": \"rgb(36,36,36)\", \"ticks\": \"outside\"}, \"colorscale\": [[0.0, \"#440154\"], [0.1111111111111111, \"#482878\"], [0.2222222222222222, \"#3e4989\"], [0.3333333333333333, \"#31688e\"], [0.4444444444444444, \"#26828e\"], [0.5555555555555556, \"#1f9e89\"], [0.6666666666666666, \"#35b779\"], [0.7777777777777778, \"#6ece58\"], [0.8888888888888888, \"#b5de2b\"], [1.0, \"#fde725\"]], \"type\": \"heatmap\"}], \"heatmapgl\": [{\"colorbar\": {\"outlinewidth\": 1, \"tickcolor\": \"rgb(36,36,36)\", \"ticks\": \"outside\"}, \"colorscale\": [[0.0, \"#440154\"], [0.1111111111111111, \"#482878\"], [0.2222222222222222, \"#3e4989\"], [0.3333333333333333, \"#31688e\"], [0.4444444444444444, \"#26828e\"], [0.5555555555555556, \"#1f9e89\"], [0.6666666666666666, \"#35b779\"], [0.7777777777777778, \"#6ece58\"], [0.8888888888888888, \"#b5de2b\"], [1.0, \"#fde725\"]], \"type\": \"heatmapgl\"}], \"histogram\": [{\"marker\": {\"line\": {\"color\": \"white\", \"width\": 0.6}}, \"type\": \"histogram\"}], \"histogram2d\": [{\"colorbar\": {\"outlinewidth\": 1, \"tickcolor\": \"rgb(36,36,36)\", \"ticks\": \"outside\"}, \"colorscale\": [[0.0, \"#440154\"], [0.1111111111111111, \"#482878\"], [0.2222222222222222, \"#3e4989\"], [0.3333333333333333, \"#31688e\"], [0.4444444444444444, \"#26828e\"], [0.5555555555555556, \"#1f9e89\"], [0.6666666666666666, \"#35b779\"], [0.7777777777777778, \"#6ece58\"], [0.8888888888888888, \"#b5de2b\"], [1.0, \"#fde725\"]], \"type\": \"histogram2d\"}], \"histogram2dcontour\": [{\"colorbar\": {\"outlinewidth\": 1, \"tickcolor\": \"rgb(36,36,36)\", \"ticks\": \"outside\"}, \"colorscale\": [[0.0, \"#440154\"], [0.1111111111111111, \"#482878\"], [0.2222222222222222, \"#3e4989\"], [0.3333333333333333, \"#31688e\"], [0.4444444444444444, \"#26828e\"], [0.5555555555555556, \"#1f9e89\"], [0.6666666666666666, \"#35b779\"], [0.7777777777777778, \"#6ece58\"], [0.8888888888888888, \"#b5de2b\"], [1.0, \"#fde725\"]], \"type\": \"histogram2dcontour\"}], \"mesh3d\": [{\"colorbar\": {\"outlinewidth\": 1, \"tickcolor\": \"rgb(36,36,36)\", \"ticks\": \"outside\"}, \"type\": \"mesh3d\"}], \"parcoords\": [{\"line\": {\"colorbar\": {\"outlinewidth\": 1, \"tickcolor\": \"rgb(36,36,36)\", \"ticks\": \"outside\"}}, \"type\": \"parcoords\"}], \"pie\": [{\"automargin\": true, \"type\": \"pie\"}], \"scatter\": [{\"marker\": {\"colorbar\": {\"outlinewidth\": 1, \"tickcolor\": \"rgb(36,36,36)\", \"ticks\": \"outside\"}}, \"type\": \"scatter\"}], \"scatter3d\": [{\"line\": {\"colorbar\": {\"outlinewidth\": 1, \"tickcolor\": \"rgb(36,36,36)\", \"ticks\": \"outside\"}}, \"marker\": {\"colorbar\": {\"outlinewidth\": 1, \"tickcolor\": \"rgb(36,36,36)\", \"ticks\": \"outside\"}}, \"type\": \"scatter3d\"}], \"scattercarpet\": [{\"marker\": {\"colorbar\": {\"outlinewidth\": 1, \"tickcolor\": \"rgb(36,36,36)\", \"ticks\": \"outside\"}}, \"type\": \"scattercarpet\"}], \"scattergeo\": [{\"marker\": {\"colorbar\": {\"outlinewidth\": 1, \"tickcolor\": \"rgb(36,36,36)\", \"ticks\": \"outside\"}}, \"type\": \"scattergeo\"}], \"scattergl\": [{\"marker\": {\"colorbar\": {\"outlinewidth\": 1, \"tickcolor\": \"rgb(36,36,36)\", \"ticks\": \"outside\"}}, \"type\": \"scattergl\"}], \"scattermapbox\": [{\"marker\": {\"colorbar\": {\"outlinewidth\": 1, \"tickcolor\": \"rgb(36,36,36)\", \"ticks\": \"outside\"}}, \"type\": \"scattermapbox\"}], \"scatterpolar\": [{\"marker\": {\"colorbar\": {\"outlinewidth\": 1, \"tickcolor\": \"rgb(36,36,36)\", \"ticks\": \"outside\"}}, \"type\": \"scatterpolar\"}], \"scatterpolargl\": [{\"marker\": {\"colorbar\": {\"outlinewidth\": 1, \"tickcolor\": \"rgb(36,36,36)\", \"ticks\": \"outside\"}}, \"type\": \"scatterpolargl\"}], \"scatterternary\": [{\"marker\": {\"colorbar\": {\"outlinewidth\": 1, \"tickcolor\": \"rgb(36,36,36)\", \"ticks\": \"outside\"}}, \"type\": \"scatterternary\"}], \"surface\": [{\"colorbar\": {\"outlinewidth\": 1, \"tickcolor\": \"rgb(36,36,36)\", \"ticks\": \"outside\"}, \"colorscale\": [[0.0, \"#440154\"], [0.1111111111111111, \"#482878\"], [0.2222222222222222, \"#3e4989\"], [0.3333333333333333, \"#31688e\"], [0.4444444444444444, \"#26828e\"], [0.5555555555555556, \"#1f9e89\"], [0.6666666666666666, \"#35b779\"], [0.7777777777777778, \"#6ece58\"], [0.8888888888888888, \"#b5de2b\"], [1.0, \"#fde725\"]], \"type\": \"surface\"}], \"table\": [{\"cells\": {\"fill\": {\"color\": \"rgb(237,237,237)\"}, \"line\": {\"color\": \"white\"}}, \"header\": {\"fill\": {\"color\": \"rgb(217,217,217)\"}, \"line\": {\"color\": \"white\"}}, \"type\": \"table\"}]}, \"layout\": {\"annotationdefaults\": {\"arrowhead\": 0, \"arrowwidth\": 1}, \"coloraxis\": {\"colorbar\": {\"outlinewidth\": 1, \"tickcolor\": \"rgb(36,36,36)\", \"ticks\": \"outside\"}}, \"colorscale\": {\"diverging\": [[0.0, \"rgb(103,0,31)\"], [0.1, \"rgb(178,24,43)\"], [0.2, \"rgb(214,96,77)\"], [0.3, \"rgb(244,165,130)\"], [0.4, \"rgb(253,219,199)\"], [0.5, \"rgb(247,247,247)\"], [0.6, \"rgb(209,229,240)\"], [0.7, \"rgb(146,197,222)\"], [0.8, \"rgb(67,147,195)\"], [0.9, \"rgb(33,102,172)\"], [1.0, \"rgb(5,48,97)\"]], \"sequential\": [[0.0, \"#440154\"], [0.1111111111111111, \"#482878\"], [0.2222222222222222, \"#3e4989\"], [0.3333333333333333, \"#31688e\"], [0.4444444444444444, \"#26828e\"], [0.5555555555555556, \"#1f9e89\"], [0.6666666666666666, \"#35b779\"], [0.7777777777777778, \"#6ece58\"], [0.8888888888888888, \"#b5de2b\"], [1.0, \"#fde725\"]], \"sequentialminus\": [[0.0, \"#440154\"], [0.1111111111111111, \"#482878\"], [0.2222222222222222, \"#3e4989\"], [0.3333333333333333, \"#31688e\"], [0.4444444444444444, \"#26828e\"], [0.5555555555555556, \"#1f9e89\"], [0.6666666666666666, \"#35b779\"], [0.7777777777777778, \"#6ece58\"], [0.8888888888888888, \"#b5de2b\"], [1.0, \"#fde725\"]]}, \"colorway\": [\"#1F77B4\", \"#FF7F0E\", \"#2CA02C\", \"#D62728\", \"#9467BD\", \"#8C564B\", \"#E377C2\", \"#7F7F7F\", \"#BCBD22\", \"#17BECF\"], \"font\": {\"color\": \"rgb(36,36,36)\"}, \"geo\": {\"bgcolor\": \"white\", \"lakecolor\": \"white\", \"landcolor\": \"white\", \"showlakes\": true, \"showland\": true, \"subunitcolor\": \"white\"}, \"hoverlabel\": {\"align\": \"left\"}, \"hovermode\": \"closest\", \"mapbox\": {\"style\": \"light\"}, \"paper_bgcolor\": \"white\", \"plot_bgcolor\": \"white\", \"polar\": {\"angularaxis\": {\"gridcolor\": \"rgb(232,232,232)\", \"linecolor\": \"rgb(36,36,36)\", \"showgrid\": false, \"showline\": true, \"ticks\": \"outside\"}, \"bgcolor\": \"white\", \"radialaxis\": {\"gridcolor\": \"rgb(232,232,232)\", \"linecolor\": \"rgb(36,36,36)\", \"showgrid\": false, \"showline\": true, \"ticks\": \"outside\"}}, \"scene\": {\"xaxis\": {\"backgroundcolor\": \"white\", \"gridcolor\": \"rgb(232,232,232)\", \"gridwidth\": 2, \"linecolor\": \"rgb(36,36,36)\", \"showbackground\": true, \"showgrid\": false, \"showline\": true, \"ticks\": \"outside\", \"zeroline\": false, \"zerolinecolor\": \"rgb(36,36,36)\"}, \"yaxis\": {\"backgroundcolor\": \"white\", \"gridcolor\": \"rgb(232,232,232)\", \"gridwidth\": 2, \"linecolor\": \"rgb(36,36,36)\", \"showbackground\": true, \"showgrid\": false, \"showline\": true, \"ticks\": \"outside\", \"zeroline\": false, \"zerolinecolor\": \"rgb(36,36,36)\"}, \"zaxis\": {\"backgroundcolor\": \"white\", \"gridcolor\": \"rgb(232,232,232)\", \"gridwidth\": 2, \"linecolor\": \"rgb(36,36,36)\", \"showbackground\": true, \"showgrid\": false, \"showline\": true, \"ticks\": \"outside\", \"zeroline\": false, \"zerolinecolor\": \"rgb(36,36,36)\"}}, \"shapedefaults\": {\"fillcolor\": \"black\", \"line\": {\"width\": 0}, \"opacity\": 0.3}, \"ternary\": {\"aaxis\": {\"gridcolor\": \"rgb(232,232,232)\", \"linecolor\": \"rgb(36,36,36)\", \"showgrid\": false, \"showline\": true, \"ticks\": \"outside\"}, \"baxis\": {\"gridcolor\": \"rgb(232,232,232)\", \"linecolor\": \"rgb(36,36,36)\", \"showgrid\": false, \"showline\": true, \"ticks\": \"outside\"}, \"bgcolor\": \"white\", \"caxis\": {\"gridcolor\": \"rgb(232,232,232)\", \"linecolor\": \"rgb(36,36,36)\", \"showgrid\": false, \"showline\": true, \"ticks\": \"outside\"}}, \"title\": {\"x\": 0.05}, \"xaxis\": {\"automargin\": true, \"gridcolor\": \"rgb(232,232,232)\", \"linecolor\": \"rgb(36,36,36)\", \"showgrid\": false, \"showline\": true, \"ticks\": \"outside\", \"title\": {\"standoff\": 15}, \"zeroline\": false, \"zerolinecolor\": \"rgb(36,36,36)\"}, \"yaxis\": {\"automargin\": true, \"gridcolor\": \"rgb(232,232,232)\", \"linecolor\": \"rgb(36,36,36)\", \"showgrid\": false, \"showline\": true, \"ticks\": \"outside\", \"title\": {\"standoff\": 15}, \"zeroline\": false, \"zerolinecolor\": \"rgb(36,36,36)\"}}}, \"title\": {\"text\": \"Form Factor Mix (% excluding Other)\"}, \"xaxis\": {\"anchor\": \"y\", \"domain\": [0.0, 1.0], \"title\": {\"text\": \"% mix\"}}, \"yaxis\": {\"anchor\": \"x\", \"domain\": [0.0, 1.0], \"title\": {\"text\": \"Form Factor\"}}},                        {\"responsive\": true}                    ).then(function(){\n",
       "                            \n",
       "var gd = document.getElementById('fcb48e9e-50e2-4404-9d43-0cc2bfca0c87');\n",
       "var x = new MutationObserver(function (mutations, observer) {{\n",
       "        var display = window.getComputedStyle(gd).display;\n",
       "        if (!display || display === 'none') {{\n",
       "            console.log([gd, 'removed!']);\n",
       "            Plotly.purge(gd);\n",
       "            observer.disconnect();\n",
       "        }}\n",
       "}});\n",
       "\n",
       "// Listen for the removal of the full notebook cells\n",
       "var notebookContainer = gd.closest('#notebook-container');\n",
       "if (notebookContainer) {{\n",
       "    x.observe(notebookContainer, {childList: true});\n",
       "}}\n",
       "\n",
       "// Listen for the clearing of the current output cell\n",
       "var outputEl = gd.closest('.output');\n",
       "if (outputEl) {{\n",
       "    x.observe(outputEl, {childList: true});\n",
       "}}\n",
       "\n",
       "                        })                };                });            </script>        </div>"
      ]
     },
     "metadata": {},
     "output_type": "display_data"
    }
   ],
   "source": [
    "data = df['form_factor'][(df['form_factor'] != 'Other')].value_counts(normalize = True).reset_index()\n",
    "data.columns = ['form_factor','form_factor_perc']\n",
    "# data_protein_prop.style.format({'perc_non_other':\"{:.2%}\"})\n",
    "data['form_factor_perc_formatted'] = data['form_factor_perc'].apply(lambda x: \"{:.2%}\".format(x))\n",
    "data\n",
    "\n",
    "fig = px.bar(data, \n",
    "             x='form_factor_perc',y='form_factor',\n",
    "             title='Form Factor Mix (% excluding Other)',\n",
    "             text='form_factor_perc_formatted',\n",
    "             labels={'form_factor':\"Form Factor\",'form_factor_perc':\"% mix\"},\n",
    "             template='simple_white',\n",
    "             orientation='h'\n",
    "            )\n",
    "fig.show()"
   ]
  },
  {
   "cell_type": "code",
   "execution_count": 186,
   "metadata": {},
   "outputs": [
    {
     "data": {
      "text/html": [
       "<div>\n",
       "<style scoped>\n",
       "    .dataframe tbody tr th:only-of-type {\n",
       "        vertical-align: middle;\n",
       "    }\n",
       "\n",
       "    .dataframe tbody tr th {\n",
       "        vertical-align: top;\n",
       "    }\n",
       "\n",
       "    .dataframe thead th {\n",
       "        text-align: right;\n",
       "    }\n",
       "</style>\n",
       "<table border=\"1\" class=\"dataframe\">\n",
       "  <thead>\n",
       "    <tr style=\"text-align: right;\">\n",
       "      <th></th>\n",
       "      <th>order_id</th>\n",
       "      <th>quantity</th>\n",
       "      <th>item_name</th>\n",
       "      <th>choice_description</th>\n",
       "      <th>item_price</th>\n",
       "      <th>item_price_value</th>\n",
       "      <th>description_clean</th>\n",
       "      <th>number_of_choices</th>\n",
       "      <th>protein</th>\n",
       "      <th>form_factor</th>\n",
       "    </tr>\n",
       "  </thead>\n",
       "  <tbody>\n",
       "    <tr>\n",
       "      <th>0</th>\n",
       "      <td>1</td>\n",
       "      <td>1</td>\n",
       "      <td>Chips and Fresh Tomato Salsa</td>\n",
       "      <td>NaN</td>\n",
       "      <td>$2.39</td>\n",
       "      <td>2.39</td>\n",
       "      <td>NaN</td>\n",
       "      <td>NaN</td>\n",
       "      <td>Other</td>\n",
       "      <td>Other</td>\n",
       "    </tr>\n",
       "    <tr>\n",
       "      <th>1</th>\n",
       "      <td>1</td>\n",
       "      <td>1</td>\n",
       "      <td>Izze</td>\n",
       "      <td>[Clementine]</td>\n",
       "      <td>$3.39</td>\n",
       "      <td>3.39</td>\n",
       "      <td>Clementine</td>\n",
       "      <td>1.0</td>\n",
       "      <td>Other</td>\n",
       "      <td>Other</td>\n",
       "    </tr>\n",
       "    <tr>\n",
       "      <th>2</th>\n",
       "      <td>1</td>\n",
       "      <td>1</td>\n",
       "      <td>Nantucket Nectar</td>\n",
       "      <td>[Apple]</td>\n",
       "      <td>$3.39</td>\n",
       "      <td>3.39</td>\n",
       "      <td>Apple</td>\n",
       "      <td>1.0</td>\n",
       "      <td>Other</td>\n",
       "      <td>Other</td>\n",
       "    </tr>\n",
       "    <tr>\n",
       "      <th>3</th>\n",
       "      <td>1</td>\n",
       "      <td>1</td>\n",
       "      <td>Chips and Tomatillo-Green Chili Salsa</td>\n",
       "      <td>NaN</td>\n",
       "      <td>$2.39</td>\n",
       "      <td>2.39</td>\n",
       "      <td>NaN</td>\n",
       "      <td>NaN</td>\n",
       "      <td>Other</td>\n",
       "      <td>Other</td>\n",
       "    </tr>\n",
       "    <tr>\n",
       "      <th>4</th>\n",
       "      <td>2</td>\n",
       "      <td>2</td>\n",
       "      <td>Chicken Bowl</td>\n",
       "      <td>[Tomatillo-Red Chili Salsa (Hot), [Black Beans...</td>\n",
       "      <td>$16.98</td>\n",
       "      <td>16.98</td>\n",
       "      <td>Tomatillo-Red Chili Salsa (Hot), Black Beans, ...</td>\n",
       "      <td>5.0</td>\n",
       "      <td>Chicken</td>\n",
       "      <td>Bowl</td>\n",
       "    </tr>\n",
       "    <tr>\n",
       "      <th>5</th>\n",
       "      <td>3</td>\n",
       "      <td>1</td>\n",
       "      <td>Chicken Bowl</td>\n",
       "      <td>[Fresh Tomato Salsa (Mild), [Rice, Cheese, Sou...</td>\n",
       "      <td>$10.98</td>\n",
       "      <td>10.98</td>\n",
       "      <td>Fresh Tomato Salsa (Mild), Rice, Cheese, Sour ...</td>\n",
       "      <td>6.0</td>\n",
       "      <td>Chicken</td>\n",
       "      <td>Bowl</td>\n",
       "    </tr>\n",
       "    <tr>\n",
       "      <th>6</th>\n",
       "      <td>3</td>\n",
       "      <td>1</td>\n",
       "      <td>Side of Chips</td>\n",
       "      <td>NaN</td>\n",
       "      <td>$1.69</td>\n",
       "      <td>1.69</td>\n",
       "      <td>NaN</td>\n",
       "      <td>NaN</td>\n",
       "      <td>Other</td>\n",
       "      <td>Other</td>\n",
       "    </tr>\n",
       "    <tr>\n",
       "      <th>7</th>\n",
       "      <td>4</td>\n",
       "      <td>1</td>\n",
       "      <td>Steak Burrito</td>\n",
       "      <td>[Tomatillo Red Chili Salsa, [Fajita Vegetables...</td>\n",
       "      <td>$11.75</td>\n",
       "      <td>11.75</td>\n",
       "      <td>Tomatillo Red Chili Salsa, Fajita Vegetables, ...</td>\n",
       "      <td>8.0</td>\n",
       "      <td>Beef</td>\n",
       "      <td>Burrito</td>\n",
       "    </tr>\n",
       "    <tr>\n",
       "      <th>8</th>\n",
       "      <td>4</td>\n",
       "      <td>1</td>\n",
       "      <td>Steak Soft Tacos</td>\n",
       "      <td>[Tomatillo Green Chili Salsa, [Pinto Beans, Ch...</td>\n",
       "      <td>$9.25</td>\n",
       "      <td>9.25</td>\n",
       "      <td>Tomatillo Green Chili Salsa, Pinto Beans, Chee...</td>\n",
       "      <td>5.0</td>\n",
       "      <td>Beef</td>\n",
       "      <td>Tacos</td>\n",
       "    </tr>\n",
       "    <tr>\n",
       "      <th>9</th>\n",
       "      <td>5</td>\n",
       "      <td>1</td>\n",
       "      <td>Steak Burrito</td>\n",
       "      <td>[Fresh Tomato Salsa, [Rice, Black Beans, Pinto...</td>\n",
       "      <td>$9.25</td>\n",
       "      <td>9.25</td>\n",
       "      <td>Fresh Tomato Salsa, Rice, Black Beans, Pinto B...</td>\n",
       "      <td>7.0</td>\n",
       "      <td>Beef</td>\n",
       "      <td>Burrito</td>\n",
       "    </tr>\n",
       "  </tbody>\n",
       "</table>\n",
       "</div>"
      ],
      "text/plain": [
       "   order_id  quantity                              item_name  \\\n",
       "0         1         1           Chips and Fresh Tomato Salsa   \n",
       "1         1         1                                   Izze   \n",
       "2         1         1                       Nantucket Nectar   \n",
       "3         1         1  Chips and Tomatillo-Green Chili Salsa   \n",
       "4         2         2                           Chicken Bowl   \n",
       "5         3         1                           Chicken Bowl   \n",
       "6         3         1                          Side of Chips   \n",
       "7         4         1                          Steak Burrito   \n",
       "8         4         1                       Steak Soft Tacos   \n",
       "9         5         1                          Steak Burrito   \n",
       "\n",
       "                                  choice_description item_price  \\\n",
       "0                                                NaN     $2.39    \n",
       "1                                       [Clementine]     $3.39    \n",
       "2                                            [Apple]     $3.39    \n",
       "3                                                NaN     $2.39    \n",
       "4  [Tomatillo-Red Chili Salsa (Hot), [Black Beans...    $16.98    \n",
       "5  [Fresh Tomato Salsa (Mild), [Rice, Cheese, Sou...    $10.98    \n",
       "6                                                NaN     $1.69    \n",
       "7  [Tomatillo Red Chili Salsa, [Fajita Vegetables...    $11.75    \n",
       "8  [Tomatillo Green Chili Salsa, [Pinto Beans, Ch...     $9.25    \n",
       "9  [Fresh Tomato Salsa, [Rice, Black Beans, Pinto...     $9.25    \n",
       "\n",
       "   item_price_value                                  description_clean  \\\n",
       "0              2.39                                                NaN   \n",
       "1              3.39                                         Clementine   \n",
       "2              3.39                                              Apple   \n",
       "3              2.39                                                NaN   \n",
       "4             16.98  Tomatillo-Red Chili Salsa (Hot), Black Beans, ...   \n",
       "5             10.98  Fresh Tomato Salsa (Mild), Rice, Cheese, Sour ...   \n",
       "6              1.69                                                NaN   \n",
       "7             11.75  Tomatillo Red Chili Salsa, Fajita Vegetables, ...   \n",
       "8              9.25  Tomatillo Green Chili Salsa, Pinto Beans, Chee...   \n",
       "9              9.25  Fresh Tomato Salsa, Rice, Black Beans, Pinto B...   \n",
       "\n",
       "   number_of_choices  protein form_factor  \n",
       "0                NaN    Other       Other  \n",
       "1                1.0    Other       Other  \n",
       "2                1.0    Other       Other  \n",
       "3                NaN    Other       Other  \n",
       "4                5.0  Chicken        Bowl  \n",
       "5                6.0  Chicken        Bowl  \n",
       "6                NaN    Other       Other  \n",
       "7                8.0     Beef     Burrito  \n",
       "8                5.0     Beef       Tacos  \n",
       "9                7.0     Beef     Burrito  "
      ]
     },
     "execution_count": 186,
     "metadata": {},
     "output_type": "execute_result"
    }
   ],
   "source": [
    "df.head(10)"
   ]
  },
  {
   "cell_type": "code",
   "execution_count": 177,
   "metadata": {},
   "outputs": [
    {
     "data": {
      "text/plain": [
       "form_factor\n",
       "Bowls       5.503381\n",
       "Burritos    5.395051\n",
       "Tacos       4.318841\n",
       "Name: number_of_choices, dtype: float64"
      ]
     },
     "execution_count": 177,
     "metadata": {},
     "output_type": "execute_result"
    }
   ],
   "source": [
    "# Average number of choices per form factor\n",
    "\n",
    "df['number_of_choices'][(df['form_factor'] != 'Other')].groupby(df['form_factor']).mean()\n"
   ]
  },
  {
   "cell_type": "code",
   "execution_count": 178,
   "metadata": {},
   "outputs": [
    {
     "data": {
      "text/html": [
       "<div>\n",
       "<style scoped>\n",
       "    .dataframe tbody tr th:only-of-type {\n",
       "        vertical-align: middle;\n",
       "    }\n",
       "\n",
       "    .dataframe tbody tr th {\n",
       "        vertical-align: top;\n",
       "    }\n",
       "\n",
       "    .dataframe thead th {\n",
       "        text-align: right;\n",
       "    }\n",
       "</style>\n",
       "<table border=\"1\" class=\"dataframe\">\n",
       "  <thead>\n",
       "    <tr style=\"text-align: right;\">\n",
       "      <th></th>\n",
       "      <th>protein</th>\n",
       "      <th>form_factor</th>\n",
       "      <th>number_of_choices</th>\n",
       "    </tr>\n",
       "  </thead>\n",
       "  <tbody>\n",
       "    <tr>\n",
       "      <th>0</th>\n",
       "      <td>Beef</td>\n",
       "      <td>Bowls</td>\n",
       "      <td>5.503165</td>\n",
       "    </tr>\n",
       "    <tr>\n",
       "      <th>1</th>\n",
       "      <td>Beef</td>\n",
       "      <td>Burritos</td>\n",
       "      <td>5.355120</td>\n",
       "    </tr>\n",
       "    <tr>\n",
       "      <th>2</th>\n",
       "      <td>Beef</td>\n",
       "      <td>Tacos</td>\n",
       "      <td>4.373016</td>\n",
       "    </tr>\n",
       "    <tr>\n",
       "      <th>3</th>\n",
       "      <td>Chicken</td>\n",
       "      <td>Bowls</td>\n",
       "      <td>5.370813</td>\n",
       "    </tr>\n",
       "    <tr>\n",
       "      <th>4</th>\n",
       "      <td>Chicken</td>\n",
       "      <td>Burritos</td>\n",
       "      <td>5.329114</td>\n",
       "    </tr>\n",
       "    <tr>\n",
       "      <th>5</th>\n",
       "      <td>Chicken</td>\n",
       "      <td>Tacos</td>\n",
       "      <td>4.216049</td>\n",
       "    </tr>\n",
       "    <tr>\n",
       "      <th>6</th>\n",
       "      <td>Other</td>\n",
       "      <td>Bowls</td>\n",
       "      <td>5.500000</td>\n",
       "    </tr>\n",
       "    <tr>\n",
       "      <th>7</th>\n",
       "      <td>Other</td>\n",
       "      <td>Burritos</td>\n",
       "      <td>5.833333</td>\n",
       "    </tr>\n",
       "    <tr>\n",
       "      <th>8</th>\n",
       "      <td>Other</td>\n",
       "      <td>Tacos</td>\n",
       "      <td>1.000000</td>\n",
       "    </tr>\n",
       "    <tr>\n",
       "      <th>9</th>\n",
       "      <td>Pork</td>\n",
       "      <td>Bowls</td>\n",
       "      <td>6.108108</td>\n",
       "    </tr>\n",
       "    <tr>\n",
       "      <th>10</th>\n",
       "      <td>Pork</td>\n",
       "      <td>Burritos</td>\n",
       "      <td>5.372881</td>\n",
       "    </tr>\n",
       "    <tr>\n",
       "      <th>11</th>\n",
       "      <td>Pork</td>\n",
       "      <td>Tacos</td>\n",
       "      <td>4.382979</td>\n",
       "    </tr>\n",
       "    <tr>\n",
       "      <th>12</th>\n",
       "      <td>Veggie</td>\n",
       "      <td>Bowls</td>\n",
       "      <td>6.145631</td>\n",
       "    </tr>\n",
       "    <tr>\n",
       "      <th>13</th>\n",
       "      <td>Veggie</td>\n",
       "      <td>Burritos</td>\n",
       "      <td>5.957895</td>\n",
       "    </tr>\n",
       "    <tr>\n",
       "      <th>14</th>\n",
       "      <td>Veggie</td>\n",
       "      <td>Tacos</td>\n",
       "      <td>6.000000</td>\n",
       "    </tr>\n",
       "  </tbody>\n",
       "</table>\n",
       "</div>"
      ],
      "text/plain": [
       "    protein form_factor  number_of_choices\n",
       "0      Beef       Bowls           5.503165\n",
       "1      Beef    Burritos           5.355120\n",
       "2      Beef       Tacos           4.373016\n",
       "3   Chicken       Bowls           5.370813\n",
       "4   Chicken    Burritos           5.329114\n",
       "5   Chicken       Tacos           4.216049\n",
       "6     Other       Bowls           5.500000\n",
       "7     Other    Burritos           5.833333\n",
       "8     Other       Tacos           1.000000\n",
       "9      Pork       Bowls           6.108108\n",
       "10     Pork    Burritos           5.372881\n",
       "11     Pork       Tacos           4.382979\n",
       "12   Veggie       Bowls           6.145631\n",
       "13   Veggie    Burritos           5.957895\n",
       "14   Veggie       Tacos           6.000000"
      ]
     },
     "execution_count": 178,
     "metadata": {},
     "output_type": "execute_result"
    }
   ],
   "source": [
    "# Average number of choices per form factor\n",
    "\n",
    "df['number_of_choices'][(df['form_factor'] != 'Other')].groupby([df['protein'],df['form_factor']]).mean().reset_index()\n"
   ]
  },
  {
   "cell_type": "code",
   "execution_count": 179,
   "metadata": {},
   "outputs": [],
   "source": [
    "?px.scatter"
   ]
  },
  {
   "cell_type": "code",
   "execution_count": null,
   "metadata": {},
   "outputs": [],
   "source": [
    "\n"
   ]
  },
  {
   "cell_type": "code",
   "execution_count": null,
   "metadata": {},
   "outputs": [],
   "source": []
  },
  {
   "cell_type": "code",
   "execution_count": 181,
   "metadata": {
    "scrolled": true
   },
   "outputs": [
    {
     "data": {
      "text/html": [
       "<div>\n",
       "<style scoped>\n",
       "    .dataframe tbody tr th:only-of-type {\n",
       "        vertical-align: middle;\n",
       "    }\n",
       "\n",
       "    .dataframe tbody tr th {\n",
       "        vertical-align: top;\n",
       "    }\n",
       "\n",
       "    .dataframe thead th {\n",
       "        text-align: right;\n",
       "    }\n",
       "</style>\n",
       "<table border=\"1\" class=\"dataframe\">\n",
       "  <thead>\n",
       "    <tr style=\"text-align: right;\">\n",
       "      <th></th>\n",
       "      <th>protein</th>\n",
       "      <th>form_factor</th>\n",
       "      <th>number_of_choices_x</th>\n",
       "      <th>number_of_choices_y</th>\n",
       "    </tr>\n",
       "  </thead>\n",
       "  <tbody>\n",
       "    <tr>\n",
       "      <th>0</th>\n",
       "      <td>Beef</td>\n",
       "      <td>Bowls</td>\n",
       "      <td>5.503165</td>\n",
       "      <td>316</td>\n",
       "    </tr>\n",
       "    <tr>\n",
       "      <th>1</th>\n",
       "      <td>Beef</td>\n",
       "      <td>Burritos</td>\n",
       "      <td>5.355120</td>\n",
       "      <td>459</td>\n",
       "    </tr>\n",
       "    <tr>\n",
       "      <th>2</th>\n",
       "      <td>Beef</td>\n",
       "      <td>Tacos</td>\n",
       "      <td>4.373016</td>\n",
       "      <td>126</td>\n",
       "    </tr>\n",
       "    <tr>\n",
       "      <th>3</th>\n",
       "      <td>Chicken</td>\n",
       "      <td>Bowls</td>\n",
       "      <td>5.370813</td>\n",
       "      <td>836</td>\n",
       "    </tr>\n",
       "    <tr>\n",
       "      <th>4</th>\n",
       "      <td>Chicken</td>\n",
       "      <td>Burritos</td>\n",
       "      <td>5.329114</td>\n",
       "      <td>553</td>\n",
       "    </tr>\n",
       "    <tr>\n",
       "      <th>5</th>\n",
       "      <td>Chicken</td>\n",
       "      <td>Tacos</td>\n",
       "      <td>4.216049</td>\n",
       "      <td>162</td>\n",
       "    </tr>\n",
       "    <tr>\n",
       "      <th>6</th>\n",
       "      <td>Other</td>\n",
       "      <td>Bowls</td>\n",
       "      <td>5.500000</td>\n",
       "      <td>2</td>\n",
       "    </tr>\n",
       "    <tr>\n",
       "      <th>7</th>\n",
       "      <td>Other</td>\n",
       "      <td>Burritos</td>\n",
       "      <td>5.833333</td>\n",
       "      <td>6</td>\n",
       "    </tr>\n",
       "    <tr>\n",
       "      <th>8</th>\n",
       "      <td>Other</td>\n",
       "      <td>Tacos</td>\n",
       "      <td>1.000000</td>\n",
       "      <td>2</td>\n",
       "    </tr>\n",
       "    <tr>\n",
       "      <th>9</th>\n",
       "      <td>Pork</td>\n",
       "      <td>Bowls</td>\n",
       "      <td>6.108108</td>\n",
       "      <td>74</td>\n",
       "    </tr>\n",
       "    <tr>\n",
       "      <th>10</th>\n",
       "      <td>Pork</td>\n",
       "      <td>Burritos</td>\n",
       "      <td>5.372881</td>\n",
       "      <td>59</td>\n",
       "    </tr>\n",
       "    <tr>\n",
       "      <th>11</th>\n",
       "      <td>Pork</td>\n",
       "      <td>Tacos</td>\n",
       "      <td>4.382979</td>\n",
       "      <td>47</td>\n",
       "    </tr>\n",
       "    <tr>\n",
       "      <th>12</th>\n",
       "      <td>Veggie</td>\n",
       "      <td>Bowls</td>\n",
       "      <td>6.145631</td>\n",
       "      <td>103</td>\n",
       "    </tr>\n",
       "    <tr>\n",
       "      <th>13</th>\n",
       "      <td>Veggie</td>\n",
       "      <td>Burritos</td>\n",
       "      <td>5.957895</td>\n",
       "      <td>95</td>\n",
       "    </tr>\n",
       "    <tr>\n",
       "      <th>14</th>\n",
       "      <td>Veggie</td>\n",
       "      <td>Tacos</td>\n",
       "      <td>6.000000</td>\n",
       "      <td>8</td>\n",
       "    </tr>\n",
       "  </tbody>\n",
       "</table>\n",
       "</div>"
      ],
      "text/plain": [
       "    protein form_factor  number_of_choices_x  number_of_choices_y\n",
       "0      Beef       Bowls             5.503165                  316\n",
       "1      Beef    Burritos             5.355120                  459\n",
       "2      Beef       Tacos             4.373016                  126\n",
       "3   Chicken       Bowls             5.370813                  836\n",
       "4   Chicken    Burritos             5.329114                  553\n",
       "5   Chicken       Tacos             4.216049                  162\n",
       "6     Other       Bowls             5.500000                    2\n",
       "7     Other    Burritos             5.833333                    6\n",
       "8     Other       Tacos             1.000000                    2\n",
       "9      Pork       Bowls             6.108108                   74\n",
       "10     Pork    Burritos             5.372881                   59\n",
       "11     Pork       Tacos             4.382979                   47\n",
       "12   Veggie       Bowls             6.145631                  103\n",
       "13   Veggie    Burritos             5.957895                   95\n",
       "14   Veggie       Tacos             6.000000                    8"
      ]
     },
     "execution_count": 181,
     "metadata": {},
     "output_type": "execute_result"
    }
   ],
   "source": [
    "avg = df['number_of_choices'][(df['form_factor'] != 'Other')].groupby([df['protein'],df['form_factor']]).mean().reset_index()\n",
    "count = df['number_of_choices'][(df['form_factor'] != 'Other')].groupby([df['protein'],df['form_factor']]).count().reset_index()\n",
    "\n",
    "df_out = avg.merge(count, how='inner', on = ['protein','form_factor'])\n",
    "df_out"
   ]
  },
  {
   "cell_type": "code",
   "execution_count": 232,
   "metadata": {},
   "outputs": [],
   "source": [
    "?pd.Series.rename_axis"
   ]
  },
  {
   "cell_type": "code",
   "execution_count": 182,
   "metadata": {},
   "outputs": [
    {
     "data": {
      "text/plain": [
       "0     5.503165\n",
       "1     5.355120\n",
       "2     4.373016\n",
       "3     5.370813\n",
       "4     5.329114\n",
       "5     4.216049\n",
       "6     5.500000\n",
       "7     5.833333\n",
       "8     1.000000\n",
       "9     6.108108\n",
       "10    5.372881\n",
       "11    4.382979\n",
       "12    6.145631\n",
       "13    5.957895\n",
       "14    6.000000\n",
       "Name: average, dtype: float64"
      ]
     },
     "execution_count": 182,
     "metadata": {},
     "output_type": "execute_result"
    }
   ],
   "source": [
    "df_out.number_of_choices_x.rename('average',inplace=True)"
   ]
  },
  {
   "cell_type": "code",
   "execution_count": 183,
   "metadata": {},
   "outputs": [],
   "source": [
    "df_out.rename(columns={'number_of_choices_x':'average','number_of_choices_y':'count'},inplace=True)"
   ]
  },
  {
   "cell_type": "code",
   "execution_count": 219,
   "metadata": {},
   "outputs": [
    {
     "data": {
      "text/html": [
       "<div>\n",
       "<style scoped>\n",
       "    .dataframe tbody tr th:only-of-type {\n",
       "        vertical-align: middle;\n",
       "    }\n",
       "\n",
       "    .dataframe tbody tr th {\n",
       "        vertical-align: top;\n",
       "    }\n",
       "\n",
       "    .dataframe thead th {\n",
       "        text-align: right;\n",
       "    }\n",
       "</style>\n",
       "<table border=\"1\" class=\"dataframe\">\n",
       "  <thead>\n",
       "    <tr style=\"text-align: right;\">\n",
       "      <th></th>\n",
       "      <th>protein</th>\n",
       "      <th>form_factor</th>\n",
       "      <th>average</th>\n",
       "      <th>count</th>\n",
       "    </tr>\n",
       "  </thead>\n",
       "  <tbody>\n",
       "    <tr>\n",
       "      <th>0</th>\n",
       "      <td>Beef</td>\n",
       "      <td>Bowls</td>\n",
       "      <td>5.503165</td>\n",
       "      <td>316</td>\n",
       "    </tr>\n",
       "    <tr>\n",
       "      <th>1</th>\n",
       "      <td>Beef</td>\n",
       "      <td>Burritos</td>\n",
       "      <td>5.355120</td>\n",
       "      <td>459</td>\n",
       "    </tr>\n",
       "    <tr>\n",
       "      <th>2</th>\n",
       "      <td>Beef</td>\n",
       "      <td>Tacos</td>\n",
       "      <td>4.373016</td>\n",
       "      <td>126</td>\n",
       "    </tr>\n",
       "    <tr>\n",
       "      <th>3</th>\n",
       "      <td>Chicken</td>\n",
       "      <td>Bowls</td>\n",
       "      <td>5.370813</td>\n",
       "      <td>836</td>\n",
       "    </tr>\n",
       "    <tr>\n",
       "      <th>4</th>\n",
       "      <td>Chicken</td>\n",
       "      <td>Burritos</td>\n",
       "      <td>5.329114</td>\n",
       "      <td>553</td>\n",
       "    </tr>\n",
       "    <tr>\n",
       "      <th>5</th>\n",
       "      <td>Chicken</td>\n",
       "      <td>Tacos</td>\n",
       "      <td>4.216049</td>\n",
       "      <td>162</td>\n",
       "    </tr>\n",
       "    <tr>\n",
       "      <th>6</th>\n",
       "      <td>Other</td>\n",
       "      <td>Bowls</td>\n",
       "      <td>5.500000</td>\n",
       "      <td>2</td>\n",
       "    </tr>\n",
       "    <tr>\n",
       "      <th>7</th>\n",
       "      <td>Other</td>\n",
       "      <td>Burritos</td>\n",
       "      <td>5.833333</td>\n",
       "      <td>6</td>\n",
       "    </tr>\n",
       "    <tr>\n",
       "      <th>8</th>\n",
       "      <td>Other</td>\n",
       "      <td>Tacos</td>\n",
       "      <td>1.000000</td>\n",
       "      <td>2</td>\n",
       "    </tr>\n",
       "    <tr>\n",
       "      <th>9</th>\n",
       "      <td>Pork</td>\n",
       "      <td>Bowls</td>\n",
       "      <td>6.108108</td>\n",
       "      <td>74</td>\n",
       "    </tr>\n",
       "    <tr>\n",
       "      <th>10</th>\n",
       "      <td>Pork</td>\n",
       "      <td>Burritos</td>\n",
       "      <td>5.372881</td>\n",
       "      <td>59</td>\n",
       "    </tr>\n",
       "    <tr>\n",
       "      <th>11</th>\n",
       "      <td>Pork</td>\n",
       "      <td>Tacos</td>\n",
       "      <td>4.382979</td>\n",
       "      <td>47</td>\n",
       "    </tr>\n",
       "    <tr>\n",
       "      <th>12</th>\n",
       "      <td>Veggie</td>\n",
       "      <td>Bowls</td>\n",
       "      <td>6.145631</td>\n",
       "      <td>103</td>\n",
       "    </tr>\n",
       "    <tr>\n",
       "      <th>13</th>\n",
       "      <td>Veggie</td>\n",
       "      <td>Burritos</td>\n",
       "      <td>5.957895</td>\n",
       "      <td>95</td>\n",
       "    </tr>\n",
       "    <tr>\n",
       "      <th>14</th>\n",
       "      <td>Veggie</td>\n",
       "      <td>Tacos</td>\n",
       "      <td>6.000000</td>\n",
       "      <td>8</td>\n",
       "    </tr>\n",
       "  </tbody>\n",
       "</table>\n",
       "</div>"
      ],
      "text/plain": [
       "    protein form_factor   average  count\n",
       "0      Beef       Bowls  5.503165    316\n",
       "1      Beef    Burritos  5.355120    459\n",
       "2      Beef       Tacos  4.373016    126\n",
       "3   Chicken       Bowls  5.370813    836\n",
       "4   Chicken    Burritos  5.329114    553\n",
       "5   Chicken       Tacos  4.216049    162\n",
       "6     Other       Bowls  5.500000      2\n",
       "7     Other    Burritos  5.833333      6\n",
       "8     Other       Tacos  1.000000      2\n",
       "9      Pork       Bowls  6.108108     74\n",
       "10     Pork    Burritos  5.372881     59\n",
       "11     Pork       Tacos  4.382979     47\n",
       "12   Veggie       Bowls  6.145631    103\n",
       "13   Veggie    Burritos  5.957895     95\n",
       "14   Veggie       Tacos  6.000000      8"
      ]
     },
     "execution_count": 219,
     "metadata": {},
     "output_type": "execute_result"
    }
   ],
   "source": [
    "df_out"
   ]
  },
  {
   "cell_type": "code",
   "execution_count": 234,
   "metadata": {},
   "outputs": [],
   "source": [
    "df_out['average_formatted'] = df_out['average'].apply(lambda x: \"{:.2f}\".format(x))"
   ]
  },
  {
   "cell_type": "code",
   "execution_count": 274,
   "metadata": {
    "scrolled": false
   },
   "outputs": [
    {
     "data": {
      "text/html": [
       "<div>\n",
       "<style scoped>\n",
       "    .dataframe tbody tr th:only-of-type {\n",
       "        vertical-align: middle;\n",
       "    }\n",
       "\n",
       "    .dataframe tbody tr th {\n",
       "        vertical-align: top;\n",
       "    }\n",
       "\n",
       "    .dataframe thead th {\n",
       "        text-align: right;\n",
       "    }\n",
       "</style>\n",
       "<table border=\"1\" class=\"dataframe\">\n",
       "  <thead>\n",
       "    <tr style=\"text-align: right;\">\n",
       "      <th></th>\n",
       "      <th>protein</th>\n",
       "      <th>form_factor</th>\n",
       "      <th>average</th>\n",
       "      <th>count</th>\n",
       "      <th>average_formatted</th>\n",
       "      <th>text_labels</th>\n",
       "    </tr>\n",
       "  </thead>\n",
       "  <tbody>\n",
       "    <tr>\n",
       "      <th>0</th>\n",
       "      <td>Beef</td>\n",
       "      <td>Bowls</td>\n",
       "      <td>5.503165</td>\n",
       "      <td>316</td>\n",
       "      <td>5.50</td>\n",
       "      <td>316,5.50</td>\n",
       "    </tr>\n",
       "    <tr>\n",
       "      <th>1</th>\n",
       "      <td>Beef</td>\n",
       "      <td>Burritos</td>\n",
       "      <td>5.355120</td>\n",
       "      <td>459</td>\n",
       "      <td>5.36</td>\n",
       "      <td>459,5.36</td>\n",
       "    </tr>\n",
       "    <tr>\n",
       "      <th>2</th>\n",
       "      <td>Beef</td>\n",
       "      <td>Tacos</td>\n",
       "      <td>4.373016</td>\n",
       "      <td>126</td>\n",
       "      <td>4.37</td>\n",
       "      <td>126,4.37</td>\n",
       "    </tr>\n",
       "    <tr>\n",
       "      <th>3</th>\n",
       "      <td>Chicken</td>\n",
       "      <td>Bowls</td>\n",
       "      <td>5.370813</td>\n",
       "      <td>836</td>\n",
       "      <td>5.37</td>\n",
       "      <td>836,5.37</td>\n",
       "    </tr>\n",
       "    <tr>\n",
       "      <th>4</th>\n",
       "      <td>Chicken</td>\n",
       "      <td>Burritos</td>\n",
       "      <td>5.329114</td>\n",
       "      <td>553</td>\n",
       "      <td>5.33</td>\n",
       "      <td>553,5.33</td>\n",
       "    </tr>\n",
       "    <tr>\n",
       "      <th>5</th>\n",
       "      <td>Chicken</td>\n",
       "      <td>Tacos</td>\n",
       "      <td>4.216049</td>\n",
       "      <td>162</td>\n",
       "      <td>4.22</td>\n",
       "      <td>162,4.22</td>\n",
       "    </tr>\n",
       "    <tr>\n",
       "      <th>6</th>\n",
       "      <td>Other</td>\n",
       "      <td>Bowls</td>\n",
       "      <td>5.500000</td>\n",
       "      <td>2</td>\n",
       "      <td>5.50</td>\n",
       "      <td>2,5.50</td>\n",
       "    </tr>\n",
       "    <tr>\n",
       "      <th>7</th>\n",
       "      <td>Other</td>\n",
       "      <td>Burritos</td>\n",
       "      <td>5.833333</td>\n",
       "      <td>6</td>\n",
       "      <td>5.83</td>\n",
       "      <td>6,5.83</td>\n",
       "    </tr>\n",
       "    <tr>\n",
       "      <th>8</th>\n",
       "      <td>Other</td>\n",
       "      <td>Tacos</td>\n",
       "      <td>1.000000</td>\n",
       "      <td>2</td>\n",
       "      <td>1.00</td>\n",
       "      <td>2,1.00</td>\n",
       "    </tr>\n",
       "    <tr>\n",
       "      <th>9</th>\n",
       "      <td>Pork</td>\n",
       "      <td>Bowls</td>\n",
       "      <td>6.108108</td>\n",
       "      <td>74</td>\n",
       "      <td>6.11</td>\n",
       "      <td>74,6.11</td>\n",
       "    </tr>\n",
       "    <tr>\n",
       "      <th>10</th>\n",
       "      <td>Pork</td>\n",
       "      <td>Burritos</td>\n",
       "      <td>5.372881</td>\n",
       "      <td>59</td>\n",
       "      <td>5.37</td>\n",
       "      <td>59,5.37</td>\n",
       "    </tr>\n",
       "    <tr>\n",
       "      <th>11</th>\n",
       "      <td>Pork</td>\n",
       "      <td>Tacos</td>\n",
       "      <td>4.382979</td>\n",
       "      <td>47</td>\n",
       "      <td>4.38</td>\n",
       "      <td>47,4.38</td>\n",
       "    </tr>\n",
       "    <tr>\n",
       "      <th>12</th>\n",
       "      <td>Veggie</td>\n",
       "      <td>Bowls</td>\n",
       "      <td>6.145631</td>\n",
       "      <td>103</td>\n",
       "      <td>6.15</td>\n",
       "      <td>103,6.15</td>\n",
       "    </tr>\n",
       "    <tr>\n",
       "      <th>13</th>\n",
       "      <td>Veggie</td>\n",
       "      <td>Burritos</td>\n",
       "      <td>5.957895</td>\n",
       "      <td>95</td>\n",
       "      <td>5.96</td>\n",
       "      <td>95,5.96</td>\n",
       "    </tr>\n",
       "    <tr>\n",
       "      <th>14</th>\n",
       "      <td>Veggie</td>\n",
       "      <td>Tacos</td>\n",
       "      <td>6.000000</td>\n",
       "      <td>8</td>\n",
       "      <td>6.00</td>\n",
       "      <td>8,6.00</td>\n",
       "    </tr>\n",
       "  </tbody>\n",
       "</table>\n",
       "</div>"
      ],
      "text/plain": [
       "    protein form_factor   average  count average_formatted text_labels\n",
       "0      Beef       Bowls  5.503165    316              5.50    316,5.50\n",
       "1      Beef    Burritos  5.355120    459              5.36    459,5.36\n",
       "2      Beef       Tacos  4.373016    126              4.37    126,4.37\n",
       "3   Chicken       Bowls  5.370813    836              5.37    836,5.37\n",
       "4   Chicken    Burritos  5.329114    553              5.33    553,5.33\n",
       "5   Chicken       Tacos  4.216049    162              4.22    162,4.22\n",
       "6     Other       Bowls  5.500000      2              5.50      2,5.50\n",
       "7     Other    Burritos  5.833333      6              5.83      6,5.83\n",
       "8     Other       Tacos  1.000000      2              1.00      2,1.00\n",
       "9      Pork       Bowls  6.108108     74              6.11     74,6.11\n",
       "10     Pork    Burritos  5.372881     59              5.37     59,5.37\n",
       "11     Pork       Tacos  4.382979     47              4.38     47,4.38\n",
       "12   Veggie       Bowls  6.145631    103              6.15    103,6.15\n",
       "13   Veggie    Burritos  5.957895     95              5.96     95,5.96\n",
       "14   Veggie       Tacos  6.000000      8              6.00      8,6.00"
      ]
     },
     "execution_count": 274,
     "metadata": {},
     "output_type": "execute_result"
    }
   ],
   "source": [
    "# df_out['text_formatted'] = \n",
    "df_out['text_labels'] = df_out['count'].astype(str) + ',' + df_out['average_formatted'].astype(str)\n",
    "df_out"
   ]
  },
  {
   "cell_type": "code",
   "execution_count": 261,
   "metadata": {},
   "outputs": [],
   "source": [
    "?px.scatter"
   ]
  },
  {
   "cell_type": "code",
   "execution_count": null,
   "metadata": {},
   "outputs": [],
   "source": []
  },
  {
   "cell_type": "code",
   "execution_count": 287,
   "metadata": {},
   "outputs": [],
   "source": [
    "# Test: fig.update_traces(col=2, row=3,textposition='top left')"
   ]
  },
  {
   "cell_type": "code",
   "execution_count": 286,
   "metadata": {
    "scrolled": false
   },
   "outputs": [
    {
     "data": {
      "application/vnd.plotly.v1+json": {
       "config": {
        "plotlyServerURL": "https://plot.ly"
       },
       "data": [
        {
         "hovertemplate": "Form=Bowls<br>Protein=Beef<br>count=%{x}<br>average=%{y}<br>text_labels=%{text}<extra></extra>",
         "legendgroup": "",
         "marker": {
          "color": "#1F77B4",
          "symbol": "circle"
         },
         "mode": "markers+text",
         "name": "",
         "orientation": "v",
         "showlegend": false,
         "text": [
          "316,5.50"
         ],
         "textposition": "top right",
         "type": "scatter",
         "x": [
          316
         ],
         "xaxis": "x11",
         "y": [
          5.503164556962025
         ],
         "yaxis": "y11"
        },
        {
         "hovertemplate": "Form=Bowls<br>Protein=Chicken<br>count=%{x}<br>average=%{y}<br>text_labels=%{text}<extra></extra>",
         "legendgroup": "",
         "marker": {
          "color": "#1F77B4",
          "symbol": "circle"
         },
         "mode": "markers+text",
         "name": "",
         "orientation": "v",
         "showlegend": false,
         "text": [
          "836,5.37"
         ],
         "textposition": "top left",
         "type": "scatter",
         "x": [
          836
         ],
         "xaxis": "x12",
         "y": [
          5.3708133971291865
         ],
         "yaxis": "y12"
        },
        {
         "hovertemplate": "Form=Bowls<br>Protein=Other<br>count=%{x}<br>average=%{y}<br>text_labels=%{text}<extra></extra>",
         "legendgroup": "",
         "marker": {
          "color": "#1F77B4",
          "symbol": "circle"
         },
         "mode": "markers+text",
         "name": "",
         "orientation": "v",
         "showlegend": false,
         "text": [
          "2,5.50"
         ],
         "textposition": "top right",
         "type": "scatter",
         "x": [
          2
         ],
         "xaxis": "x13",
         "y": [
          5.5
         ],
         "yaxis": "y13"
        },
        {
         "hovertemplate": "Form=Bowls<br>Protein=Pork<br>count=%{x}<br>average=%{y}<br>text_labels=%{text}<extra></extra>",
         "legendgroup": "",
         "marker": {
          "color": "#1F77B4",
          "symbol": "circle"
         },
         "mode": "markers+text",
         "name": "",
         "orientation": "v",
         "showlegend": false,
         "text": [
          "74,6.11"
         ],
         "textposition": "top right",
         "type": "scatter",
         "x": [
          74
         ],
         "xaxis": "x14",
         "y": [
          6.108108108108108
         ],
         "yaxis": "y14"
        },
        {
         "hovertemplate": "Form=Bowls<br>Protein=Veggie<br>count=%{x}<br>average=%{y}<br>text_labels=%{text}<extra></extra>",
         "legendgroup": "",
         "marker": {
          "color": "#1F77B4",
          "symbol": "circle"
         },
         "mode": "markers+text",
         "name": "",
         "orientation": "v",
         "showlegend": false,
         "text": [
          "103,6.15"
         ],
         "textposition": "top right",
         "type": "scatter",
         "x": [
          103
         ],
         "xaxis": "x15",
         "y": [
          6.145631067961165
         ],
         "yaxis": "y15"
        },
        {
         "hovertemplate": "Form=Burritos<br>Protein=Beef<br>count=%{x}<br>average=%{y}<br>text_labels=%{text}<extra></extra>",
         "legendgroup": "",
         "marker": {
          "color": "#1F77B4",
          "symbol": "circle"
         },
         "mode": "markers+text",
         "name": "",
         "orientation": "v",
         "showlegend": false,
         "text": [
          "459,5.36"
         ],
         "textposition": "top right",
         "type": "scatter",
         "x": [
          459
         ],
         "xaxis": "x6",
         "y": [
          5.355119825708061
         ],
         "yaxis": "y6"
        },
        {
         "hovertemplate": "Form=Burritos<br>Protein=Chicken<br>count=%{x}<br>average=%{y}<br>text_labels=%{text}<extra></extra>",
         "legendgroup": "",
         "marker": {
          "color": "#1F77B4",
          "symbol": "circle"
         },
         "mode": "markers+text",
         "name": "",
         "orientation": "v",
         "showlegend": false,
         "text": [
          "553,5.33"
         ],
         "textposition": "top right",
         "type": "scatter",
         "x": [
          553
         ],
         "xaxis": "x7",
         "y": [
          5.329113924050633
         ],
         "yaxis": "y7"
        },
        {
         "hovertemplate": "Form=Burritos<br>Protein=Other<br>count=%{x}<br>average=%{y}<br>text_labels=%{text}<extra></extra>",
         "legendgroup": "",
         "marker": {
          "color": "#1F77B4",
          "symbol": "circle"
         },
         "mode": "markers+text",
         "name": "",
         "orientation": "v",
         "showlegend": false,
         "text": [
          "6,5.83"
         ],
         "textposition": "top right",
         "type": "scatter",
         "x": [
          6
         ],
         "xaxis": "x8",
         "y": [
          5.833333333333333
         ],
         "yaxis": "y8"
        },
        {
         "hovertemplate": "Form=Burritos<br>Protein=Pork<br>count=%{x}<br>average=%{y}<br>text_labels=%{text}<extra></extra>",
         "legendgroup": "",
         "marker": {
          "color": "#1F77B4",
          "symbol": "circle"
         },
         "mode": "markers+text",
         "name": "",
         "orientation": "v",
         "showlegend": false,
         "text": [
          "59,5.37"
         ],
         "textposition": "top right",
         "type": "scatter",
         "x": [
          59
         ],
         "xaxis": "x9",
         "y": [
          5.372881355932203
         ],
         "yaxis": "y9"
        },
        {
         "hovertemplate": "Form=Burritos<br>Protein=Veggie<br>count=%{x}<br>average=%{y}<br>text_labels=%{text}<extra></extra>",
         "legendgroup": "",
         "marker": {
          "color": "#1F77B4",
          "symbol": "circle"
         },
         "mode": "markers+text",
         "name": "",
         "orientation": "v",
         "showlegend": false,
         "text": [
          "95,5.96"
         ],
         "textposition": "top right",
         "type": "scatter",
         "x": [
          95
         ],
         "xaxis": "x10",
         "y": [
          5.957894736842105
         ],
         "yaxis": "y10"
        },
        {
         "hovertemplate": "Form=Tacos<br>Protein=Beef<br>count=%{x}<br>average=%{y}<br>text_labels=%{text}<extra></extra>",
         "legendgroup": "",
         "marker": {
          "color": "#1F77B4",
          "symbol": "circle"
         },
         "mode": "markers+text",
         "name": "",
         "orientation": "v",
         "showlegend": false,
         "text": [
          "126,4.37"
         ],
         "textposition": "top right",
         "type": "scatter",
         "x": [
          126
         ],
         "xaxis": "x",
         "y": [
          4.373015873015873
         ],
         "yaxis": "y"
        },
        {
         "hovertemplate": "Form=Tacos<br>Protein=Chicken<br>count=%{x}<br>average=%{y}<br>text_labels=%{text}<extra></extra>",
         "legendgroup": "",
         "marker": {
          "color": "#1F77B4",
          "symbol": "circle"
         },
         "mode": "markers+text",
         "name": "",
         "orientation": "v",
         "showlegend": false,
         "text": [
          "162,4.22"
         ],
         "textposition": "top right",
         "type": "scatter",
         "x": [
          162
         ],
         "xaxis": "x2",
         "y": [
          4.216049382716049
         ],
         "yaxis": "y2"
        },
        {
         "hovertemplate": "Form=Tacos<br>Protein=Other<br>count=%{x}<br>average=%{y}<br>text_labels=%{text}<extra></extra>",
         "legendgroup": "",
         "marker": {
          "color": "#1F77B4",
          "symbol": "circle"
         },
         "mode": "markers+text",
         "name": "",
         "orientation": "v",
         "showlegend": false,
         "text": [
          "2,1.00"
         ],
         "textposition": "top right",
         "type": "scatter",
         "x": [
          2
         ],
         "xaxis": "x3",
         "y": [
          1
         ],
         "yaxis": "y3"
        },
        {
         "hovertemplate": "Form=Tacos<br>Protein=Pork<br>count=%{x}<br>average=%{y}<br>text_labels=%{text}<extra></extra>",
         "legendgroup": "",
         "marker": {
          "color": "#1F77B4",
          "symbol": "circle"
         },
         "mode": "markers+text",
         "name": "",
         "orientation": "v",
         "showlegend": false,
         "text": [
          "47,4.38"
         ],
         "textposition": "top right",
         "type": "scatter",
         "x": [
          47
         ],
         "xaxis": "x4",
         "y": [
          4.382978723404255
         ],
         "yaxis": "y4"
        },
        {
         "hovertemplate": "Form=Tacos<br>Protein=Veggie<br>count=%{x}<br>average=%{y}<br>text_labels=%{text}<extra></extra>",
         "legendgroup": "",
         "marker": {
          "color": "#1F77B4",
          "symbol": "circle"
         },
         "mode": "markers+text",
         "name": "",
         "orientation": "v",
         "showlegend": false,
         "text": [
          "8,6.00"
         ],
         "textposition": "top right",
         "type": "scatter",
         "x": [
          8
         ],
         "xaxis": "x5",
         "y": [
          6
         ],
         "yaxis": "y5"
        }
       ],
       "layout": {
        "annotations": [
         {
          "font": {},
          "showarrow": false,
          "text": "Protein=Beef",
          "x": 0.08000000000000002,
          "xanchor": "center",
          "xref": "paper",
          "y": 1,
          "yanchor": "bottom",
          "yref": "paper"
         },
         {
          "font": {},
          "showarrow": false,
          "text": "Protein=Chicken",
          "x": 0.28500000000000003,
          "xanchor": "center",
          "xref": "paper",
          "y": 1,
          "yanchor": "bottom",
          "yref": "paper"
         },
         {
          "font": {},
          "showarrow": false,
          "text": "Protein=Other",
          "x": 0.49000000000000005,
          "xanchor": "center",
          "xref": "paper",
          "y": 1,
          "yanchor": "bottom",
          "yref": "paper"
         },
         {
          "font": {},
          "showarrow": false,
          "text": "Protein=Pork",
          "x": 0.6950000000000001,
          "xanchor": "center",
          "xref": "paper",
          "y": 1,
          "yanchor": "bottom",
          "yref": "paper"
         },
         {
          "font": {},
          "showarrow": false,
          "text": "Protein=Veggie",
          "x": 0.9000000000000001,
          "xanchor": "center",
          "xref": "paper",
          "y": 1,
          "yanchor": "bottom",
          "yref": "paper"
         },
         {
          "font": {},
          "showarrow": false,
          "text": "Form=Tacos",
          "textangle": 90,
          "x": 0.9800000000000001,
          "xanchor": "left",
          "xref": "paper",
          "y": 0.15166666666666667,
          "yanchor": "middle",
          "yref": "paper"
         },
         {
          "font": {},
          "showarrow": false,
          "text": "Form=Burritos",
          "textangle": 90,
          "x": 0.9800000000000001,
          "xanchor": "left",
          "xref": "paper",
          "y": 0.5,
          "yanchor": "middle",
          "yref": "paper"
         },
         {
          "font": {},
          "showarrow": false,
          "text": "Form=Bowls",
          "textangle": 90,
          "x": 0.9800000000000001,
          "xanchor": "left",
          "xref": "paper",
          "y": 0.8483333333333334,
          "yanchor": "middle",
          "yref": "paper"
         }
        ],
        "height": 600,
        "legend": {
         "tracegroupgap": 0
        },
        "template": {
         "data": {
          "bar": [
           {
            "error_x": {
             "color": "rgb(36,36,36)"
            },
            "error_y": {
             "color": "rgb(36,36,36)"
            },
            "marker": {
             "line": {
              "color": "white",
              "width": 0.5
             }
            },
            "type": "bar"
           }
          ],
          "barpolar": [
           {
            "marker": {
             "line": {
              "color": "white",
              "width": 0.5
             }
            },
            "type": "barpolar"
           }
          ],
          "carpet": [
           {
            "aaxis": {
             "endlinecolor": "rgb(36,36,36)",
             "gridcolor": "white",
             "linecolor": "white",
             "minorgridcolor": "white",
             "startlinecolor": "rgb(36,36,36)"
            },
            "baxis": {
             "endlinecolor": "rgb(36,36,36)",
             "gridcolor": "white",
             "linecolor": "white",
             "minorgridcolor": "white",
             "startlinecolor": "rgb(36,36,36)"
            },
            "type": "carpet"
           }
          ],
          "choropleth": [
           {
            "colorbar": {
             "outlinewidth": 1,
             "tickcolor": "rgb(36,36,36)",
             "ticks": "outside"
            },
            "type": "choropleth"
           }
          ],
          "contour": [
           {
            "colorbar": {
             "outlinewidth": 1,
             "tickcolor": "rgb(36,36,36)",
             "ticks": "outside"
            },
            "colorscale": [
             [
              0,
              "#440154"
             ],
             [
              0.1111111111111111,
              "#482878"
             ],
             [
              0.2222222222222222,
              "#3e4989"
             ],
             [
              0.3333333333333333,
              "#31688e"
             ],
             [
              0.4444444444444444,
              "#26828e"
             ],
             [
              0.5555555555555556,
              "#1f9e89"
             ],
             [
              0.6666666666666666,
              "#35b779"
             ],
             [
              0.7777777777777778,
              "#6ece58"
             ],
             [
              0.8888888888888888,
              "#b5de2b"
             ],
             [
              1,
              "#fde725"
             ]
            ],
            "type": "contour"
           }
          ],
          "contourcarpet": [
           {
            "colorbar": {
             "outlinewidth": 1,
             "tickcolor": "rgb(36,36,36)",
             "ticks": "outside"
            },
            "type": "contourcarpet"
           }
          ],
          "heatmap": [
           {
            "colorbar": {
             "outlinewidth": 1,
             "tickcolor": "rgb(36,36,36)",
             "ticks": "outside"
            },
            "colorscale": [
             [
              0,
              "#440154"
             ],
             [
              0.1111111111111111,
              "#482878"
             ],
             [
              0.2222222222222222,
              "#3e4989"
             ],
             [
              0.3333333333333333,
              "#31688e"
             ],
             [
              0.4444444444444444,
              "#26828e"
             ],
             [
              0.5555555555555556,
              "#1f9e89"
             ],
             [
              0.6666666666666666,
              "#35b779"
             ],
             [
              0.7777777777777778,
              "#6ece58"
             ],
             [
              0.8888888888888888,
              "#b5de2b"
             ],
             [
              1,
              "#fde725"
             ]
            ],
            "type": "heatmap"
           }
          ],
          "heatmapgl": [
           {
            "colorbar": {
             "outlinewidth": 1,
             "tickcolor": "rgb(36,36,36)",
             "ticks": "outside"
            },
            "colorscale": [
             [
              0,
              "#440154"
             ],
             [
              0.1111111111111111,
              "#482878"
             ],
             [
              0.2222222222222222,
              "#3e4989"
             ],
             [
              0.3333333333333333,
              "#31688e"
             ],
             [
              0.4444444444444444,
              "#26828e"
             ],
             [
              0.5555555555555556,
              "#1f9e89"
             ],
             [
              0.6666666666666666,
              "#35b779"
             ],
             [
              0.7777777777777778,
              "#6ece58"
             ],
             [
              0.8888888888888888,
              "#b5de2b"
             ],
             [
              1,
              "#fde725"
             ]
            ],
            "type": "heatmapgl"
           }
          ],
          "histogram": [
           {
            "marker": {
             "line": {
              "color": "white",
              "width": 0.6
             }
            },
            "type": "histogram"
           }
          ],
          "histogram2d": [
           {
            "colorbar": {
             "outlinewidth": 1,
             "tickcolor": "rgb(36,36,36)",
             "ticks": "outside"
            },
            "colorscale": [
             [
              0,
              "#440154"
             ],
             [
              0.1111111111111111,
              "#482878"
             ],
             [
              0.2222222222222222,
              "#3e4989"
             ],
             [
              0.3333333333333333,
              "#31688e"
             ],
             [
              0.4444444444444444,
              "#26828e"
             ],
             [
              0.5555555555555556,
              "#1f9e89"
             ],
             [
              0.6666666666666666,
              "#35b779"
             ],
             [
              0.7777777777777778,
              "#6ece58"
             ],
             [
              0.8888888888888888,
              "#b5de2b"
             ],
             [
              1,
              "#fde725"
             ]
            ],
            "type": "histogram2d"
           }
          ],
          "histogram2dcontour": [
           {
            "colorbar": {
             "outlinewidth": 1,
             "tickcolor": "rgb(36,36,36)",
             "ticks": "outside"
            },
            "colorscale": [
             [
              0,
              "#440154"
             ],
             [
              0.1111111111111111,
              "#482878"
             ],
             [
              0.2222222222222222,
              "#3e4989"
             ],
             [
              0.3333333333333333,
              "#31688e"
             ],
             [
              0.4444444444444444,
              "#26828e"
             ],
             [
              0.5555555555555556,
              "#1f9e89"
             ],
             [
              0.6666666666666666,
              "#35b779"
             ],
             [
              0.7777777777777778,
              "#6ece58"
             ],
             [
              0.8888888888888888,
              "#b5de2b"
             ],
             [
              1,
              "#fde725"
             ]
            ],
            "type": "histogram2dcontour"
           }
          ],
          "mesh3d": [
           {
            "colorbar": {
             "outlinewidth": 1,
             "tickcolor": "rgb(36,36,36)",
             "ticks": "outside"
            },
            "type": "mesh3d"
           }
          ],
          "parcoords": [
           {
            "line": {
             "colorbar": {
              "outlinewidth": 1,
              "tickcolor": "rgb(36,36,36)",
              "ticks": "outside"
             }
            },
            "type": "parcoords"
           }
          ],
          "pie": [
           {
            "automargin": true,
            "type": "pie"
           }
          ],
          "scatter": [
           {
            "marker": {
             "colorbar": {
              "outlinewidth": 1,
              "tickcolor": "rgb(36,36,36)",
              "ticks": "outside"
             }
            },
            "type": "scatter"
           }
          ],
          "scatter3d": [
           {
            "line": {
             "colorbar": {
              "outlinewidth": 1,
              "tickcolor": "rgb(36,36,36)",
              "ticks": "outside"
             }
            },
            "marker": {
             "colorbar": {
              "outlinewidth": 1,
              "tickcolor": "rgb(36,36,36)",
              "ticks": "outside"
             }
            },
            "type": "scatter3d"
           }
          ],
          "scattercarpet": [
           {
            "marker": {
             "colorbar": {
              "outlinewidth": 1,
              "tickcolor": "rgb(36,36,36)",
              "ticks": "outside"
             }
            },
            "type": "scattercarpet"
           }
          ],
          "scattergeo": [
           {
            "marker": {
             "colorbar": {
              "outlinewidth": 1,
              "tickcolor": "rgb(36,36,36)",
              "ticks": "outside"
             }
            },
            "type": "scattergeo"
           }
          ],
          "scattergl": [
           {
            "marker": {
             "colorbar": {
              "outlinewidth": 1,
              "tickcolor": "rgb(36,36,36)",
              "ticks": "outside"
             }
            },
            "type": "scattergl"
           }
          ],
          "scattermapbox": [
           {
            "marker": {
             "colorbar": {
              "outlinewidth": 1,
              "tickcolor": "rgb(36,36,36)",
              "ticks": "outside"
             }
            },
            "type": "scattermapbox"
           }
          ],
          "scatterpolar": [
           {
            "marker": {
             "colorbar": {
              "outlinewidth": 1,
              "tickcolor": "rgb(36,36,36)",
              "ticks": "outside"
             }
            },
            "type": "scatterpolar"
           }
          ],
          "scatterpolargl": [
           {
            "marker": {
             "colorbar": {
              "outlinewidth": 1,
              "tickcolor": "rgb(36,36,36)",
              "ticks": "outside"
             }
            },
            "type": "scatterpolargl"
           }
          ],
          "scatterternary": [
           {
            "marker": {
             "colorbar": {
              "outlinewidth": 1,
              "tickcolor": "rgb(36,36,36)",
              "ticks": "outside"
             }
            },
            "type": "scatterternary"
           }
          ],
          "surface": [
           {
            "colorbar": {
             "outlinewidth": 1,
             "tickcolor": "rgb(36,36,36)",
             "ticks": "outside"
            },
            "colorscale": [
             [
              0,
              "#440154"
             ],
             [
              0.1111111111111111,
              "#482878"
             ],
             [
              0.2222222222222222,
              "#3e4989"
             ],
             [
              0.3333333333333333,
              "#31688e"
             ],
             [
              0.4444444444444444,
              "#26828e"
             ],
             [
              0.5555555555555556,
              "#1f9e89"
             ],
             [
              0.6666666666666666,
              "#35b779"
             ],
             [
              0.7777777777777778,
              "#6ece58"
             ],
             [
              0.8888888888888888,
              "#b5de2b"
             ],
             [
              1,
              "#fde725"
             ]
            ],
            "type": "surface"
           }
          ],
          "table": [
           {
            "cells": {
             "fill": {
              "color": "rgb(237,237,237)"
             },
             "line": {
              "color": "white"
             }
            },
            "header": {
             "fill": {
              "color": "rgb(217,217,217)"
             },
             "line": {
              "color": "white"
             }
            },
            "type": "table"
           }
          ]
         },
         "layout": {
          "annotationdefaults": {
           "arrowhead": 0,
           "arrowwidth": 1
          },
          "coloraxis": {
           "colorbar": {
            "outlinewidth": 1,
            "tickcolor": "rgb(36,36,36)",
            "ticks": "outside"
           }
          },
          "colorscale": {
           "diverging": [
            [
             0,
             "rgb(103,0,31)"
            ],
            [
             0.1,
             "rgb(178,24,43)"
            ],
            [
             0.2,
             "rgb(214,96,77)"
            ],
            [
             0.3,
             "rgb(244,165,130)"
            ],
            [
             0.4,
             "rgb(253,219,199)"
            ],
            [
             0.5,
             "rgb(247,247,247)"
            ],
            [
             0.6,
             "rgb(209,229,240)"
            ],
            [
             0.7,
             "rgb(146,197,222)"
            ],
            [
             0.8,
             "rgb(67,147,195)"
            ],
            [
             0.9,
             "rgb(33,102,172)"
            ],
            [
             1,
             "rgb(5,48,97)"
            ]
           ],
           "sequential": [
            [
             0,
             "#440154"
            ],
            [
             0.1111111111111111,
             "#482878"
            ],
            [
             0.2222222222222222,
             "#3e4989"
            ],
            [
             0.3333333333333333,
             "#31688e"
            ],
            [
             0.4444444444444444,
             "#26828e"
            ],
            [
             0.5555555555555556,
             "#1f9e89"
            ],
            [
             0.6666666666666666,
             "#35b779"
            ],
            [
             0.7777777777777778,
             "#6ece58"
            ],
            [
             0.8888888888888888,
             "#b5de2b"
            ],
            [
             1,
             "#fde725"
            ]
           ],
           "sequentialminus": [
            [
             0,
             "#440154"
            ],
            [
             0.1111111111111111,
             "#482878"
            ],
            [
             0.2222222222222222,
             "#3e4989"
            ],
            [
             0.3333333333333333,
             "#31688e"
            ],
            [
             0.4444444444444444,
             "#26828e"
            ],
            [
             0.5555555555555556,
             "#1f9e89"
            ],
            [
             0.6666666666666666,
             "#35b779"
            ],
            [
             0.7777777777777778,
             "#6ece58"
            ],
            [
             0.8888888888888888,
             "#b5de2b"
            ],
            [
             1,
             "#fde725"
            ]
           ]
          },
          "colorway": [
           "#1F77B4",
           "#FF7F0E",
           "#2CA02C",
           "#D62728",
           "#9467BD",
           "#8C564B",
           "#E377C2",
           "#7F7F7F",
           "#BCBD22",
           "#17BECF"
          ],
          "font": {
           "color": "rgb(36,36,36)"
          },
          "geo": {
           "bgcolor": "white",
           "lakecolor": "white",
           "landcolor": "white",
           "showlakes": true,
           "showland": true,
           "subunitcolor": "white"
          },
          "hoverlabel": {
           "align": "left"
          },
          "hovermode": "closest",
          "mapbox": {
           "style": "light"
          },
          "paper_bgcolor": "white",
          "plot_bgcolor": "white",
          "polar": {
           "angularaxis": {
            "gridcolor": "rgb(232,232,232)",
            "linecolor": "rgb(36,36,36)",
            "showgrid": false,
            "showline": true,
            "ticks": "outside"
           },
           "bgcolor": "white",
           "radialaxis": {
            "gridcolor": "rgb(232,232,232)",
            "linecolor": "rgb(36,36,36)",
            "showgrid": false,
            "showline": true,
            "ticks": "outside"
           }
          },
          "scene": {
           "xaxis": {
            "backgroundcolor": "white",
            "gridcolor": "rgb(232,232,232)",
            "gridwidth": 2,
            "linecolor": "rgb(36,36,36)",
            "showbackground": true,
            "showgrid": false,
            "showline": true,
            "ticks": "outside",
            "zeroline": false,
            "zerolinecolor": "rgb(36,36,36)"
           },
           "yaxis": {
            "backgroundcolor": "white",
            "gridcolor": "rgb(232,232,232)",
            "gridwidth": 2,
            "linecolor": "rgb(36,36,36)",
            "showbackground": true,
            "showgrid": false,
            "showline": true,
            "ticks": "outside",
            "zeroline": false,
            "zerolinecolor": "rgb(36,36,36)"
           },
           "zaxis": {
            "backgroundcolor": "white",
            "gridcolor": "rgb(232,232,232)",
            "gridwidth": 2,
            "linecolor": "rgb(36,36,36)",
            "showbackground": true,
            "showgrid": false,
            "showline": true,
            "ticks": "outside",
            "zeroline": false,
            "zerolinecolor": "rgb(36,36,36)"
           }
          },
          "shapedefaults": {
           "fillcolor": "black",
           "line": {
            "width": 0
           },
           "opacity": 0.3
          },
          "ternary": {
           "aaxis": {
            "gridcolor": "rgb(232,232,232)",
            "linecolor": "rgb(36,36,36)",
            "showgrid": false,
            "showline": true,
            "ticks": "outside"
           },
           "baxis": {
            "gridcolor": "rgb(232,232,232)",
            "linecolor": "rgb(36,36,36)",
            "showgrid": false,
            "showline": true,
            "ticks": "outside"
           },
           "bgcolor": "white",
           "caxis": {
            "gridcolor": "rgb(232,232,232)",
            "linecolor": "rgb(36,36,36)",
            "showgrid": false,
            "showline": true,
            "ticks": "outside"
           }
          },
          "title": {
           "x": 0.05
          },
          "xaxis": {
           "automargin": true,
           "gridcolor": "rgb(232,232,232)",
           "linecolor": "rgb(36,36,36)",
           "showgrid": false,
           "showline": true,
           "ticks": "outside",
           "title": {
            "standoff": 15
           },
           "zeroline": false,
           "zerolinecolor": "rgb(36,36,36)"
          },
          "yaxis": {
           "automargin": true,
           "gridcolor": "rgb(232,232,232)",
           "linecolor": "rgb(36,36,36)",
           "showgrid": false,
           "showline": true,
           "ticks": "outside",
           "title": {
            "standoff": 15
           },
           "zeroline": false,
           "zerolinecolor": "rgb(36,36,36)"
          }
         }
        },
        "title": {
         "text": "Protein & Form Factor"
        },
        "width": 1000,
        "xaxis": {
         "anchor": "y",
         "domain": [
          0,
          0.16000000000000003
         ],
         "range": [
          0,
          900
         ],
         "title": {
          "text": "count"
         }
        },
        "xaxis10": {
         "anchor": "y10",
         "domain": [
          0.8200000000000001,
          0.9800000000000001
         ],
         "matches": "x",
         "showticklabels": false
        },
        "xaxis11": {
         "anchor": "y11",
         "domain": [
          0,
          0.16000000000000003
         ],
         "matches": "x",
         "showticklabels": false
        },
        "xaxis12": {
         "anchor": "y12",
         "domain": [
          0.20500000000000002,
          0.36500000000000005
         ],
         "matches": "x",
         "showticklabels": false
        },
        "xaxis13": {
         "anchor": "y13",
         "domain": [
          0.41000000000000003,
          0.5700000000000001
         ],
         "matches": "x",
         "showticklabels": false
        },
        "xaxis14": {
         "anchor": "y14",
         "domain": [
          0.6150000000000001,
          0.7750000000000001
         ],
         "matches": "x",
         "showticklabels": false
        },
        "xaxis15": {
         "anchor": "y15",
         "domain": [
          0.8200000000000001,
          0.9800000000000001
         ],
         "matches": "x",
         "showticklabels": false
        },
        "xaxis2": {
         "anchor": "y2",
         "domain": [
          0.20500000000000002,
          0.36500000000000005
         ],
         "matches": "x",
         "range": [
          0,
          900
         ],
         "title": {
          "text": "count"
         }
        },
        "xaxis3": {
         "anchor": "y3",
         "domain": [
          0.41000000000000003,
          0.5700000000000001
         ],
         "matches": "x",
         "range": [
          0,
          900
         ],
         "title": {
          "text": "count"
         }
        },
        "xaxis4": {
         "anchor": "y4",
         "domain": [
          0.6150000000000001,
          0.7750000000000001
         ],
         "matches": "x",
         "range": [
          0,
          900
         ],
         "title": {
          "text": "count"
         }
        },
        "xaxis5": {
         "anchor": "y5",
         "domain": [
          0.8200000000000001,
          0.9800000000000001
         ],
         "matches": "x",
         "range": [
          0,
          900
         ],
         "title": {
          "text": "count"
         }
        },
        "xaxis6": {
         "anchor": "y6",
         "domain": [
          0,
          0.16000000000000003
         ],
         "matches": "x",
         "showticklabels": false
        },
        "xaxis7": {
         "anchor": "y7",
         "domain": [
          0.20500000000000002,
          0.36500000000000005
         ],
         "matches": "x",
         "showticklabels": false
        },
        "xaxis8": {
         "anchor": "y8",
         "domain": [
          0.41000000000000003,
          0.5700000000000001
         ],
         "matches": "x",
         "showticklabels": false
        },
        "xaxis9": {
         "anchor": "y9",
         "domain": [
          0.6150000000000001,
          0.7750000000000001
         ],
         "matches": "x",
         "showticklabels": false
        },
        "yaxis": {
         "anchor": "x",
         "domain": [
          0,
          0.30333333333333334
         ],
         "range": [
          0,
          9
         ],
         "title": {
          "text": "average"
         }
        },
        "yaxis10": {
         "anchor": "x10",
         "domain": [
          0.34833333333333333,
          0.6516666666666666
         ],
         "matches": "y",
         "showticklabels": false
        },
        "yaxis11": {
         "anchor": "x11",
         "domain": [
          0.6966666666666667,
          1
         ],
         "matches": "y",
         "range": [
          0,
          9
         ],
         "title": {
          "text": "average"
         }
        },
        "yaxis12": {
         "anchor": "x12",
         "domain": [
          0.6966666666666667,
          1
         ],
         "matches": "y",
         "showticklabels": false
        },
        "yaxis13": {
         "anchor": "x13",
         "domain": [
          0.6966666666666667,
          1
         ],
         "matches": "y",
         "showticklabels": false
        },
        "yaxis14": {
         "anchor": "x14",
         "domain": [
          0.6966666666666667,
          1
         ],
         "matches": "y",
         "showticklabels": false
        },
        "yaxis15": {
         "anchor": "x15",
         "domain": [
          0.6966666666666667,
          1
         ],
         "matches": "y",
         "showticklabels": false
        },
        "yaxis2": {
         "anchor": "x2",
         "domain": [
          0,
          0.30333333333333334
         ],
         "matches": "y",
         "showticklabels": false
        },
        "yaxis3": {
         "anchor": "x3",
         "domain": [
          0,
          0.30333333333333334
         ],
         "matches": "y",
         "showticklabels": false
        },
        "yaxis4": {
         "anchor": "x4",
         "domain": [
          0,
          0.30333333333333334
         ],
         "matches": "y",
         "showticklabels": false
        },
        "yaxis5": {
         "anchor": "x5",
         "domain": [
          0,
          0.30333333333333334
         ],
         "matches": "y",
         "showticklabels": false
        },
        "yaxis6": {
         "anchor": "x6",
         "domain": [
          0.34833333333333333,
          0.6516666666666666
         ],
         "matches": "y",
         "range": [
          0,
          9
         ],
         "title": {
          "text": "average"
         }
        },
        "yaxis7": {
         "anchor": "x7",
         "domain": [
          0.34833333333333333,
          0.6516666666666666
         ],
         "matches": "y",
         "showticklabels": false
        },
        "yaxis8": {
         "anchor": "x8",
         "domain": [
          0.34833333333333333,
          0.6516666666666666
         ],
         "matches": "y",
         "showticklabels": false
        },
        "yaxis9": {
         "anchor": "x9",
         "domain": [
          0.34833333333333333,
          0.6516666666666666
         ],
         "matches": "y",
         "showticklabels": false
        }
       }
      },
      "text/html": [
       "<div>                            <div id=\"dc9a8409-0fc4-470f-b64b-274f574418c3\" class=\"plotly-graph-div\" style=\"height:600px; width:1000px;\"></div>            <script type=\"text/javascript\">                require([\"plotly\"], function(Plotly) {                    window.PLOTLYENV=window.PLOTLYENV || {};                                    if (document.getElementById(\"dc9a8409-0fc4-470f-b64b-274f574418c3\")) {                    Plotly.newPlot(                        \"dc9a8409-0fc4-470f-b64b-274f574418c3\",                        [{\"hovertemplate\": \"Form=Bowls<br>Protein=Beef<br>count=%{x}<br>average=%{y}<br>text_labels=%{text}<extra></extra>\", \"legendgroup\": \"\", \"marker\": {\"color\": \"#1F77B4\", \"symbol\": \"circle\"}, \"mode\": \"markers+text\", \"name\": \"\", \"orientation\": \"v\", \"showlegend\": false, \"text\": [\"316,5.50\"], \"textposition\": \"top right\", \"type\": \"scatter\", \"x\": [316], \"xaxis\": \"x11\", \"y\": [5.503164556962025], \"yaxis\": \"y11\"}, {\"hovertemplate\": \"Form=Bowls<br>Protein=Chicken<br>count=%{x}<br>average=%{y}<br>text_labels=%{text}<extra></extra>\", \"legendgroup\": \"\", \"marker\": {\"color\": \"#1F77B4\", \"symbol\": \"circle\"}, \"mode\": \"markers+text\", \"name\": \"\", \"orientation\": \"v\", \"showlegend\": false, \"text\": [\"836,5.37\"], \"textposition\": \"top left\", \"type\": \"scatter\", \"x\": [836], \"xaxis\": \"x12\", \"y\": [5.3708133971291865], \"yaxis\": \"y12\"}, {\"hovertemplate\": \"Form=Bowls<br>Protein=Other<br>count=%{x}<br>average=%{y}<br>text_labels=%{text}<extra></extra>\", \"legendgroup\": \"\", \"marker\": {\"color\": \"#1F77B4\", \"symbol\": \"circle\"}, \"mode\": \"markers+text\", \"name\": \"\", \"orientation\": \"v\", \"showlegend\": false, \"text\": [\"2,5.50\"], \"textposition\": \"top right\", \"type\": \"scatter\", \"x\": [2], \"xaxis\": \"x13\", \"y\": [5.5], \"yaxis\": \"y13\"}, {\"hovertemplate\": \"Form=Bowls<br>Protein=Pork<br>count=%{x}<br>average=%{y}<br>text_labels=%{text}<extra></extra>\", \"legendgroup\": \"\", \"marker\": {\"color\": \"#1F77B4\", \"symbol\": \"circle\"}, \"mode\": \"markers+text\", \"name\": \"\", \"orientation\": \"v\", \"showlegend\": false, \"text\": [\"74,6.11\"], \"textposition\": \"top right\", \"type\": \"scatter\", \"x\": [74], \"xaxis\": \"x14\", \"y\": [6.108108108108108], \"yaxis\": \"y14\"}, {\"hovertemplate\": \"Form=Bowls<br>Protein=Veggie<br>count=%{x}<br>average=%{y}<br>text_labels=%{text}<extra></extra>\", \"legendgroup\": \"\", \"marker\": {\"color\": \"#1F77B4\", \"symbol\": \"circle\"}, \"mode\": \"markers+text\", \"name\": \"\", \"orientation\": \"v\", \"showlegend\": false, \"text\": [\"103,6.15\"], \"textposition\": \"top right\", \"type\": \"scatter\", \"x\": [103], \"xaxis\": \"x15\", \"y\": [6.145631067961165], \"yaxis\": \"y15\"}, {\"hovertemplate\": \"Form=Burritos<br>Protein=Beef<br>count=%{x}<br>average=%{y}<br>text_labels=%{text}<extra></extra>\", \"legendgroup\": \"\", \"marker\": {\"color\": \"#1F77B4\", \"symbol\": \"circle\"}, \"mode\": \"markers+text\", \"name\": \"\", \"orientation\": \"v\", \"showlegend\": false, \"text\": [\"459,5.36\"], \"textposition\": \"top right\", \"type\": \"scatter\", \"x\": [459], \"xaxis\": \"x6\", \"y\": [5.355119825708061], \"yaxis\": \"y6\"}, {\"hovertemplate\": \"Form=Burritos<br>Protein=Chicken<br>count=%{x}<br>average=%{y}<br>text_labels=%{text}<extra></extra>\", \"legendgroup\": \"\", \"marker\": {\"color\": \"#1F77B4\", \"symbol\": \"circle\"}, \"mode\": \"markers+text\", \"name\": \"\", \"orientation\": \"v\", \"showlegend\": false, \"text\": [\"553,5.33\"], \"textposition\": \"top right\", \"type\": \"scatter\", \"x\": [553], \"xaxis\": \"x7\", \"y\": [5.329113924050633], \"yaxis\": \"y7\"}, {\"hovertemplate\": \"Form=Burritos<br>Protein=Other<br>count=%{x}<br>average=%{y}<br>text_labels=%{text}<extra></extra>\", \"legendgroup\": \"\", \"marker\": {\"color\": \"#1F77B4\", \"symbol\": \"circle\"}, \"mode\": \"markers+text\", \"name\": \"\", \"orientation\": \"v\", \"showlegend\": false, \"text\": [\"6,5.83\"], \"textposition\": \"top right\", \"type\": \"scatter\", \"x\": [6], \"xaxis\": \"x8\", \"y\": [5.833333333333333], \"yaxis\": \"y8\"}, {\"hovertemplate\": \"Form=Burritos<br>Protein=Pork<br>count=%{x}<br>average=%{y}<br>text_labels=%{text}<extra></extra>\", \"legendgroup\": \"\", \"marker\": {\"color\": \"#1F77B4\", \"symbol\": \"circle\"}, \"mode\": \"markers+text\", \"name\": \"\", \"orientation\": \"v\", \"showlegend\": false, \"text\": [\"59,5.37\"], \"textposition\": \"top right\", \"type\": \"scatter\", \"x\": [59], \"xaxis\": \"x9\", \"y\": [5.372881355932203], \"yaxis\": \"y9\"}, {\"hovertemplate\": \"Form=Burritos<br>Protein=Veggie<br>count=%{x}<br>average=%{y}<br>text_labels=%{text}<extra></extra>\", \"legendgroup\": \"\", \"marker\": {\"color\": \"#1F77B4\", \"symbol\": \"circle\"}, \"mode\": \"markers+text\", \"name\": \"\", \"orientation\": \"v\", \"showlegend\": false, \"text\": [\"95,5.96\"], \"textposition\": \"top right\", \"type\": \"scatter\", \"x\": [95], \"xaxis\": \"x10\", \"y\": [5.957894736842105], \"yaxis\": \"y10\"}, {\"hovertemplate\": \"Form=Tacos<br>Protein=Beef<br>count=%{x}<br>average=%{y}<br>text_labels=%{text}<extra></extra>\", \"legendgroup\": \"\", \"marker\": {\"color\": \"#1F77B4\", \"symbol\": \"circle\"}, \"mode\": \"markers+text\", \"name\": \"\", \"orientation\": \"v\", \"showlegend\": false, \"text\": [\"126,4.37\"], \"textposition\": \"top right\", \"type\": \"scatter\", \"x\": [126], \"xaxis\": \"x\", \"y\": [4.373015873015873], \"yaxis\": \"y\"}, {\"hovertemplate\": \"Form=Tacos<br>Protein=Chicken<br>count=%{x}<br>average=%{y}<br>text_labels=%{text}<extra></extra>\", \"legendgroup\": \"\", \"marker\": {\"color\": \"#1F77B4\", \"symbol\": \"circle\"}, \"mode\": \"markers+text\", \"name\": \"\", \"orientation\": \"v\", \"showlegend\": false, \"text\": [\"162,4.22\"], \"textposition\": \"top right\", \"type\": \"scatter\", \"x\": [162], \"xaxis\": \"x2\", \"y\": [4.216049382716049], \"yaxis\": \"y2\"}, {\"hovertemplate\": \"Form=Tacos<br>Protein=Other<br>count=%{x}<br>average=%{y}<br>text_labels=%{text}<extra></extra>\", \"legendgroup\": \"\", \"marker\": {\"color\": \"#1F77B4\", \"symbol\": \"circle\"}, \"mode\": \"markers+text\", \"name\": \"\", \"orientation\": \"v\", \"showlegend\": false, \"text\": [\"2,1.00\"], \"textposition\": \"top right\", \"type\": \"scatter\", \"x\": [2], \"xaxis\": \"x3\", \"y\": [1.0], \"yaxis\": \"y3\"}, {\"hovertemplate\": \"Form=Tacos<br>Protein=Pork<br>count=%{x}<br>average=%{y}<br>text_labels=%{text}<extra></extra>\", \"legendgroup\": \"\", \"marker\": {\"color\": \"#1F77B4\", \"symbol\": \"circle\"}, \"mode\": \"markers+text\", \"name\": \"\", \"orientation\": \"v\", \"showlegend\": false, \"text\": [\"47,4.38\"], \"textposition\": \"top right\", \"type\": \"scatter\", \"x\": [47], \"xaxis\": \"x4\", \"y\": [4.382978723404255], \"yaxis\": \"y4\"}, {\"hovertemplate\": \"Form=Tacos<br>Protein=Veggie<br>count=%{x}<br>average=%{y}<br>text_labels=%{text}<extra></extra>\", \"legendgroup\": \"\", \"marker\": {\"color\": \"#1F77B4\", \"symbol\": \"circle\"}, \"mode\": \"markers+text\", \"name\": \"\", \"orientation\": \"v\", \"showlegend\": false, \"text\": [\"8,6.00\"], \"textposition\": \"top right\", \"type\": \"scatter\", \"x\": [8], \"xaxis\": \"x5\", \"y\": [6.0], \"yaxis\": \"y5\"}],                        {\"annotations\": [{\"font\": {}, \"showarrow\": false, \"text\": \"Protein=Beef\", \"x\": 0.08000000000000002, \"xanchor\": \"center\", \"xref\": \"paper\", \"y\": 1.0, \"yanchor\": \"bottom\", \"yref\": \"paper\"}, {\"font\": {}, \"showarrow\": false, \"text\": \"Protein=Chicken\", \"x\": 0.28500000000000003, \"xanchor\": \"center\", \"xref\": \"paper\", \"y\": 1.0, \"yanchor\": \"bottom\", \"yref\": \"paper\"}, {\"font\": {}, \"showarrow\": false, \"text\": \"Protein=Other\", \"x\": 0.49000000000000005, \"xanchor\": \"center\", \"xref\": \"paper\", \"y\": 1.0, \"yanchor\": \"bottom\", \"yref\": \"paper\"}, {\"font\": {}, \"showarrow\": false, \"text\": \"Protein=Pork\", \"x\": 0.6950000000000001, \"xanchor\": \"center\", \"xref\": \"paper\", \"y\": 1.0, \"yanchor\": \"bottom\", \"yref\": \"paper\"}, {\"font\": {}, \"showarrow\": false, \"text\": \"Protein=Veggie\", \"x\": 0.9000000000000001, \"xanchor\": \"center\", \"xref\": \"paper\", \"y\": 1.0, \"yanchor\": \"bottom\", \"yref\": \"paper\"}, {\"font\": {}, \"showarrow\": false, \"text\": \"Form=Tacos\", \"textangle\": 90, \"x\": 0.9800000000000001, \"xanchor\": \"left\", \"xref\": \"paper\", \"y\": 0.15166666666666667, \"yanchor\": \"middle\", \"yref\": \"paper\"}, {\"font\": {}, \"showarrow\": false, \"text\": \"Form=Burritos\", \"textangle\": 90, \"x\": 0.9800000000000001, \"xanchor\": \"left\", \"xref\": \"paper\", \"y\": 0.5, \"yanchor\": \"middle\", \"yref\": \"paper\"}, {\"font\": {}, \"showarrow\": false, \"text\": \"Form=Bowls\", \"textangle\": 90, \"x\": 0.9800000000000001, \"xanchor\": \"left\", \"xref\": \"paper\", \"y\": 0.8483333333333334, \"yanchor\": \"middle\", \"yref\": \"paper\"}], \"height\": 600, \"legend\": {\"tracegroupgap\": 0}, \"template\": {\"data\": {\"bar\": [{\"error_x\": {\"color\": \"rgb(36,36,36)\"}, \"error_y\": {\"color\": \"rgb(36,36,36)\"}, \"marker\": {\"line\": {\"color\": \"white\", \"width\": 0.5}}, \"type\": \"bar\"}], \"barpolar\": [{\"marker\": {\"line\": {\"color\": \"white\", \"width\": 0.5}}, \"type\": \"barpolar\"}], \"carpet\": [{\"aaxis\": {\"endlinecolor\": \"rgb(36,36,36)\", \"gridcolor\": \"white\", \"linecolor\": \"white\", \"minorgridcolor\": \"white\", \"startlinecolor\": \"rgb(36,36,36)\"}, \"baxis\": {\"endlinecolor\": \"rgb(36,36,36)\", \"gridcolor\": \"white\", \"linecolor\": \"white\", \"minorgridcolor\": \"white\", \"startlinecolor\": \"rgb(36,36,36)\"}, \"type\": \"carpet\"}], \"choropleth\": [{\"colorbar\": {\"outlinewidth\": 1, \"tickcolor\": \"rgb(36,36,36)\", \"ticks\": \"outside\"}, \"type\": \"choropleth\"}], \"contour\": [{\"colorbar\": {\"outlinewidth\": 1, \"tickcolor\": \"rgb(36,36,36)\", \"ticks\": \"outside\"}, \"colorscale\": [[0.0, \"#440154\"], [0.1111111111111111, \"#482878\"], [0.2222222222222222, \"#3e4989\"], [0.3333333333333333, \"#31688e\"], [0.4444444444444444, \"#26828e\"], [0.5555555555555556, \"#1f9e89\"], [0.6666666666666666, \"#35b779\"], [0.7777777777777778, \"#6ece58\"], [0.8888888888888888, \"#b5de2b\"], [1.0, \"#fde725\"]], \"type\": \"contour\"}], \"contourcarpet\": [{\"colorbar\": {\"outlinewidth\": 1, \"tickcolor\": \"rgb(36,36,36)\", \"ticks\": \"outside\"}, \"type\": \"contourcarpet\"}], \"heatmap\": [{\"colorbar\": {\"outlinewidth\": 1, \"tickcolor\": \"rgb(36,36,36)\", \"ticks\": \"outside\"}, \"colorscale\": [[0.0, \"#440154\"], [0.1111111111111111, \"#482878\"], [0.2222222222222222, \"#3e4989\"], [0.3333333333333333, \"#31688e\"], [0.4444444444444444, \"#26828e\"], [0.5555555555555556, \"#1f9e89\"], [0.6666666666666666, \"#35b779\"], [0.7777777777777778, \"#6ece58\"], [0.8888888888888888, \"#b5de2b\"], [1.0, \"#fde725\"]], \"type\": \"heatmap\"}], \"heatmapgl\": [{\"colorbar\": {\"outlinewidth\": 1, \"tickcolor\": \"rgb(36,36,36)\", \"ticks\": \"outside\"}, \"colorscale\": [[0.0, \"#440154\"], [0.1111111111111111, \"#482878\"], [0.2222222222222222, \"#3e4989\"], [0.3333333333333333, \"#31688e\"], [0.4444444444444444, \"#26828e\"], [0.5555555555555556, \"#1f9e89\"], [0.6666666666666666, \"#35b779\"], [0.7777777777777778, \"#6ece58\"], [0.8888888888888888, \"#b5de2b\"], [1.0, \"#fde725\"]], \"type\": \"heatmapgl\"}], \"histogram\": [{\"marker\": {\"line\": {\"color\": \"white\", \"width\": 0.6}}, \"type\": \"histogram\"}], \"histogram2d\": [{\"colorbar\": {\"outlinewidth\": 1, \"tickcolor\": \"rgb(36,36,36)\", \"ticks\": \"outside\"}, \"colorscale\": [[0.0, \"#440154\"], [0.1111111111111111, \"#482878\"], [0.2222222222222222, \"#3e4989\"], [0.3333333333333333, \"#31688e\"], [0.4444444444444444, \"#26828e\"], [0.5555555555555556, \"#1f9e89\"], [0.6666666666666666, \"#35b779\"], [0.7777777777777778, \"#6ece58\"], [0.8888888888888888, \"#b5de2b\"], [1.0, \"#fde725\"]], \"type\": \"histogram2d\"}], \"histogram2dcontour\": [{\"colorbar\": {\"outlinewidth\": 1, \"tickcolor\": \"rgb(36,36,36)\", \"ticks\": \"outside\"}, \"colorscale\": [[0.0, \"#440154\"], [0.1111111111111111, \"#482878\"], [0.2222222222222222, \"#3e4989\"], [0.3333333333333333, \"#31688e\"], [0.4444444444444444, \"#26828e\"], [0.5555555555555556, \"#1f9e89\"], [0.6666666666666666, \"#35b779\"], [0.7777777777777778, \"#6ece58\"], [0.8888888888888888, \"#b5de2b\"], [1.0, \"#fde725\"]], \"type\": \"histogram2dcontour\"}], \"mesh3d\": [{\"colorbar\": {\"outlinewidth\": 1, \"tickcolor\": \"rgb(36,36,36)\", \"ticks\": \"outside\"}, \"type\": \"mesh3d\"}], \"parcoords\": [{\"line\": {\"colorbar\": {\"outlinewidth\": 1, \"tickcolor\": \"rgb(36,36,36)\", \"ticks\": \"outside\"}}, \"type\": \"parcoords\"}], \"pie\": [{\"automargin\": true, \"type\": \"pie\"}], \"scatter\": [{\"marker\": {\"colorbar\": {\"outlinewidth\": 1, \"tickcolor\": \"rgb(36,36,36)\", \"ticks\": \"outside\"}}, \"type\": \"scatter\"}], \"scatter3d\": [{\"line\": {\"colorbar\": {\"outlinewidth\": 1, \"tickcolor\": \"rgb(36,36,36)\", \"ticks\": \"outside\"}}, \"marker\": {\"colorbar\": {\"outlinewidth\": 1, \"tickcolor\": \"rgb(36,36,36)\", \"ticks\": \"outside\"}}, \"type\": \"scatter3d\"}], \"scattercarpet\": [{\"marker\": {\"colorbar\": {\"outlinewidth\": 1, \"tickcolor\": \"rgb(36,36,36)\", \"ticks\": \"outside\"}}, \"type\": \"scattercarpet\"}], \"scattergeo\": [{\"marker\": {\"colorbar\": {\"outlinewidth\": 1, \"tickcolor\": \"rgb(36,36,36)\", \"ticks\": \"outside\"}}, \"type\": \"scattergeo\"}], \"scattergl\": [{\"marker\": {\"colorbar\": {\"outlinewidth\": 1, \"tickcolor\": \"rgb(36,36,36)\", \"ticks\": \"outside\"}}, \"type\": \"scattergl\"}], \"scattermapbox\": [{\"marker\": {\"colorbar\": {\"outlinewidth\": 1, \"tickcolor\": \"rgb(36,36,36)\", \"ticks\": \"outside\"}}, \"type\": \"scattermapbox\"}], \"scatterpolar\": [{\"marker\": {\"colorbar\": {\"outlinewidth\": 1, \"tickcolor\": \"rgb(36,36,36)\", \"ticks\": \"outside\"}}, \"type\": \"scatterpolar\"}], \"scatterpolargl\": [{\"marker\": {\"colorbar\": {\"outlinewidth\": 1, \"tickcolor\": \"rgb(36,36,36)\", \"ticks\": \"outside\"}}, \"type\": \"scatterpolargl\"}], \"scatterternary\": [{\"marker\": {\"colorbar\": {\"outlinewidth\": 1, \"tickcolor\": \"rgb(36,36,36)\", \"ticks\": \"outside\"}}, \"type\": \"scatterternary\"}], \"surface\": [{\"colorbar\": {\"outlinewidth\": 1, \"tickcolor\": \"rgb(36,36,36)\", \"ticks\": \"outside\"}, \"colorscale\": [[0.0, \"#440154\"], [0.1111111111111111, \"#482878\"], [0.2222222222222222, \"#3e4989\"], [0.3333333333333333, \"#31688e\"], [0.4444444444444444, \"#26828e\"], [0.5555555555555556, \"#1f9e89\"], [0.6666666666666666, \"#35b779\"], [0.7777777777777778, \"#6ece58\"], [0.8888888888888888, \"#b5de2b\"], [1.0, \"#fde725\"]], \"type\": \"surface\"}], \"table\": [{\"cells\": {\"fill\": {\"color\": \"rgb(237,237,237)\"}, \"line\": {\"color\": \"white\"}}, \"header\": {\"fill\": {\"color\": \"rgb(217,217,217)\"}, \"line\": {\"color\": \"white\"}}, \"type\": \"table\"}]}, \"layout\": {\"annotationdefaults\": {\"arrowhead\": 0, \"arrowwidth\": 1}, \"coloraxis\": {\"colorbar\": {\"outlinewidth\": 1, \"tickcolor\": \"rgb(36,36,36)\", \"ticks\": \"outside\"}}, \"colorscale\": {\"diverging\": [[0.0, \"rgb(103,0,31)\"], [0.1, \"rgb(178,24,43)\"], [0.2, \"rgb(214,96,77)\"], [0.3, \"rgb(244,165,130)\"], [0.4, \"rgb(253,219,199)\"], [0.5, \"rgb(247,247,247)\"], [0.6, \"rgb(209,229,240)\"], [0.7, \"rgb(146,197,222)\"], [0.8, \"rgb(67,147,195)\"], [0.9, \"rgb(33,102,172)\"], [1.0, \"rgb(5,48,97)\"]], \"sequential\": [[0.0, \"#440154\"], [0.1111111111111111, \"#482878\"], [0.2222222222222222, \"#3e4989\"], [0.3333333333333333, \"#31688e\"], [0.4444444444444444, \"#26828e\"], [0.5555555555555556, \"#1f9e89\"], [0.6666666666666666, \"#35b779\"], [0.7777777777777778, \"#6ece58\"], [0.8888888888888888, \"#b5de2b\"], [1.0, \"#fde725\"]], \"sequentialminus\": [[0.0, \"#440154\"], [0.1111111111111111, \"#482878\"], [0.2222222222222222, \"#3e4989\"], [0.3333333333333333, \"#31688e\"], [0.4444444444444444, \"#26828e\"], [0.5555555555555556, \"#1f9e89\"], [0.6666666666666666, \"#35b779\"], [0.7777777777777778, \"#6ece58\"], [0.8888888888888888, \"#b5de2b\"], [1.0, \"#fde725\"]]}, \"colorway\": [\"#1F77B4\", \"#FF7F0E\", \"#2CA02C\", \"#D62728\", \"#9467BD\", \"#8C564B\", \"#E377C2\", \"#7F7F7F\", \"#BCBD22\", \"#17BECF\"], \"font\": {\"color\": \"rgb(36,36,36)\"}, \"geo\": {\"bgcolor\": \"white\", \"lakecolor\": \"white\", \"landcolor\": \"white\", \"showlakes\": true, \"showland\": true, \"subunitcolor\": \"white\"}, \"hoverlabel\": {\"align\": \"left\"}, \"hovermode\": \"closest\", \"mapbox\": {\"style\": \"light\"}, \"paper_bgcolor\": \"white\", \"plot_bgcolor\": \"white\", \"polar\": {\"angularaxis\": {\"gridcolor\": \"rgb(232,232,232)\", \"linecolor\": \"rgb(36,36,36)\", \"showgrid\": false, \"showline\": true, \"ticks\": \"outside\"}, \"bgcolor\": \"white\", \"radialaxis\": {\"gridcolor\": \"rgb(232,232,232)\", \"linecolor\": \"rgb(36,36,36)\", \"showgrid\": false, \"showline\": true, \"ticks\": \"outside\"}}, \"scene\": {\"xaxis\": {\"backgroundcolor\": \"white\", \"gridcolor\": \"rgb(232,232,232)\", \"gridwidth\": 2, \"linecolor\": \"rgb(36,36,36)\", \"showbackground\": true, \"showgrid\": false, \"showline\": true, \"ticks\": \"outside\", \"zeroline\": false, \"zerolinecolor\": \"rgb(36,36,36)\"}, \"yaxis\": {\"backgroundcolor\": \"white\", \"gridcolor\": \"rgb(232,232,232)\", \"gridwidth\": 2, \"linecolor\": \"rgb(36,36,36)\", \"showbackground\": true, \"showgrid\": false, \"showline\": true, \"ticks\": \"outside\", \"zeroline\": false, \"zerolinecolor\": \"rgb(36,36,36)\"}, \"zaxis\": {\"backgroundcolor\": \"white\", \"gridcolor\": \"rgb(232,232,232)\", \"gridwidth\": 2, \"linecolor\": \"rgb(36,36,36)\", \"showbackground\": true, \"showgrid\": false, \"showline\": true, \"ticks\": \"outside\", \"zeroline\": false, \"zerolinecolor\": \"rgb(36,36,36)\"}}, \"shapedefaults\": {\"fillcolor\": \"black\", \"line\": {\"width\": 0}, \"opacity\": 0.3}, \"ternary\": {\"aaxis\": {\"gridcolor\": \"rgb(232,232,232)\", \"linecolor\": \"rgb(36,36,36)\", \"showgrid\": false, \"showline\": true, \"ticks\": \"outside\"}, \"baxis\": {\"gridcolor\": \"rgb(232,232,232)\", \"linecolor\": \"rgb(36,36,36)\", \"showgrid\": false, \"showline\": true, \"ticks\": \"outside\"}, \"bgcolor\": \"white\", \"caxis\": {\"gridcolor\": \"rgb(232,232,232)\", \"linecolor\": \"rgb(36,36,36)\", \"showgrid\": false, \"showline\": true, \"ticks\": \"outside\"}}, \"title\": {\"x\": 0.05}, \"xaxis\": {\"automargin\": true, \"gridcolor\": \"rgb(232,232,232)\", \"linecolor\": \"rgb(36,36,36)\", \"showgrid\": false, \"showline\": true, \"ticks\": \"outside\", \"title\": {\"standoff\": 15}, \"zeroline\": false, \"zerolinecolor\": \"rgb(36,36,36)\"}, \"yaxis\": {\"automargin\": true, \"gridcolor\": \"rgb(232,232,232)\", \"linecolor\": \"rgb(36,36,36)\", \"showgrid\": false, \"showline\": true, \"ticks\": \"outside\", \"title\": {\"standoff\": 15}, \"zeroline\": false, \"zerolinecolor\": \"rgb(36,36,36)\"}}}, \"title\": {\"text\": \"Protein & Form Factor\"}, \"width\": 1000, \"xaxis\": {\"anchor\": \"y\", \"domain\": [0.0, 0.16000000000000003], \"range\": [0, 900], \"title\": {\"text\": \"count\"}}, \"xaxis10\": {\"anchor\": \"y10\", \"domain\": [0.8200000000000001, 0.9800000000000001], \"matches\": \"x\", \"showticklabels\": false}, \"xaxis11\": {\"anchor\": \"y11\", \"domain\": [0.0, 0.16000000000000003], \"matches\": \"x\", \"showticklabels\": false}, \"xaxis12\": {\"anchor\": \"y12\", \"domain\": [0.20500000000000002, 0.36500000000000005], \"matches\": \"x\", \"showticklabels\": false}, \"xaxis13\": {\"anchor\": \"y13\", \"domain\": [0.41000000000000003, 0.5700000000000001], \"matches\": \"x\", \"showticklabels\": false}, \"xaxis14\": {\"anchor\": \"y14\", \"domain\": [0.6150000000000001, 0.7750000000000001], \"matches\": \"x\", \"showticklabels\": false}, \"xaxis15\": {\"anchor\": \"y15\", \"domain\": [0.8200000000000001, 0.9800000000000001], \"matches\": \"x\", \"showticklabels\": false}, \"xaxis2\": {\"anchor\": \"y2\", \"domain\": [0.20500000000000002, 0.36500000000000005], \"matches\": \"x\", \"range\": [0, 900], \"title\": {\"text\": \"count\"}}, \"xaxis3\": {\"anchor\": \"y3\", \"domain\": [0.41000000000000003, 0.5700000000000001], \"matches\": \"x\", \"range\": [0, 900], \"title\": {\"text\": \"count\"}}, \"xaxis4\": {\"anchor\": \"y4\", \"domain\": [0.6150000000000001, 0.7750000000000001], \"matches\": \"x\", \"range\": [0, 900], \"title\": {\"text\": \"count\"}}, \"xaxis5\": {\"anchor\": \"y5\", \"domain\": [0.8200000000000001, 0.9800000000000001], \"matches\": \"x\", \"range\": [0, 900], \"title\": {\"text\": \"count\"}}, \"xaxis6\": {\"anchor\": \"y6\", \"domain\": [0.0, 0.16000000000000003], \"matches\": \"x\", \"showticklabels\": false}, \"xaxis7\": {\"anchor\": \"y7\", \"domain\": [0.20500000000000002, 0.36500000000000005], \"matches\": \"x\", \"showticklabels\": false}, \"xaxis8\": {\"anchor\": \"y8\", \"domain\": [0.41000000000000003, 0.5700000000000001], \"matches\": \"x\", \"showticklabels\": false}, \"xaxis9\": {\"anchor\": \"y9\", \"domain\": [0.6150000000000001, 0.7750000000000001], \"matches\": \"x\", \"showticklabels\": false}, \"yaxis\": {\"anchor\": \"x\", \"domain\": [0.0, 0.30333333333333334], \"range\": [0, 9], \"title\": {\"text\": \"average\"}}, \"yaxis10\": {\"anchor\": \"x10\", \"domain\": [0.34833333333333333, 0.6516666666666666], \"matches\": \"y\", \"showticklabels\": false}, \"yaxis11\": {\"anchor\": \"x11\", \"domain\": [0.6966666666666667, 1.0], \"matches\": \"y\", \"range\": [0, 9], \"title\": {\"text\": \"average\"}}, \"yaxis12\": {\"anchor\": \"x12\", \"domain\": [0.6966666666666667, 1.0], \"matches\": \"y\", \"showticklabels\": false}, \"yaxis13\": {\"anchor\": \"x13\", \"domain\": [0.6966666666666667, 1.0], \"matches\": \"y\", \"showticklabels\": false}, \"yaxis14\": {\"anchor\": \"x14\", \"domain\": [0.6966666666666667, 1.0], \"matches\": \"y\", \"showticklabels\": false}, \"yaxis15\": {\"anchor\": \"x15\", \"domain\": [0.6966666666666667, 1.0], \"matches\": \"y\", \"showticklabels\": false}, \"yaxis2\": {\"anchor\": \"x2\", \"domain\": [0.0, 0.30333333333333334], \"matches\": \"y\", \"showticklabels\": false}, \"yaxis3\": {\"anchor\": \"x3\", \"domain\": [0.0, 0.30333333333333334], \"matches\": \"y\", \"showticklabels\": false}, \"yaxis4\": {\"anchor\": \"x4\", \"domain\": [0.0, 0.30333333333333334], \"matches\": \"y\", \"showticklabels\": false}, \"yaxis5\": {\"anchor\": \"x5\", \"domain\": [0.0, 0.30333333333333334], \"matches\": \"y\", \"showticklabels\": false}, \"yaxis6\": {\"anchor\": \"x6\", \"domain\": [0.34833333333333333, 0.6516666666666666], \"matches\": \"y\", \"range\": [0, 9], \"title\": {\"text\": \"average\"}}, \"yaxis7\": {\"anchor\": \"x7\", \"domain\": [0.34833333333333333, 0.6516666666666666], \"matches\": \"y\", \"showticklabels\": false}, \"yaxis8\": {\"anchor\": \"x8\", \"domain\": [0.34833333333333333, 0.6516666666666666], \"matches\": \"y\", \"showticklabels\": false}, \"yaxis9\": {\"anchor\": \"x9\", \"domain\": [0.34833333333333333, 0.6516666666666666], \"matches\": \"y\", \"showticklabels\": false}},                        {\"responsive\": true}                    ).then(function(){\n",
       "                            \n",
       "var gd = document.getElementById('dc9a8409-0fc4-470f-b64b-274f574418c3');\n",
       "var x = new MutationObserver(function (mutations, observer) {{\n",
       "        var display = window.getComputedStyle(gd).display;\n",
       "        if (!display || display === 'none') {{\n",
       "            console.log([gd, 'removed!']);\n",
       "            Plotly.purge(gd);\n",
       "            observer.disconnect();\n",
       "        }}\n",
       "}});\n",
       "\n",
       "// Listen for the removal of the full notebook cells\n",
       "var notebookContainer = gd.closest('#notebook-container');\n",
       "if (notebookContainer) {{\n",
       "    x.observe(notebookContainer, {childList: true});\n",
       "}}\n",
       "\n",
       "// Listen for the clearing of the current output cell\n",
       "var outputEl = gd.closest('.output');\n",
       "if (outputEl) {{\n",
       "    x.observe(outputEl, {childList: true});\n",
       "}}\n",
       "\n",
       "                        })                };                });            </script>        </div>"
      ]
     },
     "metadata": {},
     "output_type": "display_data"
    }
   ],
   "source": [
    "data = df_out\n",
    "fig = px.scatter(df_out,\n",
    "                x='count',y='average',\n",
    "                facet_row='form_factor',facet_col='protein',\n",
    "                labels = {\"form_factor\":\"Form\",\"protein\":\"Protein\"},\n",
    "                text = 'text_labels',\n",
    "                title='Protein & Form Factor',\n",
    "                template='simple_white',\n",
    "                range_x = (0,900), range_y=(0,9),\n",
    "                width=1000,height=600, facet_row_spacing=0.045,facet_col_spacing=0.045\n",
    ")\n",
    "fig.update_traces(textposition='top right')\n",
    "fig.update_traces(col=2, row=3,textposition='top left') # need to adjust Chicken/Bowls combination\n",
    "fig.show()"
   ]
  },
  {
   "cell_type": "markdown",
   "metadata": {},
   "source": [
    "## Look at distribution of order values, and order sizes"
   ]
  },
  {
   "cell_type": "code",
   "execution_count": 249,
   "metadata": {},
   "outputs": [
    {
     "data": {
      "text/html": [
       "<div>\n",
       "<style scoped>\n",
       "    .dataframe tbody tr th:only-of-type {\n",
       "        vertical-align: middle;\n",
       "    }\n",
       "\n",
       "    .dataframe tbody tr th {\n",
       "        vertical-align: top;\n",
       "    }\n",
       "\n",
       "    .dataframe thead th {\n",
       "        text-align: right;\n",
       "    }\n",
       "</style>\n",
       "<table border=\"1\" class=\"dataframe\">\n",
       "  <thead>\n",
       "    <tr style=\"text-align: right;\">\n",
       "      <th></th>\n",
       "      <th>order_id</th>\n",
       "      <th>quantity</th>\n",
       "      <th>item_name</th>\n",
       "      <th>choice_description</th>\n",
       "      <th>item_price</th>\n",
       "      <th>item_price_value</th>\n",
       "      <th>description_clean</th>\n",
       "      <th>number_of_choices</th>\n",
       "      <th>protein</th>\n",
       "      <th>form_factor</th>\n",
       "    </tr>\n",
       "  </thead>\n",
       "  <tbody>\n",
       "    <tr>\n",
       "      <th>0</th>\n",
       "      <td>1</td>\n",
       "      <td>1</td>\n",
       "      <td>Chips and Fresh Tomato Salsa</td>\n",
       "      <td>NaN</td>\n",
       "      <td>$2.39</td>\n",
       "      <td>2.39</td>\n",
       "      <td>NaN</td>\n",
       "      <td>NaN</td>\n",
       "      <td>Other</td>\n",
       "      <td>Other</td>\n",
       "    </tr>\n",
       "    <tr>\n",
       "      <th>1</th>\n",
       "      <td>1</td>\n",
       "      <td>1</td>\n",
       "      <td>Izze</td>\n",
       "      <td>[Clementine]</td>\n",
       "      <td>$3.39</td>\n",
       "      <td>3.39</td>\n",
       "      <td>Clementine</td>\n",
       "      <td>1.0</td>\n",
       "      <td>Other</td>\n",
       "      <td>Other</td>\n",
       "    </tr>\n",
       "    <tr>\n",
       "      <th>2</th>\n",
       "      <td>1</td>\n",
       "      <td>1</td>\n",
       "      <td>Nantucket Nectar</td>\n",
       "      <td>[Apple]</td>\n",
       "      <td>$3.39</td>\n",
       "      <td>3.39</td>\n",
       "      <td>Apple</td>\n",
       "      <td>1.0</td>\n",
       "      <td>Other</td>\n",
       "      <td>Other</td>\n",
       "    </tr>\n",
       "    <tr>\n",
       "      <th>3</th>\n",
       "      <td>1</td>\n",
       "      <td>1</td>\n",
       "      <td>Chips and Tomatillo-Green Chili Salsa</td>\n",
       "      <td>NaN</td>\n",
       "      <td>$2.39</td>\n",
       "      <td>2.39</td>\n",
       "      <td>NaN</td>\n",
       "      <td>NaN</td>\n",
       "      <td>Other</td>\n",
       "      <td>Other</td>\n",
       "    </tr>\n",
       "    <tr>\n",
       "      <th>4</th>\n",
       "      <td>2</td>\n",
       "      <td>2</td>\n",
       "      <td>Chicken Bowl</td>\n",
       "      <td>[Tomatillo-Red Chili Salsa (Hot), [Black Beans...</td>\n",
       "      <td>$16.98</td>\n",
       "      <td>16.98</td>\n",
       "      <td>Tomatillo-Red Chili Salsa (Hot), Black Beans, ...</td>\n",
       "      <td>5.0</td>\n",
       "      <td>Chicken</td>\n",
       "      <td>Bowl</td>\n",
       "    </tr>\n",
       "  </tbody>\n",
       "</table>\n",
       "</div>"
      ],
      "text/plain": [
       "   order_id  quantity                              item_name  \\\n",
       "0         1         1           Chips and Fresh Tomato Salsa   \n",
       "1         1         1                                   Izze   \n",
       "2         1         1                       Nantucket Nectar   \n",
       "3         1         1  Chips and Tomatillo-Green Chili Salsa   \n",
       "4         2         2                           Chicken Bowl   \n",
       "\n",
       "                                  choice_description item_price  \\\n",
       "0                                                NaN     $2.39    \n",
       "1                                       [Clementine]     $3.39    \n",
       "2                                            [Apple]     $3.39    \n",
       "3                                                NaN     $2.39    \n",
       "4  [Tomatillo-Red Chili Salsa (Hot), [Black Beans...    $16.98    \n",
       "\n",
       "   item_price_value                                  description_clean  \\\n",
       "0              2.39                                                NaN   \n",
       "1              3.39                                         Clementine   \n",
       "2              3.39                                              Apple   \n",
       "3              2.39                                                NaN   \n",
       "4             16.98  Tomatillo-Red Chili Salsa (Hot), Black Beans, ...   \n",
       "\n",
       "   number_of_choices  protein form_factor  \n",
       "0                NaN    Other       Other  \n",
       "1                1.0    Other       Other  \n",
       "2                1.0    Other       Other  \n",
       "3                NaN    Other       Other  \n",
       "4                5.0  Chicken        Bowl  "
      ]
     },
     "execution_count": 249,
     "metadata": {},
     "output_type": "execute_result"
    }
   ],
   "source": [
    "# Create a view of the orders / items in orderes\n",
    "\n",
    "df.head()"
   ]
  },
  {
   "cell_type": "code",
   "execution_count": 267,
   "metadata": {},
   "outputs": [
    {
     "data": {
      "text/html": [
       "<div>\n",
       "<style scoped>\n",
       "    .dataframe tbody tr th:only-of-type {\n",
       "        vertical-align: middle;\n",
       "    }\n",
       "\n",
       "    .dataframe tbody tr th {\n",
       "        vertical-align: top;\n",
       "    }\n",
       "\n",
       "    .dataframe thead th {\n",
       "        text-align: right;\n",
       "    }\n",
       "</style>\n",
       "<table border=\"1\" class=\"dataframe\">\n",
       "  <thead>\n",
       "    <tr style=\"text-align: right;\">\n",
       "      <th></th>\n",
       "      <th>order_id</th>\n",
       "      <th>quantity</th>\n",
       "      <th>item_price_value</th>\n",
       "    </tr>\n",
       "  </thead>\n",
       "  <tbody>\n",
       "    <tr>\n",
       "      <th>0</th>\n",
       "      <td>1</td>\n",
       "      <td>1</td>\n",
       "      <td>2.39</td>\n",
       "    </tr>\n",
       "    <tr>\n",
       "      <th>1</th>\n",
       "      <td>1</td>\n",
       "      <td>1</td>\n",
       "      <td>3.39</td>\n",
       "    </tr>\n",
       "    <tr>\n",
       "      <th>2</th>\n",
       "      <td>1</td>\n",
       "      <td>1</td>\n",
       "      <td>3.39</td>\n",
       "    </tr>\n",
       "    <tr>\n",
       "      <th>3</th>\n",
       "      <td>1</td>\n",
       "      <td>1</td>\n",
       "      <td>2.39</td>\n",
       "    </tr>\n",
       "    <tr>\n",
       "      <th>4</th>\n",
       "      <td>2</td>\n",
       "      <td>2</td>\n",
       "      <td>16.98</td>\n",
       "    </tr>\n",
       "    <tr>\n",
       "      <th>...</th>\n",
       "      <td>...</td>\n",
       "      <td>...</td>\n",
       "      <td>...</td>\n",
       "    </tr>\n",
       "    <tr>\n",
       "      <th>4617</th>\n",
       "      <td>1833</td>\n",
       "      <td>1</td>\n",
       "      <td>11.75</td>\n",
       "    </tr>\n",
       "    <tr>\n",
       "      <th>4618</th>\n",
       "      <td>1833</td>\n",
       "      <td>1</td>\n",
       "      <td>11.75</td>\n",
       "    </tr>\n",
       "    <tr>\n",
       "      <th>4619</th>\n",
       "      <td>1834</td>\n",
       "      <td>1</td>\n",
       "      <td>11.25</td>\n",
       "    </tr>\n",
       "    <tr>\n",
       "      <th>4620</th>\n",
       "      <td>1834</td>\n",
       "      <td>1</td>\n",
       "      <td>8.75</td>\n",
       "    </tr>\n",
       "    <tr>\n",
       "      <th>4621</th>\n",
       "      <td>1834</td>\n",
       "      <td>1</td>\n",
       "      <td>8.75</td>\n",
       "    </tr>\n",
       "  </tbody>\n",
       "</table>\n",
       "<p>4622 rows × 3 columns</p>\n",
       "</div>"
      ],
      "text/plain": [
       "      order_id  quantity  item_price_value\n",
       "0            1         1              2.39\n",
       "1            1         1              3.39\n",
       "2            1         1              3.39\n",
       "3            1         1              2.39\n",
       "4            2         2             16.98\n",
       "...        ...       ...               ...\n",
       "4617      1833         1             11.75\n",
       "4618      1833         1             11.75\n",
       "4619      1834         1             11.25\n",
       "4620      1834         1              8.75\n",
       "4621      1834         1              8.75\n",
       "\n",
       "[4622 rows x 3 columns]"
      ]
     },
     "execution_count": 267,
     "metadata": {},
     "output_type": "execute_result"
    }
   ],
   "source": [
    "df[['order_id','quantity','item_price_value']]"
   ]
  },
  {
   "cell_type": "code",
   "execution_count": 272,
   "metadata": {},
   "outputs": [],
   "source": [
    "?pd.Series.sum"
   ]
  },
  {
   "cell_type": "code",
   "execution_count": 288,
   "metadata": {},
   "outputs": [],
   "source": [
    "df_orders = df[['quantity','item_price_value']].groupby(df['order_id']).sum().reset_index()"
   ]
  },
  {
   "cell_type": "code",
   "execution_count": 289,
   "metadata": {},
   "outputs": [],
   "source": [
    "df_orders['avg_price_per_item'] = df_orders['item_price_value'] / df_orders['quantity']"
   ]
  },
  {
   "cell_type": "code",
   "execution_count": 309,
   "metadata": {},
   "outputs": [],
   "source": [
    "?df.rename"
   ]
  },
  {
   "cell_type": "code",
   "execution_count": 290,
   "metadata": {},
   "outputs": [],
   "source": [
    "df_orders.rename(columns={'quantity':'items_per_order','item_price_value':'order_value'},inplace=True)"
   ]
  },
  {
   "cell_type": "code",
   "execution_count": 291,
   "metadata": {},
   "outputs": [
    {
     "data": {
      "text/html": [
       "<div>\n",
       "<style scoped>\n",
       "    .dataframe tbody tr th:only-of-type {\n",
       "        vertical-align: middle;\n",
       "    }\n",
       "\n",
       "    .dataframe tbody tr th {\n",
       "        vertical-align: top;\n",
       "    }\n",
       "\n",
       "    .dataframe thead th {\n",
       "        text-align: right;\n",
       "    }\n",
       "</style>\n",
       "<table border=\"1\" class=\"dataframe\">\n",
       "  <thead>\n",
       "    <tr style=\"text-align: right;\">\n",
       "      <th></th>\n",
       "      <th>order_id</th>\n",
       "      <th>items_per_order</th>\n",
       "      <th>order_value</th>\n",
       "      <th>avg_price_per_item</th>\n",
       "    </tr>\n",
       "  </thead>\n",
       "  <tbody>\n",
       "    <tr>\n",
       "      <th>0</th>\n",
       "      <td>1</td>\n",
       "      <td>4</td>\n",
       "      <td>11.56</td>\n",
       "      <td>2.890000</td>\n",
       "    </tr>\n",
       "    <tr>\n",
       "      <th>1</th>\n",
       "      <td>2</td>\n",
       "      <td>2</td>\n",
       "      <td>16.98</td>\n",
       "      <td>8.490000</td>\n",
       "    </tr>\n",
       "    <tr>\n",
       "      <th>2</th>\n",
       "      <td>3</td>\n",
       "      <td>2</td>\n",
       "      <td>12.67</td>\n",
       "      <td>6.335000</td>\n",
       "    </tr>\n",
       "    <tr>\n",
       "      <th>3</th>\n",
       "      <td>4</td>\n",
       "      <td>2</td>\n",
       "      <td>21.00</td>\n",
       "      <td>10.500000</td>\n",
       "    </tr>\n",
       "    <tr>\n",
       "      <th>4</th>\n",
       "      <td>5</td>\n",
       "      <td>2</td>\n",
       "      <td>13.70</td>\n",
       "      <td>6.850000</td>\n",
       "    </tr>\n",
       "    <tr>\n",
       "      <th>...</th>\n",
       "      <td>...</td>\n",
       "      <td>...</td>\n",
       "      <td>...</td>\n",
       "      <td>...</td>\n",
       "    </tr>\n",
       "    <tr>\n",
       "      <th>1829</th>\n",
       "      <td>1830</td>\n",
       "      <td>2</td>\n",
       "      <td>23.00</td>\n",
       "      <td>11.500000</td>\n",
       "    </tr>\n",
       "    <tr>\n",
       "      <th>1830</th>\n",
       "      <td>1831</td>\n",
       "      <td>3</td>\n",
       "      <td>12.90</td>\n",
       "      <td>4.300000</td>\n",
       "    </tr>\n",
       "    <tr>\n",
       "      <th>1831</th>\n",
       "      <td>1832</td>\n",
       "      <td>2</td>\n",
       "      <td>13.20</td>\n",
       "      <td>6.600000</td>\n",
       "    </tr>\n",
       "    <tr>\n",
       "      <th>1832</th>\n",
       "      <td>1833</td>\n",
       "      <td>2</td>\n",
       "      <td>23.50</td>\n",
       "      <td>11.750000</td>\n",
       "    </tr>\n",
       "    <tr>\n",
       "      <th>1833</th>\n",
       "      <td>1834</td>\n",
       "      <td>3</td>\n",
       "      <td>28.75</td>\n",
       "      <td>9.583333</td>\n",
       "    </tr>\n",
       "  </tbody>\n",
       "</table>\n",
       "<p>1834 rows × 4 columns</p>\n",
       "</div>"
      ],
      "text/plain": [
       "      order_id  items_per_order  order_value  avg_price_per_item\n",
       "0            1                4        11.56            2.890000\n",
       "1            2                2        16.98            8.490000\n",
       "2            3                2        12.67            6.335000\n",
       "3            4                2        21.00           10.500000\n",
       "4            5                2        13.70            6.850000\n",
       "...        ...              ...          ...                 ...\n",
       "1829      1830                2        23.00           11.500000\n",
       "1830      1831                3        12.90            4.300000\n",
       "1831      1832                2        13.20            6.600000\n",
       "1832      1833                2        23.50           11.750000\n",
       "1833      1834                3        28.75            9.583333\n",
       "\n",
       "[1834 rows x 4 columns]"
      ]
     },
     "execution_count": 291,
     "metadata": {},
     "output_type": "execute_result"
    }
   ],
   "source": [
    "df_orders"
   ]
  },
  {
   "cell_type": "code",
   "execution_count": 296,
   "metadata": {},
   "outputs": [
    {
     "data": {
      "text/plain": [
       "count    1834.000000\n",
       "mean       18.811429\n",
       "std        11.652512\n",
       "min        10.080000\n",
       "25%        12.572500\n",
       "50%        16.200000\n",
       "75%        21.960000\n",
       "max       205.250000\n",
       "Name: order_value, dtype: float64"
      ]
     },
     "execution_count": 296,
     "metadata": {},
     "output_type": "execute_result"
    }
   ],
   "source": [
    "df_orders['order_value'].describe()"
   ]
  },
  {
   "cell_type": "code",
   "execution_count": 297,
   "metadata": {},
   "outputs": [
    {
     "data": {
      "text/plain": [
       "count    1834.000000\n",
       "mean        2.711014\n",
       "std         1.677624\n",
       "min         1.000000\n",
       "25%         2.000000\n",
       "50%         2.000000\n",
       "75%         3.000000\n",
       "max        35.000000\n",
       "Name: items_per_order, dtype: float64"
      ]
     },
     "execution_count": 297,
     "metadata": {},
     "output_type": "execute_result"
    }
   ],
   "source": [
    "df_orders['items_per_order'].describe()"
   ]
  },
  {
   "cell_type": "code",
   "execution_count": 298,
   "metadata": {
    "scrolled": false
   },
   "outputs": [
    {
     "data": {
      "application/vnd.plotly.v1+json": {
       "config": {
        "plotlyServerURL": "https://plot.ly"
       },
       "data": [
        {
         "alignmentgroup": "True",
         "hovertemplate": "variable=%{x}<br>value=%{y}<extra></extra>",
         "legendgroup": "",
         "marker": {
          "color": "#1F77B4"
         },
         "name": "",
         "notched": false,
         "offsetgroup": "",
         "orientation": "v",
         "showlegend": false,
         "type": "box",
         "x": [
          "items_per_order",
          "items_per_order",
          "items_per_order",
          "items_per_order",
          "items_per_order",
          "items_per_order",
          "items_per_order",
          "items_per_order",
          "items_per_order",
          "items_per_order",
          "items_per_order",
          "items_per_order",
          "items_per_order",
          "items_per_order",
          "items_per_order",
          "items_per_order",
          "items_per_order",
          "items_per_order",
          "items_per_order",
          "items_per_order",
          "items_per_order",
          "items_per_order",
          "items_per_order",
          "items_per_order",
          "items_per_order",
          "items_per_order",
          "items_per_order",
          "items_per_order",
          "items_per_order",
          "items_per_order",
          "items_per_order",
          "items_per_order",
          "items_per_order",
          "items_per_order",
          "items_per_order",
          "items_per_order",
          "items_per_order",
          "items_per_order",
          "items_per_order",
          "items_per_order",
          "items_per_order",
          "items_per_order",
          "items_per_order",
          "items_per_order",
          "items_per_order",
          "items_per_order",
          "items_per_order",
          "items_per_order",
          "items_per_order",
          "items_per_order",
          "items_per_order",
          "items_per_order",
          "items_per_order",
          "items_per_order",
          "items_per_order",
          "items_per_order",
          "items_per_order",
          "items_per_order",
          "items_per_order",
          "items_per_order",
          "items_per_order",
          "items_per_order",
          "items_per_order",
          "items_per_order",
          "items_per_order",
          "items_per_order",
          "items_per_order",
          "items_per_order",
          "items_per_order",
          "items_per_order",
          "items_per_order",
          "items_per_order",
          "items_per_order",
          "items_per_order",
          "items_per_order",
          "items_per_order",
          "items_per_order",
          "items_per_order",
          "items_per_order",
          "items_per_order",
          "items_per_order",
          "items_per_order",
          "items_per_order",
          "items_per_order",
          "items_per_order",
          "items_per_order",
          "items_per_order",
          "items_per_order",
          "items_per_order",
          "items_per_order",
          "items_per_order",
          "items_per_order",
          "items_per_order",
          "items_per_order",
          "items_per_order",
          "items_per_order",
          "items_per_order",
          "items_per_order",
          "items_per_order",
          "items_per_order",
          "items_per_order",
          "items_per_order",
          "items_per_order",
          "items_per_order",
          "items_per_order",
          "items_per_order",
          "items_per_order",
          "items_per_order",
          "items_per_order",
          "items_per_order",
          "items_per_order",
          "items_per_order",
          "items_per_order",
          "items_per_order",
          "items_per_order",
          "items_per_order",
          "items_per_order",
          "items_per_order",
          "items_per_order",
          "items_per_order",
          "items_per_order",
          "items_per_order",
          "items_per_order",
          "items_per_order",
          "items_per_order",
          "items_per_order",
          "items_per_order",
          "items_per_order",
          "items_per_order",
          "items_per_order",
          "items_per_order",
          "items_per_order",
          "items_per_order",
          "items_per_order",
          "items_per_order",
          "items_per_order",
          "items_per_order",
          "items_per_order",
          "items_per_order",
          "items_per_order",
          "items_per_order",
          "items_per_order",
          "items_per_order",
          "items_per_order",
          "items_per_order",
          "items_per_order",
          "items_per_order",
          "items_per_order",
          "items_per_order",
          "items_per_order",
          "items_per_order",
          "items_per_order",
          "items_per_order",
          "items_per_order",
          "items_per_order",
          "items_per_order",
          "items_per_order",
          "items_per_order",
          "items_per_order",
          "items_per_order",
          "items_per_order",
          "items_per_order",
          "items_per_order",
          "items_per_order",
          "items_per_order",
          "items_per_order",
          "items_per_order",
          "items_per_order",
          "items_per_order",
          "items_per_order",
          "items_per_order",
          "items_per_order",
          "items_per_order",
          "items_per_order",
          "items_per_order",
          "items_per_order",
          "items_per_order",
          "items_per_order",
          "items_per_order",
          "items_per_order",
          "items_per_order",
          "items_per_order",
          "items_per_order",
          "items_per_order",
          "items_per_order",
          "items_per_order",
          "items_per_order",
          "items_per_order",
          "items_per_order",
          "items_per_order",
          "items_per_order",
          "items_per_order",
          "items_per_order",
          "items_per_order",
          "items_per_order",
          "items_per_order",
          "items_per_order",
          "items_per_order",
          "items_per_order",
          "items_per_order",
          "items_per_order",
          "items_per_order",
          "items_per_order",
          "items_per_order",
          "items_per_order",
          "items_per_order",
          "items_per_order",
          "items_per_order",
          "items_per_order",
          "items_per_order",
          "items_per_order",
          "items_per_order",
          "items_per_order",
          "items_per_order",
          "items_per_order",
          "items_per_order",
          "items_per_order",
          "items_per_order",
          "items_per_order",
          "items_per_order",
          "items_per_order",
          "items_per_order",
          "items_per_order",
          "items_per_order",
          "items_per_order",
          "items_per_order",
          "items_per_order",
          "items_per_order",
          "items_per_order",
          "items_per_order",
          "items_per_order",
          "items_per_order",
          "items_per_order",
          "items_per_order",
          "items_per_order",
          "items_per_order",
          "items_per_order",
          "items_per_order",
          "items_per_order",
          "items_per_order",
          "items_per_order",
          "items_per_order",
          "items_per_order",
          "items_per_order",
          "items_per_order",
          "items_per_order",
          "items_per_order",
          "items_per_order",
          "items_per_order",
          "items_per_order",
          "items_per_order",
          "items_per_order",
          "items_per_order",
          "items_per_order",
          "items_per_order",
          "items_per_order",
          "items_per_order",
          "items_per_order",
          "items_per_order",
          "items_per_order",
          "items_per_order",
          "items_per_order",
          "items_per_order",
          "items_per_order",
          "items_per_order",
          "items_per_order",
          "items_per_order",
          "items_per_order",
          "items_per_order",
          "items_per_order",
          "items_per_order",
          "items_per_order",
          "items_per_order",
          "items_per_order",
          "items_per_order",
          "items_per_order",
          "items_per_order",
          "items_per_order",
          "items_per_order",
          "items_per_order",
          "items_per_order",
          "items_per_order",
          "items_per_order",
          "items_per_order",
          "items_per_order",
          "items_per_order",
          "items_per_order",
          "items_per_order",
          "items_per_order",
          "items_per_order",
          "items_per_order",
          "items_per_order",
          "items_per_order",
          "items_per_order",
          "items_per_order",
          "items_per_order",
          "items_per_order",
          "items_per_order",
          "items_per_order",
          "items_per_order",
          "items_per_order",
          "items_per_order",
          "items_per_order",
          "items_per_order",
          "items_per_order",
          "items_per_order",
          "items_per_order",
          "items_per_order",
          "items_per_order",
          "items_per_order",
          "items_per_order",
          "items_per_order",
          "items_per_order",
          "items_per_order",
          "items_per_order",
          "items_per_order",
          "items_per_order",
          "items_per_order",
          "items_per_order",
          "items_per_order",
          "items_per_order",
          "items_per_order",
          "items_per_order",
          "items_per_order",
          "items_per_order",
          "items_per_order",
          "items_per_order",
          "items_per_order",
          "items_per_order",
          "items_per_order",
          "items_per_order",
          "items_per_order",
          "items_per_order",
          "items_per_order",
          "items_per_order",
          "items_per_order",
          "items_per_order",
          "items_per_order",
          "items_per_order",
          "items_per_order",
          "items_per_order",
          "items_per_order",
          "items_per_order",
          "items_per_order",
          "items_per_order",
          "items_per_order",
          "items_per_order",
          "items_per_order",
          "items_per_order",
          "items_per_order",
          "items_per_order",
          "items_per_order",
          "items_per_order",
          "items_per_order",
          "items_per_order",
          "items_per_order",
          "items_per_order",
          "items_per_order",
          "items_per_order",
          "items_per_order",
          "items_per_order",
          "items_per_order",
          "items_per_order",
          "items_per_order",
          "items_per_order",
          "items_per_order",
          "items_per_order",
          "items_per_order",
          "items_per_order",
          "items_per_order",
          "items_per_order",
          "items_per_order",
          "items_per_order",
          "items_per_order",
          "items_per_order",
          "items_per_order",
          "items_per_order",
          "items_per_order",
          "items_per_order",
          "items_per_order",
          "items_per_order",
          "items_per_order",
          "items_per_order",
          "items_per_order",
          "items_per_order",
          "items_per_order",
          "items_per_order",
          "items_per_order",
          "items_per_order",
          "items_per_order",
          "items_per_order",
          "items_per_order",
          "items_per_order",
          "items_per_order",
          "items_per_order",
          "items_per_order",
          "items_per_order",
          "items_per_order",
          "items_per_order",
          "items_per_order",
          "items_per_order",
          "items_per_order",
          "items_per_order",
          "items_per_order",
          "items_per_order",
          "items_per_order",
          "items_per_order",
          "items_per_order",
          "items_per_order",
          "items_per_order",
          "items_per_order",
          "items_per_order",
          "items_per_order",
          "items_per_order",
          "items_per_order",
          "items_per_order",
          "items_per_order",
          "items_per_order",
          "items_per_order",
          "items_per_order",
          "items_per_order",
          "items_per_order",
          "items_per_order",
          "items_per_order",
          "items_per_order",
          "items_per_order",
          "items_per_order",
          "items_per_order",
          "items_per_order",
          "items_per_order",
          "items_per_order",
          "items_per_order",
          "items_per_order",
          "items_per_order",
          "items_per_order",
          "items_per_order",
          "items_per_order",
          "items_per_order",
          "items_per_order",
          "items_per_order",
          "items_per_order",
          "items_per_order",
          "items_per_order",
          "items_per_order",
          "items_per_order",
          "items_per_order",
          "items_per_order",
          "items_per_order",
          "items_per_order",
          "items_per_order",
          "items_per_order",
          "items_per_order",
          "items_per_order",
          "items_per_order",
          "items_per_order",
          "items_per_order",
          "items_per_order",
          "items_per_order",
          "items_per_order",
          "items_per_order",
          "items_per_order",
          "items_per_order",
          "items_per_order",
          "items_per_order",
          "items_per_order",
          "items_per_order",
          "items_per_order",
          "items_per_order",
          "items_per_order",
          "items_per_order",
          "items_per_order",
          "items_per_order",
          "items_per_order",
          "items_per_order",
          "items_per_order",
          "items_per_order",
          "items_per_order",
          "items_per_order",
          "items_per_order",
          "items_per_order",
          "items_per_order",
          "items_per_order",
          "items_per_order",
          "items_per_order",
          "items_per_order",
          "items_per_order",
          "items_per_order",
          "items_per_order",
          "items_per_order",
          "items_per_order",
          "items_per_order",
          "items_per_order",
          "items_per_order",
          "items_per_order",
          "items_per_order",
          "items_per_order",
          "items_per_order",
          "items_per_order",
          "items_per_order",
          "items_per_order",
          "items_per_order",
          "items_per_order",
          "items_per_order",
          "items_per_order",
          "items_per_order",
          "items_per_order",
          "items_per_order",
          "items_per_order",
          "items_per_order",
          "items_per_order",
          "items_per_order",
          "items_per_order",
          "items_per_order",
          "items_per_order",
          "items_per_order",
          "items_per_order",
          "items_per_order",
          "items_per_order",
          "items_per_order",
          "items_per_order",
          "items_per_order",
          "items_per_order",
          "items_per_order",
          "items_per_order",
          "items_per_order",
          "items_per_order",
          "items_per_order",
          "items_per_order",
          "items_per_order",
          "items_per_order",
          "items_per_order",
          "items_per_order",
          "items_per_order",
          "items_per_order",
          "items_per_order",
          "items_per_order",
          "items_per_order",
          "items_per_order",
          "items_per_order",
          "items_per_order",
          "items_per_order",
          "items_per_order",
          "items_per_order",
          "items_per_order",
          "items_per_order",
          "items_per_order",
          "items_per_order",
          "items_per_order",
          "items_per_order",
          "items_per_order",
          "items_per_order",
          "items_per_order",
          "items_per_order",
          "items_per_order",
          "items_per_order",
          "items_per_order",
          "items_per_order",
          "items_per_order",
          "items_per_order",
          "items_per_order",
          "items_per_order",
          "items_per_order",
          "items_per_order",
          "items_per_order",
          "items_per_order",
          "items_per_order",
          "items_per_order",
          "items_per_order",
          "items_per_order",
          "items_per_order",
          "items_per_order",
          "items_per_order",
          "items_per_order",
          "items_per_order",
          "items_per_order",
          "items_per_order",
          "items_per_order",
          "items_per_order",
          "items_per_order",
          "items_per_order",
          "items_per_order",
          "items_per_order",
          "items_per_order",
          "items_per_order",
          "items_per_order",
          "items_per_order",
          "items_per_order",
          "items_per_order",
          "items_per_order",
          "items_per_order",
          "items_per_order",
          "items_per_order",
          "items_per_order",
          "items_per_order",
          "items_per_order",
          "items_per_order",
          "items_per_order",
          "items_per_order",
          "items_per_order",
          "items_per_order",
          "items_per_order",
          "items_per_order",
          "items_per_order",
          "items_per_order",
          "items_per_order",
          "items_per_order",
          "items_per_order",
          "items_per_order",
          "items_per_order",
          "items_per_order",
          "items_per_order",
          "items_per_order",
          "items_per_order",
          "items_per_order",
          "items_per_order",
          "items_per_order",
          "items_per_order",
          "items_per_order",
          "items_per_order",
          "items_per_order",
          "items_per_order",
          "items_per_order",
          "items_per_order",
          "items_per_order",
          "items_per_order",
          "items_per_order",
          "items_per_order",
          "items_per_order",
          "items_per_order",
          "items_per_order",
          "items_per_order",
          "items_per_order",
          "items_per_order",
          "items_per_order",
          "items_per_order",
          "items_per_order",
          "items_per_order",
          "items_per_order",
          "items_per_order",
          "items_per_order",
          "items_per_order",
          "items_per_order",
          "items_per_order",
          "items_per_order",
          "items_per_order",
          "items_per_order",
          "items_per_order",
          "items_per_order",
          "items_per_order",
          "items_per_order",
          "items_per_order",
          "items_per_order",
          "items_per_order",
          "items_per_order",
          "items_per_order",
          "items_per_order",
          "items_per_order",
          "items_per_order",
          "items_per_order",
          "items_per_order",
          "items_per_order",
          "items_per_order",
          "items_per_order",
          "items_per_order",
          "items_per_order",
          "items_per_order",
          "items_per_order",
          "items_per_order",
          "items_per_order",
          "items_per_order",
          "items_per_order",
          "items_per_order",
          "items_per_order",
          "items_per_order",
          "items_per_order",
          "items_per_order",
          "items_per_order",
          "items_per_order",
          "items_per_order",
          "items_per_order",
          "items_per_order",
          "items_per_order",
          "items_per_order",
          "items_per_order",
          "items_per_order",
          "items_per_order",
          "items_per_order",
          "items_per_order",
          "items_per_order",
          "items_per_order",
          "items_per_order",
          "items_per_order",
          "items_per_order",
          "items_per_order",
          "items_per_order",
          "items_per_order",
          "items_per_order",
          "items_per_order",
          "items_per_order",
          "items_per_order",
          "items_per_order",
          "items_per_order",
          "items_per_order",
          "items_per_order",
          "items_per_order",
          "items_per_order",
          "items_per_order",
          "items_per_order",
          "items_per_order",
          "items_per_order",
          "items_per_order",
          "items_per_order",
          "items_per_order",
          "items_per_order",
          "items_per_order",
          "items_per_order",
          "items_per_order",
          "items_per_order",
          "items_per_order",
          "items_per_order",
          "items_per_order",
          "items_per_order",
          "items_per_order",
          "items_per_order",
          "items_per_order",
          "items_per_order",
          "items_per_order",
          "items_per_order",
          "items_per_order",
          "items_per_order",
          "items_per_order",
          "items_per_order",
          "items_per_order",
          "items_per_order",
          "items_per_order",
          "items_per_order",
          "items_per_order",
          "items_per_order",
          "items_per_order",
          "items_per_order",
          "items_per_order",
          "items_per_order",
          "items_per_order",
          "items_per_order",
          "items_per_order",
          "items_per_order",
          "items_per_order",
          "items_per_order",
          "items_per_order",
          "items_per_order",
          "items_per_order",
          "items_per_order",
          "items_per_order",
          "items_per_order",
          "items_per_order",
          "items_per_order",
          "items_per_order",
          "items_per_order",
          "items_per_order",
          "items_per_order",
          "items_per_order",
          "items_per_order",
          "items_per_order",
          "items_per_order",
          "items_per_order",
          "items_per_order",
          "items_per_order",
          "items_per_order",
          "items_per_order",
          "items_per_order",
          "items_per_order",
          "items_per_order",
          "items_per_order",
          "items_per_order",
          "items_per_order",
          "items_per_order",
          "items_per_order",
          "items_per_order",
          "items_per_order",
          "items_per_order",
          "items_per_order",
          "items_per_order",
          "items_per_order",
          "items_per_order",
          "items_per_order",
          "items_per_order",
          "items_per_order",
          "items_per_order",
          "items_per_order",
          "items_per_order",
          "items_per_order",
          "items_per_order",
          "items_per_order",
          "items_per_order",
          "items_per_order",
          "items_per_order",
          "items_per_order",
          "items_per_order",
          "items_per_order",
          "items_per_order",
          "items_per_order",
          "items_per_order",
          "items_per_order",
          "items_per_order",
          "items_per_order",
          "items_per_order",
          "items_per_order",
          "items_per_order",
          "items_per_order",
          "items_per_order",
          "items_per_order",
          "items_per_order",
          "items_per_order",
          "items_per_order",
          "items_per_order",
          "items_per_order",
          "items_per_order",
          "items_per_order",
          "items_per_order",
          "items_per_order",
          "items_per_order",
          "items_per_order",
          "items_per_order",
          "items_per_order",
          "items_per_order",
          "items_per_order",
          "items_per_order",
          "items_per_order",
          "items_per_order",
          "items_per_order",
          "items_per_order",
          "items_per_order",
          "items_per_order",
          "items_per_order",
          "items_per_order",
          "items_per_order",
          "items_per_order",
          "items_per_order",
          "items_per_order",
          "items_per_order",
          "items_per_order",
          "items_per_order",
          "items_per_order",
          "items_per_order",
          "items_per_order",
          "items_per_order",
          "items_per_order",
          "items_per_order",
          "items_per_order",
          "items_per_order",
          "items_per_order",
          "items_per_order",
          "items_per_order",
          "items_per_order",
          "items_per_order",
          "items_per_order",
          "items_per_order",
          "items_per_order",
          "items_per_order",
          "items_per_order",
          "items_per_order",
          "items_per_order",
          "items_per_order",
          "items_per_order",
          "items_per_order",
          "items_per_order",
          "items_per_order",
          "items_per_order",
          "items_per_order",
          "items_per_order",
          "items_per_order",
          "items_per_order",
          "items_per_order",
          "items_per_order",
          "items_per_order",
          "items_per_order",
          "items_per_order",
          "items_per_order",
          "items_per_order",
          "items_per_order",
          "items_per_order",
          "items_per_order",
          "items_per_order",
          "items_per_order",
          "items_per_order",
          "items_per_order",
          "items_per_order",
          "items_per_order",
          "items_per_order",
          "items_per_order",
          "items_per_order",
          "items_per_order",
          "items_per_order",
          "items_per_order",
          "items_per_order",
          "items_per_order",
          "items_per_order",
          "items_per_order",
          "items_per_order",
          "items_per_order",
          "items_per_order",
          "items_per_order",
          "items_per_order",
          "items_per_order",
          "items_per_order",
          "items_per_order",
          "items_per_order",
          "items_per_order",
          "items_per_order",
          "items_per_order",
          "items_per_order",
          "items_per_order",
          "items_per_order",
          "items_per_order",
          "items_per_order",
          "items_per_order",
          "items_per_order",
          "items_per_order",
          "items_per_order",
          "items_per_order",
          "items_per_order",
          "items_per_order",
          "items_per_order",
          "items_per_order",
          "items_per_order",
          "items_per_order",
          "items_per_order",
          "items_per_order",
          "items_per_order",
          "items_per_order",
          "items_per_order",
          "items_per_order",
          "items_per_order",
          "items_per_order",
          "items_per_order",
          "items_per_order",
          "items_per_order",
          "items_per_order",
          "items_per_order",
          "items_per_order",
          "items_per_order",
          "items_per_order",
          "items_per_order",
          "items_per_order",
          "items_per_order",
          "items_per_order",
          "items_per_order",
          "items_per_order",
          "items_per_order",
          "items_per_order",
          "items_per_order",
          "items_per_order",
          "items_per_order",
          "items_per_order",
          "items_per_order",
          "items_per_order",
          "items_per_order",
          "items_per_order",
          "items_per_order",
          "items_per_order",
          "items_per_order",
          "items_per_order",
          "items_per_order",
          "items_per_order",
          "items_per_order",
          "items_per_order",
          "items_per_order",
          "items_per_order",
          "items_per_order",
          "items_per_order",
          "items_per_order",
          "items_per_order",
          "items_per_order",
          "items_per_order",
          "items_per_order",
          "items_per_order",
          "items_per_order",
          "items_per_order",
          "items_per_order",
          "items_per_order",
          "items_per_order",
          "items_per_order",
          "items_per_order",
          "items_per_order",
          "items_per_order",
          "items_per_order",
          "items_per_order",
          "items_per_order",
          "items_per_order",
          "items_per_order",
          "items_per_order",
          "items_per_order",
          "items_per_order",
          "items_per_order",
          "items_per_order",
          "items_per_order",
          "items_per_order",
          "items_per_order",
          "items_per_order",
          "items_per_order",
          "items_per_order",
          "items_per_order",
          "items_per_order",
          "items_per_order",
          "items_per_order",
          "items_per_order",
          "items_per_order",
          "items_per_order",
          "items_per_order",
          "items_per_order",
          "items_per_order",
          "items_per_order",
          "items_per_order",
          "items_per_order",
          "items_per_order",
          "items_per_order",
          "items_per_order",
          "items_per_order",
          "items_per_order",
          "items_per_order",
          "items_per_order",
          "items_per_order",
          "items_per_order",
          "items_per_order",
          "items_per_order",
          "items_per_order",
          "items_per_order",
          "items_per_order",
          "items_per_order",
          "items_per_order",
          "items_per_order",
          "items_per_order",
          "items_per_order",
          "items_per_order",
          "items_per_order",
          "items_per_order",
          "items_per_order",
          "items_per_order",
          "items_per_order",
          "items_per_order",
          "items_per_order",
          "items_per_order",
          "items_per_order",
          "items_per_order",
          "items_per_order",
          "items_per_order",
          "items_per_order",
          "items_per_order",
          "items_per_order",
          "items_per_order",
          "items_per_order",
          "items_per_order",
          "items_per_order",
          "items_per_order",
          "items_per_order",
          "items_per_order",
          "items_per_order",
          "items_per_order",
          "items_per_order",
          "items_per_order",
          "items_per_order",
          "items_per_order",
          "items_per_order",
          "items_per_order",
          "items_per_order",
          "items_per_order",
          "items_per_order",
          "items_per_order",
          "items_per_order",
          "items_per_order",
          "items_per_order",
          "items_per_order",
          "items_per_order",
          "items_per_order",
          "items_per_order",
          "items_per_order",
          "items_per_order",
          "items_per_order",
          "items_per_order",
          "items_per_order",
          "items_per_order",
          "items_per_order",
          "items_per_order",
          "items_per_order",
          "items_per_order",
          "items_per_order",
          "items_per_order",
          "items_per_order",
          "items_per_order",
          "items_per_order",
          "items_per_order",
          "items_per_order",
          "items_per_order",
          "items_per_order",
          "items_per_order",
          "items_per_order",
          "items_per_order",
          "items_per_order",
          "items_per_order",
          "items_per_order",
          "items_per_order",
          "items_per_order",
          "items_per_order",
          "items_per_order",
          "items_per_order",
          "items_per_order",
          "items_per_order",
          "items_per_order",
          "items_per_order",
          "items_per_order",
          "items_per_order",
          "items_per_order",
          "items_per_order",
          "items_per_order",
          "items_per_order",
          "items_per_order",
          "items_per_order",
          "items_per_order",
          "items_per_order",
          "items_per_order",
          "items_per_order",
          "items_per_order",
          "items_per_order",
          "items_per_order",
          "items_per_order",
          "items_per_order",
          "items_per_order",
          "items_per_order",
          "items_per_order",
          "items_per_order",
          "items_per_order",
          "items_per_order",
          "items_per_order",
          "items_per_order",
          "items_per_order",
          "items_per_order",
          "items_per_order",
          "items_per_order",
          "items_per_order",
          "items_per_order",
          "items_per_order",
          "items_per_order",
          "items_per_order",
          "items_per_order",
          "items_per_order",
          "items_per_order",
          "items_per_order",
          "items_per_order",
          "items_per_order",
          "items_per_order",
          "items_per_order",
          "items_per_order",
          "items_per_order",
          "items_per_order",
          "items_per_order",
          "items_per_order",
          "items_per_order",
          "items_per_order",
          "items_per_order",
          "items_per_order",
          "items_per_order",
          "items_per_order",
          "items_per_order",
          "items_per_order",
          "items_per_order",
          "items_per_order",
          "items_per_order",
          "items_per_order",
          "items_per_order",
          "items_per_order",
          "items_per_order",
          "items_per_order",
          "items_per_order",
          "items_per_order",
          "items_per_order",
          "items_per_order",
          "items_per_order",
          "items_per_order",
          "items_per_order",
          "items_per_order",
          "items_per_order",
          "items_per_order",
          "items_per_order",
          "items_per_order",
          "items_per_order",
          "items_per_order",
          "items_per_order",
          "items_per_order",
          "items_per_order",
          "items_per_order",
          "items_per_order",
          "items_per_order",
          "items_per_order",
          "items_per_order",
          "items_per_order",
          "items_per_order",
          "items_per_order",
          "items_per_order",
          "items_per_order",
          "items_per_order",
          "items_per_order",
          "items_per_order",
          "items_per_order",
          "items_per_order",
          "items_per_order",
          "items_per_order",
          "items_per_order",
          "items_per_order",
          "items_per_order",
          "items_per_order",
          "items_per_order",
          "items_per_order",
          "items_per_order",
          "items_per_order",
          "items_per_order",
          "items_per_order",
          "items_per_order",
          "items_per_order",
          "items_per_order",
          "items_per_order",
          "items_per_order",
          "items_per_order",
          "items_per_order",
          "items_per_order",
          "items_per_order",
          "items_per_order",
          "items_per_order",
          "items_per_order",
          "items_per_order",
          "items_per_order",
          "items_per_order",
          "items_per_order",
          "items_per_order",
          "items_per_order",
          "items_per_order",
          "items_per_order",
          "items_per_order",
          "items_per_order",
          "items_per_order",
          "items_per_order",
          "items_per_order",
          "items_per_order",
          "items_per_order",
          "items_per_order",
          "items_per_order",
          "items_per_order",
          "items_per_order",
          "items_per_order",
          "items_per_order",
          "items_per_order",
          "items_per_order",
          "items_per_order",
          "items_per_order",
          "items_per_order",
          "items_per_order",
          "items_per_order",
          "items_per_order",
          "items_per_order",
          "items_per_order",
          "items_per_order",
          "items_per_order",
          "items_per_order",
          "items_per_order",
          "items_per_order",
          "items_per_order",
          "items_per_order",
          "items_per_order",
          "items_per_order",
          "items_per_order",
          "items_per_order",
          "items_per_order",
          "items_per_order",
          "items_per_order",
          "items_per_order",
          "items_per_order",
          "items_per_order",
          "items_per_order",
          "items_per_order",
          "items_per_order",
          "items_per_order",
          "items_per_order",
          "items_per_order",
          "items_per_order",
          "items_per_order",
          "items_per_order",
          "items_per_order",
          "items_per_order",
          "items_per_order",
          "items_per_order",
          "items_per_order",
          "items_per_order",
          "items_per_order",
          "items_per_order",
          "items_per_order",
          "items_per_order",
          "items_per_order",
          "items_per_order",
          "items_per_order",
          "items_per_order",
          "items_per_order",
          "items_per_order",
          "items_per_order",
          "items_per_order",
          "items_per_order",
          "items_per_order",
          "items_per_order",
          "items_per_order",
          "items_per_order",
          "items_per_order",
          "items_per_order",
          "items_per_order",
          "items_per_order",
          "items_per_order",
          "items_per_order",
          "items_per_order",
          "items_per_order",
          "items_per_order",
          "items_per_order",
          "items_per_order",
          "items_per_order",
          "items_per_order",
          "items_per_order",
          "items_per_order",
          "items_per_order",
          "items_per_order",
          "items_per_order",
          "items_per_order",
          "items_per_order",
          "items_per_order",
          "items_per_order",
          "items_per_order",
          "items_per_order",
          "items_per_order",
          "items_per_order",
          "items_per_order",
          "items_per_order",
          "items_per_order",
          "items_per_order",
          "items_per_order",
          "items_per_order",
          "items_per_order",
          "items_per_order",
          "items_per_order",
          "items_per_order",
          "items_per_order",
          "items_per_order",
          "items_per_order",
          "items_per_order",
          "items_per_order",
          "items_per_order",
          "items_per_order",
          "items_per_order",
          "items_per_order",
          "items_per_order",
          "items_per_order",
          "items_per_order",
          "items_per_order",
          "items_per_order",
          "items_per_order",
          "items_per_order",
          "items_per_order",
          "items_per_order",
          "items_per_order",
          "items_per_order",
          "items_per_order",
          "items_per_order",
          "items_per_order",
          "items_per_order",
          "items_per_order",
          "items_per_order",
          "items_per_order",
          "items_per_order",
          "items_per_order",
          "items_per_order",
          "items_per_order",
          "items_per_order",
          "items_per_order",
          "items_per_order",
          "items_per_order",
          "items_per_order",
          "items_per_order",
          "items_per_order",
          "items_per_order",
          "items_per_order",
          "items_per_order",
          "items_per_order",
          "items_per_order",
          "items_per_order",
          "items_per_order",
          "items_per_order",
          "items_per_order",
          "items_per_order",
          "items_per_order",
          "items_per_order",
          "items_per_order",
          "items_per_order",
          "items_per_order",
          "items_per_order",
          "items_per_order",
          "items_per_order",
          "items_per_order",
          "items_per_order",
          "items_per_order",
          "items_per_order",
          "items_per_order",
          "items_per_order",
          "items_per_order",
          "items_per_order",
          "items_per_order",
          "items_per_order",
          "items_per_order",
          "items_per_order",
          "items_per_order",
          "items_per_order",
          "items_per_order",
          "items_per_order",
          "items_per_order",
          "items_per_order",
          "items_per_order",
          "items_per_order",
          "items_per_order",
          "items_per_order",
          "items_per_order",
          "items_per_order",
          "items_per_order",
          "items_per_order",
          "items_per_order",
          "items_per_order",
          "items_per_order",
          "items_per_order",
          "items_per_order",
          "items_per_order",
          "items_per_order",
          "items_per_order",
          "items_per_order",
          "items_per_order",
          "items_per_order",
          "items_per_order",
          "items_per_order",
          "items_per_order",
          "items_per_order",
          "items_per_order",
          "items_per_order",
          "items_per_order",
          "items_per_order",
          "items_per_order",
          "items_per_order",
          "items_per_order",
          "items_per_order",
          "items_per_order",
          "items_per_order",
          "items_per_order",
          "items_per_order",
          "items_per_order",
          "items_per_order",
          "items_per_order",
          "items_per_order",
          "items_per_order",
          "items_per_order",
          "items_per_order",
          "items_per_order",
          "items_per_order",
          "items_per_order",
          "items_per_order",
          "items_per_order",
          "items_per_order",
          "items_per_order",
          "items_per_order",
          "items_per_order",
          "items_per_order",
          "items_per_order",
          "items_per_order",
          "items_per_order",
          "items_per_order",
          "items_per_order",
          "items_per_order",
          "items_per_order",
          "items_per_order",
          "items_per_order",
          "items_per_order",
          "items_per_order",
          "items_per_order",
          "items_per_order",
          "items_per_order",
          "items_per_order",
          "items_per_order",
          "items_per_order",
          "items_per_order",
          "items_per_order",
          "items_per_order",
          "items_per_order",
          "items_per_order",
          "items_per_order",
          "items_per_order",
          "items_per_order",
          "items_per_order",
          "items_per_order",
          "items_per_order",
          "items_per_order",
          "items_per_order",
          "items_per_order",
          "items_per_order",
          "items_per_order",
          "items_per_order",
          "items_per_order",
          "items_per_order",
          "items_per_order",
          "items_per_order",
          "items_per_order",
          "items_per_order",
          "items_per_order",
          "items_per_order",
          "items_per_order",
          "items_per_order",
          "items_per_order",
          "items_per_order",
          "items_per_order",
          "items_per_order",
          "items_per_order",
          "items_per_order",
          "items_per_order",
          "items_per_order",
          "items_per_order",
          "items_per_order",
          "items_per_order",
          "items_per_order",
          "items_per_order",
          "items_per_order",
          "items_per_order",
          "items_per_order",
          "items_per_order",
          "items_per_order",
          "items_per_order",
          "items_per_order",
          "items_per_order",
          "items_per_order",
          "items_per_order",
          "items_per_order",
          "items_per_order",
          "items_per_order",
          "items_per_order",
          "items_per_order",
          "items_per_order",
          "items_per_order",
          "items_per_order",
          "items_per_order",
          "items_per_order",
          "items_per_order",
          "items_per_order",
          "items_per_order",
          "items_per_order",
          "items_per_order",
          "items_per_order",
          "items_per_order",
          "items_per_order",
          "items_per_order",
          "items_per_order",
          "items_per_order",
          "items_per_order",
          "items_per_order",
          "items_per_order",
          "items_per_order",
          "items_per_order",
          "items_per_order",
          "items_per_order",
          "items_per_order",
          "items_per_order",
          "items_per_order",
          "items_per_order",
          "items_per_order",
          "items_per_order",
          "items_per_order",
          "items_per_order",
          "items_per_order",
          "items_per_order",
          "items_per_order",
          "items_per_order",
          "items_per_order",
          "items_per_order",
          "items_per_order",
          "items_per_order",
          "items_per_order",
          "items_per_order",
          "items_per_order",
          "items_per_order",
          "items_per_order",
          "items_per_order",
          "items_per_order",
          "items_per_order",
          "items_per_order",
          "items_per_order",
          "items_per_order",
          "items_per_order",
          "items_per_order",
          "items_per_order",
          "items_per_order",
          "items_per_order",
          "items_per_order",
          "items_per_order",
          "items_per_order",
          "items_per_order",
          "items_per_order",
          "items_per_order",
          "items_per_order",
          "items_per_order",
          "items_per_order",
          "items_per_order",
          "items_per_order",
          "items_per_order",
          "items_per_order",
          "items_per_order",
          "items_per_order",
          "items_per_order",
          "items_per_order",
          "items_per_order",
          "items_per_order",
          "items_per_order",
          "items_per_order",
          "items_per_order",
          "items_per_order",
          "items_per_order",
          "items_per_order",
          "items_per_order",
          "items_per_order",
          "items_per_order",
          "items_per_order",
          "items_per_order",
          "items_per_order",
          "items_per_order",
          "items_per_order",
          "items_per_order",
          "items_per_order",
          "items_per_order",
          "items_per_order",
          "items_per_order",
          "items_per_order",
          "items_per_order",
          "items_per_order",
          "items_per_order",
          "items_per_order",
          "items_per_order",
          "items_per_order",
          "items_per_order",
          "items_per_order",
          "items_per_order",
          "items_per_order",
          "items_per_order",
          "items_per_order",
          "items_per_order",
          "items_per_order",
          "items_per_order",
          "items_per_order",
          "items_per_order",
          "items_per_order",
          "items_per_order",
          "items_per_order",
          "items_per_order",
          "items_per_order",
          "items_per_order",
          "items_per_order",
          "items_per_order",
          "items_per_order",
          "items_per_order",
          "items_per_order",
          "items_per_order",
          "items_per_order",
          "items_per_order",
          "items_per_order",
          "items_per_order",
          "items_per_order",
          "items_per_order",
          "items_per_order",
          "items_per_order",
          "items_per_order",
          "items_per_order",
          "items_per_order",
          "items_per_order",
          "items_per_order",
          "items_per_order",
          "items_per_order",
          "items_per_order",
          "items_per_order",
          "items_per_order",
          "items_per_order",
          "items_per_order",
          "items_per_order",
          "items_per_order",
          "items_per_order",
          "items_per_order",
          "items_per_order",
          "items_per_order",
          "items_per_order",
          "items_per_order",
          "items_per_order",
          "items_per_order",
          "items_per_order",
          "items_per_order",
          "items_per_order",
          "items_per_order",
          "items_per_order",
          "items_per_order",
          "items_per_order",
          "items_per_order",
          "items_per_order",
          "items_per_order",
          "items_per_order",
          "items_per_order",
          "items_per_order",
          "items_per_order",
          "items_per_order",
          "items_per_order",
          "items_per_order",
          "items_per_order",
          "items_per_order",
          "items_per_order",
          "items_per_order",
          "items_per_order",
          "items_per_order",
          "items_per_order",
          "items_per_order",
          "items_per_order",
          "items_per_order",
          "items_per_order",
          "items_per_order",
          "items_per_order",
          "items_per_order",
          "items_per_order",
          "items_per_order",
          "items_per_order",
          "items_per_order",
          "items_per_order",
          "items_per_order",
          "items_per_order",
          "items_per_order",
          "items_per_order",
          "items_per_order",
          "items_per_order",
          "items_per_order",
          "items_per_order",
          "items_per_order",
          "items_per_order",
          "items_per_order",
          "items_per_order",
          "items_per_order",
          "items_per_order",
          "items_per_order",
          "items_per_order",
          "items_per_order",
          "items_per_order",
          "items_per_order",
          "items_per_order",
          "items_per_order",
          "items_per_order",
          "items_per_order",
          "items_per_order",
          "items_per_order",
          "items_per_order",
          "items_per_order",
          "items_per_order",
          "items_per_order",
          "items_per_order",
          "items_per_order",
          "items_per_order",
          "items_per_order",
          "items_per_order",
          "items_per_order",
          "items_per_order",
          "items_per_order",
          "items_per_order",
          "items_per_order",
          "items_per_order",
          "items_per_order",
          "items_per_order",
          "items_per_order",
          "items_per_order",
          "items_per_order",
          "items_per_order",
          "items_per_order",
          "items_per_order",
          "items_per_order",
          "items_per_order",
          "items_per_order",
          "items_per_order",
          "items_per_order",
          "items_per_order",
          "items_per_order",
          "items_per_order",
          "items_per_order",
          "items_per_order",
          "items_per_order",
          "items_per_order",
          "items_per_order",
          "items_per_order",
          "items_per_order",
          "items_per_order",
          "items_per_order",
          "items_per_order",
          "items_per_order",
          "items_per_order",
          "items_per_order",
          "items_per_order",
          "items_per_order",
          "items_per_order",
          "items_per_order",
          "items_per_order",
          "items_per_order",
          "items_per_order",
          "items_per_order",
          "items_per_order",
          "items_per_order",
          "items_per_order",
          "items_per_order",
          "items_per_order",
          "items_per_order",
          "items_per_order",
          "items_per_order",
          "items_per_order",
          "items_per_order",
          "items_per_order",
          "items_per_order",
          "items_per_order",
          "items_per_order",
          "items_per_order",
          "items_per_order",
          "items_per_order",
          "items_per_order",
          "items_per_order",
          "items_per_order",
          "items_per_order",
          "items_per_order",
          "items_per_order",
          "items_per_order",
          "items_per_order",
          "items_per_order"
         ],
         "x0": " ",
         "xaxis": "x",
         "y": [
          4,
          2,
          2,
          2,
          2,
          2,
          2,
          2,
          3,
          2,
          2,
          2,
          2,
          2,
          2,
          2,
          2,
          4,
          2,
          4,
          3,
          2,
          3,
          2,
          2,
          2,
          2,
          4,
          2,
          3,
          2,
          2,
          2,
          4,
          2,
          2,
          2,
          3,
          2,
          3,
          2,
          2,
          2,
          2,
          3,
          2,
          2,
          2,
          3,
          2,
          3,
          2,
          3,
          2,
          2,
          3,
          2,
          2,
          1,
          2,
          2,
          2,
          2,
          2,
          3,
          1,
          3,
          3,
          2,
          3,
          3,
          1,
          4,
          3,
          4,
          3,
          2,
          2,
          1,
          1,
          3,
          3,
          3,
          3,
          2,
          3,
          2,
          2,
          3,
          2,
          2,
          3,
          4,
          2,
          2,
          4,
          3,
          4,
          2,
          2,
          2,
          3,
          6,
          2,
          2,
          2,
          1,
          5,
          2,
          4,
          2,
          2,
          2,
          2,
          2,
          2,
          2,
          2,
          2,
          2,
          2,
          3,
          2,
          4,
          4,
          2,
          2,
          3,
          3,
          2,
          2,
          3,
          2,
          3,
          2,
          2,
          2,
          3,
          3,
          1,
          2,
          2,
          3,
          2,
          2,
          2,
          2,
          4,
          6,
          4,
          3,
          2,
          2,
          3,
          3,
          2,
          2,
          2,
          2,
          2,
          2,
          2,
          2,
          2,
          3,
          3,
          2,
          2,
          2,
          3,
          2,
          2,
          2,
          2,
          2,
          3,
          2,
          3,
          2,
          3,
          2,
          3,
          2,
          5,
          2,
          4,
          2,
          2,
          2,
          2,
          2,
          4,
          3,
          2,
          8,
          4,
          2,
          2,
          3,
          2,
          2,
          3,
          2,
          2,
          12,
          5,
          3,
          2,
          2,
          2,
          2,
          4,
          2,
          2,
          5,
          2,
          3,
          2,
          2,
          2,
          2,
          3,
          3,
          2,
          6,
          3,
          3,
          1,
          2,
          5,
          6,
          2,
          5,
          4,
          3,
          2,
          5,
          2,
          2,
          3,
          1,
          2,
          2,
          3,
          1,
          2,
          5,
          2,
          2,
          2,
          3,
          2,
          2,
          5,
          2,
          2,
          2,
          4,
          2,
          2,
          2,
          2,
          2,
          3,
          3,
          2,
          2,
          2,
          2,
          4,
          3,
          2,
          2,
          2,
          2,
          4,
          3,
          2,
          4,
          2,
          2,
          4,
          2,
          6,
          2,
          3,
          4,
          4,
          3,
          2,
          3,
          2,
          1,
          2,
          2,
          2,
          2,
          2,
          3,
          2,
          3,
          2,
          2,
          4,
          3,
          2,
          2,
          2,
          2,
          2,
          4,
          3,
          2,
          2,
          2,
          2,
          3,
          2,
          3,
          3,
          3,
          3,
          3,
          2,
          4,
          5,
          2,
          2,
          2,
          2,
          2,
          2,
          2,
          2,
          2,
          2,
          2,
          7,
          1,
          2,
          1,
          2,
          7,
          3,
          3,
          4,
          2,
          2,
          2,
          4,
          2,
          3,
          2,
          2,
          2,
          2,
          2,
          3,
          3,
          3,
          2,
          2,
          4,
          2,
          2,
          3,
          4,
          2,
          3,
          2,
          2,
          2,
          2,
          2,
          2,
          4,
          3,
          2,
          7,
          4,
          3,
          2,
          2,
          4,
          2,
          2,
          4,
          2,
          6,
          2,
          2,
          3,
          2,
          2,
          2,
          4,
          2,
          2,
          2,
          3,
          2,
          5,
          2,
          3,
          2,
          2,
          2,
          3,
          2,
          3,
          2,
          4,
          3,
          2,
          2,
          2,
          2,
          2,
          3,
          2,
          2,
          2,
          2,
          3,
          2,
          3,
          2,
          3,
          1,
          3,
          3,
          3,
          2,
          2,
          2,
          2,
          3,
          2,
          2,
          3,
          2,
          1,
          3,
          2,
          3,
          2,
          2,
          3,
          3,
          5,
          3,
          2,
          1,
          2,
          2,
          2,
          3,
          2,
          2,
          3,
          2,
          3,
          2,
          2,
          2,
          3,
          3,
          3,
          3,
          2,
          5,
          2,
          2,
          1,
          3,
          2,
          2,
          4,
          3,
          3,
          5,
          4,
          2,
          3,
          6,
          2,
          2,
          6,
          2,
          2,
          10,
          1,
          2,
          2,
          2,
          5,
          3,
          3,
          2,
          3,
          2,
          2,
          2,
          2,
          2,
          3,
          4,
          2,
          4,
          2,
          17,
          1,
          3,
          3,
          2,
          2,
          2,
          1,
          3,
          3,
          2,
          3,
          2,
          2,
          2,
          2,
          3,
          1,
          3,
          4,
          2,
          2,
          2,
          3,
          4,
          2,
          2,
          1,
          2,
          2,
          2,
          2,
          2,
          2,
          3,
          4,
          2,
          2,
          5,
          2,
          2,
          4,
          3,
          2,
          3,
          1,
          2,
          2,
          3,
          5,
          10,
          2,
          3,
          2,
          2,
          2,
          3,
          1,
          3,
          2,
          2,
          2,
          4,
          4,
          3,
          5,
          11,
          2,
          2,
          2,
          2,
          2,
          2,
          2,
          3,
          2,
          2,
          3,
          2,
          3,
          3,
          2,
          1,
          2,
          2,
          3,
          2,
          3,
          2,
          2,
          3,
          3,
          2,
          3,
          1,
          3,
          3,
          3,
          2,
          2,
          2,
          2,
          3,
          2,
          2,
          3,
          2,
          2,
          2,
          2,
          2,
          3,
          4,
          4,
          2,
          3,
          2,
          6,
          3,
          2,
          3,
          2,
          4,
          3,
          5,
          3,
          5,
          4,
          3,
          2,
          2,
          2,
          3,
          2,
          2,
          2,
          2,
          4,
          6,
          3,
          4,
          3,
          2,
          6,
          3,
          3,
          2,
          2,
          2,
          2,
          2,
          2,
          2,
          2,
          2,
          2,
          3,
          2,
          2,
          4,
          2,
          2,
          2,
          3,
          2,
          2,
          3,
          2,
          2,
          2,
          2,
          3,
          3,
          2,
          2,
          2,
          3,
          5,
          2,
          2,
          11,
          2,
          2,
          2,
          2,
          3,
          2,
          3,
          2,
          3,
          2,
          1,
          3,
          2,
          2,
          3,
          2,
          4,
          3,
          4,
          2,
          3,
          2,
          2,
          2,
          2,
          2,
          1,
          2,
          3,
          2,
          2,
          2,
          4,
          3,
          2,
          2,
          2,
          2,
          2,
          2,
          3,
          2,
          4,
          2,
          2,
          5,
          2,
          2,
          3,
          2,
          2,
          2,
          2,
          2,
          4,
          2,
          2,
          2,
          3,
          3,
          3,
          2,
          3,
          2,
          2,
          2,
          3,
          18,
          2,
          2,
          3,
          4,
          3,
          2,
          3,
          2,
          2,
          2,
          3,
          2,
          2,
          3,
          2,
          2,
          3,
          2,
          2,
          2,
          1,
          2,
          2,
          3,
          3,
          2,
          2,
          6,
          2,
          2,
          2,
          5,
          4,
          2,
          3,
          3,
          3,
          2,
          4,
          2,
          2,
          2,
          1,
          5,
          2,
          3,
          5,
          4,
          3,
          2,
          2,
          2,
          3,
          3,
          4,
          2,
          4,
          3,
          9,
          1,
          2,
          1,
          2,
          4,
          2,
          2,
          2,
          2,
          2,
          3,
          2,
          2,
          3,
          2,
          4,
          2,
          3,
          2,
          3,
          2,
          2,
          2,
          4,
          2,
          3,
          2,
          3,
          3,
          7,
          3,
          4,
          2,
          2,
          2,
          2,
          4,
          2,
          3,
          2,
          4,
          3,
          2,
          2,
          1,
          2,
          1,
          3,
          2,
          4,
          2,
          1,
          1,
          3,
          3,
          2,
          2,
          2,
          2,
          2,
          4,
          3,
          3,
          2,
          3,
          3,
          2,
          2,
          2,
          5,
          2,
          3,
          3,
          3,
          2,
          3,
          2,
          2,
          2,
          3,
          3,
          2,
          7,
          1,
          3,
          2,
          2,
          2,
          6,
          2,
          4,
          2,
          3,
          5,
          4,
          2,
          4,
          8,
          1,
          2,
          3,
          1,
          3,
          3,
          2,
          2,
          2,
          23,
          2,
          3,
          2,
          2,
          3,
          2,
          2,
          4,
          3,
          3,
          3,
          3,
          2,
          4,
          3,
          2,
          2,
          2,
          4,
          3,
          5,
          3,
          5,
          2,
          2,
          4,
          8,
          2,
          3,
          2,
          2,
          2,
          2,
          2,
          3,
          3,
          2,
          2,
          3,
          3,
          2,
          2,
          2,
          6,
          3,
          3,
          6,
          2,
          4,
          3,
          2,
          3,
          3,
          2,
          2,
          2,
          3,
          3,
          1,
          2,
          2,
          2,
          3,
          3,
          2,
          2,
          2,
          2,
          3,
          4,
          2,
          2,
          5,
          2,
          2,
          2,
          2,
          2,
          3,
          8,
          3,
          3,
          4,
          5,
          4,
          2,
          4,
          2,
          2,
          3,
          2,
          2,
          2,
          3,
          2,
          1,
          2,
          2,
          3,
          4,
          2,
          2,
          3,
          3,
          3,
          3,
          3,
          2,
          4,
          1,
          2,
          2,
          2,
          2,
          3,
          3,
          2,
          3,
          3,
          2,
          2,
          2,
          2,
          3,
          7,
          4,
          2,
          2,
          4,
          2,
          3,
          3,
          3,
          2,
          1,
          2,
          2,
          4,
          2,
          2,
          2,
          3,
          2,
          4,
          5,
          2,
          2,
          4,
          2,
          3,
          2,
          2,
          2,
          2,
          3,
          3,
          3,
          2,
          3,
          2,
          3,
          2,
          3,
          3,
          3,
          3,
          2,
          2,
          3,
          2,
          6,
          2,
          2,
          2,
          3,
          3,
          3,
          2,
          2,
          3,
          2,
          2,
          2,
          3,
          2,
          3,
          2,
          4,
          3,
          2,
          4,
          2,
          2,
          2,
          4,
          2,
          2,
          3,
          2,
          2,
          2,
          4,
          2,
          2,
          3,
          3,
          2,
          2,
          2,
          4,
          2,
          2,
          2,
          4,
          3,
          3,
          3,
          3,
          2,
          1,
          2,
          2,
          3,
          2,
          2,
          2,
          2,
          3,
          2,
          8,
          2,
          2,
          3,
          2,
          2,
          2,
          2,
          2,
          3,
          3,
          6,
          2,
          2,
          7,
          3,
          2,
          2,
          2,
          2,
          4,
          3,
          2,
          2,
          2,
          2,
          7,
          2,
          2,
          2,
          2,
          2,
          3,
          3,
          3,
          4,
          4,
          4,
          3,
          3,
          3,
          2,
          2,
          1,
          3,
          4,
          2,
          2,
          2,
          2,
          3,
          2,
          2,
          2,
          4,
          2,
          2,
          2,
          2,
          2,
          2,
          2,
          3,
          2,
          3,
          4,
          2,
          3,
          2,
          2,
          3,
          2,
          4,
          2,
          2,
          5,
          2,
          1,
          2,
          2,
          2,
          2,
          2,
          2,
          2,
          2,
          2,
          5,
          4,
          2,
          3,
          4,
          4,
          2,
          5,
          2,
          2,
          2,
          3,
          3,
          2,
          2,
          3,
          2,
          2,
          5,
          2,
          2,
          2,
          2,
          2,
          2,
          2,
          2,
          2,
          4,
          2,
          1,
          3,
          2,
          3,
          2,
          2,
          2,
          2,
          3,
          3,
          4,
          2,
          2,
          2,
          3,
          3,
          2,
          2,
          2,
          2,
          3,
          2,
          2,
          2,
          2,
          4,
          3,
          2,
          2,
          2,
          2,
          4,
          3,
          3,
          2,
          2,
          4,
          2,
          1,
          2,
          1,
          2,
          2,
          2,
          2,
          2,
          2,
          5,
          4,
          3,
          4,
          3,
          3,
          2,
          3,
          4,
          2,
          5,
          3,
          3,
          3,
          2,
          2,
          3,
          2,
          2,
          1,
          2,
          5,
          3,
          2,
          2,
          2,
          2,
          2,
          3,
          4,
          2,
          2,
          2,
          2,
          2,
          2,
          4,
          2,
          2,
          4,
          6,
          2,
          2,
          2,
          2,
          3,
          2,
          4,
          2,
          2,
          2,
          4,
          2,
          2,
          2,
          2,
          2,
          3,
          2,
          2,
          3,
          2,
          2,
          2,
          2,
          1,
          2,
          2,
          2,
          3,
          3,
          3,
          3,
          2,
          2,
          3,
          6,
          2,
          3,
          3,
          2,
          2,
          4,
          2,
          3,
          4,
          2,
          2,
          2,
          2,
          2,
          3,
          2,
          2,
          3,
          2,
          3,
          4,
          2,
          3,
          2,
          2,
          3,
          2,
          2,
          3,
          4,
          3,
          2,
          4,
          3,
          6,
          2,
          4,
          4,
          2,
          2,
          3,
          2,
          3,
          4,
          3,
          2,
          35,
          2,
          2,
          4,
          2,
          2,
          11,
          3,
          2,
          2,
          4,
          10,
          3,
          2,
          3,
          2,
          2,
          3,
          3,
          4,
          2,
          2,
          2,
          2,
          2,
          2,
          2,
          2,
          2,
          3,
          2,
          2,
          2,
          3,
          2,
          2,
          2,
          3,
          2,
          4,
          14,
          3,
          3,
          2,
          3,
          2,
          3,
          2,
          2,
          3,
          2,
          2,
          1,
          1,
          2,
          2,
          3,
          2,
          2,
          2,
          2,
          2,
          2,
          2,
          2,
          2,
          3,
          3,
          5,
          2,
          2,
          5,
          2,
          2,
          4,
          2,
          1,
          2,
          2,
          2,
          2,
          2,
          2,
          2,
          2,
          2,
          2,
          3,
          2,
          2,
          6,
          3,
          2,
          2,
          4,
          3,
          2,
          2,
          4,
          2,
          2,
          2,
          2,
          2,
          3,
          2,
          3,
          4,
          2,
          2,
          2,
          4,
          2,
          4,
          2,
          2,
          16,
          2,
          2,
          3,
          3,
          2,
          2,
          2,
          1,
          2,
          2,
          2,
          2,
          3,
          2,
          4,
          2,
          2,
          5,
          4,
          3,
          3,
          3,
          2,
          2,
          2,
          3,
          6,
          2,
          4,
          1,
          2,
          2,
          8,
          2,
          2,
          3,
          2,
          3,
          4,
          3,
          2,
          4,
          2,
          3,
          4,
          2,
          2,
          2,
          4,
          2,
          4,
          5,
          2,
          3,
          2,
          4,
          2,
          2,
          3,
          2,
          2,
          2,
          2,
          2,
          2,
          2,
          3,
          4,
          2,
          3,
          3,
          2,
          2,
          3,
          2,
          2,
          2,
          2,
          2,
          2,
          2,
          2,
          5,
          4,
          3,
          3,
          2,
          2,
          4,
          2,
          2,
          3,
          4,
          3,
          2,
          8,
          2,
          4,
          2,
          2,
          19,
          2,
          5,
          2,
          4,
          3,
          2,
          2,
          2,
          2,
          4,
          4,
          2,
          5,
          2,
          2,
          3,
          2,
          2,
          5,
          2,
          2,
          3,
          2,
          2,
          2,
          2,
          3,
          2,
          2,
          4,
          4,
          3,
          2,
          3,
          3,
          4,
          2,
          3,
          3,
          2,
          4,
          2,
          4,
          2,
          3,
          2,
          2,
          2,
          4,
          2,
          2,
          2,
          2,
          3,
          3,
          2,
          3,
          4,
          5,
          2,
          2,
          2,
          2,
          2,
          2,
          2,
          2,
          2,
          3,
          2,
          2,
          3,
          2,
          2,
          3,
          2,
          3,
          4,
          2,
          2,
          3,
          3,
          2,
          2,
          4,
          5,
          2,
          3,
          3,
          2,
          4,
          2,
          3,
          2,
          3,
          2,
          3,
          2,
          3,
          2,
          6,
          2,
          3,
          7,
          3,
          4,
          2,
          3,
          2,
          2,
          2,
          3,
          2,
          2,
          3,
          3,
          2,
          4,
          3,
          2,
          2,
          2,
          2,
          2,
          4,
          20,
          3,
          3,
          4,
          3,
          2,
          2,
          3,
          3,
          3,
          2,
          2,
          3,
          3,
          3,
          2,
          2,
          3,
          3,
          2,
          4,
          2,
          2,
          3,
          2,
          3,
          4,
          2,
          2,
          2,
          2,
          4,
          2,
          2,
          2,
          2,
          4,
          3,
          3,
          6,
          4,
          5,
          3,
          3,
          2,
          3,
          2,
          2,
          3
         ],
         "y0": " ",
         "yaxis": "y"
        }
       ],
       "layout": {
        "boxmode": "group",
        "legend": {
         "tracegroupgap": 0
        },
        "margin": {
         "t": 60
        },
        "template": {
         "data": {
          "pie": [
           {
            "automargin": true,
            "type": "pie"
           }
          ]
         },
         "layout": {
          "xaxis": {
           "showgrid": true,
           "title": {
            "standoff": 15
           }
          },
          "yaxis": {
           "showgrid": true,
           "title": {
            "standoff": 15
           }
          }
         }
        },
        "xaxis": {
         "anchor": "y",
         "domain": [
          0,
          1
         ],
         "title": {
          "text": "variable"
         }
        },
        "yaxis": {
         "anchor": "x",
         "domain": [
          0,
          1
         ],
         "title": {
          "text": "value"
         }
        }
       }
      },
      "text/html": [
       "<div>                            <div id=\"1f63c842-4aa4-4e35-abaa-98493e344f94\" class=\"plotly-graph-div\" style=\"height:525px; width:100%;\"></div>            <script type=\"text/javascript\">                require([\"plotly\"], function(Plotly) {                    window.PLOTLYENV=window.PLOTLYENV || {};                                    if (document.getElementById(\"1f63c842-4aa4-4e35-abaa-98493e344f94\")) {                    Plotly.newPlot(                        \"1f63c842-4aa4-4e35-abaa-98493e344f94\",                        [{\"alignmentgroup\": \"True\", \"hovertemplate\": \"variable=%{x}<br>value=%{y}<extra></extra>\", \"legendgroup\": \"\", \"marker\": {\"color\": \"#1F77B4\"}, \"name\": \"\", \"notched\": false, \"offsetgroup\": \"\", \"orientation\": \"v\", \"showlegend\": false, \"type\": \"box\", \"x\": [\"items_per_order\", \"items_per_order\", \"items_per_order\", \"items_per_order\", \"items_per_order\", \"items_per_order\", \"items_per_order\", \"items_per_order\", \"items_per_order\", \"items_per_order\", \"items_per_order\", \"items_per_order\", \"items_per_order\", \"items_per_order\", \"items_per_order\", \"items_per_order\", \"items_per_order\", \"items_per_order\", \"items_per_order\", \"items_per_order\", \"items_per_order\", \"items_per_order\", \"items_per_order\", \"items_per_order\", \"items_per_order\", \"items_per_order\", \"items_per_order\", \"items_per_order\", \"items_per_order\", \"items_per_order\", \"items_per_order\", \"items_per_order\", \"items_per_order\", \"items_per_order\", \"items_per_order\", \"items_per_order\", \"items_per_order\", \"items_per_order\", \"items_per_order\", \"items_per_order\", \"items_per_order\", \"items_per_order\", \"items_per_order\", \"items_per_order\", \"items_per_order\", \"items_per_order\", \"items_per_order\", \"items_per_order\", \"items_per_order\", \"items_per_order\", \"items_per_order\", \"items_per_order\", \"items_per_order\", \"items_per_order\", \"items_per_order\", \"items_per_order\", \"items_per_order\", \"items_per_order\", \"items_per_order\", \"items_per_order\", \"items_per_order\", \"items_per_order\", \"items_per_order\", \"items_per_order\", \"items_per_order\", \"items_per_order\", \"items_per_order\", \"items_per_order\", \"items_per_order\", \"items_per_order\", \"items_per_order\", \"items_per_order\", \"items_per_order\", \"items_per_order\", \"items_per_order\", \"items_per_order\", \"items_per_order\", \"items_per_order\", \"items_per_order\", \"items_per_order\", \"items_per_order\", \"items_per_order\", \"items_per_order\", \"items_per_order\", \"items_per_order\", \"items_per_order\", \"items_per_order\", \"items_per_order\", \"items_per_order\", \"items_per_order\", \"items_per_order\", \"items_per_order\", \"items_per_order\", \"items_per_order\", \"items_per_order\", \"items_per_order\", \"items_per_order\", \"items_per_order\", \"items_per_order\", \"items_per_order\", \"items_per_order\", \"items_per_order\", \"items_per_order\", \"items_per_order\", \"items_per_order\", \"items_per_order\", \"items_per_order\", \"items_per_order\", \"items_per_order\", \"items_per_order\", \"items_per_order\", \"items_per_order\", \"items_per_order\", \"items_per_order\", \"items_per_order\", \"items_per_order\", \"items_per_order\", \"items_per_order\", \"items_per_order\", \"items_per_order\", \"items_per_order\", \"items_per_order\", \"items_per_order\", \"items_per_order\", \"items_per_order\", \"items_per_order\", \"items_per_order\", \"items_per_order\", \"items_per_order\", \"items_per_order\", \"items_per_order\", \"items_per_order\", \"items_per_order\", \"items_per_order\", \"items_per_order\", \"items_per_order\", \"items_per_order\", \"items_per_order\", \"items_per_order\", \"items_per_order\", \"items_per_order\", \"items_per_order\", \"items_per_order\", \"items_per_order\", \"items_per_order\", \"items_per_order\", \"items_per_order\", \"items_per_order\", \"items_per_order\", \"items_per_order\", \"items_per_order\", \"items_per_order\", \"items_per_order\", \"items_per_order\", \"items_per_order\", \"items_per_order\", \"items_per_order\", \"items_per_order\", \"items_per_order\", \"items_per_order\", \"items_per_order\", \"items_per_order\", \"items_per_order\", \"items_per_order\", \"items_per_order\", \"items_per_order\", \"items_per_order\", \"items_per_order\", \"items_per_order\", \"items_per_order\", \"items_per_order\", \"items_per_order\", \"items_per_order\", \"items_per_order\", \"items_per_order\", \"items_per_order\", \"items_per_order\", \"items_per_order\", \"items_per_order\", \"items_per_order\", \"items_per_order\", \"items_per_order\", \"items_per_order\", \"items_per_order\", \"items_per_order\", \"items_per_order\", \"items_per_order\", \"items_per_order\", \"items_per_order\", \"items_per_order\", \"items_per_order\", \"items_per_order\", \"items_per_order\", \"items_per_order\", \"items_per_order\", \"items_per_order\", \"items_per_order\", \"items_per_order\", \"items_per_order\", \"items_per_order\", \"items_per_order\", \"items_per_order\", \"items_per_order\", \"items_per_order\", \"items_per_order\", \"items_per_order\", \"items_per_order\", \"items_per_order\", \"items_per_order\", \"items_per_order\", \"items_per_order\", \"items_per_order\", \"items_per_order\", \"items_per_order\", \"items_per_order\", \"items_per_order\", \"items_per_order\", \"items_per_order\", \"items_per_order\", \"items_per_order\", \"items_per_order\", \"items_per_order\", \"items_per_order\", \"items_per_order\", \"items_per_order\", \"items_per_order\", \"items_per_order\", \"items_per_order\", \"items_per_order\", \"items_per_order\", \"items_per_order\", \"items_per_order\", \"items_per_order\", \"items_per_order\", \"items_per_order\", \"items_per_order\", \"items_per_order\", \"items_per_order\", \"items_per_order\", \"items_per_order\", \"items_per_order\", \"items_per_order\", \"items_per_order\", \"items_per_order\", \"items_per_order\", \"items_per_order\", \"items_per_order\", \"items_per_order\", \"items_per_order\", \"items_per_order\", \"items_per_order\", \"items_per_order\", \"items_per_order\", \"items_per_order\", \"items_per_order\", \"items_per_order\", \"items_per_order\", \"items_per_order\", \"items_per_order\", \"items_per_order\", \"items_per_order\", \"items_per_order\", \"items_per_order\", \"items_per_order\", \"items_per_order\", \"items_per_order\", \"items_per_order\", \"items_per_order\", \"items_per_order\", \"items_per_order\", \"items_per_order\", \"items_per_order\", \"items_per_order\", \"items_per_order\", \"items_per_order\", \"items_per_order\", \"items_per_order\", \"items_per_order\", \"items_per_order\", \"items_per_order\", \"items_per_order\", \"items_per_order\", \"items_per_order\", \"items_per_order\", \"items_per_order\", \"items_per_order\", \"items_per_order\", \"items_per_order\", \"items_per_order\", \"items_per_order\", \"items_per_order\", \"items_per_order\", \"items_per_order\", \"items_per_order\", \"items_per_order\", \"items_per_order\", \"items_per_order\", \"items_per_order\", \"items_per_order\", \"items_per_order\", \"items_per_order\", \"items_per_order\", \"items_per_order\", \"items_per_order\", \"items_per_order\", \"items_per_order\", \"items_per_order\", \"items_per_order\", \"items_per_order\", \"items_per_order\", \"items_per_order\", \"items_per_order\", \"items_per_order\", \"items_per_order\", \"items_per_order\", \"items_per_order\", \"items_per_order\", \"items_per_order\", \"items_per_order\", \"items_per_order\", \"items_per_order\", \"items_per_order\", \"items_per_order\", \"items_per_order\", \"items_per_order\", \"items_per_order\", \"items_per_order\", \"items_per_order\", \"items_per_order\", \"items_per_order\", \"items_per_order\", \"items_per_order\", \"items_per_order\", \"items_per_order\", \"items_per_order\", \"items_per_order\", \"items_per_order\", \"items_per_order\", \"items_per_order\", \"items_per_order\", \"items_per_order\", \"items_per_order\", \"items_per_order\", \"items_per_order\", \"items_per_order\", \"items_per_order\", \"items_per_order\", \"items_per_order\", \"items_per_order\", \"items_per_order\", \"items_per_order\", \"items_per_order\", \"items_per_order\", \"items_per_order\", \"items_per_order\", \"items_per_order\", \"items_per_order\", \"items_per_order\", \"items_per_order\", \"items_per_order\", \"items_per_order\", \"items_per_order\", \"items_per_order\", \"items_per_order\", \"items_per_order\", \"items_per_order\", \"items_per_order\", \"items_per_order\", \"items_per_order\", \"items_per_order\", \"items_per_order\", \"items_per_order\", \"items_per_order\", \"items_per_order\", \"items_per_order\", \"items_per_order\", \"items_per_order\", \"items_per_order\", \"items_per_order\", \"items_per_order\", \"items_per_order\", \"items_per_order\", \"items_per_order\", \"items_per_order\", \"items_per_order\", \"items_per_order\", \"items_per_order\", \"items_per_order\", \"items_per_order\", \"items_per_order\", \"items_per_order\", \"items_per_order\", \"items_per_order\", \"items_per_order\", \"items_per_order\", \"items_per_order\", \"items_per_order\", \"items_per_order\", \"items_per_order\", \"items_per_order\", \"items_per_order\", \"items_per_order\", \"items_per_order\", \"items_per_order\", \"items_per_order\", \"items_per_order\", \"items_per_order\", \"items_per_order\", \"items_per_order\", \"items_per_order\", \"items_per_order\", \"items_per_order\", \"items_per_order\", \"items_per_order\", \"items_per_order\", \"items_per_order\", \"items_per_order\", \"items_per_order\", \"items_per_order\", \"items_per_order\", \"items_per_order\", \"items_per_order\", \"items_per_order\", \"items_per_order\", \"items_per_order\", \"items_per_order\", \"items_per_order\", \"items_per_order\", \"items_per_order\", \"items_per_order\", \"items_per_order\", \"items_per_order\", \"items_per_order\", \"items_per_order\", \"items_per_order\", \"items_per_order\", \"items_per_order\", \"items_per_order\", \"items_per_order\", \"items_per_order\", \"items_per_order\", \"items_per_order\", \"items_per_order\", \"items_per_order\", \"items_per_order\", \"items_per_order\", \"items_per_order\", \"items_per_order\", \"items_per_order\", \"items_per_order\", \"items_per_order\", \"items_per_order\", \"items_per_order\", \"items_per_order\", \"items_per_order\", \"items_per_order\", \"items_per_order\", \"items_per_order\", \"items_per_order\", \"items_per_order\", \"items_per_order\", \"items_per_order\", \"items_per_order\", \"items_per_order\", \"items_per_order\", \"items_per_order\", \"items_per_order\", \"items_per_order\", \"items_per_order\", \"items_per_order\", \"items_per_order\", \"items_per_order\", \"items_per_order\", \"items_per_order\", \"items_per_order\", \"items_per_order\", \"items_per_order\", \"items_per_order\", \"items_per_order\", \"items_per_order\", \"items_per_order\", \"items_per_order\", \"items_per_order\", \"items_per_order\", \"items_per_order\", \"items_per_order\", \"items_per_order\", \"items_per_order\", \"items_per_order\", \"items_per_order\", \"items_per_order\", \"items_per_order\", \"items_per_order\", \"items_per_order\", \"items_per_order\", \"items_per_order\", \"items_per_order\", \"items_per_order\", \"items_per_order\", \"items_per_order\", \"items_per_order\", \"items_per_order\", \"items_per_order\", \"items_per_order\", \"items_per_order\", \"items_per_order\", \"items_per_order\", \"items_per_order\", \"items_per_order\", \"items_per_order\", \"items_per_order\", \"items_per_order\", \"items_per_order\", \"items_per_order\", \"items_per_order\", \"items_per_order\", \"items_per_order\", \"items_per_order\", \"items_per_order\", \"items_per_order\", \"items_per_order\", \"items_per_order\", \"items_per_order\", \"items_per_order\", \"items_per_order\", \"items_per_order\", \"items_per_order\", \"items_per_order\", \"items_per_order\", \"items_per_order\", \"items_per_order\", \"items_per_order\", \"items_per_order\", \"items_per_order\", \"items_per_order\", \"items_per_order\", \"items_per_order\", \"items_per_order\", \"items_per_order\", \"items_per_order\", \"items_per_order\", \"items_per_order\", \"items_per_order\", \"items_per_order\", \"items_per_order\", \"items_per_order\", \"items_per_order\", \"items_per_order\", \"items_per_order\", \"items_per_order\", \"items_per_order\", \"items_per_order\", \"items_per_order\", \"items_per_order\", \"items_per_order\", \"items_per_order\", \"items_per_order\", \"items_per_order\", \"items_per_order\", \"items_per_order\", \"items_per_order\", \"items_per_order\", \"items_per_order\", \"items_per_order\", \"items_per_order\", \"items_per_order\", \"items_per_order\", \"items_per_order\", \"items_per_order\", \"items_per_order\", \"items_per_order\", \"items_per_order\", \"items_per_order\", \"items_per_order\", \"items_per_order\", \"items_per_order\", \"items_per_order\", \"items_per_order\", \"items_per_order\", \"items_per_order\", \"items_per_order\", \"items_per_order\", \"items_per_order\", \"items_per_order\", \"items_per_order\", \"items_per_order\", \"items_per_order\", \"items_per_order\", \"items_per_order\", \"items_per_order\", \"items_per_order\", \"items_per_order\", \"items_per_order\", \"items_per_order\", \"items_per_order\", \"items_per_order\", \"items_per_order\", \"items_per_order\", \"items_per_order\", \"items_per_order\", \"items_per_order\", \"items_per_order\", \"items_per_order\", \"items_per_order\", \"items_per_order\", \"items_per_order\", \"items_per_order\", \"items_per_order\", \"items_per_order\", \"items_per_order\", \"items_per_order\", \"items_per_order\", \"items_per_order\", \"items_per_order\", \"items_per_order\", \"items_per_order\", \"items_per_order\", \"items_per_order\", \"items_per_order\", \"items_per_order\", \"items_per_order\", \"items_per_order\", \"items_per_order\", \"items_per_order\", \"items_per_order\", \"items_per_order\", \"items_per_order\", \"items_per_order\", \"items_per_order\", \"items_per_order\", \"items_per_order\", \"items_per_order\", \"items_per_order\", \"items_per_order\", \"items_per_order\", \"items_per_order\", \"items_per_order\", \"items_per_order\", \"items_per_order\", \"items_per_order\", \"items_per_order\", \"items_per_order\", \"items_per_order\", \"items_per_order\", \"items_per_order\", \"items_per_order\", \"items_per_order\", \"items_per_order\", \"items_per_order\", \"items_per_order\", \"items_per_order\", \"items_per_order\", \"items_per_order\", \"items_per_order\", \"items_per_order\", \"items_per_order\", \"items_per_order\", \"items_per_order\", \"items_per_order\", \"items_per_order\", \"items_per_order\", \"items_per_order\", \"items_per_order\", \"items_per_order\", \"items_per_order\", \"items_per_order\", \"items_per_order\", \"items_per_order\", \"items_per_order\", \"items_per_order\", \"items_per_order\", \"items_per_order\", \"items_per_order\", \"items_per_order\", \"items_per_order\", \"items_per_order\", \"items_per_order\", \"items_per_order\", \"items_per_order\", \"items_per_order\", \"items_per_order\", \"items_per_order\", \"items_per_order\", \"items_per_order\", \"items_per_order\", \"items_per_order\", \"items_per_order\", \"items_per_order\", \"items_per_order\", \"items_per_order\", \"items_per_order\", \"items_per_order\", \"items_per_order\", \"items_per_order\", \"items_per_order\", \"items_per_order\", \"items_per_order\", \"items_per_order\", \"items_per_order\", \"items_per_order\", \"items_per_order\", \"items_per_order\", \"items_per_order\", \"items_per_order\", \"items_per_order\", \"items_per_order\", \"items_per_order\", \"items_per_order\", \"items_per_order\", \"items_per_order\", \"items_per_order\", \"items_per_order\", \"items_per_order\", \"items_per_order\", \"items_per_order\", \"items_per_order\", \"items_per_order\", \"items_per_order\", \"items_per_order\", \"items_per_order\", \"items_per_order\", \"items_per_order\", \"items_per_order\", \"items_per_order\", \"items_per_order\", \"items_per_order\", \"items_per_order\", \"items_per_order\", \"items_per_order\", \"items_per_order\", \"items_per_order\", \"items_per_order\", \"items_per_order\", \"items_per_order\", \"items_per_order\", \"items_per_order\", \"items_per_order\", \"items_per_order\", \"items_per_order\", \"items_per_order\", \"items_per_order\", \"items_per_order\", \"items_per_order\", \"items_per_order\", \"items_per_order\", \"items_per_order\", \"items_per_order\", \"items_per_order\", \"items_per_order\", \"items_per_order\", \"items_per_order\", \"items_per_order\", \"items_per_order\", \"items_per_order\", \"items_per_order\", \"items_per_order\", \"items_per_order\", \"items_per_order\", \"items_per_order\", \"items_per_order\", \"items_per_order\", \"items_per_order\", \"items_per_order\", \"items_per_order\", \"items_per_order\", \"items_per_order\", \"items_per_order\", \"items_per_order\", \"items_per_order\", \"items_per_order\", \"items_per_order\", \"items_per_order\", \"items_per_order\", \"items_per_order\", \"items_per_order\", \"items_per_order\", \"items_per_order\", \"items_per_order\", \"items_per_order\", \"items_per_order\", \"items_per_order\", \"items_per_order\", \"items_per_order\", \"items_per_order\", \"items_per_order\", \"items_per_order\", \"items_per_order\", \"items_per_order\", \"items_per_order\", \"items_per_order\", \"items_per_order\", \"items_per_order\", \"items_per_order\", \"items_per_order\", \"items_per_order\", \"items_per_order\", \"items_per_order\", \"items_per_order\", \"items_per_order\", \"items_per_order\", \"items_per_order\", \"items_per_order\", \"items_per_order\", \"items_per_order\", \"items_per_order\", \"items_per_order\", \"items_per_order\", \"items_per_order\", \"items_per_order\", \"items_per_order\", \"items_per_order\", \"items_per_order\", \"items_per_order\", \"items_per_order\", \"items_per_order\", \"items_per_order\", \"items_per_order\", \"items_per_order\", \"items_per_order\", \"items_per_order\", \"items_per_order\", \"items_per_order\", \"items_per_order\", \"items_per_order\", \"items_per_order\", \"items_per_order\", \"items_per_order\", \"items_per_order\", \"items_per_order\", \"items_per_order\", \"items_per_order\", \"items_per_order\", \"items_per_order\", \"items_per_order\", \"items_per_order\", \"items_per_order\", \"items_per_order\", \"items_per_order\", \"items_per_order\", \"items_per_order\", \"items_per_order\", \"items_per_order\", \"items_per_order\", \"items_per_order\", \"items_per_order\", \"items_per_order\", \"items_per_order\", \"items_per_order\", \"items_per_order\", \"items_per_order\", \"items_per_order\", \"items_per_order\", \"items_per_order\", \"items_per_order\", \"items_per_order\", \"items_per_order\", \"items_per_order\", \"items_per_order\", \"items_per_order\", \"items_per_order\", \"items_per_order\", \"items_per_order\", \"items_per_order\", \"items_per_order\", \"items_per_order\", \"items_per_order\", \"items_per_order\", \"items_per_order\", \"items_per_order\", \"items_per_order\", \"items_per_order\", \"items_per_order\", \"items_per_order\", \"items_per_order\", \"items_per_order\", \"items_per_order\", \"items_per_order\", \"items_per_order\", \"items_per_order\", \"items_per_order\", \"items_per_order\", \"items_per_order\", \"items_per_order\", \"items_per_order\", \"items_per_order\", \"items_per_order\", \"items_per_order\", \"items_per_order\", \"items_per_order\", \"items_per_order\", \"items_per_order\", \"items_per_order\", \"items_per_order\", \"items_per_order\", \"items_per_order\", \"items_per_order\", \"items_per_order\", \"items_per_order\", \"items_per_order\", \"items_per_order\", \"items_per_order\", \"items_per_order\", \"items_per_order\", \"items_per_order\", \"items_per_order\", \"items_per_order\", \"items_per_order\", \"items_per_order\", \"items_per_order\", \"items_per_order\", \"items_per_order\", \"items_per_order\", \"items_per_order\", \"items_per_order\", \"items_per_order\", \"items_per_order\", \"items_per_order\", \"items_per_order\", \"items_per_order\", \"items_per_order\", \"items_per_order\", \"items_per_order\", \"items_per_order\", \"items_per_order\", \"items_per_order\", \"items_per_order\", \"items_per_order\", \"items_per_order\", \"items_per_order\", \"items_per_order\", \"items_per_order\", \"items_per_order\", \"items_per_order\", \"items_per_order\", \"items_per_order\", \"items_per_order\", \"items_per_order\", \"items_per_order\", \"items_per_order\", \"items_per_order\", \"items_per_order\", \"items_per_order\", \"items_per_order\", \"items_per_order\", \"items_per_order\", \"items_per_order\", \"items_per_order\", \"items_per_order\", \"items_per_order\", \"items_per_order\", \"items_per_order\", \"items_per_order\", \"items_per_order\", \"items_per_order\", \"items_per_order\", \"items_per_order\", \"items_per_order\", \"items_per_order\", \"items_per_order\", \"items_per_order\", \"items_per_order\", \"items_per_order\", \"items_per_order\", \"items_per_order\", \"items_per_order\", \"items_per_order\", \"items_per_order\", \"items_per_order\", \"items_per_order\", \"items_per_order\", \"items_per_order\", \"items_per_order\", \"items_per_order\", \"items_per_order\", \"items_per_order\", \"items_per_order\", \"items_per_order\", \"items_per_order\", \"items_per_order\", \"items_per_order\", \"items_per_order\", \"items_per_order\", \"items_per_order\", \"items_per_order\", \"items_per_order\", \"items_per_order\", \"items_per_order\", \"items_per_order\", \"items_per_order\", \"items_per_order\", \"items_per_order\", \"items_per_order\", \"items_per_order\", \"items_per_order\", \"items_per_order\", \"items_per_order\", \"items_per_order\", \"items_per_order\", \"items_per_order\", \"items_per_order\", \"items_per_order\", \"items_per_order\", \"items_per_order\", \"items_per_order\", \"items_per_order\", \"items_per_order\", \"items_per_order\", \"items_per_order\", \"items_per_order\", \"items_per_order\", \"items_per_order\", \"items_per_order\", \"items_per_order\", \"items_per_order\", \"items_per_order\", \"items_per_order\", \"items_per_order\", \"items_per_order\", \"items_per_order\", \"items_per_order\", \"items_per_order\", \"items_per_order\", \"items_per_order\", \"items_per_order\", \"items_per_order\", \"items_per_order\", \"items_per_order\", \"items_per_order\", \"items_per_order\", \"items_per_order\", \"items_per_order\", \"items_per_order\", \"items_per_order\", \"items_per_order\", \"items_per_order\", \"items_per_order\", \"items_per_order\", \"items_per_order\", \"items_per_order\", \"items_per_order\", \"items_per_order\", \"items_per_order\", \"items_per_order\", \"items_per_order\", \"items_per_order\", \"items_per_order\", \"items_per_order\", \"items_per_order\", \"items_per_order\", \"items_per_order\", \"items_per_order\", \"items_per_order\", \"items_per_order\", \"items_per_order\", \"items_per_order\", \"items_per_order\", \"items_per_order\", \"items_per_order\", \"items_per_order\", \"items_per_order\", \"items_per_order\", \"items_per_order\", \"items_per_order\", \"items_per_order\", \"items_per_order\", \"items_per_order\", \"items_per_order\", \"items_per_order\", \"items_per_order\", \"items_per_order\", \"items_per_order\", \"items_per_order\", \"items_per_order\", \"items_per_order\", \"items_per_order\", \"items_per_order\", \"items_per_order\", \"items_per_order\", \"items_per_order\", \"items_per_order\", \"items_per_order\", \"items_per_order\", \"items_per_order\", \"items_per_order\", \"items_per_order\", \"items_per_order\", \"items_per_order\", \"items_per_order\", \"items_per_order\", \"items_per_order\", \"items_per_order\", \"items_per_order\", \"items_per_order\", \"items_per_order\", \"items_per_order\", \"items_per_order\", \"items_per_order\", \"items_per_order\", \"items_per_order\", \"items_per_order\", \"items_per_order\", \"items_per_order\", \"items_per_order\", \"items_per_order\", \"items_per_order\", \"items_per_order\", \"items_per_order\", \"items_per_order\", \"items_per_order\", \"items_per_order\", \"items_per_order\", \"items_per_order\", \"items_per_order\", \"items_per_order\", \"items_per_order\", \"items_per_order\", \"items_per_order\", \"items_per_order\", \"items_per_order\", \"items_per_order\", \"items_per_order\", \"items_per_order\", \"items_per_order\", \"items_per_order\", \"items_per_order\", \"items_per_order\", \"items_per_order\", \"items_per_order\", \"items_per_order\", \"items_per_order\", \"items_per_order\", \"items_per_order\", \"items_per_order\", \"items_per_order\", \"items_per_order\", \"items_per_order\", \"items_per_order\", \"items_per_order\", \"items_per_order\", \"items_per_order\", \"items_per_order\", \"items_per_order\", \"items_per_order\", \"items_per_order\", \"items_per_order\", \"items_per_order\", \"items_per_order\", \"items_per_order\", \"items_per_order\", \"items_per_order\", \"items_per_order\", \"items_per_order\", \"items_per_order\", \"items_per_order\", \"items_per_order\", \"items_per_order\", \"items_per_order\", \"items_per_order\", \"items_per_order\", \"items_per_order\", \"items_per_order\", \"items_per_order\", \"items_per_order\", \"items_per_order\", \"items_per_order\", \"items_per_order\", \"items_per_order\", \"items_per_order\", \"items_per_order\", \"items_per_order\", \"items_per_order\", \"items_per_order\", \"items_per_order\", \"items_per_order\", \"items_per_order\", \"items_per_order\", \"items_per_order\", \"items_per_order\", \"items_per_order\", \"items_per_order\", \"items_per_order\", \"items_per_order\", \"items_per_order\", \"items_per_order\", \"items_per_order\", \"items_per_order\", \"items_per_order\", \"items_per_order\", \"items_per_order\", \"items_per_order\", \"items_per_order\", \"items_per_order\", \"items_per_order\", \"items_per_order\", \"items_per_order\", \"items_per_order\", \"items_per_order\", \"items_per_order\", \"items_per_order\", \"items_per_order\", \"items_per_order\", \"items_per_order\", \"items_per_order\", \"items_per_order\", \"items_per_order\", \"items_per_order\", \"items_per_order\", \"items_per_order\", \"items_per_order\", \"items_per_order\", \"items_per_order\", \"items_per_order\", \"items_per_order\", \"items_per_order\", \"items_per_order\", \"items_per_order\", \"items_per_order\", \"items_per_order\", \"items_per_order\", \"items_per_order\", \"items_per_order\", \"items_per_order\", \"items_per_order\", \"items_per_order\", \"items_per_order\", \"items_per_order\", \"items_per_order\", \"items_per_order\", \"items_per_order\", \"items_per_order\", \"items_per_order\", \"items_per_order\", \"items_per_order\", \"items_per_order\", \"items_per_order\", \"items_per_order\", \"items_per_order\", \"items_per_order\", \"items_per_order\", \"items_per_order\", \"items_per_order\", \"items_per_order\", \"items_per_order\", \"items_per_order\", \"items_per_order\", \"items_per_order\", \"items_per_order\", \"items_per_order\", \"items_per_order\", \"items_per_order\", \"items_per_order\", \"items_per_order\", \"items_per_order\", \"items_per_order\", \"items_per_order\", \"items_per_order\", \"items_per_order\", \"items_per_order\", \"items_per_order\", \"items_per_order\", \"items_per_order\", \"items_per_order\", \"items_per_order\", \"items_per_order\", \"items_per_order\", \"items_per_order\", \"items_per_order\", \"items_per_order\", \"items_per_order\", \"items_per_order\", \"items_per_order\", \"items_per_order\", \"items_per_order\", \"items_per_order\", \"items_per_order\", \"items_per_order\", \"items_per_order\", \"items_per_order\", \"items_per_order\", \"items_per_order\", \"items_per_order\", \"items_per_order\", \"items_per_order\", \"items_per_order\", \"items_per_order\", \"items_per_order\", \"items_per_order\", \"items_per_order\", \"items_per_order\", \"items_per_order\", \"items_per_order\", \"items_per_order\", \"items_per_order\", \"items_per_order\", \"items_per_order\", \"items_per_order\", \"items_per_order\", \"items_per_order\", \"items_per_order\", \"items_per_order\", \"items_per_order\", \"items_per_order\", \"items_per_order\", \"items_per_order\", \"items_per_order\", \"items_per_order\", \"items_per_order\", \"items_per_order\", \"items_per_order\", \"items_per_order\", \"items_per_order\", \"items_per_order\", \"items_per_order\", \"items_per_order\", \"items_per_order\", \"items_per_order\", \"items_per_order\", \"items_per_order\", \"items_per_order\", \"items_per_order\", \"items_per_order\", \"items_per_order\", \"items_per_order\", \"items_per_order\", \"items_per_order\", \"items_per_order\", \"items_per_order\", \"items_per_order\", \"items_per_order\", \"items_per_order\", \"items_per_order\", \"items_per_order\", \"items_per_order\", \"items_per_order\", \"items_per_order\", \"items_per_order\", \"items_per_order\", \"items_per_order\", \"items_per_order\", \"items_per_order\", \"items_per_order\", \"items_per_order\", \"items_per_order\", \"items_per_order\", \"items_per_order\", \"items_per_order\", \"items_per_order\", \"items_per_order\", \"items_per_order\", \"items_per_order\", \"items_per_order\", \"items_per_order\", \"items_per_order\", \"items_per_order\", \"items_per_order\", \"items_per_order\", \"items_per_order\", \"items_per_order\", \"items_per_order\", \"items_per_order\", \"items_per_order\", \"items_per_order\", \"items_per_order\", \"items_per_order\", \"items_per_order\", \"items_per_order\", \"items_per_order\", \"items_per_order\", \"items_per_order\", \"items_per_order\", \"items_per_order\", \"items_per_order\", \"items_per_order\", \"items_per_order\", \"items_per_order\", \"items_per_order\", \"items_per_order\", \"items_per_order\", \"items_per_order\", \"items_per_order\", \"items_per_order\", \"items_per_order\", \"items_per_order\", \"items_per_order\", \"items_per_order\", \"items_per_order\", \"items_per_order\", \"items_per_order\", \"items_per_order\", \"items_per_order\", \"items_per_order\", \"items_per_order\", \"items_per_order\", \"items_per_order\", \"items_per_order\", \"items_per_order\", \"items_per_order\", \"items_per_order\", \"items_per_order\", \"items_per_order\", \"items_per_order\", \"items_per_order\", \"items_per_order\", \"items_per_order\", \"items_per_order\", \"items_per_order\", \"items_per_order\", \"items_per_order\", \"items_per_order\", \"items_per_order\", \"items_per_order\", \"items_per_order\", \"items_per_order\", \"items_per_order\", \"items_per_order\", \"items_per_order\", \"items_per_order\", \"items_per_order\", \"items_per_order\", \"items_per_order\", \"items_per_order\", \"items_per_order\", \"items_per_order\", \"items_per_order\", \"items_per_order\", \"items_per_order\", \"items_per_order\", \"items_per_order\", \"items_per_order\", \"items_per_order\", \"items_per_order\", \"items_per_order\", \"items_per_order\", \"items_per_order\", \"items_per_order\", \"items_per_order\", \"items_per_order\", \"items_per_order\", \"items_per_order\", \"items_per_order\", \"items_per_order\", \"items_per_order\", \"items_per_order\", \"items_per_order\", \"items_per_order\", \"items_per_order\", \"items_per_order\", \"items_per_order\", \"items_per_order\", \"items_per_order\", \"items_per_order\", \"items_per_order\", \"items_per_order\", \"items_per_order\", \"items_per_order\", \"items_per_order\", \"items_per_order\", \"items_per_order\", \"items_per_order\", \"items_per_order\", \"items_per_order\", \"items_per_order\", \"items_per_order\", \"items_per_order\", \"items_per_order\", \"items_per_order\", \"items_per_order\", \"items_per_order\", \"items_per_order\", \"items_per_order\", \"items_per_order\", \"items_per_order\", \"items_per_order\", \"items_per_order\", \"items_per_order\", \"items_per_order\", \"items_per_order\", \"items_per_order\", \"items_per_order\", \"items_per_order\", \"items_per_order\", \"items_per_order\", \"items_per_order\", \"items_per_order\", \"items_per_order\", \"items_per_order\", \"items_per_order\", \"items_per_order\", \"items_per_order\", \"items_per_order\", \"items_per_order\", \"items_per_order\", \"items_per_order\", \"items_per_order\", \"items_per_order\", \"items_per_order\", \"items_per_order\", \"items_per_order\", \"items_per_order\", \"items_per_order\", \"items_per_order\", \"items_per_order\", \"items_per_order\", \"items_per_order\", \"items_per_order\", \"items_per_order\", \"items_per_order\", \"items_per_order\", \"items_per_order\", \"items_per_order\", \"items_per_order\", \"items_per_order\", \"items_per_order\", \"items_per_order\", \"items_per_order\", \"items_per_order\", \"items_per_order\", \"items_per_order\", \"items_per_order\", \"items_per_order\", \"items_per_order\", \"items_per_order\", \"items_per_order\", \"items_per_order\", \"items_per_order\", \"items_per_order\", \"items_per_order\", \"items_per_order\", \"items_per_order\", \"items_per_order\", \"items_per_order\", \"items_per_order\", \"items_per_order\", \"items_per_order\", \"items_per_order\", \"items_per_order\", \"items_per_order\", \"items_per_order\", \"items_per_order\", \"items_per_order\", \"items_per_order\", \"items_per_order\", \"items_per_order\", \"items_per_order\", \"items_per_order\", \"items_per_order\", \"items_per_order\", \"items_per_order\", \"items_per_order\", \"items_per_order\", \"items_per_order\", \"items_per_order\", \"items_per_order\", \"items_per_order\", \"items_per_order\", \"items_per_order\", \"items_per_order\", \"items_per_order\", \"items_per_order\", \"items_per_order\", \"items_per_order\", \"items_per_order\", \"items_per_order\", \"items_per_order\", \"items_per_order\", \"items_per_order\", \"items_per_order\", \"items_per_order\", \"items_per_order\", \"items_per_order\", \"items_per_order\", \"items_per_order\", \"items_per_order\", \"items_per_order\", \"items_per_order\", \"items_per_order\", \"items_per_order\", \"items_per_order\", \"items_per_order\", \"items_per_order\", \"items_per_order\", \"items_per_order\", \"items_per_order\", \"items_per_order\", \"items_per_order\", \"items_per_order\", \"items_per_order\", \"items_per_order\", \"items_per_order\", \"items_per_order\", \"items_per_order\", \"items_per_order\", \"items_per_order\", \"items_per_order\", \"items_per_order\", \"items_per_order\", \"items_per_order\", \"items_per_order\", \"items_per_order\", \"items_per_order\", \"items_per_order\", \"items_per_order\", \"items_per_order\", \"items_per_order\", \"items_per_order\", \"items_per_order\", \"items_per_order\", \"items_per_order\", \"items_per_order\", \"items_per_order\", \"items_per_order\", \"items_per_order\", \"items_per_order\", \"items_per_order\", \"items_per_order\", \"items_per_order\", \"items_per_order\", \"items_per_order\", \"items_per_order\", \"items_per_order\", \"items_per_order\", \"items_per_order\", \"items_per_order\", \"items_per_order\", \"items_per_order\", \"items_per_order\", \"items_per_order\", \"items_per_order\", \"items_per_order\", \"items_per_order\", \"items_per_order\", \"items_per_order\", \"items_per_order\", \"items_per_order\", \"items_per_order\", \"items_per_order\", \"items_per_order\", \"items_per_order\", \"items_per_order\", \"items_per_order\", \"items_per_order\", \"items_per_order\", \"items_per_order\", \"items_per_order\", \"items_per_order\", \"items_per_order\", \"items_per_order\", \"items_per_order\", \"items_per_order\", \"items_per_order\", \"items_per_order\", \"items_per_order\", \"items_per_order\", \"items_per_order\", \"items_per_order\", \"items_per_order\", \"items_per_order\", \"items_per_order\", \"items_per_order\", \"items_per_order\", \"items_per_order\", \"items_per_order\", \"items_per_order\", \"items_per_order\", \"items_per_order\", \"items_per_order\", \"items_per_order\", \"items_per_order\", \"items_per_order\", \"items_per_order\", \"items_per_order\", \"items_per_order\", \"items_per_order\", \"items_per_order\", \"items_per_order\", \"items_per_order\", \"items_per_order\", \"items_per_order\", \"items_per_order\", \"items_per_order\", \"items_per_order\", \"items_per_order\", \"items_per_order\", \"items_per_order\", \"items_per_order\", \"items_per_order\", \"items_per_order\", \"items_per_order\", \"items_per_order\", \"items_per_order\", \"items_per_order\", \"items_per_order\", \"items_per_order\", \"items_per_order\", \"items_per_order\", \"items_per_order\", \"items_per_order\", \"items_per_order\", \"items_per_order\", \"items_per_order\", \"items_per_order\", \"items_per_order\", \"items_per_order\", \"items_per_order\", \"items_per_order\", \"items_per_order\", \"items_per_order\", \"items_per_order\", \"items_per_order\", \"items_per_order\", \"items_per_order\", \"items_per_order\", \"items_per_order\", \"items_per_order\", \"items_per_order\", \"items_per_order\", \"items_per_order\", \"items_per_order\", \"items_per_order\", \"items_per_order\", \"items_per_order\", \"items_per_order\", \"items_per_order\", \"items_per_order\", \"items_per_order\", \"items_per_order\", \"items_per_order\", \"items_per_order\", \"items_per_order\", \"items_per_order\", \"items_per_order\", \"items_per_order\", \"items_per_order\", \"items_per_order\", \"items_per_order\", \"items_per_order\", \"items_per_order\", \"items_per_order\", \"items_per_order\", \"items_per_order\", \"items_per_order\", \"items_per_order\", \"items_per_order\", \"items_per_order\", \"items_per_order\", \"items_per_order\", \"items_per_order\", \"items_per_order\", \"items_per_order\", \"items_per_order\", \"items_per_order\", \"items_per_order\", \"items_per_order\", \"items_per_order\", \"items_per_order\", \"items_per_order\", \"items_per_order\", \"items_per_order\", \"items_per_order\", \"items_per_order\", \"items_per_order\", \"items_per_order\", \"items_per_order\", \"items_per_order\", \"items_per_order\", \"items_per_order\", \"items_per_order\", \"items_per_order\", \"items_per_order\", \"items_per_order\", \"items_per_order\", \"items_per_order\", \"items_per_order\", \"items_per_order\", \"items_per_order\", \"items_per_order\", \"items_per_order\", \"items_per_order\", \"items_per_order\", \"items_per_order\", \"items_per_order\", \"items_per_order\", \"items_per_order\", \"items_per_order\", \"items_per_order\", \"items_per_order\", \"items_per_order\", \"items_per_order\", \"items_per_order\", \"items_per_order\", \"items_per_order\", \"items_per_order\", \"items_per_order\", \"items_per_order\", \"items_per_order\", \"items_per_order\", \"items_per_order\", \"items_per_order\", \"items_per_order\", \"items_per_order\", \"items_per_order\", \"items_per_order\", \"items_per_order\", \"items_per_order\", \"items_per_order\", \"items_per_order\", \"items_per_order\", \"items_per_order\", \"items_per_order\", \"items_per_order\", \"items_per_order\", \"items_per_order\", \"items_per_order\", \"items_per_order\", \"items_per_order\", \"items_per_order\", \"items_per_order\", \"items_per_order\", \"items_per_order\", \"items_per_order\", \"items_per_order\", \"items_per_order\", \"items_per_order\", \"items_per_order\", \"items_per_order\", \"items_per_order\", \"items_per_order\", \"items_per_order\", \"items_per_order\", \"items_per_order\", \"items_per_order\", \"items_per_order\", \"items_per_order\", \"items_per_order\"], \"x0\": \" \", \"xaxis\": \"x\", \"y\": [4, 2, 2, 2, 2, 2, 2, 2, 3, 2, 2, 2, 2, 2, 2, 2, 2, 4, 2, 4, 3, 2, 3, 2, 2, 2, 2, 4, 2, 3, 2, 2, 2, 4, 2, 2, 2, 3, 2, 3, 2, 2, 2, 2, 3, 2, 2, 2, 3, 2, 3, 2, 3, 2, 2, 3, 2, 2, 1, 2, 2, 2, 2, 2, 3, 1, 3, 3, 2, 3, 3, 1, 4, 3, 4, 3, 2, 2, 1, 1, 3, 3, 3, 3, 2, 3, 2, 2, 3, 2, 2, 3, 4, 2, 2, 4, 3, 4, 2, 2, 2, 3, 6, 2, 2, 2, 1, 5, 2, 4, 2, 2, 2, 2, 2, 2, 2, 2, 2, 2, 2, 3, 2, 4, 4, 2, 2, 3, 3, 2, 2, 3, 2, 3, 2, 2, 2, 3, 3, 1, 2, 2, 3, 2, 2, 2, 2, 4, 6, 4, 3, 2, 2, 3, 3, 2, 2, 2, 2, 2, 2, 2, 2, 2, 3, 3, 2, 2, 2, 3, 2, 2, 2, 2, 2, 3, 2, 3, 2, 3, 2, 3, 2, 5, 2, 4, 2, 2, 2, 2, 2, 4, 3, 2, 8, 4, 2, 2, 3, 2, 2, 3, 2, 2, 12, 5, 3, 2, 2, 2, 2, 4, 2, 2, 5, 2, 3, 2, 2, 2, 2, 3, 3, 2, 6, 3, 3, 1, 2, 5, 6, 2, 5, 4, 3, 2, 5, 2, 2, 3, 1, 2, 2, 3, 1, 2, 5, 2, 2, 2, 3, 2, 2, 5, 2, 2, 2, 4, 2, 2, 2, 2, 2, 3, 3, 2, 2, 2, 2, 4, 3, 2, 2, 2, 2, 4, 3, 2, 4, 2, 2, 4, 2, 6, 2, 3, 4, 4, 3, 2, 3, 2, 1, 2, 2, 2, 2, 2, 3, 2, 3, 2, 2, 4, 3, 2, 2, 2, 2, 2, 4, 3, 2, 2, 2, 2, 3, 2, 3, 3, 3, 3, 3, 2, 4, 5, 2, 2, 2, 2, 2, 2, 2, 2, 2, 2, 2, 7, 1, 2, 1, 2, 7, 3, 3, 4, 2, 2, 2, 4, 2, 3, 2, 2, 2, 2, 2, 3, 3, 3, 2, 2, 4, 2, 2, 3, 4, 2, 3, 2, 2, 2, 2, 2, 2, 4, 3, 2, 7, 4, 3, 2, 2, 4, 2, 2, 4, 2, 6, 2, 2, 3, 2, 2, 2, 4, 2, 2, 2, 3, 2, 5, 2, 3, 2, 2, 2, 3, 2, 3, 2, 4, 3, 2, 2, 2, 2, 2, 3, 2, 2, 2, 2, 3, 2, 3, 2, 3, 1, 3, 3, 3, 2, 2, 2, 2, 3, 2, 2, 3, 2, 1, 3, 2, 3, 2, 2, 3, 3, 5, 3, 2, 1, 2, 2, 2, 3, 2, 2, 3, 2, 3, 2, 2, 2, 3, 3, 3, 3, 2, 5, 2, 2, 1, 3, 2, 2, 4, 3, 3, 5, 4, 2, 3, 6, 2, 2, 6, 2, 2, 10, 1, 2, 2, 2, 5, 3, 3, 2, 3, 2, 2, 2, 2, 2, 3, 4, 2, 4, 2, 17, 1, 3, 3, 2, 2, 2, 1, 3, 3, 2, 3, 2, 2, 2, 2, 3, 1, 3, 4, 2, 2, 2, 3, 4, 2, 2, 1, 2, 2, 2, 2, 2, 2, 3, 4, 2, 2, 5, 2, 2, 4, 3, 2, 3, 1, 2, 2, 3, 5, 10, 2, 3, 2, 2, 2, 3, 1, 3, 2, 2, 2, 4, 4, 3, 5, 11, 2, 2, 2, 2, 2, 2, 2, 3, 2, 2, 3, 2, 3, 3, 2, 1, 2, 2, 3, 2, 3, 2, 2, 3, 3, 2, 3, 1, 3, 3, 3, 2, 2, 2, 2, 3, 2, 2, 3, 2, 2, 2, 2, 2, 3, 4, 4, 2, 3, 2, 6, 3, 2, 3, 2, 4, 3, 5, 3, 5, 4, 3, 2, 2, 2, 3, 2, 2, 2, 2, 4, 6, 3, 4, 3, 2, 6, 3, 3, 2, 2, 2, 2, 2, 2, 2, 2, 2, 2, 3, 2, 2, 4, 2, 2, 2, 3, 2, 2, 3, 2, 2, 2, 2, 3, 3, 2, 2, 2, 3, 5, 2, 2, 11, 2, 2, 2, 2, 3, 2, 3, 2, 3, 2, 1, 3, 2, 2, 3, 2, 4, 3, 4, 2, 3, 2, 2, 2, 2, 2, 1, 2, 3, 2, 2, 2, 4, 3, 2, 2, 2, 2, 2, 2, 3, 2, 4, 2, 2, 5, 2, 2, 3, 2, 2, 2, 2, 2, 4, 2, 2, 2, 3, 3, 3, 2, 3, 2, 2, 2, 3, 18, 2, 2, 3, 4, 3, 2, 3, 2, 2, 2, 3, 2, 2, 3, 2, 2, 3, 2, 2, 2, 1, 2, 2, 3, 3, 2, 2, 6, 2, 2, 2, 5, 4, 2, 3, 3, 3, 2, 4, 2, 2, 2, 1, 5, 2, 3, 5, 4, 3, 2, 2, 2, 3, 3, 4, 2, 4, 3, 9, 1, 2, 1, 2, 4, 2, 2, 2, 2, 2, 3, 2, 2, 3, 2, 4, 2, 3, 2, 3, 2, 2, 2, 4, 2, 3, 2, 3, 3, 7, 3, 4, 2, 2, 2, 2, 4, 2, 3, 2, 4, 3, 2, 2, 1, 2, 1, 3, 2, 4, 2, 1, 1, 3, 3, 2, 2, 2, 2, 2, 4, 3, 3, 2, 3, 3, 2, 2, 2, 5, 2, 3, 3, 3, 2, 3, 2, 2, 2, 3, 3, 2, 7, 1, 3, 2, 2, 2, 6, 2, 4, 2, 3, 5, 4, 2, 4, 8, 1, 2, 3, 1, 3, 3, 2, 2, 2, 23, 2, 3, 2, 2, 3, 2, 2, 4, 3, 3, 3, 3, 2, 4, 3, 2, 2, 2, 4, 3, 5, 3, 5, 2, 2, 4, 8, 2, 3, 2, 2, 2, 2, 2, 3, 3, 2, 2, 3, 3, 2, 2, 2, 6, 3, 3, 6, 2, 4, 3, 2, 3, 3, 2, 2, 2, 3, 3, 1, 2, 2, 2, 3, 3, 2, 2, 2, 2, 3, 4, 2, 2, 5, 2, 2, 2, 2, 2, 3, 8, 3, 3, 4, 5, 4, 2, 4, 2, 2, 3, 2, 2, 2, 3, 2, 1, 2, 2, 3, 4, 2, 2, 3, 3, 3, 3, 3, 2, 4, 1, 2, 2, 2, 2, 3, 3, 2, 3, 3, 2, 2, 2, 2, 3, 7, 4, 2, 2, 4, 2, 3, 3, 3, 2, 1, 2, 2, 4, 2, 2, 2, 3, 2, 4, 5, 2, 2, 4, 2, 3, 2, 2, 2, 2, 3, 3, 3, 2, 3, 2, 3, 2, 3, 3, 3, 3, 2, 2, 3, 2, 6, 2, 2, 2, 3, 3, 3, 2, 2, 3, 2, 2, 2, 3, 2, 3, 2, 4, 3, 2, 4, 2, 2, 2, 4, 2, 2, 3, 2, 2, 2, 4, 2, 2, 3, 3, 2, 2, 2, 4, 2, 2, 2, 4, 3, 3, 3, 3, 2, 1, 2, 2, 3, 2, 2, 2, 2, 3, 2, 8, 2, 2, 3, 2, 2, 2, 2, 2, 3, 3, 6, 2, 2, 7, 3, 2, 2, 2, 2, 4, 3, 2, 2, 2, 2, 7, 2, 2, 2, 2, 2, 3, 3, 3, 4, 4, 4, 3, 3, 3, 2, 2, 1, 3, 4, 2, 2, 2, 2, 3, 2, 2, 2, 4, 2, 2, 2, 2, 2, 2, 2, 3, 2, 3, 4, 2, 3, 2, 2, 3, 2, 4, 2, 2, 5, 2, 1, 2, 2, 2, 2, 2, 2, 2, 2, 2, 5, 4, 2, 3, 4, 4, 2, 5, 2, 2, 2, 3, 3, 2, 2, 3, 2, 2, 5, 2, 2, 2, 2, 2, 2, 2, 2, 2, 4, 2, 1, 3, 2, 3, 2, 2, 2, 2, 3, 3, 4, 2, 2, 2, 3, 3, 2, 2, 2, 2, 3, 2, 2, 2, 2, 4, 3, 2, 2, 2, 2, 4, 3, 3, 2, 2, 4, 2, 1, 2, 1, 2, 2, 2, 2, 2, 2, 5, 4, 3, 4, 3, 3, 2, 3, 4, 2, 5, 3, 3, 3, 2, 2, 3, 2, 2, 1, 2, 5, 3, 2, 2, 2, 2, 2, 3, 4, 2, 2, 2, 2, 2, 2, 4, 2, 2, 4, 6, 2, 2, 2, 2, 3, 2, 4, 2, 2, 2, 4, 2, 2, 2, 2, 2, 3, 2, 2, 3, 2, 2, 2, 2, 1, 2, 2, 2, 3, 3, 3, 3, 2, 2, 3, 6, 2, 3, 3, 2, 2, 4, 2, 3, 4, 2, 2, 2, 2, 2, 3, 2, 2, 3, 2, 3, 4, 2, 3, 2, 2, 3, 2, 2, 3, 4, 3, 2, 4, 3, 6, 2, 4, 4, 2, 2, 3, 2, 3, 4, 3, 2, 35, 2, 2, 4, 2, 2, 11, 3, 2, 2, 4, 10, 3, 2, 3, 2, 2, 3, 3, 4, 2, 2, 2, 2, 2, 2, 2, 2, 2, 3, 2, 2, 2, 3, 2, 2, 2, 3, 2, 4, 14, 3, 3, 2, 3, 2, 3, 2, 2, 3, 2, 2, 1, 1, 2, 2, 3, 2, 2, 2, 2, 2, 2, 2, 2, 2, 3, 3, 5, 2, 2, 5, 2, 2, 4, 2, 1, 2, 2, 2, 2, 2, 2, 2, 2, 2, 2, 3, 2, 2, 6, 3, 2, 2, 4, 3, 2, 2, 4, 2, 2, 2, 2, 2, 3, 2, 3, 4, 2, 2, 2, 4, 2, 4, 2, 2, 16, 2, 2, 3, 3, 2, 2, 2, 1, 2, 2, 2, 2, 3, 2, 4, 2, 2, 5, 4, 3, 3, 3, 2, 2, 2, 3, 6, 2, 4, 1, 2, 2, 8, 2, 2, 3, 2, 3, 4, 3, 2, 4, 2, 3, 4, 2, 2, 2, 4, 2, 4, 5, 2, 3, 2, 4, 2, 2, 3, 2, 2, 2, 2, 2, 2, 2, 3, 4, 2, 3, 3, 2, 2, 3, 2, 2, 2, 2, 2, 2, 2, 2, 5, 4, 3, 3, 2, 2, 4, 2, 2, 3, 4, 3, 2, 8, 2, 4, 2, 2, 19, 2, 5, 2, 4, 3, 2, 2, 2, 2, 4, 4, 2, 5, 2, 2, 3, 2, 2, 5, 2, 2, 3, 2, 2, 2, 2, 3, 2, 2, 4, 4, 3, 2, 3, 3, 4, 2, 3, 3, 2, 4, 2, 4, 2, 3, 2, 2, 2, 4, 2, 2, 2, 2, 3, 3, 2, 3, 4, 5, 2, 2, 2, 2, 2, 2, 2, 2, 2, 3, 2, 2, 3, 2, 2, 3, 2, 3, 4, 2, 2, 3, 3, 2, 2, 4, 5, 2, 3, 3, 2, 4, 2, 3, 2, 3, 2, 3, 2, 3, 2, 6, 2, 3, 7, 3, 4, 2, 3, 2, 2, 2, 3, 2, 2, 3, 3, 2, 4, 3, 2, 2, 2, 2, 2, 4, 20, 3, 3, 4, 3, 2, 2, 3, 3, 3, 2, 2, 3, 3, 3, 2, 2, 3, 3, 2, 4, 2, 2, 3, 2, 3, 4, 2, 2, 2, 2, 4, 2, 2, 2, 2, 4, 3, 3, 6, 4, 5, 3, 3, 2, 3, 2, 2, 3], \"y0\": \" \", \"yaxis\": \"y\"}],                        {\"boxmode\": \"group\", \"legend\": {\"tracegroupgap\": 0}, \"margin\": {\"t\": 60}, \"template\": {\"data\": {\"pie\": [{\"automargin\": true, \"type\": \"pie\"}]}, \"layout\": {\"xaxis\": {\"showgrid\": true, \"title\": {\"standoff\": 15}}, \"yaxis\": {\"showgrid\": true, \"title\": {\"standoff\": 15}}}}, \"xaxis\": {\"anchor\": \"y\", \"domain\": [0.0, 1.0], \"title\": {\"text\": \"variable\"}}, \"yaxis\": {\"anchor\": \"x\", \"domain\": [0.0, 1.0], \"title\": {\"text\": \"value\"}}},                        {\"responsive\": true}                    ).then(function(){\n",
       "                            \n",
       "var gd = document.getElementById('1f63c842-4aa4-4e35-abaa-98493e344f94');\n",
       "var x = new MutationObserver(function (mutations, observer) {{\n",
       "        var display = window.getComputedStyle(gd).display;\n",
       "        if (!display || display === 'none') {{\n",
       "            console.log([gd, 'removed!']);\n",
       "            Plotly.purge(gd);\n",
       "            observer.disconnect();\n",
       "        }}\n",
       "}});\n",
       "\n",
       "// Listen for the removal of the full notebook cells\n",
       "var notebookContainer = gd.closest('#notebook-container');\n",
       "if (notebookContainer) {{\n",
       "    x.observe(notebookContainer, {childList: true});\n",
       "}}\n",
       "\n",
       "// Listen for the clearing of the current output cell\n",
       "var outputEl = gd.closest('.output');\n",
       "if (outputEl) {{\n",
       "    x.observe(outputEl, {childList: true});\n",
       "}}\n",
       "\n",
       "                        })                };                });            </script>        </div>"
      ]
     },
     "metadata": {},
     "output_type": "display_data"
    }
   ],
   "source": [
    "df_orders['items_per_order'].plot(kind='box',template='gridon')"
   ]
  },
  {
   "cell_type": "code",
   "execution_count": null,
   "metadata": {},
   "outputs": [],
   "source": []
  },
  {
   "cell_type": "code",
   "execution_count": 299,
   "metadata": {},
   "outputs": [
    {
     "data": {
      "text/plain": [
       "4.0"
      ]
     },
     "execution_count": 299,
     "metadata": {},
     "output_type": "execute_result"
    }
   ],
   "source": [
    "df_orders['items_per_order'].quantile(.9)"
   ]
  },
  {
   "cell_type": "code",
   "execution_count": 300,
   "metadata": {},
   "outputs": [
    {
     "data": {
      "text/plain": [
       "5.0"
      ]
     },
     "execution_count": 300,
     "metadata": {},
     "output_type": "execute_result"
    }
   ],
   "source": [
    "df_orders['items_per_order'].quantile(.95)"
   ]
  },
  {
   "cell_type": "code",
   "execution_count": 301,
   "metadata": {},
   "outputs": [
    {
     "data": {
      "text/plain": [
       "8.0"
      ]
     },
     "execution_count": 301,
     "metadata": {},
     "output_type": "execute_result"
    }
   ],
   "source": [
    "df_orders['items_per_order'].quantile(.99)"
   ]
  },
  {
   "cell_type": "code",
   "execution_count": 302,
   "metadata": {},
   "outputs": [],
   "source": [
    "conditions = [\n",
    "    df_orders['items_per_order'] == 1,\n",
    "    df_orders['items_per_order'] == 2,\n",
    "    df_orders['items_per_order'] == 3,\n",
    "    df_orders['items_per_order'] == 4,\n",
    "    df_orders['items_per_order'] == 5,\n",
    "    (df_orders['items_per_order'] >= 5) & (df_orders['items_per_order'] <= 10),\n",
    "    df_orders['items_per_order'] > 10\n",
    "]\n",
    "\n",
    "results = [\n",
    "    'a. 1',\n",
    "    'b. 2',\n",
    "    'c. 3',\n",
    "    'd. 4',\n",
    "    'e. 5',\n",
    "    'f. 6-10',\n",
    "    'g. 10+'    \n",
    "]\n",
    "\n",
    "df_orders['items_per_order_cat'] = np.select(conditions,results,'Other')"
   ]
  },
  {
   "cell_type": "code",
   "execution_count": 303,
   "metadata": {},
   "outputs": [
    {
     "data": {
      "text/html": [
       "<div>\n",
       "<style scoped>\n",
       "    .dataframe tbody tr th:only-of-type {\n",
       "        vertical-align: middle;\n",
       "    }\n",
       "\n",
       "    .dataframe tbody tr th {\n",
       "        vertical-align: top;\n",
       "    }\n",
       "\n",
       "    .dataframe thead th {\n",
       "        text-align: right;\n",
       "    }\n",
       "</style>\n",
       "<table border=\"1\" class=\"dataframe\">\n",
       "  <thead>\n",
       "    <tr style=\"text-align: right;\">\n",
       "      <th></th>\n",
       "      <th>order_id</th>\n",
       "      <th>items_per_order</th>\n",
       "      <th>order_value</th>\n",
       "      <th>avg_price_per_item</th>\n",
       "      <th>items_per_order_cat</th>\n",
       "    </tr>\n",
       "  </thead>\n",
       "  <tbody>\n",
       "    <tr>\n",
       "      <th>0</th>\n",
       "      <td>1</td>\n",
       "      <td>4</td>\n",
       "      <td>11.56</td>\n",
       "      <td>2.890</td>\n",
       "      <td>d. 4</td>\n",
       "    </tr>\n",
       "    <tr>\n",
       "      <th>1</th>\n",
       "      <td>2</td>\n",
       "      <td>2</td>\n",
       "      <td>16.98</td>\n",
       "      <td>8.490</td>\n",
       "      <td>b. 2</td>\n",
       "    </tr>\n",
       "    <tr>\n",
       "      <th>2</th>\n",
       "      <td>3</td>\n",
       "      <td>2</td>\n",
       "      <td>12.67</td>\n",
       "      <td>6.335</td>\n",
       "      <td>b. 2</td>\n",
       "    </tr>\n",
       "    <tr>\n",
       "      <th>3</th>\n",
       "      <td>4</td>\n",
       "      <td>2</td>\n",
       "      <td>21.00</td>\n",
       "      <td>10.500</td>\n",
       "      <td>b. 2</td>\n",
       "    </tr>\n",
       "    <tr>\n",
       "      <th>4</th>\n",
       "      <td>5</td>\n",
       "      <td>2</td>\n",
       "      <td>13.70</td>\n",
       "      <td>6.850</td>\n",
       "      <td>b. 2</td>\n",
       "    </tr>\n",
       "  </tbody>\n",
       "</table>\n",
       "</div>"
      ],
      "text/plain": [
       "   order_id  items_per_order  order_value  avg_price_per_item  \\\n",
       "0         1                4        11.56               2.890   \n",
       "1         2                2        16.98               8.490   \n",
       "2         3                2        12.67               6.335   \n",
       "3         4                2        21.00              10.500   \n",
       "4         5                2        13.70               6.850   \n",
       "\n",
       "  items_per_order_cat  \n",
       "0                d. 4  \n",
       "1                b. 2  \n",
       "2                b. 2  \n",
       "3                b. 2  \n",
       "4                b. 2  "
      ]
     },
     "execution_count": 303,
     "metadata": {},
     "output_type": "execute_result"
    }
   ],
   "source": [
    "df_orders.head(5)"
   ]
  },
  {
   "cell_type": "code",
   "execution_count": 304,
   "metadata": {},
   "outputs": [
    {
     "data": {
      "text/plain": [
       "b. 2       1038\n",
       "c. 3        455\n",
       "d. 4        179\n",
       "a. 1         56\n",
       "e. 5         50\n",
       "f. 6-10      44\n",
       "g. 10+       12\n",
       "Name: items_per_order_cat, dtype: int64"
      ]
     },
     "execution_count": 304,
     "metadata": {},
     "output_type": "execute_result"
    }
   ],
   "source": [
    "df_orders['items_per_order_cat'].value_counts()"
   ]
  },
  {
   "cell_type": "code",
   "execution_count": 305,
   "metadata": {},
   "outputs": [
    {
     "data": {
      "text/html": [
       "<div>\n",
       "<style scoped>\n",
       "    .dataframe tbody tr th:only-of-type {\n",
       "        vertical-align: middle;\n",
       "    }\n",
       "\n",
       "    .dataframe tbody tr th {\n",
       "        vertical-align: top;\n",
       "    }\n",
       "\n",
       "    .dataframe thead th {\n",
       "        text-align: right;\n",
       "    }\n",
       "</style>\n",
       "<table border=\"1\" class=\"dataframe\">\n",
       "  <thead>\n",
       "    <tr style=\"text-align: right;\">\n",
       "      <th></th>\n",
       "      <th>index</th>\n",
       "      <th>items_per_order_cat</th>\n",
       "    </tr>\n",
       "  </thead>\n",
       "  <tbody>\n",
       "    <tr>\n",
       "      <th>3</th>\n",
       "      <td>a. 1</td>\n",
       "      <td>56</td>\n",
       "    </tr>\n",
       "    <tr>\n",
       "      <th>0</th>\n",
       "      <td>b. 2</td>\n",
       "      <td>1038</td>\n",
       "    </tr>\n",
       "    <tr>\n",
       "      <th>1</th>\n",
       "      <td>c. 3</td>\n",
       "      <td>455</td>\n",
       "    </tr>\n",
       "    <tr>\n",
       "      <th>2</th>\n",
       "      <td>d. 4</td>\n",
       "      <td>179</td>\n",
       "    </tr>\n",
       "    <tr>\n",
       "      <th>4</th>\n",
       "      <td>e. 5</td>\n",
       "      <td>50</td>\n",
       "    </tr>\n",
       "    <tr>\n",
       "      <th>5</th>\n",
       "      <td>f. 6-10</td>\n",
       "      <td>44</td>\n",
       "    </tr>\n",
       "    <tr>\n",
       "      <th>6</th>\n",
       "      <td>g. 10+</td>\n",
       "      <td>12</td>\n",
       "    </tr>\n",
       "  </tbody>\n",
       "</table>\n",
       "</div>"
      ],
      "text/plain": [
       "     index  items_per_order_cat\n",
       "3     a. 1                   56\n",
       "0     b. 2                 1038\n",
       "1     c. 3                  455\n",
       "2     d. 4                  179\n",
       "4     e. 5                   50\n",
       "5  f. 6-10                   44\n",
       "6   g. 10+                   12"
      ]
     },
     "execution_count": 305,
     "metadata": {},
     "output_type": "execute_result"
    }
   ],
   "source": [
    "(df_orders['items_per_order_cat'].value_counts().reset_index()).sort_values('index')"
   ]
  },
  {
   "cell_type": "code",
   "execution_count": 306,
   "metadata": {},
   "outputs": [
    {
     "data": {
      "text/plain": [
       "b. 2       0.565976\n",
       "c. 3       0.248092\n",
       "d. 4       0.097601\n",
       "a. 1       0.030534\n",
       "e. 5       0.027263\n",
       "f. 6-10    0.023991\n",
       "g. 10+     0.006543\n",
       "Name: items_per_order_cat, dtype: float64"
      ]
     },
     "execution_count": 306,
     "metadata": {},
     "output_type": "execute_result"
    }
   ],
   "source": [
    "df_orders['items_per_order_cat'].value_counts(normalize = 'True')"
   ]
  },
  {
   "cell_type": "code",
   "execution_count": 307,
   "metadata": {},
   "outputs": [],
   "source": [
    "?pd.Series.value_counts"
   ]
  },
  {
   "cell_type": "code",
   "execution_count": 308,
   "metadata": {},
   "outputs": [
    {
     "data": {
      "text/html": [
       "<div>\n",
       "<style scoped>\n",
       "    .dataframe tbody tr th:only-of-type {\n",
       "        vertical-align: middle;\n",
       "    }\n",
       "\n",
       "    .dataframe tbody tr th {\n",
       "        vertical-align: top;\n",
       "    }\n",
       "\n",
       "    .dataframe thead th {\n",
       "        text-align: right;\n",
       "    }\n",
       "</style>\n",
       "<table border=\"1\" class=\"dataframe\">\n",
       "  <thead>\n",
       "    <tr style=\"text-align: right;\">\n",
       "      <th></th>\n",
       "      <th>index</th>\n",
       "      <th>items_per_order_cat</th>\n",
       "    </tr>\n",
       "  </thead>\n",
       "  <tbody>\n",
       "    <tr>\n",
       "      <th>3</th>\n",
       "      <td>a. 1</td>\n",
       "      <td>0.030534</td>\n",
       "    </tr>\n",
       "    <tr>\n",
       "      <th>0</th>\n",
       "      <td>b. 2</td>\n",
       "      <td>0.565976</td>\n",
       "    </tr>\n",
       "    <tr>\n",
       "      <th>1</th>\n",
       "      <td>c. 3</td>\n",
       "      <td>0.248092</td>\n",
       "    </tr>\n",
       "    <tr>\n",
       "      <th>2</th>\n",
       "      <td>d. 4</td>\n",
       "      <td>0.097601</td>\n",
       "    </tr>\n",
       "    <tr>\n",
       "      <th>4</th>\n",
       "      <td>e. 5</td>\n",
       "      <td>0.027263</td>\n",
       "    </tr>\n",
       "    <tr>\n",
       "      <th>5</th>\n",
       "      <td>f. 6-10</td>\n",
       "      <td>0.023991</td>\n",
       "    </tr>\n",
       "    <tr>\n",
       "      <th>6</th>\n",
       "      <td>g. 10+</td>\n",
       "      <td>0.006543</td>\n",
       "    </tr>\n",
       "  </tbody>\n",
       "</table>\n",
       "</div>"
      ],
      "text/plain": [
       "     index  items_per_order_cat\n",
       "3     a. 1             0.030534\n",
       "0     b. 2             0.565976\n",
       "1     c. 3             0.248092\n",
       "2     d. 4             0.097601\n",
       "4     e. 5             0.027263\n",
       "5  f. 6-10             0.023991\n",
       "6   g. 10+             0.006543"
      ]
     },
     "execution_count": 308,
     "metadata": {},
     "output_type": "execute_result"
    }
   ],
   "source": [
    "(df_orders['items_per_order_cat'].value_counts(normalize = True).reset_index()).sort_values('index')"
   ]
  },
  {
   "cell_type": "code",
   "execution_count": 333,
   "metadata": {},
   "outputs": [
    {
     "data": {
      "text/plain": [
       "pandas.core.frame.DataFrame"
      ]
     },
     "execution_count": 333,
     "metadata": {},
     "output_type": "execute_result"
    }
   ],
   "source": []
  },
  {
   "cell_type": "code",
   "execution_count": 341,
   "metadata": {},
   "outputs": [
    {
     "data": {
      "application/vnd.plotly.v1+json": {
       "config": {
        "plotlyServerURL": "https://plot.ly"
       },
       "data": [
        {
         "alignmentgroup": "True",
         "hovertemplate": "Items per order=%{text}<br>Grouping=%{y}<extra></extra>",
         "legendgroup": "",
         "marker": {
          "color": "#1F77B4"
         },
         "name": "",
         "offsetgroup": "",
         "orientation": "h",
         "showlegend": false,
         "text": [
          12,
          44,
          50,
          179,
          455,
          1038,
          56
         ],
         "textposition": "auto",
         "type": "bar",
         "x": [
          12,
          44,
          50,
          179,
          455,
          1038,
          56
         ],
         "xaxis": "x",
         "y": [
          "g. 10+",
          "f. 6-10",
          "e. 5",
          "d. 4",
          "c. 3",
          "b. 2",
          "a. 1"
         ],
         "yaxis": "y"
        }
       ],
       "layout": {
        "barmode": "relative",
        "legend": {
         "tracegroupgap": 0
        },
        "template": {
         "data": {
          "bar": [
           {
            "error_x": {
             "color": "rgb(36,36,36)"
            },
            "error_y": {
             "color": "rgb(36,36,36)"
            },
            "marker": {
             "line": {
              "color": "white",
              "width": 0.5
             }
            },
            "type": "bar"
           }
          ],
          "barpolar": [
           {
            "marker": {
             "line": {
              "color": "white",
              "width": 0.5
             }
            },
            "type": "barpolar"
           }
          ],
          "carpet": [
           {
            "aaxis": {
             "endlinecolor": "rgb(36,36,36)",
             "gridcolor": "white",
             "linecolor": "white",
             "minorgridcolor": "white",
             "startlinecolor": "rgb(36,36,36)"
            },
            "baxis": {
             "endlinecolor": "rgb(36,36,36)",
             "gridcolor": "white",
             "linecolor": "white",
             "minorgridcolor": "white",
             "startlinecolor": "rgb(36,36,36)"
            },
            "type": "carpet"
           }
          ],
          "choropleth": [
           {
            "colorbar": {
             "outlinewidth": 1,
             "tickcolor": "rgb(36,36,36)",
             "ticks": "outside"
            },
            "type": "choropleth"
           }
          ],
          "contour": [
           {
            "colorbar": {
             "outlinewidth": 1,
             "tickcolor": "rgb(36,36,36)",
             "ticks": "outside"
            },
            "colorscale": [
             [
              0,
              "#440154"
             ],
             [
              0.1111111111111111,
              "#482878"
             ],
             [
              0.2222222222222222,
              "#3e4989"
             ],
             [
              0.3333333333333333,
              "#31688e"
             ],
             [
              0.4444444444444444,
              "#26828e"
             ],
             [
              0.5555555555555556,
              "#1f9e89"
             ],
             [
              0.6666666666666666,
              "#35b779"
             ],
             [
              0.7777777777777778,
              "#6ece58"
             ],
             [
              0.8888888888888888,
              "#b5de2b"
             ],
             [
              1,
              "#fde725"
             ]
            ],
            "type": "contour"
           }
          ],
          "contourcarpet": [
           {
            "colorbar": {
             "outlinewidth": 1,
             "tickcolor": "rgb(36,36,36)",
             "ticks": "outside"
            },
            "type": "contourcarpet"
           }
          ],
          "heatmap": [
           {
            "colorbar": {
             "outlinewidth": 1,
             "tickcolor": "rgb(36,36,36)",
             "ticks": "outside"
            },
            "colorscale": [
             [
              0,
              "#440154"
             ],
             [
              0.1111111111111111,
              "#482878"
             ],
             [
              0.2222222222222222,
              "#3e4989"
             ],
             [
              0.3333333333333333,
              "#31688e"
             ],
             [
              0.4444444444444444,
              "#26828e"
             ],
             [
              0.5555555555555556,
              "#1f9e89"
             ],
             [
              0.6666666666666666,
              "#35b779"
             ],
             [
              0.7777777777777778,
              "#6ece58"
             ],
             [
              0.8888888888888888,
              "#b5de2b"
             ],
             [
              1,
              "#fde725"
             ]
            ],
            "type": "heatmap"
           }
          ],
          "heatmapgl": [
           {
            "colorbar": {
             "outlinewidth": 1,
             "tickcolor": "rgb(36,36,36)",
             "ticks": "outside"
            },
            "colorscale": [
             [
              0,
              "#440154"
             ],
             [
              0.1111111111111111,
              "#482878"
             ],
             [
              0.2222222222222222,
              "#3e4989"
             ],
             [
              0.3333333333333333,
              "#31688e"
             ],
             [
              0.4444444444444444,
              "#26828e"
             ],
             [
              0.5555555555555556,
              "#1f9e89"
             ],
             [
              0.6666666666666666,
              "#35b779"
             ],
             [
              0.7777777777777778,
              "#6ece58"
             ],
             [
              0.8888888888888888,
              "#b5de2b"
             ],
             [
              1,
              "#fde725"
             ]
            ],
            "type": "heatmapgl"
           }
          ],
          "histogram": [
           {
            "marker": {
             "line": {
              "color": "white",
              "width": 0.6
             }
            },
            "type": "histogram"
           }
          ],
          "histogram2d": [
           {
            "colorbar": {
             "outlinewidth": 1,
             "tickcolor": "rgb(36,36,36)",
             "ticks": "outside"
            },
            "colorscale": [
             [
              0,
              "#440154"
             ],
             [
              0.1111111111111111,
              "#482878"
             ],
             [
              0.2222222222222222,
              "#3e4989"
             ],
             [
              0.3333333333333333,
              "#31688e"
             ],
             [
              0.4444444444444444,
              "#26828e"
             ],
             [
              0.5555555555555556,
              "#1f9e89"
             ],
             [
              0.6666666666666666,
              "#35b779"
             ],
             [
              0.7777777777777778,
              "#6ece58"
             ],
             [
              0.8888888888888888,
              "#b5de2b"
             ],
             [
              1,
              "#fde725"
             ]
            ],
            "type": "histogram2d"
           }
          ],
          "histogram2dcontour": [
           {
            "colorbar": {
             "outlinewidth": 1,
             "tickcolor": "rgb(36,36,36)",
             "ticks": "outside"
            },
            "colorscale": [
             [
              0,
              "#440154"
             ],
             [
              0.1111111111111111,
              "#482878"
             ],
             [
              0.2222222222222222,
              "#3e4989"
             ],
             [
              0.3333333333333333,
              "#31688e"
             ],
             [
              0.4444444444444444,
              "#26828e"
             ],
             [
              0.5555555555555556,
              "#1f9e89"
             ],
             [
              0.6666666666666666,
              "#35b779"
             ],
             [
              0.7777777777777778,
              "#6ece58"
             ],
             [
              0.8888888888888888,
              "#b5de2b"
             ],
             [
              1,
              "#fde725"
             ]
            ],
            "type": "histogram2dcontour"
           }
          ],
          "mesh3d": [
           {
            "colorbar": {
             "outlinewidth": 1,
             "tickcolor": "rgb(36,36,36)",
             "ticks": "outside"
            },
            "type": "mesh3d"
           }
          ],
          "parcoords": [
           {
            "line": {
             "colorbar": {
              "outlinewidth": 1,
              "tickcolor": "rgb(36,36,36)",
              "ticks": "outside"
             }
            },
            "type": "parcoords"
           }
          ],
          "pie": [
           {
            "automargin": true,
            "type": "pie"
           }
          ],
          "scatter": [
           {
            "marker": {
             "colorbar": {
              "outlinewidth": 1,
              "tickcolor": "rgb(36,36,36)",
              "ticks": "outside"
             }
            },
            "type": "scatter"
           }
          ],
          "scatter3d": [
           {
            "line": {
             "colorbar": {
              "outlinewidth": 1,
              "tickcolor": "rgb(36,36,36)",
              "ticks": "outside"
             }
            },
            "marker": {
             "colorbar": {
              "outlinewidth": 1,
              "tickcolor": "rgb(36,36,36)",
              "ticks": "outside"
             }
            },
            "type": "scatter3d"
           }
          ],
          "scattercarpet": [
           {
            "marker": {
             "colorbar": {
              "outlinewidth": 1,
              "tickcolor": "rgb(36,36,36)",
              "ticks": "outside"
             }
            },
            "type": "scattercarpet"
           }
          ],
          "scattergeo": [
           {
            "marker": {
             "colorbar": {
              "outlinewidth": 1,
              "tickcolor": "rgb(36,36,36)",
              "ticks": "outside"
             }
            },
            "type": "scattergeo"
           }
          ],
          "scattergl": [
           {
            "marker": {
             "colorbar": {
              "outlinewidth": 1,
              "tickcolor": "rgb(36,36,36)",
              "ticks": "outside"
             }
            },
            "type": "scattergl"
           }
          ],
          "scattermapbox": [
           {
            "marker": {
             "colorbar": {
              "outlinewidth": 1,
              "tickcolor": "rgb(36,36,36)",
              "ticks": "outside"
             }
            },
            "type": "scattermapbox"
           }
          ],
          "scatterpolar": [
           {
            "marker": {
             "colorbar": {
              "outlinewidth": 1,
              "tickcolor": "rgb(36,36,36)",
              "ticks": "outside"
             }
            },
            "type": "scatterpolar"
           }
          ],
          "scatterpolargl": [
           {
            "marker": {
             "colorbar": {
              "outlinewidth": 1,
              "tickcolor": "rgb(36,36,36)",
              "ticks": "outside"
             }
            },
            "type": "scatterpolargl"
           }
          ],
          "scatterternary": [
           {
            "marker": {
             "colorbar": {
              "outlinewidth": 1,
              "tickcolor": "rgb(36,36,36)",
              "ticks": "outside"
             }
            },
            "type": "scatterternary"
           }
          ],
          "surface": [
           {
            "colorbar": {
             "outlinewidth": 1,
             "tickcolor": "rgb(36,36,36)",
             "ticks": "outside"
            },
            "colorscale": [
             [
              0,
              "#440154"
             ],
             [
              0.1111111111111111,
              "#482878"
             ],
             [
              0.2222222222222222,
              "#3e4989"
             ],
             [
              0.3333333333333333,
              "#31688e"
             ],
             [
              0.4444444444444444,
              "#26828e"
             ],
             [
              0.5555555555555556,
              "#1f9e89"
             ],
             [
              0.6666666666666666,
              "#35b779"
             ],
             [
              0.7777777777777778,
              "#6ece58"
             ],
             [
              0.8888888888888888,
              "#b5de2b"
             ],
             [
              1,
              "#fde725"
             ]
            ],
            "type": "surface"
           }
          ],
          "table": [
           {
            "cells": {
             "fill": {
              "color": "rgb(237,237,237)"
             },
             "line": {
              "color": "white"
             }
            },
            "header": {
             "fill": {
              "color": "rgb(217,217,217)"
             },
             "line": {
              "color": "white"
             }
            },
            "type": "table"
           }
          ]
         },
         "layout": {
          "annotationdefaults": {
           "arrowhead": 0,
           "arrowwidth": 1
          },
          "coloraxis": {
           "colorbar": {
            "outlinewidth": 1,
            "tickcolor": "rgb(36,36,36)",
            "ticks": "outside"
           }
          },
          "colorscale": {
           "diverging": [
            [
             0,
             "rgb(103,0,31)"
            ],
            [
             0.1,
             "rgb(178,24,43)"
            ],
            [
             0.2,
             "rgb(214,96,77)"
            ],
            [
             0.3,
             "rgb(244,165,130)"
            ],
            [
             0.4,
             "rgb(253,219,199)"
            ],
            [
             0.5,
             "rgb(247,247,247)"
            ],
            [
             0.6,
             "rgb(209,229,240)"
            ],
            [
             0.7,
             "rgb(146,197,222)"
            ],
            [
             0.8,
             "rgb(67,147,195)"
            ],
            [
             0.9,
             "rgb(33,102,172)"
            ],
            [
             1,
             "rgb(5,48,97)"
            ]
           ],
           "sequential": [
            [
             0,
             "#440154"
            ],
            [
             0.1111111111111111,
             "#482878"
            ],
            [
             0.2222222222222222,
             "#3e4989"
            ],
            [
             0.3333333333333333,
             "#31688e"
            ],
            [
             0.4444444444444444,
             "#26828e"
            ],
            [
             0.5555555555555556,
             "#1f9e89"
            ],
            [
             0.6666666666666666,
             "#35b779"
            ],
            [
             0.7777777777777778,
             "#6ece58"
            ],
            [
             0.8888888888888888,
             "#b5de2b"
            ],
            [
             1,
             "#fde725"
            ]
           ],
           "sequentialminus": [
            [
             0,
             "#440154"
            ],
            [
             0.1111111111111111,
             "#482878"
            ],
            [
             0.2222222222222222,
             "#3e4989"
            ],
            [
             0.3333333333333333,
             "#31688e"
            ],
            [
             0.4444444444444444,
             "#26828e"
            ],
            [
             0.5555555555555556,
             "#1f9e89"
            ],
            [
             0.6666666666666666,
             "#35b779"
            ],
            [
             0.7777777777777778,
             "#6ece58"
            ],
            [
             0.8888888888888888,
             "#b5de2b"
            ],
            [
             1,
             "#fde725"
            ]
           ]
          },
          "colorway": [
           "#1F77B4",
           "#FF7F0E",
           "#2CA02C",
           "#D62728",
           "#9467BD",
           "#8C564B",
           "#E377C2",
           "#7F7F7F",
           "#BCBD22",
           "#17BECF"
          ],
          "font": {
           "color": "rgb(36,36,36)"
          },
          "geo": {
           "bgcolor": "white",
           "lakecolor": "white",
           "landcolor": "white",
           "showlakes": true,
           "showland": true,
           "subunitcolor": "white"
          },
          "hoverlabel": {
           "align": "left"
          },
          "hovermode": "closest",
          "mapbox": {
           "style": "light"
          },
          "paper_bgcolor": "white",
          "plot_bgcolor": "white",
          "polar": {
           "angularaxis": {
            "gridcolor": "rgb(232,232,232)",
            "linecolor": "rgb(36,36,36)",
            "showgrid": false,
            "showline": true,
            "ticks": "outside"
           },
           "bgcolor": "white",
           "radialaxis": {
            "gridcolor": "rgb(232,232,232)",
            "linecolor": "rgb(36,36,36)",
            "showgrid": false,
            "showline": true,
            "ticks": "outside"
           }
          },
          "scene": {
           "xaxis": {
            "backgroundcolor": "white",
            "gridcolor": "rgb(232,232,232)",
            "gridwidth": 2,
            "linecolor": "rgb(36,36,36)",
            "showbackground": true,
            "showgrid": false,
            "showline": true,
            "ticks": "outside",
            "zeroline": false,
            "zerolinecolor": "rgb(36,36,36)"
           },
           "yaxis": {
            "backgroundcolor": "white",
            "gridcolor": "rgb(232,232,232)",
            "gridwidth": 2,
            "linecolor": "rgb(36,36,36)",
            "showbackground": true,
            "showgrid": false,
            "showline": true,
            "ticks": "outside",
            "zeroline": false,
            "zerolinecolor": "rgb(36,36,36)"
           },
           "zaxis": {
            "backgroundcolor": "white",
            "gridcolor": "rgb(232,232,232)",
            "gridwidth": 2,
            "linecolor": "rgb(36,36,36)",
            "showbackground": true,
            "showgrid": false,
            "showline": true,
            "ticks": "outside",
            "zeroline": false,
            "zerolinecolor": "rgb(36,36,36)"
           }
          },
          "shapedefaults": {
           "fillcolor": "black",
           "line": {
            "width": 0
           },
           "opacity": 0.3
          },
          "ternary": {
           "aaxis": {
            "gridcolor": "rgb(232,232,232)",
            "linecolor": "rgb(36,36,36)",
            "showgrid": false,
            "showline": true,
            "ticks": "outside"
           },
           "baxis": {
            "gridcolor": "rgb(232,232,232)",
            "linecolor": "rgb(36,36,36)",
            "showgrid": false,
            "showline": true,
            "ticks": "outside"
           },
           "bgcolor": "white",
           "caxis": {
            "gridcolor": "rgb(232,232,232)",
            "linecolor": "rgb(36,36,36)",
            "showgrid": false,
            "showline": true,
            "ticks": "outside"
           }
          },
          "title": {
           "x": 0.05
          },
          "xaxis": {
           "automargin": true,
           "gridcolor": "rgb(232,232,232)",
           "linecolor": "rgb(36,36,36)",
           "showgrid": false,
           "showline": true,
           "ticks": "outside",
           "title": {
            "standoff": 15
           },
           "zeroline": false,
           "zerolinecolor": "rgb(36,36,36)"
          },
          "yaxis": {
           "automargin": true,
           "gridcolor": "rgb(232,232,232)",
           "linecolor": "rgb(36,36,36)",
           "showgrid": false,
           "showline": true,
           "ticks": "outside",
           "title": {
            "standoff": 15
           },
           "zeroline": false,
           "zerolinecolor": "rgb(36,36,36)"
          }
         }
        },
        "title": {
         "text": "Distribution - Items per order"
        },
        "xaxis": {
         "anchor": "y",
         "domain": [
          0,
          1
         ],
         "title": {
          "text": "Items per order"
         }
        },
        "yaxis": {
         "anchor": "x",
         "domain": [
          0,
          1
         ],
         "title": {
          "text": "Grouping"
         }
        }
       }
      },
      "text/html": [
       "<div>                            <div id=\"ce77758a-6c76-4d73-9b56-43056e92627a\" class=\"plotly-graph-div\" style=\"height:525px; width:100%;\"></div>            <script type=\"text/javascript\">                require([\"plotly\"], function(Plotly) {                    window.PLOTLYENV=window.PLOTLYENV || {};                                    if (document.getElementById(\"ce77758a-6c76-4d73-9b56-43056e92627a\")) {                    Plotly.newPlot(                        \"ce77758a-6c76-4d73-9b56-43056e92627a\",                        [{\"alignmentgroup\": \"True\", \"hovertemplate\": \"Items per order=%{text}<br>Grouping=%{y}<extra></extra>\", \"legendgroup\": \"\", \"marker\": {\"color\": \"#1F77B4\"}, \"name\": \"\", \"offsetgroup\": \"\", \"orientation\": \"h\", \"showlegend\": false, \"text\": [12.0, 44.0, 50.0, 179.0, 455.0, 1038.0, 56.0], \"textposition\": \"auto\", \"type\": \"bar\", \"x\": [12, 44, 50, 179, 455, 1038, 56], \"xaxis\": \"x\", \"y\": [\"g. 10+\", \"f. 6-10\", \"e. 5\", \"d. 4\", \"c. 3\", \"b. 2\", \"a. 1\"], \"yaxis\": \"y\"}],                        {\"barmode\": \"relative\", \"legend\": {\"tracegroupgap\": 0}, \"template\": {\"data\": {\"bar\": [{\"error_x\": {\"color\": \"rgb(36,36,36)\"}, \"error_y\": {\"color\": \"rgb(36,36,36)\"}, \"marker\": {\"line\": {\"color\": \"white\", \"width\": 0.5}}, \"type\": \"bar\"}], \"barpolar\": [{\"marker\": {\"line\": {\"color\": \"white\", \"width\": 0.5}}, \"type\": \"barpolar\"}], \"carpet\": [{\"aaxis\": {\"endlinecolor\": \"rgb(36,36,36)\", \"gridcolor\": \"white\", \"linecolor\": \"white\", \"minorgridcolor\": \"white\", \"startlinecolor\": \"rgb(36,36,36)\"}, \"baxis\": {\"endlinecolor\": \"rgb(36,36,36)\", \"gridcolor\": \"white\", \"linecolor\": \"white\", \"minorgridcolor\": \"white\", \"startlinecolor\": \"rgb(36,36,36)\"}, \"type\": \"carpet\"}], \"choropleth\": [{\"colorbar\": {\"outlinewidth\": 1, \"tickcolor\": \"rgb(36,36,36)\", \"ticks\": \"outside\"}, \"type\": \"choropleth\"}], \"contour\": [{\"colorbar\": {\"outlinewidth\": 1, \"tickcolor\": \"rgb(36,36,36)\", \"ticks\": \"outside\"}, \"colorscale\": [[0.0, \"#440154\"], [0.1111111111111111, \"#482878\"], [0.2222222222222222, \"#3e4989\"], [0.3333333333333333, \"#31688e\"], [0.4444444444444444, \"#26828e\"], [0.5555555555555556, \"#1f9e89\"], [0.6666666666666666, \"#35b779\"], [0.7777777777777778, \"#6ece58\"], [0.8888888888888888, \"#b5de2b\"], [1.0, \"#fde725\"]], \"type\": \"contour\"}], \"contourcarpet\": [{\"colorbar\": {\"outlinewidth\": 1, \"tickcolor\": \"rgb(36,36,36)\", \"ticks\": \"outside\"}, \"type\": \"contourcarpet\"}], \"heatmap\": [{\"colorbar\": {\"outlinewidth\": 1, \"tickcolor\": \"rgb(36,36,36)\", \"ticks\": \"outside\"}, \"colorscale\": [[0.0, \"#440154\"], [0.1111111111111111, \"#482878\"], [0.2222222222222222, \"#3e4989\"], [0.3333333333333333, \"#31688e\"], [0.4444444444444444, \"#26828e\"], [0.5555555555555556, \"#1f9e89\"], [0.6666666666666666, \"#35b779\"], [0.7777777777777778, \"#6ece58\"], [0.8888888888888888, \"#b5de2b\"], [1.0, \"#fde725\"]], \"type\": \"heatmap\"}], \"heatmapgl\": [{\"colorbar\": {\"outlinewidth\": 1, \"tickcolor\": \"rgb(36,36,36)\", \"ticks\": \"outside\"}, \"colorscale\": [[0.0, \"#440154\"], [0.1111111111111111, \"#482878\"], [0.2222222222222222, \"#3e4989\"], [0.3333333333333333, \"#31688e\"], [0.4444444444444444, \"#26828e\"], [0.5555555555555556, \"#1f9e89\"], [0.6666666666666666, \"#35b779\"], [0.7777777777777778, \"#6ece58\"], [0.8888888888888888, \"#b5de2b\"], [1.0, \"#fde725\"]], \"type\": \"heatmapgl\"}], \"histogram\": [{\"marker\": {\"line\": {\"color\": \"white\", \"width\": 0.6}}, \"type\": \"histogram\"}], \"histogram2d\": [{\"colorbar\": {\"outlinewidth\": 1, \"tickcolor\": \"rgb(36,36,36)\", \"ticks\": \"outside\"}, \"colorscale\": [[0.0, \"#440154\"], [0.1111111111111111, \"#482878\"], [0.2222222222222222, \"#3e4989\"], [0.3333333333333333, \"#31688e\"], [0.4444444444444444, \"#26828e\"], [0.5555555555555556, \"#1f9e89\"], [0.6666666666666666, \"#35b779\"], [0.7777777777777778, \"#6ece58\"], [0.8888888888888888, \"#b5de2b\"], [1.0, \"#fde725\"]], \"type\": \"histogram2d\"}], \"histogram2dcontour\": [{\"colorbar\": {\"outlinewidth\": 1, \"tickcolor\": \"rgb(36,36,36)\", \"ticks\": \"outside\"}, \"colorscale\": [[0.0, \"#440154\"], [0.1111111111111111, \"#482878\"], [0.2222222222222222, \"#3e4989\"], [0.3333333333333333, \"#31688e\"], [0.4444444444444444, \"#26828e\"], [0.5555555555555556, \"#1f9e89\"], [0.6666666666666666, \"#35b779\"], [0.7777777777777778, \"#6ece58\"], [0.8888888888888888, \"#b5de2b\"], [1.0, \"#fde725\"]], \"type\": \"histogram2dcontour\"}], \"mesh3d\": [{\"colorbar\": {\"outlinewidth\": 1, \"tickcolor\": \"rgb(36,36,36)\", \"ticks\": \"outside\"}, \"type\": \"mesh3d\"}], \"parcoords\": [{\"line\": {\"colorbar\": {\"outlinewidth\": 1, \"tickcolor\": \"rgb(36,36,36)\", \"ticks\": \"outside\"}}, \"type\": \"parcoords\"}], \"pie\": [{\"automargin\": true, \"type\": \"pie\"}], \"scatter\": [{\"marker\": {\"colorbar\": {\"outlinewidth\": 1, \"tickcolor\": \"rgb(36,36,36)\", \"ticks\": \"outside\"}}, \"type\": \"scatter\"}], \"scatter3d\": [{\"line\": {\"colorbar\": {\"outlinewidth\": 1, \"tickcolor\": \"rgb(36,36,36)\", \"ticks\": \"outside\"}}, \"marker\": {\"colorbar\": {\"outlinewidth\": 1, \"tickcolor\": \"rgb(36,36,36)\", \"ticks\": \"outside\"}}, \"type\": \"scatter3d\"}], \"scattercarpet\": [{\"marker\": {\"colorbar\": {\"outlinewidth\": 1, \"tickcolor\": \"rgb(36,36,36)\", \"ticks\": \"outside\"}}, \"type\": \"scattercarpet\"}], \"scattergeo\": [{\"marker\": {\"colorbar\": {\"outlinewidth\": 1, \"tickcolor\": \"rgb(36,36,36)\", \"ticks\": \"outside\"}}, \"type\": \"scattergeo\"}], \"scattergl\": [{\"marker\": {\"colorbar\": {\"outlinewidth\": 1, \"tickcolor\": \"rgb(36,36,36)\", \"ticks\": \"outside\"}}, \"type\": \"scattergl\"}], \"scattermapbox\": [{\"marker\": {\"colorbar\": {\"outlinewidth\": 1, \"tickcolor\": \"rgb(36,36,36)\", \"ticks\": \"outside\"}}, \"type\": \"scattermapbox\"}], \"scatterpolar\": [{\"marker\": {\"colorbar\": {\"outlinewidth\": 1, \"tickcolor\": \"rgb(36,36,36)\", \"ticks\": \"outside\"}}, \"type\": \"scatterpolar\"}], \"scatterpolargl\": [{\"marker\": {\"colorbar\": {\"outlinewidth\": 1, \"tickcolor\": \"rgb(36,36,36)\", \"ticks\": \"outside\"}}, \"type\": \"scatterpolargl\"}], \"scatterternary\": [{\"marker\": {\"colorbar\": {\"outlinewidth\": 1, \"tickcolor\": \"rgb(36,36,36)\", \"ticks\": \"outside\"}}, \"type\": \"scatterternary\"}], \"surface\": [{\"colorbar\": {\"outlinewidth\": 1, \"tickcolor\": \"rgb(36,36,36)\", \"ticks\": \"outside\"}, \"colorscale\": [[0.0, \"#440154\"], [0.1111111111111111, \"#482878\"], [0.2222222222222222, \"#3e4989\"], [0.3333333333333333, \"#31688e\"], [0.4444444444444444, \"#26828e\"], [0.5555555555555556, \"#1f9e89\"], [0.6666666666666666, \"#35b779\"], [0.7777777777777778, \"#6ece58\"], [0.8888888888888888, \"#b5de2b\"], [1.0, \"#fde725\"]], \"type\": \"surface\"}], \"table\": [{\"cells\": {\"fill\": {\"color\": \"rgb(237,237,237)\"}, \"line\": {\"color\": \"white\"}}, \"header\": {\"fill\": {\"color\": \"rgb(217,217,217)\"}, \"line\": {\"color\": \"white\"}}, \"type\": \"table\"}]}, \"layout\": {\"annotationdefaults\": {\"arrowhead\": 0, \"arrowwidth\": 1}, \"coloraxis\": {\"colorbar\": {\"outlinewidth\": 1, \"tickcolor\": \"rgb(36,36,36)\", \"ticks\": \"outside\"}}, \"colorscale\": {\"diverging\": [[0.0, \"rgb(103,0,31)\"], [0.1, \"rgb(178,24,43)\"], [0.2, \"rgb(214,96,77)\"], [0.3, \"rgb(244,165,130)\"], [0.4, \"rgb(253,219,199)\"], [0.5, \"rgb(247,247,247)\"], [0.6, \"rgb(209,229,240)\"], [0.7, \"rgb(146,197,222)\"], [0.8, \"rgb(67,147,195)\"], [0.9, \"rgb(33,102,172)\"], [1.0, \"rgb(5,48,97)\"]], \"sequential\": [[0.0, \"#440154\"], [0.1111111111111111, \"#482878\"], [0.2222222222222222, \"#3e4989\"], [0.3333333333333333, \"#31688e\"], [0.4444444444444444, \"#26828e\"], [0.5555555555555556, \"#1f9e89\"], [0.6666666666666666, \"#35b779\"], [0.7777777777777778, \"#6ece58\"], [0.8888888888888888, \"#b5de2b\"], [1.0, \"#fde725\"]], \"sequentialminus\": [[0.0, \"#440154\"], [0.1111111111111111, \"#482878\"], [0.2222222222222222, \"#3e4989\"], [0.3333333333333333, \"#31688e\"], [0.4444444444444444, \"#26828e\"], [0.5555555555555556, \"#1f9e89\"], [0.6666666666666666, \"#35b779\"], [0.7777777777777778, \"#6ece58\"], [0.8888888888888888, \"#b5de2b\"], [1.0, \"#fde725\"]]}, \"colorway\": [\"#1F77B4\", \"#FF7F0E\", \"#2CA02C\", \"#D62728\", \"#9467BD\", \"#8C564B\", \"#E377C2\", \"#7F7F7F\", \"#BCBD22\", \"#17BECF\"], \"font\": {\"color\": \"rgb(36,36,36)\"}, \"geo\": {\"bgcolor\": \"white\", \"lakecolor\": \"white\", \"landcolor\": \"white\", \"showlakes\": true, \"showland\": true, \"subunitcolor\": \"white\"}, \"hoverlabel\": {\"align\": \"left\"}, \"hovermode\": \"closest\", \"mapbox\": {\"style\": \"light\"}, \"paper_bgcolor\": \"white\", \"plot_bgcolor\": \"white\", \"polar\": {\"angularaxis\": {\"gridcolor\": \"rgb(232,232,232)\", \"linecolor\": \"rgb(36,36,36)\", \"showgrid\": false, \"showline\": true, \"ticks\": \"outside\"}, \"bgcolor\": \"white\", \"radialaxis\": {\"gridcolor\": \"rgb(232,232,232)\", \"linecolor\": \"rgb(36,36,36)\", \"showgrid\": false, \"showline\": true, \"ticks\": \"outside\"}}, \"scene\": {\"xaxis\": {\"backgroundcolor\": \"white\", \"gridcolor\": \"rgb(232,232,232)\", \"gridwidth\": 2, \"linecolor\": \"rgb(36,36,36)\", \"showbackground\": true, \"showgrid\": false, \"showline\": true, \"ticks\": \"outside\", \"zeroline\": false, \"zerolinecolor\": \"rgb(36,36,36)\"}, \"yaxis\": {\"backgroundcolor\": \"white\", \"gridcolor\": \"rgb(232,232,232)\", \"gridwidth\": 2, \"linecolor\": \"rgb(36,36,36)\", \"showbackground\": true, \"showgrid\": false, \"showline\": true, \"ticks\": \"outside\", \"zeroline\": false, \"zerolinecolor\": \"rgb(36,36,36)\"}, \"zaxis\": {\"backgroundcolor\": \"white\", \"gridcolor\": \"rgb(232,232,232)\", \"gridwidth\": 2, \"linecolor\": \"rgb(36,36,36)\", \"showbackground\": true, \"showgrid\": false, \"showline\": true, \"ticks\": \"outside\", \"zeroline\": false, \"zerolinecolor\": \"rgb(36,36,36)\"}}, \"shapedefaults\": {\"fillcolor\": \"black\", \"line\": {\"width\": 0}, \"opacity\": 0.3}, \"ternary\": {\"aaxis\": {\"gridcolor\": \"rgb(232,232,232)\", \"linecolor\": \"rgb(36,36,36)\", \"showgrid\": false, \"showline\": true, \"ticks\": \"outside\"}, \"baxis\": {\"gridcolor\": \"rgb(232,232,232)\", \"linecolor\": \"rgb(36,36,36)\", \"showgrid\": false, \"showline\": true, \"ticks\": \"outside\"}, \"bgcolor\": \"white\", \"caxis\": {\"gridcolor\": \"rgb(232,232,232)\", \"linecolor\": \"rgb(36,36,36)\", \"showgrid\": false, \"showline\": true, \"ticks\": \"outside\"}}, \"title\": {\"x\": 0.05}, \"xaxis\": {\"automargin\": true, \"gridcolor\": \"rgb(232,232,232)\", \"linecolor\": \"rgb(36,36,36)\", \"showgrid\": false, \"showline\": true, \"ticks\": \"outside\", \"title\": {\"standoff\": 15}, \"zeroline\": false, \"zerolinecolor\": \"rgb(36,36,36)\"}, \"yaxis\": {\"automargin\": true, \"gridcolor\": \"rgb(232,232,232)\", \"linecolor\": \"rgb(36,36,36)\", \"showgrid\": false, \"showline\": true, \"ticks\": \"outside\", \"title\": {\"standoff\": 15}, \"zeroline\": false, \"zerolinecolor\": \"rgb(36,36,36)\"}}}, \"title\": {\"text\": \"Distribution - Items per order\"}, \"xaxis\": {\"anchor\": \"y\", \"domain\": [0.0, 1.0], \"title\": {\"text\": \"Items per order\"}}, \"yaxis\": {\"anchor\": \"x\", \"domain\": [0.0, 1.0], \"title\": {\"text\": \"Grouping\"}}},                        {\"responsive\": true}                    ).then(function(){\n",
       "                            \n",
       "var gd = document.getElementById('ce77758a-6c76-4d73-9b56-43056e92627a');\n",
       "var x = new MutationObserver(function (mutations, observer) {{\n",
       "        var display = window.getComputedStyle(gd).display;\n",
       "        if (!display || display === 'none') {{\n",
       "            console.log([gd, 'removed!']);\n",
       "            Plotly.purge(gd);\n",
       "            observer.disconnect();\n",
       "        }}\n",
       "}});\n",
       "\n",
       "// Listen for the removal of the full notebook cells\n",
       "var notebookContainer = gd.closest('#notebook-container');\n",
       "if (notebookContainer) {{\n",
       "    x.observe(notebookContainer, {childList: true});\n",
       "}}\n",
       "\n",
       "// Listen for the clearing of the current output cell\n",
       "var outputEl = gd.closest('.output');\n",
       "if (outputEl) {{\n",
       "    x.observe(outputEl, {childList: true});\n",
       "}}\n",
       "\n",
       "                        })                };                });            </script>        </div>"
      ]
     },
     "metadata": {},
     "output_type": "display_data"
    }
   ],
   "source": [
    "data = (df_orders['items_per_order_cat'].value_counts().reset_index()).sort_values('index',ascending=False)\n",
    "data.rename(columns={'index':'cat'},inplace=True)\n",
    "\n",
    "fig = px.bar(data, \n",
    "             x='items_per_order_cat',y='cat',\n",
    "             title='Distribution - Items per order',\n",
    "             text='items_per_order_cat',\n",
    "             labels={'cat':\"Grouping\",'items_per_order_cat':\"Items per order\"},\n",
    "             template='simple_white',\n",
    "             orientation='h'\n",
    "            )\n",
    "fig.show()"
   ]
  },
  {
   "cell_type": "code",
   "execution_count": 347,
   "metadata": {},
   "outputs": [
    {
     "data": {
      "application/vnd.plotly.v1+json": {
       "config": {
        "plotlyServerURL": "https://plot.ly"
       },
       "data": [
        {
         "alignmentgroup": "True",
         "hovertemplate": "Grouping=%{x}<br>Items per order=%{y}<br>items_per_order_cat_formatted=%{text}<extra></extra>",
         "legendgroup": "",
         "marker": {
          "color": "#1F77B4"
         },
         "name": "",
         "offsetgroup": "",
         "orientation": "v",
         "showlegend": false,
         "text": [
          "56",
          "1,038",
          "455",
          "179",
          "50",
          "44",
          "12"
         ],
         "textposition": "auto",
         "type": "bar",
         "x": [
          "a. 1",
          "b. 2",
          "c. 3",
          "d. 4",
          "e. 5",
          "f. 6-10",
          "g. 10+"
         ],
         "xaxis": "x",
         "y": [
          56,
          1038,
          455,
          179,
          50,
          44,
          12
         ],
         "yaxis": "y"
        }
       ],
       "layout": {
        "barmode": "relative",
        "legend": {
         "tracegroupgap": 0
        },
        "template": {
         "data": {
          "bar": [
           {
            "error_x": {
             "color": "rgb(36,36,36)"
            },
            "error_y": {
             "color": "rgb(36,36,36)"
            },
            "marker": {
             "line": {
              "color": "white",
              "width": 0.5
             }
            },
            "type": "bar"
           }
          ],
          "barpolar": [
           {
            "marker": {
             "line": {
              "color": "white",
              "width": 0.5
             }
            },
            "type": "barpolar"
           }
          ],
          "carpet": [
           {
            "aaxis": {
             "endlinecolor": "rgb(36,36,36)",
             "gridcolor": "white",
             "linecolor": "white",
             "minorgridcolor": "white",
             "startlinecolor": "rgb(36,36,36)"
            },
            "baxis": {
             "endlinecolor": "rgb(36,36,36)",
             "gridcolor": "white",
             "linecolor": "white",
             "minorgridcolor": "white",
             "startlinecolor": "rgb(36,36,36)"
            },
            "type": "carpet"
           }
          ],
          "choropleth": [
           {
            "colorbar": {
             "outlinewidth": 1,
             "tickcolor": "rgb(36,36,36)",
             "ticks": "outside"
            },
            "type": "choropleth"
           }
          ],
          "contour": [
           {
            "colorbar": {
             "outlinewidth": 1,
             "tickcolor": "rgb(36,36,36)",
             "ticks": "outside"
            },
            "colorscale": [
             [
              0,
              "#440154"
             ],
             [
              0.1111111111111111,
              "#482878"
             ],
             [
              0.2222222222222222,
              "#3e4989"
             ],
             [
              0.3333333333333333,
              "#31688e"
             ],
             [
              0.4444444444444444,
              "#26828e"
             ],
             [
              0.5555555555555556,
              "#1f9e89"
             ],
             [
              0.6666666666666666,
              "#35b779"
             ],
             [
              0.7777777777777778,
              "#6ece58"
             ],
             [
              0.8888888888888888,
              "#b5de2b"
             ],
             [
              1,
              "#fde725"
             ]
            ],
            "type": "contour"
           }
          ],
          "contourcarpet": [
           {
            "colorbar": {
             "outlinewidth": 1,
             "tickcolor": "rgb(36,36,36)",
             "ticks": "outside"
            },
            "type": "contourcarpet"
           }
          ],
          "heatmap": [
           {
            "colorbar": {
             "outlinewidth": 1,
             "tickcolor": "rgb(36,36,36)",
             "ticks": "outside"
            },
            "colorscale": [
             [
              0,
              "#440154"
             ],
             [
              0.1111111111111111,
              "#482878"
             ],
             [
              0.2222222222222222,
              "#3e4989"
             ],
             [
              0.3333333333333333,
              "#31688e"
             ],
             [
              0.4444444444444444,
              "#26828e"
             ],
             [
              0.5555555555555556,
              "#1f9e89"
             ],
             [
              0.6666666666666666,
              "#35b779"
             ],
             [
              0.7777777777777778,
              "#6ece58"
             ],
             [
              0.8888888888888888,
              "#b5de2b"
             ],
             [
              1,
              "#fde725"
             ]
            ],
            "type": "heatmap"
           }
          ],
          "heatmapgl": [
           {
            "colorbar": {
             "outlinewidth": 1,
             "tickcolor": "rgb(36,36,36)",
             "ticks": "outside"
            },
            "colorscale": [
             [
              0,
              "#440154"
             ],
             [
              0.1111111111111111,
              "#482878"
             ],
             [
              0.2222222222222222,
              "#3e4989"
             ],
             [
              0.3333333333333333,
              "#31688e"
             ],
             [
              0.4444444444444444,
              "#26828e"
             ],
             [
              0.5555555555555556,
              "#1f9e89"
             ],
             [
              0.6666666666666666,
              "#35b779"
             ],
             [
              0.7777777777777778,
              "#6ece58"
             ],
             [
              0.8888888888888888,
              "#b5de2b"
             ],
             [
              1,
              "#fde725"
             ]
            ],
            "type": "heatmapgl"
           }
          ],
          "histogram": [
           {
            "marker": {
             "line": {
              "color": "white",
              "width": 0.6
             }
            },
            "type": "histogram"
           }
          ],
          "histogram2d": [
           {
            "colorbar": {
             "outlinewidth": 1,
             "tickcolor": "rgb(36,36,36)",
             "ticks": "outside"
            },
            "colorscale": [
             [
              0,
              "#440154"
             ],
             [
              0.1111111111111111,
              "#482878"
             ],
             [
              0.2222222222222222,
              "#3e4989"
             ],
             [
              0.3333333333333333,
              "#31688e"
             ],
             [
              0.4444444444444444,
              "#26828e"
             ],
             [
              0.5555555555555556,
              "#1f9e89"
             ],
             [
              0.6666666666666666,
              "#35b779"
             ],
             [
              0.7777777777777778,
              "#6ece58"
             ],
             [
              0.8888888888888888,
              "#b5de2b"
             ],
             [
              1,
              "#fde725"
             ]
            ],
            "type": "histogram2d"
           }
          ],
          "histogram2dcontour": [
           {
            "colorbar": {
             "outlinewidth": 1,
             "tickcolor": "rgb(36,36,36)",
             "ticks": "outside"
            },
            "colorscale": [
             [
              0,
              "#440154"
             ],
             [
              0.1111111111111111,
              "#482878"
             ],
             [
              0.2222222222222222,
              "#3e4989"
             ],
             [
              0.3333333333333333,
              "#31688e"
             ],
             [
              0.4444444444444444,
              "#26828e"
             ],
             [
              0.5555555555555556,
              "#1f9e89"
             ],
             [
              0.6666666666666666,
              "#35b779"
             ],
             [
              0.7777777777777778,
              "#6ece58"
             ],
             [
              0.8888888888888888,
              "#b5de2b"
             ],
             [
              1,
              "#fde725"
             ]
            ],
            "type": "histogram2dcontour"
           }
          ],
          "mesh3d": [
           {
            "colorbar": {
             "outlinewidth": 1,
             "tickcolor": "rgb(36,36,36)",
             "ticks": "outside"
            },
            "type": "mesh3d"
           }
          ],
          "parcoords": [
           {
            "line": {
             "colorbar": {
              "outlinewidth": 1,
              "tickcolor": "rgb(36,36,36)",
              "ticks": "outside"
             }
            },
            "type": "parcoords"
           }
          ],
          "pie": [
           {
            "automargin": true,
            "type": "pie"
           }
          ],
          "scatter": [
           {
            "marker": {
             "colorbar": {
              "outlinewidth": 1,
              "tickcolor": "rgb(36,36,36)",
              "ticks": "outside"
             }
            },
            "type": "scatter"
           }
          ],
          "scatter3d": [
           {
            "line": {
             "colorbar": {
              "outlinewidth": 1,
              "tickcolor": "rgb(36,36,36)",
              "ticks": "outside"
             }
            },
            "marker": {
             "colorbar": {
              "outlinewidth": 1,
              "tickcolor": "rgb(36,36,36)",
              "ticks": "outside"
             }
            },
            "type": "scatter3d"
           }
          ],
          "scattercarpet": [
           {
            "marker": {
             "colorbar": {
              "outlinewidth": 1,
              "tickcolor": "rgb(36,36,36)",
              "ticks": "outside"
             }
            },
            "type": "scattercarpet"
           }
          ],
          "scattergeo": [
           {
            "marker": {
             "colorbar": {
              "outlinewidth": 1,
              "tickcolor": "rgb(36,36,36)",
              "ticks": "outside"
             }
            },
            "type": "scattergeo"
           }
          ],
          "scattergl": [
           {
            "marker": {
             "colorbar": {
              "outlinewidth": 1,
              "tickcolor": "rgb(36,36,36)",
              "ticks": "outside"
             }
            },
            "type": "scattergl"
           }
          ],
          "scattermapbox": [
           {
            "marker": {
             "colorbar": {
              "outlinewidth": 1,
              "tickcolor": "rgb(36,36,36)",
              "ticks": "outside"
             }
            },
            "type": "scattermapbox"
           }
          ],
          "scatterpolar": [
           {
            "marker": {
             "colorbar": {
              "outlinewidth": 1,
              "tickcolor": "rgb(36,36,36)",
              "ticks": "outside"
             }
            },
            "type": "scatterpolar"
           }
          ],
          "scatterpolargl": [
           {
            "marker": {
             "colorbar": {
              "outlinewidth": 1,
              "tickcolor": "rgb(36,36,36)",
              "ticks": "outside"
             }
            },
            "type": "scatterpolargl"
           }
          ],
          "scatterternary": [
           {
            "marker": {
             "colorbar": {
              "outlinewidth": 1,
              "tickcolor": "rgb(36,36,36)",
              "ticks": "outside"
             }
            },
            "type": "scatterternary"
           }
          ],
          "surface": [
           {
            "colorbar": {
             "outlinewidth": 1,
             "tickcolor": "rgb(36,36,36)",
             "ticks": "outside"
            },
            "colorscale": [
             [
              0,
              "#440154"
             ],
             [
              0.1111111111111111,
              "#482878"
             ],
             [
              0.2222222222222222,
              "#3e4989"
             ],
             [
              0.3333333333333333,
              "#31688e"
             ],
             [
              0.4444444444444444,
              "#26828e"
             ],
             [
              0.5555555555555556,
              "#1f9e89"
             ],
             [
              0.6666666666666666,
              "#35b779"
             ],
             [
              0.7777777777777778,
              "#6ece58"
             ],
             [
              0.8888888888888888,
              "#b5de2b"
             ],
             [
              1,
              "#fde725"
             ]
            ],
            "type": "surface"
           }
          ],
          "table": [
           {
            "cells": {
             "fill": {
              "color": "rgb(237,237,237)"
             },
             "line": {
              "color": "white"
             }
            },
            "header": {
             "fill": {
              "color": "rgb(217,217,217)"
             },
             "line": {
              "color": "white"
             }
            },
            "type": "table"
           }
          ]
         },
         "layout": {
          "annotationdefaults": {
           "arrowhead": 0,
           "arrowwidth": 1
          },
          "coloraxis": {
           "colorbar": {
            "outlinewidth": 1,
            "tickcolor": "rgb(36,36,36)",
            "ticks": "outside"
           }
          },
          "colorscale": {
           "diverging": [
            [
             0,
             "rgb(103,0,31)"
            ],
            [
             0.1,
             "rgb(178,24,43)"
            ],
            [
             0.2,
             "rgb(214,96,77)"
            ],
            [
             0.3,
             "rgb(244,165,130)"
            ],
            [
             0.4,
             "rgb(253,219,199)"
            ],
            [
             0.5,
             "rgb(247,247,247)"
            ],
            [
             0.6,
             "rgb(209,229,240)"
            ],
            [
             0.7,
             "rgb(146,197,222)"
            ],
            [
             0.8,
             "rgb(67,147,195)"
            ],
            [
             0.9,
             "rgb(33,102,172)"
            ],
            [
             1,
             "rgb(5,48,97)"
            ]
           ],
           "sequential": [
            [
             0,
             "#440154"
            ],
            [
             0.1111111111111111,
             "#482878"
            ],
            [
             0.2222222222222222,
             "#3e4989"
            ],
            [
             0.3333333333333333,
             "#31688e"
            ],
            [
             0.4444444444444444,
             "#26828e"
            ],
            [
             0.5555555555555556,
             "#1f9e89"
            ],
            [
             0.6666666666666666,
             "#35b779"
            ],
            [
             0.7777777777777778,
             "#6ece58"
            ],
            [
             0.8888888888888888,
             "#b5de2b"
            ],
            [
             1,
             "#fde725"
            ]
           ],
           "sequentialminus": [
            [
             0,
             "#440154"
            ],
            [
             0.1111111111111111,
             "#482878"
            ],
            [
             0.2222222222222222,
             "#3e4989"
            ],
            [
             0.3333333333333333,
             "#31688e"
            ],
            [
             0.4444444444444444,
             "#26828e"
            ],
            [
             0.5555555555555556,
             "#1f9e89"
            ],
            [
             0.6666666666666666,
             "#35b779"
            ],
            [
             0.7777777777777778,
             "#6ece58"
            ],
            [
             0.8888888888888888,
             "#b5de2b"
            ],
            [
             1,
             "#fde725"
            ]
           ]
          },
          "colorway": [
           "#1F77B4",
           "#FF7F0E",
           "#2CA02C",
           "#D62728",
           "#9467BD",
           "#8C564B",
           "#E377C2",
           "#7F7F7F",
           "#BCBD22",
           "#17BECF"
          ],
          "font": {
           "color": "rgb(36,36,36)"
          },
          "geo": {
           "bgcolor": "white",
           "lakecolor": "white",
           "landcolor": "white",
           "showlakes": true,
           "showland": true,
           "subunitcolor": "white"
          },
          "hoverlabel": {
           "align": "left"
          },
          "hovermode": "closest",
          "mapbox": {
           "style": "light"
          },
          "paper_bgcolor": "white",
          "plot_bgcolor": "white",
          "polar": {
           "angularaxis": {
            "gridcolor": "rgb(232,232,232)",
            "linecolor": "rgb(36,36,36)",
            "showgrid": false,
            "showline": true,
            "ticks": "outside"
           },
           "bgcolor": "white",
           "radialaxis": {
            "gridcolor": "rgb(232,232,232)",
            "linecolor": "rgb(36,36,36)",
            "showgrid": false,
            "showline": true,
            "ticks": "outside"
           }
          },
          "scene": {
           "xaxis": {
            "backgroundcolor": "white",
            "gridcolor": "rgb(232,232,232)",
            "gridwidth": 2,
            "linecolor": "rgb(36,36,36)",
            "showbackground": true,
            "showgrid": false,
            "showline": true,
            "ticks": "outside",
            "zeroline": false,
            "zerolinecolor": "rgb(36,36,36)"
           },
           "yaxis": {
            "backgroundcolor": "white",
            "gridcolor": "rgb(232,232,232)",
            "gridwidth": 2,
            "linecolor": "rgb(36,36,36)",
            "showbackground": true,
            "showgrid": false,
            "showline": true,
            "ticks": "outside",
            "zeroline": false,
            "zerolinecolor": "rgb(36,36,36)"
           },
           "zaxis": {
            "backgroundcolor": "white",
            "gridcolor": "rgb(232,232,232)",
            "gridwidth": 2,
            "linecolor": "rgb(36,36,36)",
            "showbackground": true,
            "showgrid": false,
            "showline": true,
            "ticks": "outside",
            "zeroline": false,
            "zerolinecolor": "rgb(36,36,36)"
           }
          },
          "shapedefaults": {
           "fillcolor": "black",
           "line": {
            "width": 0
           },
           "opacity": 0.3
          },
          "ternary": {
           "aaxis": {
            "gridcolor": "rgb(232,232,232)",
            "linecolor": "rgb(36,36,36)",
            "showgrid": false,
            "showline": true,
            "ticks": "outside"
           },
           "baxis": {
            "gridcolor": "rgb(232,232,232)",
            "linecolor": "rgb(36,36,36)",
            "showgrid": false,
            "showline": true,
            "ticks": "outside"
           },
           "bgcolor": "white",
           "caxis": {
            "gridcolor": "rgb(232,232,232)",
            "linecolor": "rgb(36,36,36)",
            "showgrid": false,
            "showline": true,
            "ticks": "outside"
           }
          },
          "title": {
           "x": 0.05
          },
          "xaxis": {
           "automargin": true,
           "gridcolor": "rgb(232,232,232)",
           "linecolor": "rgb(36,36,36)",
           "showgrid": false,
           "showline": true,
           "ticks": "outside",
           "title": {
            "standoff": 15
           },
           "zeroline": false,
           "zerolinecolor": "rgb(36,36,36)"
          },
          "yaxis": {
           "automargin": true,
           "gridcolor": "rgb(232,232,232)",
           "linecolor": "rgb(36,36,36)",
           "showgrid": false,
           "showline": true,
           "ticks": "outside",
           "title": {
            "standoff": 15
           },
           "zeroline": false,
           "zerolinecolor": "rgb(36,36,36)"
          }
         }
        },
        "title": {
         "text": "Distribution - Items per order"
        },
        "xaxis": {
         "anchor": "y",
         "domain": [
          0,
          1
         ],
         "title": {
          "text": "Grouping"
         }
        },
        "yaxis": {
         "anchor": "x",
         "domain": [
          0,
          1
         ],
         "title": {
          "text": "Items per order"
         }
        }
       }
      },
      "text/html": [
       "<div>                            <div id=\"21f3efa4-e23e-4c75-8f45-967bef8263e5\" class=\"plotly-graph-div\" style=\"height:525px; width:100%;\"></div>            <script type=\"text/javascript\">                require([\"plotly\"], function(Plotly) {                    window.PLOTLYENV=window.PLOTLYENV || {};                                    if (document.getElementById(\"21f3efa4-e23e-4c75-8f45-967bef8263e5\")) {                    Plotly.newPlot(                        \"21f3efa4-e23e-4c75-8f45-967bef8263e5\",                        [{\"alignmentgroup\": \"True\", \"hovertemplate\": \"Grouping=%{x}<br>Items per order=%{y}<br>items_per_order_cat_formatted=%{text}<extra></extra>\", \"legendgroup\": \"\", \"marker\": {\"color\": \"#1F77B4\"}, \"name\": \"\", \"offsetgroup\": \"\", \"orientation\": \"v\", \"showlegend\": false, \"text\": [\"56\", \"1,038\", \"455\", \"179\", \"50\", \"44\", \"12\"], \"textposition\": \"auto\", \"type\": \"bar\", \"x\": [\"a. 1\", \"b. 2\", \"c. 3\", \"d. 4\", \"e. 5\", \"f. 6-10\", \"g. 10+\"], \"xaxis\": \"x\", \"y\": [56, 1038, 455, 179, 50, 44, 12], \"yaxis\": \"y\"}],                        {\"barmode\": \"relative\", \"legend\": {\"tracegroupgap\": 0}, \"template\": {\"data\": {\"bar\": [{\"error_x\": {\"color\": \"rgb(36,36,36)\"}, \"error_y\": {\"color\": \"rgb(36,36,36)\"}, \"marker\": {\"line\": {\"color\": \"white\", \"width\": 0.5}}, \"type\": \"bar\"}], \"barpolar\": [{\"marker\": {\"line\": {\"color\": \"white\", \"width\": 0.5}}, \"type\": \"barpolar\"}], \"carpet\": [{\"aaxis\": {\"endlinecolor\": \"rgb(36,36,36)\", \"gridcolor\": \"white\", \"linecolor\": \"white\", \"minorgridcolor\": \"white\", \"startlinecolor\": \"rgb(36,36,36)\"}, \"baxis\": {\"endlinecolor\": \"rgb(36,36,36)\", \"gridcolor\": \"white\", \"linecolor\": \"white\", \"minorgridcolor\": \"white\", \"startlinecolor\": \"rgb(36,36,36)\"}, \"type\": \"carpet\"}], \"choropleth\": [{\"colorbar\": {\"outlinewidth\": 1, \"tickcolor\": \"rgb(36,36,36)\", \"ticks\": \"outside\"}, \"type\": \"choropleth\"}], \"contour\": [{\"colorbar\": {\"outlinewidth\": 1, \"tickcolor\": \"rgb(36,36,36)\", \"ticks\": \"outside\"}, \"colorscale\": [[0.0, \"#440154\"], [0.1111111111111111, \"#482878\"], [0.2222222222222222, \"#3e4989\"], [0.3333333333333333, \"#31688e\"], [0.4444444444444444, \"#26828e\"], [0.5555555555555556, \"#1f9e89\"], [0.6666666666666666, \"#35b779\"], [0.7777777777777778, \"#6ece58\"], [0.8888888888888888, \"#b5de2b\"], [1.0, \"#fde725\"]], \"type\": \"contour\"}], \"contourcarpet\": [{\"colorbar\": {\"outlinewidth\": 1, \"tickcolor\": \"rgb(36,36,36)\", \"ticks\": \"outside\"}, \"type\": \"contourcarpet\"}], \"heatmap\": [{\"colorbar\": {\"outlinewidth\": 1, \"tickcolor\": \"rgb(36,36,36)\", \"ticks\": \"outside\"}, \"colorscale\": [[0.0, \"#440154\"], [0.1111111111111111, \"#482878\"], [0.2222222222222222, \"#3e4989\"], [0.3333333333333333, \"#31688e\"], [0.4444444444444444, \"#26828e\"], [0.5555555555555556, \"#1f9e89\"], [0.6666666666666666, \"#35b779\"], [0.7777777777777778, \"#6ece58\"], [0.8888888888888888, \"#b5de2b\"], [1.0, \"#fde725\"]], \"type\": \"heatmap\"}], \"heatmapgl\": [{\"colorbar\": {\"outlinewidth\": 1, \"tickcolor\": \"rgb(36,36,36)\", \"ticks\": \"outside\"}, \"colorscale\": [[0.0, \"#440154\"], [0.1111111111111111, \"#482878\"], [0.2222222222222222, \"#3e4989\"], [0.3333333333333333, \"#31688e\"], [0.4444444444444444, \"#26828e\"], [0.5555555555555556, \"#1f9e89\"], [0.6666666666666666, \"#35b779\"], [0.7777777777777778, \"#6ece58\"], [0.8888888888888888, \"#b5de2b\"], [1.0, \"#fde725\"]], \"type\": \"heatmapgl\"}], \"histogram\": [{\"marker\": {\"line\": {\"color\": \"white\", \"width\": 0.6}}, \"type\": \"histogram\"}], \"histogram2d\": [{\"colorbar\": {\"outlinewidth\": 1, \"tickcolor\": \"rgb(36,36,36)\", \"ticks\": \"outside\"}, \"colorscale\": [[0.0, \"#440154\"], [0.1111111111111111, \"#482878\"], [0.2222222222222222, \"#3e4989\"], [0.3333333333333333, \"#31688e\"], [0.4444444444444444, \"#26828e\"], [0.5555555555555556, \"#1f9e89\"], [0.6666666666666666, \"#35b779\"], [0.7777777777777778, \"#6ece58\"], [0.8888888888888888, \"#b5de2b\"], [1.0, \"#fde725\"]], \"type\": \"histogram2d\"}], \"histogram2dcontour\": [{\"colorbar\": {\"outlinewidth\": 1, \"tickcolor\": \"rgb(36,36,36)\", \"ticks\": \"outside\"}, \"colorscale\": [[0.0, \"#440154\"], [0.1111111111111111, \"#482878\"], [0.2222222222222222, \"#3e4989\"], [0.3333333333333333, \"#31688e\"], [0.4444444444444444, \"#26828e\"], [0.5555555555555556, \"#1f9e89\"], [0.6666666666666666, \"#35b779\"], [0.7777777777777778, \"#6ece58\"], [0.8888888888888888, \"#b5de2b\"], [1.0, \"#fde725\"]], \"type\": \"histogram2dcontour\"}], \"mesh3d\": [{\"colorbar\": {\"outlinewidth\": 1, \"tickcolor\": \"rgb(36,36,36)\", \"ticks\": \"outside\"}, \"type\": \"mesh3d\"}], \"parcoords\": [{\"line\": {\"colorbar\": {\"outlinewidth\": 1, \"tickcolor\": \"rgb(36,36,36)\", \"ticks\": \"outside\"}}, \"type\": \"parcoords\"}], \"pie\": [{\"automargin\": true, \"type\": \"pie\"}], \"scatter\": [{\"marker\": {\"colorbar\": {\"outlinewidth\": 1, \"tickcolor\": \"rgb(36,36,36)\", \"ticks\": \"outside\"}}, \"type\": \"scatter\"}], \"scatter3d\": [{\"line\": {\"colorbar\": {\"outlinewidth\": 1, \"tickcolor\": \"rgb(36,36,36)\", \"ticks\": \"outside\"}}, \"marker\": {\"colorbar\": {\"outlinewidth\": 1, \"tickcolor\": \"rgb(36,36,36)\", \"ticks\": \"outside\"}}, \"type\": \"scatter3d\"}], \"scattercarpet\": [{\"marker\": {\"colorbar\": {\"outlinewidth\": 1, \"tickcolor\": \"rgb(36,36,36)\", \"ticks\": \"outside\"}}, \"type\": \"scattercarpet\"}], \"scattergeo\": [{\"marker\": {\"colorbar\": {\"outlinewidth\": 1, \"tickcolor\": \"rgb(36,36,36)\", \"ticks\": \"outside\"}}, \"type\": \"scattergeo\"}], \"scattergl\": [{\"marker\": {\"colorbar\": {\"outlinewidth\": 1, \"tickcolor\": \"rgb(36,36,36)\", \"ticks\": \"outside\"}}, \"type\": \"scattergl\"}], \"scattermapbox\": [{\"marker\": {\"colorbar\": {\"outlinewidth\": 1, \"tickcolor\": \"rgb(36,36,36)\", \"ticks\": \"outside\"}}, \"type\": \"scattermapbox\"}], \"scatterpolar\": [{\"marker\": {\"colorbar\": {\"outlinewidth\": 1, \"tickcolor\": \"rgb(36,36,36)\", \"ticks\": \"outside\"}}, \"type\": \"scatterpolar\"}], \"scatterpolargl\": [{\"marker\": {\"colorbar\": {\"outlinewidth\": 1, \"tickcolor\": \"rgb(36,36,36)\", \"ticks\": \"outside\"}}, \"type\": \"scatterpolargl\"}], \"scatterternary\": [{\"marker\": {\"colorbar\": {\"outlinewidth\": 1, \"tickcolor\": \"rgb(36,36,36)\", \"ticks\": \"outside\"}}, \"type\": \"scatterternary\"}], \"surface\": [{\"colorbar\": {\"outlinewidth\": 1, \"tickcolor\": \"rgb(36,36,36)\", \"ticks\": \"outside\"}, \"colorscale\": [[0.0, \"#440154\"], [0.1111111111111111, \"#482878\"], [0.2222222222222222, \"#3e4989\"], [0.3333333333333333, \"#31688e\"], [0.4444444444444444, \"#26828e\"], [0.5555555555555556, \"#1f9e89\"], [0.6666666666666666, \"#35b779\"], [0.7777777777777778, \"#6ece58\"], [0.8888888888888888, \"#b5de2b\"], [1.0, \"#fde725\"]], \"type\": \"surface\"}], \"table\": [{\"cells\": {\"fill\": {\"color\": \"rgb(237,237,237)\"}, \"line\": {\"color\": \"white\"}}, \"header\": {\"fill\": {\"color\": \"rgb(217,217,217)\"}, \"line\": {\"color\": \"white\"}}, \"type\": \"table\"}]}, \"layout\": {\"annotationdefaults\": {\"arrowhead\": 0, \"arrowwidth\": 1}, \"coloraxis\": {\"colorbar\": {\"outlinewidth\": 1, \"tickcolor\": \"rgb(36,36,36)\", \"ticks\": \"outside\"}}, \"colorscale\": {\"diverging\": [[0.0, \"rgb(103,0,31)\"], [0.1, \"rgb(178,24,43)\"], [0.2, \"rgb(214,96,77)\"], [0.3, \"rgb(244,165,130)\"], [0.4, \"rgb(253,219,199)\"], [0.5, \"rgb(247,247,247)\"], [0.6, \"rgb(209,229,240)\"], [0.7, \"rgb(146,197,222)\"], [0.8, \"rgb(67,147,195)\"], [0.9, \"rgb(33,102,172)\"], [1.0, \"rgb(5,48,97)\"]], \"sequential\": [[0.0, \"#440154\"], [0.1111111111111111, \"#482878\"], [0.2222222222222222, \"#3e4989\"], [0.3333333333333333, \"#31688e\"], [0.4444444444444444, \"#26828e\"], [0.5555555555555556, \"#1f9e89\"], [0.6666666666666666, \"#35b779\"], [0.7777777777777778, \"#6ece58\"], [0.8888888888888888, \"#b5de2b\"], [1.0, \"#fde725\"]], \"sequentialminus\": [[0.0, \"#440154\"], [0.1111111111111111, \"#482878\"], [0.2222222222222222, \"#3e4989\"], [0.3333333333333333, \"#31688e\"], [0.4444444444444444, \"#26828e\"], [0.5555555555555556, \"#1f9e89\"], [0.6666666666666666, \"#35b779\"], [0.7777777777777778, \"#6ece58\"], [0.8888888888888888, \"#b5de2b\"], [1.0, \"#fde725\"]]}, \"colorway\": [\"#1F77B4\", \"#FF7F0E\", \"#2CA02C\", \"#D62728\", \"#9467BD\", \"#8C564B\", \"#E377C2\", \"#7F7F7F\", \"#BCBD22\", \"#17BECF\"], \"font\": {\"color\": \"rgb(36,36,36)\"}, \"geo\": {\"bgcolor\": \"white\", \"lakecolor\": \"white\", \"landcolor\": \"white\", \"showlakes\": true, \"showland\": true, \"subunitcolor\": \"white\"}, \"hoverlabel\": {\"align\": \"left\"}, \"hovermode\": \"closest\", \"mapbox\": {\"style\": \"light\"}, \"paper_bgcolor\": \"white\", \"plot_bgcolor\": \"white\", \"polar\": {\"angularaxis\": {\"gridcolor\": \"rgb(232,232,232)\", \"linecolor\": \"rgb(36,36,36)\", \"showgrid\": false, \"showline\": true, \"ticks\": \"outside\"}, \"bgcolor\": \"white\", \"radialaxis\": {\"gridcolor\": \"rgb(232,232,232)\", \"linecolor\": \"rgb(36,36,36)\", \"showgrid\": false, \"showline\": true, \"ticks\": \"outside\"}}, \"scene\": {\"xaxis\": {\"backgroundcolor\": \"white\", \"gridcolor\": \"rgb(232,232,232)\", \"gridwidth\": 2, \"linecolor\": \"rgb(36,36,36)\", \"showbackground\": true, \"showgrid\": false, \"showline\": true, \"ticks\": \"outside\", \"zeroline\": false, \"zerolinecolor\": \"rgb(36,36,36)\"}, \"yaxis\": {\"backgroundcolor\": \"white\", \"gridcolor\": \"rgb(232,232,232)\", \"gridwidth\": 2, \"linecolor\": \"rgb(36,36,36)\", \"showbackground\": true, \"showgrid\": false, \"showline\": true, \"ticks\": \"outside\", \"zeroline\": false, \"zerolinecolor\": \"rgb(36,36,36)\"}, \"zaxis\": {\"backgroundcolor\": \"white\", \"gridcolor\": \"rgb(232,232,232)\", \"gridwidth\": 2, \"linecolor\": \"rgb(36,36,36)\", \"showbackground\": true, \"showgrid\": false, \"showline\": true, \"ticks\": \"outside\", \"zeroline\": false, \"zerolinecolor\": \"rgb(36,36,36)\"}}, \"shapedefaults\": {\"fillcolor\": \"black\", \"line\": {\"width\": 0}, \"opacity\": 0.3}, \"ternary\": {\"aaxis\": {\"gridcolor\": \"rgb(232,232,232)\", \"linecolor\": \"rgb(36,36,36)\", \"showgrid\": false, \"showline\": true, \"ticks\": \"outside\"}, \"baxis\": {\"gridcolor\": \"rgb(232,232,232)\", \"linecolor\": \"rgb(36,36,36)\", \"showgrid\": false, \"showline\": true, \"ticks\": \"outside\"}, \"bgcolor\": \"white\", \"caxis\": {\"gridcolor\": \"rgb(232,232,232)\", \"linecolor\": \"rgb(36,36,36)\", \"showgrid\": false, \"showline\": true, \"ticks\": \"outside\"}}, \"title\": {\"x\": 0.05}, \"xaxis\": {\"automargin\": true, \"gridcolor\": \"rgb(232,232,232)\", \"linecolor\": \"rgb(36,36,36)\", \"showgrid\": false, \"showline\": true, \"ticks\": \"outside\", \"title\": {\"standoff\": 15}, \"zeroline\": false, \"zerolinecolor\": \"rgb(36,36,36)\"}, \"yaxis\": {\"automargin\": true, \"gridcolor\": \"rgb(232,232,232)\", \"linecolor\": \"rgb(36,36,36)\", \"showgrid\": false, \"showline\": true, \"ticks\": \"outside\", \"title\": {\"standoff\": 15}, \"zeroline\": false, \"zerolinecolor\": \"rgb(36,36,36)\"}}}, \"title\": {\"text\": \"Distribution - Items per order\"}, \"xaxis\": {\"anchor\": \"y\", \"domain\": [0.0, 1.0], \"title\": {\"text\": \"Grouping\"}}, \"yaxis\": {\"anchor\": \"x\", \"domain\": [0.0, 1.0], \"title\": {\"text\": \"Items per order\"}}},                        {\"responsive\": true}                    ).then(function(){\n",
       "                            \n",
       "var gd = document.getElementById('21f3efa4-e23e-4c75-8f45-967bef8263e5');\n",
       "var x = new MutationObserver(function (mutations, observer) {{\n",
       "        var display = window.getComputedStyle(gd).display;\n",
       "        if (!display || display === 'none') {{\n",
       "            console.log([gd, 'removed!']);\n",
       "            Plotly.purge(gd);\n",
       "            observer.disconnect();\n",
       "        }}\n",
       "}});\n",
       "\n",
       "// Listen for the removal of the full notebook cells\n",
       "var notebookContainer = gd.closest('#notebook-container');\n",
       "if (notebookContainer) {{\n",
       "    x.observe(notebookContainer, {childList: true});\n",
       "}}\n",
       "\n",
       "// Listen for the clearing of the current output cell\n",
       "var outputEl = gd.closest('.output');\n",
       "if (outputEl) {{\n",
       "    x.observe(outputEl, {childList: true});\n",
       "}}\n",
       "\n",
       "                        })                };                });            </script>        </div>"
      ]
     },
     "metadata": {},
     "output_type": "display_data"
    }
   ],
   "source": [
    "# Same as above - with horizontal layout\n",
    "\n",
    "data = (df_orders['items_per_order_cat'].value_counts().reset_index()).sort_values('index')\n",
    "data.rename(columns={'index':'cat'},inplace=True)\n",
    "data['items_per_order_cat_formatted'] = data['items_per_order_cat'].apply(lambda x: '{:,}'.format(x))\n",
    "\n",
    "fig = px.bar(data, \n",
    "             x='cat',y='items_per_order_cat',\n",
    "             title='Distribution - Items per order',\n",
    "             text='items_per_order_cat_formatted',\n",
    "             labels={'cat':\"Grouping\",'items_per_order_cat':\"Items per order\"},\n",
    "             template='simple_white',\n",
    "             orientation='v'\n",
    "            )\n",
    "fig.show()"
   ]
  },
  {
   "cell_type": "code",
   "execution_count": null,
   "metadata": {},
   "outputs": [],
   "source": []
  },
  {
   "cell_type": "code",
   "execution_count": null,
   "metadata": {},
   "outputs": [],
   "source": []
  }
 ],
 "metadata": {
  "anaconda-cloud": {},
  "kernelspec": {
   "display_name": "Python 3",
   "language": "python",
   "name": "python3"
  },
  "language_info": {
   "codemirror_mode": {
    "name": "ipython",
    "version": 3
   },
   "file_extension": ".py",
   "mimetype": "text/x-python",
   "name": "python",
   "nbconvert_exporter": "python",
   "pygments_lexer": "ipython3",
   "version": "3.8.3"
  }
 },
 "nbformat": 4,
 "nbformat_minor": 2
}
