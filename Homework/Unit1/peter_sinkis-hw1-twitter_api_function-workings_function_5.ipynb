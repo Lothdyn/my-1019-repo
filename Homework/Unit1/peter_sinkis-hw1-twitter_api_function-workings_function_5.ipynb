{
 "cells": [
  {
   "cell_type": "code",
   "execution_count": null,
   "metadata": {},
   "outputs": [],
   "source": [
    "# Set up key libraries / tokens"
   ]
  },
  {
   "cell_type": "code",
   "execution_count": 9,
   "metadata": {},
   "outputs": [],
   "source": [
    "import requests \n",
    "from requests_oauthlib import OAuth1\n",
    "import os\n",
    "import pandas as pd"
   ]
  },
  {
   "cell_type": "code",
   "execution_count": 10,
   "metadata": {},
   "outputs": [],
   "source": [
    "API_PUBLIC = os.environ.get(\"TW_API_KEY\")\n",
    "API_SECRET = os.environ.get(\"TW_API_SECRET_KEY\")\n",
    "APP_PUBLIC = os.environ.get(\"TW_PRS_GA_HW_ACCESS_TOKEN\")\n",
    "APP_SECRET = os.environ.get(\"TW_PRS_GA_HW_ACCESS_TOKEN_SECRET\")"
   ]
  },
  {
   "cell_type": "code",
   "execution_count": 11,
   "metadata": {},
   "outputs": [],
   "source": [
    "url = 'https://api.twitter.com/1.1/account/verify_credentials.json'\n",
    "auth = OAuth1(\n",
    "            API_PUBLIC, #'USER_OAUTH_TOKEN', \n",
    "            API_SECRET, #'USER_OAUTH_TOKEN_SECRET'\n",
    "            APP_PUBLIC, #'YOUR_APP_KEY', \n",
    "            APP_SECRET #'YOUR_APP_SECRET',\n",
    "            )"
   ]
  },
  {
   "cell_type": "code",
   "execution_count": 12,
   "metadata": {},
   "outputs": [],
   "source": [
    "# Check authorisation is working properly"
   ]
  },
  {
   "cell_type": "code",
   "execution_count": 13,
   "metadata": {},
   "outputs": [],
   "source": [
    "check_auth = requests.get(url, auth=auth)"
   ]
  },
  {
   "cell_type": "code",
   "execution_count": 14,
   "metadata": {},
   "outputs": [
    {
     "data": {
      "text/plain": [
       "'OK'"
      ]
     },
     "execution_count": 14,
     "metadata": {},
     "output_type": "execute_result"
    }
   ],
   "source": [
    "check_auth.reason"
   ]
  },
  {
   "cell_type": "code",
   "execution_count": 15,
   "metadata": {},
   "outputs": [
    {
     "data": {
      "text/plain": [
       "200"
      ]
     },
     "execution_count": 15,
     "metadata": {},
     "output_type": "execute_result"
    }
   ],
   "source": [
    "check_auth.status_code"
   ]
  },
  {
   "cell_type": "markdown",
   "metadata": {},
   "source": [
    "# Function 5"
   ]
  },
  {
   "cell_type": "markdown",
   "metadata": {},
   "source": [
    "Rewrite the `friends_of_friends` function, except this time include an argument called `full_search`, which accepts a boolean value.  If set to `True`, use cursoring to cycle through the complete set of users for the users provided.  \n",
    "\n",
    "The twitter API only returns a subset of users in your results to save bandwidth, so you have to cycle through multiple result sets to get all of the values.\n",
    "\n",
    "You can read more about how this works here:  https://developer.twitter.com/en/docs/basics/cursoring\n",
    "\n",
    "Basically you have to do a `while` loop to continually make a new request using the values stored in the `next_cursor` key as part of your next query string until there's nothing left to search.\n",
    "\n",
    "**Note:** We're using the free API, so we're operating under some limitations.  One of them being that you can only make 15 API calls in a 15 minute span to this portion of the API.  You can also only return up to 200 results per cursor, so this means you won't be able to completely search for everyone even if you set this up correctly.\n",
    "\n",
    "That's fine, just do what you can under the circumstances.\n",
    "\n",
    "**To Test:** To test your function, we'll run the following function calls:\n",
    "\n",
    " - `friends_of_friends(['ezraklein', 'tylercowen'])` -- should return 4 results if you do an API call that returns 200 results\n",
    " - `friends_of_friends(['ezraklein', 'tylercowen'], full_search=True)` -- should return 54 results if you do an API call that returns 200 results\n",
    " \n",
    "**Hint:** Chances are you will exhaust your API limits quite easily in this function depending on who you search for.  Depending on how you have things set up, this could cause error messages to arise when things are otherwise fine.  Remember in class 3 when we were getting those weird dictionaries back because our limits were used up?  We won't hold you accountable for handling this inside your function, although it could make some things easier for your own testing.\n",
    "       \n",
    "Good luck!"
   ]
  },
  {
   "cell_type": "code",
   "execution_count": 36,
   "metadata": {},
   "outputs": [],
   "source": [
    "def friend_of_friends_fs(\n",
    "    names,\n",
    "    keys = [], \n",
    "    to_df = False,\n",
    "    full_search=True,\n",
    "    auth=auth\n",
    "    ):\n",
    "    \n",
    "    if len(names) != 2:\n",
    "        print(\"You can only enter two names as a list.\")\n",
    "    \n",
    "    # Checks on screen_name input\n",
    "    if names[0][0] == '@':\n",
    "        names[0] = names[0][1:]    \n",
    "\n",
    "    if names[1][0] == '@':\n",
    "        names[1] = names[1][1:]       \n",
    "\n",
    "        \n",
    "    # Get overall list for first name\n",
    "    # Go and get results, adding users to an overall list\n",
    "    friends_list_0 = []\n",
    "    cursor = -1\n",
    "    while cursor != 0:\n",
    "        find_friends_0_url = (\n",
    "                        'https://api.twitter.com/1.1/friends/list.json'\n",
    "                         + \"?screen_name=\" + names[0]\n",
    "                         + \"&cursor=\" + str(cursor)\n",
    "                         + \"&count=200\" \n",
    "                        )\n",
    "        friends_0_output = requests.get(find_friends_0_url, auth=auth)\n",
    "        if friends_0_output.status_code == 429:\n",
    "            print(\"Reached max API requests.\\n\"\n",
    "                  + \"Setting cursor to 0 to exit loop.\\n\"\n",
    "                  + \"friends_0s found so far will be output.\"\n",
    "                 )\n",
    "            cursor = 0\n",
    "        ##############\n",
    "        # Modification for function 5\n",
    "        elif full_search == False:\n",
    "            cursor = 0 # If have full search turned off set cursor to 0 to exit loop after 1 pass\n",
    "        ###############\n",
    "        else:\n",
    "            friends_0_output_dict = friends_0_output.json()\n",
    "            cursor = friends_0_output_dict['next_cursor']\n",
    "            [friends_list_0.append(user) for user in friends_0_output_dict['users']]\n",
    "\n",
    "            \n",
    "    # Get overall list for second name\n",
    "    friends_list_1 = []\n",
    "    cursor = -1\n",
    "    while cursor != 0:\n",
    "        find_friends_1_url = (\n",
    "                        'https://api.twitter.com/1.1/friends/list.json'\n",
    "                         + \"?screen_name=\" + names[1]\n",
    "                         + \"&cursor=\" + str(cursor)\n",
    "                         + \"&count=200\" \n",
    "                        )\n",
    "        friends_1_output = requests.get(find_friends_1_url, auth=auth)\n",
    "        if friends_1_output.status_code == 429:\n",
    "            print(\"Reached max API requests.\\n\"\n",
    "                  + \"Setting cursor to 0 to exit loop.\\n\"\n",
    "                  + \"friends_1s found so far will be output.\"\n",
    "                 )\n",
    "            cursor = 0\n",
    "        ##############\n",
    "        # Modification for function 5\n",
    "        elif full_search == False:\n",
    "            cursor = 0 # If have full search turned off set cursor to 0 to exit loop after 1 pass\n",
    "        ###############\n",
    "        else:\n",
    "            friends_1_output_dict = friends_1_output.json()\n",
    "            cursor = friends_1_output_dict['next_cursor']\n",
    "            [friends_list_1.append(user) for user in friends_1_output_dict['users']]\n",
    "    \n",
    "    # Get list of ids for both sets of friends\n",
    "    name_0_friends_ids = [i['id'] for i in friends_list_0]\n",
    "    name_1_friends_ids = [i['id'] for i in friends_list_1]\n",
    "\n",
    "    # Find common ids\n",
    "    common_friends_list = []\n",
    "    if len(name_0_friends_ids) < len(name_1_friends_ids):\n",
    "        common_friend_ids = [i for i in name_0_friends_ids if i in name_1_friends_ids]\n",
    "        common_friends_list = [i for i in friends_list_0 if i['id'] in common_friend_ids]\n",
    "        \n",
    "    else:\n",
    "        common_friend_ids = [i for i in name_1_friends_ids if i in name_0_friends_ids]\n",
    "        common_friends_list = [i for i in friends_list_1 if i['id'] in common_friend_ids]\n",
    "        \n",
    "    # Limit the friends_list_0 to the specific keys required\n",
    "    common_friends_list_keys = []\n",
    "    \n",
    "    if not keys:\n",
    "        common_friends_list_keys = common_friends_list\n",
    "    else:\n",
    "        for user in common_friends_list:\n",
    "            temp_dict = {}\n",
    "            for k in keys:\n",
    "                temp_dict.update({k:user[k]})\n",
    "            common_friends_list_keys.append(temp_dict)    \n",
    "    \n",
    "    # Put results into a pandas dataframe\n",
    "    \n",
    "    \n",
    "    # Allow for pandas data frame\n",
    "    if to_df == False:\n",
    "        return_object = common_friends_list_keys\n",
    "    elif to_df == True:\n",
    "        # Loop through each potential column, and add to dictionary\n",
    "        prep_df_dict = {}\n",
    "        \n",
    "        # Check if keys have been designated, if not add them back\n",
    "        if not keys:\n",
    "            keys_found = []\n",
    "            for u in common_friends_list_keys:\n",
    "                for k in u.keys():\n",
    "                    keys_found.append(k)\n",
    "            keys = list(set(keys_found)) # dedupe the keys\n",
    "            keys.sort()\n",
    "            \n",
    "        # Set up the columns\n",
    "        for k in keys:\n",
    "            temp_list = [i.get(k,'No value returned.') for i in common_friends_list_keys]\n",
    "            prep_df_dict.update({k:temp_list})\n",
    "        \n",
    "        #Add data to the data frame\n",
    "        user_df = pd.DataFrame(data=prep_df_dict)\n",
    "        \n",
    "        return_object = user_df\n",
    "    else:\n",
    "        return_object = 'to_df argument only accpets True or False'\n",
    "                \n",
    "    return return_object"
   ]
  },
  {
   "cell_type": "code",
   "execution_count": 37,
   "metadata": {},
   "outputs": [
    {
     "name": "stdout",
     "output_type": "stream",
     "text": [
      "Reached max API requests.\n",
      "Setting cursor to 0 to exit loop.\n",
      "friends_0s found so far will be output.\n",
      "Reached max API requests.\n",
      "Setting cursor to 0 to exit loop.\n",
      "friends_1s found so far will be output.\n"
     ]
    }
   ],
   "source": [
    "test_a = friend_of_friends_fs(['ezraklein', 'tylercowen'], to_df = False,full_search=False)"
   ]
  },
  {
   "cell_type": "code",
   "execution_count": 39,
   "metadata": {},
   "outputs": [
    {
     "data": {
      "text/plain": [
       "[]"
      ]
     },
     "execution_count": 39,
     "metadata": {},
     "output_type": "execute_result"
    }
   ],
   "source": [
    "test_a"
   ]
  },
  {
   "cell_type": "code",
   "execution_count": null,
   "metadata": {},
   "outputs": [],
   "source": []
  }
 ],
 "metadata": {
  "kernelspec": {
   "display_name": "Python 3",
   "language": "python",
   "name": "python3"
  },
  "language_info": {
   "codemirror_mode": {
    "name": "ipython",
    "version": 3
   },
   "file_extension": ".py",
   "mimetype": "text/x-python",
   "name": "python",
   "nbconvert_exporter": "python",
   "pygments_lexer": "ipython3",
   "version": "3.8.3"
  }
 },
 "nbformat": 4,
 "nbformat_minor": 4
}
