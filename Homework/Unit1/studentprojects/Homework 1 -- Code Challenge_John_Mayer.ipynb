{
 "cells": [
  {
   "cell_type": "markdown",
   "metadata": {},
   "source": [
    "<img src=\"http://imgur.com/1ZcRyrc.png\" style=\"float: left; margin: 20px; height: 55px\">\n",
    "\n",
    "# Project 1: Python Coding Exercises\n",
    "\n",
    "_Authors: Joseph Nelson (DC) _\n",
    "\n",
    "---"
   ]
  },
  {
   "cell_type": "markdown",
   "metadata": {},
   "source": [
    "The following code challenges are drawn from common exercises used in technical interviews.\n",
    "\n",
    "Please note that there may be several ways to approach each challenge. If you get stuck, try mapping out your approach in pseudocode first. Finally, while solutions to problems like these may be found online, remember that if you copy/paste code that you can't explain, you'll be missing out on the point of the project. The only way to truly learn a new skill is through practice, trial, and error - we can only help you improve by understanding where you are having trouble.\n",
    "\n",
    "**Note:** To receive the highest credit, make sure your answers are wrapped up in functions that we can call!"
   ]
  },
  {
   "cell_type": "markdown",
   "metadata": {},
   "source": [
    "### Challenge 1: Largest Palindrome\n",
    "A palindromic number reads the same both ways. For example, 1234321 is a palindrome. The largest palindrome made from the product of two two-digit numbers is 9009 = 91 × 99. Find the largest palindrome made from the product of two three-digit numbers. Afterward, write a brief explanation walking through your code's logic in markdown."
   ]
  },
  {
   "cell_type": "code",
   "execution_count": 1,
   "metadata": {},
   "outputs": [
    {
     "name": "stdout",
     "output_type": "stream",
     "text": [
      "906609\n"
     ]
    }
   ],
   "source": [
    "#Import the required packages\n",
    "import numpy\n",
    "from itertools import combinations\n",
    "\n",
    "#Create list5 for all numbers from 100 to 999\n",
    "#Then create listcomb of all 2 number combinations\n",
    "#Finally initialize final as an empty list\n",
    "list5 = [num for num in range(100, 1000)]\n",
    "listcomb = combinations(list5, 2)\n",
    "listcomb = list(listcomb)\n",
    "final = []\n",
    "\n",
    "#Append the product of each item in listcomb\n",
    "#to final\n",
    "#Then sort final\n",
    "#Finally initialize finalfinal as an empty list\n",
    "for item in listcomb:\n",
    "    final.append(numpy.prod(item))\n",
    "final.sort()\n",
    "finalfinal = []\n",
    "\n",
    "#Change each item in final to a string\n",
    "#Then check if the string is the same\n",
    "#forwards and backwards and append\n",
    "#each item to finalfinal\n",
    "#Then print the max value \n",
    "for item in final:\n",
    "    item = str(item)\n",
    "    if item == item[::-1]:\n",
    "        item = int(item)\n",
    "        finalfinal.append(item)\n",
    "print(max(finalfinal))"
   ]
  },
  {
   "cell_type": "markdown",
   "metadata": {},
   "source": [
    "### Challenge 2: Summation of Primes\n",
    "The sum of the primes below 10 is 2 + 3 + 5 + 7 = 17. Find the sum of all the primes below 2,000. Afterward, write a brief explanation walking through your code's logic in markdown."
   ]
  },
  {
   "cell_type": "code",
   "execution_count": 15,
   "metadata": {},
   "outputs": [],
   "source": [
    "#Define a function primes2000()\n",
    "#Create a list of all numbers from\n",
    "#2 to 2000\n",
    "#Create a variable primetotal and\n",
    "#initialize to 0\n",
    "#For each number in the list,\n",
    "#divide the number by each integer\n",
    "#from 2 to the number\n",
    "#If the remainder of any of the \n",
    "#iteration equals zero, then break\n",
    "#the loop\n",
    "#If there is a remainder, then add\n",
    "#the number to primetotal, then\n",
    "#return primetotal\n",
    "\n",
    "def primes2000():\n",
    "    numbers = [num for num in range(2,2001)]\n",
    "    primetotal = 0\n",
    "    for num in numbers:\n",
    "        for i in range(2, num):\n",
    "            if (num % i) == 0:\n",
    "                break\n",
    "        else:\n",
    "            primetotal += num\n",
    "    return(primetotal)"
   ]
  },
  {
   "cell_type": "code",
   "execution_count": 16,
   "metadata": {},
   "outputs": [
    {
     "data": {
      "text/plain": [
       "277050"
      ]
     },
     "execution_count": 16,
     "metadata": {},
     "output_type": "execute_result"
    }
   ],
   "source": [
    "primes2000()"
   ]
  },
  {
   "cell_type": "markdown",
   "metadata": {},
   "source": [
    "### Challenge 3: Multiples of 3 and 5\n",
    "If we list all of the natural numbers below 10 that are multiples of 3 or 5, we get 3, 5, 6, and 9. The sum of these multiples is 23. Find the sum of all the multiples of 3 and 5 below 1,000. Afterward, write a brief explanation walking through your code's logic in markdown."
   ]
  },
  {
   "cell_type": "code",
   "execution_count": 180,
   "metadata": {},
   "outputs": [],
   "source": [
    "#Define a function named Multiple\n",
    "#Create two empty lists, mult3 and mult5\n",
    "#Create a variable total and initialize to zero\n",
    "#Create a for loop that runs for each number \n",
    "#in the range of 0 to 999\n",
    "#For each number in the created range, if the\n",
    "#remainder of the number divided by 3 or by 5\n",
    "#equals zero, then append the number to their\n",
    "#respective lists\n",
    "#Then make each list a set\n",
    "#Then subtract the sets from each other\n",
    "#and store the result in combinedset\n",
    "#For each number in combinedset, add each number\n",
    "#to the previous number and store in total\n",
    "\n",
    "def Multiple():\n",
    "    mult3 = []\n",
    "    mult5 = []\n",
    "    total = 0\n",
    "    for num in range(0,1000):\n",
    "        if num%3 == 0:\n",
    "            mult3.append(num)\n",
    "        if num%5 == 0:\n",
    "            mult5.append(num)\n",
    "    mult3set = set(mult3)\n",
    "    mult5set = set(mult5)\n",
    "    combinedset = mult5set - mult3set\n",
    "    for num in combinedset:\n",
    "        total += num\n",
    "    print(total)"
   ]
  },
  {
   "cell_type": "code",
   "execution_count": 181,
   "metadata": {},
   "outputs": [
    {
     "name": "stdout",
     "output_type": "stream",
     "text": [
      "66335\n"
     ]
    }
   ],
   "source": [
    "Multiple()"
   ]
  },
  {
   "cell_type": "markdown",
   "metadata": {},
   "source": [
    "### Challenge 4: String Compressor\n",
    "Implement a method to perform basic string compression using the counts of repeated characters. (This is called run-length encoding.) For example, the string \"aabcccccaaa\" would become a2b1c5a3. If the “compressed” string would not become smaller than the original string, your method should return the original string. You can assume the string has only uppercase and lowercase letters (a–z). Specify whether your solution is case sensitive or case insensitive and what you would need to change to make it the other. Afterward, write a brief explanation walking through your code's logic in markdown."
   ]
  },
  {
   "cell_type": "code",
   "execution_count": 1,
   "metadata": {},
   "outputs": [],
   "source": [
    "#Import the required packages\n",
    "#Define a function named compressor()\n",
    "#that takes a string value\n",
    "#Pass the string to Counter\n",
    "#and store the result to stringCount\n",
    "#Convert stringCount to dict()\n",
    "#and store in stringdict\n",
    "#Initialize an empty string called encode\n",
    "#For each key and value pair in stringdict\n",
    "#add each key and string conversion of value\n",
    "#to the encode variable\n",
    "#Check the length of the encoded string\n",
    "#and return the encoded string if the\n",
    "#encoded string is less than the original\n",
    "\n",
    "from collections import Counter\n",
    "def compressor(string):\n",
    "    stringCount = Counter(string)\n",
    "    stringdict = dict(stringCount)\n",
    "    encode = ''\n",
    "    for k, v in stringdict.items():\n",
    "        encode += k + str(v)\n",
    "    if len(encode)<len(string):\n",
    "        return(encode)\n",
    "    else:\n",
    "        return(string)"
   ]
  },
  {
   "cell_type": "code",
   "execution_count": 3,
   "metadata": {},
   "outputs": [
    {
     "data": {
      "text/plain": [
       "'abcdef'"
      ]
     },
     "execution_count": 3,
     "metadata": {},
     "output_type": "execute_result"
    }
   ],
   "source": [
    "compressor('abcdef')"
   ]
  },
  {
   "cell_type": "markdown",
   "metadata": {},
   "source": [
    "### *BONUS* Challenge: FizzBuzz\n",
    "Write a program that prints all of the numbers from 1 to 100. For multiples of 3, instead of the number, print \"Fizz;\" for multiples of 5, print \"Buzz.\" For numbers that are multiples of both 3 and 5, print \"FizzBuzz.\" Afterward, write a brief explanation walking through your code's logic in markdown."
   ]
  },
  {
   "cell_type": "code",
   "execution_count": 21,
   "metadata": {},
   "outputs": [],
   "source": [
    "#Define a function FizzBuzz\n",
    "#Create a for loop that runs from\n",
    "#1 to 100\n",
    "#If the remainder of the number divided\n",
    "#by 3 and 5 both equal zero\n",
    "#print 'FizzBuzz'\n",
    "#If the remainder of the number divided\n",
    "#by 3 equals zero, print 'Fizz'\n",
    "#If the remainder of the number divided\n",
    "#by 5 equals zero, print 'Buzz'\n",
    "\n",
    "def FizzBuzz():\n",
    "    for num in range(1,101):\n",
    "        if num%3 == 0 and num%5 == 0:\n",
    "            print('FizzBuzz')\n",
    "        elif num%3 == 0:\n",
    "            print('Fizz')\n",
    "        elif num%5 == 0:\n",
    "            print('Buzz')\n",
    "        "
   ]
  },
  {
   "cell_type": "code",
   "execution_count": 22,
   "metadata": {},
   "outputs": [
    {
     "name": "stdout",
     "output_type": "stream",
     "text": [
      "Fizz\n",
      "Buzz\n",
      "Fizz\n",
      "Fizz\n",
      "Buzz\n",
      "Fizz\n",
      "FizzBuzz\n",
      "Fizz\n",
      "Buzz\n",
      "Fizz\n",
      "Fizz\n",
      "Buzz\n",
      "Fizz\n",
      "FizzBuzz\n",
      "Fizz\n",
      "Buzz\n",
      "Fizz\n",
      "Fizz\n",
      "Buzz\n",
      "Fizz\n",
      "FizzBuzz\n",
      "Fizz\n",
      "Buzz\n",
      "Fizz\n",
      "Fizz\n",
      "Buzz\n",
      "Fizz\n",
      "FizzBuzz\n",
      "Fizz\n",
      "Buzz\n",
      "Fizz\n",
      "Fizz\n",
      "Buzz\n",
      "Fizz\n",
      "FizzBuzz\n",
      "Fizz\n",
      "Buzz\n",
      "Fizz\n",
      "Fizz\n",
      "Buzz\n",
      "Fizz\n",
      "FizzBuzz\n",
      "Fizz\n",
      "Buzz\n",
      "Fizz\n",
      "Fizz\n",
      "Buzz\n"
     ]
    }
   ],
   "source": [
    "FizzBuzz()"
   ]
  },
  {
   "cell_type": "code",
   "execution_count": null,
   "metadata": {},
   "outputs": [],
   "source": []
  }
 ],
 "metadata": {
  "anaconda-cloud": {},
  "kernelspec": {
   "display_name": "Python 3",
   "language": "python",
   "name": "python3"
  },
  "language_info": {
   "codemirror_mode": {
    "name": "ipython",
    "version": 3
   },
   "file_extension": ".py",
   "mimetype": "text/x-python",
   "name": "python",
   "nbconvert_exporter": "python",
   "pygments_lexer": "ipython3",
   "version": "3.8.3"
  }
 },
 "nbformat": 4,
 "nbformat_minor": 2
}
