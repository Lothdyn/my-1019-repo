{
 "cells": [
  {
   "cell_type": "markdown",
   "metadata": {},
   "source": [
    "<img src=\"http://imgur.com/1ZcRyrc.png\" style=\"float: left; margin: 20px; height: 55px\">\n",
    "\n",
    "# Project 1: Python Coding Exercises\n",
    "\n",
    "_Authors: Joseph Nelson (DC) _\n",
    "\n",
    "---"
   ]
  },
  {
   "cell_type": "markdown",
   "metadata": {},
   "source": [
    "The following code challenges are drawn from common exercises used in technical interviews.\n",
    "\n",
    "Please note that there may be several ways to approach each challenge. If you get stuck, try mapping out your approach in pseudocode first. Finally, while solutions to problems like these may be found online, remember that if you copy/paste code that you can't explain, you'll be missing out on the point of the project. The only way to truly learn a new skill is through practice, trial, and error - we can only help you improve by understanding where you are having trouble.\n",
    "\n",
    "**Note:** To receive the highest credit, make sure your answers are wrapped up in functions that we can call!"
   ]
  },
  {
   "cell_type": "markdown",
   "metadata": {},
   "source": [
    "### Challenge 1: Largest Palindrome\n",
    "A palindromic number reads the same both ways. For example, 1234321 is a palindrome. The largest palindrome made from the product of two two-digit numbers is 9009 = 91 × 99. Find the largest palindrome made from the product of two three-digit numbers. Afterward, write a brief explanation walking through your code's logic in markdown."
   ]
  },
  {
   "cell_type": "code",
   "execution_count": null,
   "metadata": {},
   "outputs": [],
   "source": [
    "def palindrome():  \n",
    "    num = 0 \n",
    "    for a in range(999,100,-1):\n",
    "        for b in range(a, 100, -1):\n",
    "            product = a*b\n",
    "            if product > num: \n",
    "                string_product = str(product)\n",
    "                if string_product == string_product[::-1]: \n",
    "                    num = product\n",
    "    print(num)"
   ]
  },
  {
   "cell_type": "code",
   "execution_count": null,
   "metadata": {},
   "outputs": [],
   "source": [
    "palindrome()"
   ]
  },
  {
   "cell_type": "markdown",
   "metadata": {},
   "source": [
    "Creating function that finds largest palindrome made from two three-digit numbers \n",
    "1. Creating place holding called num\n",
    "2. Starting outer loop to go through a list of all 3-digit numbers starting from largest (999) to smallest (100)\n",
    "3. Starting inner loop that starts from \"a\" and ending at 100 \n",
    "4. Calculating the prodcut of the values from the outer and inner loop \n",
    "5. Creating an if statment: if the product of the two numbers are larger than num (current largest palindrome) then create a string \n",
    "6. If the string is equal to it's reverse ([::-1]) then set the product as the new, largest palindrome (num)\n",
    "7. Once the loop goes through all intereations the function prints the largest palindrome made from the prodcut of two three-digit numbers "
   ]
  },
  {
   "cell_type": "markdown",
   "metadata": {},
   "source": [
    "\n",
    "### Challenge 2: Summation of Primes\n",
    "The sum of the primes below 10 is 2 + 3 + 5 + 7 = 17. Find the sum of all the primes below 2,000. Afterward, write a brief explanation walking through your code's logic in markdown."
   ]
  },
  {
   "cell_type": "code",
   "execution_count": 88,
   "metadata": {},
   "outputs": [],
   "source": [
    "def sum_primes_below_2000():\n",
    "    sum = 0 \n",
    "    for value in range(2, 2000): \n",
    "        check = 0 \n",
    "        for i in range(2, value//2+1): \n",
    "            if value % i == 0: \n",
    "                check = value \n",
    "                break; \n",
    "        if check is not value: \n",
    "            sum += value\n",
    "    print(sum)"
   ]
  },
  {
   "cell_type": "code",
   "execution_count": 89,
   "metadata": {},
   "outputs": [
    {
     "name": "stdout",
     "output_type": "stream",
     "text": [
      "277050\n"
     ]
    }
   ],
   "source": [
    "sum_primes_below_2000()"
   ]
  },
  {
   "cell_type": "markdown",
   "metadata": {},
   "source": [
    "Creating a function that add all prime numbers up to 2,000 \n",
    "1. Creating place holder for first loop called sum \n",
    "2. Starting first loop 2 to 1,999\n",
    "3. Creating place holder for second loop called check \n",
    "4. Starting second loop that starts and 2 and goes to half of the value from first loop + 1 \n",
    "(*Note: I had to add + 1 because the number 4 kept messing up this second loop because (2, (half of 4) 2) returns empty list)  \n",
    "5. If value retaner equals zero then check = value, if not then add value \n",
    "6. Print total sum of all prime numers up to 2,000 "
   ]
  },
  {
   "cell_type": "markdown",
   "metadata": {},
   "source": [
    "### Challenge 3: Multiples of 3 and 5\n",
    "If we list all of the natural numbers below 10 that are multiples of 3 or 5, we get 3, 5, 6, and 9. The sum of these multiples is 23. Find the sum of all the multiples of 3 and 5 below 1,000. Afterward, write a brief explanation walking through your code's logic in markdown."
   ]
  },
  {
   "cell_type": "code",
   "execution_count": 98,
   "metadata": {},
   "outputs": [],
   "source": [
    "def sum_multiple_3_and_5(): \n",
    "    sum = 0\n",
    "    for value in range(2, 1000): \n",
    "        if value % 3 == 0 or value % 5 == 0: \n",
    "            sum += value \n",
    "    print(sum)"
   ]
  },
  {
   "cell_type": "code",
   "execution_count": 99,
   "metadata": {},
   "outputs": [
    {
     "name": "stdout",
     "output_type": "stream",
     "text": [
      "233168\n"
     ]
    }
   ],
   "source": [
    "sum_multiple_3_and_5()"
   ]
  },
  {
   "cell_type": "markdown",
   "metadata": {},
   "source": [
    "Creating a function that adds up all multiples of 3 and 5 up to 1000 \n",
    "1. Creating a place holder for loop \n",
    "2. Starting a loop to go through 2 up to 1000 \n",
    "3. If statment: if value's retainer is 0 after dividng by 3 or 5 then add together\n",
    "4. Print sum of all numbers below 1000 that are multiples of 3 or 5 "
   ]
  },
  {
   "cell_type": "markdown",
   "metadata": {},
   "source": [
    "### Challenge 4: String Compressor\n",
    "Implement a method to perform basic string compression using the counts of repeated characters. (This is called run-length encoding.) For example, the string \"aabcccccaaa\" would become a2b1c5a3. If the “compressed” string would not become smaller than the original string, your method should return the original string. You can assume the string has only uppercase and lowercase letters (a–z). Specify whether your solution is case sensitive or case insensitive and what you would need to change to make it the other. Afterward, write a brief explanation walking through your code's logic in markdown."
   ]
  },
  {
   "cell_type": "code",
   "execution_count": 122,
   "metadata": {},
   "outputs": [],
   "source": [
    "def compress(string):\n",
    "    compressed_string = \"\"\n",
    "    count = 1\n",
    "    compressed_string += string[0]\n",
    "    for i in range(len(string)-1):\n",
    "        if(string[i] == string[i+1]):\n",
    "            count+=1\n",
    "        else:\n",
    "            compressed_string += str(count)\n",
    "            compressed_string += string[i+1]\n",
    "            count = 1\n",
    "    compressed_string += str(count)\n",
    "    return compressed_string"
   ]
  },
  {
   "cell_type": "code",
   "execution_count": 123,
   "metadata": {},
   "outputs": [
    {
     "data": {
      "text/plain": [
       "'a2b1c5a1'"
      ]
     },
     "execution_count": 123,
     "metadata": {},
     "output_type": "execute_result"
    }
   ],
   "source": [
    "compress(\"aabccccca\")"
   ]
  },
  {
   "cell_type": "markdown",
   "metadata": {},
   "source": [
    "Creating a function that compresses strings \n",
    "1. Creating string place holder \n",
    "2. Creating a place holder for the count of letters in a row \n",
    "3. Adding first letter to string \n",
    "4. Starting for loop that iterates through each letter in the string \n",
    "5. If statment checking if the letter and the one that follows are the same letter \n",
    "6. If letter is the same then adds 1 \n",
    "7. Else if the next letter isn't equal then it'll add the count to the string and add the next letter to the string and resets count to count to 1 \n",
    "8. Adds last count to the string "
   ]
  },
  {
   "cell_type": "markdown",
   "metadata": {},
   "source": [
    "### *BONUS* Challenge: FizzBuzz\n",
    "Write a program that prints all of the numbers from 1 to 100. For multiples of 3, instead of the number, print \"Fizz;\" for multiples of 5, print \"Buzz.\" For numbers that are multiples of both 3 and 5, print \"FizzBuzz.\" Afterward, write a brief explanation walking through your code's logic in markdown."
   ]
  },
  {
   "cell_type": "code",
   "execution_count": 130,
   "metadata": {},
   "outputs": [],
   "source": [
    "def fizzbuzz(): \n",
    "    for num in range(1, 101): \n",
    "        if num % 3 == 0: \n",
    "            print('Fizz')\n",
    "        elif num % 5 == 0: \n",
    "            print('Buzz')\n",
    "        elif num % 3 == 0 and num % 5 == 0: \n",
    "            print('FizzBuzz')\n",
    "        else:\n",
    "            print(num)"
   ]
  },
  {
   "cell_type": "code",
   "execution_count": 131,
   "metadata": {},
   "outputs": [
    {
     "name": "stdout",
     "output_type": "stream",
     "text": [
      "1\n",
      "2\n",
      "Fizz\n",
      "4\n",
      "Buzz\n",
      "Fizz\n",
      "7\n",
      "8\n",
      "Fizz\n",
      "Buzz\n",
      "11\n",
      "Fizz\n",
      "13\n",
      "14\n",
      "Fizz\n",
      "16\n",
      "17\n",
      "Fizz\n",
      "19\n",
      "Buzz\n",
      "Fizz\n",
      "22\n",
      "23\n",
      "Fizz\n",
      "Buzz\n",
      "26\n",
      "Fizz\n",
      "28\n",
      "29\n",
      "Fizz\n",
      "31\n",
      "32\n",
      "Fizz\n",
      "34\n",
      "Buzz\n",
      "Fizz\n",
      "37\n",
      "38\n",
      "Fizz\n",
      "Buzz\n",
      "41\n",
      "Fizz\n",
      "43\n",
      "44\n",
      "Fizz\n",
      "46\n",
      "47\n",
      "Fizz\n",
      "49\n",
      "Buzz\n",
      "Fizz\n",
      "52\n",
      "53\n",
      "Fizz\n",
      "Buzz\n",
      "56\n",
      "Fizz\n",
      "58\n",
      "59\n",
      "Fizz\n",
      "61\n",
      "62\n",
      "Fizz\n",
      "64\n",
      "Buzz\n",
      "Fizz\n",
      "67\n",
      "68\n",
      "Fizz\n",
      "Buzz\n",
      "71\n",
      "Fizz\n",
      "73\n",
      "74\n",
      "Fizz\n",
      "76\n",
      "77\n",
      "Fizz\n",
      "79\n",
      "Buzz\n",
      "Fizz\n",
      "82\n",
      "83\n",
      "Fizz\n",
      "Buzz\n",
      "86\n",
      "Fizz\n",
      "88\n",
      "89\n",
      "Fizz\n",
      "91\n",
      "92\n",
      "Fizz\n",
      "94\n",
      "Buzz\n",
      "Fizz\n",
      "97\n",
      "98\n",
      "Fizz\n",
      "Buzz\n"
     ]
    }
   ],
   "source": [
    "fizzbuzz()"
   ]
  },
  {
   "cell_type": "markdown",
   "metadata": {},
   "source": [
    "Write a program that prints all of the numbers from 1 to 100. For multiples of 3, instead of the number, print \"Fizz;\" for multiples of 5, print \"Buzz.\" For numbers that are multiples of both 3 and 5, print \"FizzBuzz.\"\n",
    "1. Starting for loop for numbers 1 to and including 100 \n",
    "2. If number is multiple by 3 then print Fizz \n",
    "3. If number is multiple of 5 then print Buzz \n",
    "4. If number is multiple of both 3 and 5 then print FizzBuzz \n",
    "5. Else print the number "
   ]
  }
 ],
 "metadata": {
  "anaconda-cloud": {},
  "kernelspec": {
   "display_name": "Python 3",
   "language": "python",
   "name": "python3"
  },
  "language_info": {
   "codemirror_mode": {
    "name": "ipython",
    "version": 3
   },
   "file_extension": ".py",
   "mimetype": "text/x-python",
   "name": "python",
   "nbconvert_exporter": "python",
   "pygments_lexer": "ipython3",
   "version": "3.8.3"
  }
 },
 "nbformat": 4,
 "nbformat_minor": 2
}
